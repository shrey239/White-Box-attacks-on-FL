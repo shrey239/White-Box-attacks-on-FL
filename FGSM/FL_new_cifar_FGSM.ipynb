{
 "cells": [
  {
   "cell_type": "code",
   "execution_count": 1,
   "metadata": {
    "id": "YLpANHHn1Jql"
   },
   "outputs": [
    {
     "name": "stderr",
     "output_type": "stream",
     "text": [
      "/home/ubuntu/anaconda3/envs/maya1/lib/python3.7/site-packages/tqdm/auto.py:22: TqdmWarning: IProgress not found. Please update jupyter and ipywidgets. See https://ipywidgets.readthedocs.io/en/stable/user_install.html\n",
      "  from .autonotebook import tqdm as notebook_tqdm\n"
     ]
    }
   ],
   "source": [
    "import os\n",
    "import h5py\n",
    "\n",
    "import socket\n",
    "import struct\n",
    "import pickle\n",
    "\n",
    "import torch\n",
    "import torch.nn as nn\n",
    "import torch.nn.functional as F\n",
    "import torchvision\n",
    "import torchvision.transforms as transforms\n",
    "import torch.optim as optim\n",
    "\n",
    "from torch.utils.data import Dataset, DataLoader\n",
    "\n",
    "import time\n",
    "\n",
    "from tqdm import tqdm\n",
    "\n",
    "\n",
    "\n",
    "import numpy as np\n",
    "import copy"
   ]
  },
  {
   "cell_type": "code",
   "execution_count": 2,
   "metadata": {
    "id": "hIMtEMjXo02V"
   },
   "outputs": [],
   "source": [
    "import torch\n",
    "import torchvision\n",
    "import numpy as np\n",
    "import matplotlib\n",
    "import matplotlib.pyplot as plt\n",
    "import torch.nn as nn\n",
    "import torch.nn.functional as F\n",
    "from torchvision.datasets import MNIST\n",
    "from torchvision.transforms import ToTensor\n",
    "from torchvision.utils import make_grid\n",
    "from torch.utils.data.dataloader import DataLoader\n",
    "from torch.utils.data import random_split\n",
    "from torch.utils.data.sampler import SubsetRandomSampler\n",
    "%matplotlib inline\n",
    "\n",
    "# Use a white background for matplotlib figures\n",
    "matplotlib.rcParams['figure.facecolor'] = '#ffffff'"
   ]
  },
  {
   "cell_type": "markdown",
   "metadata": {
    "id": "WWB5l3Xn15fa"
   },
   "source": [
    "client side\n"
   ]
  },
  {
   "cell_type": "code",
   "execution_count": null,
   "metadata": {
    "colab": {
     "base_uri": "https://localhost:8080/"
    },
    "executionInfo": {
     "elapsed": 30331,
     "status": "ok",
     "timestamp": 1663175351802,
     "user": {
      "displayName": "Mayank Kumar",
      "userId": "17758680965516036067"
     },
     "user_tz": -330
    },
    "id": "8aXD0rMr4n45",
    "outputId": "4fe5c6d6-a546-45bd-9bf7-6ffdbbd73ce5"
   },
   "outputs": [],
   "source": []
  },
  {
   "cell_type": "code",
   "execution_count": 3,
   "metadata": {
    "id": "FMbiOm-q4nub"
   },
   "outputs": [],
   "source": [
    "# keep the path same, just create a folder named cifar in your drive\n",
    "root_path = './cifar'"
   ]
  },
  {
   "cell_type": "code",
   "execution_count": 4,
   "metadata": {
    "colab": {
     "base_uri": "https://localhost:8080/"
    },
    "executionInfo": {
     "elapsed": 6,
     "status": "ok",
     "timestamp": 1663175351803,
     "user": {
      "displayName": "Mayank Kumar",
      "userId": "17758680965516036067"
     },
     "user_tz": -330
    },
    "id": "fmfh2cRf17IH",
    "outputId": "b9018423-93c3-4fb8-8a8a-1bfb0feabf00"
   },
   "outputs": [
    {
     "name": "stdout",
     "output_type": "stream",
     "text": [
      "cuda:0\n"
     ]
    }
   ],
   "source": [
    "\n",
    "device = torch.device(\"cuda:0\" if torch.cuda.is_available() else \"cpu\")\n",
    "#device = \"cpu\"\n",
    "print(device)"
   ]
  },
  {
   "cell_type": "code",
   "execution_count": 5,
   "metadata": {
    "id": "9cBXF1ka4d4c"
   },
   "outputs": [],
   "source": [
    "\n",
    "transform = transforms.Compose([transforms.ToTensor(), transforms.Normalize((0.4914, 0.4822, 0.4465), (0.2470, 0.2435, 0.2616))])"
   ]
  },
  {
   "cell_type": "code",
   "execution_count": null,
   "metadata": {
    "id": "9YmBLeHJ4men"
   },
   "outputs": [],
   "source": []
  },
  {
   "cell_type": "code",
   "execution_count": 6,
   "metadata": {
    "colab": {
     "base_uri": "https://localhost:8080/"
    },
    "executionInfo": {
     "elapsed": 14963,
     "status": "ok",
     "timestamp": 1663175398973,
     "user": {
      "displayName": "Mayank Kumar",
      "userId": "17758680965516036067"
     },
     "user_tz": -330
    },
    "id": "f3L5kQ-017F7",
    "outputId": "3a6b0dab-c725-4230-fd01-2cd789b799e4"
   },
   "outputs": [
    {
     "name": "stdout",
     "output_type": "stream",
     "text": [
      "Files already downloaded and verified\n"
     ]
    }
   ],
   "source": [
    "\n",
    "trainset1 = torchvision.datasets.CIFAR10(root=root_path, download=True, transform=transform)\n"
   ]
  },
  {
   "cell_type": "code",
   "execution_count": 7,
   "metadata": {
    "colab": {
     "base_uri": "https://localhost:8080/"
    },
    "executionInfo": {
     "elapsed": 712,
     "status": "ok",
     "timestamp": 1663175406580,
     "user": {
      "displayName": "Mayank Kumar",
      "userId": "17758680965516036067"
     },
     "user_tz": -330
    },
    "id": "XEnQtcZX17ET",
    "outputId": "ae6f4a8f-0058-43dc-f055-904806475a18"
   },
   "outputs": [
    {
     "data": {
      "text/plain": [
       "50000"
      ]
     },
     "execution_count": 7,
     "metadata": {},
     "output_type": "execute_result"
    }
   ],
   "source": [
    "len(trainset1)"
   ]
  },
  {
   "cell_type": "code",
   "execution_count": 8,
   "metadata": {
    "id": "bgwEpG427LNG"
   },
   "outputs": [],
   "source": [
    "classes = ('plane', 'car', 'bird', 'cat', 'deer', 'dog', 'frog', 'horse', 'ship', 'truck')\n"
   ]
  },
  {
   "cell_type": "code",
   "execution_count": 9,
   "metadata": {
    "id": "SZDEZ5K117Dd"
   },
   "outputs": [],
   "source": [
    "import matplotlib.pyplot as plt\n",
    "\n",
    "\n",
    "def show_image(img, label):\n",
    "    print(\"Label=\", trainset1.classes[label], \"(\" + str(label)  + \")\")\n",
    "    plt.imshow(img.permute(1,2,0))"
   ]
  },
  {
   "cell_type": "code",
   "execution_count": 10,
   "metadata": {
    "colab": {
     "base_uri": "https://localhost:8080/",
     "height": 321
    },
    "executionInfo": {
     "elapsed": 4,
     "status": "ok",
     "timestamp": 1663175416606,
     "user": {
      "displayName": "Mayank Kumar",
      "userId": "17758680965516036067"
     },
     "user_tz": -330
    },
    "id": "QE1unzpq7oKi",
    "outputId": "3062fdcf-80ce-4cac-bf88-78ebefe3fcb5"
   },
   "outputs": [
    {
     "name": "stderr",
     "output_type": "stream",
     "text": [
      "Clipping input data to the valid range for imshow with RGB data ([0..1] for floats or [0..255] for integers).\n"
     ]
    },
    {
     "name": "stdout",
     "output_type": "stream",
     "text": [
      "Label= frog (6)\n"
     ]
    },
    {
     "data": {
      "image/png": "[encoded data removed]",
      "text/plain": [
       "<Figure size 640x480 with 1 Axes>"
      ]
     },
     "metadata": {},
     "output_type": "display_data"
    }
   ],
   "source": [
    "image,label = trainset1[0]\n",
    "show_image(image, label)"
   ]
  },
  {
   "cell_type": "code",
   "execution_count": 11,
   "metadata": {
    "colab": {
     "base_uri": "https://localhost:8080/",
     "height": 321
    },
    "executionInfo": {
     "elapsed": 3,
     "status": "ok",
     "timestamp": 1663175419479,
     "user": {
      "displayName": "Mayank Kumar",
      "userId": "17758680965516036067"
     },
     "user_tz": -330
    },
    "id": "VcTlVjCU69ps",
    "outputId": "bc03ae0c-dada-40a9-903e-609c50d5e646"
   },
   "outputs": [
    {
     "name": "stderr",
     "output_type": "stream",
     "text": [
      "Clipping input data to the valid range for imshow with RGB data ([0..1] for floats or [0..255] for integers).\n"
     ]
    },
    {
     "name": "stdout",
     "output_type": "stream",
     "text": [
      "Label= truck (9)\n"
     ]
    },
    {
     "data": {
      "image/png": "[encoded data removed]",
      "text/plain": [
       "<Figure size 640x480 with 1 Axes>"
      ]
     },
     "metadata": {},
     "output_type": "display_data"
    }
   ],
   "source": [
    "image,label = trainset1[1]\n",
    "show_image(image, label)"
   ]
  },
  {
   "cell_type": "code",
   "execution_count": 12,
   "metadata": {
    "colab": {
     "base_uri": "https://localhost:8080/",
     "height": 321
    },
    "executionInfo": {
     "elapsed": 3,
     "status": "ok",
     "timestamp": 1663175420337,
     "user": {
      "displayName": "Mayank Kumar",
      "userId": "17758680965516036067"
     },
     "user_tz": -330
    },
    "id": "LW_IsNJa7RaO",
    "outputId": "17dc66e6-d082-4956-f091-59403cec74b5"
   },
   "outputs": [
    {
     "name": "stderr",
     "output_type": "stream",
     "text": [
      "Clipping input data to the valid range for imshow with RGB data ([0..1] for floats or [0..255] for integers).\n"
     ]
    },
    {
     "name": "stdout",
     "output_type": "stream",
     "text": [
      "Label= truck (9)\n"
     ]
    },
    {
     "data": {
      "image/png": "[encoded data removed]",
      "text/plain": [
       "<Figure size 640x480 with 1 Axes>"
      ]
     },
     "metadata": {},
     "output_type": "display_data"
    }
   ],
   "source": [
    "image,label = trainset1[2]\n",
    "show_image(image, label)"
   ]
  },
  {
   "cell_type": "code",
   "execution_count": 13,
   "metadata": {
    "colab": {
     "base_uri": "https://localhost:8080/",
     "height": 321
    },
    "executionInfo": {
     "elapsed": 4,
     "status": "ok",
     "timestamp": 1663175422866,
     "user": {
      "displayName": "Mayank Kumar",
      "userId": "17758680965516036067"
     },
     "user_tz": -330
    },
    "id": "gu0ici4j7guZ",
    "outputId": "25dd76f3-c4fa-4789-b538-a60a6a4121c3"
   },
   "outputs": [
    {
     "name": "stderr",
     "output_type": "stream",
     "text": [
      "Clipping input data to the valid range for imshow with RGB data ([0..1] for floats or [0..255] for integers).\n"
     ]
    },
    {
     "name": "stdout",
     "output_type": "stream",
     "text": [
      "Label= truck (9)\n"
     ]
    },
    {
     "data": {
      "image/png": "[encoded data removed]",
      "text/plain": [
       "<Figure size 640x480 with 1 Axes>"
      ]
     },
     "metadata": {},
     "output_type": "display_data"
    }
   ],
   "source": [
    "image,label = trainset1[2]\n",
    "show_image(image, label)"
   ]
  },
  {
   "cell_type": "code",
   "execution_count": 14,
   "metadata": {
    "colab": {
     "base_uri": "https://localhost:8080/",
     "height": 321
    },
    "executionInfo": {
     "elapsed": 4,
     "status": "ok",
     "timestamp": 1663175424821,
     "user": {
      "displayName": "Mayank Kumar",
      "userId": "17758680965516036067"
     },
     "user_tz": -330
    },
    "id": "kgCWBhLo7sb2",
    "outputId": "8e5f19a7-3d1b-497b-bddf-caddbe4b181b"
   },
   "outputs": [
    {
     "name": "stderr",
     "output_type": "stream",
     "text": [
      "Clipping input data to the valid range for imshow with RGB data ([0..1] for floats or [0..255] for integers).\n"
     ]
    },
    {
     "name": "stdout",
     "output_type": "stream",
     "text": [
      "Label= deer (4)\n"
     ]
    },
    {
     "data": {
      "image/png": "[encoded data removed]",
      "text/plain": [
       "<Figure size 640x480 with 1 Axes>"
      ]
     },
     "metadata": {},
     "output_type": "display_data"
    }
   ],
   "source": [
    "image,label = trainset1[3]\n",
    "show_image(image, label)"
   ]
  },
  {
   "cell_type": "code",
   "execution_count": 15,
   "metadata": {
    "colab": {
     "base_uri": "https://localhost:8080/",
     "height": 321
    },
    "executionInfo": {
     "elapsed": 4,
     "status": "ok",
     "timestamp": 1663175425907,
     "user": {
      "displayName": "Mayank Kumar",
      "userId": "17758680965516036067"
     },
     "user_tz": -330
    },
    "id": "nPW2bGbV7sZR",
    "outputId": "4871fc36-8e25-4c38-8ff5-0daf719ea48f"
   },
   "outputs": [
    {
     "name": "stderr",
     "output_type": "stream",
     "text": [
      "Clipping input data to the valid range for imshow with RGB data ([0..1] for floats or [0..255] for integers).\n"
     ]
    },
    {
     "name": "stdout",
     "output_type": "stream",
     "text": [
      "Label= automobile (1)\n"
     ]
    },
    {
     "data": {
      "image/png": "[encoded data removed]",
      "text/plain": [
       "<Figure size 640x480 with 1 Axes>"
      ]
     },
     "metadata": {},
     "output_type": "display_data"
    }
   ],
   "source": [
    "image,label = trainset1[4]\n",
    "show_image(image, label)"
   ]
  },
  {
   "cell_type": "code",
   "execution_count": 16,
   "metadata": {
    "colab": {
     "base_uri": "https://localhost:8080/",
     "height": 321
    },
    "executionInfo": {
     "elapsed": 4,
     "status": "ok",
     "timestamp": 1663175427665,
     "user": {
      "displayName": "Mayank Kumar",
      "userId": "17758680965516036067"
     },
     "user_tz": -330
    },
    "id": "nFwj25EN7sX8",
    "outputId": "610657b3-7a06-4ada-80be-b8f5b248c82f"
   },
   "outputs": [
    {
     "name": "stderr",
     "output_type": "stream",
     "text": [
      "Clipping input data to the valid range for imshow with RGB data ([0..1] for floats or [0..255] for integers).\n"
     ]
    },
    {
     "name": "stdout",
     "output_type": "stream",
     "text": [
      "Label= automobile (1)\n"
     ]
    },
    {
     "data": {
      "image/png": "[encoded data removed]",
      "text/plain": [
       "<Figure size 640x480 with 1 Axes>"
      ]
     },
     "metadata": {},
     "output_type": "display_data"
    }
   ],
   "source": [
    "image,label = trainset1[5]\n",
    "show_image(image, label)"
   ]
  },
  {
   "cell_type": "code",
   "execution_count": 17,
   "metadata": {
    "colab": {
     "base_uri": "https://localhost:8080/",
     "height": 321
    },
    "executionInfo": {
     "elapsed": 1414,
     "status": "ok",
     "timestamp": 1663175430077,
     "user": {
      "displayName": "Mayank Kumar",
      "userId": "17758680965516036067"
     },
     "user_tz": -330
    },
    "id": "nWxNBLSF7sXQ",
    "outputId": "a60963a9-f785-416c-f0f3-20794d89951e"
   },
   "outputs": [
    {
     "name": "stderr",
     "output_type": "stream",
     "text": [
      "Clipping input data to the valid range for imshow with RGB data ([0..1] for floats or [0..255] for integers).\n"
     ]
    },
    {
     "name": "stdout",
     "output_type": "stream",
     "text": [
      "Label= bird (2)\n"
     ]
    },
    {
     "data": {
      "image/png": "[encoded data removed]",
      "text/plain": [
       "<Figure size 640x480 with 1 Axes>"
      ]
     },
     "metadata": {},
     "output_type": "display_data"
    }
   ],
   "source": [
    "image,label = trainset1[6]\n",
    "show_image(image, label)"
   ]
  },
  {
   "cell_type": "markdown",
   "metadata": {
    "id": "8FBAIJ5Y8aWy"
   },
   "source": [
    "# Define below number of users/clients"
   ]
  },
  {
   "cell_type": "code",
   "execution_count": 18,
   "metadata": {
    "id": "3VA45mly8e0l"
   },
   "outputs": [],
   "source": [
    "users = 5 # clients"
   ]
  },
  {
   "cell_type": "code",
   "execution_count": 19,
   "metadata": {
    "id": "0e0cjvJ58ymo"
   },
   "outputs": [],
   "source": [
    "trainset1_len = 50000"
   ]
  },
  {
   "cell_type": "code",
   "execution_count": 20,
   "metadata": {
    "colab": {
     "base_uri": "https://localhost:8080/"
    },
    "executionInfo": {
     "elapsed": 2,
     "status": "ok",
     "timestamp": 1663175492877,
     "user": {
      "displayName": "Mayank Kumar",
      "userId": "17758680965516036067"
     },
     "user_tz": -330
    },
    "id": "Z84pv-4B89v_",
    "outputId": "2f6d06b4-0f38-4b18-e4a3-be78a9832dcd"
   },
   "outputs": [
    {
     "data": {
      "text/plain": [
       "array([44575, 42931, 17175, ..., 41635, 32759, 16043])"
      ]
     },
     "execution_count": 20,
     "metadata": {},
     "output_type": "execute_result"
    }
   ],
   "source": [
    "idxs = np.random.permutation(trainset1_len)\n",
    "idxs"
   ]
  },
  {
   "cell_type": "code",
   "execution_count": 21,
   "metadata": {
    "colab": {
     "base_uri": "https://localhost:8080/"
    },
    "executionInfo": {
     "elapsed": 2,
     "status": "ok",
     "timestamp": 1663175495822,
     "user": {
      "displayName": "Mayank Kumar",
      "userId": "17758680965516036067"
     },
     "user_tz": -330
    },
    "id": "UaRzaLdI8wQn",
    "outputId": "963ec6a7-7b53-4e6d-d45d-2707dc95a00a"
   },
   "outputs": [
    {
     "data": {
      "text/plain": [
       "array([44575, 42931, 17175, ..., 41635, 32759, 16043])"
      ]
     },
     "execution_count": 21,
     "metadata": {},
     "output_type": "execute_result"
    }
   ],
   "source": [
    "train_indices = idxs\n",
    "train_indices"
   ]
  },
  {
   "cell_type": "code",
   "execution_count": 22,
   "metadata": {
    "colab": {
     "base_uri": "https://localhost:8080/"
    },
    "executionInfo": {
     "elapsed": 3,
     "status": "ok",
     "timestamp": 1663175497606,
     "user": {
      "displayName": "Mayank Kumar",
      "userId": "17758680965516036067"
     },
     "user_tz": -330
    },
    "id": "RlQs7v7b72ef",
    "outputId": "1310813d-70bd-472e-e4e8-3a23d07bd7d1"
   },
   "outputs": [
    {
     "name": "stdout",
     "output_type": "stream",
     "text": [
      "10000\n"
     ]
    }
   ],
   "source": [
    "indices_per_client = int (len(train_indices)/users)\n",
    "\n",
    "print(indices_per_client)"
   ]
  },
  {
   "cell_type": "markdown",
   "metadata": {
    "id": "ITj3bmDnn5Pc"
   },
   "source": [
    "# trainset2 which has non poisoned data"
   ]
  },
  {
   "cell_type": "code",
   "execution_count": 23,
   "metadata": {
    "id": "gLINNW07k0p4"
   },
   "outputs": [],
   "source": [
    "trainset2 = torchvision.datasets.CIFAR10(root=root_path, download=False, transform=transform)"
   ]
  },
  {
   "cell_type": "code",
   "execution_count": null,
   "metadata": {
    "id": "Uua558kAHGFV"
   },
   "outputs": [],
   "source": []
  },
  {
   "cell_type": "code",
   "execution_count": null,
   "metadata": {
    "id": "h0rFdoEHHGCr"
   },
   "outputs": [],
   "source": []
  },
  {
   "cell_type": "markdown",
   "metadata": {
    "id": "avU4ZCczk0gq"
   },
   "source": [
    "# TestSet "
   ]
  },
  {
   "cell_type": "code",
   "execution_count": 24,
   "metadata": {
    "colab": {
     "base_uri": "https://localhost:8080/"
    },
    "executionInfo": {
     "elapsed": 2142,
     "status": "ok",
     "timestamp": 1663175504365,
     "user": {
      "displayName": "Mayank Kumar",
      "userId": "17758680965516036067"
     },
     "user_tz": -330
    },
    "id": "l6Io5F36oG2i",
    "outputId": "ac539a46-7e8b-4c47-dc99-2899ec16cf9d"
   },
   "outputs": [
    {
     "name": "stdout",
     "output_type": "stream",
     "text": [
      "Files already downloaded and verified\n"
     ]
    }
   ],
   "source": [
    "testset = torchvision.datasets.CIFAR10 (root=root_path, train=False, download=True, transform=transform)"
   ]
  },
  {
   "cell_type": "code",
   "execution_count": null,
   "metadata": {
    "id": "2O0WOpmmHGvJ"
   },
   "outputs": [],
   "source": []
  },
  {
   "cell_type": "code",
   "execution_count": null,
   "metadata": {
    "id": "KBGhigI3HGsx"
   },
   "outputs": [],
   "source": []
  },
  {
   "cell_type": "markdown",
   "metadata": {
    "id": "RFuzB_48ypDe"
   },
   "source": [
    "# doing label flipping"
   ]
  },
  {
   "cell_type": "code",
   "execution_count": 25,
   "metadata": {
    "id": "Wl_kO60Zxu1b"
   },
   "outputs": [],
   "source": [
    "\n",
    "\n",
    "# for i in range(len(trainset1)):\n",
    "#     if (trainset2.targets[i] == 6):\n",
    "#         trainset2.targets[i] = 8\n",
    "#     if (trainset2.targets[i] == 2):\n",
    "#         trainset2.targets[i] = 9"
   ]
  },
  {
   "cell_type": "code",
   "execution_count": null,
   "metadata": {
    "id": "nmdGn4kSxuzf"
   },
   "outputs": [],
   "source": []
  },
  {
   "cell_type": "code",
   "execution_count": null,
   "metadata": {
    "id": "4y_pZGecxuy1"
   },
   "outputs": [],
   "source": []
  },
  {
   "cell_type": "code",
   "execution_count": 26,
   "metadata": {
    "colab": {
     "base_uri": "https://localhost:8080/"
    },
    "executionInfo": {
     "elapsed": 685,
     "status": "ok",
     "timestamp": 1663175506003,
     "user": {
      "displayName": "Mayank Kumar",
      "userId": "17758680965516036067"
     },
     "user_tz": -330
    },
    "id": "HMKGRmgYoG0v",
    "outputId": "bee954fa-3f4a-428d-def3-b57032cefdee"
   },
   "outputs": [
    {
     "data": {
      "text/plain": [
       "10000"
      ]
     },
     "execution_count": 26,
     "metadata": {},
     "output_type": "execute_result"
    }
   ],
   "source": [
    "len(testset)"
   ]
  },
  {
   "cell_type": "code",
   "execution_count": 27,
   "metadata": {
    "colab": {
     "base_uri": "https://localhost:8080/"
    },
    "executionInfo": {
     "elapsed": 2,
     "status": "ok",
     "timestamp": 1663175508785,
     "user": {
      "displayName": "Mayank Kumar",
      "userId": "17758680965516036067"
     },
     "user_tz": -330
    },
    "id": "9rwJ0xa3oGz7",
    "outputId": "4e14ef28-f8ce-4858-8108-a0e65a85c427"
   },
   "outputs": [
    {
     "data": {
      "text/plain": [
       "array([8068, 5534, 8299, ..., 8345,  703, 1217])"
      ]
     },
     "execution_count": 27,
     "metadata": {},
     "output_type": "execute_result"
    }
   ],
   "source": [
    "idxs = np.random.permutation(10000)\n",
    "idxs"
   ]
  },
  {
   "cell_type": "code",
   "execution_count": 28,
   "metadata": {
    "colab": {
     "base_uri": "https://localhost:8080/"
    },
    "executionInfo": {
     "elapsed": 2,
     "status": "ok",
     "timestamp": 1663175510075,
     "user": {
      "displayName": "Mayank Kumar",
      "userId": "17758680965516036067"
     },
     "user_tz": -330
    },
    "id": "tQoOgSqToiSI",
    "outputId": "f265a21a-b9bd-45ff-de67-a9fd247dffa0"
   },
   "outputs": [
    {
     "data": {
      "text/plain": [
       "array([8068, 5534, 8299, ..., 8345,  703, 1217])"
      ]
     },
     "execution_count": 28,
     "metadata": {},
     "output_type": "execute_result"
    }
   ],
   "source": [
    "val_indices = idxs\n",
    "val_indices "
   ]
  },
  {
   "cell_type": "code",
   "execution_count": null,
   "metadata": {
    "id": "VNqRjzcjoiPm"
   },
   "outputs": [],
   "source": []
  },
  {
   "cell_type": "code",
   "execution_count": null,
   "metadata": {
    "id": "a7aN3es8oiNo"
   },
   "outputs": [],
   "source": []
  },
  {
   "cell_type": "code",
   "execution_count": null,
   "metadata": {
    "id": "Rr8sdue7oiNA"
   },
   "outputs": [],
   "source": []
  },
  {
   "cell_type": "code",
   "execution_count": 29,
   "metadata": {
    "colab": {
     "base_uri": "https://localhost:8080/"
    },
    "executionInfo": {
     "elapsed": 942,
     "status": "ok",
     "timestamp": 1663175516891,
     "user": {
      "displayName": "Mayank Kumar",
      "userId": "17758680965516036067"
     },
     "user_tz": -330
    },
    "id": "G84gZz7gkzyi",
    "outputId": "6a434ea9-e637-4568-f0ff-fdb87fc935a6"
   },
   "outputs": [
    {
     "name": "stdout",
     "output_type": "stream",
     "text": [
      "non-poisoned:  0\n",
      "non-poisoned:  1\n",
      "non-poisoned:  2\n",
      "non-poisoned:  3\n",
      "non-poisoned:  4\n"
     ]
    }
   ],
   "source": [
    "#experimenting \n",
    "\n",
    "users = 5\n",
    "\n",
    "\n",
    "\n",
    "batch_size = 100\n",
    "\n",
    "train_loaders2 = [] \n",
    "\n",
    "train_trainset2=[]\n",
    "\n",
    "train_loaders1 = []\n",
    "\n",
    "train_trainset1 = []\n",
    "\n",
    "\n",
    "for i in range(users):\n",
    "  start= indices_per_client*i\n",
    "  end= indices_per_client * (i+1)\n",
    "  \n",
    "  #print((train_indices[start:end]))\n",
    "\n",
    "\n",
    "  train_trainset1.append(list(train_indices[start:end]))\n",
    "\n",
    "  train_trainset2.append(list(train_indices[start:end]))\n",
    "\n",
    "  #print(len(train_dataset))\n",
    "\n",
    "  train_sampler = SubsetRandomSampler(train_indices[start : end])\n",
    "  # train_loaders= DataLoader(dataset, batch_size, sampler= train_sampler) \n",
    "\n",
    "  #####*********************************************************************################\n",
    "  ##### IMPORTANT : HERE BELOW CHANGE IF CONDITION TO SELECT NO OF POISONED CLIETNS ########\n",
    "  #####*********************************************************************################\n",
    "\n",
    "  if i < 0 :\n",
    "    print(\"poisoned: \", i)\n",
    "    train_loaders1.append(DataLoader(trainset1, batch_size=batch_size,sampler=train_sampler)) # client training on poisoned data\n",
    "  else:\n",
    "    train_loaders1.append(DataLoader(trainset2, batch_size=batch_size,sampler=train_sampler)) # rest training on normal data\n",
    "    print(\"non-poisoned: \", i)\n",
    "\n",
    "\n",
    "\n",
    "  train_loaders2.append(DataLoader(trainset2, batch_size=batch_size,sampler=train_sampler))\n",
    "\n",
    "  \n",
    "\n",
    "\n",
    "\n",
    "\n",
    "\n",
    "val_sampler = SubsetRandomSampler(val_indices)\n",
    "\n",
    "\n",
    "\n",
    "test_loader = DataLoader(testset, batch_size=batch_size, sampler=val_sampler) \n",
    "# \n",
    "\n"
   ]
  },
  {
   "cell_type": "code",
   "execution_count": 30,
   "metadata": {
    "colab": {
     "base_uri": "https://localhost:8080/"
    },
    "executionInfo": {
     "elapsed": 2,
     "status": "ok",
     "timestamp": 1663175522517,
     "user": {
      "displayName": "Mayank Kumar",
      "userId": "17758680965516036067"
     },
     "user_tz": -330
    },
    "id": "Gexlk40il7Qk",
    "outputId": "22a9b9c7-0f9d-4387-e0f5-3739b3d08c92"
   },
   "outputs": [
    {
     "name": "stdout",
     "output_type": "stream",
     "text": [
      "5\n"
     ]
    }
   ],
   "source": [
    "print(len(train_trainset1))"
   ]
  },
  {
   "cell_type": "code",
   "execution_count": 31,
   "metadata": {
    "colab": {
     "base_uri": "https://localhost:8080/"
    },
    "executionInfo": {
     "elapsed": 1,
     "status": "ok",
     "timestamp": 1663175523369,
     "user": {
      "displayName": "Mayank Kumar",
      "userId": "17758680965516036067"
     },
     "user_tz": -330
    },
    "id": "wtJqBFBJl7OA",
    "outputId": "b07eedbb-9d8f-4c72-e9e3-0d3796990415"
   },
   "outputs": [
    {
     "data": {
      "text/plain": [
       "5"
      ]
     },
     "execution_count": 31,
     "metadata": {},
     "output_type": "execute_result"
    }
   ],
   "source": [
    "len(train_loaders1)"
   ]
  },
  {
   "cell_type": "code",
   "execution_count": null,
   "metadata": {
    "id": "gGg3xVFDl7Lq"
   },
   "outputs": [],
   "source": []
  },
  {
   "cell_type": "code",
   "execution_count": null,
   "metadata": {
    "id": "rgjmMnqHl7KL"
   },
   "outputs": [],
   "source": []
  },
  {
   "cell_type": "code",
   "execution_count": null,
   "metadata": {
    "id": "UmlPb3j5l7Jb"
   },
   "outputs": [],
   "source": []
  },
  {
   "cell_type": "code",
   "execution_count": 32,
   "metadata": {
    "id": "RKEVMsEKkv-4"
   },
   "outputs": [],
   "source": [
    "from torch.autograd import Variable\n",
    "import torch.nn.init as init\n",
    "\n",
    "def _weights_init(m):\n",
    "    classname = m.__class__.__name__\n",
    "    #print(classname)\n",
    "    if isinstance(m, nn.Linear) or isinstance(m, nn.Conv2d):\n",
    "        init.kaiming_normal_(m.weight)\n",
    "\n",
    "class LambdaLayer(nn.Module):\n",
    "    def __init__(self, lambd):\n",
    "        super(LambdaLayer, self).__init__()\n",
    "        self.lambd = lambd\n",
    "\n",
    "    def forward(self, x):\n",
    "        return self.lambd(x)\n",
    "\n",
    "\n",
    "class BasicBlock(nn.Module):\n",
    "    expansion = 1\n",
    "\n",
    "    def __init__(self, in_planes, planes, stride=1, option='A'):\n",
    "        super(BasicBlock, self).__init__()\n",
    "        self.conv1 = nn.Conv2d(in_planes, planes, kernel_size=3, stride=stride, padding=1, bias=False)\n",
    "        self.bn1 = nn.BatchNorm2d(planes)\n",
    "        self.conv2 = nn.Conv2d(planes, planes, kernel_size=3, stride=1, padding=1, bias=False)\n",
    "        self.bn2 = nn.BatchNorm2d(planes)\n",
    "\n",
    "        self.shortcut = nn.Sequential()\n",
    "        if stride != 1 or in_planes != planes:\n",
    "            if option == 'A':\n",
    "                \"\"\"\n",
    "                For CIFAR10 ResNet paper uses option A.\n",
    "                \"\"\"\n",
    "                self.shortcut = LambdaLayer(lambda x:\n",
    "                                            F.pad(x[:, :, ::2, ::2], (0, 0, 0, 0, planes//4, planes//4), \"constant\", 0))\n",
    "            elif option == 'B':\n",
    "                self.shortcut = nn.Sequential(\n",
    "                     nn.Conv2d(in_planes, self.expansion * planes, kernel_size=1, stride=stride, bias=False),\n",
    "                     nn.BatchNorm2d(self.expansion * planes)\n",
    "                )\n",
    "\n",
    "    def forward(self, x):\n",
    "        out = F.relu(self.bn1(self.conv1(x)))\n",
    "        out = self.bn2(self.conv2(out))\n",
    "        out += self.shortcut(x)\n",
    "        out = F.relu(out)\n",
    "        return out\n",
    "\n",
    "\n",
    "class ResNet(nn.Module):\n",
    "    def __init__(self, block, num_blocks, num_classes=10):\n",
    "        super(ResNet, self).__init__()\n",
    "        self.in_planes = 16\n",
    "\n",
    "        self.conv1 = nn.Conv2d(3, 16, kernel_size=3, stride=1, padding=1, bias=False)\n",
    "        self.bn1 = nn.BatchNorm2d(16)\n",
    "        self.layer1 = self._make_layer(block, 16, num_blocks[0], stride=1)\n",
    "        self.layer2 = self._make_layer(block, 32, num_blocks[1], stride=2)\n",
    "        self.layer3 = self._make_layer(block, 64, num_blocks[2], stride=2)\n",
    "        self.linear = nn.Linear(64, num_classes)\n",
    "\n",
    "        self.apply(_weights_init)\n",
    "\n",
    "    def _make_layer(self, block, planes, num_blocks, stride):\n",
    "        strides = [stride] + [1]*(num_blocks-1)\n",
    "        layers = []\n",
    "        for stride in strides:\n",
    "            layers.append(block(self.in_planes, planes, stride))\n",
    "            self.in_planes = planes * block.expansion\n",
    "\n",
    "        return nn.Sequential(*layers)\n",
    "\n",
    "    def forward(self, x):\n",
    "        out = F.relu(self.bn1(self.conv1(x)))\n",
    "        out = self.layer1(out)\n",
    "        out = self.layer2(out)\n",
    "        out = self.layer3(out)\n",
    "        out = F.avg_pool2d(out, out.size()[3])\n",
    "        out = out.view(out.size(0), -1)\n",
    "        out = self.linear(out)\n",
    "        return out\n",
    "\n",
    "\n",
    "def resnet20():\n",
    "    return ResNet(BasicBlock, [3, 3, 3])"
   ]
  },
  {
   "cell_type": "code",
   "execution_count": 33,
   "metadata": {
    "colab": {
     "base_uri": "https://localhost:8080/"
    },
    "executionInfo": {
     "elapsed": 615,
     "status": "ok",
     "timestamp": 1663175539091,
     "user": {
      "displayName": "Mayank Kumar",
      "userId": "17758680965516036067"
     },
     "user_tz": -330
    },
    "id": "0qan7gDdqlWV",
    "outputId": "8954a8ca-1c2b-44fa-a890-3cf51488d8fd"
   },
   "outputs": [
    {
     "data": {
      "text/plain": [
       "ResNet(\n",
       "  (conv1): Conv2d(3, 16, kernel_size=(3, 3), stride=(1, 1), padding=(1, 1), bias=False)\n",
       "  (bn1): BatchNorm2d(16, eps=1e-05, momentum=0.1, affine=True, track_running_stats=True)\n",
       "  (layer1): Sequential(\n",
       "    (0): BasicBlock(\n",
       "      (conv1): Conv2d(16, 16, kernel_size=(3, 3), stride=(1, 1), padding=(1, 1), bias=False)\n",
       "      (bn1): BatchNorm2d(16, eps=1e-05, momentum=0.1, affine=True, track_running_stats=True)\n",
       "      (conv2): Conv2d(16, 16, kernel_size=(3, 3), stride=(1, 1), padding=(1, 1), bias=False)\n",
       "      (bn2): BatchNorm2d(16, eps=1e-05, momentum=0.1, affine=True, track_running_stats=True)\n",
       "      (shortcut): Sequential()\n",
       "    )\n",
       "    (1): BasicBlock(\n",
       "      (conv1): Conv2d(16, 16, kernel_size=(3, 3), stride=(1, 1), padding=(1, 1), bias=False)\n",
       "      (bn1): BatchNorm2d(16, eps=1e-05, momentum=0.1, affine=True, track_running_stats=True)\n",
       "      (conv2): Conv2d(16, 16, kernel_size=(3, 3), stride=(1, 1), padding=(1, 1), bias=False)\n",
       "      (bn2): BatchNorm2d(16, eps=1e-05, momentum=0.1, affine=True, track_running_stats=True)\n",
       "      (shortcut): Sequential()\n",
       "    )\n",
       "    (2): BasicBlock(\n",
       "      (conv1): Conv2d(16, 16, kernel_size=(3, 3), stride=(1, 1), padding=(1, 1), bias=False)\n",
       "      (bn1): BatchNorm2d(16, eps=1e-05, momentum=0.1, affine=True, track_running_stats=True)\n",
       "      (conv2): Conv2d(16, 16, kernel_size=(3, 3), stride=(1, 1), padding=(1, 1), bias=False)\n",
       "      (bn2): BatchNorm2d(16, eps=1e-05, momentum=0.1, affine=True, track_running_stats=True)\n",
       "      (shortcut): Sequential()\n",
       "    )\n",
       "  )\n",
       "  (layer2): Sequential(\n",
       "    (0): BasicBlock(\n",
       "      (conv1): Conv2d(16, 32, kernel_size=(3, 3), stride=(2, 2), padding=(1, 1), bias=False)\n",
       "      (bn1): BatchNorm2d(32, eps=1e-05, momentum=0.1, affine=True, track_running_stats=True)\n",
       "      (conv2): Conv2d(32, 32, kernel_size=(3, 3), stride=(1, 1), padding=(1, 1), bias=False)\n",
       "      (bn2): BatchNorm2d(32, eps=1e-05, momentum=0.1, affine=True, track_running_stats=True)\n",
       "      (shortcut): LambdaLayer()\n",
       "    )\n",
       "    (1): BasicBlock(\n",
       "      (conv1): Conv2d(32, 32, kernel_size=(3, 3), stride=(1, 1), padding=(1, 1), bias=False)\n",
       "      (bn1): BatchNorm2d(32, eps=1e-05, momentum=0.1, affine=True, track_running_stats=True)\n",
       "      (conv2): Conv2d(32, 32, kernel_size=(3, 3), stride=(1, 1), padding=(1, 1), bias=False)\n",
       "      (bn2): BatchNorm2d(32, eps=1e-05, momentum=0.1, affine=True, track_running_stats=True)\n",
       "      (shortcut): Sequential()\n",
       "    )\n",
       "    (2): BasicBlock(\n",
       "      (conv1): Conv2d(32, 32, kernel_size=(3, 3), stride=(1, 1), padding=(1, 1), bias=False)\n",
       "      (bn1): BatchNorm2d(32, eps=1e-05, momentum=0.1, affine=True, track_running_stats=True)\n",
       "      (conv2): Conv2d(32, 32, kernel_size=(3, 3), stride=(1, 1), padding=(1, 1), bias=False)\n",
       "      (bn2): BatchNorm2d(32, eps=1e-05, momentum=0.1, affine=True, track_running_stats=True)\n",
       "      (shortcut): Sequential()\n",
       "    )\n",
       "  )\n",
       "  (layer3): Sequential(\n",
       "    (0): BasicBlock(\n",
       "      (conv1): Conv2d(32, 64, kernel_size=(3, 3), stride=(2, 2), padding=(1, 1), bias=False)\n",
       "      (bn1): BatchNorm2d(64, eps=1e-05, momentum=0.1, affine=True, track_running_stats=True)\n",
       "      (conv2): Conv2d(64, 64, kernel_size=(3, 3), stride=(1, 1), padding=(1, 1), bias=False)\n",
       "      (bn2): BatchNorm2d(64, eps=1e-05, momentum=0.1, affine=True, track_running_stats=True)\n",
       "      (shortcut): LambdaLayer()\n",
       "    )\n",
       "    (1): BasicBlock(\n",
       "      (conv1): Conv2d(64, 64, kernel_size=(3, 3), stride=(1, 1), padding=(1, 1), bias=False)\n",
       "      (bn1): BatchNorm2d(64, eps=1e-05, momentum=0.1, affine=True, track_running_stats=True)\n",
       "      (conv2): Conv2d(64, 64, kernel_size=(3, 3), stride=(1, 1), padding=(1, 1), bias=False)\n",
       "      (bn2): BatchNorm2d(64, eps=1e-05, momentum=0.1, affine=True, track_running_stats=True)\n",
       "      (shortcut): Sequential()\n",
       "    )\n",
       "    (2): BasicBlock(\n",
       "      (conv1): Conv2d(64, 64, kernel_size=(3, 3), stride=(1, 1), padding=(1, 1), bias=False)\n",
       "      (bn1): BatchNorm2d(64, eps=1e-05, momentum=0.1, affine=True, track_running_stats=True)\n",
       "      (conv2): Conv2d(64, 64, kernel_size=(3, 3), stride=(1, 1), padding=(1, 1), bias=False)\n",
       "      (bn2): BatchNorm2d(64, eps=1e-05, momentum=0.1, affine=True, track_running_stats=True)\n",
       "      (shortcut): Sequential()\n",
       "    )\n",
       "  )\n",
       "  (linear): Linear(in_features=64, out_features=10, bias=True)\n",
       ")"
      ]
     },
     "execution_count": 33,
     "metadata": {},
     "output_type": "execute_result"
    }
   ],
   "source": [
    "net_glob = resnet20()\n",
    "net_glob.to(device)\n"
   ]
  },
  {
   "cell_type": "code",
   "execution_count": null,
   "metadata": {
    "id": "fUQs4_a_qn66"
   },
   "outputs": [],
   "source": []
  },
  {
   "cell_type": "code",
   "execution_count": 34,
   "metadata": {
    "id": "9rnGfTJocu7Y"
   },
   "outputs": [],
   "source": [
    "\n",
    "lr = 0.001\n",
    "criterion = nn.CrossEntropyLoss()\n",
    "optimizer = optim.SGD(net_glob.parameters(), lr=lr, momentum=0.9)\n"
   ]
  },
  {
   "cell_type": "code",
   "execution_count": 35,
   "metadata": {
    "id": "wiH3wAs7cu4z"
   },
   "outputs": [],
   "source": [
    "local_epochs = 1"
   ]
  },
  {
   "cell_type": "code",
   "execution_count": 36,
   "metadata": {
    "id": "zS4f6NvLjjl-"
   },
   "outputs": [],
   "source": [
    "def FedAvg(w):\n",
    "    w_avg = copy.deepcopy(w[0])\n",
    "    for k in w_avg.keys():\n",
    "        for i in range(1, len(w)):\n",
    "            w_avg[k] += w[i][k]\n",
    "        w_avg[k] = torch.div(w_avg[k], len(w))\n",
    "    return w_avg"
   ]
  },
  {
   "cell_type": "code",
   "execution_count": 37,
   "metadata": {
    "id": "rv6j7pHFjjhF"
   },
   "outputs": [],
   "source": [
    "num_users = 5\n",
    "\n",
    "frac = 1 # this tells the percentage of clients chosen for each global round. 1=100%(all the clinets are chosen),0.5(only half the clients are chosen)"
   ]
  },
  {
   "cell_type": "code",
   "execution_count": 38,
   "metadata": {},
   "outputs": [],
   "source": [
    "# FGSM attack code\n",
    "def fgsm_attack(image, epsilon, data_grad):\n",
    "    # Collect the element-wise sign of the data gradient\n",
    "    sign_data_grad = data_grad.sign()\n",
    "    # Create the perturbed image by adjusting each pixel of the input image\n",
    "    perturbed_image = image + epsilon*sign_data_grad\n",
    "    # Adding clipping to maintain [0,1] range\n",
    "    perturbed_image = torch.clamp(perturbed_image, 0, 1)\n",
    "    # Return the perturbed image\n",
    "    return perturbed_image"
   ]
  },
  {
   "cell_type": "code",
   "execution_count": 39,
   "metadata": {},
   "outputs": [],
   "source": [
    "# def fgsm_attack(model, loss, images, labels, eps) :\n",
    "    \n",
    "#     images = images.to(device)\n",
    "#     labels = labels.to(device)\n",
    "#     images.requires_grad = True\n",
    "           \n",
    "#     outputs = model(images)\n",
    "    \n",
    "#     model.zero_grad()\n",
    "#     cost = criterion(outputs, labels)\n",
    "#     cost.backward()\n",
    "    \n",
    "#     attack_images = images + eps*images.grad.sign()\n",
    "#     attack_images = torch.clamp(attack_images, 0, 1)\n",
    "    \n",
    "#     return attack_images\n",
    "def test(net, test_loader, criterion, device, epsilon):\n",
    "    net.eval()  # set the model to evaluation mode\n",
    "    test_loss = 0.0\n",
    "    correct = 0\n",
    "    total = 0\n",
    "\n",
    "    for data, target in test_loader:\n",
    "        data, target = data.to(device), target.to(device)\n",
    "\n",
    "        # Generate adversarial examples using FGSM\n",
    "        data.requires_grad = True\n",
    "        output = net(data)\n",
    "        loss = criterion(output, target)\n",
    "        net.zero_grad()\n",
    "        loss.backward()\n",
    "        data_grad = data.grad.data\n",
    "        perturbed_data = fgsm_attack(data, epsilon, data_grad)\n",
    "        with torch.no_grad():\n",
    "            output = net(perturbed_data)\n",
    "\n",
    "        # Compute loss and accuracy\n",
    "        test_loss += criterion(output, target).item()\n",
    "        _, predicted = torch.max(output.data, 1)\n",
    "        total += target.size(0)\n",
    "        correct += (predicted == target).sum().item()\n",
    "\n",
    "    test_loss /= len(test_loader)\n",
    "    accuracy = 100.0 * correct / total\n",
    "\n",
    "    print(\"Test set: Average loss: {:.4f}, Accuracy: {}/{} ({:.2f}%)\".format(\n",
    "        test_loss, correct, total, accuracy))"
   ]
  },
  {
   "cell_type": "code",
   "execution_count": null,
   "metadata": {},
   "outputs": [],
   "source": []
  },
  {
   "cell_type": "code",
   "execution_count": 40,
   "metadata": {
    "colab": {
     "base_uri": "https://localhost:8080/"
    },
    "executionInfo": {
     "elapsed": 2055548,
     "status": "ok",
     "timestamp": 1663177643765,
     "user": {
      "displayName": "Mayank Kumar",
      "userId": "17758680965516036067"
     },
     "user_tz": -330
    },
    "id": "fw9zPnxMjjfB",
    "outputId": "e3081669-e3db-40cb-bbd5-4e89f79e6d45"
   },
   "outputs": [
    {
     "name": "stderr",
     "output_type": "stream",
     "text": [
      "Round1: User4_1: 100%|████████████████████████████████████████████| 100/100 [00:03<00:00, 29.49it/s]\n",
      "Round1: User2_1: 100%|████████████████████████████████████████████| 100/100 [00:03<00:00, 28.02it/s]\n",
      "Round1: User3_1: 100%|████████████████████████████████████████████| 100/100 [00:03<00:00, 29.94it/s]\n",
      "Round1: User0_1: 100%|████████████████████████████████████████████| 100/100 [00:03<00:00, 29.89it/s]\n",
      "Round1: User1_1: 100%|████████████████████████████████████████████| 100/100 [00:03<00:00, 29.36it/s]\n"
     ]
    },
    {
     "name": "stdout",
     "output_type": "stream",
     "text": [
      "client:4 train_acc: 29.48%, train_loss: 37.8284\n",
      "client:2 train_acc: 29.59%, train_loss: 75.6618\n",
      "client:3 train_acc: 29.47%, train_loss: 113.5981\n",
      "client:0 train_acc: 29.38%, train_loss: 151.5098\n",
      "client:1 train_acc: 29.39%, train_loss: 189.3088\n",
      "Test set: Average loss: 2.7472, Accuracy: 839/10000 (8.39%)\n"
     ]
    },
    {
     "name": "stderr",
     "output_type": "stream",
     "text": [
      "Round2: User0_1: 100%|████████████████████████████████████████████| 100/100 [00:03<00:00, 30.15it/s]\n",
      "Round2: User2_1: 100%|████████████████████████████████████████████| 100/100 [00:03<00:00, 31.56it/s]\n",
      "Round2: User4_1: 100%|████████████████████████████████████████████| 100/100 [00:03<00:00, 30.61it/s]\n",
      "Round2: User1_1: 100%|████████████████████████████████████████████| 100/100 [00:03<00:00, 29.55it/s]\n",
      "Round2: User3_1: 100%|████████████████████████████████████████████| 100/100 [00:03<00:00, 30.64it/s]\n"
     ]
    },
    {
     "name": "stdout",
     "output_type": "stream",
     "text": [
      "client:0 train_acc: 35.68%, train_loss: 34.4532\n",
      "client:2 train_acc: 36.25%, train_loss: 68.7965\n",
      "client:4 train_acc: 36.42%, train_loss: 102.9159\n",
      "client:1 train_acc: 36.54%, train_loss: 137.0276\n",
      "client:3 train_acc: 36.52%, train_loss: 171.3378\n",
      "Test set: Average loss: 3.0963, Accuracy: 964/10000 (9.64%)\n"
     ]
    },
    {
     "name": "stderr",
     "output_type": "stream",
     "text": [
      "Round3: User3_1: 100%|████████████████████████████████████████████| 100/100 [00:03<00:00, 29.06it/s]\n",
      "Round3: User4_1: 100%|████████████████████████████████████████████| 100/100 [00:03<00:00, 29.37it/s]\n",
      "Round3: User1_1: 100%|████████████████████████████████████████████| 100/100 [00:03<00:00, 28.45it/s]\n",
      "Round3: User0_1: 100%|████████████████████████████████████████████| 100/100 [00:03<00:00, 31.59it/s]\n",
      "Round3: User2_1: 100%|████████████████████████████████████████████| 100/100 [00:03<00:00, 30.22it/s]\n"
     ]
    },
    {
     "name": "stdout",
     "output_type": "stream",
     "text": [
      "client:3 train_acc: 39.72%, train_loss: 32.8378\n",
      "client:4 train_acc: 39.68%, train_loss: 65.4890\n",
      "client:1 train_acc: 39.43%, train_loss: 98.2657\n",
      "client:0 train_acc: 39.43%, train_loss: 131.1658\n",
      "client:2 train_acc: 39.38%, train_loss: 164.0512\n",
      "Test set: Average loss: 3.4360, Accuracy: 933/10000 (9.33%)\n"
     ]
    },
    {
     "name": "stderr",
     "output_type": "stream",
     "text": [
      "Round4: User1_1: 100%|████████████████████████████████████████████| 100/100 [00:03<00:00, 29.36it/s]\n",
      "Round4: User3_1: 100%|████████████████████████████████████████████| 100/100 [00:03<00:00, 28.44it/s]\n",
      "Round4: User0_1: 100%|████████████████████████████████████████████| 100/100 [00:03<00:00, 28.43it/s]\n",
      "Round4: User4_1: 100%|████████████████████████████████████████████| 100/100 [00:03<00:00, 29.88it/s]\n",
      "Round4: User2_1: 100%|████████████████████████████████████████████| 100/100 [00:03<00:00, 29.85it/s]\n"
     ]
    },
    {
     "name": "stdout",
     "output_type": "stream",
     "text": [
      "client:1 train_acc: 41.81%, train_loss: 31.6596\n",
      "client:3 train_acc: 42.00%, train_loss: 63.4550\n",
      "client:0 train_acc: 41.68%, train_loss: 95.3748\n",
      "client:4 train_acc: 41.77%, train_loss: 127.0470\n",
      "client:2 train_acc: 41.78%, train_loss: 158.8896\n",
      "Test set: Average loss: 3.2562, Accuracy: 1103/10000 (11.03%)\n"
     ]
    },
    {
     "name": "stderr",
     "output_type": "stream",
     "text": [
      "Round5: User4_1: 100%|████████████████████████████████████████████| 100/100 [00:03<00:00, 29.59it/s]\n",
      "Round5: User3_1: 100%|████████████████████████████████████████████| 100/100 [00:03<00:00, 31.69it/s]\n",
      "Round5: User1_1: 100%|████████████████████████████████████████████| 100/100 [00:03<00:00, 28.54it/s]\n",
      "Round5: User0_1: 100%|████████████████████████████████████████████| 100/100 [00:03<00:00, 30.73it/s]\n",
      "Round5: User2_1: 100%|████████████████████████████████████████████| 100/100 [00:03<00:00, 30.28it/s]\n"
     ]
    },
    {
     "name": "stdout",
     "output_type": "stream",
     "text": [
      "client:4 train_acc: 44.03%, train_loss: 30.6861\n",
      "client:3 train_acc: 43.95%, train_loss: 61.2920\n",
      "client:1 train_acc: 43.89%, train_loss: 91.8583\n",
      "client:0 train_acc: 43.74%, train_loss: 122.7058\n",
      "client:2 train_acc: 43.74%, train_loss: 153.5020\n",
      "Test set: Average loss: 3.1100, Accuracy: 1118/10000 (11.18%)\n"
     ]
    },
    {
     "name": "stderr",
     "output_type": "stream",
     "text": [
      "Round6: User3_1: 100%|████████████████████████████████████████████| 100/100 [00:03<00:00, 28.52it/s]\n",
      "Round6: User2_1: 100%|████████████████████████████████████████████| 100/100 [00:03<00:00, 29.25it/s]\n",
      "Round6: User4_1: 100%|████████████████████████████████████████████| 100/100 [00:03<00:00, 30.03it/s]\n",
      "Round6: User1_1: 100%|████████████████████████████████████████████| 100/100 [00:03<00:00, 30.02it/s]\n",
      "Round6: User0_1: 100%|████████████████████████████████████████████| 100/100 [00:03<00:00, 29.16it/s]\n"
     ]
    },
    {
     "name": "stdout",
     "output_type": "stream",
     "text": [
      "client:3 train_acc: 45.68%, train_loss: 29.8718\n",
      "client:2 train_acc: 45.26%, train_loss: 59.9141\n",
      "client:4 train_acc: 45.13%, train_loss: 89.8526\n",
      "client:1 train_acc: 45.15%, train_loss: 119.7271\n",
      "client:0 train_acc: 45.00%, train_loss: 149.8226\n",
      "Test set: Average loss: 3.1970, Accuracy: 1214/10000 (12.14%)\n"
     ]
    },
    {
     "name": "stderr",
     "output_type": "stream",
     "text": [
      "Round7: User3_1: 100%|████████████████████████████████████████████| 100/100 [00:03<00:00, 30.40it/s]\n",
      "Round7: User0_1: 100%|████████████████████████████████████████████| 100/100 [00:03<00:00, 27.52it/s]\n",
      "Round7: User1_1: 100%|████████████████████████████████████████████| 100/100 [00:03<00:00, 29.81it/s]\n",
      "Round7: User4_1: 100%|████████████████████████████████████████████| 100/100 [00:03<00:00, 29.03it/s]\n",
      "Round7: User2_1: 100%|████████████████████████████████████████████| 100/100 [00:03<00:00, 29.27it/s]\n"
     ]
    },
    {
     "name": "stdout",
     "output_type": "stream",
     "text": [
      "client:3 train_acc: 46.74%, train_loss: 29.2098\n",
      "client:0 train_acc: 46.54%, train_loss: 58.5840\n",
      "client:1 train_acc: 46.58%, train_loss: 87.7703\n",
      "client:4 train_acc: 46.47%, train_loss: 117.1222\n",
      "client:2 train_acc: 46.37%, train_loss: 146.5177\n",
      "Test set: Average loss: 3.1854, Accuracy: 1162/10000 (11.62%)\n"
     ]
    },
    {
     "name": "stderr",
     "output_type": "stream",
     "text": [
      "Round8: User1_1: 100%|████████████████████████████████████████████| 100/100 [00:03<00:00, 28.34it/s]\n",
      "Round8: User2_1: 100%|████████████████████████████████████████████| 100/100 [00:03<00:00, 29.86it/s]\n",
      "Round8: User3_1: 100%|████████████████████████████████████████████| 100/100 [00:03<00:00, 27.81it/s]\n",
      "Round8: User0_1: 100%|████████████████████████████████████████████| 100/100 [00:03<00:00, 27.00it/s]\n",
      "Round8: User4_1: 100%|████████████████████████████████████████████| 100/100 [00:03<00:00, 28.93it/s]\n"
     ]
    },
    {
     "name": "stdout",
     "output_type": "stream",
     "text": [
      "client:1 train_acc: 48.15%, train_loss: 28.7072\n",
      "client:2 train_acc: 47.95%, train_loss: 57.6354\n",
      "client:3 train_acc: 48.01%, train_loss: 86.3517\n",
      "client:0 train_acc: 47.91%, train_loss: 115.2455\n",
      "client:4 train_acc: 47.76%, train_loss: 144.1519\n",
      "Test set: Average loss: 3.0829, Accuracy: 1282/10000 (12.82%)\n"
     ]
    },
    {
     "name": "stderr",
     "output_type": "stream",
     "text": [
      "Round9: User4_1: 100%|████████████████████████████████████████████| 100/100 [00:03<00:00, 29.43it/s]\n",
      "Round9: User2_1: 100%|████████████████████████████████████████████| 100/100 [00:03<00:00, 31.38it/s]\n",
      "Round9: User0_1: 100%|████████████████████████████████████████████| 100/100 [00:03<00:00, 30.28it/s]\n",
      "Round9: User3_1: 100%|████████████████████████████████████████████| 100/100 [00:03<00:00, 29.62it/s]\n",
      "Round9: User1_1: 100%|████████████████████████████████████████████| 100/100 [00:03<00:00, 30.57it/s]\n"
     ]
    },
    {
     "name": "stdout",
     "output_type": "stream",
     "text": [
      "client:4 train_acc: 48.24%, train_loss: 28.3994\n",
      "client:2 train_acc: 48.30%, train_loss: 56.8793\n",
      "client:0 train_acc: 48.38%, train_loss: 85.3124\n",
      "client:3 train_acc: 48.48%, train_loss: 113.5469\n",
      "client:1 train_acc: 48.45%, train_loss: 141.8833\n",
      "Test set: Average loss: 3.1991, Accuracy: 1225/10000 (12.25%)\n"
     ]
    },
    {
     "name": "stderr",
     "output_type": "stream",
     "text": [
      "Round10: User4_1: 100%|███████████████████████████████████████████| 100/100 [00:03<00:00, 29.21it/s]\n",
      "Round10: User1_1: 100%|███████████████████████████████████████████| 100/100 [00:03<00:00, 31.17it/s]\n",
      "Round10: User0_1: 100%|███████████████████████████████████████████| 100/100 [00:03<00:00, 29.56it/s]\n",
      "Round10: User2_1: 100%|███████████████████████████████████████████| 100/100 [00:03<00:00, 28.28it/s]\n",
      "Round10: User3_1: 100%|███████████████████████████████████████████| 100/100 [00:03<00:00, 29.40it/s]\n"
     ]
    },
    {
     "name": "stdout",
     "output_type": "stream",
     "text": [
      "client:4 train_acc: 48.66%, train_loss: 27.8547\n",
      "client:1 train_acc: 49.32%, train_loss: 55.5057\n",
      "client:0 train_acc: 49.37%, train_loss: 83.3743\n",
      "client:2 train_acc: 49.37%, train_loss: 111.2456\n",
      "client:3 train_acc: 49.45%, train_loss: 138.9142\n",
      "Test set: Average loss: 3.0818, Accuracy: 1296/10000 (12.96%)\n"
     ]
    },
    {
     "name": "stderr",
     "output_type": "stream",
     "text": [
      "Round11: User4_1: 100%|███████████████████████████████████████████| 100/100 [00:03<00:00, 29.85it/s]\n",
      "Round11: User0_1: 100%|███████████████████████████████████████████| 100/100 [00:03<00:00, 30.95it/s]\n",
      "Round11: User1_1: 100%|███████████████████████████████████████████| 100/100 [00:03<00:00, 29.60it/s]\n",
      "Round11: User3_1: 100%|███████████████████████████████████████████| 100/100 [00:03<00:00, 31.15it/s]\n",
      "Round11: User2_1: 100%|███████████████████████████████████████████| 100/100 [00:03<00:00, 30.46it/s]\n"
     ]
    },
    {
     "name": "stdout",
     "output_type": "stream",
     "text": [
      "client:4 train_acc: 50.05%, train_loss: 27.5497\n",
      "client:0 train_acc: 50.26%, train_loss: 55.0303\n",
      "client:1 train_acc: 50.21%, train_loss: 82.3986\n",
      "client:3 train_acc: 50.24%, train_loss: 109.7348\n",
      "client:2 train_acc: 50.21%, train_loss: 137.3391\n",
      "Test set: Average loss: 3.1470, Accuracy: 1254/10000 (12.54%)\n"
     ]
    },
    {
     "name": "stderr",
     "output_type": "stream",
     "text": [
      "Round12: User1_1: 100%|███████████████████████████████████████████| 100/100 [00:03<00:00, 31.27it/s]\n",
      "Round12: User2_1: 100%|███████████████████████████████████████████| 100/100 [00:03<00:00, 30.93it/s]\n",
      "Round12: User4_1: 100%|███████████████████████████████████████████| 100/100 [00:03<00:00, 30.23it/s]\n",
      "Round12: User3_1: 100%|███████████████████████████████████████████| 100/100 [00:03<00:00, 29.80it/s]\n",
      "Round12: User0_1: 100%|███████████████████████████████████████████| 100/100 [00:03<00:00, 30.07it/s]\n"
     ]
    },
    {
     "name": "stdout",
     "output_type": "stream",
     "text": [
      "client:1 train_acc: 51.05%, train_loss: 26.9697\n",
      "client:2 train_acc: 50.84%, train_loss: 54.1381\n",
      "client:4 train_acc: 50.61%, train_loss: 81.3442\n",
      "client:3 train_acc: 50.76%, train_loss: 108.2760\n",
      "client:0 train_acc: 50.74%, train_loss: 135.4583\n",
      "Test set: Average loss: 3.1548, Accuracy: 1267/10000 (12.67%)\n"
     ]
    },
    {
     "name": "stderr",
     "output_type": "stream",
     "text": [
      "Round13: User4_1: 100%|███████████████████████████████████████████| 100/100 [00:03<00:00, 30.78it/s]\n",
      "Round13: User1_1: 100%|███████████████████████████████████████████| 100/100 [00:03<00:00, 30.14it/s]\n",
      "Round13: User2_1: 100%|███████████████████████████████████████████| 100/100 [00:03<00:00, 31.23it/s]\n",
      "Round13: User3_1: 100%|███████████████████████████████████████████| 100/100 [00:03<00:00, 31.58it/s]\n",
      "Round13: User0_1: 100%|███████████████████████████████████████████| 100/100 [00:03<00:00, 30.98it/s]\n"
     ]
    },
    {
     "name": "stdout",
     "output_type": "stream",
     "text": [
      "client:4 train_acc: 50.60%, train_loss: 26.8798\n",
      "client:1 train_acc: 51.09%, train_loss: 53.4911\n",
      "client:2 train_acc: 51.19%, train_loss: 80.3082\n",
      "client:3 train_acc: 51.50%, train_loss: 106.9025\n",
      "client:0 train_acc: 51.47%, train_loss: 133.7454\n",
      "Test set: Average loss: 3.2311, Accuracy: 1301/10000 (13.01%)\n"
     ]
    },
    {
     "name": "stderr",
     "output_type": "stream",
     "text": [
      "Round14: User2_1: 100%|███████████████████████████████████████████| 100/100 [00:03<00:00, 31.37it/s]\n",
      "Round14: User0_1: 100%|███████████████████████████████████████████| 100/100 [00:03<00:00, 30.09it/s]\n",
      "Round14: User3_1: 100%|███████████████████████████████████████████| 100/100 [00:03<00:00, 31.93it/s]\n",
      "Round14: User1_1: 100%|███████████████████████████████████████████| 100/100 [00:03<00:00, 31.17it/s]\n",
      "Round14: User4_1: 100%|███████████████████████████████████████████| 100/100 [00:03<00:00, 29.46it/s]\n"
     ]
    },
    {
     "name": "stdout",
     "output_type": "stream",
     "text": [
      "client:2 train_acc: 51.94%, train_loss: 26.5736\n",
      "client:0 train_acc: 51.78%, train_loss: 53.1343\n",
      "client:3 train_acc: 51.99%, train_loss: 79.4358\n",
      "client:1 train_acc: 52.00%, train_loss: 105.7730\n",
      "client:4 train_acc: 51.89%, train_loss: 132.3212\n",
      "Test set: Average loss: 3.1920, Accuracy: 1375/10000 (13.75%)\n"
     ]
    },
    {
     "name": "stderr",
     "output_type": "stream",
     "text": [
      "Round15: User3_1: 100%|███████████████████████████████████████████| 100/100 [00:03<00:00, 30.30it/s]\n",
      "Round15: User2_1: 100%|███████████████████████████████████████████| 100/100 [00:03<00:00, 32.24it/s]\n",
      "Round15: User0_1: 100%|███████████████████████████████████████████| 100/100 [00:03<00:00, 30.37it/s]\n",
      "Round15: User1_1: 100%|███████████████████████████████████████████| 100/100 [00:03<00:00, 31.18it/s]\n",
      "Round15: User4_1: 100%|███████████████████████████████████████████| 100/100 [00:03<00:00, 30.48it/s]\n"
     ]
    },
    {
     "name": "stdout",
     "output_type": "stream",
     "text": [
      "client:3 train_acc: 53.40%, train_loss: 25.9287\n",
      "client:2 train_acc: 53.15%, train_loss: 52.1146\n",
      "client:0 train_acc: 53.07%, train_loss: 78.2747\n",
      "client:1 train_acc: 53.03%, train_loss: 104.2462\n",
      "client:4 train_acc: 52.85%, train_loss: 130.4470\n",
      "Test set: Average loss: 3.3336, Accuracy: 1325/10000 (13.25%)\n"
     ]
    },
    {
     "name": "stderr",
     "output_type": "stream",
     "text": [
      "Round16: User2_1: 100%|███████████████████████████████████████████| 100/100 [00:03<00:00, 30.70it/s]\n",
      "Round16: User0_1: 100%|███████████████████████████████████████████| 100/100 [00:03<00:00, 29.42it/s]\n",
      "Round16: User3_1: 100%|███████████████████████████████████████████| 100/100 [00:03<00:00, 31.38it/s]\n",
      "Round16: User1_1: 100%|███████████████████████████████████████████| 100/100 [00:03<00:00, 29.37it/s]\n",
      "Round16: User4_1: 100%|███████████████████████████████████████████| 100/100 [00:03<00:00, 28.97it/s]\n"
     ]
    },
    {
     "name": "stdout",
     "output_type": "stream",
     "text": [
      "client:2 train_acc: 53.23%, train_loss: 25.8956\n",
      "client:0 train_acc: 53.35%, train_loss: 51.7521\n",
      "client:3 train_acc: 53.64%, train_loss: 77.3837\n",
      "client:1 train_acc: 53.56%, train_loss: 103.0157\n",
      "client:4 train_acc: 53.27%, train_loss: 128.9493\n",
      "Test set: Average loss: 3.2293, Accuracy: 1359/10000 (13.59%)\n"
     ]
    },
    {
     "name": "stderr",
     "output_type": "stream",
     "text": [
      "Round17: User1_1: 100%|███████████████████████████████████████████| 100/100 [00:03<00:00, 30.50it/s]\n",
      "Round17: User0_1: 100%|███████████████████████████████████████████| 100/100 [00:03<00:00, 30.97it/s]\n",
      "Round17: User3_1: 100%|███████████████████████████████████████████| 100/100 [00:03<00:00, 30.53it/s]\n",
      "Round17: User4_1: 100%|███████████████████████████████████████████| 100/100 [00:03<00:00, 30.52it/s]\n",
      "Round17: User2_1: 100%|███████████████████████████████████████████| 100/100 [00:03<00:00, 29.60it/s]\n"
     ]
    },
    {
     "name": "stdout",
     "output_type": "stream",
     "text": [
      "client:1 train_acc: 54.20%, train_loss: 25.1919\n",
      "client:0 train_acc: 54.40%, train_loss: 50.5852\n",
      "client:3 train_acc: 54.59%, train_loss: 75.7888\n",
      "client:4 train_acc: 54.29%, train_loss: 101.2963\n",
      "client:2 train_acc: 54.20%, train_loss: 126.7905\n",
      "Test set: Average loss: 3.1395, Accuracy: 1417/10000 (14.17%)\n"
     ]
    },
    {
     "name": "stderr",
     "output_type": "stream",
     "text": [
      "Round18: User3_1: 100%|███████████████████████████████████████████| 100/100 [00:03<00:00, 29.36it/s]\n",
      "Round18: User0_1: 100%|███████████████████████████████████████████| 100/100 [00:03<00:00, 28.16it/s]\n",
      "Round18: User4_1: 100%|███████████████████████████████████████████| 100/100 [00:03<00:00, 29.47it/s]\n",
      "Round18: User1_1: 100%|███████████████████████████████████████████| 100/100 [00:03<00:00, 29.17it/s]\n",
      "Round18: User2_1: 100%|███████████████████████████████████████████| 100/100 [00:03<00:00, 29.65it/s]\n"
     ]
    },
    {
     "name": "stdout",
     "output_type": "stream",
     "text": [
      "client:3 train_acc: 55.43%, train_loss: 24.9376\n",
      "client:0 train_acc: 55.22%, train_loss: 50.0400\n",
      "client:4 train_acc: 54.92%, train_loss: 75.2567\n",
      "client:1 train_acc: 54.94%, train_loss: 100.1768\n",
      "client:2 train_acc: 54.95%, train_loss: 125.3817\n",
      "Test set: Average loss: 3.2440, Accuracy: 1390/10000 (13.90%)\n"
     ]
    },
    {
     "name": "stderr",
     "output_type": "stream",
     "text": [
      "Round19: User4_1: 100%|███████████████████████████████████████████| 100/100 [00:03<00:00, 29.24it/s]\n",
      "Round19: User3_1: 100%|███████████████████████████████████████████| 100/100 [00:03<00:00, 31.00it/s]\n",
      "Round19: User0_1: 100%|███████████████████████████████████████████| 100/100 [00:03<00:00, 30.40it/s]\n",
      "Round19: User1_1: 100%|███████████████████████████████████████████| 100/100 [00:03<00:00, 29.97it/s]\n",
      "Round19: User2_1: 100%|███████████████████████████████████████████| 100/100 [00:03<00:00, 30.70it/s]\n"
     ]
    },
    {
     "name": "stdout",
     "output_type": "stream",
     "text": [
      "client:4 train_acc: 54.11%, train_loss: 25.1731\n",
      "client:3 train_acc: 54.84%, train_loss: 50.0312\n",
      "client:0 train_acc: 54.86%, train_loss: 75.0891\n",
      "client:1 train_acc: 54.85%, train_loss: 99.9971\n",
      "client:2 train_acc: 54.84%, train_loss: 125.1342\n",
      "Test set: Average loss: 3.2493, Accuracy: 1462/10000 (14.62%)\n"
     ]
    },
    {
     "name": "stderr",
     "output_type": "stream",
     "text": [
      "Round20: User2_1: 100%|███████████████████████████████████████████| 100/100 [00:03<00:00, 29.71it/s]\n",
      "Round20: User1_1: 100%|███████████████████████████████████████████| 100/100 [00:03<00:00, 30.81it/s]\n",
      "Round20: User4_1: 100%|███████████████████████████████████████████| 100/100 [00:03<00:00, 30.61it/s]\n",
      "Round20: User0_1: 100%|███████████████████████████████████████████| 100/100 [00:03<00:00, 30.33it/s]\n",
      "Round20: User3_1: 100%|███████████████████████████████████████████| 100/100 [00:03<00:00, 30.63it/s]\n"
     ]
    },
    {
     "name": "stdout",
     "output_type": "stream",
     "text": [
      "client:2 train_acc: 55.63%, train_loss: 24.6652\n",
      "client:1 train_acc: 55.62%, train_loss: 49.0486\n",
      "client:4 train_acc: 55.48%, train_loss: 73.8051\n",
      "client:0 train_acc: 55.55%, train_loss: 98.4395\n",
      "client:3 train_acc: 55.75%, train_loss: 122.8702\n",
      "Test set: Average loss: 3.2243, Accuracy: 1406/10000 (14.06%)\n"
     ]
    },
    {
     "name": "stderr",
     "output_type": "stream",
     "text": [
      "Round21: User0_1: 100%|███████████████████████████████████████████| 100/100 [00:03<00:00, 29.87it/s]\n",
      "Round21: User4_1: 100%|███████████████████████████████████████████| 100/100 [00:03<00:00, 29.78it/s]\n",
      "Round21: User3_1: 100%|███████████████████████████████████████████| 100/100 [00:03<00:00, 29.28it/s]\n",
      "Round21: User2_1: 100%|███████████████████████████████████████████| 100/100 [00:03<00:00, 30.22it/s]\n",
      "Round21: User1_1: 100%|███████████████████████████████████████████| 100/100 [00:03<00:00, 31.24it/s]\n"
     ]
    },
    {
     "name": "stdout",
     "output_type": "stream",
     "text": [
      "client:0 train_acc: 56.25%, train_loss: 24.3208\n",
      "client:4 train_acc: 56.10%, train_loss: 48.8000\n",
      "client:3 train_acc: 56.32%, train_loss: 72.9604\n",
      "client:2 train_acc: 56.31%, train_loss: 97.3368\n",
      "client:1 train_acc: 56.31%, train_loss: 121.4619\n",
      "Test set: Average loss: 3.1109, Accuracy: 1472/10000 (14.72%)\n"
     ]
    },
    {
     "name": "stderr",
     "output_type": "stream",
     "text": [
      "Round22: User2_1: 100%|███████████████████████████████████████████| 100/100 [00:03<00:00, 29.49it/s]\n",
      "Round22: User1_1: 100%|███████████████████████████████████████████| 100/100 [00:03<00:00, 30.30it/s]\n",
      "Round22: User3_1: 100%|███████████████████████████████████████████| 100/100 [00:03<00:00, 30.18it/s]\n",
      "Round22: User0_1: 100%|███████████████████████████████████████████| 100/100 [00:03<00:00, 30.87it/s]\n",
      "Round22: User4_1: 100%|███████████████████████████████████████████| 100/100 [00:03<00:00, 31.51it/s]\n"
     ]
    },
    {
     "name": "stdout",
     "output_type": "stream",
     "text": [
      "client:2 train_acc: 55.99%, train_loss: 24.3477\n",
      "client:1 train_acc: 55.96%, train_loss: 48.4192\n",
      "client:3 train_acc: 56.13%, train_loss: 72.5777\n",
      "client:0 train_acc: 56.05%, train_loss: 96.8470\n",
      "client:4 train_acc: 56.03%, train_loss: 121.3092\n",
      "Test set: Average loss: 2.9946, Accuracy: 1598/10000 (15.98%)\n"
     ]
    },
    {
     "name": "stderr",
     "output_type": "stream",
     "text": [
      "Round23: User3_1: 100%|███████████████████████████████████████████| 100/100 [00:03<00:00, 30.83it/s]\n",
      "Round23: User0_1: 100%|███████████████████████████████████████████| 100/100 [00:03<00:00, 29.60it/s]\n",
      "Round23: User2_1: 100%|███████████████████████████████████████████| 100/100 [00:03<00:00, 29.75it/s]\n",
      "Round23: User1_1: 100%|███████████████████████████████████████████| 100/100 [00:03<00:00, 31.20it/s]\n",
      "Round23: User4_1: 100%|███████████████████████████████████████████| 100/100 [00:03<00:00, 31.25it/s]\n"
     ]
    },
    {
     "name": "stdout",
     "output_type": "stream",
     "text": [
      "client:3 train_acc: 57.81%, train_loss: 23.6226\n",
      "client:0 train_acc: 57.43%, train_loss: 47.4156\n",
      "client:2 train_acc: 57.34%, train_loss: 71.2555\n",
      "client:1 train_acc: 57.26%, train_loss: 94.8809\n",
      "client:4 train_acc: 57.18%, train_loss: 118.8535\n",
      "Test set: Average loss: 3.1507, Accuracy: 1470/10000 (14.70%)\n"
     ]
    },
    {
     "name": "stderr",
     "output_type": "stream",
     "text": [
      "Round24: User0_1: 100%|███████████████████████████████████████████| 100/100 [00:03<00:00, 30.07it/s]\n",
      "Round24: User4_1: 100%|███████████████████████████████████████████| 100/100 [00:03<00:00, 30.65it/s]\n",
      "Round24: User2_1: 100%|███████████████████████████████████████████| 100/100 [00:03<00:00, 29.62it/s]\n",
      "Round24: User3_1: 100%|███████████████████████████████████████████| 100/100 [00:03<00:00, 28.31it/s]\n",
      "Round24: User1_1: 100%|███████████████████████████████████████████| 100/100 [00:03<00:00, 28.41it/s]\n"
     ]
    },
    {
     "name": "stdout",
     "output_type": "stream",
     "text": [
      "client:0 train_acc: 56.96%, train_loss: 23.6394\n",
      "client:4 train_acc: 57.15%, train_loss: 47.4836\n",
      "client:2 train_acc: 57.23%, train_loss: 71.1895\n",
      "client:3 train_acc: 57.39%, train_loss: 94.7145\n",
      "client:1 train_acc: 57.33%, train_loss: 118.2423\n",
      "Test set: Average loss: 3.1068, Accuracy: 1523/10000 (15.23%)\n"
     ]
    },
    {
     "name": "stderr",
     "output_type": "stream",
     "text": [
      "Round25: User2_1: 100%|███████████████████████████████████████████| 100/100 [00:03<00:00, 30.53it/s]\n",
      "Round25: User4_1: 100%|███████████████████████████████████████████| 100/100 [00:03<00:00, 30.62it/s]\n",
      "Round25: User0_1: 100%|███████████████████████████████████████████| 100/100 [00:03<00:00, 30.24it/s]\n",
      "Round25: User1_1: 100%|███████████████████████████████████████████| 100/100 [00:03<00:00, 31.45it/s]\n",
      "Round25: User3_1: 100%|███████████████████████████████████████████| 100/100 [00:03<00:00, 29.92it/s]\n"
     ]
    },
    {
     "name": "stdout",
     "output_type": "stream",
     "text": [
      "client:2 train_acc: 57.48%, train_loss: 23.8024\n",
      "client:4 train_acc: 57.42%, train_loss: 47.7377\n",
      "client:0 train_acc: 57.43%, train_loss: 71.4320\n",
      "client:1 train_acc: 57.38%, train_loss: 94.9487\n",
      "client:3 train_acc: 57.57%, train_loss: 118.5146\n",
      "Test set: Average loss: 3.2618, Accuracy: 1474/10000 (14.74%)\n"
     ]
    },
    {
     "name": "stderr",
     "output_type": "stream",
     "text": [
      "Round26: User3_1: 100%|███████████████████████████████████████████| 100/100 [00:03<00:00, 28.94it/s]\n",
      "Round26: User2_1: 100%|███████████████████████████████████████████| 100/100 [00:03<00:00, 28.77it/s]\n",
      "Round26: User0_1: 100%|███████████████████████████████████████████| 100/100 [00:03<00:00, 29.88it/s]\n",
      "Round26: User4_1: 100%|███████████████████████████████████████████| 100/100 [00:03<00:00, 30.30it/s]\n",
      "Round26: User1_1: 100%|███████████████████████████████████████████| 100/100 [00:03<00:00, 28.40it/s]\n"
     ]
    },
    {
     "name": "stdout",
     "output_type": "stream",
     "text": [
      "client:3 train_acc: 59.34%, train_loss: 22.9112\n",
      "client:2 train_acc: 58.94%, train_loss: 46.0409\n",
      "client:0 train_acc: 58.88%, train_loss: 69.0238\n",
      "client:4 train_acc: 58.70%, train_loss: 92.3163\n",
      "client:1 train_acc: 58.61%, train_loss: 115.1782\n",
      "Test set: Average loss: 3.0966, Accuracy: 1523/10000 (15.23%)\n"
     ]
    },
    {
     "name": "stderr",
     "output_type": "stream",
     "text": [
      "Round27: User4_1: 100%|███████████████████████████████████████████| 100/100 [00:02<00:00, 35.47it/s]\n",
      "Round27: User1_1: 100%|███████████████████████████████████████████| 100/100 [00:03<00:00, 32.58it/s]\n",
      "Round27: User0_1: 100%|███████████████████████████████████████████| 100/100 [00:03<00:00, 29.59it/s]\n",
      "Round27: User2_1: 100%|███████████████████████████████████████████| 100/100 [00:03<00:00, 28.19it/s]\n",
      "Round27: User3_1: 100%|███████████████████████████████████████████| 100/100 [00:03<00:00, 29.45it/s]\n"
     ]
    },
    {
     "name": "stdout",
     "output_type": "stream",
     "text": [
      "client:4 train_acc: 58.71%, train_loss: 23.2257\n",
      "client:1 train_acc: 58.48%, train_loss: 46.0427\n",
      "client:0 train_acc: 58.52%, train_loss: 69.0080\n",
      "client:2 train_acc: 58.48%, train_loss: 92.0772\n",
      "client:3 train_acc: 58.61%, train_loss: 114.9764\n",
      "Test set: Average loss: 3.0515, Accuracy: 1525/10000 (15.25%)\n"
     ]
    },
    {
     "name": "stderr",
     "output_type": "stream",
     "text": [
      "Round28: User4_1: 100%|███████████████████████████████████████████| 100/100 [00:03<00:00, 29.18it/s]\n",
      "Round28: User0_1: 100%|███████████████████████████████████████████| 100/100 [00:03<00:00, 28.52it/s]\n",
      "Round28: User2_1: 100%|███████████████████████████████████████████| 100/100 [00:03<00:00, 28.58it/s]\n",
      "Round28: User3_1: 100%|███████████████████████████████████████████| 100/100 [00:03<00:00, 31.51it/s]\n",
      "Round28: User1_1: 100%|███████████████████████████████████████████| 100/100 [00:03<00:00, 30.93it/s]\n"
     ]
    },
    {
     "name": "stdout",
     "output_type": "stream",
     "text": [
      "client:4 train_acc: 58.90%, train_loss: 22.8323\n",
      "client:0 train_acc: 59.00%, train_loss: 45.3810\n",
      "client:2 train_acc: 59.12%, train_loss: 68.0563\n",
      "client:3 train_acc: 59.25%, train_loss: 90.5628\n",
      "client:1 train_acc: 59.11%, train_loss: 113.0154\n",
      "Test set: Average loss: 3.1676, Accuracy: 1489/10000 (14.89%)\n"
     ]
    },
    {
     "name": "stderr",
     "output_type": "stream",
     "text": [
      "Round29: User0_1: 100%|███████████████████████████████████████████| 100/100 [00:03<00:00, 31.18it/s]\n",
      "Round29: User3_1: 100%|███████████████████████████████████████████| 100/100 [00:03<00:00, 29.79it/s]\n",
      "Round29: User1_1: 100%|███████████████████████████████████████████| 100/100 [00:03<00:00, 30.64it/s]\n",
      "Round29: User4_1: 100%|███████████████████████████████████████████| 100/100 [00:03<00:00, 30.32it/s]\n",
      "Round29: User2_1: 100%|███████████████████████████████████████████| 100/100 [00:03<00:00, 29.86it/s]\n"
     ]
    },
    {
     "name": "stdout",
     "output_type": "stream",
     "text": [
      "client:0 train_acc: 59.76%, train_loss: 22.3862\n",
      "client:3 train_acc: 59.91%, train_loss: 44.6433\n",
      "client:1 train_acc: 59.73%, train_loss: 66.9600\n",
      "client:4 train_acc: 59.66%, train_loss: 89.5968\n",
      "client:2 train_acc: 59.68%, train_loss: 112.0245\n",
      "Test set: Average loss: 3.1603, Accuracy: 1538/10000 (15.38%)\n"
     ]
    },
    {
     "name": "stderr",
     "output_type": "stream",
     "text": [
      "Round30: User4_1: 100%|███████████████████████████████████████████| 100/100 [00:03<00:00, 30.11it/s]\n",
      "Round30: User2_1: 100%|███████████████████████████████████████████| 100/100 [00:03<00:00, 31.05it/s]\n",
      "Round30: User3_1: 100%|███████████████████████████████████████████| 100/100 [00:03<00:00, 31.06it/s]\n",
      "Round30: User0_1: 100%|███████████████████████████████████████████| 100/100 [00:03<00:00, 29.44it/s]\n",
      "Round30: User1_1: 100%|███████████████████████████████████████████| 100/100 [00:03<00:00, 29.14it/s]\n"
     ]
    },
    {
     "name": "stdout",
     "output_type": "stream",
     "text": [
      "client:4 train_acc: 60.07%, train_loss: 22.3349\n",
      "client:2 train_acc: 60.44%, train_loss: 44.4609\n",
      "client:3 train_acc: 60.58%, train_loss: 66.4354\n",
      "client:0 train_acc: 60.48%, train_loss: 88.5050\n",
      "client:1 train_acc: 60.49%, train_loss: 110.4653\n",
      "Test set: Average loss: 3.1223, Accuracy: 1532/10000 (15.32%)\n"
     ]
    },
    {
     "name": "stderr",
     "output_type": "stream",
     "text": [
      "Round31: User2_1: 100%|███████████████████████████████████████████| 100/100 [00:03<00:00, 28.85it/s]\n",
      "Round31: User4_1: 100%|███████████████████████████████████████████| 100/100 [00:03<00:00, 29.61it/s]\n",
      "Round31: User3_1: 100%|███████████████████████████████████████████| 100/100 [00:03<00:00, 29.08it/s]\n",
      "Round31: User1_1: 100%|███████████████████████████████████████████| 100/100 [00:03<00:00, 27.73it/s]\n",
      "Round31: User0_1: 100%|███████████████████████████████████████████| 100/100 [00:03<00:00, 29.78it/s]\n"
     ]
    },
    {
     "name": "stdout",
     "output_type": "stream",
     "text": [
      "client:2 train_acc: 60.60%, train_loss: 22.0808\n",
      "client:4 train_acc: 60.24%, train_loss: 44.3859\n",
      "client:3 train_acc: 60.35%, train_loss: 66.3077\n",
      "client:1 train_acc: 60.20%, train_loss: 88.2333\n",
      "client:0 train_acc: 60.20%, train_loss: 110.2383\n",
      "Test set: Average loss: 3.1205, Accuracy: 1504/10000 (15.04%)\n"
     ]
    },
    {
     "name": "stderr",
     "output_type": "stream",
     "text": [
      "Round32: User1_1: 100%|███████████████████████████████████████████| 100/100 [00:03<00:00, 29.42it/s]\n",
      "Round32: User2_1: 100%|███████████████████████████████████████████| 100/100 [00:03<00:00, 31.19it/s]\n",
      "Round32: User4_1: 100%|███████████████████████████████████████████| 100/100 [00:03<00:00, 30.56it/s]\n",
      "Round32: User0_1: 100%|███████████████████████████████████████████| 100/100 [00:03<00:00, 29.85it/s]\n",
      "Round32: User3_1: 100%|███████████████████████████████████████████| 100/100 [00:03<00:00, 30.41it/s]\n"
     ]
    },
    {
     "name": "stdout",
     "output_type": "stream",
     "text": [
      "client:1 train_acc: 60.33%, train_loss: 21.5193\n",
      "client:2 train_acc: 60.76%, train_loss: 43.2125\n",
      "client:4 train_acc: 60.75%, train_loss: 65.1869\n",
      "client:0 train_acc: 60.84%, train_loss: 86.7502\n",
      "client:3 train_acc: 61.03%, train_loss: 108.3340\n",
      "Test set: Average loss: 3.1285, Accuracy: 1570/10000 (15.70%)\n"
     ]
    },
    {
     "name": "stderr",
     "output_type": "stream",
     "text": [
      "Round33: User0_1: 100%|███████████████████████████████████████████| 100/100 [00:03<00:00, 30.75it/s]\n",
      "Round33: User4_1: 100%|███████████████████████████████████████████| 100/100 [00:03<00:00, 29.96it/s]\n",
      "Round33: User1_1: 100%|███████████████████████████████████████████| 100/100 [00:03<00:00, 28.57it/s]\n",
      "Round33: User2_1: 100%|███████████████████████████████████████████| 100/100 [00:03<00:00, 30.10it/s]\n",
      "Round33: User3_1: 100%|███████████████████████████████████████████| 100/100 [00:03<00:00, 31.17it/s]\n"
     ]
    },
    {
     "name": "stdout",
     "output_type": "stream",
     "text": [
      "client:0 train_acc: 61.15%, train_loss: 21.5111\n",
      "client:4 train_acc: 61.04%, train_loss: 43.3793\n",
      "client:1 train_acc: 60.77%, train_loss: 64.8605\n",
      "client:2 train_acc: 60.83%, train_loss: 86.5229\n",
      "client:3 train_acc: 61.02%, train_loss: 108.0102\n",
      "Test set: Average loss: 3.0618, Accuracy: 1567/10000 (15.67%)\n"
     ]
    },
    {
     "name": "stderr",
     "output_type": "stream",
     "text": [
      "Round34: User0_1: 100%|███████████████████████████████████████████| 100/100 [00:03<00:00, 30.29it/s]\n",
      "Round34: User3_1: 100%|███████████████████████████████████████████| 100/100 [00:03<00:00, 29.20it/s]\n",
      "Round34: User2_1: 100%|███████████████████████████████████████████| 100/100 [00:03<00:00, 30.42it/s]\n",
      "Round34: User1_1: 100%|███████████████████████████████████████████| 100/100 [00:03<00:00, 31.03it/s]\n",
      "Round34: User4_1: 100%|███████████████████████████████████████████| 100/100 [00:03<00:00, 31.11it/s]\n"
     ]
    },
    {
     "name": "stdout",
     "output_type": "stream",
     "text": [
      "client:0 train_acc: 61.76%, train_loss: 21.2918\n",
      "client:3 train_acc: 61.98%, train_loss: 42.4810\n",
      "client:2 train_acc: 61.93%, train_loss: 63.8760\n",
      "client:1 train_acc: 61.69%, train_loss: 85.1973\n",
      "client:4 train_acc: 61.63%, train_loss: 106.8442\n",
      "Test set: Average loss: 3.1016, Accuracy: 1613/10000 (16.13%)\n"
     ]
    },
    {
     "name": "stderr",
     "output_type": "stream",
     "text": [
      "Round35: User3_1: 100%|███████████████████████████████████████████| 100/100 [00:03<00:00, 29.69it/s]\n",
      "Round35: User0_1: 100%|███████████████████████████████████████████| 100/100 [00:03<00:00, 31.07it/s]\n",
      "Round35: User4_1: 100%|███████████████████████████████████████████| 100/100 [00:03<00:00, 30.08it/s]\n",
      "Round35: User1_1: 100%|███████████████████████████████████████████| 100/100 [00:03<00:00, 31.24it/s]\n",
      "Round35: User2_1: 100%|███████████████████████████████████████████| 100/100 [00:03<00:00, 30.65it/s]\n"
     ]
    },
    {
     "name": "stdout",
     "output_type": "stream",
     "text": [
      "client:3 train_acc: 62.76%, train_loss: 20.9089\n",
      "client:0 train_acc: 62.71%, train_loss: 41.8778\n",
      "client:4 train_acc: 62.45%, train_loss: 63.2047\n",
      "client:1 train_acc: 62.29%, train_loss: 84.0703\n",
      "client:2 train_acc: 62.36%, train_loss: 105.1263\n",
      "Test set: Average loss: 3.0498, Accuracy: 1579/10000 (15.79%)\n"
     ]
    },
    {
     "name": "stderr",
     "output_type": "stream",
     "text": [
      "Round36: User4_1: 100%|███████████████████████████████████████████| 100/100 [00:03<00:00, 30.32it/s]\n",
      "Round36: User2_1: 100%|███████████████████████████████████████████| 100/100 [00:03<00:00, 30.85it/s]\n",
      "Round36: User0_1: 100%|███████████████████████████████████████████| 100/100 [00:03<00:00, 29.86it/s]\n",
      "Round36: User3_1: 100%|███████████████████████████████████████████| 100/100 [00:03<00:00, 30.66it/s]\n",
      "Round36: User1_1: 100%|███████████████████████████████████████████| 100/100 [00:03<00:00, 30.02it/s]\n"
     ]
    },
    {
     "name": "stdout",
     "output_type": "stream",
     "text": [
      "client:4 train_acc: 62.06%, train_loss: 21.2851\n",
      "client:2 train_acc: 62.33%, train_loss: 42.3509\n",
      "client:0 train_acc: 62.39%, train_loss: 63.2804\n",
      "client:3 train_acc: 62.48%, train_loss: 84.1959\n",
      "client:1 train_acc: 62.39%, train_loss: 105.0389\n",
      "Test set: Average loss: 2.9630, Accuracy: 1676/10000 (16.76%)\n"
     ]
    },
    {
     "name": "stderr",
     "output_type": "stream",
     "text": [
      "Round37: User1_1: 100%|███████████████████████████████████████████| 100/100 [00:02<00:00, 35.54it/s]\n",
      "Round37: User0_1: 100%|███████████████████████████████████████████| 100/100 [00:02<00:00, 36.27it/s]\n",
      "Round37: User3_1: 100%|███████████████████████████████████████████| 100/100 [00:03<00:00, 30.00it/s]\n",
      "Round37: User2_1: 100%|███████████████████████████████████████████| 100/100 [00:03<00:00, 30.42it/s]\n",
      "Round37: User4_1: 100%|███████████████████████████████████████████| 100/100 [00:03<00:00, 31.62it/s]\n"
     ]
    },
    {
     "name": "stdout",
     "output_type": "stream",
     "text": [
      "client:1 train_acc: 62.38%, train_loss: 20.6906\n",
      "client:0 train_acc: 62.63%, train_loss: 41.4595\n",
      "client:3 train_acc: 62.72%, train_loss: 62.1966\n",
      "client:2 train_acc: 62.82%, train_loss: 83.0458\n",
      "client:4 train_acc: 62.70%, train_loss: 104.1893\n",
      "Test set: Average loss: 3.0507, Accuracy: 1665/10000 (16.65%)\n"
     ]
    },
    {
     "name": "stderr",
     "output_type": "stream",
     "text": [
      "Round38: User3_1: 100%|███████████████████████████████████████████| 100/100 [00:03<00:00, 29.24it/s]\n",
      "Round38: User1_1: 100%|███████████████████████████████████████████| 100/100 [00:03<00:00, 28.75it/s]\n",
      "Round38: User0_1: 100%|███████████████████████████████████████████| 100/100 [00:03<00:00, 29.54it/s]\n",
      "Round38: User2_1: 100%|███████████████████████████████████████████| 100/100 [00:03<00:00, 30.24it/s]\n",
      "Round38: User4_1: 100%|███████████████████████████████████████████| 100/100 [00:03<00:00, 29.26it/s]\n"
     ]
    },
    {
     "name": "stdout",
     "output_type": "stream",
     "text": [
      "client:3 train_acc: 63.24%, train_loss: 20.4734\n",
      "client:1 train_acc: 62.92%, train_loss: 40.8872\n",
      "client:0 train_acc: 62.86%, train_loss: 61.4125\n",
      "client:2 train_acc: 62.94%, train_loss: 82.0209\n",
      "client:4 train_acc: 62.88%, train_loss: 102.8655\n",
      "Test set: Average loss: 2.9565, Accuracy: 1680/10000 (16.80%)\n"
     ]
    },
    {
     "name": "stderr",
     "output_type": "stream",
     "text": [
      "Round39: User4_1: 100%|███████████████████████████████████████████| 100/100 [00:03<00:00, 30.31it/s]\n",
      "Round39: User1_1: 100%|███████████████████████████████████████████| 100/100 [00:03<00:00, 30.46it/s]\n",
      "Round39: User2_1: 100%|███████████████████████████████████████████| 100/100 [00:03<00:00, 30.90it/s]\n",
      "Round39: User0_1: 100%|███████████████████████████████████████████| 100/100 [00:03<00:00, 29.34it/s]\n",
      "Round39: User3_1: 100%|███████████████████████████████████████████| 100/100 [00:03<00:00, 31.09it/s]\n"
     ]
    },
    {
     "name": "stdout",
     "output_type": "stream",
     "text": [
      "client:4 train_acc: 62.70%, train_loss: 20.7651\n",
      "client:1 train_acc: 62.75%, train_loss: 41.0531\n",
      "client:2 train_acc: 62.92%, train_loss: 61.5705\n",
      "client:0 train_acc: 63.03%, train_loss: 81.9551\n",
      "client:3 train_acc: 63.17%, train_loss: 102.3359\n",
      "Test set: Average loss: 2.9954, Accuracy: 1721/10000 (17.21%)\n"
     ]
    },
    {
     "name": "stderr",
     "output_type": "stream",
     "text": [
      "Round40: User4_1: 100%|███████████████████████████████████████████| 100/100 [00:03<00:00, 30.73it/s]\n",
      "Round40: User3_1: 100%|███████████████████████████████████████████| 100/100 [00:03<00:00, 30.35it/s]\n",
      "Round40: User2_1: 100%|███████████████████████████████████████████| 100/100 [00:03<00:00, 30.39it/s]\n",
      "Round40: User1_1: 100%|███████████████████████████████████████████| 100/100 [00:03<00:00, 30.96it/s]\n",
      "Round40: User0_1: 100%|███████████████████████████████████████████| 100/100 [00:03<00:00, 29.67it/s]\n"
     ]
    },
    {
     "name": "stdout",
     "output_type": "stream",
     "text": [
      "client:4 train_acc: 63.58%, train_loss: 20.5110\n",
      "client:3 train_acc: 63.94%, train_loss: 40.5826\n",
      "client:2 train_acc: 63.97%, train_loss: 60.8424\n",
      "client:1 train_acc: 63.81%, train_loss: 80.9812\n",
      "client:0 train_acc: 63.82%, train_loss: 101.1640\n",
      "Test set: Average loss: 3.1711, Accuracy: 1657/10000 (16.57%)\n"
     ]
    },
    {
     "name": "stderr",
     "output_type": "stream",
     "text": [
      "Round41: User3_1: 100%|███████████████████████████████████████████| 100/100 [00:03<00:00, 30.01it/s]\n",
      "Round41: User2_1: 100%|███████████████████████████████████████████| 100/100 [00:03<00:00, 29.79it/s]\n",
      "Round41: User0_1: 100%|███████████████████████████████████████████| 100/100 [00:03<00:00, 30.49it/s]\n",
      "Round41: User1_1: 100%|███████████████████████████████████████████| 100/100 [00:03<00:00, 30.47it/s]\n",
      "Round41: User4_1: 100%|███████████████████████████████████████████| 100/100 [00:03<00:00, 29.51it/s]\n"
     ]
    },
    {
     "name": "stdout",
     "output_type": "stream",
     "text": [
      "client:3 train_acc: 64.70%, train_loss: 19.8763\n",
      "client:2 train_acc: 64.61%, train_loss: 39.9112\n",
      "client:0 train_acc: 64.53%, train_loss: 59.8236\n",
      "client:1 train_acc: 64.33%, train_loss: 79.6909\n",
      "client:4 train_acc: 64.25%, train_loss: 99.9257\n",
      "Test set: Average loss: 3.1309, Accuracy: 1603/10000 (16.03%)\n"
     ]
    },
    {
     "name": "stderr",
     "output_type": "stream",
     "text": [
      "Round42: User1_1: 100%|███████████████████████████████████████████| 100/100 [00:03<00:00, 27.84it/s]\n",
      "Round42: User2_1: 100%|███████████████████████████████████████████| 100/100 [00:03<00:00, 28.59it/s]\n",
      "Round42: User0_1: 100%|███████████████████████████████████████████| 100/100 [00:03<00:00, 29.79it/s]\n",
      "Round42: User3_1: 100%|███████████████████████████████████████████| 100/100 [00:03<00:00, 27.85it/s]\n",
      "Round42: User4_1: 100%|███████████████████████████████████████████| 100/100 [00:03<00:00, 29.35it/s]\n"
     ]
    },
    {
     "name": "stdout",
     "output_type": "stream",
     "text": [
      "client:1 train_acc: 64.49%, train_loss: 19.5573\n",
      "client:2 train_acc: 64.81%, train_loss: 39.3026\n",
      "client:0 train_acc: 64.83%, train_loss: 58.9960\n",
      "client:3 train_acc: 64.90%, train_loss: 78.5948\n",
      "client:4 train_acc: 64.83%, train_loss: 98.6038\n",
      "Test set: Average loss: 3.0141, Accuracy: 1677/10000 (16.77%)\n"
     ]
    },
    {
     "name": "stderr",
     "output_type": "stream",
     "text": [
      "Round43: User4_1: 100%|███████████████████████████████████████████| 100/100 [00:03<00:00, 29.33it/s]\n",
      "Round43: User0_1: 100%|███████████████████████████████████████████| 100/100 [00:03<00:00, 30.92it/s]\n",
      "Round43: User1_1: 100%|███████████████████████████████████████████| 100/100 [00:03<00:00, 29.98it/s]\n",
      "Round43: User3_1: 100%|███████████████████████████████████████████| 100/100 [00:03<00:00, 30.53it/s]\n",
      "Round43: User2_1: 100%|███████████████████████████████████████████| 100/100 [00:03<00:00, 30.25it/s]\n"
     ]
    },
    {
     "name": "stdout",
     "output_type": "stream",
     "text": [
      "client:4 train_acc: 64.73%, train_loss: 19.9687\n",
      "client:0 train_acc: 65.01%, train_loss: 39.6544\n",
      "client:1 train_acc: 65.01%, train_loss: 59.2966\n",
      "client:3 train_acc: 65.11%, train_loss: 78.8144\n",
      "client:2 train_acc: 65.20%, train_loss: 98.5433\n",
      "Test set: Average loss: 3.0677, Accuracy: 1667/10000 (16.67%)\n"
     ]
    },
    {
     "name": "stderr",
     "output_type": "stream",
     "text": [
      "Round44: User4_1: 100%|███████████████████████████████████████████| 100/100 [00:03<00:00, 30.23it/s]\n",
      "Round44: User2_1: 100%|███████████████████████████████████████████| 100/100 [00:03<00:00, 31.03it/s]\n",
      "Round44: User0_1: 100%|███████████████████████████████████████████| 100/100 [00:03<00:00, 31.23it/s]\n",
      "Round44: User1_1: 100%|███████████████████████████████████████████| 100/100 [00:03<00:00, 29.84it/s]\n",
      "Round44: User3_1: 100%|███████████████████████████████████████████| 100/100 [00:03<00:00, 30.13it/s]\n"
     ]
    },
    {
     "name": "stdout",
     "output_type": "stream",
     "text": [
      "client:4 train_acc: 64.47%, train_loss: 19.7759\n",
      "client:2 train_acc: 64.66%, train_loss: 39.4038\n",
      "client:0 train_acc: 64.86%, train_loss: 58.8590\n",
      "client:1 train_acc: 64.79%, train_loss: 78.3119\n",
      "client:3 train_acc: 64.99%, train_loss: 97.7502\n",
      "Test set: Average loss: 3.0504, Accuracy: 1642/10000 (16.42%)\n"
     ]
    },
    {
     "name": "stderr",
     "output_type": "stream",
     "text": [
      "Round45: User2_1: 100%|███████████████████████████████████████████| 100/100 [00:03<00:00, 29.46it/s]\n",
      "Round45: User3_1: 100%|███████████████████████████████████████████| 100/100 [00:03<00:00, 29.81it/s]\n",
      "Round45: User1_1: 100%|███████████████████████████████████████████| 100/100 [00:03<00:00, 30.45it/s]\n",
      "Round45: User0_1: 100%|███████████████████████████████████████████| 100/100 [00:03<00:00, 28.92it/s]\n",
      "Round45: User4_1: 100%|███████████████████████████████████████████| 100/100 [00:03<00:00, 30.17it/s]\n"
     ]
    },
    {
     "name": "stdout",
     "output_type": "stream",
     "text": [
      "client:2 train_acc: 65.95%, train_loss: 19.3689\n",
      "client:3 train_acc: 66.04%, train_loss: 38.5923\n",
      "client:1 train_acc: 65.84%, train_loss: 57.7627\n",
      "client:0 train_acc: 65.77%, train_loss: 77.0443\n",
      "client:4 train_acc: 65.59%, train_loss: 96.6335\n",
      "Test set: Average loss: 3.0945, Accuracy: 1672/10000 (16.72%)\n"
     ]
    },
    {
     "name": "stderr",
     "output_type": "stream",
     "text": [
      "Round46: User0_1: 100%|███████████████████████████████████████████| 100/100 [00:03<00:00, 31.45it/s]\n",
      "Round46: User2_1: 100%|███████████████████████████████████████████| 100/100 [00:02<00:00, 34.82it/s]\n",
      "Round46: User3_1: 100%|███████████████████████████████████████████| 100/100 [00:03<00:00, 30.06it/s]\n",
      "Round46: User4_1: 100%|███████████████████████████████████████████| 100/100 [00:03<00:00, 29.84it/s]\n",
      "Round46: User1_1: 100%|███████████████████████████████████████████| 100/100 [00:03<00:00, 28.23it/s]\n"
     ]
    },
    {
     "name": "stdout",
     "output_type": "stream",
     "text": [
      "client:0 train_acc: 65.97%, train_loss: 19.2171\n",
      "client:2 train_acc: 65.84%, train_loss: 38.5246\n",
      "client:3 train_acc: 65.88%, train_loss: 57.6706\n",
      "client:4 train_acc: 65.70%, train_loss: 77.2513\n",
      "client:1 train_acc: 65.57%, train_loss: 96.5194\n",
      "Test set: Average loss: 3.1008, Accuracy: 1630/10000 (16.30%)\n"
     ]
    },
    {
     "name": "stderr",
     "output_type": "stream",
     "text": [
      "Round47: User0_1: 100%|███████████████████████████████████████████| 100/100 [00:03<00:00, 28.66it/s]\n",
      "Round47: User3_1: 100%|███████████████████████████████████████████| 100/100 [00:03<00:00, 31.35it/s]\n",
      "Round47: User2_1: 100%|███████████████████████████████████████████| 100/100 [00:03<00:00, 30.89it/s]\n",
      "Round47: User4_1: 100%|███████████████████████████████████████████| 100/100 [00:03<00:00, 32.28it/s]\n",
      "Round47: User1_1: 100%|███████████████████████████████████████████| 100/100 [00:03<00:00, 31.19it/s]\n"
     ]
    },
    {
     "name": "stdout",
     "output_type": "stream",
     "text": [
      "client:0 train_acc: 66.53%, train_loss: 18.9293\n",
      "client:3 train_acc: 66.55%, train_loss: 37.7570\n",
      "client:2 train_acc: 66.51%, train_loss: 56.7951\n",
      "client:4 train_acc: 66.28%, train_loss: 76.0745\n",
      "client:1 train_acc: 66.13%, train_loss: 94.9701\n",
      "Test set: Average loss: 3.1830, Accuracy: 1632/10000 (16.32%)\n"
     ]
    },
    {
     "name": "stderr",
     "output_type": "stream",
     "text": [
      "Round48: User1_1: 100%|███████████████████████████████████████████| 100/100 [00:03<00:00, 30.27it/s]\n",
      "Round48: User4_1: 100%|███████████████████████████████████████████| 100/100 [00:03<00:00, 31.24it/s]\n",
      "Round48: User2_1: 100%|███████████████████████████████████████████| 100/100 [00:03<00:00, 29.81it/s]\n",
      "Round48: User0_1: 100%|███████████████████████████████████████████| 100/100 [00:03<00:00, 31.62it/s]\n",
      "Round48: User3_1: 100%|███████████████████████████████████████████| 100/100 [00:03<00:00, 30.64it/s]\n"
     ]
    },
    {
     "name": "stdout",
     "output_type": "stream",
     "text": [
      "client:1 train_acc: 64.64%, train_loss: 19.3143\n",
      "client:4 train_acc: 64.55%, train_loss: 39.1104\n",
      "client:2 train_acc: 64.58%, train_loss: 58.7635\n",
      "client:0 train_acc: 64.78%, train_loss: 78.1524\n",
      "client:3 train_acc: 64.97%, train_loss: 97.6121\n",
      "Test set: Average loss: 3.1029, Accuracy: 1615/10000 (16.15%)\n"
     ]
    },
    {
     "name": "stderr",
     "output_type": "stream",
     "text": [
      "Round49: User3_1: 100%|███████████████████████████████████████████| 100/100 [00:03<00:00, 30.85it/s]\n",
      "Round49: User1_1: 100%|███████████████████████████████████████████| 100/100 [00:03<00:00, 30.08it/s]\n",
      "Round49: User0_1: 100%|███████████████████████████████████████████| 100/100 [00:03<00:00, 28.86it/s]\n",
      "Round49: User2_1: 100%|███████████████████████████████████████████| 100/100 [00:03<00:00, 29.67it/s]\n",
      "Round49: User4_1: 100%|███████████████████████████████████████████| 100/100 [00:03<00:00, 29.95it/s]\n"
     ]
    },
    {
     "name": "stdout",
     "output_type": "stream",
     "text": [
      "client:3 train_acc: 67.53%, train_loss: 18.4795\n",
      "client:1 train_acc: 67.04%, train_loss: 36.9938\n",
      "client:0 train_acc: 66.96%, train_loss: 55.5812\n",
      "client:2 train_acc: 66.94%, train_loss: 74.2619\n",
      "client:4 train_acc: 66.81%, train_loss: 93.1612\n",
      "Test set: Average loss: 3.0151, Accuracy: 1723/10000 (17.23%)\n"
     ]
    },
    {
     "name": "stderr",
     "output_type": "stream",
     "text": [
      "Round50: User4_1: 100%|███████████████████████████████████████████| 100/100 [00:03<00:00, 29.83it/s]\n",
      "Round50: User0_1: 100%|███████████████████████████████████████████| 100/100 [00:03<00:00, 30.58it/s]\n",
      "Round50: User3_1: 100%|███████████████████████████████████████████| 100/100 [00:03<00:00, 30.15it/s]\n",
      "Round50: User2_1: 100%|███████████████████████████████████████████| 100/100 [00:03<00:00, 30.91it/s]\n",
      "Round50: User1_1: 100%|███████████████████████████████████████████| 100/100 [00:03<00:00, 29.29it/s]\n"
     ]
    },
    {
     "name": "stdout",
     "output_type": "stream",
     "text": [
      "client:4 train_acc: 66.70%, train_loss: 18.7381\n",
      "client:0 train_acc: 66.93%, train_loss: 37.1679\n",
      "client:3 train_acc: 67.19%, train_loss: 55.4958\n",
      "client:2 train_acc: 67.17%, train_loss: 74.0200\n",
      "client:1 train_acc: 67.08%, train_loss: 92.3626\n",
      "Test set: Average loss: 3.1216, Accuracy: 1656/10000 (16.56%)\n"
     ]
    },
    {
     "name": "stderr",
     "output_type": "stream",
     "text": [
      "Round51: User1_1: 100%|███████████████████████████████████████████| 100/100 [00:03<00:00, 29.84it/s]\n",
      "Round51: User3_1: 100%|███████████████████████████████████████████| 100/100 [00:03<00:00, 29.43it/s]\n",
      "Round51: User2_1: 100%|███████████████████████████████████████████| 100/100 [00:03<00:00, 31.22it/s]\n",
      "Round51: User0_1: 100%|███████████████████████████████████████████| 100/100 [00:03<00:00, 32.23it/s]\n",
      "Round51: User4_1: 100%|███████████████████████████████████████████| 100/100 [00:03<00:00, 30.35it/s]\n"
     ]
    },
    {
     "name": "stdout",
     "output_type": "stream",
     "text": [
      "client:1 train_acc: 66.64%, train_loss: 18.4460\n",
      "client:3 train_acc: 67.05%, train_loss: 36.8553\n",
      "client:2 train_acc: 67.19%, train_loss: 55.3670\n",
      "client:0 train_acc: 67.11%, train_loss: 73.8634\n",
      "client:4 train_acc: 66.94%, train_loss: 92.7053\n",
      "Test set: Average loss: 3.1635, Accuracy: 1629/10000 (16.29%)\n"
     ]
    },
    {
     "name": "stderr",
     "output_type": "stream",
     "text": [
      "Round52: User3_1: 100%|███████████████████████████████████████████| 100/100 [00:03<00:00, 29.87it/s]\n",
      "Round52: User4_1: 100%|███████████████████████████████████████████| 100/100 [00:03<00:00, 30.21it/s]\n",
      "Round52: User2_1: 100%|███████████████████████████████████████████| 100/100 [00:03<00:00, 31.34it/s]\n",
      "Round52: User1_1: 100%|███████████████████████████████████████████| 100/100 [00:03<00:00, 31.17it/s]\n",
      "Round52: User0_1: 100%|███████████████████████████████████████████| 100/100 [00:03<00:00, 30.75it/s]\n"
     ]
    },
    {
     "name": "stdout",
     "output_type": "stream",
     "text": [
      "client:3 train_acc: 68.33%, train_loss: 17.9736\n",
      "client:4 train_acc: 67.74%, train_loss: 36.3477\n",
      "client:2 train_acc: 67.96%, train_loss: 54.4901\n",
      "client:1 train_acc: 67.86%, train_loss: 72.4698\n",
      "client:0 train_acc: 67.90%, train_loss: 90.5744\n",
      "Test set: Average loss: 3.0894, Accuracy: 1718/10000 (17.18%)\n"
     ]
    },
    {
     "name": "stderr",
     "output_type": "stream",
     "text": [
      "Round53: User3_1: 100%|███████████████████████████████████████████| 100/100 [00:03<00:00, 32.00it/s]\n",
      "Round53: User1_1: 100%|███████████████████████████████████████████| 100/100 [00:03<00:00, 27.49it/s]\n",
      "Round53: User0_1: 100%|███████████████████████████████████████████| 100/100 [00:03<00:00, 31.18it/s]\n",
      "Round53: User4_1: 100%|███████████████████████████████████████████| 100/100 [00:03<00:00, 30.16it/s]\n",
      "Round53: User2_1: 100%|███████████████████████████████████████████| 100/100 [00:03<00:00, 29.65it/s]\n"
     ]
    },
    {
     "name": "stdout",
     "output_type": "stream",
     "text": [
      "client:3 train_acc: 68.40%, train_loss: 17.9430\n",
      "client:1 train_acc: 68.08%, train_loss: 35.9150\n",
      "client:0 train_acc: 68.15%, train_loss: 53.9095\n",
      "client:4 train_acc: 67.92%, train_loss: 72.1967\n",
      "client:2 train_acc: 67.97%, train_loss: 90.3177\n",
      "Test set: Average loss: 2.9554, Accuracy: 1855/10000 (18.55%)\n"
     ]
    },
    {
     "name": "stderr",
     "output_type": "stream",
     "text": [
      "Round54: User1_1: 100%|███████████████████████████████████████████| 100/100 [00:03<00:00, 29.64it/s]\n",
      "Round54: User3_1: 100%|███████████████████████████████████████████| 100/100 [00:03<00:00, 31.52it/s]\n",
      "Round54: User4_1: 100%|███████████████████████████████████████████| 100/100 [00:03<00:00, 31.33it/s]\n",
      "Round54: User2_1: 100%|███████████████████████████████████████████| 100/100 [00:03<00:00, 29.72it/s]\n",
      "Round54: User0_1: 100%|███████████████████████████████████████████| 100/100 [00:03<00:00, 31.10it/s]\n"
     ]
    },
    {
     "name": "stdout",
     "output_type": "stream",
     "text": [
      "client:1 train_acc: 68.22%, train_loss: 17.8246\n",
      "client:3 train_acc: 68.46%, train_loss: 35.6759\n",
      "client:4 train_acc: 68.14%, train_loss: 53.9119\n",
      "client:2 train_acc: 68.09%, train_loss: 71.9583\n",
      "client:0 train_acc: 68.14%, train_loss: 89.8922\n",
      "Test set: Average loss: 3.1076, Accuracy: 1709/10000 (17.09%)\n"
     ]
    },
    {
     "name": "stderr",
     "output_type": "stream",
     "text": [
      "Round55: User3_1: 100%|███████████████████████████████████████████| 100/100 [00:03<00:00, 29.95it/s]\n",
      "Round55: User2_1: 100%|███████████████████████████████████████████| 100/100 [00:03<00:00, 30.81it/s]\n",
      "Round55: User1_1: 100%|███████████████████████████████████████████| 100/100 [00:03<00:00, 31.92it/s]\n",
      "Round55: User4_1: 100%|███████████████████████████████████████████| 100/100 [00:03<00:00, 30.69it/s]\n",
      "Round55: User0_1: 100%|███████████████████████████████████████████| 100/100 [00:03<00:00, 31.64it/s]\n"
     ]
    },
    {
     "name": "stdout",
     "output_type": "stream",
     "text": [
      "client:3 train_acc: 68.47%, train_loss: 17.8219\n",
      "client:2 train_acc: 68.51%, train_loss: 35.7273\n",
      "client:1 train_acc: 68.33%, train_loss: 53.5007\n",
      "client:4 train_acc: 68.10%, train_loss: 71.6859\n",
      "client:0 train_acc: 68.13%, train_loss: 89.5937\n",
      "Test set: Average loss: 3.0170, Accuracy: 1738/10000 (17.38%)\n"
     ]
    },
    {
     "name": "stderr",
     "output_type": "stream",
     "text": [
      "Round56: User1_1: 100%|███████████████████████████████████████████| 100/100 [00:03<00:00, 29.54it/s]\n",
      "Round56: User2_1: 100%|███████████████████████████████████████████| 100/100 [00:03<00:00, 30.58it/s]\n",
      "Round56: User3_1: 100%|███████████████████████████████████████████| 100/100 [00:03<00:00, 29.81it/s]\n",
      "Round56: User4_1: 100%|███████████████████████████████████████████| 100/100 [00:03<00:00, 30.32it/s]\n",
      "Round56: User0_1: 100%|███████████████████████████████████████████| 100/100 [00:03<00:00, 31.60it/s]\n"
     ]
    },
    {
     "name": "stdout",
     "output_type": "stream",
     "text": [
      "client:1 train_acc: 68.47%, train_loss: 17.5915\n",
      "client:2 train_acc: 68.84%, train_loss: 35.2606\n",
      "client:3 train_acc: 68.97%, train_loss: 52.8116\n",
      "client:4 train_acc: 68.81%, train_loss: 70.7255\n",
      "client:0 train_acc: 68.81%, train_loss: 88.3594\n",
      "Test set: Average loss: 2.9906, Accuracy: 1685/10000 (16.85%)\n"
     ]
    },
    {
     "name": "stderr",
     "output_type": "stream",
     "text": [
      "Round57: User1_1: 100%|███████████████████████████████████████████| 100/100 [00:03<00:00, 30.45it/s]\n",
      "Round57: User3_1: 100%|███████████████████████████████████████████| 100/100 [00:03<00:00, 30.67it/s]\n",
      "Round57: User0_1: 100%|███████████████████████████████████████████| 100/100 [00:03<00:00, 28.77it/s]\n",
      "Round57: User4_1: 100%|███████████████████████████████████████████| 100/100 [00:03<00:00, 29.92it/s]\n",
      "Round57: User2_1: 100%|███████████████████████████████████████████| 100/100 [00:03<00:00, 30.17it/s]\n"
     ]
    },
    {
     "name": "stdout",
     "output_type": "stream",
     "text": [
      "client:1 train_acc: 68.65%, train_loss: 17.4129\n",
      "client:3 train_acc: 68.97%, train_loss: 34.8183\n",
      "client:0 train_acc: 69.06%, train_loss: 52.3102\n",
      "client:4 train_acc: 68.78%, train_loss: 70.1167\n",
      "client:2 train_acc: 68.84%, train_loss: 87.6634\n",
      "Test set: Average loss: 3.1231, Accuracy: 1738/10000 (17.38%)\n"
     ]
    },
    {
     "name": "stderr",
     "output_type": "stream",
     "text": [
      "Round58: User3_1: 100%|███████████████████████████████████████████| 100/100 [00:03<00:00, 30.65it/s]\n",
      "Round58: User0_1: 100%|███████████████████████████████████████████| 100/100 [00:03<00:00, 30.37it/s]\n",
      "Round58: User1_1: 100%|███████████████████████████████████████████| 100/100 [00:03<00:00, 29.19it/s]\n",
      "Round58: User4_1: 100%|███████████████████████████████████████████| 100/100 [00:03<00:00, 30.70it/s]\n",
      "Round58: User2_1: 100%|███████████████████████████████████████████| 100/100 [00:03<00:00, 31.19it/s]\n"
     ]
    },
    {
     "name": "stdout",
     "output_type": "stream",
     "text": [
      "client:3 train_acc: 69.56%, train_loss: 17.4151\n",
      "client:0 train_acc: 69.36%, train_loss: 34.9120\n",
      "client:1 train_acc: 69.12%, train_loss: 52.2907\n",
      "client:4 train_acc: 68.99%, train_loss: 70.0460\n",
      "client:2 train_acc: 68.96%, train_loss: 87.6023\n",
      "Test set: Average loss: 2.9759, Accuracy: 1708/10000 (17.08%)\n"
     ]
    },
    {
     "name": "stderr",
     "output_type": "stream",
     "text": [
      "Round59: User3_1: 100%|███████████████████████████████████████████| 100/100 [00:03<00:00, 30.16it/s]\n",
      "Round59: User1_1: 100%|███████████████████████████████████████████| 100/100 [00:03<00:00, 29.98it/s]\n",
      "Round59: User0_1: 100%|███████████████████████████████████████████| 100/100 [00:03<00:00, 31.36it/s]\n",
      "Round59: User4_1: 100%|███████████████████████████████████████████| 100/100 [00:03<00:00, 31.17it/s]\n",
      "Round59: User2_1: 100%|███████████████████████████████████████████| 100/100 [00:03<00:00, 29.98it/s]\n"
     ]
    },
    {
     "name": "stdout",
     "output_type": "stream",
     "text": [
      "client:3 train_acc: 69.83%, train_loss: 17.1214\n",
      "client:1 train_acc: 69.42%, train_loss: 34.2642\n",
      "client:0 train_acc: 69.55%, train_loss: 51.5172\n",
      "client:4 train_acc: 69.25%, train_loss: 69.0751\n",
      "client:2 train_acc: 69.33%, train_loss: 86.4126\n",
      "Test set: Average loss: 3.0607, Accuracy: 1743/10000 (17.43%)\n"
     ]
    },
    {
     "name": "stderr",
     "output_type": "stream",
     "text": [
      "Round60: User1_1: 100%|███████████████████████████████████████████| 100/100 [00:03<00:00, 30.15it/s]\n",
      "Round60: User2_1: 100%|███████████████████████████████████████████| 100/100 [00:03<00:00, 28.63it/s]\n",
      "Round60: User0_1: 100%|███████████████████████████████████████████| 100/100 [00:03<00:00, 30.10it/s]\n",
      "Round60: User3_1: 100%|███████████████████████████████████████████| 100/100 [00:03<00:00, 31.48it/s]\n",
      "Round60: User4_1: 100%|███████████████████████████████████████████| 100/100 [00:03<00:00, 29.87it/s]\n"
     ]
    },
    {
     "name": "stdout",
     "output_type": "stream",
     "text": [
      "client:1 train_acc: 69.08%, train_loss: 17.3817\n",
      "client:2 train_acc: 69.27%, train_loss: 34.7328\n",
      "client:0 train_acc: 69.12%, train_loss: 52.1662\n",
      "client:3 train_acc: 69.21%, train_loss: 69.4482\n",
      "client:4 train_acc: 69.16%, train_loss: 87.0970\n",
      "Test set: Average loss: 3.1111, Accuracy: 1734/10000 (17.34%)\n"
     ]
    },
    {
     "name": "stderr",
     "output_type": "stream",
     "text": [
      "Round61: User3_1: 100%|███████████████████████████████████████████| 100/100 [00:03<00:00, 29.50it/s]\n",
      "Round61: User0_1: 100%|███████████████████████████████████████████| 100/100 [00:03<00:00, 28.20it/s]\n",
      "Round61: User2_1: 100%|███████████████████████████████████████████| 100/100 [00:03<00:00, 30.63it/s]\n",
      "Round61: User4_1: 100%|███████████████████████████████████████████| 100/100 [00:03<00:00, 29.44it/s]\n",
      "Round61: User1_1: 100%|███████████████████████████████████████████| 100/100 [00:03<00:00, 29.24it/s]\n"
     ]
    },
    {
     "name": "stdout",
     "output_type": "stream",
     "text": [
      "client:3 train_acc: 69.81%, train_loss: 17.0672\n",
      "client:0 train_acc: 69.54%, train_loss: 34.2631\n",
      "client:2 train_acc: 69.75%, train_loss: 51.3980\n",
      "client:4 train_acc: 69.47%, train_loss: 68.8849\n",
      "client:1 train_acc: 69.39%, train_loss: 86.0254\n",
      "Test set: Average loss: 3.1106, Accuracy: 1678/10000 (16.78%)\n"
     ]
    },
    {
     "name": "stderr",
     "output_type": "stream",
     "text": [
      "Round62: User4_1: 100%|███████████████████████████████████████████| 100/100 [00:03<00:00, 30.50it/s]\n",
      "Round62: User3_1: 100%|███████████████████████████████████████████| 100/100 [00:03<00:00, 29.53it/s]\n",
      "Round62: User0_1: 100%|███████████████████████████████████████████| 100/100 [00:03<00:00, 31.07it/s]\n",
      "Round62: User1_1: 100%|███████████████████████████████████████████| 100/100 [00:03<00:00, 31.36it/s]\n",
      "Round62: User2_1: 100%|███████████████████████████████████████████| 100/100 [00:03<00:00, 30.87it/s]\n"
     ]
    },
    {
     "name": "stdout",
     "output_type": "stream",
     "text": [
      "client:4 train_acc: 69.76%, train_loss: 17.0322\n",
      "client:3 train_acc: 70.34%, train_loss: 33.7725\n",
      "client:0 train_acc: 70.31%, train_loss: 50.5888\n",
      "client:1 train_acc: 70.25%, train_loss: 67.2699\n",
      "client:2 train_acc: 70.26%, train_loss: 84.0880\n",
      "Test set: Average loss: 3.1235, Accuracy: 1704/10000 (17.04%)\n"
     ]
    },
    {
     "name": "stderr",
     "output_type": "stream",
     "text": [
      "Round63: User3_1: 100%|███████████████████████████████████████████| 100/100 [00:03<00:00, 30.40it/s]\n",
      "Round63: User0_1: 100%|███████████████████████████████████████████| 100/100 [00:03<00:00, 31.25it/s]\n",
      "Round63: User2_1: 100%|███████████████████████████████████████████| 100/100 [00:03<00:00, 30.34it/s]\n",
      "Round63: User1_1: 100%|███████████████████████████████████████████| 100/100 [00:03<00:00, 29.80it/s]\n",
      "Round63: User4_1: 100%|███████████████████████████████████████████| 100/100 [00:03<00:00, 30.97it/s]\n"
     ]
    },
    {
     "name": "stdout",
     "output_type": "stream",
     "text": [
      "client:3 train_acc: 70.55%, train_loss: 16.7416\n",
      "client:0 train_acc: 70.49%, train_loss: 33.5089\n",
      "client:2 train_acc: 70.51%, train_loss: 50.2598\n",
      "client:1 train_acc: 70.43%, train_loss: 66.9115\n",
      "client:4 train_acc: 70.30%, train_loss: 83.9402\n",
      "Test set: Average loss: 3.1492, Accuracy: 1715/10000 (17.15%)\n"
     ]
    },
    {
     "name": "stderr",
     "output_type": "stream",
     "text": [
      "Round64: User2_1: 100%|███████████████████████████████████████████| 100/100 [00:03<00:00, 30.89it/s]\n",
      "Round64: User3_1: 100%|███████████████████████████████████████████| 100/100 [00:03<00:00, 31.11it/s]\n",
      "Round64: User0_1: 100%|███████████████████████████████████████████| 100/100 [00:03<00:00, 31.51it/s]\n",
      "Round64: User4_1: 100%|███████████████████████████████████████████| 100/100 [00:03<00:00, 29.94it/s]\n",
      "Round64: User1_1: 100%|███████████████████████████████████████████| 100/100 [00:03<00:00, 32.74it/s]\n"
     ]
    },
    {
     "name": "stdout",
     "output_type": "stream",
     "text": [
      "client:2 train_acc: 70.73%, train_loss: 16.6643\n",
      "client:3 train_acc: 70.84%, train_loss: 33.2749\n",
      "client:0 train_acc: 70.69%, train_loss: 49.9522\n",
      "client:4 train_acc: 70.46%, train_loss: 66.9739\n",
      "client:1 train_acc: 70.44%, train_loss: 83.5510\n",
      "Test set: Average loss: 2.9647, Accuracy: 1762/10000 (17.62%)\n"
     ]
    },
    {
     "name": "stderr",
     "output_type": "stream",
     "text": [
      "Round65: User2_1: 100%|███████████████████████████████████████████| 100/100 [00:03<00:00, 30.64it/s]\n",
      "Round65: User4_1: 100%|███████████████████████████████████████████| 100/100 [00:03<00:00, 31.80it/s]\n",
      "Round65: User3_1: 100%|███████████████████████████████████████████| 100/100 [00:03<00:00, 31.91it/s]\n",
      "Round65: User1_1: 100%|███████████████████████████████████████████| 100/100 [00:03<00:00, 29.83it/s]\n",
      "Round65: User0_1: 100%|███████████████████████████████████████████| 100/100 [00:03<00:00, 32.24it/s]\n"
     ]
    },
    {
     "name": "stdout",
     "output_type": "stream",
     "text": [
      "client:2 train_acc: 70.70%, train_loss: 16.6423\n",
      "client:4 train_acc: 70.46%, train_loss: 33.4318\n",
      "client:3 train_acc: 70.70%, train_loss: 50.0185\n",
      "client:1 train_acc: 70.64%, train_loss: 66.4899\n",
      "client:0 train_acc: 70.73%, train_loss: 82.9796\n",
      "Test set: Average loss: 2.9791, Accuracy: 1864/10000 (18.64%)\n"
     ]
    },
    {
     "name": "stderr",
     "output_type": "stream",
     "text": [
      "Round66: User0_1: 100%|███████████████████████████████████████████| 100/100 [00:03<00:00, 29.83it/s]\n",
      "Round66: User2_1: 100%|███████████████████████████████████████████| 100/100 [00:03<00:00, 31.38it/s]\n",
      "Round66: User1_1: 100%|███████████████████████████████████████████| 100/100 [00:03<00:00, 31.16it/s]\n",
      "Round66: User4_1: 100%|███████████████████████████████████████████| 100/100 [00:03<00:00, 30.52it/s]\n",
      "Round66: User3_1: 100%|███████████████████████████████████████████| 100/100 [00:03<00:00, 31.34it/s]\n"
     ]
    },
    {
     "name": "stdout",
     "output_type": "stream",
     "text": [
      "client:0 train_acc: 71.35%, train_loss: 16.2278\n",
      "client:2 train_acc: 71.35%, train_loss: 32.5380\n",
      "client:1 train_acc: 71.27%, train_loss: 48.6164\n",
      "client:4 train_acc: 71.15%, train_loss: 65.1079\n",
      "client:3 train_acc: 71.24%, train_loss: 81.3444\n",
      "Test set: Average loss: 2.9647, Accuracy: 1827/10000 (18.27%)\n"
     ]
    },
    {
     "name": "stderr",
     "output_type": "stream",
     "text": [
      "Round67: User4_1: 100%|███████████████████████████████████████████| 100/100 [00:03<00:00, 30.24it/s]\n",
      "Round67: User1_1: 100%|███████████████████████████████████████████| 100/100 [00:03<00:00, 31.71it/s]\n",
      "Round67: User3_1: 100%|███████████████████████████████████████████| 100/100 [00:03<00:00, 31.33it/s]\n",
      "Round67: User0_1: 100%|███████████████████████████████████████████| 100/100 [00:03<00:00, 30.37it/s]\n",
      "Round67: User2_1: 100%|███████████████████████████████████████████| 100/100 [00:03<00:00, 31.06it/s]\n"
     ]
    },
    {
     "name": "stdout",
     "output_type": "stream",
     "text": [
      "client:4 train_acc: 70.99%, train_loss: 16.4165\n",
      "client:1 train_acc: 71.08%, train_loss: 32.5321\n",
      "client:3 train_acc: 71.31%, train_loss: 48.7306\n",
      "client:0 train_acc: 71.31%, train_loss: 64.9353\n",
      "client:2 train_acc: 71.26%, train_loss: 81.2086\n",
      "Test set: Average loss: 2.9726, Accuracy: 1859/10000 (18.59%)\n"
     ]
    },
    {
     "name": "stderr",
     "output_type": "stream",
     "text": [
      "Round68: User1_1: 100%|███████████████████████████████████████████| 100/100 [00:03<00:00, 29.68it/s]\n",
      "Round68: User0_1: 100%|███████████████████████████████████████████| 100/100 [00:03<00:00, 32.48it/s]\n",
      "Round68: User3_1: 100%|███████████████████████████████████████████| 100/100 [00:03<00:00, 31.55it/s]\n",
      "Round68: User2_1: 100%|███████████████████████████████████████████| 100/100 [00:03<00:00, 30.24it/s]\n",
      "Round68: User4_1: 100%|███████████████████████████████████████████| 100/100 [00:03<00:00, 31.72it/s]\n"
     ]
    },
    {
     "name": "stdout",
     "output_type": "stream",
     "text": [
      "client:1 train_acc: 71.04%, train_loss: 16.0764\n",
      "client:0 train_acc: 71.42%, train_loss: 32.2865\n",
      "client:3 train_acc: 71.56%, train_loss: 48.5401\n",
      "client:2 train_acc: 71.55%, train_loss: 64.7960\n",
      "client:4 train_acc: 71.37%, train_loss: 81.2295\n",
      "Test set: Average loss: 2.9072, Accuracy: 1948/10000 (19.48%)\n"
     ]
    },
    {
     "name": "stderr",
     "output_type": "stream",
     "text": [
      "Round69: User0_1: 100%|███████████████████████████████████████████| 100/100 [00:03<00:00, 30.82it/s]\n",
      "Round69: User3_1: 100%|███████████████████████████████████████████| 100/100 [00:03<00:00, 31.92it/s]\n",
      "Round69: User2_1: 100%|███████████████████████████████████████████| 100/100 [00:03<00:00, 30.18it/s]\n",
      "Round69: User4_1: 100%|███████████████████████████████████████████| 100/100 [00:03<00:00, 32.14it/s]\n",
      "Round69: User1_1: 100%|███████████████████████████████████████████| 100/100 [00:03<00:00, 29.85it/s]\n"
     ]
    },
    {
     "name": "stdout",
     "output_type": "stream",
     "text": [
      "client:0 train_acc: 71.98%, train_loss: 15.8206\n",
      "client:3 train_acc: 72.38%, train_loss: 31.5750\n",
      "client:2 train_acc: 72.46%, train_loss: 47.4012\n",
      "client:4 train_acc: 72.20%, train_loss: 63.5159\n",
      "client:1 train_acc: 72.20%, train_loss: 79.2403\n",
      "Test set: Average loss: 2.9851, Accuracy: 1911/10000 (19.11%)\n"
     ]
    },
    {
     "name": "stderr",
     "output_type": "stream",
     "text": [
      "Round70: User1_1: 100%|███████████████████████████████████████████| 100/100 [00:03<00:00, 29.24it/s]\n",
      "Round70: User0_1: 100%|███████████████████████████████████████████| 100/100 [00:03<00:00, 30.75it/s]\n",
      "Round70: User2_1: 100%|███████████████████████████████████████████| 100/100 [00:03<00:00, 32.68it/s]\n",
      "Round70: User3_1: 100%|███████████████████████████████████████████| 100/100 [00:02<00:00, 34.95it/s]\n",
      "Round70: User4_1: 100%|███████████████████████████████████████████| 100/100 [00:02<00:00, 33.39it/s]\n"
     ]
    },
    {
     "name": "stdout",
     "output_type": "stream",
     "text": [
      "client:1 train_acc: 72.16%, train_loss: 15.6678\n",
      "client:0 train_acc: 72.32%, train_loss: 31.4134\n",
      "client:2 train_acc: 72.16%, train_loss: 47.2779\n",
      "client:3 train_acc: 72.26%, train_loss: 63.0756\n",
      "client:4 train_acc: 72.07%, train_loss: 79.1368\n",
      "Test set: Average loss: 2.8734, Accuracy: 1936/10000 (19.36%)\n"
     ]
    },
    {
     "name": "stderr",
     "output_type": "stream",
     "text": [
      "Round71: User0_1: 100%|███████████████████████████████████████████| 100/100 [00:03<00:00, 30.23it/s]\n",
      "Round71: User1_1: 100%|███████████████████████████████████████████| 100/100 [00:03<00:00, 33.08it/s]\n",
      "Round71: User2_1: 100%|███████████████████████████████████████████| 100/100 [00:02<00:00, 33.36it/s]\n",
      "Round71: User4_1: 100%|███████████████████████████████████████████| 100/100 [00:03<00:00, 31.66it/s]\n",
      "Round71: User3_1: 100%|███████████████████████████████████████████| 100/100 [00:03<00:00, 32.33it/s]\n"
     ]
    },
    {
     "name": "stdout",
     "output_type": "stream",
     "text": [
      "client:0 train_acc: 72.73%, train_loss: 15.6229\n",
      "client:1 train_acc: 72.54%, train_loss: 31.1739\n",
      "client:2 train_acc: 72.59%, train_loss: 46.7866\n",
      "client:4 train_acc: 72.38%, train_loss: 62.6516\n",
      "client:3 train_acc: 72.44%, train_loss: 78.2457\n",
      "Test set: Average loss: 3.0383, Accuracy: 1868/10000 (18.68%)\n"
     ]
    },
    {
     "name": "stderr",
     "output_type": "stream",
     "text": [
      "Round72: User0_1: 100%|███████████████████████████████████████████| 100/100 [00:03<00:00, 29.76it/s]\n",
      "Round72: User2_1: 100%|███████████████████████████████████████████| 100/100 [00:03<00:00, 31.17it/s]\n",
      "Round72: User3_1: 100%|███████████████████████████████████████████| 100/100 [00:03<00:00, 29.48it/s]\n",
      "Round72: User1_1: 100%|███████████████████████████████████████████| 100/100 [00:03<00:00, 32.42it/s]\n",
      "Round72: User4_1: 100%|███████████████████████████████████████████| 100/100 [00:03<00:00, 32.34it/s]\n"
     ]
    },
    {
     "name": "stdout",
     "output_type": "stream",
     "text": [
      "client:0 train_acc: 72.32%, train_loss: 15.7104\n",
      "client:2 train_acc: 72.45%, train_loss: 31.4256\n",
      "client:3 train_acc: 72.53%, train_loss: 47.1285\n",
      "client:1 train_acc: 72.41%, train_loss: 62.7572\n",
      "client:4 train_acc: 72.26%, train_loss: 78.7759\n",
      "Test set: Average loss: 2.9620, Accuracy: 1882/10000 (18.82%)\n"
     ]
    },
    {
     "name": "stderr",
     "output_type": "stream",
     "text": [
      "Round73: User0_1: 100%|███████████████████████████████████████████| 100/100 [00:03<00:00, 31.85it/s]\n",
      "Round73: User1_1: 100%|███████████████████████████████████████████| 100/100 [00:03<00:00, 30.37it/s]\n",
      "Round73: User4_1: 100%|███████████████████████████████████████████| 100/100 [00:03<00:00, 29.99it/s]\n",
      "Round73: User3_1: 100%|███████████████████████████████████████████| 100/100 [00:03<00:00, 32.05it/s]\n",
      "Round73: User2_1: 100%|███████████████████████████████████████████| 100/100 [00:03<00:00, 31.77it/s]\n"
     ]
    },
    {
     "name": "stdout",
     "output_type": "stream",
     "text": [
      "client:0 train_acc: 72.79%, train_loss: 15.4422\n",
      "client:1 train_acc: 72.56%, train_loss: 30.7778\n",
      "client:4 train_acc: 72.45%, train_loss: 46.4633\n",
      "client:3 train_acc: 72.61%, train_loss: 61.8989\n",
      "client:2 train_acc: 72.66%, train_loss: 77.3628\n",
      "Test set: Average loss: 3.0252, Accuracy: 1776/10000 (17.76%)\n"
     ]
    },
    {
     "name": "stderr",
     "output_type": "stream",
     "text": [
      "Round74: User3_1: 100%|███████████████████████████████████████████| 100/100 [00:03<00:00, 31.62it/s]\n",
      "Round74: User4_1: 100%|███████████████████████████████████████████| 100/100 [00:03<00:00, 31.74it/s]\n",
      "Round74: User1_1: 100%|███████████████████████████████████████████| 100/100 [00:03<00:00, 30.48it/s]\n",
      "Round74: User0_1: 100%|███████████████████████████████████████████| 100/100 [00:03<00:00, 30.90it/s]\n",
      "Round74: User2_1: 100%|███████████████████████████████████████████| 100/100 [00:03<00:00, 30.63it/s]\n"
     ]
    },
    {
     "name": "stdout",
     "output_type": "stream",
     "text": [
      "client:3 train_acc: 73.27%, train_loss: 15.3667\n",
      "client:4 train_acc: 72.67%, train_loss: 31.0213\n",
      "client:1 train_acc: 72.65%, train_loss: 46.2861\n",
      "client:0 train_acc: 72.82%, train_loss: 61.6764\n",
      "client:2 train_acc: 72.80%, train_loss: 77.1358\n",
      "Test set: Average loss: 2.8912, Accuracy: 1895/10000 (18.95%)\n"
     ]
    },
    {
     "name": "stderr",
     "output_type": "stream",
     "text": [
      "Round75: User4_1: 100%|███████████████████████████████████████████| 100/100 [00:03<00:00, 29.32it/s]\n",
      "Round75: User2_1: 100%|███████████████████████████████████████████| 100/100 [00:03<00:00, 29.81it/s]\n",
      "Round75: User3_1: 100%|███████████████████████████████████████████| 100/100 [00:03<00:00, 29.35it/s]\n",
      "Round75: User0_1: 100%|███████████████████████████████████████████| 100/100 [00:03<00:00, 29.94it/s]\n",
      "Round75: User1_1: 100%|███████████████████████████████████████████| 100/100 [00:03<00:00, 32.22it/s]\n"
     ]
    },
    {
     "name": "stdout",
     "output_type": "stream",
     "text": [
      "client:4 train_acc: 72.77%, train_loss: 15.4595\n",
      "client:2 train_acc: 73.22%, train_loss: 30.6557\n",
      "client:3 train_acc: 73.49%, train_loss: 45.8531\n",
      "client:0 train_acc: 73.42%, train_loss: 61.1175\n",
      "client:1 train_acc: 73.32%, train_loss: 76.2646\n",
      "Test set: Average loss: 3.0390, Accuracy: 1787/10000 (17.87%)\n"
     ]
    },
    {
     "name": "stderr",
     "output_type": "stream",
     "text": [
      "Round76: User4_1: 100%|███████████████████████████████████████████| 100/100 [00:03<00:00, 31.50it/s]\n",
      "Round76: User0_1: 100%|███████████████████████████████████████████| 100/100 [00:03<00:00, 30.93it/s]\n",
      "Round76: User3_1: 100%|███████████████████████████████████████████| 100/100 [00:03<00:00, 32.34it/s]\n",
      "Round76: User2_1: 100%|███████████████████████████████████████████| 100/100 [00:03<00:00, 31.81it/s]\n",
      "Round76: User1_1: 100%|███████████████████████████████████████████| 100/100 [00:03<00:00, 32.03it/s]\n"
     ]
    },
    {
     "name": "stdout",
     "output_type": "stream",
     "text": [
      "client:4 train_acc: 72.12%, train_loss: 15.6755\n",
      "client:0 train_acc: 72.55%, train_loss: 31.1181\n",
      "client:3 train_acc: 72.84%, train_loss: 46.5331\n",
      "client:2 train_acc: 72.91%, train_loss: 61.9484\n",
      "client:1 train_acc: 72.94%, train_loss: 77.1728\n",
      "Test set: Average loss: 2.9498, Accuracy: 1866/10000 (18.66%)\n"
     ]
    },
    {
     "name": "stderr",
     "output_type": "stream",
     "text": [
      "Round77: User4_1: 100%|███████████████████████████████████████████| 100/100 [00:03<00:00, 32.92it/s]\n",
      "Round77: User1_1: 100%|███████████████████████████████████████████| 100/100 [00:03<00:00, 32.31it/s]\n",
      "Round77: User3_1: 100%|███████████████████████████████████████████| 100/100 [00:03<00:00, 29.10it/s]\n",
      "Round77: User2_1: 100%|███████████████████████████████████████████| 100/100 [00:03<00:00, 30.66it/s]\n",
      "Round77: User0_1: 100%|███████████████████████████████████████████| 100/100 [00:03<00:00, 32.27it/s]\n"
     ]
    },
    {
     "name": "stdout",
     "output_type": "stream",
     "text": [
      "client:4 train_acc: 73.20%, train_loss: 15.2798\n",
      "client:1 train_acc: 73.35%, train_loss: 30.2099\n",
      "client:3 train_acc: 73.64%, train_loss: 45.2482\n",
      "client:2 train_acc: 73.72%, train_loss: 60.2717\n",
      "client:0 train_acc: 73.76%, train_loss: 75.2847\n",
      "Test set: Average loss: 2.9481, Accuracy: 1941/10000 (19.41%)\n"
     ]
    },
    {
     "name": "stderr",
     "output_type": "stream",
     "text": [
      "Round78: User3_1: 100%|███████████████████████████████████████████| 100/100 [00:03<00:00, 30.58it/s]\n",
      "Round78: User4_1: 100%|███████████████████████████████████████████| 100/100 [00:03<00:00, 30.65it/s]\n",
      "Round78: User0_1: 100%|███████████████████████████████████████████| 100/100 [00:03<00:00, 32.48it/s]\n",
      "Round78: User2_1: 100%|███████████████████████████████████████████| 100/100 [00:03<00:00, 32.70it/s]\n",
      "Round78: User1_1: 100%|███████████████████████████████████████████| 100/100 [00:03<00:00, 32.06it/s]\n"
     ]
    },
    {
     "name": "stdout",
     "output_type": "stream",
     "text": [
      "client:3 train_acc: 73.96%, train_loss: 15.1204\n",
      "client:4 train_acc: 73.48%, train_loss: 30.3798\n",
      "client:0 train_acc: 73.66%, train_loss: 45.3831\n",
      "client:2 train_acc: 73.59%, train_loss: 60.4940\n",
      "client:1 train_acc: 73.53%, train_loss: 75.3785\n",
      "Test set: Average loss: 2.9278, Accuracy: 2011/10000 (20.11%)\n"
     ]
    },
    {
     "name": "stderr",
     "output_type": "stream",
     "text": [
      "Round79: User0_1: 100%|███████████████████████████████████████████| 100/100 [00:03<00:00, 31.12it/s]\n",
      "Round79: User2_1: 100%|███████████████████████████████████████████| 100/100 [00:03<00:00, 29.71it/s]\n",
      "Round79: User4_1: 100%|███████████████████████████████████████████| 100/100 [00:03<00:00, 30.28it/s]\n",
      "Round79: User1_1: 100%|███████████████████████████████████████████| 100/100 [00:03<00:00, 31.21it/s]\n",
      "Round79: User3_1: 100%|███████████████████████████████████████████| 100/100 [00:03<00:00, 32.20it/s]\n"
     ]
    },
    {
     "name": "stdout",
     "output_type": "stream",
     "text": [
      "client:0 train_acc: 74.55%, train_loss: 14.6631\n",
      "client:2 train_acc: 74.41%, train_loss: 29.3687\n",
      "client:4 train_acc: 74.11%, train_loss: 44.3141\n",
      "client:1 train_acc: 74.04%, train_loss: 58.9143\n",
      "client:3 train_acc: 74.11%, train_loss: 73.6773\n",
      "Test set: Average loss: 3.0121, Accuracy: 1861/10000 (18.61%)\n"
     ]
    },
    {
     "name": "stderr",
     "output_type": "stream",
     "text": [
      "Round80: User4_1: 100%|███████████████████████████████████████████| 100/100 [00:03<00:00, 31.49it/s]\n",
      "Round80: User2_1: 100%|███████████████████████████████████████████| 100/100 [00:03<00:00, 30.06it/s]\n",
      "Round80: User3_1: 100%|███████████████████████████████████████████| 100/100 [00:03<00:00, 27.91it/s]\n",
      "Round80: User0_1: 100%|███████████████████████████████████████████| 100/100 [00:03<00:00, 27.96it/s]\n",
      "Round80: User1_1: 100%|███████████████████████████████████████████| 100/100 [00:03<00:00, 29.09it/s]\n"
     ]
    },
    {
     "name": "stdout",
     "output_type": "stream",
     "text": [
      "client:4 train_acc: 73.77%, train_loss: 14.8907\n",
      "client:2 train_acc: 74.10%, train_loss: 29.5741\n",
      "client:3 train_acc: 74.16%, train_loss: 44.2893\n",
      "client:0 train_acc: 74.27%, train_loss: 58.9293\n",
      "client:1 train_acc: 74.16%, train_loss: 73.4475\n",
      "Test set: Average loss: 3.0226, Accuracy: 1883/10000 (18.83%)\n"
     ]
    },
    {
     "name": "stderr",
     "output_type": "stream",
     "text": [
      "Round81: User0_1: 100%|███████████████████████████████████████████| 100/100 [00:03<00:00, 32.17it/s]\n",
      "Round81: User2_1: 100%|███████████████████████████████████████████| 100/100 [00:03<00:00, 30.09it/s]\n",
      "Round81: User4_1: 100%|███████████████████████████████████████████| 100/100 [00:03<00:00, 30.97it/s]\n",
      "Round81: User3_1: 100%|███████████████████████████████████████████| 100/100 [00:03<00:00, 31.47it/s]\n",
      "Round81: User1_1: 100%|███████████████████████████████████████████| 100/100 [00:03<00:00, 30.18it/s]\n"
     ]
    },
    {
     "name": "stdout",
     "output_type": "stream",
     "text": [
      "client:0 train_acc: 75.13%, train_loss: 14.4433\n",
      "client:2 train_acc: 75.02%, train_loss: 28.8540\n",
      "client:4 train_acc: 74.77%, train_loss: 43.4605\n",
      "client:3 train_acc: 74.89%, train_loss: 57.9086\n",
      "client:1 train_acc: 74.76%, train_loss: 72.2258\n",
      "Test set: Average loss: 2.9412, Accuracy: 1907/10000 (19.07%)\n"
     ]
    },
    {
     "name": "stderr",
     "output_type": "stream",
     "text": [
      "Round82: User0_1: 100%|███████████████████████████████████████████| 100/100 [00:03<00:00, 31.39it/s]\n",
      "Round82: User1_1: 100%|███████████████████████████████████████████| 100/100 [00:02<00:00, 35.12it/s]\n",
      "Round82: User2_1: 100%|███████████████████████████████████████████| 100/100 [00:02<00:00, 33.99it/s]\n",
      "Round82: User3_1: 100%|███████████████████████████████████████████| 100/100 [00:03<00:00, 32.25it/s]\n",
      "Round82: User4_1: 100%|███████████████████████████████████████████| 100/100 [00:03<00:00, 28.34it/s]\n"
     ]
    },
    {
     "name": "stdout",
     "output_type": "stream",
     "text": [
      "client:0 train_acc: 75.16%, train_loss: 14.3281\n",
      "client:1 train_acc: 74.89%, train_loss: 28.5253\n",
      "client:2 train_acc: 74.97%, train_loss: 42.8517\n",
      "client:3 train_acc: 75.03%, train_loss: 57.1849\n",
      "client:4 train_acc: 74.89%, train_loss: 71.7362\n",
      "Test set: Average loss: 3.0597, Accuracy: 1860/10000 (18.60%)\n"
     ]
    },
    {
     "name": "stderr",
     "output_type": "stream",
     "text": [
      "Round83: User3_1: 100%|███████████████████████████████████████████| 100/100 [00:03<00:00, 32.01it/s]\n",
      "Round83: User2_1: 100%|███████████████████████████████████████████| 100/100 [00:03<00:00, 30.20it/s]\n",
      "Round83: User1_1: 100%|███████████████████████████████████████████| 100/100 [00:03<00:00, 30.48it/s]\n",
      "Round83: User4_1: 100%|███████████████████████████████████████████| 100/100 [00:03<00:00, 31.47it/s]\n",
      "Round83: User0_1: 100%|███████████████████████████████████████████| 100/100 [00:03<00:00, 30.99it/s]\n"
     ]
    },
    {
     "name": "stdout",
     "output_type": "stream",
     "text": [
      "client:3 train_acc: 75.46%, train_loss: 14.3216\n",
      "client:2 train_acc: 75.17%, train_loss: 28.6586\n",
      "client:1 train_acc: 75.04%, train_loss: 42.8516\n",
      "client:4 train_acc: 74.89%, train_loss: 57.3974\n",
      "client:0 train_acc: 74.94%, train_loss: 71.7434\n",
      "Test set: Average loss: 3.0086, Accuracy: 1967/10000 (19.67%)\n"
     ]
    },
    {
     "name": "stderr",
     "output_type": "stream",
     "text": [
      "Round84: User4_1: 100%|███████████████████████████████████████████| 100/100 [00:03<00:00, 30.16it/s]\n",
      "Round84: User2_1: 100%|███████████████████████████████████████████| 100/100 [00:03<00:00, 31.28it/s]\n",
      "Round84: User3_1: 100%|███████████████████████████████████████████| 100/100 [00:03<00:00, 31.53it/s]\n",
      "Round84: User1_1: 100%|███████████████████████████████████████████| 100/100 [00:03<00:00, 28.84it/s]\n",
      "Round84: User0_1: 100%|███████████████████████████████████████████| 100/100 [00:03<00:00, 31.70it/s]\n"
     ]
    },
    {
     "name": "stdout",
     "output_type": "stream",
     "text": [
      "client:4 train_acc: 74.75%, train_loss: 14.4258\n",
      "client:2 train_acc: 75.08%, train_loss: 28.6586\n",
      "client:3 train_acc: 75.32%, train_loss: 42.8698\n",
      "client:1 train_acc: 75.22%, train_loss: 56.9454\n",
      "client:0 train_acc: 75.24%, train_loss: 71.1903\n",
      "Test set: Average loss: 2.9047, Accuracy: 1924/10000 (19.24%)\n"
     ]
    },
    {
     "name": "stderr",
     "output_type": "stream",
     "text": [
      "Round85: User1_1: 100%|███████████████████████████████████████████| 100/100 [00:03<00:00, 28.15it/s]\n",
      "Round85: User3_1: 100%|███████████████████████████████████████████| 100/100 [00:03<00:00, 29.63it/s]\n",
      "Round85: User2_1: 100%|███████████████████████████████████████████| 100/100 [00:03<00:00, 31.40it/s]\n",
      "Round85: User0_1: 100%|███████████████████████████████████████████| 100/100 [00:03<00:00, 29.09it/s]\n",
      "Round85: User4_1: 100%|███████████████████████████████████████████| 100/100 [00:03<00:00, 31.12it/s]\n"
     ]
    },
    {
     "name": "stdout",
     "output_type": "stream",
     "text": [
      "client:1 train_acc: 74.48%, train_loss: 14.3594\n",
      "client:3 train_acc: 74.53%, train_loss: 28.7856\n",
      "client:2 train_acc: 74.82%, train_loss: 43.1648\n",
      "client:0 train_acc: 74.80%, train_loss: 57.6034\n",
      "client:4 train_acc: 74.72%, train_loss: 72.2924\n",
      "Test set: Average loss: 3.0783, Accuracy: 1843/10000 (18.43%)\n"
     ]
    },
    {
     "name": "stderr",
     "output_type": "stream",
     "text": [
      "Round86: User2_1: 100%|███████████████████████████████████████████| 100/100 [00:03<00:00, 29.98it/s]\n",
      "Round86: User3_1: 100%|███████████████████████████████████████████| 100/100 [00:03<00:00, 30.63it/s]\n",
      "Round86: User0_1: 100%|███████████████████████████████████████████| 100/100 [00:03<00:00, 30.61it/s]\n",
      "Round86: User1_1: 100%|███████████████████████████████████████████| 100/100 [00:03<00:00, 29.48it/s]\n",
      "Round86: User4_1: 100%|███████████████████████████████████████████| 100/100 [00:03<00:00, 31.09it/s]\n"
     ]
    },
    {
     "name": "stdout",
     "output_type": "stream",
     "text": [
      "client:2 train_acc: 76.03%, train_loss: 13.9181\n",
      "client:3 train_acc: 76.11%, train_loss: 27.8926\n",
      "client:0 train_acc: 76.00%, train_loss: 41.9046\n",
      "client:1 train_acc: 75.80%, train_loss: 55.7767\n",
      "client:4 train_acc: 75.67%, train_loss: 69.9915\n",
      "Test set: Average loss: 2.9562, Accuracy: 2035/10000 (20.35%)\n"
     ]
    },
    {
     "name": "stderr",
     "output_type": "stream",
     "text": [
      "Round87: User0_1: 100%|███████████████████████████████████████████| 100/100 [00:03<00:00, 30.09it/s]\n",
      "Round87: User2_1: 100%|███████████████████████████████████████████| 100/100 [00:03<00:00, 31.19it/s]\n",
      "Round87: User3_1: 100%|███████████████████████████████████████████| 100/100 [00:03<00:00, 31.27it/s]\n",
      "Round87: User4_1: 100%|███████████████████████████████████████████| 100/100 [00:03<00:00, 28.85it/s]\n",
      "Round87: User1_1: 100%|███████████████████████████████████████████| 100/100 [00:03<00:00, 30.01it/s]\n"
     ]
    },
    {
     "name": "stdout",
     "output_type": "stream",
     "text": [
      "client:0 train_acc: 75.81%, train_loss: 14.0265\n",
      "client:2 train_acc: 75.64%, train_loss: 28.0727\n",
      "client:3 train_acc: 75.74%, train_loss: 42.0901\n",
      "client:4 train_acc: 75.55%, train_loss: 56.2575\n",
      "client:1 train_acc: 75.51%, train_loss: 70.1634\n",
      "Test set: Average loss: 3.0168, Accuracy: 2002/10000 (20.02%)\n"
     ]
    },
    {
     "name": "stderr",
     "output_type": "stream",
     "text": [
      "Round88: User1_1: 100%|███████████████████████████████████████████| 100/100 [00:03<00:00, 30.11it/s]\n",
      "Round88: User3_1: 100%|███████████████████████████████████████████| 100/100 [00:03<00:00, 31.25it/s]\n",
      "Round88: User4_1: 100%|███████████████████████████████████████████| 100/100 [00:03<00:00, 30.83it/s]\n",
      "Round88: User2_1: 100%|███████████████████████████████████████████| 100/100 [00:03<00:00, 29.72it/s]\n",
      "Round88: User0_1: 100%|███████████████████████████████████████████| 100/100 [00:03<00:00, 28.68it/s]\n"
     ]
    },
    {
     "name": "stdout",
     "output_type": "stream",
     "text": [
      "client:1 train_acc: 75.06%, train_loss: 13.8413\n",
      "client:3 train_acc: 75.55%, train_loss: 27.7068\n",
      "client:4 train_acc: 75.27%, train_loss: 41.8635\n",
      "client:2 train_acc: 75.35%, train_loss: 55.7717\n",
      "client:0 train_acc: 75.43%, train_loss: 69.7560\n",
      "Test set: Average loss: 3.0324, Accuracy: 1893/10000 (18.93%)\n"
     ]
    },
    {
     "name": "stderr",
     "output_type": "stream",
     "text": [
      "Round89: User4_1: 100%|███████████████████████████████████████████| 100/100 [00:03<00:00, 30.34it/s]\n",
      "Round89: User1_1: 100%|███████████████████████████████████████████| 100/100 [00:03<00:00, 30.91it/s]\n",
      "Round89: User2_1: 100%|███████████████████████████████████████████| 100/100 [00:03<00:00, 28.55it/s]\n",
      "Round89: User3_1: 100%|███████████████████████████████████████████| 100/100 [00:03<00:00, 30.67it/s]\n",
      "Round89: User0_1: 100%|███████████████████████████████████████████| 100/100 [00:03<00:00, 30.69it/s]\n"
     ]
    },
    {
     "name": "stdout",
     "output_type": "stream",
     "text": [
      "client:4 train_acc: 75.40%, train_loss: 14.0058\n",
      "client:1 train_acc: 75.57%, train_loss: 27.6303\n",
      "client:2 train_acc: 75.86%, train_loss: 41.3373\n",
      "client:3 train_acc: 76.09%, train_loss: 55.0809\n",
      "client:0 train_acc: 76.17%, train_loss: 68.8621\n",
      "Test set: Average loss: 2.9106, Accuracy: 1936/10000 (19.36%)\n"
     ]
    },
    {
     "name": "stderr",
     "output_type": "stream",
     "text": [
      "Round90: User3_1: 100%|███████████████████████████████████████████| 100/100 [00:03<00:00, 30.45it/s]\n",
      "Round90: User0_1: 100%|███████████████████████████████████████████| 100/100 [00:03<00:00, 30.59it/s]\n",
      "Round90: User2_1: 100%|███████████████████████████████████████████| 100/100 [00:03<00:00, 30.61it/s]\n",
      "Round90: User1_1: 100%|███████████████████████████████████████████| 100/100 [00:03<00:00, 31.27it/s]\n",
      "Round90: User4_1: 100%|███████████████████████████████████████████| 100/100 [00:03<00:00, 30.03it/s]\n"
     ]
    },
    {
     "name": "stdout",
     "output_type": "stream",
     "text": [
      "client:3 train_acc: 76.84%, train_loss: 13.6789\n",
      "client:0 train_acc: 76.59%, train_loss: 27.4050\n",
      "client:2 train_acc: 76.46%, train_loss: 41.0990\n",
      "client:1 train_acc: 76.35%, train_loss: 54.6720\n",
      "client:4 train_acc: 76.22%, train_loss: 68.6651\n",
      "Test set: Average loss: 3.0318, Accuracy: 2022/10000 (20.22%)\n"
     ]
    },
    {
     "name": "stderr",
     "output_type": "stream",
     "text": [
      "Round91: User2_1: 100%|███████████████████████████████████████████| 100/100 [00:03<00:00, 29.94it/s]\n",
      "Round91: User0_1: 100%|███████████████████████████████████████████| 100/100 [00:03<00:00, 30.75it/s]\n",
      "Round91: User3_1: 100%|███████████████████████████████████████████| 100/100 [00:03<00:00, 30.38it/s]\n",
      "Round91: User1_1: 100%|███████████████████████████████████████████| 100/100 [00:03<00:00, 30.14it/s]\n",
      "Round91: User4_1: 100%|███████████████████████████████████████████| 100/100 [00:03<00:00, 30.87it/s]\n"
     ]
    },
    {
     "name": "stdout",
     "output_type": "stream",
     "text": [
      "client:2 train_acc: 76.17%, train_loss: 13.6974\n",
      "client:0 train_acc: 76.31%, train_loss: 27.4685\n",
      "client:3 train_acc: 76.24%, train_loss: 41.2398\n",
      "client:1 train_acc: 76.15%, train_loss: 54.8696\n",
      "client:4 train_acc: 76.00%, train_loss: 68.8468\n",
      "Test set: Average loss: 2.9681, Accuracy: 1880/10000 (18.80%)\n"
     ]
    },
    {
     "name": "stderr",
     "output_type": "stream",
     "text": [
      "Round92: User4_1: 100%|███████████████████████████████████████████| 100/100 [00:03<00:00, 31.59it/s]\n",
      "Round92: User1_1: 100%|███████████████████████████████████████████| 100/100 [00:03<00:00, 30.19it/s]\n",
      "Round92: User0_1: 100%|███████████████████████████████████████████| 100/100 [00:03<00:00, 29.86it/s]\n",
      "Round92: User2_1: 100%|███████████████████████████████████████████| 100/100 [00:03<00:00, 30.58it/s]\n",
      "Round92: User3_1: 100%|███████████████████████████████████████████| 100/100 [00:03<00:00, 31.05it/s]\n"
     ]
    },
    {
     "name": "stdout",
     "output_type": "stream",
     "text": [
      "client:4 train_acc: 75.94%, train_loss: 13.8050\n",
      "client:1 train_acc: 76.02%, train_loss: 27.3178\n",
      "client:0 train_acc: 76.13%, train_loss: 40.8842\n",
      "client:2 train_acc: 76.10%, train_loss: 54.5241\n",
      "client:3 train_acc: 76.20%, train_loss: 68.1790\n",
      "Test set: Average loss: 3.0218, Accuracy: 1864/10000 (18.64%)\n"
     ]
    },
    {
     "name": "stderr",
     "output_type": "stream",
     "text": [
      "Round93: User3_1: 100%|███████████████████████████████████████████| 100/100 [00:03<00:00, 30.98it/s]\n",
      "Round93: User2_1: 100%|███████████████████████████████████████████| 100/100 [00:03<00:00, 30.38it/s]\n",
      "Round93: User1_1: 100%|███████████████████████████████████████████| 100/100 [00:03<00:00, 31.66it/s]\n",
      "Round93: User4_1: 100%|███████████████████████████████████████████| 100/100 [00:03<00:00, 29.75it/s]\n",
      "Round93: User0_1: 100%|███████████████████████████████████████████| 100/100 [00:03<00:00, 29.55it/s]\n"
     ]
    },
    {
     "name": "stdout",
     "output_type": "stream",
     "text": [
      "client:3 train_acc: 76.95%, train_loss: 13.3154\n",
      "client:2 train_acc: 76.99%, train_loss: 26.5563\n",
      "client:1 train_acc: 76.93%, train_loss: 39.6864\n",
      "client:4 train_acc: 76.81%, train_loss: 53.1958\n",
      "client:0 train_acc: 76.90%, train_loss: 66.4880\n",
      "Test set: Average loss: 2.9115, Accuracy: 2005/10000 (20.05%)\n"
     ]
    },
    {
     "name": "stderr",
     "output_type": "stream",
     "text": [
      "Round94: User1_1: 100%|███████████████████████████████████████████| 100/100 [00:03<00:00, 30.33it/s]\n",
      "Round94: User0_1: 100%|███████████████████████████████████████████| 100/100 [00:03<00:00, 29.70it/s]\n",
      "Round94: User4_1: 100%|███████████████████████████████████████████| 100/100 [00:03<00:00, 31.97it/s]\n",
      "Round94: User2_1: 100%|███████████████████████████████████████████| 100/100 [00:03<00:00, 31.04it/s]\n",
      "Round94: User3_1: 100%|███████████████████████████████████████████| 100/100 [00:03<00:00, 29.42it/s]\n"
     ]
    },
    {
     "name": "stdout",
     "output_type": "stream",
     "text": [
      "client:1 train_acc: 76.64%, train_loss: 13.1439\n",
      "client:0 train_acc: 76.82%, train_loss: 26.3757\n",
      "client:4 train_acc: 76.73%, train_loss: 39.7959\n",
      "client:2 train_acc: 76.87%, train_loss: 52.9814\n",
      "client:3 train_acc: 76.97%, train_loss: 66.2520\n",
      "Test set: Average loss: 3.0984, Accuracy: 1895/10000 (18.95%)\n"
     ]
    },
    {
     "name": "stderr",
     "output_type": "stream",
     "text": [
      "Round95: User2_1: 100%|███████████████████████████████████████████| 100/100 [00:02<00:00, 36.77it/s]\n",
      "Round95: User1_1: 100%|███████████████████████████████████████████| 100/100 [00:03<00:00, 30.41it/s]\n",
      "Round95: User3_1: 100%|███████████████████████████████████████████| 100/100 [00:03<00:00, 30.05it/s]\n",
      "Round95: User4_1: 100%|███████████████████████████████████████████| 100/100 [00:03<00:00, 30.49it/s]\n",
      "Round95: User0_1: 100%|███████████████████████████████████████████| 100/100 [00:03<00:00, 30.84it/s]\n"
     ]
    },
    {
     "name": "stdout",
     "output_type": "stream",
     "text": [
      "client:2 train_acc: 77.16%, train_loss: 13.1897\n",
      "client:1 train_acc: 76.94%, train_loss: 26.2876\n",
      "client:3 train_acc: 77.05%, train_loss: 39.5174\n",
      "client:4 train_acc: 77.00%, train_loss: 52.8650\n",
      "client:0 train_acc: 77.03%, train_loss: 66.0474\n",
      "Test set: Average loss: 3.0794, Accuracy: 1876/10000 (18.76%)\n"
     ]
    },
    {
     "name": "stderr",
     "output_type": "stream",
     "text": [
      "Round96: User0_1: 100%|███████████████████████████████████████████| 100/100 [00:03<00:00, 29.53it/s]\n",
      "Round96: User1_1: 100%|███████████████████████████████████████████| 100/100 [00:03<00:00, 29.12it/s]\n",
      "Round96: User4_1: 100%|███████████████████████████████████████████| 100/100 [00:03<00:00, 29.21it/s]\n",
      "Round96: User3_1: 100%|███████████████████████████████████████████| 100/100 [00:03<00:00, 30.17it/s]\n",
      "Round96: User2_1: 100%|███████████████████████████████████████████| 100/100 [00:03<00:00, 30.03it/s]\n"
     ]
    },
    {
     "name": "stdout",
     "output_type": "stream",
     "text": [
      "client:0 train_acc: 77.51%, train_loss: 13.0657\n",
      "client:1 train_acc: 77.31%, train_loss: 26.0287\n",
      "client:4 train_acc: 77.12%, train_loss: 39.2799\n",
      "client:3 train_acc: 77.23%, train_loss: 52.3596\n",
      "client:2 train_acc: 77.22%, train_loss: 65.5256\n",
      "Test set: Average loss: 3.0154, Accuracy: 1957/10000 (19.57%)\n"
     ]
    },
    {
     "name": "stderr",
     "output_type": "stream",
     "text": [
      "Round97: User2_1: 100%|███████████████████████████████████████████| 100/100 [00:03<00:00, 31.78it/s]\n",
      "Round97: User0_1: 100%|███████████████████████████████████████████| 100/100 [00:03<00:00, 29.54it/s]\n",
      "Round97: User1_1: 100%|███████████████████████████████████████████| 100/100 [00:03<00:00, 30.20it/s]\n",
      "Round97: User3_1: 100%|███████████████████████████████████████████| 100/100 [00:03<00:00, 29.60it/s]\n",
      "Round97: User4_1: 100%|███████████████████████████████████████████| 100/100 [00:03<00:00, 29.58it/s]\n"
     ]
    },
    {
     "name": "stdout",
     "output_type": "stream",
     "text": [
      "client:2 train_acc: 77.75%, train_loss: 12.9507\n",
      "client:0 train_acc: 77.59%, train_loss: 25.9783\n",
      "client:1 train_acc: 77.38%, train_loss: 38.9907\n",
      "client:3 train_acc: 77.53%, train_loss: 52.0428\n",
      "client:4 train_acc: 77.34%, train_loss: 65.3128\n",
      "Test set: Average loss: 3.0667, Accuracy: 1906/10000 (19.06%)\n"
     ]
    },
    {
     "name": "stderr",
     "output_type": "stream",
     "text": [
      "Round98: User0_1: 100%|███████████████████████████████████████████| 100/100 [00:03<00:00, 29.63it/s]\n",
      "Round98: User2_1: 100%|███████████████████████████████████████████| 100/100 [00:03<00:00, 30.99it/s]\n",
      "Round98: User3_1: 100%|███████████████████████████████████████████| 100/100 [00:03<00:00, 30.96it/s]\n",
      "Round98: User1_1: 100%|███████████████████████████████████████████| 100/100 [00:03<00:00, 30.69it/s]\n",
      "Round98: User4_1: 100%|███████████████████████████████████████████| 100/100 [00:03<00:00, 30.64it/s]\n"
     ]
    },
    {
     "name": "stdout",
     "output_type": "stream",
     "text": [
      "client:0 train_acc: 77.21%, train_loss: 13.0444\n",
      "client:2 train_acc: 77.45%, train_loss: 26.0067\n",
      "client:3 train_acc: 77.31%, train_loss: 39.0453\n",
      "client:1 train_acc: 77.25%, train_loss: 51.9953\n",
      "client:4 train_acc: 77.13%, train_loss: 65.2489\n",
      "Test set: Average loss: 3.0632, Accuracy: 1993/10000 (19.93%)\n"
     ]
    },
    {
     "name": "stderr",
     "output_type": "stream",
     "text": [
      "Round99: User3_1: 100%|███████████████████████████████████████████| 100/100 [00:03<00:00, 29.11it/s]\n",
      "Round99: User1_1: 100%|███████████████████████████████████████████| 100/100 [00:03<00:00, 29.95it/s]\n",
      "Round99: User2_1: 100%|███████████████████████████████████████████| 100/100 [00:03<00:00, 29.12it/s]\n",
      "Round99: User0_1: 100%|███████████████████████████████████████████| 100/100 [00:03<00:00, 29.21it/s]\n",
      "Round99: User4_1: 100%|███████████████████████████████████████████| 100/100 [00:03<00:00, 30.41it/s]\n"
     ]
    },
    {
     "name": "stdout",
     "output_type": "stream",
     "text": [
      "client:3 train_acc: 77.77%, train_loss: 12.8805\n",
      "client:1 train_acc: 77.48%, train_loss: 25.6367\n",
      "client:2 train_acc: 77.46%, train_loss: 38.5750\n",
      "client:0 train_acc: 77.58%, train_loss: 51.4469\n",
      "client:4 train_acc: 77.48%, train_loss: 64.4888\n",
      "Test set: Average loss: 3.0798, Accuracy: 1928/10000 (19.28%)\n"
     ]
    },
    {
     "name": "stderr",
     "output_type": "stream",
     "text": [
      "Round100: User3_1: 100%|██████████████████████████████████████████| 100/100 [00:03<00:00, 29.45it/s]\n",
      "Round100: User0_1: 100%|██████████████████████████████████████████| 100/100 [00:03<00:00, 30.31it/s]\n",
      "Round100: User1_1: 100%|██████████████████████████████████████████| 100/100 [00:03<00:00, 30.42it/s]\n",
      "Round100: User2_1: 100%|██████████████████████████████████████████| 100/100 [00:03<00:00, 29.87it/s]\n",
      "Round100: User4_1: 100%|██████████████████████████████████████████| 100/100 [00:03<00:00, 29.23it/s]\n"
     ]
    },
    {
     "name": "stdout",
     "output_type": "stream",
     "text": [
      "client:3 train_acc: 77.95%, train_loss: 12.8504\n",
      "client:0 train_acc: 77.92%, train_loss: 25.6707\n",
      "client:1 train_acc: 77.78%, train_loss: 38.5328\n",
      "client:2 train_acc: 77.85%, train_loss: 51.2970\n",
      "client:4 train_acc: 77.72%, train_loss: 64.3108\n",
      "Test set: Average loss: 3.1813, Accuracy: 1968/10000 (19.68%)\n"
     ]
    },
    {
     "name": "stderr",
     "output_type": "stream",
     "text": [
      "Round101: User1_1: 100%|██████████████████████████████████████████| 100/100 [00:03<00:00, 30.20it/s]\n",
      "Round101: User0_1: 100%|██████████████████████████████████████████| 100/100 [00:03<00:00, 31.17it/s]\n",
      "Round101: User2_1: 100%|██████████████████████████████████████████| 100/100 [00:03<00:00, 29.90it/s]\n",
      "Round101: User3_1: 100%|██████████████████████████████████████████| 100/100 [00:03<00:00, 29.74it/s]\n",
      "Round101: User4_1: 100%|██████████████████████████████████████████| 100/100 [00:03<00:00, 29.81it/s]\n"
     ]
    },
    {
     "name": "stdout",
     "output_type": "stream",
     "text": [
      "client:1 train_acc: 77.84%, train_loss: 12.3820\n",
      "client:0 train_acc: 78.28%, train_loss: 24.8287\n",
      "client:2 train_acc: 78.39%, train_loss: 37.2977\n",
      "client:3 train_acc: 78.48%, train_loss: 49.7814\n",
      "client:4 train_acc: 78.36%, train_loss: 62.4832\n",
      "Test set: Average loss: 3.0342, Accuracy: 2062/10000 (20.62%)\n"
     ]
    },
    {
     "name": "stderr",
     "output_type": "stream",
     "text": [
      "Round102: User0_1: 100%|██████████████████████████████████████████| 100/100 [00:03<00:00, 31.04it/s]\n",
      "Round102: User4_1: 100%|██████████████████████████████████████████| 100/100 [00:03<00:00, 30.34it/s]\n",
      "Round102: User1_1: 100%|██████████████████████████████████████████| 100/100 [00:03<00:00, 29.50it/s]\n",
      "Round102: User2_1: 100%|██████████████████████████████████████████| 100/100 [00:03<00:00, 31.06it/s]\n",
      "Round102: User3_1: 100%|██████████████████████████████████████████| 100/100 [00:03<00:00, 30.36it/s]\n"
     ]
    },
    {
     "name": "stdout",
     "output_type": "stream",
     "text": [
      "client:0 train_acc: 78.77%, train_loss: 12.3889\n",
      "client:4 train_acc: 78.37%, train_loss: 24.9865\n",
      "client:1 train_acc: 78.29%, train_loss: 37.2588\n",
      "client:2 train_acc: 78.33%, train_loss: 49.6962\n",
      "client:3 train_acc: 78.36%, train_loss: 62.1663\n",
      "Test set: Average loss: 2.9644, Accuracy: 2029/10000 (20.29%)\n"
     ]
    },
    {
     "name": "stderr",
     "output_type": "stream",
     "text": [
      "Round103: User1_1: 100%|██████████████████████████████████████████| 100/100 [00:03<00:00, 30.21it/s]\n",
      "Round103: User4_1: 100%|██████████████████████████████████████████| 100/100 [00:03<00:00, 31.14it/s]\n",
      "Round103: User0_1: 100%|██████████████████████████████████████████| 100/100 [00:03<00:00, 29.61it/s]\n",
      "Round103: User3_1: 100%|██████████████████████████████████████████| 100/100 [00:03<00:00, 31.22it/s]\n",
      "Round103: User2_1: 100%|██████████████████████████████████████████| 100/100 [00:03<00:00, 31.77it/s]\n"
     ]
    },
    {
     "name": "stdout",
     "output_type": "stream",
     "text": [
      "client:1 train_acc: 78.31%, train_loss: 12.1893\n",
      "client:4 train_acc: 78.12%, train_loss: 24.6769\n",
      "client:0 train_acc: 78.39%, train_loss: 36.9614\n",
      "client:3 train_acc: 78.47%, train_loss: 49.2688\n",
      "client:2 train_acc: 78.52%, train_loss: 61.5696\n",
      "Test set: Average loss: 3.0769, Accuracy: 2019/10000 (20.19%)\n"
     ]
    },
    {
     "name": "stderr",
     "output_type": "stream",
     "text": [
      "Round104: User0_1: 100%|██████████████████████████████████████████| 100/100 [00:03<00:00, 30.74it/s]\n",
      "Round104: User2_1: 100%|██████████████████████████████████████████| 100/100 [00:03<00:00, 30.70it/s]\n",
      "Round104: User4_1: 100%|██████████████████████████████████████████| 100/100 [00:03<00:00, 29.75it/s]\n",
      "Round104: User3_1: 100%|██████████████████████████████████████████| 100/100 [00:03<00:00, 29.96it/s]\n",
      "Round104: User1_1: 100%|██████████████████████████████████████████| 100/100 [00:03<00:00, 30.50it/s]\n"
     ]
    },
    {
     "name": "stdout",
     "output_type": "stream",
     "text": [
      "client:0 train_acc: 79.03%, train_loss: 12.3085\n",
      "client:2 train_acc: 78.77%, train_loss: 24.6165\n",
      "client:4 train_acc: 78.63%, train_loss: 37.1085\n",
      "client:3 train_acc: 78.67%, train_loss: 49.4449\n",
      "client:1 train_acc: 78.57%, train_loss: 61.6901\n",
      "Test set: Average loss: 3.0039, Accuracy: 1981/10000 (19.81%)\n"
     ]
    },
    {
     "name": "stderr",
     "output_type": "stream",
     "text": [
      "Round105: User2_1: 100%|██████████████████████████████████████████| 100/100 [00:03<00:00, 32.15it/s]\n",
      "Round105: User3_1: 100%|██████████████████████████████████████████| 100/100 [00:03<00:00, 31.23it/s]\n",
      "Round105: User1_1: 100%|██████████████████████████████████████████| 100/100 [00:03<00:00, 29.59it/s]\n",
      "Round105: User4_1: 100%|██████████████████████████████████████████| 100/100 [00:03<00:00, 30.26it/s]\n",
      "Round105: User0_1: 100%|██████████████████████████████████████████| 100/100 [00:03<00:00, 31.31it/s]\n"
     ]
    },
    {
     "name": "stdout",
     "output_type": "stream",
     "text": [
      "client:2 train_acc: 78.49%, train_loss: 12.4470\n",
      "client:3 train_acc: 78.46%, train_loss: 24.8379\n",
      "client:1 train_acc: 78.43%, train_loss: 37.1008\n",
      "client:4 train_acc: 78.42%, train_loss: 49.6459\n",
      "client:0 train_acc: 78.51%, train_loss: 62.0951\n",
      "Test set: Average loss: 2.9472, Accuracy: 2053/10000 (20.53%)\n"
     ]
    },
    {
     "name": "stderr",
     "output_type": "stream",
     "text": [
      "Round106: User3_1: 100%|██████████████████████████████████████████| 100/100 [00:03<00:00, 30.77it/s]\n",
      "Round106: User1_1: 100%|██████████████████████████████████████████| 100/100 [00:03<00:00, 30.25it/s]\n",
      "Round106: User2_1: 100%|██████████████████████████████████████████| 100/100 [00:03<00:00, 28.80it/s]\n",
      "Round106: User0_1: 100%|██████████████████████████████████████████| 100/100 [00:03<00:00, 29.05it/s]\n",
      "Round106: User4_1: 100%|██████████████████████████████████████████| 100/100 [00:03<00:00, 29.93it/s]\n"
     ]
    },
    {
     "name": "stdout",
     "output_type": "stream",
     "text": [
      "client:3 train_acc: 78.87%, train_loss: 12.2575\n",
      "client:1 train_acc: 78.71%, train_loss: 24.3617\n",
      "client:2 train_acc: 78.54%, train_loss: 36.6676\n",
      "client:0 train_acc: 78.61%, train_loss: 48.8183\n",
      "client:4 train_acc: 78.61%, train_loss: 61.1971\n",
      "Test set: Average loss: 2.9627, Accuracy: 2036/10000 (20.36%)\n"
     ]
    },
    {
     "name": "stderr",
     "output_type": "stream",
     "text": [
      "Round107: User0_1: 100%|██████████████████████████████████████████| 100/100 [00:03<00:00, 28.98it/s]\n",
      "Round107: User2_1: 100%|██████████████████████████████████████████| 100/100 [00:03<00:00, 27.08it/s]\n",
      "Round107: User1_1: 100%|██████████████████████████████████████████| 100/100 [00:03<00:00, 28.34it/s]\n",
      "Round107: User3_1: 100%|██████████████████████████████████████████| 100/100 [00:03<00:00, 27.24it/s]\n",
      "Round107: User4_1: 100%|██████████████████████████████████████████| 100/100 [00:03<00:00, 28.38it/s]\n"
     ]
    },
    {
     "name": "stdout",
     "output_type": "stream",
     "text": [
      "client:0 train_acc: 79.27%, train_loss: 12.0436\n",
      "client:2 train_acc: 79.12%, train_loss: 24.1465\n",
      "client:1 train_acc: 79.11%, train_loss: 36.1728\n",
      "client:3 train_acc: 79.16%, train_loss: 48.2344\n",
      "client:4 train_acc: 79.05%, train_loss: 60.4423\n",
      "Test set: Average loss: 3.0982, Accuracy: 2013/10000 (20.13%)\n"
     ]
    },
    {
     "name": "stderr",
     "output_type": "stream",
     "text": [
      "Round108: User2_1: 100%|██████████████████████████████████████████| 100/100 [00:03<00:00, 28.79it/s]\n",
      "Round108: User1_1: 100%|██████████████████████████████████████████| 100/100 [00:03<00:00, 29.88it/s]\n",
      "Round108: User0_1: 100%|██████████████████████████████████████████| 100/100 [00:03<00:00, 29.85it/s]\n",
      "Round108: User3_1: 100%|██████████████████████████████████████████| 100/100 [00:03<00:00, 27.99it/s]\n",
      "Round108: User4_1: 100%|██████████████████████████████████████████| 100/100 [00:03<00:00, 29.77it/s]\n"
     ]
    },
    {
     "name": "stdout",
     "output_type": "stream",
     "text": [
      "client:2 train_acc: 78.92%, train_loss: 12.0979\n",
      "client:1 train_acc: 78.80%, train_loss: 24.0377\n",
      "client:0 train_acc: 78.97%, train_loss: 36.0059\n",
      "client:3 train_acc: 79.07%, train_loss: 48.0435\n",
      "client:4 train_acc: 79.00%, train_loss: 60.2262\n",
      "Test set: Average loss: 2.9610, Accuracy: 2070/10000 (20.70%)\n"
     ]
    },
    {
     "name": "stderr",
     "output_type": "stream",
     "text": [
      "Round109: User2_1: 100%|██████████████████████████████████████████| 100/100 [00:03<00:00, 29.10it/s]\n",
      "Round109: User0_1: 100%|██████████████████████████████████████████| 100/100 [00:03<00:00, 28.99it/s]\n",
      "Round109: User3_1: 100%|██████████████████████████████████████████| 100/100 [00:03<00:00, 30.09it/s]\n",
      "Round109: User1_1: 100%|██████████████████████████████████████████| 100/100 [00:03<00:00, 28.16it/s]\n",
      "Round109: User4_1: 100%|██████████████████████████████████████████| 100/100 [00:03<00:00, 30.01it/s]\n"
     ]
    },
    {
     "name": "stdout",
     "output_type": "stream",
     "text": [
      "client:2 train_acc: 78.92%, train_loss: 12.0123\n",
      "client:0 train_acc: 78.91%, train_loss: 24.0226\n",
      "client:3 train_acc: 79.00%, train_loss: 35.9674\n",
      "client:1 train_acc: 78.91%, train_loss: 47.9344\n",
      "client:4 train_acc: 78.79%, train_loss: 60.1493\n",
      "Test set: Average loss: 3.0778, Accuracy: 1947/10000 (19.47%)\n"
     ]
    },
    {
     "name": "stderr",
     "output_type": "stream",
     "text": [
      "Round110: User4_1: 100%|██████████████████████████████████████████| 100/100 [00:03<00:00, 28.26it/s]\n",
      "Round110: User3_1: 100%|██████████████████████████████████████████| 100/100 [00:03<00:00, 28.56it/s]\n",
      "Round110: User2_1: 100%|██████████████████████████████████████████| 100/100 [00:03<00:00, 27.65it/s]\n",
      "Round110: User0_1: 100%|██████████████████████████████████████████| 100/100 [00:03<00:00, 28.91it/s]\n",
      "Round110: User1_1: 100%|██████████████████████████████████████████| 100/100 [00:03<00:00, 27.03it/s]\n"
     ]
    },
    {
     "name": "stdout",
     "output_type": "stream",
     "text": [
      "client:4 train_acc: 78.54%, train_loss: 12.2732\n",
      "client:3 train_acc: 78.62%, train_loss: 24.3955\n",
      "client:2 train_acc: 78.68%, train_loss: 36.4484\n",
      "client:0 train_acc: 78.79%, train_loss: 48.4301\n",
      "client:1 train_acc: 78.78%, train_loss: 60.3723\n",
      "Test set: Average loss: 3.0431, Accuracy: 2049/10000 (20.49%)\n"
     ]
    },
    {
     "name": "stderr",
     "output_type": "stream",
     "text": [
      "Round111: User0_1: 100%|██████████████████████████████████████████| 100/100 [00:03<00:00, 29.41it/s]\n",
      "Round111: User3_1: 100%|██████████████████████████████████████████| 100/100 [00:03<00:00, 27.22it/s]\n",
      "Round111: User2_1: 100%|██████████████████████████████████████████| 100/100 [00:03<00:00, 28.64it/s]\n",
      "Round111: User4_1: 100%|██████████████████████████████████████████| 100/100 [00:03<00:00, 30.08it/s]\n",
      "Round111: User1_1: 100%|██████████████████████████████████████████| 100/100 [00:03<00:00, 29.68it/s]\n"
     ]
    },
    {
     "name": "stdout",
     "output_type": "stream",
     "text": [
      "client:0 train_acc: 79.91%, train_loss: 11.6101\n",
      "client:3 train_acc: 80.00%, train_loss: 23.1889\n",
      "client:2 train_acc: 79.76%, train_loss: 34.8877\n",
      "client:4 train_acc: 79.66%, train_loss: 46.6145\n",
      "client:1 train_acc: 79.61%, train_loss: 58.2197\n",
      "Test set: Average loss: 3.0990, Accuracy: 2063/10000 (20.63%)\n"
     ]
    },
    {
     "name": "stderr",
     "output_type": "stream",
     "text": [
      "Round112: User3_1: 100%|██████████████████████████████████████████| 100/100 [00:03<00:00, 29.99it/s]\n",
      "Round112: User2_1: 100%|██████████████████████████████████████████| 100/100 [00:03<00:00, 28.25it/s]\n",
      "Round112: User1_1: 100%|██████████████████████████████████████████| 100/100 [00:03<00:00, 28.27it/s]\n",
      "Round112: User0_1: 100%|██████████████████████████████████████████| 100/100 [00:03<00:00, 28.89it/s]\n",
      "Round112: User4_1: 100%|██████████████████████████████████████████| 100/100 [00:03<00:00, 28.83it/s]\n"
     ]
    },
    {
     "name": "stdout",
     "output_type": "stream",
     "text": [
      "client:3 train_acc: 79.63%, train_loss: 11.8455\n",
      "client:2 train_acc: 79.39%, train_loss: 23.7910\n",
      "client:1 train_acc: 79.27%, train_loss: 35.5390\n",
      "client:0 train_acc: 79.22%, train_loss: 47.3937\n",
      "client:4 train_acc: 79.20%, train_loss: 59.4067\n",
      "Test set: Average loss: 3.0217, Accuracy: 2005/10000 (20.05%)\n"
     ]
    },
    {
     "name": "stderr",
     "output_type": "stream",
     "text": [
      "Round113: User1_1: 100%|██████████████████████████████████████████| 100/100 [00:03<00:00, 28.70it/s]\n",
      "Round113: User3_1: 100%|██████████████████████████████████████████| 100/100 [00:03<00:00, 29.01it/s]\n",
      "Round113: User4_1: 100%|██████████████████████████████████████████| 100/100 [00:03<00:00, 28.84it/s]\n",
      "Round113: User2_1: 100%|██████████████████████████████████████████| 100/100 [00:03<00:00, 29.77it/s]\n",
      "Round113: User0_1: 100%|██████████████████████████████████████████| 100/100 [00:03<00:00, 29.64it/s]\n"
     ]
    },
    {
     "name": "stdout",
     "output_type": "stream",
     "text": [
      "client:1 train_acc: 79.71%, train_loss: 11.4117\n",
      "client:3 train_acc: 79.98%, train_loss: 22.9167\n",
      "client:4 train_acc: 79.95%, train_loss: 34.5125\n",
      "client:2 train_acc: 79.91%, train_loss: 46.0550\n",
      "client:0 train_acc: 79.99%, train_loss: 57.5252\n",
      "Test set: Average loss: 3.0764, Accuracy: 2069/10000 (20.69%)\n"
     ]
    },
    {
     "name": "stderr",
     "output_type": "stream",
     "text": [
      "Round114: User4_1: 100%|██████████████████████████████████████████| 100/100 [00:03<00:00, 28.90it/s]\n",
      "Round114: User0_1: 100%|██████████████████████████████████████████| 100/100 [00:03<00:00, 29.44it/s]\n",
      "Round114: User1_1: 100%|██████████████████████████████████████████| 100/100 [00:03<00:00, 29.75it/s]\n",
      "Round114: User2_1: 100%|██████████████████████████████████████████| 100/100 [00:03<00:00, 29.20it/s]\n",
      "Round114: User3_1: 100%|██████████████████████████████████████████| 100/100 [00:03<00:00, 30.55it/s]\n"
     ]
    },
    {
     "name": "stdout",
     "output_type": "stream",
     "text": [
      "client:4 train_acc: 79.56%, train_loss: 11.6691\n",
      "client:0 train_acc: 79.92%, train_loss: 23.1362\n",
      "client:1 train_acc: 79.87%, train_loss: 34.5645\n",
      "client:2 train_acc: 79.82%, train_loss: 46.1643\n",
      "client:3 train_acc: 79.85%, train_loss: 57.6900\n",
      "Test set: Average loss: 3.0107, Accuracy: 1997/10000 (19.97%)\n"
     ]
    },
    {
     "name": "stderr",
     "output_type": "stream",
     "text": [
      "Round115: User1_1: 100%|██████████████████████████████████████████| 100/100 [00:03<00:00, 28.93it/s]\n",
      "Round115: User4_1: 100%|██████████████████████████████████████████| 100/100 [00:03<00:00, 30.13it/s]\n",
      "Round115: User2_1: 100%|██████████████████████████████████████████| 100/100 [00:03<00:00, 29.14it/s]\n",
      "Round115: User0_1: 100%|██████████████████████████████████████████| 100/100 [00:02<00:00, 34.54it/s]\n",
      "Round115: User3_1: 100%|██████████████████████████████████████████| 100/100 [00:03<00:00, 29.92it/s]\n"
     ]
    },
    {
     "name": "stdout",
     "output_type": "stream",
     "text": [
      "client:1 train_acc: 79.52%, train_loss: 11.5136\n",
      "client:4 train_acc: 79.61%, train_loss: 23.2195\n",
      "client:2 train_acc: 79.65%, train_loss: 34.8908\n",
      "client:0 train_acc: 79.74%, train_loss: 46.3968\n",
      "client:3 train_acc: 79.76%, train_loss: 57.8948\n",
      "Test set: Average loss: 3.3031, Accuracy: 1988/10000 (19.88%)\n"
     ]
    },
    {
     "name": "stderr",
     "output_type": "stream",
     "text": [
      "Round116: User2_1: 100%|██████████████████████████████████████████| 100/100 [00:03<00:00, 29.03it/s]\n",
      "Round116: User0_1: 100%|██████████████████████████████████████████| 100/100 [00:03<00:00, 30.51it/s]\n",
      "Round116: User3_1: 100%|██████████████████████████████████████████| 100/100 [00:03<00:00, 28.89it/s]\n",
      "Round116: User1_1: 100%|██████████████████████████████████████████| 100/100 [00:03<00:00, 29.85it/s]\n",
      "Round116: User4_1: 100%|██████████████████████████████████████████| 100/100 [00:03<00:00, 29.54it/s]\n"
     ]
    },
    {
     "name": "stdout",
     "output_type": "stream",
     "text": [
      "client:2 train_acc: 80.86%, train_loss: 11.2784\n",
      "client:0 train_acc: 80.78%, train_loss: 22.5182\n",
      "client:3 train_acc: 80.79%, train_loss: 33.7902\n",
      "client:1 train_acc: 80.67%, train_loss: 45.0470\n",
      "client:4 train_acc: 80.52%, train_loss: 56.5556\n",
      "Test set: Average loss: 3.2003, Accuracy: 1936/10000 (19.36%)\n"
     ]
    },
    {
     "name": "stderr",
     "output_type": "stream",
     "text": [
      "Round117: User4_1: 100%|██████████████████████████████████████████| 100/100 [00:03<00:00, 30.44it/s]\n",
      "Round117: User0_1: 100%|██████████████████████████████████████████| 100/100 [00:03<00:00, 30.36it/s]\n",
      "Round117: User3_1: 100%|██████████████████████████████████████████| 100/100 [00:03<00:00, 28.09it/s]\n",
      "Round117: User1_1: 100%|██████████████████████████████████████████| 100/100 [00:03<00:00, 29.43it/s]\n",
      "Round117: User2_1: 100%|██████████████████████████████████████████| 100/100 [00:03<00:00, 29.62it/s]\n"
     ]
    },
    {
     "name": "stdout",
     "output_type": "stream",
     "text": [
      "client:4 train_acc: 80.43%, train_loss: 11.3505\n",
      "client:0 train_acc: 80.78%, train_loss: 22.5071\n",
      "client:3 train_acc: 80.79%, train_loss: 33.6876\n",
      "client:1 train_acc: 80.67%, train_loss: 44.8420\n",
      "client:2 train_acc: 80.69%, train_loss: 56.0393\n",
      "Test set: Average loss: 3.0785, Accuracy: 1980/10000 (19.80%)\n"
     ]
    },
    {
     "name": "stderr",
     "output_type": "stream",
     "text": [
      "Round118: User1_1: 100%|██████████████████████████████████████████| 100/100 [00:03<00:00, 28.80it/s]\n",
      "Round118: User4_1: 100%|██████████████████████████████████████████| 100/100 [00:03<00:00, 27.89it/s]\n",
      "Round118: User0_1: 100%|██████████████████████████████████████████| 100/100 [00:03<00:00, 29.75it/s]\n",
      "Round118: User2_1: 100%|██████████████████████████████████████████| 100/100 [00:03<00:00, 30.14it/s]\n",
      "Round118: User3_1: 100%|██████████████████████████████████████████| 100/100 [00:03<00:00, 28.04it/s]\n"
     ]
    },
    {
     "name": "stdout",
     "output_type": "stream",
     "text": [
      "client:1 train_acc: 79.98%, train_loss: 11.1120\n",
      "client:4 train_acc: 80.25%, train_loss: 22.4643\n",
      "client:0 train_acc: 80.39%, train_loss: 33.6686\n",
      "client:2 train_acc: 80.35%, train_loss: 44.9747\n",
      "client:3 train_acc: 80.32%, train_loss: 56.3036\n",
      "Test set: Average loss: 2.9662, Accuracy: 2072/10000 (20.72%)\n"
     ]
    },
    {
     "name": "stderr",
     "output_type": "stream",
     "text": [
      "Round119: User3_1: 100%|██████████████████████████████████████████| 100/100 [00:03<00:00, 28.30it/s]\n",
      "Round119: User4_1: 100%|██████████████████████████████████████████| 100/100 [00:03<00:00, 29.53it/s]\n",
      "Round119: User1_1: 100%|██████████████████████████████████████████| 100/100 [00:03<00:00, 29.55it/s]\n",
      "Round119: User2_1: 100%|██████████████████████████████████████████| 100/100 [00:03<00:00, 30.35it/s]\n",
      "Round119: User0_1: 100%|██████████████████████████████████████████| 100/100 [00:03<00:00, 29.40it/s]\n"
     ]
    },
    {
     "name": "stdout",
     "output_type": "stream",
     "text": [
      "client:3 train_acc: 81.19%, train_loss: 10.9331\n",
      "client:4 train_acc: 81.05%, train_loss: 22.0106\n",
      "client:1 train_acc: 80.91%, train_loss: 32.8213\n",
      "client:2 train_acc: 80.83%, train_loss: 43.8439\n",
      "client:0 train_acc: 80.84%, train_loss: 54.7653\n",
      "Test set: Average loss: 3.0998, Accuracy: 2098/10000 (20.98%)\n"
     ]
    },
    {
     "name": "stderr",
     "output_type": "stream",
     "text": [
      "Round120: User1_1: 100%|██████████████████████████████████████████| 100/100 [00:03<00:00, 29.15it/s]\n",
      "Round120: User0_1: 100%|██████████████████████████████████████████| 100/100 [00:03<00:00, 29.25it/s]\n",
      "Round120: User4_1: 100%|██████████████████████████████████████████| 100/100 [00:03<00:00, 29.00it/s]\n",
      "Round120: User2_1: 100%|██████████████████████████████████████████| 100/100 [00:03<00:00, 28.50it/s]\n",
      "Round120: User3_1: 100%|██████████████████████████████████████████| 100/100 [00:03<00:00, 30.54it/s]\n"
     ]
    },
    {
     "name": "stdout",
     "output_type": "stream",
     "text": [
      "client:1 train_acc: 81.17%, train_loss: 10.7647\n",
      "client:0 train_acc: 81.49%, train_loss: 21.4889\n",
      "client:4 train_acc: 81.35%, train_loss: 32.3995\n",
      "client:2 train_acc: 81.36%, train_loss: 43.2020\n",
      "client:3 train_acc: 81.38%, train_loss: 53.9160\n",
      "Test set: Average loss: 3.1073, Accuracy: 2074/10000 (20.74%)\n"
     ]
    },
    {
     "name": "stderr",
     "output_type": "stream",
     "text": [
      "Round121: User0_1: 100%|██████████████████████████████████████████| 100/100 [00:03<00:00, 28.74it/s]\n",
      "Round121: User3_1: 100%|██████████████████████████████████████████| 100/100 [00:03<00:00, 30.39it/s]\n",
      "Round121: User4_1: 100%|██████████████████████████████████████████| 100/100 [00:03<00:00, 30.14it/s]\n",
      "Round121: User1_1: 100%|██████████████████████████████████████████| 100/100 [00:03<00:00, 29.72it/s]\n",
      "Round121: User2_1: 100%|██████████████████████████████████████████| 100/100 [00:03<00:00, 29.99it/s]\n"
     ]
    },
    {
     "name": "stdout",
     "output_type": "stream",
     "text": [
      "client:0 train_acc: 81.38%, train_loss: 10.7293\n",
      "client:3 train_acc: 81.44%, train_loss: 21.4733\n",
      "client:4 train_acc: 81.30%, train_loss: 32.4413\n",
      "client:1 train_acc: 81.26%, train_loss: 43.2152\n",
      "client:2 train_acc: 81.27%, train_loss: 54.0204\n",
      "Test set: Average loss: 3.1779, Accuracy: 2043/10000 (20.43%)\n"
     ]
    },
    {
     "name": "stderr",
     "output_type": "stream",
     "text": [
      "Round122: User0_1: 100%|██████████████████████████████████████████| 100/100 [00:03<00:00, 28.03it/s]\n",
      "Round122: User3_1: 100%|██████████████████████████████████████████| 100/100 [00:03<00:00, 28.62it/s]\n",
      "Round122: User2_1: 100%|██████████████████████████████████████████| 100/100 [00:03<00:00, 28.78it/s]\n",
      "Round122: User1_1: 100%|██████████████████████████████████████████| 100/100 [00:03<00:00, 31.02it/s]\n",
      "Round122: User4_1: 100%|██████████████████████████████████████████| 100/100 [00:03<00:00, 30.63it/s]\n"
     ]
    },
    {
     "name": "stdout",
     "output_type": "stream",
     "text": [
      "client:0 train_acc: 82.23%, train_loss: 10.5708\n",
      "client:3 train_acc: 82.20%, train_loss: 21.2032\n",
      "client:2 train_acc: 81.91%, train_loss: 31.8696\n",
      "client:1 train_acc: 81.83%, train_loss: 42.4021\n",
      "client:4 train_acc: 81.79%, train_loss: 53.1462\n",
      "Test set: Average loss: 3.0925, Accuracy: 2162/10000 (21.62%)\n"
     ]
    },
    {
     "name": "stderr",
     "output_type": "stream",
     "text": [
      "Round123: User3_1: 100%|██████████████████████████████████████████| 100/100 [00:03<00:00, 30.47it/s]\n",
      "Round123: User0_1: 100%|██████████████████████████████████████████| 100/100 [00:03<00:00, 29.02it/s]\n",
      "Round123: User2_1: 100%|██████████████████████████████████████████| 100/100 [00:03<00:00, 29.25it/s]\n",
      "Round123: User4_1: 100%|██████████████████████████████████████████| 100/100 [00:03<00:00, 30.30it/s]\n",
      "Round123: User1_1: 100%|██████████████████████████████████████████| 100/100 [00:03<00:00, 29.25it/s]\n"
     ]
    },
    {
     "name": "stdout",
     "output_type": "stream",
     "text": [
      "client:3 train_acc: 81.32%, train_loss: 10.7801\n",
      "client:0 train_acc: 81.45%, train_loss: 21.4880\n",
      "client:2 train_acc: 81.26%, train_loss: 32.2848\n",
      "client:4 train_acc: 81.30%, train_loss: 43.0771\n",
      "client:1 train_acc: 81.27%, train_loss: 53.7255\n",
      "Test set: Average loss: 3.0667, Accuracy: 2149/10000 (21.49%)\n"
     ]
    },
    {
     "name": "stderr",
     "output_type": "stream",
     "text": [
      "Round124: User0_1: 100%|██████████████████████████████████████████| 100/100 [00:03<00:00, 29.71it/s]\n",
      "Round124: User2_1: 100%|██████████████████████████████████████████| 100/100 [00:03<00:00, 28.88it/s]\n",
      "Round124: User3_1: 100%|██████████████████████████████████████████| 100/100 [00:03<00:00, 31.08it/s]\n",
      "Round124: User1_1: 100%|██████████████████████████████████████████| 100/100 [00:03<00:00, 30.72it/s]\n",
      "Round124: User4_1: 100%|██████████████████████████████████████████| 100/100 [00:03<00:00, 29.69it/s]\n"
     ]
    },
    {
     "name": "stdout",
     "output_type": "stream",
     "text": [
      "client:0 train_acc: 82.02%, train_loss: 10.5135\n",
      "client:2 train_acc: 81.72%, train_loss: 21.0947\n",
      "client:3 train_acc: 81.83%, train_loss: 31.6401\n",
      "client:1 train_acc: 81.77%, train_loss: 42.1273\n",
      "client:4 train_acc: 81.62%, train_loss: 52.9352\n",
      "Test set: Average loss: 3.0903, Accuracy: 1976/10000 (19.76%)\n"
     ]
    },
    {
     "name": "stderr",
     "output_type": "stream",
     "text": [
      "Round125: User1_1: 100%|██████████████████████████████████████████| 100/100 [00:03<00:00, 30.31it/s]\n",
      "Round125: User0_1: 100%|██████████████████████████████████████████| 100/100 [00:03<00:00, 29.74it/s]\n",
      "Round125: User4_1: 100%|██████████████████████████████████████████| 100/100 [00:03<00:00, 31.75it/s]\n",
      "Round125: User3_1: 100%|██████████████████████████████████████████| 100/100 [00:03<00:00, 29.69it/s]\n",
      "Round125: User2_1: 100%|██████████████████████████████████████████| 100/100 [00:03<00:00, 28.36it/s]\n"
     ]
    },
    {
     "name": "stdout",
     "output_type": "stream",
     "text": [
      "client:1 train_acc: 81.87%, train_loss: 10.4271\n",
      "client:0 train_acc: 82.14%, train_loss: 20.7803\n",
      "client:4 train_acc: 81.96%, train_loss: 31.3630\n",
      "client:3 train_acc: 82.04%, train_loss: 41.7137\n",
      "client:2 train_acc: 82.03%, train_loss: 52.1840\n",
      "Test set: Average loss: 3.2374, Accuracy: 2075/10000 (20.75%)\n"
     ]
    },
    {
     "name": "stderr",
     "output_type": "stream",
     "text": [
      "Round126: User4_1: 100%|██████████████████████████████████████████| 100/100 [00:03<00:00, 28.52it/s]\n",
      "Round126: User0_1: 100%|██████████████████████████████████████████| 100/100 [00:03<00:00, 30.21it/s]\n",
      "Round126: User2_1: 100%|██████████████████████████████████████████| 100/100 [00:03<00:00, 28.97it/s]\n",
      "Round126: User3_1: 100%|██████████████████████████████████████████| 100/100 [00:03<00:00, 27.41it/s]\n",
      "Round126: User1_1: 100%|██████████████████████████████████████████| 100/100 [00:03<00:00, 27.67it/s]\n"
     ]
    },
    {
     "name": "stdout",
     "output_type": "stream",
     "text": [
      "client:4 train_acc: 81.42%, train_loss: 10.5749\n",
      "client:0 train_acc: 81.92%, train_loss: 20.9784\n",
      "client:2 train_acc: 81.83%, train_loss: 31.4257\n",
      "client:3 train_acc: 81.86%, train_loss: 41.8236\n",
      "client:1 train_acc: 81.84%, train_loss: 52.1667\n",
      "Test set: Average loss: 3.0949, Accuracy: 2032/10000 (20.32%)\n"
     ]
    },
    {
     "name": "stderr",
     "output_type": "stream",
     "text": [
      "Round127: User3_1: 100%|██████████████████████████████████████████| 100/100 [00:03<00:00, 28.74it/s]\n",
      "Round127: User1_1: 100%|██████████████████████████████████████████| 100/100 [00:03<00:00, 28.48it/s]\n",
      "Round127: User4_1: 100%|██████████████████████████████████████████| 100/100 [00:03<00:00, 29.06it/s]\n",
      "Round127: User2_1: 100%|██████████████████████████████████████████| 100/100 [00:03<00:00, 28.46it/s]\n",
      "Round127: User0_1: 100%|██████████████████████████████████████████| 100/100 [00:03<00:00, 30.19it/s]\n"
     ]
    },
    {
     "name": "stdout",
     "output_type": "stream",
     "text": [
      "client:3 train_acc: 82.51%, train_loss: 10.2080\n",
      "client:1 train_acc: 82.35%, train_loss: 20.3884\n",
      "client:4 train_acc: 82.34%, train_loss: 30.7595\n",
      "client:2 train_acc: 82.30%, train_loss: 41.0139\n",
      "client:0 train_acc: 82.42%, train_loss: 51.2373\n",
      "Test set: Average loss: 3.1182, Accuracy: 2086/10000 (20.86%)\n"
     ]
    },
    {
     "name": "stderr",
     "output_type": "stream",
     "text": [
      "Round128: User0_1: 100%|██████████████████████████████████████████| 100/100 [00:03<00:00, 30.28it/s]\n",
      "Round128: User1_1: 100%|██████████████████████████████████████████| 100/100 [00:03<00:00, 30.78it/s]\n",
      "Round128: User2_1: 100%|██████████████████████████████████████████| 100/100 [00:03<00:00, 29.07it/s]\n",
      "Round128: User3_1: 100%|██████████████████████████████████████████| 100/100 [00:03<00:00, 29.32it/s]\n",
      "Round128: User4_1: 100%|██████████████████████████████████████████| 100/100 [00:03<00:00, 30.11it/s]\n"
     ]
    },
    {
     "name": "stdout",
     "output_type": "stream",
     "text": [
      "client:0 train_acc: 82.44%, train_loss: 10.2535\n",
      "client:1 train_acc: 82.16%, train_loss: 20.4593\n",
      "client:2 train_acc: 82.10%, train_loss: 30.8274\n",
      "client:3 train_acc: 82.17%, train_loss: 41.1590\n",
      "client:4 train_acc: 82.12%, train_loss: 51.6357\n",
      "Test set: Average loss: 3.1377, Accuracy: 2158/10000 (21.58%)\n"
     ]
    },
    {
     "name": "stderr",
     "output_type": "stream",
     "text": [
      "Round129: User0_1: 100%|██████████████████████████████████████████| 100/100 [00:03<00:00, 30.31it/s]\n",
      "Round129: User4_1: 100%|██████████████████████████████████████████| 100/100 [00:03<00:00, 30.73it/s]\n",
      "Round129: User1_1: 100%|██████████████████████████████████████████| 100/100 [00:03<00:00, 29.48it/s]\n",
      "Round129: User2_1: 100%|██████████████████████████████████████████| 100/100 [00:03<00:00, 28.94it/s]\n",
      "Round129: User3_1: 100%|██████████████████████████████████████████| 100/100 [00:03<00:00, 29.62it/s]\n"
     ]
    },
    {
     "name": "stdout",
     "output_type": "stream",
     "text": [
      "client:0 train_acc: 83.15%, train_loss: 9.9982\n",
      "client:4 train_acc: 82.79%, train_loss: 20.2752\n",
      "client:1 train_acc: 82.65%, train_loss: 30.3310\n",
      "client:2 train_acc: 82.60%, train_loss: 40.4637\n",
      "client:3 train_acc: 82.60%, train_loss: 50.5640\n",
      "Test set: Average loss: 3.1327, Accuracy: 2055/10000 (20.55%)\n"
     ]
    },
    {
     "name": "stderr",
     "output_type": "stream",
     "text": [
      "Round130: User0_1: 100%|██████████████████████████████████████████| 100/100 [00:03<00:00, 30.37it/s]\n",
      "Round130: User2_1: 100%|██████████████████████████████████████████| 100/100 [00:03<00:00, 29.57it/s]\n",
      "Round130: User1_1: 100%|██████████████████████████████████████████| 100/100 [00:03<00:00, 30.92it/s]\n",
      "Round130: User3_1: 100%|██████████████████████████████████████████| 100/100 [00:03<00:00, 29.64it/s]\n",
      "Round130: User4_1: 100%|██████████████████████████████████████████| 100/100 [00:03<00:00, 28.81it/s]\n"
     ]
    },
    {
     "name": "stdout",
     "output_type": "stream",
     "text": [
      "client:0 train_acc: 82.79%, train_loss: 10.1505\n",
      "client:2 train_acc: 82.59%, train_loss: 20.4043\n",
      "client:1 train_acc: 82.45%, train_loss: 30.5815\n",
      "client:3 train_acc: 82.38%, train_loss: 40.7641\n",
      "client:4 train_acc: 82.30%, train_loss: 51.2339\n",
      "Test set: Average loss: 3.1780, Accuracy: 2022/10000 (20.22%)\n"
     ]
    },
    {
     "name": "stderr",
     "output_type": "stream",
     "text": [
      "Round131: User1_1: 100%|██████████████████████████████████████████| 100/100 [00:03<00:00, 30.95it/s]\n",
      "Round131: User4_1: 100%|██████████████████████████████████████████| 100/100 [00:03<00:00, 28.38it/s]\n",
      "Round131: User2_1: 100%|██████████████████████████████████████████| 100/100 [00:03<00:00, 31.28it/s]\n",
      "Round131: User3_1: 100%|██████████████████████████████████████████| 100/100 [00:03<00:00, 31.12it/s]\n",
      "Round131: User0_1: 100%|██████████████████████████████████████████| 100/100 [00:03<00:00, 28.59it/s]\n"
     ]
    },
    {
     "name": "stdout",
     "output_type": "stream",
     "text": [
      "client:1 train_acc: 82.81%, train_loss: 9.8942\n",
      "client:4 train_acc: 82.76%, train_loss: 19.9687\n",
      "client:2 train_acc: 82.71%, train_loss: 29.9290\n",
      "client:3 train_acc: 82.83%, train_loss: 39.8578\n",
      "client:0 train_acc: 82.92%, train_loss: 49.7665\n",
      "Test set: Average loss: 3.1182, Accuracy: 2119/10000 (21.19%)\n"
     ]
    },
    {
     "name": "stderr",
     "output_type": "stream",
     "text": [
      "Round132: User4_1: 100%|██████████████████████████████████████████| 100/100 [00:03<00:00, 30.93it/s]\n",
      "Round132: User0_1: 100%|██████████████████████████████████████████| 100/100 [00:03<00:00, 30.23it/s]\n",
      "Round132: User1_1: 100%|██████████████████████████████████████████| 100/100 [00:03<00:00, 30.89it/s]\n",
      "Round132: User3_1: 100%|██████████████████████████████████████████| 100/100 [00:03<00:00, 30.11it/s]\n",
      "Round132: User2_1: 100%|██████████████████████████████████████████| 100/100 [00:03<00:00, 27.92it/s]\n"
     ]
    },
    {
     "name": "stdout",
     "output_type": "stream",
     "text": [
      "client:4 train_acc: 83.04%, train_loss: 10.0541\n",
      "client:0 train_acc: 83.19%, train_loss: 19.8811\n",
      "client:1 train_acc: 83.11%, train_loss: 29.6926\n",
      "client:3 train_acc: 83.13%, train_loss: 39.6050\n",
      "client:2 train_acc: 83.08%, train_loss: 49.5972\n",
      "Test set: Average loss: 3.0979, Accuracy: 2124/10000 (21.24%)\n"
     ]
    },
    {
     "name": "stderr",
     "output_type": "stream",
     "text": [
      "Round133: User2_1: 100%|██████████████████████████████████████████| 100/100 [00:03<00:00, 30.15it/s]\n",
      "Round133: User4_1: 100%|██████████████████████████████████████████| 100/100 [00:03<00:00, 28.63it/s]\n",
      "Round133: User1_1: 100%|██████████████████████████████████████████| 100/100 [00:03<00:00, 31.48it/s]\n",
      "Round133: User3_1: 100%|██████████████████████████████████████████| 100/100 [00:03<00:00, 30.53it/s]\n",
      "Round133: User0_1: 100%|██████████████████████████████████████████| 100/100 [00:03<00:00, 29.62it/s]\n"
     ]
    },
    {
     "name": "stdout",
     "output_type": "stream",
     "text": [
      "client:2 train_acc: 82.62%, train_loss: 10.0331\n",
      "client:4 train_acc: 82.62%, train_loss: 20.1479\n",
      "client:1 train_acc: 82.62%, train_loss: 30.0098\n",
      "client:3 train_acc: 82.68%, train_loss: 39.8426\n",
      "client:0 train_acc: 82.76%, train_loss: 49.7648\n",
      "Test set: Average loss: 3.1315, Accuracy: 2098/10000 (20.98%)\n"
     ]
    },
    {
     "name": "stderr",
     "output_type": "stream",
     "text": [
      "Round134: User3_1: 100%|██████████████████████████████████████████| 100/100 [00:03<00:00, 28.38it/s]\n",
      "Round134: User2_1: 100%|██████████████████████████████████████████| 100/100 [00:03<00:00, 29.56it/s]\n",
      "Round134: User4_1: 100%|██████████████████████████████████████████| 100/100 [00:03<00:00, 31.50it/s]\n",
      "Round134: User1_1: 100%|██████████████████████████████████████████| 100/100 [00:03<00:00, 28.77it/s]\n",
      "Round134: User0_1: 100%|██████████████████████████████████████████| 100/100 [00:03<00:00, 31.28it/s]\n"
     ]
    },
    {
     "name": "stdout",
     "output_type": "stream",
     "text": [
      "client:3 train_acc: 83.48%, train_loss: 9.6238\n",
      "client:2 train_acc: 83.55%, train_loss: 19.2730\n",
      "client:4 train_acc: 83.50%, train_loss: 28.9699\n",
      "client:1 train_acc: 83.49%, train_loss: 38.4783\n",
      "client:0 train_acc: 83.54%, train_loss: 48.0849\n",
      "Test set: Average loss: 3.2598, Accuracy: 2101/10000 (21.01%)\n"
     ]
    },
    {
     "name": "stderr",
     "output_type": "stream",
     "text": [
      "Round135: User2_1: 100%|██████████████████████████████████████████| 100/100 [00:03<00:00, 29.69it/s]\n",
      "Round135: User1_1: 100%|██████████████████████████████████████████| 100/100 [00:03<00:00, 30.67it/s]\n",
      "Round135: User3_1: 100%|██████████████████████████████████████████| 100/100 [00:03<00:00, 31.09it/s]\n",
      "Round135: User4_1: 100%|██████████████████████████████████████████| 100/100 [00:03<00:00, 29.50it/s]\n",
      "Round135: User0_1: 100%|██████████████████████████████████████████| 100/100 [00:03<00:00, 30.42it/s]\n"
     ]
    },
    {
     "name": "stdout",
     "output_type": "stream",
     "text": [
      "client:2 train_acc: 83.32%, train_loss: 9.6768\n",
      "client:1 train_acc: 83.47%, train_loss: 19.2001\n",
      "client:3 train_acc: 83.50%, train_loss: 28.8132\n",
      "client:4 train_acc: 83.41%, train_loss: 38.7061\n",
      "client:0 train_acc: 83.48%, train_loss: 48.3259\n",
      "Test set: Average loss: 3.1503, Accuracy: 2056/10000 (20.56%)\n"
     ]
    },
    {
     "name": "stderr",
     "output_type": "stream",
     "text": [
      "Round136: User2_1: 100%|██████████████████████████████████████████| 100/100 [00:03<00:00, 28.81it/s]\n",
      "Round136: User4_1: 100%|██████████████████████████████████████████| 100/100 [00:03<00:00, 28.69it/s]\n",
      "Round136: User0_1: 100%|██████████████████████████████████████████| 100/100 [00:03<00:00, 30.58it/s]\n",
      "Round136: User3_1: 100%|██████████████████████████████████████████| 100/100 [00:03<00:00, 29.81it/s]\n",
      "Round136: User1_1: 100%|██████████████████████████████████████████| 100/100 [00:03<00:00, 31.37it/s]\n"
     ]
    },
    {
     "name": "stdout",
     "output_type": "stream",
     "text": [
      "client:2 train_acc: 83.57%, train_loss: 9.5625\n",
      "client:4 train_acc: 83.55%, train_loss: 19.2638\n",
      "client:0 train_acc: 83.64%, train_loss: 28.7440\n",
      "client:3 train_acc: 83.67%, train_loss: 38.2168\n",
      "client:1 train_acc: 83.64%, train_loss: 47.6482\n",
      "Test set: Average loss: 3.1051, Accuracy: 2128/10000 (21.28%)\n"
     ]
    },
    {
     "name": "stderr",
     "output_type": "stream",
     "text": [
      "Round137: User0_1: 100%|██████████████████████████████████████████| 100/100 [00:03<00:00, 30.44it/s]\n",
      "Round137: User4_1: 100%|██████████████████████████████████████████| 100/100 [00:03<00:00, 29.94it/s]\n",
      "Round137: User2_1: 100%|██████████████████████████████████████████| 100/100 [00:03<00:00, 29.05it/s]\n",
      "Round137: User1_1: 100%|██████████████████████████████████████████| 100/100 [00:03<00:00, 30.03it/s]\n",
      "Round137: User3_1: 100%|██████████████████████████████████████████| 100/100 [00:03<00:00, 29.68it/s]\n"
     ]
    },
    {
     "name": "stdout",
     "output_type": "stream",
     "text": [
      "client:0 train_acc: 84.34%, train_loss: 9.3050\n",
      "client:4 train_acc: 84.00%, train_loss: 18.8019\n",
      "client:2 train_acc: 83.89%, train_loss: 28.1847\n",
      "client:1 train_acc: 83.81%, train_loss: 37.4891\n",
      "client:3 train_acc: 83.84%, train_loss: 46.8958\n",
      "Test set: Average loss: 3.2154, Accuracy: 2052/10000 (20.52%)\n"
     ]
    },
    {
     "name": "stderr",
     "output_type": "stream",
     "text": [
      "Round138: User1_1: 100%|██████████████████████████████████████████| 100/100 [00:03<00:00, 29.93it/s]\n",
      "Round138: User3_1: 100%|██████████████████████████████████████████| 100/100 [00:03<00:00, 29.37it/s]\n",
      "Round138: User2_1: 100%|██████████████████████████████████████████| 100/100 [00:03<00:00, 29.28it/s]\n",
      "Round138: User4_1: 100%|██████████████████████████████████████████| 100/100 [00:03<00:00, 29.27it/s]\n",
      "Round138: User0_1: 100%|██████████████████████████████████████████| 100/100 [00:03<00:00, 30.20it/s]\n"
     ]
    },
    {
     "name": "stdout",
     "output_type": "stream",
     "text": [
      "client:1 train_acc: 84.03%, train_loss: 9.2599\n",
      "client:3 train_acc: 84.09%, train_loss: 18.5547\n",
      "client:2 train_acc: 84.06%, train_loss: 27.8724\n",
      "client:4 train_acc: 84.01%, train_loss: 37.2545\n",
      "client:0 train_acc: 84.07%, train_loss: 46.4692\n",
      "Test set: Average loss: 3.1761, Accuracy: 2148/10000 (21.48%)\n"
     ]
    },
    {
     "name": "stderr",
     "output_type": "stream",
     "text": [
      "Round139: User0_1: 100%|██████████████████████████████████████████| 100/100 [00:03<00:00, 30.40it/s]\n",
      "Round139: User1_1: 100%|██████████████████████████████████████████| 100/100 [00:03<00:00, 31.18it/s]\n",
      "Round139: User2_1: 100%|██████████████████████████████████████████| 100/100 [00:03<00:00, 29.49it/s]\n",
      "Round139: User4_1: 100%|██████████████████████████████████████████| 100/100 [00:03<00:00, 28.70it/s]\n",
      "Round139: User3_1: 100%|██████████████████████████████████████████| 100/100 [00:03<00:00, 29.65it/s]\n"
     ]
    },
    {
     "name": "stdout",
     "output_type": "stream",
     "text": [
      "client:0 train_acc: 84.74%, train_loss: 9.0600\n",
      "client:1 train_acc: 84.50%, train_loss: 18.1930\n",
      "client:2 train_acc: 84.44%, train_loss: 27.3175\n",
      "client:4 train_acc: 84.34%, train_loss: 36.5962\n",
      "client:3 train_acc: 84.40%, train_loss: 45.7092\n",
      "Test set: Average loss: 3.2697, Accuracy: 2053/10000 (20.53%)\n"
     ]
    },
    {
     "name": "stderr",
     "output_type": "stream",
     "text": [
      "Round140: User1_1: 100%|██████████████████████████████████████████| 100/100 [00:03<00:00, 30.39it/s]\n",
      "Round140: User3_1: 100%|██████████████████████████████████████████| 100/100 [00:03<00:00, 30.52it/s]\n",
      "Round140: User2_1: 100%|██████████████████████████████████████████| 100/100 [00:03<00:00, 30.15it/s]\n",
      "Round140: User4_1: 100%|██████████████████████████████████████████| 100/100 [00:03<00:00, 30.39it/s]\n",
      "Round140: User0_1: 100%|██████████████████████████████████████████| 100/100 [00:03<00:00, 28.72it/s]\n"
     ]
    },
    {
     "name": "stdout",
     "output_type": "stream",
     "text": [
      "client:1 train_acc: 84.40%, train_loss: 8.9846\n",
      "client:3 train_acc: 84.56%, train_loss: 17.9886\n",
      "client:2 train_acc: 84.57%, train_loss: 27.0961\n",
      "client:4 train_acc: 84.45%, train_loss: 36.3491\n",
      "client:0 train_acc: 84.51%, train_loss: 45.3354\n",
      "Test set: Average loss: 3.2700, Accuracy: 2073/10000 (20.73%)\n"
     ]
    },
    {
     "name": "stderr",
     "output_type": "stream",
     "text": [
      "Round141: User1_1: 100%|██████████████████████████████████████████| 100/100 [00:03<00:00, 30.99it/s]\n",
      "Round141: User3_1: 100%|██████████████████████████████████████████| 100/100 [00:03<00:00, 30.70it/s]\n",
      "Round141: User2_1: 100%|██████████████████████████████████████████| 100/100 [00:03<00:00, 28.38it/s]\n",
      "Round141: User4_1: 100%|██████████████████████████████████████████| 100/100 [00:03<00:00, 32.22it/s]\n",
      "Round141: User0_1: 100%|██████████████████████████████████████████| 100/100 [00:03<00:00, 31.83it/s]\n"
     ]
    },
    {
     "name": "stdout",
     "output_type": "stream",
     "text": [
      "client:1 train_acc: 84.15%, train_loss: 9.3374\n",
      "client:3 train_acc: 84.02%, train_loss: 18.8373\n",
      "client:2 train_acc: 83.88%, train_loss: 28.3010\n",
      "client:4 train_acc: 83.79%, train_loss: 37.9285\n",
      "client:0 train_acc: 83.81%, train_loss: 47.3870\n",
      "Test set: Average loss: 3.1632, Accuracy: 2104/10000 (21.04%)\n"
     ]
    },
    {
     "name": "stderr",
     "output_type": "stream",
     "text": [
      "Round142: User0_1: 100%|██████████████████████████████████████████| 100/100 [00:03<00:00, 30.39it/s]\n",
      "Round142: User4_1: 100%|██████████████████████████████████████████| 100/100 [00:03<00:00, 28.60it/s]\n",
      "Round142: User2_1: 100%|██████████████████████████████████████████| 100/100 [00:03<00:00, 28.95it/s]\n",
      "Round142: User1_1: 100%|██████████████████████████████████████████| 100/100 [00:03<00:00, 30.19it/s]\n",
      "Round142: User3_1: 100%|██████████████████████████████████████████| 100/100 [00:03<00:00, 27.76it/s]\n"
     ]
    },
    {
     "name": "stdout",
     "output_type": "stream",
     "text": [
      "client:0 train_acc: 85.18%, train_loss: 8.8248\n",
      "client:4 train_acc: 84.92%, train_loss: 17.8821\n",
      "client:2 train_acc: 84.72%, train_loss: 26.8498\n",
      "client:1 train_acc: 84.69%, train_loss: 35.6873\n",
      "client:3 train_acc: 84.77%, train_loss: 44.6360\n",
      "Test set: Average loss: 3.1204, Accuracy: 2094/10000 (20.94%)\n"
     ]
    },
    {
     "name": "stderr",
     "output_type": "stream",
     "text": [
      "Round143: User3_1: 100%|██████████████████████████████████████████| 100/100 [00:03<00:00, 29.57it/s]\n",
      "Round143: User1_1: 100%|██████████████████████████████████████████| 100/100 [00:03<00:00, 30.61it/s]\n",
      "Round143: User2_1: 100%|██████████████████████████████████████████| 100/100 [00:03<00:00, 29.87it/s]\n",
      "Round143: User0_1: 100%|██████████████████████████████████████████| 100/100 [00:03<00:00, 29.59it/s]\n",
      "Round143: User4_1: 100%|██████████████████████████████████████████| 100/100 [00:03<00:00, 29.30it/s]\n"
     ]
    },
    {
     "name": "stdout",
     "output_type": "stream",
     "text": [
      "client:3 train_acc: 85.07%, train_loss: 8.8921\n",
      "client:1 train_acc: 84.75%, train_loss: 17.8550\n",
      "client:2 train_acc: 84.75%, train_loss: 26.9064\n",
      "client:0 train_acc: 84.81%, train_loss: 35.8585\n",
      "client:4 train_acc: 84.72%, train_loss: 45.0034\n",
      "Test set: Average loss: 3.2653, Accuracy: 2130/10000 (21.30%)\n"
     ]
    },
    {
     "name": "stderr",
     "output_type": "stream",
     "text": [
      "Round144: User4_1: 100%|██████████████████████████████████████████| 100/100 [00:03<00:00, 28.83it/s]\n",
      "Round144: User2_1: 100%|██████████████████████████████████████████| 100/100 [00:03<00:00, 29.32it/s]\n",
      "Round144: User0_1: 100%|██████████████████████████████████████████| 100/100 [00:03<00:00, 29.94it/s]\n",
      "Round144: User1_1: 100%|██████████████████████████████████████████| 100/100 [00:03<00:00, 26.57it/s]\n",
      "Round144: User3_1: 100%|██████████████████████████████████████████| 100/100 [00:03<00:00, 28.87it/s]\n"
     ]
    },
    {
     "name": "stdout",
     "output_type": "stream",
     "text": [
      "client:4 train_acc: 84.73%, train_loss: 8.9721\n",
      "client:2 train_acc: 84.87%, train_loss: 17.7829\n",
      "client:0 train_acc: 84.98%, train_loss: 26.5505\n",
      "client:1 train_acc: 84.92%, train_loss: 35.3422\n",
      "client:3 train_acc: 84.89%, train_loss: 44.1524\n",
      "Test set: Average loss: 3.2616, Accuracy: 2134/10000 (21.34%)\n"
     ]
    },
    {
     "name": "stderr",
     "output_type": "stream",
     "text": [
      "Round145: User3_1: 100%|██████████████████████████████████████████| 100/100 [00:03<00:00, 29.91it/s]\n",
      "Round145: User0_1: 100%|██████████████████████████████████████████| 100/100 [00:03<00:00, 29.41it/s]\n",
      "Round145: User2_1: 100%|██████████████████████████████████████████| 100/100 [00:03<00:00, 28.00it/s]\n",
      "Round145: User1_1: 100%|██████████████████████████████████████████| 100/100 [00:03<00:00, 29.93it/s]\n",
      "Round145: User4_1: 100%|██████████████████████████████████████████| 100/100 [00:03<00:00, 28.06it/s]\n"
     ]
    },
    {
     "name": "stdout",
     "output_type": "stream",
     "text": [
      "client:3 train_acc: 85.32%, train_loss: 8.7212\n",
      "client:0 train_acc: 85.34%, train_loss: 17.4429\n",
      "client:2 train_acc: 85.30%, train_loss: 26.2288\n",
      "client:1 train_acc: 85.23%, train_loss: 34.8699\n",
      "client:4 train_acc: 85.17%, train_loss: 43.6810\n",
      "Test set: Average loss: 3.3155, Accuracy: 2178/10000 (21.78%)\n"
     ]
    },
    {
     "name": "stderr",
     "output_type": "stream",
     "text": [
      "Round146: User3_1: 100%|██████████████████████████████████████████| 100/100 [00:03<00:00, 28.22it/s]\n",
      "Round146: User1_1: 100%|██████████████████████████████████████████| 100/100 [00:03<00:00, 27.34it/s]\n",
      "Round146: User4_1: 100%|██████████████████████████████████████████| 100/100 [00:03<00:00, 28.71it/s]\n",
      "Round146: User0_1: 100%|██████████████████████████████████████████| 100/100 [00:03<00:00, 30.07it/s]\n",
      "Round146: User2_1: 100%|██████████████████████████████████████████| 100/100 [00:03<00:00, 28.46it/s]\n"
     ]
    },
    {
     "name": "stdout",
     "output_type": "stream",
     "text": [
      "client:3 train_acc: 85.75%, train_loss: 8.5642\n",
      "client:1 train_acc: 85.53%, train_loss: 17.1571\n",
      "client:4 train_acc: 85.38%, train_loss: 25.9756\n",
      "client:0 train_acc: 85.44%, train_loss: 34.5549\n",
      "client:2 train_acc: 85.40%, train_loss: 43.2880\n",
      "Test set: Average loss: 3.2946, Accuracy: 2092/10000 (20.92%)\n"
     ]
    },
    {
     "name": "stderr",
     "output_type": "stream",
     "text": [
      "Round147: User1_1: 100%|██████████████████████████████████████████| 100/100 [00:03<00:00, 29.41it/s]\n",
      "Round147: User4_1: 100%|██████████████████████████████████████████| 100/100 [00:03<00:00, 29.04it/s]\n",
      "Round147: User2_1: 100%|██████████████████████████████████████████| 100/100 [00:03<00:00, 30.17it/s]\n",
      "Round147: User0_1: 100%|██████████████████████████████████████████| 100/100 [00:03<00:00, 31.00it/s]\n",
      "Round147: User3_1: 100%|██████████████████████████████████████████| 100/100 [00:03<00:00, 30.06it/s]\n"
     ]
    },
    {
     "name": "stdout",
     "output_type": "stream",
     "text": [
      "client:1 train_acc: 85.47%, train_loss: 8.3750\n",
      "client:4 train_acc: 85.34%, train_loss: 17.0027\n",
      "client:2 train_acc: 85.44%, train_loss: 25.4999\n",
      "client:0 train_acc: 85.58%, train_loss: 33.9024\n",
      "client:3 train_acc: 85.54%, train_loss: 42.3798\n",
      "Test set: Average loss: 3.1599, Accuracy: 2203/10000 (22.03%)\n"
     ]
    },
    {
     "name": "stderr",
     "output_type": "stream",
     "text": [
      "Round148: User3_1: 100%|██████████████████████████████████████████| 100/100 [00:03<00:00, 28.98it/s]\n",
      "Round148: User0_1: 100%|██████████████████████████████████████████| 100/100 [00:03<00:00, 28.91it/s]\n",
      "Round148: User4_1: 100%|██████████████████████████████████████████| 100/100 [00:03<00:00, 29.09it/s]\n",
      "Round148: User1_1: 100%|██████████████████████████████████████████| 100/100 [00:03<00:00, 27.55it/s]\n",
      "Round148: User2_1: 100%|██████████████████████████████████████████| 100/100 [00:03<00:00, 30.00it/s]\n"
     ]
    },
    {
     "name": "stdout",
     "output_type": "stream",
     "text": [
      "client:3 train_acc: 85.75%, train_loss: 8.3272\n",
      "client:0 train_acc: 85.94%, train_loss: 16.5952\n",
      "client:4 train_acc: 85.83%, train_loss: 25.0491\n",
      "client:1 train_acc: 85.79%, train_loss: 33.3412\n",
      "client:2 train_acc: 85.80%, train_loss: 41.7126\n",
      "Test set: Average loss: 3.3353, Accuracy: 2103/10000 (21.03%)\n"
     ]
    },
    {
     "name": "stderr",
     "output_type": "stream",
     "text": [
      "Round149: User2_1: 100%|██████████████████████████████████████████| 100/100 [00:03<00:00, 29.42it/s]\n",
      "Round149: User3_1: 100%|██████████████████████████████████████████| 100/100 [00:03<00:00, 31.31it/s]\n",
      "Round149: User0_1: 100%|██████████████████████████████████████████| 100/100 [00:03<00:00, 30.93it/s]\n",
      "Round149: User4_1: 100%|██████████████████████████████████████████| 100/100 [00:03<00:00, 29.72it/s]\n",
      "Round149: User1_1: 100%|██████████████████████████████████████████| 100/100 [00:03<00:00, 30.80it/s]\n"
     ]
    },
    {
     "name": "stdout",
     "output_type": "stream",
     "text": [
      "client:2 train_acc: 85.55%, train_loss: 8.4527\n",
      "client:3 train_acc: 85.58%, train_loss: 16.8978\n",
      "client:0 train_acc: 85.79%, train_loss: 25.2572\n",
      "client:4 train_acc: 85.68%, train_loss: 33.8892\n",
      "client:1 train_acc: 85.67%, train_loss: 42.2866\n",
      "Test set: Average loss: 3.2830, Accuracy: 2068/10000 (20.68%)\n"
     ]
    },
    {
     "name": "stderr",
     "output_type": "stream",
     "text": [
      "Round150: User4_1: 100%|██████████████████████████████████████████| 100/100 [00:03<00:00, 29.92it/s]\n",
      "Round150: User1_1: 100%|██████████████████████████████████████████| 100/100 [00:03<00:00, 31.21it/s]\n",
      "Round150: User0_1: 100%|██████████████████████████████████████████| 100/100 [00:03<00:00, 30.82it/s]\n",
      "Round150: User3_1: 100%|██████████████████████████████████████████| 100/100 [00:03<00:00, 30.03it/s]\n",
      "Round150: User2_1: 100%|██████████████████████████████████████████| 100/100 [00:03<00:00, 30.57it/s]\n"
     ]
    },
    {
     "name": "stdout",
     "output_type": "stream",
     "text": [
      "client:4 train_acc: 85.42%, train_loss: 8.4212\n",
      "client:1 train_acc: 85.76%, train_loss: 16.6008\n",
      "client:0 train_acc: 85.83%, train_loss: 24.8848\n",
      "client:3 train_acc: 85.84%, train_loss: 33.2273\n",
      "client:2 train_acc: 85.74%, train_loss: 41.6511\n",
      "Test set: Average loss: 3.2424, Accuracy: 2180/10000 (21.80%)\n"
     ]
    },
    {
     "name": "stderr",
     "output_type": "stream",
     "text": [
      "Round151: User2_1: 100%|██████████████████████████████████████████| 100/100 [00:03<00:00, 29.97it/s]\n",
      "Round151: User1_1: 100%|██████████████████████████████████████████| 100/100 [00:03<00:00, 31.48it/s]\n",
      "Round151: User4_1: 100%|██████████████████████████████████████████| 100/100 [00:03<00:00, 30.57it/s]\n",
      "Round151: User0_1: 100%|██████████████████████████████████████████| 100/100 [00:03<00:00, 30.42it/s]\n",
      "Round151: User3_1: 100%|██████████████████████████████████████████| 100/100 [00:03<00:00, 31.37it/s]\n"
     ]
    },
    {
     "name": "stdout",
     "output_type": "stream",
     "text": [
      "client:2 train_acc: 86.09%, train_loss: 8.3259\n",
      "client:1 train_acc: 86.04%, train_loss: 16.5952\n",
      "client:4 train_acc: 85.90%, train_loss: 25.0235\n",
      "client:0 train_acc: 86.00%, train_loss: 33.2984\n",
      "client:3 train_acc: 85.96%, train_loss: 41.5944\n",
      "Test set: Average loss: 3.2189, Accuracy: 2162/10000 (21.62%)\n"
     ]
    },
    {
     "name": "stderr",
     "output_type": "stream",
     "text": [
      "Round152: User1_1: 100%|██████████████████████████████████████████| 100/100 [00:03<00:00, 29.39it/s]\n",
      "Round152: User3_1: 100%|██████████████████████████████████████████| 100/100 [00:03<00:00, 30.84it/s]\n",
      "Round152: User4_1: 100%|██████████████████████████████████████████| 100/100 [00:03<00:00, 31.50it/s]\n",
      "Round152: User0_1: 100%|██████████████████████████████████████████| 100/100 [00:03<00:00, 29.80it/s]\n",
      "Round152: User2_1: 100%|██████████████████████████████████████████| 100/100 [00:03<00:00, 30.28it/s]\n"
     ]
    },
    {
     "name": "stdout",
     "output_type": "stream",
     "text": [
      "client:1 train_acc: 86.10%, train_loss: 8.2015\n",
      "client:3 train_acc: 86.09%, train_loss: 16.3671\n",
      "client:4 train_acc: 85.95%, train_loss: 24.7090\n",
      "client:0 train_acc: 86.12%, train_loss: 32.8364\n",
      "client:2 train_acc: 86.11%, train_loss: 41.0950\n",
      "Test set: Average loss: 3.3843, Accuracy: 2067/10000 (20.67%)\n"
     ]
    },
    {
     "name": "stderr",
     "output_type": "stream",
     "text": [
      "Round153: User4_1: 100%|██████████████████████████████████████████| 100/100 [00:03<00:00, 30.73it/s]\n",
      "Round153: User0_1: 100%|██████████████████████████████████████████| 100/100 [00:03<00:00, 31.22it/s]\n",
      "Round153: User1_1: 100%|██████████████████████████████████████████| 100/100 [00:03<00:00, 29.30it/s]\n",
      "Round153: User3_1: 100%|██████████████████████████████████████████| 100/100 [00:03<00:00, 31.05it/s]\n",
      "Round153: User2_1: 100%|██████████████████████████████████████████| 100/100 [00:03<00:00, 31.82it/s]\n"
     ]
    },
    {
     "name": "stdout",
     "output_type": "stream",
     "text": [
      "client:4 train_acc: 86.02%, train_loss: 8.2579\n",
      "client:0 train_acc: 86.32%, train_loss: 16.3089\n",
      "client:1 train_acc: 86.22%, train_loss: 24.4082\n",
      "client:3 train_acc: 86.17%, train_loss: 32.5388\n",
      "client:2 train_acc: 86.12%, train_loss: 40.7267\n",
      "Test set: Average loss: 3.3556, Accuracy: 2104/10000 (21.04%)\n"
     ]
    },
    {
     "name": "stderr",
     "output_type": "stream",
     "text": [
      "Round154: User3_1: 100%|██████████████████████████████████████████| 100/100 [00:03<00:00, 29.36it/s]\n",
      "Round154: User0_1: 100%|██████████████████████████████████████████| 100/100 [00:03<00:00, 30.34it/s]\n",
      "Round154: User2_1: 100%|██████████████████████████████████████████| 100/100 [00:03<00:00, 29.85it/s]\n",
      "Round154: User4_1: 100%|██████████████████████████████████████████| 100/100 [00:03<00:00, 30.67it/s]\n",
      "Round154: User1_1: 100%|██████████████████████████████████████████| 100/100 [00:03<00:00, 29.47it/s]\n"
     ]
    },
    {
     "name": "stdout",
     "output_type": "stream",
     "text": [
      "client:3 train_acc: 86.02%, train_loss: 8.3953\n",
      "client:0 train_acc: 85.98%, train_loss: 16.7398\n",
      "client:2 train_acc: 85.79%, train_loss: 25.1652\n",
      "client:4 train_acc: 85.77%, train_loss: 33.5757\n",
      "client:1 train_acc: 85.73%, train_loss: 41.9397\n",
      "Test set: Average loss: 3.0426, Accuracy: 2179/10000 (21.79%)\n"
     ]
    },
    {
     "name": "stderr",
     "output_type": "stream",
     "text": [
      "Round155: User4_1: 100%|██████████████████████████████████████████| 100/100 [00:03<00:00, 29.84it/s]\n",
      "Round155: User1_1: 100%|██████████████████████████████████████████| 100/100 [00:03<00:00, 30.20it/s]\n",
      "Round155: User0_1: 100%|██████████████████████████████████████████| 100/100 [00:03<00:00, 29.40it/s]\n",
      "Round155: User3_1: 100%|██████████████████████████████████████████| 100/100 [00:03<00:00, 32.46it/s]\n",
      "Round155: User2_1: 100%|██████████████████████████████████████████| 100/100 [00:02<00:00, 35.02it/s]\n"
     ]
    },
    {
     "name": "stdout",
     "output_type": "stream",
     "text": [
      "client:4 train_acc: 86.40%, train_loss: 8.1621\n",
      "client:1 train_acc: 86.28%, train_loss: 16.1882\n",
      "client:0 train_acc: 86.41%, train_loss: 24.1536\n",
      "client:3 train_acc: 86.38%, train_loss: 32.0930\n",
      "client:2 train_acc: 86.31%, train_loss: 40.2054\n",
      "Test set: Average loss: 3.3176, Accuracy: 2148/10000 (21.48%)\n"
     ]
    },
    {
     "name": "stderr",
     "output_type": "stream",
     "text": [
      "Round156: User3_1: 100%|██████████████████████████████████████████| 100/100 [00:03<00:00, 31.20it/s]\n",
      "Round156: User2_1: 100%|██████████████████████████████████████████| 100/100 [00:03<00:00, 31.31it/s]\n",
      "Round156: User0_1: 100%|██████████████████████████████████████████| 100/100 [00:03<00:00, 30.14it/s]\n",
      "Round156: User1_1: 100%|██████████████████████████████████████████| 100/100 [00:03<00:00, 31.34it/s]\n",
      "Round156: User4_1: 100%|██████████████████████████████████████████| 100/100 [00:03<00:00, 30.46it/s]\n"
     ]
    },
    {
     "name": "stdout",
     "output_type": "stream",
     "text": [
      "client:3 train_acc: 86.80%, train_loss: 7.9133\n",
      "client:2 train_acc: 86.87%, train_loss: 15.7868\n",
      "client:0 train_acc: 86.97%, train_loss: 23.5652\n",
      "client:1 train_acc: 86.91%, train_loss: 31.3048\n",
      "client:4 train_acc: 86.85%, train_loss: 39.3000\n",
      "Test set: Average loss: 3.2665, Accuracy: 2119/10000 (21.19%)\n"
     ]
    },
    {
     "name": "stderr",
     "output_type": "stream",
     "text": [
      "Round157: User2_1: 100%|██████████████████████████████████████████| 100/100 [00:03<00:00, 31.11it/s]\n",
      "Round157: User1_1: 100%|██████████████████████████████████████████| 100/100 [00:03<00:00, 30.93it/s]\n",
      "Round157: User0_1: 100%|██████████████████████████████████████████| 100/100 [00:03<00:00, 30.83it/s]\n",
      "Round157: User4_1: 100%|██████████████████████████████████████████| 100/100 [00:03<00:00, 32.28it/s]\n",
      "Round157: User3_1: 100%|██████████████████████████████████████████| 100/100 [00:03<00:00, 32.30it/s]\n"
     ]
    },
    {
     "name": "stdout",
     "output_type": "stream",
     "text": [
      "client:2 train_acc: 86.47%, train_loss: 7.9061\n",
      "client:1 train_acc: 86.55%, train_loss: 15.7738\n",
      "client:0 train_acc: 86.72%, train_loss: 23.5848\n",
      "client:4 train_acc: 86.64%, train_loss: 31.6369\n",
      "client:3 train_acc: 86.60%, train_loss: 39.5545\n",
      "Test set: Average loss: 3.4251, Accuracy: 2095/10000 (20.95%)\n"
     ]
    },
    {
     "name": "stderr",
     "output_type": "stream",
     "text": [
      "Round158: User2_1: 100%|██████████████████████████████████████████| 100/100 [00:03<00:00, 30.72it/s]\n",
      "Round158: User0_1: 100%|██████████████████████████████████████████| 100/100 [00:03<00:00, 30.11it/s]\n",
      "Round158: User4_1: 100%|██████████████████████████████████████████| 100/100 [00:03<00:00, 28.56it/s]\n",
      "Round158: User3_1: 100%|██████████████████████████████████████████| 100/100 [00:03<00:00, 30.14it/s]\n",
      "Round158: User1_1: 100%|██████████████████████████████████████████| 100/100 [00:03<00:00, 30.65it/s]\n"
     ]
    },
    {
     "name": "stdout",
     "output_type": "stream",
     "text": [
      "client:2 train_acc: 87.17%, train_loss: 7.6600\n",
      "client:0 train_acc: 87.36%, train_loss: 15.2695\n",
      "client:4 train_acc: 87.21%, train_loss: 23.0055\n",
      "client:3 train_acc: 87.27%, train_loss: 30.5540\n",
      "client:1 train_acc: 87.26%, train_loss: 38.1907\n",
      "Test set: Average loss: 3.2146, Accuracy: 2246/10000 (22.46%)\n"
     ]
    },
    {
     "name": "stderr",
     "output_type": "stream",
     "text": [
      "Round159: User0_1: 100%|██████████████████████████████████████████| 100/100 [00:03<00:00, 29.35it/s]\n",
      "Round159: User1_1: 100%|██████████████████████████████████████████| 100/100 [00:03<00:00, 28.71it/s]\n",
      "Round159: User3_1: 100%|██████████████████████████████████████████| 100/100 [00:03<00:00, 32.26it/s]\n",
      "Round159: User2_1: 100%|██████████████████████████████████████████| 100/100 [00:03<00:00, 30.85it/s]\n",
      "Round159: User4_1: 100%|██████████████████████████████████████████| 100/100 [00:03<00:00, 30.23it/s]\n"
     ]
    },
    {
     "name": "stdout",
     "output_type": "stream",
     "text": [
      "client:0 train_acc: 86.29%, train_loss: 8.0014\n",
      "client:1 train_acc: 86.01%, train_loss: 16.0791\n",
      "client:3 train_acc: 85.98%, train_loss: 24.1565\n",
      "client:2 train_acc: 85.97%, train_loss: 32.2418\n",
      "client:4 train_acc: 85.93%, train_loss: 40.5799\n",
      "Test set: Average loss: 3.3865, Accuracy: 2010/10000 (20.10%)\n"
     ]
    },
    {
     "name": "stderr",
     "output_type": "stream",
     "text": [
      "Round160: User4_1: 100%|██████████████████████████████████████████| 100/100 [00:03<00:00, 31.09it/s]\n",
      "Round160: User2_1: 100%|██████████████████████████████████████████| 100/100 [00:03<00:00, 30.80it/s]\n",
      "Round160: User3_1: 100%|██████████████████████████████████████████| 100/100 [00:03<00:00, 30.86it/s]\n",
      "Round160: User0_1: 100%|██████████████████████████████████████████| 100/100 [00:03<00:00, 30.72it/s]\n",
      "Round160: User1_1: 100%|██████████████████████████████████████████| 100/100 [00:03<00:00, 30.22it/s]\n"
     ]
    },
    {
     "name": "stdout",
     "output_type": "stream",
     "text": [
      "client:4 train_acc: 86.72%, train_loss: 7.8525\n",
      "client:2 train_acc: 86.95%, train_loss: 15.5001\n",
      "client:3 train_acc: 86.99%, train_loss: 23.2026\n",
      "client:0 train_acc: 87.10%, train_loss: 30.8757\n",
      "client:1 train_acc: 87.06%, train_loss: 38.5636\n",
      "Test set: Average loss: 3.3011, Accuracy: 2107/10000 (21.07%)\n"
     ]
    },
    {
     "name": "stderr",
     "output_type": "stream",
     "text": [
      "Round161: User0_1: 100%|██████████████████████████████████████████| 100/100 [00:03<00:00, 31.26it/s]\n",
      "Round161: User1_1: 100%|██████████████████████████████████████████| 100/100 [00:03<00:00, 29.47it/s]\n",
      "Round161: User4_1: 100%|██████████████████████████████████████████| 100/100 [00:03<00:00, 30.76it/s]\n",
      "Round161: User3_1: 100%|██████████████████████████████████████████| 100/100 [00:03<00:00, 31.42it/s]\n",
      "Round161: User2_1: 100%|██████████████████████████████████████████| 100/100 [00:03<00:00, 29.10it/s]\n"
     ]
    },
    {
     "name": "stdout",
     "output_type": "stream",
     "text": [
      "client:0 train_acc: 87.78%, train_loss: 7.4503\n",
      "client:1 train_acc: 87.58%, train_loss: 14.9536\n",
      "client:4 train_acc: 87.44%, train_loss: 22.6282\n",
      "client:3 train_acc: 87.40%, train_loss: 30.1687\n",
      "client:2 train_acc: 87.33%, train_loss: 37.8467\n",
      "Test set: Average loss: 3.3230, Accuracy: 2151/10000 (21.51%)\n"
     ]
    },
    {
     "name": "stderr",
     "output_type": "stream",
     "text": [
      "Round162: User2_1: 100%|██████████████████████████████████████████| 100/100 [00:03<00:00, 29.82it/s]\n",
      "Round162: User0_1: 100%|██████████████████████████████████████████| 100/100 [00:03<00:00, 29.96it/s]\n",
      "Round162: User1_1: 100%|██████████████████████████████████████████| 100/100 [00:03<00:00, 31.39it/s]\n",
      "Round162: User4_1: 100%|██████████████████████████████████████████| 100/100 [00:03<00:00, 31.05it/s]\n",
      "Round162: User3_1: 100%|██████████████████████████████████████████| 100/100 [00:03<00:00, 29.63it/s]\n"
     ]
    },
    {
     "name": "stdout",
     "output_type": "stream",
     "text": [
      "client:2 train_acc: 87.72%, train_loss: 7.4073\n",
      "client:0 train_acc: 87.83%, train_loss: 14.7794\n",
      "client:1 train_acc: 87.71%, train_loss: 22.2246\n",
      "client:4 train_acc: 87.62%, train_loss: 29.7771\n",
      "client:3 train_acc: 87.61%, train_loss: 37.1441\n",
      "Test set: Average loss: 3.3907, Accuracy: 2139/10000 (21.39%)\n"
     ]
    },
    {
     "name": "stderr",
     "output_type": "stream",
     "text": [
      "Round163: User3_1: 100%|██████████████████████████████████████████| 100/100 [00:03<00:00, 31.65it/s]\n",
      "Round163: User1_1: 100%|██████████████████████████████████████████| 100/100 [00:03<00:00, 29.08it/s]\n",
      "Round163: User4_1: 100%|██████████████████████████████████████████| 100/100 [00:03<00:00, 31.56it/s]\n",
      "Round163: User0_1: 100%|██████████████████████████████████████████| 100/100 [00:03<00:00, 30.65it/s]\n",
      "Round163: User2_1: 100%|██████████████████████████████████████████| 100/100 [00:03<00:00, 30.10it/s]\n"
     ]
    },
    {
     "name": "stdout",
     "output_type": "stream",
     "text": [
      "client:3 train_acc: 87.59%, train_loss: 7.4436\n",
      "client:1 train_acc: 87.47%, train_loss: 14.8939\n",
      "client:4 train_acc: 87.47%, train_loss: 22.5262\n",
      "client:0 train_acc: 87.58%, train_loss: 29.9686\n",
      "client:2 train_acc: 87.62%, train_loss: 37.4083\n",
      "Test set: Average loss: 3.3430, Accuracy: 2107/10000 (21.07%)\n"
     ]
    },
    {
     "name": "stderr",
     "output_type": "stream",
     "text": [
      "Round164: User4_1: 100%|██████████████████████████████████████████| 100/100 [00:03<00:00, 30.28it/s]\n",
      "Round164: User1_1: 100%|██████████████████████████████████████████| 100/100 [00:03<00:00, 30.91it/s]\n",
      "Round164: User0_1: 100%|██████████████████████████████████████████| 100/100 [00:03<00:00, 28.99it/s]\n",
      "Round164: User3_1: 100%|██████████████████████████████████████████| 100/100 [00:03<00:00, 26.03it/s]\n",
      "Round164: User2_1: 100%|██████████████████████████████████████████| 100/100 [00:03<00:00, 31.10it/s]\n"
     ]
    },
    {
     "name": "stdout",
     "output_type": "stream",
     "text": [
      "client:4 train_acc: 87.94%, train_loss: 7.3095\n",
      "client:1 train_acc: 87.91%, train_loss: 14.5353\n",
      "client:0 train_acc: 88.01%, train_loss: 21.7535\n",
      "client:3 train_acc: 88.01%, train_loss: 28.9497\n",
      "client:2 train_acc: 88.06%, train_loss: 36.1445\n",
      "Test set: Average loss: 3.4404, Accuracy: 2146/10000 (21.46%)\n"
     ]
    },
    {
     "name": "stderr",
     "output_type": "stream",
     "text": [
      "Round165: User4_1: 100%|██████████████████████████████████████████| 100/100 [00:03<00:00, 30.68it/s]\n",
      "Round165: User2_1: 100%|██████████████████████████████████████████| 100/100 [00:03<00:00, 31.58it/s]\n",
      "Round165: User3_1: 100%|██████████████████████████████████████████| 100/100 [00:03<00:00, 31.49it/s]\n",
      "Round165: User0_1: 100%|██████████████████████████████████████████| 100/100 [00:03<00:00, 30.11it/s]\n",
      "Round165: User1_1: 100%|██████████████████████████████████████████| 100/100 [00:03<00:00, 31.73it/s]\n"
     ]
    },
    {
     "name": "stdout",
     "output_type": "stream",
     "text": [
      "client:4 train_acc: 88.08%, train_loss: 7.1168\n",
      "client:2 train_acc: 88.28%, train_loss: 14.1255\n",
      "client:3 train_acc: 88.34%, train_loss: 21.1306\n",
      "client:0 train_acc: 88.45%, train_loss: 28.0844\n",
      "client:1 train_acc: 88.45%, train_loss: 35.0756\n",
      "Test set: Average loss: 3.2763, Accuracy: 2219/10000 (22.19%)\n"
     ]
    },
    {
     "name": "stderr",
     "output_type": "stream",
     "text": [
      "Round166: User0_1: 100%|██████████████████████████████████████████| 100/100 [00:03<00:00, 27.93it/s]\n",
      "Round166: User1_1: 100%|██████████████████████████████████████████| 100/100 [00:03<00:00, 27.77it/s]\n",
      "Round166: User3_1: 100%|██████████████████████████████████████████| 100/100 [00:03<00:00, 31.11it/s]\n",
      "Round166: User4_1: 100%|██████████████████████████████████████████| 100/100 [00:03<00:00, 30.30it/s]\n",
      "Round166: User2_1: 100%|██████████████████████████████████████████| 100/100 [00:03<00:00, 31.63it/s]\n"
     ]
    },
    {
     "name": "stdout",
     "output_type": "stream",
     "text": [
      "client:0 train_acc: 87.82%, train_loss: 7.3474\n",
      "client:1 train_acc: 87.77%, train_loss: 14.7315\n",
      "client:3 train_acc: 87.63%, train_loss: 22.1203\n",
      "client:4 train_acc: 87.64%, train_loss: 29.5677\n",
      "client:2 train_acc: 87.59%, train_loss: 36.9880\n",
      "Test set: Average loss: 3.4327, Accuracy: 2076/10000 (20.76%)\n"
     ]
    },
    {
     "name": "stderr",
     "output_type": "stream",
     "text": [
      "Round167: User1_1: 100%|██████████████████████████████████████████| 100/100 [00:03<00:00, 28.44it/s]\n",
      "Round167: User0_1: 100%|██████████████████████████████████████████| 100/100 [00:03<00:00, 30.13it/s]\n",
      "Round167: User2_1: 100%|██████████████████████████████████████████| 100/100 [00:03<00:00, 29.66it/s]\n",
      "Round167: User3_1: 100%|██████████████████████████████████████████| 100/100 [00:03<00:00, 30.41it/s]\n",
      "Round167: User4_1: 100%|██████████████████████████████████████████| 100/100 [00:03<00:00, 31.83it/s]\n"
     ]
    },
    {
     "name": "stdout",
     "output_type": "stream",
     "text": [
      "client:1 train_acc: 88.80%, train_loss: 6.8178\n",
      "client:0 train_acc: 88.91%, train_loss: 13.6953\n",
      "client:2 train_acc: 88.90%, train_loss: 20.5184\n",
      "client:3 train_acc: 88.76%, train_loss: 27.4505\n",
      "client:4 train_acc: 88.70%, train_loss: 34.4348\n",
      "Test set: Average loss: 3.3925, Accuracy: 2215/10000 (22.15%)\n"
     ]
    },
    {
     "name": "stderr",
     "output_type": "stream",
     "text": [
      "Round168: User1_1: 100%|██████████████████████████████████████████| 100/100 [00:03<00:00, 29.20it/s]\n",
      "Round168: User0_1: 100%|██████████████████████████████████████████| 100/100 [00:03<00:00, 30.44it/s]\n",
      "Round168: User4_1: 100%|██████████████████████████████████████████| 100/100 [00:03<00:00, 29.71it/s]\n",
      "Round168: User3_1: 100%|██████████████████████████████████████████| 100/100 [00:03<00:00, 28.92it/s]\n",
      "Round168: User2_1: 100%|██████████████████████████████████████████| 100/100 [00:03<00:00, 28.80it/s]\n"
     ]
    },
    {
     "name": "stdout",
     "output_type": "stream",
     "text": [
      "client:1 train_acc: 88.54%, train_loss: 6.7724\n",
      "client:0 train_acc: 88.75%, train_loss: 13.5942\n",
      "client:4 train_acc: 88.62%, train_loss: 20.5067\n",
      "client:3 train_acc: 88.53%, train_loss: 27.3461\n",
      "client:2 train_acc: 88.58%, train_loss: 34.1780\n",
      "Test set: Average loss: 3.3505, Accuracy: 2220/10000 (22.20%)\n"
     ]
    },
    {
     "name": "stderr",
     "output_type": "stream",
     "text": [
      "Round169: User4_1: 100%|██████████████████████████████████████████| 100/100 [00:03<00:00, 31.35it/s]\n",
      "Round169: User2_1: 100%|██████████████████████████████████████████| 100/100 [00:03<00:00, 30.90it/s]\n",
      "Round169: User1_1: 100%|██████████████████████████████████████████| 100/100 [00:03<00:00, 30.51it/s]\n",
      "Round169: User0_1: 100%|██████████████████████████████████████████| 100/100 [00:03<00:00, 30.32it/s]\n",
      "Round169: User3_1: 100%|██████████████████████████████████████████| 100/100 [00:03<00:00, 31.51it/s]\n"
     ]
    },
    {
     "name": "stdout",
     "output_type": "stream",
     "text": [
      "client:4 train_acc: 88.69%, train_loss: 6.7975\n",
      "client:2 train_acc: 88.67%, train_loss: 13.6373\n",
      "client:1 train_acc: 88.80%, train_loss: 20.3369\n",
      "client:0 train_acc: 88.80%, train_loss: 27.1019\n",
      "client:3 train_acc: 88.79%, train_loss: 33.8735\n",
      "Test set: Average loss: 3.5067, Accuracy: 2183/10000 (21.83%)\n"
     ]
    },
    {
     "name": "stderr",
     "output_type": "stream",
     "text": [
      "Round170: User3_1: 100%|██████████████████████████████████████████| 100/100 [00:03<00:00, 30.00it/s]\n",
      "Round170: User0_1: 100%|██████████████████████████████████████████| 100/100 [00:03<00:00, 30.65it/s]\n",
      "Round170: User4_1: 100%|██████████████████████████████████████████| 100/100 [00:03<00:00, 30.31it/s]\n",
      "Round170: User2_1: 100%|██████████████████████████████████████████| 100/100 [00:03<00:00, 31.41it/s]\n",
      "Round170: User1_1: 100%|██████████████████████████████████████████| 100/100 [00:03<00:00, 29.38it/s]\n"
     ]
    },
    {
     "name": "stdout",
     "output_type": "stream",
     "text": [
      "client:3 train_acc: 88.28%, train_loss: 6.9139\n",
      "client:0 train_acc: 88.87%, train_loss: 13.5145\n",
      "client:4 train_acc: 88.68%, train_loss: 20.4149\n",
      "client:2 train_acc: 88.67%, train_loss: 27.3256\n",
      "client:1 train_acc: 88.65%, train_loss: 34.1121\n",
      "Test set: Average loss: 3.5583, Accuracy: 2165/10000 (21.65%)\n"
     ]
    },
    {
     "name": "stderr",
     "output_type": "stream",
     "text": [
      "Round171: User0_1: 100%|██████████████████████████████████████████| 100/100 [00:03<00:00, 29.56it/s]\n",
      "Round171: User1_1: 100%|██████████████████████████████████████████| 100/100 [00:03<00:00, 28.68it/s]\n",
      "Round171: User4_1: 100%|██████████████████████████████████████████| 100/100 [00:03<00:00, 31.22it/s]\n",
      "Round171: User2_1: 100%|██████████████████████████████████████████| 100/100 [00:03<00:00, 31.38it/s]\n",
      "Round171: User3_1: 100%|██████████████████████████████████████████| 100/100 [00:03<00:00, 28.28it/s]\n"
     ]
    },
    {
     "name": "stdout",
     "output_type": "stream",
     "text": [
      "client:0 train_acc: 89.41%, train_loss: 6.5777\n",
      "client:1 train_acc: 89.18%, train_loss: 13.2449\n",
      "client:4 train_acc: 89.01%, train_loss: 20.0016\n",
      "client:2 train_acc: 89.02%, train_loss: 26.6230\n",
      "client:3 train_acc: 88.97%, train_loss: 33.2555\n",
      "Test set: Average loss: 3.4820, Accuracy: 2129/10000 (21.29%)\n"
     ]
    },
    {
     "name": "stderr",
     "output_type": "stream",
     "text": [
      "Round172: User3_1: 100%|██████████████████████████████████████████| 100/100 [00:03<00:00, 29.88it/s]\n",
      "Round172: User0_1: 100%|██████████████████████████████████████████| 100/100 [00:03<00:00, 30.34it/s]\n",
      "Round172: User4_1: 100%|██████████████████████████████████████████| 100/100 [00:03<00:00, 30.76it/s]\n",
      "Round172: User1_1: 100%|██████████████████████████████████████████| 100/100 [00:03<00:00, 30.27it/s]\n",
      "Round172: User2_1: 100%|██████████████████████████████████████████| 100/100 [00:03<00:00, 28.23it/s]\n"
     ]
    },
    {
     "name": "stdout",
     "output_type": "stream",
     "text": [
      "client:3 train_acc: 89.28%, train_loss: 6.5509\n",
      "client:0 train_acc: 89.47%, train_loss: 13.1118\n",
      "client:4 train_acc: 89.35%, train_loss: 19.8150\n",
      "client:1 train_acc: 89.39%, train_loss: 26.3209\n",
      "client:2 train_acc: 89.39%, train_loss: 32.9869\n",
      "Test set: Average loss: 3.4558, Accuracy: 2152/10000 (21.52%)\n"
     ]
    },
    {
     "name": "stderr",
     "output_type": "stream",
     "text": [
      "Round173: User1_1: 100%|██████████████████████████████████████████| 100/100 [00:03<00:00, 31.49it/s]\n",
      "Round173: User0_1: 100%|██████████████████████████████████████████| 100/100 [00:03<00:00, 30.01it/s]\n",
      "Round173: User2_1: 100%|██████████████████████████████████████████| 100/100 [00:03<00:00, 30.96it/s]\n",
      "Round173: User3_1: 100%|██████████████████████████████████████████| 100/100 [00:03<00:00, 32.23it/s]\n",
      "Round173: User4_1: 100%|██████████████████████████████████████████| 100/100 [00:03<00:00, 30.30it/s]\n"
     ]
    },
    {
     "name": "stdout",
     "output_type": "stream",
     "text": [
      "client:1 train_acc: 88.48%, train_loss: 6.7741\n",
      "client:0 train_acc: 88.48%, train_loss: 13.5760\n",
      "client:2 train_acc: 88.52%, train_loss: 20.4002\n",
      "client:3 train_acc: 88.60%, train_loss: 26.9919\n",
      "client:4 train_acc: 88.53%, train_loss: 33.9298\n",
      "Test set: Average loss: 3.4626, Accuracy: 2182/10000 (21.82%)\n"
     ]
    },
    {
     "name": "stderr",
     "output_type": "stream",
     "text": [
      "Round174: User4_1: 100%|██████████████████████████████████████████| 100/100 [00:03<00:00, 31.06it/s]\n",
      "Round174: User0_1: 100%|██████████████████████████████████████████| 100/100 [00:03<00:00, 29.82it/s]\n",
      "Round174: User2_1: 100%|██████████████████████████████████████████| 100/100 [00:03<00:00, 29.73it/s]\n",
      "Round174: User1_1: 100%|██████████████████████████████████████████| 100/100 [00:03<00:00, 29.90it/s]\n",
      "Round174: User3_1: 100%|██████████████████████████████████████████| 100/100 [00:03<00:00, 29.78it/s]\n"
     ]
    },
    {
     "name": "stdout",
     "output_type": "stream",
     "text": [
      "client:4 train_acc: 89.36%, train_loss: 6.4406\n",
      "client:0 train_acc: 89.58%, train_loss: 12.7285\n",
      "client:2 train_acc: 89.53%, train_loss: 19.1190\n",
      "client:1 train_acc: 89.44%, train_loss: 25.5502\n",
      "client:3 train_acc: 89.41%, train_loss: 31.9187\n",
      "Test set: Average loss: 3.6790, Accuracy: 2141/10000 (21.41%)\n"
     ]
    },
    {
     "name": "stderr",
     "output_type": "stream",
     "text": [
      "Round175: User4_1: 100%|██████████████████████████████████████████| 100/100 [00:03<00:00, 31.11it/s]\n",
      "Round175: User1_1: 100%|██████████████████████████████████████████| 100/100 [00:03<00:00, 30.01it/s]\n",
      "Round175: User3_1: 100%|██████████████████████████████████████████| 100/100 [00:03<00:00, 30.72it/s]\n",
      "Round175: User2_1: 100%|██████████████████████████████████████████| 100/100 [00:03<00:00, 30.06it/s]\n",
      "Round175: User0_1: 100%|██████████████████████████████████████████| 100/100 [00:03<00:00, 30.37it/s]\n"
     ]
    },
    {
     "name": "stdout",
     "output_type": "stream",
     "text": [
      "client:4 train_acc: 89.55%, train_loss: 6.4358\n",
      "client:1 train_acc: 89.62%, train_loss: 12.7709\n",
      "client:3 train_acc: 89.67%, train_loss: 19.0623\n",
      "client:2 train_acc: 89.70%, train_loss: 25.3923\n",
      "client:0 train_acc: 89.80%, train_loss: 31.6004\n",
      "Test set: Average loss: 3.6510, Accuracy: 2101/10000 (21.01%)\n"
     ]
    },
    {
     "name": "stderr",
     "output_type": "stream",
     "text": [
      "Round176: User1_1: 100%|██████████████████████████████████████████| 100/100 [00:03<00:00, 30.21it/s]\n",
      "Round176: User2_1: 100%|██████████████████████████████████████████| 100/100 [00:03<00:00, 30.84it/s]\n",
      "Round176: User0_1: 100%|██████████████████████████████████████████| 100/100 [00:03<00:00, 30.15it/s]\n",
      "Round176: User3_1: 100%|██████████████████████████████████████████| 100/100 [00:03<00:00, 30.87it/s]\n",
      "Round176: User4_1: 100%|██████████████████████████████████████████| 100/100 [00:03<00:00, 30.29it/s]\n"
     ]
    },
    {
     "name": "stdout",
     "output_type": "stream",
     "text": [
      "client:1 train_acc: 88.94%, train_loss: 6.5166\n",
      "client:2 train_acc: 89.05%, train_loss: 13.0343\n",
      "client:0 train_acc: 89.16%, train_loss: 19.4418\n",
      "client:3 train_acc: 89.17%, train_loss: 25.8386\n",
      "client:4 train_acc: 89.17%, train_loss: 32.3924\n",
      "Test set: Average loss: 3.4417, Accuracy: 2208/10000 (22.08%)\n"
     ]
    },
    {
     "name": "stderr",
     "output_type": "stream",
     "text": [
      "Round177: User3_1: 100%|██████████████████████████████████████████| 100/100 [00:03<00:00, 29.60it/s]\n",
      "Round177: User4_1: 100%|██████████████████████████████████████████| 100/100 [00:03<00:00, 31.57it/s]\n",
      "Round177: User1_1: 100%|██████████████████████████████████████████| 100/100 [00:03<00:00, 31.00it/s]\n",
      "Round177: User0_1: 100%|██████████████████████████████████████████| 100/100 [00:03<00:00, 30.67it/s]\n",
      "Round177: User2_1: 100%|██████████████████████████████████████████| 100/100 [00:03<00:00, 30.48it/s]\n"
     ]
    },
    {
     "name": "stdout",
     "output_type": "stream",
     "text": [
      "client:3 train_acc: 88.21%, train_loss: 6.8868\n",
      "client:4 train_acc: 88.11%, train_loss: 13.7646\n",
      "client:1 train_acc: 88.35%, train_loss: 20.5380\n",
      "client:0 train_acc: 88.50%, train_loss: 27.1967\n",
      "client:2 train_acc: 88.50%, train_loss: 34.0225\n",
      "Test set: Average loss: 3.5217, Accuracy: 2077/10000 (20.77%)\n"
     ]
    },
    {
     "name": "stderr",
     "output_type": "stream",
     "text": [
      "Round178: User1_1: 100%|██████████████████████████████████████████| 100/100 [00:03<00:00, 29.44it/s]\n",
      "Round178: User4_1: 100%|██████████████████████████████████████████| 100/100 [00:03<00:00, 30.94it/s]\n",
      "Round178: User3_1: 100%|██████████████████████████████████████████| 100/100 [00:03<00:00, 30.38it/s]\n",
      "Round178: User0_1: 100%|██████████████████████████████████████████| 100/100 [00:03<00:00, 28.85it/s]\n",
      "Round178: User2_1: 100%|██████████████████████████████████████████| 100/100 [00:03<00:00, 30.77it/s]\n"
     ]
    },
    {
     "name": "stdout",
     "output_type": "stream",
     "text": [
      "client:1 train_acc: 90.07%, train_loss: 6.0903\n",
      "client:4 train_acc: 89.88%, train_loss: 12.3575\n",
      "client:3 train_acc: 89.82%, train_loss: 18.4857\n",
      "client:0 train_acc: 89.92%, train_loss: 24.5450\n",
      "client:2 train_acc: 89.90%, train_loss: 30.6948\n",
      "Test set: Average loss: 3.4312, Accuracy: 2216/10000 (22.16%)\n"
     ]
    },
    {
     "name": "stderr",
     "output_type": "stream",
     "text": [
      "Round179: User4_1: 100%|██████████████████████████████████████████| 100/100 [00:03<00:00, 29.87it/s]\n",
      "Round179: User2_1: 100%|██████████████████████████████████████████| 100/100 [00:03<00:00, 31.39it/s]\n",
      "Round179: User1_1: 100%|██████████████████████████████████████████| 100/100 [00:03<00:00, 30.55it/s]\n",
      "Round179: User3_1: 100%|██████████████████████████████████████████| 100/100 [00:03<00:00, 30.89it/s]\n",
      "Round179: User0_1: 100%|██████████████████████████████████████████| 100/100 [00:03<00:00, 30.50it/s]\n"
     ]
    },
    {
     "name": "stdout",
     "output_type": "stream",
     "text": [
      "client:4 train_acc: 89.96%, train_loss: 6.0967\n",
      "client:2 train_acc: 90.28%, train_loss: 11.9850\n",
      "client:1 train_acc: 90.30%, train_loss: 17.9316\n",
      "client:3 train_acc: 90.33%, train_loss: 23.7590\n",
      "client:0 train_acc: 90.40%, train_loss: 29.6908\n",
      "Test set: Average loss: 3.5389, Accuracy: 2207/10000 (22.07%)\n"
     ]
    },
    {
     "name": "stderr",
     "output_type": "stream",
     "text": [
      "Round180: User3_1: 100%|██████████████████████████████████████████| 100/100 [00:03<00:00, 29.56it/s]\n",
      "Round180: User4_1: 100%|██████████████████████████████████████████| 100/100 [00:03<00:00, 30.95it/s]\n",
      "Round180: User1_1: 100%|██████████████████████████████████████████| 100/100 [00:03<00:00, 31.34it/s]\n",
      "Round180: User0_1: 100%|██████████████████████████████████████████| 100/100 [00:03<00:00, 29.98it/s]\n",
      "Round180: User2_1: 100%|██████████████████████████████████████████| 100/100 [00:03<00:00, 30.34it/s]\n"
     ]
    },
    {
     "name": "stdout",
     "output_type": "stream",
     "text": [
      "client:3 train_acc: 89.42%, train_loss: 6.2848\n",
      "client:4 train_acc: 89.44%, train_loss: 12.6883\n",
      "client:1 train_acc: 89.67%, train_loss: 18.8129\n",
      "client:0 train_acc: 89.79%, train_loss: 25.0174\n",
      "client:2 train_acc: 89.80%, train_loss: 31.3078\n",
      "Test set: Average loss: 3.6216, Accuracy: 2125/10000 (21.25%)\n"
     ]
    },
    {
     "name": "stderr",
     "output_type": "stream",
     "text": [
      "Round181: User3_1: 100%|██████████████████████████████████████████| 100/100 [00:03<00:00, 29.92it/s]\n",
      "Round181: User0_1: 100%|██████████████████████████████████████████| 100/100 [00:03<00:00, 30.83it/s]\n",
      "Round181: User2_1: 100%|██████████████████████████████████████████| 100/100 [00:03<00:00, 30.94it/s]\n",
      "Round181: User4_1: 100%|██████████████████████████████████████████| 100/100 [00:03<00:00, 29.52it/s]\n",
      "Round181: User1_1: 100%|██████████████████████████████████████████| 100/100 [00:03<00:00, 30.44it/s]\n"
     ]
    },
    {
     "name": "stdout",
     "output_type": "stream",
     "text": [
      "client:3 train_acc: 90.47%, train_loss: 5.8525\n",
      "client:0 train_acc: 90.59%, train_loss: 11.7430\n",
      "client:2 train_acc: 90.54%, train_loss: 17.6743\n",
      "client:4 train_acc: 90.41%, train_loss: 23.6790\n",
      "client:1 train_acc: 90.40%, train_loss: 29.6242\n",
      "Test set: Average loss: 3.5096, Accuracy: 2247/10000 (22.47%)\n"
     ]
    },
    {
     "name": "stderr",
     "output_type": "stream",
     "text": [
      "Round182: User3_1: 100%|██████████████████████████████████████████| 100/100 [00:03<00:00, 25.88it/s]\n",
      "Round182: User4_1: 100%|██████████████████████████████████████████| 100/100 [00:03<00:00, 29.53it/s]\n",
      "Round182: User2_1: 100%|██████████████████████████████████████████| 100/100 [00:03<00:00, 29.47it/s]\n",
      "Round182: User0_1: 100%|██████████████████████████████████████████| 100/100 [00:03<00:00, 31.57it/s]\n",
      "Round182: User1_1: 100%|██████████████████████████████████████████| 100/100 [00:03<00:00, 30.53it/s]\n"
     ]
    },
    {
     "name": "stdout",
     "output_type": "stream",
     "text": [
      "client:3 train_acc: 90.21%, train_loss: 5.8768\n",
      "client:4 train_acc: 90.25%, train_loss: 11.8851\n",
      "client:2 train_acc: 90.41%, train_loss: 17.7248\n",
      "client:0 train_acc: 90.44%, train_loss: 23.6031\n",
      "client:1 train_acc: 90.45%, train_loss: 29.4976\n",
      "Test set: Average loss: 3.5845, Accuracy: 2143/10000 (21.43%)\n"
     ]
    },
    {
     "name": "stderr",
     "output_type": "stream",
     "text": [
      "Round183: User1_1: 100%|██████████████████████████████████████████| 100/100 [00:03<00:00, 31.48it/s]\n",
      "Round183: User4_1: 100%|██████████████████████████████████████████| 100/100 [00:03<00:00, 31.94it/s]\n",
      "Round183: User3_1: 100%|██████████████████████████████████████████| 100/100 [00:03<00:00, 30.38it/s]\n",
      "Round183: User2_1: 100%|██████████████████████████████████████████| 100/100 [00:03<00:00, 31.48it/s]\n",
      "Round183: User0_1: 100%|██████████████████████████████████████████| 100/100 [00:03<00:00, 31.27it/s]\n"
     ]
    },
    {
     "name": "stdout",
     "output_type": "stream",
     "text": [
      "client:1 train_acc: 91.28%, train_loss: 5.4971\n",
      "client:4 train_acc: 91.14%, train_loss: 11.1585\n",
      "client:3 train_acc: 91.03%, train_loss: 16.6502\n",
      "client:2 train_acc: 91.11%, train_loss: 22.1903\n",
      "client:0 train_acc: 91.20%, train_loss: 27.6495\n",
      "Test set: Average loss: 3.6248, Accuracy: 2206/10000 (22.06%)\n"
     ]
    },
    {
     "name": "stderr",
     "output_type": "stream",
     "text": [
      "Round184: User2_1: 100%|██████████████████████████████████████████| 100/100 [00:03<00:00, 29.56it/s]\n",
      "Round184: User3_1: 100%|██████████████████████████████████████████| 100/100 [00:03<00:00, 30.07it/s]\n",
      "Round184: User0_1: 100%|██████████████████████████████████████████| 100/100 [00:03<00:00, 30.50it/s]\n",
      "Round184: User1_1: 100%|██████████████████████████████████████████| 100/100 [00:03<00:00, 30.95it/s]\n",
      "Round184: User4_1: 100%|██████████████████████████████████████████| 100/100 [00:03<00:00, 29.49it/s]\n"
     ]
    },
    {
     "name": "stdout",
     "output_type": "stream",
     "text": [
      "client:2 train_acc: 90.55%, train_loss: 5.8428\n",
      "client:3 train_acc: 90.59%, train_loss: 11.5886\n",
      "client:0 train_acc: 90.65%, train_loss: 17.4310\n",
      "client:1 train_acc: 90.59%, train_loss: 23.2999\n",
      "client:4 train_acc: 90.49%, train_loss: 29.3297\n",
      "Test set: Average loss: 3.5977, Accuracy: 2186/10000 (21.86%)\n"
     ]
    },
    {
     "name": "stderr",
     "output_type": "stream",
     "text": [
      "Round185: User4_1: 100%|██████████████████████████████████████████| 100/100 [00:03<00:00, 31.45it/s]\n",
      "Round185: User3_1: 100%|██████████████████████████████████████████| 100/100 [00:03<00:00, 32.03it/s]\n",
      "Round185: User0_1: 100%|██████████████████████████████████████████| 100/100 [00:03<00:00, 30.11it/s]\n",
      "Round185: User1_1: 100%|██████████████████████████████████████████| 100/100 [00:03<00:00, 30.99it/s]\n",
      "Round185: User2_1: 100%|██████████████████████████████████████████| 100/100 [00:03<00:00, 30.60it/s]\n"
     ]
    },
    {
     "name": "stdout",
     "output_type": "stream",
     "text": [
      "client:4 train_acc: 90.48%, train_loss: 5.7294\n",
      "client:3 train_acc: 90.62%, train_loss: 11.3481\n",
      "client:0 train_acc: 90.81%, train_loss: 16.9101\n",
      "client:1 train_acc: 90.85%, train_loss: 22.4980\n",
      "client:2 train_acc: 90.81%, train_loss: 28.1322\n",
      "Test set: Average loss: 3.6551, Accuracy: 2187/10000 (21.87%)\n"
     ]
    },
    {
     "name": "stderr",
     "output_type": "stream",
     "text": [
      "Round186: User4_1: 100%|██████████████████████████████████████████| 100/100 [00:03<00:00, 30.15it/s]\n",
      "Round186: User0_1: 100%|██████████████████████████████████████████| 100/100 [00:03<00:00, 30.06it/s]\n",
      "Round186: User2_1: 100%|██████████████████████████████████████████| 100/100 [00:03<00:00, 31.03it/s]\n",
      "Round186: User1_1: 100%|██████████████████████████████████████████| 100/100 [00:03<00:00, 31.20it/s]\n",
      "Round186: User3_1: 100%|██████████████████████████████████████████| 100/100 [00:03<00:00, 29.66it/s]\n"
     ]
    },
    {
     "name": "stdout",
     "output_type": "stream",
     "text": [
      "client:4 train_acc: 90.72%, train_loss: 5.7241\n",
      "client:0 train_acc: 91.07%, train_loss: 11.2286\n",
      "client:2 train_acc: 91.17%, train_loss: 16.6945\n",
      "client:1 train_acc: 91.25%, train_loss: 22.1712\n",
      "client:3 train_acc: 91.25%, train_loss: 27.6852\n",
      "Test set: Average loss: 3.6519, Accuracy: 2174/10000 (21.74%)\n"
     ]
    },
    {
     "name": "stderr",
     "output_type": "stream",
     "text": [
      "Round187: User0_1: 100%|██████████████████████████████████████████| 100/100 [00:03<00:00, 31.08it/s]\n",
      "Round187: User2_1: 100%|██████████████████████████████████████████| 100/100 [00:03<00:00, 29.62it/s]\n",
      "Round187: User4_1: 100%|██████████████████████████████████████████| 100/100 [00:03<00:00, 31.78it/s]\n",
      "Round187: User3_1: 100%|██████████████████████████████████████████| 100/100 [00:02<00:00, 33.42it/s]\n",
      "Round187: User1_1: 100%|██████████████████████████████████████████| 100/100 [00:03<00:00, 29.54it/s]\n"
     ]
    },
    {
     "name": "stdout",
     "output_type": "stream",
     "text": [
      "client:0 train_acc: 91.68%, train_loss: 5.3458\n",
      "client:2 train_acc: 91.45%, train_loss: 10.8282\n",
      "client:4 train_acc: 91.42%, train_loss: 16.2946\n",
      "client:3 train_acc: 91.36%, train_loss: 21.7295\n",
      "client:1 train_acc: 91.36%, train_loss: 27.1672\n",
      "Test set: Average loss: 3.7445, Accuracy: 2158/10000 (21.58%)\n"
     ]
    },
    {
     "name": "stderr",
     "output_type": "stream",
     "text": [
      "Round188: User1_1: 100%|██████████████████████████████████████████| 100/100 [00:03<00:00, 29.69it/s]\n",
      "Round188: User2_1: 100%|██████████████████████████████████████████| 100/100 [00:03<00:00, 29.85it/s]\n",
      "Round188: User0_1: 100%|██████████████████████████████████████████| 100/100 [00:03<00:00, 30.70it/s]\n",
      "Round188: User3_1: 100%|██████████████████████████████████████████| 100/100 [00:03<00:00, 30.09it/s]\n",
      "Round188: User4_1: 100%|██████████████████████████████████████████| 100/100 [00:03<00:00, 29.29it/s]\n"
     ]
    },
    {
     "name": "stdout",
     "output_type": "stream",
     "text": [
      "client:1 train_acc: 91.82%, train_loss: 5.3520\n",
      "client:2 train_acc: 91.66%, train_loss: 10.8158\n",
      "client:0 train_acc: 91.62%, train_loss: 16.3007\n",
      "client:3 train_acc: 91.48%, train_loss: 21.7720\n",
      "client:4 train_acc: 91.46%, train_loss: 27.3394\n",
      "Test set: Average loss: 3.5475, Accuracy: 2206/10000 (22.06%)\n"
     ]
    },
    {
     "name": "stderr",
     "output_type": "stream",
     "text": [
      "Round189: User1_1: 100%|██████████████████████████████████████████| 100/100 [00:03<00:00, 28.92it/s]\n",
      "Round189: User2_1: 100%|██████████████████████████████████████████| 100/100 [00:03<00:00, 30.24it/s]\n",
      "Round189: User4_1: 100%|██████████████████████████████████████████| 100/100 [00:03<00:00, 31.95it/s]\n",
      "Round189: User0_1: 100%|██████████████████████████████████████████| 100/100 [00:03<00:00, 29.89it/s]\n",
      "Round189: User3_1: 100%|██████████████████████████████████████████| 100/100 [00:03<00:00, 30.21it/s]\n"
     ]
    },
    {
     "name": "stdout",
     "output_type": "stream",
     "text": [
      "client:1 train_acc: 91.13%, train_loss: 5.4377\n",
      "client:2 train_acc: 91.12%, train_loss: 10.8850\n",
      "client:4 train_acc: 90.97%, train_loss: 16.4900\n",
      "client:0 train_acc: 91.03%, train_loss: 21.9620\n",
      "client:3 train_acc: 90.99%, train_loss: 27.4322\n",
      "Test set: Average loss: 3.6727, Accuracy: 2304/10000 (23.04%)\n"
     ]
    },
    {
     "name": "stderr",
     "output_type": "stream",
     "text": [
      "Round190: User0_1: 100%|██████████████████████████████████████████| 100/100 [00:03<00:00, 29.52it/s]\n",
      "Round190: User1_1: 100%|██████████████████████████████████████████| 100/100 [00:03<00:00, 31.00it/s]\n",
      "Round190: User3_1: 100%|██████████████████████████████████████████| 100/100 [00:03<00:00, 31.19it/s]\n",
      "Round190: User4_1: 100%|██████████████████████████████████████████| 100/100 [00:03<00:00, 27.47it/s]\n",
      "Round190: User2_1: 100%|██████████████████████████████████████████| 100/100 [00:03<00:00, 29.72it/s]\n"
     ]
    },
    {
     "name": "stdout",
     "output_type": "stream",
     "text": [
      "client:0 train_acc: 91.64%, train_loss: 5.3371\n",
      "client:1 train_acc: 91.56%, train_loss: 10.7439\n",
      "client:3 train_acc: 91.43%, train_loss: 16.1206\n",
      "client:4 train_acc: 91.47%, train_loss: 21.3964\n",
      "client:2 train_acc: 91.50%, train_loss: 26.7119\n",
      "Test set: Average loss: 3.6619, Accuracy: 2176/10000 (21.76%)\n"
     ]
    },
    {
     "name": "stderr",
     "output_type": "stream",
     "text": [
      "Round191: User4_1: 100%|██████████████████████████████████████████| 100/100 [00:03<00:00, 29.57it/s]\n",
      "Round191: User1_1: 100%|██████████████████████████████████████████| 100/100 [00:03<00:00, 30.54it/s]\n",
      "Round191: User2_1: 100%|██████████████████████████████████████████| 100/100 [00:03<00:00, 31.25it/s]\n",
      "Round191: User3_1: 100%|██████████████████████████████████████████| 100/100 [00:03<00:00, 30.50it/s]\n",
      "Round191: User0_1: 100%|██████████████████████████████████████████| 100/100 [00:03<00:00, 31.27it/s]\n"
     ]
    },
    {
     "name": "stdout",
     "output_type": "stream",
     "text": [
      "client:4 train_acc: 90.88%, train_loss: 5.5158\n",
      "client:1 train_acc: 91.10%, train_loss: 10.8366\n",
      "client:2 train_acc: 91.28%, train_loss: 16.0367\n",
      "client:3 train_acc: 91.31%, train_loss: 21.3046\n",
      "client:0 train_acc: 91.40%, train_loss: 26.5753\n",
      "Test set: Average loss: 3.8104, Accuracy: 2152/10000 (21.52%)\n"
     ]
    },
    {
     "name": "stderr",
     "output_type": "stream",
     "text": [
      "Round192: User2_1: 100%|██████████████████████████████████████████| 100/100 [00:03<00:00, 28.84it/s]\n",
      "Round192: User1_1: 100%|██████████████████████████████████████████| 100/100 [00:03<00:00, 31.27it/s]\n",
      "Round192: User4_1: 100%|██████████████████████████████████████████| 100/100 [00:03<00:00, 31.63it/s]\n",
      "Round192: User0_1: 100%|██████████████████████████████████████████| 100/100 [00:03<00:00, 30.24it/s]\n",
      "Round192: User3_1: 100%|██████████████████████████████████████████| 100/100 [00:03<00:00, 31.53it/s]\n"
     ]
    },
    {
     "name": "stdout",
     "output_type": "stream",
     "text": [
      "client:2 train_acc: 92.11%, train_loss: 4.9924\n",
      "client:1 train_acc: 92.07%, train_loss: 9.9680\n",
      "client:4 train_acc: 92.01%, train_loss: 15.1341\n",
      "client:0 train_acc: 92.09%, train_loss: 20.1613\n",
      "client:3 train_acc: 92.08%, train_loss: 25.1285\n",
      "Test set: Average loss: 3.7097, Accuracy: 2259/10000 (22.59%)\n"
     ]
    },
    {
     "name": "stderr",
     "output_type": "stream",
     "text": [
      "Round193: User2_1: 100%|██████████████████████████████████████████| 100/100 [00:03<00:00, 30.48it/s]\n",
      "Round193: User1_1: 100%|██████████████████████████████████████████| 100/100 [00:03<00:00, 31.84it/s]\n",
      "Round193: User3_1: 100%|██████████████████████████████████████████| 100/100 [00:03<00:00, 31.73it/s]\n",
      "Round193: User4_1: 100%|██████████████████████████████████████████| 100/100 [00:03<00:00, 29.82it/s]\n",
      "Round193: User0_1: 100%|██████████████████████████████████████████| 100/100 [00:03<00:00, 29.84it/s]\n"
     ]
    },
    {
     "name": "stdout",
     "output_type": "stream",
     "text": [
      "client:2 train_acc: 91.76%, train_loss: 5.0845\n",
      "client:1 train_acc: 91.98%, train_loss: 10.0256\n",
      "client:3 train_acc: 91.94%, train_loss: 15.1146\n",
      "client:4 train_acc: 91.92%, train_loss: 20.2129\n",
      "client:0 train_acc: 91.95%, train_loss: 25.2661\n",
      "Test set: Average loss: 3.7045, Accuracy: 2170/10000 (21.70%)\n"
     ]
    },
    {
     "name": "stderr",
     "output_type": "stream",
     "text": [
      "Round194: User2_1: 100%|██████████████████████████████████████████| 100/100 [00:03<00:00, 29.72it/s]\n",
      "Round194: User4_1: 100%|██████████████████████████████████████████| 100/100 [00:03<00:00, 30.81it/s]\n",
      "Round194: User3_1: 100%|██████████████████████████████████████████| 100/100 [00:03<00:00, 29.90it/s]\n",
      "Round194: User1_1: 100%|██████████████████████████████████████████| 100/100 [00:03<00:00, 29.94it/s]\n",
      "Round194: User0_1: 100%|██████████████████████████████████████████| 100/100 [00:03<00:00, 28.88it/s]\n"
     ]
    },
    {
     "name": "stdout",
     "output_type": "stream",
     "text": [
      "client:2 train_acc: 92.13%, train_loss: 4.8998\n",
      "client:4 train_acc: 92.07%, train_loss: 9.9465\n",
      "client:3 train_acc: 92.18%, train_loss: 14.7439\n",
      "client:1 train_acc: 92.25%, train_loss: 19.6766\n",
      "client:0 train_acc: 92.39%, train_loss: 24.4990\n",
      "Test set: Average loss: 3.8526, Accuracy: 2144/10000 (21.44%)\n"
     ]
    },
    {
     "name": "stderr",
     "output_type": "stream",
     "text": [
      "Round195: User2_1: 100%|██████████████████████████████████████████| 100/100 [00:03<00:00, 30.10it/s]\n",
      "Round195: User4_1: 100%|██████████████████████████████████████████| 100/100 [00:03<00:00, 28.86it/s]\n",
      "Round195: User3_1: 100%|██████████████████████████████████████████| 100/100 [00:03<00:00, 29.45it/s]\n",
      "Round195: User0_1: 100%|██████████████████████████████████████████| 100/100 [00:03<00:00, 29.31it/s]\n",
      "Round195: User1_1: 100%|██████████████████████████████████████████| 100/100 [00:03<00:00, 28.52it/s]\n"
     ]
    },
    {
     "name": "stdout",
     "output_type": "stream",
     "text": [
      "client:2 train_acc: 91.39%, train_loss: 5.2025\n",
      "client:4 train_acc: 91.27%, train_loss: 10.4746\n",
      "client:3 train_acc: 91.31%, train_loss: 15.6787\n",
      "client:0 train_acc: 91.47%, train_loss: 20.7402\n",
      "client:1 train_acc: 91.49%, train_loss: 25.8728\n",
      "Test set: Average loss: 3.6730, Accuracy: 2187/10000 (21.87%)\n"
     ]
    },
    {
     "name": "stderr",
     "output_type": "stream",
     "text": [
      "Round196: User2_1: 100%|██████████████████████████████████████████| 100/100 [00:02<00:00, 35.54it/s]\n",
      "Round196: User0_1: 100%|██████████████████████████████████████████| 100/100 [00:03<00:00, 31.09it/s]\n",
      "Round196: User1_1: 100%|██████████████████████████████████████████| 100/100 [00:03<00:00, 29.85it/s]\n",
      "Round196: User4_1: 100%|██████████████████████████████████████████| 100/100 [00:03<00:00, 30.45it/s]\n",
      "Round196: User3_1: 100%|██████████████████████████████████████████| 100/100 [00:03<00:00, 30.94it/s]\n"
     ]
    },
    {
     "name": "stdout",
     "output_type": "stream",
     "text": [
      "client:2 train_acc: 91.95%, train_loss: 5.0042\n",
      "client:0 train_acc: 91.97%, train_loss: 9.9714\n",
      "client:1 train_acc: 92.03%, train_loss: 14.8783\n",
      "client:4 train_acc: 92.02%, train_loss: 19.9050\n",
      "client:3 train_acc: 91.95%, train_loss: 24.9208\n",
      "Test set: Average loss: 3.6340, Accuracy: 2257/10000 (22.57%)\n"
     ]
    },
    {
     "name": "stderr",
     "output_type": "stream",
     "text": [
      "Round197: User4_1: 100%|██████████████████████████████████████████| 100/100 [00:03<00:00, 31.31it/s]\n",
      "Round197: User0_1: 100%|██████████████████████████████████████████| 100/100 [00:03<00:00, 30.95it/s]\n",
      "Round197: User3_1: 100%|██████████████████████████████████████████| 100/100 [00:03<00:00, 29.31it/s]\n",
      "Round197: User1_1: 100%|██████████████████████████████████████████| 100/100 [00:03<00:00, 29.80it/s]\n",
      "Round197: User2_1: 100%|██████████████████████████████████████████| 100/100 [00:03<00:00, 31.28it/s]\n"
     ]
    },
    {
     "name": "stdout",
     "output_type": "stream",
     "text": [
      "client:4 train_acc: 91.97%, train_loss: 5.0648\n",
      "client:0 train_acc: 92.09%, train_loss: 10.0899\n",
      "client:3 train_acc: 92.06%, train_loss: 15.0219\n",
      "client:1 train_acc: 92.18%, train_loss: 19.9286\n",
      "client:2 train_acc: 92.27%, train_loss: 24.7632\n",
      "Test set: Average loss: 3.7555, Accuracy: 2138/10000 (21.38%)\n"
     ]
    },
    {
     "name": "stderr",
     "output_type": "stream",
     "text": [
      "Round198: User0_1: 100%|██████████████████████████████████████████| 100/100 [00:03<00:00, 30.91it/s]\n",
      "Round198: User2_1: 100%|██████████████████████████████████████████| 100/100 [00:03<00:00, 30.70it/s]\n",
      "Round198: User4_1: 100%|██████████████████████████████████████████| 100/100 [00:03<00:00, 29.66it/s]\n",
      "Round198: User1_1: 100%|██████████████████████████████████████████| 100/100 [00:03<00:00, 30.92it/s]\n",
      "Round198: User3_1: 100%|██████████████████████████████████████████| 100/100 [00:03<00:00, 31.15it/s]\n"
     ]
    },
    {
     "name": "stdout",
     "output_type": "stream",
     "text": [
      "client:0 train_acc: 92.86%, train_loss: 4.6526\n",
      "client:2 train_acc: 92.81%, train_loss: 9.2217\n",
      "client:4 train_acc: 92.80%, train_loss: 13.9436\n",
      "client:1 train_acc: 92.79%, train_loss: 18.5731\n",
      "client:3 train_acc: 92.74%, train_loss: 23.1934\n",
      "Test set: Average loss: 3.7250, Accuracy: 2209/10000 (22.09%)\n"
     ]
    },
    {
     "name": "stderr",
     "output_type": "stream",
     "text": [
      "Round199: User2_1: 100%|██████████████████████████████████████████| 100/100 [00:03<00:00, 30.46it/s]\n",
      "Round199: User1_1: 100%|██████████████████████████████████████████| 100/100 [00:03<00:00, 30.09it/s]\n",
      "Round199: User3_1: 100%|██████████████████████████████████████████| 100/100 [00:03<00:00, 30.98it/s]\n",
      "Round199: User4_1: 100%|██████████████████████████████████████████| 100/100 [00:03<00:00, 30.83it/s]\n",
      "Round199: User0_1: 100%|██████████████████████████████████████████| 100/100 [00:03<00:00, 28.56it/s]\n"
     ]
    },
    {
     "name": "stdout",
     "output_type": "stream",
     "text": [
      "client:2 train_acc: 92.58%, train_loss: 4.6640\n",
      "client:1 train_acc: 92.81%, train_loss: 9.3168\n",
      "client:3 train_acc: 92.91%, train_loss: 13.8566\n",
      "client:4 train_acc: 92.79%, train_loss: 18.6924\n",
      "client:0 train_acc: 92.79%, train_loss: 23.3343\n",
      "Test set: Average loss: 3.6386, Accuracy: 2166/10000 (21.66%)\n"
     ]
    },
    {
     "name": "stderr",
     "output_type": "stream",
     "text": [
      "Round200: User1_1: 100%|██████████████████████████████████████████| 100/100 [00:03<00:00, 29.63it/s]\n",
      "Round200: User0_1: 100%|██████████████████████████████████████████| 100/100 [00:03<00:00, 29.59it/s]\n",
      "Round200: User2_1: 100%|██████████████████████████████████████████| 100/100 [00:03<00:00, 31.35it/s]\n",
      "Round200: User3_1: 100%|██████████████████████████████████████████| 100/100 [00:03<00:00, 30.20it/s]\n",
      "Round200: User4_1: 100%|██████████████████████████████████████████| 100/100 [00:03<00:00, 30.23it/s]\n"
     ]
    },
    {
     "name": "stdout",
     "output_type": "stream",
     "text": [
      "client:1 train_acc: 93.77%, train_loss: 4.3474\n",
      "client:0 train_acc: 93.60%, train_loss: 8.7627\n",
      "client:2 train_acc: 93.42%, train_loss: 13.2021\n",
      "client:3 train_acc: 93.28%, train_loss: 17.7325\n",
      "client:4 train_acc: 93.17%, train_loss: 22.3141\n",
      "Test set: Average loss: 3.7604, Accuracy: 2249/10000 (22.49%)\n"
     ]
    },
    {
     "name": "stderr",
     "output_type": "stream",
     "text": [
      "Round201: User0_1: 100%|██████████████████████████████████████████| 100/100 [00:03<00:00, 30.96it/s]\n",
      "Round201: User3_1: 100%|██████████████████████████████████████████| 100/100 [00:03<00:00, 29.60it/s]\n",
      "Round201: User1_1: 100%|██████████████████████████████████████████| 100/100 [00:03<00:00, 31.47it/s]\n",
      "Round201: User4_1: 100%|██████████████████████████████████████████| 100/100 [00:03<00:00, 30.87it/s]\n",
      "Round201: User2_1: 100%|██████████████████████████████████████████| 100/100 [00:03<00:00, 30.09it/s]\n"
     ]
    },
    {
     "name": "stdout",
     "output_type": "stream",
     "text": [
      "client:0 train_acc: 92.92%, train_loss: 4.5440\n",
      "client:3 train_acc: 92.77%, train_loss: 9.1170\n",
      "client:1 train_acc: 92.88%, train_loss: 13.5648\n",
      "client:4 train_acc: 92.89%, train_loss: 18.1479\n",
      "client:2 train_acc: 92.86%, train_loss: 22.7744\n",
      "Test set: Average loss: 3.8891, Accuracy: 2107/10000 (21.07%)\n"
     ]
    },
    {
     "name": "stderr",
     "output_type": "stream",
     "text": [
      "Round202: User0_1: 100%|██████████████████████████████████████████| 100/100 [00:03<00:00, 30.26it/s]\n",
      "Round202: User1_1: 100%|██████████████████████████████████████████| 100/100 [00:03<00:00, 30.29it/s]\n",
      "Round202: User4_1: 100%|██████████████████████████████████████████| 100/100 [00:03<00:00, 30.83it/s]\n",
      "Round202: User2_1: 100%|██████████████████████████████████████████| 100/100 [00:03<00:00, 30.61it/s]\n",
      "Round202: User3_1: 100%|██████████████████████████████████████████| 100/100 [00:03<00:00, 28.75it/s]\n"
     ]
    },
    {
     "name": "stdout",
     "output_type": "stream",
     "text": [
      "client:0 train_acc: 93.14%, train_loss: 4.3799\n",
      "client:1 train_acc: 93.08%, train_loss: 8.7365\n",
      "client:4 train_acc: 93.02%, train_loss: 13.2205\n",
      "client:2 train_acc: 92.97%, train_loss: 17.6789\n",
      "client:3 train_acc: 93.00%, train_loss: 22.0475\n",
      "Test set: Average loss: 3.9061, Accuracy: 2139/10000 (21.39%)\n"
     ]
    },
    {
     "name": "stderr",
     "output_type": "stream",
     "text": [
      "Round203: User4_1: 100%|██████████████████████████████████████████| 100/100 [00:03<00:00, 30.54it/s]\n",
      "Round203: User2_1: 100%|██████████████████████████████████████████| 100/100 [00:03<00:00, 30.76it/s]\n",
      "Round203: User3_1: 100%|██████████████████████████████████████████| 100/100 [00:03<00:00, 32.01it/s]\n",
      "Round203: User0_1: 100%|██████████████████████████████████████████| 100/100 [00:03<00:00, 30.56it/s]\n",
      "Round203: User1_1: 100%|██████████████████████████████████████████| 100/100 [00:03<00:00, 29.71it/s]\n"
     ]
    },
    {
     "name": "stdout",
     "output_type": "stream",
     "text": [
      "client:4 train_acc: 92.62%, train_loss: 4.5157\n",
      "client:2 train_acc: 92.70%, train_loss: 8.8785\n",
      "client:3 train_acc: 92.71%, train_loss: 13.3008\n",
      "client:0 train_acc: 92.77%, train_loss: 17.6563\n",
      "client:1 train_acc: 92.74%, train_loss: 22.0448\n",
      "Test set: Average loss: 4.0204, Accuracy: 2135/10000 (21.35%)\n"
     ]
    },
    {
     "name": "stderr",
     "output_type": "stream",
     "text": [
      "Round204: User3_1: 100%|██████████████████████████████████████████| 100/100 [00:03<00:00, 30.00it/s]\n",
      "Round204: User2_1: 100%|██████████████████████████████████████████| 100/100 [00:03<00:00, 31.23it/s]\n",
      "Round204: User0_1: 100%|██████████████████████████████████████████| 100/100 [00:03<00:00, 31.71it/s]\n",
      "Round204: User4_1: 100%|██████████████████████████████████████████| 100/100 [00:03<00:00, 30.63it/s]\n",
      "Round204: User1_1: 100%|██████████████████████████████████████████| 100/100 [00:03<00:00, 30.09it/s]\n"
     ]
    },
    {
     "name": "stdout",
     "output_type": "stream",
     "text": [
      "client:3 train_acc: 93.27%, train_loss: 4.1580\n",
      "client:2 train_acc: 93.62%, train_loss: 8.2197\n",
      "client:0 train_acc: 93.70%, train_loss: 12.3434\n",
      "client:4 train_acc: 93.56%, train_loss: 16.7370\n",
      "client:1 train_acc: 93.56%, train_loss: 20.9182\n",
      "Test set: Average loss: 3.8495, Accuracy: 2227/10000 (22.27%)\n"
     ]
    },
    {
     "name": "stderr",
     "output_type": "stream",
     "text": [
      "Round205: User2_1: 100%|██████████████████████████████████████████| 100/100 [00:03<00:00, 31.70it/s]\n",
      "Round205: User4_1: 100%|██████████████████████████████████████████| 100/100 [00:02<00:00, 35.81it/s]\n",
      "Round205: User0_1: 100%|██████████████████████████████████████████| 100/100 [00:02<00:00, 36.22it/s]\n",
      "Round205: User1_1: 100%|██████████████████████████████████████████| 100/100 [00:02<00:00, 37.12it/s]\n",
      "Round205: User3_1: 100%|██████████████████████████████████████████| 100/100 [00:03<00:00, 31.53it/s]\n"
     ]
    },
    {
     "name": "stdout",
     "output_type": "stream",
     "text": [
      "client:2 train_acc: 93.62%, train_loss: 4.1593\n",
      "client:4 train_acc: 93.34%, train_loss: 8.5035\n",
      "client:0 train_acc: 93.35%, train_loss: 12.7898\n",
      "client:1 train_acc: 93.45%, train_loss: 16.9686\n",
      "client:3 train_acc: 93.43%, train_loss: 21.1497\n",
      "Test set: Average loss: 3.9216, Accuracy: 2272/10000 (22.72%)\n"
     ]
    },
    {
     "name": "stderr",
     "output_type": "stream",
     "text": [
      "Round206: User2_1: 100%|██████████████████████████████████████████| 100/100 [00:03<00:00, 30.79it/s]\n",
      "Round206: User1_1: 100%|██████████████████████████████████████████| 100/100 [00:03<00:00, 30.41it/s]\n",
      "Round206: User0_1: 100%|██████████████████████████████████████████| 100/100 [00:03<00:00, 30.92it/s]\n",
      "Round206: User4_1: 100%|██████████████████████████████████████████| 100/100 [00:03<00:00, 30.68it/s]\n",
      "Round206: User3_1: 100%|██████████████████████████████████████████| 100/100 [00:03<00:00, 30.12it/s]\n"
     ]
    },
    {
     "name": "stdout",
     "output_type": "stream",
     "text": [
      "client:2 train_acc: 94.14%, train_loss: 3.8527\n",
      "client:1 train_acc: 93.95%, train_loss: 7.8648\n",
      "client:0 train_acc: 93.95%, train_loss: 11.8284\n",
      "client:4 train_acc: 93.86%, train_loss: 15.9432\n",
      "client:3 train_acc: 93.92%, train_loss: 19.8007\n",
      "Test set: Average loss: 3.8569, Accuracy: 2258/10000 (22.58%)\n"
     ]
    },
    {
     "name": "stderr",
     "output_type": "stream",
     "text": [
      "Round207: User1_1: 100%|██████████████████████████████████████████| 100/100 [00:03<00:00, 30.46it/s]\n",
      "Round207: User3_1: 100%|██████████████████████████████████████████| 100/100 [00:03<00:00, 30.16it/s]\n",
      "Round207: User2_1: 100%|██████████████████████████████████████████| 100/100 [00:03<00:00, 31.36it/s]\n",
      "Round207: User4_1: 100%|██████████████████████████████████████████| 100/100 [00:03<00:00, 31.96it/s]\n",
      "Round207: User0_1: 100%|██████████████████████████████████████████| 100/100 [00:03<00:00, 29.66it/s]\n"
     ]
    },
    {
     "name": "stdout",
     "output_type": "stream",
     "text": [
      "client:1 train_acc: 93.98%, train_loss: 3.9391\n",
      "client:3 train_acc: 93.69%, train_loss: 8.0651\n",
      "client:2 train_acc: 93.85%, train_loss: 12.0009\n",
      "client:4 train_acc: 93.80%, train_loss: 16.0253\n",
      "client:0 train_acc: 93.84%, train_loss: 20.0208\n",
      "Test set: Average loss: 3.9873, Accuracy: 2173/10000 (21.73%)\n"
     ]
    },
    {
     "name": "stderr",
     "output_type": "stream",
     "text": [
      "Round208: User3_1: 100%|██████████████████████████████████████████| 100/100 [00:03<00:00, 28.86it/s]\n",
      "Round208: User4_1: 100%|██████████████████████████████████████████| 100/100 [00:03<00:00, 30.00it/s]\n",
      "Round208: User2_1: 100%|██████████████████████████████████████████| 100/100 [00:03<00:00, 30.40it/s]\n",
      "Round208: User1_1: 100%|██████████████████████████████████████████| 100/100 [00:03<00:00, 29.80it/s]\n",
      "Round208: User0_1: 100%|██████████████████████████████████████████| 100/100 [00:03<00:00, 31.05it/s]\n"
     ]
    },
    {
     "name": "stdout",
     "output_type": "stream",
     "text": [
      "client:3 train_acc: 93.22%, train_loss: 4.0931\n",
      "client:4 train_acc: 93.25%, train_loss: 8.2117\n",
      "client:2 train_acc: 93.27%, train_loss: 12.3614\n",
      "client:1 train_acc: 93.39%, train_loss: 16.3751\n",
      "client:0 train_acc: 93.43%, train_loss: 20.4586\n",
      "Test set: Average loss: 3.9306, Accuracy: 2269/10000 (22.69%)\n"
     ]
    },
    {
     "name": "stderr",
     "output_type": "stream",
     "text": [
      "Round209: User2_1: 100%|██████████████████████████████████████████| 100/100 [00:03<00:00, 30.49it/s]\n",
      "Round209: User3_1: 100%|██████████████████████████████████████████| 100/100 [00:03<00:00, 30.38it/s]\n",
      "Round209: User0_1: 100%|██████████████████████████████████████████| 100/100 [00:03<00:00, 30.29it/s]\n",
      "Round209: User1_1: 100%|██████████████████████████████████████████| 100/100 [00:03<00:00, 29.55it/s]\n",
      "Round209: User4_1: 100%|██████████████████████████████████████████| 100/100 [00:03<00:00, 31.09it/s]\n"
     ]
    },
    {
     "name": "stdout",
     "output_type": "stream",
     "text": [
      "client:2 train_acc: 93.71%, train_loss: 4.0009\n",
      "client:3 train_acc: 93.41%, train_loss: 8.2068\n",
      "client:0 train_acc: 93.53%, train_loss: 12.2507\n",
      "client:1 train_acc: 93.67%, train_loss: 16.1796\n",
      "client:4 train_acc: 93.62%, train_loss: 20.4086\n",
      "Test set: Average loss: 3.8815, Accuracy: 2288/10000 (22.88%)\n"
     ]
    },
    {
     "name": "stderr",
     "output_type": "stream",
     "text": [
      "Round210: User0_1: 100%|██████████████████████████████████████████| 100/100 [00:03<00:00, 30.06it/s]\n",
      "Round210: User3_1: 100%|██████████████████████████████████████████| 100/100 [00:03<00:00, 30.64it/s]\n",
      "Round210: User2_1: 100%|██████████████████████████████████████████| 100/100 [00:03<00:00, 31.03it/s]\n",
      "Round210: User4_1: 100%|██████████████████████████████████████████| 100/100 [00:03<00:00, 29.23it/s]\n",
      "Round210: User1_1: 100%|██████████████████████████████████████████| 100/100 [00:03<00:00, 30.87it/s]\n"
     ]
    },
    {
     "name": "stdout",
     "output_type": "stream",
     "text": [
      "client:0 train_acc: 94.25%, train_loss: 3.7452\n",
      "client:3 train_acc: 94.20%, train_loss: 7.5149\n",
      "client:2 train_acc: 94.13%, train_loss: 11.3268\n",
      "client:4 train_acc: 94.14%, train_loss: 15.1279\n",
      "client:1 train_acc: 94.26%, train_loss: 18.8268\n",
      "Test set: Average loss: 3.9292, Accuracy: 2264/10000 (22.64%)\n"
     ]
    },
    {
     "name": "stderr",
     "output_type": "stream",
     "text": [
      "Round211: User0_1: 100%|██████████████████████████████████████████| 100/100 [00:03<00:00, 30.44it/s]\n",
      "Round211: User1_1: 100%|██████████████████████████████████████████| 100/100 [00:03<00:00, 31.24it/s]\n",
      "Round211: User3_1: 100%|██████████████████████████████████████████| 100/100 [00:03<00:00, 30.53it/s]\n",
      "Round211: User2_1: 100%|██████████████████████████████████████████| 100/100 [00:03<00:00, 29.83it/s]\n",
      "Round211: User4_1: 100%|██████████████████████████████████████████| 100/100 [00:03<00:00, 30.86it/s]\n"
     ]
    },
    {
     "name": "stdout",
     "output_type": "stream",
     "text": [
      "client:0 train_acc: 94.40%, train_loss: 3.7642\n",
      "client:1 train_acc: 94.48%, train_loss: 7.4536\n",
      "client:3 train_acc: 94.25%, train_loss: 11.3558\n",
      "client:2 train_acc: 94.27%, train_loss: 15.1815\n",
      "client:4 train_acc: 94.21%, train_loss: 19.0757\n",
      "Test set: Average loss: 3.8568, Accuracy: 2281/10000 (22.81%)\n"
     ]
    },
    {
     "name": "stderr",
     "output_type": "stream",
     "text": [
      "Round212: User0_1: 100%|██████████████████████████████████████████| 100/100 [00:03<00:00, 29.43it/s]\n",
      "Round212: User1_1: 100%|██████████████████████████████████████████| 100/100 [00:03<00:00, 30.12it/s]\n",
      "Round212: User2_1: 100%|██████████████████████████████████████████| 100/100 [00:03<00:00, 30.76it/s]\n",
      "Round212: User3_1: 100%|██████████████████████████████████████████| 100/100 [00:03<00:00, 29.80it/s]\n",
      "Round212: User4_1: 100%|██████████████████████████████████████████| 100/100 [00:03<00:00, 31.53it/s]\n"
     ]
    },
    {
     "name": "stdout",
     "output_type": "stream",
     "text": [
      "client:0 train_acc: 94.41%, train_loss: 3.6770\n",
      "client:1 train_acc: 94.48%, train_loss: 7.3644\n",
      "client:2 train_acc: 94.39%, train_loss: 11.0982\n",
      "client:3 train_acc: 94.48%, train_loss: 14.5915\n",
      "client:4 train_acc: 94.39%, train_loss: 18.4180\n",
      "Test set: Average loss: 3.9609, Accuracy: 2253/10000 (22.53%)\n"
     ]
    },
    {
     "name": "stderr",
     "output_type": "stream",
     "text": [
      "Round213: User2_1: 100%|██████████████████████████████████████████| 100/100 [00:03<00:00, 30.99it/s]\n",
      "Round213: User4_1: 100%|██████████████████████████████████████████| 100/100 [00:03<00:00, 31.49it/s]\n",
      "Round213: User3_1: 100%|██████████████████████████████████████████| 100/100 [00:03<00:00, 30.86it/s]\n",
      "Round213: User1_1: 100%|██████████████████████████████████████████| 100/100 [00:03<00:00, 29.88it/s]\n",
      "Round213: User0_1: 100%|██████████████████████████████████████████| 100/100 [00:03<00:00, 31.40it/s]\n"
     ]
    },
    {
     "name": "stdout",
     "output_type": "stream",
     "text": [
      "client:2 train_acc: 94.49%, train_loss: 3.4774\n",
      "client:4 train_acc: 94.41%, train_loss: 7.0516\n",
      "client:3 train_acc: 94.39%, train_loss: 10.6185\n",
      "client:1 train_acc: 94.46%, train_loss: 14.0950\n",
      "client:0 train_acc: 94.53%, train_loss: 17.5655\n",
      "Test set: Average loss: 4.0671, Accuracy: 2243/10000 (22.43%)\n"
     ]
    },
    {
     "name": "stderr",
     "output_type": "stream",
     "text": [
      "Round214: User4_1: 100%|██████████████████████████████████████████| 100/100 [00:03<00:00, 29.59it/s]\n",
      "Round214: User0_1: 100%|██████████████████████████████████████████| 100/100 [00:03<00:00, 30.99it/s]\n",
      "Round214: User1_1: 100%|██████████████████████████████████████████| 100/100 [00:03<00:00, 29.13it/s]\n",
      "Round214: User3_1: 100%|██████████████████████████████████████████| 100/100 [00:03<00:00, 31.58it/s]\n",
      "Round214: User2_1: 100%|██████████████████████████████████████████| 100/100 [00:03<00:00, 31.10it/s]\n"
     ]
    },
    {
     "name": "stdout",
     "output_type": "stream",
     "text": [
      "client:4 train_acc: 94.70%, train_loss: 3.5576\n",
      "client:0 train_acc: 94.80%, train_loss: 7.0452\n",
      "client:1 train_acc: 94.96%, train_loss: 10.4558\n",
      "client:3 train_acc: 94.88%, train_loss: 13.9158\n",
      "client:2 train_acc: 94.90%, train_loss: 17.3452\n",
      "Test set: Average loss: 3.9870, Accuracy: 2185/10000 (21.85%)\n"
     ]
    },
    {
     "name": "stderr",
     "output_type": "stream",
     "text": [
      "Round215: User2_1: 100%|██████████████████████████████████████████| 100/100 [00:03<00:00, 30.47it/s]\n",
      "Round215: User0_1: 100%|██████████████████████████████████████████| 100/100 [00:03<00:00, 29.71it/s]\n",
      "Round215: User4_1: 100%|██████████████████████████████████████████| 100/100 [00:03<00:00, 29.38it/s]\n",
      "Round215: User3_1: 100%|██████████████████████████████████████████| 100/100 [00:03<00:00, 31.68it/s]\n",
      "Round215: User1_1: 100%|██████████████████████████████████████████| 100/100 [00:03<00:00, 30.75it/s]\n"
     ]
    },
    {
     "name": "stdout",
     "output_type": "stream",
     "text": [
      "client:2 train_acc: 94.81%, train_loss: 3.5173\n",
      "client:0 train_acc: 94.75%, train_loss: 7.0854\n",
      "client:4 train_acc: 94.52%, train_loss: 10.8698\n",
      "client:3 train_acc: 94.58%, train_loss: 14.3623\n",
      "client:1 train_acc: 94.53%, train_loss: 18.0874\n",
      "Test set: Average loss: 4.0634, Accuracy: 2177/10000 (21.77%)\n"
     ]
    },
    {
     "name": "stderr",
     "output_type": "stream",
     "text": [
      "Round216: User4_1: 100%|██████████████████████████████████████████| 100/100 [00:03<00:00, 30.10it/s]\n",
      "Round216: User0_1: 100%|██████████████████████████████████████████| 100/100 [00:03<00:00, 30.89it/s]\n",
      "Round216: User2_1: 100%|██████████████████████████████████████████| 100/100 [00:03<00:00, 30.19it/s]\n",
      "Round216: User1_1: 100%|██████████████████████████████████████████| 100/100 [00:03<00:00, 31.45it/s]\n",
      "Round216: User3_1: 100%|██████████████████████████████████████████| 100/100 [00:03<00:00, 30.93it/s]\n"
     ]
    },
    {
     "name": "stdout",
     "output_type": "stream",
     "text": [
      "client:4 train_acc: 94.53%, train_loss: 3.5103\n",
      "client:0 train_acc: 94.86%, train_loss: 6.8218\n",
      "client:2 train_acc: 94.99%, train_loss: 10.0760\n",
      "client:1 train_acc: 95.03%, train_loss: 13.4247\n",
      "client:3 train_acc: 95.03%, train_loss: 16.7313\n",
      "Test set: Average loss: 4.0446, Accuracy: 2254/10000 (22.54%)\n"
     ]
    },
    {
     "name": "stderr",
     "output_type": "stream",
     "text": [
      "Round217: User2_1: 100%|██████████████████████████████████████████| 100/100 [00:03<00:00, 31.85it/s]\n",
      "Round217: User1_1: 100%|██████████████████████████████████████████| 100/100 [00:03<00:00, 31.34it/s]\n",
      "Round217: User4_1: 100%|██████████████████████████████████████████| 100/100 [00:03<00:00, 29.88it/s]\n",
      "Round217: User0_1: 100%|██████████████████████████████████████████| 100/100 [00:03<00:00, 31.88it/s]\n",
      "Round217: User3_1: 100%|██████████████████████████████████████████| 100/100 [00:03<00:00, 30.91it/s]\n"
     ]
    },
    {
     "name": "stdout",
     "output_type": "stream",
     "text": [
      "client:2 train_acc: 95.45%, train_loss: 3.3403\n",
      "client:1 train_acc: 95.29%, train_loss: 6.7607\n",
      "client:4 train_acc: 95.23%, train_loss: 10.1339\n",
      "client:0 train_acc: 95.25%, train_loss: 13.5229\n",
      "client:3 train_acc: 95.19%, train_loss: 16.9546\n",
      "Test set: Average loss: 3.9578, Accuracy: 2283/10000 (22.83%)\n"
     ]
    },
    {
     "name": "stderr",
     "output_type": "stream",
     "text": [
      "Round218: User4_1: 100%|██████████████████████████████████████████| 100/100 [00:03<00:00, 31.06it/s]\n",
      "Round218: User1_1: 100%|██████████████████████████████████████████| 100/100 [00:03<00:00, 30.66it/s]\n",
      "Round218: User3_1: 100%|██████████████████████████████████████████| 100/100 [00:03<00:00, 30.07it/s]\n",
      "Round218: User2_1: 100%|██████████████████████████████████████████| 100/100 [00:03<00:00, 30.64it/s]\n",
      "Round218: User0_1: 100%|██████████████████████████████████████████| 100/100 [00:03<00:00, 29.95it/s]\n"
     ]
    },
    {
     "name": "stdout",
     "output_type": "stream",
     "text": [
      "client:4 train_acc: 94.94%, train_loss: 3.3746\n",
      "client:1 train_acc: 95.23%, train_loss: 6.5823\n",
      "client:3 train_acc: 95.25%, train_loss: 9.7624\n",
      "client:2 train_acc: 95.30%, train_loss: 12.8884\n",
      "client:0 train_acc: 95.28%, train_loss: 16.0698\n",
      "Test set: Average loss: 4.0085, Accuracy: 2328/10000 (23.28%)\n"
     ]
    },
    {
     "name": "stderr",
     "output_type": "stream",
     "text": [
      "Round219: User1_1: 100%|██████████████████████████████████████████| 100/100 [00:03<00:00, 30.55it/s]\n",
      "Round219: User3_1: 100%|██████████████████████████████████████████| 100/100 [00:03<00:00, 30.30it/s]\n",
      "Round219: User0_1: 100%|██████████████████████████████████████████| 100/100 [00:03<00:00, 29.79it/s]\n",
      "Round219: User4_1: 100%|██████████████████████████████████████████| 100/100 [00:03<00:00, 30.30it/s]\n",
      "Round219: User2_1: 100%|██████████████████████████████████████████| 100/100 [00:03<00:00, 31.26it/s]\n"
     ]
    },
    {
     "name": "stdout",
     "output_type": "stream",
     "text": [
      "client:1 train_acc: 95.48%, train_loss: 3.0525\n",
      "client:3 train_acc: 95.39%, train_loss: 6.1272\n",
      "client:0 train_acc: 95.31%, train_loss: 9.2204\n",
      "client:4 train_acc: 95.18%, train_loss: 12.5216\n",
      "client:2 train_acc: 95.21%, train_loss: 15.5804\n",
      "Test set: Average loss: 4.0938, Accuracy: 2335/10000 (23.35%)\n"
     ]
    },
    {
     "name": "stderr",
     "output_type": "stream",
     "text": [
      "Round220: User0_1: 100%|██████████████████████████████████████████| 100/100 [00:03<00:00, 31.05it/s]\n",
      "Round220: User1_1: 100%|██████████████████████████████████████████| 100/100 [00:03<00:00, 29.84it/s]\n",
      "Round220: User4_1: 100%|██████████████████████████████████████████| 100/100 [00:03<00:00, 31.52it/s]\n",
      "Round220: User3_1: 100%|██████████████████████████████████████████| 100/100 [00:03<00:00, 30.75it/s]\n",
      "Round220: User2_1: 100%|██████████████████████████████████████████| 100/100 [00:03<00:00, 29.25it/s]\n"
     ]
    },
    {
     "name": "stdout",
     "output_type": "stream",
     "text": [
      "client:0 train_acc: 95.14%, train_loss: 3.2138\n",
      "client:1 train_acc: 95.39%, train_loss: 6.4337\n",
      "client:4 train_acc: 95.32%, train_loss: 9.6985\n",
      "client:3 train_acc: 95.32%, train_loss: 12.8893\n",
      "client:2 train_acc: 95.42%, train_loss: 15.9190\n",
      "Test set: Average loss: 4.2034, Accuracy: 2208/10000 (22.08%)\n"
     ]
    },
    {
     "name": "stderr",
     "output_type": "stream",
     "text": [
      "Round221: User0_1: 100%|██████████████████████████████████████████| 100/100 [00:03<00:00, 30.79it/s]\n",
      "Round221: User4_1: 100%|██████████████████████████████████████████| 100/100 [00:03<00:00, 29.50it/s]\n",
      "Round221: User3_1: 100%|██████████████████████████████████████████| 100/100 [00:03<00:00, 31.31it/s]\n",
      "Round221: User1_1: 100%|██████████████████████████████████████████| 100/100 [00:03<00:00, 29.96it/s]\n",
      "Round221: User2_1: 100%|██████████████████████████████████████████| 100/100 [00:03<00:00, 28.95it/s]\n"
     ]
    },
    {
     "name": "stdout",
     "output_type": "stream",
     "text": [
      "client:0 train_acc: 95.03%, train_loss: 3.1554\n",
      "client:4 train_acc: 95.08%, train_loss: 6.3452\n",
      "client:3 train_acc: 95.12%, train_loss: 9.5134\n",
      "client:1 train_acc: 95.21%, train_loss: 12.6659\n",
      "client:2 train_acc: 95.28%, train_loss: 15.7240\n",
      "Test set: Average loss: 4.2225, Accuracy: 2180/10000 (21.80%)\n"
     ]
    },
    {
     "name": "stderr",
     "output_type": "stream",
     "text": [
      "Round222: User1_1: 100%|██████████████████████████████████████████| 100/100 [00:03<00:00, 29.95it/s]\n",
      "Round222: User0_1: 100%|██████████████████████████████████████████| 100/100 [00:03<00:00, 30.20it/s]\n",
      "Round222: User3_1: 100%|██████████████████████████████████████████| 100/100 [00:03<00:00, 30.52it/s]\n",
      "Round222: User4_1: 100%|██████████████████████████████████████████| 100/100 [00:03<00:00, 31.04it/s]\n",
      "Round222: User2_1: 100%|██████████████████████████████████████████| 100/100 [00:03<00:00, 29.81it/s]\n"
     ]
    },
    {
     "name": "stdout",
     "output_type": "stream",
     "text": [
      "client:1 train_acc: 96.02%, train_loss: 3.0901\n",
      "client:0 train_acc: 95.95%, train_loss: 6.0699\n",
      "client:3 train_acc: 95.77%, train_loss: 9.1995\n",
      "client:4 train_acc: 95.76%, train_loss: 12.2525\n",
      "client:2 train_acc: 95.78%, train_loss: 15.2970\n",
      "Test set: Average loss: 3.9832, Accuracy: 2228/10000 (22.28%)\n"
     ]
    },
    {
     "name": "stderr",
     "output_type": "stream",
     "text": [
      "Round223: User2_1: 100%|██████████████████████████████████████████| 100/100 [00:03<00:00, 28.94it/s]\n",
      "Round223: User3_1: 100%|██████████████████████████████████████████| 100/100 [00:03<00:00, 30.88it/s]\n",
      "Round223: User1_1: 100%|██████████████████████████████████████████| 100/100 [00:03<00:00, 29.79it/s]\n",
      "Round223: User4_1: 100%|██████████████████████████████████████████| 100/100 [00:03<00:00, 30.22it/s]\n",
      "Round223: User0_1: 100%|██████████████████████████████████████████| 100/100 [00:03<00:00, 30.83it/s]\n"
     ]
    },
    {
     "name": "stdout",
     "output_type": "stream",
     "text": [
      "client:2 train_acc: 95.54%, train_loss: 3.0367\n",
      "client:3 train_acc: 95.52%, train_loss: 6.0384\n",
      "client:1 train_acc: 95.42%, train_loss: 9.1280\n",
      "client:4 train_acc: 95.27%, train_loss: 12.3138\n",
      "client:0 train_acc: 95.25%, train_loss: 15.4507\n",
      "Test set: Average loss: 4.2024, Accuracy: 2284/10000 (22.84%)\n"
     ]
    },
    {
     "name": "stderr",
     "output_type": "stream",
     "text": [
      "Round224: User0_1: 100%|██████████████████████████████████████████| 100/100 [00:03<00:00, 28.93it/s]\n",
      "Round224: User1_1: 100%|██████████████████████████████████████████| 100/100 [00:03<00:00, 29.92it/s]\n",
      "Round224: User2_1: 100%|██████████████████████████████████████████| 100/100 [00:03<00:00, 29.89it/s]\n",
      "Round224: User4_1: 100%|██████████████████████████████████████████| 100/100 [00:03<00:00, 29.97it/s]\n",
      "Round224: User3_1: 100%|██████████████████████████████████████████| 100/100 [00:03<00:00, 29.95it/s]\n"
     ]
    },
    {
     "name": "stdout",
     "output_type": "stream",
     "text": [
      "client:0 train_acc: 95.61%, train_loss: 3.0309\n",
      "client:1 train_acc: 95.67%, train_loss: 6.0893\n",
      "client:2 train_acc: 95.65%, train_loss: 9.1549\n",
      "client:4 train_acc: 95.61%, train_loss: 12.2084\n",
      "client:3 train_acc: 95.51%, train_loss: 15.3727\n",
      "Test set: Average loss: 4.1025, Accuracy: 2238/10000 (22.38%)\n"
     ]
    },
    {
     "name": "stderr",
     "output_type": "stream",
     "text": [
      "Round225: User1_1: 100%|██████████████████████████████████████████| 100/100 [00:03<00:00, 29.29it/s]\n",
      "Round225: User2_1: 100%|██████████████████████████████████████████| 100/100 [00:03<00:00, 30.78it/s]\n",
      "Round225: User0_1: 100%|██████████████████████████████████████████| 100/100 [00:03<00:00, 30.18it/s]\n",
      "Round225: User4_1: 100%|██████████████████████████████████████████| 100/100 [00:03<00:00, 29.43it/s]\n",
      "Round225: User3_1: 100%|██████████████████████████████████████████| 100/100 [00:03<00:00, 31.05it/s]\n"
     ]
    },
    {
     "name": "stdout",
     "output_type": "stream",
     "text": [
      "client:1 train_acc: 96.46%, train_loss: 2.6972\n",
      "client:2 train_acc: 96.31%, train_loss: 5.4603\n",
      "client:0 train_acc: 96.31%, train_loss: 8.1925\n",
      "client:4 train_acc: 96.24%, train_loss: 10.9603\n",
      "client:3 train_acc: 96.19%, train_loss: 13.7432\n",
      "Test set: Average loss: 4.2155, Accuracy: 2232/10000 (22.32%)\n"
     ]
    },
    {
     "name": "stderr",
     "output_type": "stream",
     "text": [
      "Round226: User0_1: 100%|██████████████████████████████████████████| 100/100 [00:03<00:00, 29.38it/s]\n",
      "Round226: User2_1: 100%|██████████████████████████████████████████| 100/100 [00:03<00:00, 29.99it/s]\n",
      "Round226: User4_1: 100%|██████████████████████████████████████████| 100/100 [00:03<00:00, 30.17it/s]\n",
      "Round226: User3_1: 100%|██████████████████████████████████████████| 100/100 [00:03<00:00, 29.34it/s]\n",
      "Round226: User1_1: 100%|██████████████████████████████████████████| 100/100 [00:03<00:00, 30.66it/s]\n"
     ]
    },
    {
     "name": "stdout",
     "output_type": "stream",
     "text": [
      "client:0 train_acc: 96.34%, train_loss: 2.7220\n",
      "client:2 train_acc: 96.42%, train_loss: 5.3822\n",
      "client:4 train_acc: 96.27%, train_loss: 8.1658\n",
      "client:3 train_acc: 96.19%, train_loss: 10.8720\n",
      "client:1 train_acc: 96.23%, train_loss: 13.6250\n",
      "Test set: Average loss: 4.1727, Accuracy: 2245/10000 (22.45%)\n"
     ]
    },
    {
     "name": "stderr",
     "output_type": "stream",
     "text": [
      "Round227: User4_1: 100%|██████████████████████████████████████████| 100/100 [00:03<00:00, 29.82it/s]\n",
      "Round227: User1_1: 100%|██████████████████████████████████████████| 100/100 [00:03<00:00, 29.91it/s]\n",
      "Round227: User0_1: 100%|██████████████████████████████████████████| 100/100 [00:03<00:00, 29.58it/s]\n",
      "Round227: User2_1: 100%|██████████████████████████████████████████| 100/100 [00:03<00:00, 31.21it/s]\n",
      "Round227: User3_1: 100%|██████████████████████████████████████████| 100/100 [00:03<00:00, 31.41it/s]\n"
     ]
    },
    {
     "name": "stdout",
     "output_type": "stream",
     "text": [
      "client:4 train_acc: 95.92%, train_loss: 2.8121\n",
      "client:1 train_acc: 95.92%, train_loss: 5.5785\n",
      "client:0 train_acc: 95.81%, train_loss: 8.4579\n",
      "client:2 train_acc: 95.88%, train_loss: 11.1737\n",
      "client:3 train_acc: 95.88%, train_loss: 13.9562\n",
      "Test set: Average loss: 4.1202, Accuracy: 2289/10000 (22.89%)\n"
     ]
    },
    {
     "name": "stderr",
     "output_type": "stream",
     "text": [
      "Round228: User1_1: 100%|██████████████████████████████████████████| 100/100 [00:03<00:00, 29.66it/s]\n",
      "Round228: User4_1: 100%|██████████████████████████████████████████| 100/100 [00:03<00:00, 30.34it/s]\n",
      "Round228: User3_1: 100%|██████████████████████████████████████████| 100/100 [00:03<00:00, 29.65it/s]\n",
      "Round228: User2_1: 100%|██████████████████████████████████████████| 100/100 [00:03<00:00, 30.47it/s]\n",
      "Round228: User0_1: 100%|██████████████████████████████████████████| 100/100 [00:03<00:00, 30.79it/s]\n"
     ]
    },
    {
     "name": "stdout",
     "output_type": "stream",
     "text": [
      "client:1 train_acc: 95.77%, train_loss: 2.8856\n",
      "client:4 train_acc: 95.78%, train_loss: 5.6940\n",
      "client:3 train_acc: 95.80%, train_loss: 8.4176\n",
      "client:2 train_acc: 95.94%, train_loss: 11.0920\n",
      "client:0 train_acc: 95.97%, train_loss: 13.8856\n",
      "Test set: Average loss: 4.3865, Accuracy: 2157/10000 (21.57%)\n"
     ]
    },
    {
     "name": "stderr",
     "output_type": "stream",
     "text": [
      "Round229: User2_1: 100%|██████████████████████████████████████████| 100/100 [00:03<00:00, 30.18it/s]\n",
      "Round229: User3_1: 100%|██████████████████████████████████████████| 100/100 [00:03<00:00, 29.93it/s]\n",
      "Round229: User1_1: 100%|██████████████████████████████████████████| 100/100 [00:03<00:00, 30.83it/s]\n",
      "Round229: User0_1: 100%|██████████████████████████████████████████| 100/100 [00:03<00:00, 29.92it/s]\n",
      "Round229: User4_1: 100%|██████████████████████████████████████████| 100/100 [00:03<00:00, 29.25it/s]\n"
     ]
    },
    {
     "name": "stdout",
     "output_type": "stream",
     "text": [
      "client:2 train_acc: 95.87%, train_loss: 2.7873\n",
      "client:3 train_acc: 95.89%, train_loss: 5.4677\n",
      "client:1 train_acc: 96.14%, train_loss: 8.1130\n",
      "client:0 train_acc: 96.12%, train_loss: 10.8614\n",
      "client:4 train_acc: 96.05%, train_loss: 13.7539\n",
      "Test set: Average loss: 4.3564, Accuracy: 2217/10000 (22.17%)\n"
     ]
    },
    {
     "name": "stderr",
     "output_type": "stream",
     "text": [
      "Round230: User3_1: 100%|██████████████████████████████████████████| 100/100 [00:03<00:00, 29.94it/s]\n",
      "Round230: User2_1: 100%|██████████████████████████████████████████| 100/100 [00:03<00:00, 28.75it/s]\n",
      "Round230: User0_1: 100%|██████████████████████████████████████████| 100/100 [00:03<00:00, 30.93it/s]\n",
      "Round230: User1_1: 100%|██████████████████████████████████████████| 100/100 [00:03<00:00, 30.71it/s]\n",
      "Round230: User4_1: 100%|██████████████████████████████████████████| 100/100 [00:03<00:00, 28.77it/s]\n"
     ]
    },
    {
     "name": "stdout",
     "output_type": "stream",
     "text": [
      "client:3 train_acc: 96.27%, train_loss: 2.5520\n",
      "client:2 train_acc: 96.17%, train_loss: 5.1751\n",
      "client:0 train_acc: 96.15%, train_loss: 7.7757\n",
      "client:1 train_acc: 96.15%, train_loss: 10.4295\n",
      "client:4 train_acc: 96.10%, train_loss: 13.0254\n",
      "Test set: Average loss: 4.2569, Accuracy: 2314/10000 (23.14%)\n"
     ]
    },
    {
     "name": "stderr",
     "output_type": "stream",
     "text": [
      "Round231: User0_1: 100%|██████████████████████████████████████████| 100/100 [00:03<00:00, 30.62it/s]\n",
      "Round231: User4_1: 100%|██████████████████████████████████████████| 100/100 [00:03<00:00, 29.61it/s]\n",
      "Round231: User3_1: 100%|██████████████████████████████████████████| 100/100 [00:03<00:00, 30.21it/s]\n",
      "Round231: User2_1: 100%|██████████████████████████████████████████| 100/100 [00:03<00:00, 29.94it/s]\n",
      "Round231: User1_1: 100%|██████████████████████████████████████████| 100/100 [00:03<00:00, 29.84it/s]\n"
     ]
    },
    {
     "name": "stdout",
     "output_type": "stream",
     "text": [
      "client:0 train_acc: 96.52%, train_loss: 2.4946\n",
      "client:4 train_acc: 96.47%, train_loss: 5.0435\n",
      "client:3 train_acc: 96.58%, train_loss: 7.3752\n",
      "client:2 train_acc: 96.75%, train_loss: 9.7268\n",
      "client:1 train_acc: 96.79%, train_loss: 12.1803\n",
      "Test set: Average loss: 4.2599, Accuracy: 2181/10000 (21.81%)\n"
     ]
    },
    {
     "name": "stderr",
     "output_type": "stream",
     "text": [
      "Round232: User3_1: 100%|██████████████████████████████████████████| 100/100 [00:03<00:00, 30.69it/s]\n",
      "Round232: User1_1: 100%|██████████████████████████████████████████| 100/100 [00:03<00:00, 30.35it/s]\n",
      "Round232: User0_1: 100%|██████████████████████████████████████████| 100/100 [00:03<00:00, 29.93it/s]\n",
      "Round232: User4_1: 100%|██████████████████████████████████████████| 100/100 [00:03<00:00, 30.98it/s]\n",
      "Round232: User2_1: 100%|██████████████████████████████████████████| 100/100 [00:03<00:00, 29.63it/s]\n"
     ]
    },
    {
     "name": "stdout",
     "output_type": "stream",
     "text": [
      "client:3 train_acc: 96.94%, train_loss: 2.2625\n",
      "client:1 train_acc: 96.75%, train_loss: 4.6904\n",
      "client:0 train_acc: 96.74%, train_loss: 7.0753\n",
      "client:4 train_acc: 96.62%, train_loss: 9.6213\n",
      "client:2 train_acc: 96.69%, train_loss: 11.9035\n",
      "Test set: Average loss: 4.4119, Accuracy: 2296/10000 (22.96%)\n"
     ]
    },
    {
     "name": "stderr",
     "output_type": "stream",
     "text": [
      "Round233: User4_1: 100%|██████████████████████████████████████████| 100/100 [00:03<00:00, 30.66it/s]\n",
      "Round233: User0_1: 100%|██████████████████████████████████████████| 100/100 [00:03<00:00, 30.16it/s]\n",
      "Round233: User2_1: 100%|██████████████████████████████████████████| 100/100 [00:03<00:00, 31.06it/s]\n",
      "Round233: User3_1: 100%|██████████████████████████████████████████| 100/100 [00:03<00:00, 31.60it/s]\n",
      "Round233: User1_1: 100%|██████████████████████████████████████████| 100/100 [00:03<00:00, 29.99it/s]\n"
     ]
    },
    {
     "name": "stdout",
     "output_type": "stream",
     "text": [
      "client:4 train_acc: 96.33%, train_loss: 2.5516\n",
      "client:0 train_acc: 96.33%, train_loss: 5.1298\n",
      "client:2 train_acc: 96.32%, train_loss: 7.7080\n",
      "client:3 train_acc: 96.39%, train_loss: 10.2273\n",
      "client:1 train_acc: 96.38%, train_loss: 12.8082\n",
      "Test set: Average loss: 4.4609, Accuracy: 2294/10000 (22.94%)\n"
     ]
    },
    {
     "name": "stderr",
     "output_type": "stream",
     "text": [
      "Round234: User2_1: 100%|██████████████████████████████████████████| 100/100 [00:03<00:00, 27.93it/s]\n",
      "Round234: User1_1: 100%|██████████████████████████████████████████| 100/100 [00:03<00:00, 26.63it/s]\n",
      "Round234: User3_1: 100%|██████████████████████████████████████████| 100/100 [00:03<00:00, 31.46it/s]\n",
      "Round234: User0_1: 100%|██████████████████████████████████████████| 100/100 [00:03<00:00, 31.62it/s]\n",
      "Round234: User4_1: 100%|██████████████████████████████████████████| 100/100 [00:03<00:00, 30.26it/s]\n"
     ]
    },
    {
     "name": "stdout",
     "output_type": "stream",
     "text": [
      "client:2 train_acc: 97.06%, train_loss: 2.2878\n",
      "client:1 train_acc: 96.95%, train_loss: 4.7182\n",
      "client:3 train_acc: 96.89%, train_loss: 7.0205\n",
      "client:0 train_acc: 96.83%, train_loss: 9.4849\n",
      "client:4 train_acc: 96.80%, train_loss: 11.9147\n",
      "Test set: Average loss: 4.3644, Accuracy: 2263/10000 (22.63%)\n"
     ]
    },
    {
     "name": "stderr",
     "output_type": "stream",
     "text": [
      "Round235: User2_1: 100%|██████████████████████████████████████████| 100/100 [00:03<00:00, 28.76it/s]\n",
      "Round235: User1_1: 100%|██████████████████████████████████████████| 100/100 [00:03<00:00, 30.08it/s]\n",
      "Round235: User3_1: 100%|██████████████████████████████████████████| 100/100 [00:03<00:00, 30.62it/s]\n",
      "Round235: User0_1: 100%|██████████████████████████████████████████| 100/100 [00:03<00:00, 29.49it/s]\n",
      "Round235: User4_1: 100%|██████████████████████████████████████████| 100/100 [00:03<00:00, 30.61it/s]\n"
     ]
    },
    {
     "name": "stdout",
     "output_type": "stream",
     "text": [
      "client:2 train_acc: 97.39%, train_loss: 2.1105\n",
      "client:1 train_acc: 97.32%, train_loss: 4.3425\n",
      "client:3 train_acc: 97.19%, train_loss: 6.5685\n",
      "client:0 train_acc: 97.11%, train_loss: 8.8196\n",
      "client:4 train_acc: 97.04%, train_loss: 11.0732\n",
      "Test set: Average loss: 4.4579, Accuracy: 2281/10000 (22.81%)\n"
     ]
    },
    {
     "name": "stderr",
     "output_type": "stream",
     "text": [
      "Round236: User2_1: 100%|██████████████████████████████████████████| 100/100 [00:03<00:00, 29.98it/s]\n",
      "Round236: User3_1: 100%|██████████████████████████████████████████| 100/100 [00:03<00:00, 31.36it/s]\n",
      "Round236: User1_1: 100%|██████████████████████████████████████████| 100/100 [00:03<00:00, 30.35it/s]\n",
      "Round236: User0_1: 100%|██████████████████████████████████████████| 100/100 [00:03<00:00, 29.55it/s]\n",
      "Round236: User4_1: 100%|██████████████████████████████████████████| 100/100 [00:03<00:00, 30.41it/s]\n"
     ]
    },
    {
     "name": "stdout",
     "output_type": "stream",
     "text": [
      "client:2 train_acc: 96.96%, train_loss: 2.2539\n",
      "client:3 train_acc: 96.95%, train_loss: 4.4480\n",
      "client:1 train_acc: 96.93%, train_loss: 6.7736\n",
      "client:0 train_acc: 97.00%, train_loss: 8.8764\n",
      "client:4 train_acc: 97.03%, train_loss: 11.0443\n",
      "Test set: Average loss: 4.3667, Accuracy: 2242/10000 (22.42%)\n"
     ]
    },
    {
     "name": "stderr",
     "output_type": "stream",
     "text": [
      "Round237: User1_1: 100%|██████████████████████████████████████████| 100/100 [00:03<00:00, 27.91it/s]\n",
      "Round237: User0_1: 100%|██████████████████████████████████████████| 100/100 [00:03<00:00, 31.36it/s]\n",
      "Round237: User4_1: 100%|██████████████████████████████████████████| 100/100 [00:03<00:00, 31.38it/s]\n",
      "Round237: User3_1: 100%|██████████████████████████████████████████| 100/100 [00:03<00:00, 27.46it/s]\n",
      "Round237: User2_1: 100%|██████████████████████████████████████████| 100/100 [00:03<00:00, 29.10it/s]\n"
     ]
    },
    {
     "name": "stdout",
     "output_type": "stream",
     "text": [
      "client:1 train_acc: 97.22%, train_loss: 2.1901\n",
      "client:0 train_acc: 96.98%, train_loss: 4.5069\n",
      "client:4 train_acc: 96.82%, train_loss: 6.9176\n",
      "client:3 train_acc: 96.80%, train_loss: 9.2138\n",
      "client:2 train_acc: 96.83%, train_loss: 11.4632\n",
      "Test set: Average loss: 4.3556, Accuracy: 2284/10000 (22.84%)\n"
     ]
    },
    {
     "name": "stderr",
     "output_type": "stream",
     "text": [
      "Round238: User3_1: 100%|██████████████████████████████████████████| 100/100 [00:03<00:00, 30.68it/s]\n",
      "Round238: User2_1: 100%|██████████████████████████████████████████| 100/100 [00:03<00:00, 30.26it/s]\n",
      "Round238: User0_1: 100%|██████████████████████████████████████████| 100/100 [00:03<00:00, 29.95it/s]\n",
      "Round238: User4_1: 100%|██████████████████████████████████████████| 100/100 [00:03<00:00, 26.94it/s]\n",
      "Round238: User1_1: 100%|██████████████████████████████████████████| 100/100 [00:03<00:00, 28.90it/s]\n"
     ]
    },
    {
     "name": "stdout",
     "output_type": "stream",
     "text": [
      "client:3 train_acc: 97.64%, train_loss: 1.8809\n",
      "client:2 train_acc: 97.73%, train_loss: 3.7595\n",
      "client:0 train_acc: 97.60%, train_loss: 5.7996\n",
      "client:4 train_acc: 97.58%, train_loss: 7.7527\n",
      "client:1 train_acc: 97.57%, train_loss: 9.7833\n",
      "Test set: Average loss: 4.6327, Accuracy: 2171/10000 (21.71%)\n"
     ]
    },
    {
     "name": "stderr",
     "output_type": "stream",
     "text": [
      "Round239: User4_1: 100%|██████████████████████████████████████████| 100/100 [00:03<00:00, 29.87it/s]\n",
      "Round239: User3_1: 100%|██████████████████████████████████████████| 100/100 [00:03<00:00, 30.39it/s]\n",
      "Round239: User1_1: 100%|██████████████████████████████████████████| 100/100 [00:03<00:00, 30.41it/s]\n",
      "Round239: User2_1: 100%|██████████████████████████████████████████| 100/100 [00:03<00:00, 31.21it/s]\n",
      "Round239: User0_1: 100%|██████████████████████████████████████████| 100/100 [00:03<00:00, 30.63it/s]\n"
     ]
    },
    {
     "name": "stdout",
     "output_type": "stream",
     "text": [
      "client:4 train_acc: 97.37%, train_loss: 2.0620\n",
      "client:3 train_acc: 97.34%, train_loss: 4.0619\n",
      "client:1 train_acc: 97.40%, train_loss: 6.0810\n",
      "client:2 train_acc: 97.47%, train_loss: 8.0150\n",
      "client:0 train_acc: 97.49%, train_loss: 9.9798\n",
      "Test set: Average loss: 4.7674, Accuracy: 2164/10000 (21.64%)\n"
     ]
    },
    {
     "name": "stderr",
     "output_type": "stream",
     "text": [
      "Round240: User2_1: 100%|██████████████████████████████████████████| 100/100 [00:03<00:00, 31.54it/s]\n",
      "Round240: User4_1: 100%|██████████████████████████████████████████| 100/100 [00:03<00:00, 31.39it/s]\n",
      "Round240: User1_1: 100%|██████████████████████████████████████████| 100/100 [00:03<00:00, 30.61it/s]\n",
      "Round240: User3_1: 100%|██████████████████████████████████████████| 100/100 [00:03<00:00, 31.16it/s]\n",
      "Round240: User0_1: 100%|██████████████████████████████████████████| 100/100 [00:03<00:00, 30.40it/s]\n"
     ]
    },
    {
     "name": "stdout",
     "output_type": "stream",
     "text": [
      "client:2 train_acc: 96.33%, train_loss: 2.3027\n",
      "client:4 train_acc: 96.53%, train_loss: 4.4945\n",
      "client:1 train_acc: 96.53%, train_loss: 6.8372\n",
      "client:3 train_acc: 96.54%, train_loss: 9.0509\n",
      "client:0 train_acc: 96.51%, train_loss: 11.4197\n",
      "Test set: Average loss: 4.6409, Accuracy: 2258/10000 (22.58%)\n"
     ]
    },
    {
     "name": "stderr",
     "output_type": "stream",
     "text": [
      "Round241: User4_1: 100%|██████████████████████████████████████████| 100/100 [00:03<00:00, 29.08it/s]\n",
      "Round241: User0_1: 100%|██████████████████████████████████████████| 100/100 [00:03<00:00, 29.29it/s]\n",
      "Round241: User3_1: 100%|██████████████████████████████████████████| 100/100 [00:03<00:00, 31.96it/s]\n",
      "Round241: User1_1: 100%|██████████████████████████████████████████| 100/100 [00:03<00:00, 29.83it/s]\n",
      "Round241: User2_1: 100%|██████████████████████████████████████████| 100/100 [00:03<00:00, 29.46it/s]\n"
     ]
    },
    {
     "name": "stdout",
     "output_type": "stream",
     "text": [
      "client:4 train_acc: 97.59%, train_loss: 1.9267\n",
      "client:0 train_acc: 97.65%, train_loss: 3.7726\n",
      "client:3 train_acc: 97.64%, train_loss: 5.6405\n",
      "client:1 train_acc: 97.65%, train_loss: 7.6308\n",
      "client:2 train_acc: 97.72%, train_loss: 9.4887\n",
      "Test set: Average loss: 4.6059, Accuracy: 2247/10000 (22.47%)\n"
     ]
    },
    {
     "name": "stderr",
     "output_type": "stream",
     "text": [
      "Round242: User0_1: 100%|██████████████████████████████████████████| 100/100 [00:03<00:00, 31.10it/s]\n",
      "Round242: User4_1: 100%|██████████████████████████████████████████| 100/100 [00:03<00:00, 29.72it/s]\n",
      "Round242: User3_1: 100%|██████████████████████████████████████████| 100/100 [00:03<00:00, 31.28it/s]\n",
      "Round242: User2_1: 100%|██████████████████████████████████████████| 100/100 [00:03<00:00, 31.16it/s]\n",
      "Round242: User1_1: 100%|██████████████████████████████████████████| 100/100 [00:03<00:00, 30.60it/s]\n"
     ]
    },
    {
     "name": "stdout",
     "output_type": "stream",
     "text": [
      "client:0 train_acc: 96.73%, train_loss: 2.3031\n",
      "client:4 train_acc: 96.75%, train_loss: 4.5262\n",
      "client:3 train_acc: 96.82%, train_loss: 6.7945\n",
      "client:2 train_acc: 96.88%, train_loss: 8.9281\n",
      "client:1 train_acc: 96.87%, train_loss: 11.2403\n",
      "Test set: Average loss: 4.6012, Accuracy: 2223/10000 (22.23%)\n"
     ]
    },
    {
     "name": "stderr",
     "output_type": "stream",
     "text": [
      "Round243: User0_1: 100%|██████████████████████████████████████████| 100/100 [00:03<00:00, 31.14it/s]\n",
      "Round243: User1_1: 100%|██████████████████████████████████████████| 100/100 [00:03<00:00, 30.12it/s]\n",
      "Round243: User4_1: 100%|██████████████████████████████████████████| 100/100 [00:03<00:00, 31.52it/s]\n",
      "Round243: User2_1: 100%|██████████████████████████████████████████| 100/100 [00:03<00:00, 29.33it/s]\n",
      "Round243: User3_1: 100%|██████████████████████████████████████████| 100/100 [00:03<00:00, 28.66it/s]\n"
     ]
    },
    {
     "name": "stdout",
     "output_type": "stream",
     "text": [
      "client:0 train_acc: 97.51%, train_loss: 1.8886\n",
      "client:1 train_acc: 97.61%, train_loss: 3.7986\n",
      "client:4 train_acc: 97.56%, train_loss: 5.7439\n",
      "client:2 train_acc: 97.72%, train_loss: 7.4526\n",
      "client:3 train_acc: 97.72%, train_loss: 9.2848\n",
      "Test set: Average loss: 4.7817, Accuracy: 2160/10000 (21.60%)\n"
     ]
    },
    {
     "name": "stderr",
     "output_type": "stream",
     "text": [
      "Round244: User3_1: 100%|██████████████████████████████████████████| 100/100 [00:03<00:00, 30.70it/s]\n",
      "Round244: User4_1: 100%|██████████████████████████████████████████| 100/100 [00:03<00:00, 29.59it/s]\n",
      "Round244: User1_1: 100%|██████████████████████████████████████████| 100/100 [00:03<00:00, 29.34it/s]\n",
      "Round244: User2_1: 100%|██████████████████████████████████████████| 100/100 [00:03<00:00, 29.80it/s]\n",
      "Round244: User0_1: 100%|██████████████████████████████████████████| 100/100 [00:03<00:00, 30.17it/s]\n"
     ]
    },
    {
     "name": "stdout",
     "output_type": "stream",
     "text": [
      "client:3 train_acc: 97.64%, train_loss: 1.8616\n",
      "client:4 train_acc: 97.56%, train_loss: 3.7317\n",
      "client:1 train_acc: 97.64%, train_loss: 5.5954\n",
      "client:2 train_acc: 97.76%, train_loss: 7.3071\n",
      "client:0 train_acc: 97.72%, train_loss: 9.1567\n",
      "Test set: Average loss: 4.5177, Accuracy: 2224/10000 (22.24%)\n"
     ]
    },
    {
     "name": "stderr",
     "output_type": "stream",
     "text": [
      "Round245: User2_1: 100%|██████████████████████████████████████████| 100/100 [00:03<00:00, 29.44it/s]\n",
      "Round245: User3_1: 100%|██████████████████████████████████████████| 100/100 [00:03<00:00, 29.87it/s]\n",
      "Round245: User4_1: 100%|██████████████████████████████████████████| 100/100 [00:03<00:00, 30.94it/s]\n",
      "Round245: User1_1: 100%|██████████████████████████████████████████| 100/100 [00:03<00:00, 30.83it/s]\n",
      "Round245: User0_1: 100%|██████████████████████████████████████████| 100/100 [00:03<00:00, 30.10it/s]\n"
     ]
    },
    {
     "name": "stdout",
     "output_type": "stream",
     "text": [
      "client:2 train_acc: 97.63%, train_loss: 1.8784\n",
      "client:3 train_acc: 97.34%, train_loss: 3.8387\n",
      "client:4 train_acc: 97.37%, train_loss: 5.7215\n",
      "client:1 train_acc: 97.42%, train_loss: 7.5668\n",
      "client:0 train_acc: 97.42%, train_loss: 9.4922\n",
      "Test set: Average loss: 4.6244, Accuracy: 2355/10000 (23.55%)\n"
     ]
    },
    {
     "name": "stderr",
     "output_type": "stream",
     "text": [
      "Round246: User4_1: 100%|██████████████████████████████████████████| 100/100 [00:03<00:00, 30.38it/s]\n",
      "Round246: User0_1: 100%|██████████████████████████████████████████| 100/100 [00:03<00:00, 30.95it/s]\n",
      "Round246: User2_1: 100%|██████████████████████████████████████████| 100/100 [00:03<00:00, 30.81it/s]\n",
      "Round246: User1_1: 100%|██████████████████████████████████████████| 100/100 [00:03<00:00, 27.69it/s]\n",
      "Round246: User3_1: 100%|██████████████████████████████████████████| 100/100 [00:03<00:00, 31.21it/s]\n"
     ]
    },
    {
     "name": "stdout",
     "output_type": "stream",
     "text": [
      "client:4 train_acc: 97.76%, train_loss: 1.7998\n",
      "client:0 train_acc: 97.70%, train_loss: 3.5470\n",
      "client:2 train_acc: 97.86%, train_loss: 5.2536\n",
      "client:1 train_acc: 97.81%, train_loss: 7.0495\n",
      "client:3 train_acc: 97.79%, train_loss: 8.8384\n",
      "Test set: Average loss: 4.6147, Accuracy: 2201/10000 (22.01%)\n"
     ]
    },
    {
     "name": "stderr",
     "output_type": "stream",
     "text": [
      "Round247: User3_1: 100%|██████████████████████████████████████████| 100/100 [00:03<00:00, 29.55it/s]\n",
      "Round247: User1_1: 100%|██████████████████████████████████████████| 100/100 [00:03<00:00, 30.41it/s]\n",
      "Round247: User2_1: 100%|██████████████████████████████████████████| 100/100 [00:03<00:00, 29.77it/s]\n",
      "Round247: User4_1: 100%|██████████████████████████████████████████| 100/100 [00:03<00:00, 29.45it/s]\n",
      "Round247: User0_1: 100%|██████████████████████████████████████████| 100/100 [00:03<00:00, 30.53it/s]\n"
     ]
    },
    {
     "name": "stdout",
     "output_type": "stream",
     "text": [
      "client:3 train_acc: 97.60%, train_loss: 1.9141\n",
      "client:1 train_acc: 97.52%, train_loss: 3.9383\n",
      "client:2 train_acc: 97.62%, train_loss: 5.8601\n",
      "client:4 train_acc: 97.54%, train_loss: 7.8771\n",
      "client:0 train_acc: 97.51%, train_loss: 9.8954\n",
      "Test set: Average loss: 4.4972, Accuracy: 2263/10000 (22.63%)\n"
     ]
    },
    {
     "name": "stderr",
     "output_type": "stream",
     "text": [
      "Round248: User2_1: 100%|██████████████████████████████████████████| 100/100 [00:03<00:00, 30.19it/s]\n",
      "Round248: User4_1: 100%|██████████████████████████████████████████| 100/100 [00:03<00:00, 28.49it/s]\n",
      "Round248: User1_1: 100%|██████████████████████████████████████████| 100/100 [00:03<00:00, 30.32it/s]\n",
      "Round248: User0_1: 100%|██████████████████████████████████████████| 100/100 [00:03<00:00, 29.79it/s]\n",
      "Round248: User3_1: 100%|██████████████████████████████████████████| 100/100 [00:03<00:00, 28.53it/s]\n"
     ]
    },
    {
     "name": "stdout",
     "output_type": "stream",
     "text": [
      "client:2 train_acc: 98.12%, train_loss: 1.6506\n",
      "client:4 train_acc: 97.83%, train_loss: 3.4879\n",
      "client:1 train_acc: 97.90%, train_loss: 5.1626\n",
      "client:0 train_acc: 97.88%, train_loss: 6.8662\n",
      "client:3 train_acc: 97.92%, train_loss: 8.5272\n",
      "Test set: Average loss: 4.5094, Accuracy: 2370/10000 (23.70%)\n"
     ]
    },
    {
     "name": "stderr",
     "output_type": "stream",
     "text": [
      "Round249: User0_1: 100%|██████████████████████████████████████████| 100/100 [00:03<00:00, 29.60it/s]\n",
      "Round249: User4_1: 100%|██████████████████████████████████████████| 100/100 [00:03<00:00, 29.14it/s]\n",
      "Round249: User3_1: 100%|██████████████████████████████████████████| 100/100 [00:03<00:00, 28.60it/s]\n",
      "Round249: User2_1: 100%|██████████████████████████████████████████| 100/100 [00:03<00:00, 29.81it/s]\n",
      "Round249: User1_1: 100%|██████████████████████████████████████████| 100/100 [00:03<00:00, 31.19it/s]\n"
     ]
    },
    {
     "name": "stdout",
     "output_type": "stream",
     "text": [
      "client:0 train_acc: 97.56%, train_loss: 1.8393\n",
      "client:4 train_acc: 97.48%, train_loss: 3.7651\n",
      "client:3 train_acc: 97.56%, train_loss: 5.5582\n",
      "client:2 train_acc: 97.62%, train_loss: 7.2790\n",
      "client:1 train_acc: 97.60%, train_loss: 9.1809\n",
      "Test set: Average loss: 4.5652, Accuracy: 2325/10000 (23.25%)\n"
     ]
    },
    {
     "name": "stderr",
     "output_type": "stream",
     "text": [
      "Round250: User0_1: 100%|██████████████████████████████████████████| 100/100 [00:03<00:00, 31.11it/s]\n",
      "Round250: User2_1: 100%|██████████████████████████████████████████| 100/100 [00:03<00:00, 30.67it/s]\n",
      "Round250: User4_1: 100%|██████████████████████████████████████████| 100/100 [00:03<00:00, 30.00it/s]\n",
      "Round250: User1_1: 100%|██████████████████████████████████████████| 100/100 [00:03<00:00, 30.82it/s]\n",
      "Round250: User3_1: 100%|██████████████████████████████████████████| 100/100 [00:03<00:00, 29.65it/s]\n"
     ]
    },
    {
     "name": "stdout",
     "output_type": "stream",
     "text": [
      "client:0 train_acc: 98.18%, train_loss: 1.5773\n",
      "client:2 train_acc: 98.45%, train_loss: 3.0137\n",
      "client:4 train_acc: 98.36%, train_loss: 4.5995\n",
      "client:1 train_acc: 98.28%, train_loss: 6.2740\n",
      "client:3 train_acc: 98.28%, train_loss: 7.7913\n",
      "Test set: Average loss: 4.6329, Accuracy: 2251/10000 (22.51%)\n"
     ]
    },
    {
     "name": "stderr",
     "output_type": "stream",
     "text": [
      "Round251: User3_1: 100%|██████████████████████████████████████████| 100/100 [00:03<00:00, 30.04it/s]\n",
      "Round251: User1_1: 100%|██████████████████████████████████████████| 100/100 [00:03<00:00, 31.19it/s]\n",
      "Round251: User4_1: 100%|██████████████████████████████████████████| 100/100 [00:03<00:00, 30.94it/s]\n",
      "Round251: User0_1: 100%|██████████████████████████████████████████| 100/100 [00:03<00:00, 30.96it/s]\n",
      "Round251: User2_1: 100%|██████████████████████████████████████████| 100/100 [00:03<00:00, 31.42it/s]\n"
     ]
    },
    {
     "name": "stdout",
     "output_type": "stream",
     "text": [
      "client:3 train_acc: 98.64%, train_loss: 1.2501\n",
      "client:1 train_acc: 98.68%, train_loss: 2.5406\n",
      "client:4 train_acc: 98.54%, train_loss: 3.9426\n",
      "client:0 train_acc: 98.56%, train_loss: 5.2117\n",
      "client:2 train_acc: 98.60%, train_loss: 6.4880\n",
      "Test set: Average loss: 5.1748, Accuracy: 2253/10000 (22.53%)\n"
     ]
    },
    {
     "name": "stderr",
     "output_type": "stream",
     "text": [
      "Round252: User4_1: 100%|██████████████████████████████████████████| 100/100 [00:03<00:00, 31.29it/s]\n",
      "Round252: User3_1: 100%|██████████████████████████████████████████| 100/100 [00:03<00:00, 31.42it/s]\n",
      "Round252: User0_1: 100%|██████████████████████████████████████████| 100/100 [00:03<00:00, 29.75it/s]\n",
      "Round252: User1_1: 100%|██████████████████████████████████████████| 100/100 [00:03<00:00, 31.11it/s]\n",
      "Round252: User2_1: 100%|██████████████████████████████████████████| 100/100 [00:03<00:00, 30.01it/s]\n"
     ]
    },
    {
     "name": "stdout",
     "output_type": "stream",
     "text": [
      "client:4 train_acc: 97.90%, train_loss: 1.6288\n",
      "client:3 train_acc: 98.01%, train_loss: 3.1293\n",
      "client:0 train_acc: 98.06%, train_loss: 4.6838\n",
      "client:1 train_acc: 98.08%, train_loss: 6.2748\n",
      "client:2 train_acc: 98.19%, train_loss: 7.6784\n",
      "Test set: Average loss: 5.0750, Accuracy: 2280/10000 (22.80%)\n"
     ]
    },
    {
     "name": "stderr",
     "output_type": "stream",
     "text": [
      "Round253: User4_1: 100%|██████████████████████████████████████████| 100/100 [00:03<00:00, 29.88it/s]\n",
      "Round253: User2_1: 100%|██████████████████████████████████████████| 100/100 [00:03<00:00, 29.74it/s]\n",
      "Round253: User1_1: 100%|██████████████████████████████████████████| 100/100 [00:03<00:00, 30.59it/s]\n",
      "Round253: User3_1: 100%|██████████████████████████████████████████| 100/100 [00:03<00:00, 30.95it/s]\n",
      "Round253: User0_1: 100%|██████████████████████████████████████████| 100/100 [00:03<00:00, 29.45it/s]\n"
     ]
    },
    {
     "name": "stdout",
     "output_type": "stream",
     "text": [
      "client:4 train_acc: 97.84%, train_loss: 1.6450\n",
      "client:2 train_acc: 98.20%, train_loss: 3.0576\n",
      "client:1 train_acc: 98.19%, train_loss: 4.6143\n",
      "client:3 train_acc: 98.19%, train_loss: 6.1330\n",
      "client:0 train_acc: 98.18%, train_loss: 7.6864\n",
      "Test set: Average loss: 4.8653, Accuracy: 2188/10000 (21.88%)\n"
     ]
    },
    {
     "name": "stderr",
     "output_type": "stream",
     "text": [
      "Round254: User1_1: 100%|██████████████████████████████████████████| 100/100 [00:03<00:00, 31.11it/s]\n",
      "Round254: User2_1: 100%|██████████████████████████████████████████| 100/100 [00:03<00:00, 30.57it/s]\n",
      "Round254: User4_1: 100%|██████████████████████████████████████████| 100/100 [00:03<00:00, 31.77it/s]\n",
      "Round254: User0_1: 100%|██████████████████████████████████████████| 100/100 [00:03<00:00, 31.31it/s]\n",
      "Round254: User3_1: 100%|██████████████████████████████████████████| 100/100 [00:03<00:00, 29.71it/s]\n"
     ]
    },
    {
     "name": "stdout",
     "output_type": "stream",
     "text": [
      "client:1 train_acc: 97.70%, train_loss: 1.7208\n",
      "client:2 train_acc: 97.67%, train_loss: 3.3847\n",
      "client:4 train_acc: 97.60%, train_loss: 5.1031\n",
      "client:0 train_acc: 97.56%, train_loss: 6.8972\n",
      "client:3 train_acc: 97.57%, train_loss: 8.5617\n",
      "Test set: Average loss: 4.6777, Accuracy: 2304/10000 (23.04%)\n"
     ]
    },
    {
     "name": "stderr",
     "output_type": "stream",
     "text": [
      "Round255: User0_1: 100%|██████████████████████████████████████████| 100/100 [00:03<00:00, 30.04it/s]\n",
      "Round255: User4_1: 100%|██████████████████████████████████████████| 100/100 [00:03<00:00, 29.88it/s]\n",
      "Round255: User1_1: 100%|██████████████████████████████████████████| 100/100 [00:03<00:00, 30.39it/s]\n",
      "Round255: User2_1: 100%|██████████████████████████████████████████| 100/100 [00:03<00:00, 30.30it/s]\n",
      "Round255: User3_1: 100%|██████████████████████████████████████████| 100/100 [00:03<00:00, 29.08it/s]\n"
     ]
    },
    {
     "name": "stdout",
     "output_type": "stream",
     "text": [
      "client:0 train_acc: 98.72%, train_loss: 1.3097\n",
      "client:4 train_acc: 98.45%, train_loss: 2.8073\n",
      "client:1 train_acc: 98.46%, train_loss: 4.1797\n",
      "client:2 train_acc: 98.53%, train_loss: 5.4655\n",
      "client:3 train_acc: 98.55%, train_loss: 6.7682\n",
      "Test set: Average loss: 4.8986, Accuracy: 2308/10000 (23.08%)\n"
     ]
    },
    {
     "name": "stderr",
     "output_type": "stream",
     "text": [
      "Round256: User0_1: 100%|██████████████████████████████████████████| 100/100 [00:03<00:00, 31.01it/s]\n",
      "Round256: User4_1: 100%|██████████████████████████████████████████| 100/100 [00:03<00:00, 30.38it/s]\n",
      "Round256: User3_1: 100%|██████████████████████████████████████████| 100/100 [00:03<00:00, 30.22it/s]\n",
      "Round256: User1_1: 100%|██████████████████████████████████████████| 100/100 [00:03<00:00, 30.91it/s]\n",
      "Round256: User2_1: 100%|██████████████████████████████████████████| 100/100 [00:03<00:00, 28.66it/s]\n"
     ]
    },
    {
     "name": "stdout",
     "output_type": "stream",
     "text": [
      "client:0 train_acc: 98.85%, train_loss: 1.1493\n",
      "client:4 train_acc: 98.70%, train_loss: 2.3761\n",
      "client:3 train_acc: 98.73%, train_loss: 3.5668\n",
      "client:1 train_acc: 98.77%, train_loss: 4.7231\n",
      "client:2 train_acc: 98.86%, train_loss: 5.7515\n",
      "Test set: Average loss: 4.8338, Accuracy: 2299/10000 (22.99%)\n"
     ]
    },
    {
     "name": "stderr",
     "output_type": "stream",
     "text": [
      "Round257: User1_1: 100%|██████████████████████████████████████████| 100/100 [00:03<00:00, 30.77it/s]\n",
      "Round257: User3_1: 100%|██████████████████████████████████████████| 100/100 [00:03<00:00, 29.13it/s]\n",
      "Round257: User0_1: 100%|██████████████████████████████████████████| 100/100 [00:03<00:00, 31.09it/s]\n",
      "Round257: User4_1: 100%|██████████████████████████████████████████| 100/100 [00:03<00:00, 29.74it/s]\n",
      "Round257: User2_1: 100%|██████████████████████████████████████████| 100/100 [00:03<00:00, 30.90it/s]\n"
     ]
    },
    {
     "name": "stdout",
     "output_type": "stream",
     "text": [
      "client:1 train_acc: 98.03%, train_loss: 1.5900\n",
      "client:3 train_acc: 98.16%, train_loss: 3.0866\n",
      "client:0 train_acc: 98.17%, train_loss: 4.6696\n",
      "client:4 train_acc: 98.16%, train_loss: 6.2462\n",
      "client:2 train_acc: 98.28%, train_loss: 7.6404\n",
      "Test set: Average loss: 4.6869, Accuracy: 2370/10000 (23.70%)\n"
     ]
    },
    {
     "name": "stderr",
     "output_type": "stream",
     "text": [
      "Round258: User3_1: 100%|██████████████████████████████████████████| 100/100 [00:03<00:00, 29.89it/s]\n",
      "Round258: User2_1: 100%|██████████████████████████████████████████| 100/100 [00:03<00:00, 31.45it/s]\n",
      "Round258: User4_1: 100%|██████████████████████████████████████████| 100/100 [00:03<00:00, 31.92it/s]\n",
      "Round258: User0_1: 100%|██████████████████████████████████████████| 100/100 [00:03<00:00, 30.61it/s]\n",
      "Round258: User1_1: 100%|██████████████████████████████████████████| 100/100 [00:03<00:00, 30.80it/s]\n"
     ]
    },
    {
     "name": "stdout",
     "output_type": "stream",
     "text": [
      "client:3 train_acc: 98.65%, train_loss: 1.2231\n",
      "client:2 train_acc: 98.89%, train_loss: 2.3026\n",
      "client:4 train_acc: 98.76%, train_loss: 3.6165\n",
      "client:0 train_acc: 98.74%, train_loss: 4.8770\n",
      "client:1 train_acc: 98.67%, train_loss: 6.1800\n",
      "Test set: Average loss: 5.1572, Accuracy: 2271/10000 (22.71%)\n"
     ]
    },
    {
     "name": "stderr",
     "output_type": "stream",
     "text": [
      "Round259: User4_1: 100%|██████████████████████████████████████████| 100/100 [00:03<00:00, 29.98it/s]\n",
      "Round259: User0_1: 100%|██████████████████████████████████████████| 100/100 [00:03<00:00, 31.35it/s]\n",
      "Round259: User3_1: 100%|██████████████████████████████████████████| 100/100 [00:03<00:00, 32.01it/s]\n",
      "Round259: User1_1: 100%|██████████████████████████████████████████| 100/100 [00:03<00:00, 30.59it/s]\n",
      "Round259: User2_1: 100%|██████████████████████████████████████████| 100/100 [00:03<00:00, 30.90it/s]\n"
     ]
    },
    {
     "name": "stdout",
     "output_type": "stream",
     "text": [
      "client:4 train_acc: 97.73%, train_loss: 1.6556\n",
      "client:0 train_acc: 97.96%, train_loss: 3.1594\n",
      "client:3 train_acc: 97.86%, train_loss: 4.8523\n",
      "client:1 train_acc: 97.94%, train_loss: 6.3637\n",
      "client:2 train_acc: 97.89%, train_loss: 8.0128\n",
      "Test set: Average loss: 4.9833, Accuracy: 2320/10000 (23.20%)\n"
     ]
    },
    {
     "name": "stderr",
     "output_type": "stream",
     "text": [
      "Round260: User2_1: 100%|██████████████████████████████████████████| 100/100 [00:03<00:00, 29.22it/s]\n",
      "Round260: User0_1: 100%|██████████████████████████████████████████| 100/100 [00:03<00:00, 29.84it/s]\n",
      "Round260: User1_1: 100%|██████████████████████████████████████████| 100/100 [00:03<00:00, 30.40it/s]\n",
      "Round260: User4_1: 100%|██████████████████████████████████████████| 100/100 [00:03<00:00, 29.75it/s]\n",
      "Round260: User3_1: 100%|██████████████████████████████████████████| 100/100 [00:03<00:00, 31.11it/s]\n"
     ]
    },
    {
     "name": "stdout",
     "output_type": "stream",
     "text": [
      "client:2 train_acc: 99.17%, train_loss: 1.0320\n",
      "client:0 train_acc: 98.88%, train_loss: 2.2521\n",
      "client:1 train_acc: 98.81%, train_loss: 3.4616\n",
      "client:4 train_acc: 98.82%, train_loss: 4.5586\n",
      "client:3 train_acc: 98.71%, train_loss: 5.9230\n",
      "Test set: Average loss: 5.0960, Accuracy: 2319/10000 (23.19%)\n"
     ]
    },
    {
     "name": "stderr",
     "output_type": "stream",
     "text": [
      "Round261: User4_1: 100%|██████████████████████████████████████████| 100/100 [00:03<00:00, 29.81it/s]\n",
      "Round261: User2_1: 100%|██████████████████████████████████████████| 100/100 [00:03<00:00, 29.73it/s]\n",
      "Round261: User0_1: 100%|██████████████████████████████████████████| 100/100 [00:03<00:00, 29.39it/s]\n",
      "Round261: User1_1: 100%|██████████████████████████████████████████| 100/100 [00:03<00:00, 28.00it/s]\n",
      "Round261: User3_1: 100%|██████████████████████████████████████████| 100/100 [00:03<00:00, 29.75it/s]\n"
     ]
    },
    {
     "name": "stdout",
     "output_type": "stream",
     "text": [
      "client:4 train_acc: 98.74%, train_loss: 1.1860\n",
      "client:2 train_acc: 98.95%, train_loss: 2.2889\n",
      "client:0 train_acc: 98.93%, train_loss: 3.4357\n",
      "client:1 train_acc: 98.88%, train_loss: 4.6754\n",
      "client:3 train_acc: 98.86%, train_loss: 5.8693\n",
      "Test set: Average loss: 5.0398, Accuracy: 2177/10000 (21.77%)\n"
     ]
    },
    {
     "name": "stderr",
     "output_type": "stream",
     "text": [
      "Round262: User3_1: 100%|██████████████████████████████████████████| 100/100 [00:03<00:00, 27.72it/s]\n",
      "Round262: User0_1: 100%|██████████████████████████████████████████| 100/100 [00:03<00:00, 27.63it/s]\n",
      "Round262: User2_1: 100%|██████████████████████████████████████████| 100/100 [00:03<00:00, 29.46it/s]\n",
      "Round262: User4_1: 100%|██████████████████████████████████████████| 100/100 [00:03<00:00, 32.02it/s]\n",
      "Round262: User1_1: 100%|██████████████████████████████████████████| 100/100 [00:03<00:00, 31.09it/s]\n"
     ]
    },
    {
     "name": "stdout",
     "output_type": "stream",
     "text": [
      "client:3 train_acc: 98.04%, train_loss: 1.5575\n",
      "client:0 train_acc: 97.95%, train_loss: 3.1271\n",
      "client:2 train_acc: 98.04%, train_loss: 4.5906\n",
      "client:4 train_acc: 97.98%, train_loss: 6.2444\n",
      "client:1 train_acc: 97.94%, train_loss: 7.9085\n",
      "Test set: Average loss: 4.7443, Accuracy: 2256/10000 (22.56%)\n"
     ]
    },
    {
     "name": "stderr",
     "output_type": "stream",
     "text": [
      "Round263: User3_1: 100%|██████████████████████████████████████████| 100/100 [00:03<00:00, 29.80it/s]\n",
      "Round263: User2_1: 100%|██████████████████████████████████████████| 100/100 [00:03<00:00, 29.00it/s]\n",
      "Round263: User4_1: 100%|██████████████████████████████████████████| 100/100 [00:03<00:00, 28.92it/s]\n",
      "Round263: User1_1: 100%|██████████████████████████████████████████| 100/100 [00:03<00:00, 30.84it/s]\n",
      "Round263: User0_1: 100%|██████████████████████████████████████████| 100/100 [00:03<00:00, 30.32it/s]\n"
     ]
    },
    {
     "name": "stdout",
     "output_type": "stream",
     "text": [
      "client:3 train_acc: 98.82%, train_loss: 1.0845\n",
      "client:2 train_acc: 98.98%, train_loss: 2.0849\n",
      "client:4 train_acc: 98.95%, train_loss: 3.1404\n",
      "client:1 train_acc: 98.90%, train_loss: 4.2439\n",
      "client:0 train_acc: 98.90%, train_loss: 5.2831\n",
      "Test set: Average loss: 5.0785, Accuracy: 2273/10000 (22.73%)\n"
     ]
    },
    {
     "name": "stderr",
     "output_type": "stream",
     "text": [
      "Round264: User2_1: 100%|██████████████████████████████████████████| 100/100 [00:03<00:00, 31.00it/s]\n",
      "Round264: User3_1: 100%|██████████████████████████████████████████| 100/100 [00:03<00:00, 28.91it/s]\n",
      "Round264: User0_1: 100%|██████████████████████████████████████████| 100/100 [00:03<00:00, 28.62it/s]\n",
      "Round264: User4_1: 100%|██████████████████████████████████████████| 100/100 [00:03<00:00, 30.39it/s]\n",
      "Round264: User1_1: 100%|██████████████████████████████████████████| 100/100 [00:03<00:00, 31.10it/s]\n"
     ]
    },
    {
     "name": "stdout",
     "output_type": "stream",
     "text": [
      "client:2 train_acc: 99.07%, train_loss: 0.9813\n",
      "client:3 train_acc: 99.03%, train_loss: 2.0025\n",
      "client:0 train_acc: 99.09%, train_loss: 2.9658\n",
      "client:4 train_acc: 99.00%, train_loss: 4.0311\n",
      "client:1 train_acc: 98.97%, train_loss: 5.1048\n",
      "Test set: Average loss: 5.4234, Accuracy: 2163/10000 (21.63%)\n"
     ]
    },
    {
     "name": "stderr",
     "output_type": "stream",
     "text": [
      "Round265: User2_1: 100%|██████████████████████████████████████████| 100/100 [00:03<00:00, 29.71it/s]\n",
      "Round265: User4_1: 100%|██████████████████████████████████████████| 100/100 [00:03<00:00, 30.15it/s]\n",
      "Round265: User3_1: 100%|██████████████████████████████████████████| 100/100 [00:03<00:00, 31.20it/s]\n",
      "Round265: User0_1: 100%|██████████████████████████████████████████| 100/100 [00:03<00:00, 30.79it/s]\n",
      "Round265: User1_1: 100%|██████████████████████████████████████████| 100/100 [00:03<00:00, 29.24it/s]\n"
     ]
    },
    {
     "name": "stdout",
     "output_type": "stream",
     "text": [
      "client:2 train_acc: 99.13%, train_loss: 1.0557\n",
      "client:4 train_acc: 98.91%, train_loss: 2.2646\n",
      "client:3 train_acc: 98.88%, train_loss: 3.4395\n",
      "client:0 train_acc: 98.86%, train_loss: 4.6222\n",
      "client:1 train_acc: 98.88%, train_loss: 5.7677\n",
      "Test set: Average loss: 4.9162, Accuracy: 2297/10000 (22.97%)\n"
     ]
    },
    {
     "name": "stderr",
     "output_type": "stream",
     "text": [
      "Round266: User2_1: 100%|██████████████████████████████████████████| 100/100 [00:03<00:00, 29.49it/s]\n",
      "Round266: User3_1: 100%|██████████████████████████████████████████| 100/100 [00:03<00:00, 28.19it/s]\n",
      "Round266: User0_1: 100%|██████████████████████████████████████████| 100/100 [00:03<00:00, 29.51it/s]\n",
      "Round266: User1_1: 100%|██████████████████████████████████████████| 100/100 [00:03<00:00, 29.35it/s]\n",
      "Round266: User4_1: 100%|██████████████████████████████████████████| 100/100 [00:03<00:00, 29.81it/s]\n"
     ]
    },
    {
     "name": "stdout",
     "output_type": "stream",
     "text": [
      "client:2 train_acc: 98.97%, train_loss: 1.0865\n",
      "client:3 train_acc: 98.72%, train_loss: 2.3637\n",
      "client:0 train_acc: 98.66%, train_loss: 3.5934\n",
      "client:1 train_acc: 98.67%, train_loss: 4.8024\n",
      "client:4 train_acc: 98.65%, train_loss: 6.0360\n",
      "Test set: Average loss: 5.2456, Accuracy: 2155/10000 (21.55%)\n"
     ]
    },
    {
     "name": "stderr",
     "output_type": "stream",
     "text": [
      "Round267: User3_1: 100%|██████████████████████████████████████████| 100/100 [00:03<00:00, 29.03it/s]\n",
      "Round267: User4_1: 100%|██████████████████████████████████████████| 100/100 [00:03<00:00, 30.01it/s]\n",
      "Round267: User0_1: 100%|██████████████████████████████████████████| 100/100 [00:03<00:00, 29.39it/s]\n",
      "Round267: User1_1: 100%|██████████████████████████████████████████| 100/100 [00:03<00:00, 28.39it/s]\n",
      "Round267: User2_1: 100%|██████████████████████████████████████████| 100/100 [00:03<00:00, 28.66it/s]\n"
     ]
    },
    {
     "name": "stdout",
     "output_type": "stream",
     "text": [
      "client:3 train_acc: 99.27%, train_loss: 0.9525\n",
      "client:4 train_acc: 99.20%, train_loss: 1.9884\n",
      "client:0 train_acc: 99.25%, train_loss: 2.9305\n",
      "client:1 train_acc: 99.24%, train_loss: 3.9289\n",
      "client:2 train_acc: 99.25%, train_loss: 4.8839\n",
      "Test set: Average loss: 4.9615, Accuracy: 2283/10000 (22.83%)\n"
     ]
    },
    {
     "name": "stderr",
     "output_type": "stream",
     "text": [
      "Round268: User1_1: 100%|██████████████████████████████████████████| 100/100 [00:03<00:00, 30.30it/s]\n",
      "Round268: User3_1: 100%|██████████████████████████████████████████| 100/100 [00:03<00:00, 31.68it/s]\n",
      "Round268: User0_1: 100%|██████████████████████████████████████████| 100/100 [00:03<00:00, 31.92it/s]\n",
      "Round268: User2_1: 100%|██████████████████████████████████████████| 100/100 [00:03<00:00, 29.05it/s]\n",
      "Round268: User4_1: 100%|██████████████████████████████████████████| 100/100 [00:03<00:00, 29.75it/s]\n"
     ]
    },
    {
     "name": "stdout",
     "output_type": "stream",
     "text": [
      "client:1 train_acc: 98.48%, train_loss: 1.2341\n",
      "client:3 train_acc: 98.69%, train_loss: 2.3752\n",
      "client:0 train_acc: 98.68%, train_loss: 3.5931\n",
      "client:2 train_acc: 98.73%, train_loss: 4.7092\n",
      "client:4 train_acc: 98.68%, train_loss: 5.9681\n",
      "Test set: Average loss: 4.8962, Accuracy: 2283/10000 (22.83%)\n"
     ]
    },
    {
     "name": "stderr",
     "output_type": "stream",
     "text": [
      "Round269: User1_1: 100%|██████████████████████████████████████████| 100/100 [00:03<00:00, 28.68it/s]\n",
      "Round269: User2_1: 100%|██████████████████████████████████████████| 100/100 [00:03<00:00, 28.50it/s]\n",
      "Round269: User3_1: 100%|██████████████████████████████████████████| 100/100 [00:03<00:00, 27.27it/s]\n",
      "Round269: User4_1: 100%|██████████████████████████████████████████| 100/100 [00:03<00:00, 28.30it/s]\n",
      "Round269: User0_1: 100%|██████████████████████████████████████████| 100/100 [00:03<00:00, 29.15it/s]\n"
     ]
    },
    {
     "name": "stdout",
     "output_type": "stream",
     "text": [
      "client:1 train_acc: 98.85%, train_loss: 1.0610\n",
      "client:2 train_acc: 99.00%, train_loss: 2.0286\n",
      "client:3 train_acc: 98.93%, train_loss: 3.1004\n",
      "client:4 train_acc: 98.95%, train_loss: 4.0463\n",
      "client:0 train_acc: 98.95%, train_loss: 5.0364\n",
      "Test set: Average loss: 5.3406, Accuracy: 2303/10000 (23.03%)\n"
     ]
    },
    {
     "name": "stderr",
     "output_type": "stream",
     "text": [
      "Round270: User2_1: 100%|██████████████████████████████████████████| 100/100 [00:03<00:00, 30.44it/s]\n",
      "Round270: User4_1: 100%|██████████████████████████████████████████| 100/100 [00:03<00:00, 31.20it/s]\n",
      "Round270: User0_1: 100%|██████████████████████████████████████████| 100/100 [00:03<00:00, 29.22it/s]\n",
      "Round270: User1_1: 100%|██████████████████████████████████████████| 100/100 [00:03<00:00, 31.30it/s]\n",
      "Round270: User3_1: 100%|██████████████████████████████████████████| 100/100 [00:03<00:00, 31.70it/s]\n"
     ]
    },
    {
     "name": "stdout",
     "output_type": "stream",
     "text": [
      "client:2 train_acc: 98.96%, train_loss: 1.0131\n",
      "client:4 train_acc: 98.87%, train_loss: 2.1071\n",
      "client:0 train_acc: 98.87%, train_loss: 3.1483\n",
      "client:1 train_acc: 98.95%, train_loss: 4.1132\n",
      "client:3 train_acc: 98.90%, train_loss: 5.1722\n",
      "Test set: Average loss: 5.0876, Accuracy: 2357/10000 (23.57%)\n"
     ]
    },
    {
     "name": "stderr",
     "output_type": "stream",
     "text": [
      "Round271: User1_1: 100%|██████████████████████████████████████████| 100/100 [00:03<00:00, 30.79it/s]\n",
      "Round271: User2_1: 100%|██████████████████████████████████████████| 100/100 [00:03<00:00, 30.36it/s]\n",
      "Round271: User0_1: 100%|██████████████████████████████████████████| 100/100 [00:03<00:00, 29.90it/s]\n",
      "Round271: User4_1: 100%|██████████████████████████████████████████| 100/100 [00:03<00:00, 30.96it/s]\n",
      "Round271: User3_1: 100%|██████████████████████████████████████████| 100/100 [00:03<00:00, 30.10it/s]\n"
     ]
    },
    {
     "name": "stdout",
     "output_type": "stream",
     "text": [
      "client:1 train_acc: 99.06%, train_loss: 1.0170\n",
      "client:2 train_acc: 99.13%, train_loss: 1.9209\n",
      "client:0 train_acc: 99.12%, train_loss: 2.8845\n",
      "client:4 train_acc: 99.08%, train_loss: 3.8831\n",
      "client:3 train_acc: 99.12%, train_loss: 4.8134\n",
      "Test set: Average loss: 5.1286, Accuracy: 2281/10000 (22.81%)\n"
     ]
    },
    {
     "name": "stderr",
     "output_type": "stream",
     "text": [
      "Round272: User3_1: 100%|██████████████████████████████████████████| 100/100 [00:03<00:00, 29.33it/s]\n",
      "Round272: User0_1: 100%|██████████████████████████████████████████| 100/100 [00:03<00:00, 30.12it/s]\n",
      "Round272: User2_1: 100%|██████████████████████████████████████████| 100/100 [00:03<00:00, 27.72it/s]\n",
      "Round272: User1_1: 100%|██████████████████████████████████████████| 100/100 [00:03<00:00, 29.12it/s]\n",
      "Round272: User4_1: 100%|██████████████████████████████████████████| 100/100 [00:03<00:00, 27.98it/s]\n"
     ]
    },
    {
     "name": "stdout",
     "output_type": "stream",
     "text": [
      "client:3 train_acc: 99.44%, train_loss: 0.7332\n",
      "client:0 train_acc: 99.42%, train_loss: 1.4489\n",
      "client:2 train_acc: 99.45%, train_loss: 2.1751\n",
      "client:1 train_acc: 99.42%, train_loss: 2.9517\n",
      "client:4 train_acc: 99.39%, train_loss: 3.7650\n",
      "Test set: Average loss: 5.2387, Accuracy: 2265/10000 (22.65%)\n"
     ]
    },
    {
     "name": "stderr",
     "output_type": "stream",
     "text": [
      "Round273: User3_1: 100%|██████████████████████████████████████████| 100/100 [00:03<00:00, 30.22it/s]\n",
      "Round273: User1_1: 100%|██████████████████████████████████████████| 100/100 [00:03<00:00, 29.58it/s]\n",
      "Round273: User4_1: 100%|██████████████████████████████████████████| 100/100 [00:03<00:00, 31.49it/s]\n",
      "Round273: User2_1: 100%|██████████████████████████████████████████| 100/100 [00:03<00:00, 30.47it/s]\n",
      "Round273: User0_1: 100%|██████████████████████████████████████████| 100/100 [00:03<00:00, 29.72it/s]\n"
     ]
    },
    {
     "name": "stdout",
     "output_type": "stream",
     "text": [
      "client:3 train_acc: 98.85%, train_loss: 1.2268\n",
      "client:1 train_acc: 98.79%, train_loss: 2.4701\n",
      "client:4 train_acc: 98.77%, train_loss: 3.7381\n",
      "client:2 train_acc: 98.78%, train_loss: 4.9592\n",
      "client:0 train_acc: 98.81%, train_loss: 6.1300\n",
      "Test set: Average loss: 4.6795, Accuracy: 2286/10000 (22.86%)\n"
     ]
    },
    {
     "name": "stderr",
     "output_type": "stream",
     "text": [
      "Round274: User3_1: 100%|██████████████████████████████████████████| 100/100 [00:03<00:00, 30.96it/s]\n",
      "Round274: User0_1: 100%|██████████████████████████████████████████| 100/100 [00:03<00:00, 30.28it/s]\n",
      "Round274: User4_1: 100%|██████████████████████████████████████████| 100/100 [00:03<00:00, 31.71it/s]\n",
      "Round274: User2_1: 100%|██████████████████████████████████████████| 100/100 [00:03<00:00, 30.55it/s]\n",
      "Round274: User1_1: 100%|██████████████████████████████████████████| 100/100 [00:03<00:00, 29.21it/s]\n"
     ]
    },
    {
     "name": "stdout",
     "output_type": "stream",
     "text": [
      "client:3 train_acc: 99.01%, train_loss: 0.9283\n",
      "client:0 train_acc: 98.88%, train_loss: 1.9824\n",
      "client:4 train_acc: 98.86%, train_loss: 2.9444\n",
      "client:2 train_acc: 98.95%, train_loss: 3.7640\n",
      "client:1 train_acc: 98.98%, train_loss: 4.7107\n",
      "Test set: Average loss: 5.3345, Accuracy: 2326/10000 (23.26%)\n"
     ]
    },
    {
     "name": "stderr",
     "output_type": "stream",
     "text": [
      "Round275: User2_1: 100%|██████████████████████████████████████████| 100/100 [00:03<00:00, 31.54it/s]\n",
      "Round275: User1_1: 100%|██████████████████████████████████████████| 100/100 [00:03<00:00, 29.82it/s]\n",
      "Round275: User3_1: 100%|██████████████████████████████████████████| 100/100 [00:03<00:00, 30.76it/s]\n",
      "Round275: User4_1: 100%|██████████████████████████████████████████| 100/100 [00:03<00:00, 29.92it/s]\n",
      "Round275: User0_1: 100%|██████████████████████████████████████████| 100/100 [00:03<00:00, 29.39it/s]\n"
     ]
    },
    {
     "name": "stdout",
     "output_type": "stream",
     "text": [
      "client:2 train_acc: 98.94%, train_loss: 1.0100\n",
      "client:1 train_acc: 98.78%, train_loss: 2.1118\n",
      "client:3 train_acc: 98.69%, train_loss: 3.2383\n",
      "client:4 train_acc: 98.71%, train_loss: 4.3052\n",
      "client:0 train_acc: 98.74%, train_loss: 5.2827\n",
      "Test set: Average loss: 5.4080, Accuracy: 2281/10000 (22.81%)\n"
     ]
    },
    {
     "name": "stderr",
     "output_type": "stream",
     "text": [
      "Round276: User2_1: 100%|██████████████████████████████████████████| 100/100 [00:03<00:00, 29.81it/s]\n",
      "Round276: User1_1: 100%|██████████████████████████████████████████| 100/100 [00:03<00:00, 30.78it/s]\n",
      "Round276: User0_1: 100%|██████████████████████████████████████████| 100/100 [00:03<00:00, 32.80it/s]\n",
      "Round276: User4_1: 100%|██████████████████████████████████████████| 100/100 [00:02<00:00, 33.72it/s]\n",
      "Round276: User3_1: 100%|██████████████████████████████████████████| 100/100 [00:03<00:00, 29.35it/s]\n"
     ]
    },
    {
     "name": "stdout",
     "output_type": "stream",
     "text": [
      "client:2 train_acc: 99.55%, train_loss: 0.7110\n",
      "client:1 train_acc: 99.50%, train_loss: 1.4483\n",
      "client:0 train_acc: 99.40%, train_loss: 2.2529\n",
      "client:4 train_acc: 99.34%, train_loss: 3.0849\n",
      "client:3 train_acc: 99.30%, train_loss: 3.9373\n",
      "Test set: Average loss: 5.4026, Accuracy: 2288/10000 (22.88%)\n"
     ]
    },
    {
     "name": "stderr",
     "output_type": "stream",
     "text": [
      "Round277: User4_1: 100%|██████████████████████████████████████████| 100/100 [00:03<00:00, 29.49it/s]\n",
      "Round277: User3_1: 100%|██████████████████████████████████████████| 100/100 [00:03<00:00, 27.34it/s]\n",
      "Round277: User2_1: 100%|██████████████████████████████████████████| 100/100 [00:03<00:00, 30.59it/s]\n",
      "Round277: User1_1: 100%|██████████████████████████████████████████| 100/100 [00:03<00:00, 30.37it/s]\n",
      "Round277: User0_1: 100%|██████████████████████████████████████████| 100/100 [00:03<00:00, 30.62it/s]\n"
     ]
    },
    {
     "name": "stdout",
     "output_type": "stream",
     "text": [
      "client:4 train_acc: 99.36%, train_loss: 0.7155\n",
      "client:3 train_acc: 99.33%, train_loss: 1.4848\n",
      "client:2 train_acc: 99.43%, train_loss: 2.1067\n",
      "client:1 train_acc: 99.39%, train_loss: 2.8487\n",
      "client:0 train_acc: 99.43%, train_loss: 3.5137\n",
      "Test set: Average loss: 5.3275, Accuracy: 2319/10000 (23.19%)\n"
     ]
    },
    {
     "name": "stderr",
     "output_type": "stream",
     "text": [
      "Round278: User2_1: 100%|██████████████████████████████████████████| 100/100 [00:03<00:00, 29.81it/s]\n",
      "Round278: User3_1: 100%|██████████████████████████████████████████| 100/100 [00:03<00:00, 28.83it/s]\n",
      "Round278: User4_1: 100%|██████████████████████████████████████████| 100/100 [00:03<00:00, 29.02it/s]\n",
      "Round278: User1_1: 100%|██████████████████████████████████████████| 100/100 [00:03<00:00, 29.08it/s]\n",
      "Round278: User0_1: 100%|██████████████████████████████████████████| 100/100 [00:03<00:00, 29.43it/s]\n"
     ]
    },
    {
     "name": "stdout",
     "output_type": "stream",
     "text": [
      "client:2 train_acc: 99.11%, train_loss: 0.9730\n",
      "client:3 train_acc: 99.04%, train_loss: 2.0181\n",
      "client:4 train_acc: 99.07%, train_loss: 2.9862\n",
      "client:1 train_acc: 99.03%, train_loss: 4.0985\n",
      "client:0 train_acc: 99.03%, train_loss: 5.1225\n",
      "Test set: Average loss: 5.1220, Accuracy: 2284/10000 (22.84%)\n"
     ]
    },
    {
     "name": "stderr",
     "output_type": "stream",
     "text": [
      "Round279: User2_1: 100%|██████████████████████████████████████████| 100/100 [00:03<00:00, 29.35it/s]\n",
      "Round279: User3_1: 100%|██████████████████████████████████████████| 100/100 [00:03<00:00, 30.51it/s]\n",
      "Round279: User0_1: 100%|██████████████████████████████████████████| 100/100 [00:03<00:00, 31.33it/s]\n",
      "Round279: User4_1: 100%|██████████████████████████████████████████| 100/100 [00:03<00:00, 30.25it/s]\n",
      "Round279: User1_1: 100%|██████████████████████████████████████████| 100/100 [00:03<00:00, 31.40it/s]\n"
     ]
    },
    {
     "name": "stdout",
     "output_type": "stream",
     "text": [
      "client:2 train_acc: 99.62%, train_loss: 0.5741\n",
      "client:3 train_acc: 99.54%, train_loss: 1.2076\n",
      "client:0 train_acc: 99.59%, train_loss: 1.7348\n",
      "client:4 train_acc: 99.58%, train_loss: 2.2903\n",
      "client:1 train_acc: 99.57%, train_loss: 2.8639\n",
      "Test set: Average loss: 5.5346, Accuracy: 2336/10000 (23.36%)\n"
     ]
    },
    {
     "name": "stderr",
     "output_type": "stream",
     "text": [
      "Round280: User1_1: 100%|██████████████████████████████████████████| 100/100 [00:03<00:00, 30.91it/s]\n",
      "Round280: User2_1: 100%|██████████████████████████████████████████| 100/100 [00:03<00:00, 30.46it/s]\n",
      "Round280: User4_1: 100%|██████████████████████████████████████████| 100/100 [00:03<00:00, 28.49it/s]\n",
      "Round280: User0_1: 100%|██████████████████████████████████████████| 100/100 [00:03<00:00, 29.91it/s]\n",
      "Round280: User3_1: 100%|██████████████████████████████████████████| 100/100 [00:03<00:00, 31.19it/s]\n"
     ]
    },
    {
     "name": "stdout",
     "output_type": "stream",
     "text": [
      "client:1 train_acc: 98.82%, train_loss: 1.0626\n",
      "client:2 train_acc: 98.95%, train_loss: 2.0261\n",
      "client:4 train_acc: 98.94%, train_loss: 3.0297\n",
      "client:0 train_acc: 98.95%, train_loss: 4.0186\n",
      "client:3 train_acc: 98.90%, train_loss: 5.1331\n",
      "Test set: Average loss: 5.0511, Accuracy: 2358/10000 (23.58%)\n"
     ]
    },
    {
     "name": "stderr",
     "output_type": "stream",
     "text": [
      "Round281: User0_1: 100%|██████████████████████████████████████████| 100/100 [00:03<00:00, 31.27it/s]\n",
      "Round281: User4_1: 100%|██████████████████████████████████████████| 100/100 [00:03<00:00, 30.59it/s]\n",
      "Round281: User2_1: 100%|██████████████████████████████████████████| 100/100 [00:03<00:00, 29.21it/s]\n",
      "Round281: User3_1: 100%|██████████████████████████████████████████| 100/100 [00:03<00:00, 30.41it/s]\n",
      "Round281: User1_1: 100%|██████████████████████████████████████████| 100/100 [00:03<00:00, 30.92it/s]\n"
     ]
    },
    {
     "name": "stdout",
     "output_type": "stream",
     "text": [
      "client:0 train_acc: 99.38%, train_loss: 0.7205\n",
      "client:4 train_acc: 99.39%, train_loss: 1.4472\n",
      "client:2 train_acc: 99.36%, train_loss: 2.2360\n",
      "client:3 train_acc: 99.33%, train_loss: 3.0364\n",
      "client:1 train_acc: 99.34%, train_loss: 3.8303\n",
      "Test set: Average loss: 5.3144, Accuracy: 2401/10000 (24.01%)\n"
     ]
    },
    {
     "name": "stderr",
     "output_type": "stream",
     "text": [
      "Round282: User1_1: 100%|██████████████████████████████████████████| 100/100 [00:03<00:00, 30.65it/s]\n",
      "Round282: User0_1: 100%|██████████████████████████████████████████| 100/100 [00:03<00:00, 31.47it/s]\n",
      "Round282: User4_1: 100%|██████████████████████████████████████████| 100/100 [00:03<00:00, 30.32it/s]\n",
      "Round282: User2_1: 100%|██████████████████████████████████████████| 100/100 [00:03<00:00, 31.27it/s]\n",
      "Round282: User3_1: 100%|██████████████████████████████████████████| 100/100 [00:03<00:00, 31.25it/s]\n"
     ]
    },
    {
     "name": "stdout",
     "output_type": "stream",
     "text": [
      "client:1 train_acc: 98.15%, train_loss: 1.3896\n",
      "client:0 train_acc: 98.17%, train_loss: 2.7341\n",
      "client:4 train_acc: 98.13%, train_loss: 4.1747\n",
      "client:2 train_acc: 98.31%, train_loss: 5.3245\n",
      "client:3 train_acc: 98.29%, train_loss: 6.6567\n",
      "Test set: Average loss: 5.0736, Accuracy: 2288/10000 (22.88%)\n"
     ]
    },
    {
     "name": "stderr",
     "output_type": "stream",
     "text": [
      "Round283: User3_1: 100%|██████████████████████████████████████████| 100/100 [00:03<00:00, 30.87it/s]\n",
      "Round283: User0_1: 100%|██████████████████████████████████████████| 100/100 [00:03<00:00, 31.11it/s]\n",
      "Round283: User4_1: 100%|██████████████████████████████████████████| 100/100 [00:03<00:00, 29.84it/s]\n",
      "Round283: User1_1: 100%|██████████████████████████████████████████| 100/100 [00:03<00:00, 31.47it/s]\n",
      "Round283: User2_1: 100%|██████████████████████████████████████████| 100/100 [00:03<00:00, 30.97it/s]\n"
     ]
    },
    {
     "name": "stdout",
     "output_type": "stream",
     "text": [
      "client:3 train_acc: 99.61%, train_loss: 0.5427\n",
      "client:0 train_acc: 99.59%, train_loss: 1.0861\n",
      "client:4 train_acc: 99.61%, train_loss: 1.5837\n",
      "client:1 train_acc: 99.60%, train_loss: 2.1506\n",
      "client:2 train_acc: 99.62%, train_loss: 2.6582\n",
      "Test set: Average loss: 5.6094, Accuracy: 2361/10000 (23.61%)\n"
     ]
    },
    {
     "name": "stderr",
     "output_type": "stream",
     "text": [
      "Round284: User1_1: 100%|██████████████████████████████████████████| 100/100 [00:03<00:00, 30.01it/s]\n",
      "Round284: User2_1: 100%|██████████████████████████████████████████| 100/100 [00:03<00:00, 31.75it/s]\n",
      "Round284: User3_1: 100%|██████████████████████████████████████████| 100/100 [00:03<00:00, 29.55it/s]\n",
      "Round284: User4_1: 100%|██████████████████████████████████████████| 100/100 [00:03<00:00, 30.07it/s]\n",
      "Round284: User0_1: 100%|██████████████████████████████████████████| 100/100 [00:03<00:00, 30.06it/s]\n"
     ]
    },
    {
     "name": "stdout",
     "output_type": "stream",
     "text": [
      "client:1 train_acc: 99.37%, train_loss: 0.8280\n",
      "client:2 train_acc: 99.48%, train_loss: 1.4973\n",
      "client:3 train_acc: 99.39%, train_loss: 2.3957\n",
      "client:4 train_acc: 99.38%, train_loss: 3.2202\n",
      "client:0 train_acc: 99.33%, train_loss: 4.1039\n",
      "Test set: Average loss: 5.2363, Accuracy: 2305/10000 (23.05%)\n"
     ]
    },
    {
     "name": "stderr",
     "output_type": "stream",
     "text": [
      "Round285: User3_1: 100%|██████████████████████████████████████████| 100/100 [00:03<00:00, 30.84it/s]\n",
      "Round285: User1_1: 100%|██████████████████████████████████████████| 100/100 [00:03<00:00, 30.60it/s]\n",
      "Round285: User4_1: 100%|██████████████████████████████████████████| 100/100 [00:02<00:00, 33.84it/s]\n",
      "Round285: User2_1: 100%|██████████████████████████████████████████| 100/100 [00:02<00:00, 36.43it/s]\n",
      "Round285: User0_1: 100%|██████████████████████████████████████████| 100/100 [00:03<00:00, 29.62it/s]\n"
     ]
    },
    {
     "name": "stdout",
     "output_type": "stream",
     "text": [
      "client:3 train_acc: 99.61%, train_loss: 0.5445\n",
      "client:1 train_acc: 99.61%, train_loss: 1.1242\n",
      "client:4 train_acc: 99.61%, train_loss: 1.7067\n",
      "client:2 train_acc: 99.61%, train_loss: 2.2589\n",
      "client:0 train_acc: 99.63%, train_loss: 2.8149\n",
      "Test set: Average loss: 5.4710, Accuracy: 2327/10000 (23.27%)\n"
     ]
    },
    {
     "name": "stderr",
     "output_type": "stream",
     "text": [
      "Round286: User4_1: 100%|██████████████████████████████████████████| 100/100 [00:03<00:00, 30.15it/s]\n",
      "Round286: User2_1: 100%|██████████████████████████████████████████| 100/100 [00:03<00:00, 30.35it/s]\n",
      "Round286: User3_1: 100%|██████████████████████████████████████████| 100/100 [00:03<00:00, 29.40it/s]\n",
      "Round286: User1_1: 100%|██████████████████████████████████████████| 100/100 [00:03<00:00, 30.34it/s]\n",
      "Round286: User0_1: 100%|██████████████████████████████████████████| 100/100 [00:03<00:00, 29.25it/s]\n"
     ]
    },
    {
     "name": "stdout",
     "output_type": "stream",
     "text": [
      "client:4 train_acc: 99.41%, train_loss: 0.6682\n",
      "client:2 train_acc: 99.44%, train_loss: 1.3619\n",
      "client:3 train_acc: 99.42%, train_loss: 2.0852\n",
      "client:1 train_acc: 99.36%, train_loss: 2.8938\n",
      "client:0 train_acc: 99.34%, train_loss: 3.6597\n",
      "Test set: Average loss: 5.5755, Accuracy: 2270/10000 (22.70%)\n"
     ]
    },
    {
     "name": "stderr",
     "output_type": "stream",
     "text": [
      "Round287: User3_1: 100%|██████████████████████████████████████████| 100/100 [00:03<00:00, 31.01it/s]\n",
      "Round287: User2_1: 100%|██████████████████████████████████████████| 100/100 [00:03<00:00, 29.43it/s]\n",
      "Round287: User4_1: 100%|██████████████████████████████████████████| 100/100 [00:03<00:00, 30.58it/s]\n",
      "Round287: User0_1: 100%|██████████████████████████████████████████| 100/100 [00:03<00:00, 28.93it/s]\n",
      "Round287: User1_1: 100%|██████████████████████████████████████████| 100/100 [00:03<00:00, 28.52it/s]\n"
     ]
    },
    {
     "name": "stdout",
     "output_type": "stream",
     "text": [
      "client:3 train_acc: 99.51%, train_loss: 0.5758\n",
      "client:2 train_acc: 99.52%, train_loss: 1.1030\n",
      "client:4 train_acc: 99.47%, train_loss: 1.7309\n",
      "client:0 train_acc: 99.43%, train_loss: 2.3739\n",
      "client:1 train_acc: 99.41%, train_loss: 3.0145\n",
      "Test set: Average loss: 5.5100, Accuracy: 2401/10000 (24.01%)\n"
     ]
    },
    {
     "name": "stderr",
     "output_type": "stream",
     "text": [
      "Round288: User1_1: 100%|██████████████████████████████████████████| 100/100 [00:03<00:00, 27.73it/s]\n",
      "Round288: User3_1: 100%|██████████████████████████████████████████| 100/100 [00:03<00:00, 27.88it/s]\n",
      "Round288: User2_1: 100%|██████████████████████████████████████████| 100/100 [00:03<00:00, 28.15it/s]\n",
      "Round288: User4_1: 100%|██████████████████████████████████████████| 100/100 [00:03<00:00, 30.62it/s]\n",
      "Round288: User0_1: 100%|██████████████████████████████████████████| 100/100 [00:03<00:00, 29.79it/s]\n"
     ]
    },
    {
     "name": "stdout",
     "output_type": "stream",
     "text": [
      "client:1 train_acc: 99.29%, train_loss: 0.8317\n",
      "client:3 train_acc: 99.21%, train_loss: 1.6236\n",
      "client:2 train_acc: 99.27%, train_loss: 2.3747\n",
      "client:4 train_acc: 99.28%, train_loss: 3.1471\n",
      "client:0 train_acc: 99.31%, train_loss: 3.8413\n",
      "Test set: Average loss: 5.2608, Accuracy: 2340/10000 (23.40%)\n"
     ]
    },
    {
     "name": "stderr",
     "output_type": "stream",
     "text": [
      "Round289: User4_1: 100%|██████████████████████████████████████████| 100/100 [00:03<00:00, 28.60it/s]\n",
      "Round289: User0_1: 100%|██████████████████████████████████████████| 100/100 [00:03<00:00, 30.13it/s]\n",
      "Round289: User1_1: 100%|██████████████████████████████████████████| 100/100 [00:03<00:00, 30.52it/s]\n",
      "Round289: User2_1: 100%|██████████████████████████████████████████| 100/100 [00:03<00:00, 29.73it/s]\n",
      "Round289: User3_1: 100%|██████████████████████████████████████████| 100/100 [00:03<00:00, 30.84it/s]\n"
     ]
    },
    {
     "name": "stdout",
     "output_type": "stream",
     "text": [
      "client:4 train_acc: 99.81%, train_loss: 0.3695\n",
      "client:0 train_acc: 99.80%, train_loss: 0.7683\n",
      "client:1 train_acc: 99.82%, train_loss: 1.1269\n",
      "client:2 train_acc: 99.85%, train_loss: 1.4474\n",
      "client:3 train_acc: 99.84%, train_loss: 1.8443\n",
      "Test set: Average loss: 5.7191, Accuracy: 2392/10000 (23.92%)\n"
     ]
    },
    {
     "name": "stderr",
     "output_type": "stream",
     "text": [
      "Round290: User1_1: 100%|██████████████████████████████████████████| 100/100 [00:03<00:00, 29.33it/s]\n",
      "Round290: User4_1: 100%|██████████████████████████████████████████| 100/100 [00:03<00:00, 28.83it/s]\n",
      "Round290: User3_1: 100%|██████████████████████████████████████████| 100/100 [00:03<00:00, 29.91it/s]\n",
      "Round290: User2_1: 100%|██████████████████████████████████████████| 100/100 [00:03<00:00, 29.45it/s]\n",
      "Round290: User0_1: 100%|██████████████████████████████████████████| 100/100 [00:03<00:00, 31.05it/s]\n"
     ]
    },
    {
     "name": "stdout",
     "output_type": "stream",
     "text": [
      "client:1 train_acc: 99.48%, train_loss: 0.6709\n",
      "client:4 train_acc: 99.45%, train_loss: 1.3733\n",
      "client:3 train_acc: 99.44%, train_loss: 2.1037\n",
      "client:2 train_acc: 99.45%, train_loss: 2.7772\n",
      "client:0 train_acc: 99.45%, train_loss: 3.4470\n",
      "Test set: Average loss: 5.1916, Accuracy: 2299/10000 (22.99%)\n"
     ]
    },
    {
     "name": "stderr",
     "output_type": "stream",
     "text": [
      "Round291: User4_1: 100%|██████████████████████████████████████████| 100/100 [00:03<00:00, 29.39it/s]\n",
      "Round291: User3_1: 100%|██████████████████████████████████████████| 100/100 [00:03<00:00, 29.15it/s]\n",
      "Round291: User0_1: 100%|██████████████████████████████████████████| 100/100 [00:03<00:00, 29.30it/s]\n",
      "Round291: User2_1: 100%|██████████████████████████████████████████| 100/100 [00:03<00:00, 30.13it/s]\n",
      "Round291: User1_1: 100%|██████████████████████████████████████████| 100/100 [00:03<00:00, 28.71it/s]\n"
     ]
    },
    {
     "name": "stdout",
     "output_type": "stream",
     "text": [
      "client:4 train_acc: 99.72%, train_loss: 0.4053\n",
      "client:3 train_acc: 99.74%, train_loss: 0.8088\n",
      "client:0 train_acc: 99.74%, train_loss: 1.2218\n",
      "client:2 train_acc: 99.75%, train_loss: 1.6032\n",
      "client:1 train_acc: 99.74%, train_loss: 2.0315\n",
      "Test set: Average loss: 5.9281, Accuracy: 2369/10000 (23.69%)\n"
     ]
    },
    {
     "name": "stderr",
     "output_type": "stream",
     "text": [
      "Round292: User2_1: 100%|██████████████████████████████████████████| 100/100 [00:03<00:00, 31.55it/s]\n",
      "Round292: User1_1: 100%|██████████████████████████████████████████| 100/100 [00:03<00:00, 29.37it/s]\n",
      "Round292: User4_1: 100%|██████████████████████████████████████████| 100/100 [00:03<00:00, 28.08it/s]\n",
      "Round292: User0_1: 100%|██████████████████████████████████████████| 100/100 [00:03<00:00, 29.65it/s]\n",
      "Round292: User3_1: 100%|██████████████████████████████████████████| 100/100 [00:03<00:00, 30.37it/s]\n"
     ]
    },
    {
     "name": "stdout",
     "output_type": "stream",
     "text": [
      "client:2 train_acc: 99.92%, train_loss: 0.2925\n",
      "client:1 train_acc: 99.86%, train_loss: 0.6071\n",
      "client:4 train_acc: 99.86%, train_loss: 0.8987\n",
      "client:0 train_acc: 99.86%, train_loss: 1.1996\n",
      "client:3 train_acc: 99.85%, train_loss: 1.4990\n",
      "Test set: Average loss: 6.1848, Accuracy: 2306/10000 (23.06%)\n"
     ]
    },
    {
     "name": "stderr",
     "output_type": "stream",
     "text": [
      "Round293: User3_1: 100%|██████████████████████████████████████████| 100/100 [00:03<00:00, 30.63it/s]\n",
      "Round293: User0_1: 100%|██████████████████████████████████████████| 100/100 [00:03<00:00, 29.26it/s]\n",
      "Round293: User4_1: 100%|██████████████████████████████████████████| 100/100 [00:03<00:00, 27.21it/s]\n",
      "Round293: User1_1: 100%|██████████████████████████████████████████| 100/100 [00:03<00:00, 28.82it/s]\n",
      "Round293: User2_1: 100%|██████████████████████████████████████████| 100/100 [00:03<00:00, 28.70it/s]\n"
     ]
    },
    {
     "name": "stdout",
     "output_type": "stream",
     "text": [
      "client:3 train_acc: 99.66%, train_loss: 0.5586\n",
      "client:0 train_acc: 99.59%, train_loss: 1.0803\n",
      "client:4 train_acc: 99.62%, train_loss: 1.5925\n",
      "client:1 train_acc: 99.64%, train_loss: 2.0780\n",
      "client:2 train_acc: 99.63%, train_loss: 2.5915\n",
      "Test set: Average loss: 5.4923, Accuracy: 2289/10000 (22.89%)\n"
     ]
    },
    {
     "name": "stderr",
     "output_type": "stream",
     "text": [
      "Round294: User0_1: 100%|██████████████████████████████████████████| 100/100 [00:03<00:00, 30.61it/s]\n",
      "Round294: User4_1: 100%|██████████████████████████████████████████| 100/100 [00:03<00:00, 28.98it/s]\n",
      "Round294: User1_1: 100%|██████████████████████████████████████████| 100/100 [00:03<00:00, 30.60it/s]\n",
      "Round294: User2_1: 100%|██████████████████████████████████████████| 100/100 [00:03<00:00, 29.51it/s]\n",
      "Round294: User3_1: 100%|██████████████████████████████████████████| 100/100 [00:03<00:00, 28.03it/s]\n"
     ]
    },
    {
     "name": "stdout",
     "output_type": "stream",
     "text": [
      "client:0 train_acc: 99.50%, train_loss: 0.6423\n",
      "client:4 train_acc: 99.38%, train_loss: 1.3493\n",
      "client:1 train_acc: 99.45%, train_loss: 1.9305\n",
      "client:2 train_acc: 99.49%, train_loss: 2.5498\n",
      "client:3 train_acc: 99.50%, train_loss: 3.1655\n",
      "Test set: Average loss: 5.6931, Accuracy: 2253/10000 (22.53%)\n"
     ]
    },
    {
     "name": "stderr",
     "output_type": "stream",
     "text": [
      "Round295: User4_1: 100%|██████████████████████████████████████████| 100/100 [00:03<00:00, 29.03it/s]\n",
      "Round295: User3_1: 100%|██████████████████████████████████████████| 100/100 [00:03<00:00, 28.63it/s]\n",
      "Round295: User1_1: 100%|██████████████████████████████████████████| 100/100 [00:03<00:00, 29.33it/s]\n",
      "Round295: User2_1: 100%|██████████████████████████████████████████| 100/100 [00:03<00:00, 28.87it/s]\n",
      "Round295: User0_1: 100%|██████████████████████████████████████████| 100/100 [00:03<00:00, 30.85it/s]\n"
     ]
    },
    {
     "name": "stdout",
     "output_type": "stream",
     "text": [
      "client:4 train_acc: 99.44%, train_loss: 0.6311\n",
      "client:3 train_acc: 99.46%, train_loss: 1.2584\n",
      "client:1 train_acc: 99.43%, train_loss: 1.9245\n",
      "client:2 train_acc: 99.45%, train_loss: 2.5266\n",
      "client:0 train_acc: 99.45%, train_loss: 3.1888\n",
      "Test set: Average loss: 5.4595, Accuracy: 2326/10000 (23.26%)\n"
     ]
    },
    {
     "name": "stderr",
     "output_type": "stream",
     "text": [
      "Round296: User2_1: 100%|██████████████████████████████████████████| 100/100 [00:03<00:00, 27.34it/s]\n",
      "Round296: User4_1: 100%|██████████████████████████████████████████| 100/100 [00:03<00:00, 28.32it/s]\n",
      "Round296: User0_1: 100%|██████████████████████████████████████████| 100/100 [00:03<00:00, 30.20it/s]\n",
      "Round296: User1_1: 100%|██████████████████████████████████████████| 100/100 [00:03<00:00, 29.03it/s]\n",
      "Round296: User3_1: 100%|██████████████████████████████████████████| 100/100 [00:03<00:00, 29.36it/s]\n"
     ]
    },
    {
     "name": "stdout",
     "output_type": "stream",
     "text": [
      "client:2 train_acc: 99.83%, train_loss: 0.4563\n",
      "client:4 train_acc: 99.64%, train_loss: 1.0606\n",
      "client:0 train_acc: 99.66%, train_loss: 1.5992\n",
      "client:1 train_acc: 99.65%, train_loss: 2.1227\n",
      "client:3 train_acc: 99.66%, train_loss: 2.6152\n",
      "Test set: Average loss: 5.6212, Accuracy: 2324/10000 (23.24%)\n"
     ]
    },
    {
     "name": "stderr",
     "output_type": "stream",
     "text": [
      "Round297: User0_1: 100%|██████████████████████████████████████████| 100/100 [00:03<00:00, 30.73it/s]\n",
      "Round297: User4_1: 100%|██████████████████████████████████████████| 100/100 [00:03<00:00, 31.23it/s]\n",
      "Round297: User1_1: 100%|██████████████████████████████████████████| 100/100 [00:03<00:00, 29.98it/s]\n",
      "Round297: User2_1: 100%|██████████████████████████████████████████| 100/100 [00:03<00:00, 31.40it/s]\n",
      "Round297: User3_1: 100%|██████████████████████████████████████████| 100/100 [00:03<00:00, 31.34it/s]\n"
     ]
    },
    {
     "name": "stdout",
     "output_type": "stream",
     "text": [
      "client:0 train_acc: 99.86%, train_loss: 0.2506\n",
      "client:4 train_acc: 99.87%, train_loss: 0.5193\n",
      "client:1 train_acc: 99.88%, train_loss: 0.7432\n",
      "client:2 train_acc: 99.90%, train_loss: 0.9780\n",
      "client:3 train_acc: 99.89%, train_loss: 1.2506\n",
      "Test set: Average loss: 6.1278, Accuracy: 2401/10000 (24.01%)\n"
     ]
    },
    {
     "name": "stderr",
     "output_type": "stream",
     "text": [
      "Round298: User0_1: 100%|██████████████████████████████████████████| 100/100 [00:03<00:00, 28.47it/s]\n",
      "Round298: User2_1: 100%|██████████████████████████████████████████| 100/100 [00:03<00:00, 29.82it/s]\n",
      "Round298: User3_1: 100%|██████████████████████████████████████████| 100/100 [00:03<00:00, 28.87it/s]\n",
      "Round298: User1_1: 100%|██████████████████████████████████████████| 100/100 [00:03<00:00, 29.80it/s]\n",
      "Round298: User4_1: 100%|██████████████████████████████████████████| 100/100 [00:03<00:00, 30.16it/s]\n"
     ]
    },
    {
     "name": "stdout",
     "output_type": "stream",
     "text": [
      "client:0 train_acc: 99.94%, train_loss: 0.1930\n",
      "client:2 train_acc: 99.97%, train_loss: 0.3554\n",
      "client:3 train_acc: 99.96%, train_loss: 0.5336\n",
      "client:1 train_acc: 99.96%, train_loss: 0.7121\n",
      "client:4 train_acc: 99.96%, train_loss: 0.9044\n",
      "Test set: Average loss: 6.4495, Accuracy: 2386/10000 (23.86%)\n"
     ]
    },
    {
     "name": "stderr",
     "output_type": "stream",
     "text": [
      "Round299: User0_1: 100%|██████████████████████████████████████████| 100/100 [00:03<00:00, 29.50it/s]\n",
      "Round299: User3_1: 100%|██████████████████████████████████████████| 100/100 [00:03<00:00, 29.57it/s]\n",
      "Round299: User2_1: 100%|██████████████████████████████████████████| 100/100 [00:03<00:00, 29.50it/s]\n",
      "Round299: User4_1: 100%|██████████████████████████████████████████| 100/100 [00:03<00:00, 28.85it/s]\n",
      "Round299: User1_1: 100%|██████████████████████████████████████████| 100/100 [00:03<00:00, 30.38it/s]\n"
     ]
    },
    {
     "name": "stdout",
     "output_type": "stream",
     "text": [
      "client:0 train_acc: 100.00%, train_loss: 0.1580\n",
      "client:3 train_acc: 99.99%, train_loss: 0.3087\n",
      "client:2 train_acc: 99.99%, train_loss: 0.4545\n",
      "client:4 train_acc: 99.97%, train_loss: 0.6337\n",
      "client:1 train_acc: 99.97%, train_loss: 0.7912\n",
      "Test set: Average loss: 6.6885, Accuracy: 2423/10000 (24.23%)\n"
     ]
    },
    {
     "name": "stderr",
     "output_type": "stream",
     "text": [
      "Round300: User4_1: 100%|██████████████████████████████████████████| 100/100 [00:03<00:00, 28.51it/s]\n",
      "Round300: User1_1: 100%|██████████████████████████████████████████| 100/100 [00:03<00:00, 27.36it/s]\n",
      "Round300: User0_1: 100%|██████████████████████████████████████████| 100/100 [00:03<00:00, 31.11it/s]\n",
      "Round300: User3_1: 100%|██████████████████████████████████████████| 100/100 [00:03<00:00, 31.41it/s]\n",
      "Round300: User2_1: 100%|██████████████████████████████████████████| 100/100 [00:03<00:00, 30.93it/s]\n"
     ]
    },
    {
     "name": "stdout",
     "output_type": "stream",
     "text": [
      "client:4 train_acc: 99.95%, train_loss: 0.1488\n",
      "client:1 train_acc: 99.97%, train_loss: 0.2661\n",
      "client:0 train_acc: 99.98%, train_loss: 0.3859\n",
      "client:3 train_acc: 99.98%, train_loss: 0.5142\n",
      "client:2 train_acc: 99.98%, train_loss: 0.6276\n",
      "Test set: Average loss: 6.9647, Accuracy: 2443/10000 (24.43%)\n"
     ]
    },
    {
     "name": "stderr",
     "output_type": "stream",
     "text": [
      "Round301: User1_1: 100%|██████████████████████████████████████████| 100/100 [00:03<00:00, 30.85it/s]\n",
      "Round301: User4_1: 100%|██████████████████████████████████████████| 100/100 [00:03<00:00, 30.00it/s]\n",
      "Round301: User3_1: 100%|██████████████████████████████████████████| 100/100 [00:03<00:00, 31.55it/s]\n",
      "Round301: User2_1: 100%|██████████████████████████████████████████| 100/100 [00:03<00:00, 30.95it/s]\n",
      "Round301: User0_1: 100%|██████████████████████████████████████████| 100/100 [00:03<00:00, 28.64it/s]\n"
     ]
    },
    {
     "name": "stdout",
     "output_type": "stream",
     "text": [
      "client:1 train_acc: 99.97%, train_loss: 0.1261\n",
      "client:4 train_acc: 99.98%, train_loss: 0.2458\n",
      "client:3 train_acc: 99.98%, train_loss: 0.3615\n",
      "client:2 train_acc: 99.98%, train_loss: 0.4711\n",
      "client:0 train_acc: 99.99%, train_loss: 0.5910\n",
      "Test set: Average loss: 6.9916, Accuracy: 2468/10000 (24.68%)\n"
     ]
    },
    {
     "name": "stderr",
     "output_type": "stream",
     "text": [
      "Round302: User0_1: 100%|██████████████████████████████████████████| 100/100 [00:03<00:00, 29.78it/s]\n",
      "Round302: User4_1: 100%|██████████████████████████████████████████| 100/100 [00:03<00:00, 29.22it/s]\n",
      "Round302: User1_1: 100%|██████████████████████████████████████████| 100/100 [00:03<00:00, 30.92it/s]\n",
      "Round302: User2_1: 100%|██████████████████████████████████████████| 100/100 [00:03<00:00, 31.47it/s]\n",
      "Round302: User3_1: 100%|██████████████████████████████████████████| 100/100 [00:03<00:00, 29.60it/s]\n"
     ]
    },
    {
     "name": "stdout",
     "output_type": "stream",
     "text": [
      "client:0 train_acc: 99.99%, train_loss: 0.1053\n",
      "client:4 train_acc: 99.98%, train_loss: 0.2264\n",
      "client:1 train_acc: 99.99%, train_loss: 0.3283\n",
      "client:2 train_acc: 99.99%, train_loss: 0.4216\n",
      "client:3 train_acc: 99.99%, train_loss: 0.5276\n",
      "Test set: Average loss: 7.1974, Accuracy: 2451/10000 (24.51%)\n"
     ]
    },
    {
     "name": "stderr",
     "output_type": "stream",
     "text": [
      "Round303: User3_1: 100%|██████████████████████████████████████████| 100/100 [00:03<00:00, 29.61it/s]\n",
      "Round303: User2_1: 100%|██████████████████████████████████████████| 100/100 [00:03<00:00, 31.10it/s]\n",
      "Round303: User1_1: 100%|██████████████████████████████████████████| 100/100 [00:03<00:00, 31.13it/s]\n",
      "Round303: User0_1: 100%|██████████████████████████████████████████| 100/100 [00:03<00:00, 30.84it/s]\n",
      "Round303: User4_1: 100%|██████████████████████████████████████████| 100/100 [00:03<00:00, 30.01it/s]\n"
     ]
    },
    {
     "name": "stdout",
     "output_type": "stream",
     "text": [
      "client:3 train_acc: 100.00%, train_loss: 0.0890\n",
      "client:2 train_acc: 100.00%, train_loss: 0.1731\n",
      "client:1 train_acc: 100.00%, train_loss: 0.2585\n",
      "client:0 train_acc: 100.00%, train_loss: 0.3546\n",
      "client:4 train_acc: 99.99%, train_loss: 0.4654\n",
      "Test set: Average loss: 7.3765, Accuracy: 2444/10000 (24.44%)\n"
     ]
    },
    {
     "name": "stderr",
     "output_type": "stream",
     "text": [
      "Round304: User0_1: 100%|██████████████████████████████████████████| 100/100 [00:03<00:00, 30.68it/s]\n",
      "Round304: User3_1: 100%|██████████████████████████████████████████| 100/100 [00:03<00:00, 30.94it/s]\n",
      "Round304: User4_1: 100%|██████████████████████████████████████████| 100/100 [00:03<00:00, 31.46it/s]\n",
      "Round304: User2_1: 100%|██████████████████████████████████████████| 100/100 [00:03<00:00, 29.71it/s]\n",
      "Round304: User1_1: 100%|██████████████████████████████████████████| 100/100 [00:03<00:00, 29.25it/s]\n"
     ]
    },
    {
     "name": "stdout",
     "output_type": "stream",
     "text": [
      "client:0 train_acc: 98.73%, train_loss: 1.3039\n",
      "client:3 train_acc: 98.87%, train_loss: 2.5059\n",
      "client:4 train_acc: 98.74%, train_loss: 3.8468\n",
      "client:2 train_acc: 98.88%, train_loss: 4.9317\n",
      "client:1 train_acc: 98.87%, train_loss: 6.1767\n",
      "Test set: Average loss: 4.6457, Accuracy: 2256/10000 (22.56%)\n"
     ]
    },
    {
     "name": "stderr",
     "output_type": "stream",
     "text": [
      "Round305: User0_1: 100%|██████████████████████████████████████████| 100/100 [00:03<00:00, 30.21it/s]\n",
      "Round305: User4_1: 100%|██████████████████████████████████████████| 100/100 [00:03<00:00, 30.47it/s]\n",
      "Round305: User2_1: 100%|██████████████████████████████████████████| 100/100 [00:03<00:00, 30.52it/s]\n",
      "Round305: User1_1: 100%|██████████████████████████████████████████| 100/100 [00:03<00:00, 29.43it/s]\n",
      "Round305: User3_1: 100%|██████████████████████████████████████████| 100/100 [00:03<00:00, 30.20it/s]\n"
     ]
    },
    {
     "name": "stdout",
     "output_type": "stream",
     "text": [
      "client:0 train_acc: 99.85%, train_loss: 0.3525\n",
      "client:4 train_acc: 99.83%, train_loss: 0.7129\n",
      "client:2 train_acc: 99.84%, train_loss: 1.0678\n",
      "client:1 train_acc: 99.85%, train_loss: 1.3904\n",
      "client:3 train_acc: 99.85%, train_loss: 1.7444\n",
      "Test set: Average loss: 5.6592, Accuracy: 2354/10000 (23.54%)\n"
     ]
    },
    {
     "name": "stderr",
     "output_type": "stream",
     "text": [
      "Round306: User1_1: 100%|██████████████████████████████████████████| 100/100 [00:03<00:00, 28.67it/s]\n",
      "Round306: User2_1: 100%|██████████████████████████████████████████| 100/100 [00:03<00:00, 30.19it/s]\n",
      "Round306: User0_1: 100%|██████████████████████████████████████████| 100/100 [00:03<00:00, 31.39it/s]\n",
      "Round306: User4_1: 100%|██████████████████████████████████████████| 100/100 [00:03<00:00, 30.44it/s]\n",
      "Round306: User3_1: 100%|██████████████████████████████████████████| 100/100 [00:03<00:00, 29.44it/s]\n"
     ]
    },
    {
     "name": "stdout",
     "output_type": "stream",
     "text": [
      "client:1 train_acc: 99.93%, train_loss: 0.1950\n",
      "client:2 train_acc: 99.95%, train_loss: 0.3793\n",
      "client:0 train_acc: 99.96%, train_loss: 0.5636\n",
      "client:4 train_acc: 99.95%, train_loss: 0.7610\n",
      "client:3 train_acc: 99.95%, train_loss: 0.9376\n",
      "Test set: Average loss: 6.2888, Accuracy: 2421/10000 (24.21%)\n"
     ]
    },
    {
     "name": "stderr",
     "output_type": "stream",
     "text": [
      "Round307: User0_1: 100%|██████████████████████████████████████████| 100/100 [00:03<00:00, 28.11it/s]\n",
      "Round307: User3_1: 100%|██████████████████████████████████████████| 100/100 [00:03<00:00, 31.20it/s]\n",
      "Round307: User2_1: 100%|██████████████████████████████████████████| 100/100 [00:03<00:00, 31.13it/s]\n",
      "Round307: User1_1: 100%|██████████████████████████████████████████| 100/100 [00:03<00:00, 30.08it/s]\n",
      "Round307: User4_1: 100%|██████████████████████████████████████████| 100/100 [00:03<00:00, 30.62it/s]\n"
     ]
    },
    {
     "name": "stdout",
     "output_type": "stream",
     "text": [
      "client:0 train_acc: 99.99%, train_loss: 0.1330\n",
      "client:3 train_acc: 100.00%, train_loss: 0.2629\n",
      "client:2 train_acc: 100.00%, train_loss: 0.3924\n",
      "client:1 train_acc: 99.99%, train_loss: 0.5293\n",
      "client:4 train_acc: 99.99%, train_loss: 0.6929\n",
      "Test set: Average loss: 6.6687, Accuracy: 2394/10000 (23.94%)\n"
     ]
    },
    {
     "name": "stderr",
     "output_type": "stream",
     "text": [
      "Round308: User4_1: 100%|██████████████████████████████████████████| 100/100 [00:03<00:00, 31.46it/s]\n",
      "Round308: User3_1: 100%|██████████████████████████████████████████| 100/100 [00:03<00:00, 31.09it/s]\n",
      "Round308: User1_1: 100%|██████████████████████████████████████████| 100/100 [00:03<00:00, 30.06it/s]\n",
      "Round308: User0_1: 100%|██████████████████████████████████████████| 100/100 [00:03<00:00, 30.63it/s]\n",
      "Round308: User2_1: 100%|██████████████████████████████████████████| 100/100 [00:03<00:00, 30.95it/s]\n"
     ]
    },
    {
     "name": "stdout",
     "output_type": "stream",
     "text": [
      "client:4 train_acc: 99.98%, train_loss: 0.1314\n",
      "client:3 train_acc: 99.99%, train_loss: 0.2472\n",
      "client:1 train_acc: 99.99%, train_loss: 0.3590\n",
      "client:0 train_acc: 99.99%, train_loss: 0.4701\n",
      "client:2 train_acc: 99.99%, train_loss: 0.5813\n",
      "Test set: Average loss: 6.8486, Accuracy: 2458/10000 (24.58%)\n"
     ]
    },
    {
     "name": "stderr",
     "output_type": "stream",
     "text": [
      "Round309: User2_1: 100%|██████████████████████████████████████████| 100/100 [00:03<00:00, 30.53it/s]\n",
      "Round309: User4_1: 100%|██████████████████████████████████████████| 100/100 [00:03<00:00, 29.57it/s]\n",
      "Round309: User1_1: 100%|██████████████████████████████████████████| 100/100 [00:03<00:00, 31.15it/s]\n",
      "Round309: User0_1: 100%|██████████████████████████████████████████| 100/100 [00:03<00:00, 30.91it/s]\n",
      "Round309: User3_1: 100%|██████████████████████████████████████████| 100/100 [00:03<00:00, 30.80it/s]\n"
     ]
    },
    {
     "name": "stdout",
     "output_type": "stream",
     "text": [
      "client:2 train_acc: 99.99%, train_loss: 0.0904\n",
      "client:4 train_acc: 99.99%, train_loss: 0.2045\n",
      "client:1 train_acc: 99.99%, train_loss: 0.2992\n",
      "client:0 train_acc: 99.99%, train_loss: 0.3936\n",
      "client:3 train_acc: 99.99%, train_loss: 0.4935\n",
      "Test set: Average loss: 7.0282, Accuracy: 2458/10000 (24.58%)\n"
     ]
    },
    {
     "name": "stderr",
     "output_type": "stream",
     "text": [
      "Round310: User2_1: 100%|██████████████████████████████████████████| 100/100 [00:03<00:00, 30.84it/s]\n",
      "Round310: User1_1: 100%|██████████████████████████████████████████| 100/100 [00:03<00:00, 30.31it/s]\n",
      "Round310: User0_1: 100%|██████████████████████████████████████████| 100/100 [00:03<00:00, 28.37it/s]\n",
      "Round310: User4_1: 100%|██████████████████████████████████████████| 100/100 [00:03<00:00, 28.81it/s]\n",
      "Round310: User3_1: 100%|██████████████████████████████████████████| 100/100 [00:03<00:00, 29.00it/s]\n"
     ]
    },
    {
     "name": "stdout",
     "output_type": "stream",
     "text": [
      "client:2 train_acc: 100.00%, train_loss: 0.0786\n",
      "client:1 train_acc: 100.00%, train_loss: 0.1601\n",
      "client:0 train_acc: 100.00%, train_loss: 0.2468\n",
      "client:4 train_acc: 100.00%, train_loss: 0.3523\n",
      "client:3 train_acc: 100.00%, train_loss: 0.4453\n",
      "Test set: Average loss: 7.1578, Accuracy: 2440/10000 (24.40%)\n"
     ]
    },
    {
     "name": "stderr",
     "output_type": "stream",
     "text": [
      "Round311: User2_1: 100%|██████████████████████████████████████████| 100/100 [00:03<00:00, 29.78it/s]\n",
      "Round311: User3_1: 100%|██████████████████████████████████████████| 100/100 [00:03<00:00, 29.05it/s]\n",
      "Round311: User4_1: 100%|██████████████████████████████████████████| 100/100 [00:03<00:00, 31.07it/s]\n",
      "Round311: User0_1: 100%|██████████████████████████████████████████| 100/100 [00:03<00:00, 33.23it/s]\n",
      "Round311: User1_1: 100%|██████████████████████████████████████████| 100/100 [00:03<00:00, 32.69it/s]\n"
     ]
    },
    {
     "name": "stdout",
     "output_type": "stream",
     "text": [
      "client:2 train_acc: 100.00%, train_loss: 0.0732\n",
      "client:3 train_acc: 100.00%, train_loss: 0.1535\n",
      "client:4 train_acc: 100.00%, train_loss: 0.2478\n",
      "client:0 train_acc: 100.00%, train_loss: 0.3266\n",
      "client:1 train_acc: 100.00%, train_loss: 0.4083\n",
      "Test set: Average loss: 7.2816, Accuracy: 2477/10000 (24.77%)\n"
     ]
    },
    {
     "name": "stderr",
     "output_type": "stream",
     "text": [
      "Round312: User2_1: 100%|██████████████████████████████████████████| 100/100 [00:03<00:00, 30.46it/s]\n",
      "Round312: User0_1: 100%|██████████████████████████████████████████| 100/100 [00:03<00:00, 29.02it/s]\n",
      "Round312: User4_1: 100%|██████████████████████████████████████████| 100/100 [00:03<00:00, 30.45it/s]\n",
      "Round312: User3_1: 100%|██████████████████████████████████████████| 100/100 [00:03<00:00, 31.32it/s]\n",
      "Round312: User1_1: 100%|██████████████████████████████████████████| 100/100 [00:03<00:00, 30.12it/s]\n"
     ]
    },
    {
     "name": "stdout",
     "output_type": "stream",
     "text": [
      "client:2 train_acc: 100.00%, train_loss: 0.0671\n",
      "client:0 train_acc: 100.00%, train_loss: 0.1377\n",
      "client:4 train_acc: 99.99%, train_loss: 0.2208\n",
      "client:3 train_acc: 100.00%, train_loss: 0.2965\n",
      "client:1 train_acc: 100.00%, train_loss: 0.3689\n",
      "Test set: Average loss: 7.4084, Accuracy: 2470/10000 (24.70%)\n"
     ]
    },
    {
     "name": "stderr",
     "output_type": "stream",
     "text": [
      "Round313: User3_1: 100%|██████████████████████████████████████████| 100/100 [00:03<00:00, 30.36it/s]\n",
      "Round313: User2_1: 100%|██████████████████████████████████████████| 100/100 [00:03<00:00, 30.34it/s]\n",
      "Round313: User4_1: 100%|██████████████████████████████████████████| 100/100 [00:03<00:00, 31.33it/s]\n",
      "Round313: User1_1: 100%|██████████████████████████████████████████| 100/100 [00:03<00:00, 30.74it/s]\n",
      "Round313: User0_1: 100%|██████████████████████████████████████████| 100/100 [00:03<00:00, 30.13it/s]\n"
     ]
    },
    {
     "name": "stdout",
     "output_type": "stream",
     "text": [
      "client:3 train_acc: 100.00%, train_loss: 0.0732\n",
      "client:2 train_acc: 100.00%, train_loss: 0.1378\n",
      "client:4 train_acc: 100.00%, train_loss: 0.2174\n",
      "client:1 train_acc: 100.00%, train_loss: 0.2904\n",
      "client:0 train_acc: 100.00%, train_loss: 0.3548\n",
      "Test set: Average loss: 7.5589, Accuracy: 2461/10000 (24.61%)\n"
     ]
    },
    {
     "name": "stderr",
     "output_type": "stream",
     "text": [
      "Round314: User0_1: 100%|██████████████████████████████████████████| 100/100 [00:03<00:00, 30.73it/s]\n",
      "Round314: User4_1: 100%|██████████████████████████████████████████| 100/100 [00:03<00:00, 29.57it/s]\n",
      "Round314: User2_1: 100%|██████████████████████████████████████████| 100/100 [00:03<00:00, 30.57it/s]\n",
      "Round314: User1_1: 100%|██████████████████████████████████████████| 100/100 [00:03<00:00, 29.90it/s]\n",
      "Round314: User3_1: 100%|██████████████████████████████████████████| 100/100 [00:03<00:00, 30.42it/s]\n"
     ]
    },
    {
     "name": "stdout",
     "output_type": "stream",
     "text": [
      "client:0 train_acc: 100.00%, train_loss: 0.0600\n",
      "client:4 train_acc: 100.00%, train_loss: 0.1354\n",
      "client:2 train_acc: 100.00%, train_loss: 0.1928\n",
      "client:1 train_acc: 100.00%, train_loss: 0.2556\n",
      "client:3 train_acc: 100.00%, train_loss: 0.3220\n",
      "Test set: Average loss: 7.6635, Accuracy: 2465/10000 (24.65%)\n"
     ]
    },
    {
     "name": "stderr",
     "output_type": "stream",
     "text": [
      "Round315: User3_1: 100%|██████████████████████████████████████████| 100/100 [00:03<00:00, 29.47it/s]\n",
      "Round315: User1_1: 100%|██████████████████████████████████████████| 100/100 [00:03<00:00, 29.35it/s]\n",
      "Round315: User4_1: 100%|██████████████████████████████████████████| 100/100 [00:03<00:00, 30.51it/s]\n",
      "Round315: User2_1: 100%|██████████████████████████████████████████| 100/100 [00:03<00:00, 29.47it/s]\n",
      "Round315: User0_1: 100%|██████████████████████████████████████████| 100/100 [00:03<00:00, 31.64it/s]\n"
     ]
    },
    {
     "name": "stdout",
     "output_type": "stream",
     "text": [
      "client:3 train_acc: 100.00%, train_loss: 0.0630\n",
      "client:1 train_acc: 100.00%, train_loss: 0.1216\n",
      "client:4 train_acc: 100.00%, train_loss: 0.1888\n",
      "client:2 train_acc: 100.00%, train_loss: 0.2435\n",
      "client:0 train_acc: 100.00%, train_loss: 0.2993\n",
      "Test set: Average loss: 7.6898, Accuracy: 2518/10000 (25.18%)\n"
     ]
    },
    {
     "name": "stderr",
     "output_type": "stream",
     "text": [
      "Round316: User2_1: 100%|██████████████████████████████████████████| 100/100 [00:03<00:00, 29.90it/s]\n",
      "Round316: User1_1: 100%|██████████████████████████████████████████| 100/100 [00:03<00:00, 29.32it/s]\n",
      "Round316: User0_1: 100%|██████████████████████████████████████████| 100/100 [00:03<00:00, 30.08it/s]\n",
      "Round316: User3_1: 100%|██████████████████████████████████████████| 100/100 [00:03<00:00, 28.48it/s]\n",
      "Round316: User4_1: 100%|██████████████████████████████████████████| 100/100 [00:03<00:00, 29.60it/s]\n"
     ]
    },
    {
     "name": "stdout",
     "output_type": "stream",
     "text": [
      "client:2 train_acc: 100.00%, train_loss: 0.0486\n",
      "client:1 train_acc: 100.00%, train_loss: 0.1034\n",
      "client:0 train_acc: 100.00%, train_loss: 0.1583\n",
      "client:3 train_acc: 100.00%, train_loss: 0.2165\n",
      "client:4 train_acc: 100.00%, train_loss: 0.2825\n",
      "Test set: Average loss: 7.7570, Accuracy: 2509/10000 (25.09%)\n"
     ]
    },
    {
     "name": "stderr",
     "output_type": "stream",
     "text": [
      "Round317: User1_1: 100%|██████████████████████████████████████████| 100/100 [00:03<00:00, 28.04it/s]\n",
      "Round317: User0_1: 100%|██████████████████████████████████████████| 100/100 [00:03<00:00, 29.23it/s]\n",
      "Round317: User2_1: 100%|██████████████████████████████████████████| 100/100 [00:03<00:00, 30.34it/s]\n",
      "Round317: User3_1: 100%|██████████████████████████████████████████| 100/100 [00:03<00:00, 29.13it/s]\n",
      "Round317: User4_1: 100%|██████████████████████████████████████████| 100/100 [00:03<00:00, 30.16it/s]\n"
     ]
    },
    {
     "name": "stdout",
     "output_type": "stream",
     "text": [
      "client:1 train_acc: 100.00%, train_loss: 0.0527\n",
      "client:0 train_acc: 100.00%, train_loss: 0.1045\n",
      "client:2 train_acc: 100.00%, train_loss: 0.1522\n",
      "client:3 train_acc: 100.00%, train_loss: 0.2085\n",
      "client:4 train_acc: 100.00%, train_loss: 0.2676\n",
      "Test set: Average loss: 7.8610, Accuracy: 2440/10000 (24.40%)\n"
     ]
    },
    {
     "name": "stderr",
     "output_type": "stream",
     "text": [
      "Round318: User1_1: 100%|██████████████████████████████████████████| 100/100 [00:03<00:00, 31.93it/s]\n",
      "Round318: User4_1: 100%|██████████████████████████████████████████| 100/100 [00:03<00:00, 30.95it/s]\n",
      "Round318: User3_1: 100%|██████████████████████████████████████████| 100/100 [00:03<00:00, 30.60it/s]\n",
      "Round318: User2_1: 100%|██████████████████████████████████████████| 100/100 [00:03<00:00, 31.48it/s]\n",
      "Round318: User0_1: 100%|██████████████████████████████████████████| 100/100 [00:03<00:00, 30.86it/s]\n"
     ]
    },
    {
     "name": "stdout",
     "output_type": "stream",
     "text": [
      "client:1 train_acc: 100.00%, train_loss: 0.0498\n",
      "client:4 train_acc: 100.00%, train_loss: 0.1068\n",
      "client:3 train_acc: 100.00%, train_loss: 0.1622\n",
      "client:2 train_acc: 100.00%, train_loss: 0.2073\n",
      "client:0 train_acc: 100.00%, train_loss: 0.2550\n",
      "Test set: Average loss: 7.9752, Accuracy: 2452/10000 (24.52%)\n"
     ]
    },
    {
     "name": "stderr",
     "output_type": "stream",
     "text": [
      "Round319: User3_1: 100%|██████████████████████████████████████████| 100/100 [00:03<00:00, 26.95it/s]\n",
      "Round319: User1_1: 100%|██████████████████████████████████████████| 100/100 [00:03<00:00, 29.86it/s]\n",
      "Round319: User0_1: 100%|██████████████████████████████████████████| 100/100 [00:03<00:00, 30.32it/s]\n",
      "Round319: User2_1: 100%|██████████████████████████████████████████| 100/100 [00:03<00:00, 31.40it/s]\n",
      "Round319: User4_1: 100%|██████████████████████████████████████████| 100/100 [00:03<00:00, 29.32it/s]\n"
     ]
    },
    {
     "name": "stdout",
     "output_type": "stream",
     "text": [
      "client:3 train_acc: 100.00%, train_loss: 0.0496\n",
      "client:1 train_acc: 100.00%, train_loss: 0.0957\n",
      "client:0 train_acc: 100.00%, train_loss: 0.1427\n",
      "client:2 train_acc: 100.00%, train_loss: 0.1857\n",
      "client:4 train_acc: 100.00%, train_loss: 0.2399\n",
      "Test set: Average loss: 7.9946, Accuracy: 2482/10000 (24.82%)\n"
     ]
    },
    {
     "name": "stderr",
     "output_type": "stream",
     "text": [
      "Round320: User3_1: 100%|██████████████████████████████████████████| 100/100 [00:03<00:00, 30.76it/s]\n",
      "Round320: User4_1: 100%|██████████████████████████████████████████| 100/100 [00:03<00:00, 30.64it/s]\n",
      "Round320: User0_1: 100%|██████████████████████████████████████████| 100/100 [00:03<00:00, 31.06it/s]\n",
      "Round320: User2_1: 100%|██████████████████████████████████████████| 100/100 [00:03<00:00, 32.35it/s]\n",
      "Round320: User1_1: 100%|██████████████████████████████████████████| 100/100 [00:03<00:00, 31.83it/s]\n"
     ]
    },
    {
     "name": "stdout",
     "output_type": "stream",
     "text": [
      "client:3 train_acc: 100.00%, train_loss: 0.0469\n",
      "client:4 train_acc: 100.00%, train_loss: 0.0966\n",
      "client:0 train_acc: 100.00%, train_loss: 0.1401\n",
      "client:2 train_acc: 100.00%, train_loss: 0.1804\n",
      "client:1 train_acc: 100.00%, train_loss: 0.2257\n",
      "Test set: Average loss: 8.1374, Accuracy: 2475/10000 (24.75%)\n"
     ]
    },
    {
     "name": "stderr",
     "output_type": "stream",
     "text": [
      "Round321: User3_1: 100%|██████████████████████████████████████████| 100/100 [00:03<00:00, 30.68it/s]\n",
      "Round321: User2_1: 100%|██████████████████████████████████████████| 100/100 [00:03<00:00, 31.80it/s]\n",
      "Round321: User0_1: 100%|██████████████████████████████████████████| 100/100 [00:03<00:00, 30.04it/s]\n",
      "Round321: User4_1: 100%|██████████████████████████████████████████| 100/100 [00:03<00:00, 29.70it/s]\n",
      "Round321: User1_1: 100%|██████████████████████████████████████████| 100/100 [00:03<00:00, 31.45it/s]\n"
     ]
    },
    {
     "name": "stdout",
     "output_type": "stream",
     "text": [
      "client:3 train_acc: 100.00%, train_loss: 0.0454\n",
      "client:2 train_acc: 100.00%, train_loss: 0.0849\n",
      "client:0 train_acc: 100.00%, train_loss: 0.1259\n",
      "client:4 train_acc: 100.00%, train_loss: 0.1767\n",
      "client:1 train_acc: 100.00%, train_loss: 0.2171\n",
      "Test set: Average loss: 8.1550, Accuracy: 2494/10000 (24.94%)\n"
     ]
    },
    {
     "name": "stderr",
     "output_type": "stream",
     "text": [
      "Round322: User4_1: 100%|██████████████████████████████████████████| 100/100 [00:02<00:00, 35.80it/s]\n",
      "Round322: User2_1: 100%|██████████████████████████████████████████| 100/100 [00:02<00:00, 36.13it/s]\n",
      "Round322: User1_1: 100%|██████████████████████████████████████████| 100/100 [00:02<00:00, 34.94it/s]\n",
      "Round322: User0_1: 100%|██████████████████████████████████████████| 100/100 [00:03<00:00, 32.01it/s]\n",
      "Round322: User3_1: 100%|██████████████████████████████████████████| 100/100 [00:03<00:00, 30.31it/s]\n"
     ]
    },
    {
     "name": "stdout",
     "output_type": "stream",
     "text": [
      "client:4 train_acc: 100.00%, train_loss: 0.0447\n",
      "client:2 train_acc: 100.00%, train_loss: 0.0826\n",
      "client:1 train_acc: 100.00%, train_loss: 0.1230\n",
      "client:0 train_acc: 100.00%, train_loss: 0.1627\n",
      "client:3 train_acc: 100.00%, train_loss: 0.2050\n",
      "Test set: Average loss: 8.2297, Accuracy: 2466/10000 (24.66%)\n"
     ]
    },
    {
     "name": "stderr",
     "output_type": "stream",
     "text": [
      "Round323: User3_1: 100%|██████████████████████████████████████████| 100/100 [00:03<00:00, 31.26it/s]\n",
      "Round323: User4_1: 100%|██████████████████████████████████████████| 100/100 [00:03<00:00, 30.74it/s]\n",
      "Round323: User1_1: 100%|██████████████████████████████████████████| 100/100 [00:03<00:00, 29.45it/s]\n",
      "Round323: User2_1: 100%|██████████████████████████████████████████| 100/100 [00:03<00:00, 31.87it/s]\n",
      "Round323: User0_1: 100%|██████████████████████████████████████████| 100/100 [00:03<00:00, 31.90it/s]\n"
     ]
    },
    {
     "name": "stdout",
     "output_type": "stream",
     "text": [
      "client:3 train_acc: 100.00%, train_loss: 0.0403\n",
      "client:4 train_acc: 100.00%, train_loss: 0.0856\n",
      "client:1 train_acc: 100.00%, train_loss: 0.1238\n",
      "client:2 train_acc: 100.00%, train_loss: 0.1581\n",
      "client:0 train_acc: 100.00%, train_loss: 0.1953\n",
      "Test set: Average loss: 8.3176, Accuracy: 2494/10000 (24.94%)\n"
     ]
    },
    {
     "name": "stderr",
     "output_type": "stream",
     "text": [
      "Round324: User2_1: 100%|██████████████████████████████████████████| 100/100 [00:03<00:00, 31.02it/s]\n",
      "Round324: User3_1: 100%|██████████████████████████████████████████| 100/100 [00:03<00:00, 31.51it/s]\n",
      "Round324: User0_1: 100%|██████████████████████████████████████████| 100/100 [00:03<00:00, 29.74it/s]\n",
      "Round324: User1_1: 100%|██████████████████████████████████████████| 100/100 [00:03<00:00, 30.79it/s]\n",
      "Round324: User4_1: 100%|██████████████████████████████████████████| 100/100 [00:03<00:00, 28.52it/s]\n"
     ]
    },
    {
     "name": "stdout",
     "output_type": "stream",
     "text": [
      "client:2 train_acc: 100.00%, train_loss: 0.0333\n",
      "client:3 train_acc: 100.00%, train_loss: 0.0728\n",
      "client:0 train_acc: 100.00%, train_loss: 0.1083\n",
      "client:1 train_acc: 100.00%, train_loss: 0.1444\n",
      "client:4 train_acc: 100.00%, train_loss: 0.1878\n",
      "Test set: Average loss: 8.3643, Accuracy: 2532/10000 (25.32%)\n"
     ]
    },
    {
     "name": "stderr",
     "output_type": "stream",
     "text": [
      "Round325: User3_1: 100%|██████████████████████████████████████████| 100/100 [00:03<00:00, 31.27it/s]\n",
      "Round325: User2_1: 100%|██████████████████████████████████████████| 100/100 [00:03<00:00, 28.91it/s]\n",
      "Round325: User4_1: 100%|██████████████████████████████████████████| 100/100 [00:03<00:00, 30.53it/s]\n",
      "Round325: User0_1: 100%|██████████████████████████████████████████| 100/100 [00:03<00:00, 31.57it/s]\n",
      "Round325: User1_1: 100%|██████████████████████████████████████████| 100/100 [00:03<00:00, 31.52it/s]\n"
     ]
    },
    {
     "name": "stdout",
     "output_type": "stream",
     "text": [
      "client:3 train_acc: 100.00%, train_loss: 0.0379\n",
      "client:2 train_acc: 100.00%, train_loss: 0.0695\n",
      "client:4 train_acc: 100.00%, train_loss: 0.1106\n",
      "client:0 train_acc: 100.00%, train_loss: 0.1460\n",
      "client:1 train_acc: 100.00%, train_loss: 0.1819\n",
      "Test set: Average loss: 8.4041, Accuracy: 2489/10000 (24.89%)\n"
     ]
    },
    {
     "name": "stderr",
     "output_type": "stream",
     "text": [
      "Round326: User4_1: 100%|██████████████████████████████████████████| 100/100 [00:03<00:00, 30.61it/s]\n",
      "Round326: User2_1: 100%|██████████████████████████████████████████| 100/100 [00:03<00:00, 31.43it/s]\n",
      "Round326: User0_1: 100%|██████████████████████████████████████████| 100/100 [00:03<00:00, 31.56it/s]\n",
      "Round326: User3_1: 100%|██████████████████████████████████████████| 100/100 [00:03<00:00, 31.74it/s]\n",
      "Round326: User1_1: 100%|██████████████████████████████████████████| 100/100 [00:03<00:00, 29.70it/s]\n"
     ]
    },
    {
     "name": "stdout",
     "output_type": "stream",
     "text": [
      "client:4 train_acc: 100.00%, train_loss: 0.0388\n",
      "client:2 train_acc: 100.00%, train_loss: 0.0704\n",
      "client:0 train_acc: 100.00%, train_loss: 0.1036\n",
      "client:3 train_acc: 100.00%, train_loss: 0.1409\n",
      "client:1 train_acc: 100.00%, train_loss: 0.1744\n",
      "Test set: Average loss: 8.4558, Accuracy: 2486/10000 (24.86%)\n"
     ]
    },
    {
     "name": "stderr",
     "output_type": "stream",
     "text": [
      "Round327: User0_1: 100%|██████████████████████████████████████████| 100/100 [00:03<00:00, 30.94it/s]\n",
      "Round327: User1_1: 100%|██████████████████████████████████████████| 100/100 [00:03<00:00, 30.70it/s]\n",
      "Round327: User4_1: 100%|██████████████████████████████████████████| 100/100 [00:03<00:00, 31.30it/s]\n",
      "Round327: User3_1: 100%|██████████████████████████████████████████| 100/100 [00:03<00:00, 31.19it/s]\n",
      "Round327: User2_1: 100%|██████████████████████████████████████████| 100/100 [00:03<00:00, 30.51it/s]\n"
     ]
    },
    {
     "name": "stdout",
     "output_type": "stream",
     "text": [
      "client:0 train_acc: 100.00%, train_loss: 0.0327\n",
      "client:1 train_acc: 100.00%, train_loss: 0.0662\n",
      "client:4 train_acc: 100.00%, train_loss: 0.1034\n",
      "client:3 train_acc: 100.00%, train_loss: 0.1388\n",
      "client:2 train_acc: 100.00%, train_loss: 0.1687\n",
      "Test set: Average loss: 8.4843, Accuracy: 2487/10000 (24.87%)\n"
     ]
    },
    {
     "name": "stderr",
     "output_type": "stream",
     "text": [
      "Round328: User1_1: 100%|██████████████████████████████████████████| 100/100 [00:03<00:00, 30.48it/s]\n",
      "Round328: User0_1: 100%|██████████████████████████████████████████| 100/100 [00:03<00:00, 30.89it/s]\n",
      "Round328: User3_1: 100%|██████████████████████████████████████████| 100/100 [00:03<00:00, 30.78it/s]\n",
      "Round328: User4_1: 100%|██████████████████████████████████████████| 100/100 [00:03<00:00, 30.69it/s]\n",
      "Round328: User2_1: 100%|██████████████████████████████████████████| 100/100 [00:03<00:00, 29.20it/s]\n"
     ]
    },
    {
     "name": "stdout",
     "output_type": "stream",
     "text": [
      "client:1 train_acc: 100.00%, train_loss: 0.0311\n",
      "client:0 train_acc: 100.00%, train_loss: 0.0615\n",
      "client:3 train_acc: 100.00%, train_loss: 0.0956\n",
      "client:4 train_acc: 100.00%, train_loss: 0.1322\n",
      "client:2 train_acc: 100.00%, train_loss: 0.1616\n",
      "Test set: Average loss: 8.5911, Accuracy: 2505/10000 (25.05%)\n"
     ]
    },
    {
     "name": "stderr",
     "output_type": "stream",
     "text": [
      "Round329: User0_1: 100%|██████████████████████████████████████████| 100/100 [00:03<00:00, 30.41it/s]\n",
      "Round329: User2_1: 100%|██████████████████████████████████████████| 100/100 [00:03<00:00, 29.50it/s]\n",
      "Round329: User3_1: 100%|██████████████████████████████████████████| 100/100 [00:03<00:00, 30.71it/s]\n",
      "Round329: User1_1: 100%|██████████████████████████████████████████| 100/100 [00:03<00:00, 30.82it/s]\n",
      "Round329: User4_1: 100%|██████████████████████████████████████████| 100/100 [00:03<00:00, 28.99it/s]\n"
     ]
    },
    {
     "name": "stdout",
     "output_type": "stream",
     "text": [
      "client:0 train_acc: 100.00%, train_loss: 0.0304\n",
      "client:2 train_acc: 100.00%, train_loss: 0.0584\n",
      "client:3 train_acc: 100.00%, train_loss: 0.0912\n",
      "client:1 train_acc: 100.00%, train_loss: 0.1204\n",
      "client:4 train_acc: 100.00%, train_loss: 0.1568\n",
      "Test set: Average loss: 8.6028, Accuracy: 2502/10000 (25.02%)\n"
     ]
    },
    {
     "name": "stderr",
     "output_type": "stream",
     "text": [
      "Round330: User1_1: 100%|██████████████████████████████████████████| 100/100 [00:03<00:00, 30.12it/s]\n",
      "Round330: User4_1: 100%|██████████████████████████████████████████| 100/100 [00:03<00:00, 32.35it/s]\n",
      "Round330: User2_1: 100%|██████████████████████████████████████████| 100/100 [00:03<00:00, 29.71it/s]\n",
      "Round330: User3_1: 100%|██████████████████████████████████████████| 100/100 [00:03<00:00, 29.58it/s]\n",
      "Round330: User0_1: 100%|██████████████████████████████████████████| 100/100 [00:03<00:00, 30.51it/s]\n"
     ]
    },
    {
     "name": "stdout",
     "output_type": "stream",
     "text": [
      "client:1 train_acc: 100.00%, train_loss: 0.0287\n",
      "client:4 train_acc: 100.00%, train_loss: 0.0631\n",
      "client:2 train_acc: 100.00%, train_loss: 0.0898\n",
      "client:3 train_acc: 100.00%, train_loss: 0.1210\n",
      "client:0 train_acc: 100.00%, train_loss: 0.1503\n",
      "Test set: Average loss: 8.6428, Accuracy: 2511/10000 (25.11%)\n"
     ]
    },
    {
     "name": "stderr",
     "output_type": "stream",
     "text": [
      "Round331: User3_1: 100%|██████████████████████████████████████████| 100/100 [00:03<00:00, 28.33it/s]\n",
      "Round331: User0_1: 100%|██████████████████████████████████████████| 100/100 [00:03<00:00, 30.36it/s]\n",
      "Round331: User4_1: 100%|██████████████████████████████████████████| 100/100 [00:03<00:00, 29.73it/s]\n",
      "Round331: User1_1: 100%|██████████████████████████████████████████| 100/100 [00:03<00:00, 29.63it/s]\n",
      "Round331: User2_1: 100%|██████████████████████████████████████████| 100/100 [00:03<00:00, 30.63it/s]\n"
     ]
    },
    {
     "name": "stdout",
     "output_type": "stream",
     "text": [
      "client:3 train_acc: 100.00%, train_loss: 0.0299\n",
      "client:0 train_acc: 100.00%, train_loss: 0.0587\n",
      "client:4 train_acc: 100.00%, train_loss: 0.0924\n",
      "client:1 train_acc: 100.00%, train_loss: 0.1202\n",
      "client:2 train_acc: 100.00%, train_loss: 0.1475\n",
      "Test set: Average loss: 8.6959, Accuracy: 2503/10000 (25.03%)\n"
     ]
    },
    {
     "name": "stderr",
     "output_type": "stream",
     "text": [
      "Round332: User1_1: 100%|██████████████████████████████████████████| 100/100 [00:03<00:00, 30.34it/s]\n",
      "Round332: User0_1: 100%|██████████████████████████████████████████| 100/100 [00:03<00:00, 31.61it/s]\n",
      "Round332: User3_1: 100%|██████████████████████████████████████████| 100/100 [00:03<00:00, 30.97it/s]\n",
      "Round332: User2_1: 100%|██████████████████████████████████████████| 100/100 [00:03<00:00, 30.45it/s]\n",
      "Round332: User4_1: 100%|██████████████████████████████████████████| 100/100 [00:03<00:00, 31.13it/s]\n"
     ]
    },
    {
     "name": "stdout",
     "output_type": "stream",
     "text": [
      "client:1 train_acc: 100.00%, train_loss: 0.0270\n",
      "client:0 train_acc: 100.00%, train_loss: 0.0543\n",
      "client:3 train_acc: 100.00%, train_loss: 0.0838\n",
      "client:2 train_acc: 100.00%, train_loss: 0.1092\n",
      "client:4 train_acc: 100.00%, train_loss: 0.1422\n",
      "Test set: Average loss: 8.7314, Accuracy: 2514/10000 (25.14%)\n"
     ]
    },
    {
     "name": "stderr",
     "output_type": "stream",
     "text": [
      "Round333: User4_1: 100%|██████████████████████████████████████████| 100/100 [00:03<00:00, 29.90it/s]\n",
      "Round333: User3_1: 100%|██████████████████████████████████████████| 100/100 [00:03<00:00, 31.23it/s]\n",
      "Round333: User2_1: 100%|██████████████████████████████████████████| 100/100 [00:03<00:00, 30.96it/s]\n",
      "Round333: User0_1: 100%|██████████████████████████████████████████| 100/100 [00:03<00:00, 30.12it/s]\n",
      "Round333: User1_1: 100%|██████████████████████████████████████████| 100/100 [00:03<00:00, 31.62it/s]\n"
     ]
    },
    {
     "name": "stdout",
     "output_type": "stream",
     "text": [
      "client:4 train_acc: 100.00%, train_loss: 0.0314\n",
      "client:3 train_acc: 100.00%, train_loss: 0.0601\n",
      "client:2 train_acc: 100.00%, train_loss: 0.0842\n",
      "client:0 train_acc: 100.00%, train_loss: 0.1103\n",
      "client:1 train_acc: 100.00%, train_loss: 0.1362\n",
      "Test set: Average loss: 8.8300, Accuracy: 2484/10000 (24.84%)\n"
     ]
    },
    {
     "name": "stderr",
     "output_type": "stream",
     "text": [
      "Round334: User0_1: 100%|██████████████████████████████████████████| 100/100 [00:03<00:00, 29.70it/s]\n",
      "Round334: User4_1: 100%|██████████████████████████████████████████| 100/100 [00:03<00:00, 30.40it/s]\n",
      "Round334: User2_1: 100%|██████████████████████████████████████████| 100/100 [00:03<00:00, 30.84it/s]\n",
      "Round334: User1_1: 100%|██████████████████████████████████████████| 100/100 [00:03<00:00, 29.45it/s]\n",
      "Round334: User3_1: 100%|██████████████████████████████████████████| 100/100 [00:03<00:00, 29.72it/s]\n"
     ]
    },
    {
     "name": "stdout",
     "output_type": "stream",
     "text": [
      "client:0 train_acc: 100.00%, train_loss: 0.0251\n",
      "client:4 train_acc: 100.00%, train_loss: 0.0551\n",
      "client:2 train_acc: 100.00%, train_loss: 0.0786\n",
      "client:1 train_acc: 100.00%, train_loss: 0.1043\n",
      "client:3 train_acc: 100.00%, train_loss: 0.1315\n",
      "Test set: Average loss: 8.8338, Accuracy: 2540/10000 (25.40%)\n"
     ]
    },
    {
     "name": "stderr",
     "output_type": "stream",
     "text": [
      "Round335: User4_1: 100%|██████████████████████████████████████████| 100/100 [00:03<00:00, 30.69it/s]\n",
      "Round335: User2_1: 100%|██████████████████████████████████████████| 100/100 [00:03<00:00, 30.68it/s]\n",
      "Round335: User3_1: 100%|██████████████████████████████████████████| 100/100 [00:03<00:00, 30.74it/s]\n",
      "Round335: User0_1: 100%|██████████████████████████████████████████| 100/100 [00:03<00:00, 31.32it/s]\n",
      "Round335: User1_1: 100%|██████████████████████████████████████████| 100/100 [00:03<00:00, 30.82it/s]\n"
     ]
    },
    {
     "name": "stdout",
     "output_type": "stream",
     "text": [
      "client:4 train_acc: 100.00%, train_loss: 0.0285\n",
      "client:2 train_acc: 100.00%, train_loss: 0.0514\n",
      "client:3 train_acc: 100.00%, train_loss: 0.0781\n",
      "client:0 train_acc: 100.00%, train_loss: 0.1025\n",
      "client:1 train_acc: 100.00%, train_loss: 0.1273\n",
      "Test set: Average loss: 8.8773, Accuracy: 2536/10000 (25.36%)\n"
     ]
    },
    {
     "name": "stderr",
     "output_type": "stream",
     "text": [
      "Round336: User3_1: 100%|██████████████████████████████████████████| 100/100 [00:03<00:00, 31.17it/s]\n",
      "Round336: User1_1: 100%|██████████████████████████████████████████| 100/100 [00:03<00:00, 31.40it/s]\n",
      "Round336: User4_1: 100%|██████████████████████████████████████████| 100/100 [00:03<00:00, 29.47it/s]\n",
      "Round336: User0_1: 100%|██████████████████████████████████████████| 100/100 [00:03<00:00, 30.91it/s]\n",
      "Round336: User2_1: 100%|██████████████████████████████████████████| 100/100 [00:03<00:00, 31.28it/s]\n"
     ]
    },
    {
     "name": "stdout",
     "output_type": "stream",
     "text": [
      "client:3 train_acc: 100.00%, train_loss: 0.0261\n",
      "client:1 train_acc: 100.00%, train_loss: 0.0503\n",
      "client:4 train_acc: 100.00%, train_loss: 0.0792\n",
      "client:0 train_acc: 100.00%, train_loss: 0.1028\n",
      "client:2 train_acc: 100.00%, train_loss: 0.1249\n",
      "Test set: Average loss: 8.9305, Accuracy: 2525/10000 (25.25%)\n"
     ]
    },
    {
     "name": "stderr",
     "output_type": "stream",
     "text": [
      "Round337: User0_1: 100%|██████████████████████████████████████████| 100/100 [00:03<00:00, 31.46it/s]\n",
      "Round337: User1_1: 100%|██████████████████████████████████████████| 100/100 [00:03<00:00, 30.92it/s]\n",
      "Round337: User3_1: 100%|██████████████████████████████████████████| 100/100 [00:03<00:00, 30.10it/s]\n",
      "Round337: User4_1: 100%|██████████████████████████████████████████| 100/100 [00:03<00:00, 31.03it/s]\n",
      "Round337: User2_1: 100%|██████████████████████████████████████████| 100/100 [00:03<00:00, 30.98it/s]\n"
     ]
    },
    {
     "name": "stdout",
     "output_type": "stream",
     "text": [
      "client:0 train_acc: 100.00%, train_loss: 0.0226\n",
      "client:1 train_acc: 100.00%, train_loss: 0.0464\n",
      "client:3 train_acc: 100.00%, train_loss: 0.0719\n",
      "client:4 train_acc: 100.00%, train_loss: 0.0993\n",
      "client:2 train_acc: 100.00%, train_loss: 0.1210\n",
      "Test set: Average loss: 8.9886, Accuracy: 2536/10000 (25.36%)\n"
     ]
    },
    {
     "name": "stderr",
     "output_type": "stream",
     "text": [
      "Round338: User2_1: 100%|██████████████████████████████████████████| 100/100 [00:03<00:00, 30.93it/s]\n",
      "Round338: User4_1: 100%|██████████████████████████████████████████| 100/100 [00:03<00:00, 30.46it/s]\n",
      "Round338: User1_1: 100%|██████████████████████████████████████████| 100/100 [00:03<00:00, 29.45it/s]\n",
      "Round338: User3_1: 100%|██████████████████████████████████████████| 100/100 [00:03<00:00, 30.70it/s]\n",
      "Round338: User0_1: 100%|██████████████████████████████████████████| 100/100 [00:03<00:00, 31.67it/s]\n"
     ]
    },
    {
     "name": "stdout",
     "output_type": "stream",
     "text": [
      "client:2 train_acc: 100.00%, train_loss: 0.0206\n",
      "client:4 train_acc: 100.00%, train_loss: 0.0472\n",
      "client:1 train_acc: 100.00%, train_loss: 0.0697\n",
      "client:3 train_acc: 100.00%, train_loss: 0.0946\n",
      "client:0 train_acc: 100.00%, train_loss: 0.1169\n",
      "Test set: Average loss: 9.0142, Accuracy: 2535/10000 (25.35%)\n"
     ]
    },
    {
     "name": "stderr",
     "output_type": "stream",
     "text": [
      "Round339: User1_1: 100%|██████████████████████████████████████████| 100/100 [00:03<00:00, 31.00it/s]\n",
      "Round339: User2_1: 100%|██████████████████████████████████████████| 100/100 [00:02<00:00, 33.36it/s]\n",
      "Round339: User0_1: 100%|██████████████████████████████████████████| 100/100 [00:03<00:00, 33.29it/s]\n",
      "Round339: User3_1: 100%|██████████████████████████████████████████| 100/100 [00:03<00:00, 31.34it/s]\n",
      "Round339: User4_1: 100%|██████████████████████████████████████████| 100/100 [00:03<00:00, 31.40it/s]\n"
     ]
    },
    {
     "name": "stdout",
     "output_type": "stream",
     "text": [
      "client:1 train_acc: 100.00%, train_loss: 0.0223\n",
      "client:2 train_acc: 100.00%, train_loss: 0.0425\n",
      "client:0 train_acc: 100.00%, train_loss: 0.0639\n",
      "client:3 train_acc: 100.00%, train_loss: 0.0872\n",
      "client:4 train_acc: 100.00%, train_loss: 0.1138\n",
      "Test set: Average loss: 9.0887, Accuracy: 2528/10000 (25.28%)\n"
     ]
    },
    {
     "name": "stderr",
     "output_type": "stream",
     "text": [
      "Round340: User0_1: 100%|██████████████████████████████████████████| 100/100 [00:03<00:00, 30.45it/s]\n",
      "Round340: User3_1: 100%|██████████████████████████████████████████| 100/100 [00:03<00:00, 31.14it/s]\n",
      "Round340: User1_1: 100%|██████████████████████████████████████████| 100/100 [00:03<00:00, 30.87it/s]\n",
      "Round340: User4_1: 100%|██████████████████████████████████████████| 100/100 [00:03<00:00, 31.60it/s]\n",
      "Round340: User2_1: 100%|██████████████████████████████████████████| 100/100 [00:03<00:00, 30.66it/s]\n"
     ]
    },
    {
     "name": "stdout",
     "output_type": "stream",
     "text": [
      "client:0 train_acc: 100.00%, train_loss: 0.0209\n",
      "client:3 train_acc: 100.00%, train_loss: 0.0441\n",
      "client:1 train_acc: 100.00%, train_loss: 0.0660\n",
      "client:4 train_acc: 100.00%, train_loss: 0.0915\n",
      "client:2 train_acc: 100.00%, train_loss: 0.1114\n",
      "Test set: Average loss: 9.1298, Accuracy: 2510/10000 (25.10%)\n"
     ]
    },
    {
     "name": "stderr",
     "output_type": "stream",
     "text": [
      "Round341: User1_1: 100%|██████████████████████████████████████████| 100/100 [00:03<00:00, 30.25it/s]\n",
      "Round341: User0_1: 100%|██████████████████████████████████████████| 100/100 [00:03<00:00, 30.29it/s]\n",
      "Round341: User3_1: 100%|██████████████████████████████████████████| 100/100 [00:03<00:00, 28.91it/s]\n",
      "Round341: User4_1: 100%|██████████████████████████████████████████| 100/100 [00:03<00:00, 28.56it/s]\n",
      "Round341: User2_1: 100%|██████████████████████████████████████████| 100/100 [00:03<00:00, 29.72it/s]\n"
     ]
    },
    {
     "name": "stdout",
     "output_type": "stream",
     "text": [
      "client:1 train_acc: 100.00%, train_loss: 0.0212\n",
      "client:0 train_acc: 100.00%, train_loss: 0.0423\n",
      "client:3 train_acc: 100.00%, train_loss: 0.0650\n",
      "client:4 train_acc: 100.00%, train_loss: 0.0901\n",
      "client:2 train_acc: 100.00%, train_loss: 0.1096\n",
      "Test set: Average loss: 9.0805, Accuracy: 2516/10000 (25.16%)\n"
     ]
    },
    {
     "name": "stderr",
     "output_type": "stream",
     "text": [
      "Round342: User2_1: 100%|██████████████████████████████████████████| 100/100 [00:03<00:00, 30.00it/s]\n",
      "Round342: User4_1: 100%|██████████████████████████████████████████| 100/100 [00:03<00:00, 30.30it/s]\n",
      "Round342: User0_1: 100%|██████████████████████████████████████████| 100/100 [00:03<00:00, 30.26it/s]\n",
      "Round342: User1_1: 100%|██████████████████████████████████████████| 100/100 [00:03<00:00, 30.90it/s]\n",
      "Round342: User3_1: 100%|██████████████████████████████████████████| 100/100 [00:03<00:00, 30.52it/s]\n"
     ]
    },
    {
     "name": "stdout",
     "output_type": "stream",
     "text": [
      "client:2 train_acc: 100.00%, train_loss: 0.0194\n",
      "client:4 train_acc: 100.00%, train_loss: 0.0435\n",
      "client:0 train_acc: 100.00%, train_loss: 0.0640\n",
      "client:1 train_acc: 100.00%, train_loss: 0.0840\n",
      "client:3 train_acc: 100.00%, train_loss: 0.1067\n",
      "Test set: Average loss: 9.1377, Accuracy: 2540/10000 (25.40%)\n"
     ]
    },
    {
     "name": "stderr",
     "output_type": "stream",
     "text": [
      "Round343: User1_1: 100%|██████████████████████████████████████████| 100/100 [00:03<00:00, 31.12it/s]\n",
      "Round343: User3_1: 100%|██████████████████████████████████████████| 100/100 [00:03<00:00, 31.23it/s]\n",
      "Round343: User0_1: 100%|██████████████████████████████████████████| 100/100 [00:03<00:00, 30.39it/s]\n",
      "Round343: User2_1: 100%|██████████████████████████████████████████| 100/100 [00:03<00:00, 30.72it/s]\n",
      "Round343: User4_1: 100%|██████████████████████████████████████████| 100/100 [00:03<00:00, 30.90it/s]\n"
     ]
    },
    {
     "name": "stdout",
     "output_type": "stream",
     "text": [
      "client:1 train_acc: 100.00%, train_loss: 0.0200\n",
      "client:3 train_acc: 100.00%, train_loss: 0.0420\n",
      "client:0 train_acc: 100.00%, train_loss: 0.0620\n",
      "client:2 train_acc: 100.00%, train_loss: 0.0803\n",
      "client:4 train_acc: 100.00%, train_loss: 0.1040\n",
      "Test set: Average loss: 9.2135, Accuracy: 2518/10000 (25.18%)\n"
     ]
    },
    {
     "name": "stderr",
     "output_type": "stream",
     "text": [
      "Round344: User4_1: 100%|██████████████████████████████████████████| 100/100 [00:03<00:00, 30.15it/s]\n",
      "Round344: User0_1: 100%|██████████████████████████████████████████| 100/100 [00:03<00:00, 29.55it/s]\n",
      "Round344: User3_1: 100%|██████████████████████████████████████████| 100/100 [00:03<00:00, 31.06it/s]\n",
      "Round344: User2_1: 100%|██████████████████████████████████████████| 100/100 [00:03<00:00, 31.30it/s]\n",
      "Round344: User1_1: 100%|██████████████████████████████████████████| 100/100 [00:03<00:00, 29.38it/s]\n"
     ]
    },
    {
     "name": "stdout",
     "output_type": "stream",
     "text": [
      "client:4 train_acc: 100.00%, train_loss: 0.0224\n",
      "client:0 train_acc: 100.00%, train_loss: 0.0414\n",
      "client:3 train_acc: 100.00%, train_loss: 0.0627\n",
      "client:2 train_acc: 100.00%, train_loss: 0.0806\n",
      "client:1 train_acc: 100.00%, train_loss: 0.1003\n",
      "Test set: Average loss: 9.2282, Accuracy: 2506/10000 (25.06%)\n"
     ]
    },
    {
     "name": "stderr",
     "output_type": "stream",
     "text": [
      "Round345: User3_1: 100%|██████████████████████████████████████████| 100/100 [00:03<00:00, 31.11it/s]\n",
      "Round345: User1_1: 100%|██████████████████████████████████████████| 100/100 [00:03<00:00, 29.94it/s]\n",
      "Round345: User2_1: 100%|██████████████████████████████████████████| 100/100 [00:03<00:00, 31.00it/s]\n",
      "Round345: User4_1: 100%|██████████████████████████████████████████| 100/100 [00:03<00:00, 31.33it/s]\n",
      "Round345: User0_1: 100%|██████████████████████████████████████████| 100/100 [00:03<00:00, 29.80it/s]\n"
     ]
    },
    {
     "name": "stdout",
     "output_type": "stream",
     "text": [
      "client:3 train_acc: 100.00%, train_loss: 0.0203\n",
      "client:1 train_acc: 100.00%, train_loss: 0.0389\n",
      "client:2 train_acc: 100.00%, train_loss: 0.0565\n",
      "client:4 train_acc: 100.00%, train_loss: 0.0792\n",
      "client:0 train_acc: 100.00%, train_loss: 0.0982\n",
      "Test set: Average loss: 9.2806, Accuracy: 2539/10000 (25.39%)\n"
     ]
    },
    {
     "name": "stderr",
     "output_type": "stream",
     "text": [
      "Round346: User3_1: 100%|██████████████████████████████████████████| 100/100 [00:03<00:00, 30.96it/s]\n",
      "Round346: User1_1: 100%|██████████████████████████████████████████| 100/100 [00:03<00:00, 29.60it/s]\n",
      "Round346: User2_1: 100%|██████████████████████████████████████████| 100/100 [00:03<00:00, 30.28it/s]\n",
      "Round346: User0_1: 100%|██████████████████████████████████████████| 100/100 [00:03<00:00, 31.25it/s]\n",
      "Round346: User4_1: 100%|██████████████████████████████████████████| 100/100 [00:03<00:00, 30.14it/s]\n"
     ]
    },
    {
     "name": "stdout",
     "output_type": "stream",
     "text": [
      "client:3 train_acc: 100.00%, train_loss: 0.0201\n",
      "client:1 train_acc: 100.00%, train_loss: 0.0383\n",
      "client:2 train_acc: 100.00%, train_loss: 0.0556\n",
      "client:0 train_acc: 100.00%, train_loss: 0.0739\n",
      "client:4 train_acc: 100.00%, train_loss: 0.0961\n",
      "Test set: Average loss: 9.2681, Accuracy: 2536/10000 (25.36%)\n"
     ]
    },
    {
     "name": "stderr",
     "output_type": "stream",
     "text": [
      "Round347: User4_1: 100%|██████████████████████████████████████████| 100/100 [00:03<00:00, 30.66it/s]\n",
      "Round347: User0_1: 100%|██████████████████████████████████████████| 100/100 [00:03<00:00, 30.58it/s]\n",
      "Round347: User1_1: 100%|██████████████████████████████████████████| 100/100 [00:03<00:00, 29.61it/s]\n",
      "Round347: User3_1: 100%|██████████████████████████████████████████| 100/100 [00:03<00:00, 30.50it/s]\n",
      "Round347: User2_1: 100%|██████████████████████████████████████████| 100/100 [00:03<00:00, 29.35it/s]\n"
     ]
    },
    {
     "name": "stdout",
     "output_type": "stream",
     "text": [
      "client:4 train_acc: 100.00%, train_loss: 0.0217\n",
      "client:0 train_acc: 100.00%, train_loss: 0.0395\n",
      "client:1 train_acc: 100.00%, train_loss: 0.0575\n",
      "client:3 train_acc: 100.00%, train_loss: 0.0767\n",
      "client:2 train_acc: 100.00%, train_loss: 0.0935\n",
      "Test set: Average loss: 9.3238, Accuracy: 2511/10000 (25.11%)\n"
     ]
    },
    {
     "name": "stderr",
     "output_type": "stream",
     "text": [
      "Round348: User1_1: 100%|██████████████████████████████████████████| 100/100 [00:03<00:00, 28.87it/s]\n",
      "Round348: User0_1: 100%|██████████████████████████████████████████| 100/100 [00:03<00:00, 30.21it/s]\n",
      "Round348: User3_1: 100%|██████████████████████████████████████████| 100/100 [00:03<00:00, 29.01it/s]\n",
      "Round348: User2_1: 100%|██████████████████████████████████████████| 100/100 [00:03<00:00, 29.06it/s]\n",
      "Round348: User4_1: 100%|██████████████████████████████████████████| 100/100 [00:03<00:00, 31.93it/s]\n"
     ]
    },
    {
     "name": "stdout",
     "output_type": "stream",
     "text": [
      "client:1 train_acc: 100.00%, train_loss: 0.0176\n",
      "client:0 train_acc: 100.00%, train_loss: 0.0353\n",
      "client:3 train_acc: 100.00%, train_loss: 0.0545\n",
      "client:2 train_acc: 100.00%, train_loss: 0.0707\n",
      "client:4 train_acc: 100.00%, train_loss: 0.0917\n",
      "Test set: Average loss: 9.3522, Accuracy: 2508/10000 (25.08%)\n"
     ]
    },
    {
     "name": "stderr",
     "output_type": "stream",
     "text": [
      "Round349: User2_1: 100%|██████████████████████████████████████████| 100/100 [00:03<00:00, 29.66it/s]\n",
      "Round349: User3_1: 100%|██████████████████████████████████████████| 100/100 [00:03<00:00, 30.90it/s]\n",
      "Round349: User4_1: 100%|██████████████████████████████████████████| 100/100 [00:03<00:00, 30.48it/s]\n",
      "Round349: User0_1: 100%|██████████████████████████████████████████| 100/100 [00:03<00:00, 28.08it/s]\n",
      "Round349: User1_1: 100%|██████████████████████████████████████████| 100/100 [00:03<00:00, 29.59it/s]\n"
     ]
    },
    {
     "name": "stdout",
     "output_type": "stream",
     "text": [
      "client:2 train_acc: 100.00%, train_loss: 0.0159\n",
      "client:3 train_acc: 100.00%, train_loss: 0.0348\n",
      "client:4 train_acc: 100.00%, train_loss: 0.0558\n",
      "client:0 train_acc: 100.00%, train_loss: 0.0723\n",
      "client:1 train_acc: 100.00%, train_loss: 0.0899\n",
      "Test set: Average loss: 9.4267, Accuracy: 2506/10000 (25.06%)\n"
     ]
    },
    {
     "name": "stderr",
     "output_type": "stream",
     "text": [
      "Round350: User1_1: 100%|██████████████████████████████████████████| 100/100 [00:03<00:00, 28.88it/s]\n",
      "Round350: User4_1: 100%|██████████████████████████████████████████| 100/100 [00:03<00:00, 30.97it/s]\n",
      "Round350: User2_1: 100%|██████████████████████████████████████████| 100/100 [00:03<00:00, 31.20it/s]\n",
      "Round350: User3_1: 100%|██████████████████████████████████████████| 100/100 [00:03<00:00, 30.19it/s]\n",
      "Round350: User0_1: 100%|██████████████████████████████████████████| 100/100 [00:03<00:00, 31.34it/s]\n"
     ]
    },
    {
     "name": "stdout",
     "output_type": "stream",
     "text": [
      "client:1 train_acc: 100.00%, train_loss: 0.0167\n",
      "client:4 train_acc: 100.00%, train_loss: 0.0368\n",
      "client:2 train_acc: 100.00%, train_loss: 0.0523\n",
      "client:3 train_acc: 100.00%, train_loss: 0.0709\n",
      "client:0 train_acc: 100.00%, train_loss: 0.0883\n",
      "Test set: Average loss: 9.3972, Accuracy: 2535/10000 (25.35%)\n"
     ]
    },
    {
     "name": "stderr",
     "output_type": "stream",
     "text": [
      "Round351: User2_1: 100%|██████████████████████████████████████████| 100/100 [00:03<00:00, 29.90it/s]\n",
      "Round351: User4_1: 100%|██████████████████████████████████████████| 100/100 [00:03<00:00, 30.68it/s]\n",
      "Round351: User0_1: 100%|██████████████████████████████████████████| 100/100 [00:03<00:00, 31.41it/s]\n",
      "Round351: User1_1: 100%|██████████████████████████████████████████| 100/100 [00:03<00:00, 30.66it/s]\n",
      "Round351: User3_1: 100%|██████████████████████████████████████████| 100/100 [00:03<00:00, 29.96it/s]\n"
     ]
    },
    {
     "name": "stdout",
     "output_type": "stream",
     "text": [
      "client:2 train_acc: 100.00%, train_loss: 0.0154\n",
      "client:4 train_acc: 100.00%, train_loss: 0.0348\n",
      "client:0 train_acc: 100.00%, train_loss: 0.0509\n",
      "client:1 train_acc: 100.00%, train_loss: 0.0674\n",
      "client:3 train_acc: 100.00%, train_loss: 0.0856\n",
      "Test set: Average loss: 9.4430, Accuracy: 2514/10000 (25.14%)\n"
     ]
    },
    {
     "name": "stderr",
     "output_type": "stream",
     "text": [
      "Round352: User1_1: 100%|██████████████████████████████████████████| 100/100 [00:03<00:00, 31.30it/s]\n",
      "Round352: User0_1: 100%|██████████████████████████████████████████| 100/100 [00:03<00:00, 30.81it/s]\n",
      "Round352: User3_1: 100%|██████████████████████████████████████████| 100/100 [00:03<00:00, 30.65it/s]\n",
      "Round352: User2_1: 100%|██████████████████████████████████████████| 100/100 [00:03<00:00, 30.77it/s]\n",
      "Round352: User4_1: 100%|██████████████████████████████████████████| 100/100 [00:03<00:00, 30.22it/s]\n"
     ]
    },
    {
     "name": "stdout",
     "output_type": "stream",
     "text": [
      "client:1 train_acc: 100.00%, train_loss: 0.0159\n",
      "client:0 train_acc: 100.00%, train_loss: 0.0317\n",
      "client:3 train_acc: 100.00%, train_loss: 0.0495\n",
      "client:2 train_acc: 100.00%, train_loss: 0.0645\n",
      "client:4 train_acc: 100.00%, train_loss: 0.0840\n",
      "Test set: Average loss: 9.4818, Accuracy: 2519/10000 (25.19%)\n"
     ]
    },
    {
     "name": "stderr",
     "output_type": "stream",
     "text": [
      "Round353: User1_1: 100%|██████████████████████████████████████████| 100/100 [00:03<00:00, 31.08it/s]\n",
      "Round353: User0_1: 100%|██████████████████████████████████████████| 100/100 [00:03<00:00, 31.09it/s]\n",
      "Round353: User2_1: 100%|██████████████████████████████████████████| 100/100 [00:03<00:00, 29.03it/s]\n",
      "Round353: User4_1: 100%|██████████████████████████████████████████| 100/100 [00:03<00:00, 31.38it/s]\n",
      "Round353: User3_1: 100%|██████████████████████████████████████████| 100/100 [00:03<00:00, 30.77it/s]\n"
     ]
    },
    {
     "name": "stdout",
     "output_type": "stream",
     "text": [
      "client:1 train_acc: 100.00%, train_loss: 0.0155\n",
      "client:0 train_acc: 100.00%, train_loss: 0.0310\n",
      "client:2 train_acc: 100.00%, train_loss: 0.0455\n",
      "client:4 train_acc: 100.00%, train_loss: 0.0644\n",
      "client:3 train_acc: 100.00%, train_loss: 0.0819\n",
      "Test set: Average loss: 9.4789, Accuracy: 2534/10000 (25.34%)\n"
     ]
    },
    {
     "name": "stderr",
     "output_type": "stream",
     "text": [
      "Round354: User1_1: 100%|██████████████████████████████████████████| 100/100 [00:03<00:00, 30.57it/s]\n",
      "Round354: User4_1: 100%|██████████████████████████████████████████| 100/100 [00:03<00:00, 31.48it/s]\n",
      "Round354: User0_1: 100%|██████████████████████████████████████████| 100/100 [00:03<00:00, 29.30it/s]\n",
      "Round354: User2_1: 100%|██████████████████████████████████████████| 100/100 [00:03<00:00, 30.57it/s]\n",
      "Round354: User3_1: 100%|██████████████████████████████████████████| 100/100 [00:03<00:00, 30.07it/s]\n"
     ]
    },
    {
     "name": "stdout",
     "output_type": "stream",
     "text": [
      "client:1 train_acc: 100.00%, train_loss: 0.0151\n",
      "client:4 train_acc: 100.00%, train_loss: 0.0334\n",
      "client:0 train_acc: 100.00%, train_loss: 0.0491\n",
      "client:2 train_acc: 100.00%, train_loss: 0.0637\n",
      "client:3 train_acc: 100.00%, train_loss: 0.0807\n",
      "Test set: Average loss: 9.4679, Accuracy: 2578/10000 (25.78%)\n"
     ]
    },
    {
     "name": "stderr",
     "output_type": "stream",
     "text": [
      "Round355: User4_1: 100%|██████████████████████████████████████████| 100/100 [00:03<00:00, 29.93it/s]\n",
      "Round355: User1_1: 100%|██████████████████████████████████████████| 100/100 [00:03<00:00, 30.60it/s]\n",
      "Round355: User3_1: 100%|██████████████████████████████████████████| 100/100 [00:03<00:00, 30.31it/s]\n",
      "Round355: User2_1: 100%|██████████████████████████████████████████| 100/100 [00:03<00:00, 31.02it/s]\n",
      "Round355: User0_1: 100%|██████████████████████████████████████████| 100/100 [00:03<00:00, 30.69it/s]\n"
     ]
    },
    {
     "name": "stdout",
     "output_type": "stream",
     "text": [
      "client:4 train_acc: 100.00%, train_loss: 0.0177\n",
      "client:1 train_acc: 100.00%, train_loss: 0.0331\n",
      "client:3 train_acc: 100.00%, train_loss: 0.0501\n",
      "client:2 train_acc: 100.00%, train_loss: 0.0642\n",
      "client:0 train_acc: 100.00%, train_loss: 0.0790\n",
      "Test set: Average loss: 9.5530, Accuracy: 2534/10000 (25.34%)\n"
     ]
    },
    {
     "name": "stderr",
     "output_type": "stream",
     "text": [
      "Round356: User4_1: 100%|██████████████████████████████████████████| 100/100 [00:03<00:00, 30.37it/s]\n",
      "Round356: User2_1: 100%|██████████████████████████████████████████| 100/100 [00:03<00:00, 31.33it/s]\n",
      "Round356: User3_1: 100%|██████████████████████████████████████████| 100/100 [00:03<00:00, 30.39it/s]\n",
      "Round356: User0_1: 100%|██████████████████████████████████████████| 100/100 [00:03<00:00, 31.45it/s]\n",
      "Round356: User1_1: 100%|██████████████████████████████████████████| 100/100 [00:03<00:00, 30.75it/s]\n"
     ]
    },
    {
     "name": "stdout",
     "output_type": "stream",
     "text": [
      "client:4 train_acc: 100.00%, train_loss: 0.0177\n",
      "client:2 train_acc: 100.00%, train_loss: 0.0314\n",
      "client:3 train_acc: 100.00%, train_loss: 0.0476\n",
      "client:0 train_acc: 100.00%, train_loss: 0.0623\n",
      "client:1 train_acc: 100.00%, train_loss: 0.0771\n",
      "Test set: Average loss: 9.5809, Accuracy: 2551/10000 (25.51%)\n"
     ]
    },
    {
     "name": "stderr",
     "output_type": "stream",
     "text": [
      "Round357: User4_1: 100%|██████████████████████████████████████████| 100/100 [00:03<00:00, 31.54it/s]\n",
      "Round357: User1_1: 100%|██████████████████████████████████████████| 100/100 [00:03<00:00, 31.03it/s]\n",
      "Round357: User0_1: 100%|██████████████████████████████████████████| 100/100 [00:03<00:00, 30.51it/s]\n",
      "Round357: User3_1: 100%|██████████████████████████████████████████| 100/100 [00:03<00:00, 29.88it/s]\n",
      "Round357: User2_1: 100%|██████████████████████████████████████████| 100/100 [00:03<00:00, 28.81it/s]\n"
     ]
    },
    {
     "name": "stdout",
     "output_type": "stream",
     "text": [
      "client:4 train_acc: 100.00%, train_loss: 0.0171\n",
      "client:1 train_acc: 100.00%, train_loss: 0.0316\n",
      "client:0 train_acc: 100.00%, train_loss: 0.0459\n",
      "client:3 train_acc: 100.00%, train_loss: 0.0619\n",
      "client:2 train_acc: 100.00%, train_loss: 0.0754\n",
      "Test set: Average loss: 9.5961, Accuracy: 2552/10000 (25.52%)\n"
     ]
    },
    {
     "name": "stderr",
     "output_type": "stream",
     "text": [
      "Round358: User4_1: 100%|██████████████████████████████████████████| 100/100 [00:03<00:00, 29.59it/s]\n",
      "Round358: User3_1: 100%|██████████████████████████████████████████| 100/100 [00:03<00:00, 29.77it/s]\n",
      "Round358: User2_1: 100%|██████████████████████████████████████████| 100/100 [00:03<00:00, 30.86it/s]\n",
      "Round358: User1_1: 100%|██████████████████████████████████████████| 100/100 [00:03<00:00, 31.29it/s]\n",
      "Round358: User0_1: 100%|██████████████████████████████████████████| 100/100 [00:03<00:00, 31.27it/s]\n"
     ]
    },
    {
     "name": "stdout",
     "output_type": "stream",
     "text": [
      "client:4 train_acc: 100.00%, train_loss: 0.0170\n",
      "client:3 train_acc: 100.00%, train_loss: 0.0326\n",
      "client:2 train_acc: 100.00%, train_loss: 0.0458\n",
      "client:1 train_acc: 100.00%, train_loss: 0.0600\n",
      "client:0 train_acc: 100.00%, train_loss: 0.0740\n",
      "Test set: Average loss: 9.6105, Accuracy: 2552/10000 (25.52%)\n"
     ]
    },
    {
     "name": "stderr",
     "output_type": "stream",
     "text": [
      "Round359: User1_1: 100%|██████████████████████████████████████████| 100/100 [00:03<00:00, 31.40it/s]\n",
      "Round359: User4_1: 100%|██████████████████████████████████████████| 100/100 [00:03<00:00, 30.14it/s]\n",
      "Round359: User2_1: 100%|██████████████████████████████████████████| 100/100 [00:03<00:00, 30.40it/s]\n",
      "Round359: User0_1: 100%|██████████████████████████████████████████| 100/100 [00:03<00:00, 31.05it/s]\n",
      "Round359: User3_1: 100%|██████████████████████████████████████████| 100/100 [00:03<00:00, 30.20it/s]\n"
     ]
    },
    {
     "name": "stdout",
     "output_type": "stream",
     "text": [
      "client:1 train_acc: 100.00%, train_loss: 0.0142\n",
      "client:4 train_acc: 100.00%, train_loss: 0.0307\n",
      "client:2 train_acc: 100.00%, train_loss: 0.0433\n",
      "client:0 train_acc: 100.00%, train_loss: 0.0573\n",
      "client:3 train_acc: 100.00%, train_loss: 0.0727\n",
      "Test set: Average loss: 9.6563, Accuracy: 2531/10000 (25.31%)\n"
     ]
    },
    {
     "name": "stderr",
     "output_type": "stream",
     "text": [
      "Round360: User4_1: 100%|██████████████████████████████████████████| 100/100 [00:03<00:00, 30.33it/s]\n",
      "Round360: User2_1: 100%|██████████████████████████████████████████| 100/100 [00:03<00:00, 29.75it/s]\n",
      "Round360: User3_1: 100%|██████████████████████████████████████████| 100/100 [00:03<00:00, 30.67it/s]\n",
      "Round360: User1_1: 100%|██████████████████████████████████████████| 100/100 [00:03<00:00, 30.03it/s]\n",
      "Round360: User0_1: 100%|██████████████████████████████████████████| 100/100 [00:03<00:00, 28.86it/s]\n"
     ]
    },
    {
     "name": "stdout",
     "output_type": "stream",
     "text": [
      "client:4 train_acc: 100.00%, train_loss: 0.0164\n",
      "client:2 train_acc: 100.00%, train_loss: 0.0292\n",
      "client:3 train_acc: 100.00%, train_loss: 0.0444\n",
      "client:1 train_acc: 100.00%, train_loss: 0.0584\n",
      "client:0 train_acc: 100.00%, train_loss: 0.0715\n",
      "Test set: Average loss: 9.7144, Accuracy: 2550/10000 (25.50%)\n"
     ]
    },
    {
     "name": "stderr",
     "output_type": "stream",
     "text": [
      "Round361: User4_1: 100%|██████████████████████████████████████████| 100/100 [00:03<00:00, 30.59it/s]\n",
      "Round361: User2_1: 100%|██████████████████████████████████████████| 100/100 [00:03<00:00, 28.04it/s]\n",
      "Round361: User0_1: 100%|██████████████████████████████████████████| 100/100 [00:03<00:00, 29.96it/s]\n",
      "Round361: User1_1: 100%|██████████████████████████████████████████| 100/100 [00:03<00:00, 30.45it/s]\n",
      "Round361: User3_1: 100%|██████████████████████████████████████████| 100/100 [00:03<00:00, 28.52it/s]\n"
     ]
    },
    {
     "name": "stdout",
     "output_type": "stream",
     "text": [
      "client:4 train_acc: 100.00%, train_loss: 0.0160\n",
      "client:2 train_acc: 100.00%, train_loss: 0.0284\n",
      "client:0 train_acc: 100.00%, train_loss: 0.0416\n",
      "client:1 train_acc: 100.00%, train_loss: 0.0549\n",
      "client:3 train_acc: 100.00%, train_loss: 0.0697\n",
      "Test set: Average loss: 9.6999, Accuracy: 2533/10000 (25.33%)\n"
     ]
    },
    {
     "name": "stderr",
     "output_type": "stream",
     "text": [
      "Round362: User1_1: 100%|██████████████████████████████████████████| 100/100 [00:03<00:00, 30.47it/s]\n",
      "Round362: User2_1: 100%|██████████████████████████████████████████| 100/100 [00:03<00:00, 30.38it/s]\n",
      "Round362: User3_1: 100%|██████████████████████████████████████████| 100/100 [00:03<00:00, 30.13it/s]\n",
      "Round362: User4_1: 100%|██████████████████████████████████████████| 100/100 [00:03<00:00, 25.56it/s]\n",
      "Round362: User0_1: 100%|██████████████████████████████████████████| 100/100 [00:03<00:00, 30.55it/s]\n"
     ]
    },
    {
     "name": "stdout",
     "output_type": "stream",
     "text": [
      "client:1 train_acc: 100.00%, train_loss: 0.0135\n",
      "client:2 train_acc: 100.00%, train_loss: 0.0256\n",
      "client:3 train_acc: 100.00%, train_loss: 0.0399\n",
      "client:4 train_acc: 100.00%, train_loss: 0.0555\n",
      "client:0 train_acc: 100.00%, train_loss: 0.0687\n",
      "Test set: Average loss: 9.7536, Accuracy: 2567/10000 (25.67%)\n"
     ]
    },
    {
     "name": "stderr",
     "output_type": "stream",
     "text": [
      "Round363: User2_1: 100%|██████████████████████████████████████████| 100/100 [00:03<00:00, 30.31it/s]\n",
      "Round363: User0_1: 100%|██████████████████████████████████████████| 100/100 [00:03<00:00, 31.58it/s]\n",
      "Round363: User4_1: 100%|██████████████████████████████████████████| 100/100 [00:03<00:00, 31.47it/s]\n",
      "Round363: User3_1: 100%|██████████████████████████████████████████| 100/100 [00:03<00:00, 29.79it/s]\n",
      "Round363: User1_1: 100%|██████████████████████████████████████████| 100/100 [00:03<00:00, 31.48it/s]\n"
     ]
    },
    {
     "name": "stdout",
     "output_type": "stream",
     "text": [
      "client:2 train_acc: 100.00%, train_loss: 0.0119\n",
      "client:0 train_acc: 100.00%, train_loss: 0.0246\n",
      "client:4 train_acc: 100.00%, train_loss: 0.0403\n",
      "client:3 train_acc: 100.00%, train_loss: 0.0544\n",
      "client:1 train_acc: 100.00%, train_loss: 0.0680\n",
      "Test set: Average loss: 9.7893, Accuracy: 2539/10000 (25.39%)\n"
     ]
    },
    {
     "name": "stderr",
     "output_type": "stream",
     "text": [
      "Round364: User2_1: 100%|██████████████████████████████████████████| 100/100 [00:03<00:00, 30.69it/s]\n",
      "Round364: User4_1: 100%|██████████████████████████████████████████| 100/100 [00:03<00:00, 31.14it/s]\n",
      "Round364: User3_1: 100%|██████████████████████████████████████████| 100/100 [00:03<00:00, 30.62it/s]\n",
      "Round364: User1_1: 100%|██████████████████████████████████████████| 100/100 [00:03<00:00, 30.21it/s]\n",
      "Round364: User0_1: 100%|██████████████████████████████████████████| 100/100 [00:03<00:00, 31.01it/s]\n"
     ]
    },
    {
     "name": "stdout",
     "output_type": "stream",
     "text": [
      "client:2 train_acc: 100.00%, train_loss: 0.0117\n",
      "client:4 train_acc: 100.00%, train_loss: 0.0270\n",
      "client:3 train_acc: 100.00%, train_loss: 0.0410\n",
      "client:1 train_acc: 100.00%, train_loss: 0.0536\n",
      "client:0 train_acc: 100.00%, train_loss: 0.0662\n",
      "Test set: Average loss: 9.8072, Accuracy: 2528/10000 (25.28%)\n"
     ]
    },
    {
     "name": "stderr",
     "output_type": "stream",
     "text": [
      "Round365: User1_1: 100%|██████████████████████████████████████████| 100/100 [00:03<00:00, 29.77it/s]\n",
      "Round365: User3_1: 100%|██████████████████████████████████████████| 100/100 [00:03<00:00, 29.35it/s]\n",
      "Round365: User2_1: 100%|██████████████████████████████████████████| 100/100 [00:03<00:00, 29.57it/s]\n",
      "Round365: User4_1: 100%|██████████████████████████████████████████| 100/100 [00:03<00:00, 28.55it/s]\n",
      "Round365: User0_1: 100%|██████████████████████████████████████████| 100/100 [00:03<00:00, 30.47it/s]\n"
     ]
    },
    {
     "name": "stdout",
     "output_type": "stream",
     "text": [
      "client:1 train_acc: 100.00%, train_loss: 0.0123\n",
      "client:3 train_acc: 100.00%, train_loss: 0.0263\n",
      "client:2 train_acc: 100.00%, train_loss: 0.0379\n",
      "client:4 train_acc: 100.00%, train_loss: 0.0529\n",
      "client:0 train_acc: 100.00%, train_loss: 0.0652\n",
      "Test set: Average loss: 9.8161, Accuracy: 2530/10000 (25.30%)\n"
     ]
    },
    {
     "name": "stderr",
     "output_type": "stream",
     "text": [
      "Round366: User3_1: 100%|██████████████████████████████████████████| 100/100 [00:03<00:00, 30.83it/s]\n",
      "Round366: User2_1: 100%|██████████████████████████████████████████| 100/100 [00:03<00:00, 31.54it/s]\n",
      "Round366: User0_1: 100%|██████████████████████████████████████████| 100/100 [00:03<00:00, 31.30it/s]\n",
      "Round366: User1_1: 100%|██████████████████████████████████████████| 100/100 [00:03<00:00, 31.20it/s]\n",
      "Round366: User4_1: 100%|██████████████████████████████████████████| 100/100 [00:03<00:00, 30.28it/s]\n"
     ]
    },
    {
     "name": "stdout",
     "output_type": "stream",
     "text": [
      "client:3 train_acc: 100.00%, train_loss: 0.0138\n",
      "client:2 train_acc: 100.00%, train_loss: 0.0251\n",
      "client:0 train_acc: 100.00%, train_loss: 0.0370\n",
      "client:1 train_acc: 100.00%, train_loss: 0.0491\n",
      "client:4 train_acc: 100.00%, train_loss: 0.0639\n",
      "Test set: Average loss: 9.8303, Accuracy: 2560/10000 (25.60%)\n"
     ]
    },
    {
     "name": "stderr",
     "output_type": "stream",
     "text": [
      "Round367: User2_1: 100%|██████████████████████████████████████████| 100/100 [00:03<00:00, 31.35it/s]\n",
      "Round367: User4_1: 100%|██████████████████████████████████████████| 100/100 [00:03<00:00, 31.10it/s]\n",
      "Round367: User1_1: 100%|██████████████████████████████████████████| 100/100 [00:03<00:00, 30.99it/s]\n",
      "Round367: User0_1: 100%|██████████████████████████████████████████| 100/100 [00:03<00:00, 32.11it/s]\n",
      "Round367: User3_1: 100%|██████████████████████████████████████████| 100/100 [00:03<00:00, 30.73it/s]\n"
     ]
    },
    {
     "name": "stdout",
     "output_type": "stream",
     "text": [
      "client:2 train_acc: 100.00%, train_loss: 0.0111\n",
      "client:4 train_acc: 100.00%, train_loss: 0.0254\n",
      "client:1 train_acc: 100.00%, train_loss: 0.0374\n",
      "client:0 train_acc: 100.00%, train_loss: 0.0493\n",
      "client:3 train_acc: 100.00%, train_loss: 0.0629\n",
      "Test set: Average loss: 9.8629, Accuracy: 2559/10000 (25.59%)\n"
     ]
    },
    {
     "name": "stderr",
     "output_type": "stream",
     "text": [
      "Round368: User0_1: 100%|██████████████████████████████████████████| 100/100 [00:03<00:00, 31.13it/s]\n",
      "Round368: User2_1: 100%|██████████████████████████████████████████| 100/100 [00:03<00:00, 30.47it/s]\n",
      "Round368: User3_1: 100%|██████████████████████████████████████████| 100/100 [00:03<00:00, 29.54it/s]\n",
      "Round368: User1_1: 100%|██████████████████████████████████████████| 100/100 [00:03<00:00, 31.08it/s]\n",
      "Round368: User4_1: 100%|██████████████████████████████████████████| 100/100 [00:03<00:00, 30.89it/s]\n"
     ]
    },
    {
     "name": "stdout",
     "output_type": "stream",
     "text": [
      "client:0 train_acc: 100.00%, train_loss: 0.0115\n",
      "client:2 train_acc: 100.00%, train_loss: 0.0226\n",
      "client:3 train_acc: 100.00%, train_loss: 0.0360\n",
      "client:1 train_acc: 100.00%, train_loss: 0.0477\n",
      "client:4 train_acc: 100.00%, train_loss: 0.0618\n",
      "Test set: Average loss: 9.8724, Accuracy: 2536/10000 (25.36%)\n"
     ]
    },
    {
     "name": "stderr",
     "output_type": "stream",
     "text": [
      "Round369: User1_1: 100%|██████████████████████████████████████████| 100/100 [00:03<00:00, 29.00it/s]\n",
      "Round369: User3_1: 100%|██████████████████████████████████████████| 100/100 [00:03<00:00, 30.09it/s]\n",
      "Round369: User4_1: 100%|██████████████████████████████████████████| 100/100 [00:03<00:00, 29.74it/s]\n",
      "Round369: User0_1: 100%|██████████████████████████████████████████| 100/100 [00:03<00:00, 30.99it/s]\n",
      "Round369: User2_1: 100%|██████████████████████████████████████████| 100/100 [00:03<00:00, 30.71it/s]\n"
     ]
    },
    {
     "name": "stdout",
     "output_type": "stream",
     "text": [
      "client:1 train_acc: 100.00%, train_loss: 0.0119\n",
      "client:3 train_acc: 100.00%, train_loss: 0.0247\n",
      "client:4 train_acc: 100.00%, train_loss: 0.0385\n",
      "client:0 train_acc: 100.00%, train_loss: 0.0499\n",
      "client:2 train_acc: 100.00%, train_loss: 0.0607\n",
      "Test set: Average loss: 9.9028, Accuracy: 2570/10000 (25.70%)\n"
     ]
    },
    {
     "name": "stderr",
     "output_type": "stream",
     "text": [
      "Round370: User4_1: 100%|██████████████████████████████████████████| 100/100 [00:03<00:00, 31.26it/s]\n",
      "Round370: User3_1: 100%|██████████████████████████████████████████| 100/100 [00:03<00:00, 31.51it/s]\n",
      "Round370: User2_1: 100%|██████████████████████████████████████████| 100/100 [00:03<00:00, 29.47it/s]\n",
      "Round370: User1_1: 100%|██████████████████████████████████████████| 100/100 [00:03<00:00, 30.90it/s]\n",
      "Round370: User0_1: 100%|██████████████████████████████████████████| 100/100 [00:03<00:00, 30.82it/s]\n"
     ]
    },
    {
     "name": "stdout",
     "output_type": "stream",
     "text": [
      "client:4 train_acc: 100.00%, train_loss: 0.0137\n",
      "client:3 train_acc: 100.00%, train_loss: 0.0264\n",
      "client:2 train_acc: 100.00%, train_loss: 0.0371\n",
      "client:1 train_acc: 100.00%, train_loss: 0.0487\n",
      "client:0 train_acc: 100.00%, train_loss: 0.0598\n",
      "Test set: Average loss: 9.9408, Accuracy: 2539/10000 (25.39%)\n"
     ]
    },
    {
     "name": "stderr",
     "output_type": "stream",
     "text": [
      "Round371: User1_1: 100%|██████████████████████████████████████████| 100/100 [00:03<00:00, 31.52it/s]\n",
      "Round371: User3_1: 100%|██████████████████████████████████████████| 100/100 [00:03<00:00, 31.15it/s]\n",
      "Round371: User0_1: 100%|██████████████████████████████████████████| 100/100 [00:03<00:00, 30.15it/s]\n",
      "Round371: User4_1: 100%|██████████████████████████████████████████| 100/100 [00:03<00:00, 32.53it/s]\n",
      "Round371: User2_1: 100%|██████████████████████████████████████████| 100/100 [00:03<00:00, 31.45it/s]\n"
     ]
    },
    {
     "name": "stdout",
     "output_type": "stream",
     "text": [
      "client:1 train_acc: 100.00%, train_loss: 0.0116\n",
      "client:3 train_acc: 100.00%, train_loss: 0.0239\n",
      "client:0 train_acc: 100.00%, train_loss: 0.0353\n",
      "client:4 train_acc: 100.00%, train_loss: 0.0487\n",
      "client:2 train_acc: 100.00%, train_loss: 0.0591\n",
      "Test set: Average loss: 9.9527, Accuracy: 2522/10000 (25.22%)\n"
     ]
    },
    {
     "name": "stderr",
     "output_type": "stream",
     "text": [
      "Round372: User1_1: 100%|██████████████████████████████████████████| 100/100 [00:03<00:00, 31.56it/s]\n",
      "Round372: User2_1: 100%|██████████████████████████████████████████| 100/100 [00:03<00:00, 30.80it/s]\n",
      "Round372: User4_1: 100%|██████████████████████████████████████████| 100/100 [00:03<00:00, 29.46it/s]\n",
      "Round372: User3_1: 100%|██████████████████████████████████████████| 100/100 [00:03<00:00, 29.44it/s]\n",
      "Round372: User0_1: 100%|██████████████████████████████████████████| 100/100 [00:03<00:00, 30.47it/s]\n"
     ]
    },
    {
     "name": "stdout",
     "output_type": "stream",
     "text": [
      "client:1 train_acc: 100.00%, train_loss: 0.0112\n",
      "client:2 train_acc: 100.00%, train_loss: 0.0214\n",
      "client:4 train_acc: 100.00%, train_loss: 0.0346\n",
      "client:3 train_acc: 100.00%, train_loss: 0.0469\n",
      "client:0 train_acc: 100.00%, train_loss: 0.0580\n",
      "Test set: Average loss: 9.9586, Accuracy: 2567/10000 (25.67%)\n"
     ]
    },
    {
     "name": "stderr",
     "output_type": "stream",
     "text": [
      "Round373: User0_1: 100%|██████████████████████████████████████████| 100/100 [00:03<00:00, 31.39it/s]\n",
      "Round373: User2_1: 100%|██████████████████████████████████████████| 100/100 [00:03<00:00, 32.40it/s]\n",
      "Round373: User1_1: 100%|██████████████████████████████████████████| 100/100 [00:03<00:00, 30.06it/s]\n",
      "Round373: User4_1: 100%|██████████████████████████████████████████| 100/100 [00:03<00:00, 29.35it/s]\n",
      "Round373: User3_1: 100%|██████████████████████████████████████████| 100/100 [00:03<00:00, 30.71it/s]\n"
     ]
    },
    {
     "name": "stdout",
     "output_type": "stream",
     "text": [
      "client:0 train_acc: 100.00%, train_loss: 0.0105\n",
      "client:2 train_acc: 100.00%, train_loss: 0.0207\n",
      "client:1 train_acc: 100.00%, train_loss: 0.0316\n",
      "client:4 train_acc: 100.00%, train_loss: 0.0449\n",
      "client:3 train_acc: 100.00%, train_loss: 0.0569\n",
      "Test set: Average loss: 9.9638, Accuracy: 2566/10000 (25.66%)\n"
     ]
    },
    {
     "name": "stderr",
     "output_type": "stream",
     "text": [
      "Round374: User0_1: 100%|██████████████████████████████████████████| 100/100 [00:03<00:00, 32.15it/s]\n",
      "Round374: User3_1: 100%|██████████████████████████████████████████| 100/100 [00:03<00:00, 31.07it/s]\n",
      "Round374: User2_1: 100%|██████████████████████████████████████████| 100/100 [00:03<00:00, 30.11it/s]\n",
      "Round374: User1_1: 100%|██████████████████████████████████████████| 100/100 [00:03<00:00, 31.80it/s]\n",
      "Round374: User4_1: 100%|██████████████████████████████████████████| 100/100 [00:03<00:00, 29.80it/s]\n"
     ]
    },
    {
     "name": "stdout",
     "output_type": "stream",
     "text": [
      "client:0 train_acc: 100.00%, train_loss: 0.0108\n",
      "client:3 train_acc: 100.00%, train_loss: 0.0226\n",
      "client:2 train_acc: 100.00%, train_loss: 0.0325\n",
      "client:1 train_acc: 100.00%, train_loss: 0.0433\n",
      "client:4 train_acc: 100.00%, train_loss: 0.0560\n",
      "Test set: Average loss: 9.9965, Accuracy: 2570/10000 (25.70%)\n"
     ]
    },
    {
     "name": "stderr",
     "output_type": "stream",
     "text": [
      "Round375: User4_1: 100%|██████████████████████████████████████████| 100/100 [00:03<00:00, 29.95it/s]\n",
      "Round375: User0_1: 100%|██████████████████████████████████████████| 100/100 [00:03<00:00, 30.27it/s]\n",
      "Round375: User2_1: 100%|██████████████████████████████████████████| 100/100 [00:03<00:00, 31.36it/s]\n",
      "Round375: User1_1: 100%|██████████████████████████████████████████| 100/100 [00:03<00:00, 31.23it/s]\n",
      "Round375: User3_1: 100%|██████████████████████████████████████████| 100/100 [00:03<00:00, 30.68it/s]\n"
     ]
    },
    {
     "name": "stdout",
     "output_type": "stream",
     "text": [
      "client:4 train_acc: 100.00%, train_loss: 0.0126\n",
      "client:0 train_acc: 100.00%, train_loss: 0.0231\n",
      "client:2 train_acc: 100.00%, train_loss: 0.0329\n",
      "client:1 train_acc: 100.00%, train_loss: 0.0436\n",
      "client:3 train_acc: 100.00%, train_loss: 0.0552\n",
      "Test set: Average loss: 10.0285, Accuracy: 2564/10000 (25.64%)\n"
     ]
    },
    {
     "name": "stderr",
     "output_type": "stream",
     "text": [
      "Round376: User0_1: 100%|██████████████████████████████████████████| 100/100 [00:03<00:00, 28.95it/s]\n",
      "Round376: User1_1: 100%|██████████████████████████████████████████| 100/100 [00:03<00:00, 28.21it/s]\n",
      "Round376: User3_1: 100%|██████████████████████████████████████████| 100/100 [00:03<00:00, 30.60it/s]\n",
      "Round376: User4_1: 100%|██████████████████████████████████████████| 100/100 [00:03<00:00, 30.79it/s]\n",
      "Round376: User2_1: 100%|██████████████████████████████████████████| 100/100 [00:03<00:00, 28.67it/s]\n"
     ]
    },
    {
     "name": "stdout",
     "output_type": "stream",
     "text": [
      "client:0 train_acc: 100.00%, train_loss: 0.0103\n",
      "client:1 train_acc: 100.00%, train_loss: 0.0205\n",
      "client:3 train_acc: 100.00%, train_loss: 0.0320\n",
      "client:4 train_acc: 100.00%, train_loss: 0.0445\n",
      "client:2 train_acc: 100.00%, train_loss: 0.0544\n",
      "Test set: Average loss: 10.0347, Accuracy: 2536/10000 (25.36%)\n"
     ]
    },
    {
     "name": "stderr",
     "output_type": "stream",
     "text": [
      "Round377: User3_1: 100%|██████████████████████████████████████████| 100/100 [00:03<00:00, 31.09it/s]\n",
      "Round377: User1_1: 100%|██████████████████████████████████████████| 100/100 [00:03<00:00, 29.35it/s]\n",
      "Round377: User4_1: 100%|██████████████████████████████████████████| 100/100 [00:03<00:00, 29.02it/s]\n",
      "Round377: User0_1: 100%|██████████████████████████████████████████| 100/100 [00:03<00:00, 30.22it/s]\n",
      "Round377: User2_1: 100%|██████████████████████████████████████████| 100/100 [00:03<00:00, 30.39it/s]\n"
     ]
    },
    {
     "name": "stdout",
     "output_type": "stream",
     "text": [
      "client:3 train_acc: 100.00%, train_loss: 0.0115\n",
      "client:1 train_acc: 100.00%, train_loss: 0.0216\n",
      "client:4 train_acc: 100.00%, train_loss: 0.0338\n",
      "client:0 train_acc: 100.00%, train_loss: 0.0440\n",
      "client:2 train_acc: 100.00%, train_loss: 0.0535\n",
      "Test set: Average loss: 10.0694, Accuracy: 2554/10000 (25.54%)\n"
     ]
    },
    {
     "name": "stderr",
     "output_type": "stream",
     "text": [
      "Round378: User0_1: 100%|██████████████████████████████████████████| 100/100 [00:03<00:00, 30.27it/s]\n",
      "Round378: User1_1: 100%|██████████████████████████████████████████| 100/100 [00:03<00:00, 30.16it/s]\n",
      "Round378: User2_1: 100%|██████████████████████████████████████████| 100/100 [00:03<00:00, 31.88it/s]\n",
      "Round378: User4_1: 100%|██████████████████████████████████████████| 100/100 [00:03<00:00, 31.74it/s]\n",
      "Round378: User3_1: 100%|██████████████████████████████████████████| 100/100 [00:03<00:00, 30.20it/s]\n"
     ]
    },
    {
     "name": "stdout",
     "output_type": "stream",
     "text": [
      "client:0 train_acc: 100.00%, train_loss: 0.0099\n",
      "client:1 train_acc: 100.00%, train_loss: 0.0202\n",
      "client:2 train_acc: 100.00%, train_loss: 0.0296\n",
      "client:4 train_acc: 100.00%, train_loss: 0.0415\n",
      "client:3 train_acc: 100.00%, train_loss: 0.0528\n",
      "Test set: Average loss: 10.1088, Accuracy: 2548/10000 (25.48%)\n"
     ]
    },
    {
     "name": "stderr",
     "output_type": "stream",
     "text": [
      "Round379: User0_1: 100%|██████████████████████████████████████████| 100/100 [00:03<00:00, 28.92it/s]\n",
      "Round379: User3_1: 100%|██████████████████████████████████████████| 100/100 [00:03<00:00, 28.53it/s]\n",
      "Round379: User1_1: 100%|██████████████████████████████████████████| 100/100 [00:03<00:00, 28.62it/s]\n",
      "Round379: User2_1: 100%|██████████████████████████████████████████| 100/100 [00:03<00:00, 29.69it/s]\n",
      "Round379: User4_1: 100%|██████████████████████████████████████████| 100/100 [00:03<00:00, 31.07it/s]\n"
     ]
    },
    {
     "name": "stdout",
     "output_type": "stream",
     "text": [
      "client:0 train_acc: 100.00%, train_loss: 0.0101\n",
      "client:3 train_acc: 100.00%, train_loss: 0.0214\n",
      "client:1 train_acc: 100.00%, train_loss: 0.0316\n",
      "client:2 train_acc: 100.00%, train_loss: 0.0407\n",
      "client:4 train_acc: 100.00%, train_loss: 0.0523\n",
      "Test set: Average loss: 10.1079, Accuracy: 2577/10000 (25.77%)\n"
     ]
    },
    {
     "name": "stderr",
     "output_type": "stream",
     "text": [
      "Round380: User2_1: 100%|██████████████████████████████████████████| 100/100 [00:03<00:00, 30.30it/s]\n",
      "Round380: User3_1: 100%|██████████████████████████████████████████| 100/100 [00:03<00:00, 30.16it/s]\n",
      "Round380: User1_1: 100%|██████████████████████████████████████████| 100/100 [00:03<00:00, 30.40it/s]\n",
      "Round380: User4_1: 100%|██████████████████████████████████████████| 100/100 [00:03<00:00, 30.24it/s]\n",
      "Round380: User0_1: 100%|██████████████████████████████████████████| 100/100 [00:03<00:00, 31.10it/s]\n"
     ]
    },
    {
     "name": "stdout",
     "output_type": "stream",
     "text": [
      "client:2 train_acc: 100.00%, train_loss: 0.0091\n",
      "client:3 train_acc: 100.00%, train_loss: 0.0200\n",
      "client:1 train_acc: 100.00%, train_loss: 0.0297\n",
      "client:4 train_acc: 100.00%, train_loss: 0.0412\n",
      "client:0 train_acc: 100.00%, train_loss: 0.0510\n",
      "Test set: Average loss: 10.1232, Accuracy: 2571/10000 (25.71%)\n"
     ]
    },
    {
     "name": "stderr",
     "output_type": "stream",
     "text": [
      "Round381: User4_1: 100%|██████████████████████████████████████████| 100/100 [00:03<00:00, 29.99it/s]\n",
      "Round381: User2_1: 100%|██████████████████████████████████████████| 100/100 [00:03<00:00, 30.72it/s]\n",
      "Round381: User1_1: 100%|██████████████████████████████████████████| 100/100 [00:03<00:00, 30.68it/s]\n",
      "Round381: User0_1: 100%|██████████████████████████████████████████| 100/100 [00:03<00:00, 29.63it/s]\n",
      "Round381: User3_1: 100%|██████████████████████████████████████████| 100/100 [00:03<00:00, 31.74it/s]\n"
     ]
    },
    {
     "name": "stdout",
     "output_type": "stream",
     "text": [
      "client:4 train_acc: 100.00%, train_loss: 0.0115\n",
      "client:2 train_acc: 100.00%, train_loss: 0.0205\n",
      "client:1 train_acc: 100.00%, train_loss: 0.0303\n",
      "client:0 train_acc: 100.00%, train_loss: 0.0400\n",
      "client:3 train_acc: 100.00%, train_loss: 0.0505\n",
      "Test set: Average loss: 10.1578, Accuracy: 2554/10000 (25.54%)\n"
     ]
    },
    {
     "name": "stderr",
     "output_type": "stream",
     "text": [
      "Round382: User4_1: 100%|██████████████████████████████████████████| 100/100 [00:03<00:00, 30.40it/s]\n",
      "Round382: User3_1: 100%|██████████████████████████████████████████| 100/100 [00:03<00:00, 31.48it/s]\n",
      "Round382: User0_1: 100%|██████████████████████████████████████████| 100/100 [00:03<00:00, 30.35it/s]\n",
      "Round382: User1_1: 100%|██████████████████████████████████████████| 100/100 [00:03<00:00, 30.11it/s]\n",
      "Round382: User2_1: 100%|██████████████████████████████████████████| 100/100 [00:03<00:00, 31.09it/s]\n"
     ]
    },
    {
     "name": "stdout",
     "output_type": "stream",
     "text": [
      "client:4 train_acc: 100.00%, train_loss: 0.0111\n",
      "client:3 train_acc: 100.00%, train_loss: 0.0215\n",
      "client:0 train_acc: 100.00%, train_loss: 0.0309\n",
      "client:1 train_acc: 100.00%, train_loss: 0.0405\n",
      "client:2 train_acc: 100.00%, train_loss: 0.0495\n",
      "Test set: Average loss: 10.1924, Accuracy: 2550/10000 (25.50%)\n"
     ]
    },
    {
     "name": "stderr",
     "output_type": "stream",
     "text": [
      "Round383: User0_1: 100%|██████████████████████████████████████████| 100/100 [00:03<00:00, 30.16it/s]\n",
      "Round383: User4_1: 100%|██████████████████████████████████████████| 100/100 [00:03<00:00, 31.53it/s]\n",
      "Round383: User3_1: 100%|██████████████████████████████████████████| 100/100 [00:03<00:00, 30.52it/s]\n",
      "Round383: User1_1: 100%|██████████████████████████████████████████| 100/100 [00:03<00:00, 30.24it/s]\n",
      "Round383: User2_1: 100%|██████████████████████████████████████████| 100/100 [00:03<00:00, 31.19it/s]\n"
     ]
    },
    {
     "name": "stdout",
     "output_type": "stream",
     "text": [
      "client:0 train_acc: 100.00%, train_loss: 0.0091\n",
      "client:4 train_acc: 100.00%, train_loss: 0.0202\n",
      "client:3 train_acc: 100.00%, train_loss: 0.0306\n",
      "client:1 train_acc: 100.00%, train_loss: 0.0402\n",
      "client:2 train_acc: 100.00%, train_loss: 0.0489\n",
      "Test set: Average loss: 10.1965, Accuracy: 2573/10000 (25.73%)\n"
     ]
    },
    {
     "name": "stderr",
     "output_type": "stream",
     "text": [
      "Round384: User2_1: 100%|██████████████████████████████████████████| 100/100 [00:03<00:00, 30.59it/s]\n",
      "Round384: User3_1: 100%|██████████████████████████████████████████| 100/100 [00:03<00:00, 31.70it/s]\n",
      "Round384: User0_1: 100%|██████████████████████████████████████████| 100/100 [00:03<00:00, 30.87it/s]\n",
      "Round384: User4_1: 100%|██████████████████████████████████████████| 100/100 [00:03<00:00, 29.97it/s]\n",
      "Round384: User1_1: 100%|██████████████████████████████████████████| 100/100 [00:03<00:00, 31.45it/s]\n"
     ]
    },
    {
     "name": "stdout",
     "output_type": "stream",
     "text": [
      "client:2 train_acc: 100.00%, train_loss: 0.0086\n",
      "client:3 train_acc: 100.00%, train_loss: 0.0188\n",
      "client:0 train_acc: 100.00%, train_loss: 0.0278\n",
      "client:4 train_acc: 100.00%, train_loss: 0.0387\n",
      "client:1 train_acc: 100.00%, train_loss: 0.0481\n",
      "Test set: Average loss: 10.2392, Accuracy: 2556/10000 (25.56%)\n"
     ]
    },
    {
     "name": "stderr",
     "output_type": "stream",
     "text": [
      "Round385: User2_1: 100%|██████████████████████████████████████████| 100/100 [00:03<00:00, 31.86it/s]\n",
      "Round385: User4_1: 100%|██████████████████████████████████████████| 100/100 [00:03<00:00, 31.09it/s]\n",
      "Round385: User3_1: 100%|██████████████████████████████████████████| 100/100 [00:03<00:00, 30.33it/s]\n",
      "Round385: User0_1: 100%|██████████████████████████████████████████| 100/100 [00:03<00:00, 30.45it/s]\n",
      "Round385: User1_1: 100%|██████████████████████████████████████████| 100/100 [00:03<00:00, 31.86it/s]\n"
     ]
    },
    {
     "name": "stdout",
     "output_type": "stream",
     "text": [
      "client:2 train_acc: 100.00%, train_loss: 0.0085\n",
      "client:4 train_acc: 100.00%, train_loss: 0.0194\n",
      "client:3 train_acc: 100.00%, train_loss: 0.0293\n",
      "client:0 train_acc: 100.00%, train_loss: 0.0383\n",
      "client:1 train_acc: 100.00%, train_loss: 0.0475\n",
      "Test set: Average loss: 10.2532, Accuracy: 2564/10000 (25.64%)\n"
     ]
    },
    {
     "name": "stderr",
     "output_type": "stream",
     "text": [
      "Round386: User0_1: 100%|██████████████████████████████████████████| 100/100 [00:03<00:00, 29.64it/s]\n",
      "Round386: User4_1: 100%|██████████████████████████████████████████| 100/100 [00:03<00:00, 30.95it/s]\n",
      "Round386: User2_1: 100%|██████████████████████████████████████████| 100/100 [00:03<00:00, 29.23it/s]\n",
      "Round386: User1_1: 100%|██████████████████████████████████████████| 100/100 [00:03<00:00, 28.85it/s]\n",
      "Round386: User3_1: 100%|██████████████████████████████████████████| 100/100 [00:03<00:00, 28.70it/s]\n"
     ]
    },
    {
     "name": "stdout",
     "output_type": "stream",
     "text": [
      "client:0 train_acc: 100.00%, train_loss: 0.0088\n",
      "client:4 train_acc: 100.00%, train_loss: 0.0193\n",
      "client:2 train_acc: 100.00%, train_loss: 0.0277\n",
      "client:1 train_acc: 100.00%, train_loss: 0.0367\n",
      "client:3 train_acc: 100.00%, train_loss: 0.0469\n",
      "Test set: Average loss: 10.2849, Accuracy: 2546/10000 (25.46%)\n"
     ]
    },
    {
     "name": "stderr",
     "output_type": "stream",
     "text": [
      "Round387: User2_1: 100%|██████████████████████████████████████████| 100/100 [00:03<00:00, 30.70it/s]\n",
      "Round387: User3_1: 100%|██████████████████████████████████████████| 100/100 [00:03<00:00, 30.97it/s]\n",
      "Round387: User1_1: 100%|██████████████████████████████████████████| 100/100 [00:03<00:00, 30.23it/s]\n",
      "Round387: User0_1: 100%|██████████████████████████████████████████| 100/100 [00:03<00:00, 31.55it/s]\n",
      "Round387: User4_1: 100%|██████████████████████████████████████████| 100/100 [00:03<00:00, 30.12it/s]\n"
     ]
    },
    {
     "name": "stdout",
     "output_type": "stream",
     "text": [
      "client:2 train_acc: 100.00%, train_loss: 0.0083\n",
      "client:3 train_acc: 100.00%, train_loss: 0.0178\n",
      "client:1 train_acc: 100.00%, train_loss: 0.0267\n",
      "client:0 train_acc: 100.00%, train_loss: 0.0355\n",
      "client:4 train_acc: 100.00%, train_loss: 0.0463\n",
      "Test set: Average loss: 10.2667, Accuracy: 2538/10000 (25.38%)\n"
     ]
    },
    {
     "name": "stderr",
     "output_type": "stream",
     "text": [
      "Round388: User4_1: 100%|██████████████████████████████████████████| 100/100 [00:03<00:00, 28.23it/s]\n",
      "Round388: User3_1: 100%|██████████████████████████████████████████| 100/100 [00:03<00:00, 29.20it/s]\n",
      "Round388: User0_1: 100%|██████████████████████████████████████████| 100/100 [00:03<00:00, 31.10it/s]\n",
      "Round388: User2_1: 100%|██████████████████████████████████████████| 100/100 [00:03<00:00, 32.21it/s]\n",
      "Round388: User1_1: 100%|██████████████████████████████████████████| 100/100 [00:03<00:00, 29.55it/s]\n"
     ]
    },
    {
     "name": "stdout",
     "output_type": "stream",
     "text": [
      "client:4 train_acc: 100.00%, train_loss: 0.0102\n",
      "client:3 train_acc: 100.00%, train_loss: 0.0199\n",
      "client:0 train_acc: 100.00%, train_loss: 0.0285\n",
      "client:2 train_acc: 100.00%, train_loss: 0.0365\n",
      "client:1 train_acc: 100.00%, train_loss: 0.0455\n",
      "Test set: Average loss: 10.3134, Accuracy: 2558/10000 (25.58%)\n"
     ]
    },
    {
     "name": "stderr",
     "output_type": "stream",
     "text": [
      "Round389: User1_1: 100%|██████████████████████████████████████████| 100/100 [00:03<00:00, 31.03it/s]\n",
      "Round389: User3_1: 100%|██████████████████████████████████████████| 100/100 [00:03<00:00, 30.13it/s]\n",
      "Round389: User2_1: 100%|██████████████████████████████████████████| 100/100 [00:03<00:00, 31.41it/s]\n",
      "Round389: User4_1: 100%|██████████████████████████████████████████| 100/100 [00:03<00:00, 29.97it/s]\n",
      "Round389: User0_1: 100%|██████████████████████████████████████████| 100/100 [00:03<00:00, 28.06it/s]\n"
     ]
    },
    {
     "name": "stdout",
     "output_type": "stream",
     "text": [
      "client:1 train_acc: 100.00%, train_loss: 0.0087\n",
      "client:3 train_acc: 100.00%, train_loss: 0.0182\n",
      "client:2 train_acc: 100.00%, train_loss: 0.0263\n",
      "client:4 train_acc: 100.00%, train_loss: 0.0364\n",
      "client:0 train_acc: 100.00%, train_loss: 0.0450\n",
      "Test set: Average loss: 10.3042, Accuracy: 2545/10000 (25.45%)\n"
     ]
    },
    {
     "name": "stderr",
     "output_type": "stream",
     "text": [
      "Round390: User3_1: 100%|██████████████████████████████████████████| 100/100 [00:03<00:00, 30.01it/s]\n",
      "Round390: User4_1: 100%|██████████████████████████████████████████| 100/100 [00:03<00:00, 29.19it/s]\n",
      "Round390: User0_1: 100%|██████████████████████████████████████████| 100/100 [00:03<00:00, 29.46it/s]\n",
      "Round390: User1_1: 100%|██████████████████████████████████████████| 100/100 [00:03<00:00, 29.16it/s]\n",
      "Round390: User2_1: 100%|██████████████████████████████████████████| 100/100 [00:03<00:00, 30.02it/s]\n"
     ]
    },
    {
     "name": "stdout",
     "output_type": "stream",
     "text": [
      "client:3 train_acc: 100.00%, train_loss: 0.0094\n",
      "client:4 train_acc: 100.00%, train_loss: 0.0196\n",
      "client:0 train_acc: 100.00%, train_loss: 0.0279\n",
      "client:1 train_acc: 100.00%, train_loss: 0.0364\n",
      "client:2 train_acc: 100.00%, train_loss: 0.0443\n",
      "Test set: Average loss: 10.3334, Accuracy: 2559/10000 (25.59%)\n"
     ]
    },
    {
     "name": "stderr",
     "output_type": "stream",
     "text": [
      "Round391: User1_1: 100%|██████████████████████████████████████████| 100/100 [00:03<00:00, 30.02it/s]\n",
      "Round391: User0_1: 100%|██████████████████████████████████████████| 100/100 [00:03<00:00, 30.81it/s]\n",
      "Round391: User2_1: 100%|██████████████████████████████████████████| 100/100 [00:03<00:00, 30.39it/s]\n",
      "Round391: User4_1: 100%|██████████████████████████████████████████| 100/100 [00:03<00:00, 30.33it/s]\n",
      "Round391: User3_1: 100%|██████████████████████████████████████████| 100/100 [00:03<00:00, 31.04it/s]\n"
     ]
    },
    {
     "name": "stdout",
     "output_type": "stream",
     "text": [
      "client:1 train_acc: 100.00%, train_loss: 0.0085\n",
      "client:0 train_acc: 100.00%, train_loss: 0.0169\n",
      "client:2 train_acc: 100.00%, train_loss: 0.0248\n",
      "client:4 train_acc: 100.00%, train_loss: 0.0347\n",
      "client:3 train_acc: 100.00%, train_loss: 0.0440\n",
      "Test set: Average loss: 10.3603, Accuracy: 2548/10000 (25.48%)\n"
     ]
    },
    {
     "name": "stderr",
     "output_type": "stream",
     "text": [
      "Round392: User2_1: 100%|██████████████████████████████████████████| 100/100 [00:03<00:00, 28.58it/s]\n",
      "Round392: User1_1: 100%|██████████████████████████████████████████| 100/100 [00:03<00:00, 29.59it/s]\n",
      "Round392: User0_1: 100%|██████████████████████████████████████████| 100/100 [00:03<00:00, 29.16it/s]\n",
      "Round392: User4_1: 100%|██████████████████████████████████████████| 100/100 [00:03<00:00, 29.91it/s]\n",
      "Round392: User3_1: 100%|██████████████████████████████████████████| 100/100 [00:03<00:00, 29.65it/s]\n"
     ]
    },
    {
     "name": "stdout",
     "output_type": "stream",
     "text": [
      "client:2 train_acc: 100.00%, train_loss: 0.0077\n",
      "client:1 train_acc: 100.00%, train_loss: 0.0160\n",
      "client:0 train_acc: 100.00%, train_loss: 0.0241\n",
      "client:4 train_acc: 100.00%, train_loss: 0.0340\n",
      "client:3 train_acc: 100.00%, train_loss: 0.0432\n",
      "Test set: Average loss: 10.3737, Accuracy: 2549/10000 (25.49%)\n"
     ]
    },
    {
     "name": "stderr",
     "output_type": "stream",
     "text": [
      "Round393: User3_1: 100%|██████████████████████████████████████████| 100/100 [00:03<00:00, 30.65it/s]\n",
      "Round393: User4_1: 100%|██████████████████████████████████████████| 100/100 [00:03<00:00, 29.49it/s]\n",
      "Round393: User2_1: 100%|██████████████████████████████████████████| 100/100 [00:03<00:00, 31.14it/s]\n",
      "Round393: User1_1: 100%|██████████████████████████████████████████| 100/100 [00:03<00:00, 30.60it/s]\n",
      "Round393: User0_1: 100%|██████████████████████████████████████████| 100/100 [00:03<00:00, 31.15it/s]\n"
     ]
    },
    {
     "name": "stdout",
     "output_type": "stream",
     "text": [
      "client:3 train_acc: 100.00%, train_loss: 0.0091\n",
      "client:4 train_acc: 100.00%, train_loss: 0.0187\n",
      "client:2 train_acc: 100.00%, train_loss: 0.0262\n",
      "client:1 train_acc: 100.00%, train_loss: 0.0347\n",
      "client:0 train_acc: 100.00%, train_loss: 0.0428\n",
      "Test set: Average loss: 10.4140, Accuracy: 2543/10000 (25.43%)\n"
     ]
    },
    {
     "name": "stderr",
     "output_type": "stream",
     "text": [
      "Round394: User4_1: 100%|██████████████████████████████████████████| 100/100 [00:03<00:00, 29.93it/s]\n",
      "Round394: User0_1: 100%|██████████████████████████████████████████| 100/100 [00:03<00:00, 30.68it/s]\n",
      "Round394: User1_1: 100%|██████████████████████████████████████████| 100/100 [00:03<00:00, 30.66it/s]\n",
      "Round394: User2_1: 100%|██████████████████████████████████████████| 100/100 [00:03<00:00, 30.78it/s]\n",
      "Round394: User3_1: 100%|██████████████████████████████████████████| 100/100 [00:03<00:00, 30.87it/s]\n"
     ]
    },
    {
     "name": "stdout",
     "output_type": "stream",
     "text": [
      "client:4 train_acc: 100.00%, train_loss: 0.0096\n",
      "client:0 train_acc: 100.00%, train_loss: 0.0175\n",
      "client:1 train_acc: 100.00%, train_loss: 0.0258\n",
      "client:2 train_acc: 100.00%, train_loss: 0.0333\n",
      "client:3 train_acc: 100.00%, train_loss: 0.0422\n",
      "Test set: Average loss: 10.4159, Accuracy: 2553/10000 (25.53%)\n"
     ]
    },
    {
     "name": "stderr",
     "output_type": "stream",
     "text": [
      "Round395: User4_1: 100%|██████████████████████████████████████████| 100/100 [00:03<00:00, 30.24it/s]\n",
      "Round395: User2_1: 100%|██████████████████████████████████████████| 100/100 [00:03<00:00, 31.18it/s]\n",
      "Round395: User1_1: 100%|██████████████████████████████████████████| 100/100 [00:03<00:00, 30.85it/s]\n",
      "Round395: User0_1: 100%|██████████████████████████████████████████| 100/100 [00:03<00:00, 31.22it/s]\n",
      "Round395: User3_1: 100%|██████████████████████████████████████████| 100/100 [00:03<00:00, 31.62it/s]\n"
     ]
    },
    {
     "name": "stdout",
     "output_type": "stream",
     "text": [
      "client:4 train_acc: 100.00%, train_loss: 0.0094\n",
      "client:2 train_acc: 100.00%, train_loss: 0.0168\n",
      "client:1 train_acc: 100.00%, train_loss: 0.0249\n",
      "client:0 train_acc: 100.00%, train_loss: 0.0327\n",
      "client:3 train_acc: 100.00%, train_loss: 0.0416\n",
      "Test set: Average loss: 10.4285, Accuracy: 2570/10000 (25.70%)\n"
     ]
    },
    {
     "name": "stderr",
     "output_type": "stream",
     "text": [
      "Round396: User0_1: 100%|██████████████████████████████████████████| 100/100 [00:03<00:00, 28.47it/s]\n",
      "Round396: User4_1: 100%|██████████████████████████████████████████| 100/100 [00:03<00:00, 29.33it/s]\n",
      "Round396: User1_1: 100%|██████████████████████████████████████████| 100/100 [00:03<00:00, 29.24it/s]\n",
      "Round396: User2_1: 100%|██████████████████████████████████████████| 100/100 [00:03<00:00, 29.08it/s]\n",
      "Round396: User3_1: 100%|██████████████████████████████████████████| 100/100 [00:03<00:00, 29.20it/s]\n"
     ]
    },
    {
     "name": "stdout",
     "output_type": "stream",
     "text": [
      "client:0 train_acc: 100.00%, train_loss: 0.0076\n",
      "client:4 train_acc: 100.00%, train_loss: 0.0169\n",
      "client:1 train_acc: 100.00%, train_loss: 0.0250\n",
      "client:2 train_acc: 100.00%, train_loss: 0.0323\n",
      "client:3 train_acc: 100.00%, train_loss: 0.0411\n",
      "Test set: Average loss: 10.4443, Accuracy: 2555/10000 (25.55%)\n"
     ]
    },
    {
     "name": "stderr",
     "output_type": "stream",
     "text": [
      "Round397: User1_1: 100%|██████████████████████████████████████████| 100/100 [00:03<00:00, 29.28it/s]\n",
      "Round397: User3_1: 100%|██████████████████████████████████████████| 100/100 [00:03<00:00, 28.42it/s]\n",
      "Round397: User2_1: 100%|██████████████████████████████████████████| 100/100 [00:03<00:00, 27.99it/s]\n",
      "Round397: User0_1: 100%|██████████████████████████████████████████| 100/100 [00:03<00:00, 30.72it/s]\n",
      "Round397: User4_1: 100%|██████████████████████████████████████████| 100/100 [00:03<00:00, 31.06it/s]\n"
     ]
    },
    {
     "name": "stdout",
     "output_type": "stream",
     "text": [
      "client:1 train_acc: 100.00%, train_loss: 0.0078\n",
      "client:3 train_acc: 100.00%, train_loss: 0.0164\n",
      "client:2 train_acc: 100.00%, train_loss: 0.0236\n",
      "client:0 train_acc: 100.00%, train_loss: 0.0312\n",
      "client:4 train_acc: 100.00%, train_loss: 0.0405\n",
      "Test set: Average loss: 10.4596, Accuracy: 2544/10000 (25.44%)\n"
     ]
    },
    {
     "name": "stderr",
     "output_type": "stream",
     "text": [
      "Round398: User3_1: 100%|██████████████████████████████████████████| 100/100 [00:03<00:00, 30.98it/s]\n",
      "Round398: User0_1: 100%|██████████████████████████████████████████| 100/100 [00:03<00:00, 31.09it/s]\n",
      "Round398: User1_1: 100%|██████████████████████████████████████████| 100/100 [00:03<00:00, 28.89it/s]\n",
      "Round398: User4_1: 100%|██████████████████████████████████████████| 100/100 [00:03<00:00, 29.69it/s]\n",
      "Round398: User2_1: 100%|██████████████████████████████████████████| 100/100 [00:03<00:00, 31.71it/s]\n"
     ]
    },
    {
     "name": "stdout",
     "output_type": "stream",
     "text": [
      "client:3 train_acc: 100.00%, train_loss: 0.0085\n",
      "client:0 train_acc: 100.00%, train_loss: 0.0161\n",
      "client:1 train_acc: 100.00%, train_loss: 0.0239\n",
      "client:4 train_acc: 100.00%, train_loss: 0.0328\n",
      "client:2 train_acc: 100.00%, train_loss: 0.0400\n",
      "Test set: Average loss: 10.4688, Accuracy: 2561/10000 (25.61%)\n"
     ]
    },
    {
     "name": "stderr",
     "output_type": "stream",
     "text": [
      "Round399: User3_1: 100%|██████████████████████████████████████████| 100/100 [00:02<00:00, 35.90it/s]\n",
      "Round399: User4_1: 100%|██████████████████████████████████████████| 100/100 [00:03<00:00, 30.56it/s]\n",
      "Round399: User0_1: 100%|██████████████████████████████████████████| 100/100 [00:03<00:00, 29.55it/s]\n",
      "Round399: User1_1: 100%|██████████████████████████████████████████| 100/100 [00:03<00:00, 29.43it/s]\n",
      "Round399: User2_1: 100%|██████████████████████████████████████████| 100/100 [00:03<00:00, 31.01it/s]\n"
     ]
    },
    {
     "name": "stdout",
     "output_type": "stream",
     "text": [
      "client:3 train_acc: 100.00%, train_loss: 0.0083\n",
      "client:4 train_acc: 100.00%, train_loss: 0.0172\n",
      "client:0 train_acc: 100.00%, train_loss: 0.0247\n",
      "client:1 train_acc: 100.00%, train_loss: 0.0325\n",
      "client:2 train_acc: 100.00%, train_loss: 0.0396\n",
      "Test set: Average loss: 10.5089, Accuracy: 2560/10000 (25.60%)\n"
     ]
    },
    {
     "name": "stderr",
     "output_type": "stream",
     "text": [
      "Round400: User0_1: 100%|██████████████████████████████████████████| 100/100 [00:03<00:00, 30.99it/s]\n",
      "Round400: User3_1: 100%|██████████████████████████████████████████| 100/100 [00:03<00:00, 30.55it/s]\n",
      "Round400: User1_1: 100%|██████████████████████████████████████████| 100/100 [00:03<00:00, 31.43it/s]\n",
      "Round400: User4_1: 100%|██████████████████████████████████████████| 100/100 [00:03<00:00, 31.65it/s]\n",
      "Round400: User2_1: 100%|██████████████████████████████████████████| 100/100 [00:03<00:00, 30.38it/s]\n"
     ]
    },
    {
     "name": "stdout",
     "output_type": "stream",
     "text": [
      "client:0 train_acc: 100.00%, train_loss: 0.0074\n",
      "client:3 train_acc: 100.00%, train_loss: 0.0156\n",
      "client:1 train_acc: 100.00%, train_loss: 0.0233\n",
      "client:4 train_acc: 100.00%, train_loss: 0.0321\n",
      "client:2 train_acc: 100.00%, train_loss: 0.0391\n",
      "Test set: Average loss: 10.4801, Accuracy: 2570/10000 (25.70%)\n"
     ]
    },
    {
     "name": "stderr",
     "output_type": "stream",
     "text": [
      "Round401: User4_1: 100%|██████████████████████████████████████████| 100/100 [00:03<00:00, 30.26it/s]\n",
      "Round401: User0_1: 100%|██████████████████████████████████████████| 100/100 [00:03<00:00, 30.01it/s]\n",
      "Round401: User3_1: 100%|██████████████████████████████████████████| 100/100 [00:03<00:00, 32.68it/s]\n",
      "Round401: User2_1: 100%|██████████████████████████████████████████| 100/100 [00:03<00:00, 31.78it/s]\n",
      "Round401: User1_1: 100%|██████████████████████████████████████████| 100/100 [00:03<00:00, 29.79it/s]\n"
     ]
    },
    {
     "name": "stdout",
     "output_type": "stream",
     "text": [
      "client:4 train_acc: 100.00%, train_loss: 0.0088\n",
      "client:0 train_acc: 100.00%, train_loss: 0.0161\n",
      "client:3 train_acc: 100.00%, train_loss: 0.0242\n",
      "client:2 train_acc: 100.00%, train_loss: 0.0311\n",
      "client:1 train_acc: 100.00%, train_loss: 0.0386\n",
      "Test set: Average loss: 10.5030, Accuracy: 2562/10000 (25.62%)\n"
     ]
    },
    {
     "name": "stderr",
     "output_type": "stream",
     "text": [
      "Round402: User0_1: 100%|██████████████████████████████████████████| 100/100 [00:03<00:00, 31.18it/s]\n",
      "Round402: User2_1: 100%|██████████████████████████████████████████| 100/100 [00:03<00:00, 30.27it/s]\n",
      "Round402: User4_1: 100%|██████████████████████████████████████████| 100/100 [00:03<00:00, 31.47it/s]\n",
      "Round402: User1_1: 100%|██████████████████████████████████████████| 100/100 [00:03<00:00, 30.01it/s]\n",
      "Round402: User3_1: 100%|██████████████████████████████████████████| 100/100 [00:03<00:00, 29.96it/s]\n"
     ]
    },
    {
     "name": "stdout",
     "output_type": "stream",
     "text": [
      "client:0 train_acc: 100.00%, train_loss: 0.0073\n",
      "client:2 train_acc: 100.00%, train_loss: 0.0141\n",
      "client:4 train_acc: 100.00%, train_loss: 0.0227\n",
      "client:1 train_acc: 100.00%, train_loss: 0.0300\n",
      "client:3 train_acc: 100.00%, train_loss: 0.0381\n",
      "Test set: Average loss: 10.5378, Accuracy: 2548/10000 (25.48%)\n"
     ]
    },
    {
     "name": "stderr",
     "output_type": "stream",
     "text": [
      "Round403: User4_1: 100%|██████████████████████████████████████████| 100/100 [00:03<00:00, 29.41it/s]\n",
      "Round403: User3_1: 100%|██████████████████████████████████████████| 100/100 [00:03<00:00, 29.28it/s]\n",
      "Round403: User0_1: 100%|██████████████████████████████████████████| 100/100 [00:03<00:00, 31.25it/s]\n",
      "Round403: User1_1: 100%|██████████████████████████████████████████| 100/100 [00:03<00:00, 32.04it/s]\n",
      "Round403: User2_1: 100%|██████████████████████████████████████████| 100/100 [00:03<00:00, 30.40it/s]\n"
     ]
    },
    {
     "name": "stdout",
     "output_type": "stream",
     "text": [
      "client:4 train_acc: 100.00%, train_loss: 0.0085\n",
      "client:3 train_acc: 100.00%, train_loss: 0.0165\n",
      "client:0 train_acc: 100.00%, train_loss: 0.0236\n",
      "client:1 train_acc: 100.00%, train_loss: 0.0309\n",
      "client:2 train_acc: 100.00%, train_loss: 0.0377\n",
      "Test set: Average loss: 10.5426, Accuracy: 2566/10000 (25.66%)\n"
     ]
    },
    {
     "name": "stderr",
     "output_type": "stream",
     "text": [
      "Round404: User4_1: 100%|██████████████████████████████████████████| 100/100 [00:03<00:00, 30.60it/s]\n",
      "Round404: User2_1: 100%|██████████████████████████████████████████| 100/100 [00:03<00:00, 30.56it/s]\n",
      "Round404: User3_1: 100%|██████████████████████████████████████████| 100/100 [00:03<00:00, 31.69it/s]\n",
      "Round404: User1_1: 100%|██████████████████████████████████████████| 100/100 [00:03<00:00, 30.62it/s]\n",
      "Round404: User0_1: 100%|██████████████████████████████████████████| 100/100 [00:03<00:00, 28.62it/s]\n"
     ]
    },
    {
     "name": "stdout",
     "output_type": "stream",
     "text": [
      "client:4 train_acc: 100.00%, train_loss: 0.0085\n",
      "client:2 train_acc: 100.00%, train_loss: 0.0151\n",
      "client:3 train_acc: 100.00%, train_loss: 0.0230\n",
      "client:1 train_acc: 100.00%, train_loss: 0.0302\n",
      "client:0 train_acc: 100.00%, train_loss: 0.0373\n",
      "Test set: Average loss: 10.5569, Accuracy: 2555/10000 (25.55%)\n"
     ]
    },
    {
     "name": "stderr",
     "output_type": "stream",
     "text": [
      "Round405: User2_1: 100%|██████████████████████████████████████████| 100/100 [00:03<00:00, 30.39it/s]\n",
      "Round405: User4_1: 100%|██████████████████████████████████████████| 100/100 [00:03<00:00, 28.12it/s]\n",
      "Round405: User0_1: 100%|██████████████████████████████████████████| 100/100 [00:03<00:00, 28.86it/s]\n",
      "Round405: User1_1: 100%|██████████████████████████████████████████| 100/100 [00:03<00:00, 26.67it/s]\n",
      "Round405: User3_1: 100%|██████████████████████████████████████████| 100/100 [00:03<00:00, 28.91it/s]\n"
     ]
    },
    {
     "name": "stdout",
     "output_type": "stream",
     "text": [
      "client:2 train_acc: 100.00%, train_loss: 0.0066\n",
      "client:4 train_acc: 100.00%, train_loss: 0.0148\n",
      "client:0 train_acc: 100.00%, train_loss: 0.0218\n",
      "client:1 train_acc: 100.00%, train_loss: 0.0289\n",
      "client:3 train_acc: 100.00%, train_loss: 0.0368\n",
      "Test set: Average loss: 10.5801, Accuracy: 2576/10000 (25.76%)\n"
     ]
    },
    {
     "name": "stderr",
     "output_type": "stream",
     "text": [
      "Round406: User0_1: 100%|██████████████████████████████████████████| 100/100 [00:03<00:00, 28.62it/s]\n",
      "Round406: User1_1: 100%|██████████████████████████████████████████| 100/100 [00:03<00:00, 28.10it/s]\n",
      "Round406: User2_1: 100%|██████████████████████████████████████████| 100/100 [00:03<00:00, 28.81it/s]\n",
      "Round406: User3_1: 100%|██████████████████████████████████████████| 100/100 [00:03<00:00, 29.00it/s]\n",
      "Round406: User4_1: 100%|██████████████████████████████████████████| 100/100 [00:03<00:00, 31.51it/s]\n"
     ]
    },
    {
     "name": "stdout",
     "output_type": "stream",
     "text": [
      "client:0 train_acc: 100.00%, train_loss: 0.0068\n",
      "client:1 train_acc: 100.00%, train_loss: 0.0139\n",
      "client:2 train_acc: 100.00%, train_loss: 0.0203\n",
      "client:3 train_acc: 100.00%, train_loss: 0.0280\n",
      "client:4 train_acc: 100.00%, train_loss: 0.0364\n",
      "Test set: Average loss: 10.6050, Accuracy: 2561/10000 (25.61%)\n"
     ]
    },
    {
     "name": "stderr",
     "output_type": "stream",
     "text": [
      "Round407: User4_1: 100%|██████████████████████████████████████████| 100/100 [00:03<00:00, 29.10it/s]\n",
      "Round407: User0_1: 100%|██████████████████████████████████████████| 100/100 [00:03<00:00, 28.88it/s]\n",
      "Round407: User3_1: 100%|██████████████████████████████████████████| 100/100 [00:03<00:00, 28.92it/s]\n",
      "Round407: User2_1: 100%|██████████████████████████████████████████| 100/100 [00:03<00:00, 30.95it/s]\n",
      "Round407: User1_1: 100%|██████████████████████████████████████████| 100/100 [00:03<00:00, 29.56it/s]\n"
     ]
    },
    {
     "name": "stdout",
     "output_type": "stream",
     "text": [
      "client:4 train_acc: 100.00%, train_loss: 0.0082\n",
      "client:0 train_acc: 100.00%, train_loss: 0.0148\n",
      "client:3 train_acc: 100.00%, train_loss: 0.0226\n",
      "client:2 train_acc: 100.00%, train_loss: 0.0291\n",
      "client:1 train_acc: 100.00%, train_loss: 0.0361\n",
      "Test set: Average loss: 10.5979, Accuracy: 2553/10000 (25.53%)\n"
     ]
    },
    {
     "name": "stderr",
     "output_type": "stream",
     "text": [
      "Round408: User2_1: 100%|██████████████████████████████████████████| 100/100 [00:03<00:00, 29.60it/s]\n",
      "Round408: User0_1: 100%|██████████████████████████████████████████| 100/100 [00:03<00:00, 29.82it/s]\n",
      "Round408: User3_1: 100%|██████████████████████████████████████████| 100/100 [00:03<00:00, 27.94it/s]\n",
      "Round408: User4_1: 100%|██████████████████████████████████████████| 100/100 [00:03<00:00, 29.48it/s]\n",
      "Round408: User1_1: 100%|██████████████████████████████████████████| 100/100 [00:03<00:00, 28.30it/s]\n"
     ]
    },
    {
     "name": "stdout",
     "output_type": "stream",
     "text": [
      "client:2 train_acc: 100.00%, train_loss: 0.0063\n",
      "client:0 train_acc: 100.00%, train_loss: 0.0132\n",
      "client:3 train_acc: 100.00%, train_loss: 0.0208\n",
      "client:4 train_acc: 100.00%, train_loss: 0.0287\n",
      "client:1 train_acc: 100.00%, train_loss: 0.0357\n",
      "Test set: Average loss: 10.6354, Accuracy: 2580/10000 (25.80%)\n"
     ]
    },
    {
     "name": "stderr",
     "output_type": "stream",
     "text": [
      "Round409: User2_1: 100%|██████████████████████████████████████████| 100/100 [00:03<00:00, 31.39it/s]\n",
      "Round409: User1_1: 100%|██████████████████████████████████████████| 100/100 [00:03<00:00, 30.74it/s]\n",
      "Round409: User0_1: 100%|██████████████████████████████████████████| 100/100 [00:03<00:00, 29.63it/s]\n",
      "Round409: User3_1: 100%|██████████████████████████████████████████| 100/100 [00:03<00:00, 30.95it/s]\n",
      "Round409: User4_1: 100%|██████████████████████████████████████████| 100/100 [00:03<00:00, 31.53it/s]\n"
     ]
    },
    {
     "name": "stdout",
     "output_type": "stream",
     "text": [
      "client:2 train_acc: 100.00%, train_loss: 0.0063\n",
      "client:1 train_acc: 100.00%, train_loss: 0.0130\n",
      "client:0 train_acc: 100.00%, train_loss: 0.0196\n",
      "client:3 train_acc: 100.00%, train_loss: 0.0271\n",
      "client:4 train_acc: 100.00%, train_loss: 0.0351\n",
      "Test set: Average loss: 10.6140, Accuracy: 2554/10000 (25.54%)\n"
     ]
    },
    {
     "name": "stderr",
     "output_type": "stream",
     "text": [
      "Round410: User4_1: 100%|██████████████████████████████████████████| 100/100 [00:03<00:00, 30.90it/s]\n",
      "Round410: User1_1: 100%|██████████████████████████████████████████| 100/100 [00:03<00:00, 31.09it/s]\n",
      "Round410: User2_1: 100%|██████████████████████████████████████████| 100/100 [00:03<00:00, 28.15it/s]\n",
      "Round410: User0_1: 100%|██████████████████████████████████████████| 100/100 [00:03<00:00, 30.31it/s]\n",
      "Round410: User3_1: 100%|██████████████████████████████████████████| 100/100 [00:03<00:00, 30.96it/s]\n"
     ]
    },
    {
     "name": "stdout",
     "output_type": "stream",
     "text": [
      "client:4 train_acc: 100.00%, train_loss: 0.0079\n",
      "client:1 train_acc: 100.00%, train_loss: 0.0146\n",
      "client:2 train_acc: 100.00%, train_loss: 0.0209\n",
      "client:0 train_acc: 100.00%, train_loss: 0.0276\n",
      "client:3 train_acc: 100.00%, train_loss: 0.0350\n",
      "Test set: Average loss: 10.6618, Accuracy: 2563/10000 (25.63%)\n"
     ]
    },
    {
     "name": "stderr",
     "output_type": "stream",
     "text": [
      "Round411: User2_1: 100%|██████████████████████████████████████████| 100/100 [00:03<00:00, 30.91it/s]\n",
      "Round411: User0_1: 100%|██████████████████████████████████████████| 100/100 [00:03<00:00, 29.12it/s]\n",
      "Round411: User4_1: 100%|██████████████████████████████████████████| 100/100 [00:03<00:00, 30.85it/s]\n",
      "Round411: User3_1: 100%|██████████████████████████████████████████| 100/100 [00:03<00:00, 30.66it/s]\n",
      "Round411: User1_1: 100%|██████████████████████████████████████████| 100/100 [00:03<00:00, 30.81it/s]\n"
     ]
    },
    {
     "name": "stdout",
     "output_type": "stream",
     "text": [
      "client:2 train_acc: 100.00%, train_loss: 0.0061\n",
      "client:0 train_acc: 100.00%, train_loss: 0.0126\n",
      "client:4 train_acc: 100.00%, train_loss: 0.0203\n",
      "client:3 train_acc: 100.00%, train_loss: 0.0276\n",
      "client:1 train_acc: 100.00%, train_loss: 0.0344\n",
      "Test set: Average loss: 10.6732, Accuracy: 2565/10000 (25.65%)\n"
     ]
    },
    {
     "name": "stderr",
     "output_type": "stream",
     "text": [
      "Round412: User3_1: 100%|██████████████████████████████████████████| 100/100 [00:03<00:00, 30.48it/s]\n",
      "Round412: User1_1: 100%|██████████████████████████████████████████| 100/100 [00:03<00:00, 31.50it/s]\n",
      "Round412: User0_1: 100%|██████████████████████████████████████████| 100/100 [00:03<00:00, 32.36it/s]\n",
      "Round412: User2_1: 100%|██████████████████████████████████████████| 100/100 [00:03<00:00, 30.94it/s]\n",
      "Round412: User4_1: 100%|██████████████████████████████████████████| 100/100 [00:03<00:00, 30.30it/s]\n"
     ]
    },
    {
     "name": "stdout",
     "output_type": "stream",
     "text": [
      "client:3 train_acc: 100.00%, train_loss: 0.0072\n",
      "client:1 train_acc: 100.00%, train_loss: 0.0136\n",
      "client:0 train_acc: 100.00%, train_loss: 0.0201\n",
      "client:2 train_acc: 100.00%, train_loss: 0.0262\n",
      "client:4 train_acc: 100.00%, train_loss: 0.0340\n",
      "Test set: Average loss: 10.6684, Accuracy: 2547/10000 (25.47%)\n"
     ]
    },
    {
     "name": "stderr",
     "output_type": "stream",
     "text": [
      "Round413: User2_1: 100%|██████████████████████████████████████████| 100/100 [00:03<00:00, 31.05it/s]\n",
      "Round413: User1_1: 100%|██████████████████████████████████████████| 100/100 [00:03<00:00, 30.58it/s]\n",
      "Round413: User0_1: 100%|██████████████████████████████████████████| 100/100 [00:03<00:00, 31.36it/s]\n",
      "Round413: User3_1: 100%|██████████████████████████████████████████| 100/100 [00:03<00:00, 30.36it/s]\n",
      "Round413: User4_1: 100%|██████████████████████████████████████████| 100/100 [00:03<00:00, 29.25it/s]\n"
     ]
    },
    {
     "name": "stdout",
     "output_type": "stream",
     "text": [
      "client:2 train_acc: 100.00%, train_loss: 0.0061\n",
      "client:1 train_acc: 100.00%, train_loss: 0.0126\n",
      "client:0 train_acc: 100.00%, train_loss: 0.0189\n",
      "client:3 train_acc: 100.00%, train_loss: 0.0260\n",
      "client:4 train_acc: 100.00%, train_loss: 0.0336\n",
      "Test set: Average loss: 10.7010, Accuracy: 2561/10000 (25.61%)\n"
     ]
    },
    {
     "name": "stderr",
     "output_type": "stream",
     "text": [
      "Round414: User4_1: 100%|██████████████████████████████████████████| 100/100 [00:03<00:00, 32.17it/s]\n",
      "Round414: User0_1: 100%|██████████████████████████████████████████| 100/100 [00:03<00:00, 29.78it/s]\n",
      "Round414: User3_1: 100%|██████████████████████████████████████████| 100/100 [00:03<00:00, 31.55it/s]\n",
      "Round414: User2_1: 100%|██████████████████████████████████████████| 100/100 [00:03<00:00, 30.50it/s]\n",
      "Round414: User1_1: 100%|██████████████████████████████████████████| 100/100 [00:03<00:00, 30.27it/s]\n"
     ]
    },
    {
     "name": "stdout",
     "output_type": "stream",
     "text": [
      "client:4 train_acc: 100.00%, train_loss: 0.0074\n",
      "client:0 train_acc: 100.00%, train_loss: 0.0137\n",
      "client:3 train_acc: 100.00%, train_loss: 0.0208\n",
      "client:2 train_acc: 100.00%, train_loss: 0.0268\n",
      "client:1 train_acc: 100.00%, train_loss: 0.0334\n",
      "Test set: Average loss: 10.7080, Accuracy: 2570/10000 (25.70%)\n"
     ]
    },
    {
     "name": "stderr",
     "output_type": "stream",
     "text": [
      "Round415: User1_1: 100%|██████████████████████████████████████████| 100/100 [00:03<00:00, 31.40it/s]\n",
      "Round415: User4_1: 100%|██████████████████████████████████████████| 100/100 [00:03<00:00, 29.91it/s]\n",
      "Round415: User0_1: 100%|██████████████████████████████████████████| 100/100 [00:03<00:00, 30.93it/s]\n",
      "Round415: User2_1: 100%|██████████████████████████████████████████| 100/100 [00:03<00:00, 31.75it/s]\n",
      "Round415: User3_1: 100%|██████████████████████████████████████████| 100/100 [00:03<00:00, 29.75it/s]\n"
     ]
    },
    {
     "name": "stdout",
     "output_type": "stream",
     "text": [
      "client:1 train_acc: 100.00%, train_loss: 0.0063\n",
      "client:4 train_acc: 100.00%, train_loss: 0.0139\n",
      "client:0 train_acc: 100.00%, train_loss: 0.0200\n",
      "client:2 train_acc: 100.00%, train_loss: 0.0259\n",
      "client:3 train_acc: 100.00%, train_loss: 0.0330\n",
      "Test set: Average loss: 10.7434, Accuracy: 2572/10000 (25.72%)\n"
     ]
    },
    {
     "name": "stderr",
     "output_type": "stream",
     "text": [
      "Round416: User1_1: 100%|██████████████████████████████████████████| 100/100 [00:03<00:00, 28.99it/s]\n",
      "Round416: User0_1: 100%|██████████████████████████████████████████| 100/100 [00:03<00:00, 30.18it/s]\n",
      "Round416: User3_1: 100%|██████████████████████████████████████████| 100/100 [00:03<00:00, 30.29it/s]\n",
      "Round416: User4_1: 100%|██████████████████████████████████████████| 100/100 [00:03<00:00, 28.85it/s]\n",
      "Round416: User2_1: 100%|██████████████████████████████████████████| 100/100 [00:03<00:00, 30.84it/s]\n"
     ]
    },
    {
     "name": "stdout",
     "output_type": "stream",
     "text": [
      "client:1 train_acc: 100.00%, train_loss: 0.0063\n",
      "client:0 train_acc: 100.00%, train_loss: 0.0126\n",
      "client:3 train_acc: 100.00%, train_loss: 0.0194\n",
      "client:4 train_acc: 100.00%, train_loss: 0.0269\n",
      "client:2 train_acc: 100.00%, train_loss: 0.0327\n",
      "Test set: Average loss: 10.7418, Accuracy: 2565/10000 (25.65%)\n"
     ]
    },
    {
     "name": "stderr",
     "output_type": "stream",
     "text": [
      "Round417: User2_1: 100%|██████████████████████████████████████████| 100/100 [00:03<00:00, 30.53it/s]\n",
      "Round417: User1_1: 100%|██████████████████████████████████████████| 100/100 [00:03<00:00, 30.80it/s]\n",
      "Round417: User0_1: 100%|██████████████████████████████████████████| 100/100 [00:03<00:00, 30.14it/s]\n",
      "Round417: User3_1: 100%|██████████████████████████████████████████| 100/100 [00:03<00:00, 30.27it/s]\n",
      "Round417: User4_1: 100%|██████████████████████████████████████████| 100/100 [00:03<00:00, 31.32it/s]\n"
     ]
    },
    {
     "name": "stdout",
     "output_type": "stream",
     "text": [
      "client:2 train_acc: 100.00%, train_loss: 0.0058\n",
      "client:1 train_acc: 100.00%, train_loss: 0.0119\n",
      "client:0 train_acc: 100.00%, train_loss: 0.0180\n",
      "client:3 train_acc: 100.00%, train_loss: 0.0249\n",
      "client:4 train_acc: 100.00%, train_loss: 0.0323\n",
      "Test set: Average loss: 10.7619, Accuracy: 2583/10000 (25.83%)\n"
     ]
    },
    {
     "name": "stderr",
     "output_type": "stream",
     "text": [
      "Round418: User0_1: 100%|██████████████████████████████████████████| 100/100 [00:03<00:00, 27.71it/s]\n",
      "Round418: User2_1: 100%|██████████████████████████████████████████| 100/100 [00:03<00:00, 30.85it/s]\n",
      "Round418: User1_1: 100%|██████████████████████████████████████████| 100/100 [00:03<00:00, 30.88it/s]\n",
      "Round418: User3_1: 100%|██████████████████████████████████████████| 100/100 [00:03<00:00, 31.17it/s]\n",
      "Round418: User4_1: 100%|██████████████████████████████████████████| 100/100 [00:03<00:00, 30.65it/s]\n"
     ]
    },
    {
     "name": "stdout",
     "output_type": "stream",
     "text": [
      "client:0 train_acc: 100.00%, train_loss: 0.0062\n",
      "client:2 train_acc: 100.00%, train_loss: 0.0119\n",
      "client:1 train_acc: 100.00%, train_loss: 0.0180\n",
      "client:3 train_acc: 100.00%, train_loss: 0.0248\n",
      "client:4 train_acc: 100.00%, train_loss: 0.0319\n",
      "Test set: Average loss: 10.7668, Accuracy: 2565/10000 (25.65%)\n"
     ]
    },
    {
     "name": "stderr",
     "output_type": "stream",
     "text": [
      "Round419: User1_1: 100%|██████████████████████████████████████████| 100/100 [00:03<00:00, 29.56it/s]\n",
      "Round419: User3_1: 100%|██████████████████████████████████████████| 100/100 [00:03<00:00, 30.98it/s]\n",
      "Round419: User4_1: 100%|██████████████████████████████████████████| 100/100 [00:03<00:00, 31.04it/s]\n",
      "Round419: User0_1: 100%|██████████████████████████████████████████| 100/100 [00:03<00:00, 30.76it/s]\n",
      "Round419: User2_1: 100%|██████████████████████████████████████████| 100/100 [00:03<00:00, 31.00it/s]\n"
     ]
    },
    {
     "name": "stdout",
     "output_type": "stream",
     "text": [
      "client:1 train_acc: 100.00%, train_loss: 0.0061\n",
      "client:3 train_acc: 100.00%, train_loss: 0.0127\n",
      "client:4 train_acc: 100.00%, train_loss: 0.0198\n",
      "client:0 train_acc: 100.00%, train_loss: 0.0259\n",
      "client:2 train_acc: 100.00%, train_loss: 0.0316\n",
      "Test set: Average loss: 10.7742, Accuracy: 2557/10000 (25.57%)\n"
     ]
    },
    {
     "name": "stderr",
     "output_type": "stream",
     "text": [
      "Round420: User3_1: 100%|██████████████████████████████████████████| 100/100 [00:03<00:00, 29.34it/s]\n",
      "Round420: User2_1: 100%|██████████████████████████████████████████| 100/100 [00:03<00:00, 30.68it/s]\n",
      "Round420: User4_1: 100%|██████████████████████████████████████████| 100/100 [00:03<00:00, 31.11it/s]\n",
      "Round420: User1_1: 100%|██████████████████████████████████████████| 100/100 [00:03<00:00, 30.88it/s]\n",
      "Round420: User0_1: 100%|██████████████████████████████████████████| 100/100 [00:03<00:00, 31.61it/s]\n"
     ]
    },
    {
     "name": "stdout",
     "output_type": "stream",
     "text": [
      "client:3 train_acc: 100.00%, train_loss: 0.0066\n",
      "client:2 train_acc: 100.00%, train_loss: 0.0122\n",
      "client:4 train_acc: 100.00%, train_loss: 0.0192\n",
      "client:1 train_acc: 100.00%, train_loss: 0.0253\n",
      "client:0 train_acc: 100.00%, train_loss: 0.0312\n",
      "Test set: Average loss: 10.8026, Accuracy: 2567/10000 (25.67%)\n"
     ]
    },
    {
     "name": "stderr",
     "output_type": "stream",
     "text": [
      "Round421: User0_1: 100%|██████████████████████████████████████████| 100/100 [00:03<00:00, 30.32it/s]\n",
      "Round421: User4_1: 100%|██████████████████████████████████████████| 100/100 [00:03<00:00, 30.41it/s]\n",
      "Round421: User2_1: 100%|██████████████████████████████████████████| 100/100 [00:03<00:00, 30.58it/s]\n",
      "Round421: User3_1: 100%|██████████████████████████████████████████| 100/100 [00:03<00:00, 31.09it/s]\n",
      "Round421: User1_1: 100%|██████████████████████████████████████████| 100/100 [00:03<00:00, 30.62it/s]\n"
     ]
    },
    {
     "name": "stdout",
     "output_type": "stream",
     "text": [
      "client:0 train_acc: 100.00%, train_loss: 0.0058\n",
      "client:4 train_acc: 100.00%, train_loss: 0.0127\n",
      "client:2 train_acc: 100.00%, train_loss: 0.0182\n",
      "client:3 train_acc: 100.00%, train_loss: 0.0248\n",
      "client:1 train_acc: 100.00%, train_loss: 0.0309\n",
      "Test set: Average loss: 10.7945, Accuracy: 2576/10000 (25.76%)\n"
     ]
    },
    {
     "name": "stderr",
     "output_type": "stream",
     "text": [
      "Round422: User3_1: 100%|██████████████████████████████████████████| 100/100 [00:03<00:00, 29.12it/s]\n",
      "Round422: User0_1: 100%|██████████████████████████████████████████| 100/100 [00:03<00:00, 30.37it/s]\n",
      "Round422: User2_1: 100%|██████████████████████████████████████████| 100/100 [00:03<00:00, 29.71it/s]\n",
      "Round422: User1_1: 100%|██████████████████████████████████████████| 100/100 [00:03<00:00, 30.85it/s]\n",
      "Round422: User4_1: 100%|██████████████████████████████████████████| 100/100 [00:03<00:00, 30.34it/s]\n"
     ]
    },
    {
     "name": "stdout",
     "output_type": "stream",
     "text": [
      "client:3 train_acc: 100.00%, train_loss: 0.0064\n",
      "client:0 train_acc: 100.00%, train_loss: 0.0123\n",
      "client:2 train_acc: 100.00%, train_loss: 0.0177\n",
      "client:1 train_acc: 100.00%, train_loss: 0.0236\n",
      "client:4 train_acc: 100.00%, train_loss: 0.0306\n",
      "Test set: Average loss: 10.8159, Accuracy: 2562/10000 (25.62%)\n"
     ]
    },
    {
     "name": "stderr",
     "output_type": "stream",
     "text": [
      "Round423: User3_1: 100%|██████████████████████████████████████████| 100/100 [00:03<00:00, 31.34it/s]\n",
      "Round423: User1_1: 100%|██████████████████████████████████████████| 100/100 [00:03<00:00, 31.09it/s]\n",
      "Round423: User0_1: 100%|██████████████████████████████████████████| 100/100 [00:03<00:00, 29.61it/s]\n",
      "Round423: User2_1: 100%|██████████████████████████████████████████| 100/100 [00:03<00:00, 31.28it/s]\n",
      "Round423: User4_1: 100%|██████████████████████████████████████████| 100/100 [00:03<00:00, 31.28it/s]\n"
     ]
    },
    {
     "name": "stdout",
     "output_type": "stream",
     "text": [
      "client:3 train_acc: 100.00%, train_loss: 0.0063\n",
      "client:1 train_acc: 100.00%, train_loss: 0.0121\n",
      "client:0 train_acc: 100.00%, train_loss: 0.0180\n",
      "client:2 train_acc: 100.00%, train_loss: 0.0234\n",
      "client:4 train_acc: 100.00%, train_loss: 0.0303\n",
      "Test set: Average loss: 10.8378, Accuracy: 2566/10000 (25.66%)\n"
     ]
    },
    {
     "name": "stderr",
     "output_type": "stream",
     "text": [
      "Round424: User1_1: 100%|██████████████████████████████████████████| 100/100 [00:03<00:00, 30.37it/s]\n",
      "Round424: User2_1: 100%|██████████████████████████████████████████| 100/100 [00:03<00:00, 31.88it/s]\n",
      "Round424: User0_1: 100%|██████████████████████████████████████████| 100/100 [00:03<00:00, 30.76it/s]\n",
      "Round424: User3_1: 100%|██████████████████████████████████████████| 100/100 [00:03<00:00, 31.33it/s]\n",
      "Round424: User4_1: 100%|██████████████████████████████████████████| 100/100 [00:03<00:00, 31.20it/s]\n"
     ]
    },
    {
     "name": "stdout",
     "output_type": "stream",
     "text": [
      "client:1 train_acc: 100.00%, train_loss: 0.0058\n",
      "client:2 train_acc: 100.00%, train_loss: 0.0112\n",
      "client:0 train_acc: 100.00%, train_loss: 0.0169\n",
      "client:3 train_acc: 100.00%, train_loss: 0.0232\n",
      "client:4 train_acc: 100.00%, train_loss: 0.0300\n",
      "Test set: Average loss: 10.8770, Accuracy: 2532/10000 (25.32%)\n"
     ]
    },
    {
     "name": "stderr",
     "output_type": "stream",
     "text": [
      "Round425: User2_1: 100%|██████████████████████████████████████████| 100/100 [00:03<00:00, 30.65it/s]\n",
      "Round425: User0_1: 100%|██████████████████████████████████████████| 100/100 [00:03<00:00, 31.44it/s]\n",
      "Round425: User3_1: 100%|██████████████████████████████████████████| 100/100 [00:03<00:00, 30.44it/s]\n",
      "Round425: User4_1: 100%|██████████████████████████████████████████| 100/100 [00:03<00:00, 30.52it/s]\n",
      "Round425: User1_1: 100%|██████████████████████████████████████████| 100/100 [00:03<00:00, 31.51it/s]\n"
     ]
    },
    {
     "name": "stdout",
     "output_type": "stream",
     "text": [
      "client:2 train_acc: 100.00%, train_loss: 0.0053\n",
      "client:0 train_acc: 100.00%, train_loss: 0.0110\n",
      "client:3 train_acc: 100.00%, train_loss: 0.0173\n",
      "client:4 train_acc: 100.00%, train_loss: 0.0239\n",
      "client:1 train_acc: 100.00%, train_loss: 0.0297\n",
      "Test set: Average loss: 10.8663, Accuracy: 2548/10000 (25.48%)\n"
     ]
    },
    {
     "name": "stderr",
     "output_type": "stream",
     "text": [
      "Round426: User2_1: 100%|██████████████████████████████████████████| 100/100 [00:03<00:00, 31.19it/s]\n",
      "Round426: User4_1: 100%|██████████████████████████████████████████| 100/100 [00:03<00:00, 30.99it/s]\n",
      "Round426: User3_1: 100%|██████████████████████████████████████████| 100/100 [00:03<00:00, 30.37it/s]\n",
      "Round426: User1_1: 100%|██████████████████████████████████████████| 100/100 [00:03<00:00, 31.19it/s]\n",
      "Round426: User0_1: 100%|██████████████████████████████████████████| 100/100 [00:03<00:00, 31.15it/s]\n"
     ]
    },
    {
     "name": "stdout",
     "output_type": "stream",
     "text": [
      "client:2 train_acc: 100.00%, train_loss: 0.0053\n",
      "client:4 train_acc: 100.00%, train_loss: 0.0118\n",
      "client:3 train_acc: 100.00%, train_loss: 0.0180\n",
      "client:1 train_acc: 100.00%, train_loss: 0.0237\n",
      "client:0 train_acc: 100.00%, train_loss: 0.0293\n",
      "Test set: Average loss: 10.8715, Accuracy: 2562/10000 (25.62%)\n"
     ]
    },
    {
     "name": "stderr",
     "output_type": "stream",
     "text": [
      "Round427: User1_1: 100%|██████████████████████████████████████████| 100/100 [00:03<00:00, 30.10it/s]\n",
      "Round427: User4_1: 100%|██████████████████████████████████████████| 100/100 [00:03<00:00, 30.90it/s]\n",
      "Round427: User2_1: 100%|██████████████████████████████████████████| 100/100 [00:03<00:00, 30.33it/s]\n",
      "Round427: User3_1: 100%|██████████████████████████████████████████| 100/100 [00:03<00:00, 31.12it/s]\n",
      "Round427: User0_1: 100%|██████████████████████████████████████████| 100/100 [00:03<00:00, 30.96it/s]\n"
     ]
    },
    {
     "name": "stdout",
     "output_type": "stream",
     "text": [
      "client:1 train_acc: 100.00%, train_loss: 0.0058\n",
      "client:4 train_acc: 100.00%, train_loss: 0.0123\n",
      "client:2 train_acc: 100.00%, train_loss: 0.0175\n",
      "client:3 train_acc: 100.00%, train_loss: 0.0236\n",
      "client:0 train_acc: 100.00%, train_loss: 0.0292\n",
      "Test set: Average loss: 10.9196, Accuracy: 2541/10000 (25.41%)\n"
     ]
    },
    {
     "name": "stderr",
     "output_type": "stream",
     "text": [
      "Round428: User4_1: 100%|██████████████████████████████████████████| 100/100 [00:03<00:00, 31.97it/s]\n",
      "Round428: User1_1: 100%|██████████████████████████████████████████| 100/100 [00:03<00:00, 31.81it/s]\n",
      "Round428: User2_1: 100%|██████████████████████████████████████████| 100/100 [00:03<00:00, 30.40it/s]\n",
      "Round428: User3_1: 100%|██████████████████████████████████████████| 100/100 [00:03<00:00, 32.02it/s]\n",
      "Round428: User0_1: 100%|██████████████████████████████████████████| 100/100 [00:03<00:00, 32.57it/s]\n"
     ]
    },
    {
     "name": "stdout",
     "output_type": "stream",
     "text": [
      "client:4 train_acc: 100.00%, train_loss: 0.0065\n",
      "client:1 train_acc: 100.00%, train_loss: 0.0120\n",
      "client:2 train_acc: 100.00%, train_loss: 0.0173\n",
      "client:3 train_acc: 100.00%, train_loss: 0.0234\n",
      "client:0 train_acc: 100.00%, train_loss: 0.0289\n",
      "Test set: Average loss: 10.9050, Accuracy: 2565/10000 (25.65%)\n"
     ]
    },
    {
     "name": "stderr",
     "output_type": "stream",
     "text": [
      "Round429: User1_1: 100%|██████████████████████████████████████████| 100/100 [00:03<00:00, 30.65it/s]\n",
      "Round429: User0_1: 100%|██████████████████████████████████████████| 100/100 [00:03<00:00, 31.47it/s]\n",
      "Round429: User3_1: 100%|██████████████████████████████████████████| 100/100 [00:03<00:00, 29.64it/s]\n",
      "Round429: User2_1: 100%|██████████████████████████████████████████| 100/100 [00:03<00:00, 30.69it/s]\n",
      "Round429: User4_1: 100%|██████████████████████████████████████████| 100/100 [00:03<00:00, 32.17it/s]\n"
     ]
    },
    {
     "name": "stdout",
     "output_type": "stream",
     "text": [
      "client:1 train_acc: 100.00%, train_loss: 0.0055\n",
      "client:0 train_acc: 100.00%, train_loss: 0.0109\n",
      "client:3 train_acc: 100.00%, train_loss: 0.0170\n",
      "client:2 train_acc: 100.00%, train_loss: 0.0221\n",
      "client:4 train_acc: 100.00%, train_loss: 0.0285\n",
      "Test set: Average loss: 10.9200, Accuracy: 2570/10000 (25.70%)\n"
     ]
    },
    {
     "name": "stderr",
     "output_type": "stream",
     "text": [
      "Round430: User3_1: 100%|██████████████████████████████████████████| 100/100 [00:03<00:00, 31.45it/s]\n",
      "Round430: User0_1: 100%|██████████████████████████████████████████| 100/100 [00:03<00:00, 30.31it/s]\n",
      "Round430: User2_1: 100%|██████████████████████████████████████████| 100/100 [00:03<00:00, 31.02it/s]\n",
      "Round430: User1_1: 100%|██████████████████████████████████████████| 100/100 [00:03<00:00, 31.78it/s]\n",
      "Round430: User4_1: 100%|██████████████████████████████████████████| 100/100 [00:03<00:00, 30.23it/s]\n"
     ]
    },
    {
     "name": "stdout",
     "output_type": "stream",
     "text": [
      "client:3 train_acc: 100.00%, train_loss: 0.0060\n",
      "client:0 train_acc: 100.00%, train_loss: 0.0115\n",
      "client:2 train_acc: 100.00%, train_loss: 0.0165\n",
      "client:1 train_acc: 100.00%, train_loss: 0.0220\n",
      "client:4 train_acc: 100.00%, train_loss: 0.0283\n",
      "Test set: Average loss: 10.9348, Accuracy: 2560/10000 (25.60%)\n"
     ]
    },
    {
     "name": "stderr",
     "output_type": "stream",
     "text": [
      "Round431: User4_1: 100%|██████████████████████████████████████████| 100/100 [00:03<00:00, 33.08it/s]\n",
      "Round431: User3_1: 100%|██████████████████████████████████████████| 100/100 [00:03<00:00, 30.22it/s]\n",
      "Round431: User1_1: 100%|██████████████████████████████████████████| 100/100 [00:03<00:00, 30.96it/s]\n",
      "Round431: User0_1: 100%|██████████████████████████████████████████| 100/100 [00:03<00:00, 30.20it/s]\n",
      "Round431: User2_1: 100%|██████████████████████████████████████████| 100/100 [00:03<00:00, 30.69it/s]\n"
     ]
    },
    {
     "name": "stdout",
     "output_type": "stream",
     "text": [
      "client:4 train_acc: 100.00%, train_loss: 0.0062\n",
      "client:3 train_acc: 100.00%, train_loss: 0.0122\n",
      "client:1 train_acc: 100.00%, train_loss: 0.0177\n",
      "client:0 train_acc: 100.00%, train_loss: 0.0229\n",
      "client:2 train_acc: 100.00%, train_loss: 0.0279\n",
      "Test set: Average loss: 10.9706, Accuracy: 2547/10000 (25.47%)\n"
     ]
    },
    {
     "name": "stderr",
     "output_type": "stream",
     "text": [
      "Round432: User1_1: 100%|██████████████████████████████████████████| 100/100 [00:03<00:00, 30.12it/s]\n",
      "Round432: User2_1: 100%|██████████████████████████████████████████| 100/100 [00:03<00:00, 29.79it/s]\n",
      "Round432: User3_1: 100%|██████████████████████████████████████████| 100/100 [00:03<00:00, 30.52it/s]\n",
      "Round432: User0_1: 100%|██████████████████████████████████████████| 100/100 [00:03<00:00, 30.43it/s]\n",
      "Round432: User4_1: 100%|██████████████████████████████████████████| 100/100 [00:03<00:00, 29.41it/s]\n"
     ]
    },
    {
     "name": "stdout",
     "output_type": "stream",
     "text": [
      "client:1 train_acc: 100.00%, train_loss: 0.0054\n",
      "client:2 train_acc: 100.00%, train_loss: 0.0104\n",
      "client:3 train_acc: 100.00%, train_loss: 0.0163\n",
      "client:0 train_acc: 100.00%, train_loss: 0.0215\n",
      "client:4 train_acc: 100.00%, train_loss: 0.0277\n",
      "Test set: Average loss: 10.9614, Accuracy: 2560/10000 (25.60%)\n"
     ]
    },
    {
     "name": "stderr",
     "output_type": "stream",
     "text": [
      "Round433: User0_1: 100%|██████████████████████████████████████████| 100/100 [00:03<00:00, 29.67it/s]\n",
      "Round433: User1_1: 100%|██████████████████████████████████████████| 100/100 [00:03<00:00, 28.48it/s]\n",
      "Round433: User2_1: 100%|██████████████████████████████████████████| 100/100 [00:03<00:00, 31.41it/s]\n",
      "Round433: User4_1: 100%|██████████████████████████████████████████| 100/100 [00:03<00:00, 32.07it/s]\n",
      "Round433: User3_1: 100%|██████████████████████████████████████████| 100/100 [00:03<00:00, 29.97it/s]\n"
     ]
    },
    {
     "name": "stdout",
     "output_type": "stream",
     "text": [
      "client:0 train_acc: 100.00%, train_loss: 0.0052\n",
      "client:1 train_acc: 100.00%, train_loss: 0.0106\n",
      "client:2 train_acc: 100.00%, train_loss: 0.0155\n",
      "client:4 train_acc: 100.00%, train_loss: 0.0216\n",
      "client:3 train_acc: 100.00%, train_loss: 0.0275\n",
      "Test set: Average loss: 10.9843, Accuracy: 2558/10000 (25.58%)\n"
     ]
    },
    {
     "name": "stderr",
     "output_type": "stream",
     "text": [
      "Round434: User4_1: 100%|██████████████████████████████████████████| 100/100 [00:03<00:00, 30.79it/s]\n",
      "Round434: User2_1: 100%|██████████████████████████████████████████| 100/100 [00:03<00:00, 28.96it/s]\n",
      "Round434: User1_1: 100%|██████████████████████████████████████████| 100/100 [00:03<00:00, 31.06it/s]\n",
      "Round434: User3_1: 100%|██████████████████████████████████████████| 100/100 [00:03<00:00, 31.96it/s]\n",
      "Round434: User0_1: 100%|██████████████████████████████████████████| 100/100 [00:03<00:00, 29.94it/s]\n"
     ]
    },
    {
     "name": "stdout",
     "output_type": "stream",
     "text": [
      "client:4 train_acc: 100.00%, train_loss: 0.0061\n",
      "client:2 train_acc: 100.00%, train_loss: 0.0110\n",
      "client:1 train_acc: 100.00%, train_loss: 0.0162\n",
      "client:3 train_acc: 100.00%, train_loss: 0.0220\n",
      "client:0 train_acc: 100.00%, train_loss: 0.0272\n",
      "Test set: Average loss: 11.0054, Accuracy: 2566/10000 (25.66%)\n"
     ]
    },
    {
     "name": "stderr",
     "output_type": "stream",
     "text": [
      "Round435: User3_1: 100%|██████████████████████████████████████████| 100/100 [00:03<00:00, 29.81it/s]\n",
      "Round435: User2_1: 100%|██████████████████████████████████████████| 100/100 [00:03<00:00, 32.31it/s]\n",
      "Round435: User1_1: 100%|██████████████████████████████████████████| 100/100 [00:03<00:00, 30.09it/s]\n",
      "Round435: User0_1: 100%|██████████████████████████████████████████| 100/100 [00:03<00:00, 28.63it/s]\n",
      "Round435: User4_1: 100%|██████████████████████████████████████████| 100/100 [00:03<00:00, 29.30it/s]\n"
     ]
    },
    {
     "name": "stdout",
     "output_type": "stream",
     "text": [
      "client:3 train_acc: 100.00%, train_loss: 0.0056\n",
      "client:2 train_acc: 100.00%, train_loss: 0.0105\n",
      "client:1 train_acc: 100.00%, train_loss: 0.0157\n",
      "client:0 train_acc: 100.00%, train_loss: 0.0209\n",
      "client:4 train_acc: 100.00%, train_loss: 0.0269\n",
      "Test set: Average loss: 10.9919, Accuracy: 2563/10000 (25.63%)\n"
     ]
    },
    {
     "name": "stderr",
     "output_type": "stream",
     "text": [
      "Round436: User3_1: 100%|██████████████████████████████████████████| 100/100 [00:03<00:00, 28.95it/s]\n",
      "Round436: User0_1: 100%|██████████████████████████████████████████| 100/100 [00:03<00:00, 29.65it/s]\n",
      "Round436: User1_1: 100%|██████████████████████████████████████████| 100/100 [00:02<00:00, 36.34it/s]\n",
      "Round436: User2_1: 100%|██████████████████████████████████████████| 100/100 [00:03<00:00, 30.61it/s]\n",
      "Round436: User4_1: 100%|██████████████████████████████████████████| 100/100 [00:03<00:00, 30.14it/s]\n"
     ]
    },
    {
     "name": "stdout",
     "output_type": "stream",
     "text": [
      "client:3 train_acc: 100.00%, train_loss: 0.0056\n",
      "client:0 train_acc: 100.00%, train_loss: 0.0107\n",
      "client:1 train_acc: 100.00%, train_loss: 0.0158\n",
      "client:2 train_acc: 100.00%, train_loss: 0.0206\n",
      "client:4 train_acc: 100.00%, train_loss: 0.0267\n",
      "Test set: Average loss: 11.0130, Accuracy: 2587/10000 (25.87%)\n"
     ]
    },
    {
     "name": "stderr",
     "output_type": "stream",
     "text": [
      "Round437: User2_1: 100%|██████████████████████████████████████████| 100/100 [00:03<00:00, 29.19it/s]\n",
      "Round437: User3_1: 100%|██████████████████████████████████████████| 100/100 [00:03<00:00, 31.57it/s]\n",
      "Round437: User1_1: 100%|██████████████████████████████████████████| 100/100 [00:03<00:00, 31.79it/s]\n",
      "Round437: User0_1: 100%|██████████████████████████████████████████| 100/100 [00:03<00:00, 29.99it/s]\n",
      "Round437: User4_1: 100%|██████████████████████████████████████████| 100/100 [00:03<00:00, 30.97it/s]\n"
     ]
    },
    {
     "name": "stdout",
     "output_type": "stream",
     "text": [
      "client:2 train_acc: 100.00%, train_loss: 0.0047\n",
      "client:3 train_acc: 100.00%, train_loss: 0.0103\n",
      "client:1 train_acc: 100.00%, train_loss: 0.0154\n",
      "client:0 train_acc: 100.00%, train_loss: 0.0205\n",
      "client:4 train_acc: 100.00%, train_loss: 0.0264\n",
      "Test set: Average loss: 11.0216, Accuracy: 2576/10000 (25.76%)\n"
     ]
    },
    {
     "name": "stderr",
     "output_type": "stream",
     "text": [
      "Round438: User0_1: 100%|██████████████████████████████████████████| 100/100 [00:03<00:00, 29.08it/s]\n",
      "Round438: User3_1: 100%|██████████████████████████████████████████| 100/100 [00:03<00:00, 30.90it/s]\n",
      "Round438: User2_1: 100%|██████████████████████████████████████████| 100/100 [00:03<00:00, 30.40it/s]\n",
      "Round438: User4_1: 100%|██████████████████████████████████████████| 100/100 [00:03<00:00, 30.00it/s]\n",
      "Round438: User1_1: 100%|██████████████████████████████████████████| 100/100 [00:03<00:00, 30.99it/s]\n"
     ]
    },
    {
     "name": "stdout",
     "output_type": "stream",
     "text": [
      "client:0 train_acc: 100.00%, train_loss: 0.0050\n",
      "client:3 train_acc: 100.00%, train_loss: 0.0106\n",
      "client:2 train_acc: 100.00%, train_loss: 0.0153\n",
      "client:4 train_acc: 100.00%, train_loss: 0.0211\n",
      "client:1 train_acc: 100.00%, train_loss: 0.0262\n",
      "Test set: Average loss: 11.0299, Accuracy: 2576/10000 (25.76%)\n"
     ]
    },
    {
     "name": "stderr",
     "output_type": "stream",
     "text": [
      "Round439: User4_1: 100%|██████████████████████████████████████████| 100/100 [00:03<00:00, 31.49it/s]\n",
      "Round439: User0_1: 100%|██████████████████████████████████████████| 100/100 [00:03<00:00, 31.66it/s]\n",
      "Round439: User3_1: 100%|██████████████████████████████████████████| 100/100 [00:03<00:00, 29.51it/s]\n",
      "Round439: User1_1: 100%|██████████████████████████████████████████| 100/100 [00:03<00:00, 31.34it/s]\n",
      "Round439: User2_1: 100%|██████████████████████████████████████████| 100/100 [00:03<00:00, 31.39it/s]\n"
     ]
    },
    {
     "name": "stdout",
     "output_type": "stream",
     "text": [
      "client:4 train_acc: 100.00%, train_loss: 0.0058\n",
      "client:0 train_acc: 100.00%, train_loss: 0.0107\n",
      "client:3 train_acc: 100.00%, train_loss: 0.0163\n",
      "client:1 train_acc: 100.00%, train_loss: 0.0213\n",
      "client:2 train_acc: 100.00%, train_loss: 0.0260\n",
      "Test set: Average loss: 11.0506, Accuracy: 2563/10000 (25.63%)\n"
     ]
    },
    {
     "name": "stderr",
     "output_type": "stream",
     "text": [
      "Round440: User3_1: 100%|██████████████████████████████████████████| 100/100 [00:03<00:00, 31.03it/s]\n",
      "Round440: User0_1: 100%|██████████████████████████████████████████| 100/100 [00:03<00:00, 32.31it/s]\n",
      "Round440: User4_1: 100%|██████████████████████████████████████████| 100/100 [00:03<00:00, 31.36it/s]\n",
      "Round440: User1_1: 100%|██████████████████████████████████████████| 100/100 [00:03<00:00, 30.96it/s]\n",
      "Round440: User2_1: 100%|██████████████████████████████████████████| 100/100 [00:03<00:00, 30.47it/s]\n"
     ]
    },
    {
     "name": "stdout",
     "output_type": "stream",
     "text": [
      "client:3 train_acc: 100.00%, train_loss: 0.0055\n",
      "client:0 train_acc: 100.00%, train_loss: 0.0104\n",
      "client:4 train_acc: 100.00%, train_loss: 0.0162\n",
      "client:1 train_acc: 100.00%, train_loss: 0.0211\n",
      "client:2 train_acc: 100.00%, train_loss: 0.0257\n",
      "Test set: Average loss: 11.0317, Accuracy: 2541/10000 (25.41%)\n"
     ]
    },
    {
     "name": "stderr",
     "output_type": "stream",
     "text": [
      "Round441: User1_1: 100%|██████████████████████████████████████████| 100/100 [00:03<00:00, 30.98it/s]\n",
      "Round441: User2_1: 100%|██████████████████████████████████████████| 100/100 [00:03<00:00, 31.01it/s]\n",
      "Round441: User3_1: 100%|██████████████████████████████████████████| 100/100 [00:03<00:00, 30.30it/s]\n",
      "Round441: User0_1: 100%|██████████████████████████████████████████| 100/100 [00:03<00:00, 30.71it/s]\n",
      "Round441: User4_1: 100%|██████████████████████████████████████████| 100/100 [00:03<00:00, 31.91it/s]\n"
     ]
    },
    {
     "name": "stdout",
     "output_type": "stream",
     "text": [
      "client:1 train_acc: 100.00%, train_loss: 0.0049\n",
      "client:2 train_acc: 100.00%, train_loss: 0.0095\n",
      "client:3 train_acc: 100.00%, train_loss: 0.0149\n",
      "client:0 train_acc: 100.00%, train_loss: 0.0197\n",
      "client:4 train_acc: 100.00%, train_loss: 0.0255\n",
      "Test set: Average loss: 11.0719, Accuracy: 2572/10000 (25.72%)\n"
     ]
    },
    {
     "name": "stderr",
     "output_type": "stream",
     "text": [
      "Round442: User0_1: 100%|██████████████████████████████████████████| 100/100 [00:03<00:00, 29.07it/s]\n",
      "Round442: User2_1: 100%|██████████████████████████████████████████| 100/100 [00:03<00:00, 28.85it/s]\n",
      "Round442: User1_1: 100%|██████████████████████████████████████████| 100/100 [00:03<00:00, 27.89it/s]\n",
      "Round442: User4_1: 100%|██████████████████████████████████████████| 100/100 [00:03<00:00, 27.97it/s]\n",
      "Round442: User3_1: 100%|██████████████████████████████████████████| 100/100 [00:03<00:00, 30.28it/s]\n"
     ]
    },
    {
     "name": "stdout",
     "output_type": "stream",
     "text": [
      "client:0 train_acc: 100.00%, train_loss: 0.0048\n",
      "client:2 train_acc: 100.00%, train_loss: 0.0093\n",
      "client:1 train_acc: 100.00%, train_loss: 0.0142\n",
      "client:4 train_acc: 100.00%, train_loss: 0.0198\n",
      "client:3 train_acc: 100.00%, train_loss: 0.0252\n",
      "Test set: Average loss: 11.0655, Accuracy: 2571/10000 (25.71%)\n"
     ]
    },
    {
     "name": "stderr",
     "output_type": "stream",
     "text": [
      "Round443: User0_1: 100%|██████████████████████████████████████████| 100/100 [00:03<00:00, 29.16it/s]\n",
      "Round443: User3_1: 100%|██████████████████████████████████████████| 100/100 [00:03<00:00, 29.38it/s]\n",
      "Round443: User2_1: 100%|██████████████████████████████████████████| 100/100 [00:03<00:00, 30.33it/s]\n",
      "Round443: User1_1: 100%|██████████████████████████████████████████| 100/100 [00:03<00:00, 30.63it/s]\n",
      "Round443: User4_1: 100%|██████████████████████████████████████████| 100/100 [00:03<00:00, 31.25it/s]\n"
     ]
    },
    {
     "name": "stdout",
     "output_type": "stream",
     "text": [
      "client:0 train_acc: 100.00%, train_loss: 0.0049\n",
      "client:3 train_acc: 100.00%, train_loss: 0.0101\n",
      "client:2 train_acc: 100.00%, train_loss: 0.0146\n",
      "client:1 train_acc: 100.00%, train_loss: 0.0195\n",
      "client:4 train_acc: 100.00%, train_loss: 0.0251\n",
      "Test set: Average loss: 11.0634, Accuracy: 2579/10000 (25.79%)\n"
     ]
    },
    {
     "name": "stderr",
     "output_type": "stream",
     "text": [
      "Round444: User3_1: 100%|██████████████████████████████████████████| 100/100 [00:03<00:00, 30.61it/s]\n",
      "Round444: User0_1: 100%|██████████████████████████████████████████| 100/100 [00:03<00:00, 29.03it/s]\n",
      "Round444: User2_1: 100%|██████████████████████████████████████████| 100/100 [00:03<00:00, 30.51it/s]\n",
      "Round444: User4_1: 100%|██████████████████████████████████████████| 100/100 [00:03<00:00, 31.07it/s]\n",
      "Round444: User1_1: 100%|██████████████████████████████████████████| 100/100 [00:03<00:00, 30.65it/s]\n"
     ]
    },
    {
     "name": "stdout",
     "output_type": "stream",
     "text": [
      "client:3 train_acc: 100.00%, train_loss: 0.0053\n",
      "client:0 train_acc: 100.00%, train_loss: 0.0100\n",
      "client:2 train_acc: 100.00%, train_loss: 0.0144\n",
      "client:4 train_acc: 100.00%, train_loss: 0.0199\n",
      "client:1 train_acc: 100.00%, train_loss: 0.0249\n",
      "Test set: Average loss: 11.1156, Accuracy: 2556/10000 (25.56%)\n"
     ]
    },
    {
     "name": "stderr",
     "output_type": "stream",
     "text": [
      "Round445: User4_1: 100%|██████████████████████████████████████████| 100/100 [00:03<00:00, 29.23it/s]\n",
      "Round445: User0_1: 100%|██████████████████████████████████████████| 100/100 [00:03<00:00, 28.62it/s]\n",
      "Round445: User3_1: 100%|██████████████████████████████████████████| 100/100 [00:03<00:00, 27.99it/s]\n",
      "Round445: User2_1: 100%|██████████████████████████████████████████| 100/100 [00:03<00:00, 28.98it/s]\n",
      "Round445: User1_1: 100%|██████████████████████████████████████████| 100/100 [00:03<00:00, 28.67it/s]\n"
     ]
    },
    {
     "name": "stdout",
     "output_type": "stream",
     "text": [
      "client:4 train_acc: 100.00%, train_loss: 0.0055\n",
      "client:0 train_acc: 100.00%, train_loss: 0.0101\n",
      "client:3 train_acc: 100.00%, train_loss: 0.0153\n",
      "client:2 train_acc: 100.00%, train_loss: 0.0197\n",
      "client:1 train_acc: 100.00%, train_loss: 0.0246\n",
      "Test set: Average loss: 11.1177, Accuracy: 2573/10000 (25.73%)\n"
     ]
    },
    {
     "name": "stderr",
     "output_type": "stream",
     "text": [
      "Round446: User2_1: 100%|██████████████████████████████████████████| 100/100 [00:03<00:00, 26.82it/s]\n",
      "Round446: User3_1: 100%|██████████████████████████████████████████| 100/100 [00:03<00:00, 28.44it/s]\n",
      "Round446: User1_1: 100%|██████████████████████████████████████████| 100/100 [00:03<00:00, 29.58it/s]\n",
      "Round446: User4_1: 100%|██████████████████████████████████████████| 100/100 [00:03<00:00, 29.89it/s]\n",
      "Round446: User0_1: 100%|██████████████████████████████████████████| 100/100 [00:03<00:00, 31.39it/s]\n"
     ]
    },
    {
     "name": "stdout",
     "output_type": "stream",
     "text": [
      "client:2 train_acc: 100.00%, train_loss: 0.0044\n",
      "client:3 train_acc: 100.00%, train_loss: 0.0095\n",
      "client:1 train_acc: 100.00%, train_loss: 0.0143\n",
      "client:4 train_acc: 100.00%, train_loss: 0.0197\n",
      "client:0 train_acc: 100.00%, train_loss: 0.0244\n",
      "Test set: Average loss: 11.1020, Accuracy: 2567/10000 (25.67%)\n"
     ]
    },
    {
     "name": "stderr",
     "output_type": "stream",
     "text": [
      "Round447: User4_1: 100%|██████████████████████████████████████████| 100/100 [00:03<00:00, 26.32it/s]\n",
      "Round447: User3_1: 100%|██████████████████████████████████████████| 100/100 [00:03<00:00, 28.42it/s]\n",
      "Round447: User2_1: 100%|██████████████████████████████████████████| 100/100 [00:03<00:00, 28.91it/s]\n",
      "Round447: User1_1: 100%|██████████████████████████████████████████| 100/100 [00:03<00:00, 28.67it/s]\n",
      "Round447: User0_1: 100%|██████████████████████████████████████████| 100/100 [00:03<00:00, 28.62it/s]\n"
     ]
    },
    {
     "name": "stdout",
     "output_type": "stream",
     "text": [
      "client:4 train_acc: 100.00%, train_loss: 0.0056\n",
      "client:3 train_acc: 100.00%, train_loss: 0.0107\n",
      "client:2 train_acc: 100.00%, train_loss: 0.0151\n",
      "client:1 train_acc: 100.00%, train_loss: 0.0197\n",
      "client:0 train_acc: 100.00%, train_loss: 0.0243\n",
      "Test set: Average loss: 11.1131, Accuracy: 2567/10000 (25.67%)\n"
     ]
    },
    {
     "name": "stderr",
     "output_type": "stream",
     "text": [
      "Round448: User1_1: 100%|██████████████████████████████████████████| 100/100 [00:03<00:00, 29.71it/s]\n",
      "Round448: User3_1: 100%|██████████████████████████████████████████| 100/100 [00:03<00:00, 28.98it/s]\n",
      "Round448: User4_1: 100%|██████████████████████████████████████████| 100/100 [00:03<00:00, 28.41it/s]\n",
      "Round448: User0_1: 100%|██████████████████████████████████████████| 100/100 [00:03<00:00, 31.26it/s]\n",
      "Round448: User2_1: 100%|██████████████████████████████████████████| 100/100 [00:03<00:00, 30.93it/s]\n"
     ]
    },
    {
     "name": "stdout",
     "output_type": "stream",
     "text": [
      "client:1 train_acc: 100.00%, train_loss: 0.0047\n",
      "client:3 train_acc: 100.00%, train_loss: 0.0097\n",
      "client:4 train_acc: 100.00%, train_loss: 0.0150\n",
      "client:0 train_acc: 100.00%, train_loss: 0.0196\n",
      "client:2 train_acc: 100.00%, train_loss: 0.0240\n",
      "Test set: Average loss: 11.1371, Accuracy: 2583/10000 (25.83%)\n"
     ]
    },
    {
     "name": "stderr",
     "output_type": "stream",
     "text": [
      "Round449: User1_1: 100%|██████████████████████████████████████████| 100/100 [00:03<00:00, 29.68it/s]\n",
      "Round449: User2_1: 100%|██████████████████████████████████████████| 100/100 [00:03<00:00, 29.08it/s]\n",
      "Round449: User3_1: 100%|██████████████████████████████████████████| 100/100 [00:03<00:00, 29.93it/s]\n",
      "Round449: User4_1: 100%|██████████████████████████████████████████| 100/100 [00:03<00:00, 29.56it/s]\n",
      "Round449: User0_1: 100%|██████████████████████████████████████████| 100/100 [00:03<00:00, 28.27it/s]\n"
     ]
    },
    {
     "name": "stdout",
     "output_type": "stream",
     "text": [
      "client:1 train_acc: 100.00%, train_loss: 0.0046\n",
      "client:2 train_acc: 100.00%, train_loss: 0.0089\n",
      "client:3 train_acc: 100.00%, train_loss: 0.0139\n",
      "client:4 train_acc: 100.00%, train_loss: 0.0192\n",
      "client:0 train_acc: 100.00%, train_loss: 0.0238\n",
      "Test set: Average loss: 11.1307, Accuracy: 2592/10000 (25.92%)\n"
     ]
    },
    {
     "name": "stderr",
     "output_type": "stream",
     "text": [
      "Round450: User1_1: 100%|██████████████████████████████████████████| 100/100 [00:03<00:00, 30.00it/s]\n",
      "Round450: User4_1: 100%|██████████████████████████████████████████| 100/100 [00:03<00:00, 29.51it/s]\n",
      "Round450: User3_1: 100%|██████████████████████████████████████████| 100/100 [00:03<00:00, 30.71it/s]\n",
      "Round450: User2_1: 100%|██████████████████████████████████████████| 100/100 [00:03<00:00, 29.39it/s]\n",
      "Round450: User0_1: 100%|██████████████████████████████████████████| 100/100 [00:03<00:00, 29.12it/s]\n"
     ]
    },
    {
     "name": "stdout",
     "output_type": "stream",
     "text": [
      "client:1 train_acc: 100.00%, train_loss: 0.0046\n",
      "client:4 train_acc: 100.00%, train_loss: 0.0099\n",
      "client:3 train_acc: 100.00%, train_loss: 0.0148\n",
      "client:2 train_acc: 100.00%, train_loss: 0.0191\n",
      "client:0 train_acc: 100.00%, train_loss: 0.0236\n",
      "Test set: Average loss: 11.1452, Accuracy: 2583/10000 (25.83%)\n"
     ]
    },
    {
     "name": "stderr",
     "output_type": "stream",
     "text": [
      "Round451: User0_1: 100%|██████████████████████████████████████████| 100/100 [00:03<00:00, 29.43it/s]\n",
      "Round451: User4_1: 100%|██████████████████████████████████████████| 100/100 [00:03<00:00, 31.52it/s]\n",
      "Round451: User2_1: 100%|██████████████████████████████████████████| 100/100 [00:03<00:00, 30.45it/s]\n",
      "Round451: User1_1: 100%|██████████████████████████████████████████| 100/100 [00:03<00:00, 29.57it/s]\n",
      "Round451: User3_1: 100%|██████████████████████████████████████████| 100/100 [00:03<00:00, 30.80it/s]\n"
     ]
    },
    {
     "name": "stdout",
     "output_type": "stream",
     "text": [
      "client:0 train_acc: 100.00%, train_loss: 0.0044\n",
      "client:4 train_acc: 100.00%, train_loss: 0.0096\n",
      "client:2 train_acc: 100.00%, train_loss: 0.0138\n",
      "client:1 train_acc: 100.00%, train_loss: 0.0184\n",
      "client:3 train_acc: 100.00%, train_loss: 0.0233\n",
      "Test set: Average loss: 11.1831, Accuracy: 2580/10000 (25.80%)\n"
     ]
    },
    {
     "name": "stderr",
     "output_type": "stream",
     "text": [
      "Round452: User0_1: 100%|██████████████████████████████████████████| 100/100 [00:03<00:00, 29.38it/s]\n",
      "Round452: User4_1: 100%|██████████████████████████████████████████| 100/100 [00:03<00:00, 28.56it/s]\n",
      "Round452: User2_1: 100%|██████████████████████████████████████████| 100/100 [00:03<00:00, 30.81it/s]\n",
      "Round452: User1_1: 100%|██████████████████████████████████████████| 100/100 [00:03<00:00, 30.10it/s]\n",
      "Round452: User3_1: 100%|██████████████████████████████████████████| 100/100 [00:03<00:00, 31.95it/s]\n"
     ]
    },
    {
     "name": "stdout",
     "output_type": "stream",
     "text": [
      "client:0 train_acc: 100.00%, train_loss: 0.0045\n",
      "client:4 train_acc: 100.00%, train_loss: 0.0096\n",
      "client:2 train_acc: 100.00%, train_loss: 0.0137\n",
      "client:1 train_acc: 100.00%, train_loss: 0.0183\n",
      "client:3 train_acc: 100.00%, train_loss: 0.0232\n",
      "Test set: Average loss: 11.1461, Accuracy: 2569/10000 (25.69%)\n"
     ]
    },
    {
     "name": "stderr",
     "output_type": "stream",
     "text": [
      "Round453: User2_1: 100%|██████████████████████████████████████████| 100/100 [00:03<00:00, 28.06it/s]\n",
      "Round453: User1_1: 100%|██████████████████████████████████████████| 100/100 [00:03<00:00, 29.57it/s]\n",
      "Round453: User0_1: 100%|██████████████████████████████████████████| 100/100 [00:03<00:00, 29.54it/s]\n",
      "Round453: User3_1: 100%|██████████████████████████████████████████| 100/100 [00:03<00:00, 28.83it/s]\n",
      "Round453: User4_1: 100%|██████████████████████████████████████████| 100/100 [00:03<00:00, 28.68it/s]\n"
     ]
    },
    {
     "name": "stdout",
     "output_type": "stream",
     "text": [
      "client:2 train_acc: 100.00%, train_loss: 0.0041\n",
      "client:1 train_acc: 100.00%, train_loss: 0.0086\n",
      "client:0 train_acc: 100.00%, train_loss: 0.0130\n",
      "client:3 train_acc: 100.00%, train_loss: 0.0178\n",
      "client:4 train_acc: 100.00%, train_loss: 0.0229\n",
      "Test set: Average loss: 11.1877, Accuracy: 2590/10000 (25.90%)\n"
     ]
    },
    {
     "name": "stderr",
     "output_type": "stream",
     "text": [
      "Round454: User0_1: 100%|██████████████████████████████████████████| 100/100 [00:03<00:00, 28.71it/s]\n",
      "Round454: User3_1: 100%|██████████████████████████████████████████| 100/100 [00:03<00:00, 29.01it/s]\n",
      "Round454: User2_1: 100%|██████████████████████████████████████████| 100/100 [00:03<00:00, 27.22it/s]\n",
      "Round454: User1_1: 100%|██████████████████████████████████████████| 100/100 [00:03<00:00, 28.70it/s]\n",
      "Round454: User4_1: 100%|██████████████████████████████████████████| 100/100 [00:03<00:00, 28.91it/s]\n"
     ]
    },
    {
     "name": "stdout",
     "output_type": "stream",
     "text": [
      "client:0 train_acc: 100.00%, train_loss: 0.0044\n",
      "client:3 train_acc: 100.00%, train_loss: 0.0092\n",
      "client:2 train_acc: 100.00%, train_loss: 0.0133\n",
      "client:1 train_acc: 100.00%, train_loss: 0.0177\n",
      "client:4 train_acc: 100.00%, train_loss: 0.0228\n",
      "Test set: Average loss: 11.1847, Accuracy: 2584/10000 (25.84%)\n"
     ]
    },
    {
     "name": "stderr",
     "output_type": "stream",
     "text": [
      "Round455: User4_1: 100%|██████████████████████████████████████████| 100/100 [00:03<00:00, 30.62it/s]\n",
      "Round455: User2_1: 100%|██████████████████████████████████████████| 100/100 [00:03<00:00, 29.14it/s]\n",
      "Round455: User3_1: 100%|██████████████████████████████████████████| 100/100 [00:03<00:00, 30.52it/s]\n",
      "Round455: User1_1: 100%|██████████████████████████████████████████| 100/100 [00:03<00:00, 30.49it/s]\n",
      "Round455: User0_1: 100%|██████████████████████████████████████████| 100/100 [00:03<00:00, 28.00it/s]\n"
     ]
    },
    {
     "name": "stdout",
     "output_type": "stream",
     "text": [
      "client:4 train_acc: 100.00%, train_loss: 0.0050\n",
      "client:2 train_acc: 100.00%, train_loss: 0.0091\n",
      "client:3 train_acc: 100.00%, train_loss: 0.0138\n",
      "client:1 train_acc: 100.00%, train_loss: 0.0182\n",
      "client:0 train_acc: 100.00%, train_loss: 0.0226\n",
      "Test set: Average loss: 11.2083, Accuracy: 2575/10000 (25.75%)\n"
     ]
    },
    {
     "name": "stderr",
     "output_type": "stream",
     "text": [
      "Round456: User1_1: 100%|██████████████████████████████████████████| 100/100 [00:03<00:00, 28.62it/s]\n",
      "Round456: User2_1: 100%|██████████████████████████████████████████| 100/100 [00:03<00:00, 28.47it/s]\n",
      "Round456: User0_1: 100%|██████████████████████████████████████████| 100/100 [00:03<00:00, 29.67it/s]\n",
      "Round456: User3_1: 100%|██████████████████████████████████████████| 100/100 [00:03<00:00, 29.18it/s]\n",
      "Round456: User4_1: 100%|██████████████████████████████████████████| 100/100 [00:03<00:00, 29.11it/s]\n"
     ]
    },
    {
     "name": "stdout",
     "output_type": "stream",
     "text": [
      "client:1 train_acc: 100.00%, train_loss: 0.0044\n",
      "client:2 train_acc: 100.00%, train_loss: 0.0084\n",
      "client:0 train_acc: 100.00%, train_loss: 0.0127\n",
      "client:3 train_acc: 100.00%, train_loss: 0.0175\n",
      "client:4 train_acc: 100.00%, train_loss: 0.0224\n",
      "Test set: Average loss: 11.2298, Accuracy: 2588/10000 (25.88%)\n"
     ]
    },
    {
     "name": "stderr",
     "output_type": "stream",
     "text": [
      "Round457: User3_1: 100%|██████████████████████████████████████████| 100/100 [00:03<00:00, 28.48it/s]\n",
      "Round457: User2_1: 100%|██████████████████████████████████████████| 100/100 [00:03<00:00, 30.25it/s]\n",
      "Round457: User4_1: 100%|██████████████████████████████████████████| 100/100 [00:03<00:00, 30.13it/s]\n",
      "Round457: User1_1: 100%|██████████████████████████████████████████| 100/100 [00:03<00:00, 30.54it/s]\n",
      "Round457: User0_1: 100%|██████████████████████████████████████████| 100/100 [00:03<00:00, 30.17it/s]\n"
     ]
    },
    {
     "name": "stdout",
     "output_type": "stream",
     "text": [
      "client:3 train_acc: 100.00%, train_loss: 0.0047\n",
      "client:2 train_acc: 100.00%, train_loss: 0.0087\n",
      "client:4 train_acc: 100.00%, train_loss: 0.0136\n",
      "client:1 train_acc: 100.00%, train_loss: 0.0180\n",
      "client:0 train_acc: 100.00%, train_loss: 0.0222\n",
      "Test set: Average loss: 11.2307, Accuracy: 2564/10000 (25.64%)\n"
     ]
    },
    {
     "name": "stderr",
     "output_type": "stream",
     "text": [
      "Round458: User3_1: 100%|██████████████████████████████████████████| 100/100 [00:03<00:00, 28.72it/s]\n",
      "Round458: User1_1: 100%|██████████████████████████████████████████| 100/100 [00:03<00:00, 28.59it/s]\n",
      "Round458: User0_1: 100%|██████████████████████████████████████████| 100/100 [00:03<00:00, 30.58it/s]\n",
      "Round458: User4_1: 100%|██████████████████████████████████████████| 100/100 [00:03<00:00, 29.06it/s]\n",
      "Round458: User2_1: 100%|██████████████████████████████████████████| 100/100 [00:03<00:00, 31.04it/s]\n"
     ]
    },
    {
     "name": "stdout",
     "output_type": "stream",
     "text": [
      "client:3 train_acc: 100.00%, train_loss: 0.0047\n",
      "client:1 train_acc: 100.00%, train_loss: 0.0090\n",
      "client:0 train_acc: 100.00%, train_loss: 0.0132\n",
      "client:4 train_acc: 100.00%, train_loss: 0.0181\n",
      "client:2 train_acc: 100.00%, train_loss: 0.0221\n",
      "Test set: Average loss: 11.2534, Accuracy: 2581/10000 (25.81%)\n"
     ]
    },
    {
     "name": "stderr",
     "output_type": "stream",
     "text": [
      "Round459: User4_1: 100%|██████████████████████████████████████████| 100/100 [00:03<00:00, 30.52it/s]\n",
      "Round459: User3_1: 100%|██████████████████████████████████████████| 100/100 [00:03<00:00, 31.50it/s]\n",
      "Round459: User2_1: 100%|██████████████████████████████████████████| 100/100 [00:03<00:00, 31.49it/s]\n",
      "Round459: User1_1: 100%|██████████████████████████████████████████| 100/100 [00:03<00:00, 29.92it/s]\n",
      "Round459: User0_1: 100%|██████████████████████████████████████████| 100/100 [00:03<00:00, 31.12it/s]\n"
     ]
    },
    {
     "name": "stdout",
     "output_type": "stream",
     "text": [
      "client:4 train_acc: 100.00%, train_loss: 0.0049\n",
      "client:3 train_acc: 100.00%, train_loss: 0.0095\n",
      "client:2 train_acc: 100.00%, train_loss: 0.0135\n",
      "client:1 train_acc: 100.00%, train_loss: 0.0178\n",
      "client:0 train_acc: 100.00%, train_loss: 0.0219\n",
      "Test set: Average loss: 11.2440, Accuracy: 2589/10000 (25.89%)\n"
     ]
    },
    {
     "name": "stderr",
     "output_type": "stream",
     "text": [
      "Round460: User2_1: 100%|██████████████████████████████████████████| 100/100 [00:03<00:00, 30.02it/s]\n",
      "Round460: User3_1: 100%|██████████████████████████████████████████| 100/100 [00:03<00:00, 31.08it/s]\n",
      "Round460: User1_1: 100%|██████████████████████████████████████████| 100/100 [00:03<00:00, 30.37it/s]\n",
      "Round460: User0_1: 100%|██████████████████████████████████████████| 100/100 [00:03<00:00, 28.30it/s]\n",
      "Round460: User4_1: 100%|██████████████████████████████████████████| 100/100 [00:03<00:00, 32.09it/s]\n"
     ]
    },
    {
     "name": "stdout",
     "output_type": "stream",
     "text": [
      "client:2 train_acc: 100.00%, train_loss: 0.0039\n",
      "client:3 train_acc: 100.00%, train_loss: 0.0086\n",
      "client:1 train_acc: 100.00%, train_loss: 0.0128\n",
      "client:0 train_acc: 100.00%, train_loss: 0.0170\n",
      "client:4 train_acc: 100.00%, train_loss: 0.0217\n",
      "Test set: Average loss: 11.2659, Accuracy: 2598/10000 (25.98%)\n"
     ]
    },
    {
     "name": "stderr",
     "output_type": "stream",
     "text": [
      "Round461: User4_1: 100%|██████████████████████████████████████████| 100/100 [00:03<00:00, 30.95it/s]\n",
      "Round461: User1_1: 100%|██████████████████████████████████████████| 100/100 [00:03<00:00, 30.70it/s]\n",
      "Round461: User0_1: 100%|██████████████████████████████████████████| 100/100 [00:03<00:00, 30.24it/s]\n",
      "Round461: User3_1: 100%|██████████████████████████████████████████| 100/100 [00:03<00:00, 30.65it/s]\n",
      "Round461: User2_1: 100%|██████████████████████████████████████████| 100/100 [00:03<00:00, 30.45it/s]\n"
     ]
    },
    {
     "name": "stdout",
     "output_type": "stream",
     "text": [
      "client:4 train_acc: 100.00%, train_loss: 0.0048\n",
      "client:1 train_acc: 100.00%, train_loss: 0.0090\n",
      "client:0 train_acc: 100.00%, train_loss: 0.0131\n",
      "client:3 train_acc: 100.00%, train_loss: 0.0177\n",
      "client:2 train_acc: 100.00%, train_loss: 0.0216\n",
      "Test set: Average loss: 11.2821, Accuracy: 2580/10000 (25.80%)\n"
     ]
    },
    {
     "name": "stderr",
     "output_type": "stream",
     "text": [
      "Round462: User3_1: 100%|██████████████████████████████████████████| 100/100 [00:03<00:00, 29.79it/s]\n",
      "Round462: User1_1: 100%|██████████████████████████████████████████| 100/100 [00:03<00:00, 28.56it/s]\n",
      "Round462: User4_1: 100%|██████████████████████████████████████████| 100/100 [00:03<00:00, 28.63it/s]\n",
      "Round462: User0_1: 100%|██████████████████████████████████████████| 100/100 [00:03<00:00, 31.02it/s]\n",
      "Round462: User2_1: 100%|██████████████████████████████████████████| 100/100 [00:03<00:00, 29.53it/s]\n"
     ]
    },
    {
     "name": "stdout",
     "output_type": "stream",
     "text": [
      "client:3 train_acc: 100.00%, train_loss: 0.0045\n",
      "client:1 train_acc: 100.00%, train_loss: 0.0086\n",
      "client:4 train_acc: 100.00%, train_loss: 0.0134\n",
      "client:0 train_acc: 100.00%, train_loss: 0.0175\n",
      "client:2 train_acc: 100.00%, train_loss: 0.0214\n",
      "Test set: Average loss: 11.2852, Accuracy: 2577/10000 (25.77%)\n"
     ]
    },
    {
     "name": "stderr",
     "output_type": "stream",
     "text": [
      "Round463: User1_1: 100%|██████████████████████████████████████████| 100/100 [00:03<00:00, 30.73it/s]\n",
      "Round463: User2_1: 100%|██████████████████████████████████████████| 100/100 [00:03<00:00, 30.71it/s]\n",
      "Round463: User0_1: 100%|██████████████████████████████████████████| 100/100 [00:03<00:00, 29.04it/s]\n",
      "Round463: User4_1: 100%|██████████████████████████████████████████| 100/100 [00:03<00:00, 31.18it/s]\n",
      "Round463: User3_1: 100%|██████████████████████████████████████████| 100/100 [00:03<00:00, 30.60it/s]\n"
     ]
    },
    {
     "name": "stdout",
     "output_type": "stream",
     "text": [
      "client:1 train_acc: 100.00%, train_loss: 0.0042\n",
      "client:2 train_acc: 100.00%, train_loss: 0.0080\n",
      "client:0 train_acc: 100.00%, train_loss: 0.0121\n",
      "client:4 train_acc: 100.00%, train_loss: 0.0167\n",
      "client:3 train_acc: 100.00%, train_loss: 0.0212\n",
      "Test set: Average loss: 11.3021, Accuracy: 2577/10000 (25.77%)\n"
     ]
    },
    {
     "name": "stderr",
     "output_type": "stream",
     "text": [
      "Round464: User2_1: 100%|██████████████████████████████████████████| 100/100 [00:03<00:00, 30.86it/s]\n",
      "Round464: User0_1: 100%|██████████████████████████████████████████| 100/100 [00:03<00:00, 30.18it/s]\n",
      "Round464: User3_1: 100%|██████████████████████████████████████████| 100/100 [00:03<00:00, 29.16it/s]\n",
      "Round464: User1_1: 100%|██████████████████████████████████████████| 100/100 [00:03<00:00, 29.42it/s]\n",
      "Round464: User4_1: 100%|██████████████████████████████████████████| 100/100 [00:03<00:00, 29.62it/s]\n"
     ]
    },
    {
     "name": "stdout",
     "output_type": "stream",
     "text": [
      "client:2 train_acc: 100.00%, train_loss: 0.0038\n",
      "client:0 train_acc: 100.00%, train_loss: 0.0079\n",
      "client:3 train_acc: 100.00%, train_loss: 0.0123\n",
      "client:1 train_acc: 100.00%, train_loss: 0.0163\n",
      "client:4 train_acc: 100.00%, train_loss: 0.0210\n",
      "Test set: Average loss: 11.2892, Accuracy: 2587/10000 (25.87%)\n"
     ]
    },
    {
     "name": "stderr",
     "output_type": "stream",
     "text": [
      "Round465: User0_1: 100%|██████████████████████████████████████████| 100/100 [00:03<00:00, 29.98it/s]\n",
      "Round465: User1_1: 100%|██████████████████████████████████████████| 100/100 [00:03<00:00, 30.01it/s]\n",
      "Round465: User3_1: 100%|██████████████████████████████████████████| 100/100 [00:03<00:00, 32.14it/s]\n",
      "Round465: User2_1: 100%|██████████████████████████████████████████| 100/100 [00:03<00:00, 31.11it/s]\n",
      "Round465: User4_1: 100%|██████████████████████████████████████████| 100/100 [00:03<00:00, 28.87it/s]\n"
     ]
    },
    {
     "name": "stdout",
     "output_type": "stream",
     "text": [
      "client:0 train_acc: 100.00%, train_loss: 0.0041\n",
      "client:1 train_acc: 100.00%, train_loss: 0.0082\n",
      "client:3 train_acc: 100.00%, train_loss: 0.0125\n",
      "client:2 train_acc: 100.00%, train_loss: 0.0163\n",
      "client:4 train_acc: 100.00%, train_loss: 0.0209\n",
      "Test set: Average loss: 11.2908, Accuracy: 2551/10000 (25.51%)\n"
     ]
    },
    {
     "name": "stderr",
     "output_type": "stream",
     "text": [
      "Round466: User3_1: 100%|██████████████████████████████████████████| 100/100 [00:03<00:00, 29.55it/s]\n",
      "Round466: User0_1: 100%|██████████████████████████████████████████| 100/100 [00:03<00:00, 28.75it/s]\n",
      "Round466: User4_1: 100%|██████████████████████████████████████████| 100/100 [00:03<00:00, 28.74it/s]\n",
      "Round466: User2_1: 100%|██████████████████████████████████████████| 100/100 [00:03<00:00, 30.77it/s]\n",
      "Round466: User1_1: 100%|██████████████████████████████████████████| 100/100 [00:03<00:00, 30.63it/s]\n"
     ]
    },
    {
     "name": "stdout",
     "output_type": "stream",
     "text": [
      "client:3 train_acc: 100.00%, train_loss: 0.0044\n",
      "client:0 train_acc: 100.00%, train_loss: 0.0084\n",
      "client:4 train_acc: 100.00%, train_loss: 0.0130\n",
      "client:2 train_acc: 100.00%, train_loss: 0.0169\n",
      "client:1 train_acc: 100.00%, train_loss: 0.0209\n",
      "Test set: Average loss: 11.3102, Accuracy: 2558/10000 (25.58%)\n"
     ]
    },
    {
     "name": "stderr",
     "output_type": "stream",
     "text": [
      "Round467: User0_1: 100%|██████████████████████████████████████████| 100/100 [00:03<00:00, 32.12it/s]\n",
      "Round467: User1_1: 100%|██████████████████████████████████████████| 100/100 [00:03<00:00, 29.89it/s]\n",
      "Round467: User2_1: 100%|██████████████████████████████████████████| 100/100 [00:03<00:00, 31.47it/s]\n",
      "Round467: User4_1: 100%|██████████████████████████████████████████| 100/100 [00:03<00:00, 31.07it/s]\n",
      "Round467: User3_1: 100%|██████████████████████████████████████████| 100/100 [00:03<00:00, 30.62it/s]\n"
     ]
    },
    {
     "name": "stdout",
     "output_type": "stream",
     "text": [
      "client:0 train_acc: 100.00%, train_loss: 0.0040\n",
      "client:1 train_acc: 100.00%, train_loss: 0.0080\n",
      "client:2 train_acc: 100.00%, train_loss: 0.0117\n",
      "client:4 train_acc: 100.00%, train_loss: 0.0163\n",
      "client:3 train_acc: 100.00%, train_loss: 0.0206\n",
      "Test set: Average loss: 11.3257, Accuracy: 2560/10000 (25.60%)\n"
     ]
    },
    {
     "name": "stderr",
     "output_type": "stream",
     "text": [
      "Round468: User1_1: 100%|██████████████████████████████████████████| 100/100 [00:03<00:00, 30.19it/s]\n",
      "Round468: User3_1: 100%|██████████████████████████████████████████| 100/100 [00:03<00:00, 29.79it/s]\n",
      "Round468: User2_1: 100%|██████████████████████████████████████████| 100/100 [00:03<00:00, 31.02it/s]\n",
      "Round468: User0_1: 100%|██████████████████████████████████████████| 100/100 [00:03<00:00, 30.15it/s]\n",
      "Round468: User4_1: 100%|██████████████████████████████████████████| 100/100 [00:03<00:00, 30.59it/s]\n"
     ]
    },
    {
     "name": "stdout",
     "output_type": "stream",
     "text": [
      "client:1 train_acc: 100.00%, train_loss: 0.0040\n",
      "client:3 train_acc: 100.00%, train_loss: 0.0083\n",
      "client:2 train_acc: 100.00%, train_loss: 0.0120\n",
      "client:0 train_acc: 100.00%, train_loss: 0.0159\n",
      "client:4 train_acc: 100.00%, train_loss: 0.0204\n",
      "Test set: Average loss: 11.3347, Accuracy: 2552/10000 (25.52%)\n"
     ]
    },
    {
     "name": "stderr",
     "output_type": "stream",
     "text": [
      "Round469: User1_1: 100%|██████████████████████████████████████████| 100/100 [00:03<00:00, 29.47it/s]\n",
      "Round469: User4_1: 100%|██████████████████████████████████████████| 100/100 [00:03<00:00, 29.53it/s]\n",
      "Round469: User0_1: 100%|██████████████████████████████████████████| 100/100 [00:03<00:00, 28.74it/s]\n",
      "Round469: User3_1: 100%|██████████████████████████████████████████| 100/100 [00:03<00:00, 29.44it/s]\n",
      "Round469: User2_1: 100%|██████████████████████████████████████████| 100/100 [00:03<00:00, 31.33it/s]\n"
     ]
    },
    {
     "name": "stdout",
     "output_type": "stream",
     "text": [
      "client:1 train_acc: 100.00%, train_loss: 0.0040\n",
      "client:4 train_acc: 100.00%, train_loss: 0.0084\n",
      "client:0 train_acc: 100.00%, train_loss: 0.0124\n",
      "client:3 train_acc: 100.00%, train_loss: 0.0166\n",
      "client:2 train_acc: 100.00%, train_loss: 0.0203\n",
      "Test set: Average loss: 11.3521, Accuracy: 2560/10000 (25.60%)\n"
     ]
    },
    {
     "name": "stderr",
     "output_type": "stream",
     "text": [
      "Round470: User0_1: 100%|██████████████████████████████████████████| 100/100 [00:03<00:00, 30.03it/s]\n",
      "Round470: User3_1: 100%|██████████████████████████████████████████| 100/100 [00:03<00:00, 30.63it/s]\n",
      "Round470: User4_1: 100%|██████████████████████████████████████████| 100/100 [00:03<00:00, 30.61it/s]\n",
      "Round470: User1_1: 100%|██████████████████████████████████████████| 100/100 [00:03<00:00, 30.23it/s]\n",
      "Round470: User2_1: 100%|██████████████████████████████████████████| 100/100 [00:03<00:00, 30.68it/s]\n"
     ]
    },
    {
     "name": "stdout",
     "output_type": "stream",
     "text": [
      "client:0 train_acc: 100.00%, train_loss: 0.0038\n",
      "client:3 train_acc: 100.00%, train_loss: 0.0081\n",
      "client:4 train_acc: 100.00%, train_loss: 0.0126\n",
      "client:1 train_acc: 100.00%, train_loss: 0.0165\n",
      "client:2 train_acc: 100.00%, train_loss: 0.0201\n",
      "Test set: Average loss: 11.3753, Accuracy: 2566/10000 (25.66%)\n"
     ]
    },
    {
     "name": "stderr",
     "output_type": "stream",
     "text": [
      "Round471: User3_1: 100%|██████████████████████████████████████████| 100/100 [00:03<00:00, 28.87it/s]\n",
      "Round471: User0_1: 100%|██████████████████████████████████████████| 100/100 [00:03<00:00, 30.22it/s]\n",
      "Round471: User1_1: 100%|██████████████████████████████████████████| 100/100 [00:03<00:00, 30.40it/s]\n",
      "Round471: User4_1: 100%|██████████████████████████████████████████| 100/100 [00:03<00:00, 29.90it/s]\n",
      "Round471: User2_1: 100%|██████████████████████████████████████████| 100/100 [00:03<00:00, 29.74it/s]\n"
     ]
    },
    {
     "name": "stdout",
     "output_type": "stream",
     "text": [
      "client:3 train_acc: 100.00%, train_loss: 0.0042\n",
      "client:0 train_acc: 100.00%, train_loss: 0.0081\n",
      "client:1 train_acc: 100.00%, train_loss: 0.0120\n",
      "client:4 train_acc: 100.00%, train_loss: 0.0163\n",
      "client:2 train_acc: 100.00%, train_loss: 0.0199\n",
      "Test set: Average loss: 11.3642, Accuracy: 2567/10000 (25.67%)\n"
     ]
    },
    {
     "name": "stderr",
     "output_type": "stream",
     "text": [
      "Round472: User2_1: 100%|██████████████████████████████████████████| 100/100 [00:03<00:00, 30.28it/s]\n",
      "Round472: User4_1: 100%|██████████████████████████████████████████| 100/100 [00:03<00:00, 30.15it/s]\n",
      "Round472: User0_1: 100%|██████████████████████████████████████████| 100/100 [00:03<00:00, 28.85it/s]\n",
      "Round472: User3_1: 100%|██████████████████████████████████████████| 100/100 [00:03<00:00, 28.65it/s]\n",
      "Round472: User1_1: 100%|██████████████████████████████████████████| 100/100 [00:03<00:00, 29.79it/s]\n"
     ]
    },
    {
     "name": "stdout",
     "output_type": "stream",
     "text": [
      "client:2 train_acc: 100.00%, train_loss: 0.0036\n",
      "client:4 train_acc: 100.00%, train_loss: 0.0080\n",
      "client:0 train_acc: 100.00%, train_loss: 0.0117\n",
      "client:3 train_acc: 100.00%, train_loss: 0.0159\n",
      "client:1 train_acc: 100.00%, train_loss: 0.0198\n",
      "Test set: Average loss: 11.3918, Accuracy: 2581/10000 (25.81%)\n"
     ]
    },
    {
     "name": "stderr",
     "output_type": "stream",
     "text": [
      "Round473: User1_1: 100%|██████████████████████████████████████████| 100/100 [00:03<00:00, 30.56it/s]\n",
      "Round473: User2_1: 100%|██████████████████████████████████████████| 100/100 [00:03<00:00, 30.30it/s]\n",
      "Round473: User4_1: 100%|██████████████████████████████████████████| 100/100 [00:03<00:00, 29.97it/s]\n",
      "Round473: User3_1: 100%|██████████████████████████████████████████| 100/100 [00:03<00:00, 30.63it/s]\n",
      "Round473: User0_1: 100%|██████████████████████████████████████████| 100/100 [00:03<00:00, 30.66it/s]\n"
     ]
    },
    {
     "name": "stdout",
     "output_type": "stream",
     "text": [
      "client:1 train_acc: 100.00%, train_loss: 0.0038\n",
      "client:2 train_acc: 100.00%, train_loss: 0.0074\n",
      "client:4 train_acc: 100.00%, train_loss: 0.0117\n",
      "client:3 train_acc: 100.00%, train_loss: 0.0159\n",
      "client:0 train_acc: 100.00%, train_loss: 0.0196\n",
      "Test set: Average loss: 11.3903, Accuracy: 2581/10000 (25.81%)\n"
     ]
    },
    {
     "name": "stderr",
     "output_type": "stream",
     "text": [
      "Round474: User0_1: 100%|██████████████████████████████████████████| 100/100 [00:03<00:00, 28.98it/s]\n",
      "Round474: User3_1: 100%|██████████████████████████████████████████| 100/100 [00:03<00:00, 28.81it/s]\n",
      "Round474: User2_1: 100%|██████████████████████████████████████████| 100/100 [00:03<00:00, 30.74it/s]\n",
      "Round474: User1_1: 100%|██████████████████████████████████████████| 100/100 [00:02<00:00, 34.17it/s]\n",
      "Round474: User4_1: 100%|██████████████████████████████████████████| 100/100 [00:03<00:00, 32.50it/s]\n"
     ]
    },
    {
     "name": "stdout",
     "output_type": "stream",
     "text": [
      "client:0 train_acc: 100.00%, train_loss: 0.0038\n",
      "client:3 train_acc: 100.00%, train_loss: 0.0079\n",
      "client:2 train_acc: 100.00%, train_loss: 0.0114\n",
      "client:1 train_acc: 100.00%, train_loss: 0.0152\n",
      "client:4 train_acc: 100.00%, train_loss: 0.0195\n",
      "Test set: Average loss: 11.3804, Accuracy: 2574/10000 (25.74%)\n"
     ]
    },
    {
     "name": "stderr",
     "output_type": "stream",
     "text": [
      "Round475: User0_1: 100%|██████████████████████████████████████████| 100/100 [00:03<00:00, 30.39it/s]\n",
      "Round475: User2_1: 100%|██████████████████████████████████████████| 100/100 [00:03<00:00, 29.14it/s]\n",
      "Round475: User1_1: 100%|██████████████████████████████████████████| 100/100 [00:03<00:00, 29.13it/s]\n",
      "Round475: User3_1: 100%|██████████████████████████████████████████| 100/100 [00:02<00:00, 34.42it/s]\n",
      "Round475: User4_1: 100%|██████████████████████████████████████████| 100/100 [00:03<00:00, 29.60it/s]\n"
     ]
    },
    {
     "name": "stdout",
     "output_type": "stream",
     "text": [
      "client:0 train_acc: 100.00%, train_loss: 0.0037\n",
      "client:2 train_acc: 100.00%, train_loss: 0.0072\n",
      "client:1 train_acc: 100.00%, train_loss: 0.0110\n",
      "client:3 train_acc: 100.00%, train_loss: 0.0150\n",
      "client:4 train_acc: 100.00%, train_loss: 0.0194\n",
      "Test set: Average loss: 11.4159, Accuracy: 2573/10000 (25.73%)\n"
     ]
    },
    {
     "name": "stderr",
     "output_type": "stream",
     "text": [
      "Round476: User3_1: 100%|██████████████████████████████████████████| 100/100 [00:03<00:00, 30.87it/s]\n",
      "Round476: User2_1: 100%|██████████████████████████████████████████| 100/100 [00:03<00:00, 30.05it/s]\n",
      "Round476: User4_1: 100%|██████████████████████████████████████████| 100/100 [00:03<00:00, 31.58it/s]\n",
      "Round476: User1_1: 100%|██████████████████████████████████████████| 100/100 [00:03<00:00, 31.13it/s]\n",
      "Round476: User0_1: 100%|██████████████████████████████████████████| 100/100 [00:03<00:00, 29.86it/s]\n"
     ]
    },
    {
     "name": "stdout",
     "output_type": "stream",
     "text": [
      "client:3 train_acc: 100.00%, train_loss: 0.0041\n",
      "client:2 train_acc: 100.00%, train_loss: 0.0075\n",
      "client:4 train_acc: 100.00%, train_loss: 0.0118\n",
      "client:1 train_acc: 100.00%, train_loss: 0.0155\n",
      "client:0 train_acc: 100.00%, train_loss: 0.0193\n",
      "Test set: Average loss: 11.4039, Accuracy: 2582/10000 (25.82%)\n"
     ]
    },
    {
     "name": "stderr",
     "output_type": "stream",
     "text": [
      "Round477: User4_1: 100%|██████████████████████████████████████████| 100/100 [00:03<00:00, 31.04it/s]\n",
      "Round477: User0_1: 100%|██████████████████████████████████████████| 100/100 [00:03<00:00, 29.58it/s]\n",
      "Round477: User3_1: 100%|██████████████████████████████████████████| 100/100 [00:03<00:00, 30.93it/s]\n",
      "Round477: User1_1: 100%|██████████████████████████████████████████| 100/100 [00:03<00:00, 33.03it/s]\n",
      "Round477: User2_1: 100%|██████████████████████████████████████████| 100/100 [00:02<00:00, 33.82it/s]\n"
     ]
    },
    {
     "name": "stdout",
     "output_type": "stream",
     "text": [
      "client:4 train_acc: 100.00%, train_loss: 0.0042\n",
      "client:0 train_acc: 100.00%, train_loss: 0.0079\n",
      "client:3 train_acc: 100.00%, train_loss: 0.0119\n",
      "client:1 train_acc: 100.00%, train_loss: 0.0156\n",
      "client:2 train_acc: 100.00%, train_loss: 0.0191\n",
      "Test set: Average loss: 11.4219, Accuracy: 2566/10000 (25.66%)\n"
     ]
    },
    {
     "name": "stderr",
     "output_type": "stream",
     "text": [
      "Round478: User2_1: 100%|██████████████████████████████████████████| 100/100 [00:03<00:00, 30.37it/s]\n",
      "Round478: User4_1: 100%|██████████████████████████████████████████| 100/100 [00:03<00:00, 29.85it/s]\n",
      "Round478: User1_1: 100%|██████████████████████████████████████████| 100/100 [00:03<00:00, 31.16it/s]\n",
      "Round478: User0_1: 100%|██████████████████████████████████████████| 100/100 [00:03<00:00, 31.01it/s]\n",
      "Round478: User3_1: 100%|██████████████████████████████████████████| 100/100 [00:03<00:00, 30.48it/s]\n"
     ]
    },
    {
     "name": "stdout",
     "output_type": "stream",
     "text": [
      "client:2 train_acc: 100.00%, train_loss: 0.0034\n",
      "client:4 train_acc: 100.00%, train_loss: 0.0076\n",
      "client:1 train_acc: 100.00%, train_loss: 0.0113\n",
      "client:0 train_acc: 100.00%, train_loss: 0.0149\n",
      "client:3 train_acc: 100.00%, train_loss: 0.0189\n",
      "Test set: Average loss: 11.4485, Accuracy: 2586/10000 (25.86%)\n"
     ]
    },
    {
     "name": "stderr",
     "output_type": "stream",
     "text": [
      "Round479: User0_1: 100%|██████████████████████████████████████████| 100/100 [00:03<00:00, 30.58it/s]\n",
      "Round479: User3_1: 100%|██████████████████████████████████████████| 100/100 [00:03<00:00, 29.43it/s]\n",
      "Round479: User4_1: 100%|██████████████████████████████████████████| 100/100 [00:03<00:00, 31.61it/s]\n",
      "Round479: User1_1: 100%|██████████████████████████████████████████| 100/100 [00:03<00:00, 30.92it/s]\n",
      "Round479: User2_1: 100%|██████████████████████████████████████████| 100/100 [00:03<00:00, 29.54it/s]\n"
     ]
    },
    {
     "name": "stdout",
     "output_type": "stream",
     "text": [
      "client:0 train_acc: 100.00%, train_loss: 0.0036\n",
      "client:3 train_acc: 100.00%, train_loss: 0.0076\n",
      "client:4 train_acc: 100.00%, train_loss: 0.0117\n",
      "client:1 train_acc: 100.00%, train_loss: 0.0155\n",
      "client:2 train_acc: 100.00%, train_loss: 0.0189\n",
      "Test set: Average loss: 11.4473, Accuracy: 2586/10000 (25.86%)\n"
     ]
    },
    {
     "name": "stderr",
     "output_type": "stream",
     "text": [
      "Round480: User3_1: 100%|██████████████████████████████████████████| 100/100 [00:03<00:00, 29.93it/s]\n",
      "Round480: User0_1: 100%|██████████████████████████████████████████| 100/100 [00:03<00:00, 29.06it/s]\n",
      "Round480: User1_1: 100%|██████████████████████████████████████████| 100/100 [00:03<00:00, 30.89it/s]\n",
      "Round480: User2_1: 100%|██████████████████████████████████████████| 100/100 [00:03<00:00, 30.63it/s]\n",
      "Round480: User4_1: 100%|██████████████████████████████████████████| 100/100 [00:03<00:00, 29.89it/s]\n"
     ]
    },
    {
     "name": "stdout",
     "output_type": "stream",
     "text": [
      "client:3 train_acc: 100.00%, train_loss: 0.0039\n",
      "client:0 train_acc: 100.00%, train_loss: 0.0075\n",
      "client:1 train_acc: 100.00%, train_loss: 0.0112\n",
      "client:2 train_acc: 100.00%, train_loss: 0.0145\n",
      "client:4 train_acc: 100.00%, train_loss: 0.0187\n",
      "Test set: Average loss: 11.4565, Accuracy: 2572/10000 (25.72%)\n"
     ]
    },
    {
     "name": "stderr",
     "output_type": "stream",
     "text": [
      "Round481: User3_1: 100%|██████████████████████████████████████████| 100/100 [00:03<00:00, 31.18it/s]\n",
      "Round481: User2_1: 100%|██████████████████████████████████████████| 100/100 [00:03<00:00, 29.70it/s]\n",
      "Round481: User1_1: 100%|██████████████████████████████████████████| 100/100 [00:03<00:00, 30.85it/s]\n",
      "Round481: User4_1: 100%|██████████████████████████████████████████| 100/100 [00:03<00:00, 30.86it/s]\n",
      "Round481: User0_1: 100%|██████████████████████████████████████████| 100/100 [00:03<00:00, 29.70it/s]\n"
     ]
    },
    {
     "name": "stdout",
     "output_type": "stream",
     "text": [
      "client:3 train_acc: 100.00%, train_loss: 0.0039\n",
      "client:2 train_acc: 100.00%, train_loss: 0.0072\n",
      "client:1 train_acc: 100.00%, train_loss: 0.0109\n",
      "client:4 train_acc: 100.00%, train_loss: 0.0150\n",
      "client:0 train_acc: 100.00%, train_loss: 0.0185\n",
      "Test set: Average loss: 11.4257, Accuracy: 2596/10000 (25.96%)\n"
     ]
    },
    {
     "name": "stderr",
     "output_type": "stream",
     "text": [
      "Round482: User3_1: 100%|██████████████████████████████████████████| 100/100 [00:03<00:00, 30.88it/s]\n",
      "Round482: User0_1: 100%|██████████████████████████████████████████| 100/100 [00:03<00:00, 30.85it/s]\n",
      "Round482: User2_1: 100%|██████████████████████████████████████████| 100/100 [00:03<00:00, 31.25it/s]\n",
      "Round482: User4_1: 100%|██████████████████████████████████████████| 100/100 [00:03<00:00, 31.83it/s]\n",
      "Round482: User1_1: 100%|██████████████████████████████████████████| 100/100 [00:03<00:00, 30.49it/s]\n"
     ]
    },
    {
     "name": "stdout",
     "output_type": "stream",
     "text": [
      "client:3 train_acc: 100.00%, train_loss: 0.0039\n",
      "client:0 train_acc: 100.00%, train_loss: 0.0074\n",
      "client:2 train_acc: 100.00%, train_loss: 0.0107\n",
      "client:4 train_acc: 100.00%, train_loss: 0.0148\n",
      "client:1 train_acc: 100.00%, train_loss: 0.0184\n",
      "Test set: Average loss: 11.4573, Accuracy: 2577/10000 (25.77%)\n"
     ]
    },
    {
     "name": "stderr",
     "output_type": "stream",
     "text": [
      "Round483: User2_1: 100%|██████████████████████████████████████████| 100/100 [00:03<00:00, 28.46it/s]\n",
      "Round483: User3_1: 100%|██████████████████████████████████████████| 100/100 [00:03<00:00, 29.16it/s]\n",
      "Round483: User4_1: 100%|██████████████████████████████████████████| 100/100 [00:03<00:00, 30.85it/s]\n",
      "Round483: User0_1: 100%|██████████████████████████████████████████| 100/100 [00:03<00:00, 30.44it/s]\n",
      "Round483: User1_1: 100%|██████████████████████████████████████████| 100/100 [00:03<00:00, 31.74it/s]\n"
     ]
    },
    {
     "name": "stdout",
     "output_type": "stream",
     "text": [
      "client:2 train_acc: 100.00%, train_loss: 0.0033\n",
      "client:3 train_acc: 100.00%, train_loss: 0.0072\n",
      "client:4 train_acc: 100.00%, train_loss: 0.0112\n",
      "client:0 train_acc: 100.00%, train_loss: 0.0147\n",
      "client:1 train_acc: 100.00%, train_loss: 0.0183\n",
      "Test set: Average loss: 11.4771, Accuracy: 2581/10000 (25.81%)\n"
     ]
    },
    {
     "name": "stderr",
     "output_type": "stream",
     "text": [
      "Round484: User3_1: 100%|██████████████████████████████████████████| 100/100 [00:03<00:00, 30.11it/s]\n",
      "Round484: User1_1: 100%|██████████████████████████████████████████| 100/100 [00:03<00:00, 29.43it/s]\n",
      "Round484: User4_1: 100%|██████████████████████████████████████████| 100/100 [00:03<00:00, 30.35it/s]\n",
      "Round484: User0_1: 100%|██████████████████████████████████████████| 100/100 [00:03<00:00, 29.45it/s]\n",
      "Round484: User2_1: 100%|██████████████████████████████████████████| 100/100 [00:02<00:00, 36.30it/s]\n"
     ]
    },
    {
     "name": "stdout",
     "output_type": "stream",
     "text": [
      "client:3 train_acc: 100.00%, train_loss: 0.0039\n",
      "client:1 train_acc: 100.00%, train_loss: 0.0075\n",
      "client:4 train_acc: 100.00%, train_loss: 0.0115\n",
      "client:0 train_acc: 100.00%, train_loss: 0.0149\n",
      "client:2 train_acc: 100.00%, train_loss: 0.0182\n",
      "Test set: Average loss: 11.4916, Accuracy: 2576/10000 (25.76%)\n"
     ]
    },
    {
     "name": "stderr",
     "output_type": "stream",
     "text": [
      "Round485: User2_1: 100%|██████████████████████████████████████████| 100/100 [00:03<00:00, 33.04it/s]\n",
      "Round485: User1_1: 100%|██████████████████████████████████████████| 100/100 [00:03<00:00, 32.14it/s]\n",
      "Round485: User4_1: 100%|██████████████████████████████████████████| 100/100 [00:03<00:00, 31.70it/s]\n",
      "Round485: User0_1: 100%|██████████████████████████████████████████| 100/100 [00:03<00:00, 30.89it/s]\n",
      "Round485: User3_1: 100%|██████████████████████████████████████████| 100/100 [00:03<00:00, 31.74it/s]\n"
     ]
    },
    {
     "name": "stdout",
     "output_type": "stream",
     "text": [
      "client:2 train_acc: 100.00%, train_loss: 0.0033\n",
      "client:1 train_acc: 100.00%, train_loss: 0.0068\n",
      "client:4 train_acc: 100.00%, train_loss: 0.0108\n",
      "client:0 train_acc: 100.00%, train_loss: 0.0142\n",
      "client:3 train_acc: 100.00%, train_loss: 0.0180\n",
      "Test set: Average loss: 11.4900, Accuracy: 2587/10000 (25.87%)\n"
     ]
    },
    {
     "name": "stderr",
     "output_type": "stream",
     "text": [
      "Round486: User3_1: 100%|██████████████████████████████████████████| 100/100 [00:03<00:00, 28.48it/s]\n",
      "Round486: User1_1: 100%|██████████████████████████████████████████| 100/100 [00:03<00:00, 29.86it/s]\n",
      "Round486: User2_1: 100%|██████████████████████████████████████████| 100/100 [00:03<00:00, 30.62it/s]\n",
      "Round486: User0_1: 100%|██████████████████████████████████████████| 100/100 [00:03<00:00, 30.05it/s]\n",
      "Round486: User4_1: 100%|██████████████████████████████████████████| 100/100 [00:03<00:00, 30.91it/s]\n"
     ]
    },
    {
     "name": "stdout",
     "output_type": "stream",
     "text": [
      "client:3 train_acc: 100.00%, train_loss: 0.0038\n",
      "client:1 train_acc: 100.00%, train_loss: 0.0073\n",
      "client:2 train_acc: 100.00%, train_loss: 0.0105\n",
      "client:0 train_acc: 100.00%, train_loss: 0.0139\n",
      "client:4 train_acc: 100.00%, train_loss: 0.0179\n",
      "Test set: Average loss: 11.5113, Accuracy: 2559/10000 (25.59%)\n"
     ]
    },
    {
     "name": "stderr",
     "output_type": "stream",
     "text": [
      "Round487: User2_1: 100%|██████████████████████████████████████████| 100/100 [00:03<00:00, 30.35it/s]\n",
      "Round487: User0_1: 100%|██████████████████████████████████████████| 100/100 [00:03<00:00, 31.99it/s]\n",
      "Round487: User3_1: 100%|██████████████████████████████████████████| 100/100 [00:03<00:00, 32.12it/s]\n",
      "Round487: User1_1: 100%|██████████████████████████████████████████| 100/100 [00:03<00:00, 30.69it/s]\n",
      "Round487: User4_1: 100%|██████████████████████████████████████████| 100/100 [00:03<00:00, 30.91it/s]\n"
     ]
    },
    {
     "name": "stdout",
     "output_type": "stream",
     "text": [
      "client:2 train_acc: 100.00%, train_loss: 0.0032\n",
      "client:0 train_acc: 100.00%, train_loss: 0.0066\n",
      "client:3 train_acc: 100.00%, train_loss: 0.0104\n",
      "client:1 train_acc: 100.00%, train_loss: 0.0139\n",
      "client:4 train_acc: 100.00%, train_loss: 0.0178\n",
      "Test set: Average loss: 11.5249, Accuracy: 2569/10000 (25.69%)\n"
     ]
    },
    {
     "name": "stderr",
     "output_type": "stream",
     "text": [
      "Round488: User1_1: 100%|██████████████████████████████████████████| 100/100 [00:03<00:00, 28.89it/s]\n",
      "Round488: User4_1: 100%|██████████████████████████████████████████| 100/100 [00:03<00:00, 29.01it/s]\n",
      "Round488: User3_1: 100%|██████████████████████████████████████████| 100/100 [00:03<00:00, 29.78it/s]\n",
      "Round488: User2_1: 100%|██████████████████████████████████████████| 100/100 [00:03<00:00, 28.75it/s]\n",
      "Round488: User0_1: 100%|██████████████████████████████████████████| 100/100 [00:03<00:00, 28.98it/s]\n"
     ]
    },
    {
     "name": "stdout",
     "output_type": "stream",
     "text": [
      "client:1 train_acc: 100.00%, train_loss: 0.0034\n",
      "client:4 train_acc: 100.00%, train_loss: 0.0074\n",
      "client:3 train_acc: 100.00%, train_loss: 0.0111\n",
      "client:2 train_acc: 100.00%, train_loss: 0.0143\n",
      "client:0 train_acc: 100.00%, train_loss: 0.0177\n",
      "Test set: Average loss: 11.5304, Accuracy: 2576/10000 (25.76%)\n"
     ]
    },
    {
     "name": "stderr",
     "output_type": "stream",
     "text": [
      "Round489: User2_1: 100%|██████████████████████████████████████████| 100/100 [00:03<00:00, 29.87it/s]\n",
      "Round489: User3_1: 100%|██████████████████████████████████████████| 100/100 [00:03<00:00, 29.07it/s]\n",
      "Round489: User0_1: 100%|██████████████████████████████████████████| 100/100 [00:03<00:00, 28.94it/s]\n",
      "Round489: User4_1: 100%|██████████████████████████████████████████| 100/100 [00:03<00:00, 30.86it/s]\n",
      "Round489: User1_1: 100%|██████████████████████████████████████████| 100/100 [00:03<00:00, 31.42it/s]\n"
     ]
    },
    {
     "name": "stdout",
     "output_type": "stream",
     "text": [
      "client:2 train_acc: 100.00%, train_loss: 0.0032\n",
      "client:3 train_acc: 100.00%, train_loss: 0.0069\n",
      "client:0 train_acc: 100.00%, train_loss: 0.0102\n",
      "client:4 train_acc: 100.00%, train_loss: 0.0141\n",
      "client:1 train_acc: 100.00%, train_loss: 0.0175\n",
      "Test set: Average loss: 11.5419, Accuracy: 2557/10000 (25.57%)\n"
     ]
    },
    {
     "name": "stderr",
     "output_type": "stream",
     "text": [
      "Round490: User3_1: 100%|██████████████████████████████████████████| 100/100 [00:03<00:00, 30.29it/s]\n",
      "Round490: User1_1: 100%|██████████████████████████████████████████| 100/100 [00:03<00:00, 30.44it/s]\n",
      "Round490: User2_1: 100%|██████████████████████████████████████████| 100/100 [00:03<00:00, 29.21it/s]\n",
      "Round490: User4_1: 100%|██████████████████████████████████████████| 100/100 [00:03<00:00, 30.71it/s]\n",
      "Round490: User0_1: 100%|██████████████████████████████████████████| 100/100 [00:03<00:00, 30.26it/s]\n"
     ]
    },
    {
     "name": "stdout",
     "output_type": "stream",
     "text": [
      "client:3 train_acc: 100.00%, train_loss: 0.0037\n",
      "client:1 train_acc: 100.00%, train_loss: 0.0071\n",
      "client:2 train_acc: 100.00%, train_loss: 0.0102\n",
      "client:4 train_acc: 100.00%, train_loss: 0.0141\n",
      "client:0 train_acc: 100.00%, train_loss: 0.0174\n",
      "Test set: Average loss: 11.5473, Accuracy: 2576/10000 (25.76%)\n"
     ]
    },
    {
     "name": "stderr",
     "output_type": "stream",
     "text": [
      "Round491: User1_1: 100%|██████████████████████████████████████████| 100/100 [00:03<00:00, 29.24it/s]\n",
      "Round491: User3_1: 100%|██████████████████████████████████████████| 100/100 [00:03<00:00, 29.62it/s]\n",
      "Round491: User4_1: 100%|██████████████████████████████████████████| 100/100 [00:03<00:00, 28.42it/s]\n",
      "Round491: User2_1: 100%|██████████████████████████████████████████| 100/100 [00:03<00:00, 30.73it/s]\n",
      "Round491: User0_1: 100%|██████████████████████████████████████████| 100/100 [00:03<00:00, 30.29it/s]\n"
     ]
    },
    {
     "name": "stdout",
     "output_type": "stream",
     "text": [
      "client:1 train_acc: 100.00%, train_loss: 0.0034\n",
      "client:3 train_acc: 100.00%, train_loss: 0.0070\n",
      "client:4 train_acc: 100.00%, train_loss: 0.0108\n",
      "client:2 train_acc: 100.00%, train_loss: 0.0140\n",
      "client:0 train_acc: 100.00%, train_loss: 0.0173\n",
      "Test set: Average loss: 11.5421, Accuracy: 2564/10000 (25.64%)\n"
     ]
    },
    {
     "name": "stderr",
     "output_type": "stream",
     "text": [
      "Round492: User2_1: 100%|██████████████████████████████████████████| 100/100 [00:03<00:00, 29.32it/s]\n",
      "Round492: User1_1: 100%|██████████████████████████████████████████| 100/100 [00:03<00:00, 28.68it/s]\n",
      "Round492: User0_1: 100%|██████████████████████████████████████████| 100/100 [00:03<00:00, 31.42it/s]\n",
      "Round492: User3_1: 100%|██████████████████████████████████████████| 100/100 [00:03<00:00, 29.48it/s]\n",
      "Round492: User4_1: 100%|██████████████████████████████████████████| 100/100 [00:03<00:00, 28.90it/s]\n"
     ]
    },
    {
     "name": "stdout",
     "output_type": "stream",
     "text": [
      "client:2 train_acc: 100.00%, train_loss: 0.0031\n",
      "client:1 train_acc: 100.00%, train_loss: 0.0065\n",
      "client:0 train_acc: 100.00%, train_loss: 0.0097\n",
      "client:3 train_acc: 100.00%, train_loss: 0.0134\n",
      "client:4 train_acc: 100.00%, train_loss: 0.0172\n",
      "Test set: Average loss: 11.5550, Accuracy: 2562/10000 (25.62%)\n"
     ]
    },
    {
     "name": "stderr",
     "output_type": "stream",
     "text": [
      "Round493: User4_1: 100%|██████████████████████████████████████████| 100/100 [00:03<00:00, 28.64it/s]\n",
      "Round493: User3_1: 100%|██████████████████████████████████████████| 100/100 [00:03<00:00, 29.29it/s]\n",
      "Round493: User2_1: 100%|██████████████████████████████████████████| 100/100 [00:03<00:00, 30.66it/s]\n",
      "Round493: User1_1: 100%|██████████████████████████████████████████| 100/100 [00:03<00:00, 29.75it/s]\n",
      "Round493: User0_1: 100%|██████████████████████████████████████████| 100/100 [00:03<00:00, 28.75it/s]\n"
     ]
    },
    {
     "name": "stdout",
     "output_type": "stream",
     "text": [
      "client:4 train_acc: 100.00%, train_loss: 0.0038\n",
      "client:3 train_acc: 100.00%, train_loss: 0.0074\n",
      "client:2 train_acc: 100.00%, train_loss: 0.0105\n",
      "client:1 train_acc: 100.00%, train_loss: 0.0138\n",
      "client:0 train_acc: 100.00%, train_loss: 0.0171\n",
      "Test set: Average loss: 11.5548, Accuracy: 2560/10000 (25.60%)\n"
     ]
    },
    {
     "name": "stderr",
     "output_type": "stream",
     "text": [
      "Round494: User1_1: 100%|██████████████████████████████████████████| 100/100 [00:03<00:00, 29.84it/s]\n",
      "Round494: User0_1: 100%|██████████████████████████████████████████| 100/100 [00:03<00:00, 29.33it/s]\n",
      "Round494: User3_1: 100%|██████████████████████████████████████████| 100/100 [00:03<00:00, 29.76it/s]\n",
      "Round494: User2_1: 100%|██████████████████████████████████████████| 100/100 [00:03<00:00, 30.40it/s]\n",
      "Round494: User4_1: 100%|██████████████████████████████████████████| 100/100 [00:03<00:00, 29.61it/s]\n"
     ]
    },
    {
     "name": "stdout",
     "output_type": "stream",
     "text": [
      "client:1 train_acc: 100.00%, train_loss: 0.0033\n",
      "client:0 train_acc: 100.00%, train_loss: 0.0066\n",
      "client:3 train_acc: 100.00%, train_loss: 0.0102\n",
      "client:2 train_acc: 100.00%, train_loss: 0.0133\n",
      "client:4 train_acc: 100.00%, train_loss: 0.0170\n",
      "Test set: Average loss: 11.5769, Accuracy: 2557/10000 (25.57%)\n"
     ]
    },
    {
     "name": "stderr",
     "output_type": "stream",
     "text": [
      "Round495: User2_1: 100%|██████████████████████████████████████████| 100/100 [00:03<00:00, 29.36it/s]\n",
      "Round495: User0_1: 100%|██████████████████████████████████████████| 100/100 [00:03<00:00, 28.17it/s]\n",
      "Round495: User1_1: 100%|██████████████████████████████████████████| 100/100 [00:03<00:00, 29.83it/s]\n",
      "Round495: User3_1: 100%|██████████████████████████████████████████| 100/100 [00:03<00:00, 29.75it/s]\n",
      "Round495: User4_1: 100%|██████████████████████████████████████████| 100/100 [00:03<00:00, 31.32it/s]\n"
     ]
    },
    {
     "name": "stdout",
     "output_type": "stream",
     "text": [
      "client:2 train_acc: 100.00%, train_loss: 0.0031\n",
      "client:0 train_acc: 100.00%, train_loss: 0.0063\n",
      "client:1 train_acc: 100.00%, train_loss: 0.0096\n",
      "client:3 train_acc: 100.00%, train_loss: 0.0131\n",
      "client:4 train_acc: 100.00%, train_loss: 0.0169\n",
      "Test set: Average loss: 11.5584, Accuracy: 2573/10000 (25.73%)\n"
     ]
    },
    {
     "name": "stderr",
     "output_type": "stream",
     "text": [
      "Round496: User3_1: 100%|██████████████████████████████████████████| 100/100 [00:03<00:00, 29.47it/s]\n",
      "Round496: User4_1: 100%|██████████████████████████████████████████| 100/100 [00:03<00:00, 29.75it/s]\n",
      "Round496: User0_1: 100%|██████████████████████████████████████████| 100/100 [00:03<00:00, 30.37it/s]\n",
      "Round496: User2_1: 100%|██████████████████████████████████████████| 100/100 [00:03<00:00, 29.68it/s]\n",
      "Round496: User1_1: 100%|██████████████████████████████████████████| 100/100 [00:03<00:00, 29.47it/s]\n"
     ]
    },
    {
     "name": "stdout",
     "output_type": "stream",
     "text": [
      "client:3 train_acc: 100.00%, train_loss: 0.0036\n",
      "client:4 train_acc: 100.00%, train_loss: 0.0072\n",
      "client:0 train_acc: 100.00%, train_loss: 0.0104\n",
      "client:2 train_acc: 100.00%, train_loss: 0.0134\n",
      "client:1 train_acc: 100.00%, train_loss: 0.0167\n",
      "Test set: Average loss: 11.5827, Accuracy: 2565/10000 (25.65%)\n"
     ]
    },
    {
     "name": "stderr",
     "output_type": "stream",
     "text": [
      "Round497: User2_1: 100%|██████████████████████████████████████████| 100/100 [00:03<00:00, 28.97it/s]\n",
      "Round497: User1_1: 100%|██████████████████████████████████████████| 100/100 [00:03<00:00, 30.38it/s]\n",
      "Round497: User4_1: 100%|██████████████████████████████████████████| 100/100 [00:03<00:00, 29.26it/s]\n",
      "Round497: User0_1: 100%|██████████████████████████████████████████| 100/100 [00:03<00:00, 29.27it/s]\n",
      "Round497: User3_1: 100%|██████████████████████████████████████████| 100/100 [00:03<00:00, 30.98it/s]\n"
     ]
    },
    {
     "name": "stdout",
     "output_type": "stream",
     "text": [
      "client:2 train_acc: 100.00%, train_loss: 0.0030\n",
      "client:1 train_acc: 100.00%, train_loss: 0.0063\n",
      "client:4 train_acc: 100.00%, train_loss: 0.0099\n",
      "client:0 train_acc: 100.00%, train_loss: 0.0131\n",
      "client:3 train_acc: 100.00%, train_loss: 0.0166\n",
      "Test set: Average loss: 11.6037, Accuracy: 2557/10000 (25.57%)\n"
     ]
    },
    {
     "name": "stderr",
     "output_type": "stream",
     "text": [
      "Round498: User1_1: 100%|██████████████████████████████████████████| 100/100 [00:03<00:00, 29.10it/s]\n",
      "Round498: User3_1: 100%|██████████████████████████████████████████| 100/100 [00:03<00:00, 28.54it/s]\n",
      "Round498: User2_1: 100%|██████████████████████████████████████████| 100/100 [00:03<00:00, 30.35it/s]\n",
      "Round498: User4_1: 100%|██████████████████████████████████████████| 100/100 [00:03<00:00, 33.06it/s]\n",
      "Round498: User0_1: 100%|██████████████████████████████████████████| 100/100 [00:03<00:00, 30.98it/s]\n"
     ]
    },
    {
     "name": "stdout",
     "output_type": "stream",
     "text": [
      "client:1 train_acc: 100.00%, train_loss: 0.0032\n",
      "client:3 train_acc: 100.00%, train_loss: 0.0067\n",
      "client:2 train_acc: 100.00%, train_loss: 0.0097\n",
      "client:4 train_acc: 100.00%, train_loss: 0.0133\n",
      "client:0 train_acc: 100.00%, train_loss: 0.0166\n",
      "Test set: Average loss: 11.6126, Accuracy: 2550/10000 (25.50%)\n"
     ]
    },
    {
     "name": "stderr",
     "output_type": "stream",
     "text": [
      "Round499: User2_1: 100%|██████████████████████████████████████████| 100/100 [00:03<00:00, 29.70it/s]\n",
      "Round499: User1_1: 100%|██████████████████████████████████████████| 100/100 [00:03<00:00, 31.24it/s]\n",
      "Round499: User3_1: 100%|██████████████████████████████████████████| 100/100 [00:03<00:00, 29.77it/s]\n",
      "Round499: User0_1: 100%|██████████████████████████████████████████| 100/100 [00:03<00:00, 29.28it/s]\n",
      "Round499: User4_1: 100%|██████████████████████████████████████████| 100/100 [00:03<00:00, 29.99it/s]\n"
     ]
    },
    {
     "name": "stdout",
     "output_type": "stream",
     "text": [
      "client:2 train_acc: 100.00%, train_loss: 0.0030\n",
      "client:1 train_acc: 100.00%, train_loss: 0.0062\n",
      "client:3 train_acc: 100.00%, train_loss: 0.0096\n",
      "client:0 train_acc: 100.00%, train_loss: 0.0128\n",
      "client:4 train_acc: 100.00%, train_loss: 0.0164\n",
      "Test set: Average loss: 11.6316, Accuracy: 2583/10000 (25.83%)\n"
     ]
    },
    {
     "name": "stderr",
     "output_type": "stream",
     "text": [
      "Round500: User3_1: 100%|██████████████████████████████████████████| 100/100 [00:03<00:00, 30.75it/s]\n",
      "Round500: User2_1: 100%|██████████████████████████████████████████| 100/100 [00:03<00:00, 30.41it/s]\n",
      "Round500: User4_1: 100%|██████████████████████████████████████████| 100/100 [00:03<00:00, 29.56it/s]\n",
      "Round500: User1_1: 100%|██████████████████████████████████████████| 100/100 [00:03<00:00, 30.35it/s]\n",
      "Round500: User0_1: 100%|██████████████████████████████████████████| 100/100 [00:03<00:00, 30.19it/s]\n"
     ]
    },
    {
     "name": "stdout",
     "output_type": "stream",
     "text": [
      "client:3 train_acc: 100.00%, train_loss: 0.0034\n",
      "client:2 train_acc: 100.00%, train_loss: 0.0064\n",
      "client:4 train_acc: 100.00%, train_loss: 0.0100\n",
      "client:1 train_acc: 100.00%, train_loss: 0.0131\n",
      "client:0 train_acc: 100.00%, train_loss: 0.0163\n",
      "Test set: Average loss: 11.6347, Accuracy: 2553/10000 (25.53%)\n"
     ]
    }
   ],
   "source": [
    "net_glob.train()\n",
    "# copy weights\n",
    "w_glob = net_glob.state_dict()\n",
    "\n",
    "loss_train_collect = []\n",
    "acc_train_collect = []\n",
    "loss_test_collect = []\n",
    "acc_test_collect = []\n",
    "\n",
    "\n",
    "\n",
    "for iter in range(200):\n",
    "    w_locals, loss_locals_train, acc_locals_train, loss_locals_test, acc_locals_test = [], [], [], [], []\n",
    "    m = max(int(frac * num_users), 1)\n",
    "    idxs_users = np.random.choice(range(num_users), m, replace = False)\n",
    "    \n",
    "\n",
    "    global_weights = copy.deepcopy(net_glob.state_dict())\n",
    "   \n",
    "    # Training/Testing simulation\n",
    "    for idx in idxs_users: # each client\n",
    "        \n",
    "        net_glob.load_state_dict(global_weights)\n",
    "        # client training local epochs  \n",
    "        for local_epoch in range(local_epochs):\n",
    "\n",
    "          for i, data in enumerate(tqdm(train_loaders1[idx], ncols=100, desc='Round'+str(iter+1)+': User'+str(idx)+'_'+str(local_epoch+1))):\n",
    "            # get the inputs; data is a list of [inputs, labels]\n",
    "            inputs, labels = data\n",
    "            inputs = inputs.to(device)\n",
    "            labels = labels.clone().detach().long().to(device)\n",
    "            #data.requires_grad = True\n",
    "\n",
    "            # zero the parameter gradients\n",
    "            optimizer.zero_grad()\n",
    "\n",
    "            # forward + backward + optimize\n",
    "            outputs = net_glob(inputs)\n",
    "            loss = criterion(outputs, labels)\n",
    "            #net_glob.zero_grad()\n",
    "            loss.backward()\n",
    "            #data_grad = data.grad.data\n",
    "            #perturbed_data = fgsm_attack(inputs, 0.3, data_grad)\n",
    "            #output = net_glob(perturbed_data)\n",
    "            optimizer.step()\n",
    "          \n",
    "        w = copy.deepcopy(net_glob.state_dict())\n",
    "        w_locals.append(copy.deepcopy(w))\n",
    "      \n",
    "      \n",
    "    w_glob = FedAvg(w_locals)\n",
    "    # update global model --- copy weight to net_glob -- distributed the model to all users\n",
    "    net_glob.load_state_dict(w_glob)\n",
    "\n",
    "    # train acc\n",
    "    with torch.no_grad():\n",
    "        corr_num = 0\n",
    "        total_num = 0\n",
    "        train_loss = 0.0\n",
    "        for idx in idxs_users:\n",
    "          for j, trn in enumerate(train_loaders2[idx]):\n",
    "            trn_x, trn_label = trn\n",
    "            trn_x = trn_x.to(device)\n",
    "            trn_label = trn_label.clone().detach().long().to(device)\n",
    "\n",
    "            trn_output = net_glob(trn_x)\n",
    "            loss = criterion(trn_output, trn_label)\n",
    "            train_loss += loss.item()\n",
    "            model_label = trn_output.argmax(dim=1)\n",
    "            corr = trn_label[trn_label == model_label].size(0)\n",
    "            corr_num += corr\n",
    "            total_num += trn_label.size(0)\n",
    "          print(\"client:{} train_acc: {:.2f}%, train_loss: {:.4f}\".format(idx, corr_num / total_num * 100, train_loss / len(train_loaders2)))\n",
    "\n",
    "    # Assuming you have already defined your neural network model, test dataset loader, loss criterion, and device\n",
    "    epsilon = 0.1  # choose a value for epsilon\n",
    "    test(net=net_glob, test_loader=test_loader, criterion=criterion, device=device, epsilon=epsilon)\n",
    "#     with torch.no_grad():\n",
    "#         corr_num = 0\n",
    "#         total_num = 0\n",
    "#         val_loss = 0.0\n",
    "#         for j, val in enumerate(test_loader):\n",
    "#             val_x, val_label = val\n",
    "#             val_x = val_x.to(device)\n",
    "#             data = val_x\n",
    "            \n",
    "#             data.requires_grad = True\n",
    "#             #val_x = fgsm_attack(net_glob, loss, val_x, val_label, 0.3).to(device)\n",
    "#             val_label = val_label.clone().detach().long().to(device)\n",
    "#             val_output = net_glob(data)\n",
    "            \n",
    "#             loss = criterion(val_output, val_label)\n",
    "#             net_glob.zero_grad()\n",
    "#             loss.backward()\n",
    "#             data_grad = data.grad.data\n",
    "#             perturbed_data = fgsm_attack(data, 0.3, data_grad)\n",
    "#             output = net_glob(perturbed_data)\n",
    "#             val_loss += loss.item()\n",
    "#             model_label = val_output.argmax(dim=1)\n",
    "#             corr = val_label[val_label == model_label].size(0)\n",
    "#             corr_num += corr\n",
    "#             total_num += val_label.size(0)\n",
    "#             accuracy = corr_num / total_num * 100\n",
    "#             test_loss = val_loss / len(test_loader)\n",
    "#         print(\"test_acc: {:.2f}%, test_loss: {:.4f}\".format( accuracy, test_loss))\n",
    "    \n",
    "#     # prepare to count predictions for each class\n",
    "#     correct_pred = {classname: 0 for classname in classes}\n",
    "#     total_pred = {classname: 0 for classname in classes}\n",
    "\n",
    "#     # again no gradients needed\n",
    "#     with torch.no_grad():\n",
    "#         for data in test_loader:\n",
    "#             images, labels = data\n",
    "#             outputs = net_glob(images)\n",
    "#             _, predictions = torch.max(outputs, 1)\n",
    "#             # collect the correct predictions for each class\n",
    "#             for label, prediction in zip(labels, predictions):\n",
    "#                 if label == prediction:\n",
    "#                     correct_pred[classes[label]] += 1\n",
    "#                 total_pred[classes[label]] += 1\n",
    "\n",
    "\n",
    "#     # print accuracy for each class\n",
    "#     for classname, correct_count in correct_pred.items():\n",
    "#         accuracy = 100 * float(correct_count) / total_pred[classname]\n",
    "#         print(\"Accuracy for class {:5s} is: {:.1f} %\".format(classname,\n",
    "#                                                       accuracy))\n",
    "\n"
   ]
  },
  {
   "cell_type": "code",
   "execution_count": null,
   "metadata": {},
   "outputs": [],
   "source": []
  },
  {
   "cell_type": "code",
   "execution_count": 41,
   "metadata": {},
   "outputs": [
    {
     "name": "stdout",
     "output_type": "stream",
     "text": [
      "Test set: Average loss: 13.6021, Accuracy: 2020/10000 (20.20%)\n"
     ]
    }
   ],
   "source": [
    "# Assuming you have already defined your neural network model, test dataset loader, loss criterion, and device\n",
    "epsilon = 0.3  # choose a value for epsilon\n",
    "test(net=net_glob, test_loader=test_loader, criterion=criterion, device=device, epsilon=epsilon)\n"
   ]
  },
  {
   "cell_type": "code",
   "execution_count": 42,
   "metadata": {
    "colab": {
     "base_uri": "https://localhost:8080/"
    },
    "executionInfo": {
     "elapsed": 21789,
     "status": "ok",
     "timestamp": 1663177674414,
     "user": {
      "displayName": "Mayank Kumar",
      "userId": "17758680965516036067"
     },
     "user_tz": -330
    },
    "id": "j9hLvYOwjjeW",
    "outputId": "e90e08b9-bf4e-4e52-8cbd-0502184cffcc"
   },
   "outputs": [
    {
     "ename": "RuntimeError",
     "evalue": "Input type (torch.FloatTensor) and weight type (torch.cuda.FloatTensor) should be the same or input should be a MKLDNN tensor and weight is a dense tensor",
     "output_type": "error",
     "traceback": [
      "\u001b[0;31m---------------------------------------------------------------------------\u001b[0m",
      "\u001b[0;31mRuntimeError\u001b[0m                              Traceback (most recent call last)",
      "\u001b[0;32m<ipython-input-42-769897c9e5f9>\u001b[0m in \u001b[0;36m<module>\u001b[0;34m\u001b[0m\n\u001b[1;32m      6\u001b[0m     \u001b[0;32mfor\u001b[0m \u001b[0mdata\u001b[0m \u001b[0;32min\u001b[0m \u001b[0mtest_loader\u001b[0m\u001b[0;34m:\u001b[0m\u001b[0;34m\u001b[0m\u001b[0;34m\u001b[0m\u001b[0m\n\u001b[1;32m      7\u001b[0m         \u001b[0mimages\u001b[0m\u001b[0;34m,\u001b[0m \u001b[0mlabels\u001b[0m \u001b[0;34m=\u001b[0m \u001b[0mdata\u001b[0m\u001b[0;34m\u001b[0m\u001b[0;34m\u001b[0m\u001b[0m\n\u001b[0;32m----> 8\u001b[0;31m         \u001b[0moutputs\u001b[0m \u001b[0;34m=\u001b[0m \u001b[0mnet_glob\u001b[0m\u001b[0;34m(\u001b[0m\u001b[0mimages\u001b[0m\u001b[0;34m)\u001b[0m\u001b[0;34m\u001b[0m\u001b[0;34m\u001b[0m\u001b[0m\n\u001b[0m\u001b[1;32m      9\u001b[0m         \u001b[0m_\u001b[0m\u001b[0;34m,\u001b[0m \u001b[0mpredictions\u001b[0m \u001b[0;34m=\u001b[0m \u001b[0mtorch\u001b[0m\u001b[0;34m.\u001b[0m\u001b[0mmax\u001b[0m\u001b[0;34m(\u001b[0m\u001b[0moutputs\u001b[0m\u001b[0;34m,\u001b[0m \u001b[0;36m1\u001b[0m\u001b[0;34m)\u001b[0m\u001b[0;34m\u001b[0m\u001b[0;34m\u001b[0m\u001b[0m\n\u001b[1;32m     10\u001b[0m         \u001b[0;31m# collect the correct predictions for each class\u001b[0m\u001b[0;34m\u001b[0m\u001b[0;34m\u001b[0m\u001b[0;34m\u001b[0m\u001b[0m\n",
      "\u001b[0;32m~/anaconda3/envs/maya1/lib/python3.7/site-packages/torch/nn/modules/module.py\u001b[0m in \u001b[0;36m_call_impl\u001b[0;34m(self, *input, **kwargs)\u001b[0m\n\u001b[1;32m   1049\u001b[0m         if not (self._backward_hooks or self._forward_hooks or self._forward_pre_hooks or _global_backward_hooks\n\u001b[1;32m   1050\u001b[0m                 or _global_forward_hooks or _global_forward_pre_hooks):\n\u001b[0;32m-> 1051\u001b[0;31m             \u001b[0;32mreturn\u001b[0m \u001b[0mforward_call\u001b[0m\u001b[0;34m(\u001b[0m\u001b[0;34m*\u001b[0m\u001b[0minput\u001b[0m\u001b[0;34m,\u001b[0m \u001b[0;34m**\u001b[0m\u001b[0mkwargs\u001b[0m\u001b[0;34m)\u001b[0m\u001b[0;34m\u001b[0m\u001b[0;34m\u001b[0m\u001b[0m\n\u001b[0m\u001b[1;32m   1052\u001b[0m         \u001b[0;31m# Do not call functions when jit is used\u001b[0m\u001b[0;34m\u001b[0m\u001b[0;34m\u001b[0m\u001b[0;34m\u001b[0m\u001b[0m\n\u001b[1;32m   1053\u001b[0m         \u001b[0mfull_backward_hooks\u001b[0m\u001b[0;34m,\u001b[0m \u001b[0mnon_full_backward_hooks\u001b[0m \u001b[0;34m=\u001b[0m \u001b[0;34m[\u001b[0m\u001b[0;34m]\u001b[0m\u001b[0;34m,\u001b[0m \u001b[0;34m[\u001b[0m\u001b[0;34m]\u001b[0m\u001b[0;34m\u001b[0m\u001b[0;34m\u001b[0m\u001b[0m\n",
      "\u001b[0;32m<ipython-input-32-e76586af861a>\u001b[0m in \u001b[0;36mforward\u001b[0;34m(self, x)\u001b[0m\n\u001b[1;32m     73\u001b[0m \u001b[0;34m\u001b[0m\u001b[0m\n\u001b[1;32m     74\u001b[0m     \u001b[0;32mdef\u001b[0m \u001b[0mforward\u001b[0m\u001b[0;34m(\u001b[0m\u001b[0mself\u001b[0m\u001b[0;34m,\u001b[0m \u001b[0mx\u001b[0m\u001b[0;34m)\u001b[0m\u001b[0;34m:\u001b[0m\u001b[0;34m\u001b[0m\u001b[0;34m\u001b[0m\u001b[0m\n\u001b[0;32m---> 75\u001b[0;31m         \u001b[0mout\u001b[0m \u001b[0;34m=\u001b[0m \u001b[0mF\u001b[0m\u001b[0;34m.\u001b[0m\u001b[0mrelu\u001b[0m\u001b[0;34m(\u001b[0m\u001b[0mself\u001b[0m\u001b[0;34m.\u001b[0m\u001b[0mbn1\u001b[0m\u001b[0;34m(\u001b[0m\u001b[0mself\u001b[0m\u001b[0;34m.\u001b[0m\u001b[0mconv1\u001b[0m\u001b[0;34m(\u001b[0m\u001b[0mx\u001b[0m\u001b[0;34m)\u001b[0m\u001b[0;34m)\u001b[0m\u001b[0;34m)\u001b[0m\u001b[0;34m\u001b[0m\u001b[0;34m\u001b[0m\u001b[0m\n\u001b[0m\u001b[1;32m     76\u001b[0m         \u001b[0mout\u001b[0m \u001b[0;34m=\u001b[0m \u001b[0mself\u001b[0m\u001b[0;34m.\u001b[0m\u001b[0mlayer1\u001b[0m\u001b[0;34m(\u001b[0m\u001b[0mout\u001b[0m\u001b[0;34m)\u001b[0m\u001b[0;34m\u001b[0m\u001b[0;34m\u001b[0m\u001b[0m\n\u001b[1;32m     77\u001b[0m         \u001b[0mout\u001b[0m \u001b[0;34m=\u001b[0m \u001b[0mself\u001b[0m\u001b[0;34m.\u001b[0m\u001b[0mlayer2\u001b[0m\u001b[0;34m(\u001b[0m\u001b[0mout\u001b[0m\u001b[0;34m)\u001b[0m\u001b[0;34m\u001b[0m\u001b[0;34m\u001b[0m\u001b[0m\n",
      "\u001b[0;32m~/anaconda3/envs/maya1/lib/python3.7/site-packages/torch/nn/modules/module.py\u001b[0m in \u001b[0;36m_call_impl\u001b[0;34m(self, *input, **kwargs)\u001b[0m\n\u001b[1;32m   1049\u001b[0m         if not (self._backward_hooks or self._forward_hooks or self._forward_pre_hooks or _global_backward_hooks\n\u001b[1;32m   1050\u001b[0m                 or _global_forward_hooks or _global_forward_pre_hooks):\n\u001b[0;32m-> 1051\u001b[0;31m             \u001b[0;32mreturn\u001b[0m \u001b[0mforward_call\u001b[0m\u001b[0;34m(\u001b[0m\u001b[0;34m*\u001b[0m\u001b[0minput\u001b[0m\u001b[0;34m,\u001b[0m \u001b[0;34m**\u001b[0m\u001b[0mkwargs\u001b[0m\u001b[0;34m)\u001b[0m\u001b[0;34m\u001b[0m\u001b[0;34m\u001b[0m\u001b[0m\n\u001b[0m\u001b[1;32m   1052\u001b[0m         \u001b[0;31m# Do not call functions when jit is used\u001b[0m\u001b[0;34m\u001b[0m\u001b[0;34m\u001b[0m\u001b[0;34m\u001b[0m\u001b[0m\n\u001b[1;32m   1053\u001b[0m         \u001b[0mfull_backward_hooks\u001b[0m\u001b[0;34m,\u001b[0m \u001b[0mnon_full_backward_hooks\u001b[0m \u001b[0;34m=\u001b[0m \u001b[0;34m[\u001b[0m\u001b[0;34m]\u001b[0m\u001b[0;34m,\u001b[0m \u001b[0;34m[\u001b[0m\u001b[0;34m]\u001b[0m\u001b[0;34m\u001b[0m\u001b[0;34m\u001b[0m\u001b[0m\n",
      "\u001b[0;32m~/anaconda3/envs/maya1/lib/python3.7/site-packages/torch/nn/modules/conv.py\u001b[0m in \u001b[0;36mforward\u001b[0;34m(self, input)\u001b[0m\n\u001b[1;32m    441\u001b[0m \u001b[0;34m\u001b[0m\u001b[0m\n\u001b[1;32m    442\u001b[0m     \u001b[0;32mdef\u001b[0m \u001b[0mforward\u001b[0m\u001b[0;34m(\u001b[0m\u001b[0mself\u001b[0m\u001b[0;34m,\u001b[0m \u001b[0minput\u001b[0m\u001b[0;34m:\u001b[0m \u001b[0mTensor\u001b[0m\u001b[0;34m)\u001b[0m \u001b[0;34m->\u001b[0m \u001b[0mTensor\u001b[0m\u001b[0;34m:\u001b[0m\u001b[0;34m\u001b[0m\u001b[0;34m\u001b[0m\u001b[0m\n\u001b[0;32m--> 443\u001b[0;31m         \u001b[0;32mreturn\u001b[0m \u001b[0mself\u001b[0m\u001b[0;34m.\u001b[0m\u001b[0m_conv_forward\u001b[0m\u001b[0;34m(\u001b[0m\u001b[0minput\u001b[0m\u001b[0;34m,\u001b[0m \u001b[0mself\u001b[0m\u001b[0;34m.\u001b[0m\u001b[0mweight\u001b[0m\u001b[0;34m,\u001b[0m \u001b[0mself\u001b[0m\u001b[0;34m.\u001b[0m\u001b[0mbias\u001b[0m\u001b[0;34m)\u001b[0m\u001b[0;34m\u001b[0m\u001b[0;34m\u001b[0m\u001b[0m\n\u001b[0m\u001b[1;32m    444\u001b[0m \u001b[0;34m\u001b[0m\u001b[0m\n\u001b[1;32m    445\u001b[0m \u001b[0;32mclass\u001b[0m \u001b[0mConv3d\u001b[0m\u001b[0;34m(\u001b[0m\u001b[0m_ConvNd\u001b[0m\u001b[0;34m)\u001b[0m\u001b[0;34m:\u001b[0m\u001b[0;34m\u001b[0m\u001b[0;34m\u001b[0m\u001b[0m\n",
      "\u001b[0;32m~/anaconda3/envs/maya1/lib/python3.7/site-packages/torch/nn/modules/conv.py\u001b[0m in \u001b[0;36m_conv_forward\u001b[0;34m(self, input, weight, bias)\u001b[0m\n\u001b[1;32m    438\u001b[0m                             _pair(0), self.dilation, self.groups)\n\u001b[1;32m    439\u001b[0m         return F.conv2d(input, weight, bias, self.stride,\n\u001b[0;32m--> 440\u001b[0;31m                         self.padding, self.dilation, self.groups)\n\u001b[0m\u001b[1;32m    441\u001b[0m \u001b[0;34m\u001b[0m\u001b[0m\n\u001b[1;32m    442\u001b[0m     \u001b[0;32mdef\u001b[0m \u001b[0mforward\u001b[0m\u001b[0;34m(\u001b[0m\u001b[0mself\u001b[0m\u001b[0;34m,\u001b[0m \u001b[0minput\u001b[0m\u001b[0;34m:\u001b[0m \u001b[0mTensor\u001b[0m\u001b[0;34m)\u001b[0m \u001b[0;34m->\u001b[0m \u001b[0mTensor\u001b[0m\u001b[0;34m:\u001b[0m\u001b[0;34m\u001b[0m\u001b[0;34m\u001b[0m\u001b[0m\n",
      "\u001b[0;31mRuntimeError\u001b[0m: Input type (torch.FloatTensor) and weight type (torch.cuda.FloatTensor) should be the same or input should be a MKLDNN tensor and weight is a dense tensor"
     ]
    }
   ],
   "source": [
    "    correct_pred = {classname: 0 for classname in classes}\n",
    "    total_pred = {classname: 0 for classname in classes}\n",
    "\n",
    "    # again no gradients needed\n",
    "    with torch.no_grad():\n",
    "        for data in test_loader:\n",
    "            images, labels = data\n",
    "            outputs = net_glob(images)\n",
    "            _, predictions = torch.max(outputs, 1)\n",
    "            # collect the correct predictions for each class\n",
    "            for label, prediction in zip(labels, predictions):\n",
    "                if label == prediction:\n",
    "                    correct_pred[classes[label]] += 1\n",
    "                total_pred[classes[label]] += 1\n",
    "\n",
    "\n",
    "    # print accuracy for each class\n",
    "    for classname, correct_count in correct_pred.items():\n",
    "        accuracy = 100 * float(correct_count) / total_pred[classname]\n",
    "        print(\"Accuracy for class {:5s} is: {:.1f} %\".format(classname,\n",
    "                                                      accuracy))"
   ]
  },
  {
   "cell_type": "code",
   "execution_count": null,
   "metadata": {
    "colab": {
     "base_uri": "https://localhost:8080/"
    },
    "executionInfo": {
     "elapsed": 5104,
     "status": "ok",
     "timestamp": 1663177684964,
     "user": {
      "displayName": "Mayank Kumar",
      "userId": "17758680965516036067"
     },
     "user_tz": -330
    },
    "id": "1AdhHMdeCAwG",
    "outputId": "a5437011-c3cb-473f-ed66-44f3832de5dd"
   },
   "outputs": [],
   "source": [
    "!pip install adversarial-robustness-toolbox"
   ]
  },
  {
   "cell_type": "code",
   "execution_count": null,
   "metadata": {
    "id": "pcvsxLMjHjih"
   },
   "outputs": [],
   "source": [
    "import os, sys\n",
    "from os.path import abspath\n",
    "\n",
    "module_path = os.path.abspath(os.path.join('..'))\n",
    "if module_path not in sys.path:\n",
    "    sys.path.append(module_path)\n",
    "\n",
    "import warnings\n",
    "warnings.filterwarnings('ignore')\n",
    "\n",
    "from keras.models import load_model\n",
    "\n",
    "from art import config\n",
    "from art.utils import load_dataset, get_file\n",
    "from art.estimators.classification import KerasClassifier\n",
    "from art.attacks.poisoning import FeatureCollisionAttack\n",
    "\n",
    "import numpy as np\n",
    "\n",
    "%matplotlib inline\n",
    "import matplotlib.pyplot as plt\n",
    "\n",
    "np.random.seed(301)\n",
    "#from __future__ import absolute_import, division, print_function, unicode_literals\n",
    "\n",
    "#import os, sys\n",
    "#from os.path import abspath\n",
    "\n",
    "module_path = os.path.abspath(os.path.join('..'))\n",
    "if module_path not in sys.path:\n",
    "    sys.path.append(module_path)\n",
    "\n",
    "import warnings\n",
    "warnings.filterwarnings('ignore')\n",
    "\n",
    "# Disable TensorFlow eager execution:\n",
    "import tensorflow as tf\n",
    "if tf.executing_eagerly():\n",
    "    tf.compat.v1.disable_eager_execution()\n",
    "\n",
    "import keras.backend as k\n",
    "from keras.models import Sequential\n",
    "from keras.layers import Dense, Flatten, Conv2D, MaxPooling2D, Activation, Dropout\n",
    "import numpy as np\n",
    "import matplotlib.pyplot as plt\n",
    "%matplotlib inline\n",
    "from mpl_toolkits import mplot3d\n",
    "\n",
    "from art.estimators.classification import KerasClassifier\n",
    "from art.attacks.poisoning import PoisoningAttackBackdoor\n",
    "from art.attacks.poisoning.perturbations import add_pattern_bd, add_single_bd, insert_image\n",
    "from art.utils import load_mnist, preprocess\n",
    "from art.defences.detector.poison import ActivationDefence"
   ]
  },
  {
   "cell_type": "code",
   "execution_count": null,
   "metadata": {
    "id": "bUwYEdc26j1w"
   },
   "outputs": [],
   "source": [
    "################################# Backdoor_ATTack ###################3\n",
    "(x_raw, y_raw), (x_raw_test, y_raw_test), min_, max_ = load_dataset('cifar10')\n",
    "\n",
    "# Random Selection:\n",
    "n_train = np.shape(x_raw)[0]\n",
    "num_selection = 30000\n",
    "random_selection_indices = np.random.choice(n_train, num_selection)\n",
    "x_raw = x_raw[random_selection_indices]\n",
    "y_raw = y_raw[random_selection_indices]\n",
    "\n",
    "BACKDOOR_TYPE = \"pattern\" # one of ['pattern', 'pixel', 'image']"
   ]
  },
  {
   "cell_type": "code",
   "execution_count": null,
   "metadata": {
    "id": "sI_3FtepCL7T"
   },
   "outputs": [],
   "source": [
    "y_temp=[]\n",
    "for i in range(len(y_raw)):\n",
    "  for j in range(len(y_raw[i])):\n",
    "    if y_raw[i][j]==1:\n",
    "      y_temp.append(j)\n",
    "y_temp=np.array(y_temp)\n",
    "y_raw=y_temp"
   ]
  },
  {
   "cell_type": "code",
   "execution_count": null,
   "metadata": {
    "id": "PzISHLTICL4v"
   },
   "outputs": [],
   "source": [
    "y_temp=[]\n",
    "for i in range(len(y_raw_test)):\n",
    "  for j in range(len(y_raw_test[i])):\n",
    "    if y_raw_test[i][j]==1:\n",
    "      y_temp.append(j)\n",
    "y_temp=np.array(y_temp)\n",
    "y_raw_test=y_temp"
   ]
  },
  {
   "cell_type": "code",
   "execution_count": null,
   "metadata": {
    "id": "0M_EfdroCL2D"
   },
   "outputs": [],
   "source": [
    "class_descr = ['airplane', 'automobile', 'bird', 'cat', 'deer', 'dog', 'frog', 'horse', 'ship', 'truck']"
   ]
  },
  {
   "cell_type": "code",
   "execution_count": null,
   "metadata": {
    "id": "ESJWrkIYClyP"
   },
   "outputs": [],
   "source": [
    "from art.estimators.classification import KerasClassifier\n",
    "from art.attacks.poisoning import PoisoningAttackBackdoor\n",
    "from art.attacks.poisoning.perturbations import add_pattern_bd, add_single_bd, insert_image\n",
    "from art.utils import load_mnist, preprocess\n",
    "from art.defences.detector.poison import ActivationDefence"
   ]
  },
  {
   "cell_type": "code",
   "execution_count": null,
   "metadata": {
    "id": "LSXhpd_rCLzX"
   },
   "outputs": [],
   "source": [
    "max_val = np.max(x_raw)\n",
    "def add_modification(x):\n",
    "        if BACKDOOR_TYPE == 'pattern':\n",
    "            return add_pattern_bd(x, pixel_value=max_val)\n",
    "        elif BACKDOOR_TYPE == 'pixel':\n",
    "            return add_single_bd(x, pixel_value=max_val) \n",
    "        elif BACKDOOR_TYPE == 'image':\n",
    "            return insert_image(x, backdoor_path='../utils/data/backdoors/alert.png', size=(10,10))\n",
    "        else:\n",
    "            raise(\"Unknown backdoor type\")"
   ]
  },
  {
   "cell_type": "code",
   "execution_count": null,
   "metadata": {
    "id": "Nhn-iLkbCLw1"
   },
   "outputs": [],
   "source": [
    "def poison_dataset(x_clean, y_clean, percent_poison, poison_func):\n",
    "    print(x_clean.shape,\"x_clean shape\")\n",
    "    x_poison = np.copy(x_clean)\n",
    "    y_poison = np.copy(y_clean)\n",
    "    is_poison = np.zeros(np.shape(y_poison))\n",
    "    \n",
    "    sources=np.arange(10) # 0, 1, 2, 3, ...\n",
    "    targets=(np.arange(10) + 1) % 10 # 1, 2, 3, 4, ...\n",
    "    for i, (src, tgt) in enumerate(zip(sources, targets)):\n",
    "        n_points_in_tgt = np.size(np.where(y_clean == tgt))\n",
    "        num_poison = round((percent_poison * n_points_in_tgt) / (1 - percent_poison))\n",
    "        src_imgs = x_clean[y_clean == src]\n",
    "        print(src_imgs.shape,\"src images shape\")\n",
    "\n",
    "        n_points_in_src = np.shape(src_imgs)[0]\n",
    "        indices_to_be_poisoned = np.random.choice(n_points_in_src, num_poison)\n",
    "\n",
    "        imgs_to_be_poisoned = np.copy(src_imgs[indices_to_be_poisoned])\n",
    "        backdoor_attack = PoisoningAttackBackdoor(poison_func)\n",
    "        imgs_to_be_poisoned, poison_labels = backdoor_attack.poison(imgs_to_be_poisoned, y=np.ones(num_poison) * tgt)\n",
    "        print(imgs_to_be_poisoned.shape,\"imgs to be poisoned shape\")\n",
    "        x_poison = np.append(x_poison, imgs_to_be_poisoned, axis=0)\n",
    "        y_poison = np.append(y_poison, poison_labels, axis=0)\n",
    "        is_poison = np.append(is_poison, np.ones(num_poison))\n",
    "\n",
    "    is_poison = is_poison != 0\n",
    "    print(x_poison.shape,\"x poison shape\")\n",
    "    return is_poison, x_poison, y_poison"
   ]
  },
  {
   "cell_type": "code",
   "execution_count": null,
   "metadata": {
    "colab": {
     "base_uri": "https://localhost:8080/"
    },
    "executionInfo": {
     "elapsed": 4747,
     "status": "ok",
     "timestamp": 1663177884708,
     "user": {
      "displayName": "Mayank Kumar",
      "userId": "17758680965516036067"
     },
     "user_tz": -330
    },
    "id": "1Il3AhCVCLuB",
    "outputId": "06bca020-5b9d-4ab4-9135-fcd101299690"
   },
   "outputs": [],
   "source": [
    "percent_poison = .1\n",
    "(is_poison_train, x_poisoned_raw, y_poisoned_raw) = poison_dataset(x_raw, y_raw, percent_poison, add_modification)\n",
    "x_train, y_train = preprocess(x_poisoned_raw, y_poisoned_raw)\n",
    "# Add channel axis:\n",
    "#x_train = np.expand_dims(x_train, axis=3)\n",
    "\n",
    "# Poison test data\n",
    "(is_poison_test, x_poisoned_raw_test, y_poisoned_raw_test) = poison_dataset(x_raw_test, y_raw_test, percent_poison, add_modification)\n",
    "x_test, y_test = preprocess(x_poisoned_raw_test, y_poisoned_raw_test)\n",
    "# Add channel axis:\n",
    "#x_test = np.expand_dims(x_test, axis=3)\n",
    "\n",
    "# Shuffle training data\n",
    "n_train = np.shape(y_train)[0]\n",
    "shuffled_indices = np.arange(n_train)\n",
    "np.random.shuffle(shuffled_indices)\n",
    "x_train = x_train[shuffled_indices]\n",
    "y_train = y_train[shuffled_indices]"
   ]
  },
  {
   "cell_type": "code",
   "execution_count": null,
   "metadata": {
    "colab": {
     "base_uri": "https://localhost:8080/",
     "height": 266
    },
    "executionInfo": {
     "elapsed": 3,
     "status": "ok",
     "timestamp": 1663178068699,
     "user": {
      "displayName": "Mayank Kumar",
      "userId": "17758680965516036067"
     },
     "user_tz": -330
    },
    "id": "dt_TNYORCLrV",
    "outputId": "83af0999-c131-489f-eb70-31a9c87517ff"
   },
   "outputs": [],
   "source": [
    "poison_x_test = x_test[is_poison_test]\n",
    "poison_y_test = y_test[is_poison_test]\n",
    "\n",
    "c = 9 # class to display\n",
    "i = 0 # image of the class to display\n",
    "\n",
    "c_idx = np.where(np.argmax(poison_y_test,1) == c)[0][i] # index of the image in poison arrays\n",
    "#c_idx=25\n",
    "plt.imshow(poison_x_test[c_idx].squeeze())\n",
    "plt.show()\n"
   ]
  },
  {
   "cell_type": "code",
   "execution_count": null,
   "metadata": {
    "id": "9RIHtsC_CKpD"
   },
   "outputs": [],
   "source": []
  }
 ],
 "metadata": {
  "accelerator": "GPU",
  "colab": {
   "provenance": []
  },
  "kernelspec": {
   "display_name": "Python 3",
   "language": "python",
   "name": "python3"
  },
  "language_info": {
   "codemirror_mode": {
    "name": "ipython",
    "version": 3
   },
   "file_extension": ".py",
   "mimetype": "text/x-python",
   "name": "python",
   "nbconvert_exporter": "python",
   "pygments_lexer": "ipython3",
   "version": "3.7.15"
  }
 },
 "nbformat": 4,
 "nbformat_minor": 1
}
