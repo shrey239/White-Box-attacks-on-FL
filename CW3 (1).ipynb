{
  "cells": [
    {
      "cell_type": "code",
      "execution_count": 1,
      "metadata": {
        "id": "La_TQ1rAf3_Z"
      },
      "outputs": [],
      "source": [
        "############-----CW different app.2------###########"
      ]
    },
    {
      "cell_type": "code",
      "execution_count": 2,
      "metadata": {
        "id": "dS3x9nvdMwdt"
      },
      "outputs": [],
      "source": [
        "import torch\n",
        "import torchvision\n",
        "import numpy as np\n",
        "import matplotlib.pyplot as plt\n",
        "from tqdm import tqdm\n",
        "import torch.nn as nn\n",
        "from torchvision import models"
      ]
    },
    {
      "cell_type": "code",
      "execution_count": 3,
      "metadata": {
        "colab": {
          "base_uri": "https://localhost:8080/",
          "height": 103,
          "referenced_widgets": [
            "1a07195fb893403382d435c3ac1d7e26",
            "96efe4843d124b2cb7072c423a2ee1ee",
            "bdbc04695a984e04a63ee5e9f555927a",
            "962bc610ee1e47eeaf28d1ad87285480",
            "325299bf01f54d3989bec02eb3274572",
            "9afdb7d0d6ed4de2b40330b12b53bda2",
            "1995964179bd42219d9ef7703974d295",
            "6fdc589ee7224af6818b41e475a74e3d",
            "bab5aa6ad1ef4f9cb533272485d57318",
            "043ec4c691444067909cb993e0bac4c1",
            "0ebf6c272f2f422fa755587dd7e240b4"
          ]
        },
        "id": "0wB1X010MwgS",
        "outputId": "cb04c913-8784-484c-da05-d21448d0745e"
      },
      "outputs": [
        {
          "output_type": "stream",
          "name": "stdout",
          "text": [
            "Downloading https://www.cs.toronto.edu/~kriz/cifar-10-python.tar.gz to ./data/cifar-10-python.tar.gz\n"
          ]
        },
        {
          "output_type": "display_data",
          "data": {
            "text/plain": [
              "  0%|          | 0/170498071 [00:00<?, ?it/s]"
            ],
            "application/vnd.jupyter.widget-view+json": {
              "version_major": 2,
              "version_minor": 0,
              "model_id": "1a07195fb893403382d435c3ac1d7e26"
            }
          },
          "metadata": {}
        },
        {
          "output_type": "stream",
          "name": "stdout",
          "text": [
            "Extracting ./data/cifar-10-python.tar.gz to ./data\n",
            "Files already downloaded and verified\n"
          ]
        }
      ],
      "source": [
        "# Load the CIFAR-10 data\n",
        "transform = torchvision.transforms.Compose([\n",
        "    torchvision.transforms.ToTensor(),\n",
        "    torchvision.transforms.Normalize((0.5, 0.5, 0.5), (0.5, 0.5, 0.5)),\n",
        "])\n",
        "trainset = torchvision.datasets.CIFAR10(root='./data', train=True, download=True, transform=transform)\n",
        "trainloader = torch.utils.data.DataLoader(trainset, batch_size=128, shuffle=True, num_workers=2)\n",
        "testset = torchvision.datasets.CIFAR10(root='./data', train=False, download=True, transform=transform)\n",
        "testloader = torch.utils.data.DataLoader(testset, batch_size=128, shuffle=False, num_workers=2)"
      ]
    },
    {
      "cell_type": "code",
      "execution_count": 4,
      "metadata": {
        "colab": {
          "base_uri": "https://localhost:8080/"
        },
        "id": "l92i8PerMwiQ",
        "outputId": "dee88daf-91ba-4bf1-ba84-a3abff1a690a"
      },
      "outputs": [
        {
          "output_type": "execute_result",
          "data": {
            "text/plain": [
              "Net(\n",
              "  (conv1): Conv2d(3, 6, kernel_size=(5, 5), stride=(1, 1))\n",
              "  (pool): MaxPool2d(kernel_size=2, stride=2, padding=0, dilation=1, ceil_mode=False)\n",
              "  (conv2): Conv2d(6, 16, kernel_size=(5, 5), stride=(1, 1))\n",
              "  (fc1): Linear(in_features=400, out_features=120, bias=True)\n",
              "  (fc2): Linear(in_features=120, out_features=84, bias=True)\n",
              "  (fc3): Linear(in_features=84, out_features=10, bias=True)\n",
              ")"
            ]
          },
          "metadata": {},
          "execution_count": 4
        }
      ],
      "source": [
        "# Define the model architecture\n",
        "# class Net(nn.Module):\n",
        "#     def __init__(self):\n",
        "#         super(Net, self).__init__()\n",
        "#         self.conv1 = nn.Conv2d(3, 6, 5)\n",
        "#         self.pool = nn.MaxPool2d(2, 2)\n",
        "#         self.conv2 = nn.Conv2d(6, 16, 5)\n",
        "#         self.fc1 = nn.Linear(16 * 5 * 5, 120)\n",
        "#         self.fc2 = nn.Linear(120, 84)\n",
        "#         self.fc3 = nn.Linear(84, 10)\n",
        "\n",
        "#     def forward(self, x):\n",
        "#         x = self.pool(nn.functional.relu(self.conv1(x)))\n",
        "#         x = self.pool(nn.functional.relu(self.conv2(x)))\n",
        "#         x = x.view(-1, 16 * 5 * 5)\n",
        "#         x = nn.functional.relu(self.fc1(x))\n",
        "#         x = nn.functional.relu(self.fc2(x))\n",
        "#         x = self.fc3(x)\n",
        "#         return x\n",
        "\n",
        "\n",
        "class ResNet18(nn.Module):\n",
        "    def __init__(self):\n",
        "        super(ResNet18, self).__init__()\n",
        "        self.resnet = models.resnet18(pretrained=True)\n",
        "        self.fc = nn.Linear(1000, 10)\n",
        "\n",
        "    def forward(self, x):\n",
        "        x = self.resnet(x)\n",
        "        x = self.fc(x)\n",
        "        return x\n",
        "\n",
        "\n",
        "# class DenseNet(nn.Module):\n",
        "#     def __init__(self):\n",
        "#         super(DenseNet, self).__init__()\n",
        "#         self.densenet = models.densenet161(pretrained=True)\n",
        "#         self.fc = nn.Linear(1000, 10)\n",
        "\n",
        "#     def forward(self, x):\n",
        "#         x = self.densenet(x)\n",
        "#         x = self.fc(x)\n",
        "#         return x\n",
        "\n",
        "\n",
        "# model = torchvision.models.resnet18(pretrained=True)\n",
        "# model.eval()\n",
        "model=ResNet18()\n",
        "model.eval()"
      ]
    },
    {
      "cell_type": "code",
      "execution_count": 5,
      "metadata": {
        "id": "kgUbgnhkMwkq"
      },
      "outputs": [],
      "source": [
        "# Define the targeted CW attack\n",
        "def targeted_cw_attack(model, images, labels, target_label, max_iterations=1000, learning_rate=0.01):\n",
        "    # Initialize the perturbation\n",
        "    delta = torch.zeros_like(images).cuda().requires_grad_()\n",
        "    # Define the loss function\n",
        "    criterion = torch.nn.CrossEntropyLoss()\n",
        "    # Define the target label tensor\n",
        "    target = torch.tensor([target_label] * len(labels)).cuda()\n",
        "    # Loop over the maximum number of iterations\n",
        "    for i in range(max_iterations):\n",
        "        # Zero the gradients\n",
        "        model.zero_grad()\n",
        "        # Forward pass\n",
        "        output = model(images + delta)\n",
        "        # Calculate the loss\n",
        "        loss = -torch.mean(torch.sum(torch.nn.functional.one_hot(target, num_classes=10) * output, dim=1))\n",
        "        # Calculate the gradients\n",
        "        loss.backward()\n",
        "        # Update the perturbation\n",
        "        delta.data = delta + learning_rate * delta.grad.detach().sign()\n",
        "        delta.data = torch.clamp(delta, min=-0.5, max=0.5)\n",
        "        delta.data = torch.min(torch.max(delta.data, images - 1), images + 1) - images\n",
        "    # Return the adversarial images\n",
        "    return (images + delta).detach()"
      ]
    },
    {
      "cell_type": "code",
      "execution_count": 6,
      "metadata": {
        "id": "rCsli8JCMwmy"
      },
      "outputs": [],
      "source": [
        "# Define the hyperparameters\n",
        "num_clients = 10\n",
        "num_epochs = 10\n",
        "\n",
        "# Split the training data into clients\n",
        "client_data = torch.utils.data.random_split(trainset, [len(trainset) // num_clients] * num_clients)\n",
        "optimizer = torch.optim.SGD(model.parameters(), lr=0.001, momentum=0.9)\n"
      ]
    },
    {
      "cell_type": "code",
      "execution_count": null,
      "metadata": {
        "colab": {
          "base_uri": "https://localhost:8080/"
        },
        "id": "Ux02v0CLMwpJ",
        "outputId": "1a49fe58-8c18-48f9-c603-44aff894ab2d"
      },
      "outputs": [
        {
          "output_type": "stream",
          "name": "stdout",
          "text": [
            "Epoch: 1\n",
            "Epoch: 1, Loss: 0.0724, Test Accuracy: 10.02 %\n",
            "Epoch: 2\n",
            "Epoch: 2, Loss: 0.0724, Test Accuracy: 10.02 %\n",
            "Epoch: 3\n",
            "Epoch: 3, Loss: 0.0724, Test Accuracy: 10.02 %\n",
            "Epoch: 4\n"
          ]
        }
      ],
      "source": [
        "# Train the model using federated learning\n",
        "for epoch in range(num_epochs):\n",
        "    print(\"Epoch:\", epoch+1)\n",
        "    # Initialize the list of gradients and total loss\n",
        "    gradients = [None] * num_clients\n",
        "    total_loss = 0\n",
        "    # Loop over the clients\n",
        "    for i in range(num_clients):\n",
        "        # Initialize the data loader for this client\n",
        "        trainloader = torch.utils.data.DataLoader(client_data[i], batch_size=32, shuffle=True, num_workers=2)\n",
        "        # Initialize the gradients for this client\n",
        "        gradients[i] = []\n",
        "        # Loop over the data for this client\n",
        "        for j, (images, labels) in enumerate(trainloader):\n",
        "            # Generate targeted adversarial examples for this batch of images\n",
        "            adversarial_images = targeted_cw_attack(model, images.cuda(), labels.cuda(), target_label=0)\n",
        "            # Forward pass\n",
        "            output = model(adversarial_images)\n",
        "            # Calculate the loss\n",
        "            loss = torch.nn.functional.cross_entropy(output, labels.cuda())\n",
        "            # Backward pass\n",
        "            optimizer.zero_grad()\n",
        "            loss.backward()\n",
        "            gradients[i].append([param.grad.clone() for param in model.parameters()])\n",
        "            optimizer.zero_grad()\n",
        "            total_loss += loss.item()\n",
        "        # Average the gradients for this client\n",
        "        for j in range(len(gradients[i])):\n",
        "            for k, param in enumerate(model.parameters()):\n",
        "                param.grad = gradients[i][j][k] / len(gradients[i])\n",
        "    # Combine the gradients from all clients and update the model\n",
        "    optimizer.step()\n",
        "    # Print the average loss and accuracy for this epoch\n",
        "    avg_loss = total_loss / len(trainset)\n",
        "    correct = 0\n",
        "    total = 0\n",
        "    with torch.no_grad():\n",
        "        for images, labels in testloader:\n",
        "            output = model(images.cuda())\n",
        "            _, predicted = torch.max(output, 1)\n",
        "            total += labels.size(0)\n",
        "            correct += (predicted == labels.cuda()).sum().item()\n",
        "        print('Epoch: %d, Loss: %.4f, Test Accuracy: %.2f %%' % (epoch + 1, avg_loss, 100 * correct / total))\n"
      ]
    },
    {
      "cell_type": "code",
      "source": [],
      "metadata": {
        "id": "E8C3jLr3dZuU"
      },
      "execution_count": null,
      "outputs": []
    },
    {
      "cell_type": "code",
      "source": [],
      "metadata": {
        "id": "kebVy6endZwZ"
      },
      "execution_count": null,
      "outputs": []
    },
    {
      "cell_type": "code",
      "source": [],
      "metadata": {
        "id": "hcvl_Sf_dZye"
      },
      "execution_count": null,
      "outputs": []
    },
    {
      "cell_type": "code",
      "source": [],
      "metadata": {
        "id": "W-nJMtjFdZ0j"
      },
      "execution_count": null,
      "outputs": []
    }
  ],
  "metadata": {
    "accelerator": "GPU",
    "colab": {
      "provenance": []
    },
    "gpuClass": "standard",
    "kernelspec": {
      "display_name": "Python 3",
      "name": "python3"
    },
    "language_info": {
      "name": "python"
    },
    "widgets": {
      "application/vnd.jupyter.widget-state+json": {
        "1a07195fb893403382d435c3ac1d7e26": {
          "model_module": "@jupyter-widgets/controls",
          "model_name": "HBoxModel",
          "model_module_version": "1.5.0",
          "state": {
            "_dom_classes": [],
            "_model_module": "@jupyter-widgets/controls",
            "_model_module_version": "1.5.0",
            "_model_name": "HBoxModel",
            "_view_count": null,
            "_view_module": "@jupyter-widgets/controls",
            "_view_module_version": "1.5.0",
            "_view_name": "HBoxView",
            "box_style": "",
            "children": [
              "IPY_MODEL_96efe4843d124b2cb7072c423a2ee1ee",
              "IPY_MODEL_bdbc04695a984e04a63ee5e9f555927a",
              "IPY_MODEL_962bc610ee1e47eeaf28d1ad87285480"
            ],
            "layout": "IPY_MODEL_325299bf01f54d3989bec02eb3274572"
          }
        },
        "96efe4843d124b2cb7072c423a2ee1ee": {
          "model_module": "@jupyter-widgets/controls",
          "model_name": "HTMLModel",
          "model_module_version": "1.5.0",
          "state": {
            "_dom_classes": [],
            "_model_module": "@jupyter-widgets/controls",
            "_model_module_version": "1.5.0",
            "_model_name": "HTMLModel",
            "_view_count": null,
            "_view_module": "@jupyter-widgets/controls",
            "_view_module_version": "1.5.0",
            "_view_name": "HTMLView",
            "description": "",
            "description_tooltip": null,
            "layout": "IPY_MODEL_9afdb7d0d6ed4de2b40330b12b53bda2",
            "placeholder": "​",
            "style": "IPY_MODEL_1995964179bd42219d9ef7703974d295",
            "value": "100%"
          }
        },
        "bdbc04695a984e04a63ee5e9f555927a": {
          "model_module": "@jupyter-widgets/controls",
          "model_name": "FloatProgressModel",
          "model_module_version": "1.5.0",
          "state": {
            "_dom_classes": [],
            "_model_module": "@jupyter-widgets/controls",
            "_model_module_version": "1.5.0",
            "_model_name": "FloatProgressModel",
            "_view_count": null,
            "_view_module": "@jupyter-widgets/controls",
            "_view_module_version": "1.5.0",
            "_view_name": "ProgressView",
            "bar_style": "success",
            "description": "",
            "description_tooltip": null,
            "layout": "IPY_MODEL_6fdc589ee7224af6818b41e475a74e3d",
            "max": 170498071,
            "min": 0,
            "orientation": "horizontal",
            "style": "IPY_MODEL_bab5aa6ad1ef4f9cb533272485d57318",
            "value": 170498071
          }
        },
        "962bc610ee1e47eeaf28d1ad87285480": {
          "model_module": "@jupyter-widgets/controls",
          "model_name": "HTMLModel",
          "model_module_version": "1.5.0",
          "state": {
            "_dom_classes": [],
            "_model_module": "@jupyter-widgets/controls",
            "_model_module_version": "1.5.0",
            "_model_name": "HTMLModel",
            "_view_count": null,
            "_view_module": "@jupyter-widgets/controls",
            "_view_module_version": "1.5.0",
            "_view_name": "HTMLView",
            "description": "",
            "description_tooltip": null,
            "layout": "IPY_MODEL_043ec4c691444067909cb993e0bac4c1",
            "placeholder": "​",
            "style": "IPY_MODEL_0ebf6c272f2f422fa755587dd7e240b4",
            "value": " 170498071/170498071 [00:01&lt;00:00, 93878834.40it/s]"
          }
        },
        "325299bf01f54d3989bec02eb3274572": {
          "model_module": "@jupyter-widgets/base",
          "model_name": "LayoutModel",
          "model_module_version": "1.2.0",
          "state": {
            "_model_module": "@jupyter-widgets/base",
            "_model_module_version": "1.2.0",
            "_model_name": "LayoutModel",
            "_view_count": null,
            "_view_module": "@jupyter-widgets/base",
            "_view_module_version": "1.2.0",
            "_view_name": "LayoutView",
            "align_content": null,
            "align_items": null,
            "align_self": null,
            "border": null,
            "bottom": null,
            "display": null,
            "flex": null,
            "flex_flow": null,
            "grid_area": null,
            "grid_auto_columns": null,
            "grid_auto_flow": null,
            "grid_auto_rows": null,
            "grid_column": null,
            "grid_gap": null,
            "grid_row": null,
            "grid_template_areas": null,
            "grid_template_columns": null,
            "grid_template_rows": null,
            "height": null,
            "justify_content": null,
            "justify_items": null,
            "left": null,
            "margin": null,
            "max_height": null,
            "max_width": null,
            "min_height": null,
            "min_width": null,
            "object_fit": null,
            "object_position": null,
            "order": null,
            "overflow": null,
            "overflow_x": null,
            "overflow_y": null,
            "padding": null,
            "right": null,
            "top": null,
            "visibility": null,
            "width": null
          }
        },
        "9afdb7d0d6ed4de2b40330b12b53bda2": {
          "model_module": "@jupyter-widgets/base",
          "model_name": "LayoutModel",
          "model_module_version": "1.2.0",
          "state": {
            "_model_module": "@jupyter-widgets/base",
            "_model_module_version": "1.2.0",
            "_model_name": "LayoutModel",
            "_view_count": null,
            "_view_module": "@jupyter-widgets/base",
            "_view_module_version": "1.2.0",
            "_view_name": "LayoutView",
            "align_content": null,
            "align_items": null,
            "align_self": null,
            "border": null,
            "bottom": null,
            "display": null,
            "flex": null,
            "flex_flow": null,
            "grid_area": null,
            "grid_auto_columns": null,
            "grid_auto_flow": null,
            "grid_auto_rows": null,
            "grid_column": null,
            "grid_gap": null,
            "grid_row": null,
            "grid_template_areas": null,
            "grid_template_columns": null,
            "grid_template_rows": null,
            "height": null,
            "justify_content": null,
            "justify_items": null,
            "left": null,
            "margin": null,
            "max_height": null,
            "max_width": null,
            "min_height": null,
            "min_width": null,
            "object_fit": null,
            "object_position": null,
            "order": null,
            "overflow": null,
            "overflow_x": null,
            "overflow_y": null,
            "padding": null,
            "right": null,
            "top": null,
            "visibility": null,
            "width": null
          }
        },
        "1995964179bd42219d9ef7703974d295": {
          "model_module": "@jupyter-widgets/controls",
          "model_name": "DescriptionStyleModel",
          "model_module_version": "1.5.0",
          "state": {
            "_model_module": "@jupyter-widgets/controls",
            "_model_module_version": "1.5.0",
            "_model_name": "DescriptionStyleModel",
            "_view_count": null,
            "_view_module": "@jupyter-widgets/base",
            "_view_module_version": "1.2.0",
            "_view_name": "StyleView",
            "description_width": ""
          }
        },
        "6fdc589ee7224af6818b41e475a74e3d": {
          "model_module": "@jupyter-widgets/base",
          "model_name": "LayoutModel",
          "model_module_version": "1.2.0",
          "state": {
            "_model_module": "@jupyter-widgets/base",
            "_model_module_version": "1.2.0",
            "_model_name": "LayoutModel",
            "_view_count": null,
            "_view_module": "@jupyter-widgets/base",
            "_view_module_version": "1.2.0",
            "_view_name": "LayoutView",
            "align_content": null,
            "align_items": null,
            "align_self": null,
            "border": null,
            "bottom": null,
            "display": null,
            "flex": null,
            "flex_flow": null,
            "grid_area": null,
            "grid_auto_columns": null,
            "grid_auto_flow": null,
            "grid_auto_rows": null,
            "grid_column": null,
            "grid_gap": null,
            "grid_row": null,
            "grid_template_areas": null,
            "grid_template_columns": null,
            "grid_template_rows": null,
            "height": null,
            "justify_content": null,
            "justify_items": null,
            "left": null,
            "margin": null,
            "max_height": null,
            "max_width": null,
            "min_height": null,
            "min_width": null,
            "object_fit": null,
            "object_position": null,
            "order": null,
            "overflow": null,
            "overflow_x": null,
            "overflow_y": null,
            "padding": null,
            "right": null,
            "top": null,
            "visibility": null,
            "width": null
          }
        },
        "bab5aa6ad1ef4f9cb533272485d57318": {
          "model_module": "@jupyter-widgets/controls",
          "model_name": "ProgressStyleModel",
          "model_module_version": "1.5.0",
          "state": {
            "_model_module": "@jupyter-widgets/controls",
            "_model_module_version": "1.5.0",
            "_model_name": "ProgressStyleModel",
            "_view_count": null,
            "_view_module": "@jupyter-widgets/base",
            "_view_module_version": "1.2.0",
            "_view_name": "StyleView",
            "bar_color": null,
            "description_width": ""
          }
        },
        "043ec4c691444067909cb993e0bac4c1": {
          "model_module": "@jupyter-widgets/base",
          "model_name": "LayoutModel",
          "model_module_version": "1.2.0",
          "state": {
            "_model_module": "@jupyter-widgets/base",
            "_model_module_version": "1.2.0",
            "_model_name": "LayoutModel",
            "_view_count": null,
            "_view_module": "@jupyter-widgets/base",
            "_view_module_version": "1.2.0",
            "_view_name": "LayoutView",
            "align_content": null,
            "align_items": null,
            "align_self": null,
            "border": null,
            "bottom": null,
            "display": null,
            "flex": null,
            "flex_flow": null,
            "grid_area": null,
            "grid_auto_columns": null,
            "grid_auto_flow": null,
            "grid_auto_rows": null,
            "grid_column": null,
            "grid_gap": null,
            "grid_row": null,
            "grid_template_areas": null,
            "grid_template_columns": null,
            "grid_template_rows": null,
            "height": null,
            "justify_content": null,
            "justify_items": null,
            "left": null,
            "margin": null,
            "max_height": null,
            "max_width": null,
            "min_height": null,
            "min_width": null,
            "object_fit": null,
            "object_position": null,
            "order": null,
            "overflow": null,
            "overflow_x": null,
            "overflow_y": null,
            "padding": null,
            "right": null,
            "top": null,
            "visibility": null,
            "width": null
          }
        },
        "0ebf6c272f2f422fa755587dd7e240b4": {
          "model_module": "@jupyter-widgets/controls",
          "model_name": "DescriptionStyleModel",
          "model_module_version": "1.5.0",
          "state": {
            "_model_module": "@jupyter-widgets/controls",
            "_model_module_version": "1.5.0",
            "_model_name": "DescriptionStyleModel",
            "_view_count": null,
            "_view_module": "@jupyter-widgets/base",
            "_view_module_version": "1.2.0",
            "_view_name": "StyleView",
            "description_width": ""
          }
        }
      }
    }
  },
  "nbformat": 4,
  "nbformat_minor": 0
}