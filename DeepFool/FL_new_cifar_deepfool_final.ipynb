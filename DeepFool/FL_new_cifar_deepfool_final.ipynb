{
 "cells": [
  {
   "cell_type": "code",
   "execution_count": 288,
   "metadata": {
    "id": "YLpANHHn1Jql"
   },
   "outputs": [],
   "source": [
    "import os\n",
    "import h5py\n",
    "\n",
    "import socket\n",
    "import struct\n",
    "import pickle\n",
    "\n",
    "import torch\n",
    "import torch.nn as nn\n",
    "import torch.nn.functional as F\n",
    "import torchvision\n",
    "import torchvision.transforms as transforms\n",
    "import torch.optim as optim\n",
    "\n",
    "from torch.utils.data import Dataset, DataLoader\n",
    "\n",
    "import time\n",
    "\n",
    "from tqdm import tqdm\n",
    "\n",
    "\n",
    "\n",
    "import numpy as np\n",
    "import copy"
   ]
  },
  {
   "cell_type": "code",
   "execution_count": 289,
   "metadata": {
    "id": "hIMtEMjXo02V"
   },
   "outputs": [],
   "source": [
    "import torch\n",
    "import torchvision\n",
    "import numpy as np\n",
    "import matplotlib\n",
    "import matplotlib.pyplot as plt\n",
    "import torch.nn as nn\n",
    "import torch.nn.functional as F\n",
    "from torchvision.datasets import MNIST\n",
    "from torchvision.transforms import ToTensor\n",
    "from torchvision.utils import make_grid\n",
    "from torch.utils.data.dataloader import DataLoader\n",
    "from torch.utils.data import random_split\n",
    "from torch.utils.data.sampler import SubsetRandomSampler\n",
    "%matplotlib inline\n",
    "\n",
    "# Use a white background for matplotlib figures\n",
    "matplotlib.rcParams['figure.facecolor'] = '#ffffff'"
   ]
  },
  {
   "cell_type": "markdown",
   "metadata": {
    "id": "WWB5l3Xn15fa"
   },
   "source": [
    "client side\n"
   ]
  },
  {
   "cell_type": "code",
   "execution_count": null,
   "metadata": {
    "id": "8aXD0rMr4n45"
   },
   "outputs": [],
   "source": []
  },
  {
   "cell_type": "code",
   "execution_count": 290,
   "metadata": {
    "id": "FMbiOm-q4nub"
   },
   "outputs": [],
   "source": [
    "# keep the path same, just create a folder named cifar in your drive\n",
    "root_path = './cifar'"
   ]
  },
  {
   "cell_type": "code",
   "execution_count": 291,
   "metadata": {
    "colab": {
     "base_uri": "https://localhost:8080/"
    },
    "id": "fmfh2cRf17IH",
    "outputId": "50845fd0-7ca3-4945-afe7-20bba5d3d122"
   },
   "outputs": [
    {
     "name": "stdout",
     "output_type": "stream",
     "text": [
      "cuda:0\n"
     ]
    }
   ],
   "source": [
    "\n",
    "device = torch.device(\"cuda:0\" if torch.cuda.is_available() else \"cpu\")\n",
    "#device = \"cpu\"\n",
    "print(device)"
   ]
  },
  {
   "cell_type": "code",
   "execution_count": 292,
   "metadata": {
    "id": "9cBXF1ka4d4c"
   },
   "outputs": [],
   "source": [
    "\n",
    "transform = transforms.Compose([transforms.ToTensor(), transforms.Normalize((0.4914, 0.4822, 0.4465), (0.2470, 0.2435, 0.2616))])"
   ]
  },
  {
   "cell_type": "code",
   "execution_count": null,
   "metadata": {
    "id": "9YmBLeHJ4men"
   },
   "outputs": [],
   "source": []
  },
  {
   "cell_type": "code",
   "execution_count": 293,
   "metadata": {
    "colab": {
     "base_uri": "https://localhost:8080/"
    },
    "id": "f3L5kQ-017F7",
    "outputId": "1393bddc-521f-498b-dbad-4b4106241306"
   },
   "outputs": [
    {
     "name": "stdout",
     "output_type": "stream",
     "text": [
      "Files already downloaded and verified\n"
     ]
    }
   ],
   "source": [
    "\n",
    "trainset1 = torchvision.datasets.CIFAR10(root=root_path, download=True, transform=transform)\n"
   ]
  },
  {
   "cell_type": "code",
   "execution_count": 294,
   "metadata": {
    "colab": {
     "base_uri": "https://localhost:8080/"
    },
    "id": "XEnQtcZX17ET",
    "outputId": "7d25bff9-c39d-437c-a4bb-7edff9ce6c41"
   },
   "outputs": [
    {
     "data": {
      "text/plain": [
       "50000"
      ]
     },
     "execution_count": 294,
     "metadata": {},
     "output_type": "execute_result"
    }
   ],
   "source": [
    "len(trainset1)"
   ]
  },
  {
   "cell_type": "code",
   "execution_count": 295,
   "metadata": {
    "id": "bgwEpG427LNG"
   },
   "outputs": [],
   "source": [
    "classes = ('plane', 'car', 'bird', 'cat', 'deer', 'dog', 'frog', 'horse', 'ship', 'truck')\n"
   ]
  },
  {
   "cell_type": "code",
   "execution_count": 296,
   "metadata": {
    "id": "SZDEZ5K117Dd"
   },
   "outputs": [],
   "source": [
    "import matplotlib.pyplot as plt\n",
    "\n",
    "\n",
    "def show_image(img, label):\n",
    "    #print(\"Label=\", trainset1.classes[label], \"(\" + str(label)  + \")\")\n",
    "    plt.imshow(img.permute(1,2,0))"
   ]
  },
  {
   "cell_type": "code",
   "execution_count": 297,
   "metadata": {
    "colab": {
     "base_uri": "https://localhost:8080/",
     "height": 447
    },
    "id": "QE1unzpq7oKi",
    "outputId": "2fe39377-0d84-4519-cb63-8dd1a8006e85"
   },
   "outputs": [
    {
     "name": "stderr",
     "output_type": "stream",
     "text": [
      "Clipping input data to the valid range for imshow with RGB data ([0..1] for floats or [0..255] for integers).\n"
     ]
    },
    {
     "data": {
      "image/png": "[encoded data removed]",
      "text/plain": [
       "<Figure size 432x288 with 1 Axes>"
      ]
     },
     "metadata": {},
     "output_type": "display_data"
    }
   ],
   "source": [
    "image,label = trainset1[0]\n",
    "show_image(image, label)"
   ]
  },
  {
   "cell_type": "code",
   "execution_count": 298,
   "metadata": {
    "colab": {
     "base_uri": "https://localhost:8080/",
     "height": 447
    },
    "id": "VcTlVjCU69ps",
    "outputId": "a32a19a7-578d-467c-ce58-3893a16b0549"
   },
   "outputs": [
    {
     "name": "stderr",
     "output_type": "stream",
     "text": [
      "Clipping input data to the valid range for imshow with RGB data ([0..1] for floats or [0..255] for integers).\n"
     ]
    },
    {
     "data": {
      "image/png": "[encoded data removed]",
      "text/plain": [
       "<Figure size 432x288 with 1 Axes>"
      ]
     },
     "metadata": {},
     "output_type": "display_data"
    }
   ],
   "source": [
    "image,label = trainset1[1]\n",
    "show_image(image, label)"
   ]
  },
  {
   "cell_type": "code",
   "execution_count": 299,
   "metadata": {
    "colab": {
     "base_uri": "https://localhost:8080/",
     "height": 447
    },
    "id": "LW_IsNJa7RaO",
    "outputId": "5ef43879-fa4f-48d7-acbd-ddfb38d75258"
   },
   "outputs": [
    {
     "name": "stderr",
     "output_type": "stream",
     "text": [
      "Clipping input data to the valid range for imshow with RGB data ([0..1] for floats or [0..255] for integers).\n"
     ]
    },
    {
     "data": {
      "image/png": "[encoded data removed]",
      "text/plain": [
       "<Figure size 432x288 with 1 Axes>"
      ]
     },
     "metadata": {},
     "output_type": "display_data"
    }
   ],
   "source": [
    "image,label = trainset1[2]\n",
    "show_image(image, label)"
   ]
  },
  {
   "cell_type": "code",
   "execution_count": 300,
   "metadata": {
    "colab": {
     "base_uri": "https://localhost:8080/",
     "height": 447
    },
    "id": "gu0ici4j7guZ",
    "outputId": "e2ed7b5f-52c7-4b28-9201-a47edae251ff"
   },
   "outputs": [
    {
     "name": "stderr",
     "output_type": "stream",
     "text": [
      "Clipping input data to the valid range for imshow with RGB data ([0..1] for floats or [0..255] for integers).\n"
     ]
    },
    {
     "data": {
      "image/png": "[encoded data removed]",
      "text/plain": [
       "<Figure size 432x288 with 1 Axes>"
      ]
     },
     "metadata": {},
     "output_type": "display_data"
    }
   ],
   "source": [
    "image,label = trainset1[2]\n",
    "show_image(image, label)"
   ]
  },
  {
   "cell_type": "code",
   "execution_count": 301,
   "metadata": {
    "colab": {
     "base_uri": "https://localhost:8080/",
     "height": 447
    },
    "id": "kgCWBhLo7sb2",
    "outputId": "268137cd-d53b-4bac-b982-3f6c550928c3"
   },
   "outputs": [
    {
     "name": "stderr",
     "output_type": "stream",
     "text": [
      "Clipping input data to the valid range for imshow with RGB data ([0..1] for floats or [0..255] for integers).\n"
     ]
    },
    {
     "data": {
      "image/png": "[encoded data removed]",
      "text/plain": [
       "<Figure size 432x288 with 1 Axes>"
      ]
     },
     "metadata": {},
     "output_type": "display_data"
    }
   ],
   "source": [
    "image,label = trainset1[3]\n",
    "show_image(image, label)"
   ]
  },
  {
   "cell_type": "code",
   "execution_count": 302,
   "metadata": {
    "colab": {
     "base_uri": "https://localhost:8080/",
     "height": 447
    },
    "id": "nPW2bGbV7sZR",
    "outputId": "69e7c595-dc7e-4b4c-e877-9389f7a7c35d"
   },
   "outputs": [
    {
     "name": "stderr",
     "output_type": "stream",
     "text": [
      "Clipping input data to the valid range for imshow with RGB data ([0..1] for floats or [0..255] for integers).\n"
     ]
    },
    {
     "data": {
      "image/png": "[encoded data removed]",
      "text/plain": [
       "<Figure size 432x288 with 1 Axes>"
      ]
     },
     "metadata": {},
     "output_type": "display_data"
    }
   ],
   "source": [
    "image,label = trainset1[4]\n",
    "show_image(image, label)"
   ]
  },
  {
   "cell_type": "code",
   "execution_count": 303,
   "metadata": {
    "colab": {
     "base_uri": "https://localhost:8080/",
     "height": 447
    },
    "id": "nFwj25EN7sX8",
    "outputId": "00d0ce2b-b426-4c8d-9806-62fcbd03f792"
   },
   "outputs": [
    {
     "name": "stderr",
     "output_type": "stream",
     "text": [
      "Clipping input data to the valid range for imshow with RGB data ([0..1] for floats or [0..255] for integers).\n"
     ]
    },
    {
     "data": {
      "image/png": "[encoded data removed]",
      "text/plain": [
       "<Figure size 432x288 with 1 Axes>"
      ]
     },
     "metadata": {},
     "output_type": "display_data"
    }
   ],
   "source": [
    "image,label = trainset1[5]\n",
    "show_image(image, label)"
   ]
  },
  {
   "cell_type": "code",
   "execution_count": 304,
   "metadata": {
    "colab": {
     "base_uri": "https://localhost:8080/",
     "height": 447
    },
    "id": "nWxNBLSF7sXQ",
    "outputId": "52b27984-50dc-485c-ea52-6231925f2a31"
   },
   "outputs": [
    {
     "name": "stderr",
     "output_type": "stream",
     "text": [
      "Clipping input data to the valid range for imshow with RGB data ([0..1] for floats or [0..255] for integers).\n"
     ]
    },
    {
     "data": {
      "image/png": "[encoded data removed]",
      "text/plain": [
       "<Figure size 432x288 with 1 Axes>"
      ]
     },
     "metadata": {},
     "output_type": "display_data"
    }
   ],
   "source": [
    "image,label = trainset1[6]\n",
    "show_image(image, label)"
   ]
  },
  {
   "cell_type": "markdown",
   "metadata": {
    "id": "8FBAIJ5Y8aWy"
   },
   "source": [
    "# Define below number of users/clients"
   ]
  },
  {
   "cell_type": "code",
   "execution_count": 305,
   "metadata": {
    "id": "3VA45mly8e0l"
   },
   "outputs": [],
   "source": [
    "users = 5 # clients"
   ]
  },
  {
   "cell_type": "code",
   "execution_count": 306,
   "metadata": {
    "id": "0e0cjvJ58ymo"
   },
   "outputs": [],
   "source": [
    "trainset1_len = 50000"
   ]
  },
  {
   "cell_type": "code",
   "execution_count": 307,
   "metadata": {
    "colab": {
     "base_uri": "https://localhost:8080/"
    },
    "id": "Z84pv-4B89v_",
    "outputId": "2360e97f-d776-4002-e6c4-4ec550d1752c"
   },
   "outputs": [
    {
     "data": {
      "text/plain": [
       "array([22227, 23462, 16621, ...,  5993, 21351,  3470])"
      ]
     },
     "execution_count": 307,
     "metadata": {},
     "output_type": "execute_result"
    }
   ],
   "source": [
    "idxs = np.random.permutation(trainset1_len)\n",
    "idxs"
   ]
  },
  {
   "cell_type": "code",
   "execution_count": 308,
   "metadata": {
    "colab": {
     "base_uri": "https://localhost:8080/"
    },
    "id": "UaRzaLdI8wQn",
    "outputId": "e475ff34-3dba-4f8c-f192-22a9ca40f4fe"
   },
   "outputs": [
    {
     "data": {
      "text/plain": [
       "array([22227, 23462, 16621, ...,  5993, 21351,  3470])"
      ]
     },
     "execution_count": 308,
     "metadata": {},
     "output_type": "execute_result"
    }
   ],
   "source": [
    "train_indices = idxs\n",
    "train_indices"
   ]
  },
  {
   "cell_type": "code",
   "execution_count": 309,
   "metadata": {
    "colab": {
     "base_uri": "https://localhost:8080/"
    },
    "id": "RlQs7v7b72ef",
    "outputId": "d6c9cf43-a28b-430a-d5aa-36ab197fbee4"
   },
   "outputs": [
    {
     "name": "stdout",
     "output_type": "stream",
     "text": [
      "10000\n"
     ]
    }
   ],
   "source": [
    "indices_per_client = int (len(train_indices)/users)\n",
    "\n",
    "print(indices_per_client)"
   ]
  },
  {
   "cell_type": "markdown",
   "metadata": {
    "id": "ITj3bmDnn5Pc"
   },
   "source": [
    "# trainset2 which has non poisoned data"
   ]
  },
  {
   "cell_type": "code",
   "execution_count": 310,
   "metadata": {
    "id": "gLINNW07k0p4"
   },
   "outputs": [],
   "source": [
    "trainset2 = torchvision.datasets.CIFAR10(root=root_path, download=False, transform=transform)"
   ]
  },
  {
   "cell_type": "code",
   "execution_count": null,
   "metadata": {
    "id": "Uua558kAHGFV"
   },
   "outputs": [],
   "source": []
  },
  {
   "cell_type": "code",
   "execution_count": null,
   "metadata": {
    "id": "h0rFdoEHHGCr"
   },
   "outputs": [],
   "source": []
  },
  {
   "cell_type": "markdown",
   "metadata": {
    "id": "avU4ZCczk0gq"
   },
   "source": [
    "# TestSet "
   ]
  },
  {
   "cell_type": "code",
   "execution_count": 311,
   "metadata": {
    "colab": {
     "base_uri": "https://localhost:8080/"
    },
    "id": "l6Io5F36oG2i",
    "outputId": "48af3e18-0e7e-4c6a-8839-630a5c3e454e"
   },
   "outputs": [
    {
     "name": "stdout",
     "output_type": "stream",
     "text": [
      "Files already downloaded and verified\n"
     ]
    }
   ],
   "source": [
    "testset = torchvision.datasets.CIFAR10 (root=root_path, train=False, download=True, transform=transform)"
   ]
  },
  {
   "cell_type": "code",
   "execution_count": null,
   "metadata": {
    "id": "2O0WOpmmHGvJ"
   },
   "outputs": [],
   "source": []
  },
  {
   "cell_type": "code",
   "execution_count": null,
   "metadata": {
    "id": "KBGhigI3HGsx"
   },
   "outputs": [],
   "source": []
  },
  {
   "cell_type": "markdown",
   "metadata": {
    "id": "RFuzB_48ypDe"
   },
   "source": [
    "# doing label flipping"
   ]
  },
  {
   "cell_type": "code",
   "execution_count": 312,
   "metadata": {
    "id": "Wl_kO60Zxu1b"
   },
   "outputs": [],
   "source": [
    "\n",
    "\n",
    "# for i in range(len(trainset1)):\n",
    "#     if (trainset2.targets[i] == 6):\n",
    "#         trainset2.targets[i] = 8\n",
    "#     if (trainset2.targets[i] == 2):\n",
    "#         trainset2.targets[i] = 9"
   ]
  },
  {
   "cell_type": "code",
   "execution_count": null,
   "metadata": {
    "id": "nmdGn4kSxuzf"
   },
   "outputs": [],
   "source": []
  },
  {
   "cell_type": "code",
   "execution_count": null,
   "metadata": {
    "id": "4y_pZGecxuy1"
   },
   "outputs": [],
   "source": []
  },
  {
   "cell_type": "code",
   "execution_count": 313,
   "metadata": {
    "colab": {
     "base_uri": "https://localhost:8080/"
    },
    "id": "HMKGRmgYoG0v",
    "outputId": "84148305-e4be-44c1-a370-eebd28a411cd"
   },
   "outputs": [
    {
     "data": {
      "text/plain": [
       "10000"
      ]
     },
     "execution_count": 313,
     "metadata": {},
     "output_type": "execute_result"
    }
   ],
   "source": [
    "len(testset)"
   ]
  },
  {
   "cell_type": "code",
   "execution_count": 314,
   "metadata": {
    "colab": {
     "base_uri": "https://localhost:8080/"
    },
    "id": "9rwJ0xa3oGz7",
    "outputId": "6b4656bf-7b36-4650-99cc-9e5099437267"
   },
   "outputs": [
    {
     "data": {
      "text/plain": [
       "array([2964, 8832, 3462, ..., 7984, 6532, 3611])"
      ]
     },
     "execution_count": 314,
     "metadata": {},
     "output_type": "execute_result"
    }
   ],
   "source": [
    "idxs = np.random.permutation(10000)\n",
    "idxs"
   ]
  },
  {
   "cell_type": "code",
   "execution_count": 315,
   "metadata": {
    "colab": {
     "base_uri": "https://localhost:8080/"
    },
    "id": "tQoOgSqToiSI",
    "outputId": "1e952cb9-f21f-4c8a-9642-433a3cf71194"
   },
   "outputs": [
    {
     "data": {
      "text/plain": [
       "array([2964, 8832, 3462, ..., 7984, 6532, 3611])"
      ]
     },
     "execution_count": 315,
     "metadata": {},
     "output_type": "execute_result"
    }
   ],
   "source": [
    "val_indices = idxs\n",
    "val_indices "
   ]
  },
  {
   "cell_type": "code",
   "execution_count": null,
   "metadata": {
    "id": "VNqRjzcjoiPm"
   },
   "outputs": [],
   "source": []
  },
  {
   "cell_type": "code",
   "execution_count": null,
   "metadata": {
    "id": "a7aN3es8oiNo"
   },
   "outputs": [],
   "source": []
  },
  {
   "cell_type": "code",
   "execution_count": null,
   "metadata": {
    "id": "Rr8sdue7oiNA"
   },
   "outputs": [],
   "source": []
  },
  {
   "cell_type": "code",
   "execution_count": 316,
   "metadata": {
    "colab": {
     "base_uri": "https://localhost:8080/"
    },
    "id": "G84gZz7gkzyi",
    "outputId": "7e035d9e-a023-41f0-a0c9-e3fe0585980f"
   },
   "outputs": [
    {
     "name": "stdout",
     "output_type": "stream",
     "text": [
      "non-poisoned:  0\n",
      "non-poisoned:  1\n",
      "non-poisoned:  2\n",
      "non-poisoned:  3\n",
      "non-poisoned:  4\n"
     ]
    }
   ],
   "source": [
    "#experimenting \n",
    "\n",
    "users = 5\n",
    "\n",
    "\n",
    "\n",
    "batch_size = 100\n",
    "\n",
    "train_loaders2 = [] \n",
    "\n",
    "train_trainset2=[]\n",
    "\n",
    "train_loaders1 = []\n",
    "\n",
    "train_trainset1 = []\n",
    "\n",
    "\n",
    "for i in range(users):\n",
    "  start= indices_per_client*i\n",
    "  end= indices_per_client * (i+1)\n",
    "  \n",
    "  #print((train_indices[start:end]))\n",
    "\n",
    "\n",
    "  train_trainset1.append(list(train_indices[start:end]))\n",
    "\n",
    "  train_trainset2.append(list(train_indices[start:end]))\n",
    "\n",
    "  #print(len(train_dataset))\n",
    "\n",
    "  train_sampler = SubsetRandomSampler(train_indices[start : end])\n",
    "  # train_loaders= DataLoader(dataset, batch_size, sampler= train_sampler) \n",
    "\n",
    "  #####*********************************************************************################\n",
    "  ##### IMPORTANT : HERE BELOW CHANGE IF CONDITION TO SELECT NO OF POISONED CLIETNS ########\n",
    "  #####*********************************************************************################\n",
    "\n",
    "  if i < 0 :\n",
    "    print(\"poisoned: \", i)\n",
    "    train_loaders1.append(DataLoader(trainset1, batch_size=batch_size,sampler=train_sampler)) # client training on poisoned data\n",
    "  else:\n",
    "    train_loaders1.append(DataLoader(trainset2, batch_size=batch_size,sampler=train_sampler)) # rest training on normal data\n",
    "    print(\"non-poisoned: \", i)\n",
    "\n",
    "\n",
    "\n",
    "  train_loaders2.append(DataLoader(trainset2, batch_size=batch_size,sampler=train_sampler))\n",
    "\n",
    "  \n",
    "\n",
    "\n",
    "\n",
    "\n",
    "\n",
    "val_sampler = SubsetRandomSampler(val_indices)\n",
    "\n",
    "\n",
    "\n",
    "test_loader = DataLoader(testset, batch_size=1, sampler=val_sampler) \n",
    "# \n",
    "\n"
   ]
  },
  {
   "cell_type": "code",
   "execution_count": 317,
   "metadata": {
    "colab": {
     "base_uri": "https://localhost:8080/"
    },
    "id": "Gexlk40il7Qk",
    "outputId": "5b0ceffe-3fb7-4507-9411-5485d22658c0"
   },
   "outputs": [
    {
     "name": "stdout",
     "output_type": "stream",
     "text": [
      "5\n"
     ]
    }
   ],
   "source": [
    "print(len(train_trainset1))"
   ]
  },
  {
   "cell_type": "code",
   "execution_count": 318,
   "metadata": {
    "colab": {
     "base_uri": "https://localhost:8080/"
    },
    "id": "wtJqBFBJl7OA",
    "outputId": "4ea5bd96-4572-4922-a72f-235b053967f8"
   },
   "outputs": [
    {
     "data": {
      "text/plain": [
       "5"
      ]
     },
     "execution_count": 318,
     "metadata": {},
     "output_type": "execute_result"
    }
   ],
   "source": [
    "len(train_loaders1)"
   ]
  },
  {
   "cell_type": "code",
   "execution_count": null,
   "metadata": {
    "id": "gGg3xVFDl7Lq"
   },
   "outputs": [],
   "source": []
  },
  {
   "cell_type": "code",
   "execution_count": null,
   "metadata": {
    "id": "rgjmMnqHl7KL"
   },
   "outputs": [],
   "source": []
  },
  {
   "cell_type": "code",
   "execution_count": null,
   "metadata": {
    "id": "UmlPb3j5l7Jb"
   },
   "outputs": [],
   "source": []
  },
  {
   "cell_type": "code",
   "execution_count": 319,
   "metadata": {
    "id": "RKEVMsEKkv-4"
   },
   "outputs": [],
   "source": [
    "from torch.autograd import Variable\n",
    "import torch.nn.init as init\n",
    "\n",
    "def _weights_init(m):\n",
    "    classname = m.__class__.__name__\n",
    "    #print(classname)\n",
    "    if isinstance(m, nn.Linear) or isinstance(m, nn.Conv2d):\n",
    "        init.kaiming_normal_(m.weight)\n",
    "\n",
    "class LambdaLayer(nn.Module):\n",
    "    def __init__(self, lambd):\n",
    "        super(LambdaLayer, self).__init__()\n",
    "        self.lambd = lambd\n",
    "\n",
    "    def forward(self, x):\n",
    "        return self.lambd(x)\n",
    "\n",
    "\n",
    "class BasicBlock(nn.Module):\n",
    "    expansion = 1\n",
    "\n",
    "    def __init__(self, in_planes, planes, stride=1, option='A'):\n",
    "        super(BasicBlock, self).__init__()\n",
    "        self.conv1 = nn.Conv2d(in_planes, planes, kernel_size=3, stride=stride, padding=1, bias=False)\n",
    "        self.bn1 = nn.BatchNorm2d(planes)\n",
    "        self.conv2 = nn.Conv2d(planes, planes, kernel_size=3, stride=1, padding=1, bias=False)\n",
    "        self.bn2 = nn.BatchNorm2d(planes)\n",
    "\n",
    "        self.shortcut = nn.Sequential()\n",
    "        if stride != 1 or in_planes != planes:\n",
    "            if option == 'A':\n",
    "                \"\"\"\n",
    "                For CIFAR10 ResNet paper uses option A.\n",
    "                \"\"\"\n",
    "                self.shortcut = LambdaLayer(lambda x:\n",
    "                                            F.pad(x[:, :, ::2, ::2], (0, 0, 0, 0, planes//4, planes//4), \"constant\", 0))\n",
    "            elif option == 'B':\n",
    "                self.shortcut = nn.Sequential(\n",
    "                     nn.Conv2d(in_planes, self.expansion * planes, kernel_size=1, stride=stride, bias=False),\n",
    "                     nn.BatchNorm2d(self.expansion * planes)\n",
    "                )\n",
    "\n",
    "    def forward(self, x):\n",
    "        out = F.relu(self.bn1(self.conv1(x)))\n",
    "        out = self.bn2(self.conv2(out))\n",
    "        out += self.shortcut(x)\n",
    "        out = F.relu(out)\n",
    "        return out\n",
    "\n",
    "\n",
    "class ResNet(nn.Module):\n",
    "    def __init__(self, block, num_blocks, num_classes=10):\n",
    "        super(ResNet, self).__init__()\n",
    "        self.in_planes = 16\n",
    "\n",
    "        self.conv1 = nn.Conv2d(3, 16, kernel_size=3, stride=1, padding=1, bias=False)\n",
    "        self.bn1 = nn.BatchNorm2d(16)\n",
    "        self.layer1 = self._make_layer(block, 16, num_blocks[0], stride=1)\n",
    "        self.layer2 = self._make_layer(block, 32, num_blocks[1], stride=2)\n",
    "        self.layer3 = self._make_layer(block, 64, num_blocks[2], stride=2)\n",
    "        self.linear = nn.Linear(64, num_classes)\n",
    "\n",
    "        self.apply(_weights_init)\n",
    "\n",
    "    def _make_layer(self, block, planes, num_blocks, stride):\n",
    "        strides = [stride] + [1]*(num_blocks-1)\n",
    "        layers = []\n",
    "        for stride in strides:\n",
    "            layers.append(block(self.in_planes, planes, stride))\n",
    "            self.in_planes = planes * block.expansion\n",
    "\n",
    "        return nn.Sequential(*layers)\n",
    "\n",
    "    def forward(self, x):\n",
    "        out = F.relu(self.bn1(self.conv1(x)))\n",
    "        out = self.layer1(out)\n",
    "        out = self.layer2(out)\n",
    "        out = self.layer3(out)\n",
    "        out = F.avg_pool2d(out, out.size()[3])\n",
    "        out = out.view(out.size(0), -1)\n",
    "        out = self.linear(out)\n",
    "        return out\n",
    "\n",
    "\n",
    "def resnet20():\n",
    "    return ResNet(BasicBlock, [3, 3, 3])"
   ]
  },
  {
   "cell_type": "code",
   "execution_count": 320,
   "metadata": {
    "colab": {
     "base_uri": "https://localhost:8080/"
    },
    "id": "0qan7gDdqlWV",
    "outputId": "07d665e9-7413-4781-b440-ce703c988ab1"
   },
   "outputs": [
    {
     "data": {
      "text/plain": [
       "ResNet(\n",
       "  (conv1): Conv2d(3, 16, kernel_size=(3, 3), stride=(1, 1), padding=(1, 1), bias=False)\n",
       "  (bn1): BatchNorm2d(16, eps=1e-05, momentum=0.1, affine=True, track_running_stats=True)\n",
       "  (layer1): Sequential(\n",
       "    (0): BasicBlock(\n",
       "      (conv1): Conv2d(16, 16, kernel_size=(3, 3), stride=(1, 1), padding=(1, 1), bias=False)\n",
       "      (bn1): BatchNorm2d(16, eps=1e-05, momentum=0.1, affine=True, track_running_stats=True)\n",
       "      (conv2): Conv2d(16, 16, kernel_size=(3, 3), stride=(1, 1), padding=(1, 1), bias=False)\n",
       "      (bn2): BatchNorm2d(16, eps=1e-05, momentum=0.1, affine=True, track_running_stats=True)\n",
       "      (shortcut): Sequential()\n",
       "    )\n",
       "    (1): BasicBlock(\n",
       "      (conv1): Conv2d(16, 16, kernel_size=(3, 3), stride=(1, 1), padding=(1, 1), bias=False)\n",
       "      (bn1): BatchNorm2d(16, eps=1e-05, momentum=0.1, affine=True, track_running_stats=True)\n",
       "      (conv2): Conv2d(16, 16, kernel_size=(3, 3), stride=(1, 1), padding=(1, 1), bias=False)\n",
       "      (bn2): BatchNorm2d(16, eps=1e-05, momentum=0.1, affine=True, track_running_stats=True)\n",
       "      (shortcut): Sequential()\n",
       "    )\n",
       "    (2): BasicBlock(\n",
       "      (conv1): Conv2d(16, 16, kernel_size=(3, 3), stride=(1, 1), padding=(1, 1), bias=False)\n",
       "      (bn1): BatchNorm2d(16, eps=1e-05, momentum=0.1, affine=True, track_running_stats=True)\n",
       "      (conv2): Conv2d(16, 16, kernel_size=(3, 3), stride=(1, 1), padding=(1, 1), bias=False)\n",
       "      (bn2): BatchNorm2d(16, eps=1e-05, momentum=0.1, affine=True, track_running_stats=True)\n",
       "      (shortcut): Sequential()\n",
       "    )\n",
       "  )\n",
       "  (layer2): Sequential(\n",
       "    (0): BasicBlock(\n",
       "      (conv1): Conv2d(16, 32, kernel_size=(3, 3), stride=(2, 2), padding=(1, 1), bias=False)\n",
       "      (bn1): BatchNorm2d(32, eps=1e-05, momentum=0.1, affine=True, track_running_stats=True)\n",
       "      (conv2): Conv2d(32, 32, kernel_size=(3, 3), stride=(1, 1), padding=(1, 1), bias=False)\n",
       "      (bn2): BatchNorm2d(32, eps=1e-05, momentum=0.1, affine=True, track_running_stats=True)\n",
       "      (shortcut): LambdaLayer()\n",
       "    )\n",
       "    (1): BasicBlock(\n",
       "      (conv1): Conv2d(32, 32, kernel_size=(3, 3), stride=(1, 1), padding=(1, 1), bias=False)\n",
       "      (bn1): BatchNorm2d(32, eps=1e-05, momentum=0.1, affine=True, track_running_stats=True)\n",
       "      (conv2): Conv2d(32, 32, kernel_size=(3, 3), stride=(1, 1), padding=(1, 1), bias=False)\n",
       "      (bn2): BatchNorm2d(32, eps=1e-05, momentum=0.1, affine=True, track_running_stats=True)\n",
       "      (shortcut): Sequential()\n",
       "    )\n",
       "    (2): BasicBlock(\n",
       "      (conv1): Conv2d(32, 32, kernel_size=(3, 3), stride=(1, 1), padding=(1, 1), bias=False)\n",
       "      (bn1): BatchNorm2d(32, eps=1e-05, momentum=0.1, affine=True, track_running_stats=True)\n",
       "      (conv2): Conv2d(32, 32, kernel_size=(3, 3), stride=(1, 1), padding=(1, 1), bias=False)\n",
       "      (bn2): BatchNorm2d(32, eps=1e-05, momentum=0.1, affine=True, track_running_stats=True)\n",
       "      (shortcut): Sequential()\n",
       "    )\n",
       "  )\n",
       "  (layer3): Sequential(\n",
       "    (0): BasicBlock(\n",
       "      (conv1): Conv2d(32, 64, kernel_size=(3, 3), stride=(2, 2), padding=(1, 1), bias=False)\n",
       "      (bn1): BatchNorm2d(64, eps=1e-05, momentum=0.1, affine=True, track_running_stats=True)\n",
       "      (conv2): Conv2d(64, 64, kernel_size=(3, 3), stride=(1, 1), padding=(1, 1), bias=False)\n",
       "      (bn2): BatchNorm2d(64, eps=1e-05, momentum=0.1, affine=True, track_running_stats=True)\n",
       "      (shortcut): LambdaLayer()\n",
       "    )\n",
       "    (1): BasicBlock(\n",
       "      (conv1): Conv2d(64, 64, kernel_size=(3, 3), stride=(1, 1), padding=(1, 1), bias=False)\n",
       "      (bn1): BatchNorm2d(64, eps=1e-05, momentum=0.1, affine=True, track_running_stats=True)\n",
       "      (conv2): Conv2d(64, 64, kernel_size=(3, 3), stride=(1, 1), padding=(1, 1), bias=False)\n",
       "      (bn2): BatchNorm2d(64, eps=1e-05, momentum=0.1, affine=True, track_running_stats=True)\n",
       "      (shortcut): Sequential()\n",
       "    )\n",
       "    (2): BasicBlock(\n",
       "      (conv1): Conv2d(64, 64, kernel_size=(3, 3), stride=(1, 1), padding=(1, 1), bias=False)\n",
       "      (bn1): BatchNorm2d(64, eps=1e-05, momentum=0.1, affine=True, track_running_stats=True)\n",
       "      (conv2): Conv2d(64, 64, kernel_size=(3, 3), stride=(1, 1), padding=(1, 1), bias=False)\n",
       "      (bn2): BatchNorm2d(64, eps=1e-05, momentum=0.1, affine=True, track_running_stats=True)\n",
       "      (shortcut): Sequential()\n",
       "    )\n",
       "  )\n",
       "  (linear): Linear(in_features=64, out_features=10, bias=True)\n",
       ")"
      ]
     },
     "execution_count": 320,
     "metadata": {},
     "output_type": "execute_result"
    }
   ],
   "source": [
    "net_glob = resnet20()\n",
    "net_glob.to(device)\n"
   ]
  },
  {
   "cell_type": "code",
   "execution_count": null,
   "metadata": {
    "id": "fUQs4_a_qn66"
   },
   "outputs": [],
   "source": []
  },
  {
   "cell_type": "code",
   "execution_count": 321,
   "metadata": {
    "id": "9rnGfTJocu7Y"
   },
   "outputs": [],
   "source": [
    "\n",
    "lr = 0.001\n",
    "criterion = nn.CrossEntropyLoss()\n",
    "optimizer = optim.SGD(net_glob.parameters(), lr=lr, momentum=0.9)\n"
   ]
  },
  {
   "cell_type": "code",
   "execution_count": 322,
   "metadata": {
    "id": "wiH3wAs7cu4z"
   },
   "outputs": [],
   "source": [
    "local_epochs = 1"
   ]
  },
  {
   "cell_type": "code",
   "execution_count": 323,
   "metadata": {
    "id": "zS4f6NvLjjl-"
   },
   "outputs": [],
   "source": [
    "def FedAvg(w):\n",
    "    w_avg = copy.deepcopy(w[0])\n",
    "    for k in w_avg.keys():\n",
    "        for i in range(1, len(w)):\n",
    "            w_avg[k] += w[i][k]\n",
    "        w_avg[k] = torch.div(w_avg[k], len(w))\n",
    "    return w_avg"
   ]
  },
  {
   "cell_type": "code",
   "execution_count": 324,
   "metadata": {
    "id": "rv6j7pHFjjhF"
   },
   "outputs": [],
   "source": [
    "num_users = 1\n",
    "\n",
    "frac = 1 # this tells the percentage of clients chosen for each global round. 1=100%(all the clinets are chosen),0.5(only half the clients are chosen)"
   ]
  },
  {
   "cell_type": "code",
   "execution_count": 325,
   "metadata": {
    "id": "EDl_Vd3SNDbT"
   },
   "outputs": [],
   "source": [
    "# # FGSM attack code\n",
    "# def fgsm_attack(image, epsilon, data_grad):\n",
    "#     # Collect the element-wise sign of the data gradient\n",
    "#     sign_data_grad = data_grad.sign()\n",
    "#     # Create the perturbed image by adjusting each pixel of the input image\n",
    "#     perturbed_image = image + epsilon*sign_data_grad\n",
    "#     # Adding clipping to maintain [0,1] range\n",
    "#     perturbed_image = torch.clamp(perturbed_image, 0, 1)\n",
    "#     # Return the perturbed image\n",
    "#     return perturbed_image"
   ]
  },
  {
   "cell_type": "code",
   "execution_count": 326,
   "metadata": {
    "id": "xEpOqSOgoOoC"
   },
   "outputs": [],
   "source": [
    "# def cw_l2_attack(model, images, labels, targeted=False, c=1e-4, kappa=0, max_iter=1000, learning_rate=0.01, device = device) :\n",
    "\n",
    "#     images = images.to(device)     \n",
    "#     labels = labels.to(device)\n",
    "\n",
    "#     # Define f-function\n",
    "#     def f(x) :\n",
    "#         #model = model.to(device)\n",
    "#         outputs = model(x)\n",
    "#         outputs = outputs.to(device)\n",
    "#         one_hot_labels = torch.eye(len(outputs[0]))[labels.to(device)]\n",
    "\n",
    "#         i, _ = torch.max((1-one_hot_labels)*outputs, dim=1)\n",
    "#         j = torch.masked_select(outputs, one_hot_labels.byte())\n",
    "        \n",
    "#         # If targeted, optimize for making the other class most likely \n",
    "#         if targeted :\n",
    "#             return torch.clamp(i-j, min=-kappa)\n",
    "        \n",
    "#         # If untargeted, optimize for making the other class most likely \n",
    "#         else :\n",
    "#             return torch.clamp(j-i, min=-kappa)\n",
    "    \n",
    "#     w = torch.zeros_like(images, requires_grad=True).to(device)\n",
    "\n",
    "#     optimizer = optim.Adam([w], lr=learning_rate)\n",
    "\n",
    "#     prev = 1e10\n",
    "    \n",
    "#     for step in range(max_iter) :\n",
    "\n",
    "#         a = 1/2*(nn.Tanh()(w) + 1)\n",
    "\n",
    "#         loss1 = nn.MSELoss(reduction='sum')(a, images)\n",
    "#         loss2 = torch.sum(c*f(a))\n",
    "\n",
    "#         cost = loss1 + loss2\n",
    "\n",
    "#         optimizer.zero_grad()\n",
    "#         cost.backward()\n",
    "#         optimizer.step()\n",
    "\n",
    "#         # Early Stop when loss does not converge.\n",
    "#         if step % (max_iter//10) == 0 :\n",
    "#             if cost > prev :\n",
    "#                 print('Attack Stopped due to CONVERGENCE....')\n",
    "#                 return a\n",
    "#             prev = cost\n",
    "        \n",
    "#         print('- Learning Progress : %2.2f %%        ' %((step+1)/max_iter*100), end='\\r')\n",
    "\n",
    "#     attack_images = 1/2*(nn.Tanh()(w) + 1)\n",
    "\n",
    "#     return attack_images\n"
   ]
  },
  {
   "cell_type": "code",
   "execution_count": 327,
   "metadata": {
    "id": "Ww-bf8y2oOF5"
   },
   "outputs": [],
   "source": [
    "import copy\n",
    "import numpy as np\n",
    "import torch\n",
    "from torch.autograd import grad\n",
    "\n",
    "def deepfool(image, net, device, num_classes=10, overshoot=0.02, max_iter=50):\n",
    "    \"\"\"\n",
    "    A function to generate adversarial examples using the deepfool algorithm.\n",
    "\n",
    "    Args:\n",
    "    image (torch.Tensor): The input image tensor of shape (1, channels, height, width).\n",
    "    net (torch.nn.Module): The neural network to be fooled by the adversarial example.\n",
    "    device (torch.device): The device to run the computation on (CPU or GPU).\n",
    "    num_classes (int): The number of classes to test against (default=10).\n",
    "    overshoot (float): Used as a termination criterion to prevent vanishing updates (default=0.02).\n",
    "    max_iter (int): The maximum number of iterations for the deepfool algorithm (default=50).\n",
    "\n",
    "    Returns:\n",
    "    r_tot (torch.Tensor): The minimal perturbation that fools the classifier.\n",
    "    loop_i (int): The number of iterations required to generate the adversarial example.\n",
    "    label_orig (int): The original label of the input image.\n",
    "    label_pert (int): The predicted label of the adversarial example.\n",
    "    pert_image (torch.Tensor): The adversarial example tensor of shape (1, channels, height, width).\n",
    "    \"\"\"\n",
    "    image = image.float().to(device)\n",
    "    print(image.size())\n",
    "    f_image = net(image).data.cpu().numpy().flatten()\n",
    "    #print(f_image.size())\n",
    "    I = np.argsort(f_image)[::-1][:10]\n",
    "    print(\"I\", I)\n",
    "    label_orig = int(I[0])\n",
    "    print(\"2\",label_orig)\n",
    "\n",
    "    input_shape = image.cpu().numpy().shape\n",
    "    pert_image = copy.deepcopy(image)\n",
    "    w = np.zeros(input_shape)\n",
    "    r_tot = np.zeros(input_shape)\n",
    "\n",
    "    loop_i = 0\n",
    "    #pert_image = pert_image.reshape(1, input_shape[0], input_shape[1], input_shape[2])\n",
    "    pert_image = pert_image.reshape(input_shape[0], input_shape[1], input_shape[2], input_shape[3])\n",
    "    print(pert_image.size())\n",
    "    #pert_image = pert_image.reshape(1, input_shape[2], input_shape[3])\n",
    "    x = torch.tensor(pert_image, requires_grad=True, device=device)\n",
    "    fs = net(x)\n",
    "    \n",
    "    fs_list = [fs[0, I[k]] for k in range(num_classes)]\n",
    "    k_i = label_orig\n",
    "\n",
    "    while k_i == label_orig and loop_i < max_iter:\n",
    "        pert = np.inf\n",
    "        grad_orig = grad(fs[0, I[0]], x, create_graph=True)[0].cpu().numpy()\n",
    "\n",
    "        for k in range(1, num_classes):\n",
    "            cur_grad = grad(fs[0, I[k]], x, create_graph=True)[0].cpu().numpy()\n",
    "\n",
    "            w_k = cur_grad - grad_orig\n",
    "            f_k = (fs[0, I[k]] - fs[0, I[0]]).data.cpu().numpy()\n",
    "\n",
    "            pert_k = abs(f_k)/np.linalg.norm(w_k.flatten())\n",
    "\n",
    "            if pert_k < pert:\n",
    "                pert = pert_k\n",
    "                w = w_k\n",
    "\n",
    "        r_i = pert * w / np.linalg.norm(w)\n",
    "        r_tot = np.float32(r_tot + r_i)\n",
    "\n",
    "        pert_image = image + (1+overshoot)*torch.from_numpy(r_tot).to(device)\n",
    "\n",
    "        x = torch.tensor(pert_image, requires_grad=True, device=device)\n",
    "        fs = net(x)\n",
    "        k_i = np.argmax(fs.data.cpu().numpy().flatten())\n",
    "\n",
    "        loop_i += 1\n",
    "\n",
    "    r_tot = (1+overshoot)*r_tot\n",
    "\n",
    "    label_pert = k_i\n",
    "\n",
    "    return r_tot, loop_i, label_orig, label_pert, pert_image\n"
   ]
  },
  {
   "cell_type": "code",
   "execution_count": 328,
   "metadata": {},
   "outputs": [],
   "source": [
    "\n",
    "\n",
    "\n",
    "import numpy as np\n",
    "from torch.autograd import Variable\n",
    "import torch as torch\n",
    "import copy\n",
    "#from torch.autograd.gradcheck import zero_gradients\n",
    "#from torch.autograd.grad_mode import zero_gradients\n",
    "def zero_gradients(x):\n",
    "    if x.grad is not None:\n",
    "        x.grad.detach_()\n",
    "        x.grad.zero_()\n",
    "\n",
    "def deepfool(image, net, device, num_classes=10, overshoot=0.02, max_iter=50):\n",
    "\n",
    "    \"\"\"\n",
    "       :param image: 输入图像：1x1x28x28\n",
    "       :param net: network\n",
    "       :device: cuda or cpu\n",
    "       :param num_classes: num_classes (limits the number of classes to test against, by default = 10)\n",
    "       :param overshoot: used as a termination criterion to prevent vanishing updates (default = 0.02).\n",
    "       :param max_iter: maximum number of iterations for deepfool (default = 50)\n",
    "       :return: minimal perturbation that fools the classifier, number of iterations that it required, new estimated_label and perturbed image\n",
    "    \"\"\"\n",
    "    # image = image.reshape(1, 1, 28, 28)\n",
    "    # image = torch.tensor(image)\n",
    "    image = image.float().to(device)\n",
    "\n",
    "    f_image = net(image).data.cpu().numpy().flatten()\n",
    "    # argsort()为从小到大排序，并依此返回索引\n",
    "    # [::-1]表示反转\n",
    "    I = (np.array(f_image)).flatten().argsort()[::-1]\n",
    "    # I为前10个标签信息\n",
    "    I = I[0:num_classes]\n",
    "    label = I[0]\n",
    "\n",
    "    # 扰动初始化\n",
    "    input_shape = image.cpu().numpy().shape\n",
    "    pert_image = copy.deepcopy(image)\n",
    "    w = np.zeros(input_shape)\n",
    "    r_tot = np.zeros(input_shape)\n",
    "\n",
    "    loop_i = 0\n",
    "\n",
    "    #pert_image = pert_image.reshape(1, 32, 32)\n",
    "    pert_image = pert_image.reshape(input_shape[1], input_shape[2], input_shape[3])\n",
    "    #pert_image = pert_image.reshape(input_shape[0], input_shape[1], input_shape[2], input_shape[3])\n",
    "    x = Variable(pert_image[None, :], requires_grad=True)\n",
    "    #print(x.size())\n",
    "    fs = net(x)\n",
    "    fs_list = [fs[0,I[k]] for k in range(num_classes)]\n",
    "    k_i = label\n",
    "\n",
    "    # 当k_i！=label时，即对抗样本越过了边界，结束循环\n",
    "    while k_i == label and loop_i < max_iter:\n",
    "        \"\"\"\"\n",
    "        通过内部的for循环可以获得x到各分类边界的距离；\n",
    "        在外部的while循环中，利用所有边界距离中的最小值对x进行更新。\n",
    "        重复这一过程，直到的分类标签发生变化。\n",
    "        \"\"\"\n",
    "    # 初始梯度\n",
    "        pert = np.inf\n",
    "        fs[0, I[0]].backward(retain_graph=True)\n",
    "        grad_orig = x.grad.data.cpu().numpy().copy()\n",
    "\n",
    "        for k in range(1, num_classes):\n",
    "            zero_gradients(x)\n",
    "            # 第k个分类器，对x的梯度，即wk\n",
    "            fs[0, I[k]].backward(retain_graph=True)\n",
    "            cur_grad = x.grad.data.cpu().numpy().copy()\n",
    "\n",
    "            # set new w_k and new f_k\n",
    "            w_k = cur_grad - grad_orig          # wk\n",
    "            f_k = (fs[0, I[k]] - fs[0, I[0]]).data.cpu().numpy()  # fk\n",
    "\n",
    "            pert_k = abs(f_k)/np.linalg.norm(w_k.flatten())  # l'\n",
    "\n",
    "            # determine which w_k to use\n",
    "            # 取最短距离\n",
    "            if pert_k < pert:\n",
    "                pert = pert_k\n",
    "                w = w_k\n",
    "\n",
    "        # 扰动r_i=最短距离pert*单位法向量\n",
    "        r_i =  (pert+1e-4) * w / np.linalg.norm(w)\n",
    "        r_tot = np.float32(r_tot + r_i)\n",
    "\n",
    "        # 加上扰动时，为(1+overshoot)\n",
    "        pert_image = image + (1+overshoot)*torch.from_numpy(r_tot).to(device)\n",
    "\n",
    "        x = Variable(pert_image, requires_grad=True)\n",
    "        fs = net(x)\n",
    "        k_i = np.argmax(fs.data.cpu().numpy().flatten())\n",
    "\n",
    "        loop_i += 1\n",
    "\n",
    "    r_tot = (1+overshoot)*r_tot\n",
    "\n",
    "    return r_tot, loop_i, label, k_i, pert_image"
   ]
  },
  {
   "cell_type": "code",
   "execution_count": 329,
   "metadata": {
    "colab": {
     "base_uri": "https://localhost:8080/",
     "height": 376
    },
    "id": "oT_HqNtlmpNY",
    "outputId": "6362692e-a91a-4abb-ac50-9181282cc5f2"
   },
   "outputs": [],
   "source": [
    "# import copy\n",
    "# import numpy as np\n",
    "# import torch\n",
    "# from torch.autograd import Variable\n",
    "# from torch.optim import zero_grad\n",
    "\n",
    "# def deepfool(image, net, device, num_classes=10, overshoot=0.02, max_iter=50):\n",
    "#     \"\"\"\n",
    "#     A function to generate adversarial examples using the deepfool algorithm.\n",
    "\n",
    "#     Args:\n",
    "#     image (torch.Tensor): The input image tensor of shape (1, channels, height, width).\n",
    "#     net (torch.nn.Module): The neural network to be fooled by the adversarial example.\n",
    "#     device (torch.device): The device to run the computation on (CPU or GPU).\n",
    "#     num_classes (int): The number of classes to test against (default=10).\n",
    "#     overshoot (float): Used as a termination criterion to prevent vanishing updates (default=0.02).\n",
    "#     max_iter (int): The maximum number of iterations for the deepfool algorithm (default=50).\n",
    "\n",
    "#     Returns:\n",
    "#     r_tot (torch.Tensor): The minimal perturbation that fools the classifier.\n",
    "#     loop_i (int): The number of iterations required to generate the adversarial example.\n",
    "#     label_orig (int): The original label of the input image.\n",
    "#     label_pert (int): The predicted label of the adversarial example.\n",
    "#     pert_image (torch.Tensor): The adversarial example tensor of shape (1, channels, height, width).\n",
    "#     \"\"\"\n",
    "#     image = image.float().to(device)\n",
    "\n",
    "#     f_image = net(image).data.cpu().numpy().flatten()\n",
    "#     I = np.argsort(f_image)[::-1][:num_classes]\n",
    "#     label_orig = int(I[0])\n",
    "\n",
    "#     input_shape = image.cpu().numpy().shape\n",
    "#     pert_image = copy.deepcopy(image)\n",
    "#     w = np.zeros(input_shape)\n",
    "#     r_tot = np.zeros(input_shape)\n",
    "\n",
    "#     loop_i = 0\n",
    "\n",
    "#     pert_image = pert_image.reshape(1, input_shape[1], input_shape[2])\n",
    "#     x = Variable(pert_image[None, :], requires_grad=True)\n",
    "#     fs = net(x)\n",
    "#     fs_list = [fs[0, I[k]] for k in range(num_classes)]\n",
    "#     k_i = label_orig\n",
    "\n",
    "#     while k_i == label_orig and loop_i < max_iter:\n",
    "#         pert = np.inf\n",
    "#         fs[0, I[0]].backward(retain_graph=True)\n",
    "#         grad_orig = x.grad.data.cpu().numpy().copy()\n",
    "\n",
    "#         for k in range(1, num_classes):\n",
    "#             zero_grad(x)\n",
    "#             fs[0, I[k]].backward(retain_graph=True)\n",
    "#             cur_grad = x.grad.data.cpu().numpy().copy()\n",
    "\n",
    "#             w_k = cur_grad - grad_orig\n",
    "#             f_k = (fs[0, I[k]] - fs[0, I[0]]).data.cpu().numpy()\n",
    "\n",
    "#             pert_k = abs(f_k)/np.linalg.norm(w_k.flatten())\n",
    "\n",
    "#             if pert_k < pert:\n",
    "#                 pert = pert_k\n",
    "#                 w = w_k\n",
    "\n",
    "#         r_i = pert * w / np.linalg.norm(w)\n",
    "#         r_tot = np.float32(r_tot + r_i)\n",
    "\n",
    "#         pert_image = image + (1+overshoot)*torch.from_numpy(r_tot).to(device)\n",
    "\n",
    "#         x = Variable(pert_image, requires_grad=True)\n",
    "#         fs = net(x)\n",
    "#         k_i = np.argmax(fs.data.cpu().numpy().flatten())\n",
    "\n",
    "#         loop_i += 1\n",
    "\n",
    "#     r_tot = (1+overshoot)*r_tot\n",
    "\n",
    "#     label_pert = k_i\n",
    "\n",
    "#     return r_tot, loop_i, label_orig, label_pert, pert_image\n"
   ]
  },
  {
   "cell_type": "code",
   "execution_count": 330,
   "metadata": {
    "colab": {
     "base_uri": "https://localhost:8080/"
    },
    "id": "nx9go14jvm9m",
    "outputId": "1b790d97-a358-4254-a27f-deb5d691c0d7"
   },
   "outputs": [],
   "source": [
    "def test(net, test_loader, criterion, device, max_iter=50, eps=0.02):\n",
    "    net.eval()  # set the model to evaluation mode\n",
    "    test_loss = 0.0\n",
    "    correct = 0\n",
    "    total = 0\n",
    "    per_num = 0  # number of adversarial examples generated\n",
    "\n",
    "    for data, target in test_loader:\n",
    "        data, target = data.to(device), target.to(device)\n",
    "        output = net(data)\n",
    "        _, predicted = torch.max(output.data, 1)\n",
    "        if torch.all(predicted != target):\n",
    "            continue  # skip correctly classified examples\n",
    "\n",
    "        # generate adversarial example using DeepFool attack\n",
    "        r_tot, loop_i, label_orig, label_pert, pert_image = deepfool(data, net, device= device,)\n",
    "        if label_pert == label_orig:\n",
    "            correct += 1\n",
    "        else:\n",
    "            per_num += 1\n",
    "\n",
    "        # compute loss and accuracy\n",
    "        with torch.no_grad():\n",
    "            #output = net(pert_image.unsqueeze(0))\n",
    "            output = net(pert_image)\n",
    "            loss = criterion(output, target)\n",
    "\n",
    "        test_loss += loss.item()\n",
    "        total += 1\n",
    "\n",
    "    test_loss /= total\n",
    "    accuracy = 100.0 * correct / total\n",
    "    print('Test loss: {:.4f}, Accuracy: {:.2f}%, Number of adversarial examples generated: {}'.format(\n",
    "        test_loss, accuracy, per_num))"
   ]
  },
  {
   "cell_type": "code",
   "execution_count": 331,
   "metadata": {
    "id": "EBiQjT5wNDbT"
   },
   "outputs": [],
   "source": [
    "# # def fgsm_attack(model, loss, images, labels, eps) :\n",
    "    \n",
    "# #     images = images.to(device)\n",
    "# #     labels = labels.to(device)\n",
    "# #     images.requires_grad = True\n",
    "           \n",
    "# #     outputs = model(images)\n",
    "    \n",
    "# #     model.zero_grad()\n",
    "# #     cost = criterion(outputs, labels)\n",
    "# #     cost.backward()\n",
    "    \n",
    "# #     attack_images = images + eps*images.grad.sign()\n",
    "# #     attack_images = torch.clamp(attack_images, 0, 1)\n",
    "# def output(sample, net):\n",
    "#     sample = sample.float().to(device)\n",
    "#     output = net(sample).cpu()\n",
    "#     _, pre = torch.max(output.data, 1)\n",
    "#     return pre   \n",
    "# def test(net, test_loader, criterion, device):\n",
    "#     net.eval()  # set the model to evaluation mode\n",
    "#     test_loss = 0.0\n",
    "#     correct = 0\n",
    "#     total = 0\n",
    "#     false = 0\n",
    "#     per_num = 0\n",
    "#     per = np.zeros((10000, 28, 28))\n",
    "#     loop = []\n",
    "#     per_label = []\n",
    "#     per_image = torch.zeros((10000, 28, 28))\n",
    "\n",
    "#     for data, target in test_loader:\n",
    "#         data, target = data.to(device), target.to(device)\n",
    "#         with torch.no_grad():\n",
    "#           output = net(data)\n",
    "#         predicted = torch.argmax(output, dim=1)\n",
    "\n",
    "#         if torch.all(predicted == target):\n",
    "#             r_tot, loop_i, label_orig, label_pert, pert_image = deepfool(data, net, device)\n",
    "#             if label_pert == label_orig:\n",
    "#                 correct += 1\n",
    "#             else:\n",
    "#                 per[per_num] = r_tot.reshape(28, 28)                  \n",
    "#                 loop = np.append(loop, loop_i)                    \n",
    "#                 per_label = np.append(per_label, label_pert)      \n",
    "#                 per_image[per_num] = pert_image.reshape(28, 28)  \n",
    "#                 per_num += 1\n",
    "#         else:\n",
    "#             false += 1\n",
    "\n",
    "#         # Calculate the loss\n",
    "#         with torch.no_grad():\n",
    "#             output = net(data)\n",
    "#             loss = criterion(output, target)\n",
    "#             test_loss += loss.item()\n",
    "\n",
    "#         # Compute accuracy\n",
    "#         _, predicted = torch.max(output.data, 1)\n",
    "#         total += target.size(0)\n",
    "#         correct += (predicted == target).sum().item()\n",
    "\n",
    "#         if total % 1000 == 0:\n",
    "#             print('Accuracy: {:.2f}%'.format(100 * correct / total))\n",
    "        \n",
    "#     test_loss /= len(test_loader)\n",
    "#     accuracy = 100.0 * correct / total\n",
    "#     print('Test set: Average loss: {:.4f}, Accuracy: {:.2f}%'.format(test_loss, accuracy))\n",
    "#     print('Classification error rate: {:.2f}%'.format(100 * (1 - correct / total)))\n",
    "#     print('Number of adversarial examples generated: {}'.format(per_num))\n",
    "\n"
   ]
  },
  {
   "cell_type": "code",
   "execution_count": 332,
   "metadata": {
    "id": "1_bOS_4vuWAW"
   },
   "outputs": [],
   "source": [
    "# def test(net, test_loader, criterion, device, max_iter=50, eps=0.02):\n",
    "#     net.eval()  # set the model to evaluation mode\n",
    "#     test_loss = 0.0\n",
    "#     correct = 0\n",
    "#     total = 0\n",
    "#     per_num = 0  # number of adversarial examples generated\n",
    "\n",
    "#     for data, target in test_loader:\n",
    "#         data, target = data.to(device), target.to(device)\n",
    "#         output = net(data)\n",
    "#         _, predicted = torch.max(output.data, 1)\n",
    "#         if torch.all(predicted != target):\n",
    "#             continue  # skip correctly classified examples\n",
    "\n",
    "#         # generate adversarial example using DeepFool attack\n",
    "#         r_tot, loop_i, label_orig, label_pert, pert_image = deepfool(data, net, device, max_iter, eps)\n",
    "#         if label_pert == label_orig:\n",
    "#             correct += 1\n",
    "#         else:\n",
    "#             per_num += 1\n",
    "\n",
    "#         # compute loss and accuracy\n",
    "#         with torch.no_grad():\n",
    "#             output = net(pert_image.unsqueeze(0))\n",
    "#             loss = criterion(output, target)\n",
    "\n",
    "#         test_loss += loss.item()\n",
    "#         total += 1\n",
    "\n",
    "#     test_loss /= total\n",
    "#     accuracy = 100.0 * correct / total\n",
    "#     print('Test loss: {:.4f}, Accuracy: {:.2f}%, Number of adversarial examples generated: {}'.format(\n",
    "#         test_loss, accuracy, per_num))\n"
   ]
  },
  {
   "cell_type": "code",
   "execution_count": 333,
   "metadata": {
    "id": "HSLCrlb0NDbU"
   },
   "outputs": [],
   "source": [
    "def display_images(image):\n",
    "  #_, label, confidence = get_imagenet_label(pretrained_model.predict(image))\n",
    "  plt.figure()\n",
    "  #image = image.T\n",
    "  fig, axarr = plt.subplots(2, 2)\n",
    "  for i in range(2):\n",
    "      for j in range(2):\n",
    "          axarr[i, j].imshow(image[i*2+j].permute(1, 2, 0))\n",
    "  plt.show()"
   ]
  },
  {
   "cell_type": "code",
   "execution_count": null,
   "metadata": {
    "id": "fw9zPnxMjjfB"
   },
   "outputs": [
    {
     "name": "stderr",
     "output_type": "stream",
     "text": [
      "Round1: User0_1: 100%|████████████████████████████████████████████| 100/100 [00:07<00:00, 13.76it/s]\n"
     ]
    },
    {
     "name": "stdout",
     "output_type": "stream",
     "text": [
      "client:0 train_acc: 27.86%, train_loss: 38.4794\n"
     ]
    }
   ],
   "source": [
    "net_glob.train()\n",
    "# copy weights\n",
    "w_glob = net_glob.state_dict()\n",
    "\n",
    "loss_train_collect = []\n",
    "acc_train_collect = []\n",
    "loss_test_collect = []\n",
    "acc_test_collect = []\n",
    "\n",
    "\n",
    "\n",
    "for iter in range(5):\n",
    "    w_locals, loss_locals_train, acc_locals_train, loss_locals_test, acc_locals_test = [], [], [], [], []\n",
    "    m = max(int(frac * num_users), 1)\n",
    "    idxs_users = np.random.choice(range(num_users), m, replace = False)\n",
    "    \n",
    "\n",
    "    global_weights = copy.deepcopy(net_glob.state_dict())\n",
    "   \n",
    "    # Training/Testing simulation\n",
    "    for idx in idxs_users: # each client\n",
    "        \n",
    "        net_glob.load_state_dict(global_weights)\n",
    "        # client training local epochs  \n",
    "        for local_epoch in range(local_epochs):\n",
    "\n",
    "          for i, data in enumerate(tqdm(train_loaders1[idx], ncols=100, desc='Round'+str(iter+1)+': User'+str(idx)+'_'+str(local_epoch+1))):\n",
    "            # get the inputs; data is a list of [inputs, labels]\n",
    "            inputs, labels = data\n",
    "            #display_images(inputs)\n",
    "            inputs = inputs.to(device)\n",
    "            labels = labels.clone().detach().long().to(device)\n",
    "            #data.requires_grad = True\n",
    "\n",
    "            # zero the parameter gradients\n",
    "            optimizer.zero_grad()\n",
    "\n",
    "            # forward + backward + optimize\n",
    "            outputs = net_glob(inputs)\n",
    "            loss = criterion(outputs, labels)\n",
    "            #net_glob.zero_grad()\n",
    "            loss.backward()\n",
    "            #data_grad = data.grad.data\n",
    "            #perturbed_data = fgsm_attack(inputs, 0.3, data_grad)\n",
    "            #output = net_glob(perturbed_data)\n",
    "            optimizer.step()\n",
    "          \n",
    "        w = copy.deepcopy(net_glob.state_dict())\n",
    "        w_locals.append(copy.deepcopy(w))\n",
    "      \n",
    "      \n",
    "    w_glob = FedAvg(w_locals)\n",
    "    # update global model --- copy weight to net_glob -- distributed the model to all users\n",
    "    net_glob.load_state_dict(w_glob)\n",
    "\n",
    "    # train acc\n",
    "    with torch.no_grad():\n",
    "        corr_num = 0\n",
    "        total_num = 0\n",
    "        train_loss = 0.0\n",
    "        for idx in idxs_users:\n",
    "          for j, trn in enumerate(train_loaders2[idx]):\n",
    "            trn_x, trn_label = trn\n",
    "            trn_x = trn_x.to(device)\n",
    "            trn_label = trn_label.clone().detach().long().to(device)\n",
    "\n",
    "            trn_output = net_glob(trn_x)\n",
    "            loss = criterion(trn_output, trn_label)\n",
    "            train_loss += loss.item()\n",
    "            model_label = trn_output.argmax(dim=1)\n",
    "            corr = trn_label[trn_label == model_label].size(0)\n",
    "            corr_num += corr\n",
    "            total_num += trn_label.size(0)\n",
    "          print(\"client:{} train_acc: {:.2f}%, train_loss: {:.4f}\".format(idx, corr_num / total_num * 100, train_loss / len(train_loaders2)))\n",
    "\n",
    "    # Assuming you have already defined your neural network model, test dataset loader, loss criterion, and device\n",
    "    #epsilon = 0.2  # choose a value for epsilon\n",
    "    test(net=net_glob, test_loader=test_loader, criterion=criterion, device = device)\n",
    "#     with torch.no_grad():\n",
    "#         corr_num = 0\n",
    "#         total_num = 0\n",
    "#         val_loss = 0.0\n",
    "#         for j, val in enumerate(test_loader):\n",
    "#             val_x, val_label = val\n",
    "#             val_x = val_x.to(device)\n",
    "#             data = val_x\n",
    "            \n",
    "#             data.requires_grad = True\n",
    "#             #val_x = fgsm_attack(net_glob, loss, val_x, val_label, 0.3).to(device)\n",
    "#             val_label = val_label.clone().detach().long().to(device)\n",
    "#             val_output = net_glob(data)\n",
    "            \n",
    "#             loss = criterion(val_output, val_label)\n",
    "#             net_glob.zero_grad()\n",
    "#             loss.backward()\n",
    "#             data_grad = data.grad.data\n",
    "#             perturbed_data = fgsm_attack(data, 0.3, data_grad)\n",
    "#             output = net_glob(perturbed_data)\n",
    "#             val_loss += loss.item()\n",
    "#             model_label = val_output.argmax(dim=1)\n",
    "#             corr = val_label[val_label == model_label].size(0)\n",
    "#             corr_num += corr\n",
    "#             total_num += val_label.size(0)\n",
    "#             accuracy = corr_num / total_num * 100\n",
    "#             test_loss = val_loss / len(test_loader)\n",
    "#         print(\"test_acc: {:.2f}%, test_loss: {:.4f}\".format( accuracy, test_loss))\n",
    "    \n",
    "#     # prepare to count predictions for each class\n",
    "#     correct_pred = {classname: 0 for classname in classes}\n",
    "#     total_pred = {classname: 0 for classname in classes}\n",
    "\n",
    "#     # again no gradients needed\n",
    "#     with torch.no_grad():\n",
    "#         for data in test_loader:\n",
    "#             images, labels = data\n",
    "#             outputs = net_glob(images)\n",
    "#             _, predictions = torch.max(outputs, 1)\n",
    "#             # collect the correct predictions for each class\n",
    "#             for label, prediction in zip(labels, predictions):\n",
    "#                 if label == prediction:\n",
    "#                     correct_pred[classes[label]] += 1\n",
    "#                 total_pred[classes[label]] += 1\n",
    "\n",
    "\n",
    "#     # print accuracy for each class\n",
    "#     for classname, correct_count in correct_pred.items():\n",
    "#         accuracy = 100 * float(correct_count) / total_pred[classname]\n",
    "#         print(\"Accuracy for class {:5s} is: {:.1f} %\".format(classname,\n",
    "#                                                       accuracy))\n",
    "\n"
   ]
  },
  {
   "cell_type": "code",
   "execution_count": null,
   "metadata": {
    "id": "FTIOzBBdNDbU"
   },
   "outputs": [],
   "source": [
    "test(net=net_glob, test_loader=test_loader, criterion=criterion, device = device)"
   ]
  },
  {
   "cell_type": "code",
   "execution_count": null,
   "metadata": {
    "id": "9RIHtsC_CKpD"
   },
   "outputs": [],
   "source": []
  },
  {
   "cell_type": "code",
   "execution_count": null,
   "metadata": {},
   "outputs": [],
   "source": []
  },
  {
   "cell_type": "code",
   "execution_count": null,
   "metadata": {},
   "outputs": [],
   "source": []
  },
  {
   "cell_type": "code",
   "execution_count": null,
   "metadata": {},
   "outputs": [],
   "source": []
  },
  {
   "cell_type": "code",
   "execution_count": null,
   "metadata": {},
   "outputs": [],
   "source": []
  },
  {
   "cell_type": "code",
   "execution_count": null,
   "metadata": {},
   "outputs": [],
   "source": []
  },
  {
   "cell_type": "code",
   "execution_count": null,
   "metadata": {},
   "outputs": [],
   "source": []
  },
  {
   "cell_type": "code",
   "execution_count": null,
   "metadata": {},
   "outputs": [],
   "source": []
  },
  {
   "cell_type": "code",
   "execution_count": null,
   "metadata": {},
   "outputs": [],
   "source": []
  }
 ],
 "metadata": {
  "accelerator": "GPU",
  "colab": {
   "provenance": []
  },
  "kernelspec": {
   "display_name": "Python 3 (ipykernel)",
   "language": "python",
   "name": "python3"
  },
  "language_info": {
   "codemirror_mode": {
    "name": "ipython",
    "version": 3
   },
   "file_extension": ".py",
   "mimetype": "text/x-python",
   "name": "python",
   "nbconvert_exporter": "python",
   "pygments_lexer": "ipython3",
   "version": "3.8.15"
  }
 },
 "nbformat": 4,
 "nbformat_minor": 1
}
