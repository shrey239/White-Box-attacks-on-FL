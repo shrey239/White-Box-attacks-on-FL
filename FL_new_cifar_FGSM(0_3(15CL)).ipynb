{
  "cells": [
    {
      "cell_type": "code",
      "execution_count": 43,
      "metadata": {
        "id": "YLpANHHn1Jql"
      },
      "outputs": [],
      "source": [
        "import os\n",
        "import h5py\n",
        "\n",
        "import socket\n",
        "import struct\n",
        "import pickle\n",
        "\n",
        "import torch\n",
        "import torch.nn as nn\n",
        "import torch.nn.functional as F\n",
        "import torchvision\n",
        "import torchvision.transforms as transforms\n",
        "import torch.optim as optim\n",
        "\n",
        "from torch.utils.data import Dataset, DataLoader\n",
        "\n",
        "import time\n",
        "\n",
        "from tqdm import tqdm\n",
        "\n",
        "\n",
        "\n",
        "import numpy as np\n",
        "import copy"
      ]
    },
    {
      "cell_type": "code",
      "execution_count": 44,
      "metadata": {
        "id": "hIMtEMjXo02V"
      },
      "outputs": [],
      "source": [
        "import torch\n",
        "import torchvision\n",
        "import numpy as np\n",
        "import matplotlib\n",
        "import matplotlib.pyplot as plt\n",
        "import torch.nn as nn\n",
        "import torch.nn.functional as F\n",
        "from torchvision.datasets import MNIST\n",
        "from torchvision.transforms import ToTensor\n",
        "from torchvision.utils import make_grid\n",
        "from torch.utils.data.dataloader import DataLoader\n",
        "from torch.utils.data import random_split\n",
        "from torch.utils.data.sampler import SubsetRandomSampler\n",
        "%matplotlib inline\n",
        "\n",
        "# Use a white background for matplotlib figures\n",
        "matplotlib.rcParams['figure.facecolor'] = '#ffffff'"
      ]
    },
    {
      "cell_type": "markdown",
      "metadata": {
        "id": "WWB5l3Xn15fa"
      },
      "source": [
        "client side\n"
      ]
    },
    {
      "cell_type": "code",
      "execution_count": 44,
      "metadata": {
        "id": "8aXD0rMr4n45"
      },
      "outputs": [],
      "source": []
    },
    {
      "cell_type": "code",
      "execution_count": 45,
      "metadata": {
        "id": "FMbiOm-q4nub"
      },
      "outputs": [],
      "source": [
        "# keep the path same, just create a folder named cifar in your drive\n",
        "root_path = './cifar'"
      ]
    },
    {
      "cell_type": "code",
      "execution_count": 46,
      "metadata": {
        "colab": {
          "base_uri": "https://localhost:8080/"
        },
        "id": "fmfh2cRf17IH",
        "outputId": "3b6e41a7-c2b1-4d6e-ed1b-dde1230d6a20"
      },
      "outputs": [
        {
          "output_type": "stream",
          "name": "stdout",
          "text": [
            "cuda:0\n"
          ]
        }
      ],
      "source": [
        "\n",
        "device = torch.device(\"cuda:0\" if torch.cuda.is_available() else \"cpu\")\n",
        "#device = \"cpu\"\n",
        "print(device)"
      ]
    },
    {
      "cell_type": "code",
      "execution_count": 47,
      "metadata": {
        "id": "9cBXF1ka4d4c"
      },
      "outputs": [],
      "source": [
        "\n",
        "transform = transforms.Compose([transforms.ToTensor(), transforms.Normalize((0.4914, 0.4822, 0.4465), (0.2470, 0.2435, 0.2616))])"
      ]
    },
    {
      "cell_type": "code",
      "execution_count": 47,
      "metadata": {
        "id": "9YmBLeHJ4men"
      },
      "outputs": [],
      "source": []
    },
    {
      "cell_type": "code",
      "execution_count": 48,
      "metadata": {
        "colab": {
          "base_uri": "https://localhost:8080/"
        },
        "id": "f3L5kQ-017F7",
        "outputId": "d37c1733-b22b-4dcd-e434-a910b77b6dc0"
      },
      "outputs": [
        {
          "output_type": "stream",
          "name": "stdout",
          "text": [
            "Files already downloaded and verified\n"
          ]
        }
      ],
      "source": [
        "\n",
        "trainset1 = torchvision.datasets.CIFAR10(root=root_path, download=True, transform=transform)\n"
      ]
    },
    {
      "cell_type": "code",
      "execution_count": 49,
      "metadata": {
        "colab": {
          "base_uri": "https://localhost:8080/"
        },
        "id": "XEnQtcZX17ET",
        "outputId": "979093a4-e404-4c20-b29d-2e6b98621257"
      },
      "outputs": [
        {
          "output_type": "execute_result",
          "data": {
            "text/plain": [
              "50000"
            ]
          },
          "metadata": {},
          "execution_count": 49
        }
      ],
      "source": [
        "len(trainset1)"
      ]
    },
    {
      "cell_type": "code",
      "execution_count": 50,
      "metadata": {
        "id": "bgwEpG427LNG"
      },
      "outputs": [],
      "source": [
        "classes = ('plane', 'car', 'bird', 'cat', 'deer', 'dog', 'frog', 'horse', 'ship', 'truck')\n"
      ]
    },
    {
      "cell_type": "code",
      "execution_count": 51,
      "metadata": {
        "id": "SZDEZ5K117Dd"
      },
      "outputs": [],
      "source": [
        "import matplotlib.pyplot as plt\n",
        "\n",
        "\n",
        "def show_image(img, label):\n",
        "    print(\"Label=\", trainset1.classes[label], \"(\" + str(label)  + \")\")\n",
        "    plt.imshow(img.permute(1,2,0))"
      ]
    },
    {
      "cell_type": "code",
      "execution_count": 52,
      "metadata": {
        "colab": {
          "base_uri": "https://localhost:8080/",
          "height": 302
        },
        "id": "QE1unzpq7oKi",
        "outputId": "a6b0aa16-4211-4c77-fd86-a78eee398218"
      },
      "outputs": [
        {
          "output_type": "stream",
          "name": "stderr",
          "text": [
            "WARNING:matplotlib.image:Clipping input data to the valid range for imshow with RGB data ([0..1] for floats or [0..255] for integers).\n"
          ]
        },
        {
          "output_type": "stream",
          "name": "stdout",
          "text": [
            "Label= frog (6)\n"
          ]
        },
        {
          "output_type": "display_data",
          "data": {
            "text/plain": [
              "<Figure size 432x288 with 1 Axes>"
            ],
            "image/png": "[encoded data removed]"
          },
          "metadata": {}
        }
      ],
      "source": [
        "image,label = trainset1[0]\n",
        "show_image(image, label)"
      ]
    },
    {
      "cell_type": "code",
      "execution_count": 53,
      "metadata": {
        "colab": {
          "base_uri": "https://localhost:8080/",
          "height": 302
        },
        "id": "VcTlVjCU69ps",
        "outputId": "6794fa39-6af3-489f-fee0-90b64846fd98"
      },
      "outputs": [
        {
          "output_type": "stream",
          "name": "stdout",
          "text": [
            "Label= truck (9)\n"
          ]
        },
        {
          "output_type": "stream",
          "name": "stderr",
          "text": [
            "WARNING:matplotlib.image:Clipping input data to the valid range for imshow with RGB data ([0..1] for floats or [0..255] for integers).\n"
          ]
        },
        {
          "output_type": "display_data",
          "data": {
            "text/plain": [
              "<Figure size 432x288 with 1 Axes>"
            ],
            "image/png": "[encoded data removed]"
          },
          "metadata": {}
        }
      ],
      "source": [
        "image,label = trainset1[1]\n",
        "show_image(image, label)"
      ]
    },
    {
      "cell_type": "code",
      "execution_count": 54,
      "metadata": {
        "colab": {
          "base_uri": "https://localhost:8080/",
          "height": 302
        },
        "id": "LW_IsNJa7RaO",
        "outputId": "ec241595-5800-4cbb-c61d-8f75577b98ea"
      },
      "outputs": [
        {
          "output_type": "stream",
          "name": "stderr",
          "text": [
            "WARNING:matplotlib.image:Clipping input data to the valid range for imshow with RGB data ([0..1] for floats or [0..255] for integers).\n"
          ]
        },
        {
          "output_type": "stream",
          "name": "stdout",
          "text": [
            "Label= truck (9)\n"
          ]
        },
        {
          "output_type": "display_data",
          "data": {
            "text/plain": [
              "<Figure size 432x288 with 1 Axes>"
            ],
            "image/png": "[encoded data removed]"
          },
          "metadata": {}
        }
      ],
      "source": [
        "image,label = trainset1[2]\n",
        "show_image(image, label)"
      ]
    },
    {
      "cell_type": "code",
      "execution_count": 55,
      "metadata": {
        "colab": {
          "base_uri": "https://localhost:8080/",
          "height": 302
        },
        "id": "gu0ici4j7guZ",
        "outputId": "7f086a2a-17f4-4a13-ec2f-225bf522ac8a"
      },
      "outputs": [
        {
          "output_type": "stream",
          "name": "stderr",
          "text": [
            "WARNING:matplotlib.image:Clipping input data to the valid range for imshow with RGB data ([0..1] for floats or [0..255] for integers).\n"
          ]
        },
        {
          "output_type": "stream",
          "name": "stdout",
          "text": [
            "Label= truck (9)\n"
          ]
        },
        {
          "output_type": "display_data",
          "data": {
            "text/plain": [
              "<Figure size 432x288 with 1 Axes>"
            ],
            "image/png": "[encoded data removed]"
          },
          "metadata": {}
        }
      ],
      "source": [
        "image,label = trainset1[2]\n",
        "show_image(image, label)"
      ]
    },
    {
      "cell_type": "code",
      "execution_count": 56,
      "metadata": {
        "colab": {
          "base_uri": "https://localhost:8080/",
          "height": 302
        },
        "id": "kgCWBhLo7sb2",
        "outputId": "d76d86bc-2009-44de-9f23-ad3ef18cb982"
      },
      "outputs": [
        {
          "output_type": "stream",
          "name": "stderr",
          "text": [
            "WARNING:matplotlib.image:Clipping input data to the valid range for imshow with RGB data ([0..1] for floats or [0..255] for integers).\n"
          ]
        },
        {
          "output_type": "stream",
          "name": "stdout",
          "text": [
            "Label= deer (4)\n"
          ]
        },
        {
          "output_type": "display_data",
          "data": {
            "text/plain": [
              "<Figure size 432x288 with 1 Axes>"
            ],
            "image/png": "[encoded data removed]"
          },
          "metadata": {}
        }
      ],
      "source": [
        "image,label = trainset1[3]\n",
        "show_image(image, label)"
      ]
    },
    {
      "cell_type": "code",
      "execution_count": 57,
      "metadata": {
        "colab": {
          "base_uri": "https://localhost:8080/",
          "height": 302
        },
        "id": "nPW2bGbV7sZR",
        "outputId": "306ceae8-38a6-4a2f-97ad-2429c4ad0fa4"
      },
      "outputs": [
        {
          "output_type": "stream",
          "name": "stderr",
          "text": [
            "WARNING:matplotlib.image:Clipping input data to the valid range for imshow with RGB data ([0..1] for floats or [0..255] for integers).\n"
          ]
        },
        {
          "output_type": "stream",
          "name": "stdout",
          "text": [
            "Label= automobile (1)\n"
          ]
        },
        {
          "output_type": "display_data",
          "data": {
            "text/plain": [
              "<Figure size 432x288 with 1 Axes>"
            ],
            "image/png": "[encoded data removed]"
          },
          "metadata": {}
        }
      ],
      "source": [
        "image,label = trainset1[4]\n",
        "show_image(image, label)"
      ]
    },
    {
      "cell_type": "code",
      "execution_count": 58,
      "metadata": {
        "colab": {
          "base_uri": "https://localhost:8080/",
          "height": 302
        },
        "id": "nFwj25EN7sX8",
        "outputId": "7fb3dde5-c6af-467e-f4de-03ae4666e122"
      },
      "outputs": [
        {
          "output_type": "stream",
          "name": "stderr",
          "text": [
            "WARNING:matplotlib.image:Clipping input data to the valid range for imshow with RGB data ([0..1] for floats or [0..255] for integers).\n"
          ]
        },
        {
          "output_type": "stream",
          "name": "stdout",
          "text": [
            "Label= automobile (1)\n"
          ]
        },
        {
          "output_type": "display_data",
          "data": {
            "text/plain": [
              "<Figure size 432x288 with 1 Axes>"
            ],
            "image/png": "[encoded data removed]"
          },
          "metadata": {}
        }
      ],
      "source": [
        "image,label = trainset1[5]\n",
        "show_image(image, label)"
      ]
    },
    {
      "cell_type": "code",
      "execution_count": 59,
      "metadata": {
        "colab": {
          "base_uri": "https://localhost:8080/",
          "height": 302
        },
        "id": "nWxNBLSF7sXQ",
        "outputId": "a03695a9-4598-4b69-e9df-25c5a5989d30"
      },
      "outputs": [
        {
          "output_type": "stream",
          "name": "stdout",
          "text": [
            "Label= bird (2)\n"
          ]
        },
        {
          "output_type": "stream",
          "name": "stderr",
          "text": [
            "WARNING:matplotlib.image:Clipping input data to the valid range for imshow with RGB data ([0..1] for floats or [0..255] for integers).\n"
          ]
        },
        {
          "output_type": "display_data",
          "data": {
            "text/plain": [
              "<Figure size 432x288 with 1 Axes>"
            ],
            "image/png": "[encoded data removed]"
          },
          "metadata": {}
        }
      ],
      "source": [
        "image,label = trainset1[6]\n",
        "show_image(image, label)"
      ]
    },
    {
      "cell_type": "markdown",
      "metadata": {
        "id": "8FBAIJ5Y8aWy"
      },
      "source": [
        "# Define below number of users/clients"
      ]
    },
    {
      "cell_type": "code",
      "execution_count": 60,
      "metadata": {
        "id": "3VA45mly8e0l"
      },
      "outputs": [],
      "source": [
        "users = 50 # clients"
      ]
    },
    {
      "cell_type": "code",
      "execution_count": 61,
      "metadata": {
        "id": "0e0cjvJ58ymo"
      },
      "outputs": [],
      "source": [
        "trainset1_len = 50000"
      ]
    },
    {
      "cell_type": "code",
      "execution_count": 62,
      "metadata": {
        "colab": {
          "base_uri": "https://localhost:8080/"
        },
        "id": "Z84pv-4B89v_",
        "outputId": "99dfdf96-df08-42c4-8ba0-8c29cf80fb49"
      },
      "outputs": [
        {
          "output_type": "execute_result",
          "data": {
            "text/plain": [
              "array([39717, 26137, 45052, ..., 19596, 15112, 27018])"
            ]
          },
          "metadata": {},
          "execution_count": 62
        }
      ],
      "source": [
        "idxs = np.random.permutation(trainset1_len)\n",
        "idxs"
      ]
    },
    {
      "cell_type": "code",
      "execution_count": 63,
      "metadata": {
        "colab": {
          "base_uri": "https://localhost:8080/"
        },
        "id": "UaRzaLdI8wQn",
        "outputId": "c5335cc2-a26b-4d59-91ff-d917ce10fbea"
      },
      "outputs": [
        {
          "output_type": "execute_result",
          "data": {
            "text/plain": [
              "array([39717, 26137, 45052, ..., 19596, 15112, 27018])"
            ]
          },
          "metadata": {},
          "execution_count": 63
        }
      ],
      "source": [
        "train_indices = idxs\n",
        "train_indices"
      ]
    },
    {
      "cell_type": "code",
      "execution_count": 64,
      "metadata": {
        "colab": {
          "base_uri": "https://localhost:8080/"
        },
        "id": "RlQs7v7b72ef",
        "outputId": "3fe26254-4083-4920-8bde-d5c421a64369"
      },
      "outputs": [
        {
          "output_type": "stream",
          "name": "stdout",
          "text": [
            "1000\n"
          ]
        }
      ],
      "source": [
        "indices_per_client = int (len(train_indices)/users)\n",
        "\n",
        "print(indices_per_client)"
      ]
    },
    {
      "cell_type": "markdown",
      "metadata": {
        "id": "ITj3bmDnn5Pc"
      },
      "source": [
        "# trainset2 which has non poisoned data"
      ]
    },
    {
      "cell_type": "code",
      "execution_count": 65,
      "metadata": {
        "id": "gLINNW07k0p4"
      },
      "outputs": [],
      "source": [
        "trainset2 = torchvision.datasets.CIFAR10(root=root_path, download=False, transform=transform)"
      ]
    },
    {
      "cell_type": "code",
      "execution_count": 65,
      "metadata": {
        "id": "Uua558kAHGFV"
      },
      "outputs": [],
      "source": []
    },
    {
      "cell_type": "code",
      "execution_count": 65,
      "metadata": {
        "id": "h0rFdoEHHGCr"
      },
      "outputs": [],
      "source": []
    },
    {
      "cell_type": "markdown",
      "metadata": {
        "id": "avU4ZCczk0gq"
      },
      "source": [
        "# TestSet "
      ]
    },
    {
      "cell_type": "code",
      "execution_count": 66,
      "metadata": {
        "colab": {
          "base_uri": "https://localhost:8080/"
        },
        "id": "l6Io5F36oG2i",
        "outputId": "ebae5fc6-3972-47b1-bfa8-b96c03637744"
      },
      "outputs": [
        {
          "output_type": "stream",
          "name": "stdout",
          "text": [
            "Files already downloaded and verified\n"
          ]
        }
      ],
      "source": [
        "testset = torchvision.datasets.CIFAR10 (root=root_path, train=False, download=True, transform=transform)"
      ]
    },
    {
      "cell_type": "code",
      "execution_count": 66,
      "metadata": {
        "id": "2O0WOpmmHGvJ"
      },
      "outputs": [],
      "source": []
    },
    {
      "cell_type": "code",
      "execution_count": 66,
      "metadata": {
        "id": "KBGhigI3HGsx"
      },
      "outputs": [],
      "source": []
    },
    {
      "cell_type": "markdown",
      "metadata": {
        "id": "RFuzB_48ypDe"
      },
      "source": [
        "# doing label flipping"
      ]
    },
    {
      "cell_type": "code",
      "execution_count": 67,
      "metadata": {
        "id": "Wl_kO60Zxu1b"
      },
      "outputs": [],
      "source": [
        "\n",
        "\n",
        "# for i in range(len(trainset1)):\n",
        "#     if (trainset2.targets[i] == 6):\n",
        "#         trainset2.targets[i] = 8\n",
        "#     if (trainset2.targets[i] == 2):\n",
        "#         trainset2.targets[i] = 9"
      ]
    },
    {
      "cell_type": "code",
      "execution_count": 67,
      "metadata": {
        "id": "nmdGn4kSxuzf"
      },
      "outputs": [],
      "source": []
    },
    {
      "cell_type": "code",
      "execution_count": 67,
      "metadata": {
        "id": "4y_pZGecxuy1"
      },
      "outputs": [],
      "source": []
    },
    {
      "cell_type": "code",
      "execution_count": 68,
      "metadata": {
        "colab": {
          "base_uri": "https://localhost:8080/"
        },
        "id": "HMKGRmgYoG0v",
        "outputId": "f8b706b3-4e9f-4cac-95ad-7dd0e9260f15"
      },
      "outputs": [
        {
          "output_type": "execute_result",
          "data": {
            "text/plain": [
              "10000"
            ]
          },
          "metadata": {},
          "execution_count": 68
        }
      ],
      "source": [
        "len(testset)"
      ]
    },
    {
      "cell_type": "code",
      "execution_count": 69,
      "metadata": {
        "colab": {
          "base_uri": "https://localhost:8080/"
        },
        "id": "9rwJ0xa3oGz7",
        "outputId": "27fe31ca-e374-4143-8dfb-39cac227cb41"
      },
      "outputs": [
        {
          "output_type": "execute_result",
          "data": {
            "text/plain": [
              "array([3516, 1594,  165, ..., 9490, 4761, 5493])"
            ]
          },
          "metadata": {},
          "execution_count": 69
        }
      ],
      "source": [
        "idxs = np.random.permutation(10000)\n",
        "idxs"
      ]
    },
    {
      "cell_type": "code",
      "execution_count": 70,
      "metadata": {
        "colab": {
          "base_uri": "https://localhost:8080/"
        },
        "id": "tQoOgSqToiSI",
        "outputId": "7cc172e3-c6a3-45e4-ae63-795d35bfa04f"
      },
      "outputs": [
        {
          "output_type": "execute_result",
          "data": {
            "text/plain": [
              "array([3516, 1594,  165, ..., 9490, 4761, 5493])"
            ]
          },
          "metadata": {},
          "execution_count": 70
        }
      ],
      "source": [
        "val_indices = idxs\n",
        "val_indices "
      ]
    },
    {
      "cell_type": "code",
      "execution_count": 70,
      "metadata": {
        "id": "VNqRjzcjoiPm"
      },
      "outputs": [],
      "source": []
    },
    {
      "cell_type": "code",
      "execution_count": 70,
      "metadata": {
        "id": "a7aN3es8oiNo"
      },
      "outputs": [],
      "source": []
    },
    {
      "cell_type": "code",
      "execution_count": 70,
      "metadata": {
        "id": "Rr8sdue7oiNA"
      },
      "outputs": [],
      "source": []
    },
    {
      "cell_type": "code",
      "execution_count": 71,
      "metadata": {
        "colab": {
          "base_uri": "https://localhost:8080/"
        },
        "id": "G84gZz7gkzyi",
        "outputId": "c801f1c4-87c7-487f-d5ba-8c36f7dd4c5b"
      },
      "outputs": [
        {
          "output_type": "stream",
          "name": "stdout",
          "text": [
            "non-poisoned:  0\n",
            "non-poisoned:  1\n",
            "non-poisoned:  2\n",
            "non-poisoned:  3\n",
            "non-poisoned:  4\n",
            "non-poisoned:  5\n",
            "non-poisoned:  6\n",
            "non-poisoned:  7\n",
            "non-poisoned:  8\n",
            "non-poisoned:  9\n",
            "non-poisoned:  10\n",
            "non-poisoned:  11\n",
            "non-poisoned:  12\n",
            "non-poisoned:  13\n",
            "non-poisoned:  14\n",
            "non-poisoned:  15\n",
            "non-poisoned:  16\n",
            "non-poisoned:  17\n",
            "non-poisoned:  18\n",
            "non-poisoned:  19\n",
            "non-poisoned:  20\n",
            "non-poisoned:  21\n",
            "non-poisoned:  22\n",
            "non-poisoned:  23\n",
            "non-poisoned:  24\n",
            "non-poisoned:  25\n",
            "non-poisoned:  26\n",
            "non-poisoned:  27\n",
            "non-poisoned:  28\n",
            "non-poisoned:  29\n",
            "non-poisoned:  30\n",
            "non-poisoned:  31\n",
            "non-poisoned:  32\n",
            "non-poisoned:  33\n",
            "non-poisoned:  34\n",
            "non-poisoned:  35\n",
            "non-poisoned:  36\n",
            "non-poisoned:  37\n",
            "non-poisoned:  38\n",
            "non-poisoned:  39\n",
            "non-poisoned:  40\n",
            "non-poisoned:  41\n",
            "non-poisoned:  42\n",
            "non-poisoned:  43\n",
            "non-poisoned:  44\n",
            "non-poisoned:  45\n",
            "non-poisoned:  46\n",
            "non-poisoned:  47\n",
            "non-poisoned:  48\n",
            "non-poisoned:  49\n"
          ]
        }
      ],
      "source": [
        "#experimenting \n",
        "\n",
        "users = 50\n",
        "\n",
        "\n",
        "\n",
        "batch_size = 100\n",
        "\n",
        "train_loaders2 = [] \n",
        "\n",
        "train_trainset2=[]\n",
        "\n",
        "train_loaders1 = []\n",
        "\n",
        "train_trainset1 = []\n",
        "\n",
        "\n",
        "for i in range(users):\n",
        "  start= indices_per_client*i\n",
        "  end= indices_per_client * (i+1)\n",
        "  \n",
        "  #print((train_indices[start:end]))\n",
        "\n",
        "\n",
        "  train_trainset1.append(list(train_indices[start:end]))\n",
        "\n",
        "  train_trainset2.append(list(train_indices[start:end]))\n",
        "\n",
        "  #print(len(train_dataset))\n",
        "\n",
        "  train_sampler = SubsetRandomSampler(train_indices[start : end])\n",
        "  # train_loaders= DataLoader(dataset, batch_size, sampler= train_sampler) \n",
        "\n",
        "  #####*********************************************************************################\n",
        "  ##### IMPORTANT : HERE BELOW CHANGE IF CONDITION TO SELECT NO OF POISONED CLIETNS ########\n",
        "  #####*********************************************************************################\n",
        "\n",
        "  if i < 0 :\n",
        "    print(\"poisoned: \", i)\n",
        "    train_loaders1.append(DataLoader(trainset1, batch_size=batch_size,sampler=train_sampler)) # client training on poisoned data\n",
        "  else:\n",
        "    train_loaders1.append(DataLoader(trainset2, batch_size=batch_size,sampler=train_sampler)) # rest training on normal data\n",
        "    print(\"non-poisoned: \", i)\n",
        "\n",
        "\n",
        "\n",
        "  train_loaders2.append(DataLoader(trainset2, batch_size=batch_size,sampler=train_sampler))\n",
        "\n",
        "  \n",
        "\n",
        "\n",
        "\n",
        "\n",
        "\n",
        "val_sampler = SubsetRandomSampler(val_indices)\n",
        "\n",
        "\n",
        "\n",
        "test_loader = DataLoader(testset, batch_size=batch_size, sampler=val_sampler) \n",
        "# \n",
        "\n"
      ]
    },
    {
      "cell_type": "code",
      "execution_count": 72,
      "metadata": {
        "colab": {
          "base_uri": "https://localhost:8080/"
        },
        "id": "Gexlk40il7Qk",
        "outputId": "296a0a78-b93b-4da0-d923-95f1b830751c"
      },
      "outputs": [
        {
          "output_type": "stream",
          "name": "stdout",
          "text": [
            "50\n"
          ]
        }
      ],
      "source": [
        "print(len(train_trainset1))"
      ]
    },
    {
      "cell_type": "code",
      "execution_count": 73,
      "metadata": {
        "colab": {
          "base_uri": "https://localhost:8080/"
        },
        "id": "wtJqBFBJl7OA",
        "outputId": "c3ea2063-5814-4443-8d80-0069f64e6174"
      },
      "outputs": [
        {
          "output_type": "execute_result",
          "data": {
            "text/plain": [
              "50"
            ]
          },
          "metadata": {},
          "execution_count": 73
        }
      ],
      "source": [
        "len(train_loaders1)"
      ]
    },
    {
      "cell_type": "code",
      "execution_count": 73,
      "metadata": {
        "id": "gGg3xVFDl7Lq"
      },
      "outputs": [],
      "source": []
    },
    {
      "cell_type": "code",
      "execution_count": 73,
      "metadata": {
        "id": "rgjmMnqHl7KL"
      },
      "outputs": [],
      "source": []
    },
    {
      "cell_type": "code",
      "execution_count": 73,
      "metadata": {
        "id": "UmlPb3j5l7Jb"
      },
      "outputs": [],
      "source": []
    },
    {
      "cell_type": "code",
      "execution_count": 74,
      "metadata": {
        "id": "RKEVMsEKkv-4"
      },
      "outputs": [],
      "source": [
        "from torch.autograd import Variable\n",
        "import torch.nn.init as init\n",
        "\n",
        "def _weights_init(m):\n",
        "    classname = m.__class__.__name__\n",
        "    #print(classname)\n",
        "    if isinstance(m, nn.Linear) or isinstance(m, nn.Conv2d):\n",
        "        init.kaiming_normal_(m.weight)\n",
        "\n",
        "class LambdaLayer(nn.Module):\n",
        "    def __init__(self, lambd):\n",
        "        super(LambdaLayer, self).__init__()\n",
        "        self.lambd = lambd\n",
        "\n",
        "    def forward(self, x):\n",
        "        return self.lambd(x)\n",
        "\n",
        "\n",
        "class BasicBlock(nn.Module):\n",
        "    expansion = 1\n",
        "\n",
        "    def __init__(self, in_planes, planes, stride=1, option='A'):\n",
        "        super(BasicBlock, self).__init__()\n",
        "        self.conv1 = nn.Conv2d(in_planes, planes, kernel_size=3, stride=stride, padding=1, bias=False)\n",
        "        self.bn1 = nn.BatchNorm2d(planes)\n",
        "        self.conv2 = nn.Conv2d(planes, planes, kernel_size=3, stride=1, padding=1, bias=False)\n",
        "        self.bn2 = nn.BatchNorm2d(planes)\n",
        "\n",
        "        self.shortcut = nn.Sequential()\n",
        "        if stride != 1 or in_planes != planes:\n",
        "            if option == 'A':\n",
        "                \"\"\"\n",
        "                For CIFAR10 ResNet paper uses option A.\n",
        "                \"\"\"\n",
        "                self.shortcut = LambdaLayer(lambda x:\n",
        "                                            F.pad(x[:, :, ::2, ::2], (0, 0, 0, 0, planes//4, planes//4), \"constant\", 0))\n",
        "            elif option == 'B':\n",
        "                self.shortcut = nn.Sequential(\n",
        "                     nn.Conv2d(in_planes, self.expansion * planes, kernel_size=1, stride=stride, bias=False),\n",
        "                     nn.BatchNorm2d(self.expansion * planes)\n",
        "                )\n",
        "\n",
        "    def forward(self, x):\n",
        "        out = F.relu(self.bn1(self.conv1(x)))\n",
        "        out = self.bn2(self.conv2(out))\n",
        "        out += self.shortcut(x)\n",
        "        out = F.relu(out)\n",
        "        return out\n",
        "\n",
        "\n",
        "class ResNet(nn.Module):\n",
        "    def __init__(self, block, num_blocks, num_classes=10):\n",
        "        super(ResNet, self).__init__()\n",
        "        self.in_planes = 16\n",
        "\n",
        "        self.conv1 = nn.Conv2d(3, 16, kernel_size=3, stride=1, padding=1, bias=False)\n",
        "        self.bn1 = nn.BatchNorm2d(16)\n",
        "        self.layer1 = self._make_layer(block, 16, num_blocks[0], stride=1)\n",
        "        self.layer2 = self._make_layer(block, 32, num_blocks[1], stride=2)\n",
        "        self.layer3 = self._make_layer(block, 64, num_blocks[2], stride=2)\n",
        "        self.linear = nn.Linear(64, num_classes)\n",
        "\n",
        "        self.apply(_weights_init)\n",
        "\n",
        "    def _make_layer(self, block, planes, num_blocks, stride):\n",
        "        strides = [stride] + [1]*(num_blocks-1)\n",
        "        layers = []\n",
        "        for stride in strides:\n",
        "            layers.append(block(self.in_planes, planes, stride))\n",
        "            self.in_planes = planes * block.expansion\n",
        "\n",
        "        return nn.Sequential(*layers)\n",
        "\n",
        "    def forward(self, x):\n",
        "        out = F.relu(self.bn1(self.conv1(x)))\n",
        "        out = self.layer1(out)\n",
        "        out = self.layer2(out)\n",
        "        out = self.layer3(out)\n",
        "        out = F.avg_pool2d(out, out.size()[3])\n",
        "        out = out.view(out.size(0), -1)\n",
        "        out = self.linear(out)\n",
        "        return out\n",
        "\n",
        "\n",
        "def resnet20():\n",
        "    return ResNet(BasicBlock, [3, 3, 3])"
      ]
    },
    {
      "cell_type": "code",
      "execution_count": 75,
      "metadata": {
        "colab": {
          "base_uri": "https://localhost:8080/"
        },
        "id": "0qan7gDdqlWV",
        "outputId": "1b752571-c810-4c16-bc7d-d6721a255d7e"
      },
      "outputs": [
        {
          "output_type": "execute_result",
          "data": {
            "text/plain": [
              "ResNet(\n",
              "  (conv1): Conv2d(3, 16, kernel_size=(3, 3), stride=(1, 1), padding=(1, 1), bias=False)\n",
              "  (bn1): BatchNorm2d(16, eps=1e-05, momentum=0.1, affine=True, track_running_stats=True)\n",
              "  (layer1): Sequential(\n",
              "    (0): BasicBlock(\n",
              "      (conv1): Conv2d(16, 16, kernel_size=(3, 3), stride=(1, 1), padding=(1, 1), bias=False)\n",
              "      (bn1): BatchNorm2d(16, eps=1e-05, momentum=0.1, affine=True, track_running_stats=True)\n",
              "      (conv2): Conv2d(16, 16, kernel_size=(3, 3), stride=(1, 1), padding=(1, 1), bias=False)\n",
              "      (bn2): BatchNorm2d(16, eps=1e-05, momentum=0.1, affine=True, track_running_stats=True)\n",
              "      (shortcut): Sequential()\n",
              "    )\n",
              "    (1): BasicBlock(\n",
              "      (conv1): Conv2d(16, 16, kernel_size=(3, 3), stride=(1, 1), padding=(1, 1), bias=False)\n",
              "      (bn1): BatchNorm2d(16, eps=1e-05, momentum=0.1, affine=True, track_running_stats=True)\n",
              "      (conv2): Conv2d(16, 16, kernel_size=(3, 3), stride=(1, 1), padding=(1, 1), bias=False)\n",
              "      (bn2): BatchNorm2d(16, eps=1e-05, momentum=0.1, affine=True, track_running_stats=True)\n",
              "      (shortcut): Sequential()\n",
              "    )\n",
              "    (2): BasicBlock(\n",
              "      (conv1): Conv2d(16, 16, kernel_size=(3, 3), stride=(1, 1), padding=(1, 1), bias=False)\n",
              "      (bn1): BatchNorm2d(16, eps=1e-05, momentum=0.1, affine=True, track_running_stats=True)\n",
              "      (conv2): Conv2d(16, 16, kernel_size=(3, 3), stride=(1, 1), padding=(1, 1), bias=False)\n",
              "      (bn2): BatchNorm2d(16, eps=1e-05, momentum=0.1, affine=True, track_running_stats=True)\n",
              "      (shortcut): Sequential()\n",
              "    )\n",
              "  )\n",
              "  (layer2): Sequential(\n",
              "    (0): BasicBlock(\n",
              "      (conv1): Conv2d(16, 32, kernel_size=(3, 3), stride=(2, 2), padding=(1, 1), bias=False)\n",
              "      (bn1): BatchNorm2d(32, eps=1e-05, momentum=0.1, affine=True, track_running_stats=True)\n",
              "      (conv2): Conv2d(32, 32, kernel_size=(3, 3), stride=(1, 1), padding=(1, 1), bias=False)\n",
              "      (bn2): BatchNorm2d(32, eps=1e-05, momentum=0.1, affine=True, track_running_stats=True)\n",
              "      (shortcut): LambdaLayer()\n",
              "    )\n",
              "    (1): BasicBlock(\n",
              "      (conv1): Conv2d(32, 32, kernel_size=(3, 3), stride=(1, 1), padding=(1, 1), bias=False)\n",
              "      (bn1): BatchNorm2d(32, eps=1e-05, momentum=0.1, affine=True, track_running_stats=True)\n",
              "      (conv2): Conv2d(32, 32, kernel_size=(3, 3), stride=(1, 1), padding=(1, 1), bias=False)\n",
              "      (bn2): BatchNorm2d(32, eps=1e-05, momentum=0.1, affine=True, track_running_stats=True)\n",
              "      (shortcut): Sequential()\n",
              "    )\n",
              "    (2): BasicBlock(\n",
              "      (conv1): Conv2d(32, 32, kernel_size=(3, 3), stride=(1, 1), padding=(1, 1), bias=False)\n",
              "      (bn1): BatchNorm2d(32, eps=1e-05, momentum=0.1, affine=True, track_running_stats=True)\n",
              "      (conv2): Conv2d(32, 32, kernel_size=(3, 3), stride=(1, 1), padding=(1, 1), bias=False)\n",
              "      (bn2): BatchNorm2d(32, eps=1e-05, momentum=0.1, affine=True, track_running_stats=True)\n",
              "      (shortcut): Sequential()\n",
              "    )\n",
              "  )\n",
              "  (layer3): Sequential(\n",
              "    (0): BasicBlock(\n",
              "      (conv1): Conv2d(32, 64, kernel_size=(3, 3), stride=(2, 2), padding=(1, 1), bias=False)\n",
              "      (bn1): BatchNorm2d(64, eps=1e-05, momentum=0.1, affine=True, track_running_stats=True)\n",
              "      (conv2): Conv2d(64, 64, kernel_size=(3, 3), stride=(1, 1), padding=(1, 1), bias=False)\n",
              "      (bn2): BatchNorm2d(64, eps=1e-05, momentum=0.1, affine=True, track_running_stats=True)\n",
              "      (shortcut): LambdaLayer()\n",
              "    )\n",
              "    (1): BasicBlock(\n",
              "      (conv1): Conv2d(64, 64, kernel_size=(3, 3), stride=(1, 1), padding=(1, 1), bias=False)\n",
              "      (bn1): BatchNorm2d(64, eps=1e-05, momentum=0.1, affine=True, track_running_stats=True)\n",
              "      (conv2): Conv2d(64, 64, kernel_size=(3, 3), stride=(1, 1), padding=(1, 1), bias=False)\n",
              "      (bn2): BatchNorm2d(64, eps=1e-05, momentum=0.1, affine=True, track_running_stats=True)\n",
              "      (shortcut): Sequential()\n",
              "    )\n",
              "    (2): BasicBlock(\n",
              "      (conv1): Conv2d(64, 64, kernel_size=(3, 3), stride=(1, 1), padding=(1, 1), bias=False)\n",
              "      (bn1): BatchNorm2d(64, eps=1e-05, momentum=0.1, affine=True, track_running_stats=True)\n",
              "      (conv2): Conv2d(64, 64, kernel_size=(3, 3), stride=(1, 1), padding=(1, 1), bias=False)\n",
              "      (bn2): BatchNorm2d(64, eps=1e-05, momentum=0.1, affine=True, track_running_stats=True)\n",
              "      (shortcut): Sequential()\n",
              "    )\n",
              "  )\n",
              "  (linear): Linear(in_features=64, out_features=10, bias=True)\n",
              ")"
            ]
          },
          "metadata": {},
          "execution_count": 75
        }
      ],
      "source": [
        "net_glob = resnet20()\n",
        "net_glob.to(device)\n"
      ]
    },
    {
      "cell_type": "code",
      "execution_count": 75,
      "metadata": {
        "id": "fUQs4_a_qn66"
      },
      "outputs": [],
      "source": []
    },
    {
      "cell_type": "code",
      "execution_count": 76,
      "metadata": {
        "id": "9rnGfTJocu7Y"
      },
      "outputs": [],
      "source": [
        "\n",
        "lr = 0.001\n",
        "criterion = nn.CrossEntropyLoss()\n",
        "optimizer = optim.SGD(net_glob.parameters(), lr=lr, momentum=0.9)\n"
      ]
    },
    {
      "cell_type": "code",
      "execution_count": 77,
      "metadata": {
        "id": "wiH3wAs7cu4z"
      },
      "outputs": [],
      "source": [
        "local_epochs = 1"
      ]
    },
    {
      "cell_type": "code",
      "execution_count": 78,
      "metadata": {
        "id": "zS4f6NvLjjl-"
      },
      "outputs": [],
      "source": [
        "def FedAvg(w):\n",
        "    w_avg = copy.deepcopy(w[0])\n",
        "    for k in w_avg.keys():\n",
        "        for i in range(1, len(w)):\n",
        "            w_avg[k] += w[i][k]\n",
        "        w_avg[k] = torch.div(w_avg[k], len(w))\n",
        "    return w_avg"
      ]
    },
    {
      "cell_type": "code",
      "execution_count": 79,
      "metadata": {
        "id": "rv6j7pHFjjhF"
      },
      "outputs": [],
      "source": [
        "num_users = 15\n",
        "\n",
        "frac = 1 # this tells the percentage of clients chosen for each global round. 1=100%(all the clinets are chosen),0.5(only half the clients are chosen)"
      ]
    },
    {
      "cell_type": "code",
      "execution_count": 80,
      "metadata": {
        "id": "V4VieLBQWVxH"
      },
      "outputs": [],
      "source": [
        "# FGSM attack code\n",
        "def fgsm_attack(image, epsilon, data_grad):\n",
        "    # Collect the element-wise sign of the data gradient\n",
        "    sign_data_grad = data_grad.sign()\n",
        "    # Create the perturbed image by adjusting each pixel of the input image\n",
        "    perturbed_image = image + epsilon*sign_data_grad\n",
        "    # Adding clipping to maintain [0,1] range\n",
        "    perturbed_image = torch.clamp(perturbed_image, 0, 1)\n",
        "    # Return the perturbed image\n",
        "    return perturbed_image"
      ]
    },
    {
      "cell_type": "code",
      "execution_count": 81,
      "metadata": {
        "id": "qk0aVR2IWVxH"
      },
      "outputs": [],
      "source": [
        "# def fgsm_attack(model, loss, images, labels, eps) :\n",
        "    \n",
        "#     images = images.to(device)\n",
        "#     labels = labels.to(device)\n",
        "#     images.requires_grad = True\n",
        "           \n",
        "#     outputs = model(images)\n",
        "    \n",
        "#     model.zero_grad()\n",
        "#     cost = criterion(outputs, labels)\n",
        "#     cost.backward()\n",
        "    \n",
        "#     attack_images = images + eps*images.grad.sign()\n",
        "#     attack_images = torch.clamp(attack_images, 0, 1)\n",
        "    \n",
        "#     return attack_images\n",
        "def test(net, test_loader, criterion, device, epsilon):\n",
        "    net.eval()  # set the model to evaluation mode\n",
        "    test_loss = 0.0\n",
        "    correct = 0\n",
        "    total = 0\n",
        "\n",
        "    for data, target in test_loader:\n",
        "        data, target = data.to(device), target.to(device)\n",
        "\n",
        "        # Generate adversarial examples using FGSM\n",
        "        data.requires_grad = True\n",
        "        output = net(data)\n",
        "        loss = criterion(output, target)\n",
        "        net.zero_grad()\n",
        "        loss.backward()\n",
        "        data_grad = data.grad.data\n",
        "        perturbed_data = fgsm_attack(data, epsilon, data_grad)\n",
        "        with torch.no_grad():\n",
        "            output = net(perturbed_data)\n",
        "\n",
        "        # Compute loss and accuracy\n",
        "        test_loss += criterion(output, target).item()\n",
        "        _, predicted = torch.max(output.data, 1)\n",
        "        total += target.size(0)\n",
        "        correct += (predicted == target).sum().item()\n",
        "\n",
        "    test_loss /= len(test_loader)\n",
        "    accuracy = 100.0 * correct / total\n",
        "\n",
        "    print(\"Test set: Average loss: {:.4f}, Accuracy: {}/{} ({:.2f}%)\".format(\n",
        "        test_loss, correct, total, accuracy))"
      ]
    },
    {
      "cell_type": "code",
      "execution_count": 81,
      "metadata": {
        "id": "aWJl4zMHWVxH"
      },
      "outputs": [],
      "source": []
    },
    {
      "cell_type": "code",
      "execution_count": 82,
      "metadata": {
        "colab": {
          "base_uri": "https://localhost:8080/"
        },
        "id": "fw9zPnxMjjfB",
        "outputId": "14cc7761-194e-4388-9802-f1a4829d2940"
      },
      "outputs": [
        {
          "output_type": "stream",
          "name": "stderr",
          "text": [
            "Round1: User6_1: 100%|██████████████████████████████████████████████| 10/10 [00:00<00:00, 23.06it/s]\n",
            "Round1: User13_1: 100%|█████████████████████████████████████████████| 10/10 [00:00<00:00, 23.91it/s]\n",
            "Round1: User5_1: 100%|██████████████████████████████████████████████| 10/10 [00:00<00:00, 24.93it/s]\n",
            "Round1: User9_1: 100%|██████████████████████████████████████████████| 10/10 [00:00<00:00, 21.78it/s]\n",
            "Round1: User12_1: 100%|█████████████████████████████████████████████| 10/10 [00:00<00:00, 20.48it/s]\n",
            "Round1: User2_1: 100%|██████████████████████████████████████████████| 10/10 [00:00<00:00, 23.37it/s]\n",
            "Round1: User1_1: 100%|██████████████████████████████████████████████| 10/10 [00:00<00:00, 23.24it/s]\n",
            "Round1: User11_1: 100%|█████████████████████████████████████████████| 10/10 [00:00<00:00, 23.92it/s]\n",
            "Round1: User3_1: 100%|██████████████████████████████████████████████| 10/10 [00:00<00:00, 21.92it/s]\n",
            "Round1: User0_1: 100%|██████████████████████████████████████████████| 10/10 [00:00<00:00, 24.39it/s]\n",
            "Round1: User10_1: 100%|█████████████████████████████████████████████| 10/10 [00:00<00:00, 25.32it/s]\n",
            "Round1: User8_1: 100%|██████████████████████████████████████████████| 10/10 [00:00<00:00, 16.43it/s]\n",
            "Round1: User14_1: 100%|█████████████████████████████████████████████| 10/10 [00:00<00:00, 17.33it/s]\n",
            "Round1: User4_1: 100%|██████████████████████████████████████████████| 10/10 [00:00<00:00, 16.73it/s]\n",
            "Round1: User7_1: 100%|██████████████████████████████████████████████| 10/10 [00:00<00:00, 15.63it/s]\n"
          ]
        },
        {
          "output_type": "stream",
          "name": "stdout",
          "text": [
            "client:6 train_acc: 14.00%, train_loss: 0.4885\n",
            "client:13 train_acc: 14.90%, train_loss: 0.9800\n",
            "client:5 train_acc: 14.97%, train_loss: 1.4807\n",
            "client:9 train_acc: 14.82%, train_loss: 1.9770\n",
            "client:12 train_acc: 14.80%, train_loss: 2.4736\n",
            "client:2 train_acc: 14.72%, train_loss: 2.9693\n",
            "client:1 train_acc: 14.71%, train_loss: 3.4651\n",
            "client:11 train_acc: 14.30%, train_loss: 3.9653\n",
            "client:3 train_acc: 14.14%, train_loss: 4.4529\n",
            "client:0 train_acc: 14.25%, train_loss: 4.9374\n",
            "client:10 train_acc: 14.59%, train_loss: 5.4239\n",
            "client:8 train_acc: 14.63%, train_loss: 5.9123\n",
            "client:14 train_acc: 14.60%, train_loss: 6.4063\n",
            "client:4 train_acc: 14.68%, train_loss: 6.8987\n",
            "client:7 train_acc: 14.63%, train_loss: 7.3886\n",
            "Test set: Average loss: 2.7320, Accuracy: 518/10000 (5.18%)\n"
          ]
        },
        {
          "output_type": "stream",
          "name": "stderr",
          "text": [
            "Round2: User1_1: 100%|██████████████████████████████████████████████| 10/10 [00:00<00:00, 16.38it/s]\n",
            "Round2: User12_1: 100%|█████████████████████████████████████████████| 10/10 [00:00<00:00, 18.29it/s]\n",
            "Round2: User9_1: 100%|██████████████████████████████████████████████| 10/10 [00:00<00:00, 16.81it/s]\n",
            "Round2: User7_1: 100%|██████████████████████████████████████████████| 10/10 [00:00<00:00, 20.10it/s]\n",
            "Round2: User5_1: 100%|██████████████████████████████████████████████| 10/10 [00:00<00:00, 26.23it/s]\n",
            "Round2: User2_1: 100%|██████████████████████████████████████████████| 10/10 [00:00<00:00, 24.05it/s]\n",
            "Round2: User8_1: 100%|██████████████████████████████████████████████| 10/10 [00:00<00:00, 25.57it/s]\n",
            "Round2: User6_1: 100%|██████████████████████████████████████████████| 10/10 [00:00<00:00, 24.86it/s]\n",
            "Round2: User0_1: 100%|██████████████████████████████████████████████| 10/10 [00:00<00:00, 12.58it/s]\n",
            "Round2: User13_1: 100%|█████████████████████████████████████████████| 10/10 [00:00<00:00, 23.57it/s]\n",
            "Round2: User11_1: 100%|█████████████████████████████████████████████| 10/10 [00:00<00:00, 13.18it/s]\n",
            "Round2: User10_1: 100%|█████████████████████████████████████████████| 10/10 [00:00<00:00, 19.14it/s]\n",
            "Round2: User4_1: 100%|██████████████████████████████████████████████| 10/10 [00:00<00:00, 15.36it/s]\n",
            "Round2: User3_1: 100%|██████████████████████████████████████████████| 10/10 [00:00<00:00, 25.49it/s]\n",
            "Round2: User14_1: 100%|█████████████████████████████████████████████| 10/10 [00:00<00:00, 26.02it/s]\n"
          ]
        },
        {
          "output_type": "stream",
          "name": "stdout",
          "text": [
            "client:1 train_acc: 15.70%, train_loss: 0.4474\n",
            "client:12 train_acc: 15.70%, train_loss: 0.8896\n",
            "client:9 train_acc: 16.43%, train_loss: 1.3289\n",
            "client:7 train_acc: 16.40%, train_loss: 1.7742\n",
            "client:5 train_acc: 16.96%, train_loss: 2.2147\n",
            "client:2 train_acc: 17.07%, train_loss: 2.6546\n",
            "client:8 train_acc: 17.30%, train_loss: 3.0938\n",
            "client:6 train_acc: 17.34%, train_loss: 3.5374\n",
            "client:0 train_acc: 17.32%, train_loss: 3.9826\n",
            "client:13 train_acc: 17.15%, train_loss: 4.4241\n",
            "client:11 train_acc: 17.00%, train_loss: 4.8678\n",
            "client:10 train_acc: 17.10%, train_loss: 5.3084\n",
            "client:4 train_acc: 17.08%, train_loss: 5.7505\n",
            "client:3 train_acc: 17.06%, train_loss: 6.1969\n",
            "client:14 train_acc: 16.97%, train_loss: 6.6453\n",
            "Test set: Average loss: 2.5275, Accuracy: 678/10000 (6.78%)\n"
          ]
        },
        {
          "output_type": "stream",
          "name": "stderr",
          "text": [
            "Round3: User13_1: 100%|█████████████████████████████████████████████| 10/10 [00:00<00:00, 23.89it/s]\n",
            "Round3: User0_1: 100%|██████████████████████████████████████████████| 10/10 [00:00<00:00, 23.34it/s]\n",
            "Round3: User7_1: 100%|██████████████████████████████████████████████| 10/10 [00:00<00:00, 21.03it/s]\n",
            "Round3: User10_1: 100%|█████████████████████████████████████████████| 10/10 [00:00<00:00, 25.33it/s]\n",
            "Round3: User11_1: 100%|█████████████████████████████████████████████| 10/10 [00:00<00:00, 22.94it/s]\n",
            "Round3: User5_1: 100%|██████████████████████████████████████████████| 10/10 [00:00<00:00, 25.03it/s]\n",
            "Round3: User1_1: 100%|██████████████████████████████████████████████| 10/10 [00:00<00:00, 23.73it/s]\n",
            "Round3: User2_1: 100%|██████████████████████████████████████████████| 10/10 [00:00<00:00, 24.72it/s]\n",
            "Round3: User9_1: 100%|██████████████████████████████████████████████| 10/10 [00:00<00:00, 23.39it/s]\n",
            "Round3: User8_1: 100%|██████████████████████████████████████████████| 10/10 [00:00<00:00, 24.12it/s]\n",
            "Round3: User3_1: 100%|██████████████████████████████████████████████| 10/10 [00:00<00:00, 24.88it/s]\n",
            "Round3: User6_1: 100%|██████████████████████████████████████████████| 10/10 [00:00<00:00, 17.06it/s]\n",
            "Round3: User14_1: 100%|█████████████████████████████████████████████| 10/10 [00:00<00:00, 17.72it/s]\n",
            "Round3: User4_1: 100%|██████████████████████████████████████████████| 10/10 [00:00<00:00, 17.09it/s]\n",
            "Round3: User12_1: 100%|█████████████████████████████████████████████| 10/10 [00:00<00:00, 16.28it/s]\n"
          ]
        },
        {
          "output_type": "stream",
          "name": "stdout",
          "text": [
            "client:13 train_acc: 23.10%, train_loss: 0.4265\n",
            "client:0 train_acc: 22.85%, train_loss: 0.8535\n",
            "client:7 train_acc: 22.13%, train_loss: 1.2811\n",
            "client:10 train_acc: 21.82%, train_loss: 1.7048\n",
            "client:11 train_acc: 21.82%, train_loss: 2.1345\n",
            "client:5 train_acc: 21.62%, train_loss: 2.5604\n",
            "client:1 train_acc: 21.43%, train_loss: 2.9927\n",
            "client:2 train_acc: 21.62%, train_loss: 3.4195\n",
            "client:9 train_acc: 21.66%, train_loss: 3.8449\n",
            "client:8 train_acc: 21.83%, train_loss: 4.2673\n",
            "client:3 train_acc: 21.75%, train_loss: 4.6955\n",
            "client:6 train_acc: 21.96%, train_loss: 5.1238\n",
            "client:14 train_acc: 21.85%, train_loss: 5.5570\n",
            "client:4 train_acc: 21.94%, train_loss: 5.9838\n",
            "client:12 train_acc: 21.95%, train_loss: 6.4115\n",
            "Test set: Average loss: 2.4837, Accuracy: 384/10000 (3.84%)\n"
          ]
        },
        {
          "output_type": "stream",
          "name": "stderr",
          "text": [
            "Round4: User4_1: 100%|██████████████████████████████████████████████| 10/10 [00:00<00:00, 17.30it/s]\n",
            "Round4: User6_1: 100%|██████████████████████████████████████████████| 10/10 [00:00<00:00, 18.12it/s]\n",
            "Round4: User8_1: 100%|██████████████████████████████████████████████| 10/10 [00:00<00:00, 17.38it/s]\n",
            "Round4: User11_1: 100%|█████████████████████████████████████████████| 10/10 [00:00<00:00, 21.40it/s]\n",
            "Round4: User9_1: 100%|██████████████████████████████████████████████| 10/10 [00:00<00:00, 22.96it/s]\n",
            "Round4: User14_1: 100%|█████████████████████████████████████████████| 10/10 [00:00<00:00, 20.39it/s]\n",
            "Round4: User5_1: 100%|██████████████████████████████████████████████| 10/10 [00:00<00:00, 24.42it/s]\n",
            "Round4: User0_1: 100%|██████████████████████████████████████████████| 10/10 [00:00<00:00, 23.87it/s]\n",
            "Round4: User7_1: 100%|██████████████████████████████████████████████| 10/10 [00:00<00:00, 23.54it/s]\n",
            "Round4: User12_1: 100%|█████████████████████████████████████████████| 10/10 [00:00<00:00, 25.41it/s]\n",
            "Round4: User13_1: 100%|█████████████████████████████████████████████| 10/10 [00:00<00:00, 22.90it/s]\n",
            "Round4: User2_1: 100%|██████████████████████████████████████████████| 10/10 [00:00<00:00, 22.81it/s]\n",
            "Round4: User10_1: 100%|█████████████████████████████████████████████| 10/10 [00:00<00:00, 24.64it/s]\n",
            "Round4: User3_1: 100%|██████████████████████████████████████████████| 10/10 [00:00<00:00, 23.32it/s]\n",
            "Round4: User1_1: 100%|██████████████████████████████████████████████| 10/10 [00:00<00:00, 24.80it/s]\n"
          ]
        },
        {
          "output_type": "stream",
          "name": "stdout",
          "text": [
            "client:4 train_acc: 22.40%, train_loss: 0.4171\n",
            "client:6 train_acc: 23.90%, train_loss: 0.8361\n",
            "client:8 train_acc: 23.70%, train_loss: 1.2489\n",
            "client:11 train_acc: 23.77%, train_loss: 1.6657\n",
            "client:9 train_acc: 23.84%, train_loss: 2.0795\n",
            "client:14 train_acc: 23.52%, train_loss: 2.5029\n",
            "client:5 train_acc: 23.63%, train_loss: 2.9162\n",
            "client:0 train_acc: 23.67%, train_loss: 3.3340\n",
            "client:7 train_acc: 23.48%, train_loss: 3.7521\n",
            "client:12 train_acc: 23.43%, train_loss: 4.1665\n",
            "client:13 train_acc: 23.46%, train_loss: 4.5820\n",
            "client:2 train_acc: 23.57%, train_loss: 4.9958\n",
            "client:10 train_acc: 23.35%, train_loss: 5.4088\n",
            "client:3 train_acc: 23.31%, train_loss: 5.8275\n",
            "client:1 train_acc: 23.12%, train_loss: 6.2501\n",
            "Test set: Average loss: 2.4700, Accuracy: 541/10000 (5.41%)\n"
          ]
        },
        {
          "output_type": "stream",
          "name": "stderr",
          "text": [
            "Round5: User8_1: 100%|██████████████████████████████████████████████| 10/10 [00:00<00:00, 23.78it/s]\n",
            "Round5: User9_1: 100%|██████████████████████████████████████████████| 10/10 [00:00<00:00, 24.76it/s]\n",
            "Round5: User6_1: 100%|██████████████████████████████████████████████| 10/10 [00:00<00:00, 22.77it/s]\n",
            "Round5: User11_1: 100%|█████████████████████████████████████████████| 10/10 [00:00<00:00, 24.05it/s]\n",
            "Round5: User3_1: 100%|██████████████████████████████████████████████| 10/10 [00:00<00:00, 23.83it/s]\n",
            "Round5: User14_1: 100%|█████████████████████████████████████████████| 10/10 [00:00<00:00, 24.40it/s]\n",
            "Round5: User1_1: 100%|██████████████████████████████████████████████| 10/10 [00:00<00:00, 23.64it/s]\n",
            "Round5: User10_1: 100%|█████████████████████████████████████████████| 10/10 [00:00<00:00, 23.08it/s]\n",
            "Round5: User7_1: 100%|██████████████████████████████████████████████| 10/10 [00:00<00:00, 23.79it/s]\n",
            "Round5: User0_1: 100%|██████████████████████████████████████████████| 10/10 [00:00<00:00, 25.17it/s]\n",
            "Round5: User12_1: 100%|█████████████████████████████████████████████| 10/10 [00:00<00:00, 19.12it/s]\n",
            "Round5: User4_1: 100%|██████████████████████████████████████████████| 10/10 [00:00<00:00, 24.47it/s]\n",
            "Round5: User2_1: 100%|██████████████████████████████████████████████| 10/10 [00:00<00:00, 25.57it/s]\n",
            "Round5: User13_1: 100%|█████████████████████████████████████████████| 10/10 [00:00<00:00, 19.19it/s]\n",
            "Round5: User5_1: 100%|██████████████████████████████████████████████| 10/10 [00:00<00:00, 18.26it/s]\n"
          ]
        },
        {
          "output_type": "stream",
          "name": "stdout",
          "text": [
            "client:8 train_acc: 26.60%, train_loss: 0.4036\n",
            "client:9 train_acc: 25.40%, train_loss: 0.8094\n",
            "client:6 train_acc: 25.87%, train_loss: 1.2200\n",
            "client:11 train_acc: 25.90%, train_loss: 1.6282\n",
            "client:3 train_acc: 25.54%, train_loss: 2.0363\n",
            "client:14 train_acc: 25.17%, train_loss: 2.4516\n",
            "client:1 train_acc: 24.90%, train_loss: 2.8660\n",
            "client:10 train_acc: 24.71%, train_loss: 3.2698\n",
            "client:7 train_acc: 24.64%, train_loss: 3.6784\n",
            "client:0 train_acc: 24.78%, train_loss: 4.0866\n",
            "client:12 train_acc: 24.80%, train_loss: 4.4918\n",
            "client:4 train_acc: 24.74%, train_loss: 4.9011\n",
            "client:2 train_acc: 24.92%, train_loss: 5.3049\n",
            "client:13 train_acc: 24.96%, train_loss: 5.7113\n",
            "client:5 train_acc: 24.90%, train_loss: 6.1164\n",
            "Test set: Average loss: 2.4842, Accuracy: 534/10000 (5.34%)\n"
          ]
        },
        {
          "output_type": "stream",
          "name": "stderr",
          "text": [
            "Round6: User7_1: 100%|██████████████████████████████████████████████| 10/10 [00:00<00:00, 22.37it/s]\n",
            "Round6: User1_1: 100%|██████████████████████████████████████████████| 10/10 [00:00<00:00, 24.07it/s]\n",
            "Round6: User4_1: 100%|██████████████████████████████████████████████| 10/10 [00:00<00:00, 16.63it/s]\n",
            "Round6: User8_1: 100%|██████████████████████████████████████████████| 10/10 [00:00<00:00, 16.84it/s]\n",
            "Round6: User0_1: 100%|██████████████████████████████████████████████| 10/10 [00:00<00:00, 16.13it/s]\n",
            "Round6: User11_1: 100%|█████████████████████████████████████████████| 10/10 [00:00<00:00, 19.53it/s]\n",
            "Round6: User10_1: 100%|█████████████████████████████████████████████| 10/10 [00:00<00:00, 22.09it/s]\n",
            "Round6: User13_1: 100%|█████████████████████████████████████████████| 10/10 [00:00<00:00, 25.32it/s]\n",
            "Round6: User14_1: 100%|█████████████████████████████████████████████| 10/10 [00:00<00:00, 22.69it/s]\n",
            "Round6: User9_1: 100%|██████████████████████████████████████████████| 10/10 [00:00<00:00, 21.37it/s]\n",
            "Round6: User3_1: 100%|██████████████████████████████████████████████| 10/10 [00:00<00:00, 24.34it/s]\n",
            "Round6: User6_1: 100%|██████████████████████████████████████████████| 10/10 [00:00<00:00, 24.55it/s]\n",
            "Round6: User5_1: 100%|██████████████████████████████████████████████| 10/10 [00:00<00:00, 25.12it/s]\n",
            "Round6: User12_1: 100%|█████████████████████████████████████████████| 10/10 [00:00<00:00, 23.25it/s]\n",
            "Round6: User2_1: 100%|██████████████████████████████████████████████| 10/10 [00:00<00:00, 25.37it/s]\n"
          ]
        },
        {
          "output_type": "stream",
          "name": "stdout",
          "text": [
            "client:7 train_acc: 25.30%, train_loss: 0.4009\n",
            "client:1 train_acc: 25.05%, train_loss: 0.8088\n",
            "client:4 train_acc: 24.87%, train_loss: 1.2099\n",
            "client:8 train_acc: 25.45%, train_loss: 1.6068\n",
            "client:0 train_acc: 25.76%, train_loss: 2.0066\n",
            "client:11 train_acc: 25.72%, train_loss: 2.4062\n",
            "client:10 train_acc: 25.57%, train_loss: 2.8022\n",
            "client:13 train_acc: 25.86%, train_loss: 3.2003\n",
            "client:14 train_acc: 25.78%, train_loss: 3.6074\n",
            "client:9 train_acc: 25.97%, train_loss: 4.0038\n",
            "client:3 train_acc: 25.97%, train_loss: 4.4036\n",
            "client:6 train_acc: 26.09%, train_loss: 4.8066\n",
            "client:5 train_acc: 26.08%, train_loss: 5.2033\n",
            "client:12 train_acc: 26.08%, train_loss: 5.6001\n",
            "client:2 train_acc: 26.15%, train_loss: 5.9955\n",
            "Test set: Average loss: 2.5043, Accuracy: 526/10000 (5.26%)\n"
          ]
        },
        {
          "output_type": "stream",
          "name": "stderr",
          "text": [
            "Round7: User12_1: 100%|█████████████████████████████████████████████| 10/10 [00:00<00:00, 24.25it/s]\n",
            "Round7: User2_1: 100%|██████████████████████████████████████████████| 10/10 [00:00<00:00, 24.19it/s]\n",
            "Round7: User0_1: 100%|██████████████████████████████████████████████| 10/10 [00:00<00:00, 23.85it/s]\n",
            "Round7: User1_1: 100%|██████████████████████████████████████████████| 10/10 [00:00<00:00, 25.82it/s]\n",
            "Round7: User14_1: 100%|█████████████████████████████████████████████| 10/10 [00:00<00:00, 24.01it/s]\n",
            "Round7: User11_1: 100%|█████████████████████████████████████████████| 10/10 [00:00<00:00, 25.13it/s]\n",
            "Round7: User9_1: 100%|██████████████████████████████████████████████| 10/10 [00:00<00:00, 26.71it/s]\n",
            "Round7: User4_1: 100%|██████████████████████████████████████████████| 10/10 [00:00<00:00, 23.80it/s]\n",
            "Round7: User3_1: 100%|██████████████████████████████████████████████| 10/10 [00:00<00:00, 25.62it/s]\n",
            "Round7: User5_1: 100%|██████████████████████████████████████████████| 10/10 [00:00<00:00, 25.56it/s]\n",
            "Round7: User10_1: 100%|█████████████████████████████████████████████| 10/10 [00:00<00:00, 23.71it/s]\n",
            "Round7: User7_1: 100%|██████████████████████████████████████████████| 10/10 [00:00<00:00, 23.93it/s]\n",
            "Round7: User13_1: 100%|█████████████████████████████████████████████| 10/10 [00:00<00:00, 20.11it/s]\n",
            "Round7: User8_1: 100%|██████████████████████████████████████████████| 10/10 [00:00<00:00, 24.12it/s]\n",
            "Round7: User6_1: 100%|██████████████████████████████████████████████| 10/10 [00:00<00:00, 25.20it/s]\n"
          ]
        },
        {
          "output_type": "stream",
          "name": "stdout",
          "text": [
            "client:12 train_acc: 28.60%, train_loss: 0.3890\n",
            "client:2 train_acc: 29.25%, train_loss: 0.7760\n",
            "client:0 train_acc: 29.30%, train_loss: 1.1685\n",
            "client:1 train_acc: 28.95%, train_loss: 1.5697\n",
            "client:14 train_acc: 28.50%, train_loss: 1.9701\n",
            "client:11 train_acc: 28.32%, train_loss: 2.3630\n",
            "client:9 train_acc: 28.39%, train_loss: 2.7528\n",
            "client:4 train_acc: 28.14%, train_loss: 3.1471\n",
            "client:3 train_acc: 28.09%, train_loss: 3.5400\n",
            "client:5 train_acc: 28.04%, train_loss: 3.9294\n",
            "client:10 train_acc: 27.95%, train_loss: 4.3184\n",
            "client:7 train_acc: 27.75%, train_loss: 4.7125\n",
            "client:13 train_acc: 27.86%, train_loss: 5.1030\n",
            "client:8 train_acc: 27.89%, train_loss: 5.4937\n",
            "client:6 train_acc: 27.90%, train_loss: 5.8904\n",
            "Test set: Average loss: 2.5299, Accuracy: 619/10000 (6.19%)\n"
          ]
        },
        {
          "output_type": "stream",
          "name": "stderr",
          "text": [
            "Round8: User7_1: 100%|██████████████████████████████████████████████| 10/10 [00:00<00:00, 23.82it/s]\n",
            "Round8: User6_1: 100%|██████████████████████████████████████████████| 10/10 [00:00<00:00, 24.22it/s]\n",
            "Round8: User13_1: 100%|█████████████████████████████████████████████| 10/10 [00:00<00:00, 24.01it/s]\n",
            "Round8: User12_1: 100%|█████████████████████████████████████████████| 10/10 [00:00<00:00, 26.85it/s]\n",
            "Round8: User3_1: 100%|██████████████████████████████████████████████| 10/10 [00:00<00:00, 23.16it/s]\n",
            "Round8: User1_1: 100%|██████████████████████████████████████████████| 10/10 [00:00<00:00, 17.25it/s]\n",
            "Round8: User2_1: 100%|██████████████████████████████████████████████| 10/10 [00:00<00:00, 16.55it/s]\n",
            "Round8: User9_1: 100%|██████████████████████████████████████████████| 10/10 [00:00<00:00, 18.17it/s]\n",
            "Round8: User5_1: 100%|██████████████████████████████████████████████| 10/10 [00:00<00:00, 16.82it/s]\n",
            "Round8: User10_1: 100%|█████████████████████████████████████████████| 10/10 [00:00<00:00, 25.88it/s]\n",
            "Round8: User14_1: 100%|█████████████████████████████████████████████| 10/10 [00:00<00:00, 23.12it/s]\n",
            "Round8: User8_1: 100%|██████████████████████████████████████████████| 10/10 [00:00<00:00, 21.20it/s]\n",
            "Round8: User4_1: 100%|██████████████████████████████████████████████| 10/10 [00:00<00:00, 23.25it/s]\n",
            "Round8: User11_1: 100%|█████████████████████████████████████████████| 10/10 [00:00<00:00, 24.33it/s]\n",
            "Round8: User0_1: 100%|██████████████████████████████████████████████| 10/10 [00:00<00:00, 26.21it/s]\n"
          ]
        },
        {
          "output_type": "stream",
          "name": "stdout",
          "text": [
            "client:7 train_acc: 27.50%, train_loss: 0.3881\n",
            "client:6 train_acc: 28.30%, train_loss: 0.7787\n",
            "client:13 train_acc: 28.70%, train_loss: 1.1632\n",
            "client:12 train_acc: 28.82%, train_loss: 1.5459\n",
            "client:3 train_acc: 28.90%, train_loss: 1.9328\n",
            "client:1 train_acc: 28.70%, train_loss: 2.3285\n",
            "client:2 train_acc: 28.86%, train_loss: 2.7093\n",
            "client:9 train_acc: 29.07%, train_loss: 3.0913\n",
            "client:5 train_acc: 29.06%, train_loss: 3.4750\n",
            "client:10 train_acc: 29.00%, train_loss: 3.8574\n",
            "client:14 train_acc: 28.82%, train_loss: 4.2511\n",
            "client:8 train_acc: 28.74%, train_loss: 4.6352\n",
            "client:4 train_acc: 28.65%, train_loss: 5.0222\n",
            "client:11 train_acc: 28.64%, train_loss: 5.4087\n",
            "client:0 train_acc: 28.77%, train_loss: 5.7953\n",
            "Test set: Average loss: 2.5585, Accuracy: 583/10000 (5.83%)\n"
          ]
        },
        {
          "output_type": "stream",
          "name": "stderr",
          "text": [
            "Round9: User12_1: 100%|█████████████████████████████████████████████| 10/10 [00:00<00:00, 23.79it/s]\n",
            "Round9: User3_1: 100%|██████████████████████████████████████████████| 10/10 [00:00<00:00, 23.74it/s]\n",
            "Round9: User6_1: 100%|██████████████████████████████████████████████| 10/10 [00:00<00:00, 23.34it/s]\n",
            "Round9: User11_1: 100%|█████████████████████████████████████████████| 10/10 [00:00<00:00, 23.91it/s]\n",
            "Round9: User7_1: 100%|██████████████████████████████████████████████| 10/10 [00:00<00:00, 23.71it/s]\n",
            "Round9: User10_1: 100%|█████████████████████████████████████████████| 10/10 [00:00<00:00, 24.50it/s]\n",
            "Round9: User13_1: 100%|█████████████████████████████████████████████| 10/10 [00:00<00:00, 25.46it/s]\n",
            "Round9: User8_1: 100%|██████████████████████████████████████████████| 10/10 [00:00<00:00, 23.02it/s]\n",
            "Round9: User1_1: 100%|██████████████████████████████████████████████| 10/10 [00:00<00:00, 24.02it/s]\n",
            "Round9: User4_1: 100%|██████████████████████████████████████████████| 10/10 [00:00<00:00, 24.44it/s]\n",
            "Round9: User14_1: 100%|█████████████████████████████████████████████| 10/10 [00:00<00:00, 25.68it/s]\n",
            "Round9: User9_1: 100%|██████████████████████████████████████████████| 10/10 [00:00<00:00, 25.06it/s]\n",
            "Round9: User0_1: 100%|██████████████████████████████████████████████| 10/10 [00:00<00:00, 23.82it/s]\n",
            "Round9: User5_1: 100%|██████████████████████████████████████████████| 10/10 [00:00<00:00, 24.97it/s]\n",
            "Round9: User2_1: 100%|██████████████████████████████████████████████| 10/10 [00:00<00:00, 26.67it/s]\n"
          ]
        },
        {
          "output_type": "stream",
          "name": "stdout",
          "text": [
            "client:12 train_acc: 31.30%, train_loss: 0.3767\n",
            "client:3 train_acc: 31.15%, train_loss: 0.7569\n",
            "client:6 train_acc: 30.93%, train_loss: 1.1414\n",
            "client:11 train_acc: 30.73%, train_loss: 1.5225\n",
            "client:7 train_acc: 30.36%, train_loss: 1.9050\n",
            "client:10 train_acc: 30.42%, train_loss: 2.2817\n",
            "client:13 train_acc: 30.43%, train_loss: 2.6596\n",
            "client:8 train_acc: 30.28%, train_loss: 3.0385\n",
            "client:1 train_acc: 30.17%, train_loss: 3.4290\n",
            "client:4 train_acc: 29.93%, train_loss: 3.8094\n",
            "client:14 train_acc: 29.77%, train_loss: 4.1969\n",
            "client:9 train_acc: 29.93%, train_loss: 4.5721\n",
            "client:0 train_acc: 30.03%, train_loss: 4.9517\n",
            "client:5 train_acc: 29.99%, train_loss: 5.3297\n",
            "client:2 train_acc: 30.07%, train_loss: 5.7044\n",
            "Test set: Average loss: 2.5947, Accuracy: 614/10000 (6.14%)\n"
          ]
        },
        {
          "output_type": "stream",
          "name": "stderr",
          "text": [
            "Round10: User0_1: 100%|█████████████████████████████████████████████| 10/10 [00:00<00:00, 23.14it/s]\n",
            "Round10: User8_1: 100%|█████████████████████████████████████████████| 10/10 [00:00<00:00, 24.72it/s]\n",
            "Round10: User3_1: 100%|█████████████████████████████████████████████| 10/10 [00:00<00:00, 24.96it/s]\n",
            "Round10: User9_1: 100%|█████████████████████████████████████████████| 10/10 [00:00<00:00, 23.42it/s]\n",
            "Round10: User14_1: 100%|████████████████████████████████████████████| 10/10 [00:00<00:00, 25.84it/s]\n",
            "Round10: User1_1: 100%|█████████████████████████████████████████████| 10/10 [00:00<00:00, 23.75it/s]\n",
            "Round10: User11_1: 100%|████████████████████████████████████████████| 10/10 [00:00<00:00, 24.69it/s]\n",
            "Round10: User13_1: 100%|████████████████████████████████████████████| 10/10 [00:00<00:00, 25.25it/s]\n",
            "Round10: User10_1: 100%|████████████████████████████████████████████| 10/10 [00:00<00:00, 18.52it/s]\n",
            "Round10: User12_1: 100%|████████████████████████████████████████████| 10/10 [00:00<00:00, 18.99it/s]\n",
            "Round10: User7_1: 100%|█████████████████████████████████████████████| 10/10 [00:00<00:00, 16.64it/s]\n",
            "Round10: User6_1: 100%|█████████████████████████████████████████████| 10/10 [00:00<00:00, 16.27it/s]\n",
            "Round10: User4_1: 100%|█████████████████████████████████████████████| 10/10 [00:00<00:00, 21.72it/s]\n",
            "Round10: User2_1: 100%|█████████████████████████████████████████████| 10/10 [00:00<00:00, 25.87it/s]\n",
            "Round10: User5_1: 100%|█████████████████████████████████████████████| 10/10 [00:00<00:00, 19.82it/s]\n"
          ]
        },
        {
          "output_type": "stream",
          "name": "stdout",
          "text": [
            "client:0 train_acc: 32.50%, train_loss: 0.3730\n",
            "client:8 train_acc: 31.80%, train_loss: 0.7467\n",
            "client:3 train_acc: 31.93%, train_loss: 1.1217\n",
            "client:9 train_acc: 31.90%, train_loss: 1.4911\n",
            "client:14 train_acc: 31.56%, train_loss: 1.8732\n",
            "client:1 train_acc: 31.35%, train_loss: 2.2586\n",
            "client:11 train_acc: 31.41%, train_loss: 2.6347\n",
            "client:13 train_acc: 31.54%, train_loss: 3.0073\n",
            "client:10 train_acc: 31.43%, train_loss: 3.3795\n",
            "client:12 train_acc: 31.51%, train_loss: 3.7510\n",
            "client:7 train_acc: 31.31%, train_loss: 4.1283\n",
            "client:6 train_acc: 31.30%, train_loss: 4.5075\n",
            "client:4 train_acc: 31.12%, train_loss: 4.8826\n",
            "client:2 train_acc: 31.16%, train_loss: 5.2516\n",
            "client:5 train_acc: 31.17%, train_loss: 5.6244\n",
            "Test set: Average loss: 2.6217, Accuracy: 617/10000 (6.17%)\n"
          ]
        },
        {
          "output_type": "stream",
          "name": "stderr",
          "text": [
            "Round11: User11_1: 100%|████████████████████████████████████████████| 10/10 [00:00<00:00, 19.63it/s]\n",
            "Round11: User8_1: 100%|█████████████████████████████████████████████| 10/10 [00:00<00:00, 23.83it/s]\n",
            "Round11: User3_1: 100%|█████████████████████████████████████████████| 10/10 [00:00<00:00, 25.40it/s]\n",
            "Round11: User5_1: 100%|█████████████████████████████████████████████| 10/10 [00:00<00:00, 24.10it/s]\n",
            "Round11: User10_1: 100%|████████████████████████████████████████████| 10/10 [00:00<00:00, 23.69it/s]\n",
            "Round11: User12_1: 100%|████████████████████████████████████████████| 10/10 [00:00<00:00, 25.80it/s]\n",
            "Round11: User13_1: 100%|████████████████████████████████████████████| 10/10 [00:00<00:00, 23.44it/s]\n",
            "Round11: User6_1: 100%|█████████████████████████████████████████████| 10/10 [00:00<00:00, 24.78it/s]\n",
            "Round11: User4_1: 100%|█████████████████████████████████████████████| 10/10 [00:00<00:00, 23.42it/s]\n",
            "Round11: User7_1: 100%|█████████████████████████████████████████████| 10/10 [00:00<00:00, 23.17it/s]\n",
            "Round11: User0_1: 100%|█████████████████████████████████████████████| 10/10 [00:00<00:00, 24.78it/s]\n",
            "Round11: User14_1: 100%|████████████████████████████████████████████| 10/10 [00:00<00:00, 22.70it/s]\n",
            "Round11: User1_1: 100%|█████████████████████████████████████████████| 10/10 [00:00<00:00, 24.58it/s]\n",
            "Round11: User9_1: 100%|█████████████████████████████████████████████| 10/10 [00:00<00:00, 24.58it/s]\n",
            "Round11: User2_1: 100%|█████████████████████████████████████████████| 10/10 [00:00<00:00, 23.78it/s]\n"
          ]
        },
        {
          "output_type": "stream",
          "name": "stdout",
          "text": [
            "client:11 train_acc: 32.70%, train_loss: 0.3714\n",
            "client:8 train_acc: 32.05%, train_loss: 0.7405\n",
            "client:3 train_acc: 32.40%, train_loss: 1.1103\n",
            "client:5 train_acc: 32.45%, train_loss: 1.4793\n",
            "client:10 train_acc: 32.08%, train_loss: 1.8466\n",
            "client:12 train_acc: 32.43%, train_loss: 2.2132\n",
            "client:13 train_acc: 32.29%, train_loss: 2.5807\n",
            "client:6 train_acc: 32.29%, train_loss: 2.9549\n",
            "client:4 train_acc: 32.09%, train_loss: 3.3245\n",
            "client:7 train_acc: 31.85%, train_loss: 3.6973\n",
            "client:0 train_acc: 31.85%, train_loss: 4.0664\n",
            "client:14 train_acc: 31.78%, train_loss: 4.4437\n",
            "client:1 train_acc: 31.69%, train_loss: 4.8245\n",
            "client:9 train_acc: 31.73%, train_loss: 5.1888\n",
            "client:2 train_acc: 31.89%, train_loss: 5.5521\n",
            "Test set: Average loss: 2.6771, Accuracy: 663/10000 (6.63%)\n"
          ]
        },
        {
          "output_type": "stream",
          "name": "stderr",
          "text": [
            "Round12: User7_1: 100%|█████████████████████████████████████████████| 10/10 [00:00<00:00, 22.52it/s]\n",
            "Round12: User8_1: 100%|█████████████████████████████████████████████| 10/10 [00:00<00:00, 23.19it/s]\n",
            "Round12: User4_1: 100%|█████████████████████████████████████████████| 10/10 [00:00<00:00, 24.77it/s]\n",
            "Round12: User11_1: 100%|████████████████████████████████████████████| 10/10 [00:00<00:00, 23.19it/s]\n",
            "Round12: User13_1: 100%|████████████████████████████████████████████| 10/10 [00:00<00:00, 25.06it/s]\n",
            "Round12: User1_1: 100%|█████████████████████████████████████████████| 10/10 [00:00<00:00, 25.18it/s]\n",
            "Round12: User12_1: 100%|████████████████████████████████████████████| 10/10 [00:00<00:00, 23.47it/s]\n",
            "Round12: User2_1: 100%|█████████████████████████████████████████████| 10/10 [00:00<00:00, 25.26it/s]\n",
            "Round12: User10_1: 100%|████████████████████████████████████████████| 10/10 [00:00<00:00, 23.76it/s]\n",
            "Round12: User9_1: 100%|█████████████████████████████████████████████| 10/10 [00:00<00:00, 24.64it/s]\n",
            "Round12: User6_1: 100%|█████████████████████████████████████████████| 10/10 [00:00<00:00, 26.78it/s]\n",
            "Round12: User3_1: 100%|█████████████████████████████████████████████| 10/10 [00:00<00:00, 19.13it/s]\n",
            "Round12: User14_1: 100%|████████████████████████████████████████████| 10/10 [00:00<00:00, 18.06it/s]\n",
            "Round12: User0_1: 100%|█████████████████████████████████████████████| 10/10 [00:00<00:00, 17.18it/s]\n",
            "Round12: User5_1: 100%|█████████████████████████████████████████████| 10/10 [00:00<00:00, 17.59it/s]\n"
          ]
        },
        {
          "output_type": "stream",
          "name": "stdout",
          "text": [
            "client:7 train_acc: 30.50%, train_loss: 0.3701\n",
            "client:8 train_acc: 31.20%, train_loss: 0.7356\n",
            "client:4 train_acc: 31.10%, train_loss: 1.1024\n",
            "client:11 train_acc: 31.57%, train_loss: 1.4713\n",
            "client:13 train_acc: 31.72%, train_loss: 1.8365\n",
            "client:1 train_acc: 31.63%, train_loss: 2.2141\n",
            "client:12 train_acc: 31.71%, train_loss: 2.5779\n",
            "client:2 train_acc: 32.00%, train_loss: 2.9376\n",
            "client:10 train_acc: 32.04%, train_loss: 3.3022\n",
            "client:9 train_acc: 32.09%, train_loss: 3.6635\n",
            "client:6 train_acc: 32.10%, train_loss: 4.0351\n",
            "client:3 train_acc: 32.25%, train_loss: 4.4019\n",
            "client:14 train_acc: 32.21%, train_loss: 4.7756\n",
            "client:0 train_acc: 32.37%, train_loss: 5.1421\n",
            "client:5 train_acc: 32.39%, train_loss: 5.5092\n",
            "Test set: Average loss: 2.7282, Accuracy: 604/10000 (6.04%)\n"
          ]
        },
        {
          "output_type": "stream",
          "name": "stderr",
          "text": [
            "Round13: User12_1: 100%|████████████████████████████████████████████| 10/10 [00:00<00:00, 17.37it/s]\n",
            "Round13: User11_1: 100%|████████████████████████████████████████████| 10/10 [00:00<00:00, 17.86it/s]\n",
            "Round13: User6_1: 100%|█████████████████████████████████████████████| 10/10 [00:00<00:00, 16.33it/s]\n",
            "Round13: User14_1: 100%|████████████████████████████████████████████| 10/10 [00:00<00:00, 22.43it/s]\n",
            "Round13: User7_1: 100%|█████████████████████████████████████████████| 10/10 [00:00<00:00, 23.40it/s]\n",
            "Round13: User1_1: 100%|█████████████████████████████████████████████| 10/10 [00:00<00:00, 25.01it/s]\n",
            "Round13: User8_1: 100%|█████████████████████████████████████████████| 10/10 [00:00<00:00, 25.71it/s]\n",
            "Round13: User2_1: 100%|█████████████████████████████████████████████| 10/10 [00:00<00:00, 22.42it/s]\n",
            "Round13: User5_1: 100%|█████████████████████████████████████████████| 10/10 [00:00<00:00, 24.79it/s]\n",
            "Round13: User9_1: 100%|█████████████████████████████████████████████| 10/10 [00:00<00:00, 21.92it/s]\n",
            "Round13: User13_1: 100%|████████████████████████████████████████████| 10/10 [00:00<00:00, 23.63it/s]\n",
            "Round13: User0_1: 100%|█████████████████████████████████████████████| 10/10 [00:00<00:00, 24.38it/s]\n",
            "Round13: User10_1: 100%|████████████████████████████████████████████| 10/10 [00:00<00:00, 23.04it/s]\n",
            "Round13: User3_1: 100%|█████████████████████████████████████████████| 10/10 [00:00<00:00, 24.27it/s]\n",
            "Round13: User4_1: 100%|█████████████████████████████████████████████| 10/10 [00:00<00:00, 22.63it/s]\n"
          ]
        },
        {
          "output_type": "stream",
          "name": "stdout",
          "text": [
            "client:12 train_acc: 34.40%, train_loss: 0.3592\n",
            "client:11 train_acc: 34.10%, train_loss: 0.7232\n",
            "client:6 train_acc: 33.87%, train_loss: 1.0895\n",
            "client:14 train_acc: 33.52%, train_loss: 1.4595\n",
            "client:7 train_acc: 33.10%, train_loss: 1.8249\n",
            "client:1 train_acc: 33.10%, train_loss: 2.1970\n",
            "client:8 train_acc: 32.91%, train_loss: 2.5583\n",
            "client:2 train_acc: 33.02%, train_loss: 2.9132\n",
            "client:5 train_acc: 33.16%, train_loss: 3.2749\n",
            "client:9 train_acc: 33.14%, train_loss: 3.6322\n",
            "client:13 train_acc: 33.26%, train_loss: 3.9921\n",
            "client:0 train_acc: 33.39%, train_loss: 4.3530\n",
            "client:10 train_acc: 33.33%, train_loss: 4.7142\n",
            "client:3 train_acc: 33.38%, train_loss: 5.0776\n",
            "client:4 train_acc: 33.26%, train_loss: 5.4416\n",
            "Test set: Average loss: 2.7284, Accuracy: 685/10000 (6.85%)\n"
          ]
        },
        {
          "output_type": "stream",
          "name": "stderr",
          "text": [
            "Round14: User7_1: 100%|█████████████████████████████████████████████| 10/10 [00:00<00:00, 23.40it/s]\n",
            "Round14: User10_1: 100%|████████████████████████████████████████████| 10/10 [00:00<00:00, 24.79it/s]\n",
            "Round14: User2_1: 100%|█████████████████████████████████████████████| 10/10 [00:00<00:00, 24.68it/s]\n",
            "Round14: User11_1: 100%|████████████████████████████████████████████| 10/10 [00:00<00:00, 23.04it/s]\n",
            "Round14: User13_1: 100%|████████████████████████████████████████████| 10/10 [00:00<00:00, 25.57it/s]\n",
            "Round14: User3_1: 100%|█████████████████████████████████████████████| 10/10 [00:00<00:00, 23.18it/s]\n",
            "Round14: User0_1: 100%|█████████████████████████████████████████████| 10/10 [00:00<00:00, 24.12it/s]\n",
            "Round14: User9_1: 100%|█████████████████████████████████████████████| 10/10 [00:00<00:00, 25.75it/s]\n",
            "Round14: User6_1: 100%|█████████████████████████████████████████████| 10/10 [00:00<00:00, 22.75it/s]\n",
            "Round14: User1_1: 100%|█████████████████████████████████████████████| 10/10 [00:00<00:00, 24.93it/s]\n",
            "Round14: User5_1: 100%|█████████████████████████████████████████████| 10/10 [00:00<00:00, 23.26it/s]\n",
            "Round14: User8_1: 100%|█████████████████████████████████████████████| 10/10 [00:00<00:00, 23.97it/s]\n",
            "Round14: User4_1: 100%|█████████████████████████████████████████████| 10/10 [00:00<00:00, 24.78it/s]\n",
            "Round14: User14_1: 100%|████████████████████████████████████████████| 10/10 [00:00<00:00, 23.12it/s]\n",
            "Round14: User12_1: 100%|████████████████████████████████████████████| 10/10 [00:00<00:00, 16.21it/s]\n"
          ]
        },
        {
          "output_type": "stream",
          "name": "stdout",
          "text": [
            "client:7 train_acc: 32.50%, train_loss: 0.3617\n",
            "client:10 train_acc: 32.75%, train_loss: 0.7191\n",
            "client:2 train_acc: 33.13%, train_loss: 1.0711\n",
            "client:11 train_acc: 33.60%, train_loss: 1.4330\n",
            "client:13 train_acc: 33.96%, train_loss: 1.7879\n",
            "client:3 train_acc: 34.13%, train_loss: 2.1466\n",
            "client:0 train_acc: 34.29%, train_loss: 2.5024\n",
            "client:9 train_acc: 34.16%, train_loss: 2.8542\n",
            "client:6 train_acc: 34.12%, train_loss: 3.2170\n",
            "client:1 train_acc: 33.99%, train_loss: 3.5887\n",
            "client:5 train_acc: 34.22%, train_loss: 3.9457\n",
            "client:8 train_acc: 34.10%, train_loss: 4.3042\n",
            "client:4 train_acc: 34.05%, train_loss: 4.6621\n",
            "client:14 train_acc: 34.02%, train_loss: 5.0276\n",
            "client:12 train_acc: 34.12%, train_loss: 5.3850\n",
            "Test set: Average loss: 2.7200, Accuracy: 721/10000 (7.21%)\n"
          ]
        },
        {
          "output_type": "stream",
          "name": "stderr",
          "text": [
            "Round15: User0_1: 100%|█████████████████████████████████████████████| 10/10 [00:00<00:00, 24.27it/s]\n",
            "Round15: User14_1: 100%|████████████████████████████████████████████| 10/10 [00:00<00:00, 24.88it/s]\n",
            "Round15: User8_1: 100%|█████████████████████████████████████████████| 10/10 [00:00<00:00, 16.18it/s]\n",
            "Round15: User12_1: 100%|████████████████████████████████████████████| 10/10 [00:00<00:00, 16.79it/s]\n",
            "Round15: User4_1: 100%|█████████████████████████████████████████████| 10/10 [00:00<00:00, 18.26it/s]\n",
            "Round15: User10_1: 100%|████████████████████████████████████████████| 10/10 [00:00<00:00, 16.68it/s]\n",
            "Round15: User5_1: 100%|█████████████████████████████████████████████| 10/10 [00:00<00:00, 24.60it/s]\n",
            "Round15: User6_1: 100%|█████████████████████████████████████████████| 10/10 [00:00<00:00, 24.71it/s]\n",
            "Round15: User1_1: 100%|█████████████████████████████████████████████| 10/10 [00:00<00:00, 22.03it/s]\n",
            "Round15: User2_1: 100%|█████████████████████████████████████████████| 10/10 [00:00<00:00, 23.86it/s]\n",
            "Round15: User9_1: 100%|█████████████████████████████████████████████| 10/10 [00:00<00:00, 23.65it/s]\n",
            "Round15: User7_1: 100%|█████████████████████████████████████████████| 10/10 [00:00<00:00, 24.96it/s]\n",
            "Round15: User13_1: 100%|████████████████████████████████████████████| 10/10 [00:00<00:00, 22.32it/s]\n",
            "Round15: User11_1: 100%|████████████████████████████████████████████| 10/10 [00:00<00:00, 24.28it/s]\n",
            "Round15: User3_1: 100%|█████████████████████████████████████████████| 10/10 [00:00<00:00, 24.94it/s]\n"
          ]
        },
        {
          "output_type": "stream",
          "name": "stdout",
          "text": [
            "client:0 train_acc: 35.80%, train_loss: 0.3517\n",
            "client:14 train_acc: 34.40%, train_loss: 0.7125\n",
            "client:8 train_acc: 33.70%, train_loss: 1.0661\n",
            "client:12 train_acc: 34.02%, train_loss: 1.4185\n",
            "client:4 train_acc: 33.96%, train_loss: 1.7720\n",
            "client:10 train_acc: 33.87%, train_loss: 2.1256\n",
            "client:5 train_acc: 34.13%, train_loss: 2.4794\n",
            "client:6 train_acc: 34.04%, train_loss: 2.8381\n",
            "client:1 train_acc: 34.03%, train_loss: 3.2040\n",
            "client:2 train_acc: 34.17%, train_loss: 3.5518\n",
            "client:9 train_acc: 34.15%, train_loss: 3.8990\n",
            "client:7 train_acc: 34.07%, train_loss: 4.2562\n",
            "client:13 train_acc: 34.16%, train_loss: 4.6074\n",
            "client:11 train_acc: 34.14%, train_loss: 4.9647\n",
            "client:3 train_acc: 34.27%, train_loss: 5.3187\n",
            "Test set: Average loss: 2.7817, Accuracy: 691/10000 (6.91%)\n"
          ]
        },
        {
          "output_type": "stream",
          "name": "stderr",
          "text": [
            "Round16: User2_1: 100%|█████████████████████████████████████████████| 10/10 [00:00<00:00, 23.36it/s]\n",
            "Round16: User0_1: 100%|█████████████████████████████████████████████| 10/10 [00:00<00:00, 23.65it/s]\n",
            "Round16: User6_1: 100%|█████████████████████████████████████████████| 10/10 [00:00<00:00, 24.41it/s]\n",
            "Round16: User5_1: 100%|█████████████████████████████████████████████| 10/10 [00:00<00:00, 24.67it/s]\n",
            "Round16: User12_1: 100%|████████████████████████████████████████████| 10/10 [00:00<00:00, 23.11it/s]\n",
            "Round16: User4_1: 100%|█████████████████████████████████████████████| 10/10 [00:00<00:00, 24.20it/s]\n",
            "Round16: User10_1: 100%|████████████████████████████████████████████| 10/10 [00:00<00:00, 23.09it/s]\n",
            "Round16: User9_1: 100%|█████████████████████████████████████████████| 10/10 [00:00<00:00, 23.30it/s]\n",
            "Round16: User14_1: 100%|████████████████████████████████████████████| 10/10 [00:00<00:00, 24.12it/s]\n",
            "Round16: User7_1: 100%|█████████████████████████████████████████████| 10/10 [00:00<00:00, 24.35it/s]\n",
            "Round16: User8_1: 100%|█████████████████████████████████████████████| 10/10 [00:00<00:00, 26.41it/s]\n",
            "Round16: User3_1: 100%|█████████████████████████████████████████████| 10/10 [00:00<00:00, 23.51it/s]\n",
            "Round16: User13_1: 100%|████████████████████████████████████████████| 10/10 [00:00<00:00, 24.83it/s]\n",
            "Round16: User1_1: 100%|█████████████████████████████████████████████| 10/10 [00:00<00:00, 26.05it/s]\n",
            "Round16: User11_1: 100%|████████████████████████████████████████████| 10/10 [00:00<00:00, 23.00it/s]\n"
          ]
        },
        {
          "output_type": "stream",
          "name": "stdout",
          "text": [
            "client:2 train_acc: 35.40%, train_loss: 0.3441\n",
            "client:0 train_acc: 35.75%, train_loss: 0.6922\n",
            "client:6 train_acc: 35.23%, train_loss: 1.0475\n",
            "client:5 train_acc: 35.80%, train_loss: 1.3979\n",
            "client:12 train_acc: 35.98%, train_loss: 1.7472\n",
            "client:4 train_acc: 35.87%, train_loss: 2.0968\n",
            "client:10 train_acc: 35.71%, train_loss: 2.4472\n",
            "client:9 train_acc: 35.64%, train_loss: 2.7912\n",
            "client:14 train_acc: 35.46%, train_loss: 3.1483\n",
            "client:7 train_acc: 35.32%, train_loss: 3.5019\n",
            "client:8 train_acc: 35.15%, train_loss: 3.8516\n",
            "client:3 train_acc: 35.27%, train_loss: 4.2021\n",
            "client:13 train_acc: 35.32%, train_loss: 4.5495\n",
            "client:1 train_acc: 35.29%, train_loss: 4.9129\n",
            "client:11 train_acc: 35.26%, train_loss: 5.2676\n",
            "Test set: Average loss: 2.8041, Accuracy: 681/10000 (6.81%)\n"
          ]
        },
        {
          "output_type": "stream",
          "name": "stderr",
          "text": [
            "Round17: User6_1: 100%|█████████████████████████████████████████████| 10/10 [00:00<00:00, 22.73it/s]\n",
            "Round17: User1_1: 100%|█████████████████████████████████████████████| 10/10 [00:00<00:00, 25.18it/s]\n",
            "Round17: User10_1: 100%|████████████████████████████████████████████| 10/10 [00:00<00:00, 22.42it/s]\n",
            "Round17: User9_1: 100%|█████████████████████████████████████████████| 10/10 [00:00<00:00, 25.71it/s]\n",
            "Round17: User13_1: 100%|████████████████████████████████████████████| 10/10 [00:00<00:00, 22.54it/s]\n",
            "Round17: User8_1: 100%|█████████████████████████████████████████████| 10/10 [00:00<00:00, 17.09it/s]\n",
            "Round17: User0_1: 100%|█████████████████████████████████████████████| 10/10 [00:00<00:00, 17.33it/s]\n",
            "Round17: User3_1: 100%|█████████████████████████████████████████████| 10/10 [00:00<00:00, 18.45it/s]\n",
            "Round17: User4_1: 100%|█████████████████████████████████████████████| 10/10 [00:00<00:00, 17.76it/s]\n",
            "Round17: User5_1: 100%|█████████████████████████████████████████████| 10/10 [00:00<00:00, 25.21it/s]\n",
            "Round17: User14_1: 100%|████████████████████████████████████████████| 10/10 [00:00<00:00, 24.19it/s]\n",
            "Round17: User11_1: 100%|████████████████████████████████████████████| 10/10 [00:00<00:00, 25.22it/s]\n",
            "Round17: User7_1: 100%|█████████████████████████████████████████████| 10/10 [00:00<00:00, 25.94it/s]\n",
            "Round17: User2_1: 100%|█████████████████████████████████████████████| 10/10 [00:00<00:00, 22.11it/s]\n",
            "Round17: User12_1: 100%|████████████████████████████████████████████| 10/10 [00:00<00:00, 25.24it/s]\n"
          ]
        },
        {
          "output_type": "stream",
          "name": "stdout",
          "text": [
            "client:6 train_acc: 35.50%, train_loss: 0.3525\n",
            "client:1 train_acc: 35.40%, train_loss: 0.7133\n",
            "client:10 train_acc: 35.13%, train_loss: 1.0613\n",
            "client:9 train_acc: 35.17%, train_loss: 1.4016\n",
            "client:13 train_acc: 35.26%, train_loss: 1.7462\n",
            "client:8 train_acc: 34.93%, train_loss: 2.0938\n",
            "client:0 train_acc: 35.24%, train_loss: 2.4391\n",
            "client:3 train_acc: 35.38%, train_loss: 2.7860\n",
            "client:4 train_acc: 35.44%, train_loss: 3.1321\n",
            "client:5 train_acc: 35.69%, train_loss: 3.4800\n",
            "client:14 train_acc: 35.56%, train_loss: 3.8344\n",
            "client:11 train_acc: 35.57%, train_loss: 4.1856\n",
            "client:7 train_acc: 35.45%, train_loss: 4.5357\n",
            "client:2 train_acc: 35.41%, train_loss: 4.8770\n",
            "client:12 train_acc: 35.51%, train_loss: 5.2236\n",
            "Test set: Average loss: 2.8354, Accuracy: 688/10000 (6.88%)\n"
          ]
        },
        {
          "output_type": "stream",
          "name": "stderr",
          "text": [
            "Round18: User3_1: 100%|█████████████████████████████████████████████| 10/10 [00:00<00:00, 23.40it/s]\n",
            "Round18: User1_1: 100%|█████████████████████████████████████████████| 10/10 [00:00<00:00, 25.61it/s]\n",
            "Round18: User0_1: 100%|█████████████████████████████████████████████| 10/10 [00:00<00:00, 22.72it/s]\n",
            "Round18: User13_1: 100%|████████████████████████████████████████████| 10/10 [00:00<00:00, 24.44it/s]\n",
            "Round18: User2_1: 100%|█████████████████████████████████████████████| 10/10 [00:00<00:00, 23.66it/s]\n",
            "Round18: User6_1: 100%|█████████████████████████████████████████████| 10/10 [00:00<00:00, 24.98it/s]\n",
            "Round18: User12_1: 100%|████████████████████████████████████████████| 10/10 [00:00<00:00, 25.33it/s]\n",
            "Round18: User8_1: 100%|█████████████████████████████████████████████| 10/10 [00:00<00:00, 24.07it/s]\n",
            "Round18: User11_1: 100%|████████████████████████████████████████████| 10/10 [00:00<00:00, 25.57it/s]\n",
            "Round18: User4_1: 100%|█████████████████████████████████████████████| 10/10 [00:00<00:00, 25.11it/s]\n",
            "Round18: User14_1: 100%|████████████████████████████████████████████| 10/10 [00:00<00:00, 23.26it/s]\n",
            "Round18: User10_1: 100%|████████████████████████████████████████████| 10/10 [00:00<00:00, 25.39it/s]\n",
            "Round18: User9_1: 100%|█████████████████████████████████████████████| 10/10 [00:00<00:00, 23.34it/s]\n",
            "Round18: User5_1: 100%|█████████████████████████████████████████████| 10/10 [00:00<00:00, 23.18it/s]\n",
            "Round18: User7_1: 100%|█████████████████████████████████████████████| 10/10 [00:00<00:00, 25.48it/s]\n"
          ]
        },
        {
          "output_type": "stream",
          "name": "stdout",
          "text": [
            "client:3 train_acc: 36.70%, train_loss: 0.3452\n",
            "client:1 train_acc: 36.60%, train_loss: 0.7015\n",
            "client:0 train_acc: 37.03%, train_loss: 1.0434\n",
            "client:13 train_acc: 36.95%, train_loss: 1.3848\n",
            "client:2 train_acc: 36.84%, train_loss: 1.7227\n",
            "client:6 train_acc: 36.72%, train_loss: 2.0711\n",
            "client:12 train_acc: 36.73%, train_loss: 2.4136\n",
            "client:8 train_acc: 36.49%, train_loss: 2.7569\n",
            "client:11 train_acc: 36.63%, train_loss: 3.1051\n",
            "client:4 train_acc: 36.49%, train_loss: 3.4496\n",
            "client:14 train_acc: 36.36%, train_loss: 3.8012\n",
            "client:10 train_acc: 36.33%, train_loss: 4.1462\n",
            "client:9 train_acc: 36.28%, train_loss: 4.4841\n",
            "client:5 train_acc: 36.46%, train_loss: 4.8285\n",
            "client:7 train_acc: 36.39%, train_loss: 5.1758\n",
            "Test set: Average loss: 2.8578, Accuracy: 701/10000 (7.01%)\n"
          ]
        },
        {
          "output_type": "stream",
          "name": "stderr",
          "text": [
            "Round19: User2_1: 100%|█████████████████████████████████████████████| 10/10 [00:00<00:00, 23.46it/s]\n",
            "Round19: User14_1: 100%|████████████████████████████████████████████| 10/10 [00:00<00:00, 21.16it/s]\n",
            "Round19: User9_1: 100%|█████████████████████████████████████████████| 10/10 [00:00<00:00, 22.93it/s]\n",
            "Round19: User3_1: 100%|█████████████████████████████████████████████| 10/10 [00:00<00:00, 25.76it/s]\n",
            "Round19: User10_1: 100%|████████████████████████████████████████████| 10/10 [00:00<00:00, 24.22it/s]\n",
            "Round19: User7_1: 100%|█████████████████████████████████████████████| 10/10 [00:00<00:00, 23.09it/s]\n",
            "Round19: User6_1: 100%|█████████████████████████████████████████████| 10/10 [00:00<00:00, 24.13it/s]\n",
            "Round19: User4_1: 100%|█████████████████████████████████████████████| 10/10 [00:00<00:00, 23.61it/s]\n",
            "Round19: User1_1: 100%|█████████████████████████████████████████████| 10/10 [00:00<00:00, 16.86it/s]\n",
            "Round19: User0_1: 100%|█████████████████████████████████████████████| 10/10 [00:00<00:00, 16.25it/s]\n",
            "Round19: User8_1: 100%|█████████████████████████████████████████████| 10/10 [00:00<00:00, 17.17it/s]\n",
            "Round19: User13_1: 100%|████████████████████████████████████████████| 10/10 [00:00<00:00, 17.68it/s]\n",
            "Round19: User12_1: 100%|████████████████████████████████████████████| 10/10 [00:00<00:00, 25.66it/s]\n",
            "Round19: User5_1: 100%|█████████████████████████████████████████████| 10/10 [00:00<00:00, 23.60it/s]\n",
            "Round19: User11_1: 100%|████████████████████████████████████████████| 10/10 [00:00<00:00, 23.94it/s]\n"
          ]
        },
        {
          "output_type": "stream",
          "name": "stdout",
          "text": [
            "client:2 train_acc: 36.80%, train_loss: 0.3355\n",
            "client:14 train_acc: 36.00%, train_loss: 0.6851\n",
            "client:9 train_acc: 36.17%, train_loss: 1.0210\n",
            "client:3 train_acc: 36.33%, train_loss: 1.3639\n",
            "client:10 train_acc: 36.34%, train_loss: 1.7071\n",
            "client:7 train_acc: 36.32%, train_loss: 2.0520\n",
            "client:6 train_acc: 36.33%, train_loss: 2.3980\n",
            "client:4 train_acc: 36.21%, train_loss: 2.7403\n",
            "client:1 train_acc: 36.31%, train_loss: 3.0943\n",
            "client:0 train_acc: 36.51%, train_loss: 3.4349\n",
            "client:8 train_acc: 36.34%, train_loss: 3.7767\n",
            "client:13 train_acc: 36.43%, train_loss: 4.1154\n",
            "client:12 train_acc: 36.48%, train_loss: 4.4557\n",
            "client:5 train_acc: 36.61%, train_loss: 4.7982\n",
            "client:11 train_acc: 36.77%, train_loss: 5.1439\n",
            "Test set: Average loss: 2.8670, Accuracy: 703/10000 (7.03%)\n"
          ]
        },
        {
          "output_type": "stream",
          "name": "stderr",
          "text": [
            "Round20: User12_1: 100%|████████████████████████████████████████████| 10/10 [00:00<00:00, 18.38it/s]\n",
            "Round20: User7_1: 100%|█████████████████████████████████████████████| 10/10 [00:00<00:00, 23.24it/s]\n",
            "Round20: User8_1: 100%|█████████████████████████████████████████████| 10/10 [00:00<00:00, 23.00it/s]\n",
            "Round20: User9_1: 100%|█████████████████████████████████████████████| 10/10 [00:00<00:00, 23.33it/s]\n",
            "Round20: User1_1: 100%|█████████████████████████████████████████████| 10/10 [00:00<00:00, 22.55it/s]\n",
            "Round20: User4_1: 100%|█████████████████████████████████████████████| 10/10 [00:00<00:00, 25.65it/s]\n",
            "Round20: User6_1: 100%|█████████████████████████████████████████████| 10/10 [00:00<00:00, 23.34it/s]\n",
            "Round20: User11_1: 100%|████████████████████████████████████████████| 10/10 [00:00<00:00, 24.93it/s]\n",
            "Round20: User3_1: 100%|█████████████████████████████████████████████| 10/10 [00:00<00:00, 24.34it/s]\n",
            "Round20: User5_1: 100%|█████████████████████████████████████████████| 10/10 [00:00<00:00, 23.09it/s]\n",
            "Round20: User14_1: 100%|████████████████████████████████████████████| 10/10 [00:00<00:00, 24.86it/s]\n",
            "Round20: User10_1: 100%|████████████████████████████████████████████| 10/10 [00:00<00:00, 23.64it/s]\n",
            "Round20: User0_1: 100%|█████████████████████████████████████████████| 10/10 [00:00<00:00, 24.30it/s]\n",
            "Round20: User13_1: 100%|████████████████████████████████████████████| 10/10 [00:00<00:00, 25.10it/s]\n",
            "Round20: User2_1: 100%|█████████████████████████████████████████████| 10/10 [00:00<00:00, 22.72it/s]\n"
          ]
        },
        {
          "output_type": "stream",
          "name": "stdout",
          "text": [
            "client:12 train_acc: 37.90%, train_loss: 0.3381\n",
            "client:7 train_acc: 37.20%, train_loss: 0.6795\n",
            "client:8 train_acc: 36.83%, train_loss: 1.0174\n",
            "client:9 train_acc: 36.62%, train_loss: 1.3497\n",
            "client:1 train_acc: 36.62%, train_loss: 1.7010\n",
            "client:4 train_acc: 36.55%, train_loss: 2.0385\n",
            "client:6 train_acc: 36.51%, train_loss: 2.3814\n",
            "client:11 train_acc: 36.75%, train_loss: 2.7246\n",
            "client:3 train_acc: 36.93%, train_loss: 3.0643\n",
            "client:5 train_acc: 37.20%, train_loss: 3.4033\n",
            "client:14 train_acc: 37.03%, train_loss: 3.7493\n",
            "client:10 train_acc: 36.99%, train_loss: 4.0893\n",
            "client:0 train_acc: 37.18%, train_loss: 4.4254\n",
            "client:13 train_acc: 37.23%, train_loss: 4.7608\n",
            "client:2 train_acc: 37.17%, train_loss: 5.0939\n",
            "Test set: Average loss: 2.8818, Accuracy: 746/10000 (7.46%)\n"
          ]
        },
        {
          "output_type": "stream",
          "name": "stderr",
          "text": [
            "Round21: User4_1: 100%|█████████████████████████████████████████████| 10/10 [00:00<00:00, 24.93it/s]\n",
            "Round21: User8_1: 100%|█████████████████████████████████████████████| 10/10 [00:00<00:00, 24.73it/s]\n",
            "Round21: User5_1: 100%|█████████████████████████████████████████████| 10/10 [00:00<00:00, 20.74it/s]\n",
            "Round21: User13_1: 100%|████████████████████████████████████████████| 10/10 [00:00<00:00, 25.16it/s]\n",
            "Round21: User1_1: 100%|█████████████████████████████████████████████| 10/10 [00:00<00:00, 23.32it/s]\n",
            "Round21: User2_1: 100%|█████████████████████████████████████████████| 10/10 [00:00<00:00, 24.98it/s]\n",
            "Round21: User12_1: 100%|████████████████████████████████████████████| 10/10 [00:00<00:00, 23.15it/s]\n",
            "Round21: User0_1: 100%|█████████████████████████████████████████████| 10/10 [00:00<00:00, 23.94it/s]\n",
            "Round21: User14_1: 100%|████████████████████████████████████████████| 10/10 [00:00<00:00, 26.08it/s]\n",
            "Round21: User3_1: 100%|█████████████████████████████████████████████| 10/10 [00:00<00:00, 22.46it/s]\n",
            "Round21: User11_1: 100%|████████████████████████████████████████████| 10/10 [00:00<00:00, 23.89it/s]\n",
            "Round21: User7_1: 100%|█████████████████████████████████████████████| 10/10 [00:00<00:00, 16.63it/s]\n",
            "Round21: User9_1: 100%|█████████████████████████████████████████████| 10/10 [00:00<00:00, 17.46it/s]\n",
            "Round21: User10_1: 100%|████████████████████████████████████████████| 10/10 [00:00<00:00, 17.17it/s]\n",
            "Round21: User6_1: 100%|█████████████████████████████████████████████| 10/10 [00:00<00:00, 18.21it/s]\n"
          ]
        },
        {
          "output_type": "stream",
          "name": "stdout",
          "text": [
            "client:4 train_acc: 36.20%, train_loss: 0.3376\n",
            "client:8 train_acc: 36.10%, train_loss: 0.6743\n",
            "client:5 train_acc: 37.17%, train_loss: 1.0126\n",
            "client:13 train_acc: 37.33%, train_loss: 1.3477\n",
            "client:1 train_acc: 37.62%, train_loss: 1.6966\n",
            "client:2 train_acc: 37.53%, train_loss: 2.0278\n",
            "client:12 train_acc: 37.56%, train_loss: 2.3636\n",
            "client:0 train_acc: 37.76%, train_loss: 2.7005\n",
            "client:14 train_acc: 37.42%, train_loss: 3.0460\n",
            "client:3 train_acc: 37.40%, train_loss: 3.3850\n",
            "client:11 train_acc: 37.53%, train_loss: 3.7261\n",
            "client:7 train_acc: 37.46%, train_loss: 4.0669\n",
            "client:9 train_acc: 37.37%, train_loss: 4.3984\n",
            "client:10 train_acc: 37.31%, train_loss: 4.7373\n",
            "client:6 train_acc: 37.29%, train_loss: 5.0795\n",
            "Test set: Average loss: 2.9260, Accuracy: 709/10000 (7.09%)\n"
          ]
        },
        {
          "output_type": "stream",
          "name": "stderr",
          "text": [
            "Round22: User5_1: 100%|█████████████████████████████████████████████| 10/10 [00:00<00:00, 17.39it/s]\n",
            "Round22: User7_1: 100%|█████████████████████████████████████████████| 10/10 [00:00<00:00, 16.38it/s]\n",
            "Round22: User9_1: 100%|█████████████████████████████████████████████| 10/10 [00:00<00:00, 17.42it/s]\n",
            "Round22: User10_1: 100%|████████████████████████████████████████████| 10/10 [00:00<00:00, 19.38it/s]\n",
            "Round22: User4_1: 100%|█████████████████████████████████████████████| 10/10 [00:00<00:00, 24.39it/s]\n",
            "Round22: User1_1: 100%|█████████████████████████████████████████████| 10/10 [00:00<00:00, 22.33it/s]\n",
            "Round22: User3_1: 100%|█████████████████████████████████████████████| 10/10 [00:00<00:00, 24.09it/s]\n",
            "Round22: User11_1: 100%|████████████████████████████████████████████| 10/10 [00:00<00:00, 22.82it/s]\n",
            "Round22: User0_1: 100%|█████████████████████████████████████████████| 10/10 [00:00<00:00, 23.94it/s]\n",
            "Round22: User2_1: 100%|█████████████████████████████████████████████| 10/10 [00:00<00:00, 25.03it/s]\n",
            "Round22: User8_1: 100%|█████████████████████████████████████████████| 10/10 [00:00<00:00, 22.77it/s]\n",
            "Round22: User6_1: 100%|█████████████████████████████████████████████| 10/10 [00:00<00:00, 24.64it/s]\n",
            "Round22: User13_1: 100%|████████████████████████████████████████████| 10/10 [00:00<00:00, 23.95it/s]\n",
            "Round22: User14_1: 100%|████████████████████████████████████████████| 10/10 [00:00<00:00, 23.46it/s]\n",
            "Round22: User12_1: 100%|████████████████████████████████████████████| 10/10 [00:00<00:00, 24.68it/s]\n"
          ]
        },
        {
          "output_type": "stream",
          "name": "stdout",
          "text": [
            "client:5 train_acc: 40.90%, train_loss: 0.3345\n",
            "client:7 train_acc: 39.20%, train_loss: 0.6716\n",
            "client:9 train_acc: 38.53%, train_loss: 0.9995\n",
            "client:10 train_acc: 38.38%, train_loss: 1.3351\n",
            "client:4 train_acc: 38.10%, train_loss: 1.6692\n",
            "client:1 train_acc: 38.08%, train_loss: 2.0150\n",
            "client:3 train_acc: 38.21%, train_loss: 2.3510\n",
            "client:11 train_acc: 38.29%, train_loss: 2.6894\n",
            "client:0 train_acc: 38.44%, train_loss: 3.0205\n",
            "client:2 train_acc: 38.40%, train_loss: 3.3485\n",
            "client:8 train_acc: 38.37%, train_loss: 3.6812\n",
            "client:6 train_acc: 38.26%, train_loss: 4.0189\n",
            "client:13 train_acc: 38.23%, train_loss: 4.3499\n",
            "client:14 train_acc: 38.06%, train_loss: 4.6926\n",
            "client:12 train_acc: 38.12%, train_loss: 5.0258\n",
            "Test set: Average loss: 2.9236, Accuracy: 739/10000 (7.39%)\n"
          ]
        },
        {
          "output_type": "stream",
          "name": "stderr",
          "text": [
            "Round23: User6_1: 100%|█████████████████████████████████████████████| 10/10 [00:00<00:00, 23.28it/s]\n",
            "Round23: User11_1: 100%|████████████████████████████████████████████| 10/10 [00:00<00:00, 22.69it/s]\n",
            "Round23: User4_1: 100%|█████████████████████████████████████████████| 10/10 [00:00<00:00, 24.34it/s]\n",
            "Round23: User2_1: 100%|█████████████████████████████████████████████| 10/10 [00:00<00:00, 24.46it/s]\n",
            "Round23: User8_1: 100%|█████████████████████████████████████████████| 10/10 [00:00<00:00, 21.95it/s]\n",
            "Round23: User5_1: 100%|█████████████████████████████████████████████| 10/10 [00:00<00:00, 20.48it/s]\n",
            "Round23: User12_1: 100%|████████████████████████████████████████████| 10/10 [00:00<00:00, 24.31it/s]\n",
            "Round23: User7_1: 100%|█████████████████████████████████████████████| 10/10 [00:00<00:00, 24.79it/s]\n",
            "Round23: User10_1: 100%|████████████████████████████████████████████| 10/10 [00:00<00:00, 26.50it/s]\n",
            "Round23: User1_1: 100%|█████████████████████████████████████████████| 10/10 [00:00<00:00, 22.88it/s]\n",
            "Round23: User0_1: 100%|█████████████████████████████████████████████| 10/10 [00:00<00:00, 24.66it/s]\n",
            "Round23: User3_1: 100%|█████████████████████████████████████████████| 10/10 [00:00<00:00, 23.29it/s]\n",
            "Round23: User9_1: 100%|█████████████████████████████████████████████| 10/10 [00:00<00:00, 25.34it/s]\n",
            "Round23: User13_1: 100%|████████████████████████████████████████████| 10/10 [00:00<00:00, 17.97it/s]\n",
            "Round23: User14_1: 100%|████████████████████████████████████████████| 10/10 [00:00<00:00, 17.88it/s]\n"
          ]
        },
        {
          "output_type": "stream",
          "name": "stdout",
          "text": [
            "client:6 train_acc: 37.20%, train_loss: 0.3359\n",
            "client:11 train_acc: 38.35%, train_loss: 0.6721\n",
            "client:4 train_acc: 38.07%, train_loss: 1.0029\n",
            "client:2 train_acc: 37.95%, train_loss: 1.3293\n",
            "client:8 train_acc: 37.84%, train_loss: 1.6613\n",
            "client:5 train_acc: 38.30%, train_loss: 1.9939\n",
            "client:12 train_acc: 38.50%, train_loss: 2.3249\n",
            "client:7 train_acc: 38.42%, train_loss: 2.6592\n",
            "client:10 train_acc: 38.27%, train_loss: 2.9936\n",
            "client:1 train_acc: 38.25%, train_loss: 3.3378\n",
            "client:0 train_acc: 38.41%, train_loss: 3.6671\n",
            "client:3 train_acc: 38.44%, train_loss: 4.0003\n",
            "client:9 train_acc: 38.44%, train_loss: 4.3252\n",
            "client:13 train_acc: 38.45%, train_loss: 4.6538\n",
            "client:14 train_acc: 38.26%, train_loss: 4.9944\n",
            "Test set: Average loss: 2.9614, Accuracy: 740/10000 (7.40%)\n"
          ]
        },
        {
          "output_type": "stream",
          "name": "stderr",
          "text": [
            "Round24: User7_1: 100%|█████████████████████████████████████████████| 10/10 [00:00<00:00, 24.70it/s]\n",
            "Round24: User10_1: 100%|████████████████████████████████████████████| 10/10 [00:00<00:00, 19.35it/s]\n",
            "Round24: User1_1: 100%|█████████████████████████████████████████████| 10/10 [00:00<00:00, 17.28it/s]\n",
            "Round24: User0_1: 100%|█████████████████████████████████████████████| 10/10 [00:00<00:00, 16.78it/s]\n",
            "Round24: User12_1: 100%|████████████████████████████████████████████| 10/10 [00:00<00:00, 17.38it/s]\n",
            "Round24: User13_1: 100%|████████████████████████████████████████████| 10/10 [00:00<00:00, 17.44it/s]\n",
            "Round24: User14_1: 100%|████████████████████████████████████████████| 10/10 [00:00<00:00, 24.59it/s]\n",
            "Round24: User6_1: 100%|█████████████████████████████████████████████| 10/10 [00:00<00:00, 23.23it/s]\n",
            "Round24: User5_1: 100%|█████████████████████████████████████████████| 10/10 [00:00<00:00, 25.33it/s]\n",
            "Round24: User3_1: 100%|█████████████████████████████████████████████| 10/10 [00:00<00:00, 23.70it/s]\n",
            "Round24: User2_1: 100%|█████████████████████████████████████████████| 10/10 [00:00<00:00, 25.01it/s]\n",
            "Round24: User11_1: 100%|████████████████████████████████████████████| 10/10 [00:00<00:00, 25.66it/s]\n",
            "Round24: User8_1: 100%|█████████████████████████████████████████████| 10/10 [00:00<00:00, 23.08it/s]\n",
            "Round24: User9_1: 100%|█████████████████████████████████████████████| 10/10 [00:00<00:00, 24.35it/s]\n",
            "Round24: User4_1: 100%|█████████████████████████████████████████████| 10/10 [00:00<00:00, 24.38it/s]\n"
          ]
        },
        {
          "output_type": "stream",
          "name": "stdout",
          "text": [
            "client:7 train_acc: 38.30%, train_loss: 0.3328\n",
            "client:10 train_acc: 38.00%, train_loss: 0.6650\n",
            "client:1 train_acc: 38.50%, train_loss: 1.0068\n",
            "client:0 train_acc: 38.98%, train_loss: 1.3337\n",
            "client:12 train_acc: 38.94%, train_loss: 1.6626\n",
            "client:13 train_acc: 39.20%, train_loss: 1.9895\n",
            "client:14 train_acc: 38.84%, train_loss: 2.3280\n",
            "client:6 train_acc: 38.67%, train_loss: 2.6618\n",
            "client:5 train_acc: 39.00%, train_loss: 2.9919\n",
            "client:3 train_acc: 38.92%, train_loss: 3.3238\n",
            "client:2 train_acc: 38.85%, train_loss: 3.6485\n",
            "client:11 train_acc: 38.88%, train_loss: 3.9828\n",
            "client:8 train_acc: 38.85%, train_loss: 4.3123\n",
            "client:9 train_acc: 38.79%, train_loss: 4.6355\n",
            "client:4 train_acc: 38.65%, train_loss: 4.9656\n",
            "Test set: Average loss: 2.9334, Accuracy: 724/10000 (7.24%)\n"
          ]
        },
        {
          "output_type": "stream",
          "name": "stderr",
          "text": [
            "Round25: User4_1: 100%|█████████████████████████████████████████████| 10/10 [00:00<00:00, 24.23it/s]\n",
            "Round25: User1_1: 100%|█████████████████████████████████████████████| 10/10 [00:00<00:00, 25.28it/s]\n",
            "Round25: User9_1: 100%|█████████████████████████████████████████████| 10/10 [00:00<00:00, 26.04it/s]\n",
            "Round25: User7_1: 100%|█████████████████████████████████████████████| 10/10 [00:00<00:00, 24.55it/s]\n",
            "Round25: User10_1: 100%|████████████████████████████████████████████| 10/10 [00:00<00:00, 23.33it/s]\n",
            "Round25: User11_1: 100%|████████████████████████████████████████████| 10/10 [00:00<00:00, 25.26it/s]\n",
            "Round25: User13_1: 100%|████████████████████████████████████████████| 10/10 [00:00<00:00, 23.46it/s]\n",
            "Round25: User8_1: 100%|█████████████████████████████████████████████| 10/10 [00:00<00:00, 23.60it/s]\n",
            "Round25: User2_1: 100%|█████████████████████████████████████████████| 10/10 [00:00<00:00, 18.77it/s]\n",
            "Round25: User6_1: 100%|█████████████████████████████████████████████| 10/10 [00:00<00:00, 23.73it/s]\n",
            "Round25: User5_1: 100%|█████████████████████████████████████████████| 10/10 [00:00<00:00, 24.53it/s]\n",
            "Round25: User14_1: 100%|████████████████████████████████████████████| 10/10 [00:00<00:00, 22.91it/s]\n",
            "Round25: User3_1: 100%|█████████████████████████████████████████████| 10/10 [00:00<00:00, 24.56it/s]\n",
            "Round25: User0_1: 100%|█████████████████████████████████████████████| 10/10 [00:00<00:00, 24.29it/s]\n",
            "Round25: User12_1: 100%|████████████████████████████████████████████| 10/10 [00:00<00:00, 23.03it/s]\n"
          ]
        },
        {
          "output_type": "stream",
          "name": "stdout",
          "text": [
            "client:4 train_acc: 37.50%, train_loss: 0.3283\n",
            "client:1 train_acc: 38.20%, train_loss: 0.6692\n",
            "client:9 train_acc: 38.40%, train_loss: 0.9915\n",
            "client:7 train_acc: 38.38%, train_loss: 1.3240\n",
            "client:10 train_acc: 38.28%, train_loss: 1.6546\n",
            "client:11 train_acc: 38.55%, train_loss: 1.9881\n",
            "client:13 train_acc: 38.69%, train_loss: 2.3146\n",
            "client:8 train_acc: 38.62%, train_loss: 2.6431\n",
            "client:2 train_acc: 38.63%, train_loss: 2.9664\n",
            "client:6 train_acc: 38.60%, train_loss: 3.2996\n",
            "client:5 train_acc: 38.78%, train_loss: 3.6289\n",
            "client:14 train_acc: 38.63%, train_loss: 3.9662\n",
            "client:3 train_acc: 38.67%, train_loss: 4.2973\n",
            "client:0 train_acc: 38.81%, train_loss: 4.6251\n",
            "client:12 train_acc: 38.81%, train_loss: 4.9535\n",
            "Test set: Average loss: 2.9557, Accuracy: 749/10000 (7.49%)\n"
          ]
        },
        {
          "output_type": "stream",
          "name": "stderr",
          "text": [
            "Round26: User11_1: 100%|████████████████████████████████████████████| 10/10 [00:00<00:00, 23.67it/s]\n",
            "Round26: User7_1: 100%|█████████████████████████████████████████████| 10/10 [00:00<00:00, 25.80it/s]\n",
            "Round26: User2_1: 100%|█████████████████████████████████████████████| 10/10 [00:00<00:00, 22.12it/s]\n",
            "Round26: User14_1: 100%|████████████████████████████████████████████| 10/10 [00:00<00:00, 24.43it/s]\n",
            "Round26: User13_1: 100%|████████████████████████████████████████████| 10/10 [00:00<00:00, 16.26it/s]\n",
            "Round26: User5_1: 100%|█████████████████████████████████████████████| 10/10 [00:00<00:00, 18.35it/s]\n",
            "Round26: User12_1: 100%|████████████████████████████████████████████| 10/10 [00:00<00:00, 16.84it/s]\n",
            "Round26: User3_1: 100%|█████████████████████████████████████████████| 10/10 [00:00<00:00, 17.82it/s]\n",
            "Round26: User8_1: 100%|█████████████████████████████████████████████| 10/10 [00:00<00:00, 19.05it/s]\n",
            "Round26: User9_1: 100%|█████████████████████████████████████████████| 10/10 [00:00<00:00, 24.99it/s]\n",
            "Round26: User0_1: 100%|█████████████████████████████████████████████| 10/10 [00:00<00:00, 22.73it/s]\n",
            "Round26: User6_1: 100%|█████████████████████████████████████████████| 10/10 [00:00<00:00, 23.07it/s]\n",
            "Round26: User4_1: 100%|█████████████████████████████████████████████| 10/10 [00:00<00:00, 25.26it/s]\n",
            "Round26: User1_1: 100%|█████████████████████████████████████████████| 10/10 [00:00<00:00, 22.49it/s]\n",
            "Round26: User10_1: 100%|████████████████████████████████████████████| 10/10 [00:00<00:00, 24.28it/s]\n"
          ]
        },
        {
          "output_type": "stream",
          "name": "stdout",
          "text": [
            "client:11 train_acc: 40.90%, train_loss: 0.3316\n",
            "client:7 train_acc: 39.45%, train_loss: 0.6613\n",
            "client:2 train_acc: 39.27%, train_loss: 0.9826\n",
            "client:14 train_acc: 38.73%, train_loss: 1.3184\n",
            "client:13 train_acc: 39.04%, train_loss: 1.6411\n",
            "client:5 train_acc: 39.33%, train_loss: 1.9675\n",
            "client:12 train_acc: 39.43%, train_loss: 2.2932\n",
            "client:3 train_acc: 39.49%, train_loss: 2.6224\n",
            "client:8 train_acc: 39.42%, train_loss: 2.9493\n",
            "client:9 train_acc: 39.33%, train_loss: 3.2701\n",
            "client:0 train_acc: 39.58%, train_loss: 3.5935\n",
            "client:6 train_acc: 39.39%, train_loss: 3.9237\n",
            "client:4 train_acc: 39.28%, train_loss: 4.2511\n",
            "client:1 train_acc: 39.30%, train_loss: 4.5895\n",
            "client:10 train_acc: 39.19%, train_loss: 4.9198\n",
            "Test set: Average loss: 2.9298, Accuracy: 761/10000 (7.61%)\n"
          ]
        },
        {
          "output_type": "stream",
          "name": "stderr",
          "text": [
            "Round27: User12_1: 100%|████████████████████████████████████████████| 10/10 [00:00<00:00, 23.14it/s]\n",
            "Round27: User8_1: 100%|█████████████████████████████████████████████| 10/10 [00:00<00:00, 23.96it/s]\n",
            "Round27: User10_1: 100%|████████████████████████████████████████████| 10/10 [00:00<00:00, 25.35it/s]\n",
            "Round27: User14_1: 100%|████████████████████████████████████████████| 10/10 [00:00<00:00, 22.50it/s]\n",
            "Round27: User5_1: 100%|█████████████████████████████████████████████| 10/10 [00:00<00:00, 24.36it/s]\n",
            "Round27: User13_1: 100%|████████████████████████████████████████████| 10/10 [00:00<00:00, 23.38it/s]\n",
            "Round27: User2_1: 100%|█████████████████████████████████████████████| 10/10 [00:00<00:00, 24.69it/s]\n",
            "Round27: User9_1: 100%|█████████████████████████████████████████████| 10/10 [00:00<00:00, 25.96it/s]\n",
            "Round27: User0_1: 100%|█████████████████████████████████████████████| 10/10 [00:00<00:00, 23.47it/s]\n",
            "Round27: User7_1: 100%|█████████████████████████████████████████████| 10/10 [00:00<00:00, 23.52it/s]\n",
            "Round27: User6_1: 100%|█████████████████████████████████████████████| 10/10 [00:00<00:00, 24.02it/s]\n",
            "Round27: User11_1: 100%|████████████████████████████████████████████| 10/10 [00:00<00:00, 19.66it/s]\n",
            "Round27: User1_1: 100%|█████████████████████████████████████████████| 10/10 [00:00<00:00, 25.13it/s]\n",
            "Round27: User3_1: 100%|█████████████████████████████████████████████| 10/10 [00:00<00:00, 23.73it/s]\n",
            "Round27: User4_1: 100%|█████████████████████████████████████████████| 10/10 [00:00<00:00, 24.71it/s]\n"
          ]
        },
        {
          "output_type": "stream",
          "name": "stdout",
          "text": [
            "client:12 train_acc: 39.40%, train_loss: 0.3251\n",
            "client:8 train_acc: 39.10%, train_loss: 0.6510\n",
            "client:10 train_acc: 39.07%, train_loss: 0.9788\n",
            "client:14 train_acc: 38.57%, train_loss: 1.3140\n",
            "client:5 train_acc: 39.14%, train_loss: 1.6413\n",
            "client:13 train_acc: 39.25%, train_loss: 1.9655\n",
            "client:2 train_acc: 39.30%, train_loss: 2.2861\n",
            "client:9 train_acc: 39.24%, train_loss: 2.6054\n",
            "client:0 train_acc: 39.50%, train_loss: 2.9291\n",
            "client:7 train_acc: 39.42%, train_loss: 3.2585\n",
            "client:6 train_acc: 39.30%, train_loss: 3.5895\n",
            "client:11 train_acc: 39.38%, train_loss: 3.9200\n",
            "client:1 train_acc: 39.35%, train_loss: 4.2582\n",
            "client:3 train_acc: 39.37%, train_loss: 4.5860\n",
            "client:4 train_acc: 39.31%, train_loss: 4.9116\n",
            "Test set: Average loss: 2.9827, Accuracy: 725/10000 (7.25%)\n"
          ]
        },
        {
          "output_type": "stream",
          "name": "stderr",
          "text": [
            "Round28: User0_1: 100%|█████████████████████████████████████████████| 10/10 [00:00<00:00, 22.96it/s]\n",
            "Round28: User1_1: 100%|█████████████████████████████████████████████| 10/10 [00:00<00:00, 25.93it/s]\n",
            "Round28: User8_1: 100%|█████████████████████████████████████████████| 10/10 [00:00<00:00, 22.49it/s]\n",
            "Round28: User10_1: 100%|████████████████████████████████████████████| 10/10 [00:00<00:00, 24.36it/s]\n",
            "Round28: User6_1: 100%|█████████████████████████████████████████████| 10/10 [00:00<00:00, 23.37it/s]\n",
            "Round28: User2_1: 100%|█████████████████████████████████████████████| 10/10 [00:00<00:00, 24.17it/s]\n",
            "Round28: User3_1: 100%|█████████████████████████████████████████████| 10/10 [00:00<00:00, 25.34it/s]\n",
            "Round28: User9_1: 100%|█████████████████████████████████████████████| 10/10 [00:00<00:00, 19.11it/s]\n",
            "Round28: User14_1: 100%|████████████████████████████████████████████| 10/10 [00:00<00:00, 17.47it/s]\n",
            "Round28: User4_1: 100%|█████████████████████████████████████████████| 10/10 [00:00<00:00, 17.40it/s]\n",
            "Round28: User5_1: 100%|█████████████████████████████████████████████| 10/10 [00:00<00:00, 18.93it/s]\n",
            "Round28: User12_1: 100%|████████████████████████████████████████████| 10/10 [00:00<00:00, 17.27it/s]\n",
            "Round28: User11_1: 100%|████████████████████████████████████████████| 10/10 [00:00<00:00, 23.09it/s]\n",
            "Round28: User13_1: 100%|████████████████████████████████████████████| 10/10 [00:00<00:00, 23.95it/s]\n",
            "Round28: User7_1: 100%|█████████████████████████████████████████████| 10/10 [00:00<00:00, 25.83it/s]\n"
          ]
        },
        {
          "output_type": "stream",
          "name": "stdout",
          "text": [
            "client:0 train_acc: 42.60%, train_loss: 0.3196\n",
            "client:1 train_acc: 41.65%, train_loss: 0.6537\n",
            "client:8 train_acc: 40.93%, train_loss: 0.9765\n",
            "client:10 train_acc: 40.20%, train_loss: 1.3021\n",
            "client:6 train_acc: 39.78%, train_loss: 1.6285\n",
            "client:2 train_acc: 39.82%, train_loss: 1.9462\n",
            "client:3 train_acc: 39.86%, train_loss: 2.2721\n",
            "client:9 train_acc: 39.76%, train_loss: 2.5884\n",
            "client:14 train_acc: 39.58%, train_loss: 2.9207\n",
            "client:4 train_acc: 39.37%, train_loss: 3.2440\n",
            "client:5 train_acc: 39.61%, train_loss: 3.5668\n",
            "client:12 train_acc: 39.63%, train_loss: 3.8889\n",
            "client:11 train_acc: 39.73%, train_loss: 4.2166\n",
            "client:13 train_acc: 39.86%, train_loss: 4.5359\n",
            "client:7 train_acc: 39.81%, train_loss: 4.8621\n",
            "Test set: Average loss: 2.9587, Accuracy: 782/10000 (7.82%)\n"
          ]
        },
        {
          "output_type": "stream",
          "name": "stderr",
          "text": [
            "Round29: User8_1: 100%|█████████████████████████████████████████████| 10/10 [00:00<00:00, 24.14it/s]\n",
            "Round29: User13_1: 100%|████████████████████████████████████████████| 10/10 [00:00<00:00, 23.35it/s]\n",
            "Round29: User14_1: 100%|████████████████████████████████████████████| 10/10 [00:00<00:00, 25.09it/s]\n",
            "Round29: User9_1: 100%|█████████████████████████████████████████████| 10/10 [00:00<00:00, 24.55it/s]\n",
            "Round29: User12_1: 100%|████████████████████████████████████████████| 10/10 [00:00<00:00, 22.44it/s]\n",
            "Round29: User1_1: 100%|█████████████████████████████████████████████| 10/10 [00:00<00:00, 23.85it/s]\n",
            "Round29: User11_1: 100%|████████████████████████████████████████████| 10/10 [00:00<00:00, 22.84it/s]\n",
            "Round29: User2_1: 100%|█████████████████████████████████████████████| 10/10 [00:00<00:00, 24.67it/s]\n",
            "Round29: User4_1: 100%|█████████████████████████████████████████████| 10/10 [00:00<00:00, 24.23it/s]\n",
            "Round29: User0_1: 100%|█████████████████████████████████████████████| 10/10 [00:00<00:00, 24.07it/s]\n",
            "Round29: User5_1: 100%|█████████████████████████████████████████████| 10/10 [00:00<00:00, 24.99it/s]\n",
            "Round29: User3_1: 100%|█████████████████████████████████████████████| 10/10 [00:00<00:00, 24.22it/s]\n",
            "Round29: User7_1: 100%|█████████████████████████████████████████████| 10/10 [00:00<00:00, 24.09it/s]\n",
            "Round29: User10_1: 100%|████████████████████████████████████████████| 10/10 [00:00<00:00, 24.92it/s]\n",
            "Round29: User6_1: 100%|█████████████████████████████████████████████| 10/10 [00:00<00:00, 23.24it/s]\n"
          ]
        },
        {
          "output_type": "stream",
          "name": "stdout",
          "text": [
            "client:8 train_acc: 39.30%, train_loss: 0.3217\n",
            "client:13 train_acc: 40.30%, train_loss: 0.6399\n",
            "client:14 train_acc: 39.40%, train_loss: 0.9706\n",
            "client:9 train_acc: 39.50%, train_loss: 1.2855\n",
            "client:12 train_acc: 39.56%, train_loss: 1.6059\n",
            "client:1 train_acc: 39.88%, train_loss: 1.9379\n",
            "client:11 train_acc: 40.14%, train_loss: 2.2638\n",
            "client:2 train_acc: 40.08%, train_loss: 2.5807\n",
            "client:4 train_acc: 39.86%, train_loss: 2.9029\n",
            "client:0 train_acc: 40.04%, train_loss: 3.2222\n",
            "client:5 train_acc: 40.16%, train_loss: 3.5436\n",
            "client:3 train_acc: 40.14%, train_loss: 3.8673\n",
            "client:7 train_acc: 40.16%, train_loss: 4.1917\n",
            "client:10 train_acc: 40.04%, train_loss: 4.5162\n",
            "client:6 train_acc: 39.88%, train_loss: 4.8421\n",
            "Test set: Average loss: 2.9941, Accuracy: 722/10000 (7.22%)\n"
          ]
        },
        {
          "output_type": "stream",
          "name": "stderr",
          "text": [
            "Round30: User14_1: 100%|████████████████████████████████████████████| 10/10 [00:00<00:00, 23.47it/s]\n",
            "Round30: User3_1: 100%|█████████████████████████████████████████████| 10/10 [00:00<00:00, 23.99it/s]\n",
            "Round30: User2_1: 100%|█████████████████████████████████████████████| 10/10 [00:00<00:00, 23.94it/s]\n",
            "Round30: User12_1: 100%|████████████████████████████████████████████| 10/10 [00:00<00:00, 25.37it/s]\n",
            "Round30: User5_1: 100%|█████████████████████████████████████████████| 10/10 [00:00<00:00, 25.95it/s]\n",
            "Round30: User6_1: 100%|█████████████████████████████████████████████| 10/10 [00:00<00:00, 23.15it/s]\n",
            "Round30: User9_1: 100%|█████████████████████████████████████████████| 10/10 [00:00<00:00, 25.12it/s]\n",
            "Round30: User7_1: 100%|█████████████████████████████████████████████| 10/10 [00:00<00:00, 25.39it/s]\n",
            "Round30: User0_1: 100%|█████████████████████████████████████████████| 10/10 [00:00<00:00, 22.48it/s]\n",
            "Round30: User11_1: 100%|████████████████████████████████████████████| 10/10 [00:00<00:00, 25.52it/s]\n",
            "Round30: User1_1: 100%|█████████████████████████████████████████████| 10/10 [00:00<00:00, 19.65it/s]\n",
            "Round30: User4_1: 100%|█████████████████████████████████████████████| 10/10 [00:00<00:00, 16.23it/s]\n",
            "Round30: User8_1: 100%|█████████████████████████████████████████████| 10/10 [00:00<00:00, 15.84it/s]\n",
            "Round30: User13_1: 100%|████████████████████████████████████████████| 10/10 [00:00<00:00, 17.39it/s]\n",
            "Round30: User10_1: 100%|████████████████████████████████████████████| 10/10 [00:00<00:00, 20.24it/s]\n"
          ]
        },
        {
          "output_type": "stream",
          "name": "stdout",
          "text": [
            "client:14 train_acc: 38.50%, train_loss: 0.3298\n",
            "client:3 train_acc: 39.75%, train_loss: 0.6523\n",
            "client:2 train_acc: 40.10%, train_loss: 0.9676\n",
            "client:12 train_acc: 40.00%, train_loss: 1.2870\n",
            "client:5 train_acc: 40.48%, train_loss: 1.6072\n",
            "client:6 train_acc: 40.25%, train_loss: 1.9319\n",
            "client:9 train_acc: 40.06%, train_loss: 2.2454\n",
            "client:7 train_acc: 39.89%, train_loss: 2.5686\n",
            "client:0 train_acc: 40.30%, train_loss: 2.8859\n",
            "client:11 train_acc: 40.41%, train_loss: 3.2112\n",
            "client:1 train_acc: 40.46%, train_loss: 3.5422\n",
            "client:4 train_acc: 40.35%, train_loss: 3.8626\n",
            "client:8 train_acc: 40.40%, train_loss: 4.1825\n",
            "client:13 train_acc: 40.49%, train_loss: 4.5011\n",
            "client:10 train_acc: 40.47%, train_loss: 4.8239\n",
            "Test set: Average loss: 3.0329, Accuracy: 691/10000 (6.91%)\n"
          ]
        },
        {
          "output_type": "stream",
          "name": "stderr",
          "text": [
            "Round31: User14_1: 100%|████████████████████████████████████████████| 10/10 [00:00<00:00, 17.35it/s]\n",
            "Round31: User9_1: 100%|█████████████████████████████████████████████| 10/10 [00:00<00:00, 18.75it/s]\n",
            "Round31: User1_1: 100%|█████████████████████████████████████████████| 10/10 [00:00<00:00, 17.51it/s]\n",
            "Round31: User0_1: 100%|█████████████████████████████████████████████| 10/10 [00:00<00:00, 24.65it/s]\n",
            "Round31: User3_1: 100%|█████████████████████████████████████████████| 10/10 [00:00<00:00, 24.38it/s]\n",
            "Round31: User10_1: 100%|████████████████████████████████████████████| 10/10 [00:00<00:00, 23.33it/s]\n",
            "Round31: User6_1: 100%|█████████████████████████████████████████████| 10/10 [00:00<00:00, 24.26it/s]\n",
            "Round31: User4_1: 100%|█████████████████████████████████████████████| 10/10 [00:00<00:00, 23.15it/s]\n",
            "Round31: User13_1: 100%|████████████████████████████████████████████| 10/10 [00:00<00:00, 26.21it/s]\n",
            "Round31: User5_1: 100%|█████████████████████████████████████████████| 10/10 [00:00<00:00, 23.08it/s]\n",
            "Round31: User7_1: 100%|█████████████████████████████████████████████| 10/10 [00:00<00:00, 25.00it/s]\n",
            "Round31: User2_1: 100%|█████████████████████████████████████████████| 10/10 [00:00<00:00, 24.68it/s]\n",
            "Round31: User11_1: 100%|████████████████████████████████████████████| 10/10 [00:00<00:00, 23.21it/s]\n",
            "Round31: User8_1: 100%|█████████████████████████████████████████████| 10/10 [00:00<00:00, 24.98it/s]\n",
            "Round31: User12_1: 100%|████████████████████████████████████████████| 10/10 [00:00<00:00, 23.14it/s]\n"
          ]
        },
        {
          "output_type": "stream",
          "name": "stdout",
          "text": [
            "client:14 train_acc: 38.70%, train_loss: 0.3273\n",
            "client:9 train_acc: 39.25%, train_loss: 0.6383\n",
            "client:1 train_acc: 39.87%, train_loss: 0.9674\n",
            "client:0 train_acc: 40.75%, train_loss: 1.2823\n",
            "client:3 train_acc: 40.78%, train_loss: 1.6031\n",
            "client:10 train_acc: 40.57%, train_loss: 1.9238\n",
            "client:6 train_acc: 40.31%, train_loss: 2.2450\n",
            "client:4 train_acc: 40.30%, train_loss: 2.5631\n",
            "client:13 train_acc: 40.47%, train_loss: 2.8771\n",
            "client:5 train_acc: 40.67%, train_loss: 3.1947\n",
            "client:7 train_acc: 40.65%, train_loss: 3.5155\n",
            "client:2 train_acc: 40.70%, train_loss: 3.8288\n",
            "client:11 train_acc: 40.75%, train_loss: 4.1527\n",
            "client:8 train_acc: 40.79%, train_loss: 4.4709\n",
            "client:12 train_acc: 40.73%, train_loss: 4.7889\n",
            "Test set: Average loss: 3.0137, Accuracy: 722/10000 (7.22%)\n"
          ]
        },
        {
          "output_type": "stream",
          "name": "stderr",
          "text": [
            "Round32: User10_1: 100%|████████████████████████████████████████████| 10/10 [00:00<00:00, 22.75it/s]\n",
            "Round32: User2_1: 100%|█████████████████████████████████████████████| 10/10 [00:00<00:00, 25.81it/s]\n",
            "Round32: User4_1: 100%|█████████████████████████████████████████████| 10/10 [00:00<00:00, 25.63it/s]\n",
            "Round32: User5_1: 100%|█████████████████████████████████████████████| 10/10 [00:00<00:00, 22.89it/s]\n",
            "Round32: User11_1: 100%|████████████████████████████████████████████| 10/10 [00:00<00:00, 24.33it/s]\n",
            "Round32: User7_1: 100%|█████████████████████████████████████████████| 10/10 [00:00<00:00, 25.28it/s]\n",
            "Round32: User3_1: 100%|█████████████████████████████████████████████| 10/10 [00:00<00:00, 23.27it/s]\n",
            "Round32: User14_1: 100%|████████████████████████████████████████████| 10/10 [00:00<00:00, 24.97it/s]\n",
            "Round32: User12_1: 100%|████████████████████████████████████████████| 10/10 [00:00<00:00, 24.78it/s]\n",
            "Round32: User1_1: 100%|█████████████████████████████████████████████| 10/10 [00:00<00:00, 23.79it/s]\n",
            "Round32: User13_1: 100%|████████████████████████████████████████████| 10/10 [00:00<00:00, 25.81it/s]\n",
            "Round32: User6_1: 100%|█████████████████████████████████████████████| 10/10 [00:00<00:00, 23.51it/s]\n",
            "Round32: User9_1: 100%|█████████████████████████████████████████████| 10/10 [00:00<00:00, 24.49it/s]\n",
            "Round32: User0_1: 100%|█████████████████████████████████████████████| 10/10 [00:00<00:00, 24.40it/s]\n",
            "Round32: User8_1: 100%|█████████████████████████████████████████████| 10/10 [00:00<00:00, 15.79it/s]\n"
          ]
        },
        {
          "output_type": "stream",
          "name": "stdout",
          "text": [
            "client:10 train_acc: 40.20%, train_loss: 0.3190\n",
            "client:2 train_acc: 40.85%, train_loss: 0.6307\n",
            "client:4 train_acc: 40.40%, train_loss: 0.9482\n",
            "client:5 train_acc: 40.83%, train_loss: 1.2652\n",
            "client:11 train_acc: 40.98%, train_loss: 1.5871\n",
            "client:7 train_acc: 40.93%, train_loss: 1.9073\n",
            "client:3 train_acc: 40.79%, train_loss: 2.2268\n",
            "client:14 train_acc: 40.64%, train_loss: 2.5534\n",
            "client:12 train_acc: 40.73%, train_loss: 2.8687\n",
            "client:1 train_acc: 40.86%, train_loss: 3.1964\n",
            "client:13 train_acc: 40.95%, train_loss: 3.5109\n",
            "client:6 train_acc: 40.85%, train_loss: 3.8318\n",
            "client:9 train_acc: 40.81%, train_loss: 4.1418\n",
            "client:0 train_acc: 41.04%, train_loss: 4.4568\n",
            "client:8 train_acc: 41.04%, train_loss: 4.7741\n",
            "Test set: Average loss: 3.0414, Accuracy: 687/10000 (6.87%)\n"
          ]
        },
        {
          "output_type": "stream",
          "name": "stderr",
          "text": [
            "Round33: User0_1: 100%|█████████████████████████████████████████████| 10/10 [00:00<00:00, 24.74it/s]\n",
            "Round33: User4_1: 100%|█████████████████████████████████████████████| 10/10 [00:00<00:00, 23.53it/s]\n",
            "Round33: User11_1: 100%|████████████████████████████████████████████| 10/10 [00:00<00:00, 16.64it/s]\n",
            "Round33: User1_1: 100%|█████████████████████████████████████████████| 10/10 [00:00<00:00, 17.39it/s]\n",
            "Round33: User2_1: 100%|█████████████████████████████████████████████| 10/10 [00:00<00:00, 16.85it/s]\n",
            "Round33: User3_1: 100%|█████████████████████████████████████████████| 10/10 [00:00<00:00, 17.18it/s]\n",
            "Round33: User5_1: 100%|█████████████████████████████████████████████| 10/10 [00:00<00:00, 23.65it/s]\n",
            "Round33: User7_1: 100%|█████████████████████████████████████████████| 10/10 [00:00<00:00, 24.84it/s]\n",
            "Round33: User10_1: 100%|████████████████████████████████████████████| 10/10 [00:00<00:00, 25.37it/s]\n",
            "Round33: User12_1: 100%|████████████████████████████████████████████| 10/10 [00:00<00:00, 22.90it/s]\n",
            "Round33: User14_1: 100%|████████████████████████████████████████████| 10/10 [00:00<00:00, 24.36it/s]\n",
            "Round33: User13_1: 100%|████████████████████████████████████████████| 10/10 [00:00<00:00, 25.33it/s]\n",
            "Round33: User6_1: 100%|█████████████████████████████████████████████| 10/10 [00:00<00:00, 23.31it/s]\n",
            "Round33: User9_1: 100%|█████████████████████████████████████████████| 10/10 [00:00<00:00, 24.10it/s]\n",
            "Round33: User8_1: 100%|█████████████████████████████████████████████| 10/10 [00:00<00:00, 24.75it/s]\n"
          ]
        },
        {
          "output_type": "stream",
          "name": "stdout",
          "text": [
            "client:0 train_acc: 44.70%, train_loss: 0.3107\n",
            "client:4 train_acc: 42.40%, train_loss: 0.6270\n",
            "client:11 train_acc: 42.30%, train_loss: 0.9471\n",
            "client:1 train_acc: 42.27%, train_loss: 1.2717\n",
            "client:2 train_acc: 42.18%, train_loss: 1.5821\n",
            "client:3 train_acc: 42.03%, train_loss: 1.9001\n",
            "client:5 train_acc: 42.17%, train_loss: 2.2151\n",
            "client:7 train_acc: 41.98%, train_loss: 2.5322\n",
            "client:10 train_acc: 41.73%, train_loss: 2.8504\n",
            "client:12 train_acc: 41.76%, train_loss: 3.1642\n",
            "client:14 train_acc: 41.53%, train_loss: 3.4891\n",
            "client:13 train_acc: 41.62%, train_loss: 3.8005\n",
            "client:6 train_acc: 41.42%, train_loss: 4.1191\n",
            "client:9 train_acc: 41.31%, train_loss: 4.4275\n",
            "client:8 train_acc: 41.33%, train_loss: 4.7437\n",
            "Test set: Average loss: 3.0400, Accuracy: 744/10000 (7.44%)\n"
          ]
        },
        {
          "output_type": "stream",
          "name": "stderr",
          "text": [
            "Round34: User0_1: 100%|█████████████████████████████████████████████| 10/10 [00:00<00:00, 22.37it/s]\n",
            "Round34: User14_1: 100%|████████████████████████████████████████████| 10/10 [00:00<00:00, 22.84it/s]\n",
            "Round34: User5_1: 100%|█████████████████████████████████████████████| 10/10 [00:00<00:00, 25.55it/s]\n",
            "Round34: User10_1: 100%|████████████████████████████████████████████| 10/10 [00:00<00:00, 23.15it/s]\n",
            "Round34: User3_1: 100%|█████████████████████████████████████████████| 10/10 [00:00<00:00, 25.28it/s]\n",
            "Round34: User7_1: 100%|█████████████████████████████████████████████| 10/10 [00:00<00:00, 26.40it/s]\n",
            "Round34: User1_1: 100%|█████████████████████████████████████████████| 10/10 [00:00<00:00, 22.99it/s]\n",
            "Round34: User8_1: 100%|█████████████████████████████████████████████| 10/10 [00:00<00:00, 25.46it/s]\n",
            "Round34: User6_1: 100%|█████████████████████████████████████████████| 10/10 [00:00<00:00, 23.21it/s]\n",
            "Round34: User12_1: 100%|████████████████████████████████████████████| 10/10 [00:00<00:00, 24.19it/s]\n",
            "Round34: User11_1: 100%|████████████████████████████████████████████| 10/10 [00:00<00:00, 24.62it/s]\n",
            "Round34: User4_1: 100%|█████████████████████████████████████████████| 10/10 [00:00<00:00, 24.37it/s]\n",
            "Round34: User13_1: 100%|████████████████████████████████████████████| 10/10 [00:00<00:00, 25.51it/s]\n",
            "Round34: User9_1: 100%|█████████████████████████████████████████████| 10/10 [00:00<00:00, 24.19it/s]\n",
            "Round34: User2_1: 100%|█████████████████████████████████████████████| 10/10 [00:00<00:00, 24.88it/s]\n"
          ]
        },
        {
          "output_type": "stream",
          "name": "stdout",
          "text": [
            "client:0 train_acc: 43.40%, train_loss: 0.3140\n",
            "client:14 train_acc: 41.70%, train_loss: 0.6391\n",
            "client:5 train_acc: 41.73%, train_loss: 0.9551\n",
            "client:10 train_acc: 41.58%, train_loss: 1.2721\n",
            "client:3 train_acc: 41.54%, train_loss: 1.5895\n",
            "client:7 train_acc: 41.53%, train_loss: 1.9074\n",
            "client:1 train_acc: 41.67%, train_loss: 2.2314\n",
            "client:8 train_acc: 41.51%, train_loss: 2.5467\n",
            "client:6 train_acc: 41.40%, train_loss: 2.8661\n",
            "client:12 train_acc: 41.43%, train_loss: 3.1792\n",
            "client:11 train_acc: 41.45%, train_loss: 3.4985\n",
            "client:4 train_acc: 41.28%, train_loss: 3.8141\n",
            "client:13 train_acc: 41.33%, train_loss: 4.1269\n",
            "client:9 train_acc: 41.32%, train_loss: 4.4355\n",
            "client:2 train_acc: 41.29%, train_loss: 4.7465\n",
            "Test set: Average loss: 3.1075, Accuracy: 714/10000 (7.14%)\n"
          ]
        },
        {
          "output_type": "stream",
          "name": "stderr",
          "text": [
            "Round35: User12_1: 100%|████████████████████████████████████████████| 10/10 [00:00<00:00, 23.23it/s]\n",
            "Round35: User7_1: 100%|█████████████████████████████████████████████| 10/10 [00:00<00:00, 24.73it/s]\n",
            "Round35: User4_1: 100%|█████████████████████████████████████████████| 10/10 [00:00<00:00, 23.12it/s]\n",
            "Round35: User3_1: 100%|█████████████████████████████████████████████| 10/10 [00:00<00:00, 25.17it/s]\n",
            "Round35: User6_1: 100%|█████████████████████████████████████████████| 10/10 [00:00<00:00, 25.85it/s]\n",
            "Round35: User13_1: 100%|████████████████████████████████████████████| 10/10 [00:00<00:00, 17.40it/s]\n",
            "Round35: User14_1: 100%|████████████████████████████████████████████| 10/10 [00:00<00:00, 18.44it/s]\n",
            "Round35: User10_1: 100%|████████████████████████████████████████████| 10/10 [00:00<00:00, 16.86it/s]\n",
            "Round35: User8_1: 100%|█████████████████████████████████████████████| 10/10 [00:00<00:00, 17.04it/s]\n",
            "Round35: User11_1: 100%|████████████████████████████████████████████| 10/10 [00:00<00:00, 23.62it/s]\n",
            "Round35: User5_1: 100%|█████████████████████████████████████████████| 10/10 [00:00<00:00, 24.76it/s]\n",
            "Round35: User0_1: 100%|█████████████████████████████████████████████| 10/10 [00:00<00:00, 23.08it/s]\n",
            "Round35: User9_1: 100%|█████████████████████████████████████████████| 10/10 [00:00<00:00, 24.95it/s]\n",
            "Round35: User2_1: 100%|█████████████████████████████████████████████| 10/10 [00:00<00:00, 24.23it/s]\n",
            "Round35: User1_1: 100%|█████████████████████████████████████████████| 10/10 [00:00<00:00, 23.08it/s]\n"
          ]
        },
        {
          "output_type": "stream",
          "name": "stdout",
          "text": [
            "client:12 train_acc: 42.40%, train_loss: 0.3116\n",
            "client:7 train_acc: 42.15%, train_loss: 0.6255\n",
            "client:4 train_acc: 41.57%, train_loss: 0.9376\n",
            "client:3 train_acc: 41.70%, train_loss: 1.2526\n",
            "client:6 train_acc: 41.54%, train_loss: 1.5696\n",
            "client:13 train_acc: 41.82%, train_loss: 1.8792\n",
            "client:14 train_acc: 41.63%, train_loss: 2.2010\n",
            "client:10 train_acc: 41.58%, train_loss: 2.5163\n",
            "client:8 train_acc: 41.57%, train_loss: 2.8304\n",
            "client:11 train_acc: 41.65%, train_loss: 3.1474\n",
            "client:5 train_acc: 41.68%, train_loss: 3.4603\n",
            "client:0 train_acc: 41.91%, train_loss: 3.7684\n",
            "client:9 train_acc: 41.80%, train_loss: 4.0734\n",
            "client:2 train_acc: 41.81%, train_loss: 4.3814\n",
            "client:1 train_acc: 41.79%, train_loss: 4.7046\n",
            "Test set: Average loss: 3.0747, Accuracy: 726/10000 (7.26%)\n"
          ]
        },
        {
          "output_type": "stream",
          "name": "stderr",
          "text": [
            "Round36: User13_1: 100%|████████████████████████████████████████████| 10/10 [00:00<00:00, 23.99it/s]\n",
            "Round36: User14_1: 100%|████████████████████████████████████████████| 10/10 [00:00<00:00, 25.03it/s]\n",
            "Round36: User7_1: 100%|█████████████████████████████████████████████| 10/10 [00:00<00:00, 25.42it/s]\n",
            "Round36: User10_1: 100%|████████████████████████████████████████████| 10/10 [00:00<00:00, 22.79it/s]\n",
            "Round36: User9_1: 100%|█████████████████████████████████████████████| 10/10 [00:00<00:00, 23.72it/s]\n",
            "Round36: User6_1: 100%|█████████████████████████████████████████████| 10/10 [00:00<00:00, 23.74it/s]\n",
            "Round36: User3_1: 100%|█████████████████████████████████████████████| 10/10 [00:00<00:00, 25.85it/s]\n",
            "Round36: User8_1: 100%|█████████████████████████████████████████████| 10/10 [00:00<00:00, 25.68it/s]\n",
            "Round36: User5_1: 100%|█████████████████████████████████████████████| 10/10 [00:00<00:00, 24.01it/s]\n",
            "Round36: User1_1: 100%|█████████████████████████████████████████████| 10/10 [00:00<00:00, 24.61it/s]\n",
            "Round36: User12_1: 100%|████████████████████████████████████████████| 10/10 [00:00<00:00, 24.99it/s]\n",
            "Round36: User2_1: 100%|█████████████████████████████████████████████| 10/10 [00:00<00:00, 22.36it/s]\n",
            "Round36: User0_1: 100%|█████████████████████████████████████████████| 10/10 [00:00<00:00, 24.59it/s]\n",
            "Round36: User4_1: 100%|█████████████████████████████████████████████| 10/10 [00:00<00:00, 23.38it/s]\n",
            "Round36: User11_1: 100%|████████████████████████████████████████████| 10/10 [00:00<00:00, 24.57it/s]\n"
          ]
        },
        {
          "output_type": "stream",
          "name": "stdout",
          "text": [
            "client:13 train_acc: 43.40%, train_loss: 0.3083\n",
            "client:14 train_acc: 41.55%, train_loss: 0.6290\n",
            "client:7 train_acc: 41.50%, train_loss: 0.9418\n",
            "client:10 train_acc: 41.73%, train_loss: 1.2556\n",
            "client:9 train_acc: 41.36%, train_loss: 1.5598\n",
            "client:6 train_acc: 41.27%, train_loss: 1.8750\n",
            "client:3 train_acc: 41.40%, train_loss: 2.1889\n",
            "client:8 train_acc: 41.46%, train_loss: 2.5002\n",
            "client:5 train_acc: 41.57%, train_loss: 2.8116\n",
            "client:1 train_acc: 41.67%, train_loss: 3.1305\n",
            "client:12 train_acc: 41.72%, train_loss: 3.4405\n",
            "client:2 train_acc: 41.78%, train_loss: 3.7481\n",
            "client:0 train_acc: 42.00%, train_loss: 4.0553\n",
            "client:4 train_acc: 41.85%, train_loss: 4.3679\n",
            "client:11 train_acc: 41.86%, train_loss: 4.6843\n",
            "Test set: Average loss: 3.0899, Accuracy: 670/10000 (6.70%)\n"
          ]
        },
        {
          "output_type": "stream",
          "name": "stderr",
          "text": [
            "Round37: User12_1: 100%|████████████████████████████████████████████| 10/10 [00:00<00:00, 21.44it/s]\n",
            "Round37: User10_1: 100%|████████████████████████████████████████████| 10/10 [00:00<00:00, 25.16it/s]\n",
            "Round37: User11_1: 100%|████████████████████████████████████████████| 10/10 [00:00<00:00, 23.28it/s]\n",
            "Round37: User6_1: 100%|█████████████████████████████████████████████| 10/10 [00:00<00:00, 24.19it/s]\n",
            "Round37: User9_1: 100%|█████████████████████████████████████████████| 10/10 [00:00<00:00, 23.46it/s]\n",
            "Round37: User1_1: 100%|█████████████████████████████████████████████| 10/10 [00:00<00:00, 23.70it/s]\n",
            "Round37: User0_1: 100%|█████████████████████████████████████████████| 10/10 [00:00<00:00, 22.62it/s]\n",
            "Round37: User8_1: 100%|█████████████████████████████████████████████| 10/10 [00:00<00:00, 24.48it/s]\n",
            "Round37: User14_1: 100%|████████████████████████████████████████████| 10/10 [00:00<00:00, 19.59it/s]\n",
            "Round37: User13_1: 100%|████████████████████████████████████████████| 10/10 [00:00<00:00, 17.13it/s]\n",
            "Round37: User3_1: 100%|█████████████████████████████████████████████| 10/10 [00:00<00:00, 17.48it/s]\n",
            "Round37: User2_1: 100%|█████████████████████████████████████████████| 10/10 [00:00<00:00, 17.80it/s]\n",
            "Round37: User5_1: 100%|█████████████████████████████████████████████| 10/10 [00:00<00:00, 20.47it/s]\n",
            "Round37: User4_1: 100%|█████████████████████████████████████████████| 10/10 [00:00<00:00, 25.58it/s]\n",
            "Round37: User7_1: 100%|█████████████████████████████████████████████| 10/10 [00:00<00:00, 23.30it/s]\n"
          ]
        },
        {
          "output_type": "stream",
          "name": "stdout",
          "text": [
            "client:12 train_acc: 42.80%, train_loss: 0.3086\n",
            "client:10 train_acc: 42.50%, train_loss: 0.6210\n",
            "client:11 train_acc: 42.77%, train_loss: 0.9359\n",
            "client:6 train_acc: 42.43%, train_loss: 1.2485\n",
            "client:9 train_acc: 41.98%, train_loss: 1.5510\n",
            "client:1 train_acc: 42.18%, train_loss: 1.8686\n",
            "client:0 train_acc: 42.71%, train_loss: 2.1736\n",
            "client:8 train_acc: 42.66%, train_loss: 2.4846\n",
            "client:14 train_acc: 42.40%, train_loss: 2.8033\n",
            "client:13 train_acc: 42.56%, train_loss: 3.1096\n",
            "client:3 train_acc: 42.54%, train_loss: 3.4222\n",
            "client:2 train_acc: 42.58%, train_loss: 3.7278\n",
            "client:5 train_acc: 42.64%, train_loss: 4.0378\n",
            "client:4 train_acc: 42.53%, train_loss: 4.3489\n",
            "client:7 train_acc: 42.46%, train_loss: 4.6604\n",
            "Test set: Average loss: 3.0858, Accuracy: 765/10000 (7.65%)\n"
          ]
        },
        {
          "output_type": "stream",
          "name": "stderr",
          "text": [
            "Round38: User9_1: 100%|█████████████████████████████████████████████| 10/10 [00:00<00:00, 16.08it/s]\n",
            "Round38: User14_1: 100%|████████████████████████████████████████████| 10/10 [00:00<00:00, 24.90it/s]\n",
            "Round38: User8_1: 100%|█████████████████████████████████████████████| 10/10 [00:00<00:00, 22.79it/s]\n",
            "Round38: User10_1: 100%|████████████████████████████████████████████| 10/10 [00:00<00:00, 25.01it/s]\n",
            "Round38: User13_1: 100%|████████████████████████████████████████████| 10/10 [00:00<00:00, 23.58it/s]\n",
            "Round38: User11_1: 100%|████████████████████████████████████████████| 10/10 [00:00<00:00, 24.41it/s]\n",
            "Round38: User1_1: 100%|█████████████████████████████████████████████| 10/10 [00:00<00:00, 24.68it/s]\n",
            "Round38: User12_1: 100%|████████████████████████████████████████████| 10/10 [00:00<00:00, 22.63it/s]\n",
            "Round38: User2_1: 100%|█████████████████████████████████████████████| 10/10 [00:00<00:00, 24.70it/s]\n",
            "Round38: User3_1: 100%|█████████████████████████████████████████████| 10/10 [00:00<00:00, 23.50it/s]\n",
            "Round38: User4_1: 100%|█████████████████████████████████████████████| 10/10 [00:00<00:00, 23.92it/s]\n",
            "Round38: User5_1: 100%|█████████████████████████████████████████████| 10/10 [00:00<00:00, 24.49it/s]\n",
            "Round38: User0_1: 100%|█████████████████████████████████████████████| 10/10 [00:00<00:00, 23.61it/s]\n",
            "Round38: User6_1: 100%|█████████████████████████████████████████████| 10/10 [00:00<00:00, 24.91it/s]\n",
            "Round38: User7_1: 100%|█████████████████████████████████████████████| 10/10 [00:00<00:00, 26.31it/s]\n"
          ]
        },
        {
          "output_type": "stream",
          "name": "stdout",
          "text": [
            "client:9 train_acc: 41.90%, train_loss: 0.3029\n",
            "client:14 train_acc: 41.60%, train_loss: 0.6221\n",
            "client:8 train_acc: 41.77%, train_loss: 0.9324\n",
            "client:10 train_acc: 41.85%, train_loss: 1.2441\n",
            "client:13 train_acc: 42.18%, train_loss: 1.5512\n",
            "client:11 train_acc: 42.45%, train_loss: 1.8656\n",
            "client:1 train_acc: 42.63%, train_loss: 2.1835\n",
            "client:12 train_acc: 42.61%, train_loss: 2.4909\n",
            "client:2 train_acc: 42.73%, train_loss: 2.7955\n",
            "client:3 train_acc: 42.72%, train_loss: 3.1076\n",
            "client:4 train_acc: 42.53%, train_loss: 3.4179\n",
            "client:5 train_acc: 42.58%, train_loss: 3.7281\n",
            "client:0 train_acc: 42.86%, train_loss: 4.0358\n",
            "client:6 train_acc: 42.75%, train_loss: 4.3503\n",
            "client:7 train_acc: 42.66%, train_loss: 4.6624\n",
            "Test set: Average loss: 3.1164, Accuracy: 688/10000 (6.88%)\n"
          ]
        },
        {
          "output_type": "stream",
          "name": "stderr",
          "text": [
            "Round39: User13_1: 100%|████████████████████████████████████████████| 10/10 [00:00<00:00, 22.23it/s]\n",
            "Round39: User7_1: 100%|█████████████████████████████████████████████| 10/10 [00:00<00:00, 25.20it/s]\n",
            "Round39: User1_1: 100%|█████████████████████████████████████████████| 10/10 [00:00<00:00, 23.74it/s]\n",
            "Round39: User8_1: 100%|█████████████████████████████████████████████| 10/10 [00:00<00:00, 24.80it/s]\n",
            "Round39: User0_1: 100%|█████████████████████████████████████████████| 10/10 [00:00<00:00, 24.80it/s]\n",
            "Round39: User10_1: 100%|████████████████████████████████████████████| 10/10 [00:00<00:00, 22.52it/s]\n",
            "Round39: User11_1: 100%|████████████████████████████████████████████| 10/10 [00:00<00:00, 25.84it/s]\n",
            "Round39: User3_1: 100%|█████████████████████████████████████████████| 10/10 [00:00<00:00, 23.18it/s]\n",
            "Round39: User6_1: 100%|█████████████████████████████████████████████| 10/10 [00:00<00:00, 24.45it/s]\n",
            "Round39: User9_1: 100%|█████████████████████████████████████████████| 10/10 [00:00<00:00, 23.87it/s]\n",
            "Round39: User4_1: 100%|█████████████████████████████████████████████| 10/10 [00:00<00:00, 22.28it/s]\n",
            "Round39: User2_1: 100%|█████████████████████████████████████████████| 10/10 [00:00<00:00, 23.02it/s]\n",
            "Round39: User5_1: 100%|█████████████████████████████████████████████| 10/10 [00:00<00:00, 17.01it/s]\n",
            "Round39: User12_1: 100%|████████████████████████████████████████████| 10/10 [00:00<00:00, 16.72it/s]\n",
            "Round39: User14_1: 100%|████████████████████████████████████████████| 10/10 [00:00<00:00, 18.32it/s]\n"
          ]
        },
        {
          "output_type": "stream",
          "name": "stdout",
          "text": [
            "client:13 train_acc: 45.20%, train_loss: 0.3041\n",
            "client:7 train_acc: 43.30%, train_loss: 0.6139\n",
            "client:1 train_acc: 43.23%, train_loss: 0.9299\n",
            "client:8 train_acc: 43.25%, train_loss: 1.2386\n",
            "client:0 train_acc: 43.78%, train_loss: 1.5427\n",
            "client:10 train_acc: 43.48%, train_loss: 1.8530\n",
            "client:11 train_acc: 43.67%, train_loss: 2.1666\n",
            "client:3 train_acc: 43.53%, train_loss: 2.4776\n",
            "client:6 train_acc: 43.32%, train_loss: 2.7890\n",
            "client:9 train_acc: 43.20%, train_loss: 3.0901\n",
            "client:4 train_acc: 43.07%, train_loss: 3.3996\n",
            "client:2 train_acc: 43.13%, train_loss: 3.7027\n",
            "client:5 train_acc: 43.12%, train_loss: 4.0096\n",
            "client:12 train_acc: 43.14%, train_loss: 4.3158\n",
            "client:14 train_acc: 43.00%, train_loss: 4.6332\n",
            "Test set: Average loss: 3.0756, Accuracy: 686/10000 (6.86%)\n"
          ]
        },
        {
          "output_type": "stream",
          "name": "stderr",
          "text": [
            "Round40: User4_1: 100%|█████████████████████████████████████████████| 10/10 [00:00<00:00, 16.59it/s]\n",
            "Round40: User3_1: 100%|█████████████████████████████████████████████| 10/10 [00:00<00:00, 17.83it/s]\n",
            "Round40: User10_1: 100%|████████████████████████████████████████████| 10/10 [00:00<00:00, 18.00it/s]\n",
            "Round40: User13_1: 100%|████████████████████████████████████████████| 10/10 [00:00<00:00, 16.53it/s]\n",
            "Round40: User5_1: 100%|█████████████████████████████████████████████| 10/10 [00:00<00:00, 24.19it/s]\n",
            "Round40: User8_1: 100%|█████████████████████████████████████████████| 10/10 [00:00<00:00, 24.29it/s]\n",
            "Round40: User6_1: 100%|█████████████████████████████████████████████| 10/10 [00:00<00:00, 22.88it/s]\n",
            "Round40: User1_1: 100%|█████████████████████████████████████████████| 10/10 [00:00<00:00, 23.25it/s]\n",
            "Round40: User0_1: 100%|█████████████████████████████████████████████| 10/10 [00:00<00:00, 24.18it/s]\n",
            "Round40: User12_1: 100%|████████████████████████████████████████████| 10/10 [00:00<00:00, 22.99it/s]\n",
            "Round40: User7_1: 100%|█████████████████████████████████████████████| 10/10 [00:00<00:00, 26.24it/s]\n",
            "Round40: User11_1: 100%|████████████████████████████████████████████| 10/10 [00:00<00:00, 23.44it/s]\n",
            "Round40: User2_1: 100%|█████████████████████████████████████████████| 10/10 [00:00<00:00, 24.00it/s]\n",
            "Round40: User9_1: 100%|█████████████████████████████████████████████| 10/10 [00:00<00:00, 25.28it/s]\n",
            "Round40: User14_1: 100%|████████████████████████████████████████████| 10/10 [00:00<00:00, 22.47it/s]\n"
          ]
        },
        {
          "output_type": "stream",
          "name": "stdout",
          "text": [
            "client:4 train_acc: 41.80%, train_loss: 0.3068\n",
            "client:3 train_acc: 42.45%, train_loss: 0.6155\n",
            "client:10 train_acc: 42.70%, train_loss: 0.9234\n",
            "client:13 train_acc: 43.03%, train_loss: 1.2265\n",
            "client:5 train_acc: 43.16%, train_loss: 1.5334\n",
            "client:8 train_acc: 43.18%, train_loss: 1.8402\n",
            "client:6 train_acc: 43.00%, train_loss: 2.1512\n",
            "client:1 train_acc: 43.00%, train_loss: 2.4665\n",
            "client:0 train_acc: 43.33%, train_loss: 2.7691\n",
            "client:12 train_acc: 43.42%, train_loss: 3.0745\n",
            "client:7 train_acc: 43.35%, train_loss: 3.3821\n",
            "client:11 train_acc: 43.36%, train_loss: 3.6941\n",
            "client:2 train_acc: 43.33%, train_loss: 3.9961\n",
            "client:9 train_acc: 43.27%, train_loss: 4.2955\n",
            "client:14 train_acc: 43.23%, train_loss: 4.6114\n",
            "Test set: Average loss: 3.1544, Accuracy: 679/10000 (6.79%)\n"
          ]
        },
        {
          "output_type": "stream",
          "name": "stderr",
          "text": [
            "Round41: User5_1: 100%|█████████████████████████████████████████████| 10/10 [00:00<00:00, 22.39it/s]\n",
            "Round41: User8_1: 100%|█████████████████████████████████████████████| 10/10 [00:00<00:00, 24.53it/s]\n",
            "Round41: User2_1: 100%|█████████████████████████████████████████████| 10/10 [00:00<00:00, 23.06it/s]\n",
            "Round41: User14_1: 100%|████████████████████████████████████████████| 10/10 [00:00<00:00, 24.39it/s]\n",
            "Round41: User7_1: 100%|█████████████████████████████████████████████| 10/10 [00:00<00:00, 26.19it/s]\n",
            "Round41: User9_1: 100%|█████████████████████████████████████████████| 10/10 [00:00<00:00, 21.75it/s]\n",
            "Round41: User10_1: 100%|████████████████████████████████████████████| 10/10 [00:00<00:00, 25.06it/s]\n",
            "Round41: User12_1: 100%|████████████████████████████████████████████| 10/10 [00:00<00:00, 24.03it/s]\n",
            "Round41: User4_1: 100%|█████████████████████████████████████████████| 10/10 [00:00<00:00, 24.19it/s]\n",
            "Round41: User0_1: 100%|█████████████████████████████████████████████| 10/10 [00:00<00:00, 25.64it/s]\n",
            "Round41: User11_1: 100%|████████████████████████████████████████████| 10/10 [00:00<00:00, 23.38it/s]\n",
            "Round41: User6_1: 100%|█████████████████████████████████████████████| 10/10 [00:00<00:00, 24.91it/s]\n",
            "Round41: User1_1: 100%|█████████████████████████████████████████████| 10/10 [00:00<00:00, 25.56it/s]\n",
            "Round41: User3_1: 100%|█████████████████████████████████████████████| 10/10 [00:00<00:00, 22.82it/s]\n",
            "Round41: User13_1: 100%|████████████████████████████████████████████| 10/10 [00:00<00:00, 22.61it/s]\n"
          ]
        },
        {
          "output_type": "stream",
          "name": "stdout",
          "text": [
            "client:5 train_acc: 44.50%, train_loss: 0.3036\n",
            "client:8 train_acc: 44.20%, train_loss: 0.6088\n",
            "client:2 train_acc: 44.17%, train_loss: 0.9092\n",
            "client:14 train_acc: 43.82%, train_loss: 1.2224\n",
            "client:7 train_acc: 43.40%, train_loss: 1.5284\n",
            "client:9 train_acc: 43.35%, train_loss: 1.8251\n",
            "client:10 train_acc: 43.33%, train_loss: 2.1318\n",
            "client:12 train_acc: 43.46%, train_loss: 2.4354\n",
            "client:4 train_acc: 43.32%, train_loss: 2.7413\n",
            "client:0 train_acc: 43.57%, train_loss: 3.0414\n",
            "client:11 train_acc: 43.67%, train_loss: 3.3527\n",
            "client:6 train_acc: 43.54%, train_loss: 3.6609\n",
            "client:1 train_acc: 43.56%, train_loss: 3.9741\n",
            "client:3 train_acc: 43.51%, train_loss: 4.2816\n",
            "client:13 train_acc: 43.65%, train_loss: 4.5833\n",
            "Test set: Average loss: 3.1269, Accuracy: 651/10000 (6.51%)\n"
          ]
        },
        {
          "output_type": "stream",
          "name": "stderr",
          "text": [
            "Round42: User8_1: 100%|█████████████████████████████████████████████| 10/10 [00:00<00:00, 24.37it/s]\n",
            "Round42: User4_1: 100%|█████████████████████████████████████████████| 10/10 [00:00<00:00, 24.07it/s]\n",
            "Round42: User6_1: 100%|█████████████████████████████████████████████| 10/10 [00:00<00:00, 25.45it/s]\n",
            "Round42: User0_1: 100%|█████████████████████████████████████████████| 10/10 [00:00<00:00, 17.90it/s]\n",
            "Round42: User3_1: 100%|█████████████████████████████████████████████| 10/10 [00:00<00:00, 16.59it/s]\n",
            "Round42: User1_1: 100%|█████████████████████████████████████████████| 10/10 [00:00<00:00, 17.78it/s]\n",
            "Round42: User14_1: 100%|████████████████████████████████████████████| 10/10 [00:00<00:00, 16.54it/s]\n",
            "Round42: User11_1: 100%|████████████████████████████████████████████| 10/10 [00:00<00:00, 25.37it/s]\n",
            "Round42: User5_1: 100%|█████████████████████████████████████████████| 10/10 [00:00<00:00, 21.62it/s]\n",
            "Round42: User13_1: 100%|████████████████████████████████████████████| 10/10 [00:00<00:00, 24.60it/s]\n",
            "Round42: User2_1: 100%|█████████████████████████████████████████████| 10/10 [00:00<00:00, 23.18it/s]\n",
            "Round42: User7_1: 100%|█████████████████████████████████████████████| 10/10 [00:00<00:00, 24.59it/s]\n",
            "Round42: User12_1: 100%|████████████████████████████████████████████| 10/10 [00:00<00:00, 25.43it/s]\n",
            "Round42: User9_1: 100%|█████████████████████████████████████████████| 10/10 [00:00<00:00, 22.74it/s]\n",
            "Round42: User10_1: 100%|████████████████████████████████████████████| 10/10 [00:00<00:00, 24.73it/s]\n"
          ]
        },
        {
          "output_type": "stream",
          "name": "stdout",
          "text": [
            "client:8 train_acc: 43.50%, train_loss: 0.3043\n",
            "client:4 train_acc: 42.75%, train_loss: 0.6084\n",
            "client:6 train_acc: 42.87%, train_loss: 0.9167\n",
            "client:0 train_acc: 43.70%, train_loss: 1.2160\n",
            "client:3 train_acc: 43.68%, train_loss: 1.5227\n",
            "client:1 train_acc: 43.67%, train_loss: 1.8342\n",
            "client:14 train_acc: 43.64%, train_loss: 2.1465\n",
            "client:11 train_acc: 43.81%, train_loss: 2.4553\n",
            "client:5 train_acc: 43.87%, train_loss: 2.7581\n",
            "client:13 train_acc: 43.94%, train_loss: 3.0577\n",
            "client:2 train_acc: 44.02%, train_loss: 3.3567\n",
            "client:7 train_acc: 43.92%, train_loss: 3.6609\n",
            "client:12 train_acc: 43.92%, train_loss: 3.9632\n",
            "client:9 train_acc: 43.86%, train_loss: 4.2600\n",
            "client:10 train_acc: 43.81%, train_loss: 4.5658\n",
            "Test set: Average loss: 3.1315, Accuracy: 679/10000 (6.79%)\n"
          ]
        },
        {
          "output_type": "stream",
          "name": "stderr",
          "text": [
            "Round43: User12_1: 100%|████████████████████████████████████████████| 10/10 [00:00<00:00, 23.45it/s]\n",
            "Round43: User0_1: 100%|█████████████████████████████████████████████| 10/10 [00:00<00:00, 19.77it/s]\n",
            "Round43: User7_1: 100%|█████████████████████████████████████████████| 10/10 [00:00<00:00, 24.81it/s]\n",
            "Round43: User3_1: 100%|█████████████████████████████████████████████| 10/10 [00:00<00:00, 23.16it/s]\n",
            "Round43: User13_1: 100%|████████████████████████████████████████████| 10/10 [00:00<00:00, 24.87it/s]\n",
            "Round43: User11_1: 100%|████████████████████████████████████████████| 10/10 [00:00<00:00, 23.97it/s]\n",
            "Round43: User6_1: 100%|█████████████████████████████████████████████| 10/10 [00:00<00:00, 24.03it/s]\n",
            "Round43: User1_1: 100%|█████████████████████████████████████████████| 10/10 [00:00<00:00, 24.97it/s]\n",
            "Round43: User10_1: 100%|████████████████████████████████████████████| 10/10 [00:00<00:00, 23.37it/s]\n",
            "Round43: User9_1: 100%|█████████████████████████████████████████████| 10/10 [00:00<00:00, 23.75it/s]\n",
            "Round43: User14_1: 100%|████████████████████████████████████████████| 10/10 [00:00<00:00, 24.86it/s]\n",
            "Round43: User4_1: 100%|█████████████████████████████████████████████| 10/10 [00:00<00:00, 23.64it/s]\n",
            "Round43: User5_1: 100%|█████████████████████████████████████████████| 10/10 [00:00<00:00, 24.40it/s]\n",
            "Round43: User8_1: 100%|█████████████████████████████████████████████| 10/10 [00:00<00:00, 22.94it/s]\n",
            "Round43: User2_1: 100%|█████████████████████████████████████████████| 10/10 [00:00<00:00, 24.83it/s]\n"
          ]
        },
        {
          "output_type": "stream",
          "name": "stdout",
          "text": [
            "client:12 train_acc: 44.30%, train_loss: 0.3010\n",
            "client:0 train_acc: 45.40%, train_loss: 0.6005\n",
            "client:7 train_acc: 44.70%, train_loss: 0.9049\n",
            "client:3 train_acc: 44.35%, train_loss: 1.2098\n",
            "client:13 train_acc: 44.46%, train_loss: 1.5087\n",
            "client:11 train_acc: 44.67%, train_loss: 1.8174\n",
            "client:6 train_acc: 44.36%, train_loss: 2.1237\n",
            "client:1 train_acc: 44.27%, train_loss: 2.4335\n",
            "client:10 train_acc: 44.19%, train_loss: 2.7369\n",
            "client:9 train_acc: 44.10%, train_loss: 3.0313\n",
            "client:14 train_acc: 43.97%, train_loss: 3.3424\n",
            "client:4 train_acc: 43.82%, train_loss: 3.6460\n",
            "client:5 train_acc: 43.87%, train_loss: 3.9481\n",
            "client:8 train_acc: 43.88%, train_loss: 4.2509\n",
            "client:2 train_acc: 43.91%, train_loss: 4.5500\n",
            "Test set: Average loss: 3.1529, Accuracy: 657/10000 (6.57%)\n"
          ]
        },
        {
          "output_type": "stream",
          "name": "stderr",
          "text": [
            "Round44: User4_1: 100%|█████████████████████████████████████████████| 10/10 [00:00<00:00, 23.03it/s]\n",
            "Round44: User2_1: 100%|█████████████████████████████████████████████| 10/10 [00:00<00:00, 22.60it/s]\n",
            "Round44: User7_1: 100%|█████████████████████████████████████████████| 10/10 [00:00<00:00, 24.40it/s]\n",
            "Round44: User13_1: 100%|████████████████████████████████████████████| 10/10 [00:00<00:00, 25.72it/s]\n",
            "Round44: User8_1: 100%|█████████████████████████████████████████████| 10/10 [00:00<00:00, 22.29it/s]\n",
            "Round44: User10_1: 100%|████████████████████████████████████████████| 10/10 [00:00<00:00, 20.88it/s]\n",
            "Round44: User11_1: 100%|████████████████████████████████████████████| 10/10 [00:00<00:00, 16.49it/s]\n",
            "Round44: User5_1: 100%|█████████████████████████████████████████████| 10/10 [00:00<00:00, 17.47it/s]\n",
            "Round44: User3_1: 100%|█████████████████████████████████████████████| 10/10 [00:00<00:00, 17.87it/s]\n",
            "Round44: User1_1: 100%|█████████████████████████████████████████████| 10/10 [00:00<00:00, 18.36it/s]\n",
            "Round44: User12_1: 100%|████████████████████████████████████████████| 10/10 [00:00<00:00, 22.64it/s]\n",
            "Round44: User6_1: 100%|█████████████████████████████████████████████| 10/10 [00:00<00:00, 24.54it/s]\n",
            "Round44: User14_1: 100%|████████████████████████████████████████████| 10/10 [00:00<00:00, 23.56it/s]\n",
            "Round44: User9_1: 100%|█████████████████████████████████████████████| 10/10 [00:00<00:00, 25.04it/s]\n",
            "Round44: User0_1: 100%|█████████████████████████████████████████████| 10/10 [00:00<00:00, 25.88it/s]\n"
          ]
        },
        {
          "output_type": "stream",
          "name": "stdout",
          "text": [
            "client:4 train_acc: 42.60%, train_loss: 0.3027\n",
            "client:2 train_acc: 43.50%, train_loss: 0.6009\n",
            "client:7 train_acc: 43.27%, train_loss: 0.9033\n",
            "client:13 train_acc: 43.73%, train_loss: 1.2016\n",
            "client:8 train_acc: 43.66%, train_loss: 1.5051\n",
            "client:10 train_acc: 43.63%, train_loss: 1.8096\n",
            "client:11 train_acc: 43.74%, train_loss: 2.1166\n",
            "client:5 train_acc: 43.90%, train_loss: 2.4180\n",
            "client:3 train_acc: 43.89%, train_loss: 2.7226\n",
            "client:1 train_acc: 43.88%, train_loss: 3.0315\n",
            "client:12 train_acc: 43.88%, train_loss: 3.3325\n",
            "client:6 train_acc: 43.80%, train_loss: 3.6391\n",
            "client:14 train_acc: 43.68%, train_loss: 3.9495\n",
            "client:9 train_acc: 43.62%, train_loss: 4.2443\n",
            "client:0 train_acc: 43.81%, train_loss: 4.5414\n",
            "Test set: Average loss: 3.1609, Accuracy: 637/10000 (6.37%)\n"
          ]
        },
        {
          "output_type": "stream",
          "name": "stderr",
          "text": [
            "Round45: User6_1: 100%|█████████████████████████████████████████████| 10/10 [00:00<00:00, 24.17it/s]\n",
            "Round45: User12_1: 100%|████████████████████████████████████████████| 10/10 [00:00<00:00, 22.98it/s]\n",
            "Round45: User1_1: 100%|█████████████████████████████████████████████| 10/10 [00:00<00:00, 24.96it/s]\n",
            "Round45: User10_1: 100%|████████████████████████████████████████████| 10/10 [00:00<00:00, 22.89it/s]\n",
            "Round45: User5_1: 100%|█████████████████████████████████████████████| 10/10 [00:00<00:00, 24.34it/s]\n",
            "Round45: User14_1: 100%|████████████████████████████████████████████| 10/10 [00:00<00:00, 25.12it/s]\n",
            "Round45: User0_1: 100%|█████████████████████████████████████████████| 10/10 [00:00<00:00, 24.66it/s]\n",
            "Round45: User7_1: 100%|█████████████████████████████████████████████| 10/10 [00:00<00:00, 25.47it/s]\n",
            "Round45: User11_1: 100%|████████████████████████████████████████████| 10/10 [00:00<00:00, 23.51it/s]\n",
            "Round45: User13_1: 100%|████████████████████████████████████████████| 10/10 [00:00<00:00, 24.20it/s]\n",
            "Round45: User9_1: 100%|█████████████████████████████████████████████| 10/10 [00:00<00:00, 26.12it/s]\n",
            "Round45: User4_1: 100%|█████████████████████████████████████████████| 10/10 [00:00<00:00, 22.44it/s]\n",
            "Round45: User2_1: 100%|█████████████████████████████████████████████| 10/10 [00:00<00:00, 24.28it/s]\n",
            "Round45: User8_1: 100%|█████████████████████████████████████████████| 10/10 [00:00<00:00, 25.68it/s]\n",
            "Round45: User3_1: 100%|█████████████████████████████████████████████| 10/10 [00:00<00:00, 23.58it/s]\n"
          ]
        },
        {
          "output_type": "stream",
          "name": "stdout",
          "text": [
            "client:6 train_acc: 43.10%, train_loss: 0.3048\n",
            "client:12 train_acc: 43.75%, train_loss: 0.6042\n",
            "client:1 train_acc: 43.83%, train_loss: 0.9117\n",
            "client:10 train_acc: 43.80%, train_loss: 1.2153\n",
            "client:5 train_acc: 44.02%, train_loss: 1.5155\n",
            "client:14 train_acc: 43.80%, train_loss: 1.8256\n",
            "client:0 train_acc: 44.24%, train_loss: 2.1236\n",
            "client:7 train_acc: 44.01%, train_loss: 2.4260\n",
            "client:11 train_acc: 44.17%, train_loss: 2.7329\n",
            "client:13 train_acc: 44.38%, train_loss: 3.0309\n",
            "client:9 train_acc: 44.31%, train_loss: 3.3246\n",
            "client:4 train_acc: 44.12%, train_loss: 3.6281\n",
            "client:2 train_acc: 44.10%, train_loss: 3.9248\n",
            "client:8 train_acc: 44.07%, train_loss: 4.2282\n",
            "client:3 train_acc: 44.05%, train_loss: 4.5328\n",
            "Test set: Average loss: 3.1599, Accuracy: 641/10000 (6.41%)\n"
          ]
        },
        {
          "output_type": "stream",
          "name": "stderr",
          "text": [
            "Round46: User4_1: 100%|█████████████████████████████████████████████| 10/10 [00:00<00:00, 22.89it/s]\n",
            "Round46: User2_1: 100%|█████████████████████████████████████████████| 10/10 [00:00<00:00, 24.44it/s]\n",
            "Round46: User8_1: 100%|█████████████████████████████████████████████| 10/10 [00:00<00:00, 25.74it/s]\n",
            "Round46: User10_1: 100%|████████████████████████████████████████████| 10/10 [00:00<00:00, 23.06it/s]\n",
            "Round46: User3_1: 100%|█████████████████████████████████████████████| 10/10 [00:00<00:00, 24.91it/s]\n",
            "Round46: User12_1: 100%|████████████████████████████████████████████| 10/10 [00:00<00:00, 24.30it/s]\n",
            "Round46: User7_1: 100%|█████████████████████████████████████████████| 10/10 [00:00<00:00, 24.84it/s]\n",
            "Round46: User0_1: 100%|█████████████████████████████████████████████| 10/10 [00:00<00:00, 25.84it/s]\n",
            "Round46: User1_1: 100%|█████████████████████████████████████████████| 10/10 [00:00<00:00, 23.24it/s]\n",
            "Round46: User13_1: 100%|████████████████████████████████████████████| 10/10 [00:00<00:00, 24.09it/s]\n",
            "Round46: User5_1: 100%|█████████████████████████████████████████████| 10/10 [00:00<00:00, 16.78it/s]\n",
            "Round46: User11_1: 100%|████████████████████████████████████████████| 10/10 [00:00<00:00, 16.73it/s]\n",
            "Round46: User6_1: 100%|█████████████████████████████████████████████| 10/10 [00:00<00:00, 14.30it/s]\n",
            "Round46: User14_1: 100%|████████████████████████████████████████████| 10/10 [00:00<00:00, 19.20it/s]\n",
            "Round46: User9_1: 100%|█████████████████████████████████████████████| 10/10 [00:00<00:00, 23.13it/s]\n"
          ]
        },
        {
          "output_type": "stream",
          "name": "stdout",
          "text": [
            "client:4 train_acc: 43.10%, train_loss: 0.3014\n",
            "client:2 train_acc: 44.30%, train_loss: 0.5981\n",
            "client:8 train_acc: 44.00%, train_loss: 0.8989\n",
            "client:10 train_acc: 43.95%, train_loss: 1.2009\n",
            "client:3 train_acc: 44.08%, train_loss: 1.5029\n",
            "client:12 train_acc: 44.17%, train_loss: 1.8015\n",
            "client:7 train_acc: 43.99%, train_loss: 2.1020\n",
            "client:0 train_acc: 44.45%, train_loss: 2.3968\n",
            "client:1 train_acc: 44.38%, train_loss: 2.7033\n",
            "client:13 train_acc: 44.56%, train_loss: 2.9991\n",
            "client:5 train_acc: 44.59%, train_loss: 3.2977\n",
            "client:11 train_acc: 44.71%, train_loss: 3.6026\n",
            "client:6 train_acc: 44.58%, train_loss: 3.9068\n",
            "client:14 train_acc: 44.49%, train_loss: 4.2149\n",
            "client:9 train_acc: 44.42%, train_loss: 4.5071\n",
            "Test set: Average loss: 3.1552, Accuracy: 623/10000 (6.23%)\n"
          ]
        },
        {
          "output_type": "stream",
          "name": "stderr",
          "text": [
            "Round47: User11_1: 100%|████████████████████████████████████████████| 10/10 [00:00<00:00, 17.44it/s]\n",
            "Round47: User10_1: 100%|████████████████████████████████████████████| 10/10 [00:00<00:00, 16.99it/s]\n",
            "Round47: User3_1: 100%|█████████████████████████████████████████████| 10/10 [00:00<00:00, 23.22it/s]\n",
            "Round47: User13_1: 100%|████████████████████████████████████████████| 10/10 [00:00<00:00, 22.06it/s]\n",
            "Round47: User8_1: 100%|█████████████████████████████████████████████| 10/10 [00:00<00:00, 23.19it/s]\n",
            "Round47: User9_1: 100%|█████████████████████████████████████████████| 10/10 [00:00<00:00, 23.19it/s]\n",
            "Round47: User5_1: 100%|█████████████████████████████████████████████| 10/10 [00:00<00:00, 23.41it/s]\n",
            "Round47: User2_1: 100%|█████████████████████████████████████████████| 10/10 [00:00<00:00, 25.02it/s]\n",
            "Round47: User4_1: 100%|█████████████████████████████████████████████| 10/10 [00:00<00:00, 22.28it/s]\n",
            "Round47: User1_1: 100%|█████████████████████████████████████████████| 10/10 [00:00<00:00, 25.72it/s]\n",
            "Round47: User14_1: 100%|████████████████████████████████████████████| 10/10 [00:00<00:00, 22.54it/s]\n",
            "Round47: User7_1: 100%|█████████████████████████████████████████████| 10/10 [00:00<00:00, 21.08it/s]\n",
            "Round47: User0_1: 100%|█████████████████████████████████████████████| 10/10 [00:00<00:00, 24.33it/s]\n",
            "Round47: User6_1: 100%|█████████████████████████████████████████████| 10/10 [00:00<00:00, 25.26it/s]\n",
            "Round47: User12_1: 100%|████████████████████████████████████████████| 10/10 [00:00<00:00, 23.41it/s]\n"
          ]
        },
        {
          "output_type": "stream",
          "name": "stdout",
          "text": [
            "client:11 train_acc: 45.20%, train_loss: 0.3056\n",
            "client:10 train_acc: 44.35%, train_loss: 0.6071\n",
            "client:3 train_acc: 44.43%, train_loss: 0.9093\n",
            "client:13 train_acc: 44.80%, train_loss: 1.2052\n",
            "client:8 train_acc: 44.66%, train_loss: 1.5056\n",
            "client:9 train_acc: 44.55%, train_loss: 1.7978\n",
            "client:5 train_acc: 44.59%, train_loss: 2.0961\n",
            "client:2 train_acc: 44.67%, train_loss: 2.3914\n",
            "client:4 train_acc: 44.43%, train_loss: 2.6928\n",
            "client:1 train_acc: 44.48%, train_loss: 2.9989\n",
            "client:14 train_acc: 44.37%, train_loss: 3.3075\n",
            "client:7 train_acc: 44.30%, train_loss: 3.6083\n",
            "client:0 train_acc: 44.48%, train_loss: 3.9054\n",
            "client:6 train_acc: 44.39%, train_loss: 4.2096\n",
            "client:12 train_acc: 44.41%, train_loss: 4.5076\n",
            "Test set: Average loss: 3.1777, Accuracy: 579/10000 (5.79%)\n"
          ]
        },
        {
          "output_type": "stream",
          "name": "stderr",
          "text": [
            "Round48: User14_1: 100%|████████████████████████████████████████████| 10/10 [00:00<00:00, 24.25it/s]\n",
            "Round48: User8_1: 100%|█████████████████████████████████████████████| 10/10 [00:00<00:00, 25.04it/s]\n",
            "Round48: User0_1: 100%|█████████████████████████████████████████████| 10/10 [00:00<00:00, 23.55it/s]\n",
            "Round48: User4_1: 100%|█████████████████████████████████████████████| 10/10 [00:00<00:00, 24.06it/s]\n",
            "Round48: User1_1: 100%|█████████████████████████████████████████████| 10/10 [00:00<00:00, 26.22it/s]\n",
            "Round48: User6_1: 100%|█████████████████████████████████████████████| 10/10 [00:00<00:00, 23.31it/s]\n",
            "Round48: User12_1: 100%|████████████████████████████████████████████| 10/10 [00:00<00:00, 25.24it/s]\n",
            "Round48: User10_1: 100%|████████████████████████████████████████████| 10/10 [00:00<00:00, 26.40it/s]\n",
            "Round48: User11_1: 100%|████████████████████████████████████████████| 10/10 [00:00<00:00, 22.75it/s]\n",
            "Round48: User13_1: 100%|████████████████████████████████████████████| 10/10 [00:00<00:00, 24.23it/s]\n",
            "Round48: User7_1: 100%|█████████████████████████████████████████████| 10/10 [00:00<00:00, 24.31it/s]\n",
            "Round48: User5_1: 100%|█████████████████████████████████████████████| 10/10 [00:00<00:00, 25.63it/s]\n",
            "Round48: User3_1: 100%|█████████████████████████████████████████████| 10/10 [00:00<00:00, 25.92it/s]\n",
            "Round48: User2_1: 100%|█████████████████████████████████████████████| 10/10 [00:00<00:00, 14.67it/s]\n",
            "Round48: User9_1: 100%|█████████████████████████████████████████████| 10/10 [00:00<00:00, 17.65it/s]\n"
          ]
        },
        {
          "output_type": "stream",
          "name": "stdout",
          "text": [
            "client:14 train_acc: 43.60%, train_loss: 0.3070\n",
            "client:8 train_acc: 43.95%, train_loss: 0.6075\n",
            "client:0 train_acc: 45.07%, train_loss: 0.9007\n",
            "client:4 train_acc: 44.52%, train_loss: 1.2008\n",
            "client:1 train_acc: 44.52%, train_loss: 1.5058\n",
            "client:6 train_acc: 44.43%, train_loss: 1.8084\n",
            "client:12 train_acc: 44.61%, train_loss: 2.1058\n",
            "client:10 train_acc: 44.51%, train_loss: 2.4068\n",
            "client:11 train_acc: 44.61%, train_loss: 2.7104\n",
            "client:13 train_acc: 44.85%, train_loss: 3.0048\n",
            "client:7 train_acc: 44.69%, train_loss: 3.3036\n",
            "client:5 train_acc: 44.77%, train_loss: 3.6010\n",
            "client:3 train_acc: 44.73%, train_loss: 3.9024\n",
            "client:2 train_acc: 44.79%, train_loss: 4.1971\n",
            "client:9 train_acc: 44.76%, train_loss: 4.4879\n",
            "Test set: Average loss: 3.1700, Accuracy: 632/10000 (6.32%)\n"
          ]
        },
        {
          "output_type": "stream",
          "name": "stderr",
          "text": [
            "Round49: User9_1: 100%|█████████████████████████████████████████████| 10/10 [00:00<00:00, 25.44it/s]\n",
            "Round49: User4_1: 100%|█████████████████████████████████████████████| 10/10 [00:00<00:00, 19.66it/s]\n",
            "Round49: User14_1: 100%|████████████████████████████████████████████| 10/10 [00:00<00:00, 18.37it/s]\n",
            "Round49: User12_1: 100%|████████████████████████████████████████████| 10/10 [00:00<00:00, 15.88it/s]\n",
            "Round49: User1_1: 100%|█████████████████████████████████████████████| 10/10 [00:00<00:00, 18.53it/s]\n",
            "Round49: User2_1: 100%|█████████████████████████████████████████████| 10/10 [00:00<00:00, 18.25it/s]\n",
            "Round49: User8_1: 100%|█████████████████████████████████████████████| 10/10 [00:00<00:00, 24.35it/s]\n",
            "Round49: User6_1: 100%|█████████████████████████████████████████████| 10/10 [00:00<00:00, 23.15it/s]\n",
            "Round49: User7_1: 100%|█████████████████████████████████████████████| 10/10 [00:00<00:00, 25.50it/s]\n",
            "Round49: User3_1: 100%|█████████████████████████████████████████████| 10/10 [00:00<00:00, 23.00it/s]\n",
            "Round49: User11_1: 100%|████████████████████████████████████████████| 10/10 [00:00<00:00, 23.92it/s]\n",
            "Round49: User5_1: 100%|█████████████████████████████████████████████| 10/10 [00:00<00:00, 23.83it/s]\n",
            "Round49: User10_1: 100%|████████████████████████████████████████████| 10/10 [00:00<00:00, 23.30it/s]\n",
            "Round49: User13_1: 100%|████████████████████████████████████████████| 10/10 [00:00<00:00, 25.00it/s]\n",
            "Round49: User0_1: 100%|█████████████████████████████████████████████| 10/10 [00:00<00:00, 24.42it/s]\n"
          ]
        },
        {
          "output_type": "stream",
          "name": "stdout",
          "text": [
            "client:9 train_acc: 44.30%, train_loss: 0.2881\n",
            "client:4 train_acc: 44.25%, train_loss: 0.5859\n",
            "client:14 train_acc: 44.23%, train_loss: 0.8909\n",
            "client:12 train_acc: 44.55%, train_loss: 1.1865\n",
            "client:1 train_acc: 44.42%, train_loss: 1.4903\n",
            "client:2 train_acc: 44.65%, train_loss: 1.7839\n",
            "client:8 train_acc: 44.61%, train_loss: 2.0817\n",
            "client:6 train_acc: 44.64%, train_loss: 2.3830\n",
            "client:7 train_acc: 44.53%, train_loss: 2.6798\n",
            "client:3 train_acc: 44.63%, train_loss: 2.9792\n",
            "client:11 train_acc: 44.83%, train_loss: 3.2814\n",
            "client:5 train_acc: 44.88%, train_loss: 3.5763\n",
            "client:10 train_acc: 44.92%, train_loss: 3.8754\n",
            "client:13 train_acc: 45.04%, train_loss: 4.1681\n",
            "client:0 train_acc: 45.15%, train_loss: 4.4607\n",
            "Test set: Average loss: 3.1777, Accuracy: 620/10000 (6.20%)\n"
          ]
        },
        {
          "output_type": "stream",
          "name": "stderr",
          "text": [
            "Round50: User13_1: 100%|████████████████████████████████████████████| 10/10 [00:00<00:00, 24.16it/s]\n",
            "Round50: User8_1: 100%|█████████████████████████████████████████████| 10/10 [00:00<00:00, 23.63it/s]\n",
            "Round50: User6_1: 100%|█████████████████████████████████████████████| 10/10 [00:00<00:00, 24.09it/s]\n",
            "Round50: User2_1: 100%|█████████████████████████████████████████████| 10/10 [00:00<00:00, 25.21it/s]\n",
            "Round50: User1_1: 100%|█████████████████████████████████████████████| 10/10 [00:00<00:00, 23.38it/s]\n",
            "Round50: User10_1: 100%|████████████████████████████████████████████| 10/10 [00:00<00:00, 24.65it/s]\n",
            "Round50: User14_1: 100%|████████████████████████████████████████████| 10/10 [00:00<00:00, 23.36it/s]\n",
            "Round50: User11_1: 100%|████████████████████████████████████████████| 10/10 [00:00<00:00, 23.71it/s]\n",
            "Round50: User12_1: 100%|████████████████████████████████████████████| 10/10 [00:00<00:00, 25.24it/s]\n",
            "Round50: User7_1: 100%|█████████████████████████████████████████████| 10/10 [00:00<00:00, 23.35it/s]\n",
            "Round50: User4_1: 100%|█████████████████████████████████████████████| 10/10 [00:00<00:00, 25.47it/s]\n",
            "Round50: User3_1: 100%|█████████████████████████████████████████████| 10/10 [00:00<00:00, 26.17it/s]\n",
            "Round50: User5_1: 100%|█████████████████████████████████████████████| 10/10 [00:00<00:00, 23.03it/s]\n",
            "Round50: User0_1: 100%|█████████████████████████████████████████████| 10/10 [00:00<00:00, 24.91it/s]\n",
            "Round50: User9_1: 100%|█████████████████████████████████████████████| 10/10 [00:00<00:00, 23.19it/s]\n"
          ]
        },
        {
          "output_type": "stream",
          "name": "stdout",
          "text": [
            "client:13 train_acc: 47.80%, train_loss: 0.2915\n",
            "client:8 train_acc: 46.40%, train_loss: 0.5884\n",
            "client:6 train_acc: 45.83%, train_loss: 0.8882\n",
            "client:2 train_acc: 45.88%, train_loss: 1.1803\n",
            "client:1 train_acc: 45.78%, train_loss: 1.4813\n",
            "client:10 train_acc: 45.62%, train_loss: 1.7781\n",
            "client:14 train_acc: 45.37%, train_loss: 2.0817\n",
            "client:11 train_acc: 45.54%, train_loss: 2.3831\n",
            "client:12 train_acc: 45.51%, train_loss: 2.6777\n",
            "client:7 train_acc: 45.32%, train_loss: 2.9744\n",
            "client:4 train_acc: 45.18%, train_loss: 3.2715\n",
            "client:3 train_acc: 45.22%, train_loss: 3.5704\n",
            "client:5 train_acc: 45.19%, train_loss: 3.8646\n",
            "client:0 train_acc: 45.34%, train_loss: 4.1570\n",
            "client:9 train_acc: 45.31%, train_loss: 4.4456\n",
            "Test set: Average loss: 3.1647, Accuracy: 647/10000 (6.47%)\n"
          ]
        },
        {
          "output_type": "stream",
          "name": "stderr",
          "text": [
            "Round51: User4_1: 100%|█████████████████████████████████████████████| 10/10 [00:00<00:00, 23.54it/s]\n",
            "Round51: User12_1: 100%|████████████████████████████████████████████| 10/10 [00:00<00:00, 22.64it/s]\n",
            "Round51: User11_1: 100%|████████████████████████████████████████████| 10/10 [00:00<00:00, 24.26it/s]\n",
            "Round51: User0_1: 100%|█████████████████████████████████████████████| 10/10 [00:00<00:00, 23.45it/s]\n",
            "Round51: User2_1: 100%|█████████████████████████████████████████████| 10/10 [00:00<00:00, 20.63it/s]\n",
            "Round51: User3_1: 100%|█████████████████████████████████████████████| 10/10 [00:00<00:00, 18.40it/s]\n",
            "Round51: User14_1: 100%|████████████████████████████████████████████| 10/10 [00:00<00:00, 17.40it/s]\n",
            "Round51: User8_1: 100%|█████████████████████████████████████████████| 10/10 [00:00<00:00, 17.46it/s]\n",
            "Round51: User9_1: 100%|█████████████████████████████████████████████| 10/10 [00:00<00:00, 18.71it/s]\n",
            "Round51: User1_1: 100%|█████████████████████████████████████████████| 10/10 [00:00<00:00, 24.84it/s]\n",
            "Round51: User5_1: 100%|█████████████████████████████████████████████| 10/10 [00:00<00:00, 22.97it/s]\n",
            "Round51: User7_1: 100%|█████████████████████████████████████████████| 10/10 [00:00<00:00, 24.53it/s]\n",
            "Round51: User6_1: 100%|█████████████████████████████████████████████| 10/10 [00:00<00:00, 23.42it/s]\n",
            "Round51: User10_1: 100%|████████████████████████████████████████████| 10/10 [00:00<00:00, 25.19it/s]\n",
            "Round51: User13_1: 100%|████████████████████████████████████████████| 10/10 [00:00<00:00, 25.33it/s]\n"
          ]
        },
        {
          "output_type": "stream",
          "name": "stdout",
          "text": [
            "client:4 train_acc: 44.00%, train_loss: 0.2966\n",
            "client:12 train_acc: 45.35%, train_loss: 0.5924\n",
            "client:11 train_acc: 45.93%, train_loss: 0.8940\n",
            "client:0 train_acc: 46.12%, train_loss: 1.1849\n",
            "client:2 train_acc: 46.04%, train_loss: 1.4782\n",
            "client:3 train_acc: 45.80%, train_loss: 1.7769\n",
            "client:14 train_acc: 45.43%, train_loss: 2.0814\n",
            "client:8 train_acc: 45.23%, train_loss: 2.3797\n",
            "client:9 train_acc: 45.26%, train_loss: 2.6669\n",
            "client:1 train_acc: 45.19%, train_loss: 2.9705\n",
            "client:5 train_acc: 45.21%, train_loss: 3.2657\n",
            "client:7 train_acc: 45.17%, train_loss: 3.5615\n",
            "client:6 train_acc: 45.16%, train_loss: 3.8628\n",
            "client:10 train_acc: 45.08%, train_loss: 4.1619\n",
            "client:13 train_acc: 45.19%, train_loss: 4.4549\n",
            "Test set: Average loss: 3.2183, Accuracy: 566/10000 (5.66%)\n"
          ]
        },
        {
          "output_type": "stream",
          "name": "stderr",
          "text": [
            "Round52: User7_1: 100%|█████████████████████████████████████████████| 10/10 [00:00<00:00, 23.93it/s]\n",
            "Round52: User14_1: 100%|████████████████████████████████████████████| 10/10 [00:00<00:00, 24.89it/s]\n",
            "Round52: User2_1: 100%|█████████████████████████████████████████████| 10/10 [00:00<00:00, 23.71it/s]\n",
            "Round52: User9_1: 100%|█████████████████████████████████████████████| 10/10 [00:00<00:00, 24.84it/s]\n",
            "Round52: User6_1: 100%|█████████████████████████████████████████████| 10/10 [00:00<00:00, 24.06it/s]\n",
            "Round52: User3_1: 100%|█████████████████████████████████████████████| 10/10 [00:00<00:00, 23.53it/s]\n",
            "Round52: User13_1: 100%|████████████████████████████████████████████| 10/10 [00:00<00:00, 25.95it/s]\n",
            "Round52: User8_1: 100%|█████████████████████████████████████████████| 10/10 [00:00<00:00, 23.12it/s]\n",
            "Round52: User12_1: 100%|████████████████████████████████████████████| 10/10 [00:00<00:00, 23.74it/s]\n",
            "Round52: User1_1: 100%|█████████████████████████████████████████████| 10/10 [00:00<00:00, 23.46it/s]\n",
            "Round52: User11_1: 100%|████████████████████████████████████████████| 10/10 [00:00<00:00, 25.54it/s]\n",
            "Round52: User10_1: 100%|████████████████████████████████████████████| 10/10 [00:00<00:00, 26.80it/s]\n",
            "Round52: User5_1: 100%|█████████████████████████████████████████████| 10/10 [00:00<00:00, 22.94it/s]\n",
            "Round52: User0_1: 100%|█████████████████████████████████████████████| 10/10 [00:00<00:00, 25.96it/s]\n",
            "Round52: User4_1: 100%|█████████████████████████████████████████████| 10/10 [00:00<00:00, 26.39it/s]\n"
          ]
        },
        {
          "output_type": "stream",
          "name": "stdout",
          "text": [
            "client:7 train_acc: 44.30%, train_loss: 0.2985\n",
            "client:14 train_acc: 44.25%, train_loss: 0.6027\n",
            "client:2 train_acc: 44.93%, train_loss: 0.8956\n",
            "client:9 train_acc: 44.95%, train_loss: 1.1843\n",
            "client:6 train_acc: 45.08%, train_loss: 1.4852\n",
            "client:3 train_acc: 45.32%, train_loss: 1.7841\n",
            "client:13 train_acc: 45.44%, train_loss: 2.0766\n",
            "client:8 train_acc: 45.40%, train_loss: 2.3729\n",
            "client:12 train_acc: 45.37%, train_loss: 2.6677\n",
            "client:1 train_acc: 45.49%, train_loss: 2.9691\n",
            "client:11 train_acc: 45.55%, train_loss: 3.2716\n",
            "client:10 train_acc: 45.47%, train_loss: 3.5680\n",
            "client:5 train_acc: 45.47%, train_loss: 3.8626\n",
            "client:0 train_acc: 45.58%, train_loss: 4.1577\n",
            "client:4 train_acc: 45.47%, train_loss: 4.4551\n",
            "Test set: Average loss: 3.1758, Accuracy: 654/10000 (6.54%)\n"
          ]
        },
        {
          "output_type": "stream",
          "name": "stderr",
          "text": [
            "Round53: User0_1: 100%|█████████████████████████████████████████████| 10/10 [00:00<00:00, 24.14it/s]\n",
            "Round53: User9_1: 100%|█████████████████████████████████████████████| 10/10 [00:00<00:00, 23.47it/s]\n",
            "Round53: User11_1: 100%|████████████████████████████████████████████| 10/10 [00:00<00:00, 24.63it/s]\n",
            "Round53: User4_1: 100%|█████████████████████████████████████████████| 10/10 [00:00<00:00, 24.69it/s]\n",
            "Round53: User7_1: 100%|█████████████████████████████████████████████| 10/10 [00:00<00:00, 23.46it/s]\n",
            "Round53: User10_1: 100%|████████████████████████████████████████████| 10/10 [00:00<00:00, 23.35it/s]\n",
            "Round53: User14_1: 100%|████████████████████████████████████████████| 10/10 [00:00<00:00, 25.70it/s]\n",
            "Round53: User8_1: 100%|█████████████████████████████████████████████| 10/10 [00:00<00:00, 23.43it/s]\n",
            "Round53: User2_1: 100%|█████████████████████████████████████████████| 10/10 [00:00<00:00, 18.14it/s]\n",
            "Round53: User6_1: 100%|█████████████████████████████████████████████| 10/10 [00:00<00:00, 17.22it/s]\n",
            "Round53: User1_1: 100%|█████████████████████████████████████████████| 10/10 [00:00<00:00, 17.58it/s]\n",
            "Round53: User3_1: 100%|█████████████████████████████████████████████| 10/10 [00:00<00:00, 16.99it/s]\n",
            "Round53: User13_1: 100%|████████████████████████████████████████████| 10/10 [00:00<00:00, 22.35it/s]\n",
            "Round53: User12_1: 100%|████████████████████████████████████████████| 10/10 [00:00<00:00, 24.55it/s]\n",
            "Round53: User5_1: 100%|█████████████████████████████████████████████| 10/10 [00:00<00:00, 23.58it/s]\n"
          ]
        },
        {
          "output_type": "stream",
          "name": "stdout",
          "text": [
            "client:0 train_acc: 46.70%, train_loss: 0.2901\n",
            "client:9 train_acc: 45.90%, train_loss: 0.5759\n",
            "client:11 train_acc: 46.13%, train_loss: 0.8755\n",
            "client:4 train_acc: 45.52%, train_loss: 1.1703\n",
            "client:7 train_acc: 45.58%, train_loss: 1.4646\n",
            "client:10 train_acc: 45.55%, train_loss: 1.7601\n",
            "client:14 train_acc: 45.46%, train_loss: 2.0622\n",
            "client:8 train_acc: 45.34%, train_loss: 2.3579\n",
            "client:2 train_acc: 45.40%, train_loss: 2.6495\n",
            "client:6 train_acc: 45.39%, train_loss: 2.9493\n",
            "client:1 train_acc: 45.29%, train_loss: 3.2496\n",
            "client:3 train_acc: 45.35%, train_loss: 3.5462\n",
            "client:13 train_acc: 45.47%, train_loss: 3.8368\n",
            "client:12 train_acc: 45.42%, train_loss: 4.1310\n",
            "client:5 train_acc: 45.39%, train_loss: 4.4253\n",
            "Test set: Average loss: 3.2017, Accuracy: 651/10000 (6.51%)\n"
          ]
        },
        {
          "output_type": "stream",
          "name": "stderr",
          "text": [
            "Round54: User8_1: 100%|█████████████████████████████████████████████| 10/10 [00:00<00:00, 15.52it/s]\n",
            "Round54: User1_1: 100%|█████████████████████████████████████████████| 10/10 [00:00<00:00, 25.54it/s]\n",
            "Round54: User7_1: 100%|█████████████████████████████████████████████| 10/10 [00:00<00:00, 23.22it/s]\n",
            "Round54: User2_1: 100%|█████████████████████████████████████████████| 10/10 [00:00<00:00, 23.81it/s]\n",
            "Round54: User13_1: 100%|████████████████████████████████████████████| 10/10 [00:00<00:00, 23.96it/s]\n",
            "Round54: User12_1: 100%|████████████████████████████████████████████| 10/10 [00:00<00:00, 22.74it/s]\n",
            "Round54: User0_1: 100%|█████████████████████████████████████████████| 10/10 [00:00<00:00, 25.24it/s]\n",
            "Round54: User6_1: 100%|█████████████████████████████████████████████| 10/10 [00:00<00:00, 24.18it/s]\n",
            "Round54: User14_1: 100%|████████████████████████████████████████████| 10/10 [00:00<00:00, 25.26it/s]\n",
            "Round54: User10_1: 100%|████████████████████████████████████████████| 10/10 [00:00<00:00, 25.27it/s]\n",
            "Round54: User5_1: 100%|█████████████████████████████████████████████| 10/10 [00:00<00:00, 23.22it/s]\n",
            "Round54: User11_1: 100%|████████████████████████████████████████████| 10/10 [00:00<00:00, 24.92it/s]\n",
            "Round54: User3_1: 100%|█████████████████████████████████████████████| 10/10 [00:00<00:00, 26.47it/s]\n",
            "Round54: User4_1: 100%|█████████████████████████████████████████████| 10/10 [00:00<00:00, 23.10it/s]\n",
            "Round54: User9_1: 100%|█████████████████████████████████████████████| 10/10 [00:00<00:00, 25.35it/s]\n"
          ]
        },
        {
          "output_type": "stream",
          "name": "stdout",
          "text": [
            "client:8 train_acc: 44.90%, train_loss: 0.2953\n",
            "client:1 train_acc: 45.50%, train_loss: 0.5924\n",
            "client:7 train_acc: 45.17%, train_loss: 0.8858\n",
            "client:2 train_acc: 45.55%, train_loss: 1.1759\n",
            "client:13 train_acc: 46.04%, train_loss: 1.4643\n",
            "client:12 train_acc: 45.98%, train_loss: 1.7565\n",
            "client:0 train_acc: 46.34%, train_loss: 2.0442\n",
            "client:6 train_acc: 46.21%, train_loss: 2.3409\n",
            "client:14 train_acc: 46.04%, train_loss: 2.6421\n",
            "client:10 train_acc: 45.91%, train_loss: 2.9377\n",
            "client:5 train_acc: 45.85%, train_loss: 3.2287\n",
            "client:11 train_acc: 45.96%, train_loss: 3.5272\n",
            "client:3 train_acc: 45.96%, train_loss: 3.8240\n",
            "client:4 train_acc: 45.80%, train_loss: 4.1198\n",
            "client:9 train_acc: 45.76%, train_loss: 4.4056\n",
            "Test set: Average loss: 3.1491, Accuracy: 659/10000 (6.59%)\n"
          ]
        },
        {
          "output_type": "stream",
          "name": "stderr",
          "text": [
            "Round55: User12_1: 100%|████████████████████████████████████████████| 10/10 [00:00<00:00, 24.45it/s]\n",
            "Round55: User2_1: 100%|█████████████████████████████████████████████| 10/10 [00:00<00:00, 24.73it/s]\n",
            "Round55: User9_1: 100%|█████████████████████████████████████████████| 10/10 [00:00<00:00, 24.82it/s]\n",
            "Round55: User10_1: 100%|████████████████████████████████████████████| 10/10 [00:00<00:00, 23.81it/s]\n",
            "Round55: User14_1: 100%|████████████████████████████████████████████| 10/10 [00:00<00:00, 25.26it/s]\n",
            "Round55: User13_1: 100%|████████████████████████████████████████████| 10/10 [00:00<00:00, 25.16it/s]\n",
            "Round55: User8_1: 100%|█████████████████████████████████████████████| 10/10 [00:00<00:00, 23.24it/s]\n",
            "Round55: User0_1: 100%|█████████████████████████████████████████████| 10/10 [00:00<00:00, 24.17it/s]\n",
            "Round55: User1_1: 100%|█████████████████████████████████████████████| 10/10 [00:00<00:00, 25.75it/s]\n",
            "Round55: User11_1: 100%|████████████████████████████████████████████| 10/10 [00:00<00:00, 23.18it/s]\n",
            "Round55: User4_1: 100%|█████████████████████████████████████████████| 10/10 [00:00<00:00, 25.52it/s]\n",
            "Round55: User5_1: 100%|█████████████████████████████████████████████| 10/10 [00:00<00:00, 24.33it/s]\n",
            "Round55: User3_1: 100%|█████████████████████████████████████████████| 10/10 [00:00<00:00, 16.15it/s]\n",
            "Round55: User6_1: 100%|█████████████████████████████████████████████| 10/10 [00:00<00:00, 17.02it/s]\n",
            "Round55: User7_1: 100%|█████████████████████████████████████████████| 10/10 [00:00<00:00, 19.10it/s]\n"
          ]
        },
        {
          "output_type": "stream",
          "name": "stdout",
          "text": [
            "client:12 train_acc: 46.80%, train_loss: 0.2903\n",
            "client:2 train_acc: 46.95%, train_loss: 0.5783\n",
            "client:9 train_acc: 46.53%, train_loss: 0.8619\n",
            "client:10 train_acc: 46.33%, train_loss: 1.1540\n",
            "client:14 train_acc: 46.12%, train_loss: 1.4541\n",
            "client:13 train_acc: 46.35%, train_loss: 1.7420\n",
            "client:8 train_acc: 46.37%, train_loss: 2.0344\n",
            "client:0 train_acc: 46.52%, train_loss: 2.3240\n",
            "client:1 train_acc: 46.48%, train_loss: 2.6201\n",
            "client:11 train_acc: 46.64%, train_loss: 2.9174\n",
            "client:4 train_acc: 46.47%, train_loss: 3.2104\n",
            "client:5 train_acc: 46.48%, train_loss: 3.5009\n",
            "client:3 train_acc: 46.52%, train_loss: 3.7957\n",
            "client:6 train_acc: 46.51%, train_loss: 4.0921\n",
            "client:7 train_acc: 46.39%, train_loss: 4.3852\n",
            "Test set: Average loss: 3.1928, Accuracy: 650/10000 (6.50%)\n"
          ]
        },
        {
          "output_type": "stream",
          "name": "stderr",
          "text": [
            "Round56: User3_1: 100%|█████████████████████████████████████████████| 10/10 [00:00<00:00, 20.54it/s]\n",
            "Round56: User10_1: 100%|████████████████████████████████████████████| 10/10 [00:00<00:00, 16.36it/s]\n",
            "Round56: User0_1: 100%|█████████████████████████████████████████████| 10/10 [00:00<00:00, 18.44it/s]\n",
            "Round56: User14_1: 100%|████████████████████████████████████████████| 10/10 [00:00<00:00, 15.54it/s]\n",
            "Round56: User4_1: 100%|█████████████████████████████████████████████| 10/10 [00:00<00:00, 22.49it/s]\n",
            "Round56: User8_1: 100%|█████████████████████████████████████████████| 10/10 [00:00<00:00, 25.97it/s]\n",
            "Round56: User2_1: 100%|█████████████████████████████████████████████| 10/10 [00:00<00:00, 22.94it/s]\n",
            "Round56: User11_1: 100%|████████████████████████████████████████████| 10/10 [00:00<00:00, 24.39it/s]\n",
            "Round56: User5_1: 100%|█████████████████████████████████████████████| 10/10 [00:00<00:00, 22.87it/s]\n",
            "Round56: User12_1: 100%|████████████████████████████████████████████| 10/10 [00:00<00:00, 23.46it/s]\n",
            "Round56: User7_1: 100%|█████████████████████████████████████████████| 10/10 [00:00<00:00, 25.13it/s]\n",
            "Round56: User1_1: 100%|█████████████████████████████████████████████| 10/10 [00:00<00:00, 22.21it/s]\n",
            "Round56: User13_1: 100%|████████████████████████████████████████████| 10/10 [00:00<00:00, 23.53it/s]\n",
            "Round56: User6_1: 100%|█████████████████████████████████████████████| 10/10 [00:00<00:00, 24.47it/s]\n",
            "Round56: User9_1: 100%|█████████████████████████████████████████████| 10/10 [00:00<00:00, 23.34it/s]\n"
          ]
        },
        {
          "output_type": "stream",
          "name": "stdout",
          "text": [
            "client:3 train_acc: 46.30%, train_loss: 0.2931\n",
            "client:10 train_acc: 45.75%, train_loss: 0.5846\n",
            "client:0 train_acc: 46.70%, train_loss: 0.8708\n",
            "client:14 train_acc: 46.38%, train_loss: 1.1688\n",
            "client:4 train_acc: 46.24%, train_loss: 1.4597\n",
            "client:8 train_acc: 46.20%, train_loss: 1.7513\n",
            "client:2 train_acc: 46.46%, train_loss: 2.0386\n",
            "client:11 train_acc: 46.59%, train_loss: 2.3347\n",
            "client:5 train_acc: 46.47%, train_loss: 2.6229\n",
            "client:12 train_acc: 46.48%, train_loss: 2.9128\n",
            "client:7 train_acc: 46.37%, train_loss: 3.2036\n",
            "client:1 train_acc: 46.31%, train_loss: 3.4982\n",
            "client:13 train_acc: 46.47%, train_loss: 3.7841\n",
            "client:6 train_acc: 46.41%, train_loss: 4.0791\n",
            "client:9 train_acc: 46.39%, train_loss: 4.3616\n",
            "Test set: Average loss: 3.2026, Accuracy: 657/10000 (6.57%)\n"
          ]
        },
        {
          "output_type": "stream",
          "name": "stderr",
          "text": [
            "Round57: User9_1: 100%|█████████████████████████████████████████████| 10/10 [00:00<00:00, 23.36it/s]\n",
            "Round57: User7_1: 100%|█████████████████████████████████████████████| 10/10 [00:00<00:00, 24.27it/s]\n",
            "Round57: User3_1: 100%|█████████████████████████████████████████████| 10/10 [00:00<00:00, 25.15it/s]\n",
            "Round57: User8_1: 100%|█████████████████████████████████████████████| 10/10 [00:00<00:00, 22.89it/s]\n",
            "Round57: User13_1: 100%|████████████████████████████████████████████| 10/10 [00:00<00:00, 26.09it/s]\n",
            "Round57: User4_1: 100%|█████████████████████████████████████████████| 10/10 [00:00<00:00, 24.16it/s]\n",
            "Round57: User1_1: 100%|█████████████████████████████████████████████| 10/10 [00:00<00:00, 23.92it/s]\n",
            "Round57: User6_1: 100%|█████████████████████████████████████████████| 10/10 [00:00<00:00, 24.96it/s]\n",
            "Round57: User10_1: 100%|████████████████████████████████████████████| 10/10 [00:00<00:00, 22.16it/s]\n",
            "Round57: User12_1: 100%|████████████████████████████████████████████| 10/10 [00:00<00:00, 25.07it/s]\n",
            "Round57: User2_1: 100%|█████████████████████████████████████████████| 10/10 [00:00<00:00, 23.83it/s]\n",
            "Round57: User11_1: 100%|████████████████████████████████████████████| 10/10 [00:00<00:00, 25.22it/s]\n",
            "Round57: User14_1: 100%|████████████████████████████████████████████| 10/10 [00:00<00:00, 24.75it/s]\n",
            "Round57: User0_1: 100%|█████████████████████████████████████████████| 10/10 [00:00<00:00, 23.20it/s]\n",
            "Round57: User5_1: 100%|█████████████████████████████████████████████| 10/10 [00:00<00:00, 23.73it/s]\n"
          ]
        },
        {
          "output_type": "stream",
          "name": "stdout",
          "text": [
            "client:9 train_acc: 45.40%, train_loss: 0.2819\n",
            "client:7 train_acc: 45.50%, train_loss: 0.5730\n",
            "client:3 train_acc: 45.80%, train_loss: 0.8660\n",
            "client:8 train_acc: 45.85%, train_loss: 1.1575\n",
            "client:13 train_acc: 46.22%, train_loss: 1.4434\n",
            "client:4 train_acc: 46.15%, train_loss: 1.7340\n",
            "client:1 train_acc: 46.24%, train_loss: 2.0292\n",
            "client:6 train_acc: 46.30%, train_loss: 2.3246\n",
            "client:10 train_acc: 46.23%, train_loss: 2.6155\n",
            "client:12 train_acc: 46.35%, train_loss: 2.9048\n",
            "client:2 train_acc: 46.43%, train_loss: 3.1918\n",
            "client:11 train_acc: 46.52%, train_loss: 3.4877\n",
            "client:14 train_acc: 46.47%, train_loss: 3.7863\n",
            "client:0 train_acc: 46.55%, train_loss: 4.0747\n",
            "client:5 train_acc: 46.51%, train_loss: 4.3640\n",
            "Test set: Average loss: 3.2228, Accuracy: 636/10000 (6.36%)\n"
          ]
        },
        {
          "output_type": "stream",
          "name": "stderr",
          "text": [
            "Round58: User1_1: 100%|█████████████████████████████████████████████| 10/10 [00:00<00:00, 22.02it/s]\n",
            "Round58: User14_1: 100%|████████████████████████████████████████████| 10/10 [00:00<00:00, 24.32it/s]\n",
            "Round58: User12_1: 100%|████████████████████████████████████████████| 10/10 [00:00<00:00, 23.68it/s]\n",
            "Round58: User4_1: 100%|█████████████████████████████████████████████| 10/10 [00:00<00:00, 17.21it/s]\n",
            "Round58: User0_1: 100%|█████████████████████████████████████████████| 10/10 [00:00<00:00, 16.26it/s]\n",
            "Round58: User11_1: 100%|████████████████████████████████████████████| 10/10 [00:00<00:00, 17.94it/s]\n",
            "Round58: User6_1: 100%|█████████████████████████████████████████████| 10/10 [00:00<00:00, 16.32it/s]\n",
            "Round58: User7_1: 100%|█████████████████████████████████████████████| 10/10 [00:00<00:00, 22.78it/s]\n",
            "Round58: User13_1: 100%|████████████████████████████████████████████| 10/10 [00:00<00:00, 23.74it/s]\n",
            "Round58: User2_1: 100%|█████████████████████████████████████████████| 10/10 [00:00<00:00, 23.66it/s]\n",
            "Round58: User8_1: 100%|█████████████████████████████████████████████| 10/10 [00:00<00:00, 25.41it/s]\n",
            "Round58: User5_1: 100%|█████████████████████████████████████████████| 10/10 [00:00<00:00, 22.52it/s]\n",
            "Round58: User10_1: 100%|████████████████████████████████████████████| 10/10 [00:00<00:00, 24.31it/s]\n",
            "Round58: User9_1: 100%|█████████████████████████████████████████████| 10/10 [00:00<00:00, 23.78it/s]\n",
            "Round58: User3_1: 100%|█████████████████████████████████████████████| 10/10 [00:00<00:00, 23.99it/s]\n"
          ]
        },
        {
          "output_type": "stream",
          "name": "stdout",
          "text": [
            "client:1 train_acc: 45.80%, train_loss: 0.2949\n",
            "client:14 train_acc: 45.75%, train_loss: 0.5922\n",
            "client:12 train_acc: 46.40%, train_loss: 0.8812\n",
            "client:4 train_acc: 46.25%, train_loss: 1.1711\n",
            "client:0 train_acc: 46.78%, train_loss: 1.4555\n",
            "client:11 train_acc: 46.97%, train_loss: 1.7506\n",
            "client:6 train_acc: 46.83%, train_loss: 2.0446\n",
            "client:7 train_acc: 46.73%, train_loss: 2.3334\n",
            "client:13 train_acc: 46.89%, train_loss: 2.6185\n",
            "client:2 train_acc: 46.97%, train_loss: 2.9045\n",
            "client:8 train_acc: 46.88%, train_loss: 3.1959\n",
            "client:5 train_acc: 46.83%, train_loss: 3.4825\n",
            "client:10 train_acc: 46.68%, train_loss: 3.7742\n",
            "client:9 train_acc: 46.66%, train_loss: 4.0551\n",
            "client:3 train_acc: 46.60%, train_loss: 4.3480\n",
            "Test set: Average loss: 3.1731, Accuracy: 650/10000 (6.50%)\n"
          ]
        },
        {
          "output_type": "stream",
          "name": "stderr",
          "text": [
            "Round59: User8_1: 100%|█████████████████████████████████████████████| 10/10 [00:00<00:00, 25.12it/s]\n",
            "Round59: User11_1: 100%|████████████████████████████████████████████| 10/10 [00:00<00:00, 23.10it/s]\n",
            "Round59: User3_1: 100%|█████████████████████████████████████████████| 10/10 [00:00<00:00, 24.53it/s]\n",
            "Round59: User12_1: 100%|████████████████████████████████████████████| 10/10 [00:00<00:00, 24.89it/s]\n",
            "Round59: User1_1: 100%|█████████████████████████████████████████████| 10/10 [00:00<00:00, 22.81it/s]\n",
            "Round59: User2_1: 100%|█████████████████████████████████████████████| 10/10 [00:00<00:00, 24.20it/s]\n",
            "Round59: User5_1: 100%|█████████████████████████████████████████████| 10/10 [00:00<00:00, 24.70it/s]\n",
            "Round59: User4_1: 100%|█████████████████████████████████████████████| 10/10 [00:00<00:00, 22.46it/s]\n",
            "Round59: User0_1: 100%|█████████████████████████████████████████████| 10/10 [00:00<00:00, 24.68it/s]\n",
            "Round59: User6_1: 100%|█████████████████████████████████████████████| 10/10 [00:00<00:00, 22.55it/s]\n",
            "Round59: User7_1: 100%|█████████████████████████████████████████████| 10/10 [00:00<00:00, 24.04it/s]\n",
            "Round59: User14_1: 100%|████████████████████████████████████████████| 10/10 [00:00<00:00, 23.40it/s]\n",
            "Round59: User9_1: 100%|█████████████████████████████████████████████| 10/10 [00:00<00:00, 22.93it/s]\n",
            "Round59: User13_1: 100%|████████████████████████████████████████████| 10/10 [00:00<00:00, 25.48it/s]\n",
            "Round59: User10_1: 100%|████████████████████████████████████████████| 10/10 [00:00<00:00, 23.63it/s]\n"
          ]
        },
        {
          "output_type": "stream",
          "name": "stdout",
          "text": [
            "client:8 train_acc: 46.20%, train_loss: 0.2885\n",
            "client:11 train_acc: 47.20%, train_loss: 0.5822\n",
            "client:3 train_acc: 47.27%, train_loss: 0.8727\n",
            "client:12 train_acc: 47.38%, train_loss: 1.1591\n",
            "client:1 train_acc: 47.28%, train_loss: 1.4507\n",
            "client:2 train_acc: 47.45%, train_loss: 1.7346\n",
            "client:5 train_acc: 47.36%, train_loss: 2.0204\n",
            "client:4 train_acc: 47.12%, train_loss: 2.3098\n",
            "client:0 train_acc: 47.31%, train_loss: 2.5946\n",
            "client:6 train_acc: 47.21%, train_loss: 2.8858\n",
            "client:7 train_acc: 47.12%, train_loss: 3.1740\n",
            "client:14 train_acc: 47.01%, train_loss: 3.4699\n",
            "client:9 train_acc: 46.97%, train_loss: 3.7491\n",
            "client:13 train_acc: 47.08%, train_loss: 4.0318\n",
            "client:10 train_acc: 46.99%, train_loss: 4.3204\n",
            "Test set: Average loss: 3.2245, Accuracy: 632/10000 (6.32%)\n"
          ]
        },
        {
          "output_type": "stream",
          "name": "stderr",
          "text": [
            "Round60: User1_1: 100%|█████████████████████████████████████████████| 10/10 [00:00<00:00, 23.28it/s]\n",
            "Round60: User9_1: 100%|█████████████████████████████████████████████| 10/10 [00:00<00:00, 24.26it/s]\n",
            "Round60: User5_1: 100%|█████████████████████████████████████████████| 10/10 [00:00<00:00, 24.60it/s]\n",
            "Round60: User2_1: 100%|█████████████████████████████████████████████| 10/10 [00:00<00:00, 22.75it/s]\n",
            "Round60: User14_1: 100%|████████████████████████████████████████████| 10/10 [00:00<00:00, 25.68it/s]\n",
            "Round60: User8_1: 100%|█████████████████████████████████████████████| 10/10 [00:00<00:00, 23.34it/s]\n",
            "Round60: User6_1: 100%|█████████████████████████████████████████████| 10/10 [00:00<00:00, 17.96it/s]\n",
            "Round60: User10_1: 100%|████████████████████████████████████████████| 10/10 [00:00<00:00, 17.49it/s]\n",
            "Round60: User0_1: 100%|█████████████████████████████████████████████| 10/10 [00:00<00:00, 17.84it/s]\n",
            "Round60: User4_1: 100%|█████████████████████████████████████████████| 10/10 [00:00<00:00, 17.13it/s]\n",
            "Round60: User3_1: 100%|█████████████████████████████████████████████| 10/10 [00:00<00:00, 22.41it/s]\n",
            "Round60: User11_1: 100%|████████████████████████████████████████████| 10/10 [00:00<00:00, 25.25it/s]\n",
            "Round60: User12_1: 100%|████████████████████████████████████████████| 10/10 [00:00<00:00, 22.78it/s]\n",
            "Round60: User7_1: 100%|█████████████████████████████████████████████| 10/10 [00:00<00:00, 23.92it/s]\n",
            "Round60: User13_1: 100%|████████████████████████████████████████████| 10/10 [00:00<00:00, 23.23it/s]\n"
          ]
        },
        {
          "output_type": "stream",
          "name": "stdout",
          "text": [
            "client:1 train_acc: 47.10%, train_loss: 0.2904\n",
            "client:9 train_acc: 46.80%, train_loss: 0.5697\n",
            "client:5 train_acc: 46.83%, train_loss: 0.8547\n",
            "client:2 train_acc: 47.38%, train_loss: 1.1381\n",
            "client:14 train_acc: 47.16%, train_loss: 1.4335\n",
            "client:8 train_acc: 47.17%, train_loss: 1.7221\n",
            "client:6 train_acc: 47.14%, train_loss: 2.0132\n",
            "client:10 train_acc: 46.94%, train_loss: 2.3014\n",
            "client:0 train_acc: 47.19%, train_loss: 2.5856\n",
            "client:4 train_acc: 47.06%, train_loss: 2.8746\n",
            "client:3 train_acc: 47.08%, train_loss: 3.1646\n",
            "client:11 train_acc: 47.19%, train_loss: 3.4575\n",
            "client:12 train_acc: 47.16%, train_loss: 3.7436\n",
            "client:7 train_acc: 47.09%, train_loss: 4.0313\n",
            "client:13 train_acc: 47.17%, train_loss: 4.3135\n",
            "Test set: Average loss: 3.1919, Accuracy: 641/10000 (6.41%)\n"
          ]
        },
        {
          "output_type": "stream",
          "name": "stderr",
          "text": [
            "Round61: User7_1: 100%|█████████████████████████████████████████████| 10/10 [00:00<00:00, 23.52it/s]\n",
            "Round61: User2_1: 100%|█████████████████████████████████████████████| 10/10 [00:00<00:00, 24.43it/s]\n",
            "Round61: User11_1: 100%|████████████████████████████████████████████| 10/10 [00:00<00:00, 22.88it/s]\n",
            "Round61: User10_1: 100%|████████████████████████████████████████████| 10/10 [00:00<00:00, 24.66it/s]\n",
            "Round61: User8_1: 100%|█████████████████████████████████████████████| 10/10 [00:00<00:00, 22.06it/s]\n",
            "Round61: User9_1: 100%|█████████████████████████████████████████████| 10/10 [00:00<00:00, 23.16it/s]\n",
            "Round61: User12_1: 100%|████████████████████████████████████████████| 10/10 [00:00<00:00, 25.46it/s]\n",
            "Round61: User1_1: 100%|█████████████████████████████████████████████| 10/10 [00:00<00:00, 23.21it/s]\n",
            "Round61: User6_1: 100%|█████████████████████████████████████████████| 10/10 [00:00<00:00, 24.19it/s]\n",
            "Round61: User0_1: 100%|█████████████████████████████████████████████| 10/10 [00:00<00:00, 25.04it/s]\n",
            "Round61: User3_1: 100%|█████████████████████████████████████████████| 10/10 [00:00<00:00, 24.35it/s]\n",
            "Round61: User4_1: 100%|█████████████████████████████████████████████| 10/10 [00:00<00:00, 25.38it/s]\n",
            "Round61: User13_1: 100%|████████████████████████████████████████████| 10/10 [00:00<00:00, 22.41it/s]\n",
            "Round61: User5_1: 100%|█████████████████████████████████████████████| 10/10 [00:00<00:00, 23.99it/s]\n",
            "Round61: User14_1: 100%|████████████████████████████████████████████| 10/10 [00:00<00:00, 23.53it/s]\n"
          ]
        },
        {
          "output_type": "stream",
          "name": "stdout",
          "text": [
            "client:7 train_acc: 46.60%, train_loss: 0.2892\n",
            "client:2 train_acc: 47.30%, train_loss: 0.5741\n",
            "client:11 train_acc: 47.70%, train_loss: 0.8675\n",
            "client:10 train_acc: 47.20%, train_loss: 1.1559\n",
            "client:8 train_acc: 47.02%, train_loss: 1.4449\n",
            "client:9 train_acc: 46.92%, train_loss: 1.7248\n",
            "client:12 train_acc: 47.00%, train_loss: 2.0115\n",
            "client:1 train_acc: 47.14%, train_loss: 2.3032\n",
            "client:6 train_acc: 47.23%, train_loss: 2.5958\n",
            "client:0 train_acc: 47.34%, train_loss: 2.8827\n",
            "client:3 train_acc: 47.38%, train_loss: 3.1734\n",
            "client:4 train_acc: 47.28%, train_loss: 3.4619\n",
            "client:13 train_acc: 47.29%, train_loss: 3.7451\n",
            "client:5 train_acc: 47.27%, train_loss: 4.0317\n",
            "client:14 train_acc: 47.20%, train_loss: 4.3281\n",
            "Test set: Average loss: 3.2278, Accuracy: 655/10000 (6.55%)\n"
          ]
        },
        {
          "output_type": "stream",
          "name": "stderr",
          "text": [
            "Round62: User6_1: 100%|█████████████████████████████████████████████| 10/10 [00:00<00:00, 24.03it/s]\n",
            "Round62: User1_1: 100%|█████████████████████████████████████████████| 10/10 [00:00<00:00, 26.09it/s]\n",
            "Round62: User3_1: 100%|█████████████████████████████████████████████| 10/10 [00:00<00:00, 22.79it/s]\n",
            "Round62: User5_1: 100%|█████████████████████████████████████████████| 10/10 [00:00<00:00, 24.43it/s]\n",
            "Round62: User14_1: 100%|████████████████████████████████████████████| 10/10 [00:00<00:00, 23.84it/s]\n",
            "Round62: User9_1: 100%|█████████████████████████████████████████████| 10/10 [00:00<00:00, 23.67it/s]\n",
            "Round62: User12_1: 100%|████████████████████████████████████████████| 10/10 [00:00<00:00, 24.92it/s]\n",
            "Round62: User13_1: 100%|████████████████████████████████████████████| 10/10 [00:00<00:00, 22.77it/s]\n",
            "Round62: User8_1: 100%|█████████████████████████████████████████████| 10/10 [00:00<00:00, 24.44it/s]\n",
            "Round62: User11_1: 100%|████████████████████████████████████████████| 10/10 [00:00<00:00, 21.60it/s]\n",
            "Round62: User7_1: 100%|█████████████████████████████████████████████| 10/10 [00:00<00:00, 17.07it/s]\n",
            "Round62: User4_1: 100%|█████████████████████████████████████████████| 10/10 [00:00<00:00, 17.17it/s]\n",
            "Round62: User0_1: 100%|█████████████████████████████████████████████| 10/10 [00:00<00:00, 16.96it/s]\n",
            "Round62: User2_1: 100%|█████████████████████████████████████████████| 10/10 [00:00<00:00, 18.09it/s]\n",
            "Round62: User10_1: 100%|████████████████████████████████████████████| 10/10 [00:00<00:00, 22.68it/s]\n"
          ]
        },
        {
          "output_type": "stream",
          "name": "stdout",
          "text": [
            "client:6 train_acc: 46.20%, train_loss: 0.2927\n",
            "client:1 train_acc: 45.90%, train_loss: 0.5853\n",
            "client:3 train_acc: 46.37%, train_loss: 0.8764\n",
            "client:5 train_acc: 46.58%, train_loss: 1.1618\n",
            "client:14 train_acc: 46.50%, train_loss: 1.4581\n",
            "client:9 train_acc: 46.58%, train_loss: 1.7369\n",
            "client:12 train_acc: 46.71%, train_loss: 2.0250\n",
            "client:13 train_acc: 46.86%, train_loss: 2.3082\n",
            "client:8 train_acc: 46.77%, train_loss: 2.5978\n",
            "client:11 train_acc: 46.84%, train_loss: 2.8914\n",
            "client:7 train_acc: 46.94%, train_loss: 3.1779\n",
            "client:4 train_acc: 46.82%, train_loss: 3.4672\n",
            "client:0 train_acc: 46.96%, train_loss: 3.7489\n",
            "client:2 train_acc: 47.06%, train_loss: 4.0344\n",
            "client:10 train_acc: 47.01%, train_loss: 4.3249\n",
            "Test set: Average loss: 3.1920, Accuracy: 642/10000 (6.42%)\n"
          ]
        },
        {
          "output_type": "stream",
          "name": "stderr",
          "text": [
            "Round63: User9_1: 100%|█████████████████████████████████████████████| 10/10 [00:00<00:00, 17.15it/s]\n",
            "Round63: User13_1: 100%|████████████████████████████████████████████| 10/10 [00:00<00:00, 16.74it/s]\n",
            "Round63: User0_1: 100%|█████████████████████████████████████████████| 10/10 [00:00<00:00, 25.41it/s]\n",
            "Round63: User3_1: 100%|█████████████████████████████████████████████| 10/10 [00:00<00:00, 21.81it/s]\n",
            "Round63: User14_1: 100%|████████████████████████████████████████████| 10/10 [00:00<00:00, 25.50it/s]\n",
            "Round63: User6_1: 100%|█████████████████████████████████████████████| 10/10 [00:00<00:00, 22.79it/s]\n",
            "Round63: User7_1: 100%|█████████████████████████████████████████████| 10/10 [00:00<00:00, 24.20it/s]\n",
            "Round63: User4_1: 100%|█████████████████████████████████████████████| 10/10 [00:00<00:00, 24.86it/s]\n",
            "Round63: User5_1: 100%|█████████████████████████████████████████████| 10/10 [00:00<00:00, 22.17it/s]\n",
            "Round63: User10_1: 100%|████████████████████████████████████████████| 10/10 [00:00<00:00, 23.86it/s]\n",
            "Round63: User11_1: 100%|████████████████████████████████████████████| 10/10 [00:00<00:00, 23.21it/s]\n",
            "Round63: User2_1: 100%|█████████████████████████████████████████████| 10/10 [00:00<00:00, 24.79it/s]\n",
            "Round63: User12_1: 100%|████████████████████████████████████████████| 10/10 [00:00<00:00, 23.53it/s]\n",
            "Round63: User8_1: 100%|█████████████████████████████████████████████| 10/10 [00:00<00:00, 24.04it/s]\n",
            "Round63: User1_1: 100%|█████████████████████████████████████████████| 10/10 [00:00<00:00, 25.21it/s]\n"
          ]
        },
        {
          "output_type": "stream",
          "name": "stdout",
          "text": [
            "client:9 train_acc: 47.00%, train_loss: 0.2772\n",
            "client:13 train_acc: 47.90%, train_loss: 0.5583\n",
            "client:0 train_acc: 48.30%, train_loss: 0.8427\n",
            "client:3 train_acc: 48.35%, train_loss: 1.1308\n",
            "client:14 train_acc: 48.00%, train_loss: 1.4252\n",
            "client:6 train_acc: 47.85%, train_loss: 1.7151\n",
            "client:7 train_acc: 47.80%, train_loss: 2.0017\n",
            "client:4 train_acc: 47.61%, train_loss: 2.2891\n",
            "client:5 train_acc: 47.51%, train_loss: 2.5732\n",
            "client:10 train_acc: 47.34%, train_loss: 2.8598\n",
            "client:11 train_acc: 47.37%, train_loss: 3.1516\n",
            "client:2 train_acc: 47.49%, train_loss: 3.4336\n",
            "client:12 train_acc: 47.51%, train_loss: 3.7182\n",
            "client:8 train_acc: 47.46%, train_loss: 4.0058\n",
            "client:1 train_acc: 47.45%, train_loss: 4.2960\n",
            "Test set: Average loss: 3.2330, Accuracy: 611/10000 (6.11%)\n"
          ]
        },
        {
          "output_type": "stream",
          "name": "stderr",
          "text": [
            "Round64: User0_1: 100%|█████████████████████████████████████████████| 10/10 [00:00<00:00, 19.25it/s]\n",
            "Round64: User3_1: 100%|█████████████████████████████████████████████| 10/10 [00:00<00:00, 24.94it/s]\n",
            "Round64: User1_1: 100%|█████████████████████████████████████████████| 10/10 [00:00<00:00, 25.04it/s]\n",
            "Round64: User9_1: 100%|█████████████████████████████████████████████| 10/10 [00:00<00:00, 22.19it/s]\n",
            "Round64: User14_1: 100%|████████████████████████████████████████████| 10/10 [00:00<00:00, 23.93it/s]\n",
            "Round64: User8_1: 100%|█████████████████████████████████████████████| 10/10 [00:00<00:00, 22.39it/s]\n",
            "Round64: User13_1: 100%|████████████████████████████████████████████| 10/10 [00:00<00:00, 24.68it/s]\n",
            "Round64: User6_1: 100%|█████████████████████████████████████████████| 10/10 [00:00<00:00, 23.31it/s]\n",
            "Round64: User12_1: 100%|████████████████████████████████████████████| 10/10 [00:00<00:00, 24.34it/s]\n",
            "Round64: User2_1: 100%|█████████████████████████████████████████████| 10/10 [00:00<00:00, 24.61it/s]\n",
            "Round64: User11_1: 100%|████████████████████████████████████████████| 10/10 [00:00<00:00, 25.39it/s]\n",
            "Round64: User7_1: 100%|█████████████████████████████████████████████| 10/10 [00:00<00:00, 23.70it/s]\n",
            "Round64: User5_1: 100%|█████████████████████████████████████████████| 10/10 [00:00<00:00, 23.33it/s]\n",
            "Round64: User4_1: 100%|█████████████████████████████████████████████| 10/10 [00:00<00:00, 17.02it/s]\n",
            "Round64: User10_1: 100%|████████████████████████████████████████████| 10/10 [00:00<00:00, 16.18it/s]\n"
          ]
        },
        {
          "output_type": "stream",
          "name": "stdout",
          "text": [
            "client:0 train_acc: 49.50%, train_loss: 0.2811\n",
            "client:3 train_acc: 48.10%, train_loss: 0.5687\n",
            "client:1 train_acc: 47.40%, train_loss: 0.8587\n",
            "client:9 train_acc: 47.33%, train_loss: 1.1342\n",
            "client:14 train_acc: 47.14%, train_loss: 1.4276\n",
            "client:8 train_acc: 47.17%, train_loss: 1.7137\n",
            "client:13 train_acc: 47.54%, train_loss: 1.9941\n",
            "client:6 train_acc: 47.45%, train_loss: 2.2840\n",
            "client:12 train_acc: 47.42%, train_loss: 2.5691\n",
            "client:2 train_acc: 47.46%, train_loss: 2.8518\n",
            "client:11 train_acc: 47.56%, train_loss: 3.1427\n",
            "client:7 train_acc: 47.59%, train_loss: 3.4279\n",
            "client:5 train_acc: 47.47%, train_loss: 3.7107\n",
            "client:4 train_acc: 47.39%, train_loss: 3.9963\n",
            "client:10 train_acc: 47.37%, train_loss: 4.2827\n",
            "Test set: Average loss: 3.2053, Accuracy: 642/10000 (6.42%)\n"
          ]
        },
        {
          "output_type": "stream",
          "name": "stderr",
          "text": [
            "Round65: User14_1: 100%|████████████████████████████████████████████| 10/10 [00:00<00:00, 23.95it/s]\n",
            "Round65: User13_1: 100%|████████████████████████████████████████████| 10/10 [00:00<00:00, 15.46it/s]\n",
            "Round65: User7_1: 100%|█████████████████████████████████████████████| 10/10 [00:00<00:00, 18.05it/s]\n",
            "Round65: User4_1: 100%|█████████████████████████████████████████████| 10/10 [00:00<00:00, 16.84it/s]\n",
            "Round65: User6_1: 100%|█████████████████████████████████████████████| 10/10 [00:00<00:00, 16.63it/s]\n",
            "Round65: User3_1: 100%|█████████████████████████████████████████████| 10/10 [00:00<00:00, 20.79it/s]\n",
            "Round65: User2_1: 100%|█████████████████████████████████████████████| 10/10 [00:00<00:00, 25.34it/s]\n",
            "Round65: User10_1: 100%|████████████████████████████████████████████| 10/10 [00:00<00:00, 25.92it/s]\n",
            "Round65: User9_1: 100%|█████████████████████████████████████████████| 10/10 [00:00<00:00, 23.26it/s]\n",
            "Round65: User1_1: 100%|█████████████████████████████████████████████| 10/10 [00:00<00:00, 23.87it/s]\n",
            "Round65: User5_1: 100%|█████████████████████████████████████████████| 10/10 [00:00<00:00, 22.47it/s]\n",
            "Round65: User11_1: 100%|████████████████████████████████████████████| 10/10 [00:00<00:00, 25.42it/s]\n",
            "Round65: User0_1: 100%|█████████████████████████████████████████████| 10/10 [00:00<00:00, 22.60it/s]\n",
            "Round65: User8_1: 100%|█████████████████████████████████████████████| 10/10 [00:00<00:00, 25.24it/s]\n",
            "Round65: User12_1: 100%|████████████████████████████████████████████| 10/10 [00:00<00:00, 21.85it/s]\n"
          ]
        },
        {
          "output_type": "stream",
          "name": "stdout",
          "text": [
            "client:14 train_acc: 46.70%, train_loss: 0.2936\n",
            "client:13 train_acc: 47.70%, train_loss: 0.5733\n",
            "client:7 train_acc: 47.83%, train_loss: 0.8592\n",
            "client:4 train_acc: 47.65%, train_loss: 1.1465\n",
            "client:6 train_acc: 47.52%, train_loss: 1.4348\n",
            "client:3 train_acc: 47.77%, train_loss: 1.7223\n",
            "client:2 train_acc: 47.91%, train_loss: 2.0043\n",
            "client:10 train_acc: 47.81%, train_loss: 2.2896\n",
            "client:9 train_acc: 47.69%, train_loss: 2.5659\n",
            "client:1 train_acc: 47.49%, train_loss: 2.8535\n",
            "client:5 train_acc: 47.50%, train_loss: 3.1356\n",
            "client:11 train_acc: 47.49%, train_loss: 3.4270\n",
            "client:0 train_acc: 47.69%, train_loss: 3.7096\n",
            "client:8 train_acc: 47.70%, train_loss: 3.9947\n",
            "client:12 train_acc: 47.60%, train_loss: 4.2791\n",
            "Test set: Average loss: 3.2203, Accuracy: 629/10000 (6.29%)\n"
          ]
        },
        {
          "output_type": "stream",
          "name": "stderr",
          "text": [
            "Round66: User2_1: 100%|█████████████████████████████████████████████| 10/10 [00:00<00:00, 24.06it/s]\n",
            "Round66: User8_1: 100%|█████████████████████████████████████████████| 10/10 [00:00<00:00, 20.43it/s]\n",
            "Round66: User1_1: 100%|█████████████████████████████████████████████| 10/10 [00:00<00:00, 24.09it/s]\n",
            "Round66: User0_1: 100%|█████████████████████████████████████████████| 10/10 [00:00<00:00, 24.49it/s]\n",
            "Round66: User4_1: 100%|█████████████████████████████████████████████| 10/10 [00:00<00:00, 22.50it/s]\n",
            "Round66: User6_1: 100%|█████████████████████████████████████████████| 10/10 [00:00<00:00, 24.51it/s]\n",
            "Round66: User9_1: 100%|█████████████████████████████████████████████| 10/10 [00:00<00:00, 26.18it/s]\n",
            "Round66: User14_1: 100%|████████████████████████████████████████████| 10/10 [00:00<00:00, 23.44it/s]\n",
            "Round66: User7_1: 100%|█████████████████████████████████████████████| 10/10 [00:00<00:00, 24.66it/s]\n",
            "Round66: User10_1: 100%|████████████████████████████████████████████| 10/10 [00:00<00:00, 23.93it/s]\n",
            "Round66: User13_1: 100%|████████████████████████████████████████████| 10/10 [00:00<00:00, 22.35it/s]\n",
            "Round66: User3_1: 100%|█████████████████████████████████████████████| 10/10 [00:00<00:00, 25.85it/s]\n",
            "Round66: User5_1: 100%|█████████████████████████████████████████████| 10/10 [00:00<00:00, 23.06it/s]\n",
            "Round66: User11_1: 100%|████████████████████████████████████████████| 10/10 [00:00<00:00, 25.35it/s]\n",
            "Round66: User12_1: 100%|████████████████████████████████████████████| 10/10 [00:00<00:00, 24.86it/s]\n"
          ]
        },
        {
          "output_type": "stream",
          "name": "stdout",
          "text": [
            "client:2 train_acc: 48.80%, train_loss: 0.2820\n",
            "client:8 train_acc: 48.55%, train_loss: 0.5672\n",
            "client:1 train_acc: 48.03%, train_loss: 0.8557\n",
            "client:0 train_acc: 48.25%, train_loss: 1.1381\n",
            "client:4 train_acc: 47.80%, train_loss: 1.4224\n",
            "client:6 train_acc: 47.83%, train_loss: 1.7120\n",
            "client:9 train_acc: 47.86%, train_loss: 1.9873\n",
            "client:14 train_acc: 47.70%, train_loss: 2.2798\n",
            "client:7 train_acc: 47.69%, train_loss: 2.5644\n",
            "client:10 train_acc: 47.60%, train_loss: 2.8494\n",
            "client:13 train_acc: 47.77%, train_loss: 3.1298\n",
            "client:3 train_acc: 47.77%, train_loss: 3.4162\n",
            "client:5 train_acc: 47.66%, train_loss: 3.6985\n",
            "client:11 train_acc: 47.73%, train_loss: 3.9883\n",
            "client:12 train_acc: 47.77%, train_loss: 4.2724\n",
            "Test set: Average loss: 3.2755, Accuracy: 627/10000 (6.27%)\n"
          ]
        },
        {
          "output_type": "stream",
          "name": "stderr",
          "text": [
            "Round67: User10_1: 100%|████████████████████████████████████████████| 10/10 [00:00<00:00, 24.03it/s]\n",
            "Round67: User11_1: 100%|████████████████████████████████████████████| 10/10 [00:00<00:00, 22.35it/s]\n",
            "Round67: User13_1: 100%|████████████████████████████████████████████| 10/10 [00:00<00:00, 25.74it/s]\n",
            "Round67: User8_1: 100%|█████████████████████████████████████████████| 10/10 [00:00<00:00, 21.93it/s]\n",
            "Round67: User0_1: 100%|█████████████████████████████████████████████| 10/10 [00:00<00:00, 19.91it/s]\n",
            "Round67: User2_1: 100%|█████████████████████████████████████████████| 10/10 [00:00<00:00, 17.12it/s]\n",
            "Round67: User9_1: 100%|█████████████████████████████████████████████| 10/10 [00:00<00:00, 18.10it/s]\n",
            "Round67: User3_1: 100%|█████████████████████████████████████████████| 10/10 [00:00<00:00, 17.06it/s]\n",
            "Round67: User5_1: 100%|█████████████████████████████████████████████| 10/10 [00:00<00:00, 16.92it/s]\n",
            "Round67: User4_1: 100%|█████████████████████████████████████████████| 10/10 [00:00<00:00, 24.28it/s]\n",
            "Round67: User1_1: 100%|█████████████████████████████████████████████| 10/10 [00:00<00:00, 23.47it/s]\n",
            "Round67: User7_1: 100%|█████████████████████████████████████████████| 10/10 [00:00<00:00, 25.84it/s]\n",
            "Round67: User12_1: 100%|████████████████████████████████████████████| 10/10 [00:00<00:00, 22.88it/s]\n",
            "Round67: User14_1: 100%|████████████████████████████████████████████| 10/10 [00:00<00:00, 25.75it/s]\n",
            "Round67: User6_1: 100%|█████████████████████████████████████████████| 10/10 [00:00<00:00, 24.76it/s]\n"
          ]
        },
        {
          "output_type": "stream",
          "name": "stdout",
          "text": [
            "client:10 train_acc: 46.90%, train_loss: 0.2849\n",
            "client:11 train_acc: 48.25%, train_loss: 0.5731\n",
            "client:13 train_acc: 48.70%, train_loss: 0.8507\n",
            "client:8 train_acc: 48.25%, train_loss: 1.1356\n",
            "client:0 train_acc: 48.48%, train_loss: 1.4135\n",
            "client:2 train_acc: 48.63%, train_loss: 1.6935\n",
            "client:9 train_acc: 48.64%, train_loss: 1.9666\n",
            "client:3 train_acc: 48.60%, train_loss: 2.2521\n",
            "client:5 train_acc: 48.59%, train_loss: 2.5323\n",
            "client:4 train_acc: 48.50%, train_loss: 2.8165\n",
            "client:1 train_acc: 48.42%, train_loss: 3.1022\n",
            "client:7 train_acc: 48.35%, train_loss: 3.3841\n",
            "client:12 train_acc: 48.31%, train_loss: 3.6671\n",
            "client:14 train_acc: 48.20%, train_loss: 3.9575\n",
            "client:6 train_acc: 48.13%, train_loss: 4.2443\n",
            "Test set: Average loss: 3.1926, Accuracy: 660/10000 (6.60%)\n"
          ]
        },
        {
          "output_type": "stream",
          "name": "stderr",
          "text": [
            "Round68: User7_1: 100%|█████████████████████████████████████████████| 10/10 [00:00<00:00, 24.55it/s]\n",
            "Round68: User4_1: 100%|█████████████████████████████████████████████| 10/10 [00:00<00:00, 22.59it/s]\n",
            "Round68: User6_1: 100%|█████████████████████████████████████████████| 10/10 [00:00<00:00, 25.61it/s]\n",
            "Round68: User9_1: 100%|█████████████████████████████████████████████| 10/10 [00:00<00:00, 25.66it/s]\n",
            "Round68: User10_1: 100%|████████████████████████████████████████████| 10/10 [00:00<00:00, 23.05it/s]\n",
            "Round68: User0_1: 100%|█████████████████████████████████████████████| 10/10 [00:00<00:00, 24.35it/s]\n",
            "Round68: User1_1: 100%|█████████████████████████████████████████████| 10/10 [00:00<00:00, 22.01it/s]\n",
            "Round68: User14_1: 100%|████████████████████████████████████████████| 10/10 [00:00<00:00, 25.53it/s]\n",
            "Round68: User5_1: 100%|█████████████████████████████████████████████| 10/10 [00:00<00:00, 19.06it/s]\n",
            "Round68: User8_1: 100%|█████████████████████████████████████████████| 10/10 [00:00<00:00, 24.74it/s]\n",
            "Round68: User12_1: 100%|████████████████████████████████████████████| 10/10 [00:00<00:00, 25.26it/s]\n",
            "Round68: User3_1: 100%|█████████████████████████████████████████████| 10/10 [00:00<00:00, 23.37it/s]\n",
            "Round68: User2_1: 100%|█████████████████████████████████████████████| 10/10 [00:00<00:00, 24.07it/s]\n",
            "Round68: User11_1: 100%|████████████████████████████████████████████| 10/10 [00:00<00:00, 23.98it/s]\n",
            "Round68: User13_1: 100%|████████████████████████████████████████████| 10/10 [00:00<00:00, 24.01it/s]\n"
          ]
        },
        {
          "output_type": "stream",
          "name": "stdout",
          "text": [
            "client:7 train_acc: 48.40%, train_loss: 0.2829\n",
            "client:4 train_acc: 47.95%, train_loss: 0.5659\n",
            "client:6 train_acc: 48.00%, train_loss: 0.8519\n",
            "client:9 train_acc: 48.00%, train_loss: 1.1254\n",
            "client:10 train_acc: 47.90%, train_loss: 1.4079\n",
            "client:0 train_acc: 48.12%, train_loss: 1.6880\n",
            "client:1 train_acc: 48.16%, train_loss: 1.9725\n",
            "client:14 train_acc: 48.21%, train_loss: 2.2622\n",
            "client:5 train_acc: 48.21%, train_loss: 2.5424\n",
            "client:8 train_acc: 48.28%, train_loss: 2.8255\n",
            "client:12 train_acc: 48.25%, train_loss: 3.1068\n",
            "client:3 train_acc: 48.37%, train_loss: 3.3912\n",
            "client:2 train_acc: 48.45%, train_loss: 3.6701\n",
            "client:11 train_acc: 48.53%, train_loss: 3.9572\n",
            "client:13 train_acc: 48.58%, train_loss: 4.2342\n",
            "Test set: Average loss: 3.2457, Accuracy: 635/10000 (6.35%)\n"
          ]
        },
        {
          "output_type": "stream",
          "name": "stderr",
          "text": [
            "Round69: User13_1: 100%|████████████████████████████████████████████| 10/10 [00:00<00:00, 23.15it/s]\n",
            "Round69: User12_1: 100%|████████████████████████████████████████████| 10/10 [00:00<00:00, 23.75it/s]\n",
            "Round69: User9_1: 100%|█████████████████████████████████████████████| 10/10 [00:00<00:00, 24.47it/s]\n",
            "Round69: User14_1: 100%|████████████████████████████████████████████| 10/10 [00:00<00:00, 22.54it/s]\n",
            "Round69: User1_1: 100%|█████████████████████████████████████████████| 10/10 [00:00<00:00, 25.24it/s]\n",
            "Round69: User6_1: 100%|█████████████████████████████████████████████| 10/10 [00:00<00:00, 25.29it/s]\n",
            "Round69: User4_1: 100%|█████████████████████████████████████████████| 10/10 [00:00<00:00, 22.94it/s]\n",
            "Round69: User5_1: 100%|█████████████████████████████████████████████| 10/10 [00:00<00:00, 25.01it/s]\n",
            "Round69: User10_1: 100%|████████████████████████████████████████████| 10/10 [00:00<00:00, 15.95it/s]\n",
            "Round69: User7_1: 100%|█████████████████████████████████████████████| 10/10 [00:00<00:00, 18.48it/s]\n",
            "Round69: User8_1: 100%|█████████████████████████████████████████████| 10/10 [00:00<00:00, 16.65it/s]\n",
            "Round69: User2_1: 100%|█████████████████████████████████████████████| 10/10 [00:00<00:00, 14.80it/s]\n",
            "Round69: User3_1: 100%|█████████████████████████████████████████████| 10/10 [00:00<00:00, 22.34it/s]\n",
            "Round69: User0_1: 100%|█████████████████████████████████████████████| 10/10 [00:00<00:00, 23.60it/s]\n",
            "Round69: User11_1: 100%|████████████████████████████████████████████| 10/10 [00:00<00:00, 24.37it/s]\n"
          ]
        },
        {
          "output_type": "stream",
          "name": "stdout",
          "text": [
            "client:13 train_acc: 49.70%, train_loss: 0.2751\n",
            "client:12 train_acc: 48.95%, train_loss: 0.5555\n",
            "client:9 train_acc: 48.90%, train_loss: 0.8262\n",
            "client:14 train_acc: 48.52%, train_loss: 1.1150\n",
            "client:1 train_acc: 48.44%, train_loss: 1.3981\n",
            "client:6 train_acc: 48.30%, train_loss: 1.6819\n",
            "client:4 train_acc: 48.19%, train_loss: 1.9643\n",
            "client:5 train_acc: 48.24%, train_loss: 2.2418\n",
            "client:10 train_acc: 48.21%, train_loss: 2.5236\n",
            "client:7 train_acc: 48.30%, train_loss: 2.8027\n",
            "client:8 train_acc: 48.24%, train_loss: 3.0845\n",
            "client:2 train_acc: 48.34%, train_loss: 3.3625\n",
            "client:3 train_acc: 48.42%, train_loss: 3.6457\n",
            "client:0 train_acc: 48.57%, train_loss: 3.9213\n",
            "client:11 train_acc: 48.59%, train_loss: 4.2080\n",
            "Test set: Average loss: 3.2199, Accuracy: 647/10000 (6.47%)\n"
          ]
        },
        {
          "output_type": "stream",
          "name": "stderr",
          "text": [
            "Round70: User3_1: 100%|█████████████████████████████████████████████| 10/10 [00:00<00:00, 22.57it/s]\n",
            "Round70: User12_1: 100%|████████████████████████████████████████████| 10/10 [00:00<00:00, 23.97it/s]\n",
            "Round70: User9_1: 100%|█████████████████████████████████████████████| 10/10 [00:00<00:00, 23.44it/s]\n",
            "Round70: User7_1: 100%|█████████████████████████████████████████████| 10/10 [00:00<00:00, 25.13it/s]\n",
            "Round70: User6_1: 100%|█████████████████████████████████████████████| 10/10 [00:00<00:00, 23.62it/s]\n",
            "Round70: User14_1: 100%|████████████████████████████████████████████| 10/10 [00:00<00:00, 24.72it/s]\n",
            "Round70: User8_1: 100%|█████████████████████████████████████████████| 10/10 [00:00<00:00, 22.77it/s]\n",
            "Round70: User5_1: 100%|█████████████████████████████████████████████| 10/10 [00:00<00:00, 24.53it/s]\n",
            "Round70: User4_1: 100%|█████████████████████████████████████████████| 10/10 [00:00<00:00, 25.41it/s]\n",
            "Round70: User11_1: 100%|████████████████████████████████████████████| 10/10 [00:00<00:00, 22.70it/s]\n",
            "Round70: User10_1: 100%|████████████████████████████████████████████| 10/10 [00:00<00:00, 23.90it/s]\n",
            "Round70: User13_1: 100%|████████████████████████████████████████████| 10/10 [00:00<00:00, 24.52it/s]\n",
            "Round70: User1_1: 100%|█████████████████████████████████████████████| 10/10 [00:00<00:00, 22.43it/s]\n",
            "Round70: User2_1: 100%|█████████████████████████████████████████████| 10/10 [00:00<00:00, 22.93it/s]\n",
            "Round70: User0_1: 100%|█████████████████████████████████████████████| 10/10 [00:00<00:00, 20.04it/s]\n"
          ]
        },
        {
          "output_type": "stream",
          "name": "stdout",
          "text": [
            "client:3 train_acc: 49.40%, train_loss: 0.2826\n",
            "client:12 train_acc: 48.90%, train_loss: 0.5621\n",
            "client:9 train_acc: 48.67%, train_loss: 0.8329\n",
            "client:7 train_acc: 48.77%, train_loss: 1.1133\n",
            "client:6 train_acc: 48.68%, train_loss: 1.3962\n",
            "client:14 train_acc: 48.55%, train_loss: 1.6840\n",
            "client:8 train_acc: 48.49%, train_loss: 1.9647\n",
            "client:5 train_acc: 48.44%, train_loss: 2.2417\n",
            "client:4 train_acc: 48.42%, train_loss: 2.5240\n",
            "client:11 train_acc: 48.50%, train_loss: 2.8097\n",
            "client:10 train_acc: 48.38%, train_loss: 3.0908\n",
            "client:13 train_acc: 48.51%, train_loss: 3.3650\n",
            "client:1 train_acc: 48.42%, train_loss: 3.6474\n",
            "client:2 train_acc: 48.55%, train_loss: 3.9246\n",
            "client:0 train_acc: 48.67%, train_loss: 4.2017\n",
            "Test set: Average loss: 3.2183, Accuracy: 654/10000 (6.54%)\n"
          ]
        },
        {
          "output_type": "stream",
          "name": "stderr",
          "text": [
            "Round71: User3_1: 100%|█████████████████████████████████████████████| 10/10 [00:00<00:00, 22.58it/s]\n",
            "Round71: User13_1: 100%|████████████████████████████████████████████| 10/10 [00:00<00:00, 25.55it/s]\n",
            "Round71: User10_1: 100%|████████████████████████████████████████████| 10/10 [00:00<00:00, 25.61it/s]\n",
            "Round71: User5_1: 100%|█████████████████████████████████████████████| 10/10 [00:00<00:00, 22.93it/s]\n",
            "Round71: User6_1: 100%|█████████████████████████████████████████████| 10/10 [00:00<00:00, 23.82it/s]\n",
            "Round71: User7_1: 100%|█████████████████████████████████████████████| 10/10 [00:00<00:00, 23.18it/s]\n",
            "Round71: User8_1: 100%|█████████████████████████████████████████████| 10/10 [00:00<00:00, 24.06it/s]\n",
            "Round71: User9_1: 100%|█████████████████████████████████████████████| 10/10 [00:00<00:00, 24.24it/s]\n",
            "Round71: User0_1: 100%|█████████████████████████████████████████████| 10/10 [00:00<00:00, 24.72it/s]\n",
            "Round71: User12_1: 100%|████████████████████████████████████████████| 10/10 [00:00<00:00, 24.55it/s]\n",
            "Round71: User14_1: 100%|████████████████████████████████████████████| 10/10 [00:00<00:00, 22.43it/s]\n",
            "Round71: User1_1: 100%|█████████████████████████████████████████████| 10/10 [00:00<00:00, 16.76it/s]\n",
            "Round71: User4_1: 100%|█████████████████████████████████████████████| 10/10 [00:00<00:00, 16.53it/s]\n",
            "Round71: User11_1: 100%|████████████████████████████████████████████| 10/10 [00:00<00:00, 18.19it/s]\n",
            "Round71: User2_1: 100%|█████████████████████████████████████████████| 10/10 [00:00<00:00, 16.86it/s]\n"
          ]
        },
        {
          "output_type": "stream",
          "name": "stdout",
          "text": [
            "client:3 train_acc: 49.50%, train_loss: 0.2823\n",
            "client:13 train_acc: 49.75%, train_loss: 0.5563\n",
            "client:10 train_acc: 49.03%, train_loss: 0.8382\n",
            "client:5 train_acc: 49.05%, train_loss: 1.1146\n",
            "client:6 train_acc: 48.70%, train_loss: 1.3980\n",
            "client:7 train_acc: 48.90%, train_loss: 1.6766\n",
            "client:8 train_acc: 48.64%, train_loss: 1.9581\n",
            "client:9 train_acc: 48.69%, train_loss: 2.2282\n",
            "client:0 train_acc: 48.87%, train_loss: 2.5032\n",
            "client:12 train_acc: 48.82%, train_loss: 2.7835\n",
            "client:14 train_acc: 48.75%, train_loss: 3.0712\n",
            "client:1 train_acc: 48.73%, train_loss: 3.3538\n",
            "client:4 train_acc: 48.66%, train_loss: 3.6356\n",
            "client:11 train_acc: 48.71%, train_loss: 3.9205\n",
            "client:2 train_acc: 48.73%, train_loss: 4.1993\n",
            "Test set: Average loss: 3.2207, Accuracy: 660/10000 (6.60%)\n"
          ]
        },
        {
          "output_type": "stream",
          "name": "stderr",
          "text": [
            "Round72: User13_1: 100%|████████████████████████████████████████████| 10/10 [00:00<00:00, 16.84it/s]\n",
            "Round72: User14_1: 100%|████████████████████████████████████████████| 10/10 [00:00<00:00, 17.75it/s]\n",
            "Round72: User2_1: 100%|█████████████████████████████████████████████| 10/10 [00:00<00:00, 16.64it/s]\n",
            "Round72: User9_1: 100%|█████████████████████████████████████████████| 10/10 [00:00<00:00, 22.84it/s]\n",
            "Round72: User0_1: 100%|█████████████████████████████████████████████| 10/10 [00:00<00:00, 22.00it/s]\n",
            "Round72: User3_1: 100%|█████████████████████████████████████████████| 10/10 [00:00<00:00, 24.89it/s]\n",
            "Round72: User6_1: 100%|█████████████████████████████████████████████| 10/10 [00:00<00:00, 23.52it/s]\n",
            "Round72: User1_1: 100%|█████████████████████████████████████████████| 10/10 [00:00<00:00, 23.85it/s]\n",
            "Round72: User4_1: 100%|█████████████████████████████████████████████| 10/10 [00:00<00:00, 24.46it/s]\n",
            "Round72: User10_1: 100%|████████████████████████████████████████████| 10/10 [00:00<00:00, 22.42it/s]\n",
            "Round72: User8_1: 100%|█████████████████████████████████████████████| 10/10 [00:00<00:00, 24.25it/s]\n",
            "Round72: User5_1: 100%|█████████████████████████████████████████████| 10/10 [00:00<00:00, 24.09it/s]\n",
            "Round72: User11_1: 100%|████████████████████████████████████████████| 10/10 [00:00<00:00, 24.00it/s]\n",
            "Round72: User12_1: 100%|████████████████████████████████████████████| 10/10 [00:00<00:00, 25.40it/s]\n",
            "Round72: User7_1: 100%|█████████████████████████████████████████████| 10/10 [00:00<00:00, 23.10it/s]\n"
          ]
        },
        {
          "output_type": "stream",
          "name": "stdout",
          "text": [
            "client:13 train_acc: 50.20%, train_loss: 0.2757\n",
            "client:14 train_acc: 48.80%, train_loss: 0.5637\n",
            "client:2 train_acc: 48.83%, train_loss: 0.8417\n",
            "client:9 train_acc: 48.90%, train_loss: 1.1130\n",
            "client:0 train_acc: 49.12%, train_loss: 1.3919\n",
            "client:3 train_acc: 49.32%, train_loss: 1.6743\n",
            "client:6 train_acc: 49.26%, train_loss: 1.9582\n",
            "client:1 train_acc: 49.18%, train_loss: 2.2404\n",
            "client:4 train_acc: 48.96%, train_loss: 2.5220\n",
            "client:10 train_acc: 48.80%, train_loss: 2.8034\n",
            "client:8 train_acc: 48.81%, train_loss: 3.0852\n",
            "client:5 train_acc: 48.79%, train_loss: 3.3633\n",
            "client:11 train_acc: 48.86%, train_loss: 3.6486\n",
            "client:12 train_acc: 48.84%, train_loss: 3.9289\n",
            "client:7 train_acc: 48.79%, train_loss: 4.2114\n",
            "Test set: Average loss: 3.2400, Accuracy: 675/10000 (6.75%)\n"
          ]
        },
        {
          "output_type": "stream",
          "name": "stderr",
          "text": [
            "Round73: User11_1: 100%|████████████████████████████████████████████| 10/10 [00:00<00:00, 22.37it/s]\n",
            "Round73: User0_1: 100%|█████████████████████████████████████████████| 10/10 [00:00<00:00, 24.11it/s]\n",
            "Round73: User2_1: 100%|█████████████████████████████████████████████| 10/10 [00:00<00:00, 24.27it/s]\n",
            "Round73: User12_1: 100%|████████████████████████████████████████████| 10/10 [00:00<00:00, 24.27it/s]\n",
            "Round73: User7_1: 100%|█████████████████████████████████████████████| 10/10 [00:00<00:00, 23.30it/s]\n",
            "Round73: User4_1: 100%|█████████████████████████████████████████████| 10/10 [00:00<00:00, 23.84it/s]\n",
            "Round73: User1_1: 100%|█████████████████████████████████████████████| 10/10 [00:00<00:00, 24.32it/s]\n",
            "Round73: User3_1: 100%|█████████████████████████████████████████████| 10/10 [00:00<00:00, 25.40it/s]\n",
            "Round73: User14_1: 100%|████████████████████████████████████████████| 10/10 [00:00<00:00, 23.08it/s]\n",
            "Round73: User13_1: 100%|████████████████████████████████████████████| 10/10 [00:00<00:00, 24.43it/s]\n",
            "Round73: User8_1: 100%|█████████████████████████████████████████████| 10/10 [00:00<00:00, 26.20it/s]\n",
            "Round73: User6_1: 100%|█████████████████████████████████████████████| 10/10 [00:00<00:00, 22.08it/s]\n",
            "Round73: User5_1: 100%|█████████████████████████████████████████████| 10/10 [00:00<00:00, 23.72it/s]\n",
            "Round73: User9_1: 100%|█████████████████████████████████████████████| 10/10 [00:00<00:00, 18.22it/s]\n",
            "Round73: User10_1: 100%|████████████████████████████████████████████| 10/10 [00:00<00:00, 17.44it/s]\n"
          ]
        },
        {
          "output_type": "stream",
          "name": "stdout",
          "text": [
            "client:11 train_acc: 49.10%, train_loss: 0.2840\n",
            "client:0 train_acc: 49.85%, train_loss: 0.5576\n",
            "client:2 train_acc: 49.67%, train_loss: 0.8343\n",
            "client:12 train_acc: 49.50%, train_loss: 1.1134\n",
            "client:7 train_acc: 49.56%, train_loss: 1.3910\n",
            "client:4 train_acc: 49.35%, train_loss: 1.6702\n",
            "client:1 train_acc: 49.27%, train_loss: 1.9513\n",
            "client:3 train_acc: 49.30%, train_loss: 2.2323\n",
            "client:14 train_acc: 49.24%, train_loss: 2.5185\n",
            "client:13 train_acc: 49.33%, train_loss: 2.7911\n",
            "client:8 train_acc: 49.23%, train_loss: 3.0713\n",
            "client:6 train_acc: 49.15%, train_loss: 3.3540\n",
            "client:5 train_acc: 49.16%, train_loss: 3.6292\n",
            "client:9 train_acc: 49.14%, train_loss: 3.8988\n",
            "client:10 train_acc: 49.03%, train_loss: 4.1797\n",
            "Test set: Average loss: 3.2360, Accuracy: 667/10000 (6.67%)\n"
          ]
        },
        {
          "output_type": "stream",
          "name": "stderr",
          "text": [
            "Round74: User11_1: 100%|████████████████████████████████████████████| 10/10 [00:00<00:00, 21.47it/s]\n",
            "Round74: User1_1: 100%|█████████████████████████████████████████████| 10/10 [00:00<00:00, 19.98it/s]\n",
            "Round74: User9_1: 100%|█████████████████████████████████████████████| 10/10 [00:00<00:00, 16.73it/s]\n",
            "Round74: User10_1: 100%|████████████████████████████████████████████| 10/10 [00:00<00:00, 16.65it/s]\n",
            "Round74: User13_1: 100%|████████████████████████████████████████████| 10/10 [00:00<00:00, 16.73it/s]\n",
            "Round74: User4_1: 100%|█████████████████████████████████████████████| 10/10 [00:00<00:00, 19.96it/s]\n",
            "Round74: User6_1: 100%|█████████████████████████████████████████████| 10/10 [00:00<00:00, 23.63it/s]\n",
            "Round74: User5_1: 100%|█████████████████████████████████████████████| 10/10 [00:00<00:00, 23.00it/s]\n",
            "Round74: User7_1: 100%|█████████████████████████████████████████████| 10/10 [00:00<00:00, 22.61it/s]\n",
            "Round74: User3_1: 100%|█████████████████████████████████████████████| 10/10 [00:00<00:00, 25.24it/s]\n",
            "Round74: User8_1: 100%|█████████████████████████████████████████████| 10/10 [00:00<00:00, 21.89it/s]\n",
            "Round74: User2_1: 100%|█████████████████████████████████████████████| 10/10 [00:00<00:00, 24.64it/s]\n",
            "Round74: User0_1: 100%|█████████████████████████████████████████████| 10/10 [00:00<00:00, 22.16it/s]\n",
            "Round74: User12_1: 100%|████████████████████████████████████████████| 10/10 [00:00<00:00, 24.03it/s]\n",
            "Round74: User14_1: 100%|████████████████████████████████████████████| 10/10 [00:00<00:00, 23.85it/s]\n"
          ]
        },
        {
          "output_type": "stream",
          "name": "stdout",
          "text": [
            "client:11 train_acc: 50.50%, train_loss: 0.2834\n",
            "client:1 train_acc: 49.30%, train_loss: 0.5626\n",
            "client:9 train_acc: 49.17%, train_loss: 0.8316\n",
            "client:10 train_acc: 49.05%, train_loss: 1.1106\n",
            "client:13 train_acc: 49.32%, train_loss: 1.3820\n",
            "client:4 train_acc: 49.18%, train_loss: 1.6630\n",
            "client:6 train_acc: 49.04%, train_loss: 1.9433\n",
            "client:5 train_acc: 48.96%, train_loss: 2.2181\n",
            "client:7 train_acc: 48.91%, train_loss: 2.4961\n",
            "client:3 train_acc: 48.98%, train_loss: 2.7772\n",
            "client:8 train_acc: 49.00%, train_loss: 3.0562\n",
            "client:2 train_acc: 49.03%, train_loss: 3.3311\n",
            "client:0 train_acc: 49.18%, train_loss: 3.6056\n",
            "client:12 train_acc: 49.13%, train_loss: 3.8835\n",
            "client:14 train_acc: 49.04%, train_loss: 4.1703\n",
            "Test set: Average loss: 3.1739, Accuracy: 645/10000 (6.45%)\n"
          ]
        },
        {
          "output_type": "stream",
          "name": "stderr",
          "text": [
            "Round75: User9_1: 100%|█████████████████████████████████████████████| 10/10 [00:00<00:00, 25.59it/s]\n",
            "Round75: User2_1: 100%|█████████████████████████████████████████████| 10/10 [00:00<00:00, 23.47it/s]\n",
            "Round75: User4_1: 100%|█████████████████████████████████████████████| 10/10 [00:00<00:00, 24.12it/s]\n",
            "Round75: User10_1: 100%|████████████████████████████████████████████| 10/10 [00:00<00:00, 25.44it/s]\n",
            "Round75: User0_1: 100%|█████████████████████████████████████████████| 10/10 [00:00<00:00, 22.42it/s]\n",
            "Round75: User5_1: 100%|█████████████████████████████████████████████| 10/10 [00:00<00:00, 24.17it/s]\n",
            "Round75: User7_1: 100%|█████████████████████████████████████████████| 10/10 [00:00<00:00, 22.34it/s]\n",
            "Round75: User11_1: 100%|████████████████████████████████████████████| 10/10 [00:00<00:00, 24.56it/s]\n",
            "Round75: User6_1: 100%|█████████████████████████████████████████████| 10/10 [00:00<00:00, 24.97it/s]\n",
            "Round75: User12_1: 100%|████████████████████████████████████████████| 10/10 [00:00<00:00, 22.91it/s]\n",
            "Round75: User8_1: 100%|█████████████████████████████████████████████| 10/10 [00:00<00:00, 25.80it/s]\n",
            "Round75: User1_1: 100%|█████████████████████████████████████████████| 10/10 [00:00<00:00, 24.12it/s]\n",
            "Round75: User14_1: 100%|████████████████████████████████████████████| 10/10 [00:00<00:00, 24.48it/s]\n",
            "Round75: User3_1: 100%|█████████████████████████████████████████████| 10/10 [00:00<00:00, 25.47it/s]\n",
            "Round75: User13_1: 100%|████████████████████████████████████████████| 10/10 [00:00<00:00, 23.23it/s]\n"
          ]
        },
        {
          "output_type": "stream",
          "name": "stdout",
          "text": [
            "client:9 train_acc: 49.20%, train_loss: 0.2675\n",
            "client:2 train_acc: 49.80%, train_loss: 0.5423\n",
            "client:4 train_acc: 49.30%, train_loss: 0.8196\n",
            "client:10 train_acc: 49.12%, train_loss: 1.0990\n",
            "client:0 train_acc: 49.44%, train_loss: 1.3718\n",
            "client:5 train_acc: 49.42%, train_loss: 1.6462\n",
            "client:7 train_acc: 49.57%, train_loss: 1.9226\n",
            "client:11 train_acc: 49.70%, train_loss: 2.2057\n",
            "client:6 train_acc: 49.56%, train_loss: 2.4873\n",
            "client:12 train_acc: 49.51%, train_loss: 2.7657\n",
            "client:8 train_acc: 49.45%, train_loss: 3.0448\n",
            "client:1 train_acc: 49.38%, train_loss: 3.3258\n",
            "client:14 train_acc: 49.28%, train_loss: 3.6110\n",
            "client:3 train_acc: 49.27%, train_loss: 3.8905\n",
            "client:13 train_acc: 49.32%, train_loss: 4.1627\n",
            "Test set: Average loss: 3.2386, Accuracy: 661/10000 (6.61%)\n"
          ]
        },
        {
          "output_type": "stream",
          "name": "stderr",
          "text": [
            "Round76: User3_1: 100%|█████████████████████████████████████████████| 10/10 [00:00<00:00, 26.25it/s]\n",
            "Round76: User13_1: 100%|████████████████████████████████████████████| 10/10 [00:00<00:00, 22.79it/s]\n",
            "Round76: User12_1: 100%|████████████████████████████████████████████| 10/10 [00:00<00:00, 23.88it/s]\n",
            "Round76: User11_1: 100%|████████████████████████████████████████████| 10/10 [00:00<00:00, 22.63it/s]\n",
            "Round76: User14_1: 100%|████████████████████████████████████████████| 10/10 [00:00<00:00, 18.13it/s]\n",
            "Round76: User5_1: 100%|█████████████████████████████████████████████| 10/10 [00:00<00:00, 16.57it/s]\n",
            "Round76: User2_1: 100%|█████████████████████████████████████████████| 10/10 [00:00<00:00, 17.82it/s]\n",
            "Round76: User6_1: 100%|█████████████████████████████████████████████| 10/10 [00:00<00:00, 15.84it/s]\n",
            "Round76: User8_1: 100%|█████████████████████████████████████████████| 10/10 [00:00<00:00, 25.01it/s]\n",
            "Round76: User7_1: 100%|█████████████████████████████████████████████| 10/10 [00:00<00:00, 21.36it/s]\n",
            "Round76: User9_1: 100%|█████████████████████████████████████████████| 10/10 [00:00<00:00, 25.73it/s]\n",
            "Round76: User4_1: 100%|█████████████████████████████████████████████| 10/10 [00:00<00:00, 24.41it/s]\n",
            "Round76: User0_1: 100%|█████████████████████████████████████████████| 10/10 [00:00<00:00, 23.14it/s]\n",
            "Round76: User10_1: 100%|████████████████████████████████████████████| 10/10 [00:00<00:00, 23.99it/s]\n",
            "Round76: User1_1: 100%|█████████████████████████████████████████████| 10/10 [00:00<00:00, 23.93it/s]\n"
          ]
        },
        {
          "output_type": "stream",
          "name": "stdout",
          "text": [
            "client:3 train_acc: 50.30%, train_loss: 0.2783\n",
            "client:13 train_acc: 50.90%, train_loss: 0.5491\n",
            "client:12 train_acc: 50.40%, train_loss: 0.8257\n",
            "client:11 train_acc: 50.50%, train_loss: 1.1071\n",
            "client:14 train_acc: 50.24%, train_loss: 1.3914\n",
            "client:5 train_acc: 49.95%, train_loss: 1.6646\n",
            "client:2 train_acc: 50.00%, train_loss: 1.9385\n",
            "client:6 train_acc: 49.98%, train_loss: 2.2183\n",
            "client:8 train_acc: 49.92%, train_loss: 2.4957\n",
            "client:7 train_acc: 49.84%, train_loss: 2.7720\n",
            "client:9 train_acc: 49.77%, train_loss: 3.0388\n",
            "client:4 train_acc: 49.64%, train_loss: 3.3166\n",
            "client:0 train_acc: 49.69%, train_loss: 3.5899\n",
            "client:10 train_acc: 49.58%, train_loss: 3.8674\n",
            "client:1 train_acc: 49.55%, train_loss: 4.1464\n",
            "Test set: Average loss: 3.2534, Accuracy: 649/10000 (6.49%)\n"
          ]
        },
        {
          "output_type": "stream",
          "name": "stderr",
          "text": [
            "Round77: User5_1: 100%|█████████████████████████████████████████████| 10/10 [00:00<00:00, 24.05it/s]\n",
            "Round77: User13_1: 100%|████████████████████████████████████████████| 10/10 [00:00<00:00, 25.96it/s]\n",
            "Round77: User2_1: 100%|█████████████████████████████████████████████| 10/10 [00:00<00:00, 22.09it/s]\n",
            "Round77: User7_1: 100%|█████████████████████████████████████████████| 10/10 [00:00<00:00, 25.21it/s]\n",
            "Round77: User4_1: 100%|█████████████████████████████████████████████| 10/10 [00:00<00:00, 24.44it/s]\n",
            "Round77: User6_1: 100%|█████████████████████████████████████████████| 10/10 [00:00<00:00, 23.03it/s]\n",
            "Round77: User8_1: 100%|█████████████████████████████████████████████| 10/10 [00:00<00:00, 22.47it/s]\n",
            "Round77: User10_1: 100%|████████████████████████████████████████████| 10/10 [00:00<00:00, 24.59it/s]\n",
            "Round77: User12_1: 100%|████████████████████████████████████████████| 10/10 [00:00<00:00, 24.42it/s]\n",
            "Round77: User11_1: 100%|████████████████████████████████████████████| 10/10 [00:00<00:00, 22.91it/s]\n",
            "Round77: User1_1: 100%|█████████████████████████████████████████████| 10/10 [00:00<00:00, 24.88it/s]\n",
            "Round77: User9_1: 100%|█████████████████████████████████████████████| 10/10 [00:00<00:00, 23.84it/s]\n",
            "Round77: User0_1: 100%|█████████████████████████████████████████████| 10/10 [00:00<00:00, 24.88it/s]\n",
            "Round77: User14_1: 100%|████████████████████████████████████████████| 10/10 [00:00<00:00, 24.09it/s]\n",
            "Round77: User3_1: 100%|█████████████████████████████████████████████| 10/10 [00:00<00:00, 23.41it/s]\n"
          ]
        },
        {
          "output_type": "stream",
          "name": "stdout",
          "text": [
            "client:5 train_acc: 48.90%, train_loss: 0.2732\n",
            "client:13 train_acc: 50.00%, train_loss: 0.5434\n",
            "client:2 train_acc: 50.20%, train_loss: 0.8172\n",
            "client:7 train_acc: 50.05%, train_loss: 1.0933\n",
            "client:4 train_acc: 49.74%, train_loss: 1.3686\n",
            "client:6 train_acc: 49.67%, train_loss: 1.6494\n",
            "client:8 train_acc: 49.71%, train_loss: 1.9258\n",
            "client:10 train_acc: 49.65%, train_loss: 2.2027\n",
            "client:12 train_acc: 49.59%, train_loss: 2.4799\n",
            "client:11 train_acc: 49.75%, train_loss: 2.7613\n",
            "client:1 train_acc: 49.75%, train_loss: 3.0404\n",
            "client:9 train_acc: 49.73%, train_loss: 3.3069\n",
            "client:0 train_acc: 49.83%, train_loss: 3.5798\n",
            "client:14 train_acc: 49.77%, train_loss: 3.8637\n",
            "client:3 train_acc: 49.77%, train_loss: 4.1422\n",
            "Test set: Average loss: 3.2344, Accuracy: 687/10000 (6.87%)\n"
          ]
        },
        {
          "output_type": "stream",
          "name": "stderr",
          "text": [
            "Round78: User14_1: 100%|████████████████████████████████████████████| 10/10 [00:00<00:00, 22.48it/s]\n",
            "Round78: User10_1: 100%|████████████████████████████████████████████| 10/10 [00:00<00:00, 24.79it/s]\n",
            "Round78: User6_1: 100%|█████████████████████████████████████████████| 10/10 [00:00<00:00, 25.13it/s]\n",
            "Round78: User7_1: 100%|█████████████████████████████████████████████| 10/10 [00:00<00:00, 22.77it/s]\n",
            "Round78: User11_1: 100%|████████████████████████████████████████████| 10/10 [00:00<00:00, 24.60it/s]\n",
            "Round78: User0_1: 100%|█████████████████████████████████████████████| 10/10 [00:00<00:00, 23.49it/s]\n",
            "Round78: User1_1: 100%|█████████████████████████████████████████████| 10/10 [00:00<00:00, 22.72it/s]\n",
            "Round78: User9_1: 100%|█████████████████████████████████████████████| 10/10 [00:00<00:00, 21.20it/s]\n",
            "Round78: User8_1: 100%|█████████████████████████████████████████████| 10/10 [00:00<00:00, 16.34it/s]\n",
            "Round78: User2_1: 100%|█████████████████████████████████████████████| 10/10 [00:00<00:00, 16.95it/s]\n",
            "Round78: User3_1: 100%|█████████████████████████████████████████████| 10/10 [00:00<00:00, 17.50it/s]\n",
            "Round78: User5_1: 100%|█████████████████████████████████████████████| 10/10 [00:00<00:00, 18.84it/s]\n",
            "Round78: User13_1: 100%|████████████████████████████████████████████| 10/10 [00:00<00:00, 24.42it/s]\n",
            "Round78: User4_1: 100%|█████████████████████████████████████████████| 10/10 [00:00<00:00, 25.61it/s]\n",
            "Round78: User12_1: 100%|████████████████████████████████████████████| 10/10 [00:00<00:00, 21.68it/s]\n"
          ]
        },
        {
          "output_type": "stream",
          "name": "stdout",
          "text": [
            "client:14 train_acc: 48.90%, train_loss: 0.2832\n",
            "client:10 train_acc: 48.85%, train_loss: 0.5589\n",
            "client:6 train_acc: 49.33%, train_loss: 0.8371\n",
            "client:7 train_acc: 49.50%, train_loss: 1.1118\n",
            "client:11 train_acc: 49.80%, train_loss: 1.3929\n",
            "client:0 train_acc: 49.97%, train_loss: 1.6643\n",
            "client:1 train_acc: 49.94%, train_loss: 1.9421\n",
            "client:9 train_acc: 49.88%, train_loss: 2.2065\n",
            "client:8 train_acc: 49.88%, train_loss: 2.4816\n",
            "client:2 train_acc: 49.92%, train_loss: 2.7543\n",
            "client:3 train_acc: 49.99%, train_loss: 3.0307\n",
            "client:5 train_acc: 49.90%, train_loss: 3.3025\n",
            "client:13 train_acc: 50.02%, train_loss: 3.5717\n",
            "client:4 train_acc: 49.89%, train_loss: 3.8472\n",
            "client:12 train_acc: 49.80%, train_loss: 4.1243\n",
            "Test set: Average loss: 3.2753, Accuracy: 652/10000 (6.52%)\n"
          ]
        },
        {
          "output_type": "stream",
          "name": "stderr",
          "text": [
            "Round79: User8_1: 100%|█████████████████████████████████████████████| 10/10 [00:00<00:00, 23.53it/s]\n",
            "Round79: User4_1: 100%|█████████████████████████████████████████████| 10/10 [00:00<00:00, 22.90it/s]\n",
            "Round79: User5_1: 100%|█████████████████████████████████████████████| 10/10 [00:00<00:00, 24.24it/s]\n",
            "Round79: User12_1: 100%|████████████████████████████████████████████| 10/10 [00:00<00:00, 22.28it/s]\n",
            "Round79: User14_1: 100%|████████████████████████████████████████████| 10/10 [00:00<00:00, 23.42it/s]\n",
            "Round79: User10_1: 100%|████████████████████████████████████████████| 10/10 [00:00<00:00, 24.67it/s]\n",
            "Round79: User7_1: 100%|█████████████████████████████████████████████| 10/10 [00:00<00:00, 23.12it/s]\n",
            "Round79: User13_1: 100%|████████████████████████████████████████████| 10/10 [00:00<00:00, 24.07it/s]\n",
            "Round79: User0_1: 100%|█████████████████████████████████████████████| 10/10 [00:00<00:00, 22.18it/s]\n",
            "Round79: User3_1: 100%|█████████████████████████████████████████████| 10/10 [00:00<00:00, 23.37it/s]\n",
            "Round79: User6_1: 100%|█████████████████████████████████████████████| 10/10 [00:00<00:00, 25.56it/s]\n",
            "Round79: User11_1: 100%|████████████████████████████████████████████| 10/10 [00:00<00:00, 23.47it/s]\n",
            "Round79: User1_1: 100%|█████████████████████████████████████████████| 10/10 [00:00<00:00, 25.12it/s]\n",
            "Round79: User2_1: 100%|█████████████████████████████████████████████| 10/10 [00:00<00:00, 25.06it/s]\n",
            "Round79: User9_1: 100%|█████████████████████████████████████████████| 10/10 [00:00<00:00, 22.94it/s]\n"
          ]
        },
        {
          "output_type": "stream",
          "name": "stdout",
          "text": [
            "client:8 train_acc: 50.40%, train_loss: 0.2750\n",
            "client:4 train_acc: 49.65%, train_loss: 0.5495\n",
            "client:5 train_acc: 49.03%, train_loss: 0.8212\n",
            "client:12 train_acc: 49.18%, train_loss: 1.0960\n",
            "client:14 train_acc: 49.12%, train_loss: 1.3780\n",
            "client:10 train_acc: 49.13%, train_loss: 1.6534\n",
            "client:7 train_acc: 49.20%, train_loss: 1.9276\n",
            "client:13 train_acc: 49.46%, train_loss: 2.1955\n",
            "client:0 train_acc: 49.54%, train_loss: 2.4675\n",
            "client:3 train_acc: 49.69%, train_loss: 2.7435\n",
            "client:6 train_acc: 49.73%, train_loss: 3.0221\n",
            "client:11 train_acc: 49.88%, train_loss: 3.3016\n",
            "client:1 train_acc: 49.88%, train_loss: 3.5785\n",
            "client:2 train_acc: 49.98%, train_loss: 3.8494\n",
            "client:9 train_acc: 49.98%, train_loss: 4.1154\n",
            "Test set: Average loss: 3.2382, Accuracy: 661/10000 (6.61%)\n"
          ]
        },
        {
          "output_type": "stream",
          "name": "stderr",
          "text": [
            "Round80: User12_1: 100%|████████████████████████████████████████████| 10/10 [00:00<00:00, 22.50it/s]\n",
            "Round80: User10_1: 100%|████████████████████████████████████████████| 10/10 [00:00<00:00, 24.49it/s]\n",
            "Round80: User3_1: 100%|█████████████████████████████████████████████| 10/10 [00:00<00:00, 24.63it/s]\n",
            "Round80: User14_1: 100%|████████████████████████████████████████████| 10/10 [00:00<00:00, 22.88it/s]\n",
            "Round80: User5_1: 100%|█████████████████████████████████████████████| 10/10 [00:00<00:00, 24.39it/s]\n",
            "Round80: User7_1: 100%|█████████████████████████████████████████████| 10/10 [00:00<00:00, 24.43it/s]\n",
            "Round80: User6_1: 100%|█████████████████████████████████████████████| 10/10 [00:00<00:00, 23.63it/s]\n",
            "Round80: User9_1: 100%|█████████████████████████████████████████████| 10/10 [00:00<00:00, 24.11it/s]\n",
            "Round80: User11_1: 100%|████████████████████████████████████████████| 10/10 [00:00<00:00, 23.12it/s]\n",
            "Round80: User4_1: 100%|█████████████████████████████████████████████| 10/10 [00:00<00:00, 22.85it/s]\n",
            "Round80: User1_1: 100%|█████████████████████████████████████████████| 10/10 [00:00<00:00, 23.32it/s]\n",
            "Round80: User0_1: 100%|█████████████████████████████████████████████| 10/10 [00:00<00:00, 16.41it/s]\n",
            "Round80: User8_1: 100%|█████████████████████████████████████████████| 10/10 [00:00<00:00, 16.91it/s]\n",
            "Round80: User2_1: 100%|█████████████████████████████████████████████| 10/10 [00:00<00:00, 17.48it/s]\n",
            "Round80: User13_1: 100%|████████████████████████████████████████████| 10/10 [00:00<00:00, 17.05it/s]\n"
          ]
        },
        {
          "output_type": "stream",
          "name": "stdout",
          "text": [
            "client:12 train_acc: 49.40%, train_loss: 0.2746\n",
            "client:10 train_acc: 49.35%, train_loss: 0.5496\n",
            "client:3 train_acc: 49.83%, train_loss: 0.8249\n",
            "client:14 train_acc: 49.80%, train_loss: 1.1065\n",
            "client:5 train_acc: 49.70%, train_loss: 1.3767\n",
            "client:7 train_acc: 49.73%, train_loss: 1.6497\n",
            "client:6 train_acc: 49.74%, train_loss: 1.9268\n",
            "client:9 train_acc: 49.86%, train_loss: 2.1901\n",
            "client:11 train_acc: 50.02%, train_loss: 2.4688\n",
            "client:4 train_acc: 49.88%, train_loss: 2.7426\n",
            "client:1 train_acc: 49.88%, train_loss: 3.0186\n",
            "client:0 train_acc: 49.98%, train_loss: 3.2896\n",
            "client:8 train_acc: 49.98%, train_loss: 3.5646\n",
            "client:2 train_acc: 50.06%, train_loss: 3.8349\n",
            "client:13 train_acc: 50.15%, train_loss: 4.1031\n",
            "Test set: Average loss: 3.2703, Accuracy: 672/10000 (6.72%)\n"
          ]
        },
        {
          "output_type": "stream",
          "name": "stderr",
          "text": [
            "Round81: User1_1: 100%|█████████████████████████████████████████████| 10/10 [00:00<00:00, 16.34it/s]\n",
            "Round81: User0_1: 100%|█████████████████████████████████████████████| 10/10 [00:00<00:00, 17.38it/s]\n",
            "Round81: User9_1: 100%|█████████████████████████████████████████████| 10/10 [00:00<00:00, 17.47it/s]\n",
            "Round81: User2_1: 100%|█████████████████████████████████████████████| 10/10 [00:00<00:00, 20.35it/s]\n",
            "Round81: User6_1: 100%|█████████████████████████████████████████████| 10/10 [00:00<00:00, 25.48it/s]\n",
            "Round81: User13_1: 100%|████████████████████████████████████████████| 10/10 [00:00<00:00, 23.56it/s]\n",
            "Round81: User11_1: 100%|████████████████████████████████████████████| 10/10 [00:00<00:00, 23.11it/s]\n",
            "Round81: User5_1: 100%|█████████████████████████████████████████████| 10/10 [00:00<00:00, 19.87it/s]\n",
            "Round81: User7_1: 100%|█████████████████████████████████████████████| 10/10 [00:00<00:00, 25.06it/s]\n",
            "Round81: User8_1: 100%|█████████████████████████████████████████████| 10/10 [00:00<00:00, 22.64it/s]\n",
            "Round81: User14_1: 100%|████████████████████████████████████████████| 10/10 [00:00<00:00, 23.48it/s]\n",
            "Round81: User10_1: 100%|████████████████████████████████████████████| 10/10 [00:00<00:00, 24.97it/s]\n",
            "Round81: User12_1: 100%|████████████████████████████████████████████| 10/10 [00:00<00:00, 22.06it/s]\n",
            "Round81: User4_1: 100%|█████████████████████████████████████████████| 10/10 [00:00<00:00, 25.87it/s]\n",
            "Round81: User3_1: 100%|█████████████████████████████████████████████| 10/10 [00:00<00:00, 21.77it/s]\n"
          ]
        },
        {
          "output_type": "stream",
          "name": "stdout",
          "text": [
            "client:1 train_acc: 50.50%, train_loss: 0.2747\n",
            "client:0 train_acc: 50.70%, train_loss: 0.5454\n",
            "client:9 train_acc: 50.43%, train_loss: 0.8083\n",
            "client:2 train_acc: 50.65%, train_loss: 1.0778\n",
            "client:6 train_acc: 50.76%, train_loss: 1.3535\n",
            "client:13 train_acc: 51.03%, train_loss: 1.6201\n",
            "client:11 train_acc: 51.14%, train_loss: 1.8979\n",
            "client:5 train_acc: 50.88%, train_loss: 2.1678\n",
            "client:7 train_acc: 50.83%, train_loss: 2.4406\n",
            "client:8 train_acc: 50.75%, train_loss: 2.7142\n",
            "client:14 train_acc: 50.68%, train_loss: 2.9948\n",
            "client:10 train_acc: 50.59%, train_loss: 3.2686\n",
            "client:12 train_acc: 50.56%, train_loss: 3.5418\n",
            "client:4 train_acc: 50.46%, train_loss: 3.8155\n",
            "client:3 train_acc: 50.50%, train_loss: 4.0901\n",
            "Test set: Average loss: 3.2766, Accuracy: 652/10000 (6.52%)\n"
          ]
        },
        {
          "output_type": "stream",
          "name": "stderr",
          "text": [
            "Round82: User7_1: 100%|█████████████████████████████████████████████| 10/10 [00:00<00:00, 24.56it/s]\n",
            "Round82: User4_1: 100%|█████████████████████████████████████████████| 10/10 [00:00<00:00, 23.60it/s]\n",
            "Round82: User1_1: 100%|█████████████████████████████████████████████| 10/10 [00:00<00:00, 24.41it/s]\n",
            "Round82: User11_1: 100%|████████████████████████████████████████████| 10/10 [00:00<00:00, 24.68it/s]\n",
            "Round82: User6_1: 100%|█████████████████████████████████████████████| 10/10 [00:00<00:00, 23.55it/s]\n",
            "Round82: User13_1: 100%|████████████████████████████████████████████| 10/10 [00:00<00:00, 24.44it/s]\n",
            "Round82: User14_1: 100%|████████████████████████████████████████████| 10/10 [00:00<00:00, 21.10it/s]\n",
            "Round82: User2_1: 100%|█████████████████████████████████████████████| 10/10 [00:00<00:00, 24.01it/s]\n",
            "Round82: User3_1: 100%|█████████████████████████████████████████████| 10/10 [00:00<00:00, 25.23it/s]\n",
            "Round82: User8_1: 100%|█████████████████████████████████████████████| 10/10 [00:00<00:00, 24.41it/s]\n",
            "Round82: User10_1: 100%|████████████████████████████████████████████| 10/10 [00:00<00:00, 23.82it/s]\n",
            "Round82: User5_1: 100%|█████████████████████████████████████████████| 10/10 [00:00<00:00, 24.01it/s]\n",
            "Round82: User12_1: 100%|████████████████████████████████████████████| 10/10 [00:00<00:00, 22.19it/s]\n",
            "Round82: User9_1: 100%|█████████████████████████████████████████████| 10/10 [00:00<00:00, 24.29it/s]\n",
            "Round82: User0_1: 100%|█████████████████████████████████████████████| 10/10 [00:00<00:00, 16.34it/s]\n"
          ]
        },
        {
          "output_type": "stream",
          "name": "stdout",
          "text": [
            "client:7 train_acc: 49.50%, train_loss: 0.2726\n",
            "client:4 train_acc: 49.65%, train_loss: 0.5450\n",
            "client:1 train_acc: 49.90%, train_loss: 0.8187\n",
            "client:11 train_acc: 50.38%, train_loss: 1.0959\n",
            "client:6 train_acc: 50.54%, train_loss: 1.3716\n",
            "client:13 train_acc: 50.88%, train_loss: 1.6364\n",
            "client:14 train_acc: 50.71%, train_loss: 1.9163\n",
            "client:2 train_acc: 50.84%, train_loss: 2.1851\n",
            "client:3 train_acc: 50.87%, train_loss: 2.4584\n",
            "client:8 train_acc: 50.80%, train_loss: 2.7316\n",
            "client:10 train_acc: 50.68%, train_loss: 3.0049\n",
            "client:5 train_acc: 50.57%, train_loss: 3.2744\n",
            "client:12 train_acc: 50.49%, train_loss: 3.5472\n",
            "client:9 train_acc: 50.50%, train_loss: 3.8104\n",
            "client:0 train_acc: 50.51%, train_loss: 4.0811\n",
            "Test set: Average loss: 3.2900, Accuracy: 677/10000 (6.77%)\n"
          ]
        },
        {
          "output_type": "stream",
          "name": "stderr",
          "text": [
            "Round83: User3_1: 100%|█████████████████████████████████████████████| 10/10 [00:00<00:00, 23.38it/s]\n",
            "Round83: User8_1: 100%|█████████████████████████████████████████████| 10/10 [00:00<00:00, 25.01it/s]\n",
            "Round83: User11_1: 100%|████████████████████████████████████████████| 10/10 [00:00<00:00, 20.99it/s]\n",
            "Round83: User1_1: 100%|█████████████████████████████████████████████| 10/10 [00:00<00:00, 17.20it/s]\n",
            "Round83: User2_1: 100%|█████████████████████████████████████████████| 10/10 [00:00<00:00, 15.52it/s]\n",
            "Round83: User9_1: 100%|█████████████████████████████████████████████| 10/10 [00:00<00:00, 17.33it/s]\n",
            "Round83: User10_1: 100%|████████████████████████████████████████████| 10/10 [00:00<00:00, 18.31it/s]\n",
            "Round83: User13_1: 100%|████████████████████████████████████████████| 10/10 [00:00<00:00, 25.97it/s]\n",
            "Round83: User7_1: 100%|█████████████████████████████████████████████| 10/10 [00:00<00:00, 22.78it/s]\n",
            "Round83: User5_1: 100%|█████████████████████████████████████████████| 10/10 [00:00<00:00, 20.80it/s]\n",
            "Round83: User4_1: 100%|█████████████████████████████████████████████| 10/10 [00:00<00:00, 23.40it/s]\n",
            "Round83: User14_1: 100%|████████████████████████████████████████████| 10/10 [00:00<00:00, 23.75it/s]\n",
            "Round83: User0_1: 100%|█████████████████████████████████████████████| 10/10 [00:00<00:00, 24.71it/s]\n",
            "Round83: User12_1: 100%|████████████████████████████████████████████| 10/10 [00:00<00:00, 23.61it/s]\n",
            "Round83: User6_1: 100%|█████████████████████████████████████████████| 10/10 [00:00<00:00, 25.47it/s]\n"
          ]
        },
        {
          "output_type": "stream",
          "name": "stdout",
          "text": [
            "client:3 train_acc: 51.80%, train_loss: 0.2734\n",
            "client:8 train_acc: 51.25%, train_loss: 0.5468\n",
            "client:11 train_acc: 51.33%, train_loss: 0.8235\n",
            "client:1 train_acc: 51.20%, train_loss: 1.0965\n",
            "client:2 train_acc: 51.24%, train_loss: 1.3641\n",
            "client:9 train_acc: 51.23%, train_loss: 1.6265\n",
            "client:10 train_acc: 51.03%, train_loss: 1.9003\n",
            "client:13 train_acc: 51.18%, train_loss: 2.1660\n",
            "client:7 train_acc: 51.13%, train_loss: 2.4366\n",
            "client:5 train_acc: 50.88%, train_loss: 2.7056\n",
            "client:4 train_acc: 50.85%, train_loss: 2.9790\n",
            "client:14 train_acc: 50.72%, train_loss: 3.2592\n",
            "client:0 train_acc: 50.75%, train_loss: 3.5278\n",
            "client:12 train_acc: 50.74%, train_loss: 3.7998\n",
            "client:6 train_acc: 50.67%, train_loss: 4.0750\n",
            "Test set: Average loss: 3.2509, Accuracy: 665/10000 (6.65%)\n"
          ]
        },
        {
          "output_type": "stream",
          "name": "stderr",
          "text": [
            "Round84: User4_1: 100%|█████████████████████████████████████████████| 10/10 [00:00<00:00, 24.82it/s]\n",
            "Round84: User11_1: 100%|████████████████████████████████████████████| 10/10 [00:00<00:00, 23.70it/s]\n",
            "Round84: User14_1: 100%|████████████████████████████████████████████| 10/10 [00:00<00:00, 24.11it/s]\n",
            "Round84: User8_1: 100%|█████████████████████████████████████████████| 10/10 [00:00<00:00, 25.67it/s]\n",
            "Round84: User10_1: 100%|████████████████████████████████████████████| 10/10 [00:00<00:00, 23.24it/s]\n",
            "Round84: User0_1: 100%|█████████████████████████████████████████████| 10/10 [00:00<00:00, 24.18it/s]\n",
            "Round84: User6_1: 100%|█████████████████████████████████████████████| 10/10 [00:00<00:00, 24.49it/s]\n",
            "Round84: User5_1: 100%|█████████████████████████████████████████████| 10/10 [00:00<00:00, 23.37it/s]\n",
            "Round84: User12_1: 100%|████████████████████████████████████████████| 10/10 [00:00<00:00, 20.58it/s]\n",
            "Round84: User3_1: 100%|█████████████████████████████████████████████| 10/10 [00:00<00:00, 24.17it/s]\n",
            "Round84: User7_1: 100%|█████████████████████████████████████████████| 10/10 [00:00<00:00, 24.63it/s]\n",
            "Round84: User2_1: 100%|█████████████████████████████████████████████| 10/10 [00:00<00:00, 25.24it/s]\n",
            "Round84: User13_1: 100%|████████████████████████████████████████████| 10/10 [00:00<00:00, 24.18it/s]\n",
            "Round84: User9_1: 100%|█████████████████████████████████████████████| 10/10 [00:00<00:00, 24.51it/s]\n",
            "Round84: User1_1: 100%|█████████████████████████████████████████████| 10/10 [00:00<00:00, 24.29it/s]\n"
          ]
        },
        {
          "output_type": "stream",
          "name": "stdout",
          "text": [
            "client:4 train_acc: 50.50%, train_loss: 0.2711\n",
            "client:11 train_acc: 51.55%, train_loss: 0.5474\n",
            "client:14 train_acc: 51.17%, train_loss: 0.8257\n",
            "client:8 train_acc: 51.02%, train_loss: 1.0971\n",
            "client:10 train_acc: 50.92%, train_loss: 1.3691\n",
            "client:0 train_acc: 50.92%, train_loss: 1.6366\n",
            "client:6 train_acc: 50.96%, train_loss: 1.9102\n",
            "client:5 train_acc: 50.71%, train_loss: 2.1776\n",
            "client:12 train_acc: 50.67%, train_loss: 2.4493\n",
            "client:3 train_acc: 50.72%, train_loss: 2.7219\n",
            "client:7 train_acc: 50.65%, train_loss: 2.9922\n",
            "client:2 train_acc: 50.75%, train_loss: 3.2593\n",
            "client:13 train_acc: 50.87%, train_loss: 3.5226\n",
            "client:9 train_acc: 50.84%, train_loss: 3.7837\n",
            "client:1 train_acc: 50.83%, train_loss: 4.0567\n",
            "Test set: Average loss: 3.2589, Accuracy: 667/10000 (6.67%)\n"
          ]
        },
        {
          "output_type": "stream",
          "name": "stderr",
          "text": [
            "Round85: User4_1: 100%|█████████████████████████████████████████████| 10/10 [00:00<00:00, 23.42it/s]\n",
            "Round85: User8_1: 100%|█████████████████████████████████████████████| 10/10 [00:00<00:00, 23.19it/s]\n",
            "Round85: User3_1: 100%|█████████████████████████████████████████████| 10/10 [00:00<00:00, 24.95it/s]\n",
            "Round85: User2_1: 100%|█████████████████████████████████████████████| 10/10 [00:00<00:00, 23.57it/s]\n",
            "Round85: User5_1: 100%|█████████████████████████████████████████████| 10/10 [00:00<00:00, 24.44it/s]\n",
            "Round85: User6_1: 100%|█████████████████████████████████████████████| 10/10 [00:00<00:00, 23.46it/s]\n",
            "Round85: User13_1: 100%|████████████████████████████████████████████| 10/10 [00:00<00:00, 18.03it/s]\n",
            "Round85: User12_1: 100%|████████████████████████████████████████████| 10/10 [00:00<00:00, 18.60it/s]\n",
            "Round85: User11_1: 100%|████████████████████████████████████████████| 10/10 [00:00<00:00, 17.66it/s]\n",
            "Round85: User0_1: 100%|█████████████████████████████████████████████| 10/10 [00:00<00:00, 17.37it/s]\n",
            "Round85: User9_1: 100%|█████████████████████████████████████████████| 10/10 [00:00<00:00, 22.51it/s]\n",
            "Round85: User10_1: 100%|████████████████████████████████████████████| 10/10 [00:00<00:00, 26.00it/s]\n",
            "Round85: User14_1: 100%|████████████████████████████████████████████| 10/10 [00:00<00:00, 23.54it/s]\n",
            "Round85: User7_1: 100%|█████████████████████████████████████████████| 10/10 [00:00<00:00, 24.90it/s]\n",
            "Round85: User1_1: 100%|█████████████████████████████████████████████| 10/10 [00:00<00:00, 22.21it/s]\n"
          ]
        },
        {
          "output_type": "stream",
          "name": "stdout",
          "text": [
            "client:4 train_acc: 50.00%, train_loss: 0.2721\n",
            "client:8 train_acc: 49.75%, train_loss: 0.5440\n",
            "client:3 train_acc: 50.37%, train_loss: 0.8161\n",
            "client:2 train_acc: 50.65%, train_loss: 1.0827\n",
            "client:5 train_acc: 50.38%, train_loss: 1.3499\n",
            "client:6 train_acc: 50.47%, train_loss: 1.6229\n",
            "client:13 train_acc: 50.79%, train_loss: 1.8864\n",
            "client:12 train_acc: 50.69%, train_loss: 2.1574\n",
            "client:11 train_acc: 50.92%, train_loss: 2.4324\n",
            "client:0 train_acc: 51.00%, train_loss: 2.6999\n",
            "client:9 train_acc: 50.96%, train_loss: 2.9608\n",
            "client:10 train_acc: 50.88%, train_loss: 3.2332\n",
            "client:14 train_acc: 50.82%, train_loss: 3.5114\n",
            "client:7 train_acc: 50.75%, train_loss: 3.7813\n",
            "client:1 train_acc: 50.68%, train_loss: 4.0536\n",
            "Test set: Average loss: 3.2334, Accuracy: 643/10000 (6.43%)\n"
          ]
        },
        {
          "output_type": "stream",
          "name": "stderr",
          "text": [
            "Round86: User2_1: 100%|█████████████████████████████████████████████| 10/10 [00:00<00:00, 24.89it/s]\n",
            "Round86: User1_1: 100%|█████████████████████████████████████████████| 10/10 [00:00<00:00, 23.20it/s]\n",
            "Round86: User7_1: 100%|█████████████████████████████████████████████| 10/10 [00:00<00:00, 24.89it/s]\n",
            "Round86: User12_1: 100%|████████████████████████████████████████████| 10/10 [00:00<00:00, 23.03it/s]\n",
            "Round86: User13_1: 100%|████████████████████████████████████████████| 10/10 [00:00<00:00, 24.64it/s]\n",
            "Round86: User3_1: 100%|█████████████████████████████████████████████| 10/10 [00:00<00:00, 25.55it/s]\n",
            "Round86: User10_1: 100%|████████████████████████████████████████████| 10/10 [00:00<00:00, 23.28it/s]\n",
            "Round86: User11_1: 100%|████████████████████████████████████████████| 10/10 [00:00<00:00, 23.74it/s]\n",
            "Round86: User5_1: 100%|█████████████████████████████████████████████| 10/10 [00:00<00:00, 24.49it/s]\n",
            "Round86: User6_1: 100%|█████████████████████████████████████████████| 10/10 [00:00<00:00, 23.79it/s]\n",
            "Round86: User4_1: 100%|█████████████████████████████████████████████| 10/10 [00:00<00:00, 24.91it/s]\n",
            "Round86: User9_1: 100%|█████████████████████████████████████████████| 10/10 [00:00<00:00, 24.25it/s]\n",
            "Round86: User8_1: 100%|█████████████████████████████████████████████| 10/10 [00:00<00:00, 23.16it/s]\n",
            "Round86: User14_1: 100%|████████████████████████████████████████████| 10/10 [00:00<00:00, 24.39it/s]\n",
            "Round86: User0_1: 100%|█████████████████████████████████████████████| 10/10 [00:00<00:00, 23.52it/s]\n"
          ]
        },
        {
          "output_type": "stream",
          "name": "stdout",
          "text": [
            "client:2 train_acc: 51.80%, train_loss: 0.2669\n",
            "client:1 train_acc: 51.70%, train_loss: 0.5391\n",
            "client:7 train_acc: 50.87%, train_loss: 0.8108\n",
            "client:12 train_acc: 50.85%, train_loss: 1.0821\n",
            "client:13 train_acc: 51.12%, train_loss: 1.3464\n",
            "client:3 train_acc: 51.28%, train_loss: 1.6194\n",
            "client:10 train_acc: 51.14%, train_loss: 1.8922\n",
            "client:11 train_acc: 51.24%, train_loss: 2.1676\n",
            "client:5 train_acc: 51.01%, train_loss: 2.4364\n",
            "client:6 train_acc: 50.94%, train_loss: 2.7102\n",
            "client:4 train_acc: 50.92%, train_loss: 2.9823\n",
            "client:9 train_acc: 50.97%, train_loss: 3.2441\n",
            "client:8 train_acc: 50.90%, train_loss: 3.5173\n",
            "client:14 train_acc: 50.81%, train_loss: 3.7964\n",
            "client:0 train_acc: 50.79%, train_loss: 4.0673\n",
            "Test set: Average loss: 3.2777, Accuracy: 672/10000 (6.72%)\n"
          ]
        },
        {
          "output_type": "stream",
          "name": "stderr",
          "text": [
            "Round87: User10_1: 100%|████████████████████████████████████████████| 10/10 [00:00<00:00, 23.89it/s]\n",
            "Round87: User0_1: 100%|█████████████████████████████████████████████| 10/10 [00:00<00:00, 22.63it/s]\n",
            "Round87: User14_1: 100%|████████████████████████████████████████████| 10/10 [00:00<00:00, 25.24it/s]\n",
            "Round87: User9_1: 100%|█████████████████████████████████████████████| 10/10 [00:00<00:00, 21.71it/s]\n",
            "Round87: User8_1: 100%|█████████████████████████████████████████████| 10/10 [00:00<00:00, 23.44it/s]\n",
            "Round87: User6_1: 100%|█████████████████████████████████████████████| 10/10 [00:00<00:00, 22.78it/s]\n",
            "Round87: User1_1: 100%|█████████████████████████████████████████████| 10/10 [00:00<00:00, 24.20it/s]\n",
            "Round87: User5_1: 100%|█████████████████████████████████████████████| 10/10 [00:00<00:00, 24.49it/s]\n",
            "Round87: User12_1: 100%|████████████████████████████████████████████| 10/10 [00:00<00:00, 21.89it/s]\n",
            "Round87: User4_1: 100%|█████████████████████████████████████████████| 10/10 [00:00<00:00, 18.77it/s]\n",
            "Round87: User3_1: 100%|█████████████████████████████████████████████| 10/10 [00:00<00:00, 17.66it/s]\n",
            "Round87: User13_1: 100%|████████████████████████████████████████████| 10/10 [00:00<00:00, 17.98it/s]\n",
            "Round87: User11_1: 100%|████████████████████████████████████████████| 10/10 [00:00<00:00, 16.96it/s]\n",
            "Round87: User2_1: 100%|█████████████████████████████████████████████| 10/10 [00:00<00:00, 18.93it/s]\n",
            "Round87: User7_1: 100%|█████████████████████████████████████████████| 10/10 [00:00<00:00, 24.55it/s]\n"
          ]
        },
        {
          "output_type": "stream",
          "name": "stdout",
          "text": [
            "client:10 train_acc: 48.20%, train_loss: 0.2737\n",
            "client:0 train_acc: 49.65%, train_loss: 0.5392\n",
            "client:14 train_acc: 49.53%, train_loss: 0.8183\n",
            "client:9 train_acc: 49.98%, train_loss: 1.0807\n",
            "client:8 train_acc: 50.16%, train_loss: 1.3534\n",
            "client:6 train_acc: 50.00%, train_loss: 1.6262\n",
            "client:1 train_acc: 50.01%, train_loss: 1.8975\n",
            "client:5 train_acc: 49.96%, train_loss: 2.1655\n",
            "client:12 train_acc: 49.93%, train_loss: 2.4379\n",
            "client:4 train_acc: 50.03%, train_loss: 2.7109\n",
            "client:3 train_acc: 50.13%, train_loss: 2.9842\n",
            "client:13 train_acc: 50.26%, train_loss: 3.2477\n",
            "client:11 train_acc: 50.32%, train_loss: 3.5243\n",
            "client:2 train_acc: 50.39%, train_loss: 3.7912\n",
            "client:7 train_acc: 50.43%, train_loss: 4.0608\n",
            "Test set: Average loss: 3.2135, Accuracy: 667/10000 (6.67%)\n"
          ]
        },
        {
          "output_type": "stream",
          "name": "stderr",
          "text": [
            "Round88: User4_1: 100%|█████████████████████████████████████████████| 10/10 [00:00<00:00, 17.07it/s]\n",
            "Round88: User14_1: 100%|████████████████████████████████████████████| 10/10 [00:00<00:00, 16.48it/s]\n",
            "Round88: User10_1: 100%|████████████████████████████████████████████| 10/10 [00:00<00:00, 23.35it/s]\n",
            "Round88: User9_1: 100%|█████████████████████████████████████████████| 10/10 [00:00<00:00, 22.66it/s]\n",
            "Round88: User7_1: 100%|█████████████████████████████████████████████| 10/10 [00:00<00:00, 24.21it/s]\n",
            "Round88: User11_1: 100%|████████████████████████████████████████████| 10/10 [00:00<00:00, 22.64it/s]\n",
            "Round88: User13_1: 100%|████████████████████████████████████████████| 10/10 [00:00<00:00, 24.38it/s]\n",
            "Round88: User5_1: 100%|█████████████████████████████████████████████| 10/10 [00:00<00:00, 22.72it/s]\n",
            "Round88: User12_1: 100%|████████████████████████████████████████████| 10/10 [00:00<00:00, 22.61it/s]\n",
            "Round88: User0_1: 100%|█████████████████████████████████████████████| 10/10 [00:00<00:00, 24.79it/s]\n",
            "Round88: User1_1: 100%|█████████████████████████████████████████████| 10/10 [00:00<00:00, 24.39it/s]\n",
            "Round88: User2_1: 100%|█████████████████████████████████████████████| 10/10 [00:00<00:00, 25.73it/s]\n",
            "Round88: User3_1: 100%|█████████████████████████████████████████████| 10/10 [00:00<00:00, 23.56it/s]\n",
            "Round88: User6_1: 100%|█████████████████████████████████████████████| 10/10 [00:00<00:00, 25.24it/s]\n",
            "Round88: User8_1: 100%|█████████████████████████████████████████████| 10/10 [00:00<00:00, 25.51it/s]\n"
          ]
        },
        {
          "output_type": "stream",
          "name": "stdout",
          "text": [
            "client:4 train_acc: 50.30%, train_loss: 0.2717\n",
            "client:14 train_acc: 50.35%, train_loss: 0.5499\n",
            "client:10 train_acc: 50.33%, train_loss: 0.8211\n",
            "client:9 train_acc: 50.72%, train_loss: 1.0816\n",
            "client:7 train_acc: 50.54%, train_loss: 1.3525\n",
            "client:11 train_acc: 50.92%, train_loss: 1.6274\n",
            "client:13 train_acc: 51.16%, train_loss: 1.8918\n",
            "client:5 train_acc: 50.92%, train_loss: 2.1595\n",
            "client:12 train_acc: 50.87%, train_loss: 2.4300\n",
            "client:0 train_acc: 50.88%, train_loss: 2.6994\n",
            "client:1 train_acc: 50.95%, train_loss: 2.9704\n",
            "client:2 train_acc: 51.02%, train_loss: 3.2368\n",
            "client:3 train_acc: 51.10%, train_loss: 3.5084\n",
            "client:6 train_acc: 51.11%, train_loss: 3.7808\n",
            "client:8 train_acc: 51.10%, train_loss: 4.0525\n",
            "Test set: Average loss: 3.2744, Accuracy: 690/10000 (6.90%)\n"
          ]
        },
        {
          "output_type": "stream",
          "name": "stderr",
          "text": [
            "Round89: User4_1: 100%|█████████████████████████████████████████████| 10/10 [00:00<00:00, 23.26it/s]\n",
            "Round89: User2_1: 100%|█████████████████████████████████████████████| 10/10 [00:00<00:00, 24.23it/s]\n",
            "Round89: User0_1: 100%|█████████████████████████████████████████████| 10/10 [00:00<00:00, 24.96it/s]\n",
            "Round89: User14_1: 100%|████████████████████████████████████████████| 10/10 [00:00<00:00, 23.38it/s]\n",
            "Round89: User11_1: 100%|████████████████████████████████████████████| 10/10 [00:00<00:00, 24.72it/s]\n",
            "Round89: User6_1: 100%|█████████████████████████████████████████████| 10/10 [00:00<00:00, 24.59it/s]\n",
            "Round89: User9_1: 100%|█████████████████████████████████████████████| 10/10 [00:00<00:00, 22.77it/s]\n",
            "Round89: User12_1: 100%|████████████████████████████████████████████| 10/10 [00:00<00:00, 24.76it/s]\n",
            "Round89: User8_1: 100%|█████████████████████████████████████████████| 10/10 [00:00<00:00, 22.96it/s]\n",
            "Round89: User10_1: 100%|████████████████████████████████████████████| 10/10 [00:00<00:00, 24.50it/s]\n",
            "Round89: User7_1: 100%|█████████████████████████████████████████████| 10/10 [00:00<00:00, 24.83it/s]\n",
            "Round89: User1_1: 100%|█████████████████████████████████████████████| 10/10 [00:00<00:00, 23.32it/s]\n",
            "Round89: User5_1: 100%|█████████████████████████████████████████████| 10/10 [00:00<00:00, 22.67it/s]\n",
            "Round89: User3_1: 100%|█████████████████████████████████████████████| 10/10 [00:00<00:00, 16.40it/s]\n",
            "Round89: User13_1: 100%|████████████████████████████████████████████| 10/10 [00:00<00:00, 18.60it/s]\n"
          ]
        },
        {
          "output_type": "stream",
          "name": "stdout",
          "text": [
            "client:4 train_acc: 50.50%, train_loss: 0.2698\n",
            "client:2 train_acc: 51.10%, train_loss: 0.5343\n",
            "client:0 train_acc: 51.33%, train_loss: 0.7992\n",
            "client:14 train_acc: 51.02%, train_loss: 1.0747\n",
            "client:11 train_acc: 51.46%, train_loss: 1.3473\n",
            "client:6 train_acc: 51.25%, train_loss: 1.6173\n",
            "client:9 train_acc: 51.31%, train_loss: 1.8763\n",
            "client:12 train_acc: 51.18%, train_loss: 2.1461\n",
            "client:8 train_acc: 51.08%, train_loss: 2.4169\n",
            "client:10 train_acc: 50.97%, train_loss: 2.6880\n",
            "client:7 train_acc: 50.91%, train_loss: 2.9561\n",
            "client:1 train_acc: 50.94%, train_loss: 3.2251\n",
            "client:5 train_acc: 50.87%, train_loss: 3.4910\n",
            "client:3 train_acc: 50.97%, train_loss: 3.7611\n",
            "client:13 train_acc: 51.06%, train_loss: 4.0225\n",
            "Test set: Average loss: 3.2233, Accuracy: 682/10000 (6.82%)\n"
          ]
        },
        {
          "output_type": "stream",
          "name": "stderr",
          "text": [
            "Round90: User11_1: 100%|████████████████████████████████████████████| 10/10 [00:00<00:00, 23.79it/s]\n",
            "Round90: User3_1: 100%|█████████████████████████████████████████████| 10/10 [00:00<00:00, 16.26it/s]\n",
            "Round90: User12_1: 100%|████████████████████████████████████████████| 10/10 [00:00<00:00, 17.53it/s]\n",
            "Round90: User9_1: 100%|█████████████████████████████████████████████| 10/10 [00:00<00:00, 16.77it/s]\n",
            "Round90: User1_1: 100%|█████████████████████████████████████████████| 10/10 [00:00<00:00, 17.51it/s]\n",
            "Round90: User0_1: 100%|█████████████████████████████████████████████| 10/10 [00:00<00:00, 22.22it/s]\n",
            "Round90: User6_1: 100%|█████████████████████████████████████████████| 10/10 [00:00<00:00, 25.04it/s]\n",
            "Round90: User4_1: 100%|█████████████████████████████████████████████| 10/10 [00:00<00:00, 24.46it/s]\n",
            "Round90: User5_1: 100%|█████████████████████████████████████████████| 10/10 [00:00<00:00, 22.38it/s]\n",
            "Round90: User14_1: 100%|████████████████████████████████████████████| 10/10 [00:00<00:00, 24.20it/s]\n",
            "Round90: User8_1: 100%|█████████████████████████████████████████████| 10/10 [00:00<00:00, 22.57it/s]\n",
            "Round90: User7_1: 100%|█████████████████████████████████████████████| 10/10 [00:00<00:00, 24.47it/s]\n",
            "Round90: User13_1: 100%|████████████████████████████████████████████| 10/10 [00:00<00:00, 23.88it/s]\n",
            "Round90: User2_1: 100%|█████████████████████████████████████████████| 10/10 [00:00<00:00, 23.62it/s]\n",
            "Round90: User10_1: 100%|████████████████████████████████████████████| 10/10 [00:00<00:00, 24.64it/s]\n"
          ]
        },
        {
          "output_type": "stream",
          "name": "stdout",
          "text": [
            "client:11 train_acc: 53.00%, train_loss: 0.2731\n",
            "client:3 train_acc: 52.40%, train_loss: 0.5435\n",
            "client:12 train_acc: 51.97%, train_loss: 0.8133\n",
            "client:9 train_acc: 51.85%, train_loss: 1.0716\n",
            "client:1 train_acc: 51.70%, train_loss: 1.3415\n",
            "client:0 train_acc: 51.73%, train_loss: 1.6061\n",
            "client:6 train_acc: 51.47%, train_loss: 1.8768\n",
            "client:4 train_acc: 51.25%, train_loss: 2.1472\n",
            "client:5 train_acc: 51.07%, train_loss: 2.4123\n",
            "client:14 train_acc: 51.01%, train_loss: 2.6880\n",
            "client:8 train_acc: 51.00%, train_loss: 2.9589\n",
            "client:7 train_acc: 51.04%, train_loss: 3.2255\n",
            "client:13 train_acc: 51.15%, train_loss: 3.4879\n",
            "client:2 train_acc: 51.19%, train_loss: 3.7528\n",
            "client:10 train_acc: 51.15%, train_loss: 4.0251\n",
            "Test set: Average loss: 3.2156, Accuracy: 712/10000 (7.12%)\n"
          ]
        },
        {
          "output_type": "stream",
          "name": "stderr",
          "text": [
            "Round91: User5_1: 100%|█████████████████████████████████████████████| 10/10 [00:00<00:00, 23.20it/s]\n",
            "Round91: User7_1: 100%|█████████████████████████████████████████████| 10/10 [00:00<00:00, 23.80it/s]\n",
            "Round91: User9_1: 100%|█████████████████████████████████████████████| 10/10 [00:00<00:00, 24.66it/s]\n",
            "Round91: User10_1: 100%|████████████████████████████████████████████| 10/10 [00:00<00:00, 23.05it/s]\n",
            "Round91: User1_1: 100%|█████████████████████████████████████████████| 10/10 [00:00<00:00, 24.50it/s]\n",
            "Round91: User3_1: 100%|█████████████████████████████████████████████| 10/10 [00:00<00:00, 22.56it/s]\n",
            "Round91: User0_1: 100%|█████████████████████████████████████████████| 10/10 [00:00<00:00, 24.30it/s]\n",
            "Round91: User12_1: 100%|████████████████████████████████████████████| 10/10 [00:00<00:00, 24.96it/s]\n",
            "Round91: User6_1: 100%|█████████████████████████████████████████████| 10/10 [00:00<00:00, 22.95it/s]\n",
            "Round91: User13_1: 100%|████████████████████████████████████████████| 10/10 [00:00<00:00, 24.31it/s]\n",
            "Round91: User2_1: 100%|█████████████████████████████████████████████| 10/10 [00:00<00:00, 24.03it/s]\n",
            "Round91: User4_1: 100%|█████████████████████████████████████████████| 10/10 [00:00<00:00, 22.78it/s]\n",
            "Round91: User8_1: 100%|█████████████████████████████████████████████| 10/10 [00:00<00:00, 23.66it/s]\n",
            "Round91: User11_1: 100%|████████████████████████████████████████████| 10/10 [00:00<00:00, 23.43it/s]\n",
            "Round91: User14_1: 100%|████████████████████████████████████████████| 10/10 [00:00<00:00, 23.10it/s]\n"
          ]
        },
        {
          "output_type": "stream",
          "name": "stdout",
          "text": [
            "client:5 train_acc: 50.30%, train_loss: 0.2664\n",
            "client:7 train_acc: 50.40%, train_loss: 0.5354\n",
            "client:9 train_acc: 50.70%, train_loss: 0.7946\n",
            "client:10 train_acc: 50.58%, train_loss: 1.0660\n",
            "client:1 train_acc: 50.82%, train_loss: 1.3360\n",
            "client:3 train_acc: 51.12%, train_loss: 1.6055\n",
            "client:0 train_acc: 51.19%, train_loss: 1.8728\n",
            "client:12 train_acc: 51.15%, train_loss: 2.1432\n",
            "client:6 train_acc: 51.17%, train_loss: 2.4152\n",
            "client:13 train_acc: 51.31%, train_loss: 2.6777\n",
            "client:2 train_acc: 51.33%, train_loss: 2.9433\n",
            "client:4 train_acc: 51.22%, train_loss: 3.2126\n",
            "client:8 train_acc: 51.18%, train_loss: 3.4839\n",
            "client:11 train_acc: 51.31%, train_loss: 3.7566\n",
            "client:14 train_acc: 51.27%, train_loss: 4.0332\n",
            "Test set: Average loss: 3.3142, Accuracy: 661/10000 (6.61%)\n"
          ]
        },
        {
          "output_type": "stream",
          "name": "stderr",
          "text": [
            "Round92: User2_1: 100%|█████████████████████████████████████████████| 10/10 [00:00<00:00, 23.40it/s]\n",
            "Round92: User14_1: 100%|████████████████████████████████████████████| 10/10 [00:00<00:00, 25.66it/s]\n",
            "Round92: User7_1: 100%|█████████████████████████████████████████████| 10/10 [00:00<00:00, 22.26it/s]\n",
            "Round92: User10_1: 100%|████████████████████████████████████████████| 10/10 [00:00<00:00, 18.57it/s]\n",
            "Round92: User11_1: 100%|████████████████████████████████████████████| 10/10 [00:00<00:00, 17.25it/s]\n",
            "Round92: User9_1: 100%|█████████████████████████████████████████████| 10/10 [00:00<00:00, 18.20it/s]\n",
            "Round92: User8_1: 100%|█████████████████████████████████████████████| 10/10 [00:00<00:00, 15.89it/s]\n",
            "Round92: User12_1: 100%|████████████████████████████████████████████| 10/10 [00:00<00:00, 22.36it/s]\n",
            "Round92: User4_1: 100%|█████████████████████████████████████████████| 10/10 [00:00<00:00, 22.73it/s]\n",
            "Round92: User6_1: 100%|█████████████████████████████████████████████| 10/10 [00:00<00:00, 23.59it/s]\n",
            "Round92: User0_1: 100%|█████████████████████████████████████████████| 10/10 [00:00<00:00, 23.05it/s]\n",
            "Round92: User5_1: 100%|█████████████████████████████████████████████| 10/10 [00:00<00:00, 23.33it/s]\n",
            "Round92: User3_1: 100%|█████████████████████████████████████████████| 10/10 [00:00<00:00, 25.07it/s]\n",
            "Round92: User13_1: 100%|████████████████████████████████████████████| 10/10 [00:00<00:00, 24.06it/s]\n",
            "Round92: User1_1: 100%|█████████████████████████████████████████████| 10/10 [00:00<00:00, 23.58it/s]\n"
          ]
        },
        {
          "output_type": "stream",
          "name": "stdout",
          "text": [
            "client:2 train_acc: 52.10%, train_loss: 0.2632\n",
            "client:14 train_acc: 51.85%, train_loss: 0.5371\n",
            "client:7 train_acc: 51.60%, train_loss: 0.8034\n",
            "client:10 train_acc: 51.32%, train_loss: 1.0725\n",
            "client:11 train_acc: 51.74%, train_loss: 1.3436\n",
            "client:9 train_acc: 51.83%, train_loss: 1.6006\n",
            "client:8 train_acc: 51.83%, train_loss: 1.8691\n",
            "client:12 train_acc: 51.75%, train_loss: 2.1370\n",
            "client:4 train_acc: 51.73%, train_loss: 2.4046\n",
            "client:6 train_acc: 51.70%, train_loss: 2.6738\n",
            "client:0 train_acc: 51.75%, train_loss: 2.9380\n",
            "client:5 train_acc: 51.64%, train_loss: 3.2017\n",
            "client:3 train_acc: 51.67%, train_loss: 3.4698\n",
            "client:13 train_acc: 51.82%, train_loss: 3.7301\n",
            "client:1 train_acc: 51.83%, train_loss: 3.9984\n",
            "Test set: Average loss: 3.2733, Accuracy: 685/10000 (6.85%)\n"
          ]
        },
        {
          "output_type": "stream",
          "name": "stderr",
          "text": [
            "Round93: User13_1: 100%|████████████████████████████████████████████| 10/10 [00:00<00:00, 22.53it/s]\n",
            "Round93: User6_1: 100%|█████████████████████████████████████████████| 10/10 [00:00<00:00, 24.36it/s]\n",
            "Round93: User0_1: 100%|█████████████████████████████████████████████| 10/10 [00:00<00:00, 24.14it/s]\n",
            "Round93: User5_1: 100%|█████████████████████████████████████████████| 10/10 [00:00<00:00, 21.82it/s]\n",
            "Round93: User9_1: 100%|█████████████████████████████████████████████| 10/10 [00:00<00:00, 23.40it/s]\n",
            "Round93: User3_1: 100%|█████████████████████████████████████████████| 10/10 [00:00<00:00, 21.59it/s]\n",
            "Round93: User2_1: 100%|█████████████████████████████████████████████| 10/10 [00:00<00:00, 23.84it/s]\n",
            "Round93: User1_1: 100%|█████████████████████████████████████████████| 10/10 [00:00<00:00, 25.56it/s]\n",
            "Round93: User12_1: 100%|████████████████████████████████████████████| 10/10 [00:00<00:00, 22.98it/s]\n",
            "Round93: User14_1: 100%|████████████████████████████████████████████| 10/10 [00:00<00:00, 22.80it/s]\n",
            "Round93: User10_1: 100%|████████████████████████████████████████████| 10/10 [00:00<00:00, 23.03it/s]\n",
            "Round93: User7_1: 100%|█████████████████████████████████████████████| 10/10 [00:00<00:00, 24.20it/s]\n",
            "Round93: User4_1: 100%|█████████████████████████████████████████████| 10/10 [00:00<00:00, 23.76it/s]\n",
            "Round93: User11_1: 100%|████████████████████████████████████████████| 10/10 [00:00<00:00, 22.69it/s]\n",
            "Round93: User8_1: 100%|█████████████████████████████████████████████| 10/10 [00:00<00:00, 24.69it/s]\n"
          ]
        },
        {
          "output_type": "stream",
          "name": "stdout",
          "text": [
            "client:13 train_acc: 52.60%, train_loss: 0.2583\n",
            "client:6 train_acc: 51.40%, train_loss: 0.5273\n",
            "client:0 train_acc: 51.57%, train_loss: 0.7902\n",
            "client:5 train_acc: 51.10%, train_loss: 1.0539\n",
            "client:9 train_acc: 51.42%, train_loss: 1.3105\n",
            "client:3 train_acc: 51.50%, train_loss: 1.5783\n",
            "client:2 train_acc: 51.66%, train_loss: 1.8405\n",
            "client:1 train_acc: 51.59%, train_loss: 2.1076\n",
            "client:12 train_acc: 51.44%, train_loss: 2.3758\n",
            "client:14 train_acc: 51.41%, train_loss: 2.6492\n",
            "client:10 train_acc: 51.36%, train_loss: 2.9183\n",
            "client:7 train_acc: 51.35%, train_loss: 3.1828\n",
            "client:4 train_acc: 51.37%, train_loss: 3.4496\n",
            "client:11 train_acc: 51.46%, train_loss: 3.7206\n",
            "client:8 train_acc: 51.45%, train_loss: 3.9894\n",
            "Test set: Average loss: 3.2623, Accuracy: 674/10000 (6.74%)\n"
          ]
        },
        {
          "output_type": "stream",
          "name": "stderr",
          "text": [
            "Round94: User6_1: 100%|█████████████████████████████████████████████| 10/10 [00:00<00:00, 21.86it/s]\n",
            "Round94: User13_1: 100%|████████████████████████████████████████████| 10/10 [00:00<00:00, 23.97it/s]\n",
            "Round94: User10_1: 100%|████████████████████████████████████████████| 10/10 [00:00<00:00, 22.68it/s]\n",
            "Round94: User8_1: 100%|█████████████████████████████████████████████| 10/10 [00:00<00:00, 23.44it/s]\n",
            "Round94: User7_1: 100%|█████████████████████████████████████████████| 10/10 [00:00<00:00, 24.95it/s]\n",
            "Round94: User3_1: 100%|█████████████████████████████████████████████| 10/10 [00:00<00:00, 19.48it/s]\n",
            "Round94: User12_1: 100%|████████████████████████████████████████████| 10/10 [00:00<00:00, 17.08it/s]\n",
            "Round94: User11_1: 100%|████████████████████████████████████████████| 10/10 [00:00<00:00, 17.21it/s]\n",
            "Round94: User9_1: 100%|█████████████████████████████████████████████| 10/10 [00:00<00:00, 18.31it/s]\n",
            "Round94: User1_1: 100%|█████████████████████████████████████████████| 10/10 [00:00<00:00, 17.04it/s]\n",
            "Round94: User4_1: 100%|█████████████████████████████████████████████| 10/10 [00:00<00:00, 24.07it/s]\n",
            "Round94: User14_1: 100%|████████████████████████████████████████████| 10/10 [00:00<00:00, 22.23it/s]\n",
            "Round94: User5_1: 100%|█████████████████████████████████████████████| 10/10 [00:00<00:00, 23.60it/s]\n",
            "Round94: User2_1: 100%|█████████████████████████████████████████████| 10/10 [00:00<00:00, 23.24it/s]\n",
            "Round94: User0_1: 100%|█████████████████████████████████████████████| 10/10 [00:00<00:00, 23.08it/s]\n"
          ]
        },
        {
          "output_type": "stream",
          "name": "stdout",
          "text": [
            "client:6 train_acc: 52.60%, train_loss: 0.2678\n",
            "client:13 train_acc: 52.85%, train_loss: 0.5275\n",
            "client:10 train_acc: 52.00%, train_loss: 0.7971\n",
            "client:8 train_acc: 51.90%, train_loss: 1.0659\n",
            "client:7 train_acc: 51.36%, train_loss: 1.3324\n",
            "client:3 train_acc: 51.57%, train_loss: 1.6003\n",
            "client:12 train_acc: 51.59%, train_loss: 1.8670\n",
            "client:11 train_acc: 51.85%, train_loss: 2.1373\n",
            "client:9 train_acc: 51.92%, train_loss: 2.3946\n",
            "client:1 train_acc: 51.95%, train_loss: 2.6613\n",
            "client:4 train_acc: 51.89%, train_loss: 2.9306\n",
            "client:14 train_acc: 51.77%, train_loss: 3.2050\n",
            "client:5 train_acc: 51.68%, train_loss: 3.4684\n",
            "client:2 train_acc: 51.78%, train_loss: 3.7305\n",
            "client:0 train_acc: 51.79%, train_loss: 3.9962\n",
            "Test set: Average loss: 3.2840, Accuracy: 632/10000 (6.32%)\n"
          ]
        },
        {
          "output_type": "stream",
          "name": "stderr",
          "text": [
            "Round95: User2_1: 100%|█████████████████████████████████████████████| 10/10 [00:00<00:00, 21.92it/s]\n",
            "Round95: User5_1: 100%|█████████████████████████████████████████████| 10/10 [00:00<00:00, 24.11it/s]\n",
            "Round95: User0_1: 100%|█████████████████████████████████████████████| 10/10 [00:00<00:00, 24.80it/s]\n",
            "Round95: User4_1: 100%|█████████████████████████████████████████████| 10/10 [00:00<00:00, 21.40it/s]\n",
            "Round95: User8_1: 100%|█████████████████████████████████████████████| 10/10 [00:00<00:00, 24.00it/s]\n",
            "Round95: User3_1: 100%|█████████████████████████████████████████████| 10/10 [00:00<00:00, 22.89it/s]\n",
            "Round95: User6_1: 100%|█████████████████████████████████████████████| 10/10 [00:00<00:00, 23.81it/s]\n",
            "Round95: User1_1: 100%|█████████████████████████████████████████████| 10/10 [00:00<00:00, 24.97it/s]\n",
            "Round95: User14_1: 100%|████████████████████████████████████████████| 10/10 [00:00<00:00, 22.74it/s]\n",
            "Round95: User7_1: 100%|█████████████████████████████████████████████| 10/10 [00:00<00:00, 23.51it/s]\n",
            "Round95: User11_1: 100%|████████████████████████████████████████████| 10/10 [00:00<00:00, 23.13it/s]\n",
            "Round95: User9_1: 100%|█████████████████████████████████████████████| 10/10 [00:00<00:00, 23.70it/s]\n",
            "Round95: User12_1: 100%|████████████████████████████████████████████| 10/10 [00:00<00:00, 24.09it/s]\n",
            "Round95: User13_1: 100%|████████████████████████████████████████████| 10/10 [00:00<00:00, 21.70it/s]\n",
            "Round95: User10_1: 100%|████████████████████████████████████████████| 10/10 [00:00<00:00, 23.37it/s]\n"
          ]
        },
        {
          "output_type": "stream",
          "name": "stdout",
          "text": [
            "client:2 train_acc: 52.80%, train_loss: 0.2606\n",
            "client:5 train_acc: 51.05%, train_loss: 0.5235\n",
            "client:0 train_acc: 51.40%, train_loss: 0.7855\n",
            "client:4 train_acc: 51.45%, train_loss: 1.0529\n",
            "client:8 train_acc: 51.32%, train_loss: 1.3208\n",
            "client:3 train_acc: 51.48%, train_loss: 1.5879\n",
            "client:6 train_acc: 51.40%, train_loss: 1.8559\n",
            "client:1 train_acc: 51.34%, train_loss: 2.1228\n",
            "client:14 train_acc: 51.28%, train_loss: 2.3966\n",
            "client:7 train_acc: 51.37%, train_loss: 2.6601\n",
            "client:11 train_acc: 51.51%, train_loss: 2.9300\n",
            "client:9 train_acc: 51.59%, train_loss: 3.1864\n",
            "client:12 train_acc: 51.55%, train_loss: 3.4534\n",
            "client:13 train_acc: 51.66%, train_loss: 3.7111\n",
            "client:10 train_acc: 51.59%, train_loss: 3.9808\n",
            "Test set: Average loss: 3.2520, Accuracy: 660/10000 (6.60%)\n"
          ]
        },
        {
          "output_type": "stream",
          "name": "stderr",
          "text": [
            "Round96: User2_1: 100%|█████████████████████████████████████████████| 10/10 [00:00<00:00, 22.55it/s]\n",
            "Round96: User13_1: 100%|████████████████████████████████████████████| 10/10 [00:00<00:00, 22.20it/s]\n",
            "Round96: User14_1: 100%|████████████████████████████████████████████| 10/10 [00:00<00:00, 22.07it/s]\n",
            "Round96: User12_1: 100%|████████████████████████████████████████████| 10/10 [00:00<00:00, 23.26it/s]\n",
            "Round96: User11_1: 100%|████████████████████████████████████████████| 10/10 [00:00<00:00, 22.42it/s]\n",
            "Round96: User3_1: 100%|█████████████████████████████████████████████| 10/10 [00:00<00:00, 24.02it/s]\n",
            "Round96: User0_1: 100%|█████████████████████████████████████████████| 10/10 [00:00<00:00, 24.45it/s]\n",
            "Round96: User6_1: 100%|█████████████████████████████████████████████| 10/10 [00:00<00:00, 18.76it/s]\n",
            "Round96: User9_1: 100%|█████████████████████████████████████████████| 10/10 [00:00<00:00, 16.66it/s]\n",
            "Round96: User7_1: 100%|█████████████████████████████████████████████| 10/10 [00:00<00:00, 16.50it/s]\n",
            "Round96: User5_1: 100%|█████████████████████████████████████████████| 10/10 [00:00<00:00, 17.10it/s]\n",
            "Round96: User8_1: 100%|█████████████████████████████████████████████| 10/10 [00:00<00:00, 20.19it/s]\n",
            "Round96: User10_1: 100%|████████████████████████████████████████████| 10/10 [00:00<00:00, 24.36it/s]\n",
            "Round96: User1_1: 100%|█████████████████████████████████████████████| 10/10 [00:00<00:00, 22.86it/s]\n",
            "Round96: User4_1: 100%|█████████████████████████████████████████████| 10/10 [00:00<00:00, 24.16it/s]\n"
          ]
        },
        {
          "output_type": "stream",
          "name": "stdout",
          "text": [
            "client:2 train_acc: 53.10%, train_loss: 0.2600\n",
            "client:13 train_acc: 53.75%, train_loss: 0.5174\n",
            "client:14 train_acc: 52.93%, train_loss: 0.7900\n",
            "client:12 train_acc: 52.68%, train_loss: 1.0556\n",
            "client:11 train_acc: 52.88%, train_loss: 1.3248\n",
            "client:3 train_acc: 52.87%, train_loss: 1.5902\n",
            "client:0 train_acc: 52.61%, train_loss: 1.8531\n",
            "client:6 train_acc: 52.56%, train_loss: 2.1199\n",
            "client:9 train_acc: 52.58%, train_loss: 2.3750\n",
            "client:7 train_acc: 52.41%, train_loss: 2.6393\n",
            "client:5 train_acc: 52.23%, train_loss: 2.9015\n",
            "client:8 train_acc: 52.19%, train_loss: 3.1672\n",
            "client:10 train_acc: 52.15%, train_loss: 3.4336\n",
            "client:1 train_acc: 52.14%, train_loss: 3.6989\n",
            "client:4 train_acc: 52.10%, train_loss: 3.9653\n",
            "Test set: Average loss: 3.2800, Accuracy: 642/10000 (6.42%)\n"
          ]
        },
        {
          "output_type": "stream",
          "name": "stderr",
          "text": [
            "Round97: User9_1: 100%|█████████████████████████████████████████████| 10/10 [00:00<00:00, 23.32it/s]\n",
            "Round97: User10_1: 100%|████████████████████████████████████████████| 10/10 [00:00<00:00, 24.07it/s]\n",
            "Round97: User6_1: 100%|█████████████████████████████████████████████| 10/10 [00:00<00:00, 23.80it/s]\n",
            "Round97: User14_1: 100%|████████████████████████████████████████████| 10/10 [00:00<00:00, 21.25it/s]\n",
            "Round97: User3_1: 100%|█████████████████████████████████████████████| 10/10 [00:00<00:00, 23.26it/s]\n",
            "Round97: User7_1: 100%|█████████████████████████████████████████████| 10/10 [00:00<00:00, 22.14it/s]\n",
            "Round97: User8_1: 100%|█████████████████████████████████████████████| 10/10 [00:00<00:00, 23.31it/s]\n",
            "Round97: User12_1: 100%|████████████████████████████████████████████| 10/10 [00:00<00:00, 23.85it/s]\n",
            "Round97: User2_1: 100%|█████████████████████████████████████████████| 10/10 [00:00<00:00, 21.71it/s]\n",
            "Round97: User11_1: 100%|████████████████████████████████████████████| 10/10 [00:00<00:00, 23.26it/s]\n",
            "Round97: User1_1: 100%|█████████████████████████████████████████████| 10/10 [00:00<00:00, 23.32it/s]\n",
            "Round97: User13_1: 100%|████████████████████████████████████████████| 10/10 [00:00<00:00, 24.64it/s]\n",
            "Round97: User4_1: 100%|█████████████████████████████████████████████| 10/10 [00:00<00:00, 24.51it/s]\n",
            "Round97: User5_1: 100%|█████████████████████████████████████████████| 10/10 [00:00<00:00, 22.63it/s]\n",
            "Round97: User0_1: 100%|█████████████████████████████████████████████| 10/10 [00:00<00:00, 23.32it/s]\n"
          ]
        },
        {
          "output_type": "stream",
          "name": "stdout",
          "text": [
            "client:9 train_acc: 52.70%, train_loss: 0.2536\n",
            "client:10 train_acc: 52.00%, train_loss: 0.5202\n",
            "client:6 train_acc: 52.10%, train_loss: 0.7852\n",
            "client:14 train_acc: 51.95%, train_loss: 1.0561\n",
            "client:3 train_acc: 52.16%, train_loss: 1.3210\n",
            "client:7 train_acc: 52.18%, train_loss: 1.5838\n",
            "client:8 train_acc: 52.11%, train_loss: 1.8492\n",
            "client:12 train_acc: 52.02%, train_loss: 2.1146\n",
            "client:2 train_acc: 52.17%, train_loss: 2.3744\n",
            "client:11 train_acc: 52.31%, train_loss: 2.6424\n",
            "client:1 train_acc: 52.25%, train_loss: 2.9063\n",
            "client:13 train_acc: 52.40%, train_loss: 3.1622\n",
            "client:4 train_acc: 52.39%, train_loss: 3.4276\n",
            "client:5 train_acc: 52.29%, train_loss: 3.6878\n",
            "client:0 train_acc: 52.27%, train_loss: 3.9491\n",
            "Test set: Average loss: 3.2498, Accuracy: 677/10000 (6.77%)\n"
          ]
        },
        {
          "output_type": "stream",
          "name": "stderr",
          "text": [
            "Round98: User1_1: 100%|█████████████████████████████████████████████| 10/10 [00:00<00:00, 22.10it/s]\n",
            "Round98: User6_1: 100%|█████████████████████████████████████████████| 10/10 [00:00<00:00, 24.06it/s]\n",
            "Round98: User7_1: 100%|█████████████████████████████████████████████| 10/10 [00:00<00:00, 22.37it/s]\n",
            "Round98: User9_1: 100%|█████████████████████████████████████████████| 10/10 [00:00<00:00, 23.19it/s]\n",
            "Round98: User2_1: 100%|█████████████████████████████████████████████| 10/10 [00:00<00:00, 23.95it/s]\n",
            "Round98: User3_1: 100%|█████████████████████████████████████████████| 10/10 [00:00<00:00, 22.61it/s]\n",
            "Round98: User4_1: 100%|█████████████████████████████████████████████| 10/10 [00:00<00:00, 24.44it/s]\n",
            "Round98: User5_1: 100%|█████████████████████████████████████████████| 10/10 [00:00<00:00, 23.06it/s]\n",
            "Round98: User13_1: 100%|████████████████████████████████████████████| 10/10 [00:00<00:00, 24.51it/s]\n",
            "Round98: User12_1: 100%|████████████████████████████████████████████| 10/10 [00:00<00:00, 20.86it/s]\n",
            "Round98: User14_1: 100%|████████████████████████████████████████████| 10/10 [00:00<00:00, 16.36it/s]\n",
            "Round98: User8_1: 100%|█████████████████████████████████████████████| 10/10 [00:00<00:00, 16.67it/s]\n",
            "Round98: User11_1: 100%|████████████████████████████████████████████| 10/10 [00:00<00:00, 17.29it/s]\n",
            "Round98: User10_1: 100%|████████████████████████████████████████████| 10/10 [00:00<00:00, 18.28it/s]\n",
            "Round98: User0_1: 100%|█████████████████████████████████████████████| 10/10 [00:00<00:00, 21.37it/s]\n"
          ]
        },
        {
          "output_type": "stream",
          "name": "stdout",
          "text": [
            "client:1 train_acc: 51.60%, train_loss: 0.2644\n",
            "client:6 train_acc: 51.90%, train_loss: 0.5295\n",
            "client:7 train_acc: 52.03%, train_loss: 0.7920\n",
            "client:9 train_acc: 52.40%, train_loss: 1.0453\n",
            "client:2 train_acc: 52.60%, train_loss: 1.3041\n",
            "client:3 train_acc: 52.70%, train_loss: 1.5678\n",
            "client:4 train_acc: 52.67%, train_loss: 1.8314\n",
            "client:5 train_acc: 52.45%, train_loss: 2.0920\n",
            "client:13 train_acc: 52.68%, train_loss: 2.3472\n",
            "client:12 train_acc: 52.62%, train_loss: 2.6113\n",
            "client:14 train_acc: 52.59%, train_loss: 2.8820\n",
            "client:8 train_acc: 52.56%, train_loss: 3.1464\n",
            "client:11 train_acc: 52.66%, train_loss: 3.4143\n",
            "client:10 train_acc: 52.62%, train_loss: 3.6792\n",
            "client:0 train_acc: 52.59%, train_loss: 3.9410\n",
            "Test set: Average loss: 3.2979, Accuracy: 678/10000 (6.78%)\n"
          ]
        },
        {
          "output_type": "stream",
          "name": "stderr",
          "text": [
            "Round99: User7_1: 100%|█████████████████████████████████████████████| 10/10 [00:00<00:00, 16.52it/s]\n",
            "Round99: User1_1: 100%|█████████████████████████████████████████████| 10/10 [00:00<00:00, 16.66it/s]\n",
            "Round99: User3_1: 100%|█████████████████████████████████████████████| 10/10 [00:00<00:00, 21.19it/s]\n",
            "Round99: User12_1: 100%|████████████████████████████████████████████| 10/10 [00:00<00:00, 23.53it/s]\n",
            "Round99: User14_1: 100%|████████████████████████████████████████████| 10/10 [00:00<00:00, 25.06it/s]\n",
            "Round99: User0_1: 100%|█████████████████████████████████████████████| 10/10 [00:00<00:00, 22.43it/s]\n",
            "Round99: User4_1: 100%|█████████████████████████████████████████████| 10/10 [00:00<00:00, 24.08it/s]\n",
            "Round99: User13_1: 100%|████████████████████████████████████████████| 10/10 [00:00<00:00, 24.63it/s]\n",
            "Round99: User10_1: 100%|████████████████████████████████████████████| 10/10 [00:00<00:00, 22.97it/s]\n",
            "Round99: User9_1: 100%|█████████████████████████████████████████████| 10/10 [00:00<00:00, 25.64it/s]\n",
            "Round99: User2_1: 100%|█████████████████████████████████████████████| 10/10 [00:00<00:00, 23.16it/s]\n",
            "Round99: User11_1: 100%|████████████████████████████████████████████| 10/10 [00:00<00:00, 24.69it/s]\n",
            "Round99: User5_1: 100%|█████████████████████████████████████████████| 10/10 [00:00<00:00, 24.10it/s]\n",
            "Round99: User8_1: 100%|█████████████████████████████████████████████| 10/10 [00:00<00:00, 22.48it/s]\n",
            "Round99: User6_1: 100%|█████████████████████████████████████████████| 10/10 [00:00<00:00, 23.59it/s]\n"
          ]
        },
        {
          "output_type": "stream",
          "name": "stdout",
          "text": [
            "client:7 train_acc: 51.10%, train_loss: 0.2624\n",
            "client:1 train_acc: 51.50%, train_loss: 0.5252\n",
            "client:3 train_acc: 52.13%, train_loss: 0.7893\n",
            "client:12 train_acc: 51.98%, train_loss: 1.0533\n",
            "client:14 train_acc: 51.88%, train_loss: 1.3235\n",
            "client:0 train_acc: 51.93%, train_loss: 1.5848\n",
            "client:4 train_acc: 52.09%, train_loss: 1.8497\n",
            "client:13 train_acc: 52.28%, train_loss: 2.1047\n",
            "client:10 train_acc: 52.21%, train_loss: 2.3703\n",
            "client:9 train_acc: 52.31%, train_loss: 2.6235\n",
            "client:2 train_acc: 52.39%, train_loss: 2.8820\n",
            "client:11 train_acc: 52.54%, train_loss: 3.1492\n",
            "client:5 train_acc: 52.43%, train_loss: 3.4096\n",
            "client:8 train_acc: 52.36%, train_loss: 3.6743\n",
            "client:6 train_acc: 52.32%, train_loss: 3.9391\n",
            "Test set: Average loss: 3.2627, Accuracy: 699/10000 (6.99%)\n"
          ]
        },
        {
          "output_type": "stream",
          "name": "stderr",
          "text": [
            "Round100: User7_1: 100%|████████████████████████████████████████████| 10/10 [00:00<00:00, 23.33it/s]\n",
            "Round100: User11_1: 100%|███████████████████████████████████████████| 10/10 [00:00<00:00, 22.44it/s]\n",
            "Round100: User6_1: 100%|████████████████████████████████████████████| 10/10 [00:00<00:00, 23.96it/s]\n",
            "Round100: User14_1: 100%|███████████████████████████████████████████| 10/10 [00:00<00:00, 24.05it/s]\n",
            "Round100: User4_1: 100%|████████████████████████████████████████████| 10/10 [00:00<00:00, 23.05it/s]\n",
            "Round100: User2_1: 100%|████████████████████████████████████████████| 10/10 [00:00<00:00, 24.48it/s]\n",
            "Round100: User3_1: 100%|████████████████████████████████████████████| 10/10 [00:00<00:00, 24.37it/s]\n",
            "Round100: User1_1: 100%|████████████████████████████████████████████| 10/10 [00:00<00:00, 22.56it/s]\n",
            "Round100: User12_1: 100%|███████████████████████████████████████████| 10/10 [00:00<00:00, 24.99it/s]\n",
            "Round100: User13_1: 100%|███████████████████████████████████████████| 10/10 [00:00<00:00, 24.97it/s]\n",
            "Round100: User9_1: 100%|████████████████████████████████████████████| 10/10 [00:00<00:00, 22.81it/s]\n",
            "Round100: User10_1: 100%|███████████████████████████████████████████| 10/10 [00:00<00:00, 24.52it/s]\n",
            "Round100: User8_1: 100%|████████████████████████████████████████████| 10/10 [00:00<00:00, 17.98it/s]\n",
            "Round100: User0_1: 100%|████████████████████████████████████████████| 10/10 [00:00<00:00, 17.10it/s]\n",
            "Round100: User5_1: 100%|████████████████████████████████████████████| 10/10 [00:00<00:00, 14.21it/s]\n"
          ]
        },
        {
          "output_type": "stream",
          "name": "stdout",
          "text": [
            "client:7 train_acc: 53.20%, train_loss: 0.2600\n",
            "client:11 train_acc: 53.50%, train_loss: 0.5266\n",
            "client:6 train_acc: 52.83%, train_loss: 0.7909\n",
            "client:14 train_acc: 52.58%, train_loss: 1.0606\n",
            "client:4 train_acc: 52.44%, train_loss: 1.3232\n",
            "client:2 train_acc: 52.63%, train_loss: 1.5809\n",
            "client:3 train_acc: 52.74%, train_loss: 1.8438\n",
            "client:1 train_acc: 52.71%, train_loss: 2.1078\n",
            "client:12 train_acc: 52.64%, train_loss: 2.3714\n",
            "client:13 train_acc: 52.78%, train_loss: 2.6263\n",
            "client:9 train_acc: 52.84%, train_loss: 2.8771\n",
            "client:10 train_acc: 52.74%, train_loss: 3.1420\n",
            "client:8 train_acc: 52.72%, train_loss: 3.4064\n",
            "client:0 train_acc: 52.74%, train_loss: 3.6650\n",
            "client:5 train_acc: 52.63%, train_loss: 3.9246\n",
            "Test set: Average loss: 3.2920, Accuracy: 672/10000 (6.72%)\n"
          ]
        },
        {
          "output_type": "stream",
          "name": "stderr",
          "text": [
            "Round101: User5_1: 100%|████████████████████████████████████████████| 10/10 [00:00<00:00, 18.92it/s]\n",
            "Round101: User2_1: 100%|████████████████████████████████████████████| 10/10 [00:00<00:00, 18.06it/s]\n",
            "Round101: User10_1: 100%|███████████████████████████████████████████| 10/10 [00:00<00:00, 16.89it/s]\n",
            "Round101: User6_1: 100%|████████████████████████████████████████████| 10/10 [00:00<00:00, 17.75it/s]\n",
            "Round101: User14_1: 100%|███████████████████████████████████████████| 10/10 [00:00<00:00, 18.19it/s]\n",
            "Round101: User13_1: 100%|███████████████████████████████████████████| 10/10 [00:00<00:00, 24.74it/s]\n",
            "Round101: User7_1: 100%|████████████████████████████████████████████| 10/10 [00:00<00:00, 23.65it/s]\n",
            "Round101: User1_1: 100%|████████████████████████████████████████████| 10/10 [00:00<00:00, 22.73it/s]\n",
            "Round101: User9_1: 100%|████████████████████████████████████████████| 10/10 [00:00<00:00, 24.14it/s]\n",
            "Round101: User11_1: 100%|███████████████████████████████████████████| 10/10 [00:00<00:00, 22.32it/s]\n",
            "Round101: User0_1: 100%|████████████████████████████████████████████| 10/10 [00:00<00:00, 24.93it/s]\n",
            "Round101: User3_1: 100%|████████████████████████████████████████████| 10/10 [00:00<00:00, 23.25it/s]\n",
            "Round101: User4_1: 100%|████████████████████████████████████████████| 10/10 [00:00<00:00, 23.51it/s]\n",
            "Round101: User8_1: 100%|████████████████████████████████████████████| 10/10 [00:00<00:00, 23.99it/s]\n",
            "Round101: User12_1: 100%|███████████████████████████████████████████| 10/10 [00:00<00:00, 22.99it/s]\n"
          ]
        },
        {
          "output_type": "stream",
          "name": "stdout",
          "text": [
            "client:5 train_acc: 51.50%, train_loss: 0.2593\n",
            "client:2 train_acc: 52.35%, train_loss: 0.5170\n",
            "client:10 train_acc: 52.30%, train_loss: 0.7819\n",
            "client:6 train_acc: 52.42%, train_loss: 1.0462\n",
            "client:14 train_acc: 52.14%, train_loss: 1.3159\n",
            "client:13 train_acc: 52.55%, train_loss: 1.5702\n",
            "client:7 train_acc: 52.43%, train_loss: 1.8330\n",
            "client:1 train_acc: 52.48%, train_loss: 2.0968\n",
            "client:9 train_acc: 52.53%, train_loss: 2.3491\n",
            "client:11 train_acc: 52.72%, train_loss: 2.6162\n",
            "client:0 train_acc: 52.65%, train_loss: 2.8784\n",
            "client:3 train_acc: 52.73%, train_loss: 3.1416\n",
            "client:4 train_acc: 52.74%, train_loss: 3.4045\n",
            "client:8 train_acc: 52.71%, train_loss: 3.6685\n",
            "client:12 train_acc: 52.71%, train_loss: 3.9326\n",
            "Test set: Average loss: 3.3267, Accuracy: 687/10000 (6.87%)\n"
          ]
        },
        {
          "output_type": "stream",
          "name": "stderr",
          "text": [
            "Round102: User10_1: 100%|███████████████████████████████████████████| 10/10 [00:00<00:00, 22.88it/s]\n",
            "Round102: User12_1: 100%|███████████████████████████████████████████| 10/10 [00:00<00:00, 24.98it/s]\n",
            "Round102: User6_1: 100%|████████████████████████████████████████████| 10/10 [00:00<00:00, 23.41it/s]\n",
            "Round102: User9_1: 100%|████████████████████████████████████████████| 10/10 [00:00<00:00, 23.87it/s]\n",
            "Round102: User1_1: 100%|████████████████████████████████████████████| 10/10 [00:00<00:00, 23.53it/s]\n",
            "Round102: User11_1: 100%|███████████████████████████████████████████| 10/10 [00:00<00:00, 23.07it/s]\n",
            "Round102: User0_1: 100%|████████████████████████████████████████████| 10/10 [00:00<00:00, 24.50it/s]\n",
            "Round102: User2_1: 100%|████████████████████████████████████████████| 10/10 [00:00<00:00, 22.25it/s]\n",
            "Round102: User7_1: 100%|████████████████████████████████████████████| 10/10 [00:00<00:00, 24.24it/s]\n",
            "Round102: User14_1: 100%|███████████████████████████████████████████| 10/10 [00:00<00:00, 26.63it/s]\n",
            "Round102: User5_1: 100%|████████████████████████████████████████████| 10/10 [00:00<00:00, 22.67it/s]\n",
            "Round102: User4_1: 100%|████████████████████████████████████████████| 10/10 [00:00<00:00, 24.01it/s]\n",
            "Round102: User13_1: 100%|███████████████████████████████████████████| 10/10 [00:00<00:00, 23.04it/s]\n",
            "Round102: User3_1: 100%|████████████████████████████████████████████| 10/10 [00:00<00:00, 23.35it/s]\n",
            "Round102: User8_1: 100%|████████████████████████████████████████████| 10/10 [00:00<00:00, 25.01it/s]\n"
          ]
        },
        {
          "output_type": "stream",
          "name": "stdout",
          "text": [
            "client:10 train_acc: 51.20%, train_loss: 0.2646\n",
            "client:12 train_acc: 51.60%, train_loss: 0.5267\n",
            "client:6 train_acc: 51.73%, train_loss: 0.7901\n",
            "client:9 train_acc: 52.28%, train_loss: 1.0417\n",
            "client:1 train_acc: 52.32%, train_loss: 1.3030\n",
            "client:11 train_acc: 52.57%, train_loss: 1.5682\n",
            "client:0 train_acc: 52.47%, train_loss: 1.8268\n",
            "client:2 train_acc: 52.62%, train_loss: 2.0836\n",
            "client:7 train_acc: 52.57%, train_loss: 2.3435\n",
            "client:14 train_acc: 52.50%, train_loss: 2.6119\n",
            "client:5 train_acc: 52.37%, train_loss: 2.8706\n",
            "client:4 train_acc: 52.39%, train_loss: 3.1338\n",
            "client:13 train_acc: 52.51%, train_loss: 3.3873\n",
            "client:3 train_acc: 52.63%, train_loss: 3.6495\n",
            "client:8 train_acc: 52.54%, train_loss: 3.9136\n",
            "Test set: Average loss: 3.2550, Accuracy: 684/10000 (6.84%)\n"
          ]
        },
        {
          "output_type": "stream",
          "name": "stderr",
          "text": [
            "Round103: User14_1: 100%|███████████████████████████████████████████| 10/10 [00:00<00:00, 22.64it/s]\n",
            "Round103: User7_1: 100%|████████████████████████████████████████████| 10/10 [00:00<00:00, 24.23it/s]\n",
            "Round103: User10_1: 100%|███████████████████████████████████████████| 10/10 [00:00<00:00, 22.91it/s]\n",
            "Round103: User4_1: 100%|████████████████████████████████████████████| 10/10 [00:00<00:00, 18.49it/s]\n",
            "Round103: User12_1: 100%|███████████████████████████████████████████| 10/10 [00:00<00:00, 18.05it/s]\n",
            "Round103: User3_1: 100%|████████████████████████████████████████████| 10/10 [00:00<00:00, 16.99it/s]\n",
            "Round103: User8_1: 100%|████████████████████████████████████████████| 10/10 [00:00<00:00, 15.59it/s]\n",
            "Round103: User1_1: 100%|████████████████████████████████████████████| 10/10 [00:00<00:00, 22.36it/s]\n",
            "Round103: User9_1: 100%|████████████████████████████████████████████| 10/10 [00:00<00:00, 24.59it/s]\n",
            "Round103: User0_1: 100%|████████████████████████████████████████████| 10/10 [00:00<00:00, 21.72it/s]\n",
            "Round103: User5_1: 100%|████████████████████████████████████████████| 10/10 [00:00<00:00, 23.82it/s]\n",
            "Round103: User13_1: 100%|███████████████████████████████████████████| 10/10 [00:00<00:00, 23.91it/s]\n",
            "Round103: User11_1: 100%|███████████████████████████████████████████| 10/10 [00:00<00:00, 24.67it/s]\n",
            "Round103: User6_1: 100%|████████████████████████████████████████████| 10/10 [00:00<00:00, 25.47it/s]\n",
            "Round103: User2_1: 100%|████████████████████████████████████████████| 10/10 [00:00<00:00, 21.95it/s]\n"
          ]
        },
        {
          "output_type": "stream",
          "name": "stdout",
          "text": [
            "client:14 train_acc: 51.40%, train_loss: 0.2677\n",
            "client:7 train_acc: 52.20%, train_loss: 0.5262\n",
            "client:10 train_acc: 51.77%, train_loss: 0.7903\n",
            "client:4 train_acc: 52.00%, train_loss: 1.0523\n",
            "client:12 train_acc: 52.08%, train_loss: 1.3140\n",
            "client:3 train_acc: 52.42%, train_loss: 1.5755\n",
            "client:8 train_acc: 52.49%, train_loss: 1.8385\n",
            "client:1 train_acc: 52.49%, train_loss: 2.0993\n",
            "client:9 train_acc: 52.69%, train_loss: 2.3489\n",
            "client:0 train_acc: 52.68%, train_loss: 2.6066\n",
            "client:5 train_acc: 52.55%, train_loss: 2.8637\n",
            "client:13 train_acc: 52.65%, train_loss: 3.1160\n",
            "client:11 train_acc: 52.76%, train_loss: 3.3804\n",
            "client:6 train_acc: 52.70%, train_loss: 3.6428\n",
            "client:2 train_acc: 52.71%, train_loss: 3.8988\n",
            "Test set: Average loss: 3.2970, Accuracy: 663/10000 (6.63%)\n"
          ]
        },
        {
          "output_type": "stream",
          "name": "stderr",
          "text": [
            "Round104: User10_1: 100%|███████████████████████████████████████████| 10/10 [00:00<00:00, 23.56it/s]\n",
            "Round104: User12_1: 100%|███████████████████████████████████████████| 10/10 [00:00<00:00, 22.46it/s]\n",
            "Round104: User4_1: 100%|████████████████████████████████████████████| 10/10 [00:00<00:00, 24.49it/s]\n",
            "Round104: User7_1: 100%|████████████████████████████████████████████| 10/10 [00:00<00:00, 23.75it/s]\n",
            "Round104: User14_1: 100%|███████████████████████████████████████████| 10/10 [00:00<00:00, 23.66it/s]\n",
            "Round104: User3_1: 100%|████████████████████████████████████████████| 10/10 [00:00<00:00, 23.89it/s]\n",
            "Round104: User2_1: 100%|████████████████████████████████████████████| 10/10 [00:00<00:00, 22.71it/s]\n",
            "Round104: User8_1: 100%|████████████████████████████████████████████| 10/10 [00:00<00:00, 24.55it/s]\n",
            "Round104: User5_1: 100%|████████████████████████████████████████████| 10/10 [00:00<00:00, 24.79it/s]\n",
            "Round104: User1_1: 100%|████████████████████████████████████████████| 10/10 [00:00<00:00, 22.78it/s]\n",
            "Round104: User13_1: 100%|███████████████████████████████████████████| 10/10 [00:00<00:00, 24.24it/s]\n",
            "Round104: User6_1: 100%|████████████████████████████████████████████| 10/10 [00:00<00:00, 24.84it/s]\n",
            "Round104: User11_1: 100%|███████████████████████████████████████████| 10/10 [00:00<00:00, 22.94it/s]\n",
            "Round104: User0_1: 100%|████████████████████████████████████████████| 10/10 [00:00<00:00, 25.24it/s]\n",
            "Round104: User9_1: 100%|████████████████████████████████████████████| 10/10 [00:00<00:00, 22.95it/s]\n"
          ]
        },
        {
          "output_type": "stream",
          "name": "stdout",
          "text": [
            "client:10 train_acc: 52.60%, train_loss: 0.2632\n",
            "client:12 train_acc: 52.50%, train_loss: 0.5254\n",
            "client:4 train_acc: 52.47%, train_loss: 0.7859\n",
            "client:7 train_acc: 52.52%, train_loss: 1.0461\n",
            "client:14 train_acc: 52.36%, train_loss: 1.3137\n",
            "client:3 train_acc: 52.68%, train_loss: 1.5748\n",
            "client:2 train_acc: 52.86%, train_loss: 1.8306\n",
            "client:8 train_acc: 52.76%, train_loss: 2.0929\n",
            "client:5 train_acc: 52.59%, train_loss: 2.3517\n",
            "client:1 train_acc: 52.63%, train_loss: 2.6138\n",
            "client:13 train_acc: 52.80%, train_loss: 2.8664\n",
            "client:6 train_acc: 52.67%, train_loss: 3.1303\n",
            "client:11 train_acc: 52.79%, train_loss: 3.3954\n",
            "client:0 train_acc: 52.74%, train_loss: 3.6546\n",
            "client:9 train_acc: 52.83%, train_loss: 3.9060\n",
            "Test set: Average loss: 3.3152, Accuracy: 694/10000 (6.94%)\n"
          ]
        },
        {
          "output_type": "stream",
          "name": "stderr",
          "text": [
            "Round105: User9_1: 100%|████████████████████████████████████████████| 10/10 [00:00<00:00, 24.36it/s]\n",
            "Round105: User4_1: 100%|████████████████████████████████████████████| 10/10 [00:00<00:00, 23.19it/s]\n",
            "Round105: User2_1: 100%|████████████████████████████████████████████| 10/10 [00:00<00:00, 25.76it/s]\n",
            "Round105: User6_1: 100%|████████████████████████████████████████████| 10/10 [00:00<00:00, 21.24it/s]\n",
            "Round105: User13_1: 100%|███████████████████████████████████████████| 10/10 [00:00<00:00, 24.10it/s]\n",
            "Round105: User10_1: 100%|███████████████████████████████████████████| 10/10 [00:00<00:00, 24.64it/s]\n",
            "Round105: User7_1: 100%|████████████████████████████████████████████| 10/10 [00:00<00:00, 17.51it/s]\n",
            "Round105: User0_1: 100%|████████████████████████████████████████████| 10/10 [00:00<00:00, 17.03it/s]\n",
            "Round105: User14_1: 100%|███████████████████████████████████████████| 10/10 [00:00<00:00, 15.63it/s]\n",
            "Round105: User5_1: 100%|████████████████████████████████████████████| 10/10 [00:00<00:00, 17.25it/s]\n",
            "Round105: User3_1: 100%|████████████████████████████████████████████| 10/10 [00:00<00:00, 21.79it/s]\n",
            "Round105: User11_1: 100%|███████████████████████████████████████████| 10/10 [00:00<00:00, 24.23it/s]\n",
            "Round105: User1_1: 100%|████████████████████████████████████████████| 10/10 [00:00<00:00, 23.05it/s]\n",
            "Round105: User8_1: 100%|████████████████████████████████████████████| 10/10 [00:00<00:00, 24.51it/s]\n",
            "Round105: User12_1: 100%|███████████████████████████████████████████| 10/10 [00:00<00:00, 25.26it/s]\n"
          ]
        },
        {
          "output_type": "stream",
          "name": "stdout",
          "text": [
            "client:9 train_acc: 53.80%, train_loss: 0.2479\n",
            "client:4 train_acc: 52.90%, train_loss: 0.5086\n",
            "client:2 train_acc: 53.33%, train_loss: 0.7634\n",
            "client:6 train_acc: 53.45%, train_loss: 1.0244\n",
            "client:13 train_acc: 53.66%, train_loss: 1.2763\n",
            "client:10 train_acc: 53.42%, train_loss: 1.5387\n",
            "client:7 train_acc: 53.34%, train_loss: 1.7963\n",
            "client:0 train_acc: 53.23%, train_loss: 2.0528\n",
            "client:14 train_acc: 53.16%, train_loss: 2.3198\n",
            "client:5 train_acc: 53.05%, train_loss: 2.5750\n",
            "client:3 train_acc: 53.11%, train_loss: 2.8351\n",
            "client:11 train_acc: 53.28%, train_loss: 3.0989\n",
            "client:1 train_acc: 53.22%, train_loss: 3.3590\n",
            "client:8 train_acc: 53.22%, train_loss: 3.6200\n",
            "client:12 train_acc: 53.16%, train_loss: 3.8808\n",
            "Test set: Average loss: 3.3226, Accuracy: 658/10000 (6.58%)\n"
          ]
        },
        {
          "output_type": "stream",
          "name": "stderr",
          "text": [
            "Round106: User3_1: 100%|████████████████████████████████████████████| 10/10 [00:00<00:00, 24.56it/s]\n",
            "Round106: User10_1: 100%|███████████████████████████████████████████| 10/10 [00:00<00:00, 22.27it/s]\n",
            "Round106: User2_1: 100%|████████████████████████████████████████████| 10/10 [00:00<00:00, 24.36it/s]\n",
            "Round106: User11_1: 100%|███████████████████████████████████████████| 10/10 [00:00<00:00, 22.94it/s]\n",
            "Round106: User14_1: 100%|███████████████████████████████████████████| 10/10 [00:00<00:00, 24.23it/s]\n",
            "Round106: User13_1: 100%|███████████████████████████████████████████| 10/10 [00:00<00:00, 24.90it/s]\n",
            "Round106: User7_1: 100%|████████████████████████████████████████████| 10/10 [00:00<00:00, 23.53it/s]\n",
            "Round106: User12_1: 100%|███████████████████████████████████████████| 10/10 [00:00<00:00, 24.54it/s]\n",
            "Round106: User5_1: 100%|████████████████████████████████████████████| 10/10 [00:00<00:00, 24.45it/s]\n",
            "Round106: User6_1: 100%|████████████████████████████████████████████| 10/10 [00:00<00:00, 22.92it/s]\n",
            "Round106: User1_1: 100%|████████████████████████████████████████████| 10/10 [00:00<00:00, 23.69it/s]\n",
            "Round106: User4_1: 100%|████████████████████████████████████████████| 10/10 [00:00<00:00, 23.12it/s]\n",
            "Round106: User0_1: 100%|████████████████████████████████████████████| 10/10 [00:00<00:00, 23.82it/s]\n",
            "Round106: User9_1: 100%|████████████████████████████████████████████| 10/10 [00:00<00:00, 25.56it/s]\n",
            "Round106: User8_1: 100%|████████████████████████████████████████████| 10/10 [00:00<00:00, 23.51it/s]\n"
          ]
        },
        {
          "output_type": "stream",
          "name": "stdout",
          "text": [
            "client:3 train_acc: 54.10%, train_loss: 0.2604\n",
            "client:10 train_acc: 53.25%, train_loss: 0.5246\n",
            "client:2 train_acc: 53.47%, train_loss: 0.7796\n",
            "client:11 train_acc: 53.83%, train_loss: 1.0435\n",
            "client:14 train_acc: 53.58%, train_loss: 1.3114\n",
            "client:13 train_acc: 53.88%, train_loss: 1.5646\n",
            "client:7 train_acc: 53.73%, train_loss: 1.8241\n",
            "client:12 train_acc: 53.69%, train_loss: 2.0850\n",
            "client:5 train_acc: 53.39%, train_loss: 2.3424\n",
            "client:6 train_acc: 53.30%, train_loss: 2.6058\n",
            "client:1 train_acc: 53.25%, train_loss: 2.8683\n",
            "client:4 train_acc: 53.12%, train_loss: 3.1291\n",
            "client:0 train_acc: 53.11%, train_loss: 3.3884\n",
            "client:9 train_acc: 53.19%, train_loss: 3.6382\n",
            "client:8 train_acc: 53.07%, train_loss: 3.9016\n",
            "Test set: Average loss: 3.3395, Accuracy: 656/10000 (6.56%)\n"
          ]
        },
        {
          "output_type": "stream",
          "name": "stderr",
          "text": [
            "Round107: User11_1: 100%|███████████████████████████████████████████| 10/10 [00:00<00:00, 24.04it/s]\n",
            "Round107: User10_1: 100%|███████████████████████████████████████████| 10/10 [00:00<00:00, 22.59it/s]\n",
            "Round107: User0_1: 100%|████████████████████████████████████████████| 10/10 [00:00<00:00, 23.35it/s]\n",
            "Round107: User14_1: 100%|███████████████████████████████████████████| 10/10 [00:00<00:00, 23.06it/s]\n",
            "Round107: User12_1: 100%|███████████████████████████████████████████| 10/10 [00:00<00:00, 22.35it/s]\n",
            "Round107: User9_1: 100%|████████████████████████████████████████████| 10/10 [00:00<00:00, 23.82it/s]\n",
            "Round107: User6_1: 100%|████████████████████████████████████████████| 10/10 [00:00<00:00, 21.99it/s]\n",
            "Round107: User7_1: 100%|████████████████████████████████████████████| 10/10 [00:00<00:00, 25.17it/s]\n",
            "Round107: User4_1: 100%|████████████████████████████████████████████| 10/10 [00:00<00:00, 23.39it/s]\n",
            "Round107: User3_1: 100%|████████████████████████████████████████████| 10/10 [00:00<00:00, 17.05it/s]\n",
            "Round107: User2_1: 100%|████████████████████████████████████████████| 10/10 [00:00<00:00, 17.36it/s]\n",
            "Round107: User5_1: 100%|████████████████████████████████████████████| 10/10 [00:00<00:00, 17.62it/s]\n",
            "Round107: User8_1: 100%|████████████████████████████████████████████| 10/10 [00:00<00:00, 16.62it/s]\n",
            "Round107: User13_1: 100%|███████████████████████████████████████████| 10/10 [00:00<00:00, 21.99it/s]\n",
            "Round107: User1_1: 100%|████████████████████████████████████████████| 10/10 [00:00<00:00, 25.08it/s]\n"
          ]
        },
        {
          "output_type": "stream",
          "name": "stdout",
          "text": [
            "client:11 train_acc: 54.70%, train_loss: 0.2633\n",
            "client:10 train_acc: 53.15%, train_loss: 0.5266\n",
            "client:0 train_acc: 52.90%, train_loss: 0.7831\n",
            "client:14 train_acc: 52.52%, train_loss: 1.0502\n",
            "client:12 train_acc: 52.46%, train_loss: 1.3106\n",
            "client:9 train_acc: 52.67%, train_loss: 1.5585\n",
            "client:6 train_acc: 52.73%, train_loss: 1.8181\n",
            "client:7 train_acc: 52.81%, train_loss: 2.0753\n",
            "client:4 train_acc: 52.68%, train_loss: 2.3377\n",
            "client:3 train_acc: 52.76%, train_loss: 2.5976\n",
            "client:2 train_acc: 52.81%, train_loss: 2.8523\n",
            "client:5 train_acc: 52.80%, train_loss: 3.1069\n",
            "client:8 train_acc: 52.84%, train_loss: 3.3684\n",
            "client:13 train_acc: 52.98%, train_loss: 3.6208\n",
            "client:1 train_acc: 52.99%, train_loss: 3.8808\n",
            "Test set: Average loss: 3.3000, Accuracy: 629/10000 (6.29%)\n"
          ]
        },
        {
          "output_type": "stream",
          "name": "stderr",
          "text": [
            "Round108: User6_1: 100%|████████████████████████████████████████████| 10/10 [00:00<00:00, 17.52it/s]\n",
            "Round108: User11_1: 100%|███████████████████████████████████████████| 10/10 [00:00<00:00, 17.08it/s]\n",
            "Round108: User2_1: 100%|████████████████████████████████████████████| 10/10 [00:00<00:00, 22.88it/s]\n",
            "Round108: User1_1: 100%|████████████████████████████████████████████| 10/10 [00:00<00:00, 22.69it/s]\n",
            "Round108: User0_1: 100%|████████████████████████████████████████████| 10/10 [00:00<00:00, 24.16it/s]\n",
            "Round108: User8_1: 100%|████████████████████████████████████████████| 10/10 [00:00<00:00, 23.46it/s]\n",
            "Round108: User5_1: 100%|████████████████████████████████████████████| 10/10 [00:00<00:00, 22.92it/s]\n",
            "Round108: User7_1: 100%|████████████████████████████████████████████| 10/10 [00:00<00:00, 23.68it/s]\n",
            "Round108: User3_1: 100%|████████████████████████████████████████████| 10/10 [00:00<00:00, 22.07it/s]\n",
            "Round108: User14_1: 100%|███████████████████████████████████████████| 10/10 [00:00<00:00, 24.53it/s]\n",
            "Round108: User10_1: 100%|███████████████████████████████████████████| 10/10 [00:00<00:00, 22.54it/s]\n",
            "Round108: User9_1: 100%|████████████████████████████████████████████| 10/10 [00:00<00:00, 24.24it/s]\n",
            "Round108: User13_1: 100%|███████████████████████████████████████████| 10/10 [00:00<00:00, 24.44it/s]\n",
            "Round108: User4_1: 100%|████████████████████████████████████████████| 10/10 [00:00<00:00, 23.54it/s]\n",
            "Round108: User12_1: 100%|███████████████████████████████████████████| 10/10 [00:00<00:00, 24.71it/s]\n"
          ]
        },
        {
          "output_type": "stream",
          "name": "stdout",
          "text": [
            "client:6 train_acc: 52.70%, train_loss: 0.2601\n",
            "client:11 train_acc: 53.25%, train_loss: 0.5226\n",
            "client:2 train_acc: 53.80%, train_loss: 0.7757\n",
            "client:1 train_acc: 53.67%, train_loss: 1.0342\n",
            "client:0 train_acc: 53.46%, train_loss: 1.2915\n",
            "client:8 train_acc: 53.43%, train_loss: 1.5518\n",
            "client:5 train_acc: 53.23%, train_loss: 1.8069\n",
            "client:7 train_acc: 53.34%, train_loss: 2.0645\n",
            "client:3 train_acc: 53.42%, train_loss: 2.3230\n",
            "client:14 train_acc: 53.31%, train_loss: 2.5895\n",
            "client:10 train_acc: 53.18%, train_loss: 2.8512\n",
            "client:9 train_acc: 53.34%, train_loss: 3.0991\n",
            "client:13 train_acc: 53.45%, train_loss: 3.3500\n",
            "client:4 train_acc: 53.40%, train_loss: 3.6105\n",
            "client:12 train_acc: 53.35%, train_loss: 3.8701\n",
            "Test set: Average loss: 3.3177, Accuracy: 659/10000 (6.59%)\n"
          ]
        },
        {
          "output_type": "stream",
          "name": "stderr",
          "text": [
            "Round109: User0_1: 100%|████████████████████████████████████████████| 10/10 [00:00<00:00, 22.62it/s]\n",
            "Round109: User5_1: 100%|████████████████████████████████████████████| 10/10 [00:00<00:00, 21.92it/s]\n",
            "Round109: User2_1: 100%|████████████████████████████████████████████| 10/10 [00:00<00:00, 24.26it/s]\n",
            "Round109: User12_1: 100%|███████████████████████████████████████████| 10/10 [00:00<00:00, 23.06it/s]\n",
            "Round109: User11_1: 100%|███████████████████████████████████████████| 10/10 [00:00<00:00, 23.43it/s]\n",
            "Round109: User1_1: 100%|████████████████████████████████████████████| 10/10 [00:00<00:00, 24.67it/s]\n",
            "Round109: User7_1: 100%|████████████████████████████████████████████| 10/10 [00:00<00:00, 22.42it/s]\n",
            "Round109: User3_1: 100%|████████████████████████████████████████████| 10/10 [00:00<00:00, 25.23it/s]\n",
            "Round109: User9_1: 100%|████████████████████████████████████████████| 10/10 [00:00<00:00, 24.11it/s]\n",
            "Round109: User10_1: 100%|███████████████████████████████████████████| 10/10 [00:00<00:00, 24.23it/s]\n",
            "Round109: User13_1: 100%|███████████████████████████████████████████| 10/10 [00:00<00:00, 25.78it/s]\n",
            "Round109: User8_1: 100%|████████████████████████████████████████████| 10/10 [00:00<00:00, 22.20it/s]\n",
            "Round109: User6_1: 100%|████████████████████████████████████████████| 10/10 [00:00<00:00, 20.47it/s]\n",
            "Round109: User14_1: 100%|███████████████████████████████████████████| 10/10 [00:00<00:00, 17.25it/s]\n",
            "Round109: User4_1: 100%|████████████████████████████████████████████| 10/10 [00:00<00:00, 17.67it/s]\n"
          ]
        },
        {
          "output_type": "stream",
          "name": "stdout",
          "text": [
            "client:0 train_acc: 53.00%, train_loss: 0.2555\n",
            "client:5 train_acc: 52.30%, train_loss: 0.5095\n",
            "client:2 train_acc: 53.07%, train_loss: 0.7617\n",
            "client:12 train_acc: 53.08%, train_loss: 1.0210\n",
            "client:11 train_acc: 53.48%, train_loss: 1.2831\n",
            "client:1 train_acc: 53.32%, train_loss: 1.5432\n",
            "client:7 train_acc: 53.40%, train_loss: 1.7994\n",
            "client:3 train_acc: 53.44%, train_loss: 2.0572\n",
            "client:9 train_acc: 53.50%, train_loss: 2.3041\n",
            "client:10 train_acc: 53.47%, train_loss: 2.5653\n",
            "client:13 train_acc: 53.63%, train_loss: 2.8151\n",
            "client:8 train_acc: 53.59%, train_loss: 3.0749\n",
            "client:6 train_acc: 53.51%, train_loss: 3.3349\n",
            "client:14 train_acc: 53.44%, train_loss: 3.6005\n",
            "client:4 train_acc: 53.38%, train_loss: 3.8592\n",
            "Test set: Average loss: 3.3160, Accuracy: 619/10000 (6.19%)\n"
          ]
        },
        {
          "output_type": "stream",
          "name": "stderr",
          "text": [
            "Round110: User9_1: 100%|████████████████████████████████████████████| 10/10 [00:00<00:00, 21.43it/s]\n",
            "Round110: User10_1: 100%|███████████████████████████████████████████| 10/10 [00:00<00:00, 17.11it/s]\n",
            "Round110: User2_1: 100%|████████████████████████████████████████████| 10/10 [00:00<00:00, 15.51it/s]\n",
            "Round110: User4_1: 100%|████████████████████████████████████████████| 10/10 [00:00<00:00, 17.39it/s]\n",
            "Round110: User5_1: 100%|████████████████████████████████████████████| 10/10 [00:00<00:00, 17.00it/s]\n",
            "Round110: User7_1: 100%|████████████████████████████████████████████| 10/10 [00:00<00:00, 24.32it/s]\n",
            "Round110: User3_1: 100%|████████████████████████████████████████████| 10/10 [00:00<00:00, 22.55it/s]\n",
            "Round110: User1_1: 100%|████████████████████████████████████████████| 10/10 [00:00<00:00, 24.48it/s]\n",
            "Round110: User13_1: 100%|███████████████████████████████████████████| 10/10 [00:00<00:00, 23.27it/s]\n",
            "Round110: User11_1: 100%|███████████████████████████████████████████| 10/10 [00:00<00:00, 24.40it/s]\n",
            "Round110: User0_1: 100%|████████████████████████████████████████████| 10/10 [00:00<00:00, 24.43it/s]\n",
            "Round110: User6_1: 100%|████████████████████████████████████████████| 10/10 [00:00<00:00, 23.67it/s]\n",
            "Round110: User12_1: 100%|███████████████████████████████████████████| 10/10 [00:00<00:00, 25.09it/s]\n",
            "Round110: User8_1: 100%|████████████████████████████████████████████| 10/10 [00:00<00:00, 23.05it/s]\n",
            "Round110: User14_1: 100%|███████████████████████████████████████████| 10/10 [00:00<00:00, 24.72it/s]\n"
          ]
        },
        {
          "output_type": "stream",
          "name": "stdout",
          "text": [
            "client:9 train_acc: 53.80%, train_loss: 0.2476\n",
            "client:10 train_acc: 53.05%, train_loss: 0.5094\n",
            "client:2 train_acc: 53.53%, train_loss: 0.7615\n",
            "client:4 train_acc: 53.42%, train_loss: 1.0211\n",
            "client:5 train_acc: 53.06%, train_loss: 1.2760\n",
            "client:7 train_acc: 52.98%, train_loss: 1.5338\n",
            "client:3 train_acc: 53.11%, train_loss: 1.7918\n",
            "client:1 train_acc: 53.24%, train_loss: 2.0512\n",
            "client:13 train_acc: 53.39%, train_loss: 2.3016\n",
            "client:11 train_acc: 53.56%, train_loss: 2.5640\n",
            "client:0 train_acc: 53.51%, train_loss: 2.8212\n",
            "client:6 train_acc: 53.52%, train_loss: 3.0804\n",
            "client:12 train_acc: 53.55%, train_loss: 3.3389\n",
            "client:8 train_acc: 53.49%, train_loss: 3.6000\n",
            "client:14 train_acc: 53.36%, train_loss: 3.8665\n",
            "Test set: Average loss: 3.3167, Accuracy: 613/10000 (6.13%)\n"
          ]
        },
        {
          "output_type": "stream",
          "name": "stderr",
          "text": [
            "Round111: User3_1: 100%|████████████████████████████████████████████| 10/10 [00:00<00:00, 23.39it/s]\n",
            "Round111: User8_1: 100%|████████████████████████████████████████████| 10/10 [00:00<00:00, 25.04it/s]\n",
            "Round111: User6_1: 100%|████████████████████████████████████████████| 10/10 [00:00<00:00, 23.42it/s]\n",
            "Round111: User12_1: 100%|███████████████████████████████████████████| 10/10 [00:00<00:00, 24.94it/s]\n",
            "Round111: User2_1: 100%|████████████████████████████████████████████| 10/10 [00:00<00:00, 25.59it/s]\n",
            "Round111: User0_1: 100%|████████████████████████████████████████████| 10/10 [00:00<00:00, 21.77it/s]\n",
            "Round111: User14_1: 100%|███████████████████████████████████████████| 10/10 [00:00<00:00, 24.32it/s]\n",
            "Round111: User5_1: 100%|████████████████████████████████████████████| 10/10 [00:00<00:00, 23.15it/s]\n",
            "Round111: User9_1: 100%|████████████████████████████████████████████| 10/10 [00:00<00:00, 23.64it/s]\n",
            "Round111: User10_1: 100%|███████████████████████████████████████████| 10/10 [00:00<00:00, 24.85it/s]\n",
            "Round111: User11_1: 100%|███████████████████████████████████████████| 10/10 [00:00<00:00, 20.95it/s]\n",
            "Round111: User7_1: 100%|████████████████████████████████████████████| 10/10 [00:00<00:00, 24.37it/s]\n",
            "Round111: User13_1: 100%|███████████████████████████████████████████| 10/10 [00:00<00:00, 25.09it/s]\n",
            "Round111: User1_1: 100%|████████████████████████████████████████████| 10/10 [00:00<00:00, 22.67it/s]\n",
            "Round111: User4_1: 100%|████████████████████████████████████████████| 10/10 [00:00<00:00, 24.49it/s]\n"
          ]
        },
        {
          "output_type": "stream",
          "name": "stdout",
          "text": [
            "client:3 train_acc: 53.90%, train_loss: 0.2577\n",
            "client:8 train_acc: 53.75%, train_loss: 0.5176\n",
            "client:6 train_acc: 53.83%, train_loss: 0.7779\n",
            "client:12 train_acc: 53.60%, train_loss: 1.0370\n",
            "client:2 train_acc: 53.66%, train_loss: 1.2905\n",
            "client:0 train_acc: 53.53%, train_loss: 1.5468\n",
            "client:14 train_acc: 53.41%, train_loss: 1.8117\n",
            "client:5 train_acc: 53.24%, train_loss: 2.0657\n",
            "client:9 train_acc: 53.23%, train_loss: 2.3131\n",
            "client:10 train_acc: 53.21%, train_loss: 2.5753\n",
            "client:11 train_acc: 53.38%, train_loss: 2.8371\n",
            "client:7 train_acc: 53.40%, train_loss: 3.0941\n",
            "client:13 train_acc: 53.54%, train_loss: 3.3452\n",
            "client:1 train_acc: 53.57%, train_loss: 3.6049\n",
            "client:4 train_acc: 53.47%, train_loss: 3.8649\n",
            "Test set: Average loss: 3.3401, Accuracy: 646/10000 (6.46%)\n"
          ]
        },
        {
          "output_type": "stream",
          "name": "stderr",
          "text": [
            "Round112: User11_1: 100%|███████████████████████████████████████████| 10/10 [00:00<00:00, 25.30it/s]\n",
            "Round112: User8_1: 100%|████████████████████████████████████████████| 10/10 [00:00<00:00, 22.54it/s]\n",
            "Round112: User14_1: 100%|███████████████████████████████████████████| 10/10 [00:00<00:00, 24.05it/s]\n",
            "Round112: User7_1: 100%|████████████████████████████████████████████| 10/10 [00:00<00:00, 19.06it/s]\n",
            "Round112: User5_1: 100%|████████████████████████████████████████████| 10/10 [00:00<00:00, 17.97it/s]\n",
            "Round112: User9_1: 100%|████████████████████████████████████████████| 10/10 [00:00<00:00, 18.28it/s]\n",
            "Round112: User2_1: 100%|████████████████████████████████████████████| 10/10 [00:00<00:00, 18.36it/s]\n",
            "Round112: User6_1: 100%|████████████████████████████████████████████| 10/10 [00:00<00:00, 17.78it/s]\n",
            "Round112: User10_1: 100%|███████████████████████████████████████████| 10/10 [00:00<00:00, 23.51it/s]\n",
            "Round112: User1_1: 100%|████████████████████████████████████████████| 10/10 [00:00<00:00, 23.62it/s]\n",
            "Round112: User4_1: 100%|████████████████████████████████████████████| 10/10 [00:00<00:00, 25.17it/s]\n",
            "Round112: User3_1: 100%|████████████████████████████████████████████| 10/10 [00:00<00:00, 22.65it/s]\n",
            "Round112: User0_1: 100%|████████████████████████████████████████████| 10/10 [00:00<00:00, 24.43it/s]\n",
            "Round112: User13_1: 100%|███████████████████████████████████████████| 10/10 [00:00<00:00, 24.89it/s]\n",
            "Round112: User12_1: 100%|███████████████████████████████████████████| 10/10 [00:00<00:00, 22.95it/s]\n"
          ]
        },
        {
          "output_type": "stream",
          "name": "stdout",
          "text": [
            "client:11 train_acc: 54.90%, train_loss: 0.2611\n",
            "client:8 train_acc: 53.85%, train_loss: 0.5211\n",
            "client:14 train_acc: 53.20%, train_loss: 0.7859\n",
            "client:7 train_acc: 53.33%, train_loss: 1.0413\n",
            "client:5 train_acc: 53.22%, train_loss: 1.2942\n",
            "client:9 train_acc: 53.23%, train_loss: 1.5401\n",
            "client:2 train_acc: 53.40%, train_loss: 1.7925\n",
            "client:6 train_acc: 53.40%, train_loss: 2.0509\n",
            "client:10 train_acc: 53.33%, train_loss: 2.3128\n",
            "client:1 train_acc: 53.38%, train_loss: 2.5716\n",
            "client:4 train_acc: 53.27%, train_loss: 2.8309\n",
            "client:3 train_acc: 53.37%, train_loss: 3.0880\n",
            "client:0 train_acc: 53.37%, train_loss: 3.3433\n",
            "client:13 train_acc: 53.51%, train_loss: 3.5937\n",
            "client:12 train_acc: 53.43%, train_loss: 3.8525\n",
            "Test set: Average loss: 3.3511, Accuracy: 615/10000 (6.15%)\n"
          ]
        },
        {
          "output_type": "stream",
          "name": "stderr",
          "text": [
            "Round113: User11_1: 100%|███████████████████████████████████████████| 10/10 [00:00<00:00, 24.46it/s]\n",
            "Round113: User5_1: 100%|████████████████████████████████████████████| 10/10 [00:00<00:00, 22.85it/s]\n",
            "Round113: User8_1: 100%|████████████████████████████████████████████| 10/10 [00:00<00:00, 24.23it/s]\n",
            "Round113: User12_1: 100%|███████████████████████████████████████████| 10/10 [00:00<00:00, 24.84it/s]\n",
            "Round113: User1_1: 100%|████████████████████████████████████████████| 10/10 [00:00<00:00, 22.80it/s]\n",
            "Round113: User0_1: 100%|████████████████████████████████████████████| 10/10 [00:00<00:00, 23.48it/s]\n",
            "Round113: User10_1: 100%|███████████████████████████████████████████| 10/10 [00:00<00:00, 24.56it/s]\n",
            "Round113: User2_1: 100%|████████████████████████████████████████████| 10/10 [00:00<00:00, 23.42it/s]\n",
            "Round113: User14_1: 100%|███████████████████████████████████████████| 10/10 [00:00<00:00, 24.79it/s]\n",
            "Round113: User7_1: 100%|████████████████████████████████████████████| 10/10 [00:00<00:00, 22.37it/s]\n",
            "Round113: User13_1: 100%|███████████████████████████████████████████| 10/10 [00:00<00:00, 24.51it/s]\n",
            "Round113: User6_1: 100%|████████████████████████████████████████████| 10/10 [00:00<00:00, 24.46it/s]\n",
            "Round113: User4_1: 100%|████████████████████████████████████████████| 10/10 [00:00<00:00, 22.93it/s]\n",
            "Round113: User9_1: 100%|████████████████████████████████████████████| 10/10 [00:00<00:00, 23.90it/s]\n",
            "Round113: User3_1: 100%|████████████████████████████████████████████| 10/10 [00:00<00:00, 22.56it/s]\n"
          ]
        },
        {
          "output_type": "stream",
          "name": "stdout",
          "text": [
            "client:11 train_acc: 54.60%, train_loss: 0.2600\n",
            "client:5 train_acc: 54.10%, train_loss: 0.5114\n",
            "client:8 train_acc: 53.87%, train_loss: 0.7694\n",
            "client:12 train_acc: 53.52%, train_loss: 1.0272\n",
            "client:1 train_acc: 53.70%, train_loss: 1.2838\n",
            "client:0 train_acc: 53.62%, train_loss: 1.5367\n",
            "client:10 train_acc: 53.44%, train_loss: 1.7972\n",
            "client:2 train_acc: 53.46%, train_loss: 2.0490\n",
            "client:14 train_acc: 53.42%, train_loss: 2.3118\n",
            "client:7 train_acc: 53.58%, train_loss: 2.5657\n",
            "client:13 train_acc: 53.72%, train_loss: 2.8150\n",
            "client:6 train_acc: 53.74%, train_loss: 3.0728\n",
            "client:4 train_acc: 53.74%, train_loss: 3.3304\n",
            "client:9 train_acc: 53.81%, train_loss: 3.5757\n",
            "client:3 train_acc: 53.89%, train_loss: 3.8326\n",
            "Test set: Average loss: 3.2772, Accuracy: 688/10000 (6.88%)\n"
          ]
        },
        {
          "output_type": "stream",
          "name": "stderr",
          "text": [
            "Round114: User5_1: 100%|████████████████████████████████████████████| 10/10 [00:00<00:00, 20.85it/s]\n",
            "Round114: User3_1: 100%|████████████████████████████████████████████| 10/10 [00:00<00:00, 23.08it/s]\n",
            "Round114: User2_1: 100%|████████████████████████████████████████████| 10/10 [00:00<00:00, 22.97it/s]\n",
            "Round114: User1_1: 100%|████████████████████████████████████████████| 10/10 [00:00<00:00, 23.07it/s]\n",
            "Round114: User7_1: 100%|████████████████████████████████████████████| 10/10 [00:00<00:00, 23.66it/s]\n",
            "Round114: User13_1: 100%|███████████████████████████████████████████| 10/10 [00:00<00:00, 25.34it/s]\n",
            "Round114: User12_1: 100%|███████████████████████████████████████████| 10/10 [00:00<00:00, 22.83it/s]\n",
            "Round114: User8_1: 100%|████████████████████████████████████████████| 10/10 [00:00<00:00, 18.32it/s]\n",
            "Round114: User9_1: 100%|████████████████████████████████████████████| 10/10 [00:00<00:00, 15.86it/s]\n",
            "Round114: User6_1: 100%|████████████████████████████████████████████| 10/10 [00:00<00:00, 18.70it/s]\n",
            "Round114: User4_1: 100%|████████████████████████████████████████████| 10/10 [00:00<00:00, 16.03it/s]\n",
            "Round114: User14_1: 100%|███████████████████████████████████████████| 10/10 [00:00<00:00, 23.74it/s]\n",
            "Round114: User0_1: 100%|████████████████████████████████████████████| 10/10 [00:00<00:00, 21.59it/s]\n",
            "Round114: User11_1: 100%|███████████████████████████████████████████| 10/10 [00:00<00:00, 24.26it/s]\n",
            "Round114: User10_1: 100%|███████████████████████████████████████████| 10/10 [00:00<00:00, 22.41it/s]\n"
          ]
        },
        {
          "output_type": "stream",
          "name": "stdout",
          "text": [
            "client:5 train_acc: 52.60%, train_loss: 0.2532\n",
            "client:3 train_acc: 53.60%, train_loss: 0.5102\n",
            "client:2 train_acc: 53.87%, train_loss: 0.7610\n",
            "client:1 train_acc: 53.70%, train_loss: 1.0179\n",
            "client:7 train_acc: 53.40%, train_loss: 1.2744\n",
            "client:13 train_acc: 53.73%, train_loss: 1.5219\n",
            "client:12 train_acc: 53.79%, train_loss: 1.7789\n",
            "client:8 train_acc: 53.81%, train_loss: 2.0373\n",
            "client:9 train_acc: 53.79%, train_loss: 2.2840\n",
            "client:6 train_acc: 53.80%, train_loss: 2.5416\n",
            "client:4 train_acc: 53.81%, train_loss: 2.7998\n",
            "client:14 train_acc: 53.73%, train_loss: 3.0628\n",
            "client:0 train_acc: 53.66%, train_loss: 3.3184\n",
            "client:11 train_acc: 53.79%, train_loss: 3.5793\n",
            "client:10 train_acc: 53.69%, train_loss: 3.8396\n",
            "Test set: Average loss: 3.3086, Accuracy: 671/10000 (6.71%)\n"
          ]
        },
        {
          "output_type": "stream",
          "name": "stderr",
          "text": [
            "Round115: User6_1: 100%|████████████████████████████████████████████| 10/10 [00:00<00:00, 24.25it/s]\n",
            "Round115: User5_1: 100%|████████████████████████████████████████████| 10/10 [00:00<00:00, 23.42it/s]\n",
            "Round115: User4_1: 100%|████████████████████████████████████████████| 10/10 [00:00<00:00, 20.45it/s]\n",
            "Round115: User0_1: 100%|████████████████████████████████████████████| 10/10 [00:00<00:00, 24.97it/s]\n",
            "Round115: User8_1: 100%|████████████████████████████████████████████| 10/10 [00:00<00:00, 22.23it/s]\n",
            "Round115: User7_1: 100%|████████████████████████████████████████████| 10/10 [00:00<00:00, 22.98it/s]\n",
            "Round115: User13_1: 100%|███████████████████████████████████████████| 10/10 [00:00<00:00, 24.30it/s]\n",
            "Round115: User11_1: 100%|███████████████████████████████████████████| 10/10 [00:00<00:00, 22.16it/s]\n",
            "Round115: User14_1: 100%|███████████████████████████████████████████| 10/10 [00:00<00:00, 23.35it/s]\n",
            "Round115: User12_1: 100%|███████████████████████████████████████████| 10/10 [00:00<00:00, 23.58it/s]\n",
            "Round115: User10_1: 100%|███████████████████████████████████████████| 10/10 [00:00<00:00, 23.38it/s]\n",
            "Round115: User3_1: 100%|████████████████████████████████████████████| 10/10 [00:00<00:00, 25.10it/s]\n",
            "Round115: User9_1: 100%|████████████████████████████████████████████| 10/10 [00:00<00:00, 23.29it/s]\n",
            "Round115: User1_1: 100%|████████████████████████████████████████████| 10/10 [00:00<00:00, 24.36it/s]\n",
            "Round115: User2_1: 100%|████████████████████████████████████████████| 10/10 [00:00<00:00, 24.46it/s]\n"
          ]
        },
        {
          "output_type": "stream",
          "name": "stdout",
          "text": [
            "client:6 train_acc: 52.40%, train_loss: 0.2621\n",
            "client:5 train_acc: 52.20%, train_loss: 0.5169\n",
            "client:4 train_acc: 52.03%, train_loss: 0.7747\n",
            "client:0 train_acc: 52.28%, train_loss: 1.0303\n",
            "client:8 train_acc: 52.48%, train_loss: 1.2902\n",
            "client:7 train_acc: 52.73%, train_loss: 1.5462\n",
            "client:13 train_acc: 53.09%, train_loss: 1.7979\n",
            "client:11 train_acc: 53.15%, train_loss: 2.0595\n",
            "client:14 train_acc: 53.14%, train_loss: 2.3239\n",
            "client:12 train_acc: 52.99%, train_loss: 2.5842\n",
            "client:10 train_acc: 53.14%, train_loss: 2.8464\n",
            "client:3 train_acc: 53.26%, train_loss: 3.1041\n",
            "client:9 train_acc: 53.33%, train_loss: 3.3507\n",
            "client:1 train_acc: 53.32%, train_loss: 3.6099\n",
            "client:2 train_acc: 53.32%, train_loss: 3.8654\n",
            "Test set: Average loss: 3.3740, Accuracy: 710/10000 (7.10%)\n"
          ]
        },
        {
          "output_type": "stream",
          "name": "stderr",
          "text": [
            "Round116: User6_1: 100%|████████████████████████████████████████████| 10/10 [00:00<00:00, 22.21it/s]\n",
            "Round116: User4_1: 100%|████████████████████████████████████████████| 10/10 [00:00<00:00, 21.66it/s]\n",
            "Round116: User10_1: 100%|███████████████████████████████████████████| 10/10 [00:00<00:00, 23.82it/s]\n",
            "Round116: User13_1: 100%|███████████████████████████████████████████| 10/10 [00:00<00:00, 23.43it/s]\n",
            "Round116: User12_1: 100%|███████████████████████████████████████████| 10/10 [00:00<00:00, 25.43it/s]\n",
            "Round116: User11_1: 100%|███████████████████████████████████████████| 10/10 [00:00<00:00, 22.58it/s]\n",
            "Round116: User3_1: 100%|████████████████████████████████████████████| 10/10 [00:00<00:00, 24.64it/s]\n",
            "Round116: User7_1: 100%|████████████████████████████████████████████| 10/10 [00:00<00:00, 23.59it/s]\n",
            "Round116: User9_1: 100%|████████████████████████████████████████████| 10/10 [00:00<00:00, 23.84it/s]\n",
            "Round116: User5_1: 100%|████████████████████████████████████████████| 10/10 [00:00<00:00, 24.35it/s]\n",
            "Round116: User2_1: 100%|████████████████████████████████████████████| 10/10 [00:00<00:00, 17.84it/s]\n",
            "Round116: User8_1: 100%|████████████████████████████████████████████| 10/10 [00:00<00:00, 17.96it/s]\n",
            "Round116: User0_1: 100%|████████████████████████████████████████████| 10/10 [00:00<00:00, 17.27it/s]\n",
            "Round116: User1_1: 100%|████████████████████████████████████████████| 10/10 [00:00<00:00, 18.13it/s]\n",
            "Round116: User14_1: 100%|███████████████████████████████████████████| 10/10 [00:00<00:00, 18.77it/s]\n"
          ]
        },
        {
          "output_type": "stream",
          "name": "stdout",
          "text": [
            "client:6 train_acc: 53.70%, train_loss: 0.2567\n",
            "client:4 train_acc: 54.20%, train_loss: 0.5143\n",
            "client:10 train_acc: 54.13%, train_loss: 0.7735\n",
            "client:13 train_acc: 54.67%, train_loss: 1.0203\n",
            "client:12 train_acc: 54.22%, train_loss: 1.2768\n",
            "client:11 train_acc: 54.47%, train_loss: 1.5358\n",
            "client:3 train_acc: 54.53%, train_loss: 1.7914\n",
            "client:7 train_acc: 54.44%, train_loss: 2.0446\n",
            "client:9 train_acc: 54.56%, train_loss: 2.2894\n",
            "client:5 train_acc: 54.41%, train_loss: 2.5413\n",
            "client:2 train_acc: 54.47%, train_loss: 2.7920\n",
            "client:8 train_acc: 54.35%, train_loss: 3.0495\n",
            "client:0 train_acc: 54.28%, train_loss: 3.3029\n",
            "client:1 train_acc: 54.22%, train_loss: 3.5583\n",
            "client:14 train_acc: 54.11%, train_loss: 3.8204\n",
            "Test set: Average loss: 3.2973, Accuracy: 704/10000 (7.04%)\n"
          ]
        },
        {
          "output_type": "stream",
          "name": "stderr",
          "text": [
            "Round117: User7_1: 100%|████████████████████████████████████████████| 10/10 [00:00<00:00, 16.00it/s]\n",
            "Round117: User10_1: 100%|███████████████████████████████████████████| 10/10 [00:00<00:00, 15.97it/s]\n",
            "Round117: User2_1: 100%|████████████████████████████████████████████| 10/10 [00:00<00:00, 17.13it/s]\n",
            "Round117: User0_1: 100%|████████████████████████████████████████████| 10/10 [00:00<00:00, 22.65it/s]\n",
            "Round117: User8_1: 100%|████████████████████████████████████████████| 10/10 [00:00<00:00, 22.59it/s]\n",
            "Round117: User3_1: 100%|████████████████████████████████████████████| 10/10 [00:00<00:00, 24.55it/s]\n",
            "Round117: User14_1: 100%|███████████████████████████████████████████| 10/10 [00:00<00:00, 22.73it/s]\n",
            "Round117: User12_1: 100%|███████████████████████████████████████████| 10/10 [00:00<00:00, 19.18it/s]\n",
            "Round117: User5_1: 100%|████████████████████████████████████████████| 10/10 [00:00<00:00, 24.49it/s]\n",
            "Round117: User11_1: 100%|███████████████████████████████████████████| 10/10 [00:00<00:00, 25.52it/s]\n",
            "Round117: User6_1: 100%|████████████████████████████████████████████| 10/10 [00:00<00:00, 24.51it/s]\n",
            "Round117: User4_1: 100%|████████████████████████████████████████████| 10/10 [00:00<00:00, 24.33it/s]\n",
            "Round117: User13_1: 100%|███████████████████████████████████████████| 10/10 [00:00<00:00, 22.92it/s]\n",
            "Round117: User1_1: 100%|████████████████████████████████████████████| 10/10 [00:00<00:00, 25.09it/s]\n",
            "Round117: User9_1: 100%|████████████████████████████████████████████| 10/10 [00:00<00:00, 22.98it/s]\n"
          ]
        },
        {
          "output_type": "stream",
          "name": "stdout",
          "text": [
            "client:7 train_acc: 55.40%, train_loss: 0.2537\n",
            "client:10 train_acc: 55.30%, train_loss: 0.5107\n",
            "client:2 train_acc: 55.07%, train_loss: 0.7610\n",
            "client:0 train_acc: 54.83%, train_loss: 1.0136\n",
            "client:8 train_acc: 54.56%, train_loss: 1.2687\n",
            "client:3 train_acc: 54.68%, train_loss: 1.5225\n",
            "client:14 train_acc: 54.51%, train_loss: 1.7826\n",
            "client:12 train_acc: 54.37%, train_loss: 2.0388\n",
            "client:5 train_acc: 54.18%, train_loss: 2.2894\n",
            "client:11 train_acc: 54.32%, train_loss: 2.5477\n",
            "client:6 train_acc: 54.27%, train_loss: 2.8041\n",
            "client:4 train_acc: 54.21%, train_loss: 3.0586\n",
            "client:13 train_acc: 54.32%, train_loss: 3.3049\n",
            "client:1 train_acc: 54.29%, train_loss: 3.5594\n",
            "client:9 train_acc: 54.34%, train_loss: 3.8035\n",
            "Test set: Average loss: 3.3074, Accuracy: 721/10000 (7.21%)\n"
          ]
        },
        {
          "output_type": "stream",
          "name": "stderr",
          "text": [
            "Round118: User2_1: 100%|████████████████████████████████████████████| 10/10 [00:00<00:00, 23.81it/s]\n",
            "Round118: User6_1: 100%|████████████████████████████████████████████| 10/10 [00:00<00:00, 23.41it/s]\n",
            "Round118: User10_1: 100%|███████████████████████████████████████████| 10/10 [00:00<00:00, 24.75it/s]\n",
            "Round118: User8_1: 100%|████████████████████████████████████████████| 10/10 [00:00<00:00, 22.99it/s]\n",
            "Round118: User4_1: 100%|████████████████████████████████████████████| 10/10 [00:00<00:00, 24.50it/s]\n",
            "Round118: User13_1: 100%|███████████████████████████████████████████| 10/10 [00:00<00:00, 22.53it/s]\n",
            "Round118: User11_1: 100%|███████████████████████████████████████████| 10/10 [00:00<00:00, 20.68it/s]\n",
            "Round118: User7_1: 100%|████████████████████████████████████████████| 10/10 [00:00<00:00, 24.14it/s]\n",
            "Round118: User0_1: 100%|████████████████████████████████████████████| 10/10 [00:00<00:00, 24.04it/s]\n",
            "Round118: User14_1: 100%|███████████████████████████████████████████| 10/10 [00:00<00:00, 23.65it/s]\n",
            "Round118: User5_1: 100%|████████████████████████████████████████████| 10/10 [00:00<00:00, 23.58it/s]\n",
            "Round118: User12_1: 100%|███████████████████████████████████████████| 10/10 [00:00<00:00, 23.98it/s]\n",
            "Round118: User1_1: 100%|████████████████████████████████████████████| 10/10 [00:00<00:00, 23.23it/s]\n",
            "Round118: User9_1: 100%|████████████████████████████████████████████| 10/10 [00:00<00:00, 20.90it/s]\n",
            "Round118: User3_1: 100%|████████████████████████████████████████████| 10/10 [00:00<00:00, 18.50it/s]\n"
          ]
        },
        {
          "output_type": "stream",
          "name": "stdout",
          "text": [
            "client:2 train_acc: 55.00%, train_loss: 0.2494\n",
            "client:6 train_acc: 54.75%, train_loss: 0.5046\n",
            "client:10 train_acc: 54.60%, train_loss: 0.7616\n",
            "client:8 train_acc: 54.47%, train_loss: 1.0169\n",
            "client:4 train_acc: 54.38%, train_loss: 1.2719\n",
            "client:13 train_acc: 54.62%, train_loss: 1.5180\n",
            "client:11 train_acc: 54.67%, train_loss: 1.7755\n",
            "client:7 train_acc: 54.75%, train_loss: 2.0277\n",
            "client:0 train_acc: 54.72%, train_loss: 2.2792\n",
            "client:14 train_acc: 54.62%, train_loss: 2.5394\n",
            "client:5 train_acc: 54.50%, train_loss: 2.7896\n",
            "client:12 train_acc: 54.39%, train_loss: 3.0446\n",
            "client:1 train_acc: 54.37%, train_loss: 3.2983\n",
            "client:9 train_acc: 54.46%, train_loss: 3.5414\n",
            "client:3 train_acc: 54.53%, train_loss: 3.7953\n",
            "Test set: Average loss: 3.2973, Accuracy: 682/10000 (6.82%)\n"
          ]
        },
        {
          "output_type": "stream",
          "name": "stderr",
          "text": [
            "Round119: User12_1: 100%|███████████████████████████████████████████| 10/10 [00:00<00:00, 23.05it/s]\n",
            "Round119: User6_1: 100%|████████████████████████████████████████████| 10/10 [00:00<00:00, 24.29it/s]\n",
            "Round119: User4_1: 100%|████████████████████████████████████████████| 10/10 [00:00<00:00, 18.36it/s]\n",
            "Round119: User7_1: 100%|████████████████████████████████████████████| 10/10 [00:00<00:00, 17.52it/s]\n",
            "Round119: User11_1: 100%|███████████████████████████████████████████| 10/10 [00:00<00:00, 16.37it/s]\n",
            "Round119: User5_1: 100%|████████████████████████████████████████████| 10/10 [00:00<00:00, 17.39it/s]\n",
            "Round119: User0_1: 100%|████████████████████████████████████████████| 10/10 [00:00<00:00, 22.42it/s]\n",
            "Round119: User2_1: 100%|████████████████████████████████████████████| 10/10 [00:00<00:00, 23.20it/s]\n",
            "Round119: User8_1: 100%|████████████████████████████████████████████| 10/10 [00:00<00:00, 21.01it/s]\n",
            "Round119: User13_1: 100%|███████████████████████████████████████████| 10/10 [00:00<00:00, 23.93it/s]\n",
            "Round119: User10_1: 100%|███████████████████████████████████████████| 10/10 [00:00<00:00, 24.42it/s]\n",
            "Round119: User14_1: 100%|███████████████████████████████████████████| 10/10 [00:00<00:00, 25.17it/s]\n",
            "Round119: User9_1: 100%|████████████████████████████████████████████| 10/10 [00:00<00:00, 22.84it/s]\n",
            "Round119: User1_1: 100%|████████████████████████████████████████████| 10/10 [00:00<00:00, 24.91it/s]\n",
            "Round119: User3_1: 100%|████████████████████████████████████████████| 10/10 [00:00<00:00, 23.48it/s]\n"
          ]
        },
        {
          "output_type": "stream",
          "name": "stdout",
          "text": [
            "client:12 train_acc: 53.00%, train_loss: 0.2558\n",
            "client:6 train_acc: 53.25%, train_loss: 0.5122\n",
            "client:4 train_acc: 53.23%, train_loss: 0.7665\n",
            "client:7 train_acc: 53.60%, train_loss: 1.0196\n",
            "client:11 train_acc: 54.04%, train_loss: 1.2769\n",
            "client:5 train_acc: 53.92%, train_loss: 1.5273\n",
            "client:0 train_acc: 53.93%, train_loss: 1.7803\n",
            "client:2 train_acc: 53.94%, train_loss: 2.0302\n",
            "client:8 train_acc: 53.94%, train_loss: 2.2858\n",
            "client:13 train_acc: 54.16%, train_loss: 2.5321\n",
            "client:10 train_acc: 54.20%, train_loss: 2.7897\n",
            "client:14 train_acc: 54.17%, train_loss: 3.0503\n",
            "client:9 train_acc: 54.25%, train_loss: 3.2935\n",
            "client:1 train_acc: 54.25%, train_loss: 3.5483\n",
            "client:3 train_acc: 54.31%, train_loss: 3.8015\n",
            "Test set: Average loss: 3.3713, Accuracy: 652/10000 (6.52%)\n"
          ]
        },
        {
          "output_type": "stream",
          "name": "stderr",
          "text": [
            "Round120: User7_1: 100%|████████████████████████████████████████████| 10/10 [00:00<00:00, 24.71it/s]\n",
            "Round120: User4_1: 100%|████████████████████████████████████████████| 10/10 [00:00<00:00, 25.23it/s]\n",
            "Round120: User10_1: 100%|███████████████████████████████████████████| 10/10 [00:00<00:00, 23.13it/s]\n",
            "Round120: User6_1: 100%|████████████████████████████████████████████| 10/10 [00:00<00:00, 25.63it/s]\n",
            "Round120: User1_1: 100%|████████████████████████████████████████████| 10/10 [00:00<00:00, 21.93it/s]\n",
            "Round120: User0_1: 100%|████████████████████████████████████████████| 10/10 [00:00<00:00, 24.76it/s]\n",
            "Round120: User5_1: 100%|████████████████████████████████████████████| 10/10 [00:00<00:00, 25.11it/s]\n",
            "Round120: User14_1: 100%|███████████████████████████████████████████| 10/10 [00:00<00:00, 23.92it/s]\n",
            "Round120: User8_1: 100%|████████████████████████████████████████████| 10/10 [00:00<00:00, 24.11it/s]\n",
            "Round120: User11_1: 100%|███████████████████████████████████████████| 10/10 [00:00<00:00, 19.46it/s]\n",
            "Round120: User2_1: 100%|████████████████████████████████████████████| 10/10 [00:00<00:00, 24.02it/s]\n",
            "Round120: User9_1: 100%|████████████████████████████████████████████| 10/10 [00:00<00:00, 25.88it/s]\n",
            "Round120: User12_1: 100%|███████████████████████████████████████████| 10/10 [00:00<00:00, 21.56it/s]\n",
            "Round120: User3_1: 100%|████████████████████████████████████████████| 10/10 [00:00<00:00, 23.65it/s]\n",
            "Round120: User13_1: 100%|███████████████████████████████████████████| 10/10 [00:00<00:00, 23.85it/s]\n"
          ]
        },
        {
          "output_type": "stream",
          "name": "stdout",
          "text": [
            "client:7 train_acc: 55.80%, train_loss: 0.2505\n",
            "client:4 train_acc: 54.95%, train_loss: 0.5055\n",
            "client:10 train_acc: 54.47%, train_loss: 0.7621\n",
            "client:6 train_acc: 54.35%, train_loss: 1.0157\n",
            "client:1 train_acc: 54.42%, train_loss: 1.2682\n",
            "client:0 train_acc: 54.45%, train_loss: 1.5185\n",
            "client:5 train_acc: 54.29%, train_loss: 1.7674\n",
            "client:14 train_acc: 54.16%, train_loss: 2.0271\n",
            "client:8 train_acc: 54.13%, train_loss: 2.2820\n",
            "client:11 train_acc: 54.25%, train_loss: 2.5380\n",
            "client:2 train_acc: 54.44%, train_loss: 2.7858\n",
            "client:9 train_acc: 54.57%, train_loss: 3.0279\n",
            "client:12 train_acc: 54.57%, train_loss: 3.2817\n",
            "client:3 train_acc: 54.60%, train_loss: 3.5345\n",
            "client:13 train_acc: 54.67%, train_loss: 3.7796\n",
            "Test set: Average loss: 3.2758, Accuracy: 668/10000 (6.68%)\n"
          ]
        },
        {
          "output_type": "stream",
          "name": "stderr",
          "text": [
            "Round121: User0_1: 100%|████████████████████████████████████████████| 10/10 [00:00<00:00, 24.46it/s]\n",
            "Round121: User10_1: 100%|███████████████████████████████████████████| 10/10 [00:00<00:00, 23.32it/s]\n",
            "Round121: User14_1: 100%|███████████████████████████████████████████| 10/10 [00:00<00:00, 24.98it/s]\n",
            "Round121: User7_1: 100%|████████████████████████████████████████████| 10/10 [00:00<00:00, 23.13it/s]\n",
            "Round121: User3_1: 100%|████████████████████████████████████████████| 10/10 [00:00<00:00, 24.11it/s]\n",
            "Round121: User2_1: 100%|████████████████████████████████████████████| 10/10 [00:00<00:00, 19.63it/s]\n",
            "Round121: User13_1: 100%|███████████████████████████████████████████| 10/10 [00:00<00:00, 17.20it/s]\n",
            "Round121: User11_1: 100%|███████████████████████████████████████████| 10/10 [00:00<00:00, 17.04it/s]\n",
            "Round121: User8_1: 100%|████████████████████████████████████████████| 10/10 [00:00<00:00, 16.17it/s]\n",
            "Round121: User5_1: 100%|████████████████████████████████████████████| 10/10 [00:00<00:00, 18.91it/s]\n",
            "Round121: User9_1: 100%|████████████████████████████████████████████| 10/10 [00:00<00:00, 23.03it/s]\n",
            "Round121: User12_1: 100%|███████████████████████████████████████████| 10/10 [00:00<00:00, 23.97it/s]\n",
            "Round121: User1_1: 100%|████████████████████████████████████████████| 10/10 [00:00<00:00, 22.49it/s]\n",
            "Round121: User4_1: 100%|████████████████████████████████████████████| 10/10 [00:00<00:00, 24.56it/s]\n",
            "Round121: User6_1: 100%|████████████████████████████████████████████| 10/10 [00:00<00:00, 23.50it/s]\n"
          ]
        },
        {
          "output_type": "stream",
          "name": "stdout",
          "text": [
            "client:0 train_acc: 54.50%, train_loss: 0.2525\n",
            "client:10 train_acc: 54.50%, train_loss: 0.5096\n",
            "client:14 train_acc: 54.17%, train_loss: 0.7690\n",
            "client:7 train_acc: 54.30%, train_loss: 1.0211\n",
            "client:3 train_acc: 54.60%, train_loss: 1.2736\n",
            "client:2 train_acc: 54.70%, train_loss: 1.5214\n",
            "client:13 train_acc: 55.09%, train_loss: 1.7658\n",
            "client:11 train_acc: 55.21%, train_loss: 2.0226\n",
            "client:8 train_acc: 55.04%, train_loss: 2.2785\n",
            "client:5 train_acc: 54.78%, train_loss: 2.5289\n",
            "client:9 train_acc: 54.79%, train_loss: 2.7719\n",
            "client:12 train_acc: 54.77%, train_loss: 3.0264\n",
            "client:1 train_acc: 54.72%, train_loss: 3.2817\n",
            "client:4 train_acc: 54.71%, train_loss: 3.5342\n",
            "client:6 train_acc: 54.62%, train_loss: 3.7908\n",
            "Test set: Average loss: 3.3673, Accuracy: 665/10000 (6.65%)\n"
          ]
        },
        {
          "output_type": "stream",
          "name": "stderr",
          "text": [
            "Round122: User10_1: 100%|███████████████████████████████████████████| 10/10 [00:00<00:00, 21.53it/s]\n",
            "Round122: User13_1: 100%|███████████████████████████████████████████| 10/10 [00:00<00:00, 22.65it/s]\n",
            "Round122: User7_1: 100%|████████████████████████████████████████████| 10/10 [00:00<00:00, 23.32it/s]\n",
            "Round122: User3_1: 100%|████████████████████████████████████████████| 10/10 [00:00<00:00, 23.49it/s]\n",
            "Round122: User11_1: 100%|███████████████████████████████████████████| 10/10 [00:00<00:00, 24.84it/s]\n",
            "Round122: User12_1: 100%|███████████████████████████████████████████| 10/10 [00:00<00:00, 22.38it/s]\n",
            "Round122: User9_1: 100%|████████████████████████████████████████████| 10/10 [00:00<00:00, 23.39it/s]\n",
            "Round122: User5_1: 100%|████████████████████████████████████████████| 10/10 [00:00<00:00, 22.77it/s]\n",
            "Round122: User0_1: 100%|████████████████████████████████████████████| 10/10 [00:00<00:00, 23.85it/s]\n",
            "Round122: User6_1: 100%|████████████████████████████████████████████| 10/10 [00:00<00:00, 23.53it/s]\n",
            "Round122: User4_1: 100%|████████████████████████████████████████████| 10/10 [00:00<00:00, 23.75it/s]\n",
            "Round122: User14_1: 100%|███████████████████████████████████████████| 10/10 [00:00<00:00, 24.34it/s]\n",
            "Round122: User2_1: 100%|████████████████████████████████████████████| 10/10 [00:00<00:00, 22.84it/s]\n",
            "Round122: User1_1: 100%|████████████████████████████████████████████| 10/10 [00:00<00:00, 24.15it/s]\n",
            "Round122: User8_1: 100%|████████████████████████████████████████████| 10/10 [00:00<00:00, 19.24it/s]\n"
          ]
        },
        {
          "output_type": "stream",
          "name": "stdout",
          "text": [
            "client:10 train_acc: 53.40%, train_loss: 0.2564\n",
            "client:13 train_acc: 54.75%, train_loss: 0.5012\n",
            "client:7 train_acc: 54.40%, train_loss: 0.7529\n",
            "client:3 train_acc: 54.80%, train_loss: 1.0052\n",
            "client:11 train_acc: 55.08%, train_loss: 1.2620\n",
            "client:12 train_acc: 54.85%, train_loss: 1.5155\n",
            "client:9 train_acc: 54.79%, train_loss: 1.7562\n",
            "client:5 train_acc: 54.61%, train_loss: 2.0040\n",
            "client:0 train_acc: 54.53%, train_loss: 2.2550\n",
            "client:6 train_acc: 54.60%, train_loss: 2.5073\n",
            "client:4 train_acc: 54.57%, train_loss: 2.7624\n",
            "client:14 train_acc: 54.44%, train_loss: 3.0221\n",
            "client:2 train_acc: 54.44%, train_loss: 3.2698\n",
            "client:1 train_acc: 54.46%, train_loss: 3.5227\n",
            "client:8 train_acc: 54.43%, train_loss: 3.7774\n",
            "Test set: Average loss: 3.3362, Accuracy: 627/10000 (6.27%)\n"
          ]
        },
        {
          "output_type": "stream",
          "name": "stderr",
          "text": [
            "Round123: User12_1: 100%|███████████████████████████████████████████| 10/10 [00:00<00:00, 23.38it/s]\n",
            "Round123: User0_1: 100%|████████████████████████████████████████████| 10/10 [00:00<00:00, 24.17it/s]\n",
            "Round123: User14_1: 100%|███████████████████████████████████████████| 10/10 [00:00<00:00, 21.05it/s]\n",
            "Round123: User3_1: 100%|████████████████████████████████████████████| 10/10 [00:00<00:00, 23.67it/s]\n",
            "Round123: User7_1: 100%|████████████████████████████████████████████| 10/10 [00:00<00:00, 23.30it/s]\n",
            "Round123: User5_1: 100%|████████████████████████████████████████████| 10/10 [00:00<00:00, 24.81it/s]\n",
            "Round123: User2_1: 100%|████████████████████████████████████████████| 10/10 [00:00<00:00, 24.05it/s]\n",
            "Round123: User6_1: 100%|████████████████████████████████████████████| 10/10 [00:00<00:00, 23.50it/s]\n",
            "Round123: User9_1: 100%|████████████████████████████████████████████| 10/10 [00:00<00:00, 18.58it/s]\n",
            "Round123: User13_1: 100%|███████████████████████████████████████████| 10/10 [00:00<00:00, 18.03it/s]\n",
            "Round123: User11_1: 100%|███████████████████████████████████████████| 10/10 [00:00<00:00, 18.29it/s]\n",
            "Round123: User4_1: 100%|████████████████████████████████████████████| 10/10 [00:00<00:00, 16.96it/s]\n",
            "Round123: User1_1: 100%|████████████████████████████████████████████| 10/10 [00:00<00:00, 21.81it/s]\n",
            "Round123: User10_1: 100%|███████████████████████████████████████████| 10/10 [00:00<00:00, 23.20it/s]\n",
            "Round123: User8_1: 100%|████████████████████████████████████████████| 10/10 [00:00<00:00, 25.62it/s]\n"
          ]
        },
        {
          "output_type": "stream",
          "name": "stdout",
          "text": [
            "client:12 train_acc: 53.80%, train_loss: 0.2547\n",
            "client:0 train_acc: 53.55%, train_loss: 0.5051\n",
            "client:14 train_acc: 53.57%, train_loss: 0.7651\n",
            "client:3 train_acc: 54.17%, train_loss: 1.0181\n",
            "client:7 train_acc: 54.42%, train_loss: 1.2688\n",
            "client:5 train_acc: 54.22%, train_loss: 1.5195\n",
            "client:2 train_acc: 54.47%, train_loss: 1.7677\n",
            "client:6 train_acc: 54.24%, train_loss: 2.0249\n",
            "client:9 train_acc: 54.40%, train_loss: 2.2682\n",
            "client:13 train_acc: 54.53%, train_loss: 2.5135\n",
            "client:11 train_acc: 54.57%, train_loss: 2.7705\n",
            "client:4 train_acc: 54.53%, train_loss: 3.0236\n",
            "client:1 train_acc: 54.52%, train_loss: 3.2785\n",
            "client:10 train_acc: 54.49%, train_loss: 3.5356\n",
            "client:8 train_acc: 54.44%, train_loss: 3.7912\n",
            "Test set: Average loss: 3.3312, Accuracy: 674/10000 (6.74%)\n"
          ]
        },
        {
          "output_type": "stream",
          "name": "stderr",
          "text": [
            "Round124: User13_1: 100%|███████████████████████████████████████████| 10/10 [00:00<00:00, 16.27it/s]\n",
            "Round124: User12_1: 100%|███████████████████████████████████████████| 10/10 [00:00<00:00, 24.77it/s]\n",
            "Round124: User11_1: 100%|███████████████████████████████████████████| 10/10 [00:00<00:00, 23.41it/s]\n",
            "Round124: User6_1: 100%|████████████████████████████████████████████| 10/10 [00:00<00:00, 24.92it/s]\n",
            "Round124: User3_1: 100%|████████████████████████████████████████████| 10/10 [00:00<00:00, 24.24it/s]\n",
            "Round124: User14_1: 100%|███████████████████████████████████████████| 10/10 [00:00<00:00, 23.19it/s]\n",
            "Round124: User10_1: 100%|███████████████████████████████████████████| 10/10 [00:00<00:00, 24.00it/s]\n",
            "Round124: User9_1: 100%|████████████████████████████████████████████| 10/10 [00:00<00:00, 23.94it/s]\n",
            "Round124: User2_1: 100%|████████████████████████████████████████████| 10/10 [00:00<00:00, 22.07it/s]\n",
            "Round124: User0_1: 100%|████████████████████████████████████████████| 10/10 [00:00<00:00, 24.74it/s]\n",
            "Round124: User8_1: 100%|████████████████████████████████████████████| 10/10 [00:00<00:00, 22.31it/s]\n",
            "Round124: User5_1: 100%|████████████████████████████████████████████| 10/10 [00:00<00:00, 24.71it/s]\n",
            "Round124: User4_1: 100%|████████████████████████████████████████████| 10/10 [00:00<00:00, 25.24it/s]\n",
            "Round124: User7_1: 100%|████████████████████████████████████████████| 10/10 [00:00<00:00, 22.85it/s]\n",
            "Round124: User1_1: 100%|████████████████████████████████████████████| 10/10 [00:00<00:00, 24.05it/s]\n"
          ]
        },
        {
          "output_type": "stream",
          "name": "stdout",
          "text": [
            "client:13 train_acc: 56.30%, train_loss: 0.2454\n",
            "client:12 train_acc: 55.15%, train_loss: 0.4991\n",
            "client:11 train_acc: 55.47%, train_loss: 0.7571\n",
            "client:6 train_acc: 55.35%, train_loss: 1.0113\n",
            "client:3 train_acc: 55.46%, train_loss: 1.2653\n",
            "client:14 train_acc: 54.95%, train_loss: 1.5265\n",
            "client:10 train_acc: 54.67%, train_loss: 1.7840\n",
            "client:9 train_acc: 54.64%, train_loss: 2.0281\n",
            "client:2 train_acc: 54.57%, train_loss: 2.2766\n",
            "client:0 train_acc: 54.52%, train_loss: 2.5306\n",
            "client:8 train_acc: 54.47%, train_loss: 2.7852\n",
            "client:5 train_acc: 54.38%, train_loss: 3.0352\n",
            "client:4 train_acc: 54.39%, train_loss: 3.2922\n",
            "client:7 train_acc: 54.22%, train_loss: 3.5468\n",
            "client:1 train_acc: 54.20%, train_loss: 3.8005\n",
            "Test set: Average loss: 3.3180, Accuracy: 632/10000 (6.32%)\n"
          ]
        },
        {
          "output_type": "stream",
          "name": "stderr",
          "text": [
            "Round125: User2_1: 100%|████████████████████████████████████████████| 10/10 [00:00<00:00, 24.21it/s]\n",
            "Round125: User7_1: 100%|████████████████████████████████████████████| 10/10 [00:00<00:00, 24.34it/s]\n",
            "Round125: User6_1: 100%|████████████████████████████████████████████| 10/10 [00:00<00:00, 23.66it/s]\n",
            "Round125: User3_1: 100%|████████████████████████████████████████████| 10/10 [00:00<00:00, 24.90it/s]\n",
            "Round125: User10_1: 100%|███████████████████████████████████████████| 10/10 [00:00<00:00, 22.71it/s]\n",
            "Round125: User4_1: 100%|████████████████████████████████████████████| 10/10 [00:00<00:00, 25.02it/s]\n",
            "Round125: User8_1: 100%|████████████████████████████████████████████| 10/10 [00:00<00:00, 24.23it/s]\n",
            "Round125: User0_1: 100%|████████████████████████████████████████████| 10/10 [00:00<00:00, 23.61it/s]\n",
            "Round125: User12_1: 100%|███████████████████████████████████████████| 10/10 [00:00<00:00, 24.83it/s]\n",
            "Round125: User14_1: 100%|███████████████████████████████████████████| 10/10 [00:00<00:00, 22.81it/s]\n",
            "Round125: User13_1: 100%|███████████████████████████████████████████| 10/10 [00:00<00:00, 25.19it/s]\n",
            "Round125: User11_1: 100%|███████████████████████████████████████████| 10/10 [00:00<00:00, 23.58it/s]\n",
            "Round125: User1_1: 100%|████████████████████████████████████████████| 10/10 [00:00<00:00, 16.20it/s]\n",
            "Round125: User9_1: 100%|████████████████████████████████████████████| 10/10 [00:00<00:00, 17.84it/s]\n",
            "Round125: User5_1: 100%|████████████████████████████████████████████| 10/10 [00:00<00:00, 15.86it/s]\n"
          ]
        },
        {
          "output_type": "stream",
          "name": "stdout",
          "text": [
            "client:2 train_acc: 56.10%, train_loss: 0.2462\n",
            "client:7 train_acc: 55.95%, train_loss: 0.4954\n",
            "client:6 train_acc: 55.03%, train_loss: 0.7489\n",
            "client:3 train_acc: 55.38%, train_loss: 0.9998\n",
            "client:10 train_acc: 55.14%, train_loss: 1.2546\n",
            "client:4 train_acc: 54.95%, train_loss: 1.5061\n",
            "client:8 train_acc: 54.74%, train_loss: 1.7595\n",
            "client:0 train_acc: 54.65%, train_loss: 2.0083\n",
            "client:12 train_acc: 54.64%, train_loss: 2.2607\n",
            "client:14 train_acc: 54.58%, train_loss: 2.5188\n",
            "client:13 train_acc: 54.67%, train_loss: 2.7622\n",
            "client:11 train_acc: 54.69%, train_loss: 3.0175\n",
            "client:1 train_acc: 54.70%, train_loss: 3.2700\n",
            "client:9 train_acc: 54.77%, train_loss: 3.5104\n",
            "client:5 train_acc: 54.70%, train_loss: 3.7586\n",
            "Test set: Average loss: 3.3132, Accuracy: 673/10000 (6.73%)\n"
          ]
        },
        {
          "output_type": "stream",
          "name": "stderr",
          "text": [
            "Round126: User8_1: 100%|████████████████████████████████████████████| 10/10 [00:00<00:00, 17.43it/s]\n",
            "Round126: User0_1: 100%|████████████████████████████████████████████| 10/10 [00:00<00:00, 17.39it/s]\n",
            "Round126: User4_1: 100%|████████████████████████████████████████████| 10/10 [00:00<00:00, 16.43it/s]\n",
            "Round126: User10_1: 100%|███████████████████████████████████████████| 10/10 [00:00<00:00, 17.58it/s]\n",
            "Round126: User1_1: 100%|████████████████████████████████████████████| 10/10 [00:00<00:00, 20.32it/s]\n",
            "Round126: User3_1: 100%|████████████████████████████████████████████| 10/10 [00:00<00:00, 25.03it/s]\n",
            "Round126: User5_1: 100%|████████████████████████████████████████████| 10/10 [00:00<00:00, 22.20it/s]\n",
            "Round126: User6_1: 100%|████████████████████████████████████████████| 10/10 [00:00<00:00, 23.88it/s]\n",
            "Round126: User14_1: 100%|███████████████████████████████████████████| 10/10 [00:00<00:00, 23.82it/s]\n",
            "Round126: User7_1: 100%|████████████████████████████████████████████| 10/10 [00:00<00:00, 23.46it/s]\n",
            "Round126: User2_1: 100%|████████████████████████████████████████████| 10/10 [00:00<00:00, 24.47it/s]\n",
            "Round126: User9_1: 100%|████████████████████████████████████████████| 10/10 [00:00<00:00, 21.07it/s]\n",
            "Round126: User12_1: 100%|███████████████████████████████████████████| 10/10 [00:00<00:00, 24.50it/s]\n",
            "Round126: User13_1: 100%|███████████████████████████████████████████| 10/10 [00:00<00:00, 24.80it/s]\n",
            "Round126: User11_1: 100%|███████████████████████████████████████████| 10/10 [00:00<00:00, 21.83it/s]\n"
          ]
        },
        {
          "output_type": "stream",
          "name": "stdout",
          "text": [
            "client:8 train_acc: 54.90%, train_loss: 0.2534\n",
            "client:0 train_acc: 54.60%, train_loss: 0.5039\n",
            "client:4 train_acc: 54.80%, train_loss: 0.7569\n",
            "client:10 train_acc: 54.35%, train_loss: 1.0121\n",
            "client:1 train_acc: 54.40%, train_loss: 1.2637\n",
            "client:3 train_acc: 54.58%, train_loss: 1.5147\n",
            "client:5 train_acc: 54.44%, train_loss: 1.7616\n",
            "client:6 train_acc: 54.51%, train_loss: 2.0130\n",
            "client:14 train_acc: 54.36%, train_loss: 2.2716\n",
            "client:7 train_acc: 54.33%, train_loss: 2.5228\n",
            "client:2 train_acc: 54.37%, train_loss: 2.7677\n",
            "client:9 train_acc: 54.48%, train_loss: 3.0078\n",
            "client:12 train_acc: 54.56%, train_loss: 3.2596\n",
            "client:13 train_acc: 54.71%, train_loss: 3.5021\n",
            "client:11 train_acc: 54.79%, train_loss: 3.7580\n",
            "Test set: Average loss: 3.3199, Accuracy: 643/10000 (6.43%)\n"
          ]
        },
        {
          "output_type": "stream",
          "name": "stderr",
          "text": [
            "Round127: User5_1: 100%|████████████████████████████████████████████| 10/10 [00:00<00:00, 21.62it/s]\n",
            "Round127: User1_1: 100%|████████████████████████████████████████████| 10/10 [00:00<00:00, 24.17it/s]\n",
            "Round127: User4_1: 100%|████████████████████████████████████████████| 10/10 [00:00<00:00, 23.26it/s]\n",
            "Round127: User13_1: 100%|███████████████████████████████████████████| 10/10 [00:00<00:00, 24.41it/s]\n",
            "Round127: User2_1: 100%|████████████████████████████████████████████| 10/10 [00:00<00:00, 23.22it/s]\n",
            "Round127: User12_1: 100%|███████████████████████████████████████████| 10/10 [00:00<00:00, 22.41it/s]\n",
            "Round127: User3_1: 100%|████████████████████████████████████████████| 10/10 [00:00<00:00, 22.85it/s]\n",
            "Round127: User9_1: 100%|████████████████████████████████████████████| 10/10 [00:00<00:00, 22.40it/s]\n",
            "Round127: User11_1: 100%|███████████████████████████████████████████| 10/10 [00:00<00:00, 22.73it/s]\n",
            "Round127: User6_1: 100%|████████████████████████████████████████████| 10/10 [00:00<00:00, 22.03it/s]\n",
            "Round127: User8_1: 100%|████████████████████████████████████████████| 10/10 [00:00<00:00, 23.00it/s]\n",
            "Round127: User10_1: 100%|███████████████████████████████████████████| 10/10 [00:00<00:00, 23.93it/s]\n",
            "Round127: User7_1: 100%|████████████████████████████████████████████| 10/10 [00:00<00:00, 22.47it/s]\n",
            "Round127: User14_1: 100%|███████████████████████████████████████████| 10/10 [00:00<00:00, 24.29it/s]\n",
            "Round127: User0_1: 100%|████████████████████████████████████████████| 10/10 [00:00<00:00, 16.87it/s]\n"
          ]
        },
        {
          "output_type": "stream",
          "name": "stdout",
          "text": [
            "client:5 train_acc: 53.30%, train_loss: 0.2475\n",
            "client:1 train_acc: 53.55%, train_loss: 0.5012\n",
            "client:4 train_acc: 54.57%, train_loss: 0.7508\n",
            "client:13 train_acc: 55.00%, train_loss: 0.9936\n",
            "client:2 train_acc: 55.24%, train_loss: 1.2391\n",
            "client:12 train_acc: 55.08%, train_loss: 1.4911\n",
            "client:3 train_acc: 55.26%, train_loss: 1.7413\n",
            "client:9 train_acc: 55.31%, train_loss: 1.9803\n",
            "client:11 train_acc: 55.28%, train_loss: 2.2357\n",
            "client:6 train_acc: 55.05%, train_loss: 2.4897\n",
            "client:8 train_acc: 54.93%, train_loss: 2.7432\n",
            "client:10 train_acc: 54.86%, train_loss: 2.9978\n",
            "client:7 train_acc: 54.98%, train_loss: 3.2472\n",
            "client:14 train_acc: 54.90%, train_loss: 3.5055\n",
            "client:0 train_acc: 54.85%, train_loss: 3.7561\n",
            "Test set: Average loss: 3.3717, Accuracy: 656/10000 (6.56%)\n"
          ]
        },
        {
          "output_type": "stream",
          "name": "stderr",
          "text": [
            "Round128: User7_1: 100%|████████████████████████████████████████████| 10/10 [00:00<00:00, 24.46it/s]\n",
            "Round128: User8_1: 100%|████████████████████████████████████████████| 10/10 [00:00<00:00, 22.40it/s]\n",
            "Round128: User1_1: 100%|████████████████████████████████████████████| 10/10 [00:00<00:00, 16.68it/s]\n",
            "Round128: User10_1: 100%|███████████████████████████████████████████| 10/10 [00:00<00:00, 17.31it/s]\n",
            "Round128: User11_1: 100%|███████████████████████████████████████████| 10/10 [00:00<00:00, 17.80it/s]\n",
            "Round128: User12_1: 100%|███████████████████████████████████████████| 10/10 [00:00<00:00, 15.84it/s]\n",
            "Round128: User3_1: 100%|████████████████████████████████████████████| 10/10 [00:00<00:00, 22.98it/s]\n",
            "Round128: User2_1: 100%|████████████████████████████████████████████| 10/10 [00:00<00:00, 22.95it/s]\n",
            "Round128: User14_1: 100%|███████████████████████████████████████████| 10/10 [00:00<00:00, 24.75it/s]\n",
            "Round128: User13_1: 100%|███████████████████████████████████████████| 10/10 [00:00<00:00, 24.73it/s]\n",
            "Round128: User4_1: 100%|████████████████████████████████████████████| 10/10 [00:00<00:00, 22.48it/s]\n",
            "Round128: User5_1: 100%|████████████████████████████████████████████| 10/10 [00:00<00:00, 23.90it/s]\n",
            "Round128: User6_1: 100%|████████████████████████████████████████████| 10/10 [00:00<00:00, 23.51it/s]\n",
            "Round128: User0_1: 100%|████████████████████████████████████████████| 10/10 [00:00<00:00, 24.23it/s]\n",
            "Round128: User9_1: 100%|████████████████████████████████████████████| 10/10 [00:00<00:00, 25.64it/s]\n"
          ]
        },
        {
          "output_type": "stream",
          "name": "stdout",
          "text": [
            "client:7 train_acc: 54.20%, train_loss: 0.2507\n",
            "client:8 train_acc: 54.80%, train_loss: 0.5043\n",
            "client:1 train_acc: 54.73%, train_loss: 0.7564\n",
            "client:10 train_acc: 54.62%, train_loss: 1.0125\n",
            "client:11 train_acc: 54.86%, train_loss: 1.2677\n",
            "client:12 train_acc: 54.82%, train_loss: 1.5200\n",
            "client:3 train_acc: 54.87%, train_loss: 1.7704\n",
            "client:2 train_acc: 54.77%, train_loss: 2.0173\n",
            "client:14 train_acc: 54.63%, train_loss: 2.2748\n",
            "client:13 train_acc: 54.81%, train_loss: 2.5180\n",
            "client:4 train_acc: 54.70%, train_loss: 2.7716\n",
            "client:5 train_acc: 54.66%, train_loss: 3.0173\n",
            "client:6 train_acc: 54.77%, train_loss: 3.2680\n",
            "client:0 train_acc: 54.81%, train_loss: 3.5177\n",
            "client:9 train_acc: 54.83%, train_loss: 3.7573\n",
            "Test set: Average loss: 3.3303, Accuracy: 639/10000 (6.39%)\n"
          ]
        },
        {
          "output_type": "stream",
          "name": "stderr",
          "text": [
            "Round129: User2_1: 100%|████████████████████████████████████████████| 10/10 [00:00<00:00, 23.89it/s]\n",
            "Round129: User6_1: 100%|████████████████████████████████████████████| 10/10 [00:00<00:00, 23.75it/s]\n",
            "Round129: User12_1: 100%|███████████████████████████████████████████| 10/10 [00:00<00:00, 22.57it/s]\n",
            "Round129: User11_1: 100%|███████████████████████████████████████████| 10/10 [00:00<00:00, 23.68it/s]\n",
            "Round129: User7_1: 100%|████████████████████████████████████████████| 10/10 [00:00<00:00, 22.66it/s]\n",
            "Round129: User4_1: 100%|████████████████████████████████████████████| 10/10 [00:00<00:00, 23.75it/s]\n",
            "Round129: User5_1: 100%|████████████████████████████████████████████| 10/10 [00:00<00:00, 23.68it/s]\n",
            "Round129: User3_1: 100%|████████████████████████████████████████████| 10/10 [00:00<00:00, 23.67it/s]\n",
            "Round129: User9_1: 100%|████████████████████████████████████████████| 10/10 [00:00<00:00, 25.06it/s]\n",
            "Round129: User13_1: 100%|███████████████████████████████████████████| 10/10 [00:00<00:00, 22.60it/s]\n",
            "Round129: User14_1: 100%|███████████████████████████████████████████| 10/10 [00:00<00:00, 24.48it/s]\n",
            "Round129: User10_1: 100%|███████████████████████████████████████████| 10/10 [00:00<00:00, 23.62it/s]\n",
            "Round129: User1_1: 100%|████████████████████████████████████████████| 10/10 [00:00<00:00, 23.83it/s]\n",
            "Round129: User8_1: 100%|████████████████████████████████████████████| 10/10 [00:00<00:00, 25.12it/s]\n",
            "Round129: User0_1: 100%|████████████████████████████████████████████| 10/10 [00:00<00:00, 23.56it/s]\n"
          ]
        },
        {
          "output_type": "stream",
          "name": "stdout",
          "text": [
            "client:2 train_acc: 56.10%, train_loss: 0.2435\n",
            "client:6 train_acc: 55.30%, train_loss: 0.4943\n",
            "client:12 train_acc: 54.93%, train_loss: 0.7448\n",
            "client:11 train_acc: 55.15%, train_loss: 0.9968\n",
            "client:7 train_acc: 55.44%, train_loss: 1.2431\n",
            "client:4 train_acc: 55.35%, train_loss: 1.4927\n",
            "client:5 train_acc: 55.24%, train_loss: 1.7370\n",
            "client:3 train_acc: 55.41%, train_loss: 1.9854\n",
            "client:9 train_acc: 55.43%, train_loss: 2.2223\n",
            "client:13 train_acc: 55.55%, train_loss: 2.4636\n",
            "client:14 train_acc: 55.41%, train_loss: 2.7187\n",
            "client:10 train_acc: 55.36%, train_loss: 2.9729\n",
            "client:1 train_acc: 55.41%, train_loss: 3.2231\n",
            "client:8 train_acc: 55.35%, train_loss: 3.4749\n",
            "client:0 train_acc: 55.31%, train_loss: 3.7227\n",
            "Test set: Average loss: 3.3480, Accuracy: 657/10000 (6.57%)\n"
          ]
        },
        {
          "output_type": "stream",
          "name": "stderr",
          "text": [
            "Round130: User8_1: 100%|████████████████████████████████████████████| 10/10 [00:00<00:00, 22.96it/s]\n",
            "Round130: User2_1: 100%|████████████████████████████████████████████| 10/10 [00:00<00:00, 23.91it/s]\n",
            "Round130: User11_1: 100%|███████████████████████████████████████████| 10/10 [00:00<00:00, 25.25it/s]\n",
            "Round130: User10_1: 100%|███████████████████████████████████████████| 10/10 [00:00<00:00, 21.70it/s]\n",
            "Round130: User4_1: 100%|████████████████████████████████████████████| 10/10 [00:00<00:00, 25.56it/s]\n",
            "Round130: User9_1: 100%|████████████████████████████████████████████| 10/10 [00:00<00:00, 16.89it/s]\n",
            "Round130: User3_1: 100%|████████████████████████████████████████████| 10/10 [00:00<00:00, 17.07it/s]\n",
            "Round130: User12_1: 100%|███████████████████████████████████████████| 10/10 [00:00<00:00, 16.85it/s]\n",
            "Round130: User7_1: 100%|████████████████████████████████████████████| 10/10 [00:00<00:00, 17.10it/s]\n",
            "Round130: User13_1: 100%|███████████████████████████████████████████| 10/10 [00:00<00:00, 20.28it/s]\n",
            "Round130: User14_1: 100%|███████████████████████████████████████████| 10/10 [00:00<00:00, 22.74it/s]\n",
            "Round130: User1_1: 100%|████████████████████████████████████████████| 10/10 [00:00<00:00, 23.81it/s]\n",
            "Round130: User5_1: 100%|████████████████████████████████████████████| 10/10 [00:00<00:00, 23.83it/s]\n",
            "Round130: User0_1: 100%|████████████████████████████████████████████| 10/10 [00:00<00:00, 24.17it/s]\n",
            "Round130: User6_1: 100%|████████████████████████████████████████████| 10/10 [00:00<00:00, 22.75it/s]\n"
          ]
        },
        {
          "output_type": "stream",
          "name": "stdout",
          "text": [
            "client:8 train_acc: 55.70%, train_loss: 0.2496\n",
            "client:2 train_acc: 55.70%, train_loss: 0.4924\n",
            "client:11 train_acc: 55.87%, train_loss: 0.7452\n",
            "client:10 train_acc: 55.50%, train_loss: 0.9969\n",
            "client:4 train_acc: 55.52%, train_loss: 1.2468\n",
            "client:9 train_acc: 55.50%, train_loss: 1.4846\n",
            "client:3 train_acc: 55.57%, train_loss: 1.7323\n",
            "client:12 train_acc: 55.61%, train_loss: 1.9807\n",
            "client:7 train_acc: 55.57%, train_loss: 2.2287\n",
            "client:13 train_acc: 55.72%, train_loss: 2.4677\n",
            "client:14 train_acc: 55.55%, train_loss: 2.7224\n",
            "client:1 train_acc: 55.52%, train_loss: 2.9703\n",
            "client:5 train_acc: 55.44%, train_loss: 3.2152\n",
            "client:0 train_acc: 55.39%, train_loss: 3.4624\n",
            "client:6 train_acc: 55.43%, train_loss: 3.7119\n",
            "Test set: Average loss: 3.3582, Accuracy: 652/10000 (6.52%)\n"
          ]
        },
        {
          "output_type": "stream",
          "name": "stderr",
          "text": [
            "Round131: User3_1: 100%|████████████████████████████████████████████| 10/10 [00:00<00:00, 25.11it/s]\n",
            "Round131: User2_1: 100%|████████████████████████████████████████████| 10/10 [00:00<00:00, 24.15it/s]\n",
            "Round131: User1_1: 100%|████████████████████████████████████████████| 10/10 [00:00<00:00, 23.63it/s]\n",
            "Round131: User7_1: 100%|████████████████████████████████████████████| 10/10 [00:00<00:00, 23.52it/s]\n",
            "Round131: User13_1: 100%|███████████████████████████████████████████| 10/10 [00:00<00:00, 21.81it/s]\n",
            "Round131: User10_1: 100%|███████████████████████████████████████████| 10/10 [00:00<00:00, 24.20it/s]\n",
            "Round131: User12_1: 100%|███████████████████████████████████████████| 10/10 [00:00<00:00, 23.87it/s]\n",
            "Round131: User4_1: 100%|████████████████████████████████████████████| 10/10 [00:00<00:00, 22.51it/s]\n",
            "Round131: User8_1: 100%|████████████████████████████████████████████| 10/10 [00:00<00:00, 24.10it/s]\n",
            "Round131: User5_1: 100%|████████████████████████████████████████████| 10/10 [00:00<00:00, 23.43it/s]\n",
            "Round131: User14_1: 100%|███████████████████████████████████████████| 10/10 [00:00<00:00, 24.66it/s]\n",
            "Round131: User9_1: 100%|████████████████████████████████████████████| 10/10 [00:00<00:00, 23.90it/s]\n",
            "Round131: User6_1: 100%|████████████████████████████████████████████| 10/10 [00:00<00:00, 22.95it/s]\n",
            "Round131: User0_1: 100%|████████████████████████████████████████████| 10/10 [00:00<00:00, 23.53it/s]\n",
            "Round131: User11_1: 100%|███████████████████████████████████████████| 10/10 [00:00<00:00, 23.63it/s]\n"
          ]
        },
        {
          "output_type": "stream",
          "name": "stdout",
          "text": [
            "client:3 train_acc: 56.90%, train_loss: 0.2469\n",
            "client:2 train_acc: 56.95%, train_loss: 0.4880\n",
            "client:1 train_acc: 56.50%, train_loss: 0.7353\n",
            "client:7 train_acc: 56.60%, train_loss: 0.9813\n",
            "client:13 train_acc: 56.68%, train_loss: 1.2208\n",
            "client:10 train_acc: 56.17%, train_loss: 1.4721\n",
            "client:12 train_acc: 56.14%, train_loss: 1.7205\n",
            "client:4 train_acc: 56.00%, train_loss: 1.9695\n",
            "client:8 train_acc: 55.81%, train_loss: 2.2195\n",
            "client:5 train_acc: 55.67%, train_loss: 2.4629\n",
            "client:14 train_acc: 55.51%, train_loss: 2.7177\n",
            "client:9 train_acc: 55.56%, train_loss: 2.9543\n",
            "client:6 train_acc: 55.57%, train_loss: 3.2024\n",
            "client:0 train_acc: 55.50%, train_loss: 3.4488\n",
            "client:11 train_acc: 55.49%, train_loss: 3.7005\n",
            "Test set: Average loss: 3.3448, Accuracy: 652/10000 (6.52%)\n"
          ]
        },
        {
          "output_type": "stream",
          "name": "stderr",
          "text": [
            "Round132: User6_1: 100%|████████████████████████████████████████████| 10/10 [00:00<00:00, 20.53it/s]\n",
            "Round132: User13_1: 100%|███████████████████████████████████████████| 10/10 [00:00<00:00, 22.52it/s]\n",
            "Round132: User10_1: 100%|███████████████████████████████████████████| 10/10 [00:00<00:00, 25.03it/s]\n",
            "Round132: User11_1: 100%|███████████████████████████████████████████| 10/10 [00:00<00:00, 22.19it/s]\n",
            "Round132: User4_1: 100%|████████████████████████████████████████████| 10/10 [00:00<00:00, 24.53it/s]\n",
            "Round132: User5_1: 100%|████████████████████████████████████████████| 10/10 [00:00<00:00, 25.66it/s]\n",
            "Round132: User3_1: 100%|████████████████████████████████████████████| 10/10 [00:00<00:00, 22.09it/s]\n",
            "Round132: User8_1: 100%|████████████████████████████████████████████| 10/10 [00:00<00:00, 23.41it/s]\n",
            "Round132: User9_1: 100%|████████████████████████████████████████████| 10/10 [00:00<00:00, 17.50it/s]\n",
            "Round132: User0_1: 100%|████████████████████████████████████████████| 10/10 [00:00<00:00, 17.36it/s]\n",
            "Round132: User7_1: 100%|████████████████████████████████████████████| 10/10 [00:00<00:00, 16.01it/s]\n",
            "Round132: User1_1: 100%|████████████████████████████████████████████| 10/10 [00:00<00:00, 16.42it/s]\n",
            "Round132: User14_1: 100%|███████████████████████████████████████████| 10/10 [00:00<00:00, 22.32it/s]\n",
            "Round132: User12_1: 100%|███████████████████████████████████████████| 10/10 [00:00<00:00, 23.90it/s]\n",
            "Round132: User2_1: 100%|████████████████████████████████████████████| 10/10 [00:00<00:00, 22.72it/s]\n"
          ]
        },
        {
          "output_type": "stream",
          "name": "stdout",
          "text": [
            "client:6 train_acc: 55.70%, train_loss: 0.2473\n",
            "client:13 train_acc: 56.45%, train_loss: 0.4858\n",
            "client:10 train_acc: 56.27%, train_loss: 0.7372\n",
            "client:11 train_acc: 56.17%, train_loss: 0.9872\n",
            "client:4 train_acc: 55.90%, train_loss: 1.2370\n",
            "client:5 train_acc: 55.72%, train_loss: 1.4808\n",
            "client:3 train_acc: 55.81%, train_loss: 1.7277\n",
            "client:8 train_acc: 55.65%, train_loss: 1.9769\n",
            "client:9 train_acc: 55.68%, train_loss: 2.2132\n",
            "client:0 train_acc: 55.66%, train_loss: 2.4590\n",
            "client:7 train_acc: 55.74%, train_loss: 2.7052\n",
            "client:1 train_acc: 55.77%, train_loss: 2.9509\n",
            "client:14 train_acc: 55.62%, train_loss: 3.2043\n",
            "client:12 train_acc: 55.57%, train_loss: 3.4526\n",
            "client:2 train_acc: 55.52%, train_loss: 3.6957\n",
            "Test set: Average loss: 3.3252, Accuracy: 683/10000 (6.83%)\n"
          ]
        },
        {
          "output_type": "stream",
          "name": "stderr",
          "text": [
            "Round133: User6_1: 100%|████████████████████████████████████████████| 10/10 [00:00<00:00, 20.87it/s]\n",
            "Round133: User14_1: 100%|███████████████████████████████████████████| 10/10 [00:00<00:00, 21.48it/s]\n",
            "Round133: User1_1: 100%|████████████████████████████████████████████| 10/10 [00:00<00:00, 23.30it/s]\n",
            "Round133: User7_1: 100%|████████████████████████████████████████████| 10/10 [00:00<00:00, 23.77it/s]\n",
            "Round133: User5_1: 100%|████████████████████████████████████████████| 10/10 [00:00<00:00, 24.34it/s]\n",
            "Round133: User2_1: 100%|████████████████████████████████████████████| 10/10 [00:00<00:00, 25.16it/s]\n",
            "Round133: User11_1: 100%|███████████████████████████████████████████| 10/10 [00:00<00:00, 21.90it/s]\n",
            "Round133: User13_1: 100%|███████████████████████████████████████████| 10/10 [00:00<00:00, 24.03it/s]\n",
            "Round133: User9_1: 100%|████████████████████████████████████████████| 10/10 [00:00<00:00, 23.15it/s]\n",
            "Round133: User3_1: 100%|████████████████████████████████████████████| 10/10 [00:00<00:00, 23.46it/s]\n",
            "Round133: User4_1: 100%|████████████████████████████████████████████| 10/10 [00:00<00:00, 23.82it/s]\n",
            "Round133: User0_1: 100%|████████████████████████████████████████████| 10/10 [00:00<00:00, 23.49it/s]\n",
            "Round133: User10_1: 100%|███████████████████████████████████████████| 10/10 [00:00<00:00, 24.06it/s]\n",
            "Round133: User12_1: 100%|███████████████████████████████████████████| 10/10 [00:00<00:00, 24.93it/s]\n",
            "Round133: User8_1: 100%|████████████████████████████████████████████| 10/10 [00:00<00:00, 23.19it/s]\n"
          ]
        },
        {
          "output_type": "stream",
          "name": "stdout",
          "text": [
            "client:6 train_acc: 55.10%, train_loss: 0.2498\n",
            "client:14 train_acc: 54.80%, train_loss: 0.5034\n",
            "client:1 train_acc: 55.23%, train_loss: 0.7523\n",
            "client:7 train_acc: 55.33%, train_loss: 0.9984\n",
            "client:5 train_acc: 55.24%, train_loss: 1.2427\n",
            "client:2 train_acc: 55.23%, train_loss: 1.4863\n",
            "client:11 train_acc: 55.46%, train_loss: 1.7366\n",
            "client:13 train_acc: 55.61%, train_loss: 1.9775\n",
            "client:9 train_acc: 55.59%, train_loss: 2.2135\n",
            "client:3 train_acc: 55.78%, train_loss: 2.4602\n",
            "client:4 train_acc: 55.69%, train_loss: 2.7083\n",
            "client:0 train_acc: 55.61%, train_loss: 2.9553\n",
            "client:10 train_acc: 55.62%, train_loss: 3.2084\n",
            "client:12 train_acc: 55.52%, train_loss: 3.4582\n",
            "client:8 train_acc: 55.53%, train_loss: 3.7097\n",
            "Test set: Average loss: 3.3984, Accuracy: 676/10000 (6.76%)\n"
          ]
        },
        {
          "output_type": "stream",
          "name": "stderr",
          "text": [
            "Round134: User7_1: 100%|████████████████████████████████████████████| 10/10 [00:00<00:00, 24.21it/s]\n",
            "Round134: User4_1: 100%|████████████████████████████████████████████| 10/10 [00:00<00:00, 19.78it/s]\n",
            "Round134: User0_1: 100%|████████████████████████████████████████████| 10/10 [00:00<00:00, 24.27it/s]\n",
            "Round134: User13_1: 100%|███████████████████████████████████████████| 10/10 [00:00<00:00, 24.88it/s]\n",
            "Round134: User1_1: 100%|████████████████████████████████████████████| 10/10 [00:00<00:00, 22.38it/s]\n",
            "Round134: User10_1: 100%|███████████████████████████████████████████| 10/10 [00:00<00:00, 24.18it/s]\n",
            "Round134: User9_1: 100%|████████████████████████████████████████████| 10/10 [00:00<00:00, 21.93it/s]\n",
            "Round134: User3_1: 100%|████████████████████████████████████████████| 10/10 [00:00<00:00, 24.38it/s]\n",
            "Round134: User8_1: 100%|████████████████████████████████████████████| 10/10 [00:00<00:00, 22.28it/s]\n",
            "Round134: User14_1: 100%|███████████████████████████████████████████| 10/10 [00:00<00:00, 22.08it/s]\n",
            "Round134: User5_1: 100%|████████████████████████████████████████████| 10/10 [00:00<00:00, 20.96it/s]\n",
            "Round134: User12_1: 100%|███████████████████████████████████████████| 10/10 [00:00<00:00, 17.65it/s]\n",
            "Round134: User6_1: 100%|████████████████████████████████████████████| 10/10 [00:00<00:00, 17.33it/s]\n",
            "Round134: User2_1: 100%|████████████████████████████████████████████| 10/10 [00:00<00:00, 18.13it/s]\n",
            "Round134: User11_1: 100%|███████████████████████████████████████████| 10/10 [00:00<00:00, 17.44it/s]\n"
          ]
        },
        {
          "output_type": "stream",
          "name": "stdout",
          "text": [
            "client:7 train_acc: 57.20%, train_loss: 0.2440\n",
            "client:4 train_acc: 56.35%, train_loss: 0.4911\n",
            "client:0 train_acc: 55.77%, train_loss: 0.7346\n",
            "client:13 train_acc: 56.12%, train_loss: 0.9736\n",
            "client:1 train_acc: 56.06%, train_loss: 1.2203\n",
            "client:10 train_acc: 56.05%, train_loss: 1.4716\n",
            "client:9 train_acc: 56.13%, train_loss: 1.7067\n",
            "client:3 train_acc: 56.26%, train_loss: 1.9532\n",
            "client:8 train_acc: 56.03%, train_loss: 2.2028\n",
            "client:14 train_acc: 55.91%, train_loss: 2.4562\n",
            "client:5 train_acc: 55.92%, train_loss: 2.6989\n",
            "client:12 train_acc: 55.87%, train_loss: 2.9474\n",
            "client:6 train_acc: 55.83%, train_loss: 3.1956\n",
            "client:2 train_acc: 55.86%, train_loss: 3.4373\n",
            "client:11 train_acc: 55.81%, train_loss: 3.6885\n",
            "Test set: Average loss: 3.3225, Accuracy: 697/10000 (6.97%)\n"
          ]
        },
        {
          "output_type": "stream",
          "name": "stderr",
          "text": [
            "Round135: User10_1: 100%|███████████████████████████████████████████| 10/10 [00:00<00:00, 14.20it/s]\n",
            "Round135: User13_1: 100%|███████████████████████████████████████████| 10/10 [00:00<00:00, 16.67it/s]\n",
            "Round135: User0_1: 100%|████████████████████████████████████████████| 10/10 [00:00<00:00, 16.77it/s]\n",
            "Round135: User11_1: 100%|███████████████████████████████████████████| 10/10 [00:00<00:00, 16.74it/s]\n",
            "Round135: User5_1: 100%|████████████████████████████████████████████| 10/10 [00:00<00:00, 24.76it/s]\n",
            "Round135: User6_1: 100%|████████████████████████████████████████████| 10/10 [00:00<00:00, 25.19it/s]\n",
            "Round135: User9_1: 100%|████████████████████████████████████████████| 10/10 [00:00<00:00, 22.78it/s]\n",
            "Round135: User8_1: 100%|████████████████████████████████████████████| 10/10 [00:00<00:00, 24.05it/s]\n",
            "Round135: User12_1: 100%|███████████████████████████████████████████| 10/10 [00:00<00:00, 25.18it/s]\n",
            "Round135: User2_1: 100%|████████████████████████████████████████████| 10/10 [00:00<00:00, 22.42it/s]\n",
            "Round135: User1_1: 100%|████████████████████████████████████████████| 10/10 [00:00<00:00, 24.01it/s]\n",
            "Round135: User4_1: 100%|████████████████████████████████████████████| 10/10 [00:00<00:00, 24.20it/s]\n",
            "Round135: User7_1: 100%|████████████████████████████████████████████| 10/10 [00:00<00:00, 24.25it/s]\n",
            "Round135: User3_1: 100%|████████████████████████████████████████████| 10/10 [00:00<00:00, 24.68it/s]\n",
            "Round135: User14_1: 100%|███████████████████████████████████████████| 10/10 [00:00<00:00, 23.28it/s]\n"
          ]
        },
        {
          "output_type": "stream",
          "name": "stdout",
          "text": [
            "client:10 train_acc: 55.60%, train_loss: 0.2509\n",
            "client:13 train_acc: 56.70%, train_loss: 0.4882\n",
            "client:0 train_acc: 56.27%, train_loss: 0.7337\n",
            "client:11 train_acc: 56.45%, train_loss: 0.9826\n",
            "client:5 train_acc: 56.04%, train_loss: 1.2247\n",
            "client:6 train_acc: 56.15%, train_loss: 1.4722\n",
            "client:9 train_acc: 56.14%, train_loss: 1.7071\n",
            "client:8 train_acc: 56.10%, train_loss: 1.9558\n",
            "client:12 train_acc: 56.09%, train_loss: 2.2032\n",
            "client:2 train_acc: 56.15%, train_loss: 2.4439\n",
            "client:1 train_acc: 56.10%, train_loss: 2.6911\n",
            "client:4 train_acc: 56.08%, train_loss: 2.9387\n",
            "client:7 train_acc: 56.09%, train_loss: 3.1832\n",
            "client:3 train_acc: 56.12%, train_loss: 3.4283\n",
            "client:14 train_acc: 56.03%, train_loss: 3.6813\n",
            "Test set: Average loss: 3.3655, Accuracy: 638/10000 (6.38%)\n"
          ]
        },
        {
          "output_type": "stream",
          "name": "stderr",
          "text": [
            "Round136: User3_1: 100%|████████████████████████████████████████████| 10/10 [00:00<00:00, 24.15it/s]\n",
            "Round136: User7_1: 100%|████████████████████████████████████████████| 10/10 [00:00<00:00, 23.08it/s]\n",
            "Round136: User4_1: 100%|████████████████████████████████████████████| 10/10 [00:00<00:00, 20.40it/s]\n",
            "Round136: User0_1: 100%|████████████████████████████████████████████| 10/10 [00:00<00:00, 25.50it/s]\n",
            "Round136: User6_1: 100%|████████████████████████████████████████████| 10/10 [00:00<00:00, 22.30it/s]\n",
            "Round136: User1_1: 100%|████████████████████████████████████████████| 10/10 [00:00<00:00, 25.19it/s]\n",
            "Round136: User13_1: 100%|███████████████████████████████████████████| 10/10 [00:00<00:00, 23.39it/s]\n",
            "Round136: User5_1: 100%|████████████████████████████████████████████| 10/10 [00:00<00:00, 25.41it/s]\n",
            "Round136: User11_1: 100%|███████████████████████████████████████████| 10/10 [00:00<00:00, 24.70it/s]\n",
            "Round136: User10_1: 100%|███████████████████████████████████████████| 10/10 [00:00<00:00, 23.19it/s]\n",
            "Round136: User2_1: 100%|████████████████████████████████████████████| 10/10 [00:00<00:00, 24.89it/s]\n",
            "Round136: User9_1: 100%|████████████████████████████████████████████| 10/10 [00:00<00:00, 24.02it/s]\n",
            "Round136: User8_1: 100%|████████████████████████████████████████████| 10/10 [00:00<00:00, 23.76it/s]\n",
            "Round136: User14_1: 100%|███████████████████████████████████████████| 10/10 [00:00<00:00, 24.47it/s]\n",
            "Round136: User12_1: 100%|███████████████████████████████████████████| 10/10 [00:00<00:00, 20.21it/s]\n"
          ]
        },
        {
          "output_type": "stream",
          "name": "stdout",
          "text": [
            "client:3 train_acc: 57.20%, train_loss: 0.2443\n",
            "client:7 train_acc: 56.75%, train_loss: 0.4873\n",
            "client:4 train_acc: 56.30%, train_loss: 0.7338\n",
            "client:0 train_acc: 56.12%, train_loss: 0.9772\n",
            "client:6 train_acc: 55.96%, train_loss: 1.2238\n",
            "client:1 train_acc: 56.00%, train_loss: 1.4699\n",
            "client:13 train_acc: 56.16%, train_loss: 1.7079\n",
            "client:5 train_acc: 56.04%, train_loss: 1.9486\n",
            "client:11 train_acc: 56.10%, train_loss: 2.1982\n",
            "client:10 train_acc: 56.06%, train_loss: 2.4480\n",
            "client:2 train_acc: 56.11%, train_loss: 2.6903\n",
            "client:9 train_acc: 56.15%, train_loss: 2.9243\n",
            "client:8 train_acc: 56.15%, train_loss: 3.1715\n",
            "client:14 train_acc: 56.01%, train_loss: 3.4234\n",
            "client:12 train_acc: 55.99%, train_loss: 3.6713\n",
            "Test set: Average loss: 3.3995, Accuracy: 650/10000 (6.50%)\n"
          ]
        },
        {
          "output_type": "stream",
          "name": "stderr",
          "text": [
            "Round137: User7_1: 100%|████████████████████████████████████████████| 10/10 [00:00<00:00, 24.25it/s]\n",
            "Round137: User8_1: 100%|████████████████████████████████████████████| 10/10 [00:00<00:00, 19.44it/s]\n",
            "Round137: User3_1: 100%|████████████████████████████████████████████| 10/10 [00:00<00:00, 20.68it/s]\n",
            "Round137: User14_1: 100%|███████████████████████████████████████████| 10/10 [00:00<00:00, 16.86it/s]\n",
            "Round137: User9_1: 100%|████████████████████████████████████████████| 10/10 [00:00<00:00, 17.38it/s]\n",
            "Round137: User10_1: 100%|███████████████████████████████████████████| 10/10 [00:00<00:00, 16.90it/s]\n",
            "Round137: User11_1: 100%|███████████████████████████████████████████| 10/10 [00:00<00:00, 16.81it/s]\n",
            "Round137: User4_1: 100%|████████████████████████████████████████████| 10/10 [00:00<00:00, 21.85it/s]\n",
            "Round137: User1_1: 100%|████████████████████████████████████████████| 10/10 [00:00<00:00, 22.56it/s]\n",
            "Round137: User6_1: 100%|████████████████████████████████████████████| 10/10 [00:00<00:00, 23.98it/s]\n",
            "Round137: User0_1: 100%|████████████████████████████████████████████| 10/10 [00:00<00:00, 22.85it/s]\n",
            "Round137: User12_1: 100%|███████████████████████████████████████████| 10/10 [00:00<00:00, 24.60it/s]\n",
            "Round137: User13_1: 100%|███████████████████████████████████████████| 10/10 [00:00<00:00, 22.78it/s]\n",
            "Round137: User2_1: 100%|████████████████████████████████████████████| 10/10 [00:00<00:00, 23.65it/s]\n",
            "Round137: User5_1: 100%|████████████████████████████████████████████| 10/10 [00:00<00:00, 23.10it/s]\n"
          ]
        },
        {
          "output_type": "stream",
          "name": "stdout",
          "text": [
            "client:7 train_acc: 57.10%, train_loss: 0.2441\n",
            "client:8 train_acc: 55.95%, train_loss: 0.4913\n",
            "client:3 train_acc: 56.23%, train_loss: 0.7356\n",
            "client:14 train_acc: 55.90%, train_loss: 0.9878\n",
            "client:9 train_acc: 56.06%, train_loss: 1.2223\n",
            "client:10 train_acc: 56.08%, train_loss: 1.4712\n",
            "client:11 train_acc: 56.16%, train_loss: 1.7205\n",
            "client:4 train_acc: 56.06%, train_loss: 1.9680\n",
            "client:1 train_acc: 56.06%, train_loss: 2.2129\n",
            "client:6 train_acc: 56.10%, train_loss: 2.4584\n",
            "client:0 train_acc: 56.05%, train_loss: 2.7020\n",
            "client:12 train_acc: 56.03%, train_loss: 2.9478\n",
            "client:13 train_acc: 56.12%, train_loss: 3.1855\n",
            "client:2 train_acc: 56.15%, train_loss: 3.4254\n",
            "client:5 train_acc: 56.05%, train_loss: 3.6668\n",
            "Test set: Average loss: 3.3041, Accuracy: 658/10000 (6.58%)\n"
          ]
        },
        {
          "output_type": "stream",
          "name": "stderr",
          "text": [
            "Round138: User7_1: 100%|████████████████████████████████████████████| 10/10 [00:00<00:00, 23.03it/s]\n",
            "Round138: User10_1: 100%|███████████████████████████████████████████| 10/10 [00:00<00:00, 23.16it/s]\n",
            "Round138: User9_1: 100%|████████████████████████████████████████████| 10/10 [00:00<00:00, 24.39it/s]\n",
            "Round138: User2_1: 100%|████████████████████████████████████████████| 10/10 [00:00<00:00, 23.26it/s]\n",
            "Round138: User14_1: 100%|███████████████████████████████████████████| 10/10 [00:00<00:00, 19.95it/s]\n",
            "Round138: User6_1: 100%|████████████████████████████████████████████| 10/10 [00:00<00:00, 24.96it/s]\n",
            "Round138: User12_1: 100%|███████████████████████████████████████████| 10/10 [00:00<00:00, 21.29it/s]\n",
            "Round138: User13_1: 100%|███████████████████████████████████████████| 10/10 [00:00<00:00, 24.47it/s]\n",
            "Round138: User4_1: 100%|████████████████████████████████████████████| 10/10 [00:00<00:00, 22.00it/s]\n",
            "Round138: User1_1: 100%|████████████████████████████████████████████| 10/10 [00:00<00:00, 24.83it/s]\n",
            "Round138: User5_1: 100%|████████████████████████████████████████████| 10/10 [00:00<00:00, 23.82it/s]\n",
            "Round138: User11_1: 100%|███████████████████████████████████████████| 10/10 [00:00<00:00, 23.33it/s]\n",
            "Round138: User0_1: 100%|████████████████████████████████████████████| 10/10 [00:00<00:00, 24.35it/s]\n",
            "Round138: User8_1: 100%|████████████████████████████████████████████| 10/10 [00:00<00:00, 22.34it/s]\n",
            "Round138: User3_1: 100%|████████████████████████████████████████████| 10/10 [00:00<00:00, 24.52it/s]\n"
          ]
        },
        {
          "output_type": "stream",
          "name": "stdout",
          "text": [
            "client:7 train_acc: 56.90%, train_loss: 0.2450\n",
            "client:10 train_acc: 56.10%, train_loss: 0.4925\n",
            "client:9 train_acc: 56.27%, train_loss: 0.7270\n",
            "client:2 train_acc: 56.30%, train_loss: 0.9665\n",
            "client:14 train_acc: 55.70%, train_loss: 1.2187\n",
            "client:6 train_acc: 55.62%, train_loss: 1.4655\n",
            "client:12 train_acc: 55.70%, train_loss: 1.7117\n",
            "client:13 train_acc: 56.00%, train_loss: 1.9485\n",
            "client:4 train_acc: 56.02%, train_loss: 2.1934\n",
            "client:1 train_acc: 56.02%, train_loss: 2.4392\n",
            "client:5 train_acc: 55.88%, train_loss: 2.6810\n",
            "client:11 train_acc: 55.83%, train_loss: 2.9310\n",
            "client:0 train_acc: 55.73%, train_loss: 3.1760\n",
            "client:8 train_acc: 55.71%, train_loss: 3.4229\n",
            "client:3 train_acc: 55.81%, train_loss: 3.6675\n",
            "Test set: Average loss: 3.3675, Accuracy: 674/10000 (6.74%)\n"
          ]
        },
        {
          "output_type": "stream",
          "name": "stderr",
          "text": [
            "Round139: User8_1: 100%|████████████████████████████████████████████| 10/10 [00:00<00:00, 24.28it/s]\n",
            "Round139: User6_1: 100%|████████████████████████████████████████████| 10/10 [00:00<00:00, 22.12it/s]\n",
            "Round139: User7_1: 100%|████████████████████████████████████████████| 10/10 [00:00<00:00, 24.54it/s]\n",
            "Round139: User12_1: 100%|███████████████████████████████████████████| 10/10 [00:00<00:00, 23.30it/s]\n",
            "Round139: User4_1: 100%|████████████████████████████████████████████| 10/10 [00:00<00:00, 20.88it/s]\n",
            "Round139: User0_1: 100%|████████████████████████████████████████████| 10/10 [00:00<00:00, 18.13it/s]\n",
            "Round139: User11_1: 100%|███████████████████████████████████████████| 10/10 [00:00<00:00, 17.31it/s]\n",
            "Round139: User3_1: 100%|████████████████████████████████████████████| 10/10 [00:00<00:00, 16.75it/s]\n",
            "Round139: User9_1: 100%|████████████████████████████████████████████| 10/10 [00:00<00:00, 16.27it/s]\n",
            "Round139: User13_1: 100%|███████████████████████████████████████████| 10/10 [00:00<00:00, 21.23it/s]\n",
            "Round139: User14_1: 100%|███████████████████████████████████████████| 10/10 [00:00<00:00, 24.13it/s]\n",
            "Round139: User2_1: 100%|████████████████████████████████████████████| 10/10 [00:00<00:00, 24.90it/s]\n",
            "Round139: User5_1: 100%|████████████████████████████████████████████| 10/10 [00:00<00:00, 22.27it/s]\n",
            "Round139: User10_1: 100%|███████████████████████████████████████████| 10/10 [00:00<00:00, 23.78it/s]\n",
            "Round139: User1_1: 100%|████████████████████████████████████████████| 10/10 [00:00<00:00, 23.35it/s]\n"
          ]
        },
        {
          "output_type": "stream",
          "name": "stdout",
          "text": [
            "client:8 train_acc: 55.70%, train_loss: 0.2455\n",
            "client:6 train_acc: 55.90%, train_loss: 0.4919\n",
            "client:7 train_acc: 56.17%, train_loss: 0.7354\n",
            "client:12 train_acc: 56.05%, train_loss: 0.9802\n",
            "client:4 train_acc: 56.10%, train_loss: 1.2256\n",
            "client:0 train_acc: 55.93%, train_loss: 1.4693\n",
            "client:11 train_acc: 56.06%, train_loss: 1.7175\n",
            "client:3 train_acc: 56.15%, train_loss: 1.9610\n",
            "client:9 train_acc: 56.22%, train_loss: 2.1954\n",
            "client:13 train_acc: 56.28%, train_loss: 2.4314\n",
            "client:14 train_acc: 56.15%, train_loss: 2.6827\n",
            "client:2 train_acc: 56.27%, train_loss: 2.9228\n",
            "client:5 train_acc: 56.10%, train_loss: 3.1642\n",
            "client:10 train_acc: 56.11%, train_loss: 3.4114\n",
            "client:1 train_acc: 56.06%, train_loss: 3.6560\n",
            "Test set: Average loss: 3.3877, Accuracy: 651/10000 (6.51%)\n"
          ]
        },
        {
          "output_type": "stream",
          "name": "stderr",
          "text": [
            "Round140: User7_1: 100%|████████████████████████████████████████████| 10/10 [00:00<00:00, 22.78it/s]\n",
            "Round140: User5_1: 100%|████████████████████████████████████████████| 10/10 [00:00<00:00, 22.19it/s]\n",
            "Round140: User14_1: 100%|███████████████████████████████████████████| 10/10 [00:00<00:00, 24.86it/s]\n",
            "Round140: User6_1: 100%|████████████████████████████████████████████| 10/10 [00:00<00:00, 22.40it/s]\n",
            "Round140: User2_1: 100%|████████████████████████████████████████████| 10/10 [00:00<00:00, 24.64it/s]\n",
            "Round140: User4_1: 100%|████████████████████████████████████████████| 10/10 [00:00<00:00, 22.70it/s]\n",
            "Round140: User3_1: 100%|████████████████████████████████████████████| 10/10 [00:00<00:00, 23.44it/s]\n",
            "Round140: User9_1: 100%|████████████████████████████████████████████| 10/10 [00:00<00:00, 24.84it/s]\n",
            "Round140: User13_1: 100%|███████████████████████████████████████████| 10/10 [00:00<00:00, 22.00it/s]\n",
            "Round140: User1_1: 100%|████████████████████████████████████████████| 10/10 [00:00<00:00, 20.26it/s]\n",
            "Round140: User11_1: 100%|███████████████████████████████████████████| 10/10 [00:00<00:00, 21.17it/s]\n",
            "Round140: User12_1: 100%|███████████████████████████████████████████| 10/10 [00:00<00:00, 24.10it/s]\n",
            "Round140: User8_1: 100%|████████████████████████████████████████████| 10/10 [00:00<00:00, 23.36it/s]\n",
            "Round140: User10_1: 100%|███████████████████████████████████████████| 10/10 [00:00<00:00, 24.49it/s]\n",
            "Round140: User0_1: 100%|████████████████████████████████████████████| 10/10 [00:00<00:00, 22.37it/s]\n"
          ]
        },
        {
          "output_type": "stream",
          "name": "stdout",
          "text": [
            "client:7 train_acc: 57.20%, train_loss: 0.2418\n",
            "client:5 train_acc: 56.65%, train_loss: 0.4823\n",
            "client:14 train_acc: 55.97%, train_loss: 0.7335\n",
            "client:6 train_acc: 56.12%, train_loss: 0.9790\n",
            "client:2 train_acc: 56.24%, train_loss: 1.2177\n",
            "client:4 train_acc: 56.13%, train_loss: 1.4634\n",
            "client:3 train_acc: 56.24%, train_loss: 1.7071\n",
            "client:9 train_acc: 56.34%, train_loss: 1.9403\n",
            "client:13 train_acc: 56.52%, train_loss: 2.1764\n",
            "client:1 train_acc: 56.50%, train_loss: 2.4204\n",
            "client:11 train_acc: 56.46%, train_loss: 2.6681\n",
            "client:12 train_acc: 56.38%, train_loss: 2.9143\n",
            "client:8 train_acc: 56.29%, train_loss: 3.1618\n",
            "client:10 train_acc: 56.29%, train_loss: 3.4109\n",
            "client:0 train_acc: 56.19%, train_loss: 3.6540\n",
            "Test set: Average loss: 3.3026, Accuracy: 695/10000 (6.95%)\n"
          ]
        },
        {
          "output_type": "stream",
          "name": "stderr",
          "text": [
            "Round141: User10_1: 100%|███████████████████████████████████████████| 10/10 [00:00<00:00, 23.64it/s]\n",
            "Round141: User9_1: 100%|████████████████████████████████████████████| 10/10 [00:00<00:00, 22.22it/s]\n",
            "Round141: User12_1: 100%|███████████████████████████████████████████| 10/10 [00:00<00:00, 23.92it/s]\n",
            "Round141: User11_1: 100%|███████████████████████████████████████████| 10/10 [00:00<00:00, 23.01it/s]\n",
            "Round141: User4_1: 100%|████████████████████████████████████████████| 10/10 [00:00<00:00, 23.38it/s]\n",
            "Round141: User5_1: 100%|████████████████████████████████████████████| 10/10 [00:00<00:00, 23.53it/s]\n",
            "Round141: User1_1: 100%|████████████████████████████████████████████| 10/10 [00:00<00:00, 22.88it/s]\n",
            "Round141: User7_1: 100%|████████████████████████████████████████████| 10/10 [00:00<00:00, 21.93it/s]\n",
            "Round141: User3_1: 100%|████████████████████████████████████████████| 10/10 [00:00<00:00, 16.13it/s]\n",
            "Round141: User2_1: 100%|████████████████████████████████████████████| 10/10 [00:00<00:00, 17.61it/s]\n",
            "Round141: User14_1: 100%|███████████████████████████████████████████| 10/10 [00:00<00:00, 17.78it/s]\n",
            "Round141: User6_1: 100%|████████████████████████████████████████████| 10/10 [00:00<00:00, 17.04it/s]\n",
            "Round141: User13_1: 100%|███████████████████████████████████████████| 10/10 [00:00<00:00, 21.68it/s]\n",
            "Round141: User0_1: 100%|████████████████████████████████████████████| 10/10 [00:00<00:00, 24.67it/s]\n",
            "Round141: User8_1: 100%|████████████████████████████████████████████| 10/10 [00:00<00:00, 24.92it/s]\n"
          ]
        },
        {
          "output_type": "stream",
          "name": "stdout",
          "text": [
            "client:10 train_acc: 55.90%, train_loss: 0.2479\n",
            "client:9 train_acc: 56.95%, train_loss: 0.4793\n",
            "client:12 train_acc: 56.73%, train_loss: 0.7235\n",
            "client:11 train_acc: 57.05%, train_loss: 0.9696\n",
            "client:4 train_acc: 57.04%, train_loss: 1.2134\n",
            "client:5 train_acc: 56.88%, train_loss: 1.4516\n",
            "client:1 train_acc: 56.81%, train_loss: 1.6948\n",
            "client:7 train_acc: 56.81%, train_loss: 1.9360\n",
            "client:3 train_acc: 56.81%, train_loss: 2.1777\n",
            "client:2 train_acc: 56.86%, train_loss: 2.4160\n",
            "client:14 train_acc: 56.74%, train_loss: 2.6648\n",
            "client:6 train_acc: 56.77%, train_loss: 2.9089\n",
            "client:13 train_acc: 56.88%, train_loss: 3.1437\n",
            "client:0 train_acc: 56.81%, train_loss: 3.3849\n",
            "client:8 train_acc: 56.77%, train_loss: 3.6305\n",
            "Test set: Average loss: 3.4055, Accuracy: 633/10000 (6.33%)\n"
          ]
        },
        {
          "output_type": "stream",
          "name": "stderr",
          "text": [
            "Round142: User1_1: 100%|████████████████████████████████████████████| 10/10 [00:00<00:00, 20.64it/s]\n",
            "Round142: User11_1: 100%|███████████████████████████████████████████| 10/10 [00:00<00:00, 22.74it/s]\n",
            "Round142: User12_1: 100%|███████████████████████████████████████████| 10/10 [00:00<00:00, 23.81it/s]\n",
            "Round142: User13_1: 100%|███████████████████████████████████████████| 10/10 [00:00<00:00, 24.01it/s]\n",
            "Round142: User7_1: 100%|████████████████████████████████████████████| 10/10 [00:00<00:00, 21.74it/s]\n",
            "Round142: User5_1: 100%|████████████████████████████████████████████| 10/10 [00:00<00:00, 23.92it/s]\n",
            "Round142: User14_1: 100%|███████████████████████████████████████████| 10/10 [00:00<00:00, 23.43it/s]\n",
            "Round142: User0_1: 100%|████████████████████████████████████████████| 10/10 [00:00<00:00, 24.03it/s]\n",
            "Round142: User4_1: 100%|████████████████████████████████████████████| 10/10 [00:00<00:00, 23.89it/s]\n",
            "Round142: User6_1: 100%|████████████████████████████████████████████| 10/10 [00:00<00:00, 21.84it/s]\n",
            "Round142: User8_1: 100%|████████████████████████████████████████████| 10/10 [00:00<00:00, 24.25it/s]\n",
            "Round142: User10_1: 100%|███████████████████████████████████████████| 10/10 [00:00<00:00, 23.57it/s]\n",
            "Round142: User3_1: 100%|████████████████████████████████████████████| 10/10 [00:00<00:00, 23.66it/s]\n",
            "Round142: User9_1: 100%|████████████████████████████████████████████| 10/10 [00:00<00:00, 24.56it/s]\n",
            "Round142: User2_1: 100%|████████████████████████████████████████████| 10/10 [00:00<00:00, 23.21it/s]\n"
          ]
        },
        {
          "output_type": "stream",
          "name": "stdout",
          "text": [
            "client:1 train_acc: 55.70%, train_loss: 0.2433\n",
            "client:11 train_acc: 56.10%, train_loss: 0.4914\n",
            "client:12 train_acc: 56.10%, train_loss: 0.7359\n",
            "client:13 train_acc: 56.70%, train_loss: 0.9715\n",
            "client:7 train_acc: 57.04%, train_loss: 1.2132\n",
            "client:5 train_acc: 56.67%, train_loss: 1.4525\n",
            "client:14 train_acc: 56.41%, train_loss: 1.7032\n",
            "client:0 train_acc: 56.24%, train_loss: 1.9453\n",
            "client:4 train_acc: 56.20%, train_loss: 2.1903\n",
            "client:6 train_acc: 56.15%, train_loss: 2.4345\n",
            "client:8 train_acc: 55.98%, train_loss: 2.6798\n",
            "client:10 train_acc: 56.00%, train_loss: 2.9276\n",
            "client:3 train_acc: 56.09%, train_loss: 3.1700\n",
            "client:9 train_acc: 56.19%, train_loss: 3.4032\n",
            "client:2 train_acc: 56.29%, train_loss: 3.6415\n",
            "Test set: Average loss: 3.3395, Accuracy: 663/10000 (6.63%)\n"
          ]
        },
        {
          "output_type": "stream",
          "name": "stderr",
          "text": [
            "Round143: User7_1: 100%|████████████████████████████████████████████| 10/10 [00:00<00:00, 24.59it/s]\n",
            "Round143: User3_1: 100%|████████████████████████████████████████████| 10/10 [00:00<00:00, 22.05it/s]\n",
            "Round143: User11_1: 100%|███████████████████████████████████████████| 10/10 [00:00<00:00, 24.30it/s]\n",
            "Round143: User2_1: 100%|████████████████████████████████████████████| 10/10 [00:00<00:00, 23.40it/s]\n",
            "Round143: User6_1: 100%|████████████████████████████████████████████| 10/10 [00:00<00:00, 22.57it/s]\n",
            "Round143: User8_1: 100%|████████████████████████████████████████████| 10/10 [00:00<00:00, 23.91it/s]\n",
            "Round143: User4_1: 100%|████████████████████████████████████████████| 10/10 [00:00<00:00, 22.33it/s]\n",
            "Round143: User13_1: 100%|███████████████████████████████████████████| 10/10 [00:00<00:00, 23.14it/s]\n",
            "Round143: User12_1: 100%|███████████████████████████████████████████| 10/10 [00:00<00:00, 22.39it/s]\n",
            "Round143: User9_1: 100%|████████████████████████████████████████████| 10/10 [00:00<00:00, 21.63it/s]\n",
            "Round143: User10_1: 100%|███████████████████████████████████████████| 10/10 [00:00<00:00, 18.97it/s]\n",
            "Round143: User0_1: 100%|████████████████████████████████████████████| 10/10 [00:00<00:00, 16.24it/s]\n",
            "Round143: User5_1: 100%|████████████████████████████████████████████| 10/10 [00:00<00:00, 18.39it/s]\n",
            "Round143: User1_1: 100%|████████████████████████████████████████████| 10/10 [00:00<00:00, 16.48it/s]\n",
            "Round143: User14_1: 100%|███████████████████████████████████████████| 10/10 [00:00<00:00, 19.60it/s]\n"
          ]
        },
        {
          "output_type": "stream",
          "name": "stdout",
          "text": [
            "client:7 train_acc: 57.10%, train_loss: 0.2401\n",
            "client:3 train_acc: 57.25%, train_loss: 0.4812\n",
            "client:11 train_acc: 57.53%, train_loss: 0.7267\n",
            "client:2 train_acc: 57.48%, train_loss: 0.9641\n",
            "client:6 train_acc: 57.28%, train_loss: 1.2076\n",
            "client:8 train_acc: 57.05%, train_loss: 1.4524\n",
            "client:4 train_acc: 57.01%, train_loss: 1.6967\n",
            "client:13 train_acc: 57.17%, train_loss: 1.9306\n",
            "client:12 train_acc: 57.03%, train_loss: 2.1739\n",
            "client:9 train_acc: 57.13%, train_loss: 2.4055\n",
            "client:10 train_acc: 57.01%, train_loss: 2.6533\n",
            "client:0 train_acc: 57.03%, train_loss: 2.8944\n",
            "client:5 train_acc: 56.95%, train_loss: 3.1321\n",
            "client:1 train_acc: 56.95%, train_loss: 3.3746\n",
            "client:14 train_acc: 56.87%, train_loss: 3.6234\n",
            "Test set: Average loss: 3.3893, Accuracy: 658/10000 (6.58%)\n"
          ]
        },
        {
          "output_type": "stream",
          "name": "stderr",
          "text": [
            "Round144: User0_1: 100%|████████████████████████████████████████████| 10/10 [00:00<00:00, 16.15it/s]\n",
            "Round144: User7_1: 100%|████████████████████████████████████████████| 10/10 [00:00<00:00, 16.74it/s]\n",
            "Round144: User11_1: 100%|███████████████████████████████████████████| 10/10 [00:00<00:00, 16.34it/s]\n",
            "Round144: User6_1: 100%|████████████████████████████████████████████| 10/10 [00:00<00:00, 24.52it/s]\n",
            "Round144: User9_1: 100%|████████████████████████████████████████████| 10/10 [00:00<00:00, 22.47it/s]\n",
            "Round144: User10_1: 100%|███████████████████████████████████████████| 10/10 [00:00<00:00, 23.63it/s]\n",
            "Round144: User5_1: 100%|████████████████████████████████████████████| 10/10 [00:00<00:00, 24.12it/s]\n",
            "Round144: User8_1: 100%|████████████████████████████████████████████| 10/10 [00:00<00:00, 23.32it/s]\n",
            "Round144: User14_1: 100%|███████████████████████████████████████████| 10/10 [00:00<00:00, 24.52it/s]\n",
            "Round144: User4_1: 100%|████████████████████████████████████████████| 10/10 [00:00<00:00, 22.15it/s]\n",
            "Round144: User2_1: 100%|████████████████████████████████████████████| 10/10 [00:00<00:00, 23.99it/s]\n",
            "Round144: User1_1: 100%|████████████████████████████████████████████| 10/10 [00:00<00:00, 22.73it/s]\n",
            "Round144: User3_1: 100%|████████████████████████████████████████████| 10/10 [00:00<00:00, 23.25it/s]\n",
            "Round144: User12_1: 100%|███████████████████████████████████████████| 10/10 [00:00<00:00, 24.48it/s]\n",
            "Round144: User13_1: 100%|███████████████████████████████████████████| 10/10 [00:00<00:00, 22.45it/s]\n"
          ]
        },
        {
          "output_type": "stream",
          "name": "stdout",
          "text": [
            "client:0 train_acc: 55.70%, train_loss: 0.2408\n",
            "client:7 train_acc: 56.95%, train_loss: 0.4804\n",
            "client:11 train_acc: 56.90%, train_loss: 0.7263\n",
            "client:6 train_acc: 56.65%, train_loss: 0.9702\n",
            "client:9 train_acc: 56.90%, train_loss: 1.2008\n",
            "client:10 train_acc: 56.80%, train_loss: 1.4464\n",
            "client:5 train_acc: 56.76%, train_loss: 1.6848\n",
            "client:8 train_acc: 56.67%, train_loss: 1.9293\n",
            "client:14 train_acc: 56.46%, train_loss: 2.1772\n",
            "client:4 train_acc: 56.47%, train_loss: 2.4183\n",
            "client:2 train_acc: 56.62%, train_loss: 2.6551\n",
            "client:1 train_acc: 56.71%, train_loss: 2.8973\n",
            "client:3 train_acc: 56.86%, train_loss: 3.1379\n",
            "client:12 train_acc: 56.79%, train_loss: 3.3814\n",
            "client:13 train_acc: 56.85%, train_loss: 3.6157\n",
            "Test set: Average loss: 3.4261, Accuracy: 649/10000 (6.49%)\n"
          ]
        },
        {
          "output_type": "stream",
          "name": "stderr",
          "text": [
            "Round145: User12_1: 100%|███████████████████████████████████████████| 10/10 [00:00<00:00, 23.17it/s]\n",
            "Round145: User2_1: 100%|████████████████████████████████████████████| 10/10 [00:00<00:00, 24.26it/s]\n",
            "Round145: User13_1: 100%|███████████████████████████████████████████| 10/10 [00:00<00:00, 21.95it/s]\n",
            "Round145: User6_1: 100%|████████████████████████████████████████████| 10/10 [00:00<00:00, 24.95it/s]\n",
            "Round145: User0_1: 100%|████████████████████████████████████████████| 10/10 [00:00<00:00, 22.54it/s]\n",
            "Round145: User7_1: 100%|████████████████████████████████████████████| 10/10 [00:00<00:00, 23.81it/s]\n",
            "Round145: User1_1: 100%|████████████████████████████████████████████| 10/10 [00:00<00:00, 21.93it/s]\n",
            "Round145: User10_1: 100%|███████████████████████████████████████████| 10/10 [00:00<00:00, 24.84it/s]\n",
            "Round145: User4_1: 100%|████████████████████████████████████████████| 10/10 [00:00<00:00, 25.14it/s]\n",
            "Round145: User5_1: 100%|████████████████████████████████████████████| 10/10 [00:00<00:00, 22.43it/s]\n",
            "Round145: User3_1: 100%|████████████████████████████████████████████| 10/10 [00:00<00:00, 23.03it/s]\n",
            "Round145: User11_1: 100%|███████████████████████████████████████████| 10/10 [00:00<00:00, 23.47it/s]\n",
            "Round145: User8_1: 100%|████████████████████████████████████████████| 10/10 [00:00<00:00, 21.48it/s]\n",
            "Round145: User9_1: 100%|████████████████████████████████████████████| 10/10 [00:00<00:00, 17.47it/s]\n",
            "Round145: User14_1: 100%|███████████████████████████████████████████| 10/10 [00:00<00:00, 16.73it/s]\n"
          ]
        },
        {
          "output_type": "stream",
          "name": "stdout",
          "text": [
            "client:12 train_acc: 56.10%, train_loss: 0.2425\n",
            "client:2 train_acc: 56.90%, train_loss: 0.4793\n",
            "client:13 train_acc: 57.13%, train_loss: 0.7129\n",
            "client:6 train_acc: 57.20%, train_loss: 0.9540\n",
            "client:0 train_acc: 57.04%, train_loss: 1.1946\n",
            "client:7 train_acc: 57.17%, train_loss: 1.4346\n",
            "client:1 train_acc: 57.07%, train_loss: 1.6752\n",
            "client:10 train_acc: 57.01%, train_loss: 1.9216\n",
            "client:4 train_acc: 56.98%, train_loss: 2.1665\n",
            "client:5 train_acc: 56.89%, train_loss: 2.4036\n",
            "client:3 train_acc: 56.87%, train_loss: 2.6443\n",
            "client:11 train_acc: 56.91%, train_loss: 2.8900\n",
            "client:8 train_acc: 56.88%, train_loss: 3.1342\n",
            "client:9 train_acc: 56.91%, train_loss: 3.3651\n",
            "client:14 train_acc: 56.76%, train_loss: 3.6141\n",
            "Test set: Average loss: 3.3481, Accuracy: 655/10000 (6.55%)\n"
          ]
        },
        {
          "output_type": "stream",
          "name": "stderr",
          "text": [
            "Round146: User5_1: 100%|████████████████████████████████████████████| 10/10 [00:00<00:00, 23.23it/s]\n",
            "Round146: User4_1: 100%|████████████████████████████████████████████| 10/10 [00:00<00:00, 17.80it/s]\n",
            "Round146: User9_1: 100%|████████████████████████████████████████████| 10/10 [00:00<00:00, 16.01it/s]\n",
            "Round146: User8_1: 100%|████████████████████████████████████████████| 10/10 [00:00<00:00, 18.75it/s]\n",
            "Round146: User14_1: 100%|███████████████████████████████████████████| 10/10 [00:00<00:00, 15.68it/s]\n",
            "Round146: User12_1: 100%|███████████████████████████████████████████| 10/10 [00:00<00:00, 22.29it/s]\n",
            "Round146: User2_1: 100%|████████████████████████████████████████████| 10/10 [00:00<00:00, 22.40it/s]\n",
            "Round146: User1_1: 100%|████████████████████████████████████████████| 10/10 [00:00<00:00, 24.00it/s]\n",
            "Round146: User6_1: 100%|████████████████████████████████████████████| 10/10 [00:00<00:00, 23.79it/s]\n",
            "Round146: User7_1: 100%|████████████████████████████████████████████| 10/10 [00:00<00:00, 23.46it/s]\n",
            "Round146: User0_1: 100%|████████████████████████████████████████████| 10/10 [00:00<00:00, 24.09it/s]\n",
            "Round146: User10_1: 100%|███████████████████████████████████████████| 10/10 [00:00<00:00, 22.32it/s]\n",
            "Round146: User3_1: 100%|████████████████████████████████████████████| 10/10 [00:00<00:00, 23.26it/s]\n",
            "Round146: User11_1: 100%|███████████████████████████████████████████| 10/10 [00:00<00:00, 25.00it/s]\n",
            "Round146: User13_1: 100%|███████████████████████████████████████████| 10/10 [00:00<00:00, 22.15it/s]\n"
          ]
        },
        {
          "output_type": "stream",
          "name": "stdout",
          "text": [
            "client:5 train_acc: 56.10%, train_loss: 0.2361\n",
            "client:4 train_acc: 56.40%, train_loss: 0.4784\n",
            "client:9 train_acc: 57.03%, train_loss: 0.7082\n",
            "client:8 train_acc: 56.80%, train_loss: 0.9510\n",
            "client:14 train_acc: 56.46%, train_loss: 1.1977\n",
            "client:12 train_acc: 56.57%, train_loss: 1.4398\n",
            "client:2 train_acc: 56.76%, train_loss: 1.6756\n",
            "client:1 train_acc: 56.80%, train_loss: 1.9158\n",
            "client:6 train_acc: 56.77%, train_loss: 2.1580\n",
            "client:7 train_acc: 56.90%, train_loss: 2.3959\n",
            "client:0 train_acc: 56.85%, train_loss: 2.6349\n",
            "client:10 train_acc: 56.86%, train_loss: 2.8805\n",
            "client:3 train_acc: 56.90%, train_loss: 3.1201\n",
            "client:11 train_acc: 56.95%, train_loss: 3.3645\n",
            "client:13 train_acc: 57.03%, train_loss: 3.5976\n",
            "Test set: Average loss: 3.3746, Accuracy: 643/10000 (6.43%)\n"
          ]
        },
        {
          "output_type": "stream",
          "name": "stderr",
          "text": [
            "Round147: User2_1: 100%|████████████████████████████████████████████| 10/10 [00:00<00:00, 23.92it/s]\n",
            "Round147: User6_1: 100%|████████████████████████████████████████████| 10/10 [00:00<00:00, 23.91it/s]\n",
            "Round147: User13_1: 100%|███████████████████████████████████████████| 10/10 [00:00<00:00, 22.42it/s]\n",
            "Round147: User10_1: 100%|███████████████████████████████████████████| 10/10 [00:00<00:00, 24.71it/s]\n",
            "Round147: User11_1: 100%|███████████████████████████████████████████| 10/10 [00:00<00:00, 24.32it/s]\n",
            "Round147: User14_1: 100%|███████████████████████████████████████████| 10/10 [00:00<00:00, 22.88it/s]\n",
            "Round147: User0_1: 100%|████████████████████████████████████████████| 10/10 [00:00<00:00, 23.35it/s]\n",
            "Round147: User3_1: 100%|████████████████████████████████████████████| 10/10 [00:00<00:00, 23.38it/s]\n",
            "Round147: User5_1: 100%|████████████████████████████████████████████| 10/10 [00:00<00:00, 23.56it/s]\n",
            "Round147: User8_1: 100%|████████████████████████████████████████████| 10/10 [00:00<00:00, 24.78it/s]\n",
            "Round147: User7_1: 100%|████████████████████████████████████████████| 10/10 [00:00<00:00, 21.67it/s]\n",
            "Round147: User4_1: 100%|████████████████████████████████████████████| 10/10 [00:00<00:00, 24.53it/s]\n",
            "Round147: User9_1: 100%|████████████████████████████████████████████| 10/10 [00:00<00:00, 21.27it/s]\n",
            "Round147: User12_1: 100%|███████████████████████████████████████████| 10/10 [00:00<00:00, 24.58it/s]\n",
            "Round147: User1_1: 100%|████████████████████████████████████████████| 10/10 [00:00<00:00, 20.42it/s]\n"
          ]
        },
        {
          "output_type": "stream",
          "name": "stdout",
          "text": [
            "client:2 train_acc: 58.00%, train_loss: 0.2357\n",
            "client:6 train_acc: 57.30%, train_loss: 0.4805\n",
            "client:13 train_acc: 57.60%, train_loss: 0.7136\n",
            "client:10 train_acc: 57.00%, train_loss: 0.9598\n",
            "client:11 train_acc: 56.94%, train_loss: 1.2060\n",
            "client:14 train_acc: 56.63%, train_loss: 1.4550\n",
            "client:0 train_acc: 56.50%, train_loss: 1.6972\n",
            "client:3 train_acc: 56.70%, train_loss: 1.9378\n",
            "client:5 train_acc: 56.51%, train_loss: 2.1770\n",
            "client:8 train_acc: 56.49%, train_loss: 2.4219\n",
            "client:7 train_acc: 56.62%, train_loss: 2.6623\n",
            "client:4 train_acc: 56.66%, train_loss: 2.9039\n",
            "client:9 train_acc: 56.72%, train_loss: 3.1356\n",
            "client:12 train_acc: 56.73%, train_loss: 3.3788\n",
            "client:1 train_acc: 56.66%, train_loss: 3.6235\n",
            "Test set: Average loss: 3.4282, Accuracy: 642/10000 (6.42%)\n"
          ]
        },
        {
          "output_type": "stream",
          "name": "stderr",
          "text": [
            "Round148: User0_1: 100%|████████████████████████████████████████████| 10/10 [00:00<00:00, 22.96it/s]\n",
            "Round148: User13_1: 100%|███████████████████████████████████████████| 10/10 [00:00<00:00, 24.02it/s]\n",
            "Round148: User2_1: 100%|████████████████████████████████████████████| 10/10 [00:00<00:00, 22.11it/s]\n",
            "Round148: User4_1: 100%|████████████████████████████████████████████| 10/10 [00:00<00:00, 16.42it/s]\n",
            "Round148: User1_1: 100%|████████████████████████████████████████████| 10/10 [00:00<00:00, 16.71it/s]\n",
            "Round148: User5_1: 100%|████████████████████████████████████████████| 10/10 [00:00<00:00, 19.05it/s]\n",
            "Round148: User12_1: 100%|███████████████████████████████████████████| 10/10 [00:00<00:00, 16.17it/s]\n",
            "Round148: User8_1: 100%|████████████████████████████████████████████| 10/10 [00:00<00:00, 22.24it/s]\n",
            "Round148: User11_1: 100%|███████████████████████████████████████████| 10/10 [00:00<00:00, 22.27it/s]\n",
            "Round148: User14_1: 100%|███████████████████████████████████████████| 10/10 [00:00<00:00, 24.00it/s]\n",
            "Round148: User9_1: 100%|████████████████████████████████████████████| 10/10 [00:00<00:00, 21.79it/s]\n",
            "Round148: User10_1: 100%|███████████████████████████████████████████| 10/10 [00:00<00:00, 23.84it/s]\n",
            "Round148: User6_1: 100%|████████████████████████████████████████████| 10/10 [00:00<00:00, 24.81it/s]\n",
            "Round148: User7_1: 100%|████████████████████████████████████████████| 10/10 [00:00<00:00, 22.83it/s]\n",
            "Round148: User3_1: 100%|████████████████████████████████████████████| 10/10 [00:00<00:00, 23.50it/s]\n"
          ]
        },
        {
          "output_type": "stream",
          "name": "stdout",
          "text": [
            "client:0 train_acc: 56.20%, train_loss: 0.2386\n",
            "client:13 train_acc: 56.75%, train_loss: 0.4733\n",
            "client:2 train_acc: 56.67%, train_loss: 0.7107\n",
            "client:4 train_acc: 56.55%, train_loss: 0.9565\n",
            "client:1 train_acc: 56.46%, train_loss: 1.1958\n",
            "client:5 train_acc: 56.53%, train_loss: 1.4321\n",
            "client:12 train_acc: 56.39%, train_loss: 1.6747\n",
            "client:8 train_acc: 56.39%, train_loss: 1.9186\n",
            "client:11 train_acc: 56.48%, train_loss: 2.1641\n",
            "client:14 train_acc: 56.30%, train_loss: 2.4123\n",
            "client:9 train_acc: 56.32%, train_loss: 2.6430\n",
            "client:10 train_acc: 56.30%, train_loss: 2.8900\n",
            "client:6 train_acc: 56.42%, train_loss: 3.1309\n",
            "client:7 train_acc: 56.52%, train_loss: 3.3704\n",
            "client:3 train_acc: 56.49%, train_loss: 3.6124\n",
            "Test set: Average loss: 3.3269, Accuracy: 689/10000 (6.89%)\n"
          ]
        },
        {
          "output_type": "stream",
          "name": "stderr",
          "text": [
            "Round149: User2_1: 100%|████████████████████████████████████████████| 10/10 [00:00<00:00, 23.55it/s]\n",
            "Round149: User4_1: 100%|████████████████████████████████████████████| 10/10 [00:00<00:00, 24.02it/s]\n",
            "Round149: User11_1: 100%|███████████████████████████████████████████| 10/10 [00:00<00:00, 23.14it/s]\n",
            "Round149: User7_1: 100%|████████████████████████████████████████████| 10/10 [00:00<00:00, 24.26it/s]\n",
            "Round149: User14_1: 100%|███████████████████████████████████████████| 10/10 [00:00<00:00, 22.72it/s]\n",
            "Round149: User9_1: 100%|████████████████████████████████████████████| 10/10 [00:00<00:00, 23.72it/s]\n",
            "Round149: User1_1: 100%|████████████████████████████████████████████| 10/10 [00:00<00:00, 23.73it/s]\n",
            "Round149: User0_1: 100%|████████████████████████████████████████████| 10/10 [00:00<00:00, 23.44it/s]\n",
            "Round149: User6_1: 100%|████████████████████████████████████████████| 10/10 [00:00<00:00, 23.80it/s]\n",
            "Round149: User13_1: 100%|███████████████████████████████████████████| 10/10 [00:00<00:00, 22.80it/s]\n",
            "Round149: User5_1: 100%|████████████████████████████████████████████| 10/10 [00:00<00:00, 23.85it/s]\n",
            "Round149: User12_1: 100%|███████████████████████████████████████████| 10/10 [00:00<00:00, 23.36it/s]\n",
            "Round149: User10_1: 100%|███████████████████████████████████████████| 10/10 [00:00<00:00, 23.40it/s]\n",
            "Round149: User3_1: 100%|████████████████████████████████████████████| 10/10 [00:00<00:00, 25.36it/s]\n",
            "Round149: User8_1: 100%|████████████████████████████████████████████| 10/10 [00:00<00:00, 22.31it/s]\n"
          ]
        },
        {
          "output_type": "stream",
          "name": "stdout",
          "text": [
            "client:2 train_acc: 58.00%, train_loss: 0.2368\n",
            "client:4 train_acc: 57.50%, train_loss: 0.4775\n",
            "client:11 train_acc: 57.13%, train_loss: 0.7249\n",
            "client:7 train_acc: 57.10%, train_loss: 0.9668\n",
            "client:14 train_acc: 56.56%, train_loss: 1.2161\n",
            "client:9 train_acc: 56.72%, train_loss: 1.4484\n",
            "client:1 train_acc: 56.73%, train_loss: 1.6928\n",
            "client:0 train_acc: 56.47%, train_loss: 1.9360\n",
            "client:6 train_acc: 56.37%, train_loss: 2.1825\n",
            "client:13 train_acc: 56.60%, train_loss: 2.4166\n",
            "client:5 train_acc: 56.54%, train_loss: 2.6569\n",
            "client:12 train_acc: 56.52%, train_loss: 2.9013\n",
            "client:10 train_acc: 56.53%, train_loss: 3.1466\n",
            "client:3 train_acc: 56.62%, train_loss: 3.3876\n",
            "client:8 train_acc: 56.56%, train_loss: 3.6322\n",
            "Test set: Average loss: 3.4621, Accuracy: 666/10000 (6.66%)\n"
          ]
        },
        {
          "output_type": "stream",
          "name": "stderr",
          "text": [
            "Round150: User10_1: 100%|███████████████████████████████████████████| 10/10 [00:00<00:00, 22.18it/s]\n",
            "Round150: User5_1: 100%|████████████████████████████████████████████| 10/10 [00:00<00:00, 23.16it/s]\n",
            "Round150: User0_1: 100%|████████████████████████████████████████████| 10/10 [00:00<00:00, 23.60it/s]\n",
            "Round150: User3_1: 100%|████████████████████████████████████████████| 10/10 [00:00<00:00, 22.73it/s]\n",
            "Round150: User13_1: 100%|███████████████████████████████████████████| 10/10 [00:00<00:00, 22.72it/s]\n",
            "Round150: User1_1: 100%|████████████████████████████████████████████| 10/10 [00:00<00:00, 17.09it/s]\n",
            "Round150: User2_1: 100%|████████████████████████████████████████████| 10/10 [00:00<00:00, 16.77it/s]\n",
            "Round150: User7_1: 100%|████████████████████████████████████████████| 10/10 [00:00<00:00, 16.59it/s]\n",
            "Round150: User9_1: 100%|████████████████████████████████████████████| 10/10 [00:00<00:00, 16.58it/s]\n",
            "Round150: User4_1: 100%|████████████████████████████████████████████| 10/10 [00:00<00:00, 20.79it/s]\n",
            "Round150: User6_1: 100%|████████████████████████████████████████████| 10/10 [00:00<00:00, 22.99it/s]\n",
            "Round150: User8_1: 100%|████████████████████████████████████████████| 10/10 [00:00<00:00, 22.87it/s]\n",
            "Round150: User11_1: 100%|███████████████████████████████████████████| 10/10 [00:00<00:00, 22.88it/s]\n",
            "Round150: User12_1: 100%|███████████████████████████████████████████| 10/10 [00:00<00:00, 24.76it/s]\n",
            "Round150: User14_1: 100%|███████████████████████████████████████████| 10/10 [00:00<00:00, 22.21it/s]\n"
          ]
        },
        {
          "output_type": "stream",
          "name": "stdout",
          "text": [
            "client:10 train_acc: 57.50%, train_loss: 0.2443\n",
            "client:5 train_acc: 57.40%, train_loss: 0.4785\n",
            "client:0 train_acc: 57.27%, train_loss: 0.7158\n",
            "client:3 train_acc: 57.20%, train_loss: 0.9552\n",
            "client:13 train_acc: 57.36%, train_loss: 1.1877\n",
            "client:1 train_acc: 57.40%, train_loss: 1.4256\n",
            "client:2 train_acc: 57.30%, train_loss: 1.6619\n",
            "client:7 train_acc: 57.44%, train_loss: 1.8994\n",
            "client:9 train_acc: 57.48%, train_loss: 2.1281\n",
            "client:4 train_acc: 57.33%, train_loss: 2.3704\n",
            "client:6 train_acc: 57.31%, train_loss: 2.6108\n",
            "client:8 train_acc: 57.23%, train_loss: 2.8523\n",
            "client:11 train_acc: 57.23%, train_loss: 3.0963\n",
            "client:12 train_acc: 57.11%, train_loss: 3.3382\n",
            "client:14 train_acc: 57.00%, train_loss: 3.5851\n",
            "Test set: Average loss: 3.3494, Accuracy: 691/10000 (6.91%)\n"
          ]
        },
        {
          "output_type": "stream",
          "name": "stderr",
          "text": [
            "Round151: User7_1: 100%|████████████████████████████████████████████| 10/10 [00:00<00:00, 21.69it/s]\n",
            "Round151: User13_1: 100%|███████████████████████████████████████████| 10/10 [00:00<00:00, 23.80it/s]\n",
            "Round151: User11_1: 100%|███████████████████████████████████████████| 10/10 [00:00<00:00, 24.16it/s]\n",
            "Round151: User12_1: 100%|███████████████████████████████████████████| 10/10 [00:00<00:00, 21.98it/s]\n",
            "Round151: User2_1: 100%|████████████████████████████████████████████| 10/10 [00:00<00:00, 22.87it/s]\n",
            "Round151: User6_1: 100%|████████████████████████████████████████████| 10/10 [00:00<00:00, 22.27it/s]\n",
            "Round151: User9_1: 100%|████████████████████████████████████████████| 10/10 [00:00<00:00, 23.57it/s]\n",
            "Round151: User5_1: 100%|████████████████████████████████████████████| 10/10 [00:00<00:00, 24.68it/s]\n",
            "Round151: User14_1: 100%|███████████████████████████████████████████| 10/10 [00:00<00:00, 23.13it/s]\n",
            "Round151: User10_1: 100%|███████████████████████████████████████████| 10/10 [00:00<00:00, 24.11it/s]\n",
            "Round151: User8_1: 100%|████████████████████████████████████████████| 10/10 [00:00<00:00, 24.78it/s]\n",
            "Round151: User0_1: 100%|████████████████████████████████████████████| 10/10 [00:00<00:00, 23.17it/s]\n",
            "Round151: User1_1: 100%|████████████████████████████████████████████| 10/10 [00:00<00:00, 24.46it/s]\n",
            "Round151: User4_1: 100%|████████████████████████████████████████████| 10/10 [00:00<00:00, 23.02it/s]\n",
            "Round151: User3_1: 100%|████████████████████████████████████████████| 10/10 [00:00<00:00, 24.24it/s]\n"
          ]
        },
        {
          "output_type": "stream",
          "name": "stdout",
          "text": [
            "client:7 train_acc: 59.50%, train_loss: 0.2368\n",
            "client:13 train_acc: 59.25%, train_loss: 0.4677\n",
            "client:11 train_acc: 58.63%, train_loss: 0.7107\n",
            "client:12 train_acc: 58.33%, train_loss: 0.9505\n",
            "client:2 train_acc: 58.36%, train_loss: 1.1842\n",
            "client:6 train_acc: 58.03%, train_loss: 1.4241\n",
            "client:9 train_acc: 58.03%, train_loss: 1.6521\n",
            "client:5 train_acc: 57.90%, train_loss: 1.8870\n",
            "client:14 train_acc: 57.67%, train_loss: 2.1317\n",
            "client:10 train_acc: 57.59%, train_loss: 2.3751\n",
            "client:8 train_acc: 57.45%, train_loss: 2.6165\n",
            "client:0 train_acc: 57.34%, train_loss: 2.8537\n",
            "client:1 train_acc: 57.34%, train_loss: 3.0924\n",
            "client:4 train_acc: 57.29%, train_loss: 3.3321\n",
            "client:3 train_acc: 57.38%, train_loss: 3.5699\n",
            "Test set: Average loss: 3.3954, Accuracy: 669/10000 (6.69%)\n"
          ]
        },
        {
          "output_type": "stream",
          "name": "stderr",
          "text": [
            "Round152: User0_1: 100%|████████████████████████████████████████████| 10/10 [00:00<00:00, 23.04it/s]\n",
            "Round152: User11_1: 100%|███████████████████████████████████████████| 10/10 [00:00<00:00, 20.09it/s]\n",
            "Round152: User10_1: 100%|███████████████████████████████████████████| 10/10 [00:00<00:00, 22.75it/s]\n",
            "Round152: User12_1: 100%|███████████████████████████████████████████| 10/10 [00:00<00:00, 25.14it/s]\n",
            "Round152: User5_1: 100%|████████████████████████████████████████████| 10/10 [00:00<00:00, 21.76it/s]\n",
            "Round152: User8_1: 100%|████████████████████████████████████████████| 10/10 [00:00<00:00, 23.07it/s]\n",
            "Round152: User14_1: 100%|███████████████████████████████████████████| 10/10 [00:00<00:00, 21.71it/s]\n",
            "Round152: User9_1: 100%|████████████████████████████████████████████| 10/10 [00:00<00:00, 16.27it/s]\n",
            "Round152: User1_1: 100%|████████████████████████████████████████████| 10/10 [00:00<00:00, 16.72it/s]\n",
            "Round152: User4_1: 100%|████████████████████████████████████████████| 10/10 [00:00<00:00, 17.90it/s]\n",
            "Round152: User3_1: 100%|████████████████████████████████████████████| 10/10 [00:00<00:00, 16.63it/s]\n",
            "Round152: User6_1: 100%|████████████████████████████████████████████| 10/10 [00:00<00:00, 22.04it/s]\n",
            "Round152: User7_1: 100%|████████████████████████████████████████████| 10/10 [00:00<00:00, 24.49it/s]\n",
            "Round152: User13_1: 100%|███████████████████████████████████████████| 10/10 [00:00<00:00, 22.11it/s]\n",
            "Round152: User2_1: 100%|████████████████████████████████████████████| 10/10 [00:00<00:00, 24.83it/s]\n"
          ]
        },
        {
          "output_type": "stream",
          "name": "stdout",
          "text": [
            "client:0 train_acc: 55.10%, train_loss: 0.2391\n",
            "client:11 train_acc: 55.75%, train_loss: 0.4832\n",
            "client:10 train_acc: 56.40%, train_loss: 0.7253\n",
            "client:12 train_acc: 56.53%, train_loss: 0.9663\n",
            "client:5 train_acc: 56.60%, train_loss: 1.2037\n",
            "client:8 train_acc: 56.43%, train_loss: 1.4448\n",
            "client:14 train_acc: 56.23%, train_loss: 1.6904\n",
            "client:9 train_acc: 56.53%, train_loss: 1.9204\n",
            "client:1 train_acc: 56.59%, train_loss: 2.1590\n",
            "client:4 train_acc: 56.57%, train_loss: 2.3984\n",
            "client:3 train_acc: 56.72%, train_loss: 2.6367\n",
            "client:6 train_acc: 56.76%, train_loss: 2.8787\n",
            "client:7 train_acc: 56.88%, train_loss: 3.1172\n",
            "client:13 train_acc: 57.04%, train_loss: 3.3466\n",
            "client:2 train_acc: 57.10%, train_loss: 3.5803\n",
            "Test set: Average loss: 3.3622, Accuracy: 675/10000 (6.75%)\n"
          ]
        },
        {
          "output_type": "stream",
          "name": "stderr",
          "text": [
            "Round153: User12_1: 100%|███████████████████████████████████████████| 10/10 [00:00<00:00, 20.06it/s]\n",
            "Round153: User11_1: 100%|███████████████████████████████████████████| 10/10 [00:00<00:00, 24.65it/s]\n",
            "Round153: User1_1: 100%|████████████████████████████████████████████| 10/10 [00:00<00:00, 22.64it/s]\n",
            "Round153: User3_1: 100%|████████████████████████████████████████████| 10/10 [00:00<00:00, 25.21it/s]\n",
            "Round153: User8_1: 100%|████████████████████████████████████████████| 10/10 [00:00<00:00, 22.60it/s]\n",
            "Round153: User5_1: 100%|████████████████████████████████████████████| 10/10 [00:00<00:00, 25.42it/s]\n",
            "Round153: User13_1: 100%|███████████████████████████████████████████| 10/10 [00:00<00:00, 25.24it/s]\n",
            "Round153: User2_1: 100%|████████████████████████████████████████████| 10/10 [00:00<00:00, 22.67it/s]\n",
            "Round153: User6_1: 100%|████████████████████████████████████████████| 10/10 [00:00<00:00, 24.25it/s]\n",
            "Round153: User7_1: 100%|████████████████████████████████████████████| 10/10 [00:00<00:00, 22.74it/s]\n",
            "Round153: User4_1: 100%|████████████████████████████████████████████| 10/10 [00:00<00:00, 23.95it/s]\n",
            "Round153: User9_1: 100%|████████████████████████████████████████████| 10/10 [00:00<00:00, 24.93it/s]\n",
            "Round153: User14_1: 100%|███████████████████████████████████████████| 10/10 [00:00<00:00, 22.19it/s]\n",
            "Round153: User10_1: 100%|███████████████████████████████████████████| 10/10 [00:00<00:00, 24.13it/s]\n",
            "Round153: User0_1: 100%|████████████████████████████████████████████| 10/10 [00:00<00:00, 23.54it/s]\n"
          ]
        },
        {
          "output_type": "stream",
          "name": "stdout",
          "text": [
            "client:12 train_acc: 56.70%, train_loss: 0.2384\n",
            "client:11 train_acc: 57.25%, train_loss: 0.4792\n",
            "client:1 train_acc: 57.47%, train_loss: 0.7150\n",
            "client:3 train_acc: 57.63%, train_loss: 0.9513\n",
            "client:8 train_acc: 57.22%, train_loss: 1.1919\n",
            "client:5 train_acc: 57.23%, train_loss: 1.4257\n",
            "client:13 train_acc: 57.50%, train_loss: 1.6552\n",
            "client:2 train_acc: 57.55%, train_loss: 1.8874\n",
            "client:6 train_acc: 57.54%, train_loss: 2.1252\n",
            "client:7 train_acc: 57.70%, train_loss: 2.3607\n",
            "client:4 train_acc: 57.64%, train_loss: 2.6002\n",
            "client:9 train_acc: 57.70%, train_loss: 2.8268\n",
            "client:14 train_acc: 57.53%, train_loss: 3.0709\n",
            "client:10 train_acc: 57.49%, train_loss: 3.3132\n",
            "client:0 train_acc: 57.37%, train_loss: 3.5501\n",
            "Test set: Average loss: 3.3986, Accuracy: 662/10000 (6.62%)\n"
          ]
        },
        {
          "output_type": "stream",
          "name": "stderr",
          "text": [
            "Round154: User7_1: 100%|████████████████████████████████████████████| 10/10 [00:00<00:00, 24.12it/s]\n",
            "Round154: User14_1: 100%|███████████████████████████████████████████| 10/10 [00:00<00:00, 22.84it/s]\n",
            "Round154: User6_1: 100%|████████████████████████████████████████████| 10/10 [00:00<00:00, 22.64it/s]\n",
            "Round154: User0_1: 100%|████████████████████████████████████████████| 10/10 [00:00<00:00, 24.07it/s]\n",
            "Round154: User4_1: 100%|████████████████████████████████████████████| 10/10 [00:00<00:00, 19.54it/s]\n",
            "Round154: User11_1: 100%|███████████████████████████████████████████| 10/10 [00:00<00:00, 25.28it/s]\n",
            "Round154: User1_1: 100%|████████████████████████████████████████████| 10/10 [00:00<00:00, 24.50it/s]\n",
            "Round154: User13_1: 100%|███████████████████████████████████████████| 10/10 [00:00<00:00, 23.51it/s]\n",
            "Round154: User3_1: 100%|████████████████████████████████████████████| 10/10 [00:00<00:00, 25.39it/s]\n",
            "Round154: User10_1: 100%|███████████████████████████████████████████| 10/10 [00:00<00:00, 21.92it/s]\n",
            "Round154: User5_1: 100%|████████████████████████████████████████████| 10/10 [00:00<00:00, 18.91it/s]\n",
            "Round154: User8_1: 100%|████████████████████████████████████████████| 10/10 [00:00<00:00, 17.12it/s]\n",
            "Round154: User2_1: 100%|████████████████████████████████████████████| 10/10 [00:00<00:00, 16.65it/s]\n",
            "Round154: User12_1: 100%|███████████████████████████████████████████| 10/10 [00:00<00:00, 16.32it/s]\n",
            "Round154: User9_1: 100%|████████████████████████████████████████████| 10/10 [00:00<00:00, 18.38it/s]\n"
          ]
        },
        {
          "output_type": "stream",
          "name": "stdout",
          "text": [
            "client:7 train_acc: 59.40%, train_loss: 0.2348\n",
            "client:14 train_acc: 57.35%, train_loss: 0.4777\n",
            "client:6 train_acc: 57.53%, train_loss: 0.7158\n",
            "client:0 train_acc: 57.23%, train_loss: 0.9521\n",
            "client:4 train_acc: 57.20%, train_loss: 1.1906\n",
            "client:11 train_acc: 57.38%, train_loss: 1.4312\n",
            "client:1 train_acc: 57.51%, train_loss: 1.6670\n",
            "client:13 train_acc: 57.71%, train_loss: 1.8957\n",
            "client:3 train_acc: 57.83%, train_loss: 2.1318\n",
            "client:10 train_acc: 57.82%, train_loss: 2.3739\n",
            "client:5 train_acc: 57.77%, train_loss: 2.6072\n",
            "client:8 train_acc: 57.63%, train_loss: 2.8473\n",
            "client:2 train_acc: 57.64%, train_loss: 3.0792\n",
            "client:12 train_acc: 57.63%, train_loss: 3.3178\n",
            "client:9 train_acc: 57.72%, train_loss: 3.5446\n",
            "Test set: Average loss: 3.3939, Accuracy: 691/10000 (6.91%)\n"
          ]
        },
        {
          "output_type": "stream",
          "name": "stderr",
          "text": [
            "Round155: User9_1: 100%|████████████████████████████████████████████| 10/10 [00:00<00:00, 15.71it/s]\n",
            "Round155: User1_1: 100%|████████████████████████████████████████████| 10/10 [00:00<00:00, 17.55it/s]\n",
            "Round155: User12_1: 100%|███████████████████████████████████████████| 10/10 [00:00<00:00, 16.23it/s]\n",
            "Round155: User11_1: 100%|███████████████████████████████████████████| 10/10 [00:00<00:00, 22.03it/s]\n",
            "Round155: User3_1: 100%|████████████████████████████████████████████| 10/10 [00:00<00:00, 19.39it/s]\n",
            "Round155: User13_1: 100%|███████████████████████████████████████████| 10/10 [00:00<00:00, 23.00it/s]\n",
            "Round155: User4_1: 100%|████████████████████████████████████████████| 10/10 [00:00<00:00, 22.46it/s]\n",
            "Round155: User0_1: 100%|████████████████████████████████████████████| 10/10 [00:00<00:00, 23.15it/s]\n",
            "Round155: User14_1: 100%|███████████████████████████████████████████| 10/10 [00:00<00:00, 23.74it/s]\n",
            "Round155: User10_1: 100%|███████████████████████████████████████████| 10/10 [00:00<00:00, 21.53it/s]\n",
            "Round155: User7_1: 100%|████████████████████████████████████████████| 10/10 [00:00<00:00, 23.62it/s]\n",
            "Round155: User2_1: 100%|████████████████████████████████████████████| 10/10 [00:00<00:00, 21.70it/s]\n",
            "Round155: User6_1: 100%|████████████████████████████████████████████| 10/10 [00:00<00:00, 24.69it/s]\n",
            "Round155: User8_1: 100%|████████████████████████████████████████████| 10/10 [00:00<00:00, 23.60it/s]\n",
            "Round155: User5_1: 100%|████████████████████████████████████████████| 10/10 [00:00<00:00, 22.73it/s]\n"
          ]
        },
        {
          "output_type": "stream",
          "name": "stdout",
          "text": [
            "client:9 train_acc: 58.00%, train_loss: 0.2269\n",
            "client:1 train_acc: 57.40%, train_loss: 0.4632\n",
            "client:12 train_acc: 57.23%, train_loss: 0.7007\n",
            "client:11 train_acc: 57.27%, train_loss: 0.9417\n",
            "client:3 train_acc: 57.42%, train_loss: 1.1776\n",
            "client:13 train_acc: 57.67%, train_loss: 1.4058\n",
            "client:4 train_acc: 57.66%, train_loss: 1.6452\n",
            "client:0 train_acc: 57.50%, train_loss: 1.8832\n",
            "client:14 train_acc: 57.31%, train_loss: 2.1271\n",
            "client:10 train_acc: 57.30%, train_loss: 2.3682\n",
            "client:7 train_acc: 57.49%, train_loss: 2.6040\n",
            "client:2 train_acc: 57.57%, train_loss: 2.8347\n",
            "client:6 train_acc: 57.62%, train_loss: 3.0726\n",
            "client:8 train_acc: 57.54%, train_loss: 3.3121\n",
            "client:5 train_acc: 57.47%, train_loss: 3.5468\n",
            "Test set: Average loss: 3.4256, Accuracy: 626/10000 (6.26%)\n"
          ]
        },
        {
          "output_type": "stream",
          "name": "stderr",
          "text": [
            "Round156: User8_1: 100%|████████████████████████████████████████████| 10/10 [00:00<00:00, 22.74it/s]\n",
            "Round156: User4_1: 100%|████████████████████████████████████████████| 10/10 [00:00<00:00, 23.27it/s]\n",
            "Round156: User1_1: 100%|████████████████████████████████████████████| 10/10 [00:00<00:00, 25.08it/s]\n",
            "Round156: User6_1: 100%|████████████████████████████████████████████| 10/10 [00:00<00:00, 22.52it/s]\n",
            "Round156: User13_1: 100%|███████████████████████████████████████████| 10/10 [00:00<00:00, 23.70it/s]\n",
            "Round156: User10_1: 100%|███████████████████████████████████████████| 10/10 [00:00<00:00, 23.76it/s]\n",
            "Round156: User11_1: 100%|███████████████████████████████████████████| 10/10 [00:00<00:00, 23.63it/s]\n",
            "Round156: User9_1: 100%|████████████████████████████████████████████| 10/10 [00:00<00:00, 24.86it/s]\n",
            "Round156: User2_1: 100%|████████████████████████████████████████████| 10/10 [00:00<00:00, 21.77it/s]\n",
            "Round156: User7_1: 100%|████████████████████████████████████████████| 10/10 [00:00<00:00, 24.56it/s]\n",
            "Round156: User3_1: 100%|████████████████████████████████████████████| 10/10 [00:00<00:00, 22.46it/s]\n",
            "Round156: User14_1: 100%|███████████████████████████████████████████| 10/10 [00:00<00:00, 24.30it/s]\n",
            "Round156: User0_1: 100%|████████████████████████████████████████████| 10/10 [00:00<00:00, 22.97it/s]\n",
            "Round156: User12_1: 100%|███████████████████████████████████████████| 10/10 [00:00<00:00, 15.11it/s]\n",
            "Round156: User5_1: 100%|████████████████████████████████████████████| 10/10 [00:00<00:00, 16.84it/s]\n"
          ]
        },
        {
          "output_type": "stream",
          "name": "stdout",
          "text": [
            "client:8 train_acc: 56.10%, train_loss: 0.2404\n",
            "client:4 train_acc: 56.80%, train_loss: 0.4788\n",
            "client:1 train_acc: 57.33%, train_loss: 0.7156\n",
            "client:6 train_acc: 57.30%, train_loss: 0.9554\n",
            "client:13 train_acc: 57.64%, train_loss: 1.1860\n",
            "client:10 train_acc: 57.48%, train_loss: 1.4294\n",
            "client:11 train_acc: 57.41%, train_loss: 1.6711\n",
            "client:9 train_acc: 57.56%, train_loss: 1.8982\n",
            "client:2 train_acc: 57.61%, train_loss: 2.1316\n",
            "client:7 train_acc: 57.74%, train_loss: 2.3659\n",
            "client:3 train_acc: 57.77%, train_loss: 2.6025\n",
            "client:14 train_acc: 57.64%, train_loss: 2.8457\n",
            "client:0 train_acc: 57.48%, train_loss: 3.0811\n",
            "client:12 train_acc: 57.41%, train_loss: 3.3212\n",
            "client:5 train_acc: 57.42%, train_loss: 3.5543\n",
            "Test set: Average loss: 3.3763, Accuracy: 687/10000 (6.87%)\n"
          ]
        },
        {
          "output_type": "stream",
          "name": "stderr",
          "text": [
            "Round157: User9_1: 100%|████████████████████████████████████████████| 10/10 [00:00<00:00, 21.63it/s]\n",
            "Round157: User2_1: 100%|████████████████████████████████████████████| 10/10 [00:00<00:00, 20.07it/s]\n",
            "Round157: User6_1: 100%|████████████████████████████████████████████| 10/10 [00:00<00:00, 16.38it/s]\n",
            "Round157: User14_1: 100%|███████████████████████████████████████████| 10/10 [00:00<00:00, 16.43it/s]\n",
            "Round157: User11_1: 100%|███████████████████████████████████████████| 10/10 [00:00<00:00, 17.03it/s]\n",
            "Round157: User8_1: 100%|████████████████████████████████████████████| 10/10 [00:00<00:00, 17.90it/s]\n",
            "Round157: User1_1: 100%|████████████████████████████████████████████| 10/10 [00:00<00:00, 23.32it/s]\n",
            "Round157: User10_1: 100%|███████████████████████████████████████████| 10/10 [00:00<00:00, 24.44it/s]\n",
            "Round157: User0_1: 100%|████████████████████████████████████████████| 10/10 [00:00<00:00, 23.10it/s]\n",
            "Round157: User4_1: 100%|████████████████████████████████████████████| 10/10 [00:00<00:00, 20.87it/s]\n",
            "Round157: User5_1: 100%|████████████████████████████████████████████| 10/10 [00:00<00:00, 22.30it/s]\n",
            "Round157: User13_1: 100%|███████████████████████████████████████████| 10/10 [00:00<00:00, 23.87it/s]\n",
            "Round157: User3_1: 100%|████████████████████████████████████████████| 10/10 [00:00<00:00, 23.88it/s]\n",
            "Round157: User12_1: 100%|███████████████████████████████████████████| 10/10 [00:00<00:00, 22.29it/s]\n",
            "Round157: User7_1: 100%|████████████████████████████████████████████| 10/10 [00:00<00:00, 24.60it/s]\n"
          ]
        },
        {
          "output_type": "stream",
          "name": "stdout",
          "text": [
            "client:9 train_acc: 58.30%, train_loss: 0.2252\n",
            "client:2 train_acc: 57.90%, train_loss: 0.4573\n",
            "client:6 train_acc: 57.50%, train_loss: 0.6959\n",
            "client:14 train_acc: 57.15%, train_loss: 0.9393\n",
            "client:11 train_acc: 57.18%, train_loss: 1.1799\n",
            "client:8 train_acc: 57.18%, train_loss: 1.4197\n",
            "client:1 train_acc: 57.29%, train_loss: 1.6577\n",
            "client:10 train_acc: 57.17%, train_loss: 1.9004\n",
            "client:0 train_acc: 57.16%, train_loss: 2.1382\n",
            "client:4 train_acc: 57.10%, train_loss: 2.3767\n",
            "client:5 train_acc: 57.22%, train_loss: 2.6089\n",
            "client:13 train_acc: 57.30%, train_loss: 2.8388\n",
            "client:3 train_acc: 57.45%, train_loss: 3.0744\n",
            "client:12 train_acc: 57.39%, train_loss: 3.3129\n",
            "client:7 train_acc: 57.45%, train_loss: 3.5490\n",
            "Test set: Average loss: 3.4720, Accuracy: 650/10000 (6.50%)\n"
          ]
        },
        {
          "output_type": "stream",
          "name": "stderr",
          "text": [
            "Round158: User6_1: 100%|████████████████████████████████████████████| 10/10 [00:00<00:00, 23.67it/s]\n",
            "Round158: User5_1: 100%|████████████████████████████████████████████| 10/10 [00:00<00:00, 23.97it/s]\n",
            "Round158: User8_1: 100%|████████████████████████████████████████████| 10/10 [00:00<00:00, 22.77it/s]\n",
            "Round158: User14_1: 100%|███████████████████████████████████████████| 10/10 [00:00<00:00, 22.32it/s]\n",
            "Round158: User1_1: 100%|████████████████████████████████████████████| 10/10 [00:00<00:00, 23.58it/s]\n",
            "Round158: User7_1: 100%|████████████████████████████████████████████| 10/10 [00:00<00:00, 22.30it/s]\n",
            "Round158: User12_1: 100%|███████████████████████████████████████████| 10/10 [00:00<00:00, 23.09it/s]\n",
            "Round158: User11_1: 100%|███████████████████████████████████████████| 10/10 [00:00<00:00, 21.98it/s]\n",
            "Round158: User0_1: 100%|████████████████████████████████████████████| 10/10 [00:00<00:00, 20.24it/s]\n",
            "Round158: User4_1: 100%|████████████████████████████████████████████| 10/10 [00:00<00:00, 22.82it/s]\n",
            "Round158: User9_1: 100%|████████████████████████████████████████████| 10/10 [00:00<00:00, 23.98it/s]\n",
            "Round158: User10_1: 100%|███████████████████████████████████████████| 10/10 [00:00<00:00, 23.17it/s]\n",
            "Round158: User13_1: 100%|███████████████████████████████████████████| 10/10 [00:00<00:00, 23.07it/s]\n",
            "Round158: User3_1: 100%|████████████████████████████████████████████| 10/10 [00:00<00:00, 24.42it/s]\n",
            "Round158: User2_1: 100%|████████████████████████████████████████████| 10/10 [00:00<00:00, 21.96it/s]\n"
          ]
        },
        {
          "output_type": "stream",
          "name": "stdout",
          "text": [
            "client:6 train_acc: 58.00%, train_loss: 0.2373\n",
            "client:5 train_acc: 58.15%, train_loss: 0.4696\n",
            "client:8 train_acc: 57.73%, train_loss: 0.7100\n",
            "client:14 train_acc: 57.17%, train_loss: 0.9526\n",
            "client:1 train_acc: 57.52%, train_loss: 1.1893\n",
            "client:7 train_acc: 57.78%, train_loss: 1.4240\n",
            "client:12 train_acc: 57.64%, train_loss: 1.6620\n",
            "client:11 train_acc: 57.70%, train_loss: 1.9025\n",
            "client:0 train_acc: 57.49%, train_loss: 2.1397\n",
            "client:4 train_acc: 57.49%, train_loss: 2.3758\n",
            "client:9 train_acc: 57.62%, train_loss: 2.6008\n",
            "client:10 train_acc: 57.53%, train_loss: 2.8426\n",
            "client:13 train_acc: 57.65%, train_loss: 3.0718\n",
            "client:3 train_acc: 57.74%, train_loss: 3.3067\n",
            "client:2 train_acc: 57.81%, train_loss: 3.5378\n",
            "Test set: Average loss: 3.4392, Accuracy: 640/10000 (6.40%)\n"
          ]
        },
        {
          "output_type": "stream",
          "name": "stderr",
          "text": [
            "Round159: User0_1: 100%|████████████████████████████████████████████| 10/10 [00:00<00:00, 21.90it/s]\n",
            "Round159: User14_1: 100%|███████████████████████████████████████████| 10/10 [00:00<00:00, 24.47it/s]\n",
            "Round159: User3_1: 100%|████████████████████████████████████████████| 10/10 [00:00<00:00, 23.20it/s]\n",
            "Round159: User4_1: 100%|████████████████████████████████████████████| 10/10 [00:00<00:00, 17.76it/s]\n",
            "Round159: User1_1: 100%|████████████████████████████████████████████| 10/10 [00:00<00:00, 16.13it/s]\n",
            "Round159: User12_1: 100%|███████████████████████████████████████████| 10/10 [00:00<00:00, 17.01it/s]\n",
            "Round159: User13_1: 100%|███████████████████████████████████████████| 10/10 [00:00<00:00, 15.63it/s]\n",
            "Round159: User11_1: 100%|███████████████████████████████████████████| 10/10 [00:00<00:00, 21.56it/s]\n",
            "Round159: User10_1: 100%|███████████████████████████████████████████| 10/10 [00:00<00:00, 22.74it/s]\n",
            "Round159: User9_1: 100%|████████████████████████████████████████████| 10/10 [00:00<00:00, 24.23it/s]\n",
            "Round159: User8_1: 100%|████████████████████████████████████████████| 10/10 [00:00<00:00, 20.21it/s]\n",
            "Round159: User7_1: 100%|████████████████████████████████████████████| 10/10 [00:00<00:00, 23.98it/s]\n",
            "Round159: User5_1: 100%|████████████████████████████████████████████| 10/10 [00:00<00:00, 24.71it/s]\n",
            "Round159: User2_1: 100%|████████████████████████████████████████████| 10/10 [00:00<00:00, 21.87it/s]\n",
            "Round159: User6_1: 100%|████████████████████████████████████████████| 10/10 [00:00<00:00, 24.65it/s]\n"
          ]
        },
        {
          "output_type": "stream",
          "name": "stdout",
          "text": [
            "client:0 train_acc: 58.10%, train_loss: 0.2338\n",
            "client:14 train_acc: 56.85%, train_loss: 0.4760\n",
            "client:3 train_acc: 57.37%, train_loss: 0.7116\n",
            "client:4 train_acc: 57.23%, train_loss: 0.9513\n",
            "client:1 train_acc: 57.46%, train_loss: 1.1858\n",
            "client:12 train_acc: 57.38%, train_loss: 1.4230\n",
            "client:13 train_acc: 57.50%, train_loss: 1.6513\n",
            "client:11 train_acc: 57.60%, train_loss: 1.8916\n",
            "client:10 train_acc: 57.48%, train_loss: 2.1346\n",
            "client:9 train_acc: 57.54%, train_loss: 2.3608\n",
            "client:8 train_acc: 57.44%, train_loss: 2.6004\n",
            "client:7 train_acc: 57.63%, train_loss: 2.8343\n",
            "client:5 train_acc: 57.63%, train_loss: 3.0659\n",
            "client:2 train_acc: 57.64%, train_loss: 3.2971\n",
            "client:6 train_acc: 57.67%, train_loss: 3.5340\n",
            "Test set: Average loss: 3.3379, Accuracy: 665/10000 (6.65%)\n"
          ]
        },
        {
          "output_type": "stream",
          "name": "stderr",
          "text": [
            "Round160: User0_1: 100%|████████████████████████████████████████████| 10/10 [00:00<00:00, 23.35it/s]\n",
            "Round160: User12_1: 100%|███████████████████████████████████████████| 10/10 [00:00<00:00, 22.40it/s]\n",
            "Round160: User13_1: 100%|███████████████████████████████████████████| 10/10 [00:00<00:00, 23.41it/s]\n",
            "Round160: User1_1: 100%|████████████████████████████████████████████| 10/10 [00:00<00:00, 21.86it/s]\n",
            "Round160: User9_1: 100%|████████████████████████████████████████████| 10/10 [00:00<00:00, 23.05it/s]\n",
            "Round160: User8_1: 100%|████████████████████████████████████████████| 10/10 [00:00<00:00, 23.91it/s]\n",
            "Round160: User5_1: 100%|████████████████████████████████████████████| 10/10 [00:00<00:00, 22.21it/s]\n",
            "Round160: User3_1: 100%|████████████████████████████████████████████| 10/10 [00:00<00:00, 23.11it/s]\n",
            "Round160: User11_1: 100%|███████████████████████████████████████████| 10/10 [00:00<00:00, 21.62it/s]\n",
            "Round160: User7_1: 100%|████████████████████████████████████████████| 10/10 [00:00<00:00, 20.07it/s]\n",
            "Round160: User10_1: 100%|███████████████████████████████████████████| 10/10 [00:00<00:00, 24.84it/s]\n",
            "Round160: User2_1: 100%|████████████████████████████████████████████| 10/10 [00:00<00:00, 22.66it/s]\n",
            "Round160: User14_1: 100%|███████████████████████████████████████████| 10/10 [00:00<00:00, 24.64it/s]\n",
            "Round160: User4_1: 100%|████████████████████████████████████████████| 10/10 [00:00<00:00, 22.77it/s]\n",
            "Round160: User6_1: 100%|████████████████████████████████████████████| 10/10 [00:00<00:00, 23.52it/s]\n"
          ]
        },
        {
          "output_type": "stream",
          "name": "stdout",
          "text": [
            "client:0 train_acc: 56.50%, train_loss: 0.2349\n",
            "client:12 train_acc: 57.00%, train_loss: 0.4716\n",
            "client:13 train_acc: 57.93%, train_loss: 0.6988\n",
            "client:1 train_acc: 58.10%, train_loss: 0.9338\n",
            "client:9 train_acc: 58.22%, train_loss: 1.1586\n",
            "client:8 train_acc: 57.92%, train_loss: 1.3967\n",
            "client:5 train_acc: 57.80%, train_loss: 1.6285\n",
            "client:3 train_acc: 58.07%, train_loss: 1.8626\n",
            "client:11 train_acc: 58.11%, train_loss: 2.1010\n",
            "client:7 train_acc: 58.22%, train_loss: 2.3339\n",
            "client:10 train_acc: 58.22%, train_loss: 2.5738\n",
            "client:2 train_acc: 58.26%, train_loss: 2.8032\n",
            "client:14 train_acc: 58.11%, train_loss: 3.0447\n",
            "client:4 train_acc: 58.13%, train_loss: 3.2799\n",
            "client:6 train_acc: 58.12%, train_loss: 3.5179\n",
            "Test set: Average loss: 3.4383, Accuracy: 656/10000 (6.56%)\n"
          ]
        },
        {
          "output_type": "stream",
          "name": "stderr",
          "text": [
            "Round161: User0_1: 100%|████████████████████████████████████████████| 10/10 [00:00<00:00, 21.73it/s]\n",
            "Round161: User11_1: 100%|███████████████████████████████████████████| 10/10 [00:00<00:00, 24.00it/s]\n",
            "Round161: User8_1: 100%|████████████████████████████████████████████| 10/10 [00:00<00:00, 22.62it/s]\n",
            "Round161: User10_1: 100%|███████████████████████████████████████████| 10/10 [00:00<00:00, 22.93it/s]\n",
            "Round161: User12_1: 100%|███████████████████████████████████████████| 10/10 [00:00<00:00, 24.77it/s]\n",
            "Round161: User7_1: 100%|████████████████████████████████████████████| 10/10 [00:00<00:00, 18.04it/s]\n",
            "Round161: User4_1: 100%|████████████████████████████████████████████| 10/10 [00:00<00:00, 19.09it/s]\n",
            "Round161: User13_1: 100%|███████████████████████████████████████████| 10/10 [00:00<00:00, 16.06it/s]\n",
            "Round161: User14_1: 100%|███████████████████████████████████████████| 10/10 [00:00<00:00, 16.30it/s]\n",
            "Round161: User1_1: 100%|████████████████████████████████████████████| 10/10 [00:00<00:00, 19.35it/s]\n",
            "Round161: User3_1: 100%|████████████████████████████████████████████| 10/10 [00:00<00:00, 22.23it/s]\n",
            "Round161: User6_1: 100%|████████████████████████████████████████████| 10/10 [00:00<00:00, 24.50it/s]\n",
            "Round161: User5_1: 100%|████████████████████████████████████████████| 10/10 [00:00<00:00, 23.27it/s]\n",
            "Round161: User9_1: 100%|████████████████████████████████████████████| 10/10 [00:00<00:00, 23.03it/s]\n",
            "Round161: User2_1: 100%|████████████████████████████████████████████| 10/10 [00:00<00:00, 24.20it/s]\n"
          ]
        },
        {
          "output_type": "stream",
          "name": "stdout",
          "text": [
            "client:0 train_acc: 56.50%, train_loss: 0.2336\n",
            "client:11 train_acc: 57.70%, train_loss: 0.4723\n",
            "client:8 train_acc: 57.13%, train_loss: 0.7107\n",
            "client:10 train_acc: 57.25%, train_loss: 0.9513\n",
            "client:12 train_acc: 57.42%, train_loss: 1.1871\n",
            "client:7 train_acc: 57.88%, train_loss: 1.4190\n",
            "client:4 train_acc: 57.77%, train_loss: 1.6557\n",
            "client:13 train_acc: 57.95%, train_loss: 1.8815\n",
            "client:14 train_acc: 57.72%, train_loss: 2.1223\n",
            "client:1 train_acc: 57.74%, train_loss: 2.3562\n",
            "client:3 train_acc: 57.80%, train_loss: 2.5899\n",
            "client:6 train_acc: 57.91%, train_loss: 2.8254\n",
            "client:5 train_acc: 57.79%, train_loss: 3.0564\n",
            "client:9 train_acc: 57.87%, train_loss: 3.2815\n",
            "client:2 train_acc: 57.94%, train_loss: 3.5107\n",
            "Test set: Average loss: 3.3638, Accuracy: 651/10000 (6.51%)\n"
          ]
        },
        {
          "output_type": "stream",
          "name": "stderr",
          "text": [
            "Round162: User14_1: 100%|███████████████████████████████████████████| 10/10 [00:00<00:00, 24.29it/s]\n",
            "Round162: User6_1: 100%|████████████████████████████████████████████| 10/10 [00:00<00:00, 24.81it/s]\n",
            "Round162: User10_1: 100%|███████████████████████████████████████████| 10/10 [00:00<00:00, 22.30it/s]\n",
            "Round162: User4_1: 100%|████████████████████████████████████████████| 10/10 [00:00<00:00, 24.39it/s]\n",
            "Round162: User2_1: 100%|████████████████████████████████████████████| 10/10 [00:00<00:00, 22.52it/s]\n",
            "Round162: User11_1: 100%|███████████████████████████████████████████| 10/10 [00:00<00:00, 24.11it/s]\n",
            "Round162: User3_1: 100%|████████████████████████████████████████████| 10/10 [00:00<00:00, 23.56it/s]\n",
            "Round162: User0_1: 100%|████████████████████████████████████████████| 10/10 [00:00<00:00, 23.28it/s]\n",
            "Round162: User12_1: 100%|███████████████████████████████████████████| 10/10 [00:00<00:00, 23.80it/s]\n",
            "Round162: User9_1: 100%|████████████████████████████████████████████| 10/10 [00:00<00:00, 22.90it/s]\n",
            "Round162: User8_1: 100%|████████████████████████████████████████████| 10/10 [00:00<00:00, 23.94it/s]\n",
            "Round162: User1_1: 100%|████████████████████████████████████████████| 10/10 [00:00<00:00, 24.49it/s]\n",
            "Round162: User5_1: 100%|████████████████████████████████████████████| 10/10 [00:00<00:00, 22.77it/s]\n",
            "Round162: User13_1: 100%|███████████████████████████████████████████| 10/10 [00:00<00:00, 24.81it/s]\n",
            "Round162: User7_1: 100%|████████████████████████████████████████████| 10/10 [00:00<00:00, 22.32it/s]\n"
          ]
        },
        {
          "output_type": "stream",
          "name": "stdout",
          "text": [
            "client:14 train_acc: 55.80%, train_loss: 0.2408\n",
            "client:6 train_acc: 57.50%, train_loss: 0.4750\n",
            "client:10 train_acc: 57.57%, train_loss: 0.7148\n",
            "client:4 train_acc: 57.53%, train_loss: 0.9511\n",
            "client:2 train_acc: 57.72%, train_loss: 1.1788\n",
            "client:11 train_acc: 57.87%, train_loss: 1.4176\n",
            "client:3 train_acc: 58.01%, train_loss: 1.6516\n",
            "client:0 train_acc: 57.79%, train_loss: 1.8872\n",
            "client:12 train_acc: 57.81%, train_loss: 2.1230\n",
            "client:9 train_acc: 57.92%, train_loss: 2.3468\n",
            "client:8 train_acc: 57.87%, train_loss: 2.5853\n",
            "client:1 train_acc: 57.97%, train_loss: 2.8197\n",
            "client:5 train_acc: 58.01%, train_loss: 3.0507\n",
            "client:13 train_acc: 58.14%, train_loss: 3.2773\n",
            "client:7 train_acc: 58.21%, train_loss: 3.5116\n",
            "Test set: Average loss: 3.4009, Accuracy: 659/10000 (6.59%)\n"
          ]
        },
        {
          "output_type": "stream",
          "name": "stderr",
          "text": [
            "Round163: User1_1: 100%|████████████████████████████████████████████| 10/10 [00:00<00:00, 21.86it/s]\n",
            "Round163: User7_1: 100%|████████████████████████████████████████████| 10/10 [00:00<00:00, 23.75it/s]\n",
            "Round163: User11_1: 100%|███████████████████████████████████████████| 10/10 [00:00<00:00, 23.99it/s]\n",
            "Round163: User13_1: 100%|███████████████████████████████████████████| 10/10 [00:00<00:00, 21.70it/s]\n",
            "Round163: User3_1: 100%|████████████████████████████████████████████| 10/10 [00:00<00:00, 24.85it/s]\n",
            "Round163: User10_1: 100%|███████████████████████████████████████████| 10/10 [00:00<00:00, 21.95it/s]\n",
            "Round163: User14_1: 100%|███████████████████████████████████████████| 10/10 [00:00<00:00, 23.52it/s]\n",
            "Round163: User12_1: 100%|███████████████████████████████████████████| 10/10 [00:00<00:00, 21.70it/s]\n",
            "Round163: User2_1: 100%|████████████████████████████████████████████| 10/10 [00:00<00:00, 17.30it/s]\n",
            "Round163: User5_1: 100%|████████████████████████████████████████████| 10/10 [00:00<00:00, 17.15it/s]\n",
            "Round163: User4_1: 100%|████████████████████████████████████████████| 10/10 [00:00<00:00, 16.01it/s]\n",
            "Round163: User8_1: 100%|████████████████████████████████████████████| 10/10 [00:00<00:00, 14.92it/s]\n",
            "Round163: User9_1: 100%|████████████████████████████████████████████| 10/10 [00:00<00:00, 23.26it/s]\n",
            "Round163: User0_1: 100%|████████████████████████████████████████████| 10/10 [00:00<00:00, 23.40it/s]\n",
            "Round163: User6_1: 100%|████████████████████████████████████████████| 10/10 [00:00<00:00, 20.29it/s]\n"
          ]
        },
        {
          "output_type": "stream",
          "name": "stdout",
          "text": [
            "client:1 train_acc: 58.70%, train_loss: 0.2324\n",
            "client:7 train_acc: 59.20%, train_loss: 0.4634\n",
            "client:11 train_acc: 59.07%, train_loss: 0.7001\n",
            "client:13 train_acc: 59.35%, train_loss: 0.9242\n",
            "client:3 train_acc: 59.32%, train_loss: 1.1568\n",
            "client:10 train_acc: 59.17%, train_loss: 1.3959\n",
            "client:14 train_acc: 58.69%, train_loss: 1.6345\n",
            "client:12 train_acc: 58.61%, train_loss: 1.8698\n",
            "client:2 train_acc: 58.67%, train_loss: 2.0970\n",
            "client:5 train_acc: 58.56%, train_loss: 2.3275\n",
            "client:4 train_acc: 58.55%, train_loss: 2.5610\n",
            "client:8 train_acc: 58.38%, train_loss: 2.7984\n",
            "client:9 train_acc: 58.45%, train_loss: 3.0222\n",
            "client:0 train_acc: 58.36%, train_loss: 3.2553\n",
            "client:6 train_acc: 58.33%, train_loss: 3.4914\n",
            "Test set: Average loss: 3.4202, Accuracy: 655/10000 (6.55%)\n"
          ]
        },
        {
          "output_type": "stream",
          "name": "stderr",
          "text": [
            "Round164: User11_1: 100%|███████████████████████████████████████████| 10/10 [00:00<00:00, 18.70it/s]\n",
            "Round164: User4_1: 100%|████████████████████████████████████████████| 10/10 [00:00<00:00, 23.47it/s]\n",
            "Round164: User5_1: 100%|████████████████████████████████████████████| 10/10 [00:00<00:00, 23.78it/s]\n",
            "Round164: User3_1: 100%|████████████████████████████████████████████| 10/10 [00:00<00:00, 22.27it/s]\n",
            "Round164: User0_1: 100%|████████████████████████████████████████████| 10/10 [00:00<00:00, 24.30it/s]\n",
            "Round164: User1_1: 100%|████████████████████████████████████████████| 10/10 [00:00<00:00, 22.15it/s]\n",
            "Round164: User7_1: 100%|████████████████████████████████████████████| 10/10 [00:00<00:00, 22.81it/s]\n",
            "Round164: User6_1: 100%|████████████████████████████████████████████| 10/10 [00:00<00:00, 22.89it/s]\n",
            "Round164: User12_1: 100%|███████████████████████████████████████████| 10/10 [00:00<00:00, 22.49it/s]\n",
            "Round164: User9_1: 100%|████████████████████████████████████████████| 10/10 [00:00<00:00, 24.80it/s]\n",
            "Round164: User8_1: 100%|████████████████████████████████████████████| 10/10 [00:00<00:00, 21.96it/s]\n",
            "Round164: User10_1: 100%|███████████████████████████████████████████| 10/10 [00:00<00:00, 24.49it/s]\n",
            "Round164: User14_1: 100%|███████████████████████████████████████████| 10/10 [00:00<00:00, 24.37it/s]\n",
            "Round164: User2_1: 100%|████████████████████████████████████████████| 10/10 [00:00<00:00, 23.74it/s]\n",
            "Round164: User13_1: 100%|███████████████████████████████████████████| 10/10 [00:00<00:00, 24.50it/s]\n"
          ]
        },
        {
          "output_type": "stream",
          "name": "stdout",
          "text": [
            "client:11 train_acc: 58.60%, train_loss: 0.2384\n",
            "client:4 train_acc: 58.50%, train_loss: 0.4720\n",
            "client:5 train_acc: 58.40%, train_loss: 0.7023\n",
            "client:3 train_acc: 58.60%, train_loss: 0.9344\n",
            "client:0 train_acc: 58.26%, train_loss: 1.1693\n",
            "client:1 train_acc: 58.38%, train_loss: 1.4027\n",
            "client:7 train_acc: 58.49%, train_loss: 1.6356\n",
            "client:6 train_acc: 58.50%, train_loss: 1.8699\n",
            "client:12 train_acc: 58.47%, train_loss: 2.1047\n",
            "client:9 train_acc: 58.48%, train_loss: 2.3273\n",
            "client:8 train_acc: 58.33%, train_loss: 2.5632\n",
            "client:10 train_acc: 58.38%, train_loss: 2.8013\n",
            "client:14 train_acc: 58.24%, train_loss: 3.0403\n",
            "client:2 train_acc: 58.36%, train_loss: 3.2674\n",
            "client:13 train_acc: 58.50%, train_loss: 3.4923\n",
            "Test set: Average loss: 3.4229, Accuracy: 678/10000 (6.78%)\n"
          ]
        },
        {
          "output_type": "stream",
          "name": "stderr",
          "text": [
            "Round165: User3_1: 100%|████████████████████████████████████████████| 10/10 [00:00<00:00, 22.02it/s]\n",
            "Round165: User13_1: 100%|███████████████████████████████████████████| 10/10 [00:00<00:00, 24.73it/s]\n",
            "Round165: User2_1: 100%|████████████████████████████████████████████| 10/10 [00:00<00:00, 22.71it/s]\n",
            "Round165: User4_1: 100%|████████████████████████████████████████████| 10/10 [00:00<00:00, 22.96it/s]\n",
            "Round165: User14_1: 100%|███████████████████████████████████████████| 10/10 [00:00<00:00, 23.25it/s]\n",
            "Round165: User6_1: 100%|████████████████████████████████████████████| 10/10 [00:00<00:00, 22.88it/s]\n",
            "Round165: User1_1: 100%|████████████████████████████████████████████| 10/10 [00:00<00:00, 24.53it/s]\n",
            "Round165: User8_1: 100%|████████████████████████████████████████████| 10/10 [00:00<00:00, 21.88it/s]\n",
            "Round165: User0_1: 100%|████████████████████████████████████████████| 10/10 [00:00<00:00, 25.37it/s]\n",
            "Round165: User7_1: 100%|████████████████████████████████████████████| 10/10 [00:00<00:00, 22.13it/s]\n",
            "Round165: User9_1: 100%|████████████████████████████████████████████| 10/10 [00:00<00:00, 18.50it/s]\n",
            "Round165: User10_1: 100%|███████████████████████████████████████████| 10/10 [00:00<00:00, 16.70it/s]\n",
            "Round165: User11_1: 100%|███████████████████████████████████████████| 10/10 [00:00<00:00, 17.20it/s]\n",
            "Round165: User12_1: 100%|███████████████████████████████████████████| 10/10 [00:00<00:00, 16.50it/s]\n",
            "Round165: User5_1: 100%|████████████████████████████████████████████| 10/10 [00:00<00:00, 18.97it/s]\n"
          ]
        },
        {
          "output_type": "stream",
          "name": "stdout",
          "text": [
            "client:3 train_acc: 58.90%, train_loss: 0.2338\n",
            "client:13 train_acc: 58.65%, train_loss: 0.4617\n",
            "client:2 train_acc: 58.33%, train_loss: 0.6922\n",
            "client:4 train_acc: 57.90%, train_loss: 0.9278\n",
            "client:14 train_acc: 57.56%, train_loss: 1.1676\n",
            "client:6 train_acc: 57.50%, train_loss: 1.4037\n",
            "client:1 train_acc: 57.73%, train_loss: 1.6373\n",
            "client:8 train_acc: 57.54%, train_loss: 1.8761\n",
            "client:0 train_acc: 57.52%, train_loss: 2.1084\n",
            "client:7 train_acc: 57.80%, train_loss: 2.3380\n",
            "client:9 train_acc: 57.85%, train_loss: 2.5613\n",
            "client:10 train_acc: 57.75%, train_loss: 2.8030\n",
            "client:11 train_acc: 57.78%, train_loss: 3.0397\n",
            "client:12 train_acc: 57.75%, train_loss: 3.2768\n",
            "client:5 train_acc: 57.77%, train_loss: 3.5076\n",
            "Test set: Average loss: 3.4353, Accuracy: 690/10000 (6.90%)\n"
          ]
        },
        {
          "output_type": "stream",
          "name": "stderr",
          "text": [
            "Round166: User9_1: 100%|████████████████████████████████████████████| 10/10 [00:00<00:00, 15.11it/s]\n",
            "Round166: User10_1: 100%|███████████████████████████████████████████| 10/10 [00:00<00:00, 17.20it/s]\n",
            "Round166: User8_1: 100%|████████████████████████████████████████████| 10/10 [00:00<00:00, 16.64it/s]\n",
            "Round166: User11_1: 100%|███████████████████████████████████████████| 10/10 [00:00<00:00, 24.37it/s]\n",
            "Round166: User7_1: 100%|████████████████████████████████████████████| 10/10 [00:00<00:00, 22.49it/s]\n",
            "Round166: User2_1: 100%|████████████████████████████████████████████| 10/10 [00:00<00:00, 24.02it/s]\n",
            "Round166: User3_1: 100%|████████████████████████████████████████████| 10/10 [00:00<00:00, 24.12it/s]\n",
            "Round166: User0_1: 100%|████████████████████████████████████████████| 10/10 [00:00<00:00, 22.32it/s]\n",
            "Round166: User5_1: 100%|████████████████████████████████████████████| 10/10 [00:00<00:00, 25.16it/s]\n",
            "Round166: User6_1: 100%|████████████████████████████████████████████| 10/10 [00:00<00:00, 22.86it/s]\n",
            "Round166: User4_1: 100%|████████████████████████████████████████████| 10/10 [00:00<00:00, 24.29it/s]\n",
            "Round166: User13_1: 100%|███████████████████████████████████████████| 10/10 [00:00<00:00, 23.78it/s]\n",
            "Round166: User1_1: 100%|████████████████████████████████████████████| 10/10 [00:00<00:00, 24.12it/s]\n",
            "Round166: User12_1: 100%|███████████████████████████████████████████| 10/10 [00:00<00:00, 24.44it/s]\n",
            "Round166: User14_1: 100%|███████████████████████████████████████████| 10/10 [00:00<00:00, 22.00it/s]\n"
          ]
        },
        {
          "output_type": "stream",
          "name": "stdout",
          "text": [
            "client:9 train_acc: 58.70%, train_loss: 0.2232\n",
            "client:10 train_acc: 58.55%, train_loss: 0.4615\n",
            "client:8 train_acc: 58.23%, train_loss: 0.6976\n",
            "client:11 train_acc: 58.40%, train_loss: 0.9356\n",
            "client:7 train_acc: 58.54%, train_loss: 1.1692\n",
            "client:2 train_acc: 58.72%, train_loss: 1.3959\n",
            "client:3 train_acc: 58.80%, train_loss: 1.6279\n",
            "client:0 train_acc: 58.55%, train_loss: 1.8637\n",
            "client:5 train_acc: 58.32%, train_loss: 2.0940\n",
            "client:6 train_acc: 58.31%, train_loss: 2.3284\n",
            "client:4 train_acc: 58.30%, train_loss: 2.5640\n",
            "client:13 train_acc: 58.46%, train_loss: 2.7886\n",
            "client:1 train_acc: 58.39%, train_loss: 3.0228\n",
            "client:12 train_acc: 58.41%, train_loss: 3.2567\n",
            "client:14 train_acc: 58.24%, train_loss: 3.4977\n",
            "Test set: Average loss: 3.4537, Accuracy: 643/10000 (6.43%)\n"
          ]
        },
        {
          "output_type": "stream",
          "name": "stderr",
          "text": [
            "Round167: User9_1: 100%|████████████████████████████████████████████| 10/10 [00:00<00:00, 23.93it/s]\n",
            "Round167: User2_1: 100%|████████████████████████████████████████████| 10/10 [00:00<00:00, 22.48it/s]\n",
            "Round167: User12_1: 100%|███████████████████████████████████████████| 10/10 [00:00<00:00, 22.83it/s]\n",
            "Round167: User10_1: 100%|███████████████████████████████████████████| 10/10 [00:00<00:00, 22.87it/s]\n",
            "Round167: User3_1: 100%|████████████████████████████████████████████| 10/10 [00:00<00:00, 23.59it/s]\n",
            "Round167: User7_1: 100%|████████████████████████████████████████████| 10/10 [00:00<00:00, 25.43it/s]\n",
            "Round167: User1_1: 100%|████████████████████████████████████████████| 10/10 [00:00<00:00, 22.68it/s]\n",
            "Round167: User8_1: 100%|████████████████████████████████████████████| 10/10 [00:00<00:00, 25.31it/s]\n",
            "Round167: User5_1: 100%|████████████████████████████████████████████| 10/10 [00:00<00:00, 22.23it/s]\n",
            "Round167: User0_1: 100%|████████████████████████████████████████████| 10/10 [00:00<00:00, 24.43it/s]\n",
            "Round167: User11_1: 100%|███████████████████████████████████████████| 10/10 [00:00<00:00, 23.71it/s]\n",
            "Round167: User14_1: 100%|███████████████████████████████████████████| 10/10 [00:00<00:00, 22.64it/s]\n",
            "Round167: User13_1: 100%|███████████████████████████████████████████| 10/10 [00:00<00:00, 23.73it/s]\n",
            "Round167: User4_1: 100%|████████████████████████████████████████████| 10/10 [00:00<00:00, 15.86it/s]\n",
            "Round167: User6_1: 100%|████████████████████████████████████████████| 10/10 [00:00<00:00, 16.79it/s]\n"
          ]
        },
        {
          "output_type": "stream",
          "name": "stdout",
          "text": [
            "client:9 train_acc: 59.70%, train_loss: 0.2244\n",
            "client:2 train_acc: 59.35%, train_loss: 0.4532\n",
            "client:12 train_acc: 59.17%, train_loss: 0.6889\n",
            "client:10 train_acc: 58.75%, train_loss: 0.9299\n",
            "client:3 train_acc: 58.88%, train_loss: 1.1622\n",
            "client:7 train_acc: 59.02%, train_loss: 1.3920\n",
            "client:1 train_acc: 59.09%, train_loss: 1.6259\n",
            "client:8 train_acc: 58.84%, train_loss: 1.8637\n",
            "client:5 train_acc: 58.73%, train_loss: 2.0934\n",
            "client:0 train_acc: 58.53%, train_loss: 2.3254\n",
            "client:11 train_acc: 58.49%, train_loss: 2.5631\n",
            "client:14 train_acc: 58.37%, train_loss: 2.8028\n",
            "client:13 train_acc: 58.50%, train_loss: 3.0291\n",
            "client:4 train_acc: 58.49%, train_loss: 3.2642\n",
            "client:6 train_acc: 58.41%, train_loss: 3.5015\n",
            "Test set: Average loss: 3.4082, Accuracy: 671/10000 (6.71%)\n"
          ]
        },
        {
          "output_type": "stream",
          "name": "stderr",
          "text": [
            "Round168: User3_1: 100%|████████████████████████████████████████████| 10/10 [00:00<00:00, 23.45it/s]\n",
            "Round168: User11_1: 100%|███████████████████████████████████████████| 10/10 [00:00<00:00, 17.76it/s]\n",
            "Round168: User9_1: 100%|████████████████████████████████████████████| 10/10 [00:00<00:00, 16.05it/s]\n",
            "Round168: User4_1: 100%|████████████████████████████████████████████| 10/10 [00:00<00:00, 17.29it/s]\n",
            "Round168: User5_1: 100%|████████████████████████████████████████████| 10/10 [00:00<00:00, 16.88it/s]\n",
            "Round168: User7_1: 100%|████████████████████████████████████████████| 10/10 [00:00<00:00, 20.50it/s]\n",
            "Round168: User13_1: 100%|███████████████████████████████████████████| 10/10 [00:00<00:00, 23.41it/s]\n",
            "Round168: User8_1: 100%|████████████████████████████████████████████| 10/10 [00:00<00:00, 24.71it/s]\n",
            "Round168: User0_1: 100%|████████████████████████████████████████████| 10/10 [00:00<00:00, 22.35it/s]\n",
            "Round168: User14_1: 100%|███████████████████████████████████████████| 10/10 [00:00<00:00, 24.14it/s]\n",
            "Round168: User12_1: 100%|███████████████████████████████████████████| 10/10 [00:00<00:00, 22.12it/s]\n",
            "Round168: User10_1: 100%|███████████████████████████████████████████| 10/10 [00:00<00:00, 22.85it/s]\n",
            "Round168: User1_1: 100%|████████████████████████████████████████████| 10/10 [00:00<00:00, 25.09it/s]\n",
            "Round168: User2_1: 100%|████████████████████████████████████████████| 10/10 [00:00<00:00, 22.47it/s]\n",
            "Round168: User6_1: 100%|████████████████████████████████████████████| 10/10 [00:00<00:00, 24.42it/s]\n"
          ]
        },
        {
          "output_type": "stream",
          "name": "stdout",
          "text": [
            "client:3 train_acc: 59.20%, train_loss: 0.2315\n",
            "client:11 train_acc: 58.80%, train_loss: 0.4687\n",
            "client:9 train_acc: 58.90%, train_loss: 0.6908\n",
            "client:4 train_acc: 58.83%, train_loss: 0.9246\n",
            "client:5 train_acc: 58.40%, train_loss: 1.1535\n",
            "client:7 train_acc: 58.68%, train_loss: 1.3853\n",
            "client:13 train_acc: 58.84%, train_loss: 1.6092\n",
            "client:8 train_acc: 58.63%, train_loss: 1.8440\n",
            "client:0 train_acc: 58.53%, train_loss: 2.0777\n",
            "client:14 train_acc: 58.21%, train_loss: 2.3176\n",
            "client:12 train_acc: 58.23%, train_loss: 2.5510\n",
            "client:10 train_acc: 58.17%, train_loss: 2.7879\n",
            "client:1 train_acc: 58.18%, train_loss: 3.0205\n",
            "client:2 train_acc: 58.29%, train_loss: 3.2467\n",
            "client:6 train_acc: 58.28%, train_loss: 3.4808\n",
            "Test set: Average loss: 3.4328, Accuracy: 672/10000 (6.72%)\n"
          ]
        },
        {
          "output_type": "stream",
          "name": "stderr",
          "text": [
            "Round169: User12_1: 100%|███████████████████████████████████████████| 10/10 [00:00<00:00, 24.31it/s]\n",
            "Round169: User14_1: 100%|███████████████████████████████████████████| 10/10 [00:00<00:00, 21.81it/s]\n",
            "Round169: User9_1: 100%|████████████████████████████████████████████| 10/10 [00:00<00:00, 26.13it/s]\n",
            "Round169: User7_1: 100%|████████████████████████████████████████████| 10/10 [00:00<00:00, 23.17it/s]\n",
            "Round169: User4_1: 100%|████████████████████████████████████████████| 10/10 [00:00<00:00, 24.45it/s]\n",
            "Round169: User2_1: 100%|████████████████████████████████████████████| 10/10 [00:00<00:00, 23.99it/s]\n",
            "Round169: User0_1: 100%|████████████████████████████████████████████| 10/10 [00:00<00:00, 22.86it/s]\n",
            "Round169: User3_1: 100%|████████████████████████████████████████████| 10/10 [00:00<00:00, 24.04it/s]\n",
            "Round169: User6_1: 100%|████████████████████████████████████████████| 10/10 [00:00<00:00, 20.94it/s]\n",
            "Round169: User13_1: 100%|███████████████████████████████████████████| 10/10 [00:00<00:00, 23.96it/s]\n",
            "Round169: User1_1: 100%|████████████████████████████████████████████| 10/10 [00:00<00:00, 22.55it/s]\n",
            "Round169: User5_1: 100%|████████████████████████████████████████████| 10/10 [00:00<00:00, 25.04it/s]\n",
            "Round169: User11_1: 100%|███████████████████████████████████████████| 10/10 [00:00<00:00, 25.52it/s]\n",
            "Round169: User10_1: 100%|███████████████████████████████████████████| 10/10 [00:00<00:00, 22.62it/s]\n",
            "Round169: User8_1: 100%|████████████████████████████████████████████| 10/10 [00:00<00:00, 23.77it/s]\n"
          ]
        },
        {
          "output_type": "stream",
          "name": "stdout",
          "text": [
            "client:12 train_acc: 58.20%, train_loss: 0.2366\n",
            "client:14 train_acc: 57.55%, train_loss: 0.4770\n",
            "client:9 train_acc: 58.33%, train_loss: 0.7008\n",
            "client:7 train_acc: 58.70%, train_loss: 0.9306\n",
            "client:4 train_acc: 58.48%, train_loss: 1.1665\n",
            "client:2 train_acc: 58.55%, train_loss: 1.3964\n",
            "client:0 train_acc: 58.26%, train_loss: 1.6277\n",
            "client:3 train_acc: 58.30%, train_loss: 1.8600\n",
            "client:6 train_acc: 58.29%, train_loss: 2.0961\n",
            "client:13 train_acc: 58.50%, train_loss: 2.3240\n",
            "client:1 train_acc: 58.55%, train_loss: 2.5577\n",
            "client:5 train_acc: 58.41%, train_loss: 2.7873\n",
            "client:11 train_acc: 58.35%, train_loss: 3.0255\n",
            "client:10 train_acc: 58.30%, train_loss: 3.2670\n",
            "client:8 train_acc: 58.20%, train_loss: 3.5055\n",
            "Test set: Average loss: 3.4138, Accuracy: 700/10000 (7.00%)\n"
          ]
        },
        {
          "output_type": "stream",
          "name": "stderr",
          "text": [
            "Round170: User6_1: 100%|████████████████████████████████████████████| 10/10 [00:00<00:00, 23.43it/s]\n",
            "Round170: User10_1: 100%|███████████████████████████████████████████| 10/10 [00:00<00:00, 22.47it/s]\n",
            "Round170: User1_1: 100%|████████████████████████████████████████████| 10/10 [00:00<00:00, 24.67it/s]\n",
            "Round170: User8_1: 100%|████████████████████████████████████████████| 10/10 [00:00<00:00, 23.27it/s]\n",
            "Round170: User5_1: 100%|████████████████████████████████████████████| 10/10 [00:00<00:00, 15.82it/s]\n",
            "Round170: User4_1: 100%|████████████████████████████████████████████| 10/10 [00:00<00:00, 17.16it/s]\n",
            "Round170: User2_1: 100%|████████████████████████████████████████████| 10/10 [00:00<00:00, 16.47it/s]\n",
            "Round170: User12_1: 100%|███████████████████████████████████████████| 10/10 [00:00<00:00, 16.67it/s]\n",
            "Round170: User14_1: 100%|███████████████████████████████████████████| 10/10 [00:00<00:00, 23.40it/s]\n",
            "Round170: User11_1: 100%|███████████████████████████████████████████| 10/10 [00:00<00:00, 23.99it/s]\n",
            "Round170: User13_1: 100%|███████████████████████████████████████████| 10/10 [00:00<00:00, 22.29it/s]\n",
            "Round170: User7_1: 100%|████████████████████████████████████████████| 10/10 [00:00<00:00, 23.27it/s]\n",
            "Round170: User3_1: 100%|████████████████████████████████████████████| 10/10 [00:00<00:00, 24.88it/s]\n",
            "Round170: User0_1: 100%|████████████████████████████████████████████| 10/10 [00:00<00:00, 22.64it/s]\n",
            "Round170: User9_1: 100%|████████████████████████████████████████████| 10/10 [00:00<00:00, 24.93it/s]\n"
          ]
        },
        {
          "output_type": "stream",
          "name": "stdout",
          "text": [
            "client:6 train_acc: 59.60%, train_loss: 0.2339\n",
            "client:10 train_acc: 58.30%, train_loss: 0.4727\n",
            "client:1 train_acc: 58.53%, train_loss: 0.7050\n",
            "client:8 train_acc: 57.98%, train_loss: 0.9409\n",
            "client:5 train_acc: 58.20%, train_loss: 1.1711\n",
            "client:4 train_acc: 57.98%, train_loss: 1.4071\n",
            "client:2 train_acc: 58.03%, train_loss: 1.6353\n",
            "client:12 train_acc: 57.91%, train_loss: 1.8691\n",
            "client:14 train_acc: 57.78%, train_loss: 2.1091\n",
            "client:11 train_acc: 57.84%, train_loss: 2.3457\n",
            "client:13 train_acc: 57.97%, train_loss: 2.5712\n",
            "client:7 train_acc: 58.11%, train_loss: 2.8041\n",
            "client:3 train_acc: 58.20%, train_loss: 3.0369\n",
            "client:0 train_acc: 58.16%, train_loss: 3.2718\n",
            "client:9 train_acc: 58.17%, train_loss: 3.4960\n",
            "Test set: Average loss: 3.4842, Accuracy: 657/10000 (6.57%)\n"
          ]
        },
        {
          "output_type": "stream",
          "name": "stderr",
          "text": [
            "Round171: User7_1: 100%|████████████████████████████████████████████| 10/10 [00:00<00:00, 23.02it/s]\n",
            "Round171: User10_1: 100%|███████████████████████████████████████████| 10/10 [00:00<00:00, 20.38it/s]\n",
            "Round171: User1_1: 100%|████████████████████████████████████████████| 10/10 [00:00<00:00, 23.71it/s]\n",
            "Round171: User8_1: 100%|████████████████████████████████████████████| 10/10 [00:00<00:00, 24.46it/s]\n",
            "Round171: User14_1: 100%|███████████████████████████████████████████| 10/10 [00:00<00:00, 22.79it/s]\n",
            "Round171: User9_1: 100%|████████████████████████████████████████████| 10/10 [00:00<00:00, 23.46it/s]\n",
            "Round171: User4_1: 100%|████████████████████████████████████████████| 10/10 [00:00<00:00, 24.83it/s]\n",
            "Round171: User5_1: 100%|████████████████████████████████████████████| 10/10 [00:00<00:00, 22.78it/s]\n",
            "Round171: User11_1: 100%|███████████████████████████████████████████| 10/10 [00:00<00:00, 24.05it/s]\n",
            "Round171: User12_1: 100%|███████████████████████████████████████████| 10/10 [00:00<00:00, 25.52it/s]\n",
            "Round171: User3_1: 100%|████████████████████████████████████████████| 10/10 [00:00<00:00, 22.16it/s]\n",
            "Round171: User13_1: 100%|███████████████████████████████████████████| 10/10 [00:00<00:00, 24.36it/s]\n",
            "Round171: User0_1: 100%|████████████████████████████████████████████| 10/10 [00:00<00:00, 23.29it/s]\n",
            "Round171: User6_1: 100%|████████████████████████████████████████████| 10/10 [00:00<00:00, 22.58it/s]\n",
            "Round171: User2_1: 100%|████████████████████████████████████████████| 10/10 [00:00<00:00, 23.61it/s]\n"
          ]
        },
        {
          "output_type": "stream",
          "name": "stdout",
          "text": [
            "client:7 train_acc: 59.50%, train_loss: 0.2300\n",
            "client:10 train_acc: 58.35%, train_loss: 0.4713\n",
            "client:1 train_acc: 58.57%, train_loss: 0.7046\n",
            "client:8 train_acc: 58.03%, train_loss: 0.9430\n",
            "client:14 train_acc: 57.76%, train_loss: 1.1836\n",
            "client:9 train_acc: 57.95%, train_loss: 1.4070\n",
            "client:4 train_acc: 57.93%, train_loss: 1.6428\n",
            "client:5 train_acc: 57.95%, train_loss: 1.8720\n",
            "client:11 train_acc: 57.88%, train_loss: 2.1113\n",
            "client:12 train_acc: 57.87%, train_loss: 2.3482\n",
            "client:3 train_acc: 57.96%, train_loss: 2.5810\n",
            "client:13 train_acc: 58.09%, train_loss: 2.8086\n",
            "client:0 train_acc: 57.98%, train_loss: 3.0396\n",
            "client:6 train_acc: 57.95%, train_loss: 3.2747\n",
            "client:2 train_acc: 57.99%, train_loss: 3.5051\n",
            "Test set: Average loss: 3.3588, Accuracy: 693/10000 (6.93%)\n"
          ]
        },
        {
          "output_type": "stream",
          "name": "stderr",
          "text": [
            "Round172: User1_1: 100%|████████████████████████████████████████████| 10/10 [00:00<00:00, 19.09it/s]\n",
            "Round172: User13_1: 100%|███████████████████████████████████████████| 10/10 [00:00<00:00, 24.56it/s]\n",
            "Round172: User12_1: 100%|███████████████████████████████████████████| 10/10 [00:00<00:00, 23.53it/s]\n",
            "Round172: User10_1: 100%|███████████████████████████████████████████| 10/10 [00:00<00:00, 23.81it/s]\n",
            "Round172: User11_1: 100%|███████████████████████████████████████████| 10/10 [00:00<00:00, 24.96it/s]\n",
            "Round172: User3_1: 100%|████████████████████████████████████████████| 10/10 [00:00<00:00, 22.73it/s]\n",
            "Round172: User5_1: 100%|████████████████████████████████████████████| 10/10 [00:00<00:00, 20.63it/s]\n",
            "Round172: User0_1: 100%|████████████████████████████████████████████| 10/10 [00:00<00:00, 15.44it/s]\n",
            "Round172: User2_1: 100%|████████████████████████████████████████████| 10/10 [00:00<00:00, 17.20it/s]\n",
            "Round172: User6_1: 100%|████████████████████████████████████████████| 10/10 [00:00<00:00, 16.05it/s]\n",
            "Round172: User8_1: 100%|████████████████████████████████████████████| 10/10 [00:00<00:00, 18.61it/s]\n",
            "Round172: User7_1: 100%|████████████████████████████████████████████| 10/10 [00:00<00:00, 22.88it/s]\n",
            "Round172: User4_1: 100%|████████████████████████████████████████████| 10/10 [00:00<00:00, 23.08it/s]\n",
            "Round172: User14_1: 100%|███████████████████████████████████████████| 10/10 [00:00<00:00, 25.49it/s]\n",
            "Round172: User9_1: 100%|████████████████████████████████████████████| 10/10 [00:00<00:00, 23.04it/s]\n"
          ]
        },
        {
          "output_type": "stream",
          "name": "stdout",
          "text": [
            "client:1 train_acc: 59.00%, train_loss: 0.2309\n",
            "client:13 train_acc: 59.80%, train_loss: 0.4533\n",
            "client:12 train_acc: 59.97%, train_loss: 0.6852\n",
            "client:10 train_acc: 59.33%, train_loss: 0.9226\n",
            "client:11 train_acc: 59.38%, train_loss: 1.1578\n",
            "client:3 train_acc: 59.45%, train_loss: 1.3873\n",
            "client:5 train_acc: 59.34%, train_loss: 1.6133\n",
            "client:0 train_acc: 59.24%, train_loss: 1.8442\n",
            "client:2 train_acc: 59.33%, train_loss: 2.0696\n",
            "client:6 train_acc: 59.29%, train_loss: 2.3008\n",
            "client:8 train_acc: 59.08%, train_loss: 2.5350\n",
            "client:7 train_acc: 59.26%, train_loss: 2.7640\n",
            "client:4 train_acc: 59.23%, train_loss: 2.9974\n",
            "client:14 train_acc: 59.05%, train_loss: 3.2349\n",
            "client:9 train_acc: 59.01%, train_loss: 3.4561\n",
            "Test set: Average loss: 3.4195, Accuracy: 658/10000 (6.58%)\n"
          ]
        },
        {
          "output_type": "stream",
          "name": "stderr",
          "text": [
            "Round173: User4_1: 100%|████████████████████████████████████████████| 10/10 [00:00<00:00, 22.03it/s]\n",
            "Round173: User6_1: 100%|████████████████████████████████████████████| 10/10 [00:00<00:00, 24.06it/s]\n",
            "Round173: User2_1: 100%|████████████████████████████████████████████| 10/10 [00:00<00:00, 19.82it/s]\n",
            "Round173: User11_1: 100%|███████████████████████████████████████████| 10/10 [00:00<00:00, 22.75it/s]\n",
            "Round173: User7_1: 100%|████████████████████████████████████████████| 10/10 [00:00<00:00, 22.56it/s]\n",
            "Round173: User8_1: 100%|████████████████████████████████████████████| 10/10 [00:00<00:00, 23.03it/s]\n",
            "Round173: User9_1: 100%|████████████████████████████████████████████| 10/10 [00:00<00:00, 24.65it/s]\n",
            "Round173: User1_1: 100%|████████████████████████████████████████████| 10/10 [00:00<00:00, 22.72it/s]\n",
            "Round173: User0_1: 100%|████████████████████████████████████████████| 10/10 [00:00<00:00, 23.07it/s]\n",
            "Round173: User14_1: 100%|███████████████████████████████████████████| 10/10 [00:00<00:00, 25.23it/s]\n",
            "Round173: User13_1: 100%|███████████████████████████████████████████| 10/10 [00:00<00:00, 21.70it/s]\n",
            "Round173: User5_1: 100%|████████████████████████████████████████████| 10/10 [00:00<00:00, 24.56it/s]\n",
            "Round173: User10_1: 100%|███████████████████████████████████████████| 10/10 [00:00<00:00, 23.71it/s]\n",
            "Round173: User3_1: 100%|████████████████████████████████████████████| 10/10 [00:00<00:00, 23.28it/s]\n",
            "Round173: User12_1: 100%|███████████████████████████████████████████| 10/10 [00:00<00:00, 23.12it/s]\n"
          ]
        },
        {
          "output_type": "stream",
          "name": "stdout",
          "text": [
            "client:4 train_acc: 59.00%, train_loss: 0.2300\n",
            "client:6 train_acc: 58.80%, train_loss: 0.4630\n",
            "client:2 train_acc: 59.13%, train_loss: 0.6873\n",
            "client:11 train_acc: 58.98%, train_loss: 0.9218\n",
            "client:7 train_acc: 59.22%, train_loss: 1.1506\n",
            "client:8 train_acc: 58.95%, train_loss: 1.3838\n",
            "client:9 train_acc: 59.16%, train_loss: 1.6042\n",
            "client:1 train_acc: 59.21%, train_loss: 1.8335\n",
            "client:0 train_acc: 59.02%, train_loss: 2.0644\n",
            "client:14 train_acc: 58.80%, train_loss: 2.3006\n",
            "client:13 train_acc: 58.92%, train_loss: 2.5219\n",
            "client:5 train_acc: 58.93%, train_loss: 2.7496\n",
            "client:10 train_acc: 58.92%, train_loss: 2.9848\n",
            "client:3 train_acc: 58.97%, train_loss: 3.2138\n",
            "client:12 train_acc: 58.93%, train_loss: 3.4465\n",
            "Test set: Average loss: 3.4973, Accuracy: 690/10000 (6.90%)\n"
          ]
        },
        {
          "output_type": "stream",
          "name": "stderr",
          "text": [
            "Round174: User11_1: 100%|███████████████████████████████████████████| 10/10 [00:00<00:00, 23.59it/s]\n",
            "Round174: User13_1: 100%|███████████████████████████████████████████| 10/10 [00:00<00:00, 24.86it/s]\n",
            "Round174: User12_1: 100%|███████████████████████████████████████████| 10/10 [00:00<00:00, 22.30it/s]\n",
            "Round174: User4_1: 100%|████████████████████████████████████████████| 10/10 [00:00<00:00, 20.64it/s]\n",
            "Round174: User5_1: 100%|████████████████████████████████████████████| 10/10 [00:00<00:00, 22.61it/s]\n",
            "Round174: User1_1: 100%|████████████████████████████████████████████| 10/10 [00:00<00:00, 23.77it/s]\n",
            "Round174: User6_1: 100%|████████████████████████████████████████████| 10/10 [00:00<00:00, 22.70it/s]\n",
            "Round174: User9_1: 100%|████████████████████████████████████████████| 10/10 [00:00<00:00, 23.96it/s]\n",
            "Round174: User10_1: 100%|███████████████████████████████████████████| 10/10 [00:00<00:00, 23.50it/s]\n",
            "Round174: User7_1: 100%|████████████████████████████████████████████| 10/10 [00:00<00:00, 17.39it/s]\n",
            "Round174: User14_1: 100%|███████████████████████████████████████████| 10/10 [00:00<00:00, 17.78it/s]\n",
            "Round174: User0_1: 100%|████████████████████████████████████████████| 10/10 [00:00<00:00, 17.54it/s]\n",
            "Round174: User8_1: 100%|████████████████████████████████████████████| 10/10 [00:00<00:00, 16.55it/s]\n",
            "Round174: User3_1: 100%|████████████████████████████████████████████| 10/10 [00:00<00:00, 19.08it/s]\n",
            "Round174: User2_1: 100%|████████████████████████████████████████████| 10/10 [00:00<00:00, 21.94it/s]\n"
          ]
        },
        {
          "output_type": "stream",
          "name": "stdout",
          "text": [
            "client:11 train_acc: 59.80%, train_loss: 0.2326\n",
            "client:13 train_acc: 59.65%, train_loss: 0.4548\n",
            "client:12 train_acc: 59.40%, train_loss: 0.6861\n",
            "client:4 train_acc: 59.05%, train_loss: 0.9190\n",
            "client:5 train_acc: 59.04%, train_loss: 1.1451\n",
            "client:1 train_acc: 59.12%, train_loss: 1.3736\n",
            "client:6 train_acc: 59.14%, train_loss: 1.6043\n",
            "client:9 train_acc: 59.13%, train_loss: 1.8240\n",
            "client:10 train_acc: 59.11%, train_loss: 2.0606\n",
            "client:7 train_acc: 59.27%, train_loss: 2.2862\n",
            "client:14 train_acc: 59.05%, train_loss: 2.5219\n",
            "client:0 train_acc: 58.95%, train_loss: 2.7504\n",
            "client:8 train_acc: 58.88%, train_loss: 2.9845\n",
            "client:3 train_acc: 58.90%, train_loss: 3.2131\n",
            "client:2 train_acc: 58.93%, train_loss: 3.4393\n",
            "Test set: Average loss: 3.4132, Accuracy: 686/10000 (6.86%)\n"
          ]
        },
        {
          "output_type": "stream",
          "name": "stderr",
          "text": [
            "Round175: User8_1: 100%|████████████████████████████████████████████| 10/10 [00:00<00:00, 17.04it/s]\n",
            "Round175: User12_1: 100%|███████████████████████████████████████████| 10/10 [00:00<00:00, 16.63it/s]\n",
            "Round175: User13_1: 100%|███████████████████████████████████████████| 10/10 [00:00<00:00, 17.51it/s]\n",
            "Round175: User9_1: 100%|████████████████████████████████████████████| 10/10 [00:00<00:00, 24.59it/s]\n",
            "Round175: User2_1: 100%|████████████████████████████████████████████| 10/10 [00:00<00:00, 23.96it/s]\n",
            "Round175: User7_1: 100%|████████████████████████████████████████████| 10/10 [00:00<00:00, 23.17it/s]\n",
            "Round175: User3_1: 100%|████████████████████████████████████████████| 10/10 [00:00<00:00, 25.17it/s]\n",
            "Round175: User1_1: 100%|████████████████████████████████████████████| 10/10 [00:00<00:00, 23.11it/s]\n",
            "Round175: User11_1: 100%|███████████████████████████████████████████| 10/10 [00:00<00:00, 23.58it/s]\n",
            "Round175: User6_1: 100%|████████████████████████████████████████████| 10/10 [00:00<00:00, 23.92it/s]\n",
            "Round175: User4_1: 100%|████████████████████████████████████████████| 10/10 [00:00<00:00, 22.27it/s]\n",
            "Round175: User14_1: 100%|███████████████████████████████████████████| 10/10 [00:00<00:00, 24.51it/s]\n",
            "Round175: User10_1: 100%|███████████████████████████████████████████| 10/10 [00:00<00:00, 22.73it/s]\n",
            "Round175: User5_1: 100%|████████████████████████████████████████████| 10/10 [00:00<00:00, 22.21it/s]\n",
            "Round175: User0_1: 100%|████████████████████████████████████████████| 10/10 [00:00<00:00, 23.00it/s]\n"
          ]
        },
        {
          "output_type": "stream",
          "name": "stdout",
          "text": [
            "client:8 train_acc: 58.00%, train_loss: 0.2346\n",
            "client:12 train_acc: 58.75%, train_loss: 0.4661\n",
            "client:13 train_acc: 59.37%, train_loss: 0.6891\n",
            "client:9 train_acc: 59.42%, train_loss: 0.9102\n",
            "client:2 train_acc: 59.32%, train_loss: 1.1358\n",
            "client:7 train_acc: 59.23%, train_loss: 1.3680\n",
            "client:3 train_acc: 59.26%, train_loss: 1.5982\n",
            "client:1 train_acc: 59.35%, train_loss: 1.8284\n",
            "client:11 train_acc: 59.42%, train_loss: 2.0650\n",
            "client:6 train_acc: 59.41%, train_loss: 2.2944\n",
            "client:4 train_acc: 59.28%, train_loss: 2.5289\n",
            "client:14 train_acc: 59.00%, train_loss: 2.7665\n",
            "client:10 train_acc: 58.93%, train_loss: 3.0029\n",
            "client:5 train_acc: 58.89%, train_loss: 3.2312\n",
            "client:0 train_acc: 58.73%, train_loss: 3.4646\n",
            "Test set: Average loss: 3.3900, Accuracy: 685/10000 (6.85%)\n"
          ]
        },
        {
          "output_type": "stream",
          "name": "stderr",
          "text": [
            "Round176: User7_1: 100%|████████████████████████████████████████████| 10/10 [00:00<00:00, 23.38it/s]\n",
            "Round176: User10_1: 100%|███████████████████████████████████████████| 10/10 [00:00<00:00, 22.80it/s]\n",
            "Round176: User3_1: 100%|████████████████████████████████████████████| 10/10 [00:00<00:00, 24.82it/s]\n",
            "Round176: User1_1: 100%|████████████████████████████████████████████| 10/10 [00:00<00:00, 20.18it/s]\n",
            "Round176: User4_1: 100%|████████████████████████████████████████████| 10/10 [00:00<00:00, 22.81it/s]\n",
            "Round176: User8_1: 100%|████████████████████████████████████████████| 10/10 [00:00<00:00, 23.29it/s]\n",
            "Round176: User5_1: 100%|████████████████████████████████████████████| 10/10 [00:00<00:00, 23.59it/s]\n",
            "Round176: User6_1: 100%|████████████████████████████████████████████| 10/10 [00:00<00:00, 23.58it/s]\n",
            "Round176: User2_1: 100%|████████████████████████████████████████████| 10/10 [00:00<00:00, 24.74it/s]\n",
            "Round176: User14_1: 100%|███████████████████████████████████████████| 10/10 [00:00<00:00, 22.19it/s]\n",
            "Round176: User9_1: 100%|████████████████████████████████████████████| 10/10 [00:00<00:00, 25.62it/s]\n",
            "Round176: User13_1: 100%|███████████████████████████████████████████| 10/10 [00:00<00:00, 22.70it/s]\n",
            "Round176: User11_1: 100%|███████████████████████████████████████████| 10/10 [00:00<00:00, 19.75it/s]\n",
            "Round176: User12_1: 100%|███████████████████████████████████████████| 10/10 [00:00<00:00, 16.85it/s]\n",
            "Round176: User0_1: 100%|████████████████████████████████████████████| 10/10 [00:00<00:00, 18.12it/s]\n"
          ]
        },
        {
          "output_type": "stream",
          "name": "stdout",
          "text": [
            "client:7 train_acc: 61.20%, train_loss: 0.2264\n",
            "client:10 train_acc: 59.60%, train_loss: 0.4647\n",
            "client:3 train_acc: 59.77%, train_loss: 0.6944\n",
            "client:1 train_acc: 59.90%, train_loss: 0.9244\n",
            "client:4 train_acc: 59.42%, train_loss: 1.1567\n",
            "client:8 train_acc: 58.98%, train_loss: 1.3922\n",
            "client:5 train_acc: 59.07%, train_loss: 1.6176\n",
            "client:6 train_acc: 58.99%, train_loss: 1.8507\n",
            "client:2 train_acc: 58.92%, train_loss: 2.0781\n",
            "client:14 train_acc: 58.77%, train_loss: 2.3147\n",
            "client:9 train_acc: 58.79%, train_loss: 2.5342\n",
            "client:13 train_acc: 58.85%, train_loss: 2.7589\n",
            "client:11 train_acc: 58.80%, train_loss: 2.9932\n",
            "client:12 train_acc: 58.74%, train_loss: 3.2271\n",
            "client:0 train_acc: 58.68%, train_loss: 3.4558\n",
            "Test set: Average loss: 3.4420, Accuracy: 703/10000 (7.03%)\n"
          ]
        },
        {
          "output_type": "stream",
          "name": "stderr",
          "text": [
            "Round177: User6_1: 100%|████████████████████████████████████████████| 10/10 [00:00<00:00, 22.82it/s]\n",
            "Round177: User13_1: 100%|███████████████████████████████████████████| 10/10 [00:00<00:00, 18.67it/s]\n",
            "Round177: User7_1: 100%|████████████████████████████████████████████| 10/10 [00:00<00:00, 15.38it/s]\n",
            "Round177: User14_1: 100%|███████████████████████████████████████████| 10/10 [00:00<00:00, 16.03it/s]\n",
            "Round177: User0_1: 100%|████████████████████████████████████████████| 10/10 [00:00<00:00, 17.60it/s]\n",
            "Round177: User8_1: 100%|████████████████████████████████████████████| 10/10 [00:00<00:00, 17.73it/s]\n",
            "Round177: User2_1: 100%|████████████████████████████████████████████| 10/10 [00:00<00:00, 24.42it/s]\n",
            "Round177: User5_1: 100%|████████████████████████████████████████████| 10/10 [00:00<00:00, 21.65it/s]\n",
            "Round177: User10_1: 100%|███████████████████████████████████████████| 10/10 [00:00<00:00, 23.70it/s]\n",
            "Round177: User12_1: 100%|███████████████████████████████████████████| 10/10 [00:00<00:00, 22.61it/s]\n",
            "Round177: User4_1: 100%|████████████████████████████████████████████| 10/10 [00:00<00:00, 23.40it/s]\n",
            "Round177: User11_1: 100%|███████████████████████████████████████████| 10/10 [00:00<00:00, 23.52it/s]\n",
            "Round177: User3_1: 100%|████████████████████████████████████████████| 10/10 [00:00<00:00, 22.08it/s]\n",
            "Round177: User9_1: 100%|████████████████████████████████████████████| 10/10 [00:00<00:00, 25.46it/s]\n",
            "Round177: User1_1: 100%|████████████████████████████████████████████| 10/10 [00:00<00:00, 23.47it/s]\n"
          ]
        },
        {
          "output_type": "stream",
          "name": "stdout",
          "text": [
            "client:6 train_acc: 58.80%, train_loss: 0.2295\n",
            "client:13 train_acc: 59.95%, train_loss: 0.4481\n",
            "client:7 train_acc: 60.13%, train_loss: 0.6754\n",
            "client:14 train_acc: 59.23%, train_loss: 0.9103\n",
            "client:0 train_acc: 58.98%, train_loss: 1.1387\n",
            "client:8 train_acc: 58.75%, train_loss: 1.3699\n",
            "client:2 train_acc: 59.13%, train_loss: 1.5921\n",
            "client:5 train_acc: 59.05%, train_loss: 1.8170\n",
            "client:10 train_acc: 58.94%, train_loss: 2.0502\n",
            "client:12 train_acc: 59.00%, train_loss: 2.2793\n",
            "client:4 train_acc: 59.07%, train_loss: 2.5093\n",
            "client:11 train_acc: 59.12%, train_loss: 2.7433\n",
            "client:3 train_acc: 59.18%, train_loss: 2.9705\n",
            "client:9 train_acc: 59.24%, train_loss: 3.1898\n",
            "client:1 train_acc: 59.31%, train_loss: 3.4176\n",
            "Test set: Average loss: 3.4147, Accuracy: 684/10000 (6.84%)\n"
          ]
        },
        {
          "output_type": "stream",
          "name": "stderr",
          "text": [
            "Round178: User10_1: 100%|███████████████████████████████████████████| 10/10 [00:00<00:00, 22.00it/s]\n",
            "Round178: User5_1: 100%|████████████████████████████████████████████| 10/10 [00:00<00:00, 22.79it/s]\n",
            "Round178: User14_1: 100%|███████████████████████████████████████████| 10/10 [00:00<00:00, 25.09it/s]\n",
            "Round178: User8_1: 100%|████████████████████████████████████████████| 10/10 [00:00<00:00, 21.15it/s]\n",
            "Round178: User9_1: 100%|████████████████████████████████████████████| 10/10 [00:00<00:00, 23.89it/s]\n",
            "Round178: User13_1: 100%|███████████████████████████████████████████| 10/10 [00:00<00:00, 18.38it/s]\n",
            "Round178: User3_1: 100%|████████████████████████████████████████████| 10/10 [00:00<00:00, 23.40it/s]\n",
            "Round178: User11_1: 100%|███████████████████████████████████████████| 10/10 [00:00<00:00, 22.68it/s]\n",
            "Round178: User7_1: 100%|████████████████████████████████████████████| 10/10 [00:00<00:00, 23.93it/s]\n",
            "Round178: User6_1: 100%|████████████████████████████████████████████| 10/10 [00:00<00:00, 23.98it/s]\n",
            "Round178: User12_1: 100%|███████████████████████████████████████████| 10/10 [00:00<00:00, 22.59it/s]\n",
            "Round178: User0_1: 100%|████████████████████████████████████████████| 10/10 [00:00<00:00, 23.28it/s]\n",
            "Round178: User4_1: 100%|████████████████████████████████████████████| 10/10 [00:00<00:00, 24.71it/s]\n",
            "Round178: User2_1: 100%|████████████████████████████████████████████| 10/10 [00:00<00:00, 22.29it/s]\n",
            "Round178: User1_1: 100%|████████████████████████████████████████████| 10/10 [00:00<00:00, 24.97it/s]\n"
          ]
        },
        {
          "output_type": "stream",
          "name": "stdout",
          "text": [
            "client:10 train_acc: 58.50%, train_loss: 0.2351\n",
            "client:5 train_acc: 59.40%, train_loss: 0.4597\n",
            "client:14 train_acc: 58.93%, train_loss: 0.6937\n",
            "client:8 train_acc: 58.38%, train_loss: 0.9264\n",
            "client:9 train_acc: 58.58%, train_loss: 1.1437\n",
            "client:13 train_acc: 58.83%, train_loss: 1.3646\n",
            "client:3 train_acc: 59.04%, train_loss: 1.5918\n",
            "client:11 train_acc: 59.03%, train_loss: 1.8233\n",
            "client:7 train_acc: 59.24%, train_loss: 2.0492\n",
            "client:6 train_acc: 59.24%, train_loss: 2.2803\n",
            "client:12 train_acc: 59.15%, train_loss: 2.5112\n",
            "client:0 train_acc: 59.12%, train_loss: 2.7398\n",
            "client:4 train_acc: 59.16%, train_loss: 2.9692\n",
            "client:2 train_acc: 59.16%, train_loss: 3.1939\n",
            "client:1 train_acc: 59.19%, train_loss: 3.4220\n",
            "Test set: Average loss: 3.5449, Accuracy: 677/10000 (6.77%)\n"
          ]
        },
        {
          "output_type": "stream",
          "name": "stderr",
          "text": [
            "Round179: User11_1: 100%|███████████████████████████████████████████| 10/10 [00:00<00:00, 24.13it/s]\n",
            "Round179: User8_1: 100%|████████████████████████████████████████████| 10/10 [00:00<00:00, 23.89it/s]\n",
            "Round179: User14_1: 100%|███████████████████████████████████████████| 10/10 [00:00<00:00, 22.87it/s]\n",
            "Round179: User2_1: 100%|████████████████████████████████████████████| 10/10 [00:00<00:00, 23.46it/s]\n",
            "Round179: User9_1: 100%|████████████████████████████████████████████| 10/10 [00:00<00:00, 14.47it/s]\n",
            "Round179: User1_1: 100%|████████████████████████████████████████████| 10/10 [00:00<00:00, 17.83it/s]\n",
            "Round179: User0_1: 100%|████████████████████████████████████████████| 10/10 [00:00<00:00, 17.53it/s]\n",
            "Round179: User4_1: 100%|████████████████████████████████████████████| 10/10 [00:00<00:00, 17.78it/s]\n",
            "Round179: User7_1: 100%|████████████████████████████████████████████| 10/10 [00:00<00:00, 21.07it/s]\n",
            "Round179: User3_1: 100%|████████████████████████████████████████████| 10/10 [00:00<00:00, 25.03it/s]\n",
            "Round179: User6_1: 100%|████████████████████████████████████████████| 10/10 [00:00<00:00, 22.65it/s]\n",
            "Round179: User5_1: 100%|████████████████████████████████████████████| 10/10 [00:00<00:00, 23.89it/s]\n",
            "Round179: User10_1: 100%|███████████████████████████████████████████| 10/10 [00:00<00:00, 22.04it/s]\n",
            "Round179: User12_1: 100%|███████████████████████████████████████████| 10/10 [00:00<00:00, 23.59it/s]\n",
            "Round179: User13_1: 100%|███████████████████████████████████████████| 10/10 [00:00<00:00, 25.02it/s]\n"
          ]
        },
        {
          "output_type": "stream",
          "name": "stdout",
          "text": [
            "client:11 train_acc: 58.50%, train_loss: 0.2336\n",
            "client:8 train_acc: 57.90%, train_loss: 0.4672\n",
            "client:14 train_acc: 57.33%, train_loss: 0.7022\n",
            "client:2 train_acc: 58.25%, train_loss: 0.9237\n",
            "client:9 train_acc: 58.80%, train_loss: 1.1426\n",
            "client:1 train_acc: 58.97%, train_loss: 1.3701\n",
            "client:0 train_acc: 58.73%, train_loss: 1.5987\n",
            "client:4 train_acc: 58.85%, train_loss: 1.8274\n",
            "client:7 train_acc: 58.92%, train_loss: 2.0547\n",
            "client:3 train_acc: 59.12%, train_loss: 2.2810\n",
            "client:6 train_acc: 59.13%, train_loss: 2.5107\n",
            "client:5 train_acc: 59.09%, train_loss: 2.7370\n",
            "client:10 train_acc: 59.02%, train_loss: 2.9702\n",
            "client:12 train_acc: 58.98%, train_loss: 3.2003\n",
            "client:13 train_acc: 59.13%, train_loss: 3.4209\n",
            "Test set: Average loss: 3.4286, Accuracy: 699/10000 (6.99%)\n"
          ]
        },
        {
          "output_type": "stream",
          "name": "stderr",
          "text": [
            "Round180: User11_1: 100%|███████████████████████████████████████████| 10/10 [00:00<00:00, 23.03it/s]\n",
            "Round180: User9_1: 100%|████████████████████████████████████████████| 10/10 [00:00<00:00, 23.74it/s]\n",
            "Round180: User8_1: 100%|████████████████████████████████████████████| 10/10 [00:00<00:00, 25.16it/s]\n",
            "Round180: User2_1: 100%|████████████████████████████████████████████| 10/10 [00:00<00:00, 22.35it/s]\n",
            "Round180: User7_1: 100%|████████████████████████████████████████████| 10/10 [00:00<00:00, 25.88it/s]\n",
            "Round180: User5_1: 100%|████████████████████████████████████████████| 10/10 [00:00<00:00, 22.55it/s]\n",
            "Round180: User6_1: 100%|████████████████████████████████████████████| 10/10 [00:00<00:00, 24.65it/s]\n",
            "Round180: User1_1: 100%|████████████████████████████████████████████| 10/10 [00:00<00:00, 24.50it/s]\n",
            "Round180: User13_1: 100%|███████████████████████████████████████████| 10/10 [00:00<00:00, 24.19it/s]\n",
            "Round180: User14_1: 100%|███████████████████████████████████████████| 10/10 [00:00<00:00, 23.73it/s]\n",
            "Round180: User10_1: 100%|███████████████████████████████████████████| 10/10 [00:00<00:00, 22.58it/s]\n",
            "Round180: User3_1: 100%|████████████████████████████████████████████| 10/10 [00:00<00:00, 23.95it/s]\n",
            "Round180: User4_1: 100%|████████████████████████████████████████████| 10/10 [00:00<00:00, 22.75it/s]\n",
            "Round180: User0_1: 100%|████████████████████████████████████████████| 10/10 [00:00<00:00, 23.86it/s]\n",
            "Round180: User12_1: 100%|███████████████████████████████████████████| 10/10 [00:00<00:00, 24.62it/s]\n"
          ]
        },
        {
          "output_type": "stream",
          "name": "stdout",
          "text": [
            "client:11 train_acc: 58.40%, train_loss: 0.2300\n",
            "client:9 train_acc: 59.10%, train_loss: 0.4462\n",
            "client:8 train_acc: 58.50%, train_loss: 0.6773\n",
            "client:2 train_acc: 58.67%, train_loss: 0.9000\n",
            "client:7 train_acc: 59.16%, train_loss: 1.1243\n",
            "client:5 train_acc: 59.45%, train_loss: 1.3474\n",
            "client:6 train_acc: 59.47%, train_loss: 1.5759\n",
            "client:1 train_acc: 59.52%, train_loss: 1.8024\n",
            "client:13 train_acc: 59.60%, train_loss: 2.0216\n",
            "client:14 train_acc: 59.40%, train_loss: 2.2544\n",
            "client:10 train_acc: 59.27%, train_loss: 2.4880\n",
            "client:3 train_acc: 59.35%, train_loss: 2.7144\n",
            "client:4 train_acc: 59.34%, train_loss: 2.9428\n",
            "client:0 train_acc: 59.31%, train_loss: 3.1696\n",
            "client:12 train_acc: 59.24%, train_loss: 3.3996\n",
            "Test set: Average loss: 3.5184, Accuracy: 713/10000 (7.13%)\n"
          ]
        },
        {
          "output_type": "stream",
          "name": "stderr",
          "text": [
            "Round181: User0_1: 100%|████████████████████████████████████████████| 10/10 [00:00<00:00, 23.25it/s]\n",
            "Round181: User4_1: 100%|████████████████████████████████████████████| 10/10 [00:00<00:00, 24.43it/s]\n",
            "Round181: User11_1: 100%|███████████████████████████████████████████| 10/10 [00:00<00:00, 21.52it/s]\n",
            "Round181: User6_1: 100%|████████████████████████████████████████████| 10/10 [00:00<00:00, 25.96it/s]\n",
            "Round181: User2_1: 100%|████████████████████████████████████████████| 10/10 [00:00<00:00, 21.77it/s]\n",
            "Round181: User8_1: 100%|████████████████████████████████████████████| 10/10 [00:00<00:00, 24.86it/s]\n",
            "Round181: User5_1: 100%|████████████████████████████████████████████| 10/10 [00:00<00:00, 23.35it/s]\n",
            "Round181: User7_1: 100%|████████████████████████████████████████████| 10/10 [00:00<00:00, 18.90it/s]\n",
            "Round181: User1_1: 100%|████████████████████████████████████████████| 10/10 [00:00<00:00, 15.54it/s]\n",
            "Round181: User3_1: 100%|████████████████████████████████████████████| 10/10 [00:00<00:00, 16.99it/s]\n",
            "Round181: User12_1: 100%|███████████████████████████████████████████| 10/10 [00:00<00:00, 15.96it/s]\n",
            "Round181: User14_1: 100%|███████████████████████████████████████████| 10/10 [00:00<00:00, 21.28it/s]\n",
            "Round181: User10_1: 100%|███████████████████████████████████████████| 10/10 [00:00<00:00, 24.11it/s]\n",
            "Round181: User9_1: 100%|████████████████████████████████████████████| 10/10 [00:00<00:00, 22.96it/s]\n",
            "Round181: User13_1: 100%|███████████████████████████████████████████| 10/10 [00:00<00:00, 18.70it/s]\n"
          ]
        },
        {
          "output_type": "stream",
          "name": "stdout",
          "text": [
            "client:0 train_acc: 59.00%, train_loss: 0.2287\n",
            "client:4 train_acc: 59.10%, train_loss: 0.4586\n",
            "client:11 train_acc: 59.20%, train_loss: 0.6905\n",
            "client:6 train_acc: 59.33%, train_loss: 0.9197\n",
            "client:2 train_acc: 59.38%, train_loss: 1.1434\n",
            "client:8 train_acc: 59.02%, train_loss: 1.3752\n",
            "client:5 train_acc: 59.14%, train_loss: 1.5982\n",
            "client:7 train_acc: 59.35%, train_loss: 1.8242\n",
            "client:1 train_acc: 59.47%, train_loss: 2.0516\n",
            "client:3 train_acc: 59.46%, train_loss: 2.2781\n",
            "client:12 train_acc: 59.55%, train_loss: 2.5079\n",
            "client:14 train_acc: 59.34%, train_loss: 2.7416\n",
            "client:10 train_acc: 59.28%, train_loss: 2.9770\n",
            "client:9 train_acc: 59.32%, train_loss: 3.1945\n",
            "client:13 train_acc: 59.31%, train_loss: 3.4163\n",
            "Test set: Average loss: 3.4888, Accuracy: 661/10000 (6.61%)\n"
          ]
        },
        {
          "output_type": "stream",
          "name": "stderr",
          "text": [
            "Round182: User7_1: 100%|████████████████████████████████████████████| 10/10 [00:00<00:00, 24.53it/s]\n",
            "Round182: User5_1: 100%|████████████████████████████████████████████| 10/10 [00:00<00:00, 21.96it/s]\n",
            "Round182: User12_1: 100%|███████████████████████████████████████████| 10/10 [00:00<00:00, 24.59it/s]\n",
            "Round182: User6_1: 100%|████████████████████████████████████████████| 10/10 [00:00<00:00, 23.68it/s]\n",
            "Round182: User9_1: 100%|████████████████████████████████████████████| 10/10 [00:00<00:00, 22.63it/s]\n",
            "Round182: User2_1: 100%|████████████████████████████████████████████| 10/10 [00:00<00:00, 24.11it/s]\n",
            "Round182: User14_1: 100%|███████████████████████████████████████████| 10/10 [00:00<00:00, 24.21it/s]\n",
            "Round182: User0_1: 100%|████████████████████████████████████████████| 10/10 [00:00<00:00, 22.84it/s]\n",
            "Round182: User3_1: 100%|████████████████████████████████████████████| 10/10 [00:00<00:00, 23.14it/s]\n",
            "Round182: User10_1: 100%|███████████████████████████████████████████| 10/10 [00:00<00:00, 23.09it/s]\n",
            "Round182: User4_1: 100%|████████████████████████████████████████████| 10/10 [00:00<00:00, 23.06it/s]\n",
            "Round182: User1_1: 100%|████████████████████████████████████████████| 10/10 [00:00<00:00, 24.78it/s]\n",
            "Round182: User8_1: 100%|████████████████████████████████████████████| 10/10 [00:00<00:00, 20.80it/s]\n",
            "Round182: User11_1: 100%|███████████████████████████████████████████| 10/10 [00:00<00:00, 19.92it/s]\n",
            "Round182: User13_1: 100%|███████████████████████████████████████████| 10/10 [00:00<00:00, 21.93it/s]\n"
          ]
        },
        {
          "output_type": "stream",
          "name": "stdout",
          "text": [
            "client:7 train_acc: 60.80%, train_loss: 0.2250\n",
            "client:5 train_acc: 59.95%, train_loss: 0.4473\n",
            "client:12 train_acc: 59.97%, train_loss: 0.6737\n",
            "client:6 train_acc: 60.08%, train_loss: 0.9002\n",
            "client:9 train_acc: 60.00%, train_loss: 1.1163\n",
            "client:2 train_acc: 59.95%, train_loss: 1.3361\n",
            "client:14 train_acc: 59.64%, train_loss: 1.5681\n",
            "client:0 train_acc: 59.48%, train_loss: 1.7949\n",
            "client:3 train_acc: 59.58%, train_loss: 2.0193\n",
            "client:10 train_acc: 59.50%, train_loss: 2.2501\n",
            "client:4 train_acc: 59.46%, train_loss: 2.4778\n",
            "client:1 train_acc: 59.58%, train_loss: 2.7029\n",
            "client:8 train_acc: 59.42%, train_loss: 2.9318\n",
            "client:11 train_acc: 59.41%, train_loss: 3.1624\n",
            "client:13 train_acc: 59.53%, train_loss: 3.3799\n",
            "Test set: Average loss: 3.4763, Accuracy: 677/10000 (6.77%)\n"
          ]
        },
        {
          "output_type": "stream",
          "name": "stderr",
          "text": [
            "Round183: User6_1: 100%|████████████████████████████████████████████| 10/10 [00:00<00:00, 23.42it/s]\n",
            "Round183: User1_1: 100%|████████████████████████████████████████████| 10/10 [00:00<00:00, 23.40it/s]\n",
            "Round183: User12_1: 100%|███████████████████████████████████████████| 10/10 [00:00<00:00, 24.20it/s]\n",
            "Round183: User7_1: 100%|████████████████████████████████████████████| 10/10 [00:00<00:00, 23.51it/s]\n",
            "Round183: User10_1: 100%|███████████████████████████████████████████| 10/10 [00:00<00:00, 23.30it/s]\n",
            "Round183: User4_1: 100%|████████████████████████████████████████████| 10/10 [00:00<00:00, 24.36it/s]\n",
            "Round183: User5_1: 100%|████████████████████████████████████████████| 10/10 [00:00<00:00, 23.50it/s]\n",
            "Round183: User11_1: 100%|███████████████████████████████████████████| 10/10 [00:00<00:00, 23.40it/s]\n",
            "Round183: User13_1: 100%|███████████████████████████████████████████| 10/10 [00:00<00:00, 24.46it/s]\n",
            "Round183: User2_1: 100%|████████████████████████████████████████████| 10/10 [00:00<00:00, 19.64it/s]\n",
            "Round183: User0_1: 100%|████████████████████████████████████████████| 10/10 [00:00<00:00, 17.20it/s]\n",
            "Round183: User8_1: 100%|████████████████████████████████████████████| 10/10 [00:00<00:00, 15.46it/s]\n",
            "Round183: User14_1: 100%|███████████████████████████████████████████| 10/10 [00:00<00:00, 15.67it/s]\n",
            "Round183: User9_1: 100%|████████████████████████████████████████████| 10/10 [00:00<00:00, 17.87it/s]\n",
            "Round183: User3_1: 100%|████████████████████████████████████████████| 10/10 [00:00<00:00, 23.96it/s]\n"
          ]
        },
        {
          "output_type": "stream",
          "name": "stdout",
          "text": [
            "client:6 train_acc: 59.70%, train_loss: 0.2263\n",
            "client:1 train_acc: 60.25%, train_loss: 0.4505\n",
            "client:12 train_acc: 60.40%, train_loss: 0.6776\n",
            "client:7 train_acc: 60.60%, train_loss: 0.9008\n",
            "client:10 train_acc: 60.28%, train_loss: 1.1321\n",
            "client:4 train_acc: 60.20%, train_loss: 1.3591\n",
            "client:5 train_acc: 60.09%, train_loss: 1.5799\n",
            "client:11 train_acc: 60.05%, train_loss: 1.8101\n",
            "client:13 train_acc: 60.17%, train_loss: 2.0276\n",
            "client:2 train_acc: 60.16%, train_loss: 2.2485\n",
            "client:0 train_acc: 60.06%, train_loss: 2.4732\n",
            "client:8 train_acc: 59.82%, train_loss: 2.7021\n",
            "client:14 train_acc: 59.64%, train_loss: 2.9339\n",
            "client:9 train_acc: 59.68%, train_loss: 3.1488\n",
            "client:3 train_acc: 59.73%, train_loss: 3.3736\n",
            "Test set: Average loss: 3.4642, Accuracy: 692/10000 (6.92%)\n"
          ]
        },
        {
          "output_type": "stream",
          "name": "stderr",
          "text": [
            "Round184: User1_1: 100%|████████████████████████████████████████████| 10/10 [00:00<00:00, 16.19it/s]\n",
            "Round184: User8_1: 100%|████████████████████████████████████████████| 10/10 [00:00<00:00, 16.50it/s]\n",
            "Round184: User13_1: 100%|███████████████████████████████████████████| 10/10 [00:00<00:00, 16.35it/s]\n",
            "Round184: User0_1: 100%|████████████████████████████████████████████| 10/10 [00:00<00:00, 24.14it/s]\n",
            "Round184: User2_1: 100%|████████████████████████████████████████████| 10/10 [00:00<00:00, 24.69it/s]\n",
            "Round184: User11_1: 100%|███████████████████████████████████████████| 10/10 [00:00<00:00, 23.28it/s]\n",
            "Round184: User3_1: 100%|████████████████████████████████████████████| 10/10 [00:00<00:00, 25.05it/s]\n",
            "Round184: User4_1: 100%|████████████████████████████████████████████| 10/10 [00:00<00:00, 23.58it/s]\n",
            "Round184: User14_1: 100%|███████████████████████████████████████████| 10/10 [00:00<00:00, 23.48it/s]\n",
            "Round184: User5_1: 100%|████████████████████████████████████████████| 10/10 [00:00<00:00, 24.47it/s]\n",
            "Round184: User10_1: 100%|███████████████████████████████████████████| 10/10 [00:00<00:00, 22.50it/s]\n",
            "Round184: User12_1: 100%|███████████████████████████████████████████| 10/10 [00:00<00:00, 22.17it/s]\n",
            "Round184: User7_1: 100%|████████████████████████████████████████████| 10/10 [00:00<00:00, 22.86it/s]\n",
            "Round184: User9_1: 100%|████████████████████████████████████████████| 10/10 [00:00<00:00, 24.34it/s]\n",
            "Round184: User6_1: 100%|████████████████████████████████████████████| 10/10 [00:00<00:00, 24.20it/s]\n"
          ]
        },
        {
          "output_type": "stream",
          "name": "stdout",
          "text": [
            "client:1 train_acc: 59.90%, train_loss: 0.2256\n",
            "client:8 train_acc: 58.90%, train_loss: 0.4551\n",
            "client:13 train_acc: 59.87%, train_loss: 0.6705\n",
            "client:0 train_acc: 59.42%, train_loss: 0.8978\n",
            "client:2 train_acc: 59.96%, train_loss: 1.1162\n",
            "client:11 train_acc: 59.95%, train_loss: 1.3475\n",
            "client:3 train_acc: 60.17%, train_loss: 1.5717\n",
            "client:4 train_acc: 60.20%, train_loss: 1.7983\n",
            "client:14 train_acc: 59.92%, train_loss: 2.0302\n",
            "client:5 train_acc: 59.87%, train_loss: 2.2537\n",
            "client:10 train_acc: 59.85%, train_loss: 2.4843\n",
            "client:12 train_acc: 59.88%, train_loss: 2.7106\n",
            "client:7 train_acc: 59.95%, train_loss: 2.9357\n",
            "client:9 train_acc: 59.96%, train_loss: 3.1532\n",
            "client:6 train_acc: 59.91%, train_loss: 3.3814\n",
            "Test set: Average loss: 3.4448, Accuracy: 661/10000 (6.61%)\n"
          ]
        },
        {
          "output_type": "stream",
          "name": "stderr",
          "text": [
            "Round185: User14_1: 100%|███████████████████████████████████████████| 10/10 [00:00<00:00, 23.62it/s]\n",
            "Round185: User2_1: 100%|████████████████████████████████████████████| 10/10 [00:00<00:00, 24.55it/s]\n",
            "Round185: User12_1: 100%|███████████████████████████████████████████| 10/10 [00:00<00:00, 22.64it/s]\n",
            "Round185: User8_1: 100%|████████████████████████████████████████████| 10/10 [00:00<00:00, 24.05it/s]\n",
            "Round185: User13_1: 100%|███████████████████████████████████████████| 10/10 [00:00<00:00, 23.82it/s]\n",
            "Round185: User11_1: 100%|███████████████████████████████████████████| 10/10 [00:00<00:00, 22.67it/s]\n",
            "Round185: User6_1: 100%|████████████████████████████████████████████| 10/10 [00:00<00:00, 23.31it/s]\n",
            "Round185: User1_1: 100%|████████████████████████████████████████████| 10/10 [00:00<00:00, 22.20it/s]\n",
            "Round185: User5_1: 100%|████████████████████████████████████████████| 10/10 [00:00<00:00, 24.94it/s]\n",
            "Round185: User4_1: 100%|████████████████████████████████████████████| 10/10 [00:00<00:00, 24.74it/s]\n",
            "Round185: User0_1: 100%|████████████████████████████████████████████| 10/10 [00:00<00:00, 21.89it/s]\n",
            "Round185: User10_1: 100%|███████████████████████████████████████████| 10/10 [00:00<00:00, 23.71it/s]\n",
            "Round185: User9_1: 100%|████████████████████████████████████████████| 10/10 [00:00<00:00, 22.68it/s]\n",
            "Round185: User3_1: 100%|████████████████████████████████████████████| 10/10 [00:00<00:00, 16.12it/s]\n",
            "Round185: User7_1: 100%|████████████████████████████████████████████| 10/10 [00:00<00:00, 15.56it/s]\n"
          ]
        },
        {
          "output_type": "stream",
          "name": "stdout",
          "text": [
            "client:14 train_acc: 58.20%, train_loss: 0.2316\n",
            "client:2 train_acc: 58.55%, train_loss: 0.4538\n",
            "client:12 train_acc: 58.63%, train_loss: 0.6823\n",
            "client:8 train_acc: 58.27%, train_loss: 0.9117\n",
            "client:13 train_acc: 58.60%, train_loss: 1.1303\n",
            "client:11 train_acc: 58.65%, train_loss: 1.3599\n",
            "client:6 train_acc: 58.84%, train_loss: 1.5892\n",
            "client:1 train_acc: 58.94%, train_loss: 1.8146\n",
            "client:5 train_acc: 59.04%, train_loss: 2.0371\n",
            "client:4 train_acc: 59.14%, train_loss: 2.2646\n",
            "client:0 train_acc: 59.11%, train_loss: 2.4912\n",
            "client:10 train_acc: 58.99%, train_loss: 2.7243\n",
            "client:9 train_acc: 59.06%, train_loss: 2.9404\n",
            "client:3 train_acc: 59.15%, train_loss: 3.1658\n",
            "client:7 train_acc: 59.26%, train_loss: 3.3909\n",
            "Test set: Average loss: 3.5310, Accuracy: 691/10000 (6.91%)\n"
          ]
        },
        {
          "output_type": "stream",
          "name": "stderr",
          "text": [
            "Round186: User11_1: 100%|███████████████████████████████████████████| 10/10 [00:00<00:00, 24.34it/s]\n",
            "Round186: User9_1: 100%|████████████████████████████████████████████| 10/10 [00:00<00:00, 18.47it/s]\n",
            "Round186: User10_1: 100%|███████████████████████████████████████████| 10/10 [00:00<00:00, 15.94it/s]\n",
            "Round186: User0_1: 100%|████████████████████████████████████████████| 10/10 [00:00<00:00, 17.30it/s]\n",
            "Round186: User12_1: 100%|███████████████████████████████████████████| 10/10 [00:00<00:00, 17.45it/s]\n",
            "Round186: User6_1: 100%|████████████████████████████████████████████| 10/10 [00:00<00:00, 16.23it/s]\n",
            "Round186: User5_1: 100%|████████████████████████████████████████████| 10/10 [00:00<00:00, 22.90it/s]\n",
            "Round186: User8_1: 100%|████████████████████████████████████████████| 10/10 [00:00<00:00, 23.70it/s]\n",
            "Round186: User14_1: 100%|███████████████████████████████████████████| 10/10 [00:00<00:00, 24.99it/s]\n",
            "Round186: User2_1: 100%|████████████████████████████████████████████| 10/10 [00:00<00:00, 22.00it/s]\n",
            "Round186: User1_1: 100%|████████████████████████████████████████████| 10/10 [00:00<00:00, 23.91it/s]\n",
            "Round186: User4_1: 100%|████████████████████████████████████████████| 10/10 [00:00<00:00, 23.97it/s]\n",
            "Round186: User7_1: 100%|████████████████████████████████████████████| 10/10 [00:00<00:00, 22.50it/s]\n",
            "Round186: User3_1: 100%|████████████████████████████████████████████| 10/10 [00:00<00:00, 24.66it/s]\n",
            "Round186: User13_1: 100%|███████████████████████████████████████████| 10/10 [00:00<00:00, 22.55it/s]\n"
          ]
        },
        {
          "output_type": "stream",
          "name": "stdout",
          "text": [
            "client:11 train_acc: 60.70%, train_loss: 0.2307\n",
            "client:9 train_acc: 60.35%, train_loss: 0.4473\n",
            "client:10 train_acc: 60.00%, train_loss: 0.6779\n",
            "client:0 train_acc: 59.67%, train_loss: 0.9034\n",
            "client:12 train_acc: 59.68%, train_loss: 1.1310\n",
            "client:6 train_acc: 59.70%, train_loss: 1.3586\n",
            "client:5 train_acc: 59.60%, train_loss: 1.5812\n",
            "client:8 train_acc: 59.34%, train_loss: 1.8103\n",
            "client:14 train_acc: 59.13%, train_loss: 2.0406\n",
            "client:2 train_acc: 59.33%, train_loss: 2.2601\n",
            "client:1 train_acc: 59.54%, train_loss: 2.4846\n",
            "client:4 train_acc: 59.65%, train_loss: 2.7090\n",
            "client:7 train_acc: 59.70%, train_loss: 2.9321\n",
            "client:3 train_acc: 59.77%, train_loss: 3.1561\n",
            "client:13 train_acc: 59.87%, train_loss: 3.3724\n",
            "Test set: Average loss: 3.4458, Accuracy: 695/10000 (6.95%)\n"
          ]
        },
        {
          "output_type": "stream",
          "name": "stderr",
          "text": [
            "Round187: User4_1: 100%|████████████████████████████████████████████| 10/10 [00:00<00:00, 22.43it/s]\n",
            "Round187: User1_1: 100%|████████████████████████████████████████████| 10/10 [00:00<00:00, 24.12it/s]\n",
            "Round187: User11_1: 100%|███████████████████████████████████████████| 10/10 [00:00<00:00, 23.78it/s]\n",
            "Round187: User9_1: 100%|████████████████████████████████████████████| 10/10 [00:00<00:00, 23.40it/s]\n",
            "Round187: User10_1: 100%|███████████████████████████████████████████| 10/10 [00:00<00:00, 23.26it/s]\n",
            "Round187: User12_1: 100%|███████████████████████████████████████████| 10/10 [00:00<00:00, 22.18it/s]\n",
            "Round187: User0_1: 100%|████████████████████████████████████████████| 10/10 [00:00<00:00, 23.57it/s]\n",
            "Round187: User7_1: 100%|████████████████████████████████████████████| 10/10 [00:00<00:00, 25.00it/s]\n",
            "Round187: User2_1: 100%|████████████████████████████████████████████| 10/10 [00:00<00:00, 21.73it/s]\n",
            "Round187: User3_1: 100%|████████████████████████████████████████████| 10/10 [00:00<00:00, 24.85it/s]\n",
            "Round187: User14_1: 100%|███████████████████████████████████████████| 10/10 [00:00<00:00, 22.33it/s]\n",
            "Round187: User8_1: 100%|████████████████████████████████████████████| 10/10 [00:00<00:00, 23.49it/s]\n",
            "Round187: User6_1: 100%|████████████████████████████████████████████| 10/10 [00:00<00:00, 23.65it/s]\n",
            "Round187: User5_1: 100%|████████████████████████████████████████████| 10/10 [00:00<00:00, 23.18it/s]\n",
            "Round187: User13_1: 100%|███████████████████████████████████████████| 10/10 [00:00<00:00, 24.85it/s]\n"
          ]
        },
        {
          "output_type": "stream",
          "name": "stdout",
          "text": [
            "client:4 train_acc: 60.60%, train_loss: 0.2252\n",
            "client:1 train_acc: 60.80%, train_loss: 0.4486\n",
            "client:11 train_acc: 60.73%, train_loss: 0.6767\n",
            "client:9 train_acc: 60.75%, train_loss: 0.8920\n",
            "client:10 train_acc: 60.48%, train_loss: 1.1223\n",
            "client:12 train_acc: 60.47%, train_loss: 1.3476\n",
            "client:0 train_acc: 60.29%, train_loss: 1.5721\n",
            "client:7 train_acc: 60.48%, train_loss: 1.7937\n",
            "client:2 train_acc: 60.48%, train_loss: 2.0126\n",
            "client:3 train_acc: 60.56%, train_loss: 2.2350\n",
            "client:14 train_acc: 60.27%, train_loss: 2.4649\n",
            "client:8 train_acc: 60.12%, train_loss: 2.6929\n",
            "client:6 train_acc: 60.12%, train_loss: 2.9195\n",
            "client:5 train_acc: 60.14%, train_loss: 3.1408\n",
            "client:13 train_acc: 60.23%, train_loss: 3.3570\n",
            "Test set: Average loss: 3.4873, Accuracy: 663/10000 (6.63%)\n"
          ]
        },
        {
          "output_type": "stream",
          "name": "stderr",
          "text": [
            "Round188: User10_1: 100%|███████████████████████████████████████████| 10/10 [00:00<00:00, 23.12it/s]\n",
            "Round188: User9_1: 100%|████████████████████████████████████████████| 10/10 [00:00<00:00, 22.14it/s]\n",
            "Round188: User7_1: 100%|████████████████████████████████████████████| 10/10 [00:00<00:00, 24.88it/s]\n",
            "Round188: User14_1: 100%|███████████████████████████████████████████| 10/10 [00:00<00:00, 24.95it/s]\n",
            "Round188: User2_1: 100%|████████████████████████████████████████████| 10/10 [00:00<00:00, 16.42it/s]\n",
            "Round188: User3_1: 100%|████████████████████████████████████████████| 10/10 [00:00<00:00, 16.40it/s]\n",
            "Round188: User11_1: 100%|███████████████████████████████████████████| 10/10 [00:00<00:00, 16.52it/s]\n",
            "Round188: User1_1: 100%|████████████████████████████████████████████| 10/10 [00:00<00:00, 17.34it/s]\n",
            "Round188: User5_1: 100%|████████████████████████████████████████████| 10/10 [00:00<00:00, 20.11it/s]\n",
            "Round188: User0_1: 100%|████████████████████████████████████████████| 10/10 [00:00<00:00, 22.55it/s]\n",
            "Round188: User4_1: 100%|████████████████████████████████████████████| 10/10 [00:00<00:00, 24.09it/s]\n",
            "Round188: User12_1: 100%|███████████████████████████████████████████| 10/10 [00:00<00:00, 22.24it/s]\n",
            "Round188: User13_1: 100%|███████████████████████████████████████████| 10/10 [00:00<00:00, 23.28it/s]\n",
            "Round188: User8_1: 100%|████████████████████████████████████████████| 10/10 [00:00<00:00, 23.74it/s]\n",
            "Round188: User6_1: 100%|████████████████████████████████████████████| 10/10 [00:00<00:00, 22.08it/s]\n"
          ]
        },
        {
          "output_type": "stream",
          "name": "stdout",
          "text": [
            "client:10 train_acc: 57.80%, train_loss: 0.2340\n",
            "client:9 train_acc: 58.95%, train_loss: 0.4508\n",
            "client:7 train_acc: 59.73%, train_loss: 0.6724\n",
            "client:14 train_acc: 59.00%, train_loss: 0.9043\n",
            "client:2 train_acc: 59.10%, train_loss: 1.1260\n",
            "client:3 train_acc: 59.17%, train_loss: 1.3515\n",
            "client:11 train_acc: 59.26%, train_loss: 1.5806\n",
            "client:1 train_acc: 59.42%, train_loss: 1.8043\n",
            "client:5 train_acc: 59.40%, train_loss: 2.0264\n",
            "client:0 train_acc: 59.30%, train_loss: 2.2495\n",
            "client:4 train_acc: 59.25%, train_loss: 2.4766\n",
            "client:12 train_acc: 59.29%, train_loss: 2.7053\n",
            "client:13 train_acc: 59.44%, train_loss: 2.9229\n",
            "client:8 train_acc: 59.27%, train_loss: 3.1547\n",
            "client:6 train_acc: 59.23%, train_loss: 3.3841\n",
            "Test set: Average loss: 3.4136, Accuracy: 717/10000 (7.17%)\n"
          ]
        },
        {
          "output_type": "stream",
          "name": "stderr",
          "text": [
            "Round189: User3_1: 100%|████████████████████████████████████████████| 10/10 [00:00<00:00, 22.84it/s]\n",
            "Round189: User12_1: 100%|███████████████████████████████████████████| 10/10 [00:00<00:00, 24.62it/s]\n",
            "Round189: User7_1: 100%|████████████████████████████████████████████| 10/10 [00:00<00:00, 23.13it/s]\n",
            "Round189: User13_1: 100%|███████████████████████████████████████████| 10/10 [00:00<00:00, 23.05it/s]\n",
            "Round189: User2_1: 100%|████████████████████████████████████████████| 10/10 [00:00<00:00, 24.39it/s]\n",
            "Round189: User4_1: 100%|████████████████████████████████████████████| 10/10 [00:00<00:00, 21.67it/s]\n",
            "Round189: User5_1: 100%|████████████████████████████████████████████| 10/10 [00:00<00:00, 24.42it/s]\n",
            "Round189: User6_1: 100%|████████████████████████████████████████████| 10/10 [00:00<00:00, 22.95it/s]\n",
            "Round189: User9_1: 100%|████████████████████████████████████████████| 10/10 [00:00<00:00, 23.06it/s]\n",
            "Round189: User8_1: 100%|████████████████████████████████████████████| 10/10 [00:00<00:00, 25.38it/s]\n",
            "Round189: User11_1: 100%|███████████████████████████████████████████| 10/10 [00:00<00:00, 22.19it/s]\n",
            "Round189: User0_1: 100%|████████████████████████████████████████████| 10/10 [00:00<00:00, 23.74it/s]\n",
            "Round189: User1_1: 100%|████████████████████████████████████████████| 10/10 [00:00<00:00, 24.02it/s]\n",
            "Round189: User10_1: 100%|███████████████████████████████████████████| 10/10 [00:00<00:00, 21.13it/s]\n",
            "Round189: User14_1: 100%|███████████████████████████████████████████| 10/10 [00:00<00:00, 24.97it/s]\n"
          ]
        },
        {
          "output_type": "stream",
          "name": "stdout",
          "text": [
            "client:3 train_acc: 61.30%, train_loss: 0.2233\n",
            "client:12 train_acc: 60.30%, train_loss: 0.4498\n",
            "client:7 train_acc: 60.33%, train_loss: 0.6759\n",
            "client:13 train_acc: 60.72%, train_loss: 0.8916\n",
            "client:2 train_acc: 60.82%, train_loss: 1.1103\n",
            "client:4 train_acc: 60.78%, train_loss: 1.3347\n",
            "client:5 train_acc: 60.73%, train_loss: 1.5570\n",
            "client:6 train_acc: 60.61%, train_loss: 1.7835\n",
            "client:9 train_acc: 60.61%, train_loss: 1.9987\n",
            "client:8 train_acc: 60.37%, train_loss: 2.2264\n",
            "client:11 train_acc: 60.25%, train_loss: 2.4575\n",
            "client:0 train_acc: 60.06%, train_loss: 2.6862\n",
            "client:1 train_acc: 60.11%, train_loss: 2.9117\n",
            "client:10 train_acc: 60.02%, train_loss: 3.1411\n",
            "client:14 train_acc: 59.83%, train_loss: 3.3728\n",
            "Test set: Average loss: 3.5392, Accuracy: 693/10000 (6.93%)\n"
          ]
        },
        {
          "output_type": "stream",
          "name": "stderr",
          "text": [
            "Round190: User0_1: 100%|████████████████████████████████████████████| 10/10 [00:00<00:00, 23.55it/s]\n",
            "Round190: User1_1: 100%|████████████████████████████████████████████| 10/10 [00:00<00:00, 23.56it/s]\n",
            "Round190: User12_1: 100%|███████████████████████████████████████████| 10/10 [00:00<00:00, 21.09it/s]\n",
            "Round190: User7_1: 100%|████████████████████████████████████████████| 10/10 [00:00<00:00, 21.91it/s]\n",
            "Round190: User13_1: 100%|███████████████████████████████████████████| 10/10 [00:00<00:00, 23.20it/s]\n",
            "Round190: User4_1: 100%|████████████████████████████████████████████| 10/10 [00:00<00:00, 22.21it/s]\n",
            "Round190: User5_1: 100%|████████████████████████████████████████████| 10/10 [00:00<00:00, 23.39it/s]\n",
            "Round190: User9_1: 100%|████████████████████████████████████████████| 10/10 [00:00<00:00, 16.29it/s]\n",
            "Round190: User14_1: 100%|███████████████████████████████████████████| 10/10 [00:00<00:00, 16.34it/s]\n",
            "Round190: User2_1: 100%|████████████████████████████████████████████| 10/10 [00:00<00:00, 18.63it/s]\n",
            "Round190: User3_1: 100%|████████████████████████████████████████████| 10/10 [00:00<00:00, 15.71it/s]\n",
            "Round190: User11_1: 100%|███████████████████████████████████████████| 10/10 [00:00<00:00, 25.25it/s]\n",
            "Round190: User8_1: 100%|████████████████████████████████████████████| 10/10 [00:00<00:00, 21.55it/s]\n",
            "Round190: User6_1: 100%|████████████████████████████████████████████| 10/10 [00:00<00:00, 23.54it/s]\n",
            "Round190: User10_1: 100%|███████████████████████████████████████████| 10/10 [00:00<00:00, 22.15it/s]\n"
          ]
        },
        {
          "output_type": "stream",
          "name": "stdout",
          "text": [
            "client:0 train_acc: 59.50%, train_loss: 0.2222\n",
            "client:1 train_acc: 61.10%, train_loss: 0.4429\n",
            "client:12 train_acc: 60.80%, train_loss: 0.6667\n",
            "client:7 train_acc: 61.12%, train_loss: 0.8872\n",
            "client:13 train_acc: 61.16%, train_loss: 1.1021\n",
            "client:4 train_acc: 60.92%, train_loss: 1.3280\n",
            "client:5 train_acc: 60.84%, train_loss: 1.5476\n",
            "client:9 train_acc: 60.89%, train_loss: 1.7620\n",
            "client:14 train_acc: 60.56%, train_loss: 1.9912\n",
            "client:2 train_acc: 60.61%, train_loss: 2.2093\n",
            "client:3 train_acc: 60.57%, train_loss: 2.4316\n",
            "client:11 train_acc: 60.57%, train_loss: 2.6587\n",
            "client:8 train_acc: 60.45%, train_loss: 2.8865\n",
            "client:6 train_acc: 60.45%, train_loss: 3.1109\n",
            "client:10 train_acc: 60.33%, train_loss: 3.3415\n",
            "Test set: Average loss: 3.4061, Accuracy: 704/10000 (7.04%)\n"
          ]
        },
        {
          "output_type": "stream",
          "name": "stderr",
          "text": [
            "Round191: User11_1: 100%|███████████████████████████████████████████| 10/10 [00:00<00:00, 22.67it/s]\n",
            "Round191: User5_1: 100%|████████████████████████████████████████████| 10/10 [00:00<00:00, 19.51it/s]\n",
            "Round191: User2_1: 100%|████████████████████████████████████████████| 10/10 [00:00<00:00, 23.07it/s]\n",
            "Round191: User0_1: 100%|████████████████████████████████████████████| 10/10 [00:00<00:00, 21.87it/s]\n",
            "Round191: User13_1: 100%|███████████████████████████████████████████| 10/10 [00:00<00:00, 23.48it/s]\n",
            "Round191: User14_1: 100%|███████████████████████████████████████████| 10/10 [00:00<00:00, 22.37it/s]\n",
            "Round191: User10_1: 100%|███████████████████████████████████████████| 10/10 [00:00<00:00, 23.65it/s]\n",
            "Round191: User9_1: 100%|████████████████████████████████████████████| 10/10 [00:00<00:00, 24.36it/s]\n",
            "Round191: User8_1: 100%|████████████████████████████████████████████| 10/10 [00:00<00:00, 21.90it/s]\n",
            "Round191: User1_1: 100%|████████████████████████████████████████████| 10/10 [00:00<00:00, 24.34it/s]\n",
            "Round191: User4_1: 100%|████████████████████████████████████████████| 10/10 [00:00<00:00, 22.37it/s]\n",
            "Round191: User7_1: 100%|████████████████████████████████████████████| 10/10 [00:00<00:00, 24.01it/s]\n",
            "Round191: User6_1: 100%|████████████████████████████████████████████| 10/10 [00:00<00:00, 24.09it/s]\n",
            "Round191: User12_1: 100%|███████████████████████████████████████████| 10/10 [00:00<00:00, 22.81it/s]\n",
            "Round191: User3_1: 100%|████████████████████████████████████████████| 10/10 [00:00<00:00, 24.52it/s]\n"
          ]
        },
        {
          "output_type": "stream",
          "name": "stdout",
          "text": [
            "client:11 train_acc: 59.80%, train_loss: 0.2286\n",
            "client:5 train_acc: 60.20%, train_loss: 0.4488\n",
            "client:2 train_acc: 60.87%, train_loss: 0.6652\n",
            "client:0 train_acc: 60.27%, train_loss: 0.8891\n",
            "client:13 train_acc: 60.60%, train_loss: 1.1034\n",
            "client:14 train_acc: 59.97%, train_loss: 1.3331\n",
            "client:10 train_acc: 59.94%, train_loss: 1.5616\n",
            "client:9 train_acc: 60.10%, train_loss: 1.7758\n",
            "client:8 train_acc: 59.84%, train_loss: 2.0041\n",
            "client:1 train_acc: 60.03%, train_loss: 2.2279\n",
            "client:4 train_acc: 60.16%, train_loss: 2.4494\n",
            "client:7 train_acc: 60.24%, train_loss: 2.6710\n",
            "client:6 train_acc: 60.18%, train_loss: 2.8974\n",
            "client:12 train_acc: 60.21%, train_loss: 3.1229\n",
            "client:3 train_acc: 60.35%, train_loss: 3.3449\n",
            "Test set: Average loss: 3.5294, Accuracy: 675/10000 (6.75%)\n"
          ]
        },
        {
          "output_type": "stream",
          "name": "stderr",
          "text": [
            "Round192: User12_1: 100%|███████████████████████████████████████████| 10/10 [00:00<00:00, 23.67it/s]\n",
            "Round192: User7_1: 100%|████████████████████████████████████████████| 10/10 [00:00<00:00, 22.79it/s]\n",
            "Round192: User3_1: 100%|████████████████████████████████████████████| 10/10 [00:00<00:00, 23.66it/s]\n",
            "Round192: User8_1: 100%|████████████████████████████████████████████| 10/10 [00:00<00:00, 20.90it/s]\n",
            "Round192: User9_1: 100%|████████████████████████████████████████████| 10/10 [00:00<00:00, 22.81it/s]\n",
            "Round192: User2_1: 100%|████████████████████████████████████████████| 10/10 [00:00<00:00, 22.28it/s]\n",
            "Round192: User13_1: 100%|███████████████████████████████████████████| 10/10 [00:00<00:00, 24.00it/s]\n",
            "Round192: User11_1: 100%|███████████████████████████████████████████| 10/10 [00:00<00:00, 23.90it/s]\n",
            "Round192: User0_1: 100%|████████████████████████████████████████████| 10/10 [00:00<00:00, 25.37it/s]\n",
            "Round192: User14_1: 100%|███████████████████████████████████████████| 10/10 [00:00<00:00, 16.48it/s]\n",
            "Round192: User5_1: 100%|████████████████████████████████████████████| 10/10 [00:00<00:00, 17.42it/s]\n",
            "Round192: User6_1: 100%|████████████████████████████████████████████| 10/10 [00:00<00:00, 16.23it/s]\n",
            "Round192: User10_1: 100%|███████████████████████████████████████████| 10/10 [00:00<00:00, 17.78it/s]\n",
            "Round192: User4_1: 100%|████████████████████████████████████████████| 10/10 [00:00<00:00, 20.09it/s]\n",
            "Round192: User1_1: 100%|████████████████████████████████████████████| 10/10 [00:00<00:00, 25.25it/s]\n"
          ]
        },
        {
          "output_type": "stream",
          "name": "stdout",
          "text": [
            "client:12 train_acc: 60.40%, train_loss: 0.2229\n",
            "client:7 train_acc: 61.00%, train_loss: 0.4433\n",
            "client:3 train_acc: 60.97%, train_loss: 0.6647\n",
            "client:8 train_acc: 60.35%, train_loss: 0.8925\n",
            "client:9 train_acc: 60.46%, train_loss: 1.1055\n",
            "client:2 train_acc: 60.53%, train_loss: 1.3217\n",
            "client:13 train_acc: 60.71%, train_loss: 1.5345\n",
            "client:11 train_acc: 60.68%, train_loss: 1.7594\n",
            "client:0 train_acc: 60.53%, train_loss: 1.9826\n",
            "client:14 train_acc: 60.31%, train_loss: 2.2106\n",
            "client:5 train_acc: 60.34%, train_loss: 2.4296\n",
            "client:6 train_acc: 60.46%, train_loss: 2.6531\n",
            "client:10 train_acc: 60.38%, train_loss: 2.8829\n",
            "client:4 train_acc: 60.35%, train_loss: 3.1079\n",
            "client:1 train_acc: 60.41%, train_loss: 3.3292\n",
            "Test set: Average loss: 3.4828, Accuracy: 695/10000 (6.95%)\n"
          ]
        },
        {
          "output_type": "stream",
          "name": "stderr",
          "text": [
            "Round193: User5_1: 100%|████████████████████████████████████████████| 10/10 [00:00<00:00, 17.24it/s]\n",
            "Round193: User9_1: 100%|████████████████████████████████████████████| 10/10 [00:00<00:00, 16.22it/s]\n",
            "Round193: User11_1: 100%|███████████████████████████████████████████| 10/10 [00:00<00:00, 21.33it/s]\n",
            "Round193: User1_1: 100%|████████████████████████████████████████████| 10/10 [00:00<00:00, 22.15it/s]\n",
            "Round193: User3_1: 100%|████████████████████████████████████████████| 10/10 [00:00<00:00, 24.02it/s]\n",
            "Round193: User6_1: 100%|████████████████████████████████████████████| 10/10 [00:00<00:00, 22.60it/s]\n",
            "Round193: User2_1: 100%|████████████████████████████████████████████| 10/10 [00:00<00:00, 23.50it/s]\n",
            "Round193: User4_1: 100%|████████████████████████████████████████████| 10/10 [00:00<00:00, 24.85it/s]\n",
            "Round193: User0_1: 100%|████████████████████████████████████████████| 10/10 [00:00<00:00, 21.26it/s]\n",
            "Round193: User7_1: 100%|████████████████████████████████████████████| 10/10 [00:00<00:00, 23.23it/s]\n",
            "Round193: User13_1: 100%|███████████████████████████████████████████| 10/10 [00:00<00:00, 21.49it/s]\n",
            "Round193: User10_1: 100%|███████████████████████████████████████████| 10/10 [00:00<00:00, 24.51it/s]\n",
            "Round193: User12_1: 100%|███████████████████████████████████████████| 10/10 [00:00<00:00, 23.40it/s]\n",
            "Round193: User14_1: 100%|███████████████████████████████████████████| 10/10 [00:00<00:00, 22.52it/s]\n",
            "Round193: User8_1: 100%|████████████████████████████████████████████| 10/10 [00:00<00:00, 24.26it/s]\n"
          ]
        },
        {
          "output_type": "stream",
          "name": "stdout",
          "text": [
            "client:5 train_acc: 61.10%, train_loss: 0.2172\n",
            "client:9 train_acc: 61.45%, train_loss: 0.4285\n",
            "client:11 train_acc: 61.33%, train_loss: 0.6538\n",
            "client:1 train_acc: 61.52%, train_loss: 0.8751\n",
            "client:3 train_acc: 61.62%, train_loss: 1.0946\n",
            "client:6 train_acc: 61.50%, train_loss: 1.3169\n",
            "client:2 train_acc: 61.61%, train_loss: 1.5330\n",
            "client:4 train_acc: 61.50%, train_loss: 1.7547\n",
            "client:0 train_acc: 61.21%, train_loss: 1.9766\n",
            "client:7 train_acc: 61.39%, train_loss: 2.1953\n",
            "client:13 train_acc: 61.43%, train_loss: 2.4084\n",
            "client:10 train_acc: 61.32%, train_loss: 2.6367\n",
            "client:12 train_acc: 61.31%, train_loss: 2.8599\n",
            "client:14 train_acc: 61.14%, train_loss: 3.0870\n",
            "client:8 train_acc: 60.95%, train_loss: 3.3141\n",
            "Test set: Average loss: 3.4930, Accuracy: 677/10000 (6.77%)\n"
          ]
        },
        {
          "output_type": "stream",
          "name": "stderr",
          "text": [
            "Round194: User10_1: 100%|███████████████████████████████████████████| 10/10 [00:00<00:00, 23.05it/s]\n",
            "Round194: User0_1: 100%|████████████████████████████████████████████| 10/10 [00:00<00:00, 24.16it/s]\n",
            "Round194: User14_1: 100%|███████████████████████████████████████████| 10/10 [00:00<00:00, 23.28it/s]\n",
            "Round194: User3_1: 100%|████████████████████████████████████████████| 10/10 [00:00<00:00, 20.49it/s]\n",
            "Round194: User9_1: 100%|████████████████████████████████████████████| 10/10 [00:00<00:00, 24.64it/s]\n",
            "Round194: User11_1: 100%|███████████████████████████████████████████| 10/10 [00:00<00:00, 21.70it/s]\n",
            "Round194: User4_1: 100%|████████████████████████████████████████████| 10/10 [00:00<00:00, 23.65it/s]\n",
            "Round194: User1_1: 100%|████████████████████████████████████████████| 10/10 [00:00<00:00, 22.00it/s]\n",
            "Round194: User5_1: 100%|████████████████████████████████████████████| 10/10 [00:00<00:00, 24.78it/s]\n",
            "Round194: User8_1: 100%|████████████████████████████████████████████| 10/10 [00:00<00:00, 25.20it/s]\n",
            "Round194: User12_1: 100%|███████████████████████████████████████████| 10/10 [00:00<00:00, 20.99it/s]\n",
            "Round194: User2_1: 100%|████████████████████████████████████████████| 10/10 [00:00<00:00, 24.41it/s]\n",
            "Round194: User6_1: 100%|████████████████████████████████████████████| 10/10 [00:00<00:00, 15.92it/s]\n",
            "Round194: User7_1: 100%|████████████████████████████████████████████| 10/10 [00:00<00:00, 15.39it/s]\n",
            "Round194: User13_1: 100%|███████████████████████████████████████████| 10/10 [00:00<00:00, 16.28it/s]\n"
          ]
        },
        {
          "output_type": "stream",
          "name": "stdout",
          "text": [
            "client:10 train_acc: 60.30%, train_loss: 0.2281\n",
            "client:0 train_acc: 59.80%, train_loss: 0.4494\n",
            "client:14 train_acc: 59.40%, train_loss: 0.6754\n",
            "client:3 train_acc: 60.02%, train_loss: 0.8948\n",
            "client:9 train_acc: 60.38%, train_loss: 1.1043\n",
            "client:11 train_acc: 60.45%, train_loss: 1.3288\n",
            "client:4 train_acc: 60.59%, train_loss: 1.5498\n",
            "client:1 train_acc: 60.71%, train_loss: 1.7714\n",
            "client:5 train_acc: 60.82%, train_loss: 1.9881\n",
            "client:8 train_acc: 60.65%, train_loss: 2.2135\n",
            "client:12 train_acc: 60.65%, train_loss: 2.4372\n",
            "client:2 train_acc: 60.73%, train_loss: 2.6531\n",
            "client:6 train_acc: 60.77%, train_loss: 2.8757\n",
            "client:7 train_acc: 60.87%, train_loss: 3.0947\n",
            "client:13 train_acc: 60.89%, train_loss: 3.3081\n",
            "Test set: Average loss: 3.5157, Accuracy: 694/10000 (6.94%)\n"
          ]
        },
        {
          "output_type": "stream",
          "name": "stderr",
          "text": [
            "Round195: User7_1: 100%|████████████████████████████████████████████| 10/10 [00:00<00:00, 18.18it/s]\n",
            "Round195: User0_1: 100%|████████████████████████████████████████████| 10/10 [00:00<00:00, 18.39it/s]\n",
            "Round195: User6_1: 100%|████████████████████████████████████████████| 10/10 [00:00<00:00, 17.44it/s]\n",
            "Round195: User8_1: 100%|████████████████████████████████████████████| 10/10 [00:00<00:00, 17.39it/s]\n",
            "Round195: User5_1: 100%|████████████████████████████████████████████| 10/10 [00:00<00:00, 16.08it/s]\n",
            "Round195: User10_1: 100%|███████████████████████████████████████████| 10/10 [00:00<00:00, 22.87it/s]\n",
            "Round195: User11_1: 100%|███████████████████████████████████████████| 10/10 [00:00<00:00, 24.09it/s]\n",
            "Round195: User3_1: 100%|████████████████████████████████████████████| 10/10 [00:00<00:00, 24.92it/s]\n",
            "Round195: User14_1: 100%|███████████████████████████████████████████| 10/10 [00:00<00:00, 19.39it/s]\n",
            "Round195: User13_1: 100%|███████████████████████████████████████████| 10/10 [00:00<00:00, 24.15it/s]\n",
            "Round195: User1_1: 100%|████████████████████████████████████████████| 10/10 [00:00<00:00, 22.08it/s]\n",
            "Round195: User12_1: 100%|███████████████████████████████████████████| 10/10 [00:00<00:00, 21.79it/s]\n",
            "Round195: User2_1: 100%|████████████████████████████████████████████| 10/10 [00:00<00:00, 21.89it/s]\n",
            "Round195: User4_1: 100%|████████████████████████████████████████████| 10/10 [00:00<00:00, 23.71it/s]\n",
            "Round195: User9_1: 100%|████████████████████████████████████████████| 10/10 [00:00<00:00, 22.83it/s]\n"
          ]
        },
        {
          "output_type": "stream",
          "name": "stdout",
          "text": [
            "client:7 train_acc: 61.20%, train_loss: 0.2204\n",
            "client:0 train_acc: 60.15%, train_loss: 0.4432\n",
            "client:6 train_acc: 60.23%, train_loss: 0.6674\n",
            "client:8 train_acc: 59.55%, train_loss: 0.8944\n",
            "client:5 train_acc: 59.82%, train_loss: 1.1131\n",
            "client:10 train_acc: 59.75%, train_loss: 1.3411\n",
            "client:11 train_acc: 59.76%, train_loss: 1.5680\n",
            "client:3 train_acc: 60.09%, train_loss: 1.7889\n",
            "client:14 train_acc: 59.84%, train_loss: 2.0178\n",
            "client:13 train_acc: 60.06%, train_loss: 2.2319\n",
            "client:1 train_acc: 60.23%, train_loss: 2.4548\n",
            "client:12 train_acc: 60.26%, train_loss: 2.6786\n",
            "client:2 train_acc: 60.42%, train_loss: 2.8939\n",
            "client:4 train_acc: 60.49%, train_loss: 3.1152\n",
            "client:9 train_acc: 60.49%, train_loss: 3.3282\n",
            "Test set: Average loss: 3.5360, Accuracy: 691/10000 (6.91%)\n"
          ]
        },
        {
          "output_type": "stream",
          "name": "stderr",
          "text": [
            "Round196: User7_1: 100%|████████████████████████████████████████████| 10/10 [00:00<00:00, 21.47it/s]\n",
            "Round196: User6_1: 100%|████████████████████████████████████████████| 10/10 [00:00<00:00, 22.42it/s]\n",
            "Round196: User5_1: 100%|████████████████████████████████████████████| 10/10 [00:00<00:00, 23.54it/s]\n",
            "Round196: User4_1: 100%|████████████████████████████████████████████| 10/10 [00:00<00:00, 22.98it/s]\n",
            "Round196: User12_1: 100%|███████████████████████████████████████████| 10/10 [00:00<00:00, 22.62it/s]\n",
            "Round196: User8_1: 100%|████████████████████████████████████████████| 10/10 [00:00<00:00, 23.43it/s]\n",
            "Round196: User13_1: 100%|███████████████████████████████████████████| 10/10 [00:00<00:00, 24.70it/s]\n",
            "Round196: User10_1: 100%|███████████████████████████████████████████| 10/10 [00:00<00:00, 22.81it/s]\n",
            "Round196: User2_1: 100%|████████████████████████████████████████████| 10/10 [00:00<00:00, 24.66it/s]\n",
            "Round196: User11_1: 100%|███████████████████████████████████████████| 10/10 [00:00<00:00, 21.43it/s]\n",
            "Round196: User1_1: 100%|████████████████████████████████████████████| 10/10 [00:00<00:00, 20.96it/s]\n",
            "Round196: User0_1: 100%|████████████████████████████████████████████| 10/10 [00:00<00:00, 19.05it/s]\n",
            "Round196: User14_1: 100%|███████████████████████████████████████████| 10/10 [00:00<00:00, 22.67it/s]\n",
            "Round196: User3_1: 100%|████████████████████████████████████████████| 10/10 [00:00<00:00, 24.33it/s]\n",
            "Round196: User9_1: 100%|████████████████████████████████████████████| 10/10 [00:00<00:00, 17.95it/s]\n"
          ]
        },
        {
          "output_type": "stream",
          "name": "stdout",
          "text": [
            "client:7 train_acc: 60.80%, train_loss: 0.2234\n",
            "client:6 train_acc: 60.80%, train_loss: 0.4466\n",
            "client:5 train_acc: 60.97%, train_loss: 0.6666\n",
            "client:4 train_acc: 60.70%, train_loss: 0.8937\n",
            "client:12 train_acc: 60.94%, train_loss: 1.1187\n",
            "client:8 train_acc: 60.37%, train_loss: 1.3476\n",
            "client:13 train_acc: 60.49%, train_loss: 1.5624\n",
            "client:10 train_acc: 60.34%, train_loss: 1.7940\n",
            "client:2 train_acc: 60.51%, train_loss: 2.0120\n",
            "client:11 train_acc: 60.45%, train_loss: 2.2420\n",
            "client:1 train_acc: 60.45%, train_loss: 2.4668\n",
            "client:0 train_acc: 60.31%, train_loss: 2.6930\n",
            "client:14 train_acc: 60.08%, train_loss: 2.9241\n",
            "client:3 train_acc: 60.17%, train_loss: 3.1472\n",
            "client:9 train_acc: 60.18%, train_loss: 3.3621\n",
            "Test set: Average loss: 3.4744, Accuracy: 661/10000 (6.61%)\n"
          ]
        },
        {
          "output_type": "stream",
          "name": "stderr",
          "text": [
            "Round197: User12_1: 100%|███████████████████████████████████████████| 10/10 [00:00<00:00, 22.82it/s]\n",
            "Round197: User3_1: 100%|████████████████████████████████████████████| 10/10 [00:00<00:00, 22.65it/s]\n",
            "Round197: User8_1: 100%|████████████████████████████████████████████| 10/10 [00:00<00:00, 20.39it/s]\n",
            "Round197: User13_1: 100%|███████████████████████████████████████████| 10/10 [00:00<00:00, 15.78it/s]\n",
            "Round197: User9_1: 100%|████████████████████████████████████████████| 10/10 [00:00<00:00, 15.97it/s]\n",
            "Round197: User1_1: 100%|████████████████████████████████████████████| 10/10 [00:00<00:00, 17.30it/s]\n",
            "Round197: User14_1: 100%|███████████████████████████████████████████| 10/10 [00:00<00:00, 16.78it/s]\n",
            "Round197: User2_1: 100%|████████████████████████████████████████████| 10/10 [00:00<00:00, 24.73it/s]\n",
            "Round197: User5_1: 100%|████████████████████████████████████████████| 10/10 [00:00<00:00, 23.07it/s]\n",
            "Round197: User11_1: 100%|███████████████████████████████████████████| 10/10 [00:00<00:00, 23.70it/s]\n",
            "Round197: User6_1: 100%|████████████████████████████████████████████| 10/10 [00:00<00:00, 25.25it/s]\n",
            "Round197: User4_1: 100%|████████████████████████████████████████████| 10/10 [00:00<00:00, 19.02it/s]\n",
            "Round197: User0_1: 100%|████████████████████████████████████████████| 10/10 [00:00<00:00, 25.00it/s]\n",
            "Round197: User10_1: 100%|███████████████████████████████████████████| 10/10 [00:00<00:00, 22.95it/s]\n",
            "Round197: User7_1: 100%|████████████████████████████████████████████| 10/10 [00:00<00:00, 24.83it/s]\n"
          ]
        },
        {
          "output_type": "stream",
          "name": "stdout",
          "text": [
            "client:12 train_acc: 60.30%, train_loss: 0.2235\n",
            "client:3 train_acc: 60.85%, train_loss: 0.4429\n",
            "client:8 train_acc: 60.17%, train_loss: 0.6689\n",
            "client:13 train_acc: 60.45%, train_loss: 0.8828\n",
            "client:9 train_acc: 60.66%, train_loss: 1.0924\n",
            "client:1 train_acc: 60.75%, train_loss: 1.3145\n",
            "client:14 train_acc: 60.39%, train_loss: 1.5401\n",
            "client:2 train_acc: 60.54%, train_loss: 1.7560\n",
            "client:5 train_acc: 60.62%, train_loss: 1.9738\n",
            "client:11 train_acc: 60.59%, train_loss: 2.1987\n",
            "client:6 train_acc: 60.53%, train_loss: 2.4224\n",
            "client:4 train_acc: 60.69%, train_loss: 2.6423\n",
            "client:0 train_acc: 60.61%, train_loss: 2.8649\n",
            "client:10 train_acc: 60.59%, train_loss: 3.0929\n",
            "client:7 train_acc: 60.69%, train_loss: 3.3124\n",
            "Test set: Average loss: 3.5817, Accuracy: 683/10000 (6.83%)\n"
          ]
        },
        {
          "output_type": "stream",
          "name": "stderr",
          "text": [
            "Round198: User6_1: 100%|████████████████████████████████████████████| 10/10 [00:00<00:00, 23.02it/s]\n",
            "Round198: User8_1: 100%|████████████████████████████████████████████| 10/10 [00:00<00:00, 22.64it/s]\n",
            "Round198: User2_1: 100%|████████████████████████████████████████████| 10/10 [00:00<00:00, 22.72it/s]\n",
            "Round198: User4_1: 100%|████████████████████████████████████████████| 10/10 [00:00<00:00, 23.21it/s]\n",
            "Round198: User1_1: 100%|████████████████████████████████████████████| 10/10 [00:00<00:00, 22.95it/s]\n",
            "Round198: User12_1: 100%|███████████████████████████████████████████| 10/10 [00:00<00:00, 24.05it/s]\n",
            "Round198: User0_1: 100%|████████████████████████████████████████████| 10/10 [00:00<00:00, 24.31it/s]\n",
            "Round198: User10_1: 100%|███████████████████████████████████████████| 10/10 [00:00<00:00, 21.99it/s]\n",
            "Round198: User5_1: 100%|████████████████████████████████████████████| 10/10 [00:00<00:00, 23.33it/s]\n",
            "Round198: User7_1: 100%|████████████████████████████████████████████| 10/10 [00:00<00:00, 22.84it/s]\n",
            "Round198: User11_1: 100%|███████████████████████████████████████████| 10/10 [00:00<00:00, 23.12it/s]\n",
            "Round198: User3_1: 100%|████████████████████████████████████████████| 10/10 [00:00<00:00, 20.75it/s]\n",
            "Round198: User14_1: 100%|███████████████████████████████████████████| 10/10 [00:00<00:00, 22.22it/s]\n",
            "Round198: User13_1: 100%|███████████████████████████████████████████| 10/10 [00:00<00:00, 25.77it/s]\n",
            "Round198: User9_1: 100%|████████████████████████████████████████████| 10/10 [00:00<00:00, 21.74it/s]\n"
          ]
        },
        {
          "output_type": "stream",
          "name": "stdout",
          "text": [
            "client:6 train_acc: 60.90%, train_loss: 0.2225\n",
            "client:8 train_acc: 59.85%, train_loss: 0.4487\n",
            "client:2 train_acc: 60.70%, train_loss: 0.6630\n",
            "client:4 train_acc: 60.88%, train_loss: 0.8865\n",
            "client:1 train_acc: 61.06%, train_loss: 1.1076\n",
            "client:12 train_acc: 61.28%, train_loss: 1.3294\n",
            "client:0 train_acc: 60.96%, train_loss: 1.5520\n",
            "client:10 train_acc: 60.76%, train_loss: 1.7810\n",
            "client:5 train_acc: 60.83%, train_loss: 1.9989\n",
            "client:7 train_acc: 60.95%, train_loss: 2.2178\n",
            "client:11 train_acc: 60.95%, train_loss: 2.4431\n",
            "client:3 train_acc: 61.02%, train_loss: 2.6631\n",
            "client:14 train_acc: 60.81%, train_loss: 2.8911\n",
            "client:13 train_acc: 60.84%, train_loss: 3.1021\n",
            "client:9 train_acc: 60.95%, train_loss: 3.3151\n",
            "Test set: Average loss: 3.4377, Accuracy: 678/10000 (6.78%)\n"
          ]
        },
        {
          "output_type": "stream",
          "name": "stderr",
          "text": [
            "Round199: User4_1: 100%|████████████████████████████████████████████| 10/10 [00:00<00:00, 23.84it/s]\n",
            "Round199: User7_1: 100%|████████████████████████████████████████████| 10/10 [00:00<00:00, 22.39it/s]\n",
            "Round199: User5_1: 100%|████████████████████████████████████████████| 10/10 [00:00<00:00, 23.84it/s]\n",
            "Round199: User12_1: 100%|███████████████████████████████████████████| 10/10 [00:00<00:00, 23.12it/s]\n",
            "Round199: User10_1: 100%|███████████████████████████████████████████| 10/10 [00:00<00:00, 23.89it/s]\n",
            "Round199: User1_1: 100%|████████████████████████████████████████████| 10/10 [00:00<00:00, 17.94it/s]\n",
            "Round199: User14_1: 100%|███████████████████████████████████████████| 10/10 [00:00<00:00, 18.46it/s]\n",
            "Round199: User0_1: 100%|████████████████████████████████████████████| 10/10 [00:00<00:00, 16.60it/s]\n",
            "Round199: User11_1: 100%|███████████████████████████████████████████| 10/10 [00:00<00:00, 17.27it/s]\n",
            "Round199: User6_1: 100%|████████████████████████████████████████████| 10/10 [00:00<00:00, 17.33it/s]\n",
            "Round199: User2_1: 100%|████████████████████████████████████████████| 10/10 [00:00<00:00, 24.54it/s]\n",
            "Round199: User8_1: 100%|████████████████████████████████████████████| 10/10 [00:00<00:00, 22.49it/s]\n",
            "Round199: User9_1: 100%|████████████████████████████████████████████| 10/10 [00:00<00:00, 23.34it/s]\n",
            "Round199: User3_1: 100%|████████████████████████████████████████████| 10/10 [00:00<00:00, 23.49it/s]\n",
            "Round199: User13_1: 100%|███████████████████████████████████████████| 10/10 [00:00<00:00, 19.33it/s]\n"
          ]
        },
        {
          "output_type": "stream",
          "name": "stdout",
          "text": [
            "client:4 train_acc: 61.60%, train_loss: 0.2182\n",
            "client:7 train_acc: 61.85%, train_loss: 0.4376\n",
            "client:5 train_acc: 61.50%, train_loss: 0.6554\n",
            "client:12 train_acc: 61.50%, train_loss: 0.8781\n",
            "client:10 train_acc: 61.28%, train_loss: 1.1042\n",
            "client:1 train_acc: 61.27%, train_loss: 1.3266\n",
            "client:14 train_acc: 60.87%, train_loss: 1.5531\n",
            "client:0 train_acc: 60.69%, train_loss: 1.7766\n",
            "client:11 train_acc: 60.68%, train_loss: 2.0017\n",
            "client:6 train_acc: 60.69%, train_loss: 2.2262\n",
            "client:2 train_acc: 60.75%, train_loss: 2.4407\n",
            "client:8 train_acc: 60.58%, train_loss: 2.6654\n",
            "client:9 train_acc: 60.63%, train_loss: 2.8753\n",
            "client:3 train_acc: 60.71%, train_loss: 3.0944\n",
            "client:13 train_acc: 60.81%, train_loss: 3.3072\n",
            "Test set: Average loss: 3.6200, Accuracy: 678/10000 (6.78%)\n"
          ]
        },
        {
          "output_type": "stream",
          "name": "stderr",
          "text": [
            "Round200: User4_1: 100%|████████████████████████████████████████████| 10/10 [00:00<00:00, 24.00it/s]\n",
            "Round200: User12_1: 100%|███████████████████████████████████████████| 10/10 [00:00<00:00, 22.91it/s]\n",
            "Round200: User5_1: 100%|████████████████████████████████████████████| 10/10 [00:00<00:00, 23.84it/s]\n",
            "Round200: User9_1: 100%|████████████████████████████████████████████| 10/10 [00:00<00:00, 23.96it/s]\n",
            "Round200: User13_1: 100%|███████████████████████████████████████████| 10/10 [00:00<00:00, 22.86it/s]\n",
            "Round200: User10_1: 100%|███████████████████████████████████████████| 10/10 [00:00<00:00, 25.19it/s]\n",
            "Round200: User11_1: 100%|███████████████████████████████████████████| 10/10 [00:00<00:00, 23.68it/s]\n",
            "Round200: User0_1: 100%|████████████████████████████████████████████| 10/10 [00:00<00:00, 22.91it/s]\n",
            "Round200: User14_1: 100%|███████████████████████████████████████████| 10/10 [00:00<00:00, 24.05it/s]\n",
            "Round200: User1_1: 100%|████████████████████████████████████████████| 10/10 [00:00<00:00, 22.47it/s]\n",
            "Round200: User8_1: 100%|████████████████████████████████████████████| 10/10 [00:00<00:00, 23.56it/s]\n",
            "Round200: User2_1: 100%|████████████████████████████████████████████| 10/10 [00:00<00:00, 23.97it/s]\n",
            "Round200: User6_1: 100%|████████████████████████████████████████████| 10/10 [00:00<00:00, 22.82it/s]\n",
            "Round200: User7_1: 100%|████████████████████████████████████████████| 10/10 [00:00<00:00, 20.61it/s]\n",
            "Round200: User3_1: 100%|████████████████████████████████████████████| 10/10 [00:00<00:00, 21.16it/s]\n"
          ]
        },
        {
          "output_type": "stream",
          "name": "stdout",
          "text": [
            "client:4 train_acc: 61.90%, train_loss: 0.2193\n",
            "client:12 train_acc: 61.50%, train_loss: 0.4410\n",
            "client:5 train_acc: 61.03%, train_loss: 0.6581\n",
            "client:9 train_acc: 61.00%, train_loss: 0.8693\n",
            "client:13 train_acc: 61.38%, train_loss: 1.0805\n",
            "client:10 train_acc: 61.08%, train_loss: 1.3058\n",
            "client:11 train_acc: 61.03%, train_loss: 1.5333\n",
            "client:0 train_acc: 60.81%, train_loss: 1.7525\n",
            "client:14 train_acc: 60.47%, train_loss: 1.9794\n",
            "client:1 train_acc: 60.60%, train_loss: 2.1993\n",
            "client:8 train_acc: 60.45%, train_loss: 2.4242\n",
            "client:2 train_acc: 60.68%, train_loss: 2.6383\n",
            "client:6 train_acc: 60.67%, train_loss: 2.8607\n",
            "client:7 train_acc: 60.73%, train_loss: 3.0797\n",
            "client:3 train_acc: 60.80%, train_loss: 3.2991\n",
            "Test set: Average loss: 3.4781, Accuracy: 710/10000 (7.10%)\n"
          ]
        }
      ],
      "source": [
        "net_glob.train()\n",
        "# copy weights\n",
        "w_glob = net_glob.state_dict()\n",
        "\n",
        "loss_train_collect = []\n",
        "acc_train_collect = []\n",
        "loss_test_collect = []\n",
        "acc_test_collect = []\n",
        "\n",
        "\n",
        "\n",
        "for iter in range(200):\n",
        "    w_locals, loss_locals_train, acc_locals_train, loss_locals_test, acc_locals_test = [], [], [], [], []\n",
        "    m = max(int(frac * num_users), 1)\n",
        "    idxs_users = np.random.choice(range(num_users), m, replace = False)\n",
        "    \n",
        "\n",
        "    global_weights = copy.deepcopy(net_glob.state_dict())\n",
        "   \n",
        "    # Training/Testing simulation\n",
        "    for idx in idxs_users: # each client\n",
        "        \n",
        "        net_glob.load_state_dict(global_weights)\n",
        "        # client training local epochs  \n",
        "        for local_epoch in range(local_epochs):\n",
        "\n",
        "          for i, data in enumerate(tqdm(train_loaders1[idx], ncols=100, desc='Round'+str(iter+1)+': User'+str(idx)+'_'+str(local_epoch+1))):\n",
        "            # get the inputs; data is a list of [inputs, labels]\n",
        "            inputs, labels = data\n",
        "            inputs = inputs.to(device)\n",
        "            labels = labels.clone().detach().long().to(device)\n",
        "            #data.requires_grad = True\n",
        "\n",
        "            # zero the parameter gradients\n",
        "            optimizer.zero_grad()\n",
        "\n",
        "            # forward + backward + optimize\n",
        "            outputs = net_glob(inputs)\n",
        "            loss = criterion(outputs, labels)\n",
        "            #net_glob.zero_grad()\n",
        "            loss.backward()\n",
        "            #data_grad = data.grad.data\n",
        "            #perturbed_data = fgsm_attack(inputs, 0.3, data_grad)\n",
        "            #output = net_glob(perturbed_data)\n",
        "            optimizer.step()\n",
        "          \n",
        "        w = copy.deepcopy(net_glob.state_dict())\n",
        "        w_locals.append(copy.deepcopy(w))\n",
        "      \n",
        "      \n",
        "    w_glob = FedAvg(w_locals)\n",
        "    # update global model --- copy weight to net_glob -- distributed the model to all users\n",
        "    net_glob.load_state_dict(w_glob)\n",
        "\n",
        "    # train acc\n",
        "    with torch.no_grad():\n",
        "        corr_num = 0\n",
        "        total_num = 0\n",
        "        train_loss = 0.0\n",
        "        for idx in idxs_users:\n",
        "          for j, trn in enumerate(train_loaders2[idx]):\n",
        "            trn_x, trn_label = trn\n",
        "            trn_x = trn_x.to(device)\n",
        "            trn_label = trn_label.clone().detach().long().to(device)\n",
        "\n",
        "            trn_output = net_glob(trn_x)\n",
        "            loss = criterion(trn_output, trn_label)\n",
        "            train_loss += loss.item()\n",
        "            model_label = trn_output.argmax(dim=1)\n",
        "            corr = trn_label[trn_label == model_label].size(0)\n",
        "            corr_num += corr\n",
        "            total_num += trn_label.size(0)\n",
        "          print(\"client:{} train_acc: {:.2f}%, train_loss: {:.4f}\".format(idx, corr_num / total_num * 100, train_loss / len(train_loaders2)))\n",
        "\n",
        "    # Assuming you have already defined your neural network model, test dataset loader, loss criterion, and device\n",
        "    epsilon = 0.3  # choose a value for epsilon\n",
        "    test(net=net_glob, test_loader=test_loader, criterion=criterion, device=device, epsilon=epsilon)\n",
        "#     with torch.no_grad():\n",
        "#         corr_num = 0\n",
        "#         total_num = 0\n",
        "#         val_loss = 0.0\n",
        "#         for j, val in enumerate(test_loader):\n",
        "#             val_x, val_label = val\n",
        "#             val_x = val_x.to(device)\n",
        "#             data = val_x\n",
        "            \n",
        "#             data.requires_grad = True\n",
        "#             #val_x = fgsm_attack(net_glob, loss, val_x, val_label, 0.3).to(device)\n",
        "#             val_label = val_label.clone().detach().long().to(device)\n",
        "#             val_output = net_glob(data)\n",
        "            \n",
        "#             loss = criterion(val_output, val_label)\n",
        "#             net_glob.zero_grad()\n",
        "#             loss.backward()\n",
        "#             data_grad = data.grad.data\n",
        "#             perturbed_data = fgsm_attack(data, 0.3, data_grad)\n",
        "#             output = net_glob(perturbed_data)\n",
        "#             val_loss += loss.item()\n",
        "#             model_label = val_output.argmax(dim=1)\n",
        "#             corr = val_label[val_label == model_label].size(0)\n",
        "#             corr_num += corr\n",
        "#             total_num += val_label.size(0)\n",
        "#             accuracy = corr_num / total_num * 100\n",
        "#             test_loss = val_loss / len(test_loader)\n",
        "#         print(\"test_acc: {:.2f}%, test_loss: {:.4f}\".format( accuracy, test_loss))\n",
        "    \n",
        "#     # prepare to count predictions for each class\n",
        "#     correct_pred = {classname: 0 for classname in classes}\n",
        "#     total_pred = {classname: 0 for classname in classes}\n",
        "\n",
        "#     # again no gradients needed\n",
        "#     with torch.no_grad():\n",
        "#         for data in test_loader:\n",
        "#             images, labels = data\n",
        "#             outputs = net_glob(images)\n",
        "#             _, predictions = torch.max(outputs, 1)\n",
        "#             # collect the correct predictions for each class\n",
        "#             for label, prediction in zip(labels, predictions):\n",
        "#                 if label == prediction:\n",
        "#                     correct_pred[classes[label]] += 1\n",
        "#                 total_pred[classes[label]] += 1\n",
        "\n",
        "\n",
        "#     # print accuracy for each class\n",
        "#     for classname, correct_count in correct_pred.items():\n",
        "#         accuracy = 100 * float(correct_count) / total_pred[classname]\n",
        "#         print(\"Accuracy for class {:5s} is: {:.1f} %\".format(classname,\n",
        "#                                                       accuracy))\n",
        "\n"
      ]
    },
    {
      "cell_type": "code",
      "execution_count": 82,
      "metadata": {
        "id": "vlN-8URkWVxI"
      },
      "outputs": [],
      "source": []
    },
    {
      "cell_type": "code",
      "execution_count": 42,
      "metadata": {
        "colab": {
          "base_uri": "https://localhost:8080/"
        },
        "id": "4-douSZNWVxI",
        "outputId": "939ed023-ed91-4aa6-aa3a-afd1d7a354ef"
      },
      "outputs": [
        {
          "output_type": "stream",
          "name": "stdout",
          "text": [
            "Test set: Average loss: 4.2598, Accuracy: 1792/10000 (17.92%)\n"
          ]
        }
      ],
      "source": [
        "# Assuming you have already defined your neural network model, test dataset loader, loss criterion, and device\n",
        "epsilon = 0.2  # choose a value for epsilon\n",
        "test(net=net_glob, test_loader=test_loader, criterion=criterion, device=device, epsilon=epsilon)\n"
      ]
    },
    {
      "cell_type": "code",
      "execution_count": null,
      "metadata": {
        "colab": {
          "base_uri": "https://localhost:8080/"
        },
        "id": "j9hLvYOwjjeW",
        "outputId": "e90e08b9-bf4e-4e52-8cbd-0502184cffcc"
      },
      "outputs": [
        {
          "ename": "RuntimeError",
          "evalue": "Input type (torch.FloatTensor) and weight type (torch.cuda.FloatTensor) should be the same or input should be a MKLDNN tensor and weight is a dense tensor",
          "output_type": "error",
          "traceback": [
            "\u001b[0;31m---------------------------------------------------------------------------\u001b[0m",
            "\u001b[0;31mRuntimeError\u001b[0m                              Traceback (most recent call last)",
            "\u001b[0;32m<ipython-input-42-769897c9e5f9>\u001b[0m in \u001b[0;36m<module>\u001b[0;34m\u001b[0m\n\u001b[1;32m      6\u001b[0m     \u001b[0;32mfor\u001b[0m \u001b[0mdata\u001b[0m \u001b[0;32min\u001b[0m \u001b[0mtest_loader\u001b[0m\u001b[0;34m:\u001b[0m\u001b[0;34m\u001b[0m\u001b[0;34m\u001b[0m\u001b[0m\n\u001b[1;32m      7\u001b[0m         \u001b[0mimages\u001b[0m\u001b[0;34m,\u001b[0m \u001b[0mlabels\u001b[0m \u001b[0;34m=\u001b[0m \u001b[0mdata\u001b[0m\u001b[0;34m\u001b[0m\u001b[0;34m\u001b[0m\u001b[0m\n\u001b[0;32m----> 8\u001b[0;31m         \u001b[0moutputs\u001b[0m \u001b[0;34m=\u001b[0m \u001b[0mnet_glob\u001b[0m\u001b[0;34m(\u001b[0m\u001b[0mimages\u001b[0m\u001b[0;34m)\u001b[0m\u001b[0;34m\u001b[0m\u001b[0;34m\u001b[0m\u001b[0m\n\u001b[0m\u001b[1;32m      9\u001b[0m         \u001b[0m_\u001b[0m\u001b[0;34m,\u001b[0m \u001b[0mpredictions\u001b[0m \u001b[0;34m=\u001b[0m \u001b[0mtorch\u001b[0m\u001b[0;34m.\u001b[0m\u001b[0mmax\u001b[0m\u001b[0;34m(\u001b[0m\u001b[0moutputs\u001b[0m\u001b[0;34m,\u001b[0m \u001b[0;36m1\u001b[0m\u001b[0;34m)\u001b[0m\u001b[0;34m\u001b[0m\u001b[0;34m\u001b[0m\u001b[0m\n\u001b[1;32m     10\u001b[0m         \u001b[0;31m# collect the correct predictions for each class\u001b[0m\u001b[0;34m\u001b[0m\u001b[0;34m\u001b[0m\u001b[0;34m\u001b[0m\u001b[0m\n",
            "\u001b[0;32m~/anaconda3/envs/maya1/lib/python3.7/site-packages/torch/nn/modules/module.py\u001b[0m in \u001b[0;36m_call_impl\u001b[0;34m(self, *input, **kwargs)\u001b[0m\n\u001b[1;32m   1049\u001b[0m         if not (self._backward_hooks or self._forward_hooks or self._forward_pre_hooks or _global_backward_hooks\n\u001b[1;32m   1050\u001b[0m                 or _global_forward_hooks or _global_forward_pre_hooks):\n\u001b[0;32m-> 1051\u001b[0;31m             \u001b[0;32mreturn\u001b[0m \u001b[0mforward_call\u001b[0m\u001b[0;34m(\u001b[0m\u001b[0;34m*\u001b[0m\u001b[0minput\u001b[0m\u001b[0;34m,\u001b[0m \u001b[0;34m**\u001b[0m\u001b[0mkwargs\u001b[0m\u001b[0;34m)\u001b[0m\u001b[0;34m\u001b[0m\u001b[0;34m\u001b[0m\u001b[0m\n\u001b[0m\u001b[1;32m   1052\u001b[0m         \u001b[0;31m# Do not call functions when jit is used\u001b[0m\u001b[0;34m\u001b[0m\u001b[0;34m\u001b[0m\u001b[0;34m\u001b[0m\u001b[0m\n\u001b[1;32m   1053\u001b[0m         \u001b[0mfull_backward_hooks\u001b[0m\u001b[0;34m,\u001b[0m \u001b[0mnon_full_backward_hooks\u001b[0m \u001b[0;34m=\u001b[0m \u001b[0;34m[\u001b[0m\u001b[0;34m]\u001b[0m\u001b[0;34m,\u001b[0m \u001b[0;34m[\u001b[0m\u001b[0;34m]\u001b[0m\u001b[0;34m\u001b[0m\u001b[0;34m\u001b[0m\u001b[0m\n",
            "\u001b[0;32m<ipython-input-32-e76586af861a>\u001b[0m in \u001b[0;36mforward\u001b[0;34m(self, x)\u001b[0m\n\u001b[1;32m     73\u001b[0m \u001b[0;34m\u001b[0m\u001b[0m\n\u001b[1;32m     74\u001b[0m     \u001b[0;32mdef\u001b[0m \u001b[0mforward\u001b[0m\u001b[0;34m(\u001b[0m\u001b[0mself\u001b[0m\u001b[0;34m,\u001b[0m \u001b[0mx\u001b[0m\u001b[0;34m)\u001b[0m\u001b[0;34m:\u001b[0m\u001b[0;34m\u001b[0m\u001b[0;34m\u001b[0m\u001b[0m\n\u001b[0;32m---> 75\u001b[0;31m         \u001b[0mout\u001b[0m \u001b[0;34m=\u001b[0m \u001b[0mF\u001b[0m\u001b[0;34m.\u001b[0m\u001b[0mrelu\u001b[0m\u001b[0;34m(\u001b[0m\u001b[0mself\u001b[0m\u001b[0;34m.\u001b[0m\u001b[0mbn1\u001b[0m\u001b[0;34m(\u001b[0m\u001b[0mself\u001b[0m\u001b[0;34m.\u001b[0m\u001b[0mconv1\u001b[0m\u001b[0;34m(\u001b[0m\u001b[0mx\u001b[0m\u001b[0;34m)\u001b[0m\u001b[0;34m)\u001b[0m\u001b[0;34m)\u001b[0m\u001b[0;34m\u001b[0m\u001b[0;34m\u001b[0m\u001b[0m\n\u001b[0m\u001b[1;32m     76\u001b[0m         \u001b[0mout\u001b[0m \u001b[0;34m=\u001b[0m \u001b[0mself\u001b[0m\u001b[0;34m.\u001b[0m\u001b[0mlayer1\u001b[0m\u001b[0;34m(\u001b[0m\u001b[0mout\u001b[0m\u001b[0;34m)\u001b[0m\u001b[0;34m\u001b[0m\u001b[0;34m\u001b[0m\u001b[0m\n\u001b[1;32m     77\u001b[0m         \u001b[0mout\u001b[0m \u001b[0;34m=\u001b[0m \u001b[0mself\u001b[0m\u001b[0;34m.\u001b[0m\u001b[0mlayer2\u001b[0m\u001b[0;34m(\u001b[0m\u001b[0mout\u001b[0m\u001b[0;34m)\u001b[0m\u001b[0;34m\u001b[0m\u001b[0;34m\u001b[0m\u001b[0m\n",
            "\u001b[0;32m~/anaconda3/envs/maya1/lib/python3.7/site-packages/torch/nn/modules/module.py\u001b[0m in \u001b[0;36m_call_impl\u001b[0;34m(self, *input, **kwargs)\u001b[0m\n\u001b[1;32m   1049\u001b[0m         if not (self._backward_hooks or self._forward_hooks or self._forward_pre_hooks or _global_backward_hooks\n\u001b[1;32m   1050\u001b[0m                 or _global_forward_hooks or _global_forward_pre_hooks):\n\u001b[0;32m-> 1051\u001b[0;31m             \u001b[0;32mreturn\u001b[0m \u001b[0mforward_call\u001b[0m\u001b[0;34m(\u001b[0m\u001b[0;34m*\u001b[0m\u001b[0minput\u001b[0m\u001b[0;34m,\u001b[0m \u001b[0;34m**\u001b[0m\u001b[0mkwargs\u001b[0m\u001b[0;34m)\u001b[0m\u001b[0;34m\u001b[0m\u001b[0;34m\u001b[0m\u001b[0m\n\u001b[0m\u001b[1;32m   1052\u001b[0m         \u001b[0;31m# Do not call functions when jit is used\u001b[0m\u001b[0;34m\u001b[0m\u001b[0;34m\u001b[0m\u001b[0;34m\u001b[0m\u001b[0m\n\u001b[1;32m   1053\u001b[0m         \u001b[0mfull_backward_hooks\u001b[0m\u001b[0;34m,\u001b[0m \u001b[0mnon_full_backward_hooks\u001b[0m \u001b[0;34m=\u001b[0m \u001b[0;34m[\u001b[0m\u001b[0;34m]\u001b[0m\u001b[0;34m,\u001b[0m \u001b[0;34m[\u001b[0m\u001b[0;34m]\u001b[0m\u001b[0;34m\u001b[0m\u001b[0;34m\u001b[0m\u001b[0m\n",
            "\u001b[0;32m~/anaconda3/envs/maya1/lib/python3.7/site-packages/torch/nn/modules/conv.py\u001b[0m in \u001b[0;36mforward\u001b[0;34m(self, input)\u001b[0m\n\u001b[1;32m    441\u001b[0m \u001b[0;34m\u001b[0m\u001b[0m\n\u001b[1;32m    442\u001b[0m     \u001b[0;32mdef\u001b[0m \u001b[0mforward\u001b[0m\u001b[0;34m(\u001b[0m\u001b[0mself\u001b[0m\u001b[0;34m,\u001b[0m \u001b[0minput\u001b[0m\u001b[0;34m:\u001b[0m \u001b[0mTensor\u001b[0m\u001b[0;34m)\u001b[0m \u001b[0;34m->\u001b[0m \u001b[0mTensor\u001b[0m\u001b[0;34m:\u001b[0m\u001b[0;34m\u001b[0m\u001b[0;34m\u001b[0m\u001b[0m\n\u001b[0;32m--> 443\u001b[0;31m         \u001b[0;32mreturn\u001b[0m \u001b[0mself\u001b[0m\u001b[0;34m.\u001b[0m\u001b[0m_conv_forward\u001b[0m\u001b[0;34m(\u001b[0m\u001b[0minput\u001b[0m\u001b[0;34m,\u001b[0m \u001b[0mself\u001b[0m\u001b[0;34m.\u001b[0m\u001b[0mweight\u001b[0m\u001b[0;34m,\u001b[0m \u001b[0mself\u001b[0m\u001b[0;34m.\u001b[0m\u001b[0mbias\u001b[0m\u001b[0;34m)\u001b[0m\u001b[0;34m\u001b[0m\u001b[0;34m\u001b[0m\u001b[0m\n\u001b[0m\u001b[1;32m    444\u001b[0m \u001b[0;34m\u001b[0m\u001b[0m\n\u001b[1;32m    445\u001b[0m \u001b[0;32mclass\u001b[0m \u001b[0mConv3d\u001b[0m\u001b[0;34m(\u001b[0m\u001b[0m_ConvNd\u001b[0m\u001b[0;34m)\u001b[0m\u001b[0;34m:\u001b[0m\u001b[0;34m\u001b[0m\u001b[0;34m\u001b[0m\u001b[0m\n",
            "\u001b[0;32m~/anaconda3/envs/maya1/lib/python3.7/site-packages/torch/nn/modules/conv.py\u001b[0m in \u001b[0;36m_conv_forward\u001b[0;34m(self, input, weight, bias)\u001b[0m\n\u001b[1;32m    438\u001b[0m                             _pair(0), self.dilation, self.groups)\n\u001b[1;32m    439\u001b[0m         return F.conv2d(input, weight, bias, self.stride,\n\u001b[0;32m--> 440\u001b[0;31m                         self.padding, self.dilation, self.groups)\n\u001b[0m\u001b[1;32m    441\u001b[0m \u001b[0;34m\u001b[0m\u001b[0m\n\u001b[1;32m    442\u001b[0m     \u001b[0;32mdef\u001b[0m \u001b[0mforward\u001b[0m\u001b[0;34m(\u001b[0m\u001b[0mself\u001b[0m\u001b[0;34m,\u001b[0m \u001b[0minput\u001b[0m\u001b[0;34m:\u001b[0m \u001b[0mTensor\u001b[0m\u001b[0;34m)\u001b[0m \u001b[0;34m->\u001b[0m \u001b[0mTensor\u001b[0m\u001b[0;34m:\u001b[0m\u001b[0;34m\u001b[0m\u001b[0;34m\u001b[0m\u001b[0m\n",
            "\u001b[0;31mRuntimeError\u001b[0m: Input type (torch.FloatTensor) and weight type (torch.cuda.FloatTensor) should be the same or input should be a MKLDNN tensor and weight is a dense tensor"
          ]
        }
      ],
      "source": [
        "    correct_pred = {classname: 0 for classname in classes}\n",
        "    total_pred = {classname: 0 for classname in classes}\n",
        "\n",
        "    # again no gradients needed\n",
        "    with torch.no_grad():\n",
        "        for data in test_loader:\n",
        "            images, labels = data\n",
        "            outputs = net_glob(images)\n",
        "            _, predictions = torch.max(outputs, 1)\n",
        "            # collect the correct predictions for each class\n",
        "            for label, prediction in zip(labels, predictions):\n",
        "                if label == prediction:\n",
        "                    correct_pred[classes[label]] += 1\n",
        "                total_pred[classes[label]] += 1\n",
        "\n",
        "\n",
        "    # print accuracy for each class\n",
        "    for classname, correct_count in correct_pred.items():\n",
        "        accuracy = 100 * float(correct_count) / total_pred[classname]\n",
        "        print(\"Accuracy for class {:5s} is: {:.1f} %\".format(classname,\n",
        "                                                      accuracy))"
      ]
    },
    {
      "cell_type": "code",
      "execution_count": null,
      "metadata": {
        "id": "1AdhHMdeCAwG"
      },
      "outputs": [],
      "source": [
        "!pip install adversarial-robustness-toolbox"
      ]
    },
    {
      "cell_type": "code",
      "execution_count": null,
      "metadata": {
        "id": "pcvsxLMjHjih"
      },
      "outputs": [],
      "source": [
        "import os, sys\n",
        "from os.path import abspath\n",
        "\n",
        "module_path = os.path.abspath(os.path.join('..'))\n",
        "if module_path not in sys.path:\n",
        "    sys.path.append(module_path)\n",
        "\n",
        "import warnings\n",
        "warnings.filterwarnings('ignore')\n",
        "\n",
        "from keras.models import load_model\n",
        "\n",
        "from art import config\n",
        "from art.utils import load_dataset, get_file\n",
        "from art.estimators.classification import KerasClassifier\n",
        "from art.attacks.poisoning import FeatureCollisionAttack\n",
        "\n",
        "import numpy as np\n",
        "\n",
        "%matplotlib inline\n",
        "import matplotlib.pyplot as plt\n",
        "\n",
        "np.random.seed(301)\n",
        "#from __future__ import absolute_import, division, print_function, unicode_literals\n",
        "\n",
        "#import os, sys\n",
        "#from os.path import abspath\n",
        "\n",
        "module_path = os.path.abspath(os.path.join('..'))\n",
        "if module_path not in sys.path:\n",
        "    sys.path.append(module_path)\n",
        "\n",
        "import warnings\n",
        "warnings.filterwarnings('ignore')\n",
        "\n",
        "# Disable TensorFlow eager execution:\n",
        "import tensorflow as tf\n",
        "if tf.executing_eagerly():\n",
        "    tf.compat.v1.disable_eager_execution()\n",
        "\n",
        "import keras.backend as k\n",
        "from keras.models import Sequential\n",
        "from keras.layers import Dense, Flatten, Conv2D, MaxPooling2D, Activation, Dropout\n",
        "import numpy as np\n",
        "import matplotlib.pyplot as plt\n",
        "%matplotlib inline\n",
        "from mpl_toolkits import mplot3d\n",
        "\n",
        "from art.estimators.classification import KerasClassifier\n",
        "from art.attacks.poisoning import PoisoningAttackBackdoor\n",
        "from art.attacks.poisoning.perturbations import add_pattern_bd, add_single_bd, insert_image\n",
        "from art.utils import load_mnist, preprocess\n",
        "from art.defences.detector.poison import ActivationDefence"
      ]
    },
    {
      "cell_type": "code",
      "execution_count": null,
      "metadata": {
        "id": "bUwYEdc26j1w"
      },
      "outputs": [],
      "source": [
        "################################# Backdoor_ATTack ###################3\n",
        "(x_raw, y_raw), (x_raw_test, y_raw_test), min_, max_ = load_dataset('cifar10')\n",
        "\n",
        "# Random Selection:\n",
        "n_train = np.shape(x_raw)[0]\n",
        "num_selection = 30000\n",
        "random_selection_indices = np.random.choice(n_train, num_selection)\n",
        "x_raw = x_raw[random_selection_indices]\n",
        "y_raw = y_raw[random_selection_indices]\n",
        "\n",
        "BACKDOOR_TYPE = \"pattern\" # one of ['pattern', 'pixel', 'image']"
      ]
    },
    {
      "cell_type": "code",
      "execution_count": null,
      "metadata": {
        "id": "sI_3FtepCL7T"
      },
      "outputs": [],
      "source": [
        "y_temp=[]\n",
        "for i in range(len(y_raw)):\n",
        "  for j in range(len(y_raw[i])):\n",
        "    if y_raw[i][j]==1:\n",
        "      y_temp.append(j)\n",
        "y_temp=np.array(y_temp)\n",
        "y_raw=y_temp"
      ]
    },
    {
      "cell_type": "code",
      "execution_count": null,
      "metadata": {
        "id": "PzISHLTICL4v"
      },
      "outputs": [],
      "source": [
        "y_temp=[]\n",
        "for i in range(len(y_raw_test)):\n",
        "  for j in range(len(y_raw_test[i])):\n",
        "    if y_raw_test[i][j]==1:\n",
        "      y_temp.append(j)\n",
        "y_temp=np.array(y_temp)\n",
        "y_raw_test=y_temp"
      ]
    },
    {
      "cell_type": "code",
      "execution_count": null,
      "metadata": {
        "id": "0M_EfdroCL2D"
      },
      "outputs": [],
      "source": [
        "class_descr = ['airplane', 'automobile', 'bird', 'cat', 'deer', 'dog', 'frog', 'horse', 'ship', 'truck']"
      ]
    },
    {
      "cell_type": "code",
      "execution_count": null,
      "metadata": {
        "id": "ESJWrkIYClyP"
      },
      "outputs": [],
      "source": [
        "from art.estimators.classification import KerasClassifier\n",
        "from art.attacks.poisoning import PoisoningAttackBackdoor\n",
        "from art.attacks.poisoning.perturbations import add_pattern_bd, add_single_bd, insert_image\n",
        "from art.utils import load_mnist, preprocess\n",
        "from art.defences.detector.poison import ActivationDefence"
      ]
    },
    {
      "cell_type": "code",
      "execution_count": null,
      "metadata": {
        "id": "LSXhpd_rCLzX"
      },
      "outputs": [],
      "source": [
        "max_val = np.max(x_raw)\n",
        "def add_modification(x):\n",
        "        if BACKDOOR_TYPE == 'pattern':\n",
        "            return add_pattern_bd(x, pixel_value=max_val)\n",
        "        elif BACKDOOR_TYPE == 'pixel':\n",
        "            return add_single_bd(x, pixel_value=max_val) \n",
        "        elif BACKDOOR_TYPE == 'image':\n",
        "            return insert_image(x, backdoor_path='../utils/data/backdoors/alert.png', size=(10,10))\n",
        "        else:\n",
        "            raise(\"Unknown backdoor type\")"
      ]
    },
    {
      "cell_type": "code",
      "execution_count": null,
      "metadata": {
        "id": "Nhn-iLkbCLw1"
      },
      "outputs": [],
      "source": [
        "def poison_dataset(x_clean, y_clean, percent_poison, poison_func):\n",
        "    print(x_clean.shape,\"x_clean shape\")\n",
        "    x_poison = np.copy(x_clean)\n",
        "    y_poison = np.copy(y_clean)\n",
        "    is_poison = np.zeros(np.shape(y_poison))\n",
        "    \n",
        "    sources=np.arange(10) # 0, 1, 2, 3, ...\n",
        "    targets=(np.arange(10) + 1) % 10 # 1, 2, 3, 4, ...\n",
        "    for i, (src, tgt) in enumerate(zip(sources, targets)):\n",
        "        n_points_in_tgt = np.size(np.where(y_clean == tgt))\n",
        "        num_poison = round((percent_poison * n_points_in_tgt) / (1 - percent_poison))\n",
        "        src_imgs = x_clean[y_clean == src]\n",
        "        print(src_imgs.shape,\"src images shape\")\n",
        "\n",
        "        n_points_in_src = np.shape(src_imgs)[0]\n",
        "        indices_to_be_poisoned = np.random.choice(n_points_in_src, num_poison)\n",
        "\n",
        "        imgs_to_be_poisoned = np.copy(src_imgs[indices_to_be_poisoned])\n",
        "        backdoor_attack = PoisoningAttackBackdoor(poison_func)\n",
        "        imgs_to_be_poisoned, poison_labels = backdoor_attack.poison(imgs_to_be_poisoned, y=np.ones(num_poison) * tgt)\n",
        "        print(imgs_to_be_poisoned.shape,\"imgs to be poisoned shape\")\n",
        "        x_poison = np.append(x_poison, imgs_to_be_poisoned, axis=0)\n",
        "        y_poison = np.append(y_poison, poison_labels, axis=0)\n",
        "        is_poison = np.append(is_poison, np.ones(num_poison))\n",
        "\n",
        "    is_poison = is_poison != 0\n",
        "    print(x_poison.shape,\"x poison shape\")\n",
        "    return is_poison, x_poison, y_poison"
      ]
    },
    {
      "cell_type": "code",
      "execution_count": null,
      "metadata": {
        "id": "1Il3AhCVCLuB"
      },
      "outputs": [],
      "source": [
        "percent_poison = .1\n",
        "(is_poison_train, x_poisoned_raw, y_poisoned_raw) = poison_dataset(x_raw, y_raw, percent_poison, add_modification)\n",
        "x_train, y_train = preprocess(x_poisoned_raw, y_poisoned_raw)\n",
        "# Add channel axis:\n",
        "#x_train = np.expand_dims(x_train, axis=3)\n",
        "\n",
        "# Poison test data\n",
        "(is_poison_test, x_poisoned_raw_test, y_poisoned_raw_test) = poison_dataset(x_raw_test, y_raw_test, percent_poison, add_modification)\n",
        "x_test, y_test = preprocess(x_poisoned_raw_test, y_poisoned_raw_test)\n",
        "# Add channel axis:\n",
        "#x_test = np.expand_dims(x_test, axis=3)\n",
        "\n",
        "# Shuffle training data\n",
        "n_train = np.shape(y_train)[0]\n",
        "shuffled_indices = np.arange(n_train)\n",
        "np.random.shuffle(shuffled_indices)\n",
        "x_train = x_train[shuffled_indices]\n",
        "y_train = y_train[shuffled_indices]"
      ]
    },
    {
      "cell_type": "code",
      "execution_count": null,
      "metadata": {
        "id": "dt_TNYORCLrV"
      },
      "outputs": [],
      "source": [
        "poison_x_test = x_test[is_poison_test]\n",
        "poison_y_test = y_test[is_poison_test]\n",
        "\n",
        "c = 9 # class to display\n",
        "i = 0 # image of the class to display\n",
        "\n",
        "c_idx = np.where(np.argmax(poison_y_test,1) == c)[0][i] # index of the image in poison arrays\n",
        "#c_idx=25\n",
        "plt.imshow(poison_x_test[c_idx].squeeze())\n",
        "plt.show()\n"
      ]
    },
    {
      "cell_type": "code",
      "execution_count": null,
      "metadata": {
        "id": "9RIHtsC_CKpD"
      },
      "outputs": [],
      "source": []
    }
  ],
  "metadata": {
    "accelerator": "GPU",
    "colab": {
      "provenance": []
    },
    "kernelspec": {
      "display_name": "Python 3",
      "language": "python",
      "name": "python3"
    },
    "language_info": {
      "codemirror_mode": {
        "name": "ipython",
        "version": 3
      },
      "file_extension": ".py",
      "mimetype": "text/x-python",
      "name": "python",
      "nbconvert_exporter": "python",
      "pygments_lexer": "ipython3",
      "version": "3.7.15"
    }
  },
  "nbformat": 4,
  "nbformat_minor": 0
}