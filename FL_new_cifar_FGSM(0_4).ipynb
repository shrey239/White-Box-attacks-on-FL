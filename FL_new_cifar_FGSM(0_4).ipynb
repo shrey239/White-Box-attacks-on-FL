{
  "cells": [
    {
      "cell_type": "code",
      "execution_count": 1,
      "metadata": {
        "id": "YLpANHHn1Jql"
      },
      "outputs": [],
      "source": [
        "import os\n",
        "import h5py\n",
        "\n",
        "import socket\n",
        "import struct\n",
        "import pickle\n",
        "\n",
        "import torch\n",
        "import torch.nn as nn\n",
        "import torch.nn.functional as F\n",
        "import torchvision\n",
        "import torchvision.transforms as transforms\n",
        "import torch.optim as optim\n",
        "\n",
        "from torch.utils.data import Dataset, DataLoader\n",
        "\n",
        "import time\n",
        "\n",
        "from tqdm import tqdm\n",
        "\n",
        "\n",
        "\n",
        "import numpy as np\n",
        "import copy"
      ]
    },
    {
      "cell_type": "code",
      "execution_count": 2,
      "metadata": {
        "id": "hIMtEMjXo02V"
      },
      "outputs": [],
      "source": [
        "import torch\n",
        "import torchvision\n",
        "import numpy as np\n",
        "import matplotlib\n",
        "import matplotlib.pyplot as plt\n",
        "import torch.nn as nn\n",
        "import torch.nn.functional as F\n",
        "from torchvision.datasets import MNIST\n",
        "from torchvision.transforms import ToTensor\n",
        "from torchvision.utils import make_grid\n",
        "from torch.utils.data.dataloader import DataLoader\n",
        "from torch.utils.data import random_split\n",
        "from torch.utils.data.sampler import SubsetRandomSampler\n",
        "%matplotlib inline\n",
        "\n",
        "# Use a white background for matplotlib figures\n",
        "matplotlib.rcParams['figure.facecolor'] = '#ffffff'"
      ]
    },
    {
      "cell_type": "markdown",
      "metadata": {
        "id": "WWB5l3Xn15fa"
      },
      "source": [
        "client side\n"
      ]
    },
    {
      "cell_type": "code",
      "execution_count": 2,
      "metadata": {
        "id": "8aXD0rMr4n45"
      },
      "outputs": [],
      "source": []
    },
    {
      "cell_type": "code",
      "execution_count": 3,
      "metadata": {
        "id": "FMbiOm-q4nub"
      },
      "outputs": [],
      "source": [
        "# keep the path same, just create a folder named cifar in your drive\n",
        "root_path = './cifar'"
      ]
    },
    {
      "cell_type": "code",
      "execution_count": 4,
      "metadata": {
        "colab": {
          "base_uri": "https://localhost:8080/"
        },
        "id": "fmfh2cRf17IH",
        "outputId": "f186fa95-cad6-475a-f8c6-33042a3d0906"
      },
      "outputs": [
        {
          "output_type": "stream",
          "name": "stdout",
          "text": [
            "cuda:0\n"
          ]
        }
      ],
      "source": [
        "\n",
        "device = torch.device(\"cuda:0\" if torch.cuda.is_available() else \"cpu\")\n",
        "#device = \"cpu\"\n",
        "print(device)"
      ]
    },
    {
      "cell_type": "code",
      "execution_count": 5,
      "metadata": {
        "id": "9cBXF1ka4d4c"
      },
      "outputs": [],
      "source": [
        "\n",
        "transform = transforms.Compose([transforms.ToTensor(), transforms.Normalize((0.4914, 0.4822, 0.4465), (0.2470, 0.2435, 0.2616))])"
      ]
    },
    {
      "cell_type": "code",
      "execution_count": 5,
      "metadata": {
        "id": "9YmBLeHJ4men"
      },
      "outputs": [],
      "source": []
    },
    {
      "cell_type": "code",
      "execution_count": 6,
      "metadata": {
        "colab": {
          "base_uri": "https://localhost:8080/",
          "height": 85,
          "referenced_widgets": [
            "1646a77cd7744876a036cc05955ab60c",
            "dd310bc95055456ca74ca13e35ce3680",
            "97af3cbf1f0a4f1fadba34b5a9efa428",
            "42ac20f7e2d14ad3987f49162c7c4933",
            "6c4e8d4fff2e49a9a8dc3ca9ce889cbc",
            "5c60ce8dac0a41c58ebc62037411f054",
            "127e869fd2bf44feaf8827e531e55959",
            "b189a5446d96436d8db1dfcb6ab5b4aa",
            "fc44001fc82e41289e844a1fc0ddab2e",
            "3d89817f5d7b4de0bb0c1efb71853ec2",
            "1f5ecb5cba8349daac3f6dcf721d65c2"
          ]
        },
        "id": "f3L5kQ-017F7",
        "outputId": "8a25bf22-6d81-471e-bdc4-c553170c47a1"
      },
      "outputs": [
        {
          "output_type": "stream",
          "name": "stdout",
          "text": [
            "Downloading https://www.cs.toronto.edu/~kriz/cifar-10-python.tar.gz to ./cifar/cifar-10-python.tar.gz\n"
          ]
        },
        {
          "output_type": "display_data",
          "data": {
            "text/plain": [
              "  0%|          | 0/170498071 [00:00<?, ?it/s]"
            ],
            "application/vnd.jupyter.widget-view+json": {
              "version_major": 2,
              "version_minor": 0,
              "model_id": "1646a77cd7744876a036cc05955ab60c"
            }
          },
          "metadata": {}
        },
        {
          "output_type": "stream",
          "name": "stdout",
          "text": [
            "Extracting ./cifar/cifar-10-python.tar.gz to ./cifar\n"
          ]
        }
      ],
      "source": [
        "\n",
        "trainset1 = torchvision.datasets.CIFAR10(root=root_path, download=True, transform=transform)\n"
      ]
    },
    {
      "cell_type": "code",
      "execution_count": 7,
      "metadata": {
        "colab": {
          "base_uri": "https://localhost:8080/"
        },
        "id": "XEnQtcZX17ET",
        "outputId": "c02331b0-8088-4b23-a779-56d04ecb59fb"
      },
      "outputs": [
        {
          "output_type": "execute_result",
          "data": {
            "text/plain": [
              "50000"
            ]
          },
          "metadata": {},
          "execution_count": 7
        }
      ],
      "source": [
        "len(trainset1)"
      ]
    },
    {
      "cell_type": "code",
      "execution_count": 8,
      "metadata": {
        "id": "bgwEpG427LNG"
      },
      "outputs": [],
      "source": [
        "classes = ('plane', 'car', 'bird', 'cat', 'deer', 'dog', 'frog', 'horse', 'ship', 'truck')\n"
      ]
    },
    {
      "cell_type": "code",
      "execution_count": 9,
      "metadata": {
        "id": "SZDEZ5K117Dd"
      },
      "outputs": [],
      "source": [
        "import matplotlib.pyplot as plt\n",
        "\n",
        "\n",
        "def show_image(img, label):\n",
        "    print(\"Label=\", trainset1.classes[label], \"(\" + str(label)  + \")\")\n",
        "    plt.imshow(img.permute(1,2,0))"
      ]
    },
    {
      "cell_type": "code",
      "execution_count": 10,
      "metadata": {
        "colab": {
          "base_uri": "https://localhost:8080/",
          "height": 302
        },
        "id": "QE1unzpq7oKi",
        "outputId": "91c1037b-66b9-46b9-a463-cb489f0e6181"
      },
      "outputs": [
        {
          "output_type": "stream",
          "name": "stderr",
          "text": [
            "WARNING:matplotlib.image:Clipping input data to the valid range for imshow with RGB data ([0..1] for floats or [0..255] for integers).\n"
          ]
        },
        {
          "output_type": "stream",
          "name": "stdout",
          "text": [
            "Label= frog (6)\n"
          ]
        },
        {
          "output_type": "display_data",
          "data": {
            "text/plain": [
              "<Figure size 432x288 with 1 Axes>"
            ],
            "image/png": "[encoded data removed]"
          },
          "metadata": {}
        }
      ],
      "source": [
        "image,label = trainset1[0]\n",
        "show_image(image, label)"
      ]
    },
    {
      "cell_type": "code",
      "execution_count": 11,
      "metadata": {
        "colab": {
          "base_uri": "https://localhost:8080/",
          "height": 302
        },
        "id": "VcTlVjCU69ps",
        "outputId": "8fbdce7d-13b7-4439-d246-583386899e23"
      },
      "outputs": [
        {
          "output_type": "stream",
          "name": "stderr",
          "text": [
            "WARNING:matplotlib.image:Clipping input data to the valid range for imshow with RGB data ([0..1] for floats or [0..255] for integers).\n"
          ]
        },
        {
          "output_type": "stream",
          "name": "stdout",
          "text": [
            "Label= truck (9)\n"
          ]
        },
        {
          "output_type": "display_data",
          "data": {
            "text/plain": [
              "<Figure size 432x288 with 1 Axes>"
            ],
            "image/png": "[encoded data removed]"
          },
          "metadata": {}
        }
      ],
      "source": [
        "image,label = trainset1[1]\n",
        "show_image(image, label)"
      ]
    },
    {
      "cell_type": "code",
      "execution_count": 12,
      "metadata": {
        "colab": {
          "base_uri": "https://localhost:8080/",
          "height": 302
        },
        "id": "LW_IsNJa7RaO",
        "outputId": "ab28f92b-63ef-408c-f3fd-e1f4e938e6c1"
      },
      "outputs": [
        {
          "output_type": "stream",
          "name": "stdout",
          "text": [
            "Label= truck (9)\n"
          ]
        },
        {
          "output_type": "stream",
          "name": "stderr",
          "text": [
            "WARNING:matplotlib.image:Clipping input data to the valid range for imshow with RGB data ([0..1] for floats or [0..255] for integers).\n"
          ]
        },
        {
          "output_type": "display_data",
          "data": {
            "text/plain": [
              "<Figure size 432x288 with 1 Axes>"
            ],
            "image/png": "[encoded data removed]"
          },
          "metadata": {}
        }
      ],
      "source": [
        "image,label = trainset1[2]\n",
        "show_image(image, label)"
      ]
    },
    {
      "cell_type": "code",
      "execution_count": 13,
      "metadata": {
        "colab": {
          "base_uri": "https://localhost:8080/",
          "height": 302
        },
        "id": "gu0ici4j7guZ",
        "outputId": "24ddbdc4-a2d4-418f-8fc2-4c14dee87f53"
      },
      "outputs": [
        {
          "output_type": "stream",
          "name": "stderr",
          "text": [
            "WARNING:matplotlib.image:Clipping input data to the valid range for imshow with RGB data ([0..1] for floats or [0..255] for integers).\n"
          ]
        },
        {
          "output_type": "stream",
          "name": "stdout",
          "text": [
            "Label= truck (9)\n"
          ]
        },
        {
          "output_type": "display_data",
          "data": {
            "text/plain": [
              "<Figure size 432x288 with 1 Axes>"
            ],
            "image/png": "[encoded data removed]"
          },
          "metadata": {}
        }
      ],
      "source": [
        "image,label = trainset1[2]\n",
        "show_image(image, label)"
      ]
    },
    {
      "cell_type": "code",
      "execution_count": 14,
      "metadata": {
        "colab": {
          "base_uri": "https://localhost:8080/",
          "height": 302
        },
        "id": "kgCWBhLo7sb2",
        "outputId": "7c5f48de-a60a-495a-f6e2-65d338d848c0"
      },
      "outputs": [
        {
          "output_type": "stream",
          "name": "stdout",
          "text": [
            "Label= deer (4)\n"
          ]
        },
        {
          "output_type": "stream",
          "name": "stderr",
          "text": [
            "WARNING:matplotlib.image:Clipping input data to the valid range for imshow with RGB data ([0..1] for floats or [0..255] for integers).\n"
          ]
        },
        {
          "output_type": "display_data",
          "data": {
            "text/plain": [
              "<Figure size 432x288 with 1 Axes>"
            ],
            "image/png": "[encoded data removed]"
          },
          "metadata": {}
        }
      ],
      "source": [
        "image,label = trainset1[3]\n",
        "show_image(image, label)"
      ]
    },
    {
      "cell_type": "code",
      "execution_count": 15,
      "metadata": {
        "colab": {
          "base_uri": "https://localhost:8080/",
          "height": 302
        },
        "id": "nPW2bGbV7sZR",
        "outputId": "1f6bd7e6-8608-4d49-e38d-a40b245101d4"
      },
      "outputs": [
        {
          "output_type": "stream",
          "name": "stdout",
          "text": [
            "Label= automobile (1)\n"
          ]
        },
        {
          "output_type": "stream",
          "name": "stderr",
          "text": [
            "WARNING:matplotlib.image:Clipping input data to the valid range for imshow with RGB data ([0..1] for floats or [0..255] for integers).\n"
          ]
        },
        {
          "output_type": "display_data",
          "data": {
            "text/plain": [
              "<Figure size 432x288 with 1 Axes>"
            ],
            "image/png": "[encoded data removed]"
          },
          "metadata": {}
        }
      ],
      "source": [
        "image,label = trainset1[4]\n",
        "show_image(image, label)"
      ]
    },
    {
      "cell_type": "code",
      "execution_count": 16,
      "metadata": {
        "colab": {
          "base_uri": "https://localhost:8080/",
          "height": 302
        },
        "id": "nFwj25EN7sX8",
        "outputId": "c61ae114-c719-4a64-e7f1-197f52fb2733"
      },
      "outputs": [
        {
          "output_type": "stream",
          "name": "stderr",
          "text": [
            "WARNING:matplotlib.image:Clipping input data to the valid range for imshow with RGB data ([0..1] for floats or [0..255] for integers).\n"
          ]
        },
        {
          "output_type": "stream",
          "name": "stdout",
          "text": [
            "Label= automobile (1)\n"
          ]
        },
        {
          "output_type": "display_data",
          "data": {
            "text/plain": [
              "<Figure size 432x288 with 1 Axes>"
            ],
            "image/png": "[encoded data removed]"
          },
          "metadata": {}
        }
      ],
      "source": [
        "image,label = trainset1[5]\n",
        "show_image(image, label)"
      ]
    },
    {
      "cell_type": "code",
      "execution_count": 17,
      "metadata": {
        "colab": {
          "base_uri": "https://localhost:8080/",
          "height": 302
        },
        "id": "nWxNBLSF7sXQ",
        "outputId": "064d9813-fcbf-45ab-993c-d8ae9858c03f"
      },
      "outputs": [
        {
          "output_type": "stream",
          "name": "stdout",
          "text": [
            "Label= bird (2)\n"
          ]
        },
        {
          "output_type": "stream",
          "name": "stderr",
          "text": [
            "WARNING:matplotlib.image:Clipping input data to the valid range for imshow with RGB data ([0..1] for floats or [0..255] for integers).\n"
          ]
        },
        {
          "output_type": "display_data",
          "data": {
            "text/plain": [
              "<Figure size 432x288 with 1 Axes>"
            ],
            "image/png": "[encoded data removed]"
          },
          "metadata": {}
        }
      ],
      "source": [
        "image,label = trainset1[6]\n",
        "show_image(image, label)"
      ]
    },
    {
      "cell_type": "markdown",
      "metadata": {
        "id": "8FBAIJ5Y8aWy"
      },
      "source": [
        "# Define below number of users/clients"
      ]
    },
    {
      "cell_type": "code",
      "execution_count": 18,
      "metadata": {
        "id": "3VA45mly8e0l"
      },
      "outputs": [],
      "source": [
        "users = 5 # clients"
      ]
    },
    {
      "cell_type": "code",
      "execution_count": 19,
      "metadata": {
        "id": "0e0cjvJ58ymo"
      },
      "outputs": [],
      "source": [
        "trainset1_len = 50000"
      ]
    },
    {
      "cell_type": "code",
      "execution_count": 20,
      "metadata": {
        "colab": {
          "base_uri": "https://localhost:8080/"
        },
        "id": "Z84pv-4B89v_",
        "outputId": "f3b76027-635e-4626-9b61-497942df09d6"
      },
      "outputs": [
        {
          "output_type": "execute_result",
          "data": {
            "text/plain": [
              "array([46674, 21513,  7802, ..., 18178, 19762, 15681])"
            ]
          },
          "metadata": {},
          "execution_count": 20
        }
      ],
      "source": [
        "idxs = np.random.permutation(trainset1_len)\n",
        "idxs"
      ]
    },
    {
      "cell_type": "code",
      "execution_count": 21,
      "metadata": {
        "colab": {
          "base_uri": "https://localhost:8080/"
        },
        "id": "UaRzaLdI8wQn",
        "outputId": "76585863-5a2f-429f-c9fa-fa3523df2d61"
      },
      "outputs": [
        {
          "output_type": "execute_result",
          "data": {
            "text/plain": [
              "array([46674, 21513,  7802, ..., 18178, 19762, 15681])"
            ]
          },
          "metadata": {},
          "execution_count": 21
        }
      ],
      "source": [
        "train_indices = idxs\n",
        "train_indices"
      ]
    },
    {
      "cell_type": "code",
      "execution_count": 22,
      "metadata": {
        "colab": {
          "base_uri": "https://localhost:8080/"
        },
        "id": "RlQs7v7b72ef",
        "outputId": "16f39f2b-b01c-46e1-b8d4-5e75fe39cade"
      },
      "outputs": [
        {
          "output_type": "stream",
          "name": "stdout",
          "text": [
            "10000\n"
          ]
        }
      ],
      "source": [
        "indices_per_client = int (len(train_indices)/users)\n",
        "\n",
        "print(indices_per_client)"
      ]
    },
    {
      "cell_type": "markdown",
      "metadata": {
        "id": "ITj3bmDnn5Pc"
      },
      "source": [
        "# trainset2 which has non poisoned data"
      ]
    },
    {
      "cell_type": "code",
      "execution_count": 23,
      "metadata": {
        "id": "gLINNW07k0p4"
      },
      "outputs": [],
      "source": [
        "trainset2 = torchvision.datasets.CIFAR10(root=root_path, download=False, transform=transform)"
      ]
    },
    {
      "cell_type": "code",
      "execution_count": 23,
      "metadata": {
        "id": "Uua558kAHGFV"
      },
      "outputs": [],
      "source": []
    },
    {
      "cell_type": "code",
      "execution_count": 23,
      "metadata": {
        "id": "h0rFdoEHHGCr"
      },
      "outputs": [],
      "source": []
    },
    {
      "cell_type": "markdown",
      "metadata": {
        "id": "avU4ZCczk0gq"
      },
      "source": [
        "# TestSet "
      ]
    },
    {
      "cell_type": "code",
      "execution_count": 24,
      "metadata": {
        "colab": {
          "base_uri": "https://localhost:8080/"
        },
        "id": "l6Io5F36oG2i",
        "outputId": "888cbba4-017b-4d6c-dc81-50c58e77d2eb"
      },
      "outputs": [
        {
          "output_type": "stream",
          "name": "stdout",
          "text": [
            "Files already downloaded and verified\n"
          ]
        }
      ],
      "source": [
        "testset = torchvision.datasets.CIFAR10 (root=root_path, train=False, download=True, transform=transform)"
      ]
    },
    {
      "cell_type": "code",
      "execution_count": 24,
      "metadata": {
        "id": "2O0WOpmmHGvJ"
      },
      "outputs": [],
      "source": []
    },
    {
      "cell_type": "code",
      "execution_count": 24,
      "metadata": {
        "id": "KBGhigI3HGsx"
      },
      "outputs": [],
      "source": []
    },
    {
      "cell_type": "markdown",
      "metadata": {
        "id": "RFuzB_48ypDe"
      },
      "source": [
        "# doing label flipping"
      ]
    },
    {
      "cell_type": "code",
      "execution_count": 25,
      "metadata": {
        "id": "Wl_kO60Zxu1b"
      },
      "outputs": [],
      "source": [
        "\n",
        "\n",
        "# for i in range(len(trainset1)):\n",
        "#     if (trainset2.targets[i] == 6):\n",
        "#         trainset2.targets[i] = 8\n",
        "#     if (trainset2.targets[i] == 2):\n",
        "#         trainset2.targets[i] = 9"
      ]
    },
    {
      "cell_type": "code",
      "execution_count": 25,
      "metadata": {
        "id": "nmdGn4kSxuzf"
      },
      "outputs": [],
      "source": []
    },
    {
      "cell_type": "code",
      "execution_count": 25,
      "metadata": {
        "id": "4y_pZGecxuy1"
      },
      "outputs": [],
      "source": []
    },
    {
      "cell_type": "code",
      "execution_count": 26,
      "metadata": {
        "colab": {
          "base_uri": "https://localhost:8080/"
        },
        "id": "HMKGRmgYoG0v",
        "outputId": "c11d593d-cd6c-41c2-a6d0-8b0d6c02722f"
      },
      "outputs": [
        {
          "output_type": "execute_result",
          "data": {
            "text/plain": [
              "10000"
            ]
          },
          "metadata": {},
          "execution_count": 26
        }
      ],
      "source": [
        "len(testset)"
      ]
    },
    {
      "cell_type": "code",
      "execution_count": 27,
      "metadata": {
        "colab": {
          "base_uri": "https://localhost:8080/"
        },
        "id": "9rwJ0xa3oGz7",
        "outputId": "7e619921-e81d-42cb-c67f-bb28334252ac"
      },
      "outputs": [
        {
          "output_type": "execute_result",
          "data": {
            "text/plain": [
              "array([1960, 1126, 7171, ..., 5375, 5875, 4491])"
            ]
          },
          "metadata": {},
          "execution_count": 27
        }
      ],
      "source": [
        "idxs = np.random.permutation(10000)\n",
        "idxs"
      ]
    },
    {
      "cell_type": "code",
      "execution_count": 28,
      "metadata": {
        "colab": {
          "base_uri": "https://localhost:8080/"
        },
        "id": "tQoOgSqToiSI",
        "outputId": "1777b7e8-2775-4b62-e161-e6bcd8981a0a"
      },
      "outputs": [
        {
          "output_type": "execute_result",
          "data": {
            "text/plain": [
              "array([1960, 1126, 7171, ..., 5375, 5875, 4491])"
            ]
          },
          "metadata": {},
          "execution_count": 28
        }
      ],
      "source": [
        "val_indices = idxs\n",
        "val_indices "
      ]
    },
    {
      "cell_type": "code",
      "execution_count": 28,
      "metadata": {
        "id": "VNqRjzcjoiPm"
      },
      "outputs": [],
      "source": []
    },
    {
      "cell_type": "code",
      "execution_count": 28,
      "metadata": {
        "id": "a7aN3es8oiNo"
      },
      "outputs": [],
      "source": []
    },
    {
      "cell_type": "code",
      "execution_count": 28,
      "metadata": {
        "id": "Rr8sdue7oiNA"
      },
      "outputs": [],
      "source": []
    },
    {
      "cell_type": "code",
      "execution_count": 29,
      "metadata": {
        "colab": {
          "base_uri": "https://localhost:8080/"
        },
        "id": "G84gZz7gkzyi",
        "outputId": "1f612924-029f-47c7-fbde-38ed68a7edad"
      },
      "outputs": [
        {
          "output_type": "stream",
          "name": "stdout",
          "text": [
            "non-poisoned:  0\n",
            "non-poisoned:  1\n",
            "non-poisoned:  2\n",
            "non-poisoned:  3\n",
            "non-poisoned:  4\n"
          ]
        }
      ],
      "source": [
        "#experimenting \n",
        "\n",
        "users = 5\n",
        "\n",
        "\n",
        "\n",
        "batch_size = 100\n",
        "\n",
        "train_loaders2 = [] \n",
        "\n",
        "train_trainset2=[]\n",
        "\n",
        "train_loaders1 = []\n",
        "\n",
        "train_trainset1 = []\n",
        "\n",
        "\n",
        "for i in range(users):\n",
        "  start= indices_per_client*i\n",
        "  end= indices_per_client * (i+1)\n",
        "  \n",
        "  #print((train_indices[start:end]))\n",
        "\n",
        "\n",
        "  train_trainset1.append(list(train_indices[start:end]))\n",
        "\n",
        "  train_trainset2.append(list(train_indices[start:end]))\n",
        "\n",
        "  #print(len(train_dataset))\n",
        "\n",
        "  train_sampler = SubsetRandomSampler(train_indices[start : end])\n",
        "  # train_loaders= DataLoader(dataset, batch_size, sampler= train_sampler) \n",
        "\n",
        "  #####*********************************************************************################\n",
        "  ##### IMPORTANT : HERE BELOW CHANGE IF CONDITION TO SELECT NO OF POISONED CLIETNS ########\n",
        "  #####*********************************************************************################\n",
        "\n",
        "  if i < 0 :\n",
        "    print(\"poisoned: \", i)\n",
        "    train_loaders1.append(DataLoader(trainset1, batch_size=batch_size,sampler=train_sampler)) # client training on poisoned data\n",
        "  else:\n",
        "    train_loaders1.append(DataLoader(trainset2, batch_size=batch_size,sampler=train_sampler)) # rest training on normal data\n",
        "    print(\"non-poisoned: \", i)\n",
        "\n",
        "\n",
        "\n",
        "  train_loaders2.append(DataLoader(trainset2, batch_size=batch_size,sampler=train_sampler))\n",
        "\n",
        "  \n",
        "\n",
        "\n",
        "\n",
        "\n",
        "\n",
        "val_sampler = SubsetRandomSampler(val_indices)\n",
        "\n",
        "\n",
        "\n",
        "test_loader = DataLoader(testset, batch_size=batch_size, sampler=val_sampler) \n",
        "# \n",
        "\n"
      ]
    },
    {
      "cell_type": "code",
      "execution_count": 30,
      "metadata": {
        "colab": {
          "base_uri": "https://localhost:8080/"
        },
        "id": "Gexlk40il7Qk",
        "outputId": "5cf7b02a-eeb8-41b8-db95-066557706314"
      },
      "outputs": [
        {
          "output_type": "stream",
          "name": "stdout",
          "text": [
            "5\n"
          ]
        }
      ],
      "source": [
        "print(len(train_trainset1))"
      ]
    },
    {
      "cell_type": "code",
      "execution_count": 31,
      "metadata": {
        "colab": {
          "base_uri": "https://localhost:8080/"
        },
        "id": "wtJqBFBJl7OA",
        "outputId": "4c69d8fd-7c90-42de-dd71-99a9fdb8e668"
      },
      "outputs": [
        {
          "output_type": "execute_result",
          "data": {
            "text/plain": [
              "5"
            ]
          },
          "metadata": {},
          "execution_count": 31
        }
      ],
      "source": [
        "len(train_loaders1)"
      ]
    },
    {
      "cell_type": "code",
      "execution_count": 31,
      "metadata": {
        "id": "gGg3xVFDl7Lq"
      },
      "outputs": [],
      "source": []
    },
    {
      "cell_type": "code",
      "execution_count": 31,
      "metadata": {
        "id": "rgjmMnqHl7KL"
      },
      "outputs": [],
      "source": []
    },
    {
      "cell_type": "code",
      "execution_count": 31,
      "metadata": {
        "id": "UmlPb3j5l7Jb"
      },
      "outputs": [],
      "source": []
    },
    {
      "cell_type": "code",
      "execution_count": 32,
      "metadata": {
        "id": "RKEVMsEKkv-4"
      },
      "outputs": [],
      "source": [
        "from torch.autograd import Variable\n",
        "import torch.nn.init as init\n",
        "\n",
        "def _weights_init(m):\n",
        "    classname = m.__class__.__name__\n",
        "    #print(classname)\n",
        "    if isinstance(m, nn.Linear) or isinstance(m, nn.Conv2d):\n",
        "        init.kaiming_normal_(m.weight)\n",
        "\n",
        "class LambdaLayer(nn.Module):\n",
        "    def __init__(self, lambd):\n",
        "        super(LambdaLayer, self).__init__()\n",
        "        self.lambd = lambd\n",
        "\n",
        "    def forward(self, x):\n",
        "        return self.lambd(x)\n",
        "\n",
        "\n",
        "class BasicBlock(nn.Module):\n",
        "    expansion = 1\n",
        "\n",
        "    def __init__(self, in_planes, planes, stride=1, option='A'):\n",
        "        super(BasicBlock, self).__init__()\n",
        "        self.conv1 = nn.Conv2d(in_planes, planes, kernel_size=3, stride=stride, padding=1, bias=False)\n",
        "        self.bn1 = nn.BatchNorm2d(planes)\n",
        "        self.conv2 = nn.Conv2d(planes, planes, kernel_size=3, stride=1, padding=1, bias=False)\n",
        "        self.bn2 = nn.BatchNorm2d(planes)\n",
        "\n",
        "        self.shortcut = nn.Sequential()\n",
        "        if stride != 1 or in_planes != planes:\n",
        "            if option == 'A':\n",
        "                \"\"\"\n",
        "                For CIFAR10 ResNet paper uses option A.\n",
        "                \"\"\"\n",
        "                self.shortcut = LambdaLayer(lambda x:\n",
        "                                            F.pad(x[:, :, ::2, ::2], (0, 0, 0, 0, planes//4, planes//4), \"constant\", 0))\n",
        "            elif option == 'B':\n",
        "                self.shortcut = nn.Sequential(\n",
        "                     nn.Conv2d(in_planes, self.expansion * planes, kernel_size=1, stride=stride, bias=False),\n",
        "                     nn.BatchNorm2d(self.expansion * planes)\n",
        "                )\n",
        "\n",
        "    def forward(self, x):\n",
        "        out = F.relu(self.bn1(self.conv1(x)))\n",
        "        out = self.bn2(self.conv2(out))\n",
        "        out += self.shortcut(x)\n",
        "        out = F.relu(out)\n",
        "        return out\n",
        "\n",
        "\n",
        "class ResNet(nn.Module):\n",
        "    def __init__(self, block, num_blocks, num_classes=10):\n",
        "        super(ResNet, self).__init__()\n",
        "        self.in_planes = 16\n",
        "\n",
        "        self.conv1 = nn.Conv2d(3, 16, kernel_size=3, stride=1, padding=1, bias=False)\n",
        "        self.bn1 = nn.BatchNorm2d(16)\n",
        "        self.layer1 = self._make_layer(block, 16, num_blocks[0], stride=1)\n",
        "        self.layer2 = self._make_layer(block, 32, num_blocks[1], stride=2)\n",
        "        self.layer3 = self._make_layer(block, 64, num_blocks[2], stride=2)\n",
        "        self.linear = nn.Linear(64, num_classes)\n",
        "\n",
        "        self.apply(_weights_init)\n",
        "\n",
        "    def _make_layer(self, block, planes, num_blocks, stride):\n",
        "        strides = [stride] + [1]*(num_blocks-1)\n",
        "        layers = []\n",
        "        for stride in strides:\n",
        "            layers.append(block(self.in_planes, planes, stride))\n",
        "            self.in_planes = planes * block.expansion\n",
        "\n",
        "        return nn.Sequential(*layers)\n",
        "\n",
        "    def forward(self, x):\n",
        "        out = F.relu(self.bn1(self.conv1(x)))\n",
        "        out = self.layer1(out)\n",
        "        out = self.layer2(out)\n",
        "        out = self.layer3(out)\n",
        "        out = F.avg_pool2d(out, out.size()[3])\n",
        "        out = out.view(out.size(0), -1)\n",
        "        out = self.linear(out)\n",
        "        return out\n",
        "\n",
        "\n",
        "def resnet20():\n",
        "    return ResNet(BasicBlock, [3, 3, 3])"
      ]
    },
    {
      "cell_type": "code",
      "execution_count": 33,
      "metadata": {
        "colab": {
          "base_uri": "https://localhost:8080/"
        },
        "id": "0qan7gDdqlWV",
        "outputId": "04d983fc-44b4-4435-8e5f-d0adfadeccad"
      },
      "outputs": [
        {
          "output_type": "execute_result",
          "data": {
            "text/plain": [
              "ResNet(\n",
              "  (conv1): Conv2d(3, 16, kernel_size=(3, 3), stride=(1, 1), padding=(1, 1), bias=False)\n",
              "  (bn1): BatchNorm2d(16, eps=1e-05, momentum=0.1, affine=True, track_running_stats=True)\n",
              "  (layer1): Sequential(\n",
              "    (0): BasicBlock(\n",
              "      (conv1): Conv2d(16, 16, kernel_size=(3, 3), stride=(1, 1), padding=(1, 1), bias=False)\n",
              "      (bn1): BatchNorm2d(16, eps=1e-05, momentum=0.1, affine=True, track_running_stats=True)\n",
              "      (conv2): Conv2d(16, 16, kernel_size=(3, 3), stride=(1, 1), padding=(1, 1), bias=False)\n",
              "      (bn2): BatchNorm2d(16, eps=1e-05, momentum=0.1, affine=True, track_running_stats=True)\n",
              "      (shortcut): Sequential()\n",
              "    )\n",
              "    (1): BasicBlock(\n",
              "      (conv1): Conv2d(16, 16, kernel_size=(3, 3), stride=(1, 1), padding=(1, 1), bias=False)\n",
              "      (bn1): BatchNorm2d(16, eps=1e-05, momentum=0.1, affine=True, track_running_stats=True)\n",
              "      (conv2): Conv2d(16, 16, kernel_size=(3, 3), stride=(1, 1), padding=(1, 1), bias=False)\n",
              "      (bn2): BatchNorm2d(16, eps=1e-05, momentum=0.1, affine=True, track_running_stats=True)\n",
              "      (shortcut): Sequential()\n",
              "    )\n",
              "    (2): BasicBlock(\n",
              "      (conv1): Conv2d(16, 16, kernel_size=(3, 3), stride=(1, 1), padding=(1, 1), bias=False)\n",
              "      (bn1): BatchNorm2d(16, eps=1e-05, momentum=0.1, affine=True, track_running_stats=True)\n",
              "      (conv2): Conv2d(16, 16, kernel_size=(3, 3), stride=(1, 1), padding=(1, 1), bias=False)\n",
              "      (bn2): BatchNorm2d(16, eps=1e-05, momentum=0.1, affine=True, track_running_stats=True)\n",
              "      (shortcut): Sequential()\n",
              "    )\n",
              "  )\n",
              "  (layer2): Sequential(\n",
              "    (0): BasicBlock(\n",
              "      (conv1): Conv2d(16, 32, kernel_size=(3, 3), stride=(2, 2), padding=(1, 1), bias=False)\n",
              "      (bn1): BatchNorm2d(32, eps=1e-05, momentum=0.1, affine=True, track_running_stats=True)\n",
              "      (conv2): Conv2d(32, 32, kernel_size=(3, 3), stride=(1, 1), padding=(1, 1), bias=False)\n",
              "      (bn2): BatchNorm2d(32, eps=1e-05, momentum=0.1, affine=True, track_running_stats=True)\n",
              "      (shortcut): LambdaLayer()\n",
              "    )\n",
              "    (1): BasicBlock(\n",
              "      (conv1): Conv2d(32, 32, kernel_size=(3, 3), stride=(1, 1), padding=(1, 1), bias=False)\n",
              "      (bn1): BatchNorm2d(32, eps=1e-05, momentum=0.1, affine=True, track_running_stats=True)\n",
              "      (conv2): Conv2d(32, 32, kernel_size=(3, 3), stride=(1, 1), padding=(1, 1), bias=False)\n",
              "      (bn2): BatchNorm2d(32, eps=1e-05, momentum=0.1, affine=True, track_running_stats=True)\n",
              "      (shortcut): Sequential()\n",
              "    )\n",
              "    (2): BasicBlock(\n",
              "      (conv1): Conv2d(32, 32, kernel_size=(3, 3), stride=(1, 1), padding=(1, 1), bias=False)\n",
              "      (bn1): BatchNorm2d(32, eps=1e-05, momentum=0.1, affine=True, track_running_stats=True)\n",
              "      (conv2): Conv2d(32, 32, kernel_size=(3, 3), stride=(1, 1), padding=(1, 1), bias=False)\n",
              "      (bn2): BatchNorm2d(32, eps=1e-05, momentum=0.1, affine=True, track_running_stats=True)\n",
              "      (shortcut): Sequential()\n",
              "    )\n",
              "  )\n",
              "  (layer3): Sequential(\n",
              "    (0): BasicBlock(\n",
              "      (conv1): Conv2d(32, 64, kernel_size=(3, 3), stride=(2, 2), padding=(1, 1), bias=False)\n",
              "      (bn1): BatchNorm2d(64, eps=1e-05, momentum=0.1, affine=True, track_running_stats=True)\n",
              "      (conv2): Conv2d(64, 64, kernel_size=(3, 3), stride=(1, 1), padding=(1, 1), bias=False)\n",
              "      (bn2): BatchNorm2d(64, eps=1e-05, momentum=0.1, affine=True, track_running_stats=True)\n",
              "      (shortcut): LambdaLayer()\n",
              "    )\n",
              "    (1): BasicBlock(\n",
              "      (conv1): Conv2d(64, 64, kernel_size=(3, 3), stride=(1, 1), padding=(1, 1), bias=False)\n",
              "      (bn1): BatchNorm2d(64, eps=1e-05, momentum=0.1, affine=True, track_running_stats=True)\n",
              "      (conv2): Conv2d(64, 64, kernel_size=(3, 3), stride=(1, 1), padding=(1, 1), bias=False)\n",
              "      (bn2): BatchNorm2d(64, eps=1e-05, momentum=0.1, affine=True, track_running_stats=True)\n",
              "      (shortcut): Sequential()\n",
              "    )\n",
              "    (2): BasicBlock(\n",
              "      (conv1): Conv2d(64, 64, kernel_size=(3, 3), stride=(1, 1), padding=(1, 1), bias=False)\n",
              "      (bn1): BatchNorm2d(64, eps=1e-05, momentum=0.1, affine=True, track_running_stats=True)\n",
              "      (conv2): Conv2d(64, 64, kernel_size=(3, 3), stride=(1, 1), padding=(1, 1), bias=False)\n",
              "      (bn2): BatchNorm2d(64, eps=1e-05, momentum=0.1, affine=True, track_running_stats=True)\n",
              "      (shortcut): Sequential()\n",
              "    )\n",
              "  )\n",
              "  (linear): Linear(in_features=64, out_features=10, bias=True)\n",
              ")"
            ]
          },
          "metadata": {},
          "execution_count": 33
        }
      ],
      "source": [
        "net_glob = resnet20()\n",
        "net_glob.to(device)\n"
      ]
    },
    {
      "cell_type": "code",
      "execution_count": 33,
      "metadata": {
        "id": "fUQs4_a_qn66"
      },
      "outputs": [],
      "source": []
    },
    {
      "cell_type": "code",
      "execution_count": 34,
      "metadata": {
        "id": "9rnGfTJocu7Y"
      },
      "outputs": [],
      "source": [
        "\n",
        "lr = 0.001\n",
        "criterion = nn.CrossEntropyLoss()\n",
        "optimizer = optim.SGD(net_glob.parameters(), lr=lr, momentum=0.9)\n"
      ]
    },
    {
      "cell_type": "code",
      "execution_count": 35,
      "metadata": {
        "id": "wiH3wAs7cu4z"
      },
      "outputs": [],
      "source": [
        "local_epochs = 1"
      ]
    },
    {
      "cell_type": "code",
      "execution_count": 36,
      "metadata": {
        "id": "zS4f6NvLjjl-"
      },
      "outputs": [],
      "source": [
        "def FedAvg(w):\n",
        "    w_avg = copy.deepcopy(w[0])\n",
        "    for k in w_avg.keys():\n",
        "        for i in range(1, len(w)):\n",
        "            w_avg[k] += w[i][k]\n",
        "        w_avg[k] = torch.div(w_avg[k], len(w))\n",
        "    return w_avg"
      ]
    },
    {
      "cell_type": "code",
      "execution_count": 37,
      "metadata": {
        "id": "rv6j7pHFjjhF"
      },
      "outputs": [],
      "source": [
        "num_users = 5\n",
        "\n",
        "frac = 1 # this tells the percentage of clients chosen for each global round. 1=100%(all the clinets are chosen),0.5(only half the clients are chosen)"
      ]
    },
    {
      "cell_type": "code",
      "execution_count": 38,
      "metadata": {
        "id": "V4VieLBQWVxH"
      },
      "outputs": [],
      "source": [
        "# FGSM attack code\n",
        "def fgsm_attack(image, epsilon, data_grad):\n",
        "    # Collect the element-wise sign of the data gradient\n",
        "    sign_data_grad = data_grad.sign()\n",
        "    # Create the perturbed image by adjusting each pixel of the input image\n",
        "    perturbed_image = image + epsilon*sign_data_grad\n",
        "    # Adding clipping to maintain [0,1] range\n",
        "    perturbed_image = torch.clamp(perturbed_image, 0, 1)\n",
        "    # Return the perturbed image\n",
        "    return perturbed_image"
      ]
    },
    {
      "cell_type": "code",
      "execution_count": 39,
      "metadata": {
        "id": "qk0aVR2IWVxH"
      },
      "outputs": [],
      "source": [
        "# def fgsm_attack(model, loss, images, labels, eps) :\n",
        "    \n",
        "#     images = images.to(device)\n",
        "#     labels = labels.to(device)\n",
        "#     images.requires_grad = True\n",
        "           \n",
        "#     outputs = model(images)\n",
        "    \n",
        "#     model.zero_grad()\n",
        "#     cost = criterion(outputs, labels)\n",
        "#     cost.backward()\n",
        "    \n",
        "#     attack_images = images + eps*images.grad.sign()\n",
        "#     attack_images = torch.clamp(attack_images, 0, 1)\n",
        "    \n",
        "#     return attack_images\n",
        "def test(net, test_loader, criterion, device, epsilon):\n",
        "    net.eval()  # set the model to evaluation mode\n",
        "    test_loss = 0.0\n",
        "    correct = 0\n",
        "    total = 0\n",
        "\n",
        "    for data, target in test_loader:\n",
        "        data, target = data.to(device), target.to(device)\n",
        "\n",
        "        # Generate adversarial examples using FGSM\n",
        "        data.requires_grad = True\n",
        "        output = net(data)\n",
        "        loss = criterion(output, target)\n",
        "        net.zero_grad()\n",
        "        loss.backward()\n",
        "        data_grad = data.grad.data\n",
        "        perturbed_data = fgsm_attack(data, epsilon, data_grad)\n",
        "        with torch.no_grad():\n",
        "            output = net(perturbed_data)\n",
        "\n",
        "        # Compute loss and accuracy\n",
        "        test_loss += criterion(output, target).item()\n",
        "        _, predicted = torch.max(output.data, 1)\n",
        "        total += target.size(0)\n",
        "        correct += (predicted == target).sum().item()\n",
        "\n",
        "    test_loss /= len(test_loader)\n",
        "    accuracy = 100.0 * correct / total\n",
        "\n",
        "    print(\"Test set: Average loss: {:.4f}, Accuracy: {}/{} ({:.2f}%)\".format(\n",
        "        test_loss, correct, total, accuracy))"
      ]
    },
    {
      "cell_type": "code",
      "execution_count": 39,
      "metadata": {
        "id": "aWJl4zMHWVxH"
      },
      "outputs": [],
      "source": []
    },
    {
      "cell_type": "code",
      "execution_count": 40,
      "metadata": {
        "colab": {
          "base_uri": "https://localhost:8080/"
        },
        "id": "fw9zPnxMjjfB",
        "outputId": "1dcc44ab-1f4b-4162-fca4-0b9e80af1917"
      },
      "outputs": [
        {
          "output_type": "stream",
          "name": "stderr",
          "text": [
            "Round1: User3_1: 100%|████████████████████████████████████████████| 100/100 [00:18<00:00,  5.37it/s]\n",
            "Round1: User0_1: 100%|████████████████████████████████████████████| 100/100 [00:05<00:00, 18.07it/s]\n",
            "Round1: User2_1: 100%|████████████████████████████████████████████| 100/100 [00:04<00:00, 20.28it/s]\n",
            "Round1: User4_1: 100%|████████████████████████████████████████████| 100/100 [00:04<00:00, 24.50it/s]\n",
            "Round1: User1_1: 100%|████████████████████████████████████████████| 100/100 [00:04<00:00, 23.41it/s]\n"
          ]
        },
        {
          "output_type": "stream",
          "name": "stdout",
          "text": [
            "client:3 train_acc: 26.63%, train_loss: 39.5732\n",
            "client:0 train_acc: 26.28%, train_loss: 79.1626\n",
            "client:2 train_acc: 26.23%, train_loss: 118.9038\n",
            "client:4 train_acc: 26.32%, train_loss: 158.4064\n",
            "client:1 train_acc: 26.53%, train_loss: 197.9316\n",
            "Test set: Average loss: 2.6455, Accuracy: 523/10000 (5.23%)\n"
          ]
        },
        {
          "output_type": "stream",
          "name": "stderr",
          "text": [
            "Round2: User0_1: 100%|████████████████████████████████████████████| 100/100 [00:04<00:00, 21.11it/s]\n",
            "Round2: User4_1: 100%|████████████████████████████████████████████| 100/100 [00:04<00:00, 24.56it/s]\n",
            "Round2: User3_1: 100%|████████████████████████████████████████████| 100/100 [00:04<00:00, 24.85it/s]\n",
            "Round2: User1_1: 100%|████████████████████████████████████████████| 100/100 [00:05<00:00, 19.50it/s]\n",
            "Round2: User2_1: 100%|████████████████████████████████████████████| 100/100 [00:04<00:00, 20.97it/s]\n"
          ]
        },
        {
          "output_type": "stream",
          "name": "stdout",
          "text": [
            "client:0 train_acc: 33.16%, train_loss: 35.7797\n",
            "client:4 train_acc: 32.82%, train_loss: 71.6887\n",
            "client:3 train_acc: 32.93%, train_loss: 107.6156\n",
            "client:1 train_acc: 32.93%, train_loss: 143.6077\n",
            "client:2 train_acc: 32.74%, train_loss: 179.8830\n",
            "Test set: Average loss: 2.7138, Accuracy: 511/10000 (5.11%)\n"
          ]
        },
        {
          "output_type": "stream",
          "name": "stderr",
          "text": [
            "Round3: User4_1: 100%|████████████████████████████████████████████| 100/100 [00:04<00:00, 24.93it/s]\n",
            "Round3: User3_1: 100%|████████████████████████████████████████████| 100/100 [00:04<00:00, 21.31it/s]\n",
            "Round3: User0_1: 100%|████████████████████████████████████████████| 100/100 [00:04<00:00, 24.81it/s]\n",
            "Round3: User1_1: 100%|████████████████████████████████████████████| 100/100 [00:04<00:00, 23.40it/s]\n",
            "Round3: User2_1: 100%|████████████████████████████████████████████| 100/100 [00:04<00:00, 22.04it/s]\n"
          ]
        },
        {
          "output_type": "stream",
          "name": "stdout",
          "text": [
            "client:4 train_acc: 37.22%, train_loss: 33.7337\n",
            "client:3 train_acc: 37.34%, train_loss: 67.4942\n",
            "client:0 train_acc: 37.30%, train_loss: 101.1042\n",
            "client:1 train_acc: 37.26%, train_loss: 134.8652\n",
            "client:2 train_acc: 37.22%, train_loss: 168.9713\n",
            "Test set: Average loss: 2.8210, Accuracy: 652/10000 (6.52%)\n"
          ]
        },
        {
          "output_type": "stream",
          "name": "stderr",
          "text": [
            "Round4: User1_1: 100%|████████████████████████████████████████████| 100/100 [00:04<00:00, 24.87it/s]\n",
            "Round4: User3_1: 100%|████████████████████████████████████████████| 100/100 [00:03<00:00, 25.08it/s]\n",
            "Round4: User0_1: 100%|████████████████████████████████████████████| 100/100 [00:04<00:00, 21.12it/s]\n",
            "Round4: User2_1: 100%|████████████████████████████████████████████| 100/100 [00:04<00:00, 24.50it/s]\n",
            "Round4: User4_1: 100%|████████████████████████████████████████████| 100/100 [00:04<00:00, 23.57it/s]\n"
          ]
        },
        {
          "output_type": "stream",
          "name": "stdout",
          "text": [
            "client:1 train_acc: 39.76%, train_loss: 32.4265\n",
            "client:3 train_acc: 39.83%, train_loss: 64.8939\n",
            "client:0 train_acc: 39.74%, train_loss: 97.1940\n",
            "client:2 train_acc: 39.61%, train_loss: 129.9641\n",
            "client:4 train_acc: 39.67%, train_loss: 162.3538\n",
            "Test set: Average loss: 2.8754, Accuracy: 718/10000 (7.18%)\n"
          ]
        },
        {
          "output_type": "stream",
          "name": "stderr",
          "text": [
            "Round5: User1_1: 100%|████████████████████████████████████████████| 100/100 [00:04<00:00, 21.40it/s]\n",
            "Round5: User2_1: 100%|████████████████████████████████████████████| 100/100 [00:04<00:00, 24.88it/s]\n",
            "Round5: User0_1: 100%|████████████████████████████████████████████| 100/100 [00:03<00:00, 25.68it/s]\n",
            "Round5: User3_1: 100%|████████████████████████████████████████████| 100/100 [00:04<00:00, 21.28it/s]\n",
            "Round5: User4_1: 100%|████████████████████████████████████████████| 100/100 [00:04<00:00, 24.49it/s]\n"
          ]
        },
        {
          "output_type": "stream",
          "name": "stdout",
          "text": [
            "client:1 train_acc: 41.79%, train_loss: 31.4462\n",
            "client:2 train_acc: 41.39%, train_loss: 63.2620\n",
            "client:0 train_acc: 41.67%, train_loss: 94.5590\n",
            "client:3 train_acc: 41.54%, train_loss: 126.1244\n",
            "client:4 train_acc: 41.61%, train_loss: 157.5473\n",
            "Test set: Average loss: 2.9849, Accuracy: 772/10000 (7.72%)\n"
          ]
        },
        {
          "output_type": "stream",
          "name": "stderr",
          "text": [
            "Round6: User4_1: 100%|████████████████████████████████████████████| 100/100 [00:04<00:00, 24.97it/s]\n",
            "Round6: User3_1: 100%|████████████████████████████████████████████| 100/100 [00:04<00:00, 20.77it/s]\n",
            "Round6: User0_1: 100%|████████████████████████████████████████████| 100/100 [00:04<00:00, 24.85it/s]\n",
            "Round6: User2_1: 100%|████████████████████████████████████████████| 100/100 [00:04<00:00, 24.98it/s]\n",
            "Round6: User1_1: 100%|████████████████████████████████████████████| 100/100 [00:04<00:00, 21.31it/s]\n"
          ]
        },
        {
          "output_type": "stream",
          "name": "stdout",
          "text": [
            "client:4 train_acc: 44.00%, train_loss: 30.5128\n",
            "client:3 train_acc: 43.71%, train_loss: 61.1554\n",
            "client:0 train_acc: 43.84%, train_loss: 91.5810\n",
            "client:2 train_acc: 43.71%, train_loss: 122.4503\n",
            "client:1 train_acc: 43.78%, train_loss: 153.0188\n",
            "Test set: Average loss: 2.9854, Accuracy: 823/10000 (8.23%)\n"
          ]
        },
        {
          "output_type": "stream",
          "name": "stderr",
          "text": [
            "Round7: User1_1: 100%|████████████████████████████████████████████| 100/100 [00:04<00:00, 24.80it/s]\n",
            "Round7: User3_1: 100%|████████████████████████████████████████████| 100/100 [00:04<00:00, 24.87it/s]\n",
            "Round7: User4_1: 100%|████████████████████████████████████████████| 100/100 [00:04<00:00, 20.94it/s]\n",
            "Round7: User0_1: 100%|████████████████████████████████████████████| 100/100 [00:04<00:00, 24.51it/s]\n",
            "Round7: User2_1: 100%|████████████████████████████████████████████| 100/100 [00:04<00:00, 24.90it/s]\n"
          ]
        },
        {
          "output_type": "stream",
          "name": "stdout",
          "text": [
            "client:1 train_acc: 45.71%, train_loss: 29.7376\n",
            "client:3 train_acc: 45.19%, train_loss: 59.5521\n",
            "client:4 train_acc: 45.33%, train_loss: 89.2745\n",
            "client:0 train_acc: 45.34%, train_loss: 118.8976\n",
            "client:2 train_acc: 45.27%, train_loss: 148.9647\n",
            "Test set: Average loss: 3.0091, Accuracy: 841/10000 (8.41%)\n"
          ]
        },
        {
          "output_type": "stream",
          "name": "stderr",
          "text": [
            "Round8: User4_1: 100%|████████████████████████████████████████████| 100/100 [00:04<00:00, 22.09it/s]\n",
            "Round8: User0_1: 100%|████████████████████████████████████████████| 100/100 [00:04<00:00, 23.58it/s]\n",
            "Round8: User1_1: 100%|████████████████████████████████████████████| 100/100 [00:04<00:00, 24.76it/s]\n",
            "Round8: User2_1: 100%|████████████████████████████████████████████| 100/100 [00:04<00:00, 21.26it/s]\n",
            "Round8: User3_1: 100%|████████████████████████████████████████████| 100/100 [00:04<00:00, 24.28it/s]\n"
          ]
        },
        {
          "output_type": "stream",
          "name": "stdout",
          "text": [
            "client:4 train_acc: 46.22%, train_loss: 29.3246\n",
            "client:0 train_acc: 46.45%, train_loss: 58.5534\n",
            "client:1 train_acc: 46.27%, train_loss: 87.9285\n",
            "client:2 train_acc: 46.12%, train_loss: 117.5930\n",
            "client:3 train_acc: 45.95%, train_loss: 147.0623\n",
            "Test set: Average loss: 2.9629, Accuracy: 809/10000 (8.09%)\n"
          ]
        },
        {
          "output_type": "stream",
          "name": "stderr",
          "text": [
            "Round9: User1_1: 100%|████████████████████████████████████████████| 100/100 [00:04<00:00, 24.55it/s]\n",
            "Round9: User3_1: 100%|████████████████████████████████████████████| 100/100 [00:04<00:00, 22.59it/s]\n",
            "Round9: User4_1: 100%|████████████████████████████████████████████| 100/100 [00:04<00:00, 23.31it/s]\n",
            "Round9: User0_1: 100%|████████████████████████████████████████████| 100/100 [00:04<00:00, 24.72it/s]\n",
            "Round9: User2_1: 100%|████████████████████████████████████████████| 100/100 [00:04<00:00, 21.09it/s]\n"
          ]
        },
        {
          "output_type": "stream",
          "name": "stdout",
          "text": [
            "client:1 train_acc: 47.77%, train_loss: 28.6438\n",
            "client:3 train_acc: 47.35%, train_loss: 57.3481\n",
            "client:4 train_acc: 47.47%, train_loss: 85.9155\n",
            "client:0 train_acc: 47.62%, train_loss: 114.3298\n",
            "client:2 train_acc: 47.60%, train_loss: 143.2508\n",
            "Test set: Average loss: 3.0719, Accuracy: 810/10000 (8.10%)\n"
          ]
        },
        {
          "output_type": "stream",
          "name": "stderr",
          "text": [
            "Round10: User1_1: 100%|███████████████████████████████████████████| 100/100 [00:04<00:00, 21.41it/s]\n",
            "Round10: User4_1: 100%|███████████████████████████████████████████| 100/100 [00:04<00:00, 24.56it/s]\n",
            "Round10: User0_1: 100%|███████████████████████████████████████████| 100/100 [00:04<00:00, 23.16it/s]\n",
            "Round10: User2_1: 100%|███████████████████████████████████████████| 100/100 [00:04<00:00, 23.20it/s]\n",
            "Round10: User3_1: 100%|███████████████████████████████████████████| 100/100 [00:03<00:00, 25.28it/s]\n"
          ]
        },
        {
          "output_type": "stream",
          "name": "stdout",
          "text": [
            "client:1 train_acc: 48.54%, train_loss: 28.2726\n",
            "client:4 train_acc: 48.46%, train_loss: 56.4881\n",
            "client:0 train_acc: 48.79%, train_loss: 84.5605\n",
            "client:2 train_acc: 48.64%, train_loss: 113.0584\n",
            "client:3 train_acc: 48.41%, train_loss: 141.4051\n",
            "Test set: Average loss: 3.0458, Accuracy: 849/10000 (8.49%)\n"
          ]
        },
        {
          "output_type": "stream",
          "name": "stderr",
          "text": [
            "Round11: User0_1: 100%|███████████████████████████████████████████| 100/100 [00:04<00:00, 24.02it/s]\n",
            "Round11: User4_1: 100%|███████████████████████████████████████████| 100/100 [00:04<00:00, 21.32it/s]\n",
            "Round11: User2_1: 100%|███████████████████████████████████████████| 100/100 [00:04<00:00, 24.67it/s]\n",
            "Round11: User3_1: 100%|███████████████████████████████████████████| 100/100 [00:04<00:00, 24.12it/s]\n",
            "Round11: User1_1: 100%|███████████████████████████████████████████| 100/100 [00:04<00:00, 22.24it/s]\n"
          ]
        },
        {
          "output_type": "stream",
          "name": "stdout",
          "text": [
            "client:0 train_acc: 50.48%, train_loss: 27.4307\n",
            "client:4 train_acc: 49.98%, train_loss: 55.0745\n",
            "client:2 train_acc: 49.60%, train_loss: 83.0527\n",
            "client:3 train_acc: 49.44%, train_loss: 110.8156\n",
            "client:1 train_acc: 49.44%, train_loss: 138.5462\n",
            "Test set: Average loss: 3.0716, Accuracy: 839/10000 (8.39%)\n"
          ]
        },
        {
          "output_type": "stream",
          "name": "stderr",
          "text": [
            "Round12: User1_1: 100%|███████████████████████████████████████████| 100/100 [00:04<00:00, 24.37it/s]\n",
            "Round12: User4_1: 100%|███████████████████████████████████████████| 100/100 [00:04<00:00, 23.81it/s]\n",
            "Round12: User2_1: 100%|███████████████████████████████████████████| 100/100 [00:04<00:00, 20.81it/s]\n",
            "Round12: User3_1: 100%|███████████████████████████████████████████| 100/100 [00:04<00:00, 24.85it/s]\n",
            "Round12: User0_1: 100%|███████████████████████████████████████████| 100/100 [00:04<00:00, 24.36it/s]\n"
          ]
        },
        {
          "output_type": "stream",
          "name": "stdout",
          "text": [
            "client:1 train_acc: 50.17%, train_loss: 27.3618\n",
            "client:4 train_acc: 50.16%, train_loss: 54.7154\n",
            "client:2 train_acc: 50.00%, train_loss: 82.3628\n",
            "client:3 train_acc: 49.85%, train_loss: 109.7949\n",
            "client:0 train_acc: 50.03%, train_loss: 136.9488\n",
            "Test set: Average loss: 3.0175, Accuracy: 873/10000 (8.73%)\n"
          ]
        },
        {
          "output_type": "stream",
          "name": "stderr",
          "text": [
            "Round13: User4_1: 100%|███████████████████████████████████████████| 100/100 [00:04<00:00, 21.52it/s]\n",
            "Round13: User1_1: 100%|███████████████████████████████████████████| 100/100 [00:04<00:00, 24.89it/s]\n",
            "Round13: User0_1: 100%|███████████████████████████████████████████| 100/100 [00:03<00:00, 25.02it/s]\n",
            "Round13: User2_1: 100%|███████████████████████████████████████████| 100/100 [00:04<00:00, 20.61it/s]\n",
            "Round13: User3_1: 100%|███████████████████████████████████████████| 100/100 [00:04<00:00, 24.90it/s]\n"
          ]
        },
        {
          "output_type": "stream",
          "name": "stdout",
          "text": [
            "client:4 train_acc: 51.77%, train_loss: 26.6856\n",
            "client:1 train_acc: 51.52%, train_loss: 53.3794\n",
            "client:0 train_acc: 51.79%, train_loss: 79.7845\n",
            "client:2 train_acc: 51.60%, train_loss: 106.7789\n",
            "client:3 train_acc: 51.42%, train_loss: 133.4974\n",
            "Test set: Average loss: 3.2085, Accuracy: 803/10000 (8.03%)\n"
          ]
        },
        {
          "output_type": "stream",
          "name": "stderr",
          "text": [
            "Round14: User1_1: 100%|███████████████████████████████████████████| 100/100 [00:04<00:00, 23.79it/s]\n",
            "Round14: User2_1: 100%|███████████████████████████████████████████| 100/100 [00:04<00:00, 21.44it/s]\n",
            "Round14: User4_1: 100%|███████████████████████████████████████████| 100/100 [00:04<00:00, 24.62it/s]\n",
            "Round14: User3_1: 100%|███████████████████████████████████████████| 100/100 [00:04<00:00, 24.62it/s]\n",
            "Round14: User0_1: 100%|███████████████████████████████████████████| 100/100 [00:04<00:00, 21.01it/s]\n"
          ]
        },
        {
          "output_type": "stream",
          "name": "stdout",
          "text": [
            "client:1 train_acc: 52.17%, train_loss: 26.3237\n",
            "client:2 train_acc: 52.13%, train_loss: 52.9077\n",
            "client:4 train_acc: 52.33%, train_loss: 79.1522\n",
            "client:3 train_acc: 52.19%, train_loss: 105.4425\n",
            "client:0 train_acc: 52.38%, train_loss: 131.4455\n",
            "Test set: Average loss: 3.1464, Accuracy: 824/10000 (8.24%)\n"
          ]
        },
        {
          "output_type": "stream",
          "name": "stderr",
          "text": [
            "Round15: User0_1: 100%|███████████████████████████████████████████| 100/100 [00:04<00:00, 24.51it/s]\n",
            "Round15: User4_1: 100%|███████████████████████████████████████████| 100/100 [00:03<00:00, 25.72it/s]\n",
            "Round15: User2_1: 100%|███████████████████████████████████████████| 100/100 [00:04<00:00, 21.07it/s]\n",
            "Round15: User3_1: 100%|███████████████████████████████████████████| 100/100 [00:04<00:00, 24.87it/s]\n",
            "Round15: User1_1: 100%|███████████████████████████████████████████| 100/100 [00:04<00:00, 24.86it/s]\n"
          ]
        },
        {
          "output_type": "stream",
          "name": "stdout",
          "text": [
            "client:0 train_acc: 54.00%, train_loss: 25.7208\n",
            "client:4 train_acc: 53.39%, train_loss: 51.7409\n",
            "client:2 train_acc: 53.08%, train_loss: 78.0177\n",
            "client:3 train_acc: 52.79%, train_loss: 104.0563\n",
            "client:1 train_acc: 52.82%, train_loss: 130.1417\n",
            "Test set: Average loss: 3.2175, Accuracy: 870/10000 (8.70%)\n"
          ]
        },
        {
          "output_type": "stream",
          "name": "stderr",
          "text": [
            "Round16: User4_1: 100%|███████████████████████████████████████████| 100/100 [00:04<00:00, 23.06it/s]\n",
            "Round16: User1_1: 100%|███████████████████████████████████████████| 100/100 [00:04<00:00, 22.35it/s]\n",
            "Round16: User0_1: 100%|███████████████████████████████████████████| 100/100 [00:04<00:00, 24.52it/s]\n",
            "Round16: User3_1: 100%|███████████████████████████████████████████| 100/100 [00:04<00:00, 21.17it/s]\n",
            "Round16: User2_1: 100%|███████████████████████████████████████████| 100/100 [00:04<00:00, 24.59it/s]\n"
          ]
        },
        {
          "output_type": "stream",
          "name": "stdout",
          "text": [
            "client:4 train_acc: 53.89%, train_loss: 25.4927\n",
            "client:1 train_acc: 53.76%, train_loss: 51.0705\n",
            "client:0 train_acc: 54.16%, train_loss: 76.2979\n",
            "client:3 train_acc: 53.91%, train_loss: 101.8741\n",
            "client:2 train_acc: 53.76%, train_loss: 127.7252\n",
            "Test set: Average loss: 3.3125, Accuracy: 846/10000 (8.46%)\n"
          ]
        },
        {
          "output_type": "stream",
          "name": "stderr",
          "text": [
            "Round17: User0_1: 100%|███████████████████████████████████████████| 100/100 [00:03<00:00, 25.31it/s]\n",
            "Round17: User3_1: 100%|███████████████████████████████████████████| 100/100 [00:04<00:00, 23.36it/s]\n",
            "Round17: User1_1: 100%|███████████████████████████████████████████| 100/100 [00:04<00:00, 22.77it/s]\n",
            "Round17: User4_1: 100%|███████████████████████████████████████████| 100/100 [00:03<00:00, 25.29it/s]\n",
            "Round17: User2_1: 100%|███████████████████████████████████████████| 100/100 [00:04<00:00, 23.05it/s]\n"
          ]
        },
        {
          "output_type": "stream",
          "name": "stdout",
          "text": [
            "client:0 train_acc: 55.65%, train_loss: 24.8160\n",
            "client:3 train_acc: 54.97%, train_loss: 49.9610\n",
            "client:1 train_acc: 54.89%, train_loss: 75.2185\n",
            "client:4 train_acc: 54.82%, train_loss: 100.3615\n",
            "client:2 train_acc: 54.73%, train_loss: 125.7786\n",
            "Test set: Average loss: 3.1941, Accuracy: 823/10000 (8.23%)\n"
          ]
        },
        {
          "output_type": "stream",
          "name": "stderr",
          "text": [
            "Round18: User0_1: 100%|███████████████████████████████████████████| 100/100 [00:04<00:00, 21.58it/s]\n",
            "Round18: User2_1: 100%|███████████████████████████████████████████| 100/100 [00:04<00:00, 24.97it/s]\n",
            "Round18: User1_1: 100%|███████████████████████████████████████████| 100/100 [00:04<00:00, 24.04it/s]\n",
            "Round18: User3_1: 100%|███████████████████████████████████████████| 100/100 [00:04<00:00, 21.51it/s]\n",
            "Round18: User4_1: 100%|███████████████████████████████████████████| 100/100 [00:04<00:00, 24.76it/s]\n"
          ]
        },
        {
          "output_type": "stream",
          "name": "stdout",
          "text": [
            "client:0 train_acc: 56.14%, train_loss: 24.6179\n",
            "client:2 train_acc: 55.34%, train_loss: 49.8523\n",
            "client:1 train_acc: 55.28%, train_loss: 74.8795\n",
            "client:3 train_acc: 55.12%, train_loss: 99.8197\n",
            "client:4 train_acc: 55.20%, train_loss: 124.7405\n",
            "Test set: Average loss: 3.1648, Accuracy: 804/10000 (8.04%)\n"
          ]
        },
        {
          "output_type": "stream",
          "name": "stderr",
          "text": [
            "Round19: User2_1: 100%|███████████████████████████████████████████| 100/100 [00:04<00:00, 24.08it/s]\n",
            "Round19: User3_1: 100%|███████████████████████████████████████████| 100/100 [00:04<00:00, 21.46it/s]\n",
            "Round19: User4_1: 100%|███████████████████████████████████████████| 100/100 [00:03<00:00, 25.29it/s]\n",
            "Round19: User1_1: 100%|███████████████████████████████████████████| 100/100 [00:03<00:00, 25.29it/s]\n",
            "Round19: User0_1: 100%|███████████████████████████████████████████| 100/100 [00:04<00:00, 20.96it/s]\n"
          ]
        },
        {
          "output_type": "stream",
          "name": "stdout",
          "text": [
            "client:2 train_acc: 55.61%, train_loss: 24.7510\n",
            "client:3 train_acc: 55.54%, train_loss: 49.2464\n",
            "client:4 train_acc: 55.56%, train_loss: 73.7773\n",
            "client:1 train_acc: 55.63%, train_loss: 98.3584\n",
            "client:0 train_acc: 55.84%, train_loss: 122.5260\n",
            "Test set: Average loss: 3.2268, Accuracy: 822/10000 (8.22%)\n"
          ]
        },
        {
          "output_type": "stream",
          "name": "stderr",
          "text": [
            "Round20: User0_1: 100%|███████████████████████████████████████████| 100/100 [00:03<00:00, 25.25it/s]\n",
            "Round20: User4_1: 100%|███████████████████████████████████████████| 100/100 [00:03<00:00, 25.14it/s]\n",
            "Round20: User1_1: 100%|███████████████████████████████████████████| 100/100 [00:04<00:00, 21.75it/s]\n",
            "Round20: User3_1: 100%|███████████████████████████████████████████| 100/100 [00:04<00:00, 24.63it/s]\n",
            "Round20: User2_1: 100%|███████████████████████████████████████████| 100/100 [00:04<00:00, 24.94it/s]\n"
          ]
        },
        {
          "output_type": "stream",
          "name": "stdout",
          "text": [
            "client:0 train_acc: 57.33%, train_loss: 23.8419\n",
            "client:4 train_acc: 56.85%, train_loss: 47.9524\n",
            "client:1 train_acc: 56.75%, train_loss: 72.2095\n",
            "client:3 train_acc: 56.57%, train_loss: 96.3922\n",
            "client:2 train_acc: 56.42%, train_loss: 120.8512\n",
            "Test set: Average loss: 3.1967, Accuracy: 826/10000 (8.26%)\n"
          ]
        },
        {
          "output_type": "stream",
          "name": "stderr",
          "text": [
            "Round21: User1_1: 100%|███████████████████████████████████████████| 100/100 [00:04<00:00, 23.84it/s]\n",
            "Round21: User2_1: 100%|███████████████████████████████████████████| 100/100 [00:04<00:00, 22.96it/s]\n",
            "Round21: User0_1: 100%|███████████████████████████████████████████| 100/100 [00:03<00:00, 25.30it/s]\n",
            "Round21: User3_1: 100%|███████████████████████████████████████████| 100/100 [00:04<00:00, 22.24it/s]\n",
            "Round21: User4_1: 100%|███████████████████████████████████████████| 100/100 [00:04<00:00, 24.05it/s]\n"
          ]
        },
        {
          "output_type": "stream",
          "name": "stdout",
          "text": [
            "client:1 train_acc: 56.96%, train_loss: 24.1717\n",
            "client:2 train_acc: 56.53%, train_loss: 48.5266\n",
            "client:0 train_acc: 56.83%, train_loss: 72.2723\n",
            "client:3 train_acc: 56.70%, train_loss: 96.3649\n",
            "client:4 train_acc: 56.70%, train_loss: 120.4420\n",
            "Test set: Average loss: 3.1115, Accuracy: 840/10000 (8.40%)\n"
          ]
        },
        {
          "output_type": "stream",
          "name": "stderr",
          "text": [
            "Round22: User2_1: 100%|███████████████████████████████████████████| 100/100 [00:04<00:00, 24.67it/s]\n",
            "Round22: User0_1: 100%|███████████████████████████████████████████| 100/100 [00:03<00:00, 25.42it/s]\n",
            "Round22: User1_1: 100%|███████████████████████████████████████████| 100/100 [00:04<00:00, 21.59it/s]\n",
            "Round22: User3_1: 100%|███████████████████████████████████████████| 100/100 [00:03<00:00, 25.20it/s]\n",
            "Round22: User4_1: 100%|███████████████████████████████████████████| 100/100 [00:03<00:00, 25.08it/s]\n"
          ]
        },
        {
          "output_type": "stream",
          "name": "stdout",
          "text": [
            "client:2 train_acc: 57.54%, train_loss: 23.7148\n",
            "client:0 train_acc: 58.32%, train_loss: 46.7117\n",
            "client:1 train_acc: 58.22%, train_loss: 70.2245\n",
            "client:3 train_acc: 58.07%, train_loss: 93.6400\n",
            "client:4 train_acc: 58.04%, train_loss: 117.0493\n",
            "Test set: Average loss: 3.3143, Accuracy: 868/10000 (8.68%)\n"
          ]
        },
        {
          "output_type": "stream",
          "name": "stderr",
          "text": [
            "Round23: User3_1: 100%|███████████████████████████████████████████| 100/100 [00:04<00:00, 21.79it/s]\n",
            "Round23: User0_1: 100%|███████████████████████████████████████████| 100/100 [00:04<00:00, 24.85it/s]\n",
            "Round23: User1_1: 100%|███████████████████████████████████████████| 100/100 [00:04<00:00, 24.68it/s]\n",
            "Round23: User4_1: 100%|███████████████████████████████████████████| 100/100 [00:04<00:00, 21.73it/s]\n",
            "Round23: User2_1: 100%|███████████████████████████████████████████| 100/100 [00:03<00:00, 25.04it/s]\n"
          ]
        },
        {
          "output_type": "stream",
          "name": "stdout",
          "text": [
            "client:3 train_acc: 57.83%, train_loss: 23.3699\n",
            "client:0 train_acc: 58.55%, train_loss: 46.2886\n",
            "client:1 train_acc: 58.44%, train_loss: 69.7139\n",
            "client:4 train_acc: 58.39%, train_loss: 93.0154\n",
            "client:2 train_acc: 58.33%, train_loss: 116.5888\n",
            "Test set: Average loss: 3.4105, Accuracy: 811/10000 (8.11%)\n"
          ]
        },
        {
          "output_type": "stream",
          "name": "stderr",
          "text": [
            "Round24: User4_1: 100%|███████████████████████████████████████████| 100/100 [00:04<00:00, 24.69it/s]\n",
            "Round24: User2_1: 100%|███████████████████████████████████████████| 100/100 [00:04<00:00, 22.21it/s]\n",
            "Round24: User3_1: 100%|███████████████████████████████████████████| 100/100 [00:04<00:00, 24.44it/s]\n",
            "Round24: User0_1: 100%|███████████████████████████████████████████| 100/100 [00:03<00:00, 25.42it/s]\n",
            "Round24: User1_1: 100%|███████████████████████████████████████████| 100/100 [00:04<00:00, 21.02it/s]\n"
          ]
        },
        {
          "output_type": "stream",
          "name": "stdout",
          "text": [
            "client:4 train_acc: 59.19%, train_loss: 22.9640\n",
            "client:2 train_acc: 59.03%, train_loss: 46.1878\n",
            "client:3 train_acc: 58.74%, train_loss: 69.1953\n",
            "client:0 train_acc: 59.04%, train_loss: 91.7778\n",
            "client:1 train_acc: 58.99%, train_loss: 114.8832\n",
            "Test set: Average loss: 3.4338, Accuracy: 781/10000 (7.81%)\n"
          ]
        },
        {
          "output_type": "stream",
          "name": "stderr",
          "text": [
            "Round25: User0_1: 100%|███████████████████████████████████████████| 100/100 [00:04<00:00, 21.80it/s]\n",
            "Round25: User4_1: 100%|███████████████████████████████████████████| 100/100 [00:04<00:00, 24.43it/s]\n",
            "Round25: User2_1: 100%|███████████████████████████████████████████| 100/100 [00:04<00:00, 23.28it/s]\n",
            "Round25: User3_1: 100%|███████████████████████████████████████████| 100/100 [00:04<00:00, 23.31it/s]\n",
            "Round25: User1_1: 100%|███████████████████████████████████████████| 100/100 [00:03<00:00, 25.15it/s]\n"
          ]
        },
        {
          "output_type": "stream",
          "name": "stdout",
          "text": [
            "client:0 train_acc: 60.42%, train_loss: 22.1783\n",
            "client:4 train_acc: 60.20%, train_loss: 44.7114\n",
            "client:2 train_acc: 59.82%, train_loss: 67.5634\n",
            "client:3 train_acc: 59.66%, train_loss: 90.1969\n",
            "client:1 train_acc: 59.64%, train_loss: 112.8201\n",
            "Test set: Average loss: 3.5438, Accuracy: 830/10000 (8.30%)\n"
          ]
        },
        {
          "output_type": "stream",
          "name": "stderr",
          "text": [
            "Round26: User0_1: 100%|███████████████████████████████████████████| 100/100 [00:04<00:00, 24.97it/s]\n",
            "Round26: User1_1: 100%|███████████████████████████████████████████| 100/100 [00:04<00:00, 21.41it/s]\n",
            "Round26: User3_1: 100%|███████████████████████████████████████████| 100/100 [00:04<00:00, 24.50it/s]\n",
            "Round26: User2_1: 100%|███████████████████████████████████████████| 100/100 [00:04<00:00, 24.08it/s]\n",
            "Round26: User4_1: 100%|███████████████████████████████████████████| 100/100 [00:04<00:00, 21.16it/s]\n"
          ]
        },
        {
          "output_type": "stream",
          "name": "stdout",
          "text": [
            "client:0 train_acc: 59.71%, train_loss: 22.3268\n",
            "client:1 train_acc: 59.30%, train_loss: 45.0981\n",
            "client:3 train_acc: 59.08%, train_loss: 67.8958\n",
            "client:2 train_acc: 58.97%, train_loss: 90.8903\n",
            "client:4 train_acc: 58.99%, train_loss: 113.6315\n",
            "Test set: Average loss: 3.5270, Accuracy: 843/10000 (8.43%)\n"
          ]
        },
        {
          "output_type": "stream",
          "name": "stderr",
          "text": [
            "Round27: User4_1: 100%|███████████████████████████████████████████| 100/100 [00:04<00:00, 24.19it/s]\n",
            "Round27: User1_1: 100%|███████████████████████████████████████████| 100/100 [00:03<00:00, 25.37it/s]\n",
            "Round27: User3_1: 100%|███████████████████████████████████████████| 100/100 [00:04<00:00, 21.70it/s]\n",
            "Round27: User2_1: 100%|███████████████████████████████████████████| 100/100 [00:03<00:00, 25.20it/s]\n",
            "Round27: User0_1: 100%|███████████████████████████████████████████| 100/100 [00:04<00:00, 24.48it/s]\n"
          ]
        },
        {
          "output_type": "stream",
          "name": "stdout",
          "text": [
            "client:4 train_acc: 60.74%, train_loss: 21.9538\n",
            "client:1 train_acc: 60.49%, train_loss: 44.0710\n",
            "client:3 train_acc: 60.40%, train_loss: 66.1616\n",
            "client:2 train_acc: 60.25%, train_loss: 88.5559\n",
            "client:0 train_acc: 60.44%, train_loss: 110.1771\n",
            "Test set: Average loss: 3.4332, Accuracy: 818/10000 (8.18%)\n"
          ]
        },
        {
          "output_type": "stream",
          "name": "stderr",
          "text": [
            "Round28: User2_1: 100%|███████████████████████████████████████████| 100/100 [00:04<00:00, 21.34it/s]\n",
            "Round28: User0_1: 100%|███████████████████████████████████████████| 100/100 [00:04<00:00, 24.57it/s]\n",
            "Round28: User3_1: 100%|███████████████████████████████████████████| 100/100 [00:04<00:00, 24.23it/s]\n",
            "Round28: User1_1: 100%|███████████████████████████████████████████| 100/100 [00:04<00:00, 20.94it/s]\n",
            "Round28: User4_1: 100%|███████████████████████████████████████████| 100/100 [00:04<00:00, 24.37it/s]\n"
          ]
        },
        {
          "output_type": "stream",
          "name": "stdout",
          "text": [
            "client:2 train_acc: 60.35%, train_loss: 22.1915\n",
            "client:0 train_acc: 60.69%, train_loss: 43.7107\n",
            "client:3 train_acc: 60.52%, train_loss: 65.7353\n",
            "client:1 train_acc: 60.46%, train_loss: 87.7642\n",
            "client:4 train_acc: 60.47%, train_loss: 109.6722\n",
            "Test set: Average loss: 3.5251, Accuracy: 858/10000 (8.58%)\n"
          ]
        },
        {
          "output_type": "stream",
          "name": "stderr",
          "text": [
            "Round29: User0_1: 100%|███████████████████████████████████████████| 100/100 [00:04<00:00, 24.76it/s]\n",
            "Round29: User3_1: 100%|███████████████████████████████████████████| 100/100 [00:04<00:00, 20.86it/s]\n",
            "Round29: User1_1: 100%|███████████████████████████████████████████| 100/100 [00:04<00:00, 24.28it/s]\n",
            "Round29: User4_1: 100%|███████████████████████████████████████████| 100/100 [00:04<00:00, 23.73it/s]\n",
            "Round29: User2_1: 100%|███████████████████████████████████████████| 100/100 [00:04<00:00, 21.13it/s]\n"
          ]
        },
        {
          "output_type": "stream",
          "name": "stdout",
          "text": [
            "client:0 train_acc: 62.14%, train_loss: 21.1253\n",
            "client:3 train_acc: 61.75%, train_loss: 42.7097\n",
            "client:1 train_acc: 61.70%, train_loss: 64.2823\n",
            "client:4 train_acc: 61.60%, train_loss: 85.8197\n",
            "client:2 train_acc: 61.43%, train_loss: 107.6424\n",
            "Test set: Average loss: 3.6961, Accuracy: 808/10000 (8.08%)\n"
          ]
        },
        {
          "output_type": "stream",
          "name": "stderr",
          "text": [
            "Round30: User0_1: 100%|███████████████████████████████████████████| 100/100 [00:04<00:00, 22.97it/s]\n",
            "Round30: User4_1: 100%|███████████████████████████████████████████| 100/100 [00:04<00:00, 24.63it/s]\n",
            "Round30: User2_1: 100%|███████████████████████████████████████████| 100/100 [00:04<00:00, 21.38it/s]\n",
            "Round30: User1_1: 100%|███████████████████████████████████████████| 100/100 [00:04<00:00, 24.27it/s]\n",
            "Round30: User3_1: 100%|███████████████████████████████████████████| 100/100 [00:04<00:00, 24.28it/s]\n"
          ]
        },
        {
          "output_type": "stream",
          "name": "stdout",
          "text": [
            "client:0 train_acc: 61.96%, train_loss: 21.4751\n",
            "client:4 train_acc: 61.48%, train_loss: 43.3109\n",
            "client:2 train_acc: 60.94%, train_loss: 65.4867\n",
            "client:1 train_acc: 60.92%, train_loss: 87.3837\n",
            "client:3 train_acc: 60.82%, train_loss: 109.3616\n",
            "Test set: Average loss: 3.9902, Accuracy: 847/10000 (8.47%)\n"
          ]
        },
        {
          "output_type": "stream",
          "name": "stderr",
          "text": [
            "Round31: User4_1: 100%|███████████████████████████████████████████| 100/100 [00:04<00:00, 23.12it/s]\n",
            "Round31: User0_1: 100%|███████████████████████████████████████████| 100/100 [00:04<00:00, 23.06it/s]\n",
            "Round31: User2_1: 100%|███████████████████████████████████████████| 100/100 [00:04<00:00, 23.83it/s]\n",
            "Round31: User3_1: 100%|███████████████████████████████████████████| 100/100 [00:04<00:00, 21.16it/s]\n",
            "Round31: User1_1: 100%|███████████████████████████████████████████| 100/100 [00:04<00:00, 24.64it/s]\n"
          ]
        },
        {
          "output_type": "stream",
          "name": "stdout",
          "text": [
            "client:4 train_acc: 62.18%, train_loss: 21.2174\n",
            "client:0 train_acc: 62.64%, train_loss: 42.0484\n",
            "client:2 train_acc: 62.32%, train_loss: 63.5834\n",
            "client:3 train_acc: 62.20%, train_loss: 84.8647\n",
            "client:1 train_acc: 62.15%, train_loss: 106.1546\n",
            "Test set: Average loss: 3.6322, Accuracy: 827/10000 (8.27%)\n"
          ]
        },
        {
          "output_type": "stream",
          "name": "stderr",
          "text": [
            "Round32: User3_1: 100%|███████████████████████████████████████████| 100/100 [00:04<00:00, 24.63it/s]\n",
            "Round32: User4_1: 100%|███████████████████████████████████████████| 100/100 [00:04<00:00, 23.01it/s]\n",
            "Round32: User0_1: 100%|███████████████████████████████████████████| 100/100 [00:04<00:00, 22.88it/s]\n",
            "Round32: User2_1: 100%|███████████████████████████████████████████| 100/100 [00:04<00:00, 24.77it/s]\n",
            "Round32: User1_1: 100%|███████████████████████████████████████████| 100/100 [00:04<00:00, 22.83it/s]\n"
          ]
        },
        {
          "output_type": "stream",
          "name": "stdout",
          "text": [
            "client:3 train_acc: 62.55%, train_loss: 21.0937\n",
            "client:4 train_acc: 62.61%, train_loss: 42.0017\n",
            "client:0 train_acc: 62.92%, train_loss: 62.5316\n",
            "client:2 train_acc: 62.66%, train_loss: 83.9248\n",
            "client:1 train_acc: 62.67%, train_loss: 105.0177\n",
            "Test set: Average loss: 3.4636, Accuracy: 782/10000 (7.82%)\n"
          ]
        },
        {
          "output_type": "stream",
          "name": "stderr",
          "text": [
            "Round33: User4_1: 100%|███████████████████████████████████████████| 100/100 [00:04<00:00, 21.49it/s]\n",
            "Round33: User1_1: 100%|███████████████████████████████████████████| 100/100 [00:03<00:00, 25.21it/s]\n",
            "Round33: User0_1: 100%|███████████████████████████████████████████| 100/100 [00:04<00:00, 24.88it/s]\n",
            "Round33: User2_1: 100%|███████████████████████████████████████████| 100/100 [00:04<00:00, 21.62it/s]\n",
            "Round33: User3_1: 100%|███████████████████████████████████████████| 100/100 [00:03<00:00, 25.15it/s]\n"
          ]
        },
        {
          "output_type": "stream",
          "name": "stdout",
          "text": [
            "client:4 train_acc: 63.26%, train_loss: 20.6042\n",
            "client:1 train_acc: 63.29%, train_loss: 41.3712\n",
            "client:0 train_acc: 63.53%, train_loss: 61.4603\n",
            "client:2 train_acc: 63.39%, train_loss: 82.3968\n",
            "client:3 train_acc: 63.29%, train_loss: 103.1502\n",
            "Test set: Average loss: 3.6682, Accuracy: 840/10000 (8.40%)\n"
          ]
        },
        {
          "output_type": "stream",
          "name": "stderr",
          "text": [
            "Round34: User3_1: 100%|███████████████████████████████████████████| 100/100 [00:03<00:00, 25.62it/s]\n",
            "Round34: User0_1: 100%|███████████████████████████████████████████| 100/100 [00:04<00:00, 21.68it/s]\n",
            "Round34: User4_1: 100%|███████████████████████████████████████████| 100/100 [00:03<00:00, 25.23it/s]\n",
            "Round34: User1_1: 100%|███████████████████████████████████████████| 100/100 [00:04<00:00, 24.85it/s]\n",
            "Round34: User2_1: 100%|███████████████████████████████████████████| 100/100 [00:04<00:00, 21.20it/s]\n"
          ]
        },
        {
          "output_type": "stream",
          "name": "stdout",
          "text": [
            "client:3 train_acc: 63.09%, train_loss: 20.6379\n",
            "client:0 train_acc: 63.72%, train_loss: 40.6814\n",
            "client:4 train_acc: 63.66%, train_loss: 61.1562\n",
            "client:1 train_acc: 63.69%, train_loss: 81.8131\n",
            "client:2 train_acc: 63.57%, train_loss: 102.7352\n",
            "Test set: Average loss: 3.5172, Accuracy: 776/10000 (7.76%)\n"
          ]
        },
        {
          "output_type": "stream",
          "name": "stderr",
          "text": [
            "Round35: User1_1: 100%|███████████████████████████████████████████| 100/100 [00:04<00:00, 23.64it/s]\n",
            "Round35: User0_1: 100%|███████████████████████████████████████████| 100/100 [00:04<00:00, 24.92it/s]\n",
            "Round35: User3_1: 100%|███████████████████████████████████████████| 100/100 [00:04<00:00, 21.54it/s]\n",
            "Round35: User4_1: 100%|███████████████████████████████████████████| 100/100 [00:03<00:00, 25.15it/s]\n",
            "Round35: User2_1: 100%|███████████████████████████████████████████| 100/100 [00:04<00:00, 24.86it/s]\n"
          ]
        },
        {
          "output_type": "stream",
          "name": "stdout",
          "text": [
            "client:1 train_acc: 64.09%, train_loss: 20.2661\n",
            "client:0 train_acc: 64.57%, train_loss: 39.9597\n",
            "client:3 train_acc: 64.30%, train_loss: 60.2619\n",
            "client:4 train_acc: 64.19%, train_loss: 80.4468\n",
            "client:2 train_acc: 64.02%, train_loss: 101.0345\n",
            "Test set: Average loss: 3.5396, Accuracy: 761/10000 (7.61%)\n"
          ]
        },
        {
          "output_type": "stream",
          "name": "stderr",
          "text": [
            "Round36: User1_1: 100%|███████████████████████████████████████████| 100/100 [00:03<00:00, 25.05it/s]\n",
            "Round36: User3_1: 100%|███████████████████████████████████████████| 100/100 [00:04<00:00, 21.73it/s]\n",
            "Round36: User4_1: 100%|███████████████████████████████████████████| 100/100 [00:04<00:00, 24.76it/s]\n",
            "Round36: User2_1: 100%|███████████████████████████████████████████| 100/100 [00:04<00:00, 23.13it/s]\n",
            "Round36: User0_1: 100%|███████████████████████████████████████████| 100/100 [00:04<00:00, 23.12it/s]\n"
          ]
        },
        {
          "output_type": "stream",
          "name": "stdout",
          "text": [
            "client:1 train_acc: 64.05%, train_loss: 20.2628\n",
            "client:3 train_acc: 63.98%, train_loss: 40.5972\n",
            "client:4 train_acc: 64.03%, train_loss: 60.7629\n",
            "client:2 train_acc: 63.79%, train_loss: 81.3362\n",
            "client:0 train_acc: 64.05%, train_loss: 101.0887\n",
            "Test set: Average loss: 3.5503, Accuracy: 800/10000 (8.00%)\n"
          ]
        },
        {
          "output_type": "stream",
          "name": "stderr",
          "text": [
            "Round37: User1_1: 100%|███████████████████████████████████████████| 100/100 [00:03<00:00, 25.13it/s]\n",
            "Round37: User2_1: 100%|███████████████████████████████████████████| 100/100 [00:03<00:00, 25.22it/s]\n",
            "Round37: User0_1: 100%|███████████████████████████████████████████| 100/100 [00:04<00:00, 21.28it/s]\n",
            "Round37: User3_1: 100%|███████████████████████████████████████████| 100/100 [00:03<00:00, 25.26it/s]\n",
            "Round37: User4_1: 100%|███████████████████████████████████████████| 100/100 [00:03<00:00, 25.40it/s]\n"
          ]
        },
        {
          "output_type": "stream",
          "name": "stdout",
          "text": [
            "client:1 train_acc: 64.71%, train_loss: 20.0103\n",
            "client:2 train_acc: 64.36%, train_loss: 40.2442\n",
            "client:0 train_acc: 64.75%, train_loss: 59.7333\n",
            "client:3 train_acc: 64.65%, train_loss: 79.7803\n",
            "client:4 train_acc: 64.66%, train_loss: 99.6701\n",
            "Test set: Average loss: 3.4948, Accuracy: 783/10000 (7.83%)\n"
          ]
        },
        {
          "output_type": "stream",
          "name": "stderr",
          "text": [
            "Round38: User3_1: 100%|███████████████████████████████████████████| 100/100 [00:04<00:00, 23.87it/s]\n",
            "Round38: User4_1: 100%|███████████████████████████████████████████| 100/100 [00:04<00:00, 24.65it/s]\n",
            "Round38: User2_1: 100%|███████████████████████████████████████████| 100/100 [00:03<00:00, 25.05it/s]\n",
            "Round38: User1_1: 100%|███████████████████████████████████████████| 100/100 [00:04<00:00, 22.56it/s]\n",
            "Round38: User0_1: 100%|███████████████████████████████████████████| 100/100 [00:04<00:00, 24.40it/s]\n"
          ]
        },
        {
          "output_type": "stream",
          "name": "stdout",
          "text": [
            "client:3 train_acc: 64.57%, train_loss: 19.9489\n",
            "client:4 train_acc: 64.55%, train_loss: 39.7733\n",
            "client:2 train_acc: 64.45%, train_loss: 59.9697\n",
            "client:1 train_acc: 64.56%, train_loss: 79.8810\n",
            "client:0 train_acc: 64.86%, train_loss: 99.2041\n",
            "Test set: Average loss: 3.6471, Accuracy: 804/10000 (8.04%)\n"
          ]
        },
        {
          "output_type": "stream",
          "name": "stderr",
          "text": [
            "Round39: User3_1: 100%|███████████████████████████████████████████| 100/100 [00:03<00:00, 25.46it/s]\n",
            "Round39: User2_1: 100%|███████████████████████████████████████████| 100/100 [00:03<00:00, 25.06it/s]\n",
            "Round39: User0_1: 100%|███████████████████████████████████████████| 100/100 [00:04<00:00, 21.69it/s]\n",
            "Round39: User4_1: 100%|███████████████████████████████████████████| 100/100 [00:03<00:00, 25.12it/s]\n",
            "Round39: User1_1: 100%|███████████████████████████████████████████| 100/100 [00:04<00:00, 24.89it/s]\n"
          ]
        },
        {
          "output_type": "stream",
          "name": "stdout",
          "text": [
            "client:3 train_acc: 64.44%, train_loss: 19.9123\n",
            "client:2 train_acc: 64.52%, train_loss: 40.0339\n",
            "client:0 train_acc: 64.96%, train_loss: 59.2910\n",
            "client:4 train_acc: 64.90%, train_loss: 79.0150\n",
            "client:1 train_acc: 64.92%, train_loss: 98.9023\n",
            "Test set: Average loss: 3.6467, Accuracy: 778/10000 (7.78%)\n"
          ]
        },
        {
          "output_type": "stream",
          "name": "stderr",
          "text": [
            "Round40: User0_1: 100%|███████████████████████████████████████████| 100/100 [00:04<00:00, 21.54it/s]\n",
            "Round40: User3_1: 100%|███████████████████████████████████████████| 100/100 [00:03<00:00, 25.48it/s]\n",
            "Round40: User1_1: 100%|███████████████████████████████████████████| 100/100 [00:03<00:00, 25.73it/s]\n",
            "Round40: User4_1: 100%|███████████████████████████████████████████| 100/100 [00:04<00:00, 21.65it/s]\n",
            "Round40: User2_1: 100%|███████████████████████████████████████████| 100/100 [00:03<00:00, 25.25it/s]\n"
          ]
        },
        {
          "output_type": "stream",
          "name": "stdout",
          "text": [
            "client:0 train_acc: 65.37%, train_loss: 19.4680\n",
            "client:3 train_acc: 64.97%, train_loss: 39.5022\n",
            "client:1 train_acc: 65.00%, train_loss: 59.4532\n",
            "client:4 train_acc: 65.12%, train_loss: 79.2573\n",
            "client:2 train_acc: 64.94%, train_loss: 99.4813\n",
            "Test set: Average loss: 3.5096, Accuracy: 810/10000 (8.10%)\n"
          ]
        },
        {
          "output_type": "stream",
          "name": "stderr",
          "text": [
            "Round41: User1_1: 100%|███████████████████████████████████████████| 100/100 [00:03<00:00, 28.51it/s]\n",
            "Round41: User3_1: 100%|███████████████████████████████████████████| 100/100 [00:03<00:00, 27.76it/s]\n",
            "Round41: User2_1: 100%|███████████████████████████████████████████| 100/100 [00:04<00:00, 23.69it/s]\n",
            "Round41: User4_1: 100%|███████████████████████████████████████████| 100/100 [00:03<00:00, 28.29it/s]\n",
            "Round41: User0_1: 100%|███████████████████████████████████████████| 100/100 [00:03<00:00, 27.55it/s]\n"
          ]
        },
        {
          "output_type": "stream",
          "name": "stdout",
          "text": [
            "client:1 train_acc: 66.08%, train_loss: 19.3381\n",
            "client:3 train_acc: 65.60%, train_loss: 38.7559\n",
            "client:2 train_acc: 65.49%, train_loss: 58.3110\n",
            "client:4 train_acc: 65.59%, train_loss: 77.5343\n",
            "client:0 train_acc: 65.78%, train_loss: 96.2957\n",
            "Test set: Average loss: 3.7228, Accuracy: 896/10000 (8.96%)\n"
          ]
        },
        {
          "output_type": "stream",
          "name": "stderr",
          "text": [
            "Round42: User1_1: 100%|███████████████████████████████████████████| 100/100 [00:03<00:00, 27.21it/s]\n",
            "Round42: User2_1: 100%|███████████████████████████████████████████| 100/100 [00:04<00:00, 23.98it/s]\n",
            "Round42: User0_1: 100%|███████████████████████████████████████████| 100/100 [00:03<00:00, 27.59it/s]\n",
            "Round42: User4_1: 100%|███████████████████████████████████████████| 100/100 [00:03<00:00, 27.94it/s]\n",
            "Round42: User3_1: 100%|███████████████████████████████████████████| 100/100 [00:04<00:00, 23.99it/s]\n"
          ]
        },
        {
          "output_type": "stream",
          "name": "stdout",
          "text": [
            "client:1 train_acc: 66.35%, train_loss: 19.0477\n",
            "client:2 train_acc: 66.07%, train_loss: 38.2612\n",
            "client:0 train_acc: 66.39%, train_loss: 56.7062\n",
            "client:4 train_acc: 66.30%, train_loss: 75.7002\n",
            "client:3 train_acc: 66.16%, train_loss: 94.7847\n",
            "Test set: Average loss: 3.8288, Accuracy: 824/10000 (8.24%)\n"
          ]
        },
        {
          "output_type": "stream",
          "name": "stderr",
          "text": [
            "Round43: User2_1: 100%|███████████████████████████████████████████| 100/100 [00:04<00:00, 23.51it/s]\n",
            "Round43: User1_1: 100%|███████████████████████████████████████████| 100/100 [00:03<00:00, 27.78it/s]\n",
            "Round43: User0_1: 100%|███████████████████████████████████████████| 100/100 [00:03<00:00, 28.25it/s]\n",
            "Round43: User4_1: 100%|███████████████████████████████████████████| 100/100 [00:04<00:00, 23.61it/s]\n",
            "Round43: User3_1: 100%|███████████████████████████████████████████| 100/100 [00:03<00:00, 27.59it/s]\n"
          ]
        },
        {
          "output_type": "stream",
          "name": "stdout",
          "text": [
            "client:2 train_acc: 65.29%, train_loss: 19.5087\n",
            "client:1 train_acc: 65.84%, train_loss: 38.6287\n",
            "client:0 train_acc: 66.23%, train_loss: 57.2835\n",
            "client:4 train_acc: 66.18%, train_loss: 76.3945\n",
            "client:3 train_acc: 66.08%, train_loss: 95.6464\n",
            "Test set: Average loss: 3.8690, Accuracy: 778/10000 (7.78%)\n"
          ]
        },
        {
          "output_type": "stream",
          "name": "stderr",
          "text": [
            "Round44: User1_1: 100%|███████████████████████████████████████████| 100/100 [00:03<00:00, 28.04it/s]\n",
            "Round44: User0_1: 100%|███████████████████████████████████████████| 100/100 [00:03<00:00, 27.84it/s]\n",
            "Round44: User2_1: 100%|███████████████████████████████████████████| 100/100 [00:04<00:00, 24.18it/s]\n",
            "Round44: User4_1: 100%|███████████████████████████████████████████| 100/100 [00:03<00:00, 26.89it/s]\n",
            "Round44: User3_1: 100%|███████████████████████████████████████████| 100/100 [00:03<00:00, 28.42it/s]\n"
          ]
        },
        {
          "output_type": "stream",
          "name": "stdout",
          "text": [
            "client:1 train_acc: 67.14%, train_loss: 18.9108\n",
            "client:0 train_acc: 67.25%, train_loss: 37.2065\n",
            "client:2 train_acc: 67.04%, train_loss: 56.2757\n",
            "client:4 train_acc: 66.86%, train_loss: 75.0916\n",
            "client:3 train_acc: 66.73%, train_loss: 94.0650\n",
            "Test set: Average loss: 3.7479, Accuracy: 836/10000 (8.36%)\n"
          ]
        },
        {
          "output_type": "stream",
          "name": "stderr",
          "text": [
            "Round45: User2_1: 100%|███████████████████████████████████████████| 100/100 [00:03<00:00, 28.01it/s]\n",
            "Round45: User3_1: 100%|███████████████████████████████████████████| 100/100 [00:04<00:00, 24.55it/s]\n",
            "Round45: User0_1: 100%|███████████████████████████████████████████| 100/100 [00:03<00:00, 26.51it/s]\n",
            "Round45: User4_1: 100%|███████████████████████████████████████████| 100/100 [00:03<00:00, 27.27it/s]\n",
            "Round45: User1_1: 100%|███████████████████████████████████████████| 100/100 [00:03<00:00, 26.13it/s]\n"
          ]
        },
        {
          "output_type": "stream",
          "name": "stdout",
          "text": [
            "client:2 train_acc: 66.83%, train_loss: 18.7869\n",
            "client:3 train_acc: 66.92%, train_loss: 37.4058\n",
            "client:0 train_acc: 67.37%, train_loss: 55.3699\n",
            "client:4 train_acc: 67.34%, train_loss: 73.8117\n",
            "client:1 train_acc: 67.29%, train_loss: 92.3520\n",
            "Test set: Average loss: 3.7118, Accuracy: 829/10000 (8.29%)\n"
          ]
        },
        {
          "output_type": "stream",
          "name": "stderr",
          "text": [
            "Round46: User3_1: 100%|███████████████████████████████████████████| 100/100 [00:04<00:00, 24.34it/s]\n",
            "Round46: User2_1: 100%|███████████████████████████████████████████| 100/100 [00:03<00:00, 27.31it/s]\n",
            "Round46: User4_1: 100%|███████████████████████████████████████████| 100/100 [00:03<00:00, 28.31it/s]\n",
            "Round46: User1_1: 100%|███████████████████████████████████████████| 100/100 [00:03<00:00, 26.73it/s]\n",
            "Round46: User0_1: 100%|███████████████████████████████████████████| 100/100 [00:04<00:00, 23.95it/s]\n"
          ]
        },
        {
          "output_type": "stream",
          "name": "stdout",
          "text": [
            "client:3 train_acc: 67.02%, train_loss: 18.5155\n",
            "client:2 train_acc: 67.13%, train_loss: 37.1879\n",
            "client:4 train_acc: 67.15%, train_loss: 55.5369\n",
            "client:1 train_acc: 67.24%, train_loss: 73.9449\n",
            "client:0 train_acc: 67.48%, train_loss: 91.7372\n",
            "Test set: Average loss: 3.8470, Accuracy: 841/10000 (8.41%)\n"
          ]
        },
        {
          "output_type": "stream",
          "name": "stderr",
          "text": [
            "Round47: User1_1: 100%|███████████████████████████████████████████| 100/100 [00:03<00:00, 25.96it/s]\n",
            "Round47: User2_1: 100%|███████████████████████████████████████████| 100/100 [00:03<00:00, 28.19it/s]\n",
            "Round47: User4_1: 100%|███████████████████████████████████████████| 100/100 [00:03<00:00, 27.48it/s]\n",
            "Round47: User3_1: 100%|███████████████████████████████████████████| 100/100 [00:04<00:00, 23.97it/s]\n",
            "Round47: User0_1: 100%|███████████████████████████████████████████| 100/100 [00:03<00:00, 27.77it/s]\n"
          ]
        },
        {
          "output_type": "stream",
          "name": "stdout",
          "text": [
            "client:1 train_acc: 66.92%, train_loss: 18.8107\n",
            "client:2 train_acc: 66.96%, train_loss: 37.7208\n",
            "client:4 train_acc: 66.81%, train_loss: 56.5410\n",
            "client:3 train_acc: 66.75%, train_loss: 75.3479\n",
            "client:0 train_acc: 66.96%, train_loss: 93.6331\n",
            "Test set: Average loss: 3.5857, Accuracy: 806/10000 (8.06%)\n"
          ]
        },
        {
          "output_type": "stream",
          "name": "stderr",
          "text": [
            "Round48: User2_1: 100%|███████████████████████████████████████████| 100/100 [00:03<00:00, 27.41it/s]\n",
            "Round48: User1_1: 100%|███████████████████████████████████████████| 100/100 [00:03<00:00, 27.22it/s]\n",
            "Round48: User4_1: 100%|███████████████████████████████████████████| 100/100 [00:04<00:00, 23.19it/s]\n",
            "Round48: User0_1: 100%|███████████████████████████████████████████| 100/100 [00:03<00:00, 27.06it/s]\n",
            "Round48: User3_1: 100%|███████████████████████████████████████████| 100/100 [00:03<00:00, 28.24it/s]\n"
          ]
        },
        {
          "output_type": "stream",
          "name": "stdout",
          "text": [
            "client:2 train_acc: 67.44%, train_loss: 18.5142\n",
            "client:1 train_acc: 67.61%, train_loss: 36.7612\n",
            "client:4 train_acc: 67.76%, train_loss: 54.9117\n",
            "client:0 train_acc: 68.04%, train_loss: 72.6118\n",
            "client:3 train_acc: 67.90%, train_loss: 90.9331\n",
            "Test set: Average loss: 3.6401, Accuracy: 815/10000 (8.15%)\n"
          ]
        },
        {
          "output_type": "stream",
          "name": "stderr",
          "text": [
            "Round49: User0_1: 100%|███████████████████████████████████████████| 100/100 [00:03<00:00, 27.36it/s]\n",
            "Round49: User4_1: 100%|███████████████████████████████████████████| 100/100 [00:04<00:00, 23.51it/s]\n",
            "Round49: User3_1: 100%|███████████████████████████████████████████| 100/100 [00:03<00:00, 27.92it/s]\n",
            "Round49: User1_1: 100%|███████████████████████████████████████████| 100/100 [00:03<00:00, 28.31it/s]\n",
            "Round49: User2_1: 100%|███████████████████████████████████████████| 100/100 [00:04<00:00, 23.41it/s]\n"
          ]
        },
        {
          "output_type": "stream",
          "name": "stdout",
          "text": [
            "client:0 train_acc: 69.34%, train_loss: 17.3562\n",
            "client:4 train_acc: 68.78%, train_loss: 35.2820\n",
            "client:3 train_acc: 68.49%, train_loss: 53.3137\n",
            "client:1 train_acc: 68.46%, train_loss: 71.2241\n",
            "client:2 train_acc: 68.34%, train_loss: 89.3799\n",
            "Test set: Average loss: 3.8274, Accuracy: 816/10000 (8.16%)\n"
          ]
        },
        {
          "output_type": "stream",
          "name": "stderr",
          "text": [
            "Round50: User2_1: 100%|███████████████████████████████████████████| 100/100 [00:04<00:00, 23.75it/s]\n",
            "Round50: User1_1: 100%|███████████████████████████████████████████| 100/100 [00:03<00:00, 28.27it/s]\n",
            "Round50: User4_1: 100%|███████████████████████████████████████████| 100/100 [00:03<00:00, 27.94it/s]\n",
            "Round50: User0_1: 100%|███████████████████████████████████████████| 100/100 [00:04<00:00, 23.96it/s]\n",
            "Round50: User3_1: 100%|███████████████████████████████████████████| 100/100 [00:03<00:00, 27.87it/s]\n"
          ]
        },
        {
          "output_type": "stream",
          "name": "stdout",
          "text": [
            "client:2 train_acc: 68.40%, train_loss: 17.9681\n",
            "client:1 train_acc: 68.59%, train_loss: 35.6889\n",
            "client:4 train_acc: 68.62%, train_loss: 53.3660\n",
            "client:0 train_acc: 68.85%, train_loss: 70.5488\n",
            "client:3 train_acc: 68.78%, train_loss: 88.3877\n",
            "Test set: Average loss: 3.7933, Accuracy: 859/10000 (8.59%)\n"
          ]
        },
        {
          "output_type": "stream",
          "name": "stderr",
          "text": [
            "Round51: User4_1: 100%|███████████████████████████████████████████| 100/100 [00:03<00:00, 28.05it/s]\n",
            "Round51: User0_1: 100%|███████████████████████████████████████████| 100/100 [00:03<00:00, 28.09it/s]\n",
            "Round51: User2_1: 100%|███████████████████████████████████████████| 100/100 [00:04<00:00, 23.91it/s]\n",
            "Round51: User3_1: 100%|███████████████████████████████████████████| 100/100 [00:03<00:00, 26.60it/s]\n",
            "Round51: User1_1: 100%|███████████████████████████████████████████| 100/100 [00:03<00:00, 27.67it/s]\n"
          ]
        },
        {
          "output_type": "stream",
          "name": "stdout",
          "text": [
            "client:4 train_acc: 68.71%, train_loss: 17.6937\n",
            "client:0 train_acc: 69.25%, train_loss: 34.8925\n",
            "client:2 train_acc: 68.97%, train_loss: 52.8887\n",
            "client:3 train_acc: 68.81%, train_loss: 70.7219\n",
            "client:1 train_acc: 68.75%, train_loss: 88.5588\n",
            "Test set: Average loss: 3.6829, Accuracy: 870/10000 (8.70%)\n"
          ]
        },
        {
          "output_type": "stream",
          "name": "stderr",
          "text": [
            "Round52: User1_1: 100%|███████████████████████████████████████████| 100/100 [00:03<00:00, 27.80it/s]\n",
            "Round52: User2_1: 100%|███████████████████████████████████████████| 100/100 [00:04<00:00, 22.94it/s]\n",
            "Round52: User3_1: 100%|███████████████████████████████████████████| 100/100 [00:03<00:00, 28.34it/s]\n",
            "Round52: User4_1: 100%|███████████████████████████████████████████| 100/100 [00:03<00:00, 28.61it/s]\n",
            "Round52: User0_1: 100%|███████████████████████████████████████████| 100/100 [00:03<00:00, 25.50it/s]\n"
          ]
        },
        {
          "output_type": "stream",
          "name": "stdout",
          "text": [
            "client:1 train_acc: 69.03%, train_loss: 17.5667\n",
            "client:2 train_acc: 68.99%, train_loss: 35.2599\n",
            "client:3 train_acc: 68.88%, train_loss: 52.9002\n",
            "client:4 train_acc: 68.97%, train_loss: 70.3902\n",
            "client:0 train_acc: 69.23%, train_loss: 87.3978\n",
            "Test set: Average loss: 3.9475, Accuracy: 834/10000 (8.34%)\n"
          ]
        },
        {
          "output_type": "stream",
          "name": "stderr",
          "text": [
            "Round53: User1_1: 100%|███████████████████████████████████████████| 100/100 [00:04<00:00, 24.26it/s]\n",
            "Round53: User3_1: 100%|███████████████████████████████████████████| 100/100 [00:03<00:00, 27.04it/s]\n",
            "Round53: User2_1: 100%|███████████████████████████████████████████| 100/100 [00:03<00:00, 27.09it/s]\n",
            "Round53: User0_1: 100%|███████████████████████████████████████████| 100/100 [00:03<00:00, 25.63it/s]\n",
            "Round53: User4_1: 100%|███████████████████████████████████████████| 100/100 [00:03<00:00, 25.78it/s]\n"
          ]
        },
        {
          "output_type": "stream",
          "name": "stdout",
          "text": [
            "client:1 train_acc: 69.06%, train_loss: 17.6318\n",
            "client:3 train_acc: 68.79%, train_loss: 35.3328\n",
            "client:2 train_acc: 68.75%, train_loss: 53.1254\n",
            "client:0 train_acc: 69.01%, train_loss: 70.2577\n",
            "client:4 train_acc: 69.02%, train_loss: 87.7918\n",
            "Test set: Average loss: 3.8033, Accuracy: 850/10000 (8.50%)\n"
          ]
        },
        {
          "output_type": "stream",
          "name": "stderr",
          "text": [
            "Round54: User1_1: 100%|███████████████████████████████████████████| 100/100 [00:03<00:00, 26.30it/s]\n",
            "Round54: User2_1: 100%|███████████████████████████████████████████| 100/100 [00:03<00:00, 27.65it/s]\n",
            "Round54: User4_1: 100%|███████████████████████████████████████████| 100/100 [00:03<00:00, 26.45it/s]\n",
            "Round54: User3_1: 100%|███████████████████████████████████████████| 100/100 [00:03<00:00, 25.32it/s]\n",
            "Round54: User0_1: 100%|███████████████████████████████████████████| 100/100 [00:03<00:00, 25.98it/s]\n"
          ]
        },
        {
          "output_type": "stream",
          "name": "stdout",
          "text": [
            "client:1 train_acc: 69.25%, train_loss: 17.3769\n",
            "client:2 train_acc: 69.08%, train_loss: 34.9124\n",
            "client:4 train_acc: 69.22%, train_loss: 52.1349\n",
            "client:3 train_acc: 69.15%, train_loss: 69.6264\n",
            "client:0 train_acc: 69.33%, train_loss: 86.4924\n",
            "Test set: Average loss: 3.8993, Accuracy: 844/10000 (8.44%)\n"
          ]
        },
        {
          "output_type": "stream",
          "name": "stderr",
          "text": [
            "Round55: User4_1: 100%|███████████████████████████████████████████| 100/100 [00:03<00:00, 27.98it/s]\n",
            "Round55: User0_1: 100%|███████████████████████████████████████████| 100/100 [00:04<00:00, 24.78it/s]\n",
            "Round55: User2_1: 100%|███████████████████████████████████████████| 100/100 [00:04<00:00, 24.40it/s]\n",
            "Round55: User1_1: 100%|███████████████████████████████████████████| 100/100 [00:03<00:00, 27.56it/s]\n",
            "Round55: User3_1: 100%|███████████████████████████████████████████| 100/100 [00:03<00:00, 27.02it/s]\n"
          ]
        },
        {
          "output_type": "stream",
          "name": "stdout",
          "text": [
            "client:4 train_acc: 70.39%, train_loss: 16.8412\n",
            "client:0 train_acc: 70.78%, train_loss: 33.2372\n",
            "client:2 train_acc: 70.46%, train_loss: 50.3676\n",
            "client:1 train_acc: 70.39%, train_loss: 67.2269\n",
            "client:3 train_acc: 70.28%, train_loss: 84.2461\n",
            "Test set: Average loss: 3.9195, Accuracy: 836/10000 (8.36%)\n"
          ]
        },
        {
          "output_type": "stream",
          "name": "stderr",
          "text": [
            "Round56: User0_1: 100%|███████████████████████████████████████████| 100/100 [00:03<00:00, 25.71it/s]\n",
            "Round56: User3_1: 100%|███████████████████████████████████████████| 100/100 [00:03<00:00, 26.40it/s]\n",
            "Round56: User1_1: 100%|███████████████████████████████████████████| 100/100 [00:03<00:00, 28.44it/s]\n",
            "Round56: User4_1: 100%|███████████████████████████████████████████| 100/100 [00:03<00:00, 27.56it/s]\n",
            "Round56: User2_1: 100%|███████████████████████████████████████████| 100/100 [00:04<00:00, 24.17it/s]\n"
          ]
        },
        {
          "output_type": "stream",
          "name": "stdout",
          "text": [
            "client:0 train_acc: 71.15%, train_loss: 16.4810\n",
            "client:3 train_acc: 70.50%, train_loss: 33.5624\n",
            "client:1 train_acc: 70.32%, train_loss: 50.5279\n",
            "client:4 train_acc: 70.27%, train_loss: 67.4187\n",
            "client:2 train_acc: 70.17%, train_loss: 84.6797\n",
            "Test set: Average loss: 3.7241, Accuracy: 858/10000 (8.58%)\n"
          ]
        },
        {
          "output_type": "stream",
          "name": "stderr",
          "text": [
            "Round57: User1_1: 100%|███████████████████████████████████████████| 100/100 [00:04<00:00, 24.19it/s]\n",
            "Round57: User2_1: 100%|███████████████████████████████████████████| 100/100 [00:03<00:00, 28.00it/s]\n",
            "Round57: User3_1: 100%|███████████████████████████████████████████| 100/100 [00:03<00:00, 28.21it/s]\n",
            "Round57: User0_1: 100%|███████████████████████████████████████████| 100/100 [00:04<00:00, 24.14it/s]\n",
            "Round57: User4_1: 100%|███████████████████████████████████████████| 100/100 [00:03<00:00, 26.41it/s]\n"
          ]
        },
        {
          "output_type": "stream",
          "name": "stdout",
          "text": [
            "client:1 train_acc: 69.69%, train_loss: 16.9720\n",
            "client:2 train_acc: 69.82%, train_loss: 34.1787\n",
            "client:3 train_acc: 69.82%, train_loss: 51.1931\n",
            "client:0 train_acc: 70.13%, train_loss: 67.5842\n",
            "client:4 train_acc: 70.04%, train_loss: 84.5631\n",
            "Test set: Average loss: 3.9280, Accuracy: 892/10000 (8.92%)\n"
          ]
        },
        {
          "output_type": "stream",
          "name": "stderr",
          "text": [
            "Round58: User4_1: 100%|███████████████████████████████████████████| 100/100 [00:03<00:00, 27.47it/s]\n",
            "Round58: User1_1: 100%|███████████████████████████████████████████| 100/100 [00:03<00:00, 27.08it/s]\n",
            "Round58: User0_1: 100%|███████████████████████████████████████████| 100/100 [00:04<00:00, 22.30it/s]\n",
            "Round58: User3_1: 100%|███████████████████████████████████████████| 100/100 [00:03<00:00, 27.18it/s]\n",
            "Round58: User2_1: 100%|███████████████████████████████████████████| 100/100 [00:03<00:00, 28.46it/s]\n"
          ]
        },
        {
          "output_type": "stream",
          "name": "stdout",
          "text": [
            "client:4 train_acc: 70.91%, train_loss: 16.5956\n",
            "client:1 train_acc: 70.50%, train_loss: 33.2883\n",
            "client:0 train_acc: 70.84%, train_loss: 49.5495\n",
            "client:3 train_acc: 70.69%, train_loss: 66.3115\n",
            "client:2 train_acc: 70.62%, train_loss: 83.2910\n",
            "Test set: Average loss: 3.8781, Accuracy: 892/10000 (8.92%)\n"
          ]
        },
        {
          "output_type": "stream",
          "name": "stderr",
          "text": [
            "Round59: User0_1: 100%|███████████████████████████████████████████| 100/100 [00:03<00:00, 27.48it/s]\n",
            "Round59: User4_1: 100%|███████████████████████████████████████████| 100/100 [00:04<00:00, 23.68it/s]\n",
            "Round59: User1_1: 100%|███████████████████████████████████████████| 100/100 [00:03<00:00, 28.12it/s]\n",
            "Round59: User2_1: 100%|███████████████████████████████████████████| 100/100 [00:03<00:00, 27.97it/s]\n",
            "Round59: User3_1: 100%|███████████████████████████████████████████| 100/100 [00:04<00:00, 23.39it/s]\n"
          ]
        },
        {
          "output_type": "stream",
          "name": "stdout",
          "text": [
            "client:0 train_acc: 71.13%, train_loss: 16.3475\n",
            "client:4 train_acc: 70.80%, train_loss: 33.1807\n",
            "client:1 train_acc: 70.55%, train_loss: 50.0134\n",
            "client:2 train_acc: 70.51%, train_loss: 66.9511\n",
            "client:3 train_acc: 70.40%, train_loss: 83.8367\n",
            "Test set: Average loss: 3.8239, Accuracy: 906/10000 (9.06%)\n"
          ]
        },
        {
          "output_type": "stream",
          "name": "stderr",
          "text": [
            "Round60: User4_1: 100%|███████████████████████████████████████████| 100/100 [00:04<00:00, 23.98it/s]\n",
            "Round60: User3_1: 100%|███████████████████████████████████████████| 100/100 [00:03<00:00, 27.52it/s]\n",
            "Round60: User2_1: 100%|███████████████████████████████████████████| 100/100 [00:03<00:00, 28.39it/s]\n",
            "Round60: User1_1: 100%|███████████████████████████████████████████| 100/100 [00:04<00:00, 23.56it/s]\n",
            "Round60: User0_1: 100%|███████████████████████████████████████████| 100/100 [00:03<00:00, 27.99it/s]\n"
          ]
        },
        {
          "output_type": "stream",
          "name": "stdout",
          "text": [
            "client:4 train_acc: 71.25%, train_loss: 16.3461\n",
            "client:3 train_acc: 71.01%, train_loss: 32.8607\n",
            "client:2 train_acc: 71.01%, train_loss: 49.4541\n",
            "client:1 train_acc: 71.01%, train_loss: 65.9157\n",
            "client:0 train_acc: 71.22%, train_loss: 81.8869\n",
            "Test set: Average loss: 3.7300, Accuracy: 849/10000 (8.49%)\n"
          ]
        },
        {
          "output_type": "stream",
          "name": "stderr",
          "text": [
            "Round61: User2_1: 100%|███████████████████████████████████████████| 100/100 [00:03<00:00, 28.21it/s]\n",
            "Round61: User0_1: 100%|███████████████████████████████████████████| 100/100 [00:03<00:00, 28.26it/s]\n",
            "Round61: User3_1: 100%|███████████████████████████████████████████| 100/100 [00:04<00:00, 24.13it/s]\n",
            "Round61: User4_1: 100%|███████████████████████████████████████████| 100/100 [00:03<00:00, 27.06it/s]\n",
            "Round61: User1_1: 100%|███████████████████████████████████████████| 100/100 [00:03<00:00, 27.33it/s]\n"
          ]
        },
        {
          "output_type": "stream",
          "name": "stdout",
          "text": [
            "client:2 train_acc: 71.39%, train_loss: 16.4622\n",
            "client:0 train_acc: 71.99%, train_loss: 32.1410\n",
            "client:3 train_acc: 71.69%, train_loss: 48.4607\n",
            "client:4 train_acc: 71.59%, train_loss: 64.7025\n",
            "client:1 train_acc: 71.54%, train_loss: 80.9448\n",
            "Test set: Average loss: 3.8961, Accuracy: 892/10000 (8.92%)\n"
          ]
        },
        {
          "output_type": "stream",
          "name": "stderr",
          "text": [
            "Round62: User2_1: 100%|███████████████████████████████████████████| 100/100 [00:03<00:00, 26.97it/s]\n",
            "Round62: User3_1: 100%|███████████████████████████████████████████| 100/100 [00:04<00:00, 23.43it/s]\n",
            "Round62: User4_1: 100%|███████████████████████████████████████████| 100/100 [00:03<00:00, 27.76it/s]\n",
            "Round62: User0_1: 100%|███████████████████████████████████████████| 100/100 [00:03<00:00, 28.16it/s]\n",
            "Round62: User1_1: 100%|███████████████████████████████████████████| 100/100 [00:04<00:00, 24.11it/s]\n"
          ]
        },
        {
          "output_type": "stream",
          "name": "stdout",
          "text": [
            "client:2 train_acc: 71.50%, train_loss: 16.3160\n",
            "client:3 train_acc: 71.41%, train_loss: 32.5876\n",
            "client:4 train_acc: 71.48%, train_loss: 48.6927\n",
            "client:0 train_acc: 71.80%, train_loss: 64.3103\n",
            "client:1 train_acc: 71.77%, train_loss: 80.4390\n",
            "Test set: Average loss: 4.0701, Accuracy: 922/10000 (9.22%)\n"
          ]
        },
        {
          "output_type": "stream",
          "name": "stderr",
          "text": [
            "Round63: User2_1: 100%|███████████████████████████████████████████| 100/100 [00:04<00:00, 23.39it/s]\n",
            "Round63: User4_1: 100%|███████████████████████████████████████████| 100/100 [00:03<00:00, 28.23it/s]\n",
            "Round63: User1_1: 100%|███████████████████████████████████████████| 100/100 [00:03<00:00, 26.72it/s]\n",
            "Round63: User0_1: 100%|███████████████████████████████████████████| 100/100 [00:04<00:00, 22.95it/s]\n",
            "Round63: User3_1: 100%|███████████████████████████████████████████| 100/100 [00:03<00:00, 26.06it/s]\n"
          ]
        },
        {
          "output_type": "stream",
          "name": "stdout",
          "text": [
            "client:2 train_acc: 71.80%, train_loss: 16.2493\n",
            "client:4 train_acc: 71.98%, train_loss: 32.1563\n",
            "client:1 train_acc: 71.81%, train_loss: 48.1746\n",
            "client:0 train_acc: 72.00%, train_loss: 63.7548\n",
            "client:3 train_acc: 71.92%, train_loss: 79.8627\n",
            "Test set: Average loss: 4.0949, Accuracy: 884/10000 (8.84%)\n"
          ]
        },
        {
          "output_type": "stream",
          "name": "stderr",
          "text": [
            "Round64: User2_1: 100%|███████████████████████████████████████████| 100/100 [00:03<00:00, 28.34it/s]\n",
            "Round64: User1_1: 100%|███████████████████████████████████████████| 100/100 [00:03<00:00, 28.13it/s]\n",
            "Round64: User4_1: 100%|███████████████████████████████████████████| 100/100 [00:04<00:00, 23.99it/s]\n",
            "Round64: User0_1: 100%|███████████████████████████████████████████| 100/100 [00:03<00:00, 26.74it/s]\n",
            "Round64: User3_1: 100%|███████████████████████████████████████████| 100/100 [00:03<00:00, 27.93it/s]\n"
          ]
        },
        {
          "output_type": "stream",
          "name": "stdout",
          "text": [
            "client:2 train_acc: 71.75%, train_loss: 16.2572\n",
            "client:1 train_acc: 71.60%, train_loss: 32.3150\n",
            "client:4 train_acc: 71.57%, train_loss: 48.4007\n",
            "client:0 train_acc: 71.77%, train_loss: 64.0287\n",
            "client:3 train_acc: 71.70%, train_loss: 80.1872\n",
            "Test set: Average loss: 4.2446, Accuracy: 919/10000 (9.19%)\n"
          ]
        },
        {
          "output_type": "stream",
          "name": "stderr",
          "text": [
            "Round65: User4_1: 100%|███████████████████████████████████████████| 100/100 [00:03<00:00, 27.32it/s]\n",
            "Round65: User0_1: 100%|███████████████████████████████████████████| 100/100 [00:04<00:00, 22.69it/s]\n",
            "Round65: User3_1: 100%|███████████████████████████████████████████| 100/100 [00:03<00:00, 27.52it/s]\n",
            "Round65: User2_1: 100%|███████████████████████████████████████████| 100/100 [00:03<00:00, 27.31it/s]\n",
            "Round65: User1_1: 100%|███████████████████████████████████████████| 100/100 [00:04<00:00, 24.25it/s]\n"
          ]
        },
        {
          "output_type": "stream",
          "name": "stdout",
          "text": [
            "client:4 train_acc: 72.07%, train_loss: 15.7999\n",
            "client:0 train_acc: 72.59%, train_loss: 31.2407\n",
            "client:3 train_acc: 72.40%, train_loss: 47.2131\n",
            "client:2 train_acc: 72.37%, train_loss: 63.2829\n",
            "client:1 train_acc: 72.32%, train_loss: 79.1872\n",
            "Test set: Average loss: 3.7864, Accuracy: 918/10000 (9.18%)\n"
          ]
        },
        {
          "output_type": "stream",
          "name": "stderr",
          "text": [
            "Round66: User3_1: 100%|███████████████████████████████████████████| 100/100 [00:04<00:00, 23.27it/s]\n",
            "Round66: User2_1: 100%|███████████████████████████████████████████| 100/100 [00:03<00:00, 26.83it/s]\n",
            "Round66: User4_1: 100%|███████████████████████████████████████████| 100/100 [00:03<00:00, 26.55it/s]\n",
            "Round66: User1_1: 100%|███████████████████████████████████████████| 100/100 [00:04<00:00, 23.58it/s]\n",
            "Round66: User0_1: 100%|███████████████████████████████████████████| 100/100 [00:03<00:00, 27.71it/s]\n"
          ]
        },
        {
          "output_type": "stream",
          "name": "stdout",
          "text": [
            "client:3 train_acc: 72.10%, train_loss: 15.7272\n",
            "client:2 train_acc: 72.17%, train_loss: 31.6115\n",
            "client:4 train_acc: 72.30%, train_loss: 47.1594\n",
            "client:1 train_acc: 72.31%, train_loss: 62.7995\n",
            "client:0 train_acc: 72.52%, train_loss: 77.9956\n",
            "Test set: Average loss: 3.9312, Accuracy: 908/10000 (9.08%)\n"
          ]
        },
        {
          "output_type": "stream",
          "name": "stderr",
          "text": [
            "Round67: User4_1: 100%|███████████████████████████████████████████| 100/100 [00:03<00:00, 26.85it/s]\n",
            "Round67: User2_1: 100%|███████████████████████████████████████████| 100/100 [00:03<00:00, 27.44it/s]\n",
            "Round67: User0_1: 100%|███████████████████████████████████████████| 100/100 [00:04<00:00, 24.02it/s]\n",
            "Round67: User1_1: 100%|███████████████████████████████████████████| 100/100 [00:03<00:00, 27.19it/s]\n",
            "Round67: User3_1: 100%|███████████████████████████████████████████| 100/100 [00:03<00:00, 27.70it/s]\n"
          ]
        },
        {
          "output_type": "stream",
          "name": "stdout",
          "text": [
            "client:4 train_acc: 72.90%, train_loss: 15.4998\n",
            "client:2 train_acc: 72.80%, train_loss: 31.3427\n",
            "client:0 train_acc: 72.86%, train_loss: 46.5652\n",
            "client:1 train_acc: 72.78%, train_loss: 62.2016\n",
            "client:3 train_acc: 72.65%, train_loss: 77.9576\n",
            "Test set: Average loss: 3.9745, Accuracy: 928/10000 (9.28%)\n"
          ]
        },
        {
          "output_type": "stream",
          "name": "stderr",
          "text": [
            "Round68: User2_1: 100%|███████████████████████████████████████████| 100/100 [00:03<00:00, 26.94it/s]\n",
            "Round68: User4_1: 100%|███████████████████████████████████████████| 100/100 [00:04<00:00, 22.57it/s]\n",
            "Round68: User0_1: 100%|███████████████████████████████████████████| 100/100 [00:03<00:00, 27.50it/s]\n",
            "Round68: User1_1: 100%|███████████████████████████████████████████| 100/100 [00:03<00:00, 27.40it/s]\n",
            "Round68: User3_1: 100%|███████████████████████████████████████████| 100/100 [00:04<00:00, 23.19it/s]\n"
          ]
        },
        {
          "output_type": "stream",
          "name": "stdout",
          "text": [
            "client:2 train_acc: 72.59%, train_loss: 15.8075\n",
            "client:4 train_acc: 72.57%, train_loss: 31.3021\n",
            "client:0 train_acc: 72.88%, train_loss: 46.3979\n",
            "client:1 train_acc: 72.74%, train_loss: 61.9679\n",
            "client:3 train_acc: 72.72%, train_loss: 77.5819\n",
            "Test set: Average loss: 3.8794, Accuracy: 907/10000 (9.07%)\n"
          ]
        },
        {
          "output_type": "stream",
          "name": "stderr",
          "text": [
            "Round69: User1_1: 100%|███████████████████████████████████████████| 100/100 [00:04<00:00, 23.43it/s]\n",
            "Round69: User2_1: 100%|███████████████████████████████████████████| 100/100 [00:03<00:00, 26.75it/s]\n",
            "Round69: User4_1: 100%|███████████████████████████████████████████| 100/100 [00:03<00:00, 27.68it/s]\n",
            "Round69: User3_1: 100%|███████████████████████████████████████████| 100/100 [00:04<00:00, 23.39it/s]\n",
            "Round69: User0_1: 100%|███████████████████████████████████████████| 100/100 [00:03<00:00, 28.04it/s]\n"
          ]
        },
        {
          "output_type": "stream",
          "name": "stdout",
          "text": [
            "client:1 train_acc: 72.98%, train_loss: 15.3700\n",
            "client:2 train_acc: 72.68%, train_loss: 30.9271\n",
            "client:4 train_acc: 72.72%, train_loss: 46.2761\n",
            "client:3 train_acc: 72.71%, train_loss: 61.7291\n",
            "client:0 train_acc: 72.91%, train_loss: 76.7136\n",
            "Test set: Average loss: 3.8974, Accuracy: 907/10000 (9.07%)\n"
          ]
        },
        {
          "output_type": "stream",
          "name": "stderr",
          "text": [
            "Round70: User4_1: 100%|███████████████████████████████████████████| 100/100 [00:03<00:00, 26.17it/s]\n",
            "Round70: User2_1: 100%|███████████████████████████████████████████| 100/100 [00:03<00:00, 26.91it/s]\n",
            "Round70: User1_1: 100%|███████████████████████████████████████████| 100/100 [00:04<00:00, 23.36it/s]\n",
            "Round70: User3_1: 100%|███████████████████████████████████████████| 100/100 [00:03<00:00, 27.23it/s]\n",
            "Round70: User0_1: 100%|███████████████████████████████████████████| 100/100 [00:03<00:00, 26.88it/s]\n"
          ]
        },
        {
          "output_type": "stream",
          "name": "stdout",
          "text": [
            "client:4 train_acc: 73.47%, train_loss: 15.1375\n",
            "client:2 train_acc: 73.34%, train_loss: 30.5281\n",
            "client:1 train_acc: 73.30%, train_loss: 45.7372\n",
            "client:3 train_acc: 73.26%, train_loss: 61.0528\n",
            "client:0 train_acc: 73.49%, train_loss: 75.7731\n",
            "Test set: Average loss: 3.8197, Accuracy: 945/10000 (9.45%)\n"
          ]
        },
        {
          "output_type": "stream",
          "name": "stderr",
          "text": [
            "Round71: User3_1: 100%|███████████████████████████████████████████| 100/100 [00:03<00:00, 28.13it/s]\n",
            "Round71: User0_1: 100%|███████████████████████████████████████████| 100/100 [00:04<00:00, 22.80it/s]\n",
            "Round71: User2_1: 100%|███████████████████████████████████████████| 100/100 [00:03<00:00, 26.75it/s]\n",
            "Round71: User1_1: 100%|███████████████████████████████████████████| 100/100 [00:03<00:00, 27.04it/s]\n",
            "Round71: User4_1: 100%|███████████████████████████████████████████| 100/100 [00:04<00:00, 23.12it/s]\n"
          ]
        },
        {
          "output_type": "stream",
          "name": "stdout",
          "text": [
            "client:3 train_acc: 73.08%, train_loss: 15.2501\n",
            "client:0 train_acc: 73.67%, train_loss: 29.9189\n",
            "client:2 train_acc: 73.53%, train_loss: 45.2367\n",
            "client:1 train_acc: 73.41%, train_loss: 60.4239\n",
            "client:4 train_acc: 73.39%, train_loss: 75.5663\n",
            "Test set: Average loss: 4.1435, Accuracy: 973/10000 (9.73%)\n"
          ]
        },
        {
          "output_type": "stream",
          "name": "stderr",
          "text": [
            "Round72: User1_1: 100%|███████████████████████████████████████████| 100/100 [00:04<00:00, 23.87it/s]\n",
            "Round72: User0_1: 100%|███████████████████████████████████████████| 100/100 [00:03<00:00, 28.08it/s]\n",
            "Round72: User4_1: 100%|███████████████████████████████████████████| 100/100 [00:03<00:00, 27.35it/s]\n",
            "Round72: User3_1: 100%|███████████████████████████████████████████| 100/100 [00:04<00:00, 23.10it/s]\n",
            "Round72: User2_1: 100%|███████████████████████████████████████████| 100/100 [00:03<00:00, 27.14it/s]\n"
          ]
        },
        {
          "output_type": "stream",
          "name": "stdout",
          "text": [
            "client:1 train_acc: 73.76%, train_loss: 14.8629\n",
            "client:0 train_acc: 74.03%, train_loss: 29.4294\n",
            "client:4 train_acc: 74.00%, train_loss: 44.2983\n",
            "client:3 train_acc: 74.02%, train_loss: 59.3189\n",
            "client:2 train_acc: 73.91%, train_loss: 74.4511\n",
            "Test set: Average loss: 3.9670, Accuracy: 891/10000 (8.91%)\n"
          ]
        },
        {
          "output_type": "stream",
          "name": "stderr",
          "text": [
            "Round73: User3_1: 100%|███████████████████████████████████████████| 100/100 [00:03<00:00, 26.41it/s]\n",
            "Round73: User1_1: 100%|███████████████████████████████████████████| 100/100 [00:03<00:00, 25.85it/s]\n",
            "Round73: User2_1: 100%|███████████████████████████████████████████| 100/100 [00:04<00:00, 22.63it/s]\n",
            "Round73: User4_1: 100%|███████████████████████████████████████████| 100/100 [00:03<00:00, 26.22it/s]\n",
            "Round73: User0_1: 100%|███████████████████████████████████████████| 100/100 [00:03<00:00, 26.07it/s]\n"
          ]
        },
        {
          "output_type": "stream",
          "name": "stdout",
          "text": [
            "client:3 train_acc: 73.08%, train_loss: 15.2771\n",
            "client:1 train_acc: 73.11%, train_loss: 30.4060\n",
            "client:2 train_acc: 73.22%, train_loss: 45.7942\n",
            "client:4 train_acc: 73.20%, train_loss: 60.9968\n",
            "client:0 train_acc: 73.43%, train_loss: 75.6960\n",
            "Test set: Average loss: 4.3541, Accuracy: 848/10000 (8.48%)\n"
          ]
        },
        {
          "output_type": "stream",
          "name": "stderr",
          "text": [
            "Round74: User4_1: 100%|███████████████████████████████████████████| 100/100 [00:04<00:00, 24.65it/s]\n",
            "Round74: User0_1: 100%|███████████████████████████████████████████| 100/100 [00:04<00:00, 24.06it/s]\n",
            "Round74: User1_1: 100%|███████████████████████████████████████████| 100/100 [00:03<00:00, 26.90it/s]\n",
            "Round74: User2_1: 100%|███████████████████████████████████████████| 100/100 [00:03<00:00, 25.72it/s]\n",
            "Round74: User3_1: 100%|███████████████████████████████████████████| 100/100 [00:04<00:00, 23.55it/s]\n"
          ]
        },
        {
          "output_type": "stream",
          "name": "stdout",
          "text": [
            "client:4 train_acc: 73.75%, train_loss: 14.7954\n",
            "client:0 train_acc: 74.19%, train_loss: 29.2075\n",
            "client:1 train_acc: 74.09%, train_loss: 44.0623\n",
            "client:2 train_acc: 74.03%, train_loss: 59.0473\n",
            "client:3 train_acc: 74.03%, train_loss: 73.9038\n",
            "Test set: Average loss: 4.0505, Accuracy: 921/10000 (9.21%)\n"
          ]
        },
        {
          "output_type": "stream",
          "name": "stderr",
          "text": [
            "Round75: User1_1: 100%|███████████████████████████████████████████| 100/100 [00:04<00:00, 24.41it/s]\n",
            "Round75: User3_1: 100%|███████████████████████████████████████████| 100/100 [00:03<00:00, 26.39it/s]\n",
            "Round75: User2_1: 100%|███████████████████████████████████████████| 100/100 [00:04<00:00, 23.62it/s]\n",
            "Round75: User0_1: 100%|███████████████████████████████████████████| 100/100 [00:03<00:00, 25.05it/s]\n",
            "Round75: User4_1: 100%|███████████████████████████████████████████| 100/100 [00:03<00:00, 26.12it/s]\n"
          ]
        },
        {
          "output_type": "stream",
          "name": "stdout",
          "text": [
            "client:1 train_acc: 73.78%, train_loss: 14.6569\n",
            "client:3 train_acc: 74.15%, train_loss: 29.4039\n",
            "client:2 train_acc: 73.97%, train_loss: 44.3336\n",
            "client:0 train_acc: 74.18%, train_loss: 58.5819\n",
            "client:4 train_acc: 74.12%, train_loss: 73.2712\n",
            "Test set: Average loss: 4.2740, Accuracy: 874/10000 (8.74%)\n"
          ]
        },
        {
          "output_type": "stream",
          "name": "stderr",
          "text": [
            "Round76: User2_1: 100%|███████████████████████████████████████████| 100/100 [00:03<00:00, 26.19it/s]\n",
            "Round76: User3_1: 100%|███████████████████████████████████████████| 100/100 [00:04<00:00, 22.58it/s]\n",
            "Round76: User0_1: 100%|███████████████████████████████████████████| 100/100 [00:03<00:00, 25.92it/s]\n",
            "Round76: User4_1: 100%|███████████████████████████████████████████| 100/100 [00:03<00:00, 25.60it/s]\n",
            "Round76: User1_1: 100%|███████████████████████████████████████████| 100/100 [00:04<00:00, 22.42it/s]\n"
          ]
        },
        {
          "output_type": "stream",
          "name": "stdout",
          "text": [
            "client:2 train_acc: 74.66%, train_loss: 14.6284\n",
            "client:3 train_acc: 74.70%, train_loss: 29.1720\n",
            "client:0 train_acc: 74.88%, train_loss: 43.1677\n",
            "client:4 train_acc: 74.81%, train_loss: 57.5755\n",
            "client:1 train_acc: 74.74%, train_loss: 72.0315\n",
            "Test set: Average loss: 4.0408, Accuracy: 977/10000 (9.77%)\n"
          ]
        },
        {
          "output_type": "stream",
          "name": "stderr",
          "text": [
            "Round77: User3_1: 100%|███████████████████████████████████████████| 100/100 [00:04<00:00, 22.48it/s]\n",
            "Round77: User0_1: 100%|███████████████████████████████████████████| 100/100 [00:03<00:00, 28.24it/s]\n",
            "Round77: User4_1: 100%|███████████████████████████████████████████| 100/100 [00:03<00:00, 28.05it/s]\n",
            "Round77: User2_1: 100%|███████████████████████████████████████████| 100/100 [00:04<00:00, 23.28it/s]\n",
            "Round77: User1_1: 100%|███████████████████████████████████████████| 100/100 [00:03<00:00, 27.00it/s]\n"
          ]
        },
        {
          "output_type": "stream",
          "name": "stdout",
          "text": [
            "client:3 train_acc: 74.97%, train_loss: 14.4168\n",
            "client:0 train_acc: 75.38%, train_loss: 28.3243\n",
            "client:4 train_acc: 75.18%, train_loss: 42.6549\n",
            "client:2 train_acc: 75.01%, train_loss: 57.2086\n",
            "client:1 train_acc: 74.91%, train_loss: 71.5690\n",
            "Test set: Average loss: 4.2270, Accuracy: 896/10000 (8.96%)\n"
          ]
        },
        {
          "output_type": "stream",
          "name": "stderr",
          "text": [
            "Round78: User4_1: 100%|███████████████████████████████████████████| 100/100 [00:03<00:00, 27.61it/s]\n",
            "Round78: User0_1: 100%|███████████████████████████████████████████| 100/100 [00:03<00:00, 26.78it/s]\n",
            "Round78: User3_1: 100%|███████████████████████████████████████████| 100/100 [00:04<00:00, 23.48it/s]\n",
            "Round78: User2_1: 100%|███████████████████████████████████████████| 100/100 [00:03<00:00, 27.25it/s]\n",
            "Round78: User1_1: 100%|███████████████████████████████████████████| 100/100 [00:03<00:00, 27.53it/s]\n"
          ]
        },
        {
          "output_type": "stream",
          "name": "stdout",
          "text": [
            "client:4 train_acc: 73.87%, train_loss: 14.8691\n",
            "client:0 train_acc: 74.28%, train_loss: 29.2543\n",
            "client:3 train_acc: 74.11%, train_loss: 44.1367\n",
            "client:2 train_acc: 74.11%, train_loss: 59.0716\n",
            "client:1 train_acc: 74.03%, train_loss: 73.8949\n",
            "Test set: Average loss: 4.0791, Accuracy: 978/10000 (9.78%)\n"
          ]
        },
        {
          "output_type": "stream",
          "name": "stderr",
          "text": [
            "Round79: User3_1: 100%|███████████████████████████████████████████| 100/100 [00:03<00:00, 27.12it/s]\n",
            "Round79: User1_1: 100%|███████████████████████████████████████████| 100/100 [00:04<00:00, 22.80it/s]\n",
            "Round79: User4_1: 100%|███████████████████████████████████████████| 100/100 [00:03<00:00, 28.25it/s]\n",
            "Round79: User0_1: 100%|███████████████████████████████████████████| 100/100 [00:03<00:00, 26.69it/s]\n",
            "Round79: User2_1: 100%|███████████████████████████████████████████| 100/100 [00:04<00:00, 23.03it/s]\n"
          ]
        },
        {
          "output_type": "stream",
          "name": "stdout",
          "text": [
            "client:3 train_acc: 74.98%, train_loss: 14.1826\n",
            "client:1 train_acc: 75.05%, train_loss: 28.2955\n",
            "client:4 train_acc: 75.09%, train_loss: 42.3299\n",
            "client:0 train_acc: 75.30%, train_loss: 56.0511\n",
            "client:2 train_acc: 75.24%, train_loss: 70.3748\n",
            "Test set: Average loss: 4.1530, Accuracy: 944/10000 (9.44%)\n"
          ]
        },
        {
          "output_type": "stream",
          "name": "stderr",
          "text": [
            "Round80: User3_1: 100%|███████████████████████████████████████████| 100/100 [00:04<00:00, 23.09it/s]\n",
            "Round80: User0_1: 100%|███████████████████████████████████████████| 100/100 [00:03<00:00, 27.70it/s]\n",
            "Round80: User1_1: 100%|███████████████████████████████████████████| 100/100 [00:03<00:00, 27.28it/s]\n",
            "Round80: User4_1: 100%|███████████████████████████████████████████| 100/100 [00:04<00:00, 23.82it/s]\n",
            "Round80: User2_1: 100%|███████████████████████████████████████████| 100/100 [00:03<00:00, 28.04it/s]\n"
          ]
        },
        {
          "output_type": "stream",
          "name": "stdout",
          "text": [
            "client:3 train_acc: 75.35%, train_loss: 14.2250\n",
            "client:0 train_acc: 75.61%, train_loss: 27.9528\n",
            "client:1 train_acc: 75.31%, train_loss: 42.1421\n",
            "client:4 train_acc: 75.28%, train_loss: 56.2684\n",
            "client:2 train_acc: 75.19%, train_loss: 70.7116\n",
            "Test set: Average loss: 4.3762, Accuracy: 954/10000 (9.54%)\n"
          ]
        },
        {
          "output_type": "stream",
          "name": "stderr",
          "text": [
            "Round81: User0_1: 100%|███████████████████████████████████████████| 100/100 [00:03<00:00, 27.47it/s]\n",
            "Round81: User1_1: 100%|███████████████████████████████████████████| 100/100 [00:03<00:00, 27.82it/s]\n",
            "Round81: User2_1: 100%|███████████████████████████████████████████| 100/100 [00:04<00:00, 23.15it/s]\n",
            "Round81: User3_1: 100%|███████████████████████████████████████████| 100/100 [00:03<00:00, 27.32it/s]\n",
            "Round81: User4_1: 100%|███████████████████████████████████████████| 100/100 [00:03<00:00, 27.64it/s]\n"
          ]
        },
        {
          "output_type": "stream",
          "name": "stdout",
          "text": [
            "client:0 train_acc: 75.80%, train_loss: 14.0455\n",
            "client:1 train_acc: 75.06%, train_loss: 28.4893\n",
            "client:2 train_acc: 75.07%, train_loss: 43.2002\n",
            "client:3 train_acc: 74.90%, train_loss: 57.7114\n",
            "client:4 train_acc: 74.88%, train_loss: 72.1185\n",
            "Test set: Average loss: 3.7952, Accuracy: 978/10000 (9.78%)\n"
          ]
        },
        {
          "output_type": "stream",
          "name": "stderr",
          "text": [
            "Round82: User0_1: 100%|███████████████████████████████████████████| 100/100 [00:03<00:00, 26.09it/s]\n",
            "Round82: User4_1: 100%|███████████████████████████████████████████| 100/100 [00:04<00:00, 23.41it/s]\n",
            "Round82: User2_1: 100%|███████████████████████████████████████████| 100/100 [00:03<00:00, 27.93it/s]\n",
            "Round82: User1_1: 100%|███████████████████████████████████████████| 100/100 [00:03<00:00, 26.26it/s]\n",
            "Round82: User3_1: 100%|███████████████████████████████████████████| 100/100 [00:04<00:00, 22.10it/s]\n"
          ]
        },
        {
          "output_type": "stream",
          "name": "stdout",
          "text": [
            "client:0 train_acc: 76.39%, train_loss: 13.4596\n",
            "client:4 train_acc: 75.98%, train_loss: 27.3008\n",
            "client:2 train_acc: 75.92%, train_loss: 41.3391\n",
            "client:1 train_acc: 75.79%, train_loss: 55.1944\n",
            "client:3 train_acc: 75.80%, train_loss: 69.0422\n",
            "Test set: Average loss: 4.0794, Accuracy: 967/10000 (9.67%)\n"
          ]
        },
        {
          "output_type": "stream",
          "name": "stderr",
          "text": [
            "Round83: User1_1: 100%|███████████████████████████████████████████| 100/100 [00:04<00:00, 23.77it/s]\n",
            "Round83: User2_1: 100%|███████████████████████████████████████████| 100/100 [00:03<00:00, 26.67it/s]\n",
            "Round83: User4_1: 100%|███████████████████████████████████████████| 100/100 [00:03<00:00, 28.20it/s]\n",
            "Round83: User0_1: 100%|███████████████████████████████████████████| 100/100 [00:04<00:00, 23.93it/s]\n",
            "Round83: User3_1: 100%|███████████████████████████████████████████| 100/100 [00:03<00:00, 27.91it/s]\n"
          ]
        },
        {
          "output_type": "stream",
          "name": "stdout",
          "text": [
            "client:1 train_acc: 75.85%, train_loss: 13.8507\n",
            "client:2 train_acc: 75.74%, train_loss: 27.8980\n",
            "client:4 train_acc: 75.57%, train_loss: 41.8215\n",
            "client:0 train_acc: 75.72%, train_loss: 55.3993\n",
            "client:3 train_acc: 75.77%, train_loss: 69.3075\n",
            "Test set: Average loss: 3.9730, Accuracy: 963/10000 (9.63%)\n"
          ]
        },
        {
          "output_type": "stream",
          "name": "stderr",
          "text": [
            "Round84: User0_1: 100%|███████████████████████████████████████████| 100/100 [00:03<00:00, 27.49it/s]\n",
            "Round84: User1_1: 100%|███████████████████████████████████████████| 100/100 [00:03<00:00, 27.88it/s]\n",
            "Round84: User3_1: 100%|███████████████████████████████████████████| 100/100 [00:04<00:00, 24.27it/s]\n",
            "Round84: User4_1: 100%|███████████████████████████████████████████| 100/100 [00:03<00:00, 27.10it/s]\n",
            "Round84: User2_1: 100%|███████████████████████████████████████████| 100/100 [00:03<00:00, 28.35it/s]\n"
          ]
        },
        {
          "output_type": "stream",
          "name": "stdout",
          "text": [
            "client:0 train_acc: 76.29%, train_loss: 13.5598\n",
            "client:1 train_acc: 76.03%, train_loss: 27.4086\n",
            "client:3 train_acc: 76.01%, train_loss: 41.3864\n",
            "client:4 train_acc: 75.89%, train_loss: 55.1791\n",
            "client:2 train_acc: 75.88%, train_loss: 69.3454\n",
            "Test set: Average loss: 4.0824, Accuracy: 914/10000 (9.14%)\n"
          ]
        },
        {
          "output_type": "stream",
          "name": "stderr",
          "text": [
            "Round85: User1_1: 100%|███████████████████████████████████████████| 100/100 [00:03<00:00, 27.68it/s]\n",
            "Round85: User2_1: 100%|███████████████████████████████████████████| 100/100 [00:04<00:00, 23.71it/s]\n",
            "Round85: User3_1: 100%|███████████████████████████████████████████| 100/100 [00:03<00:00, 28.57it/s]\n",
            "Round85: User4_1: 100%|███████████████████████████████████████████| 100/100 [00:03<00:00, 28.72it/s]\n",
            "Round85: User0_1: 100%|███████████████████████████████████████████| 100/100 [00:04<00:00, 23.50it/s]\n"
          ]
        },
        {
          "output_type": "stream",
          "name": "stdout",
          "text": [
            "client:1 train_acc: 75.82%, train_loss: 13.7383\n",
            "client:2 train_acc: 75.86%, train_loss: 27.7601\n",
            "client:3 train_acc: 76.01%, train_loss: 41.5367\n",
            "client:4 train_acc: 75.97%, train_loss: 55.2274\n",
            "client:0 train_acc: 76.10%, train_loss: 68.6218\n",
            "Test set: Average loss: 4.0192, Accuracy: 962/10000 (9.62%)\n"
          ]
        },
        {
          "output_type": "stream",
          "name": "stderr",
          "text": [
            "Round86: User3_1: 100%|███████████████████████████████████████████| 100/100 [00:04<00:00, 24.11it/s]\n",
            "Round86: User0_1: 100%|███████████████████████████████████████████| 100/100 [00:03<00:00, 27.34it/s]\n",
            "Round86: User2_1: 100%|███████████████████████████████████████████| 100/100 [00:03<00:00, 27.29it/s]\n",
            "Round86: User1_1: 100%|███████████████████████████████████████████| 100/100 [00:04<00:00, 24.30it/s]\n",
            "Round86: User4_1: 100%|███████████████████████████████████████████| 100/100 [00:03<00:00, 27.82it/s]\n"
          ]
        },
        {
          "output_type": "stream",
          "name": "stdout",
          "text": [
            "client:3 train_acc: 76.42%, train_loss: 13.5213\n",
            "client:0 train_acc: 76.75%, train_loss: 26.6471\n",
            "client:2 train_acc: 76.61%, train_loss: 40.3635\n",
            "client:1 train_acc: 76.53%, train_loss: 53.7638\n",
            "client:4 train_acc: 76.55%, train_loss: 67.1268\n",
            "Test set: Average loss: 4.1733, Accuracy: 920/10000 (9.20%)\n"
          ]
        },
        {
          "output_type": "stream",
          "name": "stderr",
          "text": [
            "Round87: User2_1: 100%|███████████████████████████████████████████| 100/100 [00:03<00:00, 26.87it/s]\n",
            "Round87: User3_1: 100%|███████████████████████████████████████████| 100/100 [00:03<00:00, 27.39it/s]\n",
            "Round87: User4_1: 100%|███████████████████████████████████████████| 100/100 [00:04<00:00, 23.61it/s]\n",
            "Round87: User1_1: 100%|███████████████████████████████████████████| 100/100 [00:03<00:00, 26.36it/s]\n",
            "Round87: User0_1: 100%|███████████████████████████████████████████| 100/100 [00:03<00:00, 26.93it/s]\n"
          ]
        },
        {
          "output_type": "stream",
          "name": "stdout",
          "text": [
            "client:2 train_acc: 76.03%, train_loss: 13.6977\n",
            "client:3 train_acc: 76.35%, train_loss: 27.3104\n",
            "client:4 train_acc: 76.37%, train_loss: 40.8398\n",
            "client:1 train_acc: 76.33%, train_loss: 54.4387\n",
            "client:0 train_acc: 76.37%, train_loss: 67.6943\n",
            "Test set: Average loss: 4.3518, Accuracy: 930/10000 (9.30%)\n"
          ]
        },
        {
          "output_type": "stream",
          "name": "stderr",
          "text": [
            "Round88: User2_1: 100%|███████████████████████████████████████████| 100/100 [00:03<00:00, 27.12it/s]\n",
            "Round88: User1_1: 100%|███████████████████████████████████████████| 100/100 [00:04<00:00, 23.53it/s]\n",
            "Round88: User3_1: 100%|███████████████████████████████████████████| 100/100 [00:03<00:00, 27.70it/s]\n",
            "Round88: User4_1: 100%|███████████████████████████████████████████| 100/100 [00:03<00:00, 28.97it/s]\n",
            "Round88: User0_1: 100%|███████████████████████████████████████████| 100/100 [00:04<00:00, 24.55it/s]\n"
          ]
        },
        {
          "output_type": "stream",
          "name": "stdout",
          "text": [
            "client:2 train_acc: 77.16%, train_loss: 13.4902\n",
            "client:1 train_acc: 77.04%, train_loss: 26.7628\n",
            "client:3 train_acc: 77.06%, train_loss: 40.0984\n",
            "client:4 train_acc: 76.92%, train_loss: 53.4355\n",
            "client:0 train_acc: 76.95%, train_loss: 66.4819\n",
            "Test set: Average loss: 4.2542, Accuracy: 919/10000 (9.19%)\n"
          ]
        },
        {
          "output_type": "stream",
          "name": "stderr",
          "text": [
            "Round89: User4_1: 100%|███████████████████████████████████████████| 100/100 [00:03<00:00, 25.70it/s]\n",
            "Round89: User2_1: 100%|███████████████████████████████████████████| 100/100 [00:03<00:00, 26.82it/s]\n",
            "Round89: User0_1: 100%|███████████████████████████████████████████| 100/100 [00:03<00:00, 27.42it/s]\n",
            "Round89: User3_1: 100%|███████████████████████████████████████████| 100/100 [00:03<00:00, 26.26it/s]\n",
            "Round89: User1_1: 100%|███████████████████████████████████████████| 100/100 [00:04<00:00, 24.52it/s]\n"
          ]
        },
        {
          "output_type": "stream",
          "name": "stdout",
          "text": [
            "client:4 train_acc: 77.06%, train_loss: 13.2075\n",
            "client:2 train_acc: 76.83%, train_loss: 26.6533\n",
            "client:0 train_acc: 77.00%, train_loss: 39.4931\n",
            "client:3 train_acc: 77.01%, train_loss: 52.7398\n",
            "client:1 train_acc: 76.95%, train_loss: 65.9831\n",
            "Test set: Average loss: 4.4065, Accuracy: 918/10000 (9.18%)\n"
          ]
        },
        {
          "output_type": "stream",
          "name": "stderr",
          "text": [
            "Round90: User4_1: 100%|███████████████████████████████████████████| 100/100 [00:04<00:00, 24.15it/s]\n",
            "Round90: User1_1: 100%|███████████████████████████████████████████| 100/100 [00:03<00:00, 27.80it/s]\n",
            "Round90: User0_1: 100%|███████████████████████████████████████████| 100/100 [00:03<00:00, 27.99it/s]\n",
            "Round90: User3_1: 100%|███████████████████████████████████████████| 100/100 [00:04<00:00, 23.42it/s]\n",
            "Round90: User2_1: 100%|███████████████████████████████████████████| 100/100 [00:03<00:00, 26.00it/s]\n"
          ]
        },
        {
          "output_type": "stream",
          "name": "stdout",
          "text": [
            "client:4 train_acc: 76.88%, train_loss: 13.0784\n",
            "client:1 train_acc: 76.90%, train_loss: 26.1639\n",
            "client:0 train_acc: 77.31%, train_loss: 38.9524\n",
            "client:3 train_acc: 77.31%, train_loss: 52.1229\n",
            "client:2 train_acc: 77.26%, train_loss: 65.5473\n",
            "Test set: Average loss: 4.0128, Accuracy: 992/10000 (9.92%)\n"
          ]
        },
        {
          "output_type": "stream",
          "name": "stderr",
          "text": [
            "Round91: User0_1: 100%|███████████████████████████████████████████| 100/100 [00:03<00:00, 27.25it/s]\n",
            "Round91: User4_1: 100%|███████████████████████████████████████████| 100/100 [00:04<00:00, 24.54it/s]\n",
            "Round91: User3_1: 100%|███████████████████████████████████████████| 100/100 [00:04<00:00, 23.99it/s]\n",
            "Round91: User1_1: 100%|███████████████████████████████████████████| 100/100 [00:03<00:00, 27.27it/s]\n",
            "Round91: User2_1: 100%|███████████████████████████████████████████| 100/100 [00:03<00:00, 25.78it/s]\n"
          ]
        },
        {
          "output_type": "stream",
          "name": "stdout",
          "text": [
            "client:0 train_acc: 77.60%, train_loss: 12.7382\n",
            "client:4 train_acc: 77.24%, train_loss: 25.9151\n",
            "client:3 train_acc: 77.21%, train_loss: 39.1394\n",
            "client:1 train_acc: 77.13%, train_loss: 52.3167\n",
            "client:2 train_acc: 77.16%, train_loss: 65.6262\n",
            "Test set: Average loss: 4.2544, Accuracy: 979/10000 (9.79%)\n"
          ]
        },
        {
          "output_type": "stream",
          "name": "stderr",
          "text": [
            "Round92: User4_1: 100%|███████████████████████████████████████████| 100/100 [00:04<00:00, 23.17it/s]\n",
            "Round92: User0_1: 100%|███████████████████████████████████████████| 100/100 [00:03<00:00, 27.42it/s]\n",
            "Round92: User3_1: 100%|███████████████████████████████████████████| 100/100 [00:03<00:00, 26.30it/s]\n",
            "Round92: User1_1: 100%|███████████████████████████████████████████| 100/100 [00:04<00:00, 22.38it/s]\n",
            "Round92: User2_1: 100%|███████████████████████████████████████████| 100/100 [00:03<00:00, 27.09it/s]\n"
          ]
        },
        {
          "output_type": "stream",
          "name": "stdout",
          "text": [
            "client:4 train_acc: 77.97%, train_loss: 12.6850\n",
            "client:0 train_acc: 78.20%, train_loss: 25.1341\n",
            "client:3 train_acc: 78.08%, train_loss: 37.9898\n",
            "client:1 train_acc: 78.01%, train_loss: 50.7494\n",
            "client:2 train_acc: 77.88%, train_loss: 63.8759\n",
            "Test set: Average loss: 4.2285, Accuracy: 951/10000 (9.51%)\n"
          ]
        },
        {
          "output_type": "stream",
          "name": "stderr",
          "text": [
            "Round93: User1_1: 100%|███████████████████████████████████████████| 100/100 [00:03<00:00, 26.86it/s]\n",
            "Round93: User2_1: 100%|███████████████████████████████████████████| 100/100 [00:03<00:00, 26.99it/s]\n",
            "Round93: User0_1: 100%|███████████████████████████████████████████| 100/100 [00:04<00:00, 24.23it/s]\n",
            "Round93: User3_1: 100%|███████████████████████████████████████████| 100/100 [00:03<00:00, 28.17it/s]\n",
            "Round93: User4_1: 100%|███████████████████████████████████████████| 100/100 [00:03<00:00, 28.53it/s]\n"
          ]
        },
        {
          "output_type": "stream",
          "name": "stdout",
          "text": [
            "client:1 train_acc: 77.48%, train_loss: 12.8744\n",
            "client:2 train_acc: 77.44%, train_loss: 25.8729\n",
            "client:0 train_acc: 77.50%, train_loss: 38.4697\n",
            "client:3 train_acc: 77.52%, train_loss: 51.3177\n",
            "client:4 train_acc: 77.42%, train_loss: 64.1578\n",
            "Test set: Average loss: 4.1304, Accuracy: 938/10000 (9.38%)\n"
          ]
        },
        {
          "output_type": "stream",
          "name": "stderr",
          "text": [
            "Round94: User0_1: 100%|███████████████████████████████████████████| 100/100 [00:03<00:00, 28.49it/s]\n",
            "Round94: User2_1: 100%|███████████████████████████████████████████| 100/100 [00:03<00:00, 25.70it/s]\n",
            "Round94: User4_1: 100%|███████████████████████████████████████████| 100/100 [00:03<00:00, 25.49it/s]\n",
            "Round94: User3_1: 100%|███████████████████████████████████████████| 100/100 [00:03<00:00, 27.31it/s]\n",
            "Round94: User1_1: 100%|███████████████████████████████████████████| 100/100 [00:03<00:00, 25.71it/s]\n"
          ]
        },
        {
          "output_type": "stream",
          "name": "stdout",
          "text": [
            "client:0 train_acc: 78.96%, train_loss: 12.2204\n",
            "client:2 train_acc: 78.51%, train_loss: 25.0916\n",
            "client:4 train_acc: 78.25%, train_loss: 37.7240\n",
            "client:3 train_acc: 78.14%, train_loss: 50.4222\n",
            "client:1 train_acc: 78.12%, train_loss: 63.0286\n",
            "Test set: Average loss: 4.1968, Accuracy: 963/10000 (9.63%)\n"
          ]
        },
        {
          "output_type": "stream",
          "name": "stderr",
          "text": [
            "Round95: User1_1: 100%|███████████████████████████████████████████| 100/100 [00:04<00:00, 24.44it/s]\n",
            "Round95: User3_1: 100%|███████████████████████████████████████████| 100/100 [00:03<00:00, 27.01it/s]\n",
            "Round95: User2_1: 100%|███████████████████████████████████████████| 100/100 [00:03<00:00, 28.02it/s]\n",
            "Round95: User0_1: 100%|███████████████████████████████████████████| 100/100 [00:04<00:00, 23.80it/s]\n",
            "Round95: User4_1: 100%|███████████████████████████████████████████| 100/100 [00:04<00:00, 23.93it/s]\n"
          ]
        },
        {
          "output_type": "stream",
          "name": "stdout",
          "text": [
            "client:1 train_acc: 77.97%, train_loss: 12.5932\n",
            "client:3 train_acc: 77.88%, train_loss: 25.2936\n",
            "client:2 train_acc: 77.74%, train_loss: 38.2415\n",
            "client:0 train_acc: 77.82%, train_loss: 50.6234\n",
            "client:4 train_acc: 77.79%, train_loss: 63.1865\n",
            "Test set: Average loss: 4.2672, Accuracy: 931/10000 (9.31%)\n"
          ]
        },
        {
          "output_type": "stream",
          "name": "stderr",
          "text": [
            "Round96: User1_1: 100%|███████████████████████████████████████████| 100/100 [00:03<00:00, 26.16it/s]\n",
            "Round96: User0_1: 100%|███████████████████████████████████████████| 100/100 [00:03<00:00, 26.45it/s]\n",
            "Round96: User2_1: 100%|███████████████████████████████████████████| 100/100 [00:04<00:00, 24.54it/s]\n",
            "Round96: User3_1: 100%|███████████████████████████████████████████| 100/100 [00:03<00:00, 26.32it/s]\n",
            "Round96: User4_1: 100%|███████████████████████████████████████████| 100/100 [00:03<00:00, 27.91it/s]\n"
          ]
        },
        {
          "output_type": "stream",
          "name": "stdout",
          "text": [
            "client:1 train_acc: 78.28%, train_loss: 12.5210\n",
            "client:0 train_acc: 78.51%, train_loss: 24.8088\n",
            "client:2 train_acc: 78.44%, train_loss: 37.5992\n",
            "client:3 train_acc: 78.35%, train_loss: 50.1847\n",
            "client:4 train_acc: 78.31%, train_loss: 62.6933\n",
            "Test set: Average loss: 3.9720, Accuracy: 983/10000 (9.83%)\n"
          ]
        },
        {
          "output_type": "stream",
          "name": "stderr",
          "text": [
            "Round97: User1_1: 100%|███████████████████████████████████████████| 100/100 [00:03<00:00, 27.23it/s]\n",
            "Round97: User3_1: 100%|███████████████████████████████████████████| 100/100 [00:04<00:00, 24.13it/s]\n",
            "Round97: User4_1: 100%|███████████████████████████████████████████| 100/100 [00:03<00:00, 26.54it/s]\n",
            "Round97: User0_1: 100%|███████████████████████████████████████████| 100/100 [00:03<00:00, 26.96it/s]\n",
            "Round97: User2_1: 100%|███████████████████████████████████████████| 100/100 [00:03<00:00, 25.35it/s]\n"
          ]
        },
        {
          "output_type": "stream",
          "name": "stdout",
          "text": [
            "client:1 train_acc: 78.52%, train_loss: 12.3574\n",
            "client:3 train_acc: 78.41%, train_loss: 24.7307\n",
            "client:4 train_acc: 78.40%, train_loss: 37.0829\n",
            "client:0 train_acc: 78.59%, train_loss: 49.1728\n",
            "client:2 train_acc: 78.67%, train_loss: 61.7388\n",
            "Test set: Average loss: 4.2033, Accuracy: 972/10000 (9.72%)\n"
          ]
        },
        {
          "output_type": "stream",
          "name": "stderr",
          "text": [
            "Round98: User3_1: 100%|███████████████████████████████████████████| 100/100 [00:04<00:00, 22.64it/s]\n",
            "Round98: User0_1: 100%|███████████████████████████████████████████| 100/100 [00:03<00:00, 26.74it/s]\n",
            "Round98: User4_1: 100%|███████████████████████████████████████████| 100/100 [00:03<00:00, 26.51it/s]\n",
            "Round98: User2_1: 100%|███████████████████████████████████████████| 100/100 [00:04<00:00, 23.91it/s]\n",
            "Round98: User1_1: 100%|███████████████████████████████████████████| 100/100 [00:03<00:00, 25.63it/s]\n"
          ]
        },
        {
          "output_type": "stream",
          "name": "stdout",
          "text": [
            "client:3 train_acc: 77.92%, train_loss: 12.5287\n",
            "client:0 train_acc: 78.35%, train_loss: 24.8529\n",
            "client:4 train_acc: 78.09%, train_loss: 37.4065\n",
            "client:2 train_acc: 77.98%, train_loss: 50.2688\n",
            "client:1 train_acc: 78.03%, train_loss: 62.8190\n",
            "Test set: Average loss: 4.0809, Accuracy: 971/10000 (9.71%)\n"
          ]
        },
        {
          "output_type": "stream",
          "name": "stderr",
          "text": [
            "Round99: User0_1: 100%|███████████████████████████████████████████| 100/100 [00:03<00:00, 26.19it/s]\n",
            "Round99: User4_1: 100%|███████████████████████████████████████████| 100/100 [00:03<00:00, 26.67it/s]\n",
            "Round99: User3_1: 100%|███████████████████████████████████████████| 100/100 [00:04<00:00, 22.57it/s]\n",
            "Round99: User1_1: 100%|███████████████████████████████████████████| 100/100 [00:03<00:00, 26.69it/s]\n",
            "Round99: User2_1: 100%|███████████████████████████████████████████| 100/100 [00:03<00:00, 26.66it/s]\n"
          ]
        },
        {
          "output_type": "stream",
          "name": "stdout",
          "text": [
            "client:0 train_acc: 79.35%, train_loss: 11.9437\n",
            "client:4 train_acc: 79.20%, train_loss: 24.0962\n",
            "client:3 train_acc: 79.12%, train_loss: 36.3466\n",
            "client:1 train_acc: 79.11%, train_loss: 48.4485\n",
            "client:2 train_acc: 79.03%, train_loss: 60.8895\n",
            "Test set: Average loss: 4.3517, Accuracy: 950/10000 (9.50%)\n"
          ]
        },
        {
          "output_type": "stream",
          "name": "stderr",
          "text": [
            "Round100: User3_1: 100%|██████████████████████████████████████████| 100/100 [00:03<00:00, 26.44it/s]\n",
            "Round100: User0_1: 100%|██████████████████████████████████████████| 100/100 [00:04<00:00, 22.94it/s]\n",
            "Round100: User4_1: 100%|██████████████████████████████████████████| 100/100 [00:03<00:00, 27.36it/s]\n",
            "Round100: User2_1: 100%|██████████████████████████████████████████| 100/100 [00:03<00:00, 26.62it/s]\n",
            "Round100: User1_1: 100%|██████████████████████████████████████████| 100/100 [00:04<00:00, 22.70it/s]\n"
          ]
        },
        {
          "output_type": "stream",
          "name": "stdout",
          "text": [
            "client:3 train_acc: 78.73%, train_loss: 12.1091\n",
            "client:0 train_acc: 79.19%, train_loss: 23.8042\n",
            "client:4 train_acc: 79.11%, train_loss: 35.8940\n",
            "client:2 train_acc: 79.14%, train_loss: 48.1618\n",
            "client:1 train_acc: 79.15%, train_loss: 60.2462\n",
            "Test set: Average loss: 4.2672, Accuracy: 966/10000 (9.66%)\n"
          ]
        },
        {
          "output_type": "stream",
          "name": "stderr",
          "text": [
            "Round101: User3_1: 100%|██████████████████████████████████████████| 100/100 [00:04<00:00, 22.69it/s]\n",
            "Round101: User0_1: 100%|██████████████████████████████████████████| 100/100 [00:03<00:00, 27.21it/s]\n",
            "Round101: User1_1: 100%|██████████████████████████████████████████| 100/100 [00:03<00:00, 26.46it/s]\n",
            "Round101: User4_1: 100%|██████████████████████████████████████████| 100/100 [00:04<00:00, 22.90it/s]\n",
            "Round101: User2_1: 100%|██████████████████████████████████████████| 100/100 [00:03<00:00, 26.24it/s]\n"
          ]
        },
        {
          "output_type": "stream",
          "name": "stdout",
          "text": [
            "client:3 train_acc: 79.13%, train_loss: 12.0836\n",
            "client:0 train_acc: 79.29%, train_loss: 23.8286\n",
            "client:1 train_acc: 79.35%, train_loss: 35.7457\n",
            "client:4 train_acc: 79.34%, train_loss: 47.6913\n",
            "client:2 train_acc: 79.30%, train_loss: 59.9835\n",
            "Test set: Average loss: 4.1277, Accuracy: 946/10000 (9.46%)\n"
          ]
        },
        {
          "output_type": "stream",
          "name": "stderr",
          "text": [
            "Round102: User1_1: 100%|██████████████████████████████████████████| 100/100 [00:03<00:00, 25.94it/s]\n",
            "Round102: User2_1: 100%|██████████████████████████████████████████| 100/100 [00:03<00:00, 25.95it/s]\n",
            "Round102: User4_1: 100%|██████████████████████████████████████████| 100/100 [00:04<00:00, 23.12it/s]\n",
            "Round102: User3_1: 100%|██████████████████████████████████████████| 100/100 [00:03<00:00, 26.36it/s]\n",
            "Round102: User0_1: 100%|██████████████████████████████████████████| 100/100 [00:03<00:00, 26.42it/s]\n"
          ]
        },
        {
          "output_type": "stream",
          "name": "stdout",
          "text": [
            "client:1 train_acc: 79.51%, train_loss: 11.9218\n",
            "client:2 train_acc: 79.31%, train_loss: 24.1931\n",
            "client:4 train_acc: 79.26%, train_loss: 36.2520\n",
            "client:3 train_acc: 79.20%, train_loss: 48.2956\n",
            "client:0 train_acc: 79.34%, train_loss: 59.9900\n",
            "Test set: Average loss: 4.4755, Accuracy: 920/10000 (9.20%)\n"
          ]
        },
        {
          "output_type": "stream",
          "name": "stderr",
          "text": [
            "Round103: User3_1: 100%|██████████████████████████████████████████| 100/100 [00:04<00:00, 23.02it/s]\n",
            "Round103: User4_1: 100%|██████████████████████████████████████████| 100/100 [00:03<00:00, 26.27it/s]\n",
            "Round103: User0_1: 100%|██████████████████████████████████████████| 100/100 [00:03<00:00, 26.75it/s]\n",
            "Round103: User2_1: 100%|██████████████████████████████████████████| 100/100 [00:04<00:00, 22.94it/s]\n",
            "Round103: User1_1: 100%|██████████████████████████████████████████| 100/100 [00:03<00:00, 25.32it/s]\n"
          ]
        },
        {
          "output_type": "stream",
          "name": "stdout",
          "text": [
            "client:3 train_acc: 79.11%, train_loss: 12.0470\n",
            "client:4 train_acc: 79.12%, train_loss: 24.0167\n",
            "client:0 train_acc: 79.35%, train_loss: 35.6960\n",
            "client:2 train_acc: 79.25%, train_loss: 47.7922\n",
            "client:1 train_acc: 79.25%, train_loss: 59.7314\n",
            "Test set: Average loss: 4.0376, Accuracy: 1007/10000 (10.07%)\n"
          ]
        },
        {
          "output_type": "stream",
          "name": "stderr",
          "text": [
            "Round104: User4_1: 100%|██████████████████████████████████████████| 100/100 [00:03<00:00, 26.13it/s]\n",
            "Round104: User1_1: 100%|██████████████████████████████████████████| 100/100 [00:03<00:00, 25.04it/s]\n",
            "Round104: User3_1: 100%|██████████████████████████████████████████| 100/100 [00:04<00:00, 22.07it/s]\n",
            "Round104: User0_1: 100%|██████████████████████████████████████████| 100/100 [00:03<00:00, 26.14it/s]\n",
            "Round104: User2_1: 100%|██████████████████████████████████████████| 100/100 [00:03<00:00, 26.27it/s]\n"
          ]
        },
        {
          "output_type": "stream",
          "name": "stdout",
          "text": [
            "client:4 train_acc: 79.64%, train_loss: 11.7922\n",
            "client:1 train_acc: 79.84%, train_loss: 23.5374\n",
            "client:3 train_acc: 79.75%, train_loss: 35.3508\n",
            "client:0 train_acc: 79.75%, train_loss: 47.0180\n",
            "client:2 train_acc: 79.68%, train_loss: 59.0680\n",
            "Test set: Average loss: 4.3014, Accuracy: 927/10000 (9.27%)\n"
          ]
        },
        {
          "output_type": "stream",
          "name": "stderr",
          "text": [
            "Round105: User1_1: 100%|██████████████████████████████████████████| 100/100 [00:04<00:00, 24.62it/s]\n",
            "Round105: User3_1: 100%|██████████████████████████████████████████| 100/100 [00:04<00:00, 23.16it/s]\n",
            "Round105: User2_1: 100%|██████████████████████████████████████████| 100/100 [00:03<00:00, 26.06it/s]\n",
            "Round105: User4_1: 100%|██████████████████████████████████████████| 100/100 [00:04<00:00, 23.87it/s]\n",
            "Round105: User0_1: 100%|██████████████████████████████████████████| 100/100 [00:04<00:00, 23.80it/s]\n"
          ]
        },
        {
          "output_type": "stream",
          "name": "stdout",
          "text": [
            "client:1 train_acc: 80.04%, train_loss: 11.5559\n",
            "client:3 train_acc: 79.96%, train_loss: 23.2122\n",
            "client:2 train_acc: 79.78%, train_loss: 35.1469\n",
            "client:4 train_acc: 79.74%, train_loss: 46.8136\n",
            "client:0 train_acc: 79.85%, train_loss: 58.1904\n",
            "Test set: Average loss: 4.2464, Accuracy: 942/10000 (9.42%)\n"
          ]
        },
        {
          "output_type": "stream",
          "name": "stderr",
          "text": [
            "Round106: User1_1: 100%|██████████████████████████████████████████| 100/100 [00:03<00:00, 26.65it/s]\n",
            "Round106: User2_1: 100%|██████████████████████████████████████████| 100/100 [00:03<00:00, 26.95it/s]\n",
            "Round106: User3_1: 100%|██████████████████████████████████████████| 100/100 [00:04<00:00, 22.66it/s]\n",
            "Round106: User0_1: 100%|██████████████████████████████████████████| 100/100 [00:03<00:00, 26.25it/s]\n",
            "Round106: User4_1: 100%|██████████████████████████████████████████| 100/100 [00:03<00:00, 25.24it/s]\n"
          ]
        },
        {
          "output_type": "stream",
          "name": "stdout",
          "text": [
            "client:1 train_acc: 79.76%, train_loss: 11.6344\n",
            "client:2 train_acc: 79.66%, train_loss: 23.5255\n",
            "client:3 train_acc: 79.64%, train_loss: 35.2578\n",
            "client:0 train_acc: 79.78%, train_loss: 46.7480\n",
            "client:4 train_acc: 79.69%, train_loss: 58.4422\n",
            "Test set: Average loss: 4.0804, Accuracy: 1010/10000 (10.10%)\n"
          ]
        },
        {
          "output_type": "stream",
          "name": "stderr",
          "text": [
            "Round107: User2_1: 100%|██████████████████████████████████████████| 100/100 [00:03<00:00, 26.42it/s]\n",
            "Round107: User3_1: 100%|██████████████████████████████████████████| 100/100 [00:04<00:00, 21.71it/s]\n",
            "Round107: User4_1: 100%|██████████████████████████████████████████| 100/100 [00:03<00:00, 26.80it/s]\n",
            "Round107: User0_1: 100%|██████████████████████████████████████████| 100/100 [00:03<00:00, 26.34it/s]\n",
            "Round107: User1_1: 100%|██████████████████████████████████████████| 100/100 [00:04<00:00, 23.11it/s]\n"
          ]
        },
        {
          "output_type": "stream",
          "name": "stdout",
          "text": [
            "client:2 train_acc: 79.99%, train_loss: 11.7711\n",
            "client:3 train_acc: 79.98%, train_loss: 23.2918\n",
            "client:4 train_acc: 80.01%, train_loss: 34.7386\n",
            "client:0 train_acc: 80.09%, train_loss: 46.0087\n",
            "client:1 train_acc: 80.10%, train_loss: 57.4861\n",
            "Test set: Average loss: 4.1980, Accuracy: 1017/10000 (10.17%)\n"
          ]
        },
        {
          "output_type": "stream",
          "name": "stderr",
          "text": [
            "Round108: User3_1: 100%|██████████████████████████████████████████| 100/100 [00:04<00:00, 23.07it/s]\n",
            "Round108: User4_1: 100%|██████████████████████████████████████████| 100/100 [00:03<00:00, 27.30it/s]\n",
            "Round108: User0_1: 100%|██████████████████████████████████████████| 100/100 [00:03<00:00, 27.35it/s]\n",
            "Round108: User1_1: 100%|██████████████████████████████████████████| 100/100 [00:04<00:00, 23.04it/s]\n",
            "Round108: User2_1: 100%|██████████████████████████████████████████| 100/100 [00:03<00:00, 27.34it/s]\n"
          ]
        },
        {
          "output_type": "stream",
          "name": "stdout",
          "text": [
            "client:3 train_acc: 80.19%, train_loss: 11.4258\n",
            "client:4 train_acc: 80.31%, train_loss: 22.8072\n",
            "client:0 train_acc: 80.33%, train_loss: 34.0180\n",
            "client:1 train_acc: 80.40%, train_loss: 45.3050\n",
            "client:2 train_acc: 80.39%, train_loss: 56.8092\n",
            "Test set: Average loss: 4.3017, Accuracy: 944/10000 (9.44%)\n"
          ]
        },
        {
          "output_type": "stream",
          "name": "stderr",
          "text": [
            "Round109: User2_1: 100%|██████████████████████████████████████████| 100/100 [00:03<00:00, 27.38it/s]\n",
            "Round109: User3_1: 100%|██████████████████████████████████████████| 100/100 [00:03<00:00, 27.56it/s]\n",
            "Round109: User0_1: 100%|██████████████████████████████████████████| 100/100 [00:04<00:00, 23.76it/s]\n",
            "Round109: User4_1: 100%|██████████████████████████████████████████| 100/100 [00:03<00:00, 26.83it/s]\n",
            "Round109: User1_1: 100%|██████████████████████████████████████████| 100/100 [00:03<00:00, 26.05it/s]\n"
          ]
        },
        {
          "output_type": "stream",
          "name": "stdout",
          "text": [
            "client:2 train_acc: 80.83%, train_loss: 11.3909\n",
            "client:3 train_acc: 80.72%, train_loss: 22.6553\n",
            "client:0 train_acc: 80.83%, train_loss: 33.6422\n",
            "client:4 train_acc: 80.84%, train_loss: 44.7996\n",
            "client:1 train_acc: 80.87%, train_loss: 55.9669\n",
            "Test set: Average loss: 4.1972, Accuracy: 984/10000 (9.84%)\n"
          ]
        },
        {
          "output_type": "stream",
          "name": "stderr",
          "text": [
            "Round110: User2_1: 100%|██████████████████████████████████████████| 100/100 [00:03<00:00, 27.75it/s]\n",
            "Round110: User3_1: 100%|██████████████████████████████████████████| 100/100 [00:04<00:00, 23.01it/s]\n",
            "Round110: User4_1: 100%|██████████████████████████████████████████| 100/100 [00:03<00:00, 27.73it/s]\n",
            "Round110: User0_1: 100%|██████████████████████████████████████████| 100/100 [00:03<00:00, 27.98it/s]\n",
            "Round110: User1_1: 100%|██████████████████████████████████████████| 100/100 [00:04<00:00, 23.50it/s]\n"
          ]
        },
        {
          "output_type": "stream",
          "name": "stdout",
          "text": [
            "client:2 train_acc: 80.64%, train_loss: 11.4155\n",
            "client:3 train_acc: 80.60%, train_loss: 22.6597\n",
            "client:4 train_acc: 80.65%, train_loss: 33.8406\n",
            "client:0 train_acc: 80.66%, train_loss: 44.9415\n",
            "client:1 train_acc: 80.65%, train_loss: 56.1233\n",
            "Test set: Average loss: 4.4666, Accuracy: 1009/10000 (10.09%)\n"
          ]
        },
        {
          "output_type": "stream",
          "name": "stderr",
          "text": [
            "Round111: User0_1: 100%|██████████████████████████████████████████| 100/100 [00:04<00:00, 23.85it/s]\n",
            "Round111: User4_1: 100%|██████████████████████████████████████████| 100/100 [00:03<00:00, 27.81it/s]\n",
            "Round111: User1_1: 100%|██████████████████████████████████████████| 100/100 [00:03<00:00, 27.26it/s]\n",
            "Round111: User2_1: 100%|██████████████████████████████████████████| 100/100 [00:04<00:00, 23.07it/s]\n",
            "Round111: User3_1: 100%|██████████████████████████████████████████| 100/100 [00:03<00:00, 27.32it/s]\n"
          ]
        },
        {
          "output_type": "stream",
          "name": "stdout",
          "text": [
            "client:0 train_acc: 80.74%, train_loss: 10.9739\n",
            "client:4 train_acc: 80.86%, train_loss: 21.9896\n",
            "client:1 train_acc: 80.90%, train_loss: 33.0511\n",
            "client:2 train_acc: 80.85%, train_loss: 44.3483\n",
            "client:3 train_acc: 80.85%, train_loss: 55.5234\n",
            "Test set: Average loss: 4.4820, Accuracy: 943/10000 (9.43%)\n"
          ]
        },
        {
          "output_type": "stream",
          "name": "stderr",
          "text": [
            "Round112: User4_1: 100%|██████████████████████████████████████████| 100/100 [00:03<00:00, 27.98it/s]\n",
            "Round112: User3_1: 100%|██████████████████████████████████████████| 100/100 [00:03<00:00, 26.76it/s]\n",
            "Round112: User1_1: 100%|██████████████████████████████████████████| 100/100 [00:04<00:00, 23.71it/s]\n",
            "Round112: User0_1: 100%|██████████████████████████████████████████| 100/100 [00:03<00:00, 27.65it/s]\n",
            "Round112: User2_1: 100%|██████████████████████████████████████████| 100/100 [00:03<00:00, 27.44it/s]\n"
          ]
        },
        {
          "output_type": "stream",
          "name": "stdout",
          "text": [
            "client:4 train_acc: 81.54%, train_loss: 10.8554\n",
            "client:3 train_acc: 81.38%, train_loss: 21.7760\n",
            "client:1 train_acc: 81.44%, train_loss: 32.5769\n",
            "client:0 train_acc: 81.48%, train_loss: 43.2929\n",
            "client:2 train_acc: 81.44%, train_loss: 54.3323\n",
            "Test set: Average loss: 4.3014, Accuracy: 976/10000 (9.76%)\n"
          ]
        },
        {
          "output_type": "stream",
          "name": "stderr",
          "text": [
            "Round113: User1_1: 100%|██████████████████████████████████████████| 100/100 [00:03<00:00, 27.48it/s]\n",
            "Round113: User3_1: 100%|██████████████████████████████████████████| 100/100 [00:04<00:00, 23.48it/s]\n",
            "Round113: User2_1: 100%|██████████████████████████████████████████| 100/100 [00:03<00:00, 26.36it/s]\n",
            "Round113: User0_1: 100%|██████████████████████████████████████████| 100/100 [00:03<00:00, 27.19it/s]\n",
            "Round113: User4_1: 100%|██████████████████████████████████████████| 100/100 [00:04<00:00, 23.01it/s]\n"
          ]
        },
        {
          "output_type": "stream",
          "name": "stdout",
          "text": [
            "client:1 train_acc: 80.92%, train_loss: 11.1271\n",
            "client:3 train_acc: 80.69%, train_loss: 22.2909\n",
            "client:2 train_acc: 80.65%, train_loss: 33.5216\n",
            "client:0 train_acc: 80.75%, train_loss: 44.4482\n",
            "client:4 train_acc: 80.68%, train_loss: 55.5955\n",
            "Test set: Average loss: 4.0497, Accuracy: 1080/10000 (10.80%)\n"
          ]
        },
        {
          "output_type": "stream",
          "name": "stderr",
          "text": [
            "Round114: User3_1: 100%|██████████████████████████████████████████| 100/100 [00:04<00:00, 22.71it/s]\n",
            "Round114: User2_1: 100%|██████████████████████████████████████████| 100/100 [00:03<00:00, 26.82it/s]\n",
            "Round114: User0_1: 100%|██████████████████████████████████████████| 100/100 [00:03<00:00, 26.68it/s]\n",
            "Round114: User4_1: 100%|██████████████████████████████████████████| 100/100 [00:04<00:00, 22.80it/s]\n",
            "Round114: User1_1: 100%|██████████████████████████████████████████| 100/100 [00:03<00:00, 26.21it/s]\n"
          ]
        },
        {
          "output_type": "stream",
          "name": "stdout",
          "text": [
            "client:3 train_acc: 81.03%, train_loss: 10.9415\n",
            "client:2 train_acc: 80.92%, train_loss: 22.1328\n",
            "client:0 train_acc: 81.12%, train_loss: 32.7405\n",
            "client:4 train_acc: 81.13%, train_loss: 43.6179\n",
            "client:1 train_acc: 81.18%, train_loss: 54.4423\n",
            "Test set: Average loss: 4.3283, Accuracy: 957/10000 (9.57%)\n"
          ]
        },
        {
          "output_type": "stream",
          "name": "stderr",
          "text": [
            "Round115: User1_1: 100%|██████████████████████████████████████████| 100/100 [00:03<00:00, 27.32it/s]\n",
            "Round115: User0_1: 100%|██████████████████████████████████████████| 100/100 [00:03<00:00, 27.59it/s]\n",
            "Round115: User4_1: 100%|██████████████████████████████████████████| 100/100 [00:04<00:00, 23.53it/s]\n",
            "Round115: User2_1: 100%|██████████████████████████████████████████| 100/100 [00:03<00:00, 27.34it/s]\n",
            "Round115: User3_1: 100%|██████████████████████████████████████████| 100/100 [00:03<00:00, 27.06it/s]\n"
          ]
        },
        {
          "output_type": "stream",
          "name": "stdout",
          "text": [
            "client:1 train_acc: 81.87%, train_loss: 10.6714\n",
            "client:0 train_acc: 81.73%, train_loss: 21.1972\n",
            "client:4 train_acc: 81.58%, train_loss: 31.9592\n",
            "client:2 train_acc: 81.62%, train_loss: 42.7792\n",
            "client:3 train_acc: 81.63%, train_loss: 53.4939\n",
            "Test set: Average loss: 4.3106, Accuracy: 990/10000 (9.90%)\n"
          ]
        },
        {
          "output_type": "stream",
          "name": "stderr",
          "text": [
            "Round116: User3_1: 100%|██████████████████████████████████████████| 100/100 [00:03<00:00, 27.33it/s]\n",
            "Round116: User4_1: 100%|██████████████████████████████████████████| 100/100 [00:04<00:00, 23.44it/s]\n",
            "Round116: User0_1: 100%|██████████████████████████████████████████| 100/100 [00:03<00:00, 26.84it/s]\n",
            "Round116: User2_1: 100%|██████████████████████████████████████████| 100/100 [00:03<00:00, 27.12it/s]\n",
            "Round116: User1_1: 100%|██████████████████████████████████████████| 100/100 [00:04<00:00, 22.81it/s]\n"
          ]
        },
        {
          "output_type": "stream",
          "name": "stdout",
          "text": [
            "client:3 train_acc: 81.44%, train_loss: 10.7198\n",
            "client:4 train_acc: 81.53%, train_loss: 21.3500\n",
            "client:0 train_acc: 81.69%, train_loss: 31.8606\n",
            "client:2 train_acc: 81.66%, train_loss: 42.7005\n",
            "client:1 train_acc: 81.69%, train_loss: 53.3015\n",
            "Test set: Average loss: 4.4695, Accuracy: 955/10000 (9.55%)\n"
          ]
        },
        {
          "output_type": "stream",
          "name": "stderr",
          "text": [
            "Round117: User2_1: 100%|██████████████████████████████████████████| 100/100 [00:04<00:00, 23.55it/s]\n",
            "Round117: User3_1: 100%|██████████████████████████████████████████| 100/100 [00:03<00:00, 27.03it/s]\n",
            "Round117: User1_1: 100%|██████████████████████████████████████████| 100/100 [00:03<00:00, 27.39it/s]\n",
            "Round117: User0_1: 100%|██████████████████████████████████████████| 100/100 [00:04<00:00, 23.66it/s]\n",
            "Round117: User4_1: 100%|██████████████████████████████████████████| 100/100 [00:03<00:00, 27.12it/s]\n"
          ]
        },
        {
          "output_type": "stream",
          "name": "stdout",
          "text": [
            "client:2 train_acc: 81.68%, train_loss: 10.8181\n",
            "client:3 train_acc: 81.75%, train_loss: 21.4011\n",
            "client:1 train_acc: 81.83%, train_loss: 31.9234\n",
            "client:0 train_acc: 81.86%, train_loss: 42.3284\n",
            "client:4 train_acc: 81.90%, train_loss: 52.8467\n",
            "Test set: Average loss: 4.3519, Accuracy: 1021/10000 (10.21%)\n"
          ]
        },
        {
          "output_type": "stream",
          "name": "stderr",
          "text": [
            "Round118: User3_1: 100%|██████████████████████████████████████████| 100/100 [00:03<00:00, 27.81it/s]\n",
            "Round118: User4_1: 100%|██████████████████████████████████████████| 100/100 [00:03<00:00, 28.02it/s]\n",
            "Round118: User2_1: 100%|██████████████████████████████████████████| 100/100 [00:04<00:00, 23.03it/s]\n",
            "Round118: User0_1: 100%|██████████████████████████████████████████| 100/100 [00:03<00:00, 27.83it/s]\n",
            "Round118: User1_1: 100%|██████████████████████████████████████████| 100/100 [00:03<00:00, 27.56it/s]\n"
          ]
        },
        {
          "output_type": "stream",
          "name": "stdout",
          "text": [
            "client:3 train_acc: 82.01%, train_loss: 10.4156\n",
            "client:4 train_acc: 82.27%, train_loss: 20.6928\n",
            "client:2 train_acc: 82.15%, train_loss: 31.2922\n",
            "client:0 train_acc: 82.28%, train_loss: 41.4066\n",
            "client:1 train_acc: 82.33%, train_loss: 51.6857\n",
            "Test set: Average loss: 4.4911, Accuracy: 1020/10000 (10.20%)\n"
          ]
        },
        {
          "output_type": "stream",
          "name": "stderr",
          "text": [
            "Round119: User2_1: 100%|██████████████████████████████████████████| 100/100 [00:03<00:00, 27.77it/s]\n",
            "Round119: User4_1: 100%|██████████████████████████████████████████| 100/100 [00:04<00:00, 23.05it/s]\n",
            "Round119: User0_1: 100%|██████████████████████████████████████████| 100/100 [00:03<00:00, 27.22it/s]\n",
            "Round119: User1_1: 100%|██████████████████████████████████████████| 100/100 [00:03<00:00, 26.58it/s]\n",
            "Round119: User3_1: 100%|██████████████████████████████████████████| 100/100 [00:04<00:00, 23.65it/s]\n"
          ]
        },
        {
          "output_type": "stream",
          "name": "stdout",
          "text": [
            "client:2 train_acc: 82.23%, train_loss: 10.6687\n",
            "client:4 train_acc: 82.08%, train_loss: 21.0555\n",
            "client:0 train_acc: 82.07%, train_loss: 31.4280\n",
            "client:1 train_acc: 82.15%, train_loss: 41.7657\n",
            "client:3 train_acc: 82.15%, train_loss: 52.2806\n",
            "Test set: Average loss: 4.4210, Accuracy: 983/10000 (9.83%)\n"
          ]
        },
        {
          "output_type": "stream",
          "name": "stderr",
          "text": [
            "Round120: User1_1: 100%|██████████████████████████████████████████| 100/100 [00:04<00:00, 23.12it/s]\n",
            "Round120: User3_1: 100%|██████████████████████████████████████████| 100/100 [00:03<00:00, 27.85it/s]\n",
            "Round120: User4_1: 100%|██████████████████████████████████████████| 100/100 [00:03<00:00, 28.22it/s]\n",
            "Round120: User2_1: 100%|██████████████████████████████████████████| 100/100 [00:04<00:00, 23.82it/s]\n",
            "Round120: User0_1: 100%|██████████████████████████████████████████| 100/100 [00:03<00:00, 28.07it/s]\n"
          ]
        },
        {
          "output_type": "stream",
          "name": "stdout",
          "text": [
            "client:1 train_acc: 82.38%, train_loss: 10.2895\n",
            "client:3 train_acc: 82.16%, train_loss: 20.7062\n",
            "client:4 train_acc: 82.15%, train_loss: 31.0885\n",
            "client:2 train_acc: 82.02%, train_loss: 41.7251\n",
            "client:0 train_acc: 82.04%, train_loss: 52.0068\n",
            "Test set: Average loss: 4.3849, Accuracy: 984/10000 (9.84%)\n"
          ]
        },
        {
          "output_type": "stream",
          "name": "stderr",
          "text": [
            "Round121: User0_1: 100%|██████████████████████████████████████████| 100/100 [00:03<00:00, 28.14it/s]\n",
            "Round121: User3_1: 100%|██████████████████████████████████████████| 100/100 [00:03<00:00, 28.43it/s]\n",
            "Round121: User2_1: 100%|██████████████████████████████████████████| 100/100 [00:04<00:00, 23.81it/s]\n",
            "Round121: User4_1: 100%|██████████████████████████████████████████| 100/100 [00:03<00:00, 26.68it/s]\n",
            "Round121: User1_1: 100%|██████████████████████████████████████████| 100/100 [00:03<00:00, 27.36it/s]\n"
          ]
        },
        {
          "output_type": "stream",
          "name": "stdout",
          "text": [
            "client:0 train_acc: 82.29%, train_loss: 10.1218\n",
            "client:3 train_acc: 82.28%, train_loss: 20.4371\n",
            "client:2 train_acc: 82.15%, train_loss: 30.9017\n",
            "client:4 train_acc: 82.25%, train_loss: 41.0419\n",
            "client:1 train_acc: 82.35%, train_loss: 51.2894\n",
            "Test set: Average loss: 4.5667, Accuracy: 1057/10000 (10.57%)\n"
          ]
        },
        {
          "output_type": "stream",
          "name": "stderr",
          "text": [
            "Round122: User0_1: 100%|██████████████████████████████████████████| 100/100 [00:03<00:00, 27.76it/s]\n",
            "Round122: User2_1: 100%|██████████████████████████████████████████| 100/100 [00:03<00:00, 25.67it/s]\n",
            "Round122: User4_1: 100%|██████████████████████████████████████████| 100/100 [00:03<00:00, 25.49it/s]\n",
            "Round122: User1_1: 100%|██████████████████████████████████████████| 100/100 [00:03<00:00, 27.36it/s]\n",
            "Round122: User3_1: 100%|██████████████████████████████████████████| 100/100 [00:03<00:00, 26.10it/s]\n"
          ]
        },
        {
          "output_type": "stream",
          "name": "stdout",
          "text": [
            "client:0 train_acc: 82.95%, train_loss: 10.0615\n",
            "client:2 train_acc: 82.62%, train_loss: 20.4033\n",
            "client:4 train_acc: 82.57%, train_loss: 30.5420\n",
            "client:1 train_acc: 82.58%, train_loss: 40.6737\n",
            "client:3 train_acc: 82.60%, train_loss: 50.9005\n",
            "Test set: Average loss: 4.3296, Accuracy: 1001/10000 (10.01%)\n"
          ]
        },
        {
          "output_type": "stream",
          "name": "stderr",
          "text": [
            "Round123: User1_1: 100%|██████████████████████████████████████████| 100/100 [00:03<00:00, 26.74it/s]\n",
            "Round123: User3_1: 100%|██████████████████████████████████████████| 100/100 [00:04<00:00, 23.60it/s]\n",
            "Round123: User0_1: 100%|██████████████████████████████████████████| 100/100 [00:03<00:00, 27.03it/s]\n",
            "Round123: User2_1: 100%|██████████████████████████████████████████| 100/100 [00:03<00:00, 28.10it/s]\n",
            "Round123: User4_1: 100%|██████████████████████████████████████████| 100/100 [00:04<00:00, 24.03it/s]\n"
          ]
        },
        {
          "output_type": "stream",
          "name": "stdout",
          "text": [
            "client:1 train_acc: 82.66%, train_loss: 10.0660\n",
            "client:3 train_acc: 82.51%, train_loss: 20.2101\n",
            "client:0 train_acc: 82.66%, train_loss: 30.0849\n",
            "client:2 train_acc: 82.57%, train_loss: 40.4538\n",
            "client:4 train_acc: 82.63%, train_loss: 50.4707\n",
            "Test set: Average loss: 4.6292, Accuracy: 1015/10000 (10.15%)\n"
          ]
        },
        {
          "output_type": "stream",
          "name": "stderr",
          "text": [
            "Round124: User2_1: 100%|██████████████████████████████████████████| 100/100 [00:04<00:00, 24.76it/s]\n",
            "Round124: User4_1: 100%|██████████████████████████████████████████| 100/100 [00:03<00:00, 28.11it/s]\n",
            "Round124: User3_1: 100%|██████████████████████████████████████████| 100/100 [00:03<00:00, 28.12it/s]\n",
            "Round124: User0_1: 100%|██████████████████████████████████████████| 100/100 [00:04<00:00, 23.15it/s]\n",
            "Round124: User1_1: 100%|██████████████████████████████████████████| 100/100 [00:03<00:00, 27.77it/s]\n"
          ]
        },
        {
          "output_type": "stream",
          "name": "stdout",
          "text": [
            "client:2 train_acc: 82.31%, train_loss: 10.3415\n",
            "client:4 train_acc: 82.45%, train_loss: 20.4301\n",
            "client:3 train_acc: 82.51%, train_loss: 30.6418\n",
            "client:0 train_acc: 82.50%, train_loss: 40.6756\n",
            "client:1 train_acc: 82.57%, train_loss: 50.6916\n",
            "Test set: Average loss: 4.2498, Accuracy: 997/10000 (9.97%)\n"
          ]
        },
        {
          "output_type": "stream",
          "name": "stderr",
          "text": [
            "Round125: User1_1: 100%|██████████████████████████████████████████| 100/100 [00:03<00:00, 26.06it/s]\n",
            "Round125: User2_1: 100%|██████████████████████████████████████████| 100/100 [00:03<00:00, 26.37it/s]\n",
            "Round125: User0_1: 100%|██████████████████████████████████████████| 100/100 [00:04<00:00, 22.67it/s]\n",
            "Round125: User3_1: 100%|██████████████████████████████████████████| 100/100 [00:03<00:00, 26.95it/s]\n",
            "Round125: User4_1: 100%|██████████████████████████████████████████| 100/100 [00:03<00:00, 25.87it/s]\n"
          ]
        },
        {
          "output_type": "stream",
          "name": "stdout",
          "text": [
            "client:1 train_acc: 83.62%, train_loss: 9.7616\n",
            "client:2 train_acc: 83.43%, train_loss: 19.8060\n",
            "client:0 train_acc: 83.49%, train_loss: 29.4482\n",
            "client:3 train_acc: 83.35%, train_loss: 39.3469\n",
            "client:4 train_acc: 83.33%, train_loss: 49.1991\n",
            "Test set: Average loss: 4.4377, Accuracy: 997/10000 (9.97%)\n"
          ]
        },
        {
          "output_type": "stream",
          "name": "stderr",
          "text": [
            "Round126: User0_1: 100%|██████████████████████████████████████████| 100/100 [00:03<00:00, 26.49it/s]\n",
            "Round126: User4_1: 100%|██████████████████████████████████████████| 100/100 [00:04<00:00, 23.75it/s]\n",
            "Round126: User2_1: 100%|██████████████████████████████████████████| 100/100 [00:03<00:00, 27.45it/s]\n",
            "Round126: User1_1: 100%|██████████████████████████████████████████| 100/100 [00:03<00:00, 27.30it/s]\n",
            "Round126: User3_1: 100%|██████████████████████████████████████████| 100/100 [00:04<00:00, 23.70it/s]\n"
          ]
        },
        {
          "output_type": "stream",
          "name": "stdout",
          "text": [
            "client:0 train_acc: 82.97%, train_loss: 9.7595\n",
            "client:4 train_acc: 82.91%, train_loss: 19.6260\n",
            "client:2 train_acc: 82.76%, train_loss: 29.7872\n",
            "client:1 train_acc: 82.84%, train_loss: 39.6274\n",
            "client:3 train_acc: 82.87%, train_loss: 49.5797\n",
            "Test set: Average loss: 4.6801, Accuracy: 984/10000 (9.84%)\n"
          ]
        },
        {
          "output_type": "stream",
          "name": "stderr",
          "text": [
            "Round127: User0_1: 100%|██████████████████████████████████████████| 100/100 [00:03<00:00, 25.15it/s]\n",
            "Round127: User3_1: 100%|██████████████████████████████████████████| 100/100 [00:03<00:00, 28.27it/s]\n",
            "Round127: User4_1: 100%|██████████████████████████████████████████| 100/100 [00:03<00:00, 28.40it/s]\n",
            "Round127: User2_1: 100%|██████████████████████████████████████████| 100/100 [00:04<00:00, 23.85it/s]\n",
            "Round127: User1_1: 100%|██████████████████████████████████████████| 100/100 [00:03<00:00, 28.09it/s]\n"
          ]
        },
        {
          "output_type": "stream",
          "name": "stdout",
          "text": [
            "client:0 train_acc: 83.38%, train_loss: 9.5211\n",
            "client:3 train_acc: 83.41%, train_loss: 19.2073\n",
            "client:4 train_acc: 83.46%, train_loss: 28.8044\n",
            "client:2 train_acc: 83.39%, train_loss: 38.6985\n",
            "client:1 train_acc: 83.39%, train_loss: 48.3556\n",
            "Test set: Average loss: 4.6565, Accuracy: 1023/10000 (10.23%)\n"
          ]
        },
        {
          "output_type": "stream",
          "name": "stderr",
          "text": [
            "Round128: User2_1: 100%|██████████████████████████████████████████| 100/100 [00:03<00:00, 27.88it/s]\n",
            "Round128: User1_1: 100%|██████████████████████████████████████████| 100/100 [00:03<00:00, 27.97it/s]\n",
            "Round128: User4_1: 100%|██████████████████████████████████████████| 100/100 [00:04<00:00, 23.89it/s]\n",
            "Round128: User3_1: 100%|██████████████████████████████████████████| 100/100 [00:03<00:00, 27.80it/s]\n",
            "Round128: User0_1: 100%|██████████████████████████████████████████| 100/100 [00:03<00:00, 27.28it/s]\n"
          ]
        },
        {
          "output_type": "stream",
          "name": "stdout",
          "text": [
            "client:2 train_acc: 83.76%, train_loss: 9.7291\n",
            "client:1 train_acc: 83.95%, train_loss: 19.2893\n",
            "client:4 train_acc: 83.86%, train_loss: 28.9231\n",
            "client:3 train_acc: 83.75%, train_loss: 38.6487\n",
            "client:0 train_acc: 83.74%, train_loss: 48.1026\n",
            "Test set: Average loss: 4.6972, Accuracy: 1010/10000 (10.10%)\n"
          ]
        },
        {
          "output_type": "stream",
          "name": "stderr",
          "text": [
            "Round129: User0_1: 100%|██████████████████████████████████████████| 100/100 [00:03<00:00, 27.95it/s]\n",
            "Round129: User4_1: 100%|██████████████████████████████████████████| 100/100 [00:04<00:00, 23.37it/s]\n",
            "Round129: User1_1: 100%|██████████████████████████████████████████| 100/100 [00:03<00:00, 27.06it/s]\n",
            "Round129: User3_1: 100%|██████████████████████████████████████████| 100/100 [00:03<00:00, 27.48it/s]\n",
            "Round129: User2_1: 100%|██████████████████████████████████████████| 100/100 [00:04<00:00, 23.67it/s]\n"
          ]
        },
        {
          "output_type": "stream",
          "name": "stdout",
          "text": [
            "client:0 train_acc: 83.74%, train_loss: 9.4931\n",
            "client:4 train_acc: 83.48%, train_loss: 19.2935\n",
            "client:1 train_acc: 83.48%, train_loss: 28.8858\n",
            "client:3 train_acc: 83.47%, train_loss: 38.5988\n",
            "client:2 train_acc: 83.45%, train_loss: 48.3870\n",
            "Test set: Average loss: 4.5107, Accuracy: 1026/10000 (10.26%)\n"
          ]
        },
        {
          "output_type": "stream",
          "name": "stderr",
          "text": [
            "Round130: User4_1: 100%|██████████████████████████████████████████| 100/100 [00:04<00:00, 22.78it/s]\n",
            "Round130: User0_1: 100%|██████████████████████████████████████████| 100/100 [00:03<00:00, 27.78it/s]\n",
            "Round130: User3_1: 100%|██████████████████████████████████████████| 100/100 [00:03<00:00, 27.05it/s]\n",
            "Round130: User2_1: 100%|██████████████████████████████████████████| 100/100 [00:04<00:00, 23.22it/s]\n",
            "Round130: User1_1: 100%|██████████████████████████████████████████| 100/100 [00:03<00:00, 27.17it/s]\n"
          ]
        },
        {
          "output_type": "stream",
          "name": "stdout",
          "text": [
            "client:4 train_acc: 83.42%, train_loss: 9.5600\n",
            "client:0 train_acc: 83.69%, train_loss: 18.8918\n",
            "client:3 train_acc: 83.59%, train_loss: 28.4700\n",
            "client:2 train_acc: 83.56%, train_loss: 38.1904\n",
            "client:1 train_acc: 83.68%, train_loss: 47.4996\n",
            "Test set: Average loss: 4.7197, Accuracy: 979/10000 (9.79%)\n"
          ]
        },
        {
          "output_type": "stream",
          "name": "stderr",
          "text": [
            "Round131: User2_1: 100%|██████████████████████████████████████████| 100/100 [00:03<00:00, 28.16it/s]\n",
            "Round131: User4_1: 100%|██████████████████████████████████████████| 100/100 [00:03<00:00, 27.55it/s]\n",
            "Round131: User0_1: 100%|██████████████████████████████████████████| 100/100 [00:04<00:00, 23.87it/s]\n",
            "Round131: User1_1: 100%|██████████████████████████████████████████| 100/100 [00:03<00:00, 27.87it/s]\n",
            "Round131: User3_1: 100%|██████████████████████████████████████████| 100/100 [00:03<00:00, 27.75it/s]\n"
          ]
        },
        {
          "output_type": "stream",
          "name": "stdout",
          "text": [
            "client:2 train_acc: 83.82%, train_loss: 9.6146\n",
            "client:4 train_acc: 83.92%, train_loss: 18.8993\n",
            "client:0 train_acc: 83.90%, train_loss: 28.1842\n",
            "client:1 train_acc: 83.89%, train_loss: 37.6001\n",
            "client:3 train_acc: 83.92%, train_loss: 47.0677\n",
            "Test set: Average loss: 4.5622, Accuracy: 1083/10000 (10.83%)\n"
          ]
        },
        {
          "output_type": "stream",
          "name": "stderr",
          "text": [
            "Round132: User4_1: 100%|██████████████████████████████████████████| 100/100 [00:03<00:00, 27.35it/s]\n",
            "Round132: User2_1: 100%|██████████████████████████████████████████| 100/100 [00:04<00:00, 22.43it/s]\n",
            "Round132: User3_1: 100%|██████████████████████████████████████████| 100/100 [00:03<00:00, 25.67it/s]\n",
            "Round132: User0_1: 100%|██████████████████████████████████████████| 100/100 [00:03<00:00, 26.67it/s]\n",
            "Round132: User1_1: 100%|██████████████████████████████████████████| 100/100 [00:04<00:00, 23.08it/s]\n"
          ]
        },
        {
          "output_type": "stream",
          "name": "stdout",
          "text": [
            "client:4 train_acc: 83.87%, train_loss: 9.2645\n",
            "client:2 train_acc: 84.11%, train_loss: 18.6150\n",
            "client:3 train_acc: 84.17%, train_loss: 27.8494\n",
            "client:0 train_acc: 84.23%, train_loss: 36.8787\n",
            "client:1 train_acc: 84.27%, train_loss: 46.0594\n",
            "Test set: Average loss: 4.5699, Accuracy: 1010/10000 (10.10%)\n"
          ]
        },
        {
          "output_type": "stream",
          "name": "stderr",
          "text": [
            "Round133: User2_1: 100%|██████████████████████████████████████████| 100/100 [00:05<00:00, 19.86it/s]\n",
            "Round133: User3_1: 100%|██████████████████████████████████████████| 100/100 [00:04<00:00, 24.97it/s]\n",
            "Round133: User1_1: 100%|██████████████████████████████████████████| 100/100 [00:04<00:00, 24.78it/s]\n",
            "Round133: User4_1: 100%|██████████████████████████████████████████| 100/100 [00:04<00:00, 21.85it/s]\n",
            "Round133: User0_1: 100%|██████████████████████████████████████████| 100/100 [00:03<00:00, 25.19it/s]\n"
          ]
        },
        {
          "output_type": "stream",
          "name": "stdout",
          "text": [
            "client:2 train_acc: 84.39%, train_loss: 9.2680\n",
            "client:3 train_acc: 84.66%, train_loss: 18.2801\n",
            "client:1 train_acc: 84.75%, train_loss: 27.2209\n",
            "client:4 train_acc: 84.69%, train_loss: 36.2303\n",
            "client:0 train_acc: 84.73%, train_loss: 45.1433\n",
            "Test set: Average loss: 4.5796, Accuracy: 1053/10000 (10.53%)\n"
          ]
        },
        {
          "output_type": "stream",
          "name": "stderr",
          "text": [
            "Round134: User0_1: 100%|██████████████████████████████████████████| 100/100 [00:04<00:00, 24.35it/s]\n",
            "Round134: User4_1: 100%|██████████████████████████████████████████| 100/100 [00:04<00:00, 20.53it/s]\n",
            "Round134: User2_1: 100%|██████████████████████████████████████████| 100/100 [00:03<00:00, 25.50it/s]\n",
            "Round134: User3_1: 100%|██████████████████████████████████████████| 100/100 [00:03<00:00, 25.32it/s]\n",
            "Round134: User1_1: 100%|██████████████████████████████████████████| 100/100 [00:04<00:00, 22.16it/s]\n"
          ]
        },
        {
          "output_type": "stream",
          "name": "stdout",
          "text": [
            "client:0 train_acc: 84.18%, train_loss: 9.0837\n",
            "client:4 train_acc: 84.00%, train_loss: 18.4704\n",
            "client:2 train_acc: 84.01%, train_loss: 27.8821\n",
            "client:3 train_acc: 83.97%, train_loss: 37.2268\n",
            "client:1 train_acc: 84.02%, train_loss: 46.4322\n",
            "Test set: Average loss: 4.8972, Accuracy: 984/10000 (9.84%)\n"
          ]
        },
        {
          "output_type": "stream",
          "name": "stderr",
          "text": [
            "Round135: User0_1: 100%|██████████████████████████████████████████| 100/100 [00:04<00:00, 23.65it/s]\n",
            "Round135: User3_1: 100%|██████████████████████████████████████████| 100/100 [00:03<00:00, 27.06it/s]\n",
            "Round135: User2_1: 100%|██████████████████████████████████████████| 100/100 [00:03<00:00, 27.19it/s]\n",
            "Round135: User1_1: 100%|██████████████████████████████████████████| 100/100 [00:04<00:00, 23.10it/s]\n",
            "Round135: User4_1: 100%|██████████████████████████████████████████| 100/100 [00:03<00:00, 27.51it/s]\n"
          ]
        },
        {
          "output_type": "stream",
          "name": "stdout",
          "text": [
            "client:0 train_acc: 84.89%, train_loss: 8.7830\n",
            "client:3 train_acc: 84.91%, train_loss: 17.7590\n",
            "client:2 train_acc: 84.79%, train_loss: 26.9130\n",
            "client:1 train_acc: 84.81%, train_loss: 35.7986\n",
            "client:4 train_acc: 84.82%, train_loss: 44.6536\n",
            "Test set: Average loss: 4.4097, Accuracy: 1093/10000 (10.93%)\n"
          ]
        },
        {
          "output_type": "stream",
          "name": "stderr",
          "text": [
            "Round136: User1_1: 100%|██████████████████████████████████████████| 100/100 [00:03<00:00, 25.27it/s]\n",
            "Round136: User4_1: 100%|██████████████████████████████████████████| 100/100 [00:03<00:00, 25.41it/s]\n",
            "Round136: User3_1: 100%|██████████████████████████████████████████| 100/100 [00:04<00:00, 23.76it/s]\n",
            "Round136: User0_1: 100%|██████████████████████████████████████████| 100/100 [00:03<00:00, 27.06it/s]\n",
            "Round136: User2_1: 100%|██████████████████████████████████████████| 100/100 [00:03<00:00, 27.11it/s]\n"
          ]
        },
        {
          "output_type": "stream",
          "name": "stdout",
          "text": [
            "client:1 train_acc: 85.38%, train_loss: 8.8129\n",
            "client:4 train_acc: 85.33%, train_loss: 17.6470\n",
            "client:3 train_acc: 85.37%, train_loss: 26.3983\n",
            "client:0 train_acc: 85.30%, train_loss: 35.1087\n",
            "client:2 train_acc: 85.23%, train_loss: 44.0968\n",
            "Test set: Average loss: 4.3917, Accuracy: 1108/10000 (11.08%)\n"
          ]
        },
        {
          "output_type": "stream",
          "name": "stderr",
          "text": [
            "Round137: User2_1: 100%|██████████████████████████████████████████| 100/100 [00:03<00:00, 25.07it/s]\n",
            "Round137: User4_1: 100%|██████████████████████████████████████████| 100/100 [00:03<00:00, 26.09it/s]\n",
            "Round137: User3_1: 100%|██████████████████████████████████████████| 100/100 [00:03<00:00, 26.82it/s]\n",
            "Round137: User1_1: 100%|██████████████████████████████████████████| 100/100 [00:03<00:00, 26.00it/s]\n",
            "Round137: User0_1: 100%|██████████████████████████████████████████| 100/100 [00:04<00:00, 24.38it/s]\n"
          ]
        },
        {
          "output_type": "stream",
          "name": "stdout",
          "text": [
            "client:2 train_acc: 84.99%, train_loss: 8.9710\n",
            "client:4 train_acc: 84.92%, train_loss: 17.8136\n",
            "client:3 train_acc: 84.90%, train_loss: 26.7724\n",
            "client:1 train_acc: 84.96%, train_loss: 35.5353\n",
            "client:0 train_acc: 84.96%, train_loss: 44.2541\n",
            "Test set: Average loss: 4.3094, Accuracy: 1107/10000 (11.07%)\n"
          ]
        },
        {
          "output_type": "stream",
          "name": "stderr",
          "text": [
            "Round138: User4_1: 100%|██████████████████████████████████████████| 100/100 [00:03<00:00, 25.44it/s]\n",
            "Round138: User3_1: 100%|██████████████████████████████████████████| 100/100 [00:03<00:00, 27.49it/s]\n",
            "Round138: User2_1: 100%|██████████████████████████████████████████| 100/100 [00:03<00:00, 27.21it/s]\n",
            "Round138: User1_1: 100%|██████████████████████████████████████████| 100/100 [00:04<00:00, 23.95it/s]\n",
            "Round138: User0_1: 100%|██████████████████████████████████████████| 100/100 [00:03<00:00, 27.62it/s]\n"
          ]
        },
        {
          "output_type": "stream",
          "name": "stdout",
          "text": [
            "client:4 train_acc: 85.10%, train_loss: 8.7497\n",
            "client:3 train_acc: 85.29%, train_loss: 17.5205\n",
            "client:2 train_acc: 85.29%, train_loss: 26.4038\n",
            "client:1 train_acc: 85.32%, train_loss: 35.0416\n",
            "client:0 train_acc: 85.37%, train_loss: 43.5884\n",
            "Test set: Average loss: 4.5456, Accuracy: 1065/10000 (10.65%)\n"
          ]
        },
        {
          "output_type": "stream",
          "name": "stderr",
          "text": [
            "Round139: User0_1: 100%|██████████████████████████████████████████| 100/100 [00:03<00:00, 28.01it/s]\n",
            "Round139: User2_1: 100%|██████████████████████████████████████████| 100/100 [00:03<00:00, 26.97it/s]\n",
            "Round139: User1_1: 100%|██████████████████████████████████████████| 100/100 [00:04<00:00, 23.08it/s]\n",
            "Round139: User3_1: 100%|██████████████████████████████████████████| 100/100 [00:03<00:00, 27.77it/s]\n",
            "Round139: User4_1: 100%|██████████████████████████████████████████| 100/100 [00:03<00:00, 27.45it/s]\n"
          ]
        },
        {
          "output_type": "stream",
          "name": "stdout",
          "text": [
            "client:0 train_acc: 86.17%, train_loss: 8.2405\n",
            "client:2 train_acc: 85.92%, train_loss: 16.8738\n",
            "client:1 train_acc: 85.97%, train_loss: 25.3074\n",
            "client:3 train_acc: 85.99%, train_loss: 33.8305\n",
            "client:4 train_acc: 85.97%, train_loss: 42.2510\n",
            "Test set: Average loss: 4.4567, Accuracy: 1112/10000 (11.12%)\n"
          ]
        },
        {
          "output_type": "stream",
          "name": "stderr",
          "text": [
            "Round140: User1_1: 100%|██████████████████████████████████████████| 100/100 [00:03<00:00, 27.99it/s]\n",
            "Round140: User0_1: 100%|██████████████████████████████████████████| 100/100 [00:04<00:00, 23.90it/s]\n",
            "Round140: User4_1: 100%|██████████████████████████████████████████| 100/100 [00:03<00:00, 27.14it/s]\n",
            "Round140: User3_1: 100%|██████████████████████████████████████████| 100/100 [00:03<00:00, 27.20it/s]\n",
            "Round140: User2_1: 100%|██████████████████████████████████████████| 100/100 [00:04<00:00, 23.10it/s]\n"
          ]
        },
        {
          "output_type": "stream",
          "name": "stdout",
          "text": [
            "client:1 train_acc: 86.45%, train_loss: 8.1710\n",
            "client:0 train_acc: 86.11%, train_loss: 16.3988\n",
            "client:4 train_acc: 86.17%, train_loss: 24.6158\n",
            "client:3 train_acc: 86.22%, train_loss: 32.8883\n",
            "client:2 train_acc: 86.24%, train_loss: 41.3145\n",
            "Test set: Average loss: 4.5747, Accuracy: 1081/10000 (10.81%)\n"
          ]
        },
        {
          "output_type": "stream",
          "name": "stderr",
          "text": [
            "Round141: User4_1: 100%|██████████████████████████████████████████| 100/100 [00:04<00:00, 22.55it/s]\n",
            "Round141: User3_1: 100%|██████████████████████████████████████████| 100/100 [00:03<00:00, 27.20it/s]\n",
            "Round141: User0_1: 100%|██████████████████████████████████████████| 100/100 [00:03<00:00, 27.39it/s]\n",
            "Round141: User2_1: 100%|██████████████████████████████████████████| 100/100 [00:04<00:00, 23.41it/s]\n",
            "Round141: User1_1: 100%|██████████████████████████████████████████| 100/100 [00:03<00:00, 26.81it/s]\n"
          ]
        },
        {
          "output_type": "stream",
          "name": "stdout",
          "text": [
            "client:4 train_acc: 85.26%, train_loss: 8.6218\n",
            "client:3 train_acc: 85.19%, train_loss: 17.3772\n",
            "client:0 train_acc: 85.08%, train_loss: 26.0860\n",
            "client:2 train_acc: 85.05%, train_loss: 34.9833\n",
            "client:1 train_acc: 85.02%, train_loss: 43.7215\n",
            "Test set: Average loss: 4.3605, Accuracy: 1080/10000 (10.80%)\n"
          ]
        },
        {
          "output_type": "stream",
          "name": "stderr",
          "text": [
            "Round142: User4_1: 100%|██████████████████████████████████████████| 100/100 [00:03<00:00, 27.90it/s]\n",
            "Round142: User3_1: 100%|██████████████████████████████████████████| 100/100 [00:03<00:00, 27.42it/s]\n",
            "Round142: User0_1: 100%|██████████████████████████████████████████| 100/100 [00:04<00:00, 23.56it/s]\n",
            "Round142: User1_1: 100%|██████████████████████████████████████████| 100/100 [00:03<00:00, 27.93it/s]\n",
            "Round142: User2_1: 100%|██████████████████████████████████████████| 100/100 [00:03<00:00, 28.10it/s]\n"
          ]
        },
        {
          "output_type": "stream",
          "name": "stdout",
          "text": [
            "client:4 train_acc: 86.35%, train_loss: 8.2365\n",
            "client:3 train_acc: 86.09%, train_loss: 16.5346\n",
            "client:0 train_acc: 86.05%, train_loss: 24.7392\n",
            "client:1 train_acc: 86.13%, train_loss: 32.9361\n",
            "client:2 train_acc: 86.11%, train_loss: 41.3781\n",
            "Test set: Average loss: 4.5528, Accuracy: 1076/10000 (10.76%)\n"
          ]
        },
        {
          "output_type": "stream",
          "name": "stderr",
          "text": [
            "Round143: User2_1: 100%|██████████████████████████████████████████| 100/100 [00:03<00:00, 28.19it/s]\n",
            "Round143: User3_1: 100%|██████████████████████████████████████████| 100/100 [00:04<00:00, 23.76it/s]\n",
            "Round143: User4_1: 100%|██████████████████████████████████████████| 100/100 [00:03<00:00, 28.53it/s]\n",
            "Round143: User1_1: 100%|██████████████████████████████████████████| 100/100 [00:03<00:00, 27.58it/s]\n",
            "Round143: User0_1: 100%|██████████████████████████████████████████| 100/100 [00:04<00:00, 23.56it/s]\n"
          ]
        },
        {
          "output_type": "stream",
          "name": "stdout",
          "text": [
            "client:2 train_acc: 85.46%, train_loss: 8.5023\n",
            "client:3 train_acc: 85.68%, train_loss: 16.7114\n",
            "client:4 train_acc: 85.70%, train_loss: 25.0778\n",
            "client:1 train_acc: 85.88%, train_loss: 33.2838\n",
            "client:0 train_acc: 85.88%, train_loss: 41.5045\n",
            "Test set: Average loss: 4.6434, Accuracy: 1057/10000 (10.57%)\n"
          ]
        },
        {
          "output_type": "stream",
          "name": "stderr",
          "text": [
            "Round144: User3_1: 100%|██████████████████████████████████████████| 100/100 [00:04<00:00, 23.41it/s]\n",
            "Round144: User0_1: 100%|██████████████████████████████████████████| 100/100 [00:03<00:00, 27.69it/s]\n",
            "Round144: User2_1: 100%|██████████████████████████████████████████| 100/100 [00:03<00:00, 27.55it/s]\n",
            "Round144: User4_1: 100%|██████████████████████████████████████████| 100/100 [00:04<00:00, 23.53it/s]\n",
            "Round144: User1_1: 100%|██████████████████████████████████████████| 100/100 [00:03<00:00, 27.59it/s]\n"
          ]
        },
        {
          "output_type": "stream",
          "name": "stdout",
          "text": [
            "client:3 train_acc: 85.85%, train_loss: 8.3850\n",
            "client:0 train_acc: 85.81%, train_loss: 16.6650\n",
            "client:2 train_acc: 85.71%, train_loss: 25.2044\n",
            "client:4 train_acc: 85.68%, train_loss: 33.6144\n",
            "client:1 train_acc: 85.80%, train_loss: 41.8407\n",
            "Test set: Average loss: 4.7661, Accuracy: 1101/10000 (11.01%)\n"
          ]
        },
        {
          "output_type": "stream",
          "name": "stderr",
          "text": [
            "Round145: User4_1: 100%|██████████████████████████████████████████| 100/100 [00:03<00:00, 27.52it/s]\n",
            "Round145: User0_1: 100%|██████████████████████████████████████████| 100/100 [00:03<00:00, 27.40it/s]\n",
            "Round145: User3_1: 100%|██████████████████████████████████████████| 100/100 [00:04<00:00, 23.78it/s]\n",
            "Round145: User2_1: 100%|██████████████████████████████████████████| 100/100 [00:03<00:00, 27.21it/s]\n",
            "Round145: User1_1: 100%|██████████████████████████████████████████| 100/100 [00:03<00:00, 27.63it/s]\n"
          ]
        },
        {
          "output_type": "stream",
          "name": "stdout",
          "text": [
            "client:4 train_acc: 86.24%, train_loss: 8.0760\n",
            "client:0 train_acc: 86.13%, train_loss: 16.0853\n",
            "client:3 train_acc: 86.26%, train_loss: 24.1758\n",
            "client:2 train_acc: 86.27%, train_loss: 32.4440\n",
            "client:1 train_acc: 86.33%, train_loss: 40.4877\n",
            "Test set: Average loss: 4.7879, Accuracy: 1090/10000 (10.90%)\n"
          ]
        },
        {
          "output_type": "stream",
          "name": "stderr",
          "text": [
            "Round146: User0_1: 100%|██████████████████████████████████████████| 100/100 [00:03<00:00, 27.54it/s]\n",
            "Round146: User3_1: 100%|██████████████████████████████████████████| 100/100 [00:03<00:00, 25.22it/s]\n",
            "Round146: User4_1: 100%|██████████████████████████████████████████| 100/100 [00:03<00:00, 25.88it/s]\n",
            "Round146: User1_1: 100%|██████████████████████████████████████████| 100/100 [00:03<00:00, 28.19it/s]\n",
            "Round146: User2_1: 100%|██████████████████████████████████████████| 100/100 [00:03<00:00, 26.29it/s]\n"
          ]
        },
        {
          "output_type": "stream",
          "name": "stdout",
          "text": [
            "client:0 train_acc: 86.85%, train_loss: 7.7159\n",
            "client:3 train_acc: 87.20%, train_loss: 15.4971\n",
            "client:4 train_acc: 87.26%, train_loss: 23.1729\n",
            "client:1 train_acc: 87.30%, train_loss: 30.8603\n",
            "client:2 train_acc: 87.31%, train_loss: 38.7539\n",
            "Test set: Average loss: 4.6067, Accuracy: 1127/10000 (11.27%)\n"
          ]
        },
        {
          "output_type": "stream",
          "name": "stderr",
          "text": [
            "Round147: User1_1: 100%|██████████████████████████████████████████| 100/100 [00:03<00:00, 25.23it/s]\n",
            "Round147: User4_1: 100%|██████████████████████████████████████████| 100/100 [00:03<00:00, 25.23it/s]\n",
            "Round147: User2_1: 100%|██████████████████████████████████████████| 100/100 [00:03<00:00, 27.31it/s]\n",
            "Round147: User3_1: 100%|██████████████████████████████████████████| 100/100 [00:03<00:00, 26.81it/s]\n",
            "Round147: User0_1: 100%|██████████████████████████████████████████| 100/100 [00:04<00:00, 24.08it/s]\n"
          ]
        },
        {
          "output_type": "stream",
          "name": "stdout",
          "text": [
            "client:1 train_acc: 87.01%, train_loss: 7.8731\n",
            "client:4 train_acc: 87.02%, train_loss: 15.7719\n",
            "client:2 train_acc: 86.86%, train_loss: 23.8778\n",
            "client:3 train_acc: 86.84%, train_loss: 31.8981\n",
            "client:0 train_acc: 86.74%, train_loss: 39.8783\n",
            "Test set: Average loss: 4.5831, Accuracy: 1079/10000 (10.79%)\n"
          ]
        },
        {
          "output_type": "stream",
          "name": "stderr",
          "text": [
            "Round148: User1_1: 100%|██████████████████████████████████████████| 100/100 [00:03<00:00, 25.22it/s]\n",
            "Round148: User0_1: 100%|██████████████████████████████████████████| 100/100 [00:03<00:00, 27.33it/s]\n",
            "Round148: User4_1: 100%|██████████████████████████████████████████| 100/100 [00:03<00:00, 26.65it/s]\n",
            "Round148: User2_1: 100%|██████████████████████████████████████████| 100/100 [00:04<00:00, 24.14it/s]\n",
            "Round148: User3_1: 100%|██████████████████████████████████████████| 100/100 [00:03<00:00, 27.52it/s]\n"
          ]
        },
        {
          "output_type": "stream",
          "name": "stdout",
          "text": [
            "client:1 train_acc: 87.28%, train_loss: 7.5726\n",
            "client:0 train_acc: 87.21%, train_loss: 15.1099\n",
            "client:4 train_acc: 87.31%, train_loss: 22.7079\n",
            "client:2 train_acc: 87.35%, train_loss: 30.4198\n",
            "client:3 train_acc: 87.37%, train_loss: 38.0926\n",
            "Test set: Average loss: 4.7431, Accuracy: 1108/10000 (11.08%)\n"
          ]
        },
        {
          "output_type": "stream",
          "name": "stderr",
          "text": [
            "Round149: User4_1: 100%|██████████████████████████████████████████| 100/100 [00:03<00:00, 26.95it/s]\n",
            "Round149: User0_1: 100%|██████████████████████████████████████████| 100/100 [00:03<00:00, 27.61it/s]\n",
            "Round149: User2_1: 100%|██████████████████████████████████████████| 100/100 [00:04<00:00, 23.89it/s]\n",
            "Round149: User3_1: 100%|██████████████████████████████████████████| 100/100 [00:03<00:00, 27.74it/s]\n",
            "Round149: User1_1: 100%|██████████████████████████████████████████| 100/100 [00:03<00:00, 27.63it/s]\n"
          ]
        },
        {
          "output_type": "stream",
          "name": "stdout",
          "text": [
            "client:4 train_acc: 87.43%, train_loss: 7.5491\n",
            "client:0 train_acc: 87.28%, train_loss: 15.0706\n",
            "client:2 train_acc: 87.26%, train_loss: 22.8717\n",
            "client:3 train_acc: 87.38%, train_loss: 30.4737\n",
            "client:1 train_acc: 87.40%, train_loss: 38.0710\n",
            "Test set: Average loss: 4.7357, Accuracy: 1114/10000 (11.14%)\n"
          ]
        },
        {
          "output_type": "stream",
          "name": "stderr",
          "text": [
            "Round150: User2_1: 100%|██████████████████████████████████████████| 100/100 [00:03<00:00, 27.33it/s]\n",
            "Round150: User0_1: 100%|██████████████████████████████████████████| 100/100 [00:04<00:00, 23.66it/s]\n",
            "Round150: User3_1: 100%|██████████████████████████████████████████| 100/100 [00:03<00:00, 27.25it/s]\n",
            "Round150: User1_1: 100%|██████████████████████████████████████████| 100/100 [00:03<00:00, 27.84it/s]\n",
            "Round150: User4_1: 100%|██████████████████████████████████████████| 100/100 [00:04<00:00, 23.11it/s]\n"
          ]
        },
        {
          "output_type": "stream",
          "name": "stdout",
          "text": [
            "client:2 train_acc: 87.68%, train_loss: 7.5622\n",
            "client:0 train_acc: 87.70%, train_loss: 14.8821\n",
            "client:3 train_acc: 87.76%, train_loss: 22.3770\n",
            "client:1 train_acc: 87.79%, train_loss: 29.8258\n",
            "client:4 train_acc: 87.74%, train_loss: 37.3465\n",
            "Test set: Average loss: 4.9504, Accuracy: 1057/10000 (10.57%)\n"
          ]
        },
        {
          "output_type": "stream",
          "name": "stderr",
          "text": [
            "Round151: User2_1: 100%|██████████████████████████████████████████| 100/100 [00:04<00:00, 23.50it/s]\n",
            "Round151: User0_1: 100%|██████████████████████████████████████████| 100/100 [00:03<00:00, 27.60it/s]\n",
            "Round151: User3_1: 100%|██████████████████████████████████████████| 100/100 [00:03<00:00, 27.38it/s]\n",
            "Round151: User1_1: 100%|██████████████████████████████████████████| 100/100 [00:04<00:00, 23.14it/s]\n",
            "Round151: User4_1: 100%|██████████████████████████████████████████| 100/100 [00:03<00:00, 27.91it/s]\n"
          ]
        },
        {
          "output_type": "stream",
          "name": "stdout",
          "text": [
            "client:2 train_acc: 87.62%, train_loss: 7.5659\n",
            "client:0 train_acc: 87.76%, train_loss: 14.8513\n",
            "client:3 train_acc: 87.88%, train_loss: 22.2617\n",
            "client:1 train_acc: 87.90%, train_loss: 29.5963\n",
            "client:4 train_acc: 87.86%, train_loss: 37.0740\n",
            "Test set: Average loss: 4.8608, Accuracy: 1064/10000 (10.64%)\n"
          ]
        },
        {
          "output_type": "stream",
          "name": "stderr",
          "text": [
            "Round152: User2_1: 100%|██████████████████████████████████████████| 100/100 [00:03<00:00, 27.46it/s]\n",
            "Round152: User0_1: 100%|██████████████████████████████████████████| 100/100 [00:03<00:00, 27.55it/s]\n",
            "Round152: User4_1: 100%|██████████████████████████████████████████| 100/100 [00:04<00:00, 23.69it/s]\n",
            "Round152: User1_1: 100%|██████████████████████████████████████████| 100/100 [00:03<00:00, 28.34it/s]\n",
            "Round152: User3_1: 100%|██████████████████████████████████████████| 100/100 [00:03<00:00, 27.04it/s]\n"
          ]
        },
        {
          "output_type": "stream",
          "name": "stdout",
          "text": [
            "client:2 train_acc: 87.42%, train_loss: 7.5582\n",
            "client:0 train_acc: 87.63%, train_loss: 14.7230\n",
            "client:4 train_acc: 87.74%, train_loss: 21.9964\n",
            "client:1 train_acc: 87.78%, train_loss: 29.2735\n",
            "client:3 train_acc: 87.81%, train_loss: 36.6793\n",
            "Test set: Average loss: 4.9362, Accuracy: 1107/10000 (11.07%)\n"
          ]
        },
        {
          "output_type": "stream",
          "name": "stderr",
          "text": [
            "Round153: User0_1: 100%|██████████████████████████████████████████| 100/100 [00:03<00:00, 27.87it/s]\n",
            "Round153: User1_1: 100%|██████████████████████████████████████████| 100/100 [00:04<00:00, 23.85it/s]\n",
            "Round153: User3_1: 100%|██████████████████████████████████████████| 100/100 [00:03<00:00, 26.88it/s]\n",
            "Round153: User4_1: 100%|██████████████████████████████████████████| 100/100 [00:03<00:00, 27.87it/s]\n",
            "Round153: User2_1: 100%|██████████████████████████████████████████| 100/100 [00:04<00:00, 23.65it/s]\n"
          ]
        },
        {
          "output_type": "stream",
          "name": "stdout",
          "text": [
            "client:0 train_acc: 87.80%, train_loss: 7.2795\n",
            "client:1 train_acc: 87.79%, train_loss: 14.6451\n",
            "client:3 train_acc: 87.86%, train_loss: 21.9586\n",
            "client:4 train_acc: 87.88%, train_loss: 29.3625\n",
            "client:2 train_acc: 87.85%, train_loss: 36.8147\n",
            "Test set: Average loss: 4.8223, Accuracy: 1071/10000 (10.71%)\n"
          ]
        },
        {
          "output_type": "stream",
          "name": "stderr",
          "text": [
            "Round154: User1_1: 100%|██████████████████████████████████████████| 100/100 [00:04<00:00, 23.69it/s]\n",
            "Round154: User2_1: 100%|██████████████████████████████████████████| 100/100 [00:03<00:00, 27.74it/s]\n",
            "Round154: User4_1: 100%|██████████████████████████████████████████| 100/100 [00:03<00:00, 26.77it/s]\n",
            "Round154: User0_1: 100%|██████████████████████████████████████████| 100/100 [00:04<00:00, 23.44it/s]\n",
            "Round154: User3_1: 100%|██████████████████████████████████████████| 100/100 [00:03<00:00, 27.88it/s]\n"
          ]
        },
        {
          "output_type": "stream",
          "name": "stdout",
          "text": [
            "client:1 train_acc: 87.69%, train_loss: 7.3839\n",
            "client:2 train_acc: 87.59%, train_loss: 14.9847\n",
            "client:4 train_acc: 87.56%, train_loss: 22.4349\n",
            "client:0 train_acc: 87.49%, train_loss: 29.8069\n",
            "client:3 train_acc: 87.56%, train_loss: 37.2031\n",
            "Test set: Average loss: 4.9937, Accuracy: 1064/10000 (10.64%)\n"
          ]
        },
        {
          "output_type": "stream",
          "name": "stderr",
          "text": [
            "Round155: User2_1: 100%|██████████████████████████████████████████| 100/100 [00:03<00:00, 26.16it/s]\n",
            "Round155: User3_1: 100%|██████████████████████████████████████████| 100/100 [00:03<00:00, 27.24it/s]\n",
            "Round155: User1_1: 100%|██████████████████████████████████████████| 100/100 [00:04<00:00, 23.22it/s]\n",
            "Round155: User4_1: 100%|██████████████████████████████████████████| 100/100 [00:03<00:00, 27.05it/s]\n",
            "Round155: User0_1: 100%|██████████████████████████████████████████| 100/100 [00:03<00:00, 27.30it/s]\n"
          ]
        },
        {
          "output_type": "stream",
          "name": "stdout",
          "text": [
            "client:2 train_acc: 87.24%, train_loss: 7.6170\n",
            "client:3 train_acc: 87.42%, train_loss: 15.0209\n",
            "client:1 train_acc: 87.67%, train_loss: 22.2192\n",
            "client:4 train_acc: 87.60%, train_loss: 29.5987\n",
            "client:0 train_acc: 87.68%, train_loss: 36.8135\n",
            "Test set: Average loss: 4.6528, Accuracy: 1099/10000 (10.99%)\n"
          ]
        },
        {
          "output_type": "stream",
          "name": "stderr",
          "text": [
            "Round156: User1_1: 100%|██████████████████████████████████████████| 100/100 [00:03<00:00, 27.44it/s]\n",
            "Round156: User3_1: 100%|██████████████████████████████████████████| 100/100 [00:04<00:00, 23.50it/s]\n",
            "Round156: User2_1: 100%|██████████████████████████████████████████| 100/100 [00:03<00:00, 27.24it/s]\n",
            "Round156: User4_1: 100%|██████████████████████████████████████████| 100/100 [00:03<00:00, 27.74it/s]\n",
            "Round156: User0_1: 100%|██████████████████████████████████████████| 100/100 [00:04<00:00, 24.79it/s]\n"
          ]
        },
        {
          "output_type": "stream",
          "name": "stdout",
          "text": [
            "client:1 train_acc: 87.96%, train_loss: 7.2285\n",
            "client:3 train_acc: 87.87%, train_loss: 14.5241\n",
            "client:2 train_acc: 87.80%, train_loss: 21.9348\n",
            "client:4 train_acc: 87.88%, train_loss: 29.0727\n",
            "client:0 train_acc: 87.87%, train_loss: 36.2161\n",
            "Test set: Average loss: 4.8724, Accuracy: 1098/10000 (10.98%)\n"
          ]
        },
        {
          "output_type": "stream",
          "name": "stderr",
          "text": [
            "Round157: User4_1: 100%|██████████████████████████████████████████| 100/100 [00:04<00:00, 22.42it/s]\n",
            "Round157: User0_1: 100%|██████████████████████████████████████████| 100/100 [00:03<00:00, 26.57it/s]\n",
            "Round157: User3_1: 100%|██████████████████████████████████████████| 100/100 [00:03<00:00, 26.24it/s]\n",
            "Round157: User1_1: 100%|██████████████████████████████████████████| 100/100 [00:04<00:00, 23.24it/s]\n",
            "Round157: User2_1: 100%|██████████████████████████████████████████| 100/100 [00:03<00:00, 26.62it/s]\n"
          ]
        },
        {
          "output_type": "stream",
          "name": "stdout",
          "text": [
            "client:4 train_acc: 87.89%, train_loss: 7.1699\n",
            "client:0 train_acc: 87.97%, train_loss: 14.2667\n",
            "client:3 train_acc: 87.86%, train_loss: 21.5614\n",
            "client:1 train_acc: 87.94%, train_loss: 28.6568\n",
            "client:2 train_acc: 87.78%, train_loss: 36.2684\n",
            "Test set: Average loss: 4.9559, Accuracy: 1061/10000 (10.61%)\n"
          ]
        },
        {
          "output_type": "stream",
          "name": "stderr",
          "text": [
            "Round158: User0_1: 100%|██████████████████████████████████████████| 100/100 [00:03<00:00, 27.49it/s]\n",
            "Round158: User2_1: 100%|██████████████████████████████████████████| 100/100 [00:03<00:00, 27.50it/s]\n",
            "Round158: User4_1: 100%|██████████████████████████████████████████| 100/100 [00:04<00:00, 22.86it/s]\n",
            "Round158: User1_1: 100%|██████████████████████████████████████████| 100/100 [00:03<00:00, 27.30it/s]\n",
            "Round158: User3_1: 100%|██████████████████████████████████████████| 100/100 [00:03<00:00, 26.86it/s]\n"
          ]
        },
        {
          "output_type": "stream",
          "name": "stdout",
          "text": [
            "client:0 train_acc: 88.26%, train_loss: 6.8904\n",
            "client:2 train_acc: 88.09%, train_loss: 14.0746\n",
            "client:4 train_acc: 88.12%, train_loss: 21.0728\n",
            "client:1 train_acc: 88.22%, train_loss: 27.9299\n",
            "client:3 train_acc: 88.28%, train_loss: 34.9427\n",
            "Test set: Average loss: 4.9770, Accuracy: 1071/10000 (10.71%)\n"
          ]
        },
        {
          "output_type": "stream",
          "name": "stderr",
          "text": [
            "Round159: User0_1: 100%|██████████████████████████████████████████| 100/100 [00:03<00:00, 27.01it/s]\n",
            "Round159: User3_1: 100%|██████████████████████████████████████████| 100/100 [00:04<00:00, 23.37it/s]\n",
            "Round159: User4_1: 100%|██████████████████████████████████████████| 100/100 [00:03<00:00, 27.73it/s]\n",
            "Round159: User1_1: 100%|██████████████████████████████████████████| 100/100 [00:03<00:00, 27.18it/s]\n",
            "Round159: User2_1: 100%|██████████████████████████████████████████| 100/100 [00:04<00:00, 23.46it/s]\n"
          ]
        },
        {
          "output_type": "stream",
          "name": "stdout",
          "text": [
            "client:0 train_acc: 88.81%, train_loss: 6.7222\n",
            "client:3 train_acc: 88.58%, train_loss: 13.6848\n",
            "client:4 train_acc: 88.57%, train_loss: 20.6147\n",
            "client:1 train_acc: 88.65%, train_loss: 27.4430\n",
            "client:2 train_acc: 88.49%, train_loss: 34.6681\n",
            "Test set: Average loss: 4.7213, Accuracy: 1108/10000 (11.08%)\n"
          ]
        },
        {
          "output_type": "stream",
          "name": "stderr",
          "text": [
            "Round160: User3_1: 100%|██████████████████████████████████████████| 100/100 [00:04<00:00, 23.91it/s]\n",
            "Round160: User4_1: 100%|██████████████████████████████████████████| 100/100 [00:03<00:00, 26.86it/s]\n",
            "Round160: User2_1: 100%|██████████████████████████████████████████| 100/100 [00:03<00:00, 27.31it/s]\n",
            "Round160: User0_1: 100%|██████████████████████████████████████████| 100/100 [00:04<00:00, 23.73it/s]\n",
            "Round160: User1_1: 100%|██████████████████████████████████████████| 100/100 [00:03<00:00, 27.80it/s]\n"
          ]
        },
        {
          "output_type": "stream",
          "name": "stdout",
          "text": [
            "client:3 train_acc: 88.91%, train_loss: 6.7781\n",
            "client:4 train_acc: 88.77%, train_loss: 13.5729\n",
            "client:2 train_acc: 88.79%, train_loss: 20.4208\n",
            "client:0 train_acc: 88.79%, train_loss: 27.0444\n",
            "client:1 train_acc: 88.83%, train_loss: 33.7480\n",
            "Test set: Average loss: 5.0518, Accuracy: 1106/10000 (11.06%)\n"
          ]
        },
        {
          "output_type": "stream",
          "name": "stderr",
          "text": [
            "Round161: User2_1: 100%|██████████████████████████████████████████| 100/100 [00:03<00:00, 25.44it/s]\n",
            "Round161: User0_1: 100%|██████████████████████████████████████████| 100/100 [00:03<00:00, 26.19it/s]\n",
            "Round161: User4_1: 100%|██████████████████████████████████████████| 100/100 [00:04<00:00, 22.46it/s]\n",
            "Round161: User3_1: 100%|██████████████████████████████████████████| 100/100 [00:03<00:00, 26.98it/s]\n",
            "Round161: User1_1: 100%|██████████████████████████████████████████| 100/100 [00:03<00:00, 27.00it/s]\n"
          ]
        },
        {
          "output_type": "stream",
          "name": "stdout",
          "text": [
            "client:2 train_acc: 88.66%, train_loss: 6.9091\n",
            "client:0 train_acc: 88.77%, train_loss: 13.5167\n",
            "client:4 train_acc: 88.80%, train_loss: 20.1918\n",
            "client:3 train_acc: 88.84%, train_loss: 26.8852\n",
            "client:1 train_acc: 88.86%, train_loss: 33.5871\n",
            "Test set: Average loss: 4.8896, Accuracy: 1183/10000 (11.83%)\n"
          ]
        },
        {
          "output_type": "stream",
          "name": "stderr",
          "text": [
            "Round162: User3_1: 100%|██████████████████████████████████████████| 100/100 [00:03<00:00, 26.50it/s]\n",
            "Round162: User0_1: 100%|██████████████████████████████████████████| 100/100 [00:04<00:00, 22.96it/s]\n",
            "Round162: User4_1: 100%|██████████████████████████████████████████| 100/100 [00:03<00:00, 27.93it/s]\n",
            "Round162: User2_1: 100%|██████████████████████████████████████████| 100/100 [00:03<00:00, 28.45it/s]\n",
            "Round162: User1_1: 100%|██████████████████████████████████████████| 100/100 [00:04<00:00, 23.04it/s]\n"
          ]
        },
        {
          "output_type": "stream",
          "name": "stdout",
          "text": [
            "client:3 train_acc: 88.76%, train_loss: 6.9120\n",
            "client:0 train_acc: 88.72%, train_loss: 13.7169\n",
            "client:4 train_acc: 88.67%, train_loss: 20.6222\n",
            "client:2 train_acc: 88.65%, train_loss: 27.6763\n",
            "client:1 train_acc: 88.70%, train_loss: 34.4763\n",
            "Test set: Average loss: 4.8521, Accuracy: 1098/10000 (10.98%)\n"
          ]
        },
        {
          "output_type": "stream",
          "name": "stderr",
          "text": [
            "Round163: User3_1: 100%|██████████████████████████████████████████| 100/100 [00:04<00:00, 23.82it/s]\n",
            "Round163: User1_1: 100%|██████████████████████████████████████████| 100/100 [00:03<00:00, 26.97it/s]\n",
            "Round163: User4_1: 100%|██████████████████████████████████████████| 100/100 [00:03<00:00, 26.84it/s]\n",
            "Round163: User0_1: 100%|██████████████████████████████████████████| 100/100 [00:04<00:00, 22.88it/s]\n",
            "Round163: User2_1: 100%|██████████████████████████████████████████| 100/100 [00:03<00:00, 27.60it/s]\n"
          ]
        },
        {
          "output_type": "stream",
          "name": "stdout",
          "text": [
            "client:3 train_acc: 89.41%, train_loss: 6.3192\n",
            "client:1 train_acc: 89.59%, train_loss: 12.5776\n",
            "client:4 train_acc: 89.61%, train_loss: 18.8881\n",
            "client:0 train_acc: 89.60%, train_loss: 25.0651\n",
            "client:2 train_acc: 89.54%, train_loss: 31.5331\n",
            "Test set: Average loss: 5.0480, Accuracy: 1112/10000 (11.12%)\n"
          ]
        },
        {
          "output_type": "stream",
          "name": "stderr",
          "text": [
            "Round164: User3_1: 100%|██████████████████████████████████████████| 100/100 [00:03<00:00, 28.07it/s]\n",
            "Round164: User1_1: 100%|██████████████████████████████████████████| 100/100 [00:03<00:00, 26.98it/s]\n",
            "Round164: User0_1: 100%|██████████████████████████████████████████| 100/100 [00:04<00:00, 23.81it/s]\n",
            "Round164: User4_1: 100%|██████████████████████████████████████████| 100/100 [00:03<00:00, 27.22it/s]\n",
            "Round164: User2_1: 100%|██████████████████████████████████████████| 100/100 [00:03<00:00, 27.93it/s]\n"
          ]
        },
        {
          "output_type": "stream",
          "name": "stdout",
          "text": [
            "client:3 train_acc: 89.91%, train_loss: 6.3258\n",
            "client:1 train_acc: 89.98%, train_loss: 12.5630\n",
            "client:0 train_acc: 90.12%, train_loss: 18.5706\n",
            "client:4 train_acc: 90.13%, train_loss: 24.8168\n",
            "client:2 train_acc: 90.03%, train_loss: 31.2710\n",
            "Test set: Average loss: 5.1303, Accuracy: 1098/10000 (10.98%)\n"
          ]
        },
        {
          "output_type": "stream",
          "name": "stderr",
          "text": [
            "Round165: User0_1: 100%|██████████████████████████████████████████| 100/100 [00:03<00:00, 27.08it/s]\n",
            "Round165: User4_1: 100%|██████████████████████████████████████████| 100/100 [00:04<00:00, 24.27it/s]\n",
            "Round165: User3_1: 100%|██████████████████████████████████████████| 100/100 [00:03<00:00, 27.15it/s]\n",
            "Round165: User1_1: 100%|██████████████████████████████████████████| 100/100 [00:03<00:00, 27.60it/s]\n",
            "Round165: User2_1: 100%|██████████████████████████████████████████| 100/100 [00:04<00:00, 24.62it/s]\n"
          ]
        },
        {
          "output_type": "stream",
          "name": "stdout",
          "text": [
            "client:0 train_acc: 89.60%, train_loss: 6.3288\n",
            "client:4 train_acc: 89.53%, train_loss: 12.8276\n",
            "client:3 train_acc: 89.65%, train_loss: 19.1886\n",
            "client:1 train_acc: 89.73%, train_loss: 25.4894\n",
            "client:2 train_acc: 89.69%, train_loss: 31.9552\n",
            "Test set: Average loss: 5.1454, Accuracy: 1060/10000 (10.60%)\n"
          ]
        },
        {
          "output_type": "stream",
          "name": "stderr",
          "text": [
            "Round166: User2_1: 100%|██████████████████████████████████████████| 100/100 [00:04<00:00, 24.78it/s]\n",
            "Round166: User1_1: 100%|██████████████████████████████████████████| 100/100 [00:03<00:00, 26.15it/s]\n",
            "Round166: User4_1: 100%|██████████████████████████████████████████| 100/100 [00:03<00:00, 26.79it/s]\n",
            "Round166: User0_1: 100%|██████████████████████████████████████████| 100/100 [00:03<00:00, 25.46it/s]\n",
            "Round166: User3_1: 100%|██████████████████████████████████████████| 100/100 [00:04<00:00, 24.76it/s]\n"
          ]
        },
        {
          "output_type": "stream",
          "name": "stdout",
          "text": [
            "client:2 train_acc: 87.65%, train_loss: 7.1682\n",
            "client:1 train_acc: 87.96%, train_loss: 13.9710\n",
            "client:4 train_acc: 88.15%, train_loss: 20.7330\n",
            "client:0 train_acc: 88.13%, train_loss: 27.5525\n",
            "client:3 train_acc: 88.14%, train_loss: 34.4828\n",
            "Test set: Average loss: 5.0247, Accuracy: 1123/10000 (11.23%)\n"
          ]
        },
        {
          "output_type": "stream",
          "name": "stderr",
          "text": [
            "Round167: User2_1: 100%|██████████████████████████████████████████| 100/100 [00:03<00:00, 26.15it/s]\n",
            "Round167: User1_1: 100%|██████████████████████████████████████████| 100/100 [00:03<00:00, 27.16it/s]\n",
            "Round167: User0_1: 100%|██████████████████████████████████████████| 100/100 [00:03<00:00, 26.08it/s]\n",
            "Round167: User4_1: 100%|██████████████████████████████████████████| 100/100 [00:04<00:00, 24.08it/s]\n",
            "Round167: User3_1: 100%|██████████████████████████████████████████| 100/100 [00:03<00:00, 28.30it/s]\n"
          ]
        },
        {
          "output_type": "stream",
          "name": "stdout",
          "text": [
            "client:2 train_acc: 89.76%, train_loss: 6.3731\n",
            "client:1 train_acc: 90.03%, train_loss: 12.5040\n",
            "client:0 train_acc: 90.20%, train_loss: 18.5018\n",
            "client:4 train_acc: 90.20%, train_loss: 24.6239\n",
            "client:3 train_acc: 90.21%, train_loss: 30.7774\n",
            "Test set: Average loss: 5.1314, Accuracy: 1080/10000 (10.80%)\n"
          ]
        },
        {
          "output_type": "stream",
          "name": "stderr",
          "text": [
            "Round168: User2_1: 100%|██████████████████████████████████████████| 100/100 [00:03<00:00, 27.96it/s]\n",
            "Round168: User4_1: 100%|██████████████████████████████████████████| 100/100 [00:03<00:00, 26.83it/s]\n",
            "Round168: User3_1: 100%|██████████████████████████████████████████| 100/100 [00:04<00:00, 23.68it/s]\n",
            "Round168: User1_1: 100%|██████████████████████████████████████████| 100/100 [00:03<00:00, 27.78it/s]\n",
            "Round168: User0_1: 100%|██████████████████████████████████████████| 100/100 [00:03<00:00, 27.60it/s]\n"
          ]
        },
        {
          "output_type": "stream",
          "name": "stdout",
          "text": [
            "client:2 train_acc: 90.15%, train_loss: 6.0888\n",
            "client:4 train_acc: 89.92%, train_loss: 12.2748\n",
            "client:3 train_acc: 89.84%, train_loss: 18.4706\n",
            "client:1 train_acc: 89.82%, train_loss: 24.6159\n",
            "client:0 train_acc: 89.80%, train_loss: 30.6887\n",
            "Test set: Average loss: 5.1990, Accuracy: 1182/10000 (11.82%)\n"
          ]
        },
        {
          "output_type": "stream",
          "name": "stderr",
          "text": [
            "Round169: User3_1: 100%|██████████████████████████████████████████| 100/100 [00:03<00:00, 26.85it/s]\n",
            "Round169: User0_1: 100%|██████████████████████████████████████████| 100/100 [00:04<00:00, 23.93it/s]\n",
            "Round169: User4_1: 100%|██████████████████████████████████████████| 100/100 [00:03<00:00, 26.85it/s]\n",
            "Round169: User1_1: 100%|██████████████████████████████████████████| 100/100 [00:03<00:00, 27.25it/s]\n",
            "Round169: User2_1: 100%|██████████████████████████████████████████| 100/100 [00:04<00:00, 23.20it/s]\n"
          ]
        },
        {
          "output_type": "stream",
          "name": "stdout",
          "text": [
            "client:3 train_acc: 89.73%, train_loss: 6.2273\n",
            "client:0 train_acc: 89.92%, train_loss: 12.2126\n",
            "client:4 train_acc: 89.97%, train_loss: 18.3581\n",
            "client:1 train_acc: 89.98%, train_loss: 24.4590\n",
            "client:2 train_acc: 89.81%, train_loss: 30.9161\n",
            "Test set: Average loss: 5.1702, Accuracy: 1147/10000 (11.47%)\n"
          ]
        },
        {
          "output_type": "stream",
          "name": "stderr",
          "text": [
            "Round170: User1_1: 100%|██████████████████████████████████████████| 100/100 [00:04<00:00, 23.76it/s]\n",
            "Round170: User4_1: 100%|██████████████████████████████████████████| 100/100 [00:03<00:00, 28.17it/s]\n",
            "Round170: User2_1: 100%|██████████████████████████████████████████| 100/100 [00:03<00:00, 27.25it/s]\n",
            "Round170: User0_1: 100%|██████████████████████████████████████████| 100/100 [00:04<00:00, 23.48it/s]\n",
            "Round170: User3_1: 100%|██████████████████████████████████████████| 100/100 [00:03<00:00, 27.29it/s]\n"
          ]
        },
        {
          "output_type": "stream",
          "name": "stdout",
          "text": [
            "client:1 train_acc: 89.90%, train_loss: 6.1755\n",
            "client:4 train_acc: 89.70%, train_loss: 12.3761\n",
            "client:2 train_acc: 89.75%, train_loss: 18.6367\n",
            "client:0 train_acc: 89.70%, train_loss: 24.7497\n",
            "client:3 train_acc: 89.72%, train_loss: 30.9512\n",
            "Test set: Average loss: 5.4813, Accuracy: 1078/10000 (10.78%)\n"
          ]
        },
        {
          "output_type": "stream",
          "name": "stderr",
          "text": [
            "Round171: User0_1: 100%|██████████████████████████████████████████| 100/100 [00:03<00:00, 26.82it/s]\n",
            "Round171: User2_1: 100%|██████████████████████████████████████████| 100/100 [00:03<00:00, 27.02it/s]\n",
            "Round171: User3_1: 100%|██████████████████████████████████████████| 100/100 [00:04<00:00, 23.71it/s]\n",
            "Round171: User1_1: 100%|██████████████████████████████████████████| 100/100 [00:03<00:00, 27.35it/s]\n",
            "Round171: User4_1: 100%|██████████████████████████████████████████| 100/100 [00:03<00:00, 27.67it/s]\n"
          ]
        },
        {
          "output_type": "stream",
          "name": "stdout",
          "text": [
            "client:0 train_acc: 91.21%, train_loss: 5.4654\n",
            "client:2 train_acc: 90.89%, train_loss: 11.4129\n",
            "client:3 train_acc: 90.82%, train_loss: 17.1737\n",
            "client:1 train_acc: 90.85%, train_loss: 22.8479\n",
            "client:4 train_acc: 90.90%, train_loss: 28.5394\n",
            "Test set: Average loss: 5.1373, Accuracy: 1203/10000 (12.03%)\n"
          ]
        },
        {
          "output_type": "stream",
          "name": "stderr",
          "text": [
            "Round172: User1_1: 100%|██████████████████████████████████████████| 100/100 [00:03<00:00, 27.64it/s]\n",
            "Round172: User0_1: 100%|██████████████████████████████████████████| 100/100 [00:04<00:00, 23.56it/s]\n",
            "Round172: User4_1: 100%|██████████████████████████████████████████| 100/100 [00:03<00:00, 27.61it/s]\n",
            "Round172: User2_1: 100%|██████████████████████████████████████████| 100/100 [00:03<00:00, 27.32it/s]\n",
            "Round172: User3_1: 100%|██████████████████████████████████████████| 100/100 [00:04<00:00, 23.55it/s]\n"
          ]
        },
        {
          "output_type": "stream",
          "name": "stdout",
          "text": [
            "client:1 train_acc: 90.11%, train_loss: 5.9754\n",
            "client:0 train_acc: 90.15%, train_loss: 11.8688\n",
            "client:4 train_acc: 90.10%, train_loss: 17.8404\n",
            "client:2 train_acc: 90.18%, train_loss: 23.8615\n",
            "client:3 train_acc: 90.21%, train_loss: 29.7534\n",
            "Test set: Average loss: 4.8024, Accuracy: 1177/10000 (11.77%)\n"
          ]
        },
        {
          "output_type": "stream",
          "name": "stderr",
          "text": [
            "Round173: User1_1: 100%|██████████████████████████████████████████| 100/100 [00:04<00:00, 23.72it/s]\n",
            "Round173: User0_1: 100%|██████████████████████████████████████████| 100/100 [00:03<00:00, 27.85it/s]\n",
            "Round173: User4_1: 100%|██████████████████████████████████████████| 100/100 [00:03<00:00, 27.27it/s]\n",
            "Round173: User3_1: 100%|██████████████████████████████████████████| 100/100 [00:04<00:00, 23.50it/s]\n",
            "Round173: User2_1: 100%|██████████████████████████████████████████| 100/100 [00:03<00:00, 27.32it/s]\n"
          ]
        },
        {
          "output_type": "stream",
          "name": "stdout",
          "text": [
            "client:1 train_acc: 90.94%, train_loss: 5.6184\n",
            "client:0 train_acc: 90.91%, train_loss: 11.2610\n",
            "client:4 train_acc: 90.77%, train_loss: 17.1110\n",
            "client:3 train_acc: 90.84%, train_loss: 22.7548\n",
            "client:2 train_acc: 90.75%, train_loss: 28.6688\n",
            "Test set: Average loss: 5.2934, Accuracy: 1114/10000 (11.14%)\n"
          ]
        },
        {
          "output_type": "stream",
          "name": "stderr",
          "text": [
            "Round174: User1_1: 100%|██████████████████████████████████████████| 100/100 [00:03<00:00, 26.88it/s]\n",
            "Round174: User2_1: 100%|██████████████████████████████████████████| 100/100 [00:03<00:00, 27.20it/s]\n",
            "Round174: User3_1: 100%|██████████████████████████████████████████| 100/100 [00:04<00:00, 23.07it/s]\n",
            "Round174: User4_1: 100%|██████████████████████████████████████████| 100/100 [00:03<00:00, 27.59it/s]\n",
            "Round174: User0_1: 100%|██████████████████████████████████████████| 100/100 [00:03<00:00, 27.27it/s]\n"
          ]
        },
        {
          "output_type": "stream",
          "name": "stdout",
          "text": [
            "client:1 train_acc: 91.83%, train_loss: 5.3275\n",
            "client:2 train_acc: 91.55%, train_loss: 10.8935\n",
            "client:3 train_acc: 91.46%, train_loss: 16.3531\n",
            "client:4 train_acc: 91.44%, train_loss: 21.8026\n",
            "client:0 train_acc: 91.45%, train_loss: 27.1991\n",
            "Test set: Average loss: 5.1973, Accuracy: 1124/10000 (11.24%)\n"
          ]
        },
        {
          "output_type": "stream",
          "name": "stderr",
          "text": [
            "Round175: User3_1: 100%|██████████████████████████████████████████| 100/100 [00:03<00:00, 27.67it/s]\n",
            "Round175: User1_1: 100%|██████████████████████████████████████████| 100/100 [00:04<00:00, 23.43it/s]\n",
            "Round175: User4_1: 100%|██████████████████████████████████████████| 100/100 [00:03<00:00, 27.42it/s]\n",
            "Round175: User0_1: 100%|██████████████████████████████████████████| 100/100 [00:03<00:00, 27.38it/s]\n",
            "Round175: User2_1: 100%|██████████████████████████████████████████| 100/100 [00:04<00:00, 24.66it/s]\n"
          ]
        },
        {
          "output_type": "stream",
          "name": "stdout",
          "text": [
            "client:3 train_acc: 91.46%, train_loss: 5.4345\n",
            "client:1 train_acc: 91.51%, train_loss: 10.8360\n",
            "client:4 train_acc: 91.39%, train_loss: 16.3159\n",
            "client:0 train_acc: 91.46%, train_loss: 21.6070\n",
            "client:2 train_acc: 91.33%, train_loss: 27.1804\n",
            "Test set: Average loss: 5.3151, Accuracy: 1109/10000 (11.09%)\n"
          ]
        },
        {
          "output_type": "stream",
          "name": "stderr",
          "text": [
            "Round176: User4_1: 100%|██████████████████████████████████████████| 100/100 [00:04<00:00, 23.81it/s]\n",
            "Round176: User2_1: 100%|██████████████████████████████████████████| 100/100 [00:03<00:00, 27.49it/s]\n",
            "Round176: User1_1: 100%|██████████████████████████████████████████| 100/100 [00:03<00:00, 28.04it/s]\n",
            "Round176: User0_1: 100%|██████████████████████████████████████████| 100/100 [00:04<00:00, 24.43it/s]\n",
            "Round176: User3_1: 100%|██████████████████████████████████████████| 100/100 [00:03<00:00, 26.38it/s]\n"
          ]
        },
        {
          "output_type": "stream",
          "name": "stdout",
          "text": [
            "client:4 train_acc: 91.06%, train_loss: 5.4784\n",
            "client:2 train_acc: 90.80%, train_loss: 11.0966\n",
            "client:1 train_acc: 90.97%, train_loss: 16.4701\n",
            "client:0 train_acc: 91.17%, train_loss: 21.5867\n",
            "client:3 train_acc: 91.10%, train_loss: 27.1165\n",
            "Test set: Average loss: 5.6511, Accuracy: 1119/10000 (11.19%)\n"
          ]
        },
        {
          "output_type": "stream",
          "name": "stderr",
          "text": [
            "Round177: User4_1: 100%|██████████████████████████████████████████| 100/100 [00:03<00:00, 26.31it/s]\n",
            "Round177: User3_1: 100%|██████████████████████████████████████████| 100/100 [00:03<00:00, 27.66it/s]\n",
            "Round177: User1_1: 100%|██████████████████████████████████████████| 100/100 [00:03<00:00, 25.04it/s]\n",
            "Round177: User0_1: 100%|██████████████████████████████████████████| 100/100 [00:03<00:00, 25.50it/s]\n",
            "Round177: User2_1: 100%|██████████████████████████████████████████| 100/100 [00:03<00:00, 27.58it/s]\n"
          ]
        },
        {
          "output_type": "stream",
          "name": "stdout",
          "text": [
            "client:4 train_acc: 91.64%, train_loss: 5.3459\n",
            "client:3 train_acc: 91.67%, train_loss: 10.7269\n",
            "client:1 train_acc: 91.71%, train_loss: 15.9922\n",
            "client:0 train_acc: 91.74%, train_loss: 21.1837\n",
            "client:2 train_acc: 91.54%, train_loss: 26.8143\n",
            "Test set: Average loss: 5.2469, Accuracy: 1143/10000 (11.43%)\n"
          ]
        },
        {
          "output_type": "stream",
          "name": "stderr",
          "text": [
            "Round178: User1_1: 100%|██████████████████████████████████████████| 100/100 [00:03<00:00, 26.83it/s]\n",
            "Round178: User3_1: 100%|██████████████████████████████████████████| 100/100 [00:03<00:00, 26.43it/s]\n",
            "Round178: User2_1: 100%|██████████████████████████████████████████| 100/100 [00:04<00:00, 24.57it/s]\n",
            "Round178: User0_1: 100%|██████████████████████████████████████████| 100/100 [00:03<00:00, 28.31it/s]\n",
            "Round178: User4_1: 100%|██████████████████████████████████████████| 100/100 [00:03<00:00, 27.53it/s]\n"
          ]
        },
        {
          "output_type": "stream",
          "name": "stdout",
          "text": [
            "client:1 train_acc: 91.34%, train_loss: 5.3075\n",
            "client:3 train_acc: 91.27%, train_loss: 10.6010\n",
            "client:2 train_acc: 91.31%, train_loss: 15.8969\n",
            "client:0 train_acc: 91.39%, train_loss: 21.0656\n",
            "client:4 train_acc: 91.30%, train_loss: 26.5767\n",
            "Test set: Average loss: 5.4313, Accuracy: 1153/10000 (11.53%)\n"
          ]
        },
        {
          "output_type": "stream",
          "name": "stderr",
          "text": [
            "Round179: User4_1: 100%|██████████████████████████████████████████| 100/100 [00:03<00:00, 26.40it/s]\n",
            "Round179: User1_1: 100%|██████████████████████████████████████████| 100/100 [00:04<00:00, 23.73it/s]\n",
            "Round179: User2_1: 100%|██████████████████████████████████████████| 100/100 [00:03<00:00, 28.02it/s]\n",
            "Round179: User0_1: 100%|██████████████████████████████████████████| 100/100 [00:03<00:00, 28.04it/s]\n",
            "Round179: User3_1: 100%|██████████████████████████████████████████| 100/100 [00:04<00:00, 22.90it/s]\n"
          ]
        },
        {
          "output_type": "stream",
          "name": "stdout",
          "text": [
            "client:4 train_acc: 92.52%, train_loss: 4.8744\n",
            "client:1 train_acc: 92.42%, train_loss: 9.7600\n",
            "client:2 train_acc: 92.00%, train_loss: 14.9941\n",
            "client:0 train_acc: 92.03%, train_loss: 19.8299\n",
            "client:3 train_acc: 92.05%, train_loss: 24.7954\n",
            "Test set: Average loss: 5.4893, Accuracy: 1134/10000 (11.34%)\n"
          ]
        },
        {
          "output_type": "stream",
          "name": "stderr",
          "text": [
            "Round180: User2_1: 100%|██████████████████████████████████████████| 100/100 [00:04<00:00, 23.48it/s]\n",
            "Round180: User3_1: 100%|██████████████████████████████████████████| 100/100 [00:03<00:00, 27.52it/s]\n",
            "Round180: User0_1: 100%|██████████████████████████████████████████| 100/100 [00:03<00:00, 26.32it/s]\n",
            "Round180: User4_1: 100%|██████████████████████████████████████████| 100/100 [00:04<00:00, 23.64it/s]\n",
            "Round180: User1_1: 100%|██████████████████████████████████████████| 100/100 [00:03<00:00, 26.95it/s]\n"
          ]
        },
        {
          "output_type": "stream",
          "name": "stdout",
          "text": [
            "client:2 train_acc: 92.03%, train_loss: 5.0525\n",
            "client:3 train_acc: 92.19%, train_loss: 9.9371\n",
            "client:0 train_acc: 92.31%, train_loss: 14.6994\n",
            "client:4 train_acc: 92.28%, train_loss: 19.6867\n",
            "client:1 train_acc: 92.30%, train_loss: 24.5944\n",
            "Test set: Average loss: 5.3209, Accuracy: 1197/10000 (11.97%)\n"
          ]
        },
        {
          "output_type": "stream",
          "name": "stderr",
          "text": [
            "Round181: User1_1: 100%|██████████████████████████████████████████| 100/100 [00:03<00:00, 27.10it/s]\n",
            "Round181: User4_1: 100%|██████████████████████████████████████████| 100/100 [00:04<00:00, 24.31it/s]\n",
            "Round181: User2_1: 100%|██████████████████████████████████████████| 100/100 [00:04<00:00, 23.28it/s]\n",
            "Round181: User3_1: 100%|██████████████████████████████████████████| 100/100 [00:03<00:00, 27.70it/s]\n",
            "Round181: User0_1: 100%|██████████████████████████████████████████| 100/100 [00:03<00:00, 27.06it/s]\n"
          ]
        },
        {
          "output_type": "stream",
          "name": "stdout",
          "text": [
            "client:1 train_acc: 92.70%, train_loss: 4.8091\n",
            "client:4 train_acc: 92.38%, train_loss: 9.7884\n",
            "client:2 train_acc: 92.31%, train_loss: 14.7760\n",
            "client:3 train_acc: 92.36%, train_loss: 19.6566\n",
            "client:0 train_acc: 92.40%, train_loss: 24.4853\n",
            "Test set: Average loss: 5.4313, Accuracy: 1095/10000 (10.95%)\n"
          ]
        },
        {
          "output_type": "stream",
          "name": "stderr",
          "text": [
            "Round182: User4_1: 100%|██████████████████████████████████████████| 100/100 [00:03<00:00, 27.60it/s]\n",
            "Round182: User0_1: 100%|██████████████████████████████████████████| 100/100 [00:04<00:00, 23.42it/s]\n",
            "Round182: User3_1: 100%|██████████████████████████████████████████| 100/100 [00:03<00:00, 27.59it/s]\n",
            "Round182: User1_1: 100%|██████████████████████████████████████████| 100/100 [00:03<00:00, 27.95it/s]\n",
            "Round182: User2_1: 100%|██████████████████████████████████████████| 100/100 [00:04<00:00, 23.13it/s]\n"
          ]
        },
        {
          "output_type": "stream",
          "name": "stdout",
          "text": [
            "client:4 train_acc: 92.48%, train_loss: 4.8940\n",
            "client:0 train_acc: 92.53%, train_loss: 9.6011\n",
            "client:3 train_acc: 92.58%, train_loss: 14.3629\n",
            "client:1 train_acc: 92.53%, train_loss: 19.2266\n",
            "client:2 train_acc: 92.43%, train_loss: 24.2747\n",
            "Test set: Average loss: 5.1803, Accuracy: 1196/10000 (11.96%)\n"
          ]
        },
        {
          "output_type": "stream",
          "name": "stderr",
          "text": [
            "Round183: User4_1: 100%|██████████████████████████████████████████| 100/100 [00:04<00:00, 23.59it/s]\n",
            "Round183: User0_1: 100%|██████████████████████████████████████████| 100/100 [00:03<00:00, 27.89it/s]\n",
            "Round183: User3_1: 100%|██████████████████████████████████████████| 100/100 [00:03<00:00, 27.37it/s]\n",
            "Round183: User2_1: 100%|██████████████████████████████████████████| 100/100 [00:04<00:00, 22.19it/s]\n",
            "Round183: User1_1: 100%|██████████████████████████████████████████| 100/100 [00:03<00:00, 26.65it/s]\n"
          ]
        },
        {
          "output_type": "stream",
          "name": "stdout",
          "text": [
            "client:4 train_acc: 92.07%, train_loss: 5.0682\n",
            "client:0 train_acc: 92.18%, train_loss: 9.8632\n",
            "client:3 train_acc: 92.15%, train_loss: 14.8187\n",
            "client:2 train_acc: 92.03%, train_loss: 20.0221\n",
            "client:1 train_acc: 92.12%, train_loss: 24.8872\n",
            "Test set: Average loss: 5.0089, Accuracy: 1213/10000 (12.13%)\n"
          ]
        },
        {
          "output_type": "stream",
          "name": "stderr",
          "text": [
            "Round184: User1_1: 100%|██████████████████████████████████████████| 100/100 [00:03<00:00, 26.69it/s]\n",
            "Round184: User2_1: 100%|██████████████████████████████████████████| 100/100 [00:03<00:00, 26.71it/s]\n",
            "Round184: User0_1: 100%|██████████████████████████████████████████| 100/100 [00:04<00:00, 22.41it/s]\n",
            "Round184: User4_1: 100%|██████████████████████████████████████████| 100/100 [00:03<00:00, 26.83it/s]\n",
            "Round184: User3_1: 100%|██████████████████████████████████████████| 100/100 [00:03<00:00, 27.35it/s]\n"
          ]
        },
        {
          "output_type": "stream",
          "name": "stdout",
          "text": [
            "client:1 train_acc: 92.37%, train_loss: 4.8129\n",
            "client:2 train_acc: 92.32%, train_loss: 9.6595\n",
            "client:0 train_acc: 92.46%, train_loss: 14.1874\n",
            "client:4 train_acc: 92.38%, train_loss: 19.0486\n",
            "client:3 train_acc: 92.36%, train_loss: 23.8856\n",
            "Test set: Average loss: 5.3203, Accuracy: 1190/10000 (11.90%)\n"
          ]
        },
        {
          "output_type": "stream",
          "name": "stderr",
          "text": [
            "Round185: User3_1: 100%|██████████████████████████████████████████| 100/100 [00:03<00:00, 26.59it/s]\n",
            "Round185: User0_1: 100%|██████████████████████████████████████████| 100/100 [00:04<00:00, 23.72it/s]\n",
            "Round185: User1_1: 100%|██████████████████████████████████████████| 100/100 [00:03<00:00, 27.15it/s]\n",
            "Round185: User2_1: 100%|██████████████████████████████████████████| 100/100 [00:03<00:00, 27.48it/s]\n",
            "Round185: User4_1: 100%|██████████████████████████████████████████| 100/100 [00:04<00:00, 22.74it/s]\n"
          ]
        },
        {
          "output_type": "stream",
          "name": "stdout",
          "text": [
            "client:3 train_acc: 92.55%, train_loss: 4.7283\n",
            "client:0 train_acc: 92.81%, train_loss: 9.2065\n",
            "client:1 train_acc: 92.87%, train_loss: 13.7428\n",
            "client:2 train_acc: 92.64%, train_loss: 18.6134\n",
            "client:4 train_acc: 92.65%, train_loss: 23.2669\n",
            "Test set: Average loss: 5.3660, Accuracy: 1138/10000 (11.38%)\n"
          ]
        },
        {
          "output_type": "stream",
          "name": "stderr",
          "text": [
            "Round186: User0_1: 100%|██████████████████████████████████████████| 100/100 [00:04<00:00, 23.66it/s]\n",
            "Round186: User4_1: 100%|██████████████████████████████████████████| 100/100 [00:03<00:00, 27.59it/s]\n",
            "Round186: User2_1: 100%|██████████████████████████████████████████| 100/100 [00:03<00:00, 26.99it/s]\n",
            "Round186: User1_1: 100%|██████████████████████████████████████████| 100/100 [00:04<00:00, 23.25it/s]\n",
            "Round186: User3_1: 100%|██████████████████████████████████████████| 100/100 [00:03<00:00, 26.92it/s]\n"
          ]
        },
        {
          "output_type": "stream",
          "name": "stdout",
          "text": [
            "client:0 train_acc: 93.40%, train_loss: 4.3596\n",
            "client:4 train_acc: 93.23%, train_loss: 8.8434\n",
            "client:2 train_acc: 92.93%, train_loss: 13.5937\n",
            "client:1 train_acc: 93.02%, train_loss: 18.0278\n",
            "client:3 train_acc: 92.96%, train_loss: 22.6165\n",
            "Test set: Average loss: 5.1329, Accuracy: 1246/10000 (12.46%)\n"
          ]
        },
        {
          "output_type": "stream",
          "name": "stderr",
          "text": [
            "Round187: User3_1: 100%|██████████████████████████████████████████| 100/100 [00:03<00:00, 27.22it/s]\n",
            "Round187: User4_1: 100%|██████████████████████████████████████████| 100/100 [00:03<00:00, 26.81it/s]\n",
            "Round187: User0_1: 100%|██████████████████████████████████████████| 100/100 [00:04<00:00, 22.50it/s]\n",
            "Round187: User2_1: 100%|██████████████████████████████████████████| 100/100 [00:03<00:00, 25.37it/s]\n",
            "Round187: User1_1: 100%|██████████████████████████████████████████| 100/100 [00:03<00:00, 25.30it/s]\n"
          ]
        },
        {
          "output_type": "stream",
          "name": "stdout",
          "text": [
            "client:3 train_acc: 92.69%, train_loss: 4.4660\n",
            "client:4 train_acc: 92.89%, train_loss: 8.8888\n",
            "client:0 train_acc: 92.97%, train_loss: 13.2897\n",
            "client:2 train_acc: 92.85%, train_loss: 17.9326\n",
            "client:1 train_acc: 92.86%, train_loss: 22.2833\n",
            "Test set: Average loss: 5.2365, Accuracy: 1254/10000 (12.54%)\n"
          ]
        },
        {
          "output_type": "stream",
          "name": "stderr",
          "text": [
            "Round188: User3_1: 100%|██████████████████████████████████████████| 100/100 [00:04<00:00, 24.79it/s]\n",
            "Round188: User0_1: 100%|██████████████████████████████████████████| 100/100 [00:03<00:00, 25.48it/s]\n",
            "Round188: User1_1: 100%|██████████████████████████████████████████| 100/100 [00:03<00:00, 27.43it/s]\n",
            "Round188: User2_1: 100%|██████████████████████████████████████████| 100/100 [00:03<00:00, 26.03it/s]\n",
            "Round188: User4_1: 100%|██████████████████████████████████████████| 100/100 [00:04<00:00, 23.48it/s]\n"
          ]
        },
        {
          "output_type": "stream",
          "name": "stdout",
          "text": [
            "client:3 train_acc: 93.72%, train_loss: 4.1688\n",
            "client:0 train_acc: 93.93%, train_loss: 8.1936\n",
            "client:1 train_acc: 93.79%, train_loss: 12.3993\n",
            "client:2 train_acc: 93.61%, train_loss: 16.8007\n",
            "client:4 train_acc: 93.53%, train_loss: 21.1477\n",
            "Test set: Average loss: 5.5727, Accuracy: 1202/10000 (12.02%)\n"
          ]
        },
        {
          "output_type": "stream",
          "name": "stderr",
          "text": [
            "Round189: User0_1: 100%|██████████████████████████████████████████| 100/100 [00:04<00:00, 23.90it/s]\n",
            "Round189: User1_1: 100%|██████████████████████████████████████████| 100/100 [00:03<00:00, 25.14it/s]\n",
            "Round189: User2_1: 100%|██████████████████████████████████████████| 100/100 [00:04<00:00, 23.10it/s]\n",
            "Round189: User4_1: 100%|██████████████████████████████████████████| 100/100 [00:04<00:00, 24.50it/s]\n",
            "Round189: User3_1: 100%|██████████████████████████████████████████| 100/100 [00:03<00:00, 25.40it/s]\n"
          ]
        },
        {
          "output_type": "stream",
          "name": "stdout",
          "text": [
            "client:0 train_acc: 94.00%, train_loss: 4.0967\n",
            "client:1 train_acc: 93.80%, train_loss: 8.2451\n",
            "client:2 train_acc: 93.57%, train_loss: 12.6033\n",
            "client:4 train_acc: 93.58%, train_loss: 16.8009\n",
            "client:3 train_acc: 93.63%, train_loss: 20.9537\n",
            "Test set: Average loss: 5.5971, Accuracy: 1225/10000 (12.25%)\n"
          ]
        },
        {
          "output_type": "stream",
          "name": "stderr",
          "text": [
            "Round190: User0_1: 100%|██████████████████████████████████████████| 100/100 [00:03<00:00, 25.86it/s]\n",
            "Round190: User4_1: 100%|██████████████████████████████████████████| 100/100 [00:04<00:00, 22.28it/s]\n",
            "Round190: User3_1: 100%|██████████████████████████████████████████| 100/100 [00:03<00:00, 26.06it/s]\n",
            "Round190: User2_1: 100%|██████████████████████████████████████████| 100/100 [00:03<00:00, 26.15it/s]\n",
            "Round190: User1_1: 100%|██████████████████████████████████████████| 100/100 [00:04<00:00, 22.31it/s]\n"
          ]
        },
        {
          "output_type": "stream",
          "name": "stdout",
          "text": [
            "client:0 train_acc: 93.40%, train_loss: 4.3163\n",
            "client:4 train_acc: 93.11%, train_loss: 8.7486\n",
            "client:3 train_acc: 93.19%, train_loss: 13.0154\n",
            "client:2 train_acc: 93.17%, train_loss: 17.4004\n",
            "client:1 train_acc: 93.19%, train_loss: 21.7581\n",
            "Test set: Average loss: 5.6213, Accuracy: 1231/10000 (12.31%)\n"
          ]
        },
        {
          "output_type": "stream",
          "name": "stderr",
          "text": [
            "Round191: User1_1: 100%|██████████████████████████████████████████| 100/100 [00:04<00:00, 22.15it/s]\n",
            "Round191: User3_1: 100%|██████████████████████████████████████████| 100/100 [00:03<00:00, 26.41it/s]\n",
            "Round191: User2_1: 100%|██████████████████████████████████████████| 100/100 [00:03<00:00, 26.47it/s]\n",
            "Round191: User4_1: 100%|██████████████████████████████████████████| 100/100 [00:04<00:00, 22.21it/s]\n",
            "Round191: User0_1: 100%|██████████████████████████████████████████| 100/100 [00:03<00:00, 25.33it/s]\n"
          ]
        },
        {
          "output_type": "stream",
          "name": "stdout",
          "text": [
            "client:1 train_acc: 92.53%, train_loss: 4.7569\n",
            "client:3 train_acc: 92.14%, train_loss: 9.6575\n",
            "client:2 train_acc: 91.90%, train_loss: 14.7214\n",
            "client:4 train_acc: 91.97%, train_loss: 19.5709\n",
            "client:0 train_acc: 92.05%, train_loss: 24.2528\n",
            "Test set: Average loss: 5.4915, Accuracy: 1161/10000 (11.61%)\n"
          ]
        },
        {
          "output_type": "stream",
          "name": "stderr",
          "text": [
            "Round192: User0_1: 100%|██████████████████████████████████████████| 100/100 [00:03<00:00, 25.87it/s]\n",
            "Round192: User2_1: 100%|██████████████████████████████████████████| 100/100 [00:04<00:00, 23.43it/s]\n",
            "Round192: User4_1: 100%|██████████████████████████████████████████| 100/100 [00:03<00:00, 25.23it/s]\n",
            "Round192: User3_1: 100%|██████████████████████████████████████████| 100/100 [00:03<00:00, 26.90it/s]\n",
            "Round192: User1_1: 100%|██████████████████████████████████████████| 100/100 [00:04<00:00, 24.42it/s]\n"
          ]
        },
        {
          "output_type": "stream",
          "name": "stdout",
          "text": [
            "client:0 train_acc: 94.12%, train_loss: 3.9893\n",
            "client:2 train_acc: 93.42%, train_loss: 8.4840\n",
            "client:4 train_acc: 93.51%, train_loss: 12.6086\n",
            "client:3 train_acc: 93.53%, train_loss: 16.8541\n",
            "client:1 train_acc: 93.63%, train_loss: 20.8842\n",
            "Test set: Average loss: 5.5302, Accuracy: 1183/10000 (11.83%)\n"
          ]
        },
        {
          "output_type": "stream",
          "name": "stderr",
          "text": [
            "Round193: User4_1: 100%|██████████████████████████████████████████| 100/100 [00:04<00:00, 23.90it/s]\n",
            "Round193: User0_1: 100%|██████████████████████████████████████████| 100/100 [00:03<00:00, 27.48it/s]\n",
            "Round193: User2_1: 100%|██████████████████████████████████████████| 100/100 [00:03<00:00, 27.44it/s]\n",
            "Round193: User1_1: 100%|██████████████████████████████████████████| 100/100 [00:03<00:00, 25.31it/s]\n",
            "Round193: User3_1: 100%|██████████████████████████████████████████| 100/100 [00:03<00:00, 25.31it/s]\n"
          ]
        },
        {
          "output_type": "stream",
          "name": "stdout",
          "text": [
            "client:4 train_acc: 93.99%, train_loss: 3.8633\n",
            "client:0 train_acc: 94.08%, train_loss: 7.7712\n",
            "client:2 train_acc: 93.92%, train_loss: 11.9088\n",
            "client:1 train_acc: 94.00%, train_loss: 15.8560\n",
            "client:3 train_acc: 94.06%, train_loss: 19.7602\n",
            "Test set: Average loss: 5.6276, Accuracy: 1193/10000 (11.93%)\n"
          ]
        },
        {
          "output_type": "stream",
          "name": "stderr",
          "text": [
            "Round194: User4_1: 100%|██████████████████████████████████████████| 100/100 [00:03<00:00, 26.81it/s]\n",
            "Round194: User2_1: 100%|██████████████████████████████████████████| 100/100 [00:03<00:00, 26.48it/s]\n",
            "Round194: User0_1: 100%|██████████████████████████████████████████| 100/100 [00:04<00:00, 24.29it/s]\n",
            "Round194: User1_1: 100%|██████████████████████████████████████████| 100/100 [00:03<00:00, 26.10it/s]\n",
            "Round194: User3_1: 100%|██████████████████████████████████████████| 100/100 [00:03<00:00, 25.81it/s]\n"
          ]
        },
        {
          "output_type": "stream",
          "name": "stdout",
          "text": [
            "client:4 train_acc: 94.10%, train_loss: 3.9130\n",
            "client:2 train_acc: 94.06%, train_loss: 7.9050\n",
            "client:0 train_acc: 94.00%, train_loss: 11.7057\n",
            "client:1 train_acc: 93.98%, train_loss: 15.6527\n",
            "client:3 train_acc: 93.96%, train_loss: 19.6167\n",
            "Test set: Average loss: 5.5099, Accuracy: 1314/10000 (13.14%)\n"
          ]
        },
        {
          "output_type": "stream",
          "name": "stderr",
          "text": [
            "Round195: User0_1: 100%|██████████████████████████████████████████| 100/100 [00:03<00:00, 27.66it/s]\n",
            "Round195: User3_1: 100%|██████████████████████████████████████████| 100/100 [00:04<00:00, 22.95it/s]\n",
            "Round195: User1_1: 100%|██████████████████████████████████████████| 100/100 [00:03<00:00, 25.95it/s]\n",
            "Round195: User2_1: 100%|██████████████████████████████████████████| 100/100 [00:03<00:00, 27.62it/s]\n",
            "Round195: User4_1: 100%|██████████████████████████████████████████| 100/100 [00:03<00:00, 25.69it/s]\n"
          ]
        },
        {
          "output_type": "stream",
          "name": "stdout",
          "text": [
            "client:0 train_acc: 94.39%, train_loss: 3.7285\n",
            "client:3 train_acc: 94.12%, train_loss: 7.6314\n",
            "client:1 train_acc: 94.19%, train_loss: 11.3751\n",
            "client:2 train_acc: 94.05%, train_loss: 15.3996\n",
            "client:4 train_acc: 94.08%, train_loss: 19.2533\n",
            "Test set: Average loss: 5.5260, Accuracy: 1247/10000 (12.47%)\n"
          ]
        },
        {
          "output_type": "stream",
          "name": "stderr",
          "text": [
            "Round196: User4_1: 100%|██████████████████████████████████████████| 100/100 [00:04<00:00, 24.00it/s]\n",
            "Round196: User3_1: 100%|██████████████████████████████████████████| 100/100 [00:03<00:00, 26.12it/s]\n",
            "Round196: User0_1: 100%|██████████████████████████████████████████| 100/100 [00:03<00:00, 27.55it/s]\n",
            "Round196: User2_1: 100%|██████████████████████████████████████████| 100/100 [00:04<00:00, 24.60it/s]\n",
            "Round196: User1_1: 100%|██████████████████████████████████████████| 100/100 [00:03<00:00, 25.20it/s]\n"
          ]
        },
        {
          "output_type": "stream",
          "name": "stdout",
          "text": [
            "client:4 train_acc: 94.27%, train_loss: 3.8157\n",
            "client:3 train_acc: 94.40%, train_loss: 7.4872\n",
            "client:0 train_acc: 94.55%, train_loss: 11.0176\n",
            "client:2 train_acc: 94.39%, train_loss: 14.9278\n",
            "client:1 train_acc: 94.46%, train_loss: 18.5574\n",
            "Test set: Average loss: 5.5669, Accuracy: 1245/10000 (12.45%)\n"
          ]
        },
        {
          "output_type": "stream",
          "name": "stderr",
          "text": [
            "Round197: User4_1: 100%|██████████████████████████████████████████| 100/100 [00:03<00:00, 26.20it/s]\n",
            "Round197: User3_1: 100%|██████████████████████████████████████████| 100/100 [00:03<00:00, 27.44it/s]\n",
            "Round197: User0_1: 100%|██████████████████████████████████████████| 100/100 [00:03<00:00, 25.64it/s]\n",
            "Round197: User1_1: 100%|██████████████████████████████████████████| 100/100 [00:04<00:00, 24.98it/s]\n",
            "Round197: User2_1: 100%|██████████████████████████████████████████| 100/100 [00:06<00:00, 15.36it/s]\n"
          ]
        },
        {
          "output_type": "stream",
          "name": "stdout",
          "text": [
            "client:4 train_acc: 94.06%, train_loss: 3.8248\n",
            "client:3 train_acc: 94.03%, train_loss: 7.7238\n",
            "client:0 train_acc: 93.90%, train_loss: 11.6483\n",
            "client:1 train_acc: 93.96%, train_loss: 15.5091\n",
            "client:2 train_acc: 93.94%, train_loss: 19.4998\n",
            "Test set: Average loss: 5.4570, Accuracy: 1189/10000 (11.89%)\n"
          ]
        },
        {
          "output_type": "stream",
          "name": "stderr",
          "text": [
            "Round198: User4_1: 100%|██████████████████████████████████████████| 100/100 [00:03<00:00, 26.83it/s]\n",
            "Round198: User3_1: 100%|██████████████████████████████████████████| 100/100 [00:04<00:00, 23.01it/s]\n",
            "Round198: User1_1: 100%|██████████████████████████████████████████| 100/100 [00:03<00:00, 26.76it/s]\n",
            "Round198: User2_1: 100%|██████████████████████████████████████████| 100/100 [00:03<00:00, 27.89it/s]\n",
            "Round198: User0_1: 100%|██████████████████████████████████████████| 100/100 [00:04<00:00, 23.38it/s]\n"
          ]
        },
        {
          "output_type": "stream",
          "name": "stdout",
          "text": [
            "client:4 train_acc: 95.12%, train_loss: 3.3418\n",
            "client:3 train_acc: 95.19%, train_loss: 6.7320\n",
            "client:1 train_acc: 95.20%, train_loss: 10.1551\n",
            "client:2 train_acc: 95.07%, train_loss: 13.7214\n",
            "client:0 train_acc: 95.04%, train_loss: 17.1595\n",
            "Test set: Average loss: 5.7162, Accuracy: 1256/10000 (12.56%)\n"
          ]
        },
        {
          "output_type": "stream",
          "name": "stderr",
          "text": [
            "Round199: User3_1: 100%|██████████████████████████████████████████| 100/100 [00:04<00:00, 24.67it/s]\n",
            "Round199: User0_1: 100%|██████████████████████████████████████████| 100/100 [00:03<00:00, 27.43it/s]\n",
            "Round199: User4_1: 100%|██████████████████████████████████████████| 100/100 [00:03<00:00, 27.92it/s]\n",
            "Round199: User1_1: 100%|██████████████████████████████████████████| 100/100 [00:04<00:00, 23.04it/s]\n",
            "Round199: User2_1: 100%|██████████████████████████████████████████| 100/100 [00:03<00:00, 27.20it/s]\n"
          ]
        },
        {
          "output_type": "stream",
          "name": "stdout",
          "text": [
            "client:3 train_acc: 95.09%, train_loss: 3.5036\n",
            "client:0 train_acc: 94.99%, train_loss: 7.0520\n",
            "client:4 train_acc: 94.89%, train_loss: 10.6694\n",
            "client:1 train_acc: 94.95%, train_loss: 14.1593\n",
            "client:2 train_acc: 94.85%, train_loss: 17.8571\n",
            "Test set: Average loss: 5.5630, Accuracy: 1255/10000 (12.55%)\n"
          ]
        },
        {
          "output_type": "stream",
          "name": "stderr",
          "text": [
            "Round200: User4_1: 100%|██████████████████████████████████████████| 100/100 [00:03<00:00, 27.56it/s]\n",
            "Round200: User2_1: 100%|██████████████████████████████████████████| 100/100 [00:03<00:00, 27.31it/s]\n",
            "Round200: User1_1: 100%|██████████████████████████████████████████| 100/100 [00:04<00:00, 23.59it/s]\n",
            "Round200: User0_1: 100%|██████████████████████████████████████████| 100/100 [00:03<00:00, 27.09it/s]\n",
            "Round200: User3_1: 100%|██████████████████████████████████████████| 100/100 [00:03<00:00, 27.78it/s]\n"
          ]
        },
        {
          "output_type": "stream",
          "name": "stdout",
          "text": [
            "client:4 train_acc: 94.83%, train_loss: 3.4564\n",
            "client:2 train_acc: 94.78%, train_loss: 7.0324\n",
            "client:1 train_acc: 95.10%, train_loss: 10.2104\n",
            "client:0 train_acc: 95.14%, train_loss: 13.5512\n",
            "client:3 train_acc: 95.16%, train_loss: 16.8971\n",
            "Test set: Average loss: 5.8492, Accuracy: 1201/10000 (12.01%)\n"
          ]
        }
      ],
      "source": [
        "net_glob.train()\n",
        "# copy weights\n",
        "w_glob = net_glob.state_dict()\n",
        "\n",
        "loss_train_collect = []\n",
        "acc_train_collect = []\n",
        "loss_test_collect = []\n",
        "acc_test_collect = []\n",
        "\n",
        "\n",
        "\n",
        "for iter in range(200):\n",
        "    w_locals, loss_locals_train, acc_locals_train, loss_locals_test, acc_locals_test = [], [], [], [], []\n",
        "    m = max(int(frac * num_users), 1)\n",
        "    idxs_users = np.random.choice(range(num_users), m, replace = False)\n",
        "    \n",
        "\n",
        "    global_weights = copy.deepcopy(net_glob.state_dict())\n",
        "   \n",
        "    # Training/Testing simulation\n",
        "    for idx in idxs_users: # each client\n",
        "        \n",
        "        net_glob.load_state_dict(global_weights)\n",
        "        # client training local epochs  \n",
        "        for local_epoch in range(local_epochs):\n",
        "\n",
        "          for i, data in enumerate(tqdm(train_loaders1[idx], ncols=100, desc='Round'+str(iter+1)+': User'+str(idx)+'_'+str(local_epoch+1))):\n",
        "            # get the inputs; data is a list of [inputs, labels]\n",
        "            inputs, labels = data\n",
        "            inputs = inputs.to(device)\n",
        "            labels = labels.clone().detach().long().to(device)\n",
        "            #data.requires_grad = True\n",
        "\n",
        "            # zero the parameter gradients\n",
        "            optimizer.zero_grad()\n",
        "\n",
        "            # forward + backward + optimize\n",
        "            outputs = net_glob(inputs)\n",
        "            loss = criterion(outputs, labels)\n",
        "            #net_glob.zero_grad()\n",
        "            loss.backward()\n",
        "            #data_grad = data.grad.data\n",
        "            #perturbed_data = fgsm_attack(inputs, 0.3, data_grad)\n",
        "            #output = net_glob(perturbed_data)\n",
        "            optimizer.step()\n",
        "          \n",
        "        w = copy.deepcopy(net_glob.state_dict())\n",
        "        w_locals.append(copy.deepcopy(w))\n",
        "      \n",
        "      \n",
        "    w_glob = FedAvg(w_locals)\n",
        "    # update global model --- copy weight to net_glob -- distributed the model to all users\n",
        "    net_glob.load_state_dict(w_glob)\n",
        "\n",
        "    # train acc\n",
        "    with torch.no_grad():\n",
        "        corr_num = 0\n",
        "        total_num = 0\n",
        "        train_loss = 0.0\n",
        "        for idx in idxs_users:\n",
        "          for j, trn in enumerate(train_loaders2[idx]):\n",
        "            trn_x, trn_label = trn\n",
        "            trn_x = trn_x.to(device)\n",
        "            trn_label = trn_label.clone().detach().long().to(device)\n",
        "\n",
        "            trn_output = net_glob(trn_x)\n",
        "            loss = criterion(trn_output, trn_label)\n",
        "            train_loss += loss.item()\n",
        "            model_label = trn_output.argmax(dim=1)\n",
        "            corr = trn_label[trn_label == model_label].size(0)\n",
        "            corr_num += corr\n",
        "            total_num += trn_label.size(0)\n",
        "          print(\"client:{} train_acc: {:.2f}%, train_loss: {:.4f}\".format(idx, corr_num / total_num * 100, train_loss / len(train_loaders2)))\n",
        "\n",
        "    # Assuming you have already defined your neural network model, test dataset loader, loss criterion, and device\n",
        "    epsilon = 0.4  # choose a value for epsilon\n",
        "    test(net=net_glob, test_loader=test_loader, criterion=criterion, device=device, epsilon=epsilon)\n",
        "#     with torch.no_grad():\n",
        "#         corr_num = 0\n",
        "#         total_num = 0\n",
        "#         val_loss = 0.0\n",
        "#         for j, val in enumerate(test_loader):\n",
        "#             val_x, val_label = val\n",
        "#             val_x = val_x.to(device)\n",
        "#             data = val_x\n",
        "            \n",
        "#             data.requires_grad = True\n",
        "#             #val_x = fgsm_attack(net_glob, loss, val_x, val_label, 0.3).to(device)\n",
        "#             val_label = val_label.clone().detach().long().to(device)\n",
        "#             val_output = net_glob(data)\n",
        "            \n",
        "#             loss = criterion(val_output, val_label)\n",
        "#             net_glob.zero_grad()\n",
        "#             loss.backward()\n",
        "#             data_grad = data.grad.data\n",
        "#             perturbed_data = fgsm_attack(data, 0.3, data_grad)\n",
        "#             output = net_glob(perturbed_data)\n",
        "#             val_loss += loss.item()\n",
        "#             model_label = val_output.argmax(dim=1)\n",
        "#             corr = val_label[val_label == model_label].size(0)\n",
        "#             corr_num += corr\n",
        "#             total_num += val_label.size(0)\n",
        "#             accuracy = corr_num / total_num * 100\n",
        "#             test_loss = val_loss / len(test_loader)\n",
        "#         print(\"test_acc: {:.2f}%, test_loss: {:.4f}\".format( accuracy, test_loss))\n",
        "    \n",
        "#     # prepare to count predictions for each class\n",
        "#     correct_pred = {classname: 0 for classname in classes}\n",
        "#     total_pred = {classname: 0 for classname in classes}\n",
        "\n",
        "#     # again no gradients needed\n",
        "#     with torch.no_grad():\n",
        "#         for data in test_loader:\n",
        "#             images, labels = data\n",
        "#             outputs = net_glob(images)\n",
        "#             _, predictions = torch.max(outputs, 1)\n",
        "#             # collect the correct predictions for each class\n",
        "#             for label, prediction in zip(labels, predictions):\n",
        "#                 if label == prediction:\n",
        "#                     correct_pred[classes[label]] += 1\n",
        "#                 total_pred[classes[label]] += 1\n",
        "\n",
        "\n",
        "#     # print accuracy for each class\n",
        "#     for classname, correct_count in correct_pred.items():\n",
        "#         accuracy = 100 * float(correct_count) / total_pred[classname]\n",
        "#         print(\"Accuracy for class {:5s} is: {:.1f} %\".format(classname,\n",
        "#                                                       accuracy))\n",
        "\n"
      ]
    },
    {
      "cell_type": "code",
      "execution_count": 40,
      "metadata": {
        "id": "vlN-8URkWVxI"
      },
      "outputs": [],
      "source": []
    },
    {
      "cell_type": "code",
      "execution_count": 42,
      "metadata": {
        "colab": {
          "base_uri": "https://localhost:8080/"
        },
        "id": "4-douSZNWVxI",
        "outputId": "d2769eb0-0428-4674-b42d-f5c22ced5e75"
      },
      "outputs": [
        {
          "output_type": "stream",
          "name": "stdout",
          "text": [
            "Test set: Average loss: 5.8492, Accuracy: 1201/10000 (12.01%)\n"
          ]
        }
      ],
      "source": [
        "# Assuming you have already defined your neural network model, test dataset loader, loss criterion, and device\n",
        "epsilon = 0.4  # choose a value for epsilon\n",
        "test(net=net_glob, test_loader=test_loader, criterion=criterion, device=device, epsilon=epsilon)\n"
      ]
    },
    {
      "cell_type": "code",
      "execution_count": 43,
      "metadata": {
        "colab": {
          "base_uri": "https://localhost:8080/",
          "height": 407
        },
        "id": "j9hLvYOwjjeW",
        "outputId": "854ff310-ad77-42c7-fa63-cef622a0202a"
      },
      "outputs": [
        {
          "output_type": "error",
          "ename": "RuntimeError",
          "evalue": "ignored",
          "traceback": [
            "\u001b[0;31m---------------------------------------------------------------------------\u001b[0m",
            "\u001b[0;31mRuntimeError\u001b[0m                              Traceback (most recent call last)",
            "\u001b[0;32m<ipython-input-43-769897c9e5f9>\u001b[0m in \u001b[0;36m<module>\u001b[0;34m\u001b[0m\n\u001b[1;32m      6\u001b[0m     \u001b[0;32mfor\u001b[0m \u001b[0mdata\u001b[0m \u001b[0;32min\u001b[0m \u001b[0mtest_loader\u001b[0m\u001b[0;34m:\u001b[0m\u001b[0;34m\u001b[0m\u001b[0;34m\u001b[0m\u001b[0m\n\u001b[1;32m      7\u001b[0m         \u001b[0mimages\u001b[0m\u001b[0;34m,\u001b[0m \u001b[0mlabels\u001b[0m \u001b[0;34m=\u001b[0m \u001b[0mdata\u001b[0m\u001b[0;34m\u001b[0m\u001b[0;34m\u001b[0m\u001b[0m\n\u001b[0;32m----> 8\u001b[0;31m         \u001b[0moutputs\u001b[0m \u001b[0;34m=\u001b[0m \u001b[0mnet_glob\u001b[0m\u001b[0;34m(\u001b[0m\u001b[0mimages\u001b[0m\u001b[0;34m)\u001b[0m\u001b[0;34m\u001b[0m\u001b[0;34m\u001b[0m\u001b[0m\n\u001b[0m\u001b[1;32m      9\u001b[0m         \u001b[0m_\u001b[0m\u001b[0;34m,\u001b[0m \u001b[0mpredictions\u001b[0m \u001b[0;34m=\u001b[0m \u001b[0mtorch\u001b[0m\u001b[0;34m.\u001b[0m\u001b[0mmax\u001b[0m\u001b[0;34m(\u001b[0m\u001b[0moutputs\u001b[0m\u001b[0;34m,\u001b[0m \u001b[0;36m1\u001b[0m\u001b[0;34m)\u001b[0m\u001b[0;34m\u001b[0m\u001b[0;34m\u001b[0m\u001b[0m\n\u001b[1;32m     10\u001b[0m         \u001b[0;31m# collect the correct predictions for each class\u001b[0m\u001b[0;34m\u001b[0m\u001b[0;34m\u001b[0m\u001b[0m\n",
            "\u001b[0;32m/usr/local/lib/python3.9/dist-packages/torch/nn/modules/module.py\u001b[0m in \u001b[0;36m_call_impl\u001b[0;34m(self, *input, **kwargs)\u001b[0m\n\u001b[1;32m   1192\u001b[0m         if not (self._backward_hooks or self._forward_hooks or self._forward_pre_hooks or _global_backward_hooks\n\u001b[1;32m   1193\u001b[0m                 or _global_forward_hooks or _global_forward_pre_hooks):\n\u001b[0;32m-> 1194\u001b[0;31m             \u001b[0;32mreturn\u001b[0m \u001b[0mforward_call\u001b[0m\u001b[0;34m(\u001b[0m\u001b[0;34m*\u001b[0m\u001b[0minput\u001b[0m\u001b[0;34m,\u001b[0m \u001b[0;34m**\u001b[0m\u001b[0mkwargs\u001b[0m\u001b[0;34m)\u001b[0m\u001b[0;34m\u001b[0m\u001b[0;34m\u001b[0m\u001b[0m\n\u001b[0m\u001b[1;32m   1195\u001b[0m         \u001b[0;31m# Do not call functions when jit is used\u001b[0m\u001b[0;34m\u001b[0m\u001b[0;34m\u001b[0m\u001b[0m\n\u001b[1;32m   1196\u001b[0m         \u001b[0mfull_backward_hooks\u001b[0m\u001b[0;34m,\u001b[0m \u001b[0mnon_full_backward_hooks\u001b[0m \u001b[0;34m=\u001b[0m \u001b[0;34m[\u001b[0m\u001b[0;34m]\u001b[0m\u001b[0;34m,\u001b[0m \u001b[0;34m[\u001b[0m\u001b[0;34m]\u001b[0m\u001b[0;34m\u001b[0m\u001b[0;34m\u001b[0m\u001b[0m\n",
            "\u001b[0;32m<ipython-input-32-e76586af861a>\u001b[0m in \u001b[0;36mforward\u001b[0;34m(self, x)\u001b[0m\n\u001b[1;32m     73\u001b[0m \u001b[0;34m\u001b[0m\u001b[0m\n\u001b[1;32m     74\u001b[0m     \u001b[0;32mdef\u001b[0m \u001b[0mforward\u001b[0m\u001b[0;34m(\u001b[0m\u001b[0mself\u001b[0m\u001b[0;34m,\u001b[0m \u001b[0mx\u001b[0m\u001b[0;34m)\u001b[0m\u001b[0;34m:\u001b[0m\u001b[0;34m\u001b[0m\u001b[0;34m\u001b[0m\u001b[0m\n\u001b[0;32m---> 75\u001b[0;31m         \u001b[0mout\u001b[0m \u001b[0;34m=\u001b[0m \u001b[0mF\u001b[0m\u001b[0;34m.\u001b[0m\u001b[0mrelu\u001b[0m\u001b[0;34m(\u001b[0m\u001b[0mself\u001b[0m\u001b[0;34m.\u001b[0m\u001b[0mbn1\u001b[0m\u001b[0;34m(\u001b[0m\u001b[0mself\u001b[0m\u001b[0;34m.\u001b[0m\u001b[0mconv1\u001b[0m\u001b[0;34m(\u001b[0m\u001b[0mx\u001b[0m\u001b[0;34m)\u001b[0m\u001b[0;34m)\u001b[0m\u001b[0;34m)\u001b[0m\u001b[0;34m\u001b[0m\u001b[0;34m\u001b[0m\u001b[0m\n\u001b[0m\u001b[1;32m     76\u001b[0m         \u001b[0mout\u001b[0m \u001b[0;34m=\u001b[0m \u001b[0mself\u001b[0m\u001b[0;34m.\u001b[0m\u001b[0mlayer1\u001b[0m\u001b[0;34m(\u001b[0m\u001b[0mout\u001b[0m\u001b[0;34m)\u001b[0m\u001b[0;34m\u001b[0m\u001b[0;34m\u001b[0m\u001b[0m\n\u001b[1;32m     77\u001b[0m         \u001b[0mout\u001b[0m \u001b[0;34m=\u001b[0m \u001b[0mself\u001b[0m\u001b[0;34m.\u001b[0m\u001b[0mlayer2\u001b[0m\u001b[0;34m(\u001b[0m\u001b[0mout\u001b[0m\u001b[0;34m)\u001b[0m\u001b[0;34m\u001b[0m\u001b[0;34m\u001b[0m\u001b[0m\n",
            "\u001b[0;32m/usr/local/lib/python3.9/dist-packages/torch/nn/modules/module.py\u001b[0m in \u001b[0;36m_call_impl\u001b[0;34m(self, *input, **kwargs)\u001b[0m\n\u001b[1;32m   1192\u001b[0m         if not (self._backward_hooks or self._forward_hooks or self._forward_pre_hooks or _global_backward_hooks\n\u001b[1;32m   1193\u001b[0m                 or _global_forward_hooks or _global_forward_pre_hooks):\n\u001b[0;32m-> 1194\u001b[0;31m             \u001b[0;32mreturn\u001b[0m \u001b[0mforward_call\u001b[0m\u001b[0;34m(\u001b[0m\u001b[0;34m*\u001b[0m\u001b[0minput\u001b[0m\u001b[0;34m,\u001b[0m \u001b[0;34m**\u001b[0m\u001b[0mkwargs\u001b[0m\u001b[0;34m)\u001b[0m\u001b[0;34m\u001b[0m\u001b[0;34m\u001b[0m\u001b[0m\n\u001b[0m\u001b[1;32m   1195\u001b[0m         \u001b[0;31m# Do not call functions when jit is used\u001b[0m\u001b[0;34m\u001b[0m\u001b[0;34m\u001b[0m\u001b[0m\n\u001b[1;32m   1196\u001b[0m         \u001b[0mfull_backward_hooks\u001b[0m\u001b[0;34m,\u001b[0m \u001b[0mnon_full_backward_hooks\u001b[0m \u001b[0;34m=\u001b[0m \u001b[0;34m[\u001b[0m\u001b[0;34m]\u001b[0m\u001b[0;34m,\u001b[0m \u001b[0;34m[\u001b[0m\u001b[0;34m]\u001b[0m\u001b[0;34m\u001b[0m\u001b[0;34m\u001b[0m\u001b[0m\n",
            "\u001b[0;32m/usr/local/lib/python3.9/dist-packages/torch/nn/modules/conv.py\u001b[0m in \u001b[0;36mforward\u001b[0;34m(self, input)\u001b[0m\n\u001b[1;32m    461\u001b[0m \u001b[0;34m\u001b[0m\u001b[0m\n\u001b[1;32m    462\u001b[0m     \u001b[0;32mdef\u001b[0m \u001b[0mforward\u001b[0m\u001b[0;34m(\u001b[0m\u001b[0mself\u001b[0m\u001b[0;34m,\u001b[0m \u001b[0minput\u001b[0m\u001b[0;34m:\u001b[0m \u001b[0mTensor\u001b[0m\u001b[0;34m)\u001b[0m \u001b[0;34m->\u001b[0m \u001b[0mTensor\u001b[0m\u001b[0;34m:\u001b[0m\u001b[0;34m\u001b[0m\u001b[0;34m\u001b[0m\u001b[0m\n\u001b[0;32m--> 463\u001b[0;31m         \u001b[0;32mreturn\u001b[0m \u001b[0mself\u001b[0m\u001b[0;34m.\u001b[0m\u001b[0m_conv_forward\u001b[0m\u001b[0;34m(\u001b[0m\u001b[0minput\u001b[0m\u001b[0;34m,\u001b[0m \u001b[0mself\u001b[0m\u001b[0;34m.\u001b[0m\u001b[0mweight\u001b[0m\u001b[0;34m,\u001b[0m \u001b[0mself\u001b[0m\u001b[0;34m.\u001b[0m\u001b[0mbias\u001b[0m\u001b[0;34m)\u001b[0m\u001b[0;34m\u001b[0m\u001b[0;34m\u001b[0m\u001b[0m\n\u001b[0m\u001b[1;32m    464\u001b[0m \u001b[0;34m\u001b[0m\u001b[0m\n\u001b[1;32m    465\u001b[0m \u001b[0;32mclass\u001b[0m \u001b[0mConv3d\u001b[0m\u001b[0;34m(\u001b[0m\u001b[0m_ConvNd\u001b[0m\u001b[0;34m)\u001b[0m\u001b[0;34m:\u001b[0m\u001b[0;34m\u001b[0m\u001b[0;34m\u001b[0m\u001b[0m\n",
            "\u001b[0;32m/usr/local/lib/python3.9/dist-packages/torch/nn/modules/conv.py\u001b[0m in \u001b[0;36m_conv_forward\u001b[0;34m(self, input, weight, bias)\u001b[0m\n\u001b[1;32m    457\u001b[0m                             \u001b[0mweight\u001b[0m\u001b[0;34m,\u001b[0m \u001b[0mbias\u001b[0m\u001b[0;34m,\u001b[0m \u001b[0mself\u001b[0m\u001b[0;34m.\u001b[0m\u001b[0mstride\u001b[0m\u001b[0;34m,\u001b[0m\u001b[0;34m\u001b[0m\u001b[0;34m\u001b[0m\u001b[0m\n\u001b[1;32m    458\u001b[0m                             _pair(0), self.dilation, self.groups)\n\u001b[0;32m--> 459\u001b[0;31m         return F.conv2d(input, weight, bias, self.stride,\n\u001b[0m\u001b[1;32m    460\u001b[0m                         self.padding, self.dilation, self.groups)\n\u001b[1;32m    461\u001b[0m \u001b[0;34m\u001b[0m\u001b[0m\n",
            "\u001b[0;31mRuntimeError\u001b[0m: Input type (torch.FloatTensor) and weight type (torch.cuda.FloatTensor) should be the same or input should be a MKLDNN tensor and weight is a dense tensor"
          ]
        }
      ],
      "source": [
        "    correct_pred = {classname: 0 for classname in classes}\n",
        "    total_pred = {classname: 0 for classname in classes}\n",
        "\n",
        "    # again no gradients needed\n",
        "    with torch.no_grad():\n",
        "        for data in test_loader:\n",
        "            images, labels = data\n",
        "            outputs = net_glob(images)\n",
        "            _, predictions = torch.max(outputs, 1)\n",
        "            # collect the correct predictions for each class\n",
        "            for label, prediction in zip(labels, predictions):\n",
        "                if label == prediction:\n",
        "                    correct_pred[classes[label]] += 1\n",
        "                total_pred[classes[label]] += 1\n",
        "\n",
        "\n",
        "    # print accuracy for each class\n",
        "    for classname, correct_count in correct_pred.items():\n",
        "        accuracy = 100 * float(correct_count) / total_pred[classname]\n",
        "        print(\"Accuracy for class {:5s} is: {:.1f} %\".format(classname,\n",
        "                                                      accuracy))"
      ]
    },
    {
      "cell_type": "code",
      "execution_count": null,
      "metadata": {
        "id": "1AdhHMdeCAwG"
      },
      "outputs": [],
      "source": [
        "!pip install adversarial-robustness-toolbox"
      ]
    },
    {
      "cell_type": "code",
      "execution_count": null,
      "metadata": {
        "id": "pcvsxLMjHjih"
      },
      "outputs": [],
      "source": [
        "import os, sys\n",
        "from os.path import abspath\n",
        "\n",
        "module_path = os.path.abspath(os.path.join('..'))\n",
        "if module_path not in sys.path:\n",
        "    sys.path.append(module_path)\n",
        "\n",
        "import warnings\n",
        "warnings.filterwarnings('ignore')\n",
        "\n",
        "from keras.models import load_model\n",
        "\n",
        "from art import config\n",
        "from art.utils import load_dataset, get_file\n",
        "from art.estimators.classification import KerasClassifier\n",
        "from art.attacks.poisoning import FeatureCollisionAttack\n",
        "\n",
        "import numpy as np\n",
        "\n",
        "%matplotlib inline\n",
        "import matplotlib.pyplot as plt\n",
        "\n",
        "np.random.seed(301)\n",
        "#from __future__ import absolute_import, division, print_function, unicode_literals\n",
        "\n",
        "#import os, sys\n",
        "#from os.path import abspath\n",
        "\n",
        "module_path = os.path.abspath(os.path.join('..'))\n",
        "if module_path not in sys.path:\n",
        "    sys.path.append(module_path)\n",
        "\n",
        "import warnings\n",
        "warnings.filterwarnings('ignore')\n",
        "\n",
        "# Disable TensorFlow eager execution:\n",
        "import tensorflow as tf\n",
        "if tf.executing_eagerly():\n",
        "    tf.compat.v1.disable_eager_execution()\n",
        "\n",
        "import keras.backend as k\n",
        "from keras.models import Sequential\n",
        "from keras.layers import Dense, Flatten, Conv2D, MaxPooling2D, Activation, Dropout\n",
        "import numpy as np\n",
        "import matplotlib.pyplot as plt\n",
        "%matplotlib inline\n",
        "from mpl_toolkits import mplot3d\n",
        "\n",
        "from art.estimators.classification import KerasClassifier\n",
        "from art.attacks.poisoning import PoisoningAttackBackdoor\n",
        "from art.attacks.poisoning.perturbations import add_pattern_bd, add_single_bd, insert_image\n",
        "from art.utils import load_mnist, preprocess\n",
        "from art.defences.detector.poison import ActivationDefence"
      ]
    },
    {
      "cell_type": "code",
      "execution_count": null,
      "metadata": {
        "id": "bUwYEdc26j1w"
      },
      "outputs": [],
      "source": [
        "################################# Backdoor_ATTack ###################3\n",
        "(x_raw, y_raw), (x_raw_test, y_raw_test), min_, max_ = load_dataset('cifar10')\n",
        "\n",
        "# Random Selection:\n",
        "n_train = np.shape(x_raw)[0]\n",
        "num_selection = 30000\n",
        "random_selection_indices = np.random.choice(n_train, num_selection)\n",
        "x_raw = x_raw[random_selection_indices]\n",
        "y_raw = y_raw[random_selection_indices]\n",
        "\n",
        "BACKDOOR_TYPE = \"pattern\" # one of ['pattern', 'pixel', 'image']"
      ]
    },
    {
      "cell_type": "code",
      "execution_count": null,
      "metadata": {
        "id": "sI_3FtepCL7T"
      },
      "outputs": [],
      "source": [
        "y_temp=[]\n",
        "for i in range(len(y_raw)):\n",
        "  for j in range(len(y_raw[i])):\n",
        "    if y_raw[i][j]==1:\n",
        "      y_temp.append(j)\n",
        "y_temp=np.array(y_temp)\n",
        "y_raw=y_temp"
      ]
    },
    {
      "cell_type": "code",
      "execution_count": null,
      "metadata": {
        "id": "PzISHLTICL4v"
      },
      "outputs": [],
      "source": [
        "y_temp=[]\n",
        "for i in range(len(y_raw_test)):\n",
        "  for j in range(len(y_raw_test[i])):\n",
        "    if y_raw_test[i][j]==1:\n",
        "      y_temp.append(j)\n",
        "y_temp=np.array(y_temp)\n",
        "y_raw_test=y_temp"
      ]
    },
    {
      "cell_type": "code",
      "execution_count": null,
      "metadata": {
        "id": "0M_EfdroCL2D"
      },
      "outputs": [],
      "source": [
        "class_descr = ['airplane', 'automobile', 'bird', 'cat', 'deer', 'dog', 'frog', 'horse', 'ship', 'truck']"
      ]
    },
    {
      "cell_type": "code",
      "execution_count": null,
      "metadata": {
        "id": "ESJWrkIYClyP"
      },
      "outputs": [],
      "source": [
        "from art.estimators.classification import KerasClassifier\n",
        "from art.attacks.poisoning import PoisoningAttackBackdoor\n",
        "from art.attacks.poisoning.perturbations import add_pattern_bd, add_single_bd, insert_image\n",
        "from art.utils import load_mnist, preprocess\n",
        "from art.defences.detector.poison import ActivationDefence"
      ]
    },
    {
      "cell_type": "code",
      "execution_count": null,
      "metadata": {
        "id": "LSXhpd_rCLzX"
      },
      "outputs": [],
      "source": [
        "max_val = np.max(x_raw)\n",
        "def add_modification(x):\n",
        "        if BACKDOOR_TYPE == 'pattern':\n",
        "            return add_pattern_bd(x, pixel_value=max_val)\n",
        "        elif BACKDOOR_TYPE == 'pixel':\n",
        "            return add_single_bd(x, pixel_value=max_val) \n",
        "        elif BACKDOOR_TYPE == 'image':\n",
        "            return insert_image(x, backdoor_path='../utils/data/backdoors/alert.png', size=(10,10))\n",
        "        else:\n",
        "            raise(\"Unknown backdoor type\")"
      ]
    },
    {
      "cell_type": "code",
      "execution_count": null,
      "metadata": {
        "id": "Nhn-iLkbCLw1"
      },
      "outputs": [],
      "source": [
        "def poison_dataset(x_clean, y_clean, percent_poison, poison_func):\n",
        "    print(x_clean.shape,\"x_clean shape\")\n",
        "    x_poison = np.copy(x_clean)\n",
        "    y_poison = np.copy(y_clean)\n",
        "    is_poison = np.zeros(np.shape(y_poison))\n",
        "    \n",
        "    sources=np.arange(10) # 0, 1, 2, 3, ...\n",
        "    targets=(np.arange(10) + 1) % 10 # 1, 2, 3, 4, ...\n",
        "    for i, (src, tgt) in enumerate(zip(sources, targets)):\n",
        "        n_points_in_tgt = np.size(np.where(y_clean == tgt))\n",
        "        num_poison = round((percent_poison * n_points_in_tgt) / (1 - percent_poison))\n",
        "        src_imgs = x_clean[y_clean == src]\n",
        "        print(src_imgs.shape,\"src images shape\")\n",
        "\n",
        "        n_points_in_src = np.shape(src_imgs)[0]\n",
        "        indices_to_be_poisoned = np.random.choice(n_points_in_src, num_poison)\n",
        "\n",
        "        imgs_to_be_poisoned = np.copy(src_imgs[indices_to_be_poisoned])\n",
        "        backdoor_attack = PoisoningAttackBackdoor(poison_func)\n",
        "        imgs_to_be_poisoned, poison_labels = backdoor_attack.poison(imgs_to_be_poisoned, y=np.ones(num_poison) * tgt)\n",
        "        print(imgs_to_be_poisoned.shape,\"imgs to be poisoned shape\")\n",
        "        x_poison = np.append(x_poison, imgs_to_be_poisoned, axis=0)\n",
        "        y_poison = np.append(y_poison, poison_labels, axis=0)\n",
        "        is_poison = np.append(is_poison, np.ones(num_poison))\n",
        "\n",
        "    is_poison = is_poison != 0\n",
        "    print(x_poison.shape,\"x poison shape\")\n",
        "    return is_poison, x_poison, y_poison"
      ]
    },
    {
      "cell_type": "code",
      "execution_count": null,
      "metadata": {
        "id": "1Il3AhCVCLuB"
      },
      "outputs": [],
      "source": [
        "percent_poison = .1\n",
        "(is_poison_train, x_poisoned_raw, y_poisoned_raw) = poison_dataset(x_raw, y_raw, percent_poison, add_modification)\n",
        "x_train, y_train = preprocess(x_poisoned_raw, y_poisoned_raw)\n",
        "# Add channel axis:\n",
        "#x_train = np.expand_dims(x_train, axis=3)\n",
        "\n",
        "# Poison test data\n",
        "(is_poison_test, x_poisoned_raw_test, y_poisoned_raw_test) = poison_dataset(x_raw_test, y_raw_test, percent_poison, add_modification)\n",
        "x_test, y_test = preprocess(x_poisoned_raw_test, y_poisoned_raw_test)\n",
        "# Add channel axis:\n",
        "#x_test = np.expand_dims(x_test, axis=3)\n",
        "\n",
        "# Shuffle training data\n",
        "n_train = np.shape(y_train)[0]\n",
        "shuffled_indices = np.arange(n_train)\n",
        "np.random.shuffle(shuffled_indices)\n",
        "x_train = x_train[shuffled_indices]\n",
        "y_train = y_train[shuffled_indices]"
      ]
    },
    {
      "cell_type": "code",
      "execution_count": null,
      "metadata": {
        "id": "dt_TNYORCLrV"
      },
      "outputs": [],
      "source": [
        "poison_x_test = x_test[is_poison_test]\n",
        "poison_y_test = y_test[is_poison_test]\n",
        "\n",
        "c = 9 # class to display\n",
        "i = 0 # image of the class to display\n",
        "\n",
        "c_idx = np.where(np.argmax(poison_y_test,1) == c)[0][i] # index of the image in poison arrays\n",
        "#c_idx=25\n",
        "plt.imshow(poison_x_test[c_idx].squeeze())\n",
        "plt.show()\n"
      ]
    },
    {
      "cell_type": "code",
      "execution_count": null,
      "metadata": {
        "id": "9RIHtsC_CKpD"
      },
      "outputs": [],
      "source": []
    }
  ],
  "metadata": {
    "accelerator": "GPU",
    "colab": {
      "provenance": []
    },
    "kernelspec": {
      "display_name": "Python 3",
      "language": "python",
      "name": "python3"
    },
    "language_info": {
      "codemirror_mode": {
        "name": "ipython",
        "version": 3
      },
      "file_extension": ".py",
      "mimetype": "text/x-python",
      "name": "python",
      "nbconvert_exporter": "python",
      "pygments_lexer": "ipython3",
      "version": "3.7.15"
    },
    "widgets": {
      "application/vnd.jupyter.widget-state+json": {
        "1646a77cd7744876a036cc05955ab60c": {
          "model_module": "@jupyter-widgets/controls",
          "model_name": "HBoxModel",
          "model_module_version": "1.5.0",
          "state": {
            "_dom_classes": [],
            "_model_module": "@jupyter-widgets/controls",
            "_model_module_version": "1.5.0",
            "_model_name": "HBoxModel",
            "_view_count": null,
            "_view_module": "@jupyter-widgets/controls",
            "_view_module_version": "1.5.0",
            "_view_name": "HBoxView",
            "box_style": "",
            "children": [
              "IPY_MODEL_dd310bc95055456ca74ca13e35ce3680",
              "IPY_MODEL_97af3cbf1f0a4f1fadba34b5a9efa428",
              "IPY_MODEL_42ac20f7e2d14ad3987f49162c7c4933"
            ],
            "layout": "IPY_MODEL_6c4e8d4fff2e49a9a8dc3ca9ce889cbc"
          }
        },
        "dd310bc95055456ca74ca13e35ce3680": {
          "model_module": "@jupyter-widgets/controls",
          "model_name": "HTMLModel",
          "model_module_version": "1.5.0",
          "state": {
            "_dom_classes": [],
            "_model_module": "@jupyter-widgets/controls",
            "_model_module_version": "1.5.0",
            "_model_name": "HTMLModel",
            "_view_count": null,
            "_view_module": "@jupyter-widgets/controls",
            "_view_module_version": "1.5.0",
            "_view_name": "HTMLView",
            "description": "",
            "description_tooltip": null,
            "layout": "IPY_MODEL_5c60ce8dac0a41c58ebc62037411f054",
            "placeholder": "​",
            "style": "IPY_MODEL_127e869fd2bf44feaf8827e531e55959",
            "value": "100%"
          }
        },
        "97af3cbf1f0a4f1fadba34b5a9efa428": {
          "model_module": "@jupyter-widgets/controls",
          "model_name": "FloatProgressModel",
          "model_module_version": "1.5.0",
          "state": {
            "_dom_classes": [],
            "_model_module": "@jupyter-widgets/controls",
            "_model_module_version": "1.5.0",
            "_model_name": "FloatProgressModel",
            "_view_count": null,
            "_view_module": "@jupyter-widgets/controls",
            "_view_module_version": "1.5.0",
            "_view_name": "ProgressView",
            "bar_style": "success",
            "description": "",
            "description_tooltip": null,
            "layout": "IPY_MODEL_b189a5446d96436d8db1dfcb6ab5b4aa",
            "max": 170498071,
            "min": 0,
            "orientation": "horizontal",
            "style": "IPY_MODEL_fc44001fc82e41289e844a1fc0ddab2e",
            "value": 170498071
          }
        },
        "42ac20f7e2d14ad3987f49162c7c4933": {
          "model_module": "@jupyter-widgets/controls",
          "model_name": "HTMLModel",
          "model_module_version": "1.5.0",
          "state": {
            "_dom_classes": [],
            "_model_module": "@jupyter-widgets/controls",
            "_model_module_version": "1.5.0",
            "_model_name": "HTMLModel",
            "_view_count": null,
            "_view_module": "@jupyter-widgets/controls",
            "_view_module_version": "1.5.0",
            "_view_name": "HTMLView",
            "description": "",
            "description_tooltip": null,
            "layout": "IPY_MODEL_3d89817f5d7b4de0bb0c1efb71853ec2",
            "placeholder": "​",
            "style": "IPY_MODEL_1f5ecb5cba8349daac3f6dcf721d65c2",
            "value": " 170498071/170498071 [00:01&lt;00:00, 104384133.19it/s]"
          }
        },
        "6c4e8d4fff2e49a9a8dc3ca9ce889cbc": {
          "model_module": "@jupyter-widgets/base",
          "model_name": "LayoutModel",
          "model_module_version": "1.2.0",
          "state": {
            "_model_module": "@jupyter-widgets/base",
            "_model_module_version": "1.2.0",
            "_model_name": "LayoutModel",
            "_view_count": null,
            "_view_module": "@jupyter-widgets/base",
            "_view_module_version": "1.2.0",
            "_view_name": "LayoutView",
            "align_content": null,
            "align_items": null,
            "align_self": null,
            "border": null,
            "bottom": null,
            "display": null,
            "flex": null,
            "flex_flow": null,
            "grid_area": null,
            "grid_auto_columns": null,
            "grid_auto_flow": null,
            "grid_auto_rows": null,
            "grid_column": null,
            "grid_gap": null,
            "grid_row": null,
            "grid_template_areas": null,
            "grid_template_columns": null,
            "grid_template_rows": null,
            "height": null,
            "justify_content": null,
            "justify_items": null,
            "left": null,
            "margin": null,
            "max_height": null,
            "max_width": null,
            "min_height": null,
            "min_width": null,
            "object_fit": null,
            "object_position": null,
            "order": null,
            "overflow": null,
            "overflow_x": null,
            "overflow_y": null,
            "padding": null,
            "right": null,
            "top": null,
            "visibility": null,
            "width": null
          }
        },
        "5c60ce8dac0a41c58ebc62037411f054": {
          "model_module": "@jupyter-widgets/base",
          "model_name": "LayoutModel",
          "model_module_version": "1.2.0",
          "state": {
            "_model_module": "@jupyter-widgets/base",
            "_model_module_version": "1.2.0",
            "_model_name": "LayoutModel",
            "_view_count": null,
            "_view_module": "@jupyter-widgets/base",
            "_view_module_version": "1.2.0",
            "_view_name": "LayoutView",
            "align_content": null,
            "align_items": null,
            "align_self": null,
            "border": null,
            "bottom": null,
            "display": null,
            "flex": null,
            "flex_flow": null,
            "grid_area": null,
            "grid_auto_columns": null,
            "grid_auto_flow": null,
            "grid_auto_rows": null,
            "grid_column": null,
            "grid_gap": null,
            "grid_row": null,
            "grid_template_areas": null,
            "grid_template_columns": null,
            "grid_template_rows": null,
            "height": null,
            "justify_content": null,
            "justify_items": null,
            "left": null,
            "margin": null,
            "max_height": null,
            "max_width": null,
            "min_height": null,
            "min_width": null,
            "object_fit": null,
            "object_position": null,
            "order": null,
            "overflow": null,
            "overflow_x": null,
            "overflow_y": null,
            "padding": null,
            "right": null,
            "top": null,
            "visibility": null,
            "width": null
          }
        },
        "127e869fd2bf44feaf8827e531e55959": {
          "model_module": "@jupyter-widgets/controls",
          "model_name": "DescriptionStyleModel",
          "model_module_version": "1.5.0",
          "state": {
            "_model_module": "@jupyter-widgets/controls",
            "_model_module_version": "1.5.0",
            "_model_name": "DescriptionStyleModel",
            "_view_count": null,
            "_view_module": "@jupyter-widgets/base",
            "_view_module_version": "1.2.0",
            "_view_name": "StyleView",
            "description_width": ""
          }
        },
        "b189a5446d96436d8db1dfcb6ab5b4aa": {
          "model_module": "@jupyter-widgets/base",
          "model_name": "LayoutModel",
          "model_module_version": "1.2.0",
          "state": {
            "_model_module": "@jupyter-widgets/base",
            "_model_module_version": "1.2.0",
            "_model_name": "LayoutModel",
            "_view_count": null,
            "_view_module": "@jupyter-widgets/base",
            "_view_module_version": "1.2.0",
            "_view_name": "LayoutView",
            "align_content": null,
            "align_items": null,
            "align_self": null,
            "border": null,
            "bottom": null,
            "display": null,
            "flex": null,
            "flex_flow": null,
            "grid_area": null,
            "grid_auto_columns": null,
            "grid_auto_flow": null,
            "grid_auto_rows": null,
            "grid_column": null,
            "grid_gap": null,
            "grid_row": null,
            "grid_template_areas": null,
            "grid_template_columns": null,
            "grid_template_rows": null,
            "height": null,
            "justify_content": null,
            "justify_items": null,
            "left": null,
            "margin": null,
            "max_height": null,
            "max_width": null,
            "min_height": null,
            "min_width": null,
            "object_fit": null,
            "object_position": null,
            "order": null,
            "overflow": null,
            "overflow_x": null,
            "overflow_y": null,
            "padding": null,
            "right": null,
            "top": null,
            "visibility": null,
            "width": null
          }
        },
        "fc44001fc82e41289e844a1fc0ddab2e": {
          "model_module": "@jupyter-widgets/controls",
          "model_name": "ProgressStyleModel",
          "model_module_version": "1.5.0",
          "state": {
            "_model_module": "@jupyter-widgets/controls",
            "_model_module_version": "1.5.0",
            "_model_name": "ProgressStyleModel",
            "_view_count": null,
            "_view_module": "@jupyter-widgets/base",
            "_view_module_version": "1.2.0",
            "_view_name": "StyleView",
            "bar_color": null,
            "description_width": ""
          }
        },
        "3d89817f5d7b4de0bb0c1efb71853ec2": {
          "model_module": "@jupyter-widgets/base",
          "model_name": "LayoutModel",
          "model_module_version": "1.2.0",
          "state": {
            "_model_module": "@jupyter-widgets/base",
            "_model_module_version": "1.2.0",
            "_model_name": "LayoutModel",
            "_view_count": null,
            "_view_module": "@jupyter-widgets/base",
            "_view_module_version": "1.2.0",
            "_view_name": "LayoutView",
            "align_content": null,
            "align_items": null,
            "align_self": null,
            "border": null,
            "bottom": null,
            "display": null,
            "flex": null,
            "flex_flow": null,
            "grid_area": null,
            "grid_auto_columns": null,
            "grid_auto_flow": null,
            "grid_auto_rows": null,
            "grid_column": null,
            "grid_gap": null,
            "grid_row": null,
            "grid_template_areas": null,
            "grid_template_columns": null,
            "grid_template_rows": null,
            "height": null,
            "justify_content": null,
            "justify_items": null,
            "left": null,
            "margin": null,
            "max_height": null,
            "max_width": null,
            "min_height": null,
            "min_width": null,
            "object_fit": null,
            "object_position": null,
            "order": null,
            "overflow": null,
            "overflow_x": null,
            "overflow_y": null,
            "padding": null,
            "right": null,
            "top": null,
            "visibility": null,
            "width": null
          }
        },
        "1f5ecb5cba8349daac3f6dcf721d65c2": {
          "model_module": "@jupyter-widgets/controls",
          "model_name": "DescriptionStyleModel",
          "model_module_version": "1.5.0",
          "state": {
            "_model_module": "@jupyter-widgets/controls",
            "_model_module_version": "1.5.0",
            "_model_name": "DescriptionStyleModel",
            "_view_count": null,
            "_view_module": "@jupyter-widgets/base",
            "_view_module_version": "1.2.0",
            "_view_name": "StyleView",
            "description_width": ""
          }
        }
      }
    }
  },
  "nbformat": 4,
  "nbformat_minor": 0
}